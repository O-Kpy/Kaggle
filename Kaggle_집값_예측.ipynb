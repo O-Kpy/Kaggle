{
  "nbformat": 4,
  "nbformat_minor": 0,
  "metadata": {
    "kernelspec": {
      "language": "python",
      "display_name": "Python 3",
      "name": "python3"
    },
    "language_info": {
      "name": "python",
      "version": "3.7.10",
      "mimetype": "text/x-python",
      "codemirror_mode": {
        "name": "ipython",
        "version": 3
      },
      "pygments_lexer": "ipython3",
      "nbconvert_exporter": "python",
      "file_extension": ".py"
    },
    "colab": {
      "name": "Kaggle 집값 예측.ipynb",
      "provenance": [],
      "include_colab_link": true
    }
  },
  "cells": [
    {
      "cell_type": "markdown",
      "metadata": {
        "id": "view-in-github",
        "colab_type": "text"
      },
      "source": [
        "<a href=\"https://colab.research.google.com/github/O-Kpy/Kaggle/blob/main/Kaggle_%EC%A7%91%EA%B0%92_%EC%98%88%EC%B8%A1.ipynb\" target=\"_parent\"><img src=\"https://colab.research.google.com/assets/colab-badge.svg\" alt=\"Open In Colab\"/></a>"
      ]
    },
    {
      "cell_type": "code",
      "metadata": {
        "_uuid": "8f2839f25d086af736a60e9eeb907d3b93b6e0e5",
        "_cell_guid": "b1076dfc-b9ad-4769-8c92-a6c4dae69d19",
        "execution": {
          "iopub.status.busy": "2021-06-03T04:32:56.101517Z",
          "iopub.execute_input": "2021-06-03T04:32:56.101831Z",
          "iopub.status.idle": "2021-06-03T04:32:56.113164Z",
          "shell.execute_reply.started": "2021-06-03T04:32:56.101756Z",
          "shell.execute_reply": "2021-06-03T04:32:56.112306Z"
        },
        "trusted": true,
        "id": "EKEH7I_Khu_1",
        "outputId": "623e236e-4454-4f5f-c61a-44a6bde0d57c"
      },
      "source": [
        "# This Python 3 environment comes with many helpful analytics libraries installed\n",
        "# It is defined by the kaggle/python Docker image: https://github.com/kaggle/docker-python\n",
        "# For example, here's several helpful packages to load\n",
        "\n",
        "import numpy as np # linear algebra\n",
        "import pandas as pd # data processing, CSV file I/O (e.g. pd.read_csv)\n",
        "\n",
        "# Input data files are available in the read-only \"../input/\" directory\n",
        "# For example, running this (by clicking run or pressing Shift+Enter) will list all files under the input directory\n",
        "\n",
        "import os\n",
        "for dirname, _, filenames in os.walk('/kaggle/input'):\n",
        "    for filename in filenames:\n",
        "        print(os.path.join(dirname, filename))\n",
        "\n",
        "# You can write up to 20GB to the current directory (/kaggle/working/) that gets preserved as output when you create a version using \"Save & Run All\" \n",
        "# You can also write temporary files to /kaggle/temp/, but they won't be saved outside of the current session"
      ],
      "execution_count": null,
      "outputs": [
        {
          "output_type": "stream",
          "text": [
            "/kaggle/input/house-prices-advanced-regression-techniques/sample_submission.csv\n",
            "/kaggle/input/house-prices-advanced-regression-techniques/data_description.txt\n",
            "/kaggle/input/house-prices-advanced-regression-techniques/train.csv\n",
            "/kaggle/input/house-prices-advanced-regression-techniques/test.csv\n"
          ],
          "name": "stdout"
        }
      ]
    },
    {
      "cell_type": "code",
      "metadata": {
        "execution": {
          "iopub.status.busy": "2021-06-03T04:32:57.825757Z",
          "iopub.execute_input": "2021-06-03T04:32:57.826076Z",
          "iopub.status.idle": "2021-06-03T04:32:58.511566Z",
          "shell.execute_reply.started": "2021-06-03T04:32:57.826046Z",
          "shell.execute_reply": "2021-06-03T04:32:58.510737Z"
        },
        "trusted": true,
        "id": "OirCiJ_Zhu_4"
      },
      "source": [
        "import seaborn as sns\n",
        "import matplotlib.pyplot as plt\n",
        "%matplotlib inline"
      ],
      "execution_count": null,
      "outputs": []
    },
    {
      "cell_type": "code",
      "metadata": {
        "execution": {
          "iopub.status.busy": "2021-06-03T08:38:44.052132Z",
          "iopub.execute_input": "2021-06-03T08:38:44.052476Z",
          "iopub.status.idle": "2021-06-03T08:38:44.099205Z",
          "shell.execute_reply.started": "2021-06-03T08:38:44.052443Z",
          "shell.execute_reply": "2021-06-03T08:38:44.098421Z"
        },
        "trusted": true,
        "id": "acB3Z2OIhu_5"
      },
      "source": [
        "train = pd.read_csv('/kaggle/input/house-prices-advanced-regression-techniques/train.csv')\n",
        "test = pd.read_csv('/kaggle/input/house-prices-advanced-regression-techniques/test.csv')\n",
        "submission = pd.read_csv('/kaggle/input/house-prices-advanced-regression-techniques/sample_submission.csv')"
      ],
      "execution_count": null,
      "outputs": []
    },
    {
      "cell_type": "code",
      "metadata": {
        "execution": {
          "iopub.status.busy": "2021-06-03T04:33:09.046201Z",
          "iopub.execute_input": "2021-06-03T04:33:09.046541Z",
          "iopub.status.idle": "2021-06-03T04:33:09.056286Z",
          "shell.execute_reply.started": "2021-06-03T04:33:09.046511Z",
          "shell.execute_reply": "2021-06-03T04:33:09.055200Z"
        },
        "trusted": true,
        "id": "o3qplWelhu_5",
        "outputId": "72b58002-7308-4fbb-87e9-8a49389f2e30"
      },
      "source": [
        "train.shape, test.shape"
      ],
      "execution_count": null,
      "outputs": [
        {
          "output_type": "execute_result",
          "data": {
            "text/plain": [
              "((1460, 81), (1459, 80))"
            ]
          },
          "metadata": {
            "tags": []
          },
          "execution_count": 4
        }
      ]
    },
    {
      "cell_type": "code",
      "metadata": {
        "execution": {
          "iopub.status.busy": "2021-06-03T08:38:48.312935Z",
          "iopub.execute_input": "2021-06-03T08:38:48.313257Z",
          "iopub.status.idle": "2021-06-03T08:38:48.336620Z",
          "shell.execute_reply.started": "2021-06-03T08:38:48.313226Z",
          "shell.execute_reply": "2021-06-03T08:38:48.335783Z"
        },
        "trusted": true,
        "id": "BK9y4Qp2hu_6"
      },
      "source": [
        "data = pd.concat([train, test])\n",
        "data = data.reset_index(drop=True)"
      ],
      "execution_count": null,
      "outputs": []
    },
    {
      "cell_type": "code",
      "metadata": {
        "execution": {
          "iopub.status.busy": "2021-06-03T06:36:46.930524Z",
          "iopub.execute_input": "2021-06-03T06:36:46.930858Z",
          "iopub.status.idle": "2021-06-03T06:36:46.973080Z",
          "shell.execute_reply.started": "2021-06-03T06:36:46.930830Z",
          "shell.execute_reply": "2021-06-03T06:36:46.971954Z"
        },
        "trusted": true,
        "id": "cP_6fVYshu_6",
        "outputId": "e781b435-3879-4b7c-f3af-cdfa64fdaadd"
      },
      "source": [
        "def missing_data(df):\n",
        "    total = df.isnull().sum()\n",
        "    percent = round(df.isnull().sum()/len(df)*100, 2)\n",
        "    \n",
        "    table = pd.concat([total, percent], axis=1, keys=['total', 'percent']).sort_values(by='total', ascending=False)\n",
        "    return table\n",
        "\n",
        "missing_data(data).head(30)"
      ],
      "execution_count": null,
      "outputs": [
        {
          "output_type": "execute_result",
          "data": {
            "text/plain": [
              "              total  percent\n",
              "PoolQC         2909    99.66\n",
              "MiscFeature    2814    96.40\n",
              "Alley          2721    93.22\n",
              "Fence          2348    80.44\n",
              "SalePrice      1459    49.98\n",
              "FireplaceQu    1420    48.65\n",
              "LotFrontage     486    16.65\n",
              "GarageFinish    159     5.45\n",
              "GarageQual      159     5.45\n",
              "GarageCond      159     5.45\n",
              "GarageYrBlt     159     5.45\n",
              "GarageType      157     5.38\n",
              "BsmtExposure     82     2.81\n",
              "BsmtCond         82     2.81\n",
              "BsmtQual         81     2.77\n",
              "BsmtFinType2     80     2.74\n",
              "BsmtFinType1     79     2.71\n",
              "MasVnrType       24     0.82\n",
              "MasVnrArea       23     0.79\n",
              "MSZoning          4     0.14\n",
              "Functional        2     0.07\n",
              "BsmtHalfBath      2     0.07\n",
              "BsmtFullBath      2     0.07\n",
              "Utilities         2     0.07\n",
              "BsmtFinSF1        1     0.03\n",
              "BsmtFinSF2        1     0.03\n",
              "SaleType          1     0.03\n",
              "Electrical        1     0.03\n",
              "GarageCars        1     0.03\n",
              "TotalBsmtSF       1     0.03"
            ],
            "text/html": [
              "<div>\n",
              "<style scoped>\n",
              "    .dataframe tbody tr th:only-of-type {\n",
              "        vertical-align: middle;\n",
              "    }\n",
              "\n",
              "    .dataframe tbody tr th {\n",
              "        vertical-align: top;\n",
              "    }\n",
              "\n",
              "    .dataframe thead th {\n",
              "        text-align: right;\n",
              "    }\n",
              "</style>\n",
              "<table border=\"1\" class=\"dataframe\">\n",
              "  <thead>\n",
              "    <tr style=\"text-align: right;\">\n",
              "      <th></th>\n",
              "      <th>total</th>\n",
              "      <th>percent</th>\n",
              "    </tr>\n",
              "  </thead>\n",
              "  <tbody>\n",
              "    <tr>\n",
              "      <th>PoolQC</th>\n",
              "      <td>2909</td>\n",
              "      <td>99.66</td>\n",
              "    </tr>\n",
              "    <tr>\n",
              "      <th>MiscFeature</th>\n",
              "      <td>2814</td>\n",
              "      <td>96.40</td>\n",
              "    </tr>\n",
              "    <tr>\n",
              "      <th>Alley</th>\n",
              "      <td>2721</td>\n",
              "      <td>93.22</td>\n",
              "    </tr>\n",
              "    <tr>\n",
              "      <th>Fence</th>\n",
              "      <td>2348</td>\n",
              "      <td>80.44</td>\n",
              "    </tr>\n",
              "    <tr>\n",
              "      <th>SalePrice</th>\n",
              "      <td>1459</td>\n",
              "      <td>49.98</td>\n",
              "    </tr>\n",
              "    <tr>\n",
              "      <th>FireplaceQu</th>\n",
              "      <td>1420</td>\n",
              "      <td>48.65</td>\n",
              "    </tr>\n",
              "    <tr>\n",
              "      <th>LotFrontage</th>\n",
              "      <td>486</td>\n",
              "      <td>16.65</td>\n",
              "    </tr>\n",
              "    <tr>\n",
              "      <th>GarageFinish</th>\n",
              "      <td>159</td>\n",
              "      <td>5.45</td>\n",
              "    </tr>\n",
              "    <tr>\n",
              "      <th>GarageQual</th>\n",
              "      <td>159</td>\n",
              "      <td>5.45</td>\n",
              "    </tr>\n",
              "    <tr>\n",
              "      <th>GarageCond</th>\n",
              "      <td>159</td>\n",
              "      <td>5.45</td>\n",
              "    </tr>\n",
              "    <tr>\n",
              "      <th>GarageYrBlt</th>\n",
              "      <td>159</td>\n",
              "      <td>5.45</td>\n",
              "    </tr>\n",
              "    <tr>\n",
              "      <th>GarageType</th>\n",
              "      <td>157</td>\n",
              "      <td>5.38</td>\n",
              "    </tr>\n",
              "    <tr>\n",
              "      <th>BsmtExposure</th>\n",
              "      <td>82</td>\n",
              "      <td>2.81</td>\n",
              "    </tr>\n",
              "    <tr>\n",
              "      <th>BsmtCond</th>\n",
              "      <td>82</td>\n",
              "      <td>2.81</td>\n",
              "    </tr>\n",
              "    <tr>\n",
              "      <th>BsmtQual</th>\n",
              "      <td>81</td>\n",
              "      <td>2.77</td>\n",
              "    </tr>\n",
              "    <tr>\n",
              "      <th>BsmtFinType2</th>\n",
              "      <td>80</td>\n",
              "      <td>2.74</td>\n",
              "    </tr>\n",
              "    <tr>\n",
              "      <th>BsmtFinType1</th>\n",
              "      <td>79</td>\n",
              "      <td>2.71</td>\n",
              "    </tr>\n",
              "    <tr>\n",
              "      <th>MasVnrType</th>\n",
              "      <td>24</td>\n",
              "      <td>0.82</td>\n",
              "    </tr>\n",
              "    <tr>\n",
              "      <th>MasVnrArea</th>\n",
              "      <td>23</td>\n",
              "      <td>0.79</td>\n",
              "    </tr>\n",
              "    <tr>\n",
              "      <th>MSZoning</th>\n",
              "      <td>4</td>\n",
              "      <td>0.14</td>\n",
              "    </tr>\n",
              "    <tr>\n",
              "      <th>Functional</th>\n",
              "      <td>2</td>\n",
              "      <td>0.07</td>\n",
              "    </tr>\n",
              "    <tr>\n",
              "      <th>BsmtHalfBath</th>\n",
              "      <td>2</td>\n",
              "      <td>0.07</td>\n",
              "    </tr>\n",
              "    <tr>\n",
              "      <th>BsmtFullBath</th>\n",
              "      <td>2</td>\n",
              "      <td>0.07</td>\n",
              "    </tr>\n",
              "    <tr>\n",
              "      <th>Utilities</th>\n",
              "      <td>2</td>\n",
              "      <td>0.07</td>\n",
              "    </tr>\n",
              "    <tr>\n",
              "      <th>BsmtFinSF1</th>\n",
              "      <td>1</td>\n",
              "      <td>0.03</td>\n",
              "    </tr>\n",
              "    <tr>\n",
              "      <th>BsmtFinSF2</th>\n",
              "      <td>1</td>\n",
              "      <td>0.03</td>\n",
              "    </tr>\n",
              "    <tr>\n",
              "      <th>SaleType</th>\n",
              "      <td>1</td>\n",
              "      <td>0.03</td>\n",
              "    </tr>\n",
              "    <tr>\n",
              "      <th>Electrical</th>\n",
              "      <td>1</td>\n",
              "      <td>0.03</td>\n",
              "    </tr>\n",
              "    <tr>\n",
              "      <th>GarageCars</th>\n",
              "      <td>1</td>\n",
              "      <td>0.03</td>\n",
              "    </tr>\n",
              "    <tr>\n",
              "      <th>TotalBsmtSF</th>\n",
              "      <td>1</td>\n",
              "      <td>0.03</td>\n",
              "    </tr>\n",
              "  </tbody>\n",
              "</table>\n",
              "</div>"
            ]
          },
          "metadata": {
            "tags": []
          },
          "execution_count": 105
        }
      ]
    },
    {
      "cell_type": "markdown",
      "metadata": {
        "id": "RMhQbaLlhu_6"
      },
      "source": [
        "# 순서형 변수(결측값이 많은) ==> 다른 인코딩 방법"
      ]
    },
    {
      "cell_type": "code",
      "metadata": {
        "execution": {
          "iopub.status.busy": "2021-06-03T08:38:50.990339Z",
          "iopub.execute_input": "2021-06-03T08:38:50.990745Z",
          "iopub.status.idle": "2021-06-03T08:38:50.998575Z",
          "shell.execute_reply.started": "2021-06-03T08:38:50.990714Z",
          "shell.execute_reply": "2021-06-03T08:38:50.997476Z"
        },
        "trusted": true,
        "id": "0x8u4z-jhu_7"
      },
      "source": [
        "data['PoolQC'] = data['PoolQC'].fillna('NaN')  # pool 품질\n",
        "data['Fence'] = data['Fence'].fillna('NaN')  # 펜스 품질\n",
        "data['FireplaceQu'] = data['FireplaceQu'].fillna('NaN')  # 벽난로 품질"
      ],
      "execution_count": null,
      "outputs": []
    },
    {
      "cell_type": "markdown",
      "metadata": {
        "id": "E1xl0flxhu_7"
      },
      "source": [
        "# 명목형 변수(결측값이 많은) ==> 레이블 인코딩"
      ]
    },
    {
      "cell_type": "code",
      "metadata": {
        "execution": {
          "iopub.status.busy": "2021-06-03T08:38:52.230041Z",
          "iopub.execute_input": "2021-06-03T08:38:52.230411Z",
          "iopub.status.idle": "2021-06-03T08:38:52.236524Z",
          "shell.execute_reply.started": "2021-06-03T08:38:52.230350Z",
          "shell.execute_reply": "2021-06-03T08:38:52.235303Z"
        },
        "trusted": true,
        "id": "4ASkUjrOhu_7"
      },
      "source": [
        "data['MiscFeature'] = data['MiscFeature'].fillna('NaN')  # 기타 범주에서 다루지 않는 기타 기능\n",
        "data['Alley'] = data['Alley'].fillna('NaN')  # 골목길 포장 유형(?)"
      ],
      "execution_count": null,
      "outputs": []
    },
    {
      "cell_type": "markdown",
      "metadata": {
        "id": "gMkx2EMWhu_8"
      },
      "source": [
        "# 'Garage' 관련 변수 처리"
      ]
    },
    {
      "cell_type": "code",
      "metadata": {
        "execution": {
          "iopub.status.busy": "2021-06-03T08:38:53.906879Z",
          "iopub.execute_input": "2021-06-03T08:38:53.907215Z",
          "iopub.status.idle": "2021-06-03T08:38:53.919046Z",
          "shell.execute_reply.started": "2021-06-03T08:38:53.907184Z",
          "shell.execute_reply": "2021-06-03T08:38:53.918177Z"
        },
        "trusted": true,
        "id": "5AKO42XQhu_8"
      },
      "source": [
        "garage_col = [col for col in data.columns if col.find('Garage') != -1]\n",
        "\n",
        "for i in garage_col:\n",
        "    if data[i].dtype == 'object':\n",
        "        data[i] = data[i].fillna('NaN')\n",
        "    else:\n",
        "        data[i] = data[i].fillna(0)"
      ],
      "execution_count": null,
      "outputs": []
    },
    {
      "cell_type": "markdown",
      "metadata": {
        "id": "0qgTuraphu_8"
      },
      "source": [
        "# Exterior 변수 처리"
      ]
    },
    {
      "cell_type": "code",
      "metadata": {
        "execution": {
          "iopub.status.busy": "2021-06-03T08:38:55.925584Z",
          "iopub.execute_input": "2021-06-03T08:38:55.925921Z",
          "iopub.status.idle": "2021-06-03T08:38:55.930827Z",
          "shell.execute_reply.started": "2021-06-03T08:38:55.925892Z",
          "shell.execute_reply": "2021-06-03T08:38:55.929720Z"
        },
        "trusted": true,
        "id": "-U-3kYY9hu_8"
      },
      "source": [
        "data['Exterior1st'] = data['Exterior1st'].fillna('NaN')"
      ],
      "execution_count": null,
      "outputs": []
    },
    {
      "cell_type": "markdown",
      "metadata": {
        "id": "ifW-c125hu_8"
      },
      "source": [
        "# BsmtFinType 변수 처리"
      ]
    },
    {
      "cell_type": "code",
      "metadata": {
        "execution": {
          "iopub.status.busy": "2021-06-03T08:38:57.004557Z",
          "iopub.execute_input": "2021-06-03T08:38:57.004902Z",
          "iopub.status.idle": "2021-06-03T08:38:57.015781Z",
          "shell.execute_reply.started": "2021-06-03T08:38:57.004872Z",
          "shell.execute_reply": "2021-06-03T08:38:57.014903Z"
        },
        "trusted": true,
        "id": "ecynLWyehu_9"
      },
      "source": [
        "data.loc[(data['BsmtFinType2'].isnull())&(data['BsmtFinType1'].notnull()), 'BsmtFinType2'] = 'Rec'"
      ],
      "execution_count": null,
      "outputs": []
    },
    {
      "cell_type": "code",
      "metadata": {
        "execution": {
          "iopub.status.busy": "2021-06-03T08:38:58.644958Z",
          "iopub.execute_input": "2021-06-03T08:38:58.645302Z",
          "iopub.status.idle": "2021-06-03T08:38:58.654226Z",
          "shell.execute_reply.started": "2021-06-03T08:38:58.645269Z",
          "shell.execute_reply": "2021-06-03T08:38:58.653222Z"
        },
        "trusted": true,
        "id": "hZoFsvmNhu_9"
      },
      "source": [
        "data['BsmtFinType1'] = data['BsmtFinType1'].fillna('NaN')\n",
        "data['BsmtFinType2'] = data['BsmtFinType2'].fillna('NaN')"
      ],
      "execution_count": null,
      "outputs": []
    },
    {
      "cell_type": "code",
      "metadata": {
        "execution": {
          "iopub.status.busy": "2021-06-03T08:39:00.055535Z",
          "iopub.execute_input": "2021-06-03T08:39:00.055878Z",
          "iopub.status.idle": "2021-06-03T08:39:00.063114Z",
          "shell.execute_reply.started": "2021-06-03T08:39:00.055843Z",
          "shell.execute_reply": "2021-06-03T08:39:00.062068Z"
        },
        "trusted": true,
        "id": "HtA6OY39hu_9"
      },
      "source": [
        "data['BsmtCond'] = data['BsmtCond'].fillna('NaN')\n",
        "data['BsmtQual'] = data['BsmtQual'].fillna('NaN')\n",
        "data['BsmtExposure'] = data['BsmtExposure'].fillna('NaN')"
      ],
      "execution_count": null,
      "outputs": []
    },
    {
      "cell_type": "markdown",
      "metadata": {
        "id": "SC37dqUehu_9"
      },
      "source": [
        "# 결측치 처리(마지막)"
      ]
    },
    {
      "cell_type": "code",
      "metadata": {
        "execution": {
          "iopub.status.busy": "2021-06-03T08:39:01.609233Z",
          "iopub.execute_input": "2021-06-03T08:39:01.609640Z",
          "iopub.status.idle": "2021-06-03T08:39:01.653751Z",
          "shell.execute_reply.started": "2021-06-03T08:39:01.609606Z",
          "shell.execute_reply": "2021-06-03T08:39:01.652849Z"
        },
        "trusted": true,
        "id": "MTdKfw8Hhu_9"
      },
      "source": [
        "for i in data.select_dtypes('object').columns:\n",
        "    data[i] = data[i].fillna('NaN')\n",
        "    \n",
        "for i in data.select_dtypes('float').columns:\n",
        "    if i in ['SalePrice', 'LotFrontage']:\n",
        "        continue\n",
        "    data[i] = data[i].fillna(0)"
      ],
      "execution_count": null,
      "outputs": []
    },
    {
      "cell_type": "code",
      "metadata": {
        "execution": {
          "iopub.status.busy": "2021-06-03T08:39:02.808886Z",
          "iopub.execute_input": "2021-06-03T08:39:02.809199Z",
          "iopub.status.idle": "2021-06-03T08:39:02.814806Z",
          "shell.execute_reply.started": "2021-06-03T08:39:02.809170Z",
          "shell.execute_reply": "2021-06-03T08:39:02.813845Z"
        },
        "trusted": true,
        "id": "EfCi4k8whu_-"
      },
      "source": [
        "data['LotFrontage'] = data['LotFrontage'].fillna(data['LotFrontage'].median())"
      ],
      "execution_count": null,
      "outputs": []
    },
    {
      "cell_type": "markdown",
      "metadata": {
        "id": "Sf6JHbfhhu_-"
      },
      "source": [
        "# aggregation\n",
        "카테고리변수는 count, sum, mean\n",
        "숫자형변수는 sum, median, min, max, count\n",
        "\n",
        "* 카테고리변수를 agg해봤자 성능만 떨어질듯"
      ]
    },
    {
      "cell_type": "code",
      "metadata": {
        "execution": {
          "iopub.status.busy": "2021-06-02T07:51:15.20589Z",
          "iopub.execute_input": "2021-06-02T07:51:15.206232Z",
          "iopub.status.idle": "2021-06-02T07:51:15.21755Z",
          "shell.execute_reply.started": "2021-06-02T07:51:15.2062Z",
          "shell.execute_reply": "2021-06-02T07:51:15.216579Z"
        },
        "trusted": true,
        "id": "RaGRLERPhu_-"
      },
      "source": [
        "numeric_columns = []\n",
        "for i in data.columns:\n",
        "    if data[i].dtypes=='object':\n",
        "        continue\n",
        "    elif i == 'SalePrice':\n",
        "        continue\n",
        "    else:\n",
        "        numeric_columns.append(i)\n",
        "numeric_columns"
      ],
      "execution_count": null,
      "outputs": []
    },
    {
      "cell_type": "code",
      "metadata": {
        "execution": {
          "iopub.status.busy": "2021-06-02T06:29:33.988416Z",
          "iopub.execute_input": "2021-06-02T06:29:33.988727Z",
          "iopub.status.idle": "2021-06-02T06:29:34.10335Z",
          "shell.execute_reply.started": "2021-06-02T06:29:33.988698Z",
          "shell.execute_reply": "2021-06-02T06:29:34.102549Z"
        },
        "trusted": true,
        "id": "gOeDaCvNhu_-"
      },
      "source": [
        "data_numeric = data[numeric_columns]\n",
        "data_numeric_agg = data_numeric.groupby('Id').agg(['count', 'mean', 'max', 'min', 'sum'])\n",
        "data_numeric_col = []\n",
        "for i in data_numeric_agg.columns.levels[0]:\n",
        "    for j in data_numeric_agg.columns.levels[1]:\n",
        "        data_numeric_col.append(f'{i}-{j}')\n",
        "                                \n",
        "data_numeric_agg.columns = data_numeric_col"
      ],
      "execution_count": null,
      "outputs": []
    },
    {
      "cell_type": "code",
      "metadata": {
        "execution": {
          "iopub.status.busy": "2021-06-02T06:29:37.22525Z",
          "iopub.execute_input": "2021-06-02T06:29:37.225596Z",
          "iopub.status.idle": "2021-06-02T06:29:37.439209Z",
          "shell.execute_reply.started": "2021-06-02T06:29:37.225566Z",
          "shell.execute_reply": "2021-06-02T06:29:37.438207Z"
        },
        "trusted": true,
        "id": "R62Q9O6Whu_-"
      },
      "source": [
        "corr_matrix = data_numeric_agg.corr()\n",
        "\n",
        "upper = corr_matrix.where(np.triu(np.ones(corr_matrix.shape), k=1).astype(np.bool))\n",
        "\n",
        "to_drop = [c for c in upper.columns if any(abs(upper[c])>0.8)]\n",
        "\n",
        "print(f'{len(data_numeric_agg.columns)}There are {len(to_drop)} corr columns to remove')"
      ],
      "execution_count": null,
      "outputs": []
    },
    {
      "cell_type": "code",
      "metadata": {
        "execution": {
          "iopub.status.busy": "2021-06-02T06:29:39.166378Z",
          "iopub.execute_input": "2021-06-02T06:29:39.166702Z",
          "iopub.status.idle": "2021-06-02T06:29:39.178866Z",
          "shell.execute_reply.started": "2021-06-02T06:29:39.166673Z",
          "shell.execute_reply": "2021-06-02T06:29:39.178025Z"
        },
        "trusted": true,
        "id": "3gLAIHFPhu__"
      },
      "source": [
        "data_numeric_agg = data_numeric_agg.drop(columns = to_drop)"
      ],
      "execution_count": null,
      "outputs": []
    },
    {
      "cell_type": "code",
      "metadata": {
        "execution": {
          "iopub.status.busy": "2021-06-02T06:29:41.58248Z",
          "iopub.execute_input": "2021-06-02T06:29:41.582794Z",
          "iopub.status.idle": "2021-06-02T06:29:41.620693Z",
          "shell.execute_reply.started": "2021-06-02T06:29:41.582766Z",
          "shell.execute_reply": "2021-06-02T06:29:41.61992Z"
        },
        "trusted": true,
        "id": "aV2EfyLPhu__"
      },
      "source": [
        "data = data.merge(data_numeric_agg, on = 'Id', how='left')"
      ],
      "execution_count": null,
      "outputs": []
    },
    {
      "cell_type": "markdown",
      "metadata": {
        "id": "jYFla_h5hu__"
      },
      "source": [
        "# Feature Cons"
      ]
    },
    {
      "cell_type": "code",
      "metadata": {
        "execution": {
          "iopub.status.busy": "2021-06-03T08:39:08.253675Z",
          "iopub.execute_input": "2021-06-03T08:39:08.254001Z",
          "iopub.status.idle": "2021-06-03T08:39:08.286248Z",
          "shell.execute_reply.started": "2021-06-03T08:39:08.253971Z",
          "shell.execute_reply": "2021-06-03T08:39:08.285459Z"
        },
        "trusted": true,
        "id": "_SV6IDmWhu__"
      },
      "source": [
        "data[\"SqFtPerRoom\"] = data[\"GrLivArea\"] / (data[\"TotRmsAbvGrd\"] +\n",
        "                                                       data[\"FullBath\"] +\n",
        "                                                       data[\"HalfBath\"] +\n",
        "                                                       data[\"KitchenAbvGr\"])\n",
        "\n",
        "data['Total_Home_Quality'] = data['OverallQual'] + data['OverallCond']\n",
        "\n",
        "data['Total_Bathrooms'] = (data['FullBath'] + (0.5 * data['HalfBath']) +\n",
        "                               data['BsmtFullBath'] + (0.5 * data['BsmtHalfBath']))\n",
        "\n",
        "data[\"HighQualSF\"] = data[\"1stFlrSF\"] + data[\"2ndFlrSF\"]\n",
        "# Converting non-numeric predictors stored as numbers into string\n",
        "\n",
        "data['MSSubClass'] = data['MSSubClass'].apply(str)\n",
        "data['YrSold'] = data['YrSold'].apply(str)\n",
        "data['MoSold'] = data['MoSold'].apply(str)\n",
        "\n",
        "\n",
        "data['haspool'] = data['PoolArea'].apply(lambda x: 1 if x > 0 else 0)\n",
        "data['has2ndfloor'] = data['2ndFlrSF'].apply(lambda x: 1 if x > 0 else 0)\n",
        "data['hasgarage'] = data['GarageArea'].apply(lambda x: 1 if x > 0 else 0)\n",
        "data['hasbsmt'] = data['TotalBsmtSF'].apply(lambda x: 1 if x > 0 else 0)\n",
        "data['hasfireplace'] = data['Fireplaces'].apply(lambda x: 1 if x > 0 else 0)"
      ],
      "execution_count": null,
      "outputs": []
    },
    {
      "cell_type": "markdown",
      "metadata": {
        "id": "RYjj8AldhvAA"
      },
      "source": [
        "# log변환"
      ]
    },
    {
      "cell_type": "code",
      "metadata": {
        "execution": {
          "iopub.status.busy": "2021-06-03T08:39:11.078928Z",
          "iopub.execute_input": "2021-06-03T08:39:11.079242Z",
          "iopub.status.idle": "2021-06-03T08:39:11.085144Z",
          "shell.execute_reply.started": "2021-06-03T08:39:11.079212Z",
          "shell.execute_reply": "2021-06-03T08:39:11.084302Z"
        },
        "trusted": true,
        "id": "tDZzJwcZhvAA"
      },
      "source": [
        "from scipy.stats import skew"
      ],
      "execution_count": null,
      "outputs": []
    },
    {
      "cell_type": "code",
      "metadata": {
        "execution": {
          "iopub.status.busy": "2021-06-03T08:39:13.198817Z",
          "iopub.execute_input": "2021-06-03T08:39:13.199133Z",
          "iopub.status.idle": "2021-06-03T08:39:13.237533Z",
          "shell.execute_reply.started": "2021-06-03T08:39:13.199105Z",
          "shell.execute_reply": "2021-06-03T08:39:13.236640Z"
        },
        "trusted": true,
        "id": "QvX5YFINhvAA"
      },
      "source": [
        "numeric_features = data.dtypes[data.dtypes != object].index\n",
        "skewed_features = data[numeric_features].apply(lambda x: skew(x)).sort_values(ascending=False)\n",
        "high_skew = skewed_features[skewed_features > 0.5]\n",
        "skew_index = high_skew.index\n",
        "# Normalize skewed features using log_transformation\n",
        "for i in skew_index:\n",
        "    data[i] = np.log1p(data[i])"
      ],
      "execution_count": null,
      "outputs": []
    },
    {
      "cell_type": "markdown",
      "metadata": {
        "id": "gFKXtqLshvAA"
      },
      "source": [
        "# catboost 돌리는 Ver."
      ]
    },
    {
      "cell_type": "code",
      "metadata": {
        "execution": {
          "iopub.status.busy": "2021-06-03T08:39:18.143951Z",
          "iopub.execute_input": "2021-06-03T08:39:18.144274Z",
          "iopub.status.idle": "2021-06-03T08:39:18.161300Z",
          "shell.execute_reply.started": "2021-06-03T08:39:18.144245Z",
          "shell.execute_reply": "2021-06-03T08:39:18.160268Z"
        },
        "trusted": true,
        "id": "exRzMTa7hvAB",
        "outputId": "30cc0cfc-2b71-4127-f5e4-00bdc649a7fc"
      },
      "source": [
        "x_train = data.loc[data['SalePrice'].notnull()].drop(columns=['Id', 'SalePrice'])\n",
        "y_train = data.loc[data['SalePrice'].notnull()]['SalePrice']\n",
        "x_test = data.loc[data['SalePrice'].isnull()].drop(columns=['Id', 'SalePrice'])\n",
        "\n",
        "x_train.shape, y_train.shape, x_test.shape"
      ],
      "execution_count": null,
      "outputs": [
        {
          "output_type": "execute_result",
          "data": {
            "text/plain": [
              "((1460, 88), (1460,), (1459, 88))"
            ]
          },
          "metadata": {
            "tags": []
          },
          "execution_count": 248
        }
      ]
    },
    {
      "cell_type": "code",
      "metadata": {
        "execution": {
          "iopub.status.busy": "2021-06-03T04:34:33.477070Z",
          "iopub.execute_input": "2021-06-03T04:34:33.477414Z",
          "iopub.status.idle": "2021-06-03T04:34:33.646672Z",
          "shell.execute_reply.started": "2021-06-03T04:34:33.477372Z",
          "shell.execute_reply": "2021-06-03T04:34:33.645623Z"
        },
        "trusted": true,
        "id": "LJtnKUnZhvAB",
        "outputId": "c9d63617-4cbd-47da-c8ac-ca0da3ce60bc"
      },
      "source": [
        "from sklearn.preprocessing import MinMaxScaler\n",
        "numeric_col = [col for col in x_train.columns if x_train[col].dtype!='object']\n",
        "\n",
        "data_col = x_train.columns\n",
        "x_train[numeric_col] = MinMaxScaler().fit_transform(x_train[numeric_col])\n",
        "x_test[numeric_col] = MinMaxScaler().fit_transform(x_test[numeric_col])\n",
        "\n",
        "x_train.shape, x_test.shape"
      ],
      "execution_count": null,
      "outputs": [
        {
          "output_type": "execute_result",
          "data": {
            "text/plain": [
              "((1460, 79), (1459, 79))"
            ]
          },
          "metadata": {
            "tags": []
          },
          "execution_count": 17
        }
      ]
    },
    {
      "cell_type": "code",
      "metadata": {
        "execution": {
          "iopub.status.busy": "2021-06-03T06:37:31.727304Z",
          "iopub.execute_input": "2021-06-03T06:37:31.727716Z",
          "iopub.status.idle": "2021-06-03T06:37:31.732288Z",
          "shell.execute_reply.started": "2021-06-03T06:37:31.727672Z",
          "shell.execute_reply": "2021-06-03T06:37:31.731230Z"
        },
        "trusted": true,
        "id": "oppGuxTlhvAB"
      },
      "source": [
        "import catboost\n",
        "from sklearn.model_selection import StratifiedKFold\n",
        "from sklearn.metrics import mean_squared_error"
      ],
      "execution_count": null,
      "outputs": []
    },
    {
      "cell_type": "code",
      "metadata": {
        "execution": {
          "iopub.status.busy": "2021-06-03T08:39:33.548875Z",
          "iopub.execute_input": "2021-06-03T08:39:33.549194Z",
          "iopub.status.idle": "2021-06-03T08:43:10.707747Z",
          "shell.execute_reply.started": "2021-06-03T08:39:33.549163Z",
          "shell.execute_reply": "2021-06-03T08:43:10.706874Z"
        },
        "trusted": true,
        "id": "ZFlxAvyfhvAC",
        "outputId": "d9f7ff05-f4b8-480c-b8f1-5525f7df149d"
      },
      "source": [
        "skf = StratifiedKFold(n_splits=5, shuffle=True, random_state=40)\n",
        "cat_features = x_train.select_dtypes('object').columns\n",
        "preds_cat = np.zeros((len(x_test)))\n",
        "params = {'iterations': 6000,\n",
        "          'learning_rate': 0.005,\n",
        "          'depth': 4,\n",
        "          'l2_leaf_reg': 1,\n",
        "          'eval_metric':'RMSE',\n",
        "          'random_seed': 42}\n",
        "\n",
        "for i, (train_index, valid_index) in enumerate(skf.split(x_train, y_train)):\n",
        "    X_train, X_valid = x_train.iloc[train_index], x_train.iloc[valid_index]\n",
        "    Y_train, Y_valid = y_train.iloc[train_index], y_train.iloc[valid_index]\n",
        "    \n",
        "    model=catboost.CatBoostRegressor(n_estimators=5000, eval_metric='RMSE', use_best_model=True )\n",
        "    \n",
        "    model.fit(X_train, Y_train, cat_features=cat_features, eval_set=[(X_train, Y_train), (X_valid, Y_valid)], verbose=100, early_stopping_rounds=50)\n",
        "    \n",
        "    preds_cat_valid = model.predict(X_valid)\n",
        "    print(f'{i+1}Fold RMSE:{np.sqrt(mean_squared_error(preds_cat_valid, Y_valid))}')\n",
        "    preds_cat = model.predict(x_test) / skf.n_splits"
      ],
      "execution_count": null,
      "outputs": [
        {
          "output_type": "stream",
          "text": [
            "/opt/conda/lib/python3.7/site-packages/sklearn/model_selection/_split.py:668: UserWarning: The least populated class in y has only 1 members, which is less than n_splits=5.\n",
            "  % (min_groups, self.n_splits)), UserWarning)\n"
          ],
          "name": "stderr"
        },
        {
          "output_type": "stream",
          "text": [
            "Learning rate set to 0.017409\n",
            "0:\tlearn: 79297.3705139\ttest: 79297.3705139\ttest1: 75180.7783233\tbest: 75180.7783233 (0)\ttotal: 28ms\tremaining: 2m 19s\n",
            "100:\tlearn: 34394.8609369\ttest: 34163.4594200\ttest1: 35988.7080690\tbest: 35988.7080690 (100)\ttotal: 2.84s\tremaining: 2m 17s\n",
            "200:\tlearn: 23985.9161306\ttest: 23769.0955555\ttest1: 29974.1208964\tbest: 29967.7643573 (199)\ttotal: 5.9s\tremaining: 2m 20s\n",
            "300:\tlearn: 20531.6108234\ttest: 20510.7639704\ttest1: 28975.1066141\tbest: 28975.1066141 (300)\ttotal: 8.63s\tremaining: 2m 14s\n",
            "400:\tlearn: 18625.9526838\ttest: 18748.1640952\ttest1: 28616.4447834\tbest: 28616.4447834 (400)\ttotal: 11.4s\tremaining: 2m 10s\n",
            "Stopped by overfitting detector  (50 iterations wait)\n",
            "\n",
            "bestTest = 28616.44478\n",
            "bestIteration = 400\n",
            "\n",
            "Shrink model to first 401 iterations.\n",
            "1Fold RMSE:28616.44478341241\n",
            "Learning rate set to 0.017409\n",
            "0:\tlearn: 79547.8061914\ttest: 79542.3402097\ttest1: 74104.7137549\tbest: 74104.7137549 (0)\ttotal: 28.4ms\tremaining: 2m 21s\n",
            "100:\tlearn: 34737.6288918\ttest: 34451.2495555\ttest1: 36918.5130385\tbest: 36918.5130385 (100)\ttotal: 3.14s\tremaining: 2m 32s\n",
            "200:\tlearn: 24107.5000000\ttest: 23927.4995885\ttest1: 29522.1016215\tbest: 29522.1016215 (200)\ttotal: 6.09s\tremaining: 2m 25s\n",
            "300:\tlearn: 20714.1759470\ttest: 20725.0327644\ttest1: 27505.6349449\tbest: 27505.5688480 (299)\ttotal: 8.84s\tremaining: 2m 17s\n",
            "400:\tlearn: 18915.3710275\ttest: 19104.8495303\ttest1: 26626.6655486\tbest: 26626.6655486 (400)\ttotal: 11.6s\tremaining: 2m 12s\n",
            "500:\tlearn: 17753.9540992\ttest: 18091.2093924\ttest1: 26171.3324719\tbest: 26171.3324719 (500)\ttotal: 14.9s\tremaining: 2m 13s\n",
            "600:\tlearn: 16902.8696429\ttest: 17350.7158356\ttest1: 25836.2236758\tbest: 25836.2236758 (600)\ttotal: 18.4s\tremaining: 2m 14s\n",
            "700:\tlearn: 16146.1340617\ttest: 16712.2838038\ttest1: 25530.9446955\tbest: 25530.9446955 (700)\ttotal: 21.3s\tremaining: 2m 10s\n",
            "800:\tlearn: 15545.1375169\ttest: 16199.7976349\ttest1: 25323.1886038\tbest: 25323.1886038 (800)\ttotal: 24.6s\tremaining: 2m 8s\n",
            "900:\tlearn: 15008.9670076\ttest: 15759.4717663\ttest1: 25170.3977025\tbest: 25168.8584054 (899)\ttotal: 27.6s\tremaining: 2m 5s\n",
            "1000:\tlearn: 14477.6132605\ttest: 15342.1099605\ttest1: 25023.2150617\tbest: 25023.2150617 (1000)\ttotal: 30.6s\tremaining: 2m 2s\n",
            "1100:\tlearn: 13963.6142711\ttest: 14936.2158926\ttest1: 24861.4155282\tbest: 24861.4155282 (1100)\ttotal: 33.6s\tremaining: 1m 59s\n",
            "1200:\tlearn: 13476.2189106\ttest: 14539.6074544\ttest1: 24745.8533863\tbest: 24745.8533863 (1200)\ttotal: 36.9s\tremaining: 1m 56s\n",
            "1300:\tlearn: 12929.6980975\ttest: 14109.6358470\ttest1: 24612.6846590\tbest: 24612.5206618 (1298)\ttotal: 40s\tremaining: 1m 53s\n",
            "1400:\tlearn: 12355.3333821\ttest: 13636.5578260\ttest1: 24478.2721609\tbest: 24478.2721609 (1400)\ttotal: 43s\tremaining: 1m 50s\n",
            "1500:\tlearn: 11941.4220526\ttest: 13322.4146331\ttest1: 24395.4192825\tbest: 24394.5100790 (1498)\ttotal: 46.4s\tremaining: 1m 48s\n",
            "1600:\tlearn: 11549.2775784\ttest: 13011.6440462\ttest1: 24332.4196987\tbest: 24326.4936985 (1586)\ttotal: 50s\tremaining: 1m 46s\n",
            "1700:\tlearn: 11171.9861319\ttest: 12706.5138435\ttest1: 24273.7124790\tbest: 24273.0006053 (1690)\ttotal: 53.2s\tremaining: 1m 43s\n",
            "1800:\tlearn: 10835.7774778\ttest: 12462.9511127\ttest1: 24215.4744536\tbest: 24212.8522442 (1799)\ttotal: 56.3s\tremaining: 1m 40s\n",
            "1900:\tlearn: 10493.8019704\ttest: 12207.5533523\ttest1: 24183.4036161\tbest: 24177.0710583 (1880)\ttotal: 59.7s\tremaining: 1m 37s\n",
            "2000:\tlearn: 10212.2933179\ttest: 12007.5411692\ttest1: 24135.1860922\tbest: 24135.1860922 (2000)\ttotal: 1m 2s\tremaining: 1m 34s\n",
            "2100:\tlearn: 9879.3570822\ttest: 11745.3770110\ttest1: 24107.1249752\tbest: 24105.5618072 (2099)\ttotal: 1m 5s\tremaining: 1m 31s\n",
            "2200:\tlearn: 9599.4042075\ttest: 11532.7754372\ttest1: 24068.8473271\tbest: 24067.7524943 (2199)\ttotal: 1m 9s\tremaining: 1m 28s\n",
            "2300:\tlearn: 9329.2436490\ttest: 11320.2362197\ttest1: 24035.5121500\tbest: 24035.5121500 (2300)\ttotal: 1m 12s\tremaining: 1m 24s\n",
            "2400:\tlearn: 9052.4645809\ttest: 11111.9967795\ttest1: 24002.5219716\tbest: 24001.6804855 (2398)\ttotal: 1m 15s\tremaining: 1m 21s\n",
            "2500:\tlearn: 8823.6203774\ttest: 10951.0844669\ttest1: 23974.4591755\tbest: 23967.7228562 (2460)\ttotal: 1m 18s\tremaining: 1m 18s\n",
            "Stopped by overfitting detector  (50 iterations wait)\n",
            "\n",
            "bestTest = 23967.72286\n",
            "bestIteration = 2460\n",
            "\n",
            "Shrink model to first 2461 iterations.\n",
            "2Fold RMSE:23967.72285618782\n",
            "Learning rate set to 0.017409\n",
            "0:\tlearn: 76379.9964585\ttest: 76368.5638185\ttest1: 86797.8417499\tbest: 86797.8417499 (0)\ttotal: 30.9ms\tremaining: 2m 34s\n",
            "100:\tlearn: 34416.9437816\ttest: 34086.8939096\ttest1: 41071.5990627\tbest: 41071.5990627 (100)\ttotal: 2.89s\tremaining: 2m 20s\n",
            "200:\tlearn: 24326.7522639\ttest: 24163.1571784\ttest1: 31327.3793878\tbest: 31327.3793878 (200)\ttotal: 6.36s\tremaining: 2m 31s\n",
            "300:\tlearn: 20360.7966611\ttest: 20424.7576014\ttest1: 28491.1127613\tbest: 28491.1127613 (300)\ttotal: 9.26s\tremaining: 2m 24s\n",
            "400:\tlearn: 18143.5288298\ttest: 18299.6026888\ttest1: 27231.1366836\tbest: 27231.1366836 (400)\ttotal: 12.4s\tremaining: 2m 21s\n",
            "500:\tlearn: 16442.0611845\ttest: 16665.2773606\ttest1: 26681.9767073\tbest: 26681.9767073 (500)\ttotal: 15.2s\tremaining: 2m 16s\n",
            "600:\tlearn: 15076.4322369\ttest: 15391.7991139\ttest1: 26339.1749636\tbest: 26339.1749636 (600)\ttotal: 18s\tremaining: 2m 11s\n",
            "700:\tlearn: 14076.1659551\ttest: 14500.9806248\ttest1: 26259.5397090\tbest: 26259.5397090 (700)\ttotal: 21s\tremaining: 2m 8s\n",
            "Stopped by overfitting detector  (50 iterations wait)\n",
            "\n",
            "bestTest = 26227.9053\n",
            "bestIteration = 710\n",
            "\n",
            "Shrink model to first 711 iterations.\n",
            "3Fold RMSE:26227.905295987493\n",
            "Learning rate set to 0.017409\n",
            "0:\tlearn: 79561.0622138\ttest: 79552.9311000\ttest1: 73770.2189375\tbest: 73770.2189375 (0)\ttotal: 27.7ms\tremaining: 2m 18s\n",
            "100:\tlearn: 36248.9649069\ttest: 36039.1541428\ttest1: 30846.9048261\tbest: 30846.9048261 (100)\ttotal: 2.83s\tremaining: 2m 17s\n",
            "200:\tlearn: 25430.3708817\ttest: 25330.9769454\ttest1: 23881.1000955\tbest: 23881.1000955 (200)\ttotal: 5.57s\tremaining: 2m 13s\n",
            "300:\tlearn: 21173.7005333\ttest: 21282.3997234\ttest1: 21982.5558391\tbest: 21982.5558391 (300)\ttotal: 8.41s\tremaining: 2m 11s\n",
            "400:\tlearn: 19109.6280562\ttest: 19426.5260989\ttest1: 21157.9356563\tbest: 21157.9356563 (400)\ttotal: 11.5s\tremaining: 2m 12s\n",
            "500:\tlearn: 17637.0034247\ttest: 18116.8815298\ttest1: 20780.4681626\tbest: 20780.4681626 (500)\ttotal: 14.5s\tremaining: 2m 10s\n",
            "600:\tlearn: 16543.2722381\ttest: 17149.4800351\ttest1: 20623.3519406\tbest: 20594.4662189 (582)\ttotal: 17.9s\tremaining: 2m 11s\n",
            "700:\tlearn: 15773.5477921\ttest: 16501.5265736\ttest1: 20461.5460654\tbest: 20461.5460654 (700)\ttotal: 21.3s\tremaining: 2m 10s\n",
            "800:\tlearn: 15154.9514984\ttest: 16027.9585178\ttest1: 20366.8940287\tbest: 20357.4007117 (790)\ttotal: 24.4s\tremaining: 2m 7s\n",
            "900:\tlearn: 14595.0808666\ttest: 15590.2584826\ttest1: 20235.8848955\tbest: 20235.8848955 (900)\ttotal: 27.4s\tremaining: 2m 4s\n",
            "1000:\tlearn: 14118.2682816\ttest: 15199.4978714\ttest1: 20148.3119934\tbest: 20148.3119934 (1000)\ttotal: 30.6s\tremaining: 2m 2s\n",
            "Stopped by overfitting detector  (50 iterations wait)\n",
            "\n",
            "bestTest = 20135.73263\n",
            "bestIteration = 1046\n",
            "\n",
            "Shrink model to first 1047 iterations.\n",
            "4Fold RMSE:20135.7326349092\n",
            "Learning rate set to 0.017409\n",
            "0:\tlearn: 77623.4140595\ttest: 77623.4140595\ttest1: 82049.3625036\tbest: 82049.3625036 (0)\ttotal: 27.7ms\tremaining: 2m 18s\n",
            "100:\tlearn: 34546.6484696\ttest: 34432.6706972\ttest1: 43492.4812453\tbest: 43492.4812453 (100)\ttotal: 2.77s\tremaining: 2m 14s\n",
            "200:\tlearn: 23734.9158430\ttest: 23802.8230296\ttest1: 34048.9876178\tbest: 34048.9876178 (200)\ttotal: 5.67s\tremaining: 2m 15s\n",
            "300:\tlearn: 20348.4689088\ttest: 20546.7930817\ttest1: 31101.8989774\tbest: 31101.8989774 (300)\ttotal: 8.84s\tremaining: 2m 17s\n",
            "400:\tlearn: 18705.8976938\ttest: 19036.4290088\ttest1: 29849.0306664\tbest: 29842.7875211 (399)\ttotal: 11.7s\tremaining: 2m 13s\n",
            "500:\tlearn: 17545.4038707\ttest: 17951.6698572\ttest1: 29095.5237479\tbest: 29095.5237479 (500)\ttotal: 14.6s\tremaining: 2m 10s\n",
            "600:\tlearn: 16512.4083456\ttest: 16992.8346031\ttest1: 28473.7731717\tbest: 28473.7731717 (600)\ttotal: 17.9s\tremaining: 2m 11s\n",
            "700:\tlearn: 15611.4732835\ttest: 16202.4747652\ttest1: 28060.3276752\tbest: 28060.3276752 (700)\ttotal: 21.2s\tremaining: 2m 9s\n",
            "800:\tlearn: 14820.2391739\ttest: 15537.2637871\ttest1: 27881.0584937\tbest: 27877.9459874 (798)\ttotal: 24.2s\tremaining: 2m 6s\n",
            "900:\tlearn: 14186.5854931\ttest: 14980.7455789\ttest1: 27760.4667635\tbest: 27760.2559411 (890)\ttotal: 27.2s\tremaining: 2m 3s\n",
            "1000:\tlearn: 13432.2210511\ttest: 14387.9618086\ttest1: 27630.7190952\tbest: 27630.7190952 (1000)\ttotal: 30.5s\tremaining: 2m 1s\n",
            "1100:\tlearn: 12731.5410429\ttest: 13825.7088929\ttest1: 27518.1067464\tbest: 27517.7853841 (1097)\ttotal: 33.5s\tremaining: 1m 58s\n",
            "1200:\tlearn: 12202.3681086\ttest: 13403.2510635\ttest1: 27411.2126260\tbest: 27410.7345606 (1199)\ttotal: 36.5s\tremaining: 1m 55s\n",
            "1300:\tlearn: 11684.2804187\ttest: 12979.9535243\ttest1: 27307.5933434\tbest: 27307.5933434 (1300)\ttotal: 39.6s\tremaining: 1m 52s\n",
            "1400:\tlearn: 11162.8508226\ttest: 12548.4796288\ttest1: 27260.6103177\tbest: 27260.6103177 (1400)\ttotal: 43.1s\tremaining: 1m 50s\n",
            "1500:\tlearn: 10712.4842507\ttest: 12181.2217533\ttest1: 27155.5332641\tbest: 27154.7310626 (1497)\ttotal: 46.2s\tremaining: 1m 47s\n",
            "1600:\tlearn: 10329.4841544\ttest: 11885.2067619\ttest1: 27099.1824674\tbest: 27099.1824674 (1600)\ttotal: 49.9s\tremaining: 1m 45s\n",
            "1700:\tlearn: 9991.1175666\ttest: 11634.7175640\ttest1: 27049.3433613\tbest: 27041.4756634 (1694)\ttotal: 53.3s\tremaining: 1m 43s\n",
            "1800:\tlearn: 9632.1591629\ttest: 11374.6408674\ttest1: 27006.0692064\tbest: 27003.7117627 (1799)\ttotal: 56.4s\tremaining: 1m 40s\n",
            "1900:\tlearn: 9287.7937637\ttest: 11125.5373489\ttest1: 26947.3872313\tbest: 26947.3872313 (1900)\ttotal: 59.6s\tremaining: 1m 37s\n",
            "2000:\tlearn: 8976.0076623\ttest: 10881.8083065\ttest1: 26912.7824224\tbest: 26912.7824224 (2000)\ttotal: 1m 2s\tremaining: 1m 34s\n",
            "2100:\tlearn: 8674.9890219\ttest: 10657.1857247\ttest1: 26909.8606745\tbest: 26898.5144353 (2070)\ttotal: 1m 6s\tremaining: 1m 31s\n",
            "Stopped by overfitting detector  (50 iterations wait)\n",
            "\n",
            "bestTest = 26898.51444\n",
            "bestIteration = 2070\n",
            "\n",
            "Shrink model to first 2071 iterations.\n",
            "5Fold RMSE:26898.514435289486\n"
          ],
          "name": "stdout"
        }
      ]
    },
    {
      "cell_type": "code",
      "metadata": {
        "execution": {
          "iopub.status.busy": "2021-06-03T08:38:23.972437Z",
          "iopub.execute_input": "2021-06-03T08:38:23.972751Z",
          "iopub.status.idle": "2021-06-03T08:38:23.976695Z",
          "shell.execute_reply.started": "2021-06-03T08:38:23.972723Z",
          "shell.execute_reply": "2021-06-03T08:38:23.975678Z"
        },
        "trusted": true,
        "id": "SluE4CShhvAC"
      },
      "source": [
        "valid_index = Y_valid.index"
      ],
      "execution_count": null,
      "outputs": []
    },
    {
      "cell_type": "code",
      "metadata": {
        "execution": {
          "iopub.status.busy": "2021-06-03T08:38:24.976554Z",
          "iopub.execute_input": "2021-06-03T08:38:24.976882Z",
          "iopub.status.idle": "2021-06-03T08:38:24.984170Z",
          "shell.execute_reply.started": "2021-06-03T08:38:24.976852Z",
          "shell.execute_reply": "2021-06-03T08:38:24.983285Z"
        },
        "trusted": true,
        "id": "zXhocJUshvAC"
      },
      "source": [
        "preds_cat_Frame = pd.DataFrame(preds_cat_valid, index=valid_index).rename(columns={0:'SalePrice_preds'})"
      ],
      "execution_count": null,
      "outputs": []
    },
    {
      "cell_type": "code",
      "metadata": {
        "execution": {
          "iopub.status.busy": "2021-06-03T08:38:26.377881Z",
          "iopub.execute_input": "2021-06-03T08:38:26.378203Z",
          "iopub.status.idle": "2021-06-03T08:38:26.579540Z",
          "shell.execute_reply.started": "2021-06-03T08:38:26.378173Z",
          "shell.execute_reply": "2021-06-03T08:38:26.578718Z"
        },
        "trusted": true,
        "id": "ZKQj-AoFhvAD",
        "outputId": "b32259c8-f653-44fe-8c76-490aeaffd4fd"
      },
      "source": [
        "fig = plt.figure(figsize=(16,8))\n",
        "plt.plot(preds_cat_Frame.index, preds_cat_Frame, label='Val-preds', color='red', alpha=.8)\n",
        "plt.plot(Y_valid.index, Y_valid, label='Valid-y', color='gray', alpha=0.7)\n",
        "plt.legend()\n",
        "plt.title('Val-Preds vs Val-y', size=20, fontweight='bold', fontfamily='serif', pad=15)"
      ],
      "execution_count": null,
      "outputs": [
        {
          "output_type": "execute_result",
          "data": {
            "text/plain": [
              "Text(0.5, 1.0, 'Val-Preds vs Val-y')"
            ]
          },
          "metadata": {
            "tags": []
          },
          "execution_count": 233
        },
        {
          "output_type": "display_data",
          "data": {
            "text/plain": [
              "<Figure size 1152x576 with 1 Axes>"
            ],
            "image/png": "[encoded data removed]"
          },
          "metadata": {
            "tags": [],
            "needs_background": "light"
          }
        }
      ]
    },
    {
      "cell_type": "code",
      "metadata": {
        "execution": {
          "iopub.status.busy": "2021-06-03T07:44:03.635956Z",
          "iopub.execute_input": "2021-06-03T07:44:03.636323Z",
          "iopub.status.idle": "2021-06-03T07:44:05.190198Z",
          "shell.execute_reply.started": "2021-06-03T07:44:03.636290Z",
          "shell.execute_reply": "2021-06-03T07:44:05.189440Z"
        },
        "trusted": true,
        "id": "5CLwF5ANhvAD",
        "outputId": "7dde4510-dc8f-49ea-adee-be2db9df0e0b"
      },
      "source": [
        "pd.DataFrame(model.get_feature_importance(), index = X_train.columns).rename(columns={0:'Importances'}).sort_values('Importances', ascending=False).plot.barh(figsize=(15,15), color='green')"
      ],
      "execution_count": null,
      "outputs": [
        {
          "output_type": "execute_result",
          "data": {
            "text/plain": [
              "<AxesSubplot:>"
            ]
          },
          "metadata": {
            "tags": []
          },
          "execution_count": 204
        },
        {
          "output_type": "display_data",
          "data": {
            "text/plain": [
              "<Figure size 1080x1080 with 1 Axes>"
            ],
            "image/png": "[encoded data removed]"
          },
          "metadata": {
            "tags": [],
            "needs_background": "light"
          }
        }
      ]
    },
    {
      "cell_type": "code",
      "metadata": {
        "execution": {
          "iopub.status.busy": "2021-06-03T07:47:08.761114Z",
          "iopub.execute_input": "2021-06-03T07:47:08.761456Z",
          "iopub.status.idle": "2021-06-03T07:47:08.790908Z",
          "shell.execute_reply.started": "2021-06-03T07:47:08.761424Z",
          "shell.execute_reply": "2021-06-03T07:47:08.790099Z"
        },
        "trusted": true,
        "id": "u1SPuhB7hvAD"
      },
      "source": [
        "importances_cat = pd.DataFrame(model.get_feature_importance(), index = X_train.columns).rename(columns={0:'Importances'}).sort_values('Importances', ascending=False)\n",
        "\n",
        "feature_imp_drop = importances_cat.loc[importances_cat['Importances'] < 0.01].index\n",
        "\n",
        "x_train = x_train.drop(columns=feature_imp_drop)\n",
        "x_test = x_test.drop(columns=feature_imp_drop)"
      ],
      "execution_count": null,
      "outputs": []
    },
    {
      "cell_type": "code",
      "metadata": {
        "id": "e9tk_-v9hvAE"
      },
      "source": [
        "predicts = pd.Series(dtypes=np.float)\n",
        "\n",
        "predicts = predicts.append(model.predict(X_valid))"
      ],
      "execution_count": null,
      "outputs": []
    },
    {
      "cell_type": "code",
      "metadata": {
        "execution": {
          "iopub.status.busy": "2021-06-03T08:32:42.424535Z",
          "iopub.execute_input": "2021-06-03T08:32:42.424850Z",
          "iopub.status.idle": "2021-06-03T08:36:08.466884Z",
          "shell.execute_reply.started": "2021-06-03T08:32:42.424822Z",
          "shell.execute_reply": "2021-06-03T08:36:08.465413Z"
        },
        "trusted": true,
        "id": "ed5q97PrhvAE",
        "outputId": "3389e601-3afd-41f1-e98f-56bab762652d"
      },
      "source": [
        "skf = StratifiedKFold(n_splits=5, shuffle=True, random_state=40)\n",
        "cat_features = x_train.select_dtypes('object').columns\n",
        "preds_cat = np.zeros((len(x_test)))\n",
        "\n",
        "for i, (train_index, valid_index) in enumerate(skf.split(x_train, y_train)):\n",
        "    X_train, X_valid = x_train.iloc[train_index], x_train.iloc[valid_index]\n",
        "    Y_train, Y_valid = y_train.iloc[train_index], y_train.iloc[valid_index]\n",
        "    \n",
        "    model=catboost.CatBoostRegressor(n_estimators=5000, eval_metric='RMSE', use_best_model=True )\n",
        "    \n",
        "    model.fit(X_train, Y_train, cat_features=cat_features, eval_set=[(X_train, Y_train), (X_valid, Y_valid)], verbose=100, early_stopping_rounds=50)\n",
        "    \n",
        "    preds_cat_valid = model.predict(X_valid)\n",
        "    RMSE = np.sqrt(mean_squared_error(Y_valid, preds_cat_valid))\n",
        "    print(f'{i+1}Fold RMSE:{RMSE}')\n",
        "    \n",
        "    preds_cat = model.predict(x_test) / skf.n_splits"
      ],
      "execution_count": null,
      "outputs": [
        {
          "output_type": "stream",
          "text": [
            "/opt/conda/lib/python3.7/site-packages/sklearn/model_selection/_split.py:668: UserWarning: The least populated class in y has only 1 members, which is less than n_splits=5.\n",
            "  % (min_groups, self.n_splits)), UserWarning)\n"
          ],
          "name": "stderr"
        },
        {
          "output_type": "stream",
          "text": [
            "Learning rate set to 0.017409\n",
            "0:\tlearn: 79309.7999907\ttest: 79306.4341414\ttest1: 75176.0085009\tbest: 75176.0085009 (0)\ttotal: 29.5ms\tremaining: 2m 27s\n",
            "100:\tlearn: 35292.0608492\ttest: 35059.7351783\ttest1: 36130.0528856\tbest: 36130.0528856 (100)\ttotal: 2.76s\tremaining: 2m 13s\n",
            "200:\tlearn: 24293.2269066\ttest: 24129.4166572\ttest1: 30312.9936088\tbest: 30312.9936088 (200)\ttotal: 5.58s\tremaining: 2m 13s\n",
            "300:\tlearn: 20640.2110316\ttest: 20630.3873431\ttest1: 29214.9189224\tbest: 29214.9189224 (300)\ttotal: 8.67s\tremaining: 2m 15s\n",
            "Stopped by overfitting detector  (50 iterations wait)\n",
            "\n",
            "bestTest = 29119.32664\n",
            "bestIteration = 328\n",
            "\n",
            "Shrink model to first 329 iterations.\n",
            "1Fold RMSE:29119.326639126717\n",
            "Learning rate set to 0.017409\n",
            "0:\tlearn: 79510.9144220\ttest: 79509.5870463\ttest1: 74089.6276901\tbest: 74089.6276901 (0)\ttotal: 28.8ms\tremaining: 2m 23s\n",
            "100:\tlearn: 35218.1334087\ttest: 34927.1108012\ttest1: 37794.1958795\tbest: 37794.1958795 (100)\ttotal: 2.73s\tremaining: 2m 12s\n",
            "200:\tlearn: 24466.6696372\ttest: 24280.7444489\ttest1: 31136.6612023\tbest: 31136.6612023 (200)\ttotal: 5.72s\tremaining: 2m 16s\n",
            "300:\tlearn: 20921.2002710\ttest: 20926.7893863\ttest1: 29117.8059375\tbest: 29117.8059375 (300)\ttotal: 9.47s\tremaining: 2m 27s\n",
            "400:\tlearn: 19205.2847574\ttest: 19342.2682760\ttest1: 28064.3790961\tbest: 28064.3790961 (400)\ttotal: 12.2s\tremaining: 2m 20s\n",
            "500:\tlearn: 17908.8808755\ttest: 18135.6443619\ttest1: 27490.9643845\tbest: 27488.0090665 (492)\ttotal: 15.1s\tremaining: 2m 15s\n",
            "600:\tlearn: 16925.5627701\ttest: 17282.1898978\ttest1: 27073.8948168\tbest: 27073.8948168 (600)\ttotal: 17.9s\tremaining: 2m 10s\n",
            "700:\tlearn: 16140.3033045\ttest: 16607.4522785\ttest1: 26754.6100083\tbest: 26754.6100083 (700)\ttotal: 21.2s\tremaining: 2m 9s\n",
            "800:\tlearn: 15511.1842150\ttest: 16075.0399849\ttest1: 26495.0311937\tbest: 26495.0311937 (800)\ttotal: 24.1s\tremaining: 2m 6s\n",
            "900:\tlearn: 14929.9838689\ttest: 15603.0770669\ttest1: 26277.0137665\tbest: 26276.9941270 (896)\ttotal: 27.2s\tremaining: 2m 3s\n",
            "1000:\tlearn: 14390.4096306\ttest: 15161.1609458\ttest1: 26145.2184739\tbest: 26142.2874659 (998)\ttotal: 30.6s\tremaining: 2m 2s\n",
            "1100:\tlearn: 13842.2290042\ttest: 14711.2449158\ttest1: 25992.8260776\tbest: 25992.8260776 (1100)\ttotal: 33.7s\tremaining: 1m 59s\n",
            "1200:\tlearn: 13401.3982878\ttest: 14351.5926477\ttest1: 25853.7947034\tbest: 25851.8367992 (1197)\ttotal: 36.9s\tremaining: 1m 56s\n",
            "1300:\tlearn: 12879.2879704\ttest: 13928.3398297\ttest1: 25757.7101397\tbest: 25757.7101397 (1300)\ttotal: 39.9s\tremaining: 1m 53s\n",
            "1400:\tlearn: 12415.9408666\ttest: 13557.6898690\ttest1: 25657.0101263\tbest: 25657.0101263 (1400)\ttotal: 43.9s\tremaining: 1m 52s\n",
            "1500:\tlearn: 12003.8625780\ttest: 13215.8520511\ttest1: 25552.4029527\tbest: 25552.4029527 (1500)\ttotal: 47s\tremaining: 1m 49s\n",
            "1600:\tlearn: 11594.1552729\ttest: 12874.5307041\ttest1: 25466.8381271\tbest: 25465.7094533 (1599)\ttotal: 50.1s\tremaining: 1m 46s\n",
            "1700:\tlearn: 11270.9813482\ttest: 12622.7219272\ttest1: 25385.0803023\tbest: 25385.0605238 (1699)\ttotal: 53.4s\tremaining: 1m 43s\n",
            "1800:\tlearn: 10946.5221791\ttest: 12365.9261451\ttest1: 25360.9752840\tbest: 25357.9108878 (1795)\ttotal: 56.6s\tremaining: 1m 40s\n",
            "1900:\tlearn: 10554.3834112\ttest: 12051.6751882\ttest1: 25282.2309780\tbest: 25282.2309780 (1900)\ttotal: 59.7s\tremaining: 1m 37s\n",
            "2000:\tlearn: 10216.5285065\ttest: 11800.7839768\ttest1: 25249.2291381\tbest: 25244.8609073 (1995)\ttotal: 1m 3s\tremaining: 1m 34s\n",
            "2100:\tlearn: 9894.7487007\ttest: 11532.6489487\ttest1: 25211.4050471\tbest: 25206.9997007 (2099)\ttotal: 1m 6s\tremaining: 1m 31s\n",
            "2200:\tlearn: 9615.1074408\ttest: 11315.7764804\ttest1: 25168.5510489\tbest: 25167.6472273 (2192)\ttotal: 1m 9s\tremaining: 1m 28s\n",
            "2300:\tlearn: 9357.2935563\ttest: 11130.5984391\ttest1: 25144.6066547\tbest: 25144.4125528 (2298)\ttotal: 1m 12s\tremaining: 1m 25s\n",
            "2400:\tlearn: 9079.6472573\ttest: 10936.7219952\ttest1: 25128.7695993\tbest: 25128.3644742 (2397)\ttotal: 1m 16s\tremaining: 1m 22s\n",
            "2500:\tlearn: 8854.3268123\ttest: 10785.1933163\ttest1: 25111.7620577\tbest: 25110.9366399 (2497)\ttotal: 1m 19s\tremaining: 1m 19s\n",
            "2600:\tlearn: 8625.9975314\ttest: 10625.5885760\ttest1: 25100.9654753\tbest: 25092.4123599 (2582)\ttotal: 1m 23s\tremaining: 1m 16s\n",
            "Stopped by overfitting detector  (50 iterations wait)\n",
            "\n",
            "bestTest = 25092.41236\n",
            "bestIteration = 2582\n",
            "\n",
            "Shrink model to first 2583 iterations.\n",
            "2Fold RMSE:25092.412359949467\n",
            "Learning rate set to 0.017409\n",
            "0:\tlearn: 76324.0910357\ttest: 76323.2119150\ttest1: 86789.4243443\tbest: 86789.4243443 (0)\ttotal: 30.7ms\tremaining: 2m 33s\n",
            "100:\tlearn: 34873.3452000\ttest: 34727.1185069\ttest1: 41573.2829569\tbest: 41573.2829569 (100)\ttotal: 3.33s\tremaining: 2m 41s\n",
            "200:\tlearn: 24675.0710917\ttest: 24700.7701045\ttest1: 31559.3327214\tbest: 31559.3327214 (200)\ttotal: 6.33s\tremaining: 2m 31s\n",
            "300:\tlearn: 20606.1313594\ttest: 20757.9319709\ttest1: 28809.0953737\tbest: 28809.0953737 (300)\ttotal: 9.13s\tremaining: 2m 22s\n",
            "400:\tlearn: 18309.9204578\ttest: 18533.7376237\ttest1: 27552.8136232\tbest: 27552.8136232 (400)\ttotal: 12.3s\tremaining: 2m 20s\n",
            "500:\tlearn: 16564.5273090\ttest: 16875.9860437\ttest1: 27000.9925564\tbest: 27000.9925564 (500)\ttotal: 15.1s\tremaining: 2m 16s\n",
            "600:\tlearn: 15185.6961803\ttest: 15583.8970988\ttest1: 26625.5466413\tbest: 26621.2494417 (595)\ttotal: 18.2s\tremaining: 2m 13s\n",
            "700:\tlearn: 14222.7900245\ttest: 14732.4246424\ttest1: 26438.6930671\tbest: 26436.5574566 (693)\ttotal: 21.3s\tremaining: 2m 10s\n",
            "Stopped by overfitting detector  (50 iterations wait)\n",
            "\n",
            "bestTest = 26384.26448\n",
            "bestIteration = 746\n",
            "\n",
            "Shrink model to first 747 iterations.\n",
            "3Fold RMSE:26384.264479443085\n",
            "Learning rate set to 0.017409\n",
            "0:\tlearn: 79600.9982739\ttest: 79600.2991051\ttest1: 73790.6794726\tbest: 73790.6794726 (0)\ttotal: 29.2ms\tremaining: 2m 26s\n",
            "100:\tlearn: 35869.6464283\ttest: 35758.8668658\ttest1: 30207.5363474\tbest: 30207.5363474 (100)\ttotal: 2.87s\tremaining: 2m 19s\n",
            "200:\tlearn: 25048.6856761\ttest: 24957.5627982\ttest1: 22998.0591912\tbest: 22998.0591912 (200)\ttotal: 5.79s\tremaining: 2m 18s\n",
            "300:\tlearn: 21083.0851271\ttest: 21210.1414527\ttest1: 21304.9295041\tbest: 21304.9295041 (300)\ttotal: 9.08s\tremaining: 2m 21s\n",
            "400:\tlearn: 19099.1319762\ttest: 19340.6637424\ttest1: 20641.7611335\tbest: 20641.7611335 (400)\ttotal: 12s\tremaining: 2m 17s\n",
            "500:\tlearn: 17626.8004993\ttest: 17977.1374395\ttest1: 20341.0860278\tbest: 20341.0860278 (500)\ttotal: 15.1s\tremaining: 2m 15s\n",
            "600:\tlearn: 16612.6138908\ttest: 17113.9279130\ttest1: 20201.5849056\tbest: 20201.2083845 (590)\ttotal: 18.2s\tremaining: 2m 13s\n",
            "700:\tlearn: 15928.4714829\ttest: 16543.3779402\ttest1: 20146.3538862\tbest: 20121.4483363 (688)\ttotal: 21.7s\tremaining: 2m 13s\n",
            "800:\tlearn: 15377.1914525\ttest: 16099.6727403\ttest1: 20042.4429515\tbest: 20042.4429515 (800)\ttotal: 24.9s\tremaining: 2m 10s\n",
            "900:\tlearn: 14738.8929257\ttest: 15573.0379104\ttest1: 19994.9940390\tbest: 19988.2560498 (893)\ttotal: 28.1s\tremaining: 2m 7s\n",
            "Stopped by overfitting detector  (50 iterations wait)\n",
            "\n",
            "bestTest = 19988.25605\n",
            "bestIteration = 893\n",
            "\n",
            "Shrink model to first 894 iterations.\n",
            "4Fold RMSE:19988.256049753592\n",
            "Learning rate set to 0.017409\n",
            "0:\tlearn: 77621.0558754\ttest: 77617.3502800\ttest1: 82024.3606446\tbest: 82024.3606446 (0)\ttotal: 69.3ms\tremaining: 5m 46s\n",
            "100:\tlearn: 34431.5469432\ttest: 34212.7806466\ttest1: 42668.7309386\tbest: 42668.7309386 (100)\ttotal: 3.26s\tremaining: 2m 38s\n",
            "200:\tlearn: 23955.7728985\ttest: 23883.9294779\ttest1: 33449.4694613\tbest: 33449.4694613 (200)\ttotal: 6.21s\tremaining: 2m 28s\n",
            "300:\tlearn: 20594.8603234\ttest: 20758.3671263\ttest1: 30647.4772306\tbest: 30647.4772306 (300)\ttotal: 9.14s\tremaining: 2m 22s\n",
            "400:\tlearn: 19145.9731176\ttest: 19416.4528597\ttest1: 29455.1921710\tbest: 29455.1921710 (400)\ttotal: 12.1s\tremaining: 2m 19s\n",
            "500:\tlearn: 17884.2959457\ttest: 18225.1716788\ttest1: 28704.1115205\tbest: 28704.1115205 (500)\ttotal: 14.9s\tremaining: 2m 14s\n",
            "600:\tlearn: 16773.8532884\ttest: 17236.1615272\ttest1: 28272.7275536\tbest: 28272.7275536 (600)\ttotal: 17.8s\tremaining: 2m 10s\n",
            "700:\tlearn: 15716.6598045\ttest: 16295.2637333\ttest1: 27919.9571076\tbest: 27918.0007012 (699)\ttotal: 20.9s\tremaining: 2m 7s\n",
            "800:\tlearn: 14875.3764838\ttest: 15570.9988932\ttest1: 27688.7785673\tbest: 27688.7785673 (800)\ttotal: 24.2s\tremaining: 2m 6s\n",
            "900:\tlearn: 14152.6996309\ttest: 14955.1847690\ttest1: 27561.8893762\tbest: 27561.8893762 (900)\ttotal: 27.4s\tremaining: 2m 4s\n",
            "1000:\tlearn: 13511.6500971\ttest: 14431.2666218\ttest1: 27406.4389555\tbest: 27406.4389555 (1000)\ttotal: 30.6s\tremaining: 2m 2s\n",
            "1100:\tlearn: 12868.7401944\ttest: 13905.8152224\ttest1: 27282.8623927\tbest: 27280.0484450 (1099)\ttotal: 34.5s\tremaining: 2m 2s\n",
            "1200:\tlearn: 12294.1678903\ttest: 13432.0846166\ttest1: 27204.0785502\tbest: 27199.4161413 (1198)\ttotal: 37.8s\tremaining: 1m 59s\n",
            "1300:\tlearn: 11790.7532454\ttest: 13031.7525681\ttest1: 27113.8721134\tbest: 27105.8487308 (1293)\ttotal: 41.1s\tremaining: 1m 56s\n",
            "1400:\tlearn: 11296.5412150\ttest: 12621.7264942\ttest1: 26981.0516796\tbest: 26981.0516796 (1400)\ttotal: 44.5s\tremaining: 1m 54s\n",
            "1500:\tlearn: 10773.2464556\ttest: 12195.6632414\ttest1: 26902.5130663\tbest: 26901.7072268 (1484)\ttotal: 47.7s\tremaining: 1m 51s\n",
            "1600:\tlearn: 10367.0161446\ttest: 11890.7629338\ttest1: 26854.5945251\tbest: 26851.9083158 (1598)\ttotal: 50.9s\tremaining: 1m 48s\n",
            "1700:\tlearn: 9993.2517832\ttest: 11605.2329510\ttest1: 26832.3631115\tbest: 26819.5637983 (1666)\ttotal: 54.2s\tremaining: 1m 45s\n",
            "Stopped by overfitting detector  (50 iterations wait)\n",
            "\n",
            "bestTest = 26819.5638\n",
            "bestIteration = 1666\n",
            "\n",
            "Shrink model to first 1667 iterations.\n",
            "5Fold RMSE:26819.56379833491\n"
          ],
          "name": "stdout"
        }
      ]
    },
    {
      "cell_type": "markdown",
      "metadata": {
        "id": "ginQF16UhvAE"
      },
      "source": [
        "# Stacking Ver."
      ]
    },
    {
      "cell_type": "code",
      "metadata": {
        "execution": {
          "iopub.status.busy": "2021-06-03T08:51:27.221634Z",
          "iopub.execute_input": "2021-06-03T08:51:27.221948Z",
          "iopub.status.idle": "2021-06-03T08:51:27.226280Z",
          "shell.execute_reply.started": "2021-06-03T08:51:27.221920Z",
          "shell.execute_reply": "2021-06-03T08:51:27.225264Z"
        },
        "trusted": true,
        "id": "G-a3BolbhvAF"
      },
      "source": [
        "import lightgbm as lgbm\n",
        "import xgboost as xgb\n",
        "from sklearn.preprocessing import OneHotEncoder, robust_scale\n",
        "from sklearn.metrics import mean_squared_error\n",
        "from sklearn.ensemble import RandomForestRegressor\n",
        "from sklearn.model_selection import cross_val_score, cross_validate\n",
        "from mlxtend.regressor import StackingCVRegressor"
      ],
      "execution_count": null,
      "outputs": []
    },
    {
      "cell_type": "code",
      "metadata": {
        "execution": {
          "iopub.status.busy": "2021-06-03T08:45:44.999519Z",
          "iopub.execute_input": "2021-06-03T08:45:44.999840Z",
          "iopub.status.idle": "2021-06-03T08:45:45.454028Z",
          "shell.execute_reply.started": "2021-06-03T08:45:44.999812Z",
          "shell.execute_reply": "2021-06-03T08:45:45.453208Z"
        },
        "trusted": true,
        "id": "Idal_cWAhvAF"
      },
      "source": [
        "data_for_lgbxgb = data.copy()\n",
        "\n",
        "for i in data_for_lgbxgb.select_dtypes('object').columns:\n",
        "    data_for_lgbxgb = pd.get_dummies(data=data_for_lgbxgb, columns=[i])"
      ],
      "execution_count": null,
      "outputs": []
    },
    {
      "cell_type": "code",
      "metadata": {
        "execution": {
          "iopub.status.busy": "2021-06-03T08:45:46.469588Z",
          "iopub.execute_input": "2021-06-03T08:45:46.469930Z",
          "iopub.status.idle": "2021-06-03T08:45:46.492466Z",
          "shell.execute_reply.started": "2021-06-03T08:45:46.469900Z",
          "shell.execute_reply": "2021-06-03T08:45:46.491483Z"
        },
        "trusted": true,
        "id": "_qwKHwJzhvAF",
        "outputId": "a99553d1-2424-40fe-8a11-b7bca7cd0d0e"
      },
      "source": [
        "x_train = data_for_lgbxgb.loc[data_for_lgbxgb['SalePrice'].notnull()].drop(columns=['Id', 'SalePrice'])\n",
        "y_train = data_for_lgbxgb.loc[data_for_lgbxgb['SalePrice'].notnull()]['SalePrice']\n",
        "x_test = data_for_lgbxgb.loc[data_for_lgbxgb['SalePrice'].isnull()].drop(columns=['Id', 'SalePrice'])\n",
        "\n",
        "x_train.shape, y_train.shape, x_test.shape"
      ],
      "execution_count": null,
      "outputs": [
        {
          "output_type": "execute_result",
          "data": {
            "text/plain": [
              "((1460, 350), (1460,), (1459, 350))"
            ]
          },
          "metadata": {
            "tags": []
          },
          "execution_count": 252
        }
      ]
    },
    {
      "cell_type": "code",
      "metadata": {
        "execution": {
          "iopub.status.busy": "2021-06-03T08:46:22.974880Z",
          "iopub.execute_input": "2021-06-03T08:46:22.975200Z",
          "iopub.status.idle": "2021-06-03T08:46:22.979727Z",
          "shell.execute_reply.started": "2021-06-03T08:46:22.975170Z",
          "shell.execute_reply": "2021-06-03T08:46:22.978843Z"
        },
        "trusted": true,
        "id": "KKu33SuQhvAF"
      },
      "source": [
        "def rmsle(y, y_pred):\n",
        "    return np.sqrt(mean_squared_error(y, y_pred))\n",
        "\n",
        "def cv_rmse(model, X, train_labels):\n",
        "    rmse = np.sqrt(-cross_val_score(model, X, train_labels, scoring=\"neg_mean_squared_error\", cv=10))\n",
        "    return (rmse)"
      ],
      "execution_count": null,
      "outputs": []
    },
    {
      "cell_type": "code",
      "metadata": {
        "execution": {
          "iopub.status.busy": "2021-06-03T09:28:08.905663Z",
          "iopub.execute_input": "2021-06-03T09:28:08.906079Z",
          "iopub.status.idle": "2021-06-03T09:28:08.913067Z",
          "shell.execute_reply.started": "2021-06-03T09:28:08.906036Z",
          "shell.execute_reply": "2021-06-03T09:28:08.912077Z"
        },
        "trusted": true,
        "id": "5yifOAHlhvAF"
      },
      "source": [
        "lightgbm = lgbm.LGBMRegressor(objective='regression',\n",
        "                       learning_rate=0.01, \n",
        "                       n_estimators=7000,\n",
        "                       random_state=42)\n",
        "\n",
        "# XGBoost Regressor\n",
        "xgboost = xgb.XGBRegressor(learning_rate=0.01,\n",
        "                       n_estimators=6000,\n",
        "                       random_state=42)\n",
        "\n",
        "\n",
        "\n",
        "# Random Forest Regressor\n",
        "rf = RandomForestRegressor(n_estimators=3000,\n",
        "                          max_features=None,\n",
        "                          oob_score=True,\n",
        "                          random_state=42)\n",
        "\n",
        "cat = catboost.CatBoostRegressor(n_estimators=3000, random_state=42)\n",
        "\n",
        "# Stack up all the models above, optimized using xgboost\n",
        "stack_gen = StackingCVRegressor(regressors=(xgboost, lightgbm, rf, model),\n",
        "                                meta_regressor=model,\n",
        "                                use_features_in_secondary=True)"
      ],
      "execution_count": null,
      "outputs": []
    },
    {
      "cell_type": "code",
      "metadata": {
        "execution": {
          "iopub.status.busy": "2021-06-03T08:51:30.332222Z",
          "iopub.execute_input": "2021-06-03T08:51:30.332582Z",
          "iopub.status.idle": "2021-06-03T08:54:04.727222Z",
          "shell.execute_reply.started": "2021-06-03T08:51:30.332549Z",
          "shell.execute_reply": "2021-06-03T08:54:04.726537Z"
        },
        "trusted": true,
        "id": "KhcJvXFhhvAG",
        "outputId": "602e9245-4d04-4d59-dfda-4dc6ff8f12eb"
      },
      "source": [
        "scores = {}\n",
        "\n",
        "score = cv_rmse(lightgbm, x_train, y_train)\n",
        "print(\"lightgbm: {:.4f} ({:.4f})\".format(score.mean(), score.std()))\n",
        "scores['lgb'] = (score.mean(), score.std())"
      ],
      "execution_count": null,
      "outputs": [
        {
          "output_type": "stream",
          "text": [
            "lightgbm: 28719.9690 (6336.7246)\n"
          ],
          "name": "stdout"
        }
      ]
    },
    {
      "cell_type": "code",
      "metadata": {
        "execution": {
          "iopub.status.busy": "2021-06-03T08:54:41.750977Z",
          "iopub.execute_input": "2021-06-03T08:54:41.751291Z",
          "iopub.status.idle": "2021-06-03T09:09:34.600001Z",
          "shell.execute_reply.started": "2021-06-03T08:54:41.751260Z",
          "shell.execute_reply": "2021-06-03T09:09:34.599313Z"
        },
        "trusted": true,
        "id": "8PYBWxz_hvAG",
        "outputId": "19d85f34-f049-4f23-d0b9-76853d36fc90"
      },
      "source": [
        "score = cv_rmse(xgboost, x_train, y_train)\n",
        "print(\"xgboost: {:.4f} ({:.4f})\".format(score.mean(), score.std()))\n",
        "scores['xgb'] = (score.mean(), score.std())"
      ],
      "execution_count": null,
      "outputs": [
        {
          "output_type": "stream",
          "text": [
            "/opt/conda/lib/python3.7/site-packages/xgboost/data.py:114: UserWarning: Use subset (sliced data) of np.ndarray is not recommended because it will generate extra copies and increase memory consumption\n",
            "  \"because it will generate extra copies and increase \" +\n",
            "/opt/conda/lib/python3.7/site-packages/xgboost/data.py:114: UserWarning: Use subset (sliced data) of np.ndarray is not recommended because it will generate extra copies and increase memory consumption\n",
            "  \"because it will generate extra copies and increase \" +\n",
            "/opt/conda/lib/python3.7/site-packages/xgboost/data.py:114: UserWarning: Use subset (sliced data) of np.ndarray is not recommended because it will generate extra copies and increase memory consumption\n",
            "  \"because it will generate extra copies and increase \" +\n",
            "/opt/conda/lib/python3.7/site-packages/xgboost/data.py:114: UserWarning: Use subset (sliced data) of np.ndarray is not recommended because it will generate extra copies and increase memory consumption\n",
            "  \"because it will generate extra copies and increase \" +\n",
            "/opt/conda/lib/python3.7/site-packages/xgboost/data.py:114: UserWarning: Use subset (sliced data) of np.ndarray is not recommended because it will generate extra copies and increase memory consumption\n",
            "  \"because it will generate extra copies and increase \" +\n",
            "/opt/conda/lib/python3.7/site-packages/xgboost/data.py:114: UserWarning: Use subset (sliced data) of np.ndarray is not recommended because it will generate extra copies and increase memory consumption\n",
            "  \"because it will generate extra copies and increase \" +\n",
            "/opt/conda/lib/python3.7/site-packages/xgboost/data.py:114: UserWarning: Use subset (sliced data) of np.ndarray is not recommended because it will generate extra copies and increase memory consumption\n",
            "  \"because it will generate extra copies and increase \" +\n",
            "/opt/conda/lib/python3.7/site-packages/xgboost/data.py:114: UserWarning: Use subset (sliced data) of np.ndarray is not recommended because it will generate extra copies and increase memory consumption\n",
            "  \"because it will generate extra copies and increase \" +\n",
            "/opt/conda/lib/python3.7/site-packages/xgboost/data.py:114: UserWarning: Use subset (sliced data) of np.ndarray is not recommended because it will generate extra copies and increase memory consumption\n",
            "  \"because it will generate extra copies and increase \" +\n"
          ],
          "name": "stderr"
        },
        {
          "output_type": "stream",
          "text": [
            "xgboost: 26847.0287 (7021.1434)\n"
          ],
          "name": "stdout"
        },
        {
          "output_type": "stream",
          "text": [
            "/opt/conda/lib/python3.7/site-packages/xgboost/data.py:114: UserWarning: Use subset (sliced data) of np.ndarray is not recommended because it will generate extra copies and increase memory consumption\n",
            "  \"because it will generate extra copies and increase \" +\n"
          ],
          "name": "stderr"
        }
      ]
    },
    {
      "cell_type": "code",
      "metadata": {
        "execution": {
          "iopub.status.busy": "2021-06-03T09:32:53.972545Z",
          "iopub.execute_input": "2021-06-03T09:32:53.972876Z",
          "iopub.status.idle": "2021-06-03T09:48:16.540159Z",
          "shell.execute_reply.started": "2021-06-03T09:32:53.972840Z",
          "shell.execute_reply": "2021-06-03T09:48:16.538509Z"
        },
        "trusted": true,
        "id": "wkPCw5uThvAG",
        "outputId": "7e98ad75-6870-44be-f7b2-dbbda8b7dcc6"
      },
      "source": [
        "score = cv_rmse(rf, x_train, y_train)\n",
        "print(\"rf: {:.4f} ({:.4f})\".format(score.mean(), score.std()))\n",
        "scores['rf'] = (score.mean(), score.std())"
      ],
      "execution_count": null,
      "outputs": [
        {
          "output_type": "stream",
          "text": [
            "rf: 28755.1638 (6811.1003)\n"
          ],
          "name": "stdout"
        }
      ]
    },
    {
      "cell_type": "code",
      "metadata": {
        "execution": {
          "iopub.status.busy": "2021-06-03T10:55:49.507795Z",
          "iopub.execute_input": "2021-06-03T10:55:49.508183Z",
          "iopub.status.idle": "2021-06-03T10:55:49.573339Z",
          "shell.execute_reply.started": "2021-06-03T10:55:49.508098Z",
          "shell.execute_reply": "2021-06-03T10:55:49.571865Z"
        },
        "trusted": true,
        "id": "Ogfi5T0ehvAH",
        "outputId": "b6b77b5e-385d-4025-d881-033a7ef5faae"
      },
      "source": [
        "score = cv_rmse(cat, x_train, y_train)\n",
        "print(\"rf: {:.4f} ({:.4f})\".format(score.mean(), score.std()))\n",
        "scores['cat'] = (score.mean(), score.std())"
      ],
      "execution_count": null,
      "outputs": [
        {
          "output_type": "error",
          "ename": "NameError",
          "evalue": "name 'cv_rmse' is not defined",
          "traceback": [
            "\u001b[0;31m---------------------------------------------------------------------------\u001b[0m",
            "\u001b[0;31mNameError\u001b[0m                                 Traceback (most recent call last)",
            "\u001b[0;32m<ipython-input-1-fb130b4a4001>\u001b[0m in \u001b[0;36m<module>\u001b[0;34m\u001b[0m\n\u001b[0;32m----> 1\u001b[0;31m \u001b[0mscore\u001b[0m \u001b[0;34m=\u001b[0m \u001b[0mcv_rmse\u001b[0m\u001b[0;34m(\u001b[0m\u001b[0mcat\u001b[0m\u001b[0;34m,\u001b[0m \u001b[0mx_train\u001b[0m\u001b[0;34m,\u001b[0m \u001b[0my_train\u001b[0m\u001b[0;34m)\u001b[0m\u001b[0;34m\u001b[0m\u001b[0;34m\u001b[0m\u001b[0m\n\u001b[0m\u001b[1;32m      2\u001b[0m \u001b[0mprint\u001b[0m\u001b[0;34m(\u001b[0m\u001b[0;34m\"rf: {:.4f} ({:.4f})\"\u001b[0m\u001b[0;34m.\u001b[0m\u001b[0mformat\u001b[0m\u001b[0;34m(\u001b[0m\u001b[0mscore\u001b[0m\u001b[0;34m.\u001b[0m\u001b[0mmean\u001b[0m\u001b[0;34m(\u001b[0m\u001b[0;34m)\u001b[0m\u001b[0;34m,\u001b[0m \u001b[0mscore\u001b[0m\u001b[0;34m.\u001b[0m\u001b[0mstd\u001b[0m\u001b[0;34m(\u001b[0m\u001b[0;34m)\u001b[0m\u001b[0;34m)\u001b[0m\u001b[0;34m)\u001b[0m\u001b[0;34m\u001b[0m\u001b[0;34m\u001b[0m\u001b[0m\n\u001b[1;32m      3\u001b[0m \u001b[0mscores\u001b[0m\u001b[0;34m[\u001b[0m\u001b[0;34m'cat'\u001b[0m\u001b[0;34m]\u001b[0m \u001b[0;34m=\u001b[0m \u001b[0;34m(\u001b[0m\u001b[0mscore\u001b[0m\u001b[0;34m.\u001b[0m\u001b[0mmean\u001b[0m\u001b[0;34m(\u001b[0m\u001b[0;34m)\u001b[0m\u001b[0;34m,\u001b[0m \u001b[0mscore\u001b[0m\u001b[0;34m.\u001b[0m\u001b[0mstd\u001b[0m\u001b[0;34m(\u001b[0m\u001b[0;34m)\u001b[0m\u001b[0;34m)\u001b[0m\u001b[0;34m\u001b[0m\u001b[0;34m\u001b[0m\u001b[0m\n",
            "\u001b[0;31mNameError\u001b[0m: name 'cv_rmse' is not defined"
          ]
        }
      ]
    },
    {
      "cell_type": "code",
      "metadata": {
        "id": "f3F89DP9hvAH"
      },
      "source": [
        "def train(clf, x_train, y_train, x_test, params):\n",
        "    skf = StratifiedKFold(n_splits=10, shuffle=True, random_state=42)\n",
        "    preds_val = np.zeros((len(x_train),))\n",
        "    preds_test = np.zeros((len(x_test), skf.n_splits))\n",
        "    \n",
        "    for i, (train_index, test_index) in enumerate(skf.split(x_train, y_train)):\n",
        "        X_train, X_valid = x_train.iloc[train_index], x_train.iloc[test_index]\n",
        "        Y_train = y_train.iloc[train_index]\n",
        "            \n",
        "        clf.fit(X_train, Y_train)\n",
        "        \n",
        "        preds_val[test_index] = clf.predict(X_valid).reshape(-1, 1)\n",
        "        preds_test[:,i] = clf.predict(x_test) / skf.n_splits\n",
        "    preds_test_mean = np.mean(preds_test, axis=1).reshape(-1, 1)\n",
        "\n",
        "    \n",
        "    return preds_val, preds_test_mean"
      ],
      "execution_count": null,
      "outputs": []
    },
    {
      "cell_type": "code",
      "metadata": {
        "id": "7QW-5CNQhvAH"
      },
      "source": [
        ""
      ],
      "execution_count": null,
      "outputs": []
    },
    {
      "cell_type": "markdown",
      "metadata": {
        "id": "m14bwf8rhvAH"
      },
      "source": [
        "# optuna"
      ]
    },
    {
      "cell_type": "code",
      "metadata": {
        "execution": {
          "iopub.status.busy": "2021-06-03T05:00:20.523880Z",
          "iopub.execute_input": "2021-06-03T05:00:20.524200Z",
          "iopub.status.idle": "2021-06-03T05:00:20.536052Z",
          "shell.execute_reply.started": "2021-06-03T05:00:20.524168Z",
          "shell.execute_reply": "2021-06-03T05:00:20.535016Z"
        },
        "trusted": true,
        "id": "irGpZWrwhvAI"
      },
      "source": [
        "import optuna\n",
        "from lightgbm import LGBMClassifier\n",
        "from optuna import Trial\n",
        "from optuna.samplers import TPESampler\n",
        "from sklearn.metrics import mean_squared_error\n",
        "from optuna.integration import SkoptSampler\n",
        "\n",
        "\n",
        "def objective(trial: Trial) -> float:\n",
        "    params_cat = {\n",
        "        \"random_state\": 42,\n",
        "        \"learning_rate\": trial.suggest_float('learning_rate', 0.0001, 0.2),\n",
        "        'min_data_in_leaf':trial.suggest_int('min_data_in_leaf', 100, 1000),\n",
        "        \"depth\": trial.suggest_int(\"depth\", 1, 10),\n",
        "    }\n",
        "    skf = StratifiedKFold(n_splits=5, shuffle=True, random_state=40)\n",
        "    cat_features = x_train.select_dtypes('object').columns\n",
        "    preds_cat = np.zeros((len(x_test)))\n",
        "    \n",
        "    for i, (train_index, valid_index) in enumerate(skf.split(x_train, y_train)):\n",
        "        X_train, X_valid = x_train.iloc[train_index], x_train.iloc[valid_index]\n",
        "        Y_train, Y_valid = y_train.iloc[train_index], y_train.iloc[valid_index]\n",
        "    \n",
        "        model=catboost.CatBoostRegressor(n_estimators=3000, eval_metric='RMSE', use_best_model=True, **params_cat)\n",
        "    \n",
        "        model.fit(X_train, Y_train, cat_features=cat_features, eval_set=[(X_train, Y_train), (X_valid, Y_valid)], verbose=100, early_stopping_rounds=50)\n",
        "    \n",
        "        preds_cat = model.predict(X_valid) / skf.n_splits\n",
        "        RMSE=np.sqrt(mean_squared_error(Y_valid, preds_cat))\n",
        "        print(RMSE)\n",
        "        \n",
        "    return RMSE"
      ],
      "execution_count": null,
      "outputs": []
    },
    {
      "cell_type": "code",
      "metadata": {
        "execution": {
          "iopub.status.busy": "2021-06-03T05:00:27.185174Z",
          "iopub.execute_input": "2021-06-03T05:00:27.185502Z",
          "iopub.status.idle": "2021-06-03T05:15:48.089576Z",
          "shell.execute_reply.started": "2021-06-03T05:00:27.185471Z",
          "shell.execute_reply": "2021-06-03T05:15:48.088491Z"
        },
        "trusted": true,
        "id": "2RGR-MDRhvAI",
        "outputId": "460e3a59-cdfb-402f-fb1f-8b9f8f5c317a"
      },
      "source": [
        "sampler = optuna.samplers.CmaEsSampler()\n",
        "study = optuna.create_study(\n",
        "    study_name=\"cat_parameter_opt\",\n",
        "    direction=\"minimize\"\n",
        ")\n",
        "study.optimize(objective, n_trials=10)\n",
        "print(\"Best Score:\", study.best_value)\n",
        "print(\"Best trial:\", study.best_trial.params)"
      ],
      "execution_count": null,
      "outputs": [
        {
          "output_type": "stream",
          "text": [
            "\u001b[32m[I 2021-06-03 05:00:27,188]\u001b[0m A new study created in memory with name: cat_parameter_opt\u001b[0m\n",
            "/opt/conda/lib/python3.7/site-packages/sklearn/model_selection/_split.py:668: UserWarning: The least populated class in y has only 1 members, which is less than n_splits=5.\n",
            "  % (min_groups, self.n_splits)), UserWarning)\n"
          ],
          "name": "stderr"
        },
        {
          "output_type": "stream",
          "text": [
            "0:\tlearn: 79004.9027219\ttest: 79004.9027219\ttest1: 74893.5815800\tbest: 74893.5815800 (0)\ttotal: 12ms\tremaining: 35.8s\n",
            "100:\tlearn: 32030.6228909\ttest: 31746.0160252\ttest1: 35104.2411873\tbest: 35104.2411873 (100)\ttotal: 851ms\tremaining: 24.4s\n",
            "200:\tlearn: 24836.0376184\ttest: 24584.6294379\ttest1: 31939.7525476\tbest: 31939.7525476 (200)\ttotal: 1.65s\tremaining: 23s\n",
            "Stopped by overfitting detector  (50 iterations wait)\n",
            "\n",
            "bestTest = 31872.12614\n",
            "bestIteration = 202\n",
            "\n",
            "Shrink model to first 203 iterations.\n",
            "159036.95382395724\n",
            "0:\tlearn: 79178.7848723\ttest: 79178.7848723\ttest1: 73795.6993894\tbest: 73795.6993894 (0)\ttotal: 9.29ms\tremaining: 27.9s\n",
            "100:\tlearn: 32643.6605832\ttest: 32476.9705540\ttest1: 36262.5299487\tbest: 36262.5299487 (100)\ttotal: 813ms\tremaining: 23.3s\n",
            "200:\tlearn: 25740.8747034\ttest: 25496.4483573\ttest1: 31678.9135106\tbest: 31653.6178772 (199)\ttotal: 1.61s\tremaining: 22.5s\n",
            "300:\tlearn: 22775.7383317\ttest: 22576.4367535\ttest1: 30745.6629684\tbest: 30745.6629684 (300)\ttotal: 2.41s\tremaining: 21.6s\n",
            "400:\tlearn: 21087.2622612\ttest: 21002.2142616\ttest1: 30090.1068235\tbest: 30003.6259203 (370)\ttotal: 3.43s\tremaining: 22.2s\n",
            "500:\tlearn: 20092.7999570\ttest: 20143.3271348\ttest1: 29607.6750779\tbest: 29607.6750779 (500)\ttotal: 4.35s\tremaining: 21.7s\n",
            "600:\tlearn: 19330.5634744\ttest: 19508.0196384\ttest1: 28917.4168054\tbest: 28901.8815454 (598)\ttotal: 5.21s\tremaining: 20.8s\n",
            "700:\tlearn: 18766.7080424\ttest: 19053.2552033\ttest1: 28551.9203834\tbest: 28551.9203834 (700)\ttotal: 6.08s\tremaining: 19.9s\n",
            "800:\tlearn: 18233.2356273\ttest: 18596.9935624\ttest1: 28358.3851811\tbest: 28358.3851811 (800)\ttotal: 6.93s\tremaining: 19s\n",
            "900:\tlearn: 17811.1532036\ttest: 18236.5500768\ttest1: 28033.9975530\tbest: 28033.9975530 (900)\ttotal: 7.77s\tremaining: 18.1s\n",
            "1000:\tlearn: 17233.0944924\ttest: 17738.3403958\ttest1: 27744.8813481\tbest: 27730.0434041 (992)\ttotal: 8.59s\tremaining: 17.1s\n",
            "1100:\tlearn: 16837.4163996\ttest: 17401.3359488\ttest1: 27638.2301140\tbest: 27634.6426387 (1089)\ttotal: 9.39s\tremaining: 16.2s\n",
            "1200:\tlearn: 16409.5057476\ttest: 17045.9544562\ttest1: 27613.9126063\tbest: 27563.4953564 (1168)\ttotal: 10.2s\tremaining: 15.3s\n",
            "Stopped by overfitting detector  (50 iterations wait)\n",
            "\n",
            "bestTest = 27563.49536\n",
            "bestIteration = 1168\n",
            "\n",
            "Shrink model to first 1169 iterations.\n",
            "155707.81720589803\n",
            "0:\tlearn: 75969.4944612\ttest: 75969.4944612\ttest1: 86305.4453415\tbest: 86305.4453415 (0)\ttotal: 9.51ms\tremaining: 28.5s\n",
            "100:\tlearn: 32945.1151022\ttest: 32749.4399325\ttest1: 37059.6871281\tbest: 37059.6871281 (100)\ttotal: 823ms\tremaining: 23.6s\n",
            "200:\tlearn: 24546.7002014\ttest: 24393.1332634\ttest1: 29794.6054748\tbest: 29794.6054748 (200)\ttotal: 1.62s\tremaining: 22.5s\n",
            "300:\tlearn: 21624.8710616\ttest: 21513.5672761\ttest1: 28171.2087890\tbest: 28171.2087890 (300)\ttotal: 2.44s\tremaining: 21.9s\n",
            "400:\tlearn: 19853.8418839\ttest: 19770.0104692\ttest1: 27688.4924461\tbest: 27553.3831340 (383)\ttotal: 3.25s\tremaining: 21.1s\n",
            "Stopped by overfitting detector  (50 iterations wait)\n",
            "\n",
            "bestTest = 27553.38313\n",
            "bestIteration = 383\n",
            "\n",
            "Shrink model to first 384 iterations.\n",
            "167101.83693860093\n",
            "0:\tlearn: 79278.6576936\ttest: 79278.6576936\ttest1: 73575.7845975\tbest: 73575.7845975 (0)\ttotal: 21.4ms\tremaining: 1m 4s\n",
            "100:\tlearn: 33396.9203003\ttest: 33261.9967158\ttest1: 28451.0090349\tbest: 28451.0090349 (100)\ttotal: 912ms\tremaining: 26.2s\n",
            "200:\tlearn: 25421.9301394\ttest: 25267.1720494\ttest1: 24094.9659226\tbest: 24082.5607369 (199)\ttotal: 1.71s\tremaining: 23.8s\n",
            "300:\tlearn: 22380.6488666\ttest: 22283.0575332\ttest1: 22433.5403575\tbest: 22433.5403575 (300)\ttotal: 2.51s\tremaining: 22.5s\n",
            "400:\tlearn: 20955.8026010\ttest: 20895.1307557\ttest1: 21751.2385460\tbest: 21751.1932325 (398)\ttotal: 3.31s\tremaining: 21.5s\n",
            "500:\tlearn: 20093.2825984\ttest: 20120.9775762\ttest1: 21560.6376394\tbest: 21515.1344606 (491)\ttotal: 4.12s\tremaining: 20.5s\n",
            "600:\tlearn: 19390.2146597\ttest: 19478.8812517\ttest1: 21341.6438331\tbest: 21340.6944896 (598)\ttotal: 4.92s\tremaining: 19.6s\n",
            "700:\tlearn: 18786.1040521\ttest: 18941.2207458\ttest1: 21117.2093267\tbest: 21117.2093267 (700)\ttotal: 5.72s\tremaining: 18.8s\n",
            "800:\tlearn: 18320.4368643\ttest: 18526.8959154\ttest1: 20943.6621757\tbest: 20943.6621757 (800)\ttotal: 6.54s\tremaining: 17.9s\n",
            "900:\tlearn: 17870.7729720\ttest: 18130.2182920\ttest1: 20734.0678080\tbest: 20733.4395302 (897)\ttotal: 7.39s\tremaining: 17.2s\n",
            "1000:\tlearn: 17529.6002246\ttest: 17889.3163265\ttest1: 20624.1310768\tbest: 20624.1310768 (1000)\ttotal: 8.21s\tremaining: 16.4s\n",
            "Stopped by overfitting detector  (50 iterations wait)\n",
            "\n",
            "bestTest = 20596.71029\n",
            "bestIteration = 1016\n",
            "\n",
            "Shrink model to first 1017 iterations.\n",
            "154813.08573489997\n",
            "0:\tlearn: 77371.2921887\ttest: 77371.2921887\ttest1: 81783.6291632\tbest: 81783.6291632 (0)\ttotal: 9.41ms\tremaining: 28.2s\n",
            "100:\tlearn: 32258.5134426\ttest: 32217.7064600\ttest1: 39911.8609535\tbest: 39911.8609535 (100)\ttotal: 815ms\tremaining: 23.4s\n",
            "200:\tlearn: 25408.7013467\ttest: 25220.5313784\ttest1: 33708.9487465\tbest: 33708.9487465 (200)\ttotal: 1.61s\tremaining: 22.4s\n",
            "300:\tlearn: 22320.2788100\ttest: 22111.7899286\ttest1: 31501.3113256\tbest: 31501.3113256 (300)\ttotal: 2.69s\tremaining: 24.2s\n",
            "400:\tlearn: 20672.6160837\ttest: 20402.1963920\ttest1: 30775.6235228\tbest: 30771.3900763 (397)\ttotal: 3.48s\tremaining: 22.6s\n",
            "500:\tlearn: 19461.9967167\ttest: 19201.4404782\ttest1: 29971.7515677\tbest: 29971.7515677 (500)\ttotal: 4.28s\tremaining: 21.3s\n",
            "600:\tlearn: 18628.1518042\ttest: 18428.1098677\ttest1: 29705.0102614\tbest: 29705.0102614 (600)\ttotal: 5.17s\tremaining: 20.6s\n",
            "700:\tlearn: 17957.2460543\ttest: 17813.5771356\ttest1: 29621.9338802\tbest: 29621.9338802 (700)\ttotal: 6.41s\tremaining: 21s\n",
            "800:\tlearn: 17412.5014045\ttest: 17366.9520794\ttest1: 29382.1671974\tbest: 29382.1671974 (800)\ttotal: 7.22s\tremaining: 19.8s\n",
            "900:\tlearn: 16890.0988558\ttest: 16913.4723797\ttest1: 29240.2443130\tbest: 29230.8453997 (895)\ttotal: 8.05s\tremaining: 18.8s\n",
            "1000:\tlearn: 16382.1704700\ttest: 16475.2962281\ttest1: 29113.2633902\tbest: 29112.2154048 (998)\ttotal: 8.87s\tremaining: 17.7s\n",
            "1100:\tlearn: 15961.1677649\ttest: 16119.7361933\ttest1: 29028.4392789\tbest: 29028.4392789 (1100)\ttotal: 9.67s\tremaining: 16.7s\n",
            "1200:\tlearn: 15552.5166991\ttest: 15778.1464406\ttest1: 28947.3734786\tbest: 28926.6626360 (1191)\ttotal: 10.5s\tremaining: 15.7s\n",
            "1300:\tlearn: 15201.0637237\ttest: 15481.1896055\ttest1: 28881.0991911\tbest: 28876.9405880 (1290)\ttotal: 11.3s\tremaining: 14.7s\n",
            "1400:\tlearn: 14823.7894054\ttest: 15168.1538433\ttest1: 28818.0672264\tbest: 28814.3541459 (1393)\ttotal: 12.1s\tremaining: 13.8s\n",
            "1500:\tlearn: 14510.4548116\ttest: 14903.8729094\ttest1: 28732.1962389\tbest: 28732.1962389 (1500)\ttotal: 13.2s\tremaining: 13.2s\n",
            "1600:\tlearn: 14190.0293865\ttest: 14632.6891388\ttest1: 28659.0110296\tbest: 28648.9750151 (1590)\ttotal: 14s\tremaining: 12.2s\n",
            "1700:\tlearn: 13887.6485256\ttest: 14376.2961199\ttest1: 28588.0400359\tbest: 28579.2537533 (1687)\ttotal: 14.8s\tremaining: 11.3s\n",
            "1800:\tlearn: 13586.7058063\ttest: 14118.1049429\ttest1: 28524.8026767\tbest: 28523.8831550 (1783)\ttotal: 15.6s\tremaining: 10.4s\n",
            "1900:\tlearn: 13292.1655021\ttest: 13885.9635446\ttest1: 28451.6053248\tbest: 28450.5438725 (1899)\ttotal: 16.4s\tremaining: 9.48s\n"
          ],
          "name": "stdout"
        },
        {
          "output_type": "stream",
          "text": [
            "\u001b[32m[I 2021-06-03 05:01:09,771]\u001b[0m Trial 0 finished with value: 157746.46249586265 and parameters: {'learning_rate': 0.027068617020839916, 'min_data_in_leaf': 482, 'depth': 3}. Best is trial 0 with value: 157746.46249586265.\u001b[0m\n"
          ],
          "name": "stderr"
        },
        {
          "output_type": "stream",
          "text": [
            "Stopped by overfitting detector  (50 iterations wait)\n",
            "\n",
            "bestTest = 28439.36043\n",
            "bestIteration = 1906\n",
            "\n",
            "Shrink model to first 1907 iterations.\n",
            "157746.46249586265\n",
            "0:\tlearn: 77125.3949072\ttest: 77125.3949072\ttest1: 73118.1306698\tbest: 73118.1306698 (0)\ttotal: 25.9ms\tremaining: 1m 17s\n"
          ],
          "name": "stdout"
        },
        {
          "output_type": "stream",
          "text": [
            "/opt/conda/lib/python3.7/site-packages/sklearn/model_selection/_split.py:668: UserWarning: The least populated class in y has only 1 members, which is less than n_splits=5.\n",
            "  % (min_groups, self.n_splits)), UserWarning)\n"
          ],
          "name": "stderr"
        },
        {
          "output_type": "stream",
          "text": [
            "100:\tlearn: 19881.9018253\ttest: 20117.8890732\ttest1: 32796.3930582\tbest: 32533.4170234 (76)\ttotal: 2.52s\tremaining: 1m 12s\n",
            "Stopped by overfitting detector  (50 iterations wait)\n",
            "\n",
            "bestTest = 32533.41702\n",
            "bestIteration = 76\n",
            "\n",
            "Shrink model to first 77 iterations.\n",
            "158993.3394838509\n",
            "0:\tlearn: 77639.9522165\ttest: 77639.9522165\ttest1: 72420.4562232\tbest: 72420.4562232 (0)\ttotal: 26.3ms\tremaining: 1m 18s\n",
            "100:\tlearn: 19963.0885915\ttest: 20047.9117954\ttest1: 27934.7623694\tbest: 27934.7623694 (100)\ttotal: 2.49s\tremaining: 1m 11s\n",
            "200:\tlearn: 15779.6414475\ttest: 16337.9318348\ttest1: 26253.4864053\tbest: 26250.4810646 (199)\ttotal: 5.31s\tremaining: 1m 13s\n",
            "300:\tlearn: 13644.5350270\ttest: 14733.5355418\ttest1: 25681.6402498\tbest: 25680.9161937 (299)\ttotal: 8.06s\tremaining: 1m 12s\n",
            "400:\tlearn: 11944.5370689\ttest: 13346.2125837\ttest1: 25304.6718966\tbest: 25304.6718966 (400)\ttotal: 10.8s\tremaining: 1m 9s\n",
            "500:\tlearn: 10617.8586566\ttest: 12315.3596137\ttest1: 25099.9470932\tbest: 25091.8968788 (482)\ttotal: 13.5s\tremaining: 1m 7s\n",
            "600:\tlearn: 9424.0098023\ttest: 11390.0312662\ttest1: 24973.5280091\tbest: 24968.3710936 (599)\ttotal: 16.6s\tremaining: 1m 6s\n",
            "Stopped by overfitting detector  (50 iterations wait)\n",
            "\n",
            "bestTest = 24908.51509\n",
            "bestIteration = 615\n",
            "\n",
            "Shrink model to first 616 iterations.\n",
            "155964.57976401894\n",
            "0:\tlearn: 74166.0328860\ttest: 74159.1500074\ttest1: 84568.5569920\tbest: 84568.5569920 (0)\ttotal: 26.4ms\tremaining: 1m 19s\n",
            "100:\tlearn: 19243.3697307\ttest: 19562.6266726\ttest1: 29602.5587362\tbest: 29602.5587362 (100)\ttotal: 2.59s\tremaining: 1m 14s\n",
            "200:\tlearn: 14469.2472728\ttest: 14979.0719119\ttest1: 27673.5674177\tbest: 27641.4366769 (193)\ttotal: 5.26s\tremaining: 1m 13s\n",
            "300:\tlearn: 12197.5753367\ttest: 12950.4538508\ttest1: 27309.6517726\tbest: 27309.6517726 (300)\ttotal: 8.26s\tremaining: 1m 14s\n",
            "Stopped by overfitting detector  (50 iterations wait)\n",
            "\n",
            "bestTest = 27274.89065\n",
            "bestIteration = 312\n",
            "\n",
            "Shrink model to first 313 iterations.\n",
            "167296.67811298545\n",
            "0:\tlearn: 77801.5164918\ttest: 77801.5164918\ttest1: 72093.3577920\tbest: 72093.3577920 (0)\ttotal: 25.1ms\tremaining: 1m 15s\n",
            "100:\tlearn: 19840.1887483\ttest: 20009.2873540\ttest1: 20764.3829427\tbest: 20764.3829427 (100)\ttotal: 2.53s\tremaining: 1m 12s\n",
            "200:\tlearn: 15931.1542961\ttest: 16499.1585617\ttest1: 20250.1876751\tbest: 20153.4561050 (159)\ttotal: 5.17s\tremaining: 1m 12s\n",
            "Stopped by overfitting detector  (50 iterations wait)\n",
            "\n",
            "bestTest = 20153.4561\n",
            "bestIteration = 159\n",
            "\n",
            "Shrink model to first 160 iterations.\n",
            "154936.05737942772\n",
            "0:\tlearn: 75674.2659073\ttest: 75674.2659073\ttest1: 80039.0241376\tbest: 80039.0241376 (0)\ttotal: 26.4ms\tremaining: 1m 19s\n",
            "100:\tlearn: 20310.7226394\ttest: 20666.5235359\ttest1: 32016.3204822\tbest: 32016.3204822 (100)\ttotal: 2.78s\tremaining: 1m 19s\n",
            "200:\tlearn: 15269.5936468\ttest: 16048.6072307\ttest1: 28783.8402632\tbest: 28783.8402632 (200)\ttotal: 5.36s\tremaining: 1m 14s\n",
            "300:\tlearn: 13022.8667425\ttest: 14219.0389280\ttest1: 28021.4329056\tbest: 28021.4329056 (300)\ttotal: 8.02s\tremaining: 1m 11s\n",
            "400:\tlearn: 11189.5266612\ttest: 12715.5768400\ttest1: 27843.3871168\tbest: 27808.4100864 (390)\ttotal: 10.7s\tremaining: 1m 9s\n"
          ],
          "name": "stdout"
        },
        {
          "output_type": "stream",
          "text": [
            "\u001b[32m[I 2021-06-03 05:02:01,837]\u001b[0m Trial 1 finished with value: 157772.29710010331 and parameters: {'learning_rate': 0.06110434378301434, 'min_data_in_leaf': 182, 'depth': 6}. Best is trial 0 with value: 157746.46249586265.\u001b[0m\n"
          ],
          "name": "stderr"
        },
        {
          "output_type": "stream",
          "text": [
            "500:\tlearn: 9869.9524624\ttest: 11725.6290597\ttest1: 27692.3427654\tbest: 27645.2423813 (454)\ttotal: 13.8s\tremaining: 1m 8s\n",
            "Stopped by overfitting detector  (50 iterations wait)\n",
            "\n",
            "bestTest = 27645.24238\n",
            "bestIteration = 454\n",
            "\n",
            "Shrink model to first 455 iterations.\n",
            "157772.29710010331\n"
          ],
          "name": "stdout"
        },
        {
          "output_type": "stream",
          "text": [
            "/opt/conda/lib/python3.7/site-packages/sklearn/model_selection/_split.py:668: UserWarning: The least populated class in y has only 1 members, which is less than n_splits=5.\n",
            "  % (min_groups, self.n_splits)), UserWarning)\n"
          ],
          "name": "stderr"
        },
        {
          "output_type": "stream",
          "text": [
            "0:\tlearn: 77365.0136339\ttest: 77366.3809632\ttest1: 73316.1175203\tbest: 73316.1175203 (0)\ttotal: 73.3ms\tremaining: 3m 39s\n",
            "100:\tlearn: 18005.8291362\ttest: 18884.4919380\ttest1: 31766.2899228\tbest: 31766.2899228 (100)\ttotal: 6.83s\tremaining: 3m 15s\n",
            "Stopped by overfitting detector  (50 iterations wait)\n",
            "\n",
            "bestTest = 31400.21287\n",
            "bestIteration = 135\n",
            "\n",
            "Shrink model to first 136 iterations.\n",
            "158828.85104651644\n",
            "0:\tlearn: 77792.2401590\ttest: 77792.2401590\ttest1: 72518.2948763\tbest: 72518.2948763 (0)\ttotal: 53.7ms\tremaining: 2m 40s\n",
            "100:\tlearn: 18518.1217204\ttest: 19337.3336093\ttest1: 30254.2008536\tbest: 30254.2008536 (100)\ttotal: 6.25s\tremaining: 2m 59s\n",
            "200:\tlearn: 13336.6517634\ttest: 15010.4976302\ttest1: 28480.8530818\tbest: 28480.8530818 (200)\ttotal: 13.3s\tremaining: 3m 5s\n",
            "300:\tlearn: 10548.5877655\ttest: 12922.2045321\ttest1: 27765.7403075\tbest: 27765.7403075 (300)\ttotal: 20.7s\tremaining: 3m 5s\n",
            "400:\tlearn: 8669.5632524\ttest: 11503.4722981\ttest1: 27564.9701890\tbest: 27563.2492731 (399)\ttotal: 28.2s\tremaining: 3m 2s\n",
            "500:\tlearn: 7132.6856896\ttest: 10383.6981073\ttest1: 27448.1883451\tbest: 27422.2966448 (489)\ttotal: 35.7s\tremaining: 2m 57s\n",
            "600:\tlearn: 6003.7844855\ttest: 9600.9732997\ttest1: 27365.8370325\tbest: 27352.8832552 (560)\ttotal: 43.2s\tremaining: 2m 52s\n",
            "Stopped by overfitting detector  (50 iterations wait)\n",
            "\n",
            "bestTest = 27352.88326\n",
            "bestIteration = 560\n",
            "\n",
            "Shrink model to first 561 iterations.\n",
            "156101.0909495978\n",
            "0:\tlearn: 74354.8071812\ttest: 74349.1915821\ttest1: 84942.5417533\tbest: 84942.5417533 (0)\ttotal: 56.3ms\tremaining: 2m 48s\n",
            "100:\tlearn: 18529.1204045\ttest: 19438.0225442\ttest1: 30617.8169311\tbest: 30617.8169311 (100)\ttotal: 5.79s\tremaining: 2m 46s\n",
            "200:\tlearn: 13115.9606953\ttest: 14277.3364402\ttest1: 28179.2155478\tbest: 28179.2155478 (200)\ttotal: 13s\tremaining: 3m 1s\n",
            "300:\tlearn: 10032.1841909\ttest: 11545.0939519\ttest1: 27790.9642316\tbest: 27790.9642316 (300)\ttotal: 20.2s\tremaining: 3m\n",
            "400:\tlearn: 8120.8327568\ttest: 10151.4933576\ttest1: 27623.2931347\tbest: 27620.6343735 (399)\ttotal: 27.2s\tremaining: 2m 56s\n",
            "500:\tlearn: 6560.1929883\ttest: 8995.0593008\ttest1: 27523.7764556\tbest: 27518.6615329 (458)\ttotal: 34.4s\tremaining: 2m 51s\n",
            "Stopped by overfitting detector  (50 iterations wait)\n",
            "\n",
            "bestTest = 27489.98098\n",
            "bestIteration = 549\n",
            "\n",
            "Shrink model to first 550 iterations.\n",
            "167370.37306782085\n",
            "0:\tlearn: 78024.2159764\ttest: 78024.2159764\ttest1: 72344.8650293\tbest: 72344.8650293 (0)\ttotal: 51.5ms\tremaining: 2m 34s\n",
            "100:\tlearn: 19084.7388821\ttest: 19660.3303513\ttest1: 22403.6188656\tbest: 22403.6188656 (100)\ttotal: 6.68s\tremaining: 3m 11s\n",
            "200:\tlearn: 13446.2008978\ttest: 14972.5437754\ttest1: 20959.6493465\tbest: 20959.3999599 (199)\ttotal: 13.6s\tremaining: 3m 8s\n",
            "300:\tlearn: 10923.1371307\ttest: 13072.4229587\ttest1: 20672.6319859\tbest: 20672.6319859 (300)\ttotal: 20.9s\tremaining: 3m 7s\n",
            "400:\tlearn: 8962.2978552\ttest: 11625.0845323\ttest1: 20446.2875568\tbest: 20426.0004200 (385)\ttotal: 28.1s\tremaining: 3m 1s\n",
            "500:\tlearn: 7471.0492245\ttest: 10570.0589487\ttest1: 20262.6943245\tbest: 20256.9323469 (499)\ttotal: 35.8s\tremaining: 2m 58s\n",
            "600:\tlearn: 6284.4840537\ttest: 9780.8640427\ttest1: 20162.2333253\tbest: 20160.1582464 (596)\ttotal: 43.4s\tremaining: 2m 53s\n",
            "Stopped by overfitting detector  (50 iterations wait)\n",
            "\n",
            "bestTest = 20155.49791\n",
            "bestIteration = 606\n",
            "\n",
            "Shrink model to first 607 iterations.\n",
            "155138.3353877215\n",
            "0:\tlearn: 75899.4462799\ttest: 75858.4182233\ttest1: 80550.0241892\tbest: 80550.0241892 (0)\ttotal: 54.4ms\tremaining: 2m 43s\n",
            "100:\tlearn: 18865.0064219\ttest: 19620.0012587\ttest1: 31932.5000838\tbest: 31932.5000838 (100)\ttotal: 6.66s\tremaining: 3m 11s\n",
            "200:\tlearn: 13400.1892924\ttest: 14840.7761267\ttest1: 29190.2709768\tbest: 29190.2709768 (200)\ttotal: 12.6s\tremaining: 2m 55s\n",
            "300:\tlearn: 10612.5409509\ttest: 12807.2409961\ttest1: 28628.7211062\tbest: 28628.7211062 (300)\ttotal: 19.9s\tremaining: 2m 58s\n",
            "400:\tlearn: 8851.3862483\ttest: 11524.8892800\ttest1: 28437.1226448\tbest: 28418.3807227 (395)\ttotal: 27.8s\tremaining: 2m 59s\n",
            "500:\tlearn: 7121.7082027\ttest: 10280.1126258\ttest1: 28178.8671806\tbest: 28178.8671806 (500)\ttotal: 35s\tremaining: 2m 54s\n",
            "600:\tlearn: 5951.7901092\ttest: 9575.9249530\ttest1: 28156.1777104\tbest: 28132.1191816 (571)\ttotal: 42.4s\tremaining: 2m 49s\n"
          ],
          "name": "stdout"
        },
        {
          "output_type": "stream",
          "text": [
            "\u001b[32m[I 2021-06-03 05:05:12,513]\u001b[0m Trial 2 finished with value: 157736.09363865963 and parameters: {'learning_rate': 0.05658521655752059, 'min_data_in_leaf': 572, 'depth': 8}. Best is trial 2 with value: 157736.09363865963.\u001b[0m\n"
          ],
          "name": "stderr"
        },
        {
          "output_type": "stream",
          "text": [
            "Stopped by overfitting detector  (50 iterations wait)\n",
            "\n",
            "bestTest = 28132.11918\n",
            "bestIteration = 571\n",
            "\n",
            "Shrink model to first 572 iterations.\n",
            "157736.09363865963\n",
            "0:\tlearn: 77428.6416291\ttest: 77428.6416291\ttest1: 73300.5156801\tbest: 73300.5156801 (0)\ttotal: 14.2ms\tremaining: 42.4s\n"
          ],
          "name": "stdout"
        },
        {
          "output_type": "stream",
          "text": [
            "/opt/conda/lib/python3.7/site-packages/sklearn/model_selection/_split.py:668: UserWarning: The least populated class in y has only 1 members, which is less than n_splits=5.\n",
            "  % (min_groups, self.n_splits)), UserWarning)\n"
          ],
          "name": "stderr"
        },
        {
          "output_type": "stream",
          "text": [
            "100:\tlearn: 22423.5870615\ttest: 22442.6229636\ttest1: 32907.1928289\tbest: 32907.1928289 (100)\ttotal: 1.23s\tremaining: 35.2s\n",
            "Stopped by overfitting detector  (50 iterations wait)\n",
            "\n",
            "bestTest = 32727.45737\n",
            "bestIteration = 104\n",
            "\n",
            "Shrink model to first 105 iterations.\n",
            "159022.02275463927\n",
            "0:\tlearn: 77655.1591930\ttest: 77655.1591930\ttest1: 72436.7956485\tbest: 72436.7956485 (0)\ttotal: 13.5ms\tremaining: 40.4s\n",
            "100:\tlearn: 22720.7246954\ttest: 22493.2877578\ttest1: 28474.1161232\tbest: 28474.1161232 (100)\ttotal: 1.23s\tremaining: 35.3s\n",
            "200:\tlearn: 18829.1922223\ttest: 18762.7665589\ttest1: 26687.5346083\tbest: 26687.5346083 (200)\ttotal: 2.47s\tremaining: 34.4s\n",
            "300:\tlearn: 16946.0563975\ttest: 17190.4859317\ttest1: 26123.0633545\tbest: 26108.0565633 (293)\ttotal: 3.74s\tremaining: 33.5s\n",
            "Stopped by overfitting detector  (50 iterations wait)\n",
            "\n",
            "bestTest = 26007.76101\n",
            "bestIteration = 327\n",
            "\n",
            "Shrink model to first 328 iterations.\n",
            "155913.23379243587\n",
            "0:\tlearn: 74409.7428839\ttest: 74409.7428839\ttest1: 84635.7432673\tbest: 84635.7432673 (0)\ttotal: 13.5ms\tremaining: 40.6s\n",
            "100:\tlearn: 21941.7651737\ttest: 21805.4527156\ttest1: 29541.2159422\tbest: 29541.2159422 (100)\ttotal: 1.26s\tremaining: 36.3s\n",
            "200:\tlearn: 17586.6171826\ttest: 17573.1146807\ttest1: 27850.2518082\tbest: 27850.2518082 (200)\ttotal: 2.97s\tremaining: 41.3s\n",
            "300:\tlearn: 15773.2902773\ttest: 15861.2291315\ttest1: 27511.9675024\tbest: 27511.9675024 (300)\ttotal: 4.23s\tremaining: 37.9s\n",
            "400:\tlearn: 14433.1477170\ttest: 14596.4971053\ttest1: 27431.1176500\tbest: 27378.3165699 (360)\ttotal: 5.54s\tremaining: 35.9s\n",
            "Stopped by overfitting detector  (50 iterations wait)\n",
            "\n",
            "bestTest = 27378.31657\n",
            "bestIteration = 360\n",
            "\n",
            "Shrink model to first 361 iterations.\n",
            "166841.321577396\n",
            "0:\tlearn: 77817.2124250\ttest: 77817.2124250\ttest1: 72135.7673213\tbest: 72135.7673213 (0)\ttotal: 13.7ms\tremaining: 41.2s\n",
            "100:\tlearn: 22767.5160129\ttest: 22714.0691660\ttest1: 22613.6546435\tbest: 22613.6546435 (100)\ttotal: 1.25s\tremaining: 35.9s\n",
            "200:\tlearn: 18788.3368007\ttest: 18986.2537414\ttest1: 21001.3724697\tbest: 21000.6201871 (198)\ttotal: 2.48s\tremaining: 34.6s\n",
            "300:\tlearn: 17138.9294835\ttest: 17601.2565489\ttest1: 20559.2822038\tbest: 20559.2822038 (300)\ttotal: 3.74s\tremaining: 33.5s\n",
            "400:\tlearn: 15908.2241522\ttest: 16526.8319345\ttest1: 20302.0891974\tbest: 20302.0891974 (400)\ttotal: 5.38s\tremaining: 34.9s\n",
            "500:\tlearn: 14816.7238212\ttest: 15620.3558129\ttest1: 20050.1191919\tbest: 20033.2767993 (495)\ttotal: 6.63s\tremaining: 33.1s\n",
            "600:\tlearn: 13914.1301607\ttest: 14873.8175025\ttest1: 19984.0854820\tbest: 19936.9863767 (569)\ttotal: 7.88s\tremaining: 31.4s\n",
            "Stopped by overfitting detector  (50 iterations wait)\n",
            "\n",
            "bestTest = 19936.98638\n",
            "bestIteration = 569\n",
            "\n",
            "Shrink model to first 570 iterations.\n",
            "154865.3855155359\n",
            "0:\tlearn: 75901.3700284\ttest: 75901.3700284\ttest1: 80231.9476202\tbest: 80231.9476202 (0)\ttotal: 13.8ms\tremaining: 41.4s\n",
            "100:\tlearn: 22665.9441541\ttest: 22482.9929017\ttest1: 31636.8828409\tbest: 31636.8828409 (100)\ttotal: 1.25s\tremaining: 35.7s\n",
            "200:\tlearn: 18483.1897442\ttest: 18333.1821783\ttest1: 28322.7611038\tbest: 28322.7611038 (200)\ttotal: 2.46s\tremaining: 34.3s\n",
            "300:\tlearn: 16510.3394075\ttest: 16527.2599072\ttest1: 27627.8409782\tbest: 27624.0791243 (294)\ttotal: 3.7s\tremaining: 33.2s\n",
            "400:\tlearn: 15072.6703680\ttest: 15365.4731544\ttest1: 27469.3334258\tbest: 27429.1709022 (390)\ttotal: 4.96s\tremaining: 32.1s\n",
            "500:\tlearn: 13892.2929506\ttest: 14388.3509007\ttest1: 27112.2332505\tbest: 27085.2007690 (496)\ttotal: 6.22s\tremaining: 31s\n",
            "600:\tlearn: 12935.3694046\ttest: 13621.3385458\ttest1: 26971.9898133\tbest: 26971.9898133 (600)\ttotal: 7.77s\tremaining: 31s\n",
            "700:\tlearn: 11899.7100702\ttest: 12794.1470093\ttest1: 26760.9860537\tbest: 26741.6468097 (693)\ttotal: 9.05s\tremaining: 29.7s\n"
          ],
          "name": "stdout"
        },
        {
          "output_type": "stream",
          "text": [
            "\u001b[32m[I 2021-06-03 05:05:44,079]\u001b[0m Trial 3 finished with value: 157564.98059731635 and parameters: {'learning_rate': 0.060291540905741986, 'min_data_in_leaf': 360, 'depth': 4}. Best is trial 3 with value: 157564.98059731635.\u001b[0m\n"
          ],
          "name": "stderr"
        },
        {
          "output_type": "stream",
          "text": [
            "Stopped by overfitting detector  (50 iterations wait)\n",
            "\n",
            "bestTest = 26710.75036\n",
            "bestIteration = 748\n",
            "\n",
            "Shrink model to first 749 iterations.\n",
            "157564.98059731635\n",
            "0:\tlearn: 79657.6029133\ttest: 79657.6029133\ttest1: 75559.7501366\tbest: 75559.7501366 (0)\ttotal: 9.89ms\tremaining: 29.7s\n"
          ],
          "name": "stdout"
        },
        {
          "output_type": "stream",
          "text": [
            "/opt/conda/lib/python3.7/site-packages/sklearn/model_selection/_split.py:668: UserWarning: The least populated class in y has only 1 members, which is less than n_splits=5.\n",
            "  % (min_groups, self.n_splits)), UserWarning)\n"
          ],
          "name": "stderr"
        },
        {
          "output_type": "stream",
          "text": [
            "100:\tlearn: 45098.4374045\ttest: 44987.3448979\ttest1: 42781.5210527\tbest: 42781.5210527 (100)\ttotal: 823ms\tremaining: 23.6s\n",
            "200:\tlearn: 33025.7473366\ttest: 32843.4342456\ttest1: 35106.0466467\tbest: 35106.0466467 (200)\ttotal: 1.63s\tremaining: 22.7s\n",
            "300:\tlearn: 27995.8633335\ttest: 27752.7103582\ttest1: 33166.9749830\tbest: 33159.5639931 (299)\ttotal: 2.43s\tremaining: 21.8s\n",
            "400:\tlearn: 25355.8768556\ttest: 25142.2681571\ttest1: 32409.9042264\tbest: 32324.5862488 (391)\ttotal: 3.24s\tremaining: 21s\n",
            "Stopped by overfitting detector  (50 iterations wait)\n",
            "\n",
            "bestTest = 32217.02251\n",
            "bestIteration = 449\n",
            "\n",
            "Shrink model to first 450 iterations.\n",
            "159074.16452884945\n",
            "0:\tlearn: 79887.5328231\ttest: 79887.5328231\ttest1: 74421.2531866\tbest: 74421.2531866 (0)\ttotal: 9.35ms\tremaining: 28s\n",
            "100:\tlearn: 45078.0740653\ttest: 44965.6445891\ttest1: 45145.8850775\tbest: 45145.8850775 (100)\ttotal: 813ms\tremaining: 23.3s\n",
            "200:\tlearn: 33652.8807816\ttest: 33456.1594032\ttest1: 36652.9029116\tbest: 36652.9029116 (200)\ttotal: 1.61s\tremaining: 22.5s\n",
            "300:\tlearn: 28476.1757050\ttest: 28194.4702492\ttest1: 32338.8993387\tbest: 32338.8993387 (300)\ttotal: 2.48s\tremaining: 22.2s\n",
            "400:\tlearn: 25956.0415063\ttest: 25659.4972623\ttest1: 30786.7624402\tbest: 30785.9001592 (399)\ttotal: 3.42s\tremaining: 22.1s\n",
            "500:\tlearn: 24380.0175074\ttest: 24073.7182103\ttest1: 30011.3563100\tbest: 30002.3821070 (499)\ttotal: 4.33s\tremaining: 21.6s\n",
            "600:\tlearn: 23140.8302217\ttest: 22846.3434000\ttest1: 29669.1404049\tbest: 29661.1995801 (587)\ttotal: 5.12s\tremaining: 20.5s\n",
            "700:\tlearn: 22161.0116841\ttest: 21877.0576832\ttest1: 29280.8615673\tbest: 29280.8615673 (700)\ttotal: 5.93s\tremaining: 19.4s\n",
            "800:\tlearn: 21446.7365218\ttest: 21196.1047263\ttest1: 28928.9377001\tbest: 28910.3436954 (798)\ttotal: 7.25s\tremaining: 19.9s\n",
            "900:\tlearn: 20908.9222170\ttest: 20710.2496457\ttest1: 28698.6539982\tbest: 28690.3555937 (899)\ttotal: 8.07s\tremaining: 18.8s\n",
            "Stopped by overfitting detector  (50 iterations wait)\n",
            "\n",
            "bestTest = 28633.85566\n",
            "bestIteration = 928\n",
            "\n",
            "Shrink model to first 929 iterations.\n",
            "156011.94322224247\n",
            "0:\tlearn: 76644.6347379\ttest: 76644.6347379\ttest1: 87078.6323776\tbest: 87078.6323776 (0)\ttotal: 9.75ms\tremaining: 29.2s\n",
            "100:\tlearn: 44379.6474836\ttest: 44168.9007398\ttest1: 51305.0439280\tbest: 51305.0439280 (100)\ttotal: 827ms\tremaining: 23.7s\n",
            "200:\tlearn: 33907.1025259\ttest: 33728.1692492\ttest1: 39123.7279310\tbest: 39123.7279310 (200)\ttotal: 1.63s\tremaining: 22.7s\n",
            "300:\tlearn: 28489.8145714\ttest: 28283.7185577\ttest1: 33801.1260454\tbest: 33801.1260454 (300)\ttotal: 2.42s\tremaining: 21.7s\n",
            "400:\tlearn: 25607.0522507\ttest: 25454.2741021\ttest1: 31129.8969787\tbest: 31129.8969787 (400)\ttotal: 3.23s\tremaining: 20.9s\n",
            "500:\tlearn: 23684.6578086\ttest: 23568.8801403\ttest1: 29817.7482605\tbest: 29815.9444660 (499)\ttotal: 4.03s\tremaining: 20.1s\n",
            "600:\tlearn: 22267.6283957\ttest: 22202.9088160\ttest1: 29128.7809656\tbest: 29126.1453086 (599)\ttotal: 4.83s\tremaining: 19.3s\n",
            "700:\tlearn: 21082.8636987\ttest: 21037.3690352\ttest1: 28643.7674144\tbest: 28643.7674144 (700)\ttotal: 5.91s\tremaining: 19.4s\n",
            "800:\tlearn: 20184.3636880\ttest: 20170.4437513\ttest1: 28291.9447688\tbest: 28291.7301012 (799)\ttotal: 6.71s\tremaining: 18.4s\n",
            "900:\tlearn: 19508.0790117\ttest: 19514.8064540\ttest1: 28090.3759053\tbest: 28090.3759053 (900)\ttotal: 7.5s\tremaining: 17.5s\n",
            "1000:\tlearn: 18973.2660729\ttest: 18980.2884702\ttest1: 27955.7099692\tbest: 27954.8777260 (998)\ttotal: 8.27s\tremaining: 16.5s\n",
            "1100:\tlearn: 18498.0011790\ttest: 18506.5639861\ttest1: 27857.1517935\tbest: 27855.2045049 (1085)\ttotal: 9.07s\tremaining: 15.6s\n",
            "Stopped by overfitting detector  (50 iterations wait)\n",
            "\n",
            "bestTest = 27852.83263\n",
            "bestIteration = 1117\n",
            "\n",
            "Shrink model to first 1118 iterations.\n",
            "166971.20147993698\n",
            "0:\tlearn: 79956.9212888\ttest: 79956.9212888\ttest1: 74223.9597797\tbest: 74223.9597797 (0)\ttotal: 9.4ms\tremaining: 28.2s\n",
            "100:\tlearn: 46272.5689604\ttest: 46207.1305702\ttest1: 38353.8274859\tbest: 38353.8274859 (100)\ttotal: 817ms\tremaining: 23.4s\n",
            "200:\tlearn: 34798.4054531\ttest: 34682.0082544\ttest1: 28731.0522634\tbest: 28731.0522634 (200)\ttotal: 1.62s\tremaining: 22.6s\n",
            "300:\tlearn: 29439.8923641\ttest: 29258.8538752\ttest1: 25685.2694922\tbest: 25685.2694922 (300)\ttotal: 2.41s\tremaining: 21.6s\n",
            "400:\tlearn: 26315.9666344\ttest: 26124.2975717\ttest1: 23992.6797661\tbest: 23992.6797661 (400)\ttotal: 3.22s\tremaining: 20.9s\n",
            "500:\tlearn: 24422.6117203\ttest: 24251.5729536\ttest1: 22989.8200037\tbest: 22989.8200037 (500)\ttotal: 4.03s\tremaining: 20.1s\n",
            "600:\tlearn: 23147.3940132\ttest: 23020.5826687\ttest1: 22329.6998287\tbest: 22329.6998287 (600)\ttotal: 4.84s\tremaining: 19.3s\n",
            "700:\tlearn: 22236.4146719\ttest: 22134.0061572\ttest1: 21908.6164100\tbest: 21908.6164100 (700)\ttotal: 5.65s\tremaining: 18.5s\n",
            "800:\tlearn: 21581.9869575\ttest: 21488.9279763\ttest1: 21646.1740439\tbest: 21646.1740439 (800)\ttotal: 6.54s\tremaining: 18s\n",
            "900:\tlearn: 21077.0481572\ttest: 21007.9450501\ttest1: 21470.6034467\tbest: 21467.0413293 (896)\ttotal: 7.59s\tremaining: 17.7s\n",
            "1000:\tlearn: 20610.0107921\ttest: 20566.2025799\ttest1: 21211.8072816\tbest: 21211.8072816 (1000)\ttotal: 8.44s\tremaining: 16.9s\n",
            "1100:\tlearn: 20262.6506983\ttest: 20246.1958830\ttest1: 21087.6901303\tbest: 21087.6901303 (1100)\ttotal: 9.29s\tremaining: 16s\n",
            "1200:\tlearn: 19946.2789785\ttest: 19962.3028564\ttest1: 20948.3212617\tbest: 20948.3212617 (1200)\ttotal: 10.1s\tremaining: 15.2s\n",
            "1300:\tlearn: 19610.3238771\ttest: 19668.6731360\ttest1: 20867.5841219\tbest: 20858.6970993 (1294)\ttotal: 11s\tremaining: 14.3s\n",
            "1400:\tlearn: 19295.6985263\ttest: 19385.2352667\ttest1: 20780.2916233\tbest: 20776.4426927 (1377)\ttotal: 11.8s\tremaining: 13.5s\n",
            "1500:\tlearn: 19002.9216042\ttest: 19115.6748337\ttest1: 20672.5573343\tbest: 20669.1747780 (1495)\ttotal: 12.6s\tremaining: 12.6s\n",
            "1600:\tlearn: 18742.6205628\ttest: 18875.2873225\ttest1: 20590.0774688\tbest: 20582.6136248 (1583)\ttotal: 13.5s\tremaining: 11.8s\n",
            "1700:\tlearn: 18502.4449835\ttest: 18646.7065776\ttest1: 20551.2089777\tbest: 20550.5706746 (1698)\ttotal: 14.3s\tremaining: 10.9s\n",
            "1800:\tlearn: 18272.3654665\ttest: 18428.5783189\ttest1: 20511.1930666\tbest: 20509.7863284 (1799)\ttotal: 15.1s\tremaining: 10s\n",
            "1900:\tlearn: 18069.0604544\ttest: 18247.7368650\ttest1: 20395.0920831\tbest: 20395.0920831 (1900)\ttotal: 15.9s\tremaining: 9.2s\n",
            "2000:\tlearn: 17858.8286611\ttest: 18054.5484770\ttest1: 20351.1495640\tbest: 20341.2952196 (1976)\ttotal: 16.8s\tremaining: 8.36s\n",
            "2100:\tlearn: 17668.0632779\ttest: 17875.5819535\ttest1: 20297.4200736\tbest: 20296.3196124 (2077)\ttotal: 17.9s\tremaining: 7.64s\n",
            "Stopped by overfitting detector  (50 iterations wait)\n",
            "\n",
            "bestTest = 20287.58425\n",
            "bestIteration = 2126\n",
            "\n",
            "Shrink model to first 2127 iterations.\n",
            "154825.64982825716\n",
            "0:\tlearn: 77990.9012008\ttest: 77990.9012008\ttest1: 82393.6742440\tbest: 82393.6742440 (0)\ttotal: 9.3ms\tremaining: 27.9s\n",
            "100:\tlearn: 43908.6341273\ttest: 43834.1121101\ttest1: 50791.3150869\tbest: 50791.3150869 (100)\ttotal: 1.05s\tremaining: 30.1s\n",
            "200:\tlearn: 32554.1810173\ttest: 32306.1356579\ttest1: 40157.6135676\tbest: 40157.6135676 (200)\ttotal: 2.13s\tremaining: 29.6s\n",
            "300:\tlearn: 28304.1849259\ttest: 27963.8375709\ttest1: 35680.4594700\tbest: 35680.4594700 (300)\ttotal: 2.91s\tremaining: 26.1s\n",
            "400:\tlearn: 25854.5902043\ttest: 25502.3437974\ttest1: 33522.6126423\tbest: 33522.6126423 (400)\ttotal: 3.7s\tremaining: 24s\n",
            "500:\tlearn: 24216.3979791\ttest: 23908.3680993\ttest1: 32208.3787039\tbest: 32208.3787039 (500)\ttotal: 4.47s\tremaining: 22.3s\n",
            "600:\tlearn: 22947.4990317\ttest: 22643.6844232\ttest1: 31633.2612613\tbest: 31624.7361886 (599)\ttotal: 5.29s\tremaining: 21.1s\n",
            "700:\tlearn: 21862.8461273\ttest: 21537.7990058\ttest1: 31066.0087716\tbest: 31066.0087716 (700)\ttotal: 6.12s\tremaining: 20.1s\n",
            "800:\tlearn: 21003.7166998\ttest: 20659.2518807\ttest1: 30589.0804943\tbest: 30589.0804943 (800)\ttotal: 6.91s\tremaining: 19s\n",
            "900:\tlearn: 20270.6135842\ttest: 19928.1381110\ttest1: 30062.9789492\tbest: 30042.1991451 (894)\ttotal: 7.68s\tremaining: 17.9s\n",
            "1000:\tlearn: 19685.4793635\ttest: 19353.7874622\ttest1: 29795.0833262\tbest: 29795.0833262 (1000)\ttotal: 8.47s\tremaining: 16.9s\n",
            "1100:\tlearn: 19243.9479193\ttest: 18925.7303876\ttest1: 29651.9960602\tbest: 29650.6048203 (1097)\ttotal: 9.29s\tremaining: 16s\n",
            "1200:\tlearn: 18875.8744833\ttest: 18582.5395673\ttest1: 29519.4104569\tbest: 29519.2779837 (1198)\ttotal: 10.4s\tremaining: 15.5s\n",
            "1300:\tlearn: 18470.7565831\ttest: 18200.4180842\ttest1: 29308.6030737\tbest: 29308.6030737 (1300)\ttotal: 11.2s\tremaining: 14.6s\n",
            "1400:\tlearn: 18177.0462616\ttest: 17933.1254478\ttest1: 29194.5049152\tbest: 29194.5049152 (1400)\ttotal: 11.9s\tremaining: 13.6s\n",
            "1500:\tlearn: 17900.9021231\ttest: 17693.1032429\ttest1: 29035.3698771\tbest: 29035.3698771 (1500)\ttotal: 12.7s\tremaining: 12.7s\n",
            "1600:\tlearn: 17660.5738435\ttest: 17482.6023109\ttest1: 28961.2950538\tbest: 28960.8680542 (1594)\ttotal: 13.6s\tremaining: 11.9s\n",
            "1700:\tlearn: 17437.8290676\ttest: 17303.5923399\ttest1: 28907.5030354\tbest: 28897.2456324 (1690)\ttotal: 14.4s\tremaining: 11s\n",
            "1800:\tlearn: 17194.5124692\ttest: 17096.5355391\ttest1: 28844.7729879\tbest: 28844.7729879 (1800)\ttotal: 15.2s\tremaining: 10.1s\n",
            "1900:\tlearn: 16975.7205954\ttest: 16913.8630309\ttest1: 28805.6560200\tbest: 28799.3664989 (1896)\ttotal: 16s\tremaining: 9.25s\n"
          ],
          "name": "stdout"
        },
        {
          "output_type": "stream",
          "text": [
            "\u001b[32m[I 2021-06-03 05:06:42,319]\u001b[0m Trial 4 finished with value: 157674.5940259746 and parameters: {'learning_rate': 0.0124437755441306, 'min_data_in_leaf': 747, 'depth': 3}. Best is trial 3 with value: 157564.98059731635.\u001b[0m\n"
          ],
          "name": "stderr"
        },
        {
          "output_type": "stream",
          "text": [
            "Stopped by overfitting detector  (50 iterations wait)\n",
            "\n",
            "bestTest = 28799.3665\n",
            "bestIteration = 1896\n",
            "\n",
            "Shrink model to first 1897 iterations.\n",
            "157674.5940259746\n",
            "0:\tlearn: 78201.9485413\ttest: 78201.9485413\ttest1: 74079.6987083\tbest: 74079.6987083 (0)\ttotal: 2.44ms\tremaining: 7.33s\n"
          ],
          "name": "stdout"
        },
        {
          "output_type": "stream",
          "text": [
            "/opt/conda/lib/python3.7/site-packages/sklearn/model_selection/_split.py:668: UserWarning: The least populated class in y has only 1 members, which is less than n_splits=5.\n",
            "  % (min_groups, self.n_splits)), UserWarning)\n"
          ],
          "name": "stderr"
        },
        {
          "output_type": "stream",
          "text": [
            "100:\tlearn: 33279.5536297\ttest: 33192.4902790\ttest1: 35517.6159280\tbest: 35479.6620615 (99)\ttotal: 125ms\tremaining: 3.59s\n",
            "200:\tlearn: 27796.5542763\ttest: 27644.8382446\ttest1: 33041.9034338\tbest: 33041.9034338 (200)\ttotal: 240ms\tremaining: 3.33s\n",
            "Stopped by overfitting detector  (50 iterations wait)\n",
            "\n",
            "bestTest = 32870.96724\n",
            "bestIteration = 239\n",
            "\n",
            "Shrink model to first 240 iterations.\n",
            "159128.99913747745\n",
            "0:\tlearn: 78363.4984813\ttest: 78363.4984813\ttest1: 73271.2808541\tbest: 73271.2808541 (0)\ttotal: 2.27ms\tremaining: 6.82s\n",
            "100:\tlearn: 33179.6430784\ttest: 33116.8635019\ttest1: 35819.3574761\tbest: 35819.3574761 (100)\ttotal: 114ms\tremaining: 3.28s\n",
            "200:\tlearn: 28225.1116429\ttest: 28163.4597327\ttest1: 33259.7759723\tbest: 33259.7759723 (200)\ttotal: 223ms\tremaining: 3.11s\n",
            "300:\tlearn: 26191.7255946\ttest: 26526.4316322\ttest1: 32736.4103584\tbest: 32684.6612406 (278)\ttotal: 337ms\tremaining: 3.03s\n",
            "400:\tlearn: 24837.5529542\ttest: 25481.4697790\ttest1: 32039.4245806\tbest: 32032.2013328 (387)\ttotal: 451ms\tremaining: 2.92s\n",
            "500:\tlearn: 24141.4729809\ttest: 25178.8754078\ttest1: 31817.2108686\tbest: 31761.5135056 (460)\ttotal: 565ms\tremaining: 2.82s\n",
            "Stopped by overfitting detector  (50 iterations wait)\n",
            "\n",
            "bestTest = 31761.51351\n",
            "bestIteration = 460\n",
            "\n",
            "Shrink model to first 461 iterations.\n",
            "156194.33460056808\n",
            "0:\tlearn: 75323.8701694\ttest: 75323.8701694\ttest1: 85683.6030423\tbest: 85683.6030423 (0)\ttotal: 2.45ms\tremaining: 7.35s\n",
            "100:\tlearn: 34425.2041641\ttest: 34260.3137963\ttest1: 38030.8898130\tbest: 38030.8898130 (100)\ttotal: 119ms\tremaining: 3.4s\n",
            "200:\tlearn: 28383.9182595\ttest: 28279.9170109\ttest1: 33969.3972532\tbest: 33931.7671853 (193)\ttotal: 231ms\tremaining: 3.21s\n",
            "300:\tlearn: 25949.9358006\ttest: 25899.5508308\ttest1: 33505.6406322\tbest: 33415.7797261 (291)\ttotal: 345ms\tremaining: 3.09s\n",
            "400:\tlearn: 24498.3555323\ttest: 24525.1262418\ttest1: 33374.5400613\tbest: 33283.8588171 (355)\ttotal: 458ms\tremaining: 2.97s\n",
            "Stopped by overfitting detector  (50 iterations wait)\n",
            "\n",
            "bestTest = 33146.63229\n",
            "bestIteration = 431\n",
            "\n",
            "Shrink model to first 432 iterations.\n",
            "167396.23885809936\n",
            "0:\tlearn: 78620.4879341\ttest: 78620.4879341\ttest1: 72627.4458512\tbest: 72627.4458512 (0)\ttotal: 2.45ms\tremaining: 7.34s\n",
            "100:\tlearn: 34778.1176210\ttest: 34738.7423046\ttest1: 30000.4870891\tbest: 30000.4870891 (100)\ttotal: 118ms\tremaining: 3.4s\n",
            "200:\tlearn: 29098.8098346\ttest: 29059.8614461\ttest1: 25834.1675656\tbest: 25833.9303469 (199)\ttotal: 238ms\tremaining: 3.31s\n",
            "300:\tlearn: 27051.1630023\ttest: 27019.3926889\ttest1: 24225.4088468\tbest: 24225.4088468 (300)\ttotal: 356ms\tremaining: 3.19s\n",
            "400:\tlearn: 25946.9615071\ttest: 25897.2004237\ttest1: 23557.8980906\tbest: 23557.8980906 (400)\ttotal: 471ms\tremaining: 3.05s\n",
            "500:\tlearn: 25210.0507163\ttest: 25143.1681459\ttest1: 22948.6063262\tbest: 22948.6063262 (500)\ttotal: 585ms\tremaining: 2.92s\n",
            "600:\tlearn: 24579.0884507\ttest: 24504.6496245\ttest1: 22670.9185659\tbest: 22605.2010109 (591)\ttotal: 700ms\tremaining: 2.79s\n",
            "700:\tlearn: 24000.4568528\ttest: 23932.1618395\ttest1: 22371.4263709\tbest: 22367.8303373 (696)\ttotal: 814ms\tremaining: 2.67s\n",
            "800:\tlearn: 23504.6515716\ttest: 23442.5012593\ttest1: 22120.9065421\tbest: 22104.7094981 (795)\ttotal: 927ms\tremaining: 2.54s\n",
            "900:\tlearn: 23104.9140321\ttest: 23057.9338821\ttest1: 22016.7642259\tbest: 22016.7642259 (900)\ttotal: 1.04s\tremaining: 2.42s\n",
            "Stopped by overfitting detector  (50 iterations wait)\n",
            "\n",
            "bestTest = 22016.76423\n",
            "bestIteration = 900\n",
            "\n",
            "Shrink model to first 901 iterations.\n",
            "155085.19224935584\n",
            "0:\tlearn: 76534.2370532\ttest: 76534.2370532\ttest1: 80931.2965700\tbest: 80931.2965700 (0)\ttotal: 2.49ms\tremaining: 7.46s\n",
            "100:\tlearn: 33127.7440614\ttest: 33044.2873983\ttest1: 39993.5662657\tbest: 39993.5662657 (100)\ttotal: 120ms\tremaining: 3.44s\n",
            "200:\tlearn: 29773.1671791\ttest: 29683.0774056\ttest1: 36629.0758012\tbest: 36629.0758012 (200)\ttotal: 233ms\tremaining: 3.25s\n",
            "300:\tlearn: 27387.5101417\ttest: 27204.6627244\ttest1: 34923.3605559\tbest: 34923.2794154 (299)\ttotal: 348ms\tremaining: 3.12s\n",
            "400:\tlearn: 25810.4153412\ttest: 25615.2451731\ttest1: 33510.2441519\tbest: 33510.2441519 (400)\ttotal: 461ms\tremaining: 2.99s\n",
            "500:\tlearn: 25010.5558831\ttest: 24805.2522860\ttest1: 32953.9312887\tbest: 32945.6882365 (498)\ttotal: 573ms\tremaining: 2.85s\n",
            "600:\tlearn: 24393.7711193\ttest: 24185.1313026\ttest1: 32442.2668966\tbest: 32441.5882415 (595)\ttotal: 683ms\tremaining: 2.73s\n",
            "700:\tlearn: 23854.1683531\ttest: 23630.7687376\ttest1: 32045.1020548\tbest: 32045.1020548 (700)\ttotal: 793ms\tremaining: 2.6s\n",
            "800:\tlearn: 23383.6535027\ttest: 23192.7437194\ttest1: 31831.4134570\tbest: 31831.3397190 (798)\ttotal: 903ms\tremaining: 2.48s\n",
            "900:\tlearn: 22998.6920207\ttest: 22812.2761681\ttest1: 31577.7785538\tbest: 31546.3619219 (891)\ttotal: 1.13s\tremaining: 2.63s\n",
            "1000:\tlearn: 22674.3493450\ttest: 22518.3273844\ttest1: 31324.8630710\tbest: 31324.8630710 (1000)\ttotal: 1.46s\tremaining: 2.91s\n",
            "1100:\tlearn: 22413.9333253\ttest: 22276.3343233\ttest1: 31134.1627713\tbest: 31107.4029332 (1096)\ttotal: 1.59s\tremaining: 2.75s\n",
            "1200:\tlearn: 22174.1302002\ttest: 22053.2350455\ttest1: 31023.8130120\tbest: 30992.8290227 (1186)\ttotal: 1.71s\tremaining: 2.56s\n",
            "1300:\tlearn: 21941.1323212\ttest: 21832.7304561\ttest1: 30777.4992777\tbest: 30777.4992777 (1300)\ttotal: 1.83s\tremaining: 2.39s\n",
            "1400:\tlearn: 21754.5906238\ttest: 21653.9600925\ttest1: 30611.4052588\tbest: 30611.4052588 (1400)\ttotal: 1.94s\tremaining: 2.22s\n",
            "1500:\tlearn: 21584.3824608\ttest: 21505.5688953\ttest1: 30417.9619169\tbest: 30416.6488895 (1499)\ttotal: 2.06s\tremaining: 2.05s\n",
            "1600:\tlearn: 21371.7260432\ttest: 21320.9567639\ttest1: 30282.8655976\tbest: 30280.8045927 (1596)\ttotal: 2.17s\tremaining: 1.9s\n",
            "1700:\tlearn: 21183.8932110\ttest: 21144.2728809\ttest1: 30228.9999916\tbest: 30211.2141451 (1676)\ttotal: 2.28s\tremaining: 1.74s\n",
            "1800:\tlearn: 21021.3849281\ttest: 21004.1095386\ttest1: 30178.7137557\tbest: 30178.6565597 (1799)\ttotal: 2.4s\tremaining: 1.59s\n",
            "1900:\tlearn: 20878.6057577\ttest: 20868.6948965\ttest1: 30095.9321754\tbest: 30095.9321754 (1900)\ttotal: 2.51s\tremaining: 1.45s\n"
          ],
          "name": "stdout"
        },
        {
          "output_type": "stream",
          "text": [
            "\u001b[32m[I 2021-06-03 05:06:48,283]\u001b[0m Trial 5 finished with value: 157779.04959643164 and parameters: {'learning_rate': 0.05679096133862636, 'min_data_in_leaf': 816, 'depth': 1}. Best is trial 3 with value: 157564.98059731635.\u001b[0m\n"
          ],
          "name": "stderr"
        },
        {
          "output_type": "stream",
          "text": [
            "2000:\tlearn: 20724.2212889\ttest: 20743.5646544\ttest1: 30090.1826072\tbest: 30043.8514965 (1969)\ttotal: 2.62s\tremaining: 1.31s\n",
            "Stopped by overfitting detector  (50 iterations wait)\n",
            "\n",
            "bestTest = 30043.8515\n",
            "bestIteration = 1969\n",
            "\n",
            "Shrink model to first 1970 iterations.\n",
            "157779.04959643164\n"
          ],
          "name": "stdout"
        },
        {
          "output_type": "stream",
          "text": [
            "/opt/conda/lib/python3.7/site-packages/sklearn/model_selection/_split.py:668: UserWarning: The least populated class in y has only 1 members, which is less than n_splits=5.\n",
            "  % (min_groups, self.n_splits)), UserWarning)\n"
          ],
          "name": "stderr"
        },
        {
          "output_type": "stream",
          "text": [
            "0:\tlearn: 76173.3342446\ttest: 76177.4578584\ttest1: 72191.3930695\tbest: 72191.3930695 (0)\ttotal: 121ms\tremaining: 6m 4s\n",
            "100:\tlearn: 14365.5927793\ttest: 15943.3090995\ttest1: 27938.0658867\tbest: 27938.0658867 (100)\ttotal: 11.2s\tremaining: 5m 20s\n",
            "200:\tlearn: 8800.3744394\ttest: 11541.1653758\ttest1: 27475.1132668\tbest: 27454.5502248 (195)\ttotal: 22.8s\tremaining: 5m 18s\n",
            "300:\tlearn: 6171.9095707\ttest: 9826.7633922\ttest1: 27398.0939495\tbest: 27358.8121558 (264)\ttotal: 35.1s\tremaining: 5m 15s\n",
            "400:\tlearn: 4406.0408680\ttest: 8814.8886706\ttest1: 27213.1976211\tbest: 27209.9602357 (395)\ttotal: 48.2s\tremaining: 5m 12s\n",
            "500:\tlearn: 3325.2756450\ttest: 8255.0218391\ttest1: 27162.9832771\tbest: 27162.9832771 (500)\ttotal: 1m\tremaining: 5m 3s\n",
            "Stopped by overfitting detector  (50 iterations wait)\n",
            "\n",
            "bestTest = 27151.8018\n",
            "bestIteration = 546\n",
            "\n",
            "Shrink model to first 547 iterations.\n",
            "158732.23295700745\n",
            "0:\tlearn: 76718.4310773\ttest: 76722.3700644\ttest1: 71699.3866047\tbest: 71699.3866047 (0)\ttotal: 84.2ms\tremaining: 4m 12s\n",
            "100:\tlearn: 14574.4943684\ttest: 15749.2298357\ttest1: 27119.0152130\tbest: 27117.6086856 (99)\ttotal: 11.5s\tremaining: 5m 29s\n",
            "200:\tlearn: 9121.3352797\ttest: 11662.2825456\ttest1: 25421.7294694\tbest: 25421.7294694 (200)\ttotal: 23.4s\tremaining: 5m 26s\n",
            "300:\tlearn: 6459.6724022\ttest: 9984.2162785\ttest1: 25251.7372538\tbest: 25251.7372538 (300)\ttotal: 36.8s\tremaining: 5m 29s\n",
            "400:\tlearn: 4369.5156599\ttest: 8701.9964196\ttest1: 25177.7398015\tbest: 25159.2271907 (389)\ttotal: 49.3s\tremaining: 5m 19s\n",
            "500:\tlearn: 3160.2821379\ttest: 8074.5326975\ttest1: 25123.9445645\tbest: 25115.3641094 (480)\ttotal: 1m 1s\tremaining: 5m 7s\n",
            "Stopped by overfitting detector  (50 iterations wait)\n",
            "\n",
            "bestTest = 25115.36411\n",
            "bestIteration = 480\n",
            "\n",
            "Shrink model to first 481 iterations.\n",
            "156070.15012966277\n",
            "0:\tlearn: 73121.0627291\ttest: 73112.7516448\ttest1: 83852.3542850\tbest: 83852.3542850 (0)\ttotal: 132ms\tremaining: 6m 36s\n",
            "100:\tlearn: 14343.1136648\ttest: 15916.4874496\ttest1: 30174.6642205\tbest: 30174.6642205 (100)\ttotal: 11.1s\tremaining: 5m 18s\n",
            "200:\tlearn: 8801.0763313\ttest: 11215.6468142\ttest1: 29438.7157221\tbest: 29433.0883175 (197)\ttotal: 22.9s\tremaining: 5m 19s\n",
            "300:\tlearn: 6280.3192339\ttest: 9464.2881420\ttest1: 29251.1271609\tbest: 29251.1271609 (300)\ttotal: 36.6s\tremaining: 5m 28s\n",
            "Stopped by overfitting detector  (50 iterations wait)\n",
            "\n",
            "bestTest = 29212.46616\n",
            "bestIteration = 315\n",
            "\n",
            "Shrink model to first 316 iterations.\n",
            "167702.67174105137\n",
            "0:\tlearn: 77067.5565260\ttest: 77145.1496084\ttest1: 71360.8198815\tbest: 71360.8198815 (0)\ttotal: 78.2ms\tremaining: 3m 54s\n",
            "100:\tlearn: 14589.9441980\ttest: 16057.7466914\ttest1: 20034.4918801\tbest: 20034.4918801 (100)\ttotal: 11.3s\tremaining: 5m 25s\n",
            "200:\tlearn: 9505.3380107\ttest: 12188.3411730\ttest1: 19312.1212285\tbest: 19312.1212285 (200)\ttotal: 23.8s\tremaining: 5m 32s\n",
            "300:\tlearn: 6507.7487479\ttest: 10225.4624843\ttest1: 19108.3324405\tbest: 19108.3324405 (300)\ttotal: 36.4s\tremaining: 5m 26s\n",
            "Stopped by overfitting detector  (50 iterations wait)\n",
            "\n",
            "bestTest = 19032.16196\n",
            "bestIteration = 319\n",
            "\n",
            "Shrink model to first 320 iterations.\n",
            "154749.12218667995\n",
            "0:\tlearn: 74972.4498448\ttest: 74924.7425823\ttest1: 79760.2850866\tbest: 79760.2850866 (0)\ttotal: 176ms\tremaining: 8m 46s\n",
            "100:\tlearn: 14604.9562862\ttest: 17035.5308034\ttest1: 34632.2320857\tbest: 34632.2320857 (100)\ttotal: 11.8s\tremaining: 5m 37s\n",
            "200:\tlearn: 8683.2061895\ttest: 12287.2788299\ttest1: 33113.3580214\tbest: 33100.6300590 (199)\ttotal: 23.3s\tremaining: 5m 24s\n",
            "300:\tlearn: 5802.2026957\ttest: 10405.8948304\ttest1: 32690.9003754\tbest: 32661.5959845 (288)\ttotal: 36.1s\tremaining: 5m 23s\n",
            "400:\tlearn: 4069.3919055\ttest: 9457.8312532\ttest1: 32570.1080297\tbest: 32570.1080297 (400)\ttotal: 49.5s\tremaining: 5m 20s\n",
            "500:\tlearn: 3173.4790293\ttest: 8998.1247166\ttest1: 32519.6863429\tbest: 32519.6863429 (500)\ttotal: 1m 2s\tremaining: 5m 9s\n",
            "600:\tlearn: 2436.2134644\ttest: 8713.9562301\ttest1: 32511.6874928\tbest: 32504.1664648 (594)\ttotal: 1m 15s\tremaining: 5m 1s\n"
          ],
          "name": "stdout"
        },
        {
          "output_type": "stream",
          "text": [
            "\u001b[32m[I 2021-06-03 05:11:58,961]\u001b[0m Trial 6 finished with value: 158342.36810112747 and parameters: {'learning_rate': 0.08284082467679958, 'min_data_in_leaf': 596, 'depth': 9}. Best is trial 3 with value: 157564.98059731635.\u001b[0m\n"
          ],
          "name": "stderr"
        },
        {
          "output_type": "stream",
          "text": [
            "Stopped by overfitting detector  (50 iterations wait)\n",
            "\n",
            "bestTest = 32504.16646\n",
            "bestIteration = 594\n",
            "\n",
            "Shrink model to first 595 iterations.\n",
            "158342.36810112747\n"
          ],
          "name": "stdout"
        },
        {
          "output_type": "stream",
          "text": [
            "/opt/conda/lib/python3.7/site-packages/sklearn/model_selection/_split.py:668: UserWarning: The least populated class in y has only 1 members, which is less than n_splits=5.\n",
            "  % (min_groups, self.n_splits)), UserWarning)\n"
          ],
          "name": "stderr"
        },
        {
          "output_type": "stream",
          "text": [
            "0:\tlearn: 74190.4918285\ttest: 74193.4337319\ttest1: 70206.7735311\tbest: 70206.7735311 (0)\ttotal: 55.9ms\tremaining: 2m 47s\n",
            "100:\tlearn: 13061.9859832\ttest: 14577.2313506\ttest1: 29095.8817321\tbest: 29063.2247292 (86)\ttotal: 6.29s\tremaining: 3m\n",
            "Stopped by overfitting detector  (50 iterations wait)\n",
            "\n",
            "bestTest = 28803.72954\n",
            "bestIteration = 124\n",
            "\n",
            "Shrink model to first 125 iterations.\n",
            "158897.3714148179\n",
            "0:\tlearn: 74777.8403400\ttest: 74777.8403400\ttest1: 69815.9579454\tbest: 69815.9579454 (0)\ttotal: 51ms\tremaining: 2m 32s\n",
            "100:\tlearn: 12815.8942452\ttest: 14209.6000706\ttest1: 29813.3151793\tbest: 29813.3151793 (100)\ttotal: 6.46s\tremaining: 3m 5s\n",
            "200:\tlearn: 8521.1345526\ttest: 11025.8472260\ttest1: 29390.1063990\tbest: 29390.1063990 (200)\ttotal: 14.1s\tremaining: 3m 15s\n",
            "300:\tlearn: 5849.2680446\ttest: 9210.4043314\ttest1: 29306.6946445\tbest: 29306.6946445 (300)\ttotal: 21.5s\tremaining: 3m 12s\n",
            "400:\tlearn: 4120.3568112\ttest: 8260.4281714\ttest1: 29245.5763975\tbest: 29245.5763975 (400)\ttotal: 29s\tremaining: 3m 7s\n",
            "Stopped by overfitting detector  (50 iterations wait)\n",
            "\n",
            "bestTest = 29212.4058\n",
            "bestIteration = 427\n",
            "\n",
            "Shrink model to first 428 iterations.\n",
            "156243.32379484683\n",
            "0:\tlearn: 71153.4001352\ttest: 71141.7018024\ttest1: 81823.4090313\tbest: 81823.4090313 (0)\ttotal: 55.4ms\tremaining: 2m 46s\n",
            "100:\tlearn: 12452.9779180\ttest: 13910.3937013\ttest1: 28305.9869102\tbest: 28305.9869102 (100)\ttotal: 6.56s\tremaining: 3m 8s\n",
            "200:\tlearn: 7678.4210885\ttest: 9987.4283804\ttest1: 27437.9033990\tbest: 27437.9033990 (200)\ttotal: 14s\tremaining: 3m 14s\n",
            "300:\tlearn: 5366.0094694\ttest: 8332.4617970\ttest1: 27372.1705526\tbest: 27318.8391436 (280)\ttotal: 21.3s\tremaining: 3m 11s\n",
            "400:\tlearn: 3878.0516328\ttest: 7377.8461230\ttest1: 27289.8272923\tbest: 27282.3044101 (382)\ttotal: 28.4s\tremaining: 3m 3s\n",
            "Stopped by overfitting detector  (50 iterations wait)\n",
            "\n",
            "bestTest = 27282.30441\n",
            "bestIteration = 382\n",
            "\n",
            "Shrink model to first 383 iterations.\n",
            "167333.15123854615\n",
            "0:\tlearn: 75235.3217164\ttest: 75235.3217164\ttest1: 69638.8997112\tbest: 69638.8997112 (0)\ttotal: 51ms\tremaining: 2m 32s\n",
            "100:\tlearn: 13285.7245255\ttest: 15047.1579646\ttest1: 20115.2226830\tbest: 20115.2226830 (100)\ttotal: 6.2s\tremaining: 2m 57s\n",
            "200:\tlearn: 8472.8782212\ttest: 11541.6864089\ttest1: 19552.4844478\tbest: 19483.1226907 (190)\ttotal: 13.9s\tremaining: 3m 13s\n",
            "300:\tlearn: 5653.5775015\ttest: 9760.7470055\ttest1: 19416.5915881\tbest: 19394.1362114 (283)\ttotal: 21.2s\tremaining: 3m 9s\n",
            "Stopped by overfitting detector  (50 iterations wait)\n",
            "\n",
            "bestTest = 19362.08575\n",
            "bestIteration = 319\n",
            "\n",
            "Shrink model to first 320 iterations.\n",
            "155094.26684356522\n",
            "0:\tlearn: 72977.3556528\ttest: 72890.3822098\ttest1: 77915.3264446\tbest: 77915.3264446 (0)\ttotal: 54ms\tremaining: 2m 41s\n",
            "100:\tlearn: 13432.1260936\ttest: 14820.7936271\ttest1: 29371.6140254\tbest: 29371.6140254 (100)\ttotal: 6.18s\tremaining: 2m 57s\n",
            "200:\tlearn: 7678.5737785\ttest: 10634.8374246\ttest1: 28783.2887632\tbest: 28710.0136212 (191)\ttotal: 13.1s\tremaining: 3m 2s\n"
          ],
          "name": "stdout"
        },
        {
          "output_type": "stream",
          "text": [
            "\u001b[32m[I 2021-06-03 05:13:59,167]\u001b[0m Trial 7 finished with value: 157835.6288402737 and parameters: {'learning_rate': 0.12076705364075903, 'min_data_in_leaf': 425, 'depth': 8}. Best is trial 3 with value: 157564.98059731635.\u001b[0m\n"
          ],
          "name": "stderr"
        },
        {
          "output_type": "stream",
          "text": [
            "Stopped by overfitting detector  (50 iterations wait)\n",
            "\n",
            "bestTest = 28710.01362\n",
            "bestIteration = 191\n",
            "\n",
            "Shrink model to first 192 iterations.\n",
            "157835.6288402737\n",
            "0:\tlearn: 73409.4038508\ttest: 73409.4038508\ttest1: 69235.0666941\tbest: 69235.0666941 (0)\ttotal: 13.7ms\tremaining: 41.1s\n"
          ],
          "name": "stdout"
        },
        {
          "output_type": "stream",
          "text": [
            "/opt/conda/lib/python3.7/site-packages/sklearn/model_selection/_split.py:668: UserWarning: The least populated class in y has only 1 members, which is less than n_splits=5.\n",
            "  % (min_groups, self.n_splits)), UserWarning)\n"
          ],
          "name": "stderr"
        },
        {
          "output_type": "stream",
          "text": [
            "Stopped by overfitting detector  (50 iterations wait)\n",
            "\n",
            "bestTest = 33625.06286\n",
            "bestIteration = 28\n",
            "\n",
            "Shrink model to first 29 iterations.\n",
            "159009.11441171134\n",
            "0:\tlearn: 73550.3734489\ttest: 73550.3734489\ttest1: 68823.4709384\tbest: 68823.4709384 (0)\ttotal: 14.1ms\tremaining: 42.4s\n",
            "100:\tlearn: 18213.1043509\ttest: 18393.0550518\ttest1: 28525.8073910\tbest: 28483.4223901 (99)\ttotal: 1.26s\tremaining: 36.2s\n",
            "200:\tlearn: 14624.5445876\ttest: 15321.7803150\ttest1: 27890.9211349\tbest: 27788.9819635 (175)\ttotal: 2.52s\tremaining: 35.1s\n",
            "Stopped by overfitting detector  (50 iterations wait)\n",
            "\n",
            "bestTest = 27788.98196\n",
            "bestIteration = 175\n",
            "\n",
            "Shrink model to first 176 iterations.\n",
            "155764.61365448518\n",
            "0:\tlearn: 70344.9911730\ttest: 70344.9911730\ttest1: 80133.2184759\tbest: 80133.2184759 (0)\ttotal: 13.5ms\tremaining: 40.4s\n",
            "100:\tlearn: 16847.7512936\ttest: 17057.2241832\ttest1: 27740.9078225\tbest: 27729.5759661 (97)\ttotal: 1.26s\tremaining: 36.1s\n",
            "200:\tlearn: 13360.8396400\ttest: 13813.5867171\ttest1: 27590.5755776\tbest: 27557.2091926 (177)\ttotal: 2.55s\tremaining: 35.5s\n",
            "Stopped by overfitting detector  (50 iterations wait)\n",
            "\n",
            "bestTest = 27557.20919\n",
            "bestIteration = 177\n",
            "\n",
            "Shrink model to first 178 iterations.\n",
            "166930.90348194432\n",
            "0:\tlearn: 73890.4101972\ttest: 73890.4101972\ttest1: 68303.3564939\tbest: 68303.3564939 (0)\ttotal: 13.8ms\tremaining: 41.2s\n",
            "100:\tlearn: 17976.3001474\ttest: 18160.3527664\ttest1: 22485.9390244\tbest: 22485.9390244 (100)\ttotal: 1.53s\tremaining: 44s\n",
            "200:\tlearn: 14957.6563394\ttest: 15569.8179499\ttest1: 21497.7128814\tbest: 21358.1495843 (184)\ttotal: 2.78s\tremaining: 38.7s\n",
            "Stopped by overfitting detector  (50 iterations wait)\n",
            "\n",
            "bestTest = 21358.14958\n",
            "bestIteration = 184\n",
            "\n",
            "Shrink model to first 185 iterations.\n",
            "154739.04551351533\n",
            "0:\tlearn: 72126.2183077\ttest: 72126.2183077\ttest1: 76379.6558993\tbest: 76379.6558993 (0)\ttotal: 13.7ms\tremaining: 41s\n",
            "100:\tlearn: 17509.1167934\ttest: 17706.9504365\ttest1: 29568.4283470\tbest: 29568.4283470 (100)\ttotal: 1.26s\tremaining: 36.3s\n",
            "200:\tlearn: 13894.2842408\ttest: 14640.8485590\ttest1: 28079.5200726\tbest: 28042.5311447 (196)\ttotal: 2.51s\tremaining: 35s\n",
            "300:\tlearn: 11830.4878459\ttest: 12981.0744523\ttest1: 27818.0048053\tbest: 27743.7748786 (285)\ttotal: 3.82s\tremaining: 34.2s\n",
            "400:\tlearn: 10131.9081322\ttest: 11692.3649226\ttest1: 27489.1886749\tbest: 27468.8346374 (399)\ttotal: 5.08s\tremaining: 32.9s\n",
            "500:\tlearn: 8900.8435074\ttest: 10666.1971596\ttest1: 27321.8753109\tbest: 27285.6709850 (475)\ttotal: 6.34s\tremaining: 31.6s\n"
          ],
          "name": "stdout"
        },
        {
          "output_type": "stream",
          "text": [
            "\u001b[32m[I 2021-06-03 05:14:16,258]\u001b[0m Trial 8 finished with value: 157267.64901039648 and parameters: {'learning_rate': 0.15017762185500286, 'min_data_in_leaf': 269, 'depth': 4}. Best is trial 8 with value: 157267.64901039648.\u001b[0m\n"
          ],
          "name": "stderr"
        },
        {
          "output_type": "stream",
          "text": [
            "Stopped by overfitting detector  (50 iterations wait)\n",
            "\n",
            "bestTest = 27285.67098\n",
            "bestIteration = 475\n",
            "\n",
            "Shrink model to first 476 iterations.\n",
            "157267.64901039648\n",
            "0:\tlearn: 77964.7485628\ttest: 77964.7485628\ttest1: 73934.1595386\tbest: 73934.1595386 (0)\ttotal: 26ms\tremaining: 1m 17s\n"
          ],
          "name": "stdout"
        },
        {
          "output_type": "stream",
          "text": [
            "/opt/conda/lib/python3.7/site-packages/sklearn/model_selection/_split.py:668: UserWarning: The least populated class in y has only 1 members, which is less than n_splits=5.\n",
            "  % (min_groups, self.n_splits)), UserWarning)\n"
          ],
          "name": "stderr"
        },
        {
          "output_type": "stream",
          "text": [
            "100:\tlearn: 22401.8887375\ttest: 22508.3611749\ttest1: 32567.5501551\tbest: 32567.5501551 (100)\ttotal: 2.8s\tremaining: 1m 20s\n",
            "200:\tlearn: 17323.5524613\ttest: 17889.4279341\ttest1: 32479.9421448\tbest: 32233.3899944 (161)\ttotal: 5.19s\tremaining: 1m 12s\n",
            "Stopped by overfitting detector  (50 iterations wait)\n",
            "\n",
            "bestTest = 32233.38999\n",
            "bestIteration = 161\n",
            "\n",
            "Shrink model to first 162 iterations.\n",
            "158774.19920760737\n",
            "0:\tlearn: 78415.4135037\ttest: 78415.4135037\ttest1: 73108.1256422\tbest: 73108.1256422 (0)\ttotal: 24.8ms\tremaining: 1m 14s\n",
            "100:\tlearn: 22739.8584655\ttest: 22608.0359564\ttest1: 31003.3131936\tbest: 30994.5180896 (98)\ttotal: 2.5s\tremaining: 1m 11s\n",
            "200:\tlearn: 17905.7948698\ttest: 18090.4485743\ttest1: 28119.1426418\tbest: 28119.1426418 (200)\ttotal: 5.04s\tremaining: 1m 10s\n",
            "300:\tlearn: 15209.8851504\ttest: 15794.4207970\ttest1: 26999.1752275\tbest: 26991.2378273 (299)\ttotal: 8.43s\tremaining: 1m 15s\n",
            "400:\tlearn: 13631.4786109\ttest: 14452.9614181\ttest1: 26793.3028409\tbest: 26782.6675703 (398)\ttotal: 11.1s\tremaining: 1m 12s\n",
            "500:\tlearn: 12322.7379960\ttest: 13372.8712537\ttest1: 26520.3319161\tbest: 26508.0193750 (483)\ttotal: 13.8s\tremaining: 1m 9s\n",
            "Stopped by overfitting detector  (50 iterations wait)\n",
            "\n",
            "bestTest = 26392.45779\n",
            "bestIteration = 530\n",
            "\n",
            "Shrink model to first 531 iterations.\n",
            "156039.8121839912\n",
            "0:\tlearn: 74996.1151226\ttest: 74991.1037106\ttest1: 85430.1125663\tbest: 85430.1125663 (0)\ttotal: 27ms\tremaining: 1m 21s\n",
            "100:\tlearn: 22545.2274561\ttest: 22812.4958168\ttest1: 31721.9384881\tbest: 31721.9384881 (100)\ttotal: 2.78s\tremaining: 1m 19s\n",
            "200:\tlearn: 16666.9768364\ttest: 17168.1516191\ttest1: 28986.6797787\tbest: 28986.6797787 (200)\ttotal: 5.29s\tremaining: 1m 13s\n",
            "300:\tlearn: 14073.2696827\ttest: 14734.3102570\ttest1: 28169.7259696\tbest: 28167.4725935 (295)\ttotal: 7.94s\tremaining: 1m 11s\n",
            "400:\tlearn: 12440.0931456\ttest: 13345.7875060\ttest1: 28015.9615165\tbest: 28005.3226586 (396)\ttotal: 10.7s\tremaining: 1m 9s\n",
            "500:\tlearn: 11173.1200399\ttest: 12276.6651873\ttest1: 27879.6497915\tbest: 27875.7534925 (499)\ttotal: 13.8s\tremaining: 1m 8s\n",
            "600:\tlearn: 10130.6574294\ttest: 11423.8055597\ttest1: 27733.5532153\tbest: 27730.6041312 (585)\ttotal: 16.5s\tremaining: 1m 5s\n",
            "700:\tlearn: 9265.0934981\ttest: 10683.7169693\ttest1: 27695.8087878\tbest: 27692.6266755 (695)\ttotal: 19.2s\tremaining: 1m 2s\n",
            "800:\tlearn: 8616.1347239\ttest: 10168.6511204\ttest1: 27653.5959626\tbest: 27653.5959626 (800)\ttotal: 21.9s\tremaining: 1m\n",
            "Stopped by overfitting detector  (50 iterations wait)\n",
            "\n",
            "bestTest = 27643.52829\n",
            "bestIteration = 807\n",
            "\n",
            "Shrink model to first 808 iterations.\n",
            "167009.87274688744\n",
            "0:\tlearn: 78543.0316729\ttest: 78543.0316729\ttest1: 72822.0464992\tbest: 72822.0464992 (0)\ttotal: 25.6ms\tremaining: 1m 16s\n",
            "100:\tlearn: 23121.9542832\ttest: 23152.3285406\ttest1: 22674.6798771\tbest: 22673.0997192 (97)\ttotal: 2.48s\tremaining: 1m 11s\n",
            "200:\tlearn: 18117.8621618\ttest: 18559.2815637\ttest1: 21175.5733062\tbest: 21175.5733062 (200)\ttotal: 4.99s\tremaining: 1m 9s\n",
            "300:\tlearn: 15883.4063836\ttest: 16618.9078610\ttest1: 20835.5577311\tbest: 20827.0787842 (298)\ttotal: 7.7s\tremaining: 1m 9s\n",
            "400:\tlearn: 14013.0943155\ttest: 15130.2524144\ttest1: 20278.3608910\tbest: 20273.2832743 (394)\ttotal: 10.7s\tremaining: 1m 9s\n",
            "500:\tlearn: 12659.9903097\ttest: 14069.4068687\ttest1: 20110.1183465\tbest: 20066.6809950 (491)\ttotal: 13.5s\tremaining: 1m 7s\n",
            "600:\tlearn: 11416.0860885\ttest: 13037.4858556\ttest1: 19908.4749064\tbest: 19907.4229611 (589)\ttotal: 16.2s\tremaining: 1m 4s\n",
            "700:\tlearn: 10415.4677998\ttest: 12239.1899513\ttest1: 19696.6600566\tbest: 19696.6600566 (700)\ttotal: 18.9s\tremaining: 1m 1s\n",
            "Stopped by overfitting detector  (50 iterations wait)\n",
            "\n",
            "bestTest = 19658.84619\n",
            "bestIteration = 729\n",
            "\n",
            "Shrink model to first 730 iterations.\n",
            "154696.7358604018\n",
            "0:\tlearn: 76446.9166164\ttest: 76446.9166164\ttest1: 80819.0496879\tbest: 80819.0496879 (0)\ttotal: 57.8ms\tremaining: 2m 53s\n",
            "100:\tlearn: 22738.8449102\ttest: 22864.2692496\ttest1: 34023.6556043\tbest: 34023.6556043 (100)\ttotal: 2.49s\tremaining: 1m 11s\n",
            "200:\tlearn: 17666.0112073\ttest: 18044.3579899\ttest1: 30443.0457258\tbest: 30438.9351804 (199)\ttotal: 4.83s\tremaining: 1m 7s\n",
            "300:\tlearn: 14939.6718312\ttest: 15685.5770868\ttest1: 29066.0403751\tbest: 29066.0403751 (300)\ttotal: 7.38s\tremaining: 1m 6s\n",
            "400:\tlearn: 13180.5209980\ttest: 14230.5734515\ttest1: 28681.9288580\tbest: 28681.8753766 (399)\ttotal: 10.6s\tremaining: 1m 8s\n",
            "500:\tlearn: 11860.8561429\ttest: 13165.5479713\ttest1: 28426.2082398\tbest: 28426.2082398 (500)\ttotal: 13.5s\tremaining: 1m 7s\n",
            "600:\tlearn: 10759.5552096\ttest: 12276.5679177\ttest1: 28266.4437383\tbest: 28261.8159105 (598)\ttotal: 16.1s\tremaining: 1m 4s\n",
            "700:\tlearn: 9763.0976292\ttest: 11513.0812985\ttest1: 28099.2502613\tbest: 28097.8516970 (699)\ttotal: 18.8s\tremaining: 1m 1s\n",
            "800:\tlearn: 8888.6658856\ttest: 10806.9776944\ttest1: 28014.2880846\tbest: 28008.0961114 (793)\ttotal: 21.7s\tremaining: 59.6s\n"
          ],
          "name": "stdout"
        },
        {
          "output_type": "stream",
          "text": [
            "\u001b[32m[I 2021-06-03 05:15:48,083]\u001b[0m Trial 9 finished with value: 157723.98890480684 and parameters: {'learning_rate': 0.044394615080020766, 'min_data_in_leaf': 813, 'depth': 6}. Best is trial 8 with value: 157267.64901039648.\u001b[0m\n"
          ],
          "name": "stderr"
        },
        {
          "output_type": "stream",
          "text": [
            "Stopped by overfitting detector  (50 iterations wait)\n",
            "\n",
            "bestTest = 27980.95403\n",
            "bestIteration = 829\n",
            "\n",
            "Shrink model to first 830 iterations.\n",
            "157723.98890480684\n",
            "Best Score: 157267.64901039648\n",
            "Best trial: {'learning_rate': 0.15017762185500286, 'min_data_in_leaf': 269, 'depth': 4}\n"
          ],
          "name": "stdout"
        }
      ]
    },
    {
      "cell_type": "code",
      "metadata": {
        "execution": {
          "iopub.status.busy": "2021-06-03T08:37:30.683249Z",
          "iopub.execute_input": "2021-06-03T08:37:30.683606Z",
          "iopub.status.idle": "2021-06-03T08:37:30.704888Z",
          "shell.execute_reply.started": "2021-06-03T08:37:30.683574Z",
          "shell.execute_reply": "2021-06-03T08:37:30.703945Z"
        },
        "trusted": true,
        "id": "5q3A5GvThvAJ",
        "outputId": "a7082327-38df-4fd4-82a7-0372ad20d071"
      },
      "source": [
        "submission['SalePrice'] = preds_cat\n",
        "submission.to_csv('submission8.csv', index=False)\n",
        "submission"
      ],
      "execution_count": null,
      "outputs": [
        {
          "output_type": "execute_result",
          "data": {
            "text/plain": [
              "        Id     SalePrice\n",
              "0     1461  24584.435589\n",
              "1     1462  30698.163494\n",
              "2     1463  35752.692175\n",
              "3     1464  37203.811819\n",
              "4     1465  39149.059918\n",
              "...    ...           ...\n",
              "1454  2915  17554.154654\n",
              "1455  2916  17001.877603\n",
              "1456  2917  31258.041674\n",
              "1457  2918  23768.368432\n",
              "1458  2919  42765.406313\n",
              "\n",
              "[1459 rows x 2 columns]"
            ],
            "text/html": [
              "<div>\n",
              "<style scoped>\n",
              "    .dataframe tbody tr th:only-of-type {\n",
              "        vertical-align: middle;\n",
              "    }\n",
              "\n",
              "    .dataframe tbody tr th {\n",
              "        vertical-align: top;\n",
              "    }\n",
              "\n",
              "    .dataframe thead th {\n",
              "        text-align: right;\n",
              "    }\n",
              "</style>\n",
              "<table border=\"1\" class=\"dataframe\">\n",
              "  <thead>\n",
              "    <tr style=\"text-align: right;\">\n",
              "      <th></th>\n",
              "      <th>Id</th>\n",
              "      <th>SalePrice</th>\n",
              "    </tr>\n",
              "  </thead>\n",
              "  <tbody>\n",
              "    <tr>\n",
              "      <th>0</th>\n",
              "      <td>1461</td>\n",
              "      <td>24584.435589</td>\n",
              "    </tr>\n",
              "    <tr>\n",
              "      <th>1</th>\n",
              "      <td>1462</td>\n",
              "      <td>30698.163494</td>\n",
              "    </tr>\n",
              "    <tr>\n",
              "      <th>2</th>\n",
              "      <td>1463</td>\n",
              "      <td>35752.692175</td>\n",
              "    </tr>\n",
              "    <tr>\n",
              "      <th>3</th>\n",
              "      <td>1464</td>\n",
              "      <td>37203.811819</td>\n",
              "    </tr>\n",
              "    <tr>\n",
              "      <th>4</th>\n",
              "      <td>1465</td>\n",
              "      <td>39149.059918</td>\n",
              "    </tr>\n",
              "    <tr>\n",
              "      <th>...</th>\n",
              "      <td>...</td>\n",
              "      <td>...</td>\n",
              "    </tr>\n",
              "    <tr>\n",
              "      <th>1454</th>\n",
              "      <td>2915</td>\n",
              "      <td>17554.154654</td>\n",
              "    </tr>\n",
              "    <tr>\n",
              "      <th>1455</th>\n",
              "      <td>2916</td>\n",
              "      <td>17001.877603</td>\n",
              "    </tr>\n",
              "    <tr>\n",
              "      <th>1456</th>\n",
              "      <td>2917</td>\n",
              "      <td>31258.041674</td>\n",
              "    </tr>\n",
              "    <tr>\n",
              "      <th>1457</th>\n",
              "      <td>2918</td>\n",
              "      <td>23768.368432</td>\n",
              "    </tr>\n",
              "    <tr>\n",
              "      <th>1458</th>\n",
              "      <td>2919</td>\n",
              "      <td>42765.406313</td>\n",
              "    </tr>\n",
              "  </tbody>\n",
              "</table>\n",
              "<p>1459 rows × 2 columns</p>\n",
              "</div>"
            ]
          },
          "metadata": {
            "tags": []
          },
          "execution_count": 229
        }
      ]
    }
  ]
}