{
  "nbformat": 4,
  "nbformat_minor": 0,
  "metadata": {
    "colab": {
      "name": "Kaggle_nyc-taxi-trip-duration 실습.ipynb",
      "provenance": [],
      "machine_shape": "hm",
      "mount_file_id": "1tz2TGzSMdXULGJd_e__CDXtvweLL5ccc",
      "authorship_tag": "ABX9TyOQ0KEDM3vhq24ju2qksfBD",
      "include_colab_link": true
    },
    "kernelspec": {
      "name": "python3",
      "display_name": "Python 3"
    },
    "language_info": {
      "name": "python"
    },
    "accelerator": "GPU"
  },
  "cells": [
    {
      "cell_type": "markdown",
      "metadata": {
        "id": "view-in-github",
        "colab_type": "text"
      },
      "source": [
        "<a href=\"https://colab.research.google.com/github/O-Kpy/Kaggle/blob/main/Kaggle_nyc_taxi_trip_duration_%ED%94%8C%EC%A0%9D.ipynb\" target=\"_parent\"><img src=\"https://colab.research.google.com/assets/colab-badge.svg\" alt=\"Open In Colab\"/></a>"
      ]
    },
    {
      "cell_type": "code",
      "metadata": {
        "id": "rZ6tZLbHUi0I"
      },
      "source": [
        "import pandas as pd\n",
        "import numpy as np\n",
        "import matplotlib.pyplot as plt\n",
        "import seaborn as sns\n",
        "plt.style.use('ggplot')\n",
        "\n",
        "from sklearn.preprocessing import LabelEncoder, StandardScaler"
      ],
      "execution_count": 26,
      "outputs": []
    },
    {
      "cell_type": "code",
      "metadata": {
        "colab": {
          "base_uri": "https://localhost:8080/"
        },
        "id": "2l0NTaIPUtoX",
        "outputId": "f4dd4b86-f52f-4c2b-fa73-22eb1421d16a"
      },
      "source": [
        "train = pd.read_csv('/content/drive/MyDrive/dataset/kaggle/nyc-taxi-trip-duration_train.csv')\n",
        "test = pd.read_csv('/content/drive/MyDrive/dataset/kaggle/nyc-taxi-trip-duration_test.csv')\n",
        "submit = pd.read_csv('/content/drive/MyDrive/dataset/kaggle/nyc-taxi-trip-durationsample_submission.csv')\n",
        "train.shape, test.shape, submit.shape"
      ],
      "execution_count": 80,
      "outputs": [
        {
          "output_type": "execute_result",
          "data": {
            "text/plain": [
              "((1458644, 11), (625134, 9), (625134, 2))"
            ]
          },
          "metadata": {
            "tags": []
          },
          "execution_count": 80
        }
      ]
    },
    {
      "cell_type": "code",
      "metadata": {
        "colab": {
          "base_uri": "https://localhost:8080/",
          "height": 369
        },
        "id": "1yk5X7doW-Tm",
        "outputId": "d0ede6fc-c372-42a2-cf12-628a4c07423f"
      },
      "source": [
        "# target변수에 log1p를 할 것.\n",
        "fig, ax = plt.subplots(1,2, figsize=(12,5))\n",
        "train['trip_duration'].hist(ax=ax[0], color='green')\n",
        "ax[0].set_title('Distribution Before log1p', fontsize=15, fontweight='bold')\n",
        "np.log1p(train['trip_duration']).hist(ax=ax[1])\n",
        "ax[1].set_title('Distribution After log1p', fontsize=15, fontweight='bold')"
      ],
      "execution_count": 20,
      "outputs": [
        {
          "output_type": "execute_result",
          "data": {
            "text/plain": [
              "Text(0.5, 1.0, 'Distribution After log1p')"
            ]
          },
          "metadata": {
            "tags": []
          },
          "execution_count": 20
        },
        {
          "output_type": "display_data",
          "data": {
            "image/png": "[encoded data removed]",
            "text/plain": [
              "<Figure size 864x360 with 2 Axes>"
            ]
          },
          "metadata": {
            "tags": []
          }
        }
      ]
    },
    {
      "cell_type": "markdown",
      "metadata": {
        "id": "d6b3YfeZZiPD"
      },
      "source": [
        "# 만들 columns \n",
        "\n",
        "1. distance(pickup_lon - dropoff_lon, pickup_lat-dropoff_lat, np.sqrt(np.square(train['dist_long']) + np.square(train['dist_lat'])))\n",
        "2. clustering\n",
        "3. speed(100000*train['dist'] / train['trip_duration'])  ==> test는 못 만드니까 지워야 함\n",
        "4. 시계열 columns (pickup 시계열로)\n",
        "\n",
        "---\n",
        "# Feature Engineering\n"
      ]
    },
    {
      "cell_type": "code",
      "metadata": {
        "id": "Ymf4p_TMYEip"
      },
      "source": [
        "# 시계열 컬럼\n",
        "train['pickup_datetime'] = pd.to_datetime(train['pickup_datetime'], format='%Y-%m-%d %H:%M:%S')\n",
        "test['pickup_datetime'] = pd.to_datetime(test['pickup_datetime'], format='%Y-%m-%d %H:%M:%S')\n",
        "\n",
        "train['month'] = train['pickup_datetime'].dt.month\n",
        "train['day'] = train['pickup_datetime'].dt.day\n",
        "train['hour'] = train['pickup_datetime'].dt.hour\n",
        "train['minute'] = train['pickup_datetime'].dt.minute\n",
        "train['weekday'] = train['pickup_datetime'].dt.weekday\n",
        "train['weekend'] = train['weekday'].apply(lambda x: 1 if x in [5,6] else 0)\n",
        "\n",
        "test['month'] = test['pickup_datetime'].dt.month\n",
        "test['day'] = test['pickup_datetime'].dt.day\n",
        "test['hour'] = test['pickup_datetime'].dt.hour\n",
        "test['minute'] = test['pickup_datetime'].dt.minute\n",
        "test['weekday'] = test['pickup_datetime'].dt.weekday\n",
        "test['weekend'] = test['weekday'].apply(lambda x: 1 if x in [5,6] else 0)"
      ],
      "execution_count": 81,
      "outputs": []
    },
    {
      "cell_type": "code",
      "metadata": {
        "id": "13oK89Yuck5G"
      },
      "source": [
        "# store_and_fwd_flag FE\n",
        "train['store_and_fwd_flag'] = train['store_and_fwd_flag'].replace({'N':0, 'Y':1})\n",
        "test['store_and_fwd_flag'] = test['store_and_fwd_flag'].replace({'N':0, 'Y':1})"
      ],
      "execution_count": 82,
      "outputs": []
    },
    {
      "cell_type": "code",
      "metadata": {
        "id": "eYTLgp3FjSs8"
      },
      "source": [
        "def calculateBearing(lat1,lng1,lat2,lng2):\n",
        "    R = 6371 \n",
        "    lng_delta_rad = np.radians(lng2 - lng1)\n",
        "    lat1, lng1, lat2, lng2 = map(np.radians, (lat1, lng1, lat2, lng2))\n",
        "    y = np.sin(lng_delta_rad) * np.cos(lat2)\n",
        "    x = np.cos(lat1) * np.sin(lat2) - np.sin(lat1) * np.cos(lat2) * np.cos(lng_delta_rad)\n",
        "    return np.degrees(np.arctan2(y, x))\n",
        "\n",
        "def feature_construct(df):\n",
        "  # distance feautres\n",
        "  df['dist_long'] = df['pickup_longitude'] - df['dropoff_longitude']\n",
        "  df['dist_lat'] = df['pickup_latitude'] - df['dropoff_latitude']\n",
        "  df['dist'] = np.sqrt(np.square(df['dist_long']) + np.square(df['dist_lat']))\n",
        "  \n",
        "\n",
        "  df['dist_long'] = np.abs(df['dist_long'])\n",
        "  df['dist_lat'] = np.abs(df['dist_lat'])\n",
        "\n",
        "  # 어디에서 어디까지 탔는가를 value_counts() ==> 구간별로 걸리는 시간(trip_duration)이 다를수도 있기 때문\n",
        "  df['pickup_longitude_bin'] = np.round(df['pickup_longitude'], 3)  # 그런데 위경도가 너무 크지 않나...?\n",
        "  df['pickup_latitude_bin'] = np.round(df['pickup_latitude'], 3)\n",
        "  df['dropoff_longitude_bin'] = np.round(df['dropoff_longitude'], 3)\n",
        "  df['dropoff_latitude_bin'] = np.round(df['dropoff_latitude'], 3)\n",
        "\n",
        "  # bearning distance 구하기\n",
        "  df['bearing_distance'] = df.apply(lambda x: calculateBearing(x['pickup_latitude_bin'], x['pickup_longitude_bin'], x['dropoff_latitude_bin'], x['dropoff_longitude_bin']), axis=1)\n",
        "\n",
        "  return df"
      ],
      "execution_count": 83,
      "outputs": []
    },
    {
      "cell_type": "code",
      "metadata": {
        "id": "fC-18Mq2q1hj"
      },
      "source": [
        "train = feature_construct(train)\n",
        "test = feature_construct(test)"
      ],
      "execution_count": 84,
      "outputs": []
    },
    {
      "cell_type": "code",
      "metadata": {
        "colab": {
          "base_uri": "https://localhost:8080/",
          "height": 307
        },
        "id": "7qIu-4C2rQmj",
        "outputId": "5be83f48-ec17-4c04-e023-afe8e24f61ef"
      },
      "source": [
        "a = pd.concat([train,test]).groupby(['pickup_longitude_bin', 'pickup_latitude_bin']).size().reset_index(name='bin_valuecounts')\n",
        "b = pd.concat([train,test]).groupby(['dropoff_longitude_bin', 'dropoff_latitude_bin']).size().reset_index(name='bin_valuecounts')\n",
        "\n",
        "train = train.merge(a, on=['pickup_longitude_bin', 'pickup_latitude_bin'], how='left')\n",
        "test = test.merge(a, on=['pickup_longitude_bin', 'pickup_latitude_bin'], how='left')\n",
        "\n",
        "train = train.merge(b, on=['dropoff_longitude_bin', 'dropoff_latitude_bin'], how='left')\n",
        "test = test.merge(b, on=['dropoff_longitude_bin', 'dropoff_latitude_bin'], how='left')\n",
        "\n",
        "train.head()"
      ],
      "execution_count": 85,
      "outputs": [
        {
          "output_type": "execute_result",
          "data": {
            "text/html": [
              "<div>\n",
              "<style scoped>\n",
              "    .dataframe tbody tr th:only-of-type {\n",
              "        vertical-align: middle;\n",
              "    }\n",
              "\n",
              "    .dataframe tbody tr th {\n",
              "        vertical-align: top;\n",
              "    }\n",
              "\n",
              "    .dataframe thead th {\n",
              "        text-align: right;\n",
              "    }\n",
              "</style>\n",
              "<table border=\"1\" class=\"dataframe\">\n",
              "  <thead>\n",
              "    <tr style=\"text-align: right;\">\n",
              "      <th></th>\n",
              "      <th>id</th>\n",
              "      <th>vendor_id</th>\n",
              "      <th>pickup_datetime</th>\n",
              "      <th>dropoff_datetime</th>\n",
              "      <th>passenger_count</th>\n",
              "      <th>pickup_longitude</th>\n",
              "      <th>pickup_latitude</th>\n",
              "      <th>dropoff_longitude</th>\n",
              "      <th>dropoff_latitude</th>\n",
              "      <th>store_and_fwd_flag</th>\n",
              "      <th>trip_duration</th>\n",
              "      <th>month</th>\n",
              "      <th>day</th>\n",
              "      <th>hour</th>\n",
              "      <th>minute</th>\n",
              "      <th>weekday</th>\n",
              "      <th>weekend</th>\n",
              "      <th>dist_long</th>\n",
              "      <th>dist_lat</th>\n",
              "      <th>dist</th>\n",
              "      <th>pickup_longitude_bin</th>\n",
              "      <th>pickup_latitude_bin</th>\n",
              "      <th>dropoff_longitude_bin</th>\n",
              "      <th>dropoff_latitude_bin</th>\n",
              "      <th>bin_valuecounts_x</th>\n",
              "      <th>bin_valuecounts_y</th>\n",
              "    </tr>\n",
              "  </thead>\n",
              "  <tbody>\n",
              "    <tr>\n",
              "      <th>0</th>\n",
              "      <td>id2875421</td>\n",
              "      <td>2</td>\n",
              "      <td>2016-03-14 17:24:55</td>\n",
              "      <td>2016-03-14 17:32:30</td>\n",
              "      <td>1</td>\n",
              "      <td>-73.982155</td>\n",
              "      <td>40.767937</td>\n",
              "      <td>-73.964630</td>\n",
              "      <td>40.765602</td>\n",
              "      <td>0</td>\n",
              "      <td>455</td>\n",
              "      <td>3</td>\n",
              "      <td>14</td>\n",
              "      <td>17</td>\n",
              "      <td>24</td>\n",
              "      <td>0</td>\n",
              "      <td>0</td>\n",
              "      <td>0.017525</td>\n",
              "      <td>0.002335</td>\n",
              "      <td>0.017680</td>\n",
              "      <td>-73.982</td>\n",
              "      <td>40.768</td>\n",
              "      <td>-73.965</td>\n",
              "      <td>40.766</td>\n",
              "      <td>5256</td>\n",
              "      <td>602</td>\n",
              "    </tr>\n",
              "    <tr>\n",
              "      <th>1</th>\n",
              "      <td>id2377394</td>\n",
              "      <td>1</td>\n",
              "      <td>2016-06-12 00:43:35</td>\n",
              "      <td>2016-06-12 00:54:38</td>\n",
              "      <td>1</td>\n",
              "      <td>-73.980415</td>\n",
              "      <td>40.738564</td>\n",
              "      <td>-73.999481</td>\n",
              "      <td>40.731152</td>\n",
              "      <td>0</td>\n",
              "      <td>663</td>\n",
              "      <td>6</td>\n",
              "      <td>12</td>\n",
              "      <td>0</td>\n",
              "      <td>43</td>\n",
              "      <td>6</td>\n",
              "      <td>1</td>\n",
              "      <td>0.019066</td>\n",
              "      <td>0.007412</td>\n",
              "      <td>0.020456</td>\n",
              "      <td>-73.980</td>\n",
              "      <td>40.739</td>\n",
              "      <td>-73.999</td>\n",
              "      <td>40.731</td>\n",
              "      <td>1010</td>\n",
              "      <td>394</td>\n",
              "    </tr>\n",
              "    <tr>\n",
              "      <th>2</th>\n",
              "      <td>id3858529</td>\n",
              "      <td>2</td>\n",
              "      <td>2016-01-19 11:35:24</td>\n",
              "      <td>2016-01-19 12:10:48</td>\n",
              "      <td>1</td>\n",
              "      <td>-73.979027</td>\n",
              "      <td>40.763939</td>\n",
              "      <td>-74.005333</td>\n",
              "      <td>40.710087</td>\n",
              "      <td>0</td>\n",
              "      <td>2124</td>\n",
              "      <td>1</td>\n",
              "      <td>19</td>\n",
              "      <td>11</td>\n",
              "      <td>35</td>\n",
              "      <td>1</td>\n",
              "      <td>0</td>\n",
              "      <td>0.026306</td>\n",
              "      <td>0.053852</td>\n",
              "      <td>0.059934</td>\n",
              "      <td>-73.979</td>\n",
              "      <td>40.764</td>\n",
              "      <td>-74.005</td>\n",
              "      <td>40.710</td>\n",
              "      <td>1132</td>\n",
              "      <td>264</td>\n",
              "    </tr>\n",
              "    <tr>\n",
              "      <th>3</th>\n",
              "      <td>id3504673</td>\n",
              "      <td>2</td>\n",
              "      <td>2016-04-06 19:32:31</td>\n",
              "      <td>2016-04-06 19:39:40</td>\n",
              "      <td>1</td>\n",
              "      <td>-74.010040</td>\n",
              "      <td>40.719971</td>\n",
              "      <td>-74.012268</td>\n",
              "      <td>40.706718</td>\n",
              "      <td>0</td>\n",
              "      <td>429</td>\n",
              "      <td>4</td>\n",
              "      <td>6</td>\n",
              "      <td>19</td>\n",
              "      <td>32</td>\n",
              "      <td>2</td>\n",
              "      <td>0</td>\n",
              "      <td>0.002228</td>\n",
              "      <td>0.013252</td>\n",
              "      <td>0.013438</td>\n",
              "      <td>-74.010</td>\n",
              "      <td>40.720</td>\n",
              "      <td>-74.012</td>\n",
              "      <td>40.707</td>\n",
              "      <td>1190</td>\n",
              "      <td>636</td>\n",
              "    </tr>\n",
              "    <tr>\n",
              "      <th>4</th>\n",
              "      <td>id2181028</td>\n",
              "      <td>2</td>\n",
              "      <td>2016-03-26 13:30:55</td>\n",
              "      <td>2016-03-26 13:38:10</td>\n",
              "      <td>1</td>\n",
              "      <td>-73.973053</td>\n",
              "      <td>40.793209</td>\n",
              "      <td>-73.972923</td>\n",
              "      <td>40.782520</td>\n",
              "      <td>0</td>\n",
              "      <td>435</td>\n",
              "      <td>3</td>\n",
              "      <td>26</td>\n",
              "      <td>13</td>\n",
              "      <td>30</td>\n",
              "      <td>5</td>\n",
              "      <td>1</td>\n",
              "      <td>0.000130</td>\n",
              "      <td>0.010689</td>\n",
              "      <td>0.010690</td>\n",
              "      <td>-73.973</td>\n",
              "      <td>40.793</td>\n",
              "      <td>-73.973</td>\n",
              "      <td>40.783</td>\n",
              "      <td>1482</td>\n",
              "      <td>442</td>\n",
              "    </tr>\n",
              "  </tbody>\n",
              "</table>\n",
              "</div>"
            ],
            "text/plain": [
              "          id  vendor_id  ... bin_valuecounts_x bin_valuecounts_y\n",
              "0  id2875421          2  ...              5256               602\n",
              "1  id2377394          1  ...              1010               394\n",
              "2  id3858529          2  ...              1132               264\n",
              "3  id3504673          2  ...              1190               636\n",
              "4  id2181028          2  ...              1482               442\n",
              "\n",
              "[5 rows x 26 columns]"
            ]
          },
          "metadata": {
            "tags": []
          },
          "execution_count": 85
        }
      ]
    },
    {
      "cell_type": "code",
      "metadata": {
        "id": "G9thTkD6swsN"
      },
      "source": [
        "# speed columns 이용\n",
        "train['speed'] = 100000*train['dist'] / train['trip_duration']"
      ],
      "execution_count": 86,
      "outputs": []
    },
    {
      "cell_type": "code",
      "metadata": {
        "colab": {
          "base_uri": "https://localhost:8080/",
          "height": 307
        },
        "id": "NJ2QpVVets3C",
        "outputId": "1e0a82d5-438c-4a75-f822-775e46220400"
      },
      "source": [
        "a = train.groupby(['pickup_longitude_bin', 'pickup_latitude_bin'])['speed'].mean().reset_index(name='avg_speed')\n",
        "b = train.groupby(['dropoff_longitude_bin', 'dropoff_latitude_bin'])['speed'].mean().reset_index(name='avg_speed')\n",
        "\n",
        "train = train.merge(a, on=['pickup_longitude_bin', 'pickup_latitude_bin'], how='left')\n",
        "train = train.merge(b, on=['dropoff_longitude_bin', 'dropoff_latitude_bin'], how='left')\n",
        "\n",
        "test = test.merge(a, on=['pickup_longitude_bin', 'pickup_latitude_bin'], how='left')\n",
        "test = test.merge(b, on=['dropoff_longitude_bin', 'dropoff_latitude_bin'], how='left')\n",
        "\n",
        "train.head()"
      ],
      "execution_count": 87,
      "outputs": [
        {
          "output_type": "execute_result",
          "data": {
            "text/html": [
              "<div>\n",
              "<style scoped>\n",
              "    .dataframe tbody tr th:only-of-type {\n",
              "        vertical-align: middle;\n",
              "    }\n",
              "\n",
              "    .dataframe tbody tr th {\n",
              "        vertical-align: top;\n",
              "    }\n",
              "\n",
              "    .dataframe thead th {\n",
              "        text-align: right;\n",
              "    }\n",
              "</style>\n",
              "<table border=\"1\" class=\"dataframe\">\n",
              "  <thead>\n",
              "    <tr style=\"text-align: right;\">\n",
              "      <th></th>\n",
              "      <th>id</th>\n",
              "      <th>vendor_id</th>\n",
              "      <th>pickup_datetime</th>\n",
              "      <th>dropoff_datetime</th>\n",
              "      <th>passenger_count</th>\n",
              "      <th>pickup_longitude</th>\n",
              "      <th>pickup_latitude</th>\n",
              "      <th>dropoff_longitude</th>\n",
              "      <th>dropoff_latitude</th>\n",
              "      <th>store_and_fwd_flag</th>\n",
              "      <th>trip_duration</th>\n",
              "      <th>month</th>\n",
              "      <th>day</th>\n",
              "      <th>hour</th>\n",
              "      <th>minute</th>\n",
              "      <th>weekday</th>\n",
              "      <th>weekend</th>\n",
              "      <th>dist_long</th>\n",
              "      <th>dist_lat</th>\n",
              "      <th>dist</th>\n",
              "      <th>pickup_longitude_bin</th>\n",
              "      <th>pickup_latitude_bin</th>\n",
              "      <th>dropoff_longitude_bin</th>\n",
              "      <th>dropoff_latitude_bin</th>\n",
              "      <th>bin_valuecounts_x</th>\n",
              "      <th>bin_valuecounts_y</th>\n",
              "      <th>speed</th>\n",
              "      <th>avg_speed_x</th>\n",
              "      <th>avg_speed_y</th>\n",
              "    </tr>\n",
              "  </thead>\n",
              "  <tbody>\n",
              "    <tr>\n",
              "      <th>0</th>\n",
              "      <td>id2875421</td>\n",
              "      <td>2</td>\n",
              "      <td>2016-03-14 17:24:55</td>\n",
              "      <td>2016-03-14 17:32:30</td>\n",
              "      <td>1</td>\n",
              "      <td>-73.982155</td>\n",
              "      <td>40.767937</td>\n",
              "      <td>-73.964630</td>\n",
              "      <td>40.765602</td>\n",
              "      <td>0</td>\n",
              "      <td>455</td>\n",
              "      <td>3</td>\n",
              "      <td>14</td>\n",
              "      <td>17</td>\n",
              "      <td>24</td>\n",
              "      <td>0</td>\n",
              "      <td>0</td>\n",
              "      <td>0.017525</td>\n",
              "      <td>0.002335</td>\n",
              "      <td>0.017680</td>\n",
              "      <td>-73.982</td>\n",
              "      <td>40.768</td>\n",
              "      <td>-73.965</td>\n",
              "      <td>40.766</td>\n",
              "      <td>5256</td>\n",
              "      <td>602</td>\n",
              "      <td>3.885613</td>\n",
              "      <td>3.347062</td>\n",
              "      <td>3.354606</td>\n",
              "    </tr>\n",
              "    <tr>\n",
              "      <th>1</th>\n",
              "      <td>id2377394</td>\n",
              "      <td>1</td>\n",
              "      <td>2016-06-12 00:43:35</td>\n",
              "      <td>2016-06-12 00:54:38</td>\n",
              "      <td>1</td>\n",
              "      <td>-73.980415</td>\n",
              "      <td>40.738564</td>\n",
              "      <td>-73.999481</td>\n",
              "      <td>40.731152</td>\n",
              "      <td>0</td>\n",
              "      <td>663</td>\n",
              "      <td>6</td>\n",
              "      <td>12</td>\n",
              "      <td>0</td>\n",
              "      <td>43</td>\n",
              "      <td>6</td>\n",
              "      <td>1</td>\n",
              "      <td>0.019066</td>\n",
              "      <td>0.007412</td>\n",
              "      <td>0.020456</td>\n",
              "      <td>-73.980</td>\n",
              "      <td>40.739</td>\n",
              "      <td>-73.999</td>\n",
              "      <td>40.731</td>\n",
              "      <td>1010</td>\n",
              "      <td>394</td>\n",
              "      <td>3.085355</td>\n",
              "      <td>3.678684</td>\n",
              "      <td>3.408484</td>\n",
              "    </tr>\n",
              "    <tr>\n",
              "      <th>2</th>\n",
              "      <td>id3858529</td>\n",
              "      <td>2</td>\n",
              "      <td>2016-01-19 11:35:24</td>\n",
              "      <td>2016-01-19 12:10:48</td>\n",
              "      <td>1</td>\n",
              "      <td>-73.979027</td>\n",
              "      <td>40.763939</td>\n",
              "      <td>-74.005333</td>\n",
              "      <td>40.710087</td>\n",
              "      <td>0</td>\n",
              "      <td>2124</td>\n",
              "      <td>1</td>\n",
              "      <td>19</td>\n",
              "      <td>11</td>\n",
              "      <td>35</td>\n",
              "      <td>1</td>\n",
              "      <td>0</td>\n",
              "      <td>0.026306</td>\n",
              "      <td>0.053852</td>\n",
              "      <td>0.059934</td>\n",
              "      <td>-73.979</td>\n",
              "      <td>40.764</td>\n",
              "      <td>-74.005</td>\n",
              "      <td>40.710</td>\n",
              "      <td>1132</td>\n",
              "      <td>264</td>\n",
              "      <td>2.821742</td>\n",
              "      <td>3.317220</td>\n",
              "      <td>4.552624</td>\n",
              "    </tr>\n",
              "    <tr>\n",
              "      <th>3</th>\n",
              "      <td>id3504673</td>\n",
              "      <td>2</td>\n",
              "      <td>2016-04-06 19:32:31</td>\n",
              "      <td>2016-04-06 19:39:40</td>\n",
              "      <td>1</td>\n",
              "      <td>-74.010040</td>\n",
              "      <td>40.719971</td>\n",
              "      <td>-74.012268</td>\n",
              "      <td>40.706718</td>\n",
              "      <td>0</td>\n",
              "      <td>429</td>\n",
              "      <td>4</td>\n",
              "      <td>6</td>\n",
              "      <td>19</td>\n",
              "      <td>32</td>\n",
              "      <td>2</td>\n",
              "      <td>0</td>\n",
              "      <td>0.002228</td>\n",
              "      <td>0.013252</td>\n",
              "      <td>0.013438</td>\n",
              "      <td>-74.010</td>\n",
              "      <td>40.720</td>\n",
              "      <td>-74.012</td>\n",
              "      <td>40.707</td>\n",
              "      <td>1190</td>\n",
              "      <td>636</td>\n",
              "      <td>3.132449</td>\n",
              "      <td>4.069836</td>\n",
              "      <td>4.190553</td>\n",
              "    </tr>\n",
              "    <tr>\n",
              "      <th>4</th>\n",
              "      <td>id2181028</td>\n",
              "      <td>2</td>\n",
              "      <td>2016-03-26 13:30:55</td>\n",
              "      <td>2016-03-26 13:38:10</td>\n",
              "      <td>1</td>\n",
              "      <td>-73.973053</td>\n",
              "      <td>40.793209</td>\n",
              "      <td>-73.972923</td>\n",
              "      <td>40.782520</td>\n",
              "      <td>0</td>\n",
              "      <td>435</td>\n",
              "      <td>3</td>\n",
              "      <td>26</td>\n",
              "      <td>13</td>\n",
              "      <td>30</td>\n",
              "      <td>5</td>\n",
              "      <td>1</td>\n",
              "      <td>0.000130</td>\n",
              "      <td>0.010689</td>\n",
              "      <td>0.010690</td>\n",
              "      <td>-73.973</td>\n",
              "      <td>40.793</td>\n",
              "      <td>-73.973</td>\n",
              "      <td>40.783</td>\n",
              "      <td>1482</td>\n",
              "      <td>442</td>\n",
              "      <td>2.457372</td>\n",
              "      <td>4.437244</td>\n",
              "      <td>4.029664</td>\n",
              "    </tr>\n",
              "  </tbody>\n",
              "</table>\n",
              "</div>"
            ],
            "text/plain": [
              "          id  vendor_id     pickup_datetime  ...     speed  avg_speed_x  avg_speed_y\n",
              "0  id2875421          2 2016-03-14 17:24:55  ...  3.885613     3.347062     3.354606\n",
              "1  id2377394          1 2016-06-12 00:43:35  ...  3.085355     3.678684     3.408484\n",
              "2  id3858529          2 2016-01-19 11:35:24  ...  2.821742     3.317220     4.552624\n",
              "3  id3504673          2 2016-04-06 19:32:31  ...  3.132449     4.069836     4.190553\n",
              "4  id2181028          2 2016-03-26 13:30:55  ...  2.457372     4.437244     4.029664\n",
              "\n",
              "[5 rows x 29 columns]"
            ]
          },
          "metadata": {
            "tags": []
          },
          "execution_count": 87
        }
      ]
    },
    {
      "cell_type": "code",
      "metadata": {
        "id": "74ykl3BrvDye"
      },
      "source": [
        "# clustering\n",
        "from sklearn.cluster import KMeans\n",
        "\n",
        "longi = np.vstack((train[['pickup_longitude_bin', 'pickup_latitude_bin']],\n",
        "                  train[['dropoff_longitude_bin', 'dropoff_latitude_bin']],\n",
        "                  test[['pickup_longitude_bin', 'pickup_latitude_bin']],\n",
        "                  test[['dropoff_longitude_bin', 'dropoff_latitude_bin']]))\n",
        "# Elbow method\n",
        "sse = {}\n",
        "for i in range(1,20, 1):\n",
        "  km = KMeans(n_clusters=i, max_iter=1000, random_state=42).fit(longi)\n",
        "  sse[i] = km.inertia_"
      ],
      "execution_count": 94,
      "outputs": []
    },
    {
      "cell_type": "code",
      "metadata": {
        "colab": {
          "base_uri": "https://localhost:8080/",
          "height": 548
        },
        "id": "vEvcz4ws5jH8",
        "outputId": "75591f27-f76f-42be-d77b-c49ef7db675b"
      },
      "source": [
        "plt.figure(figsize=(12,7))\n",
        "sns.lineplot(pd.Series(sse).index, pd.Series(sse), marker='o')\n",
        "plt.ylabel('SSE')\n",
        "plt.xlabel('n_cluster')\n",
        "plt.xticks(pd.Series(sse).index)\n",
        "plt.title('Elbow method graph', fontsize=20, pad=15, fontweight='bold')"
      ],
      "execution_count": 97,
      "outputs": [
        {
          "output_type": "stream",
          "text": [
            "/usr/local/lib/python3.7/dist-packages/seaborn/_decorators.py:43: FutureWarning: Pass the following variables as keyword args: x, y. From version 0.12, the only valid positional argument will be `data`, and passing other arguments without an explicit keyword will result in an error or misinterpretation.\n",
            "  FutureWarning\n"
          ],
          "name": "stderr"
        },
        {
          "output_type": "execute_result",
          "data": {
            "text/plain": [
              "Text(0.5, 1.0, 'Elbow method graph')"
            ]
          },
          "metadata": {
            "tags": []
          },
          "execution_count": 97
        },
        {
          "output_type": "display_data",
          "data": {
            "image/png": "[encoded data removed]",
            "text/plain": [
              "<Figure size 864x504 with 1 Axes>"
            ]
          },
          "metadata": {
            "tags": []
          }
        }
      ]
    },
    {
      "cell_type": "code",
      "metadata": {
        "id": "X6TXbJPR1Xp8"
      },
      "source": [
        "# predict\n",
        "km = KMeans(n_clusters=4, max_iter=1000, random_state=42).fit(longi)\n",
        "\n",
        "train['pickup_cluster'] = km.predict(train[['pickup_longitude_bin', 'pickup_latitude_bin']])\n",
        "train['dropoff_cluster'] = km.predict(train[['dropoff_longitude_bin', 'dropoff_latitude_bin']])\n",
        "\n",
        "test['pickup_cluster'] = km.predict(test[['pickup_longitude_bin', 'pickup_latitude_bin']])\n",
        "test['dropoff_cluster'] = km.predict(test[['dropoff_longitude_bin', 'dropoff_latitude_bin']])\n",
        "\n",
        "# visualize\n",
        "plt.figure(figsize=(10,8))\n",
        "sns.scatterplot(x=train['pickup_longitude'], y=train['pickup_latitude'], hue=train['pickup_cluster'], data=train)\n",
        "plt.xlim((-74.03, -73.75))\n",
        "plt.ylim((40.63, 40.85))\n",
        "plt.title('scatter map for clustering', fontsize=20, pad=20, fontweight='bold')"
      ],
      "execution_count": 107,
      "outputs": []
    },
    {
      "cell_type": "markdown",
      "metadata": {
        "id": "GIPwqgoaLBPN"
      },
      "source": [
        "# Data preprocessing"
      ]
    },
    {
      "cell_type": "code",
      "metadata": {
        "colab": {
          "base_uri": "https://localhost:8080/"
        },
        "id": "k5pSdxA01jEo",
        "outputId": "74f68e32-1062-418a-aefc-d8683a9c4206"
      },
      "source": [
        "# data split\n",
        "x_train = train.drop(columns=['id', 'trip_duration', 'pickup_datetime', 'dropoff_datetime', 'speed', 'pickup_longitude_bin', 'pickup_latitude_bin', 'dropoff_longitude_bin', 'dropoff_latitude_bin'])\n",
        "y_train = np.log1p(train['trip_duration'])  # 타겟에 log1p \n",
        "x_test = test.drop(columns=['id', 'pickup_datetime', 'pickup_longitude_bin', 'pickup_latitude_bin', 'dropoff_longitude_bin', 'dropoff_latitude_bin'])\n",
        "x_train_columns, x_test_columns = x_train.columns, x_test.columns\n",
        "x_train.shape, x_test.shape"
      ],
      "execution_count": 136,
      "outputs": [
        {
          "output_type": "execute_result",
          "data": {
            "text/plain": [
              "((1458644, 22), (625134, 22))"
            ]
          },
          "metadata": {
            "tags": []
          },
          "execution_count": 136
        }
      ]
    },
    {
      "cell_type": "code",
      "metadata": {
        "id": "nam-p9agLF3G"
      },
      "source": [
        "# scaling\n",
        "from sklearn.preprocessing import MinMaxScaler\n",
        "\n",
        "mm = MinMaxScaler().fit(x_train)\n",
        "x_train = mm.transform(x_train)\n",
        "x_test = mm.transform(x_test)\n",
        "\n",
        "x_train = pd.DataFrame(x_train, columns=x_train_columns)\n",
        "x_test = pd.DataFrame(x_test, columns=x_test_columns)"
      ],
      "execution_count": 137,
      "outputs": []
    },
    {
      "cell_type": "markdown",
      "metadata": {
        "id": "qphG_VDOORLq"
      },
      "source": [
        "# Modeling (Catboost) - 라이브러리 설치"
      ]
    },
    {
      "cell_type": "code",
      "metadata": {
        "colab": {
          "base_uri": "https://localhost:8080/"
        },
        "id": "K9fea9CVOUL3",
        "outputId": "ec616f23-2f88-4199-d714-e151170bd6c1"
      },
      "source": [
        "!pip install catboost\n",
        "!pip install optuna"
      ],
      "execution_count": 140,
      "outputs": [
        {
          "output_type": "stream",
          "text": [
            "Collecting catboost\n",
            "  Downloading catboost-0.26.1-cp37-none-manylinux1_x86_64.whl (67.4 MB)\n",
            "\u001b[K     |████████████████████████████████| 67.4 MB 100 kB/s \n",
            "\u001b[?25hRequirement already satisfied: graphviz in /usr/local/lib/python3.7/dist-packages (from catboost) (0.10.1)\n",
            "Requirement already satisfied: plotly in /usr/local/lib/python3.7/dist-packages (from catboost) (4.4.1)\n",
            "Requirement already satisfied: pandas>=0.24.0 in /usr/local/lib/python3.7/dist-packages (from catboost) (1.1.5)\n",
            "Requirement already satisfied: scipy in /usr/local/lib/python3.7/dist-packages (from catboost) (1.4.1)\n",
            "Requirement already satisfied: six in /usr/local/lib/python3.7/dist-packages (from catboost) (1.15.0)\n",
            "Requirement already satisfied: numpy>=1.16.0 in /usr/local/lib/python3.7/dist-packages (from catboost) (1.19.5)\n",
            "Requirement already satisfied: matplotlib in /usr/local/lib/python3.7/dist-packages (from catboost) (3.2.2)\n",
            "Requirement already satisfied: python-dateutil>=2.7.3 in /usr/local/lib/python3.7/dist-packages (from pandas>=0.24.0->catboost) (2.8.1)\n",
            "Requirement already satisfied: pytz>=2017.2 in /usr/local/lib/python3.7/dist-packages (from pandas>=0.24.0->catboost) (2018.9)\n",
            "Requirement already satisfied: pyparsing!=2.0.4,!=2.1.2,!=2.1.6,>=2.0.1 in /usr/local/lib/python3.7/dist-packages (from matplotlib->catboost) (2.4.7)\n",
            "Requirement already satisfied: cycler>=0.10 in /usr/local/lib/python3.7/dist-packages (from matplotlib->catboost) (0.10.0)\n",
            "Requirement already satisfied: kiwisolver>=1.0.1 in /usr/local/lib/python3.7/dist-packages (from matplotlib->catboost) (1.3.1)\n",
            "Requirement already satisfied: retrying>=1.3.3 in /usr/local/lib/python3.7/dist-packages (from plotly->catboost) (1.3.3)\n",
            "Installing collected packages: catboost\n",
            "Successfully installed catboost-0.26.1\n",
            "Collecting optuna\n",
            "  Downloading optuna-2.9.1-py3-none-any.whl (302 kB)\n",
            "\u001b[K     |████████████████████████████████| 302 kB 5.3 MB/s \n",
            "\u001b[?25hRequirement already satisfied: numpy in /usr/local/lib/python3.7/dist-packages (from optuna) (1.19.5)\n",
            "Collecting colorlog\n",
            "  Downloading colorlog-5.0.1-py2.py3-none-any.whl (10 kB)\n",
            "Collecting cliff\n",
            "  Downloading cliff-3.8.0-py3-none-any.whl (80 kB)\n",
            "\u001b[K     |████████████████████████████████| 80 kB 7.1 MB/s \n",
            "\u001b[?25hCollecting alembic\n",
            "  Downloading alembic-1.6.5-py2.py3-none-any.whl (164 kB)\n",
            "\u001b[K     |████████████████████████████████| 164 kB 53.7 MB/s \n",
            "\u001b[?25hRequirement already satisfied: sqlalchemy>=1.1.0 in /usr/local/lib/python3.7/dist-packages (from optuna) (1.4.20)\n",
            "Requirement already satisfied: tqdm in /usr/local/lib/python3.7/dist-packages (from optuna) (4.41.1)\n",
            "Requirement already satisfied: scipy!=1.4.0 in /usr/local/lib/python3.7/dist-packages (from optuna) (1.4.1)\n",
            "Requirement already satisfied: packaging>=20.0 in /usr/local/lib/python3.7/dist-packages (from optuna) (21.0)\n",
            "Collecting cmaes>=0.8.2\n",
            "  Downloading cmaes-0.8.2-py3-none-any.whl (15 kB)\n",
            "Requirement already satisfied: PyYAML in /usr/local/lib/python3.7/dist-packages (from optuna) (3.13)\n",
            "Requirement already satisfied: pyparsing>=2.0.2 in /usr/local/lib/python3.7/dist-packages (from packaging>=20.0->optuna) (2.4.7)\n",
            "Requirement already satisfied: greenlet!=0.4.17 in /usr/local/lib/python3.7/dist-packages (from sqlalchemy>=1.1.0->optuna) (1.1.0)\n",
            "Requirement already satisfied: importlib-metadata in /usr/local/lib/python3.7/dist-packages (from sqlalchemy>=1.1.0->optuna) (4.6.1)\n",
            "Requirement already satisfied: python-dateutil in /usr/local/lib/python3.7/dist-packages (from alembic->optuna) (2.8.1)\n",
            "Collecting Mako\n",
            "  Downloading Mako-1.1.4-py2.py3-none-any.whl (75 kB)\n",
            "\u001b[K     |████████████████████████████████| 75 kB 3.5 MB/s \n",
            "\u001b[?25hCollecting python-editor>=0.3\n",
            "  Downloading python_editor-1.0.4-py3-none-any.whl (4.9 kB)\n",
            "Collecting pbr!=2.1.0,>=2.0.0\n",
            "  Downloading pbr-5.6.0-py2.py3-none-any.whl (111 kB)\n",
            "\u001b[K     |████████████████████████████████| 111 kB 53.1 MB/s \n",
            "\u001b[?25hRequirement already satisfied: PrettyTable>=0.7.2 in /usr/local/lib/python3.7/dist-packages (from cliff->optuna) (2.1.0)\n",
            "Collecting stevedore>=2.0.1\n",
            "  Downloading stevedore-3.3.0-py3-none-any.whl (49 kB)\n",
            "\u001b[K     |████████████████████████████████| 49 kB 5.0 MB/s \n",
            "\u001b[?25hCollecting cmd2>=1.0.0\n",
            "  Downloading cmd2-2.1.2-py3-none-any.whl (141 kB)\n",
            "\u001b[K     |████████████████████████████████| 141 kB 49.0 MB/s \n",
            "\u001b[?25hCollecting colorama>=0.3.7\n",
            "  Downloading colorama-0.4.4-py2.py3-none-any.whl (16 kB)\n",
            "Requirement already satisfied: wcwidth>=0.1.7 in /usr/local/lib/python3.7/dist-packages (from cmd2>=1.0.0->cliff->optuna) (0.2.5)\n",
            "Requirement already satisfied: typing-extensions in /usr/local/lib/python3.7/dist-packages (from cmd2>=1.0.0->cliff->optuna) (3.7.4.3)\n",
            "Requirement already satisfied: attrs>=16.3.0 in /usr/local/lib/python3.7/dist-packages (from cmd2>=1.0.0->cliff->optuna) (21.2.0)\n",
            "Collecting pyperclip>=1.6\n",
            "  Downloading pyperclip-1.8.2.tar.gz (20 kB)\n",
            "Requirement already satisfied: zipp>=0.5 in /usr/local/lib/python3.7/dist-packages (from importlib-metadata->sqlalchemy>=1.1.0->optuna) (3.5.0)\n",
            "Requirement already satisfied: MarkupSafe>=0.9.2 in /usr/local/lib/python3.7/dist-packages (from Mako->alembic->optuna) (2.0.1)\n",
            "Requirement already satisfied: six>=1.5 in /usr/local/lib/python3.7/dist-packages (from python-dateutil->alembic->optuna) (1.15.0)\n",
            "Building wheels for collected packages: pyperclip\n",
            "  Building wheel for pyperclip (setup.py) ... \u001b[?25l\u001b[?25hdone\n",
            "  Created wheel for pyperclip: filename=pyperclip-1.8.2-py3-none-any.whl size=11137 sha256=6b86619b348b71111c3cb6d65a6a844bb7111e5e81c9270d0e95f8a4e72af34b\n",
            "  Stored in directory: /root/.cache/pip/wheels/9f/18/84/8f69f8b08169c7bae2dde6bd7daf0c19fca8c8e500ee620a28\n",
            "Successfully built pyperclip\n",
            "Installing collected packages: pyperclip, pbr, colorama, stevedore, python-editor, Mako, cmd2, colorlog, cmaes, cliff, alembic, optuna\n",
            "Successfully installed Mako-1.1.4 alembic-1.6.5 cliff-3.8.0 cmaes-0.8.2 cmd2-2.1.2 colorama-0.4.4 colorlog-5.0.1 optuna-2.9.1 pbr-5.6.0 pyperclip-1.8.2 python-editor-1.0.4 stevedore-3.3.0\n"
          ],
          "name": "stdout"
        }
      ]
    },
    {
      "cell_type": "markdown",
      "metadata": {
        "id": "3ZXoyGA_OgeA"
      },
      "source": [
        "# KFold와 STratifiedKFold로 할게요\n",
        " \n",
        " - train_test_split는 optuna용"
      ]
    },
    {
      "cell_type": "code",
      "metadata": {
        "id": "mywvBP84OQMF"
      },
      "source": [
        "import catboost\n",
        "import optuna\n",
        "from sklearn.model_selection import train_test_split, KFold, StratifiedKFold\n",
        "from sklearn.metrics import mean_squared_log_error, mean_squared_error"
      ],
      "execution_count": 155,
      "outputs": []
    },
    {
      "cell_type": "code",
      "metadata": {
        "id": "ITaZ0C7kPLbS"
      },
      "source": [
        "cat_features = x_train.select_dtypes('object').columns\n",
        "\n",
        "def objective(trial,data=x_train,target=y_train):\n",
        "    \n",
        "    X_train, X_test, y_train, y_test = train_test_split(data, target, test_size=0.2,random_state=42)\n",
        "    params = {'iterations':trial.suggest_int(\"iterations\", 2000, 25000),\n",
        "             'loss_function':'RMSE',\n",
        "              'task_type':\"GPU\",\n",
        "              'eval_metric':'RMSE',\n",
        "              'leaf_estimation_method':'Newton',\n",
        "              'bootstrap_type': 'Bernoulli',\n",
        "              'learning_rate' : trial.suggest_uniform('learning_rate',0.01,0.5),\n",
        "              'reg_lambda': trial.suggest_uniform('reg_lambda',1e-5,100),\n",
        "              'subsample': trial.suggest_uniform('subsample',0,1),\n",
        "              'random_strength': trial.suggest_uniform('random_strength',10,50),\n",
        "              'depth': trial.suggest_int('depth',1,12),\n",
        "              'min_data_in_leaf': trial.suggest_int('min_data_in_leaf',1,50),\n",
        "              'leaf_estimation_iterations': trial.suggest_int('leaf_estimation_iterations',1,15),\n",
        "              'grow_policy' : 'Lossguide'\n",
        "               }\n",
        "    model = catboost.CatBoostRegressor(**params)  \n",
        "    model.fit(X_train,y_train,eval_set=[(X_test,y_test)],early_stopping_rounds=100,verbose=False)\n",
        "        \n",
        "    y_preds = model.predict(X_test)\n",
        "\n",
        "\n",
        "    RMSE = np.sqrt(mean_squared_error(y_test, y_preds))\n",
        "    \n",
        "    return RMSE"
      ],
      "execution_count": 156,
      "outputs": []
    },
    {
      "cell_type": "code",
      "metadata": {
        "id": "_aBp5pWtX6Il"
      },
      "source": [
        "OPTUNA_OPTIMIZATION = True\n",
        "\n",
        "study = optuna.create_study(direction='minimize')\n",
        "study.optimize(objective, n_trials=50)\n",
        "print('Number of finished trials:', len(study.trials))\n",
        "print('Best trial: score {}, params {}'.format(study.best_trial.value, study.best_trial.params))"
      ],
      "execution_count": null,
      "outputs": []
    },
    {
      "cell_type": "code",
      "metadata": {
        "id": "R2mz_AjmOffV"
      },
      "source": [
        "kf = KFold(n_splits=7, shuffle=True, random_state=42)\n",
        "sk = StratifiedKFold(n_splits=5, shuffle=True, random_state=42)\n",
        "preds = np.zeros((x_test.shape,))\n",
        "RMSLE = {}\n",
        "\n",
        "params = {\n",
        "    'iterations':study.best_params['iterations'],\n",
        "    'loss_function':'RMSE',\n",
        "    'task_type':\"CPU\",\n",
        "    'eval_metric':'RMSE',\n",
        "    'leaf_estimation_method':'Newton',\n",
        "    'bootstrap_type': 'Bernoulli',\n",
        "    'learning_rate' : study.best_params['learning_rate'],\n",
        "    'reg_lambda': study.best_params['reg_lambda'],\n",
        "    'subsample': study.best_params['subsample'],\n",
        "    'random_strength': study.best_params['random_strength'],\n",
        "    'depth': study.best_params['depth'],\n",
        "    'min_data_in_leaf': study.best_params['min_data_in_leaf'],\n",
        "    'leaf_estimation_iterations': study.best_params['leaf_estimation_iterations'],\n",
        "    'grow_policy' : 'Lossguide'\n",
        "}\n",
        "\n",
        "for i, (train_index, val_index) in enumerate(kf.split(x_train, y_train)):\n",
        "  X_train, X_valid = x_train.iloc[train_index], x_train.iloc[val_index]\n",
        "  Y_train, Y_valid = y_train.iloc[train_index], y_train.iloc[val_index]\n",
        "\n",
        "  model_cat = catboost.CatBoostRegressor(**params)\n",
        "  model_cat.fit(X_train, Y_train, eval_set=(X_valid, Y_valid), verbose=100, early_stopping_rounds=70)\n",
        "\n",
        "  preds += np.expm1(model_cat.predict(x_test) / kf.n_splits)\n",
        "  val_preds = model_cat.predict(X_valid)\n",
        "  RMSLE[i] = mean_squared_log_error(val_preds, Y_valid)\n",
        "  print(f'{i+1}번째 RMSLE:{RMSLE[i]}')"
      ],
      "execution_count": null,
      "outputs": []
    },
    {
      "cell_type": "code",
      "metadata": {
        "id": "0A4tuYeZWi2r"
      },
      "source": [
        "fig, ax = plt.subplots(1,2, figsize=(14,7))\n",
        "sns.lineplot(X_valid, Y_valid, label='True', ax=ax[0])\n",
        "sns.lineplot(X_valid, val_preds, label='Preds', ax=ax[0])\n",
        "ax[0].set_title('True vs Preds', fontsize=18, fontweight='bold', pad=15)\n",
        "\n",
        "sns.lineplot(pd.Series(RMSLE).index, pd.Series(RMSLE), marker='o', ax=ax[1])\n",
        "ax[1].set_title('RMSLE graph', fontsize=18, fontweight='bold', pad=15)"
      ],
      "execution_count": null,
      "outputs": []
    }
  ]
}