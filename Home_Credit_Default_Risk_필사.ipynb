{
  "nbformat": 4,
  "nbformat_minor": 0,
  "metadata": {
    "colab": {
      "name": " Home Credit Default Risk_필사.ipynb",
      "provenance": [],
      "mount_file_id": "1q0SJGW8H8hnF8hF1wO1B1AEnxKlEnc6v",
      "authorship_tag": "ABX9TyMuZ8JBfL0wuLPJlLd7aMaL",
      "include_colab_link": true
    },
    "kernelspec": {
      "name": "python3",
      "display_name": "Python 3"
    },
    "language_info": {
      "name": "python"
    }
  },
  "cells": [
    {
      "cell_type": "markdown",
      "metadata": {
        "id": "view-in-github",
        "colab_type": "text"
      },
      "source": [
        "<a href=\"https://colab.research.google.com/github/O-Kpy/Kaggle/blob/main/Home_Credit_Default_Risk_%ED%95%84%EC%82%AC.ipynb\" target=\"_parent\"><img src=\"https://colab.research.google.com/assets/colab-badge.svg\" alt=\"Open In Colab\"/></a>"
      ]
    },
    {
      "cell_type": "code",
      "metadata": {
        "id": "O54Mg6Wks6hg"
      },
      "source": [
        "import pandas as pd\n",
        "import numpy as np\n",
        "import matplotlib.pyplot as plt\n",
        "%matplotlib inline\n",
        "import seaborn as sns\n",
        "import xgboost as xgb\n",
        "from sklearn.model_selection import StratifiedKFold, KFold\n",
        "from sklearn.ensemble import ExtraTreesClassifier, RandomForestClassifier\n",
        "from sklearn.metrics import mean_squared_error, roc_auc_score, make_scorer\n",
        "from sklearn.linear_model import LogisticRegression\n",
        "from math import sqrt\n",
        "import lightgbm as lgbm\n",
        "import gc"
      ],
      "execution_count": 1,
      "outputs": []
    },
    {
      "cell_type": "code",
      "metadata": {
        "colab": {
          "base_uri": "https://localhost:8080/"
        },
        "id": "zW7zi37Rvyk2",
        "outputId": "f3d6a718-f27d-404e-bede-974dec5b1712"
      },
      "source": [
        "train = pd.read_csv('/content/drive/MyDrive/dataset/kaggle/application_train.csv')\n",
        "test = pd.read_csv('/content/drive/MyDrive/dataset/kaggle/application_test.csv')\n",
        "prev = pd.read_csv('/content/drive/MyDrive/dataset/kaggle/application_previous_application.csv')\n",
        "print(train.shape, test.shape)"
      ],
      "execution_count": 5,
      "outputs": [
        {
          "output_type": "stream",
          "text": [
            "(307511, 122) (48744, 121)\n"
          ],
          "name": "stdout"
        }
      ]
    },
    {
      "cell_type": "code",
      "metadata": {
        "id": "Y4P8l9rDv_wd"
      },
      "source": [
        "NFOLDS = 5\n",
        "SEED = 0\n",
        "NROWS = None"
      ],
      "execution_count": 4,
      "outputs": []
    },
    {
      "cell_type": "markdown",
      "metadata": {
        "id": "aJW73wp56L7J"
      },
      "source": [
        "# 이 필사는 바로 피쳐엔지니어링부터 시작하네"
      ]
    },
    {
      "cell_type": "code",
      "metadata": {
        "id": "KkelLAMF4bjE"
      },
      "source": [
        "categorical_feats = [f for f in train.columns if train[f].dtype == 'object']\n",
        "\n",
        "for f_ in categorical_feats:\n",
        "  train[f_], indexer = pd.factorize(train[f_])\n",
        "  test[f_] = indexer.get_indexer(test[f_])"
      ],
      "execution_count": 10,
      "outputs": []
    },
    {
      "cell_type": "code",
      "metadata": {
        "id": "RaMY2Q5m5Mf-"
      },
      "source": [
        "gc.enable()"
      ],
      "execution_count": 13,
      "outputs": []
    },
    {
      "cell_type": "code",
      "metadata": {
        "id": "BMYhwNRz5Or-"
      },
      "source": [
        "y_train = train['TARGET']\n",
        "del train['TARGET']"
      ],
      "execution_count": 15,
      "outputs": []
    },
    {
      "cell_type": "code",
      "metadata": {
        "id": "eqlWBies5T6B"
      },
      "source": [
        "prev_cat_features = [f for f in prev.columns if prev[f].dtype=='object']\n",
        "\n",
        "for f in prev_cat_features:\n",
        "  prev[f], _ = pd.factorize(prev[f])"
      ],
      "execution_count": 16,
      "outputs": []
    },
    {
      "cell_type": "code",
      "metadata": {
        "id": "vNKBQZew5nU7"
      },
      "source": [
        "avg_prev = prev.groupby('SK_ID_CURR').mean()\n",
        "cnt_prev = prev[['SK_ID_CURR', 'SK_ID_PREV']].groupby('SK_ID_CURR').count()\n",
        "avg_prev['nb_app'] = cnt_prev['SK_ID_PREV']\n",
        "del avg_prev['SK_ID_PREV']\n",
        "# aggregation"
      ],
      "execution_count": 18,
      "outputs": []
    },
    {
      "cell_type": "code",
      "metadata": {
        "id": "1gfF-mdu6GF9"
      },
      "source": [
        "x_train = train.merge(right=avg_prev.reset_index(), how='left', on='SK_ID_CURR')\n",
        "x_test = test.merge(right=avg_prev.reset_index(), how='left', on='SK_ID_CURR')\n",
        "\n",
        "x_train = x_train.fillna(0)\n",
        "x_test = x_test.fillna(0)\n",
        "\n",
        "ntrain = x_train.shape[0]\n",
        "ntest = x_test.shape[0]"
      ],
      "execution_count": 21,
      "outputs": []
    },
    {
      "cell_type": "code",
      "metadata": {
        "id": "_DrznMyQ6soq"
      },
      "source": [
        "excluded_feats = ['SK_ID_CURR']\n",
        "features = [f for f in x_train.columns if f not in excluded_feats]\n",
        "\n",
        "x_train = x_train[features]\n",
        "x_test = x_test[features]\n",
        "# 그냥... 'SK_ID_CURR'만 제거 하면 되는거아닌가..."
      ],
      "execution_count": 27,
      "outputs": []
    },
    {
      "cell_type": "markdown",
      "metadata": {
        "id": "FN555hE_7eId"
      },
      "source": [
        "# Feature Engineering 끝\n",
        "\n",
        "---\n",
        "\n",
        "# 모델링(스태킹) 시작\n"
      ]
    },
    {
      "cell_type": "code",
      "metadata": {
        "id": "bLqjPWOI69_f"
      },
      "source": [
        "kf = KFold(n_splits=NFOLDS, shuffle=True, random_state=SEED)\n",
        "\n",
        "class SklearnWrapper(object):\n",
        "  def __init__(self, clf, seed=0, params=None):\n",
        "    params['random_state'] = seed\n",
        "    self.clf = clf(**params)\n",
        "\n",
        "  def train(self, x_train, y_train):\n",
        "    self.clf.fit(x_train, y_train)\n",
        "\n",
        "  def predict(self, x):\n",
        "    return self.clf.predict_proba(x)[:,1]\n",
        "\n",
        "class LightGBMWrapper(object):\n",
        "  def __init__(self, clf, seed=0, params=None):\n",
        "    params['feature_fraction_seed'] = seed\n",
        "    params['bagging_seed'] = seed\n",
        "    self.clf = clf(**params)\n",
        "\n",
        "  def train(self, x_train, y_train):\n",
        "    self.clf.fit(x_train, y_train, eval_metric='auc')\n",
        "  \n",
        "  def predict(self, x):\n",
        "    return self.clf.predict_proba(x)[:,1]\n",
        "\n",
        "class XgbWrapper(object):\n",
        "  def __init__(self, seed=0, params=None):\n",
        "    self.param = params\n",
        "    self.param['seed'] = seed\n",
        "    self.nrounds = params.pop('nrounds', 250)\n",
        "\n",
        "  def train(self, x_train, y_train):\n",
        "    dtrain = xgb.DMatrix(x_train, label=y_train)\n",
        "    self.gbdt = xgb.train(self.param, dtrain, self.nrounds)\n",
        "\n",
        "  def predict(self, x):\n",
        "    return self.gbdt.predict(xgb.DMatrix(x))\n",
        "\n",
        "def get_oof(clf):\n",
        "    oof_train = np.zeros((ntrain,))\n",
        "    oof_test = np.zeros((ntest,))\n",
        "    oof_test_skf = np.empty((NFOLDS, ntest))\n",
        "\n",
        "    for i, (train_index, test_index) in enumerate(kf.split(x_train)):\n",
        "        x_tr = x_train.loc[train_index]\n",
        "        y_tr = y_train.loc[train_index]\n",
        "        x_te = x_train.loc[test_index]\n",
        "\n",
        "        clf.train(x_tr, y_tr)\n",
        "\n",
        "        oof_train[test_index] = clf.predict(x_te)\n",
        "        oof_test_skf[i, :] = clf.predict(x_test)\n",
        "\n",
        "    oof_test[:] = oof_test_skf.mean(axis=0)\n",
        "    return oof_train.reshape(-1, 1), oof_test.reshape(-1, 1)"
      ],
      "execution_count": 36,
      "outputs": []
    },
    {
      "cell_type": "code",
      "metadata": {
        "id": "lwr1qEfw-TiI"
      },
      "source": [
        "et_params = {\n",
        "    'n_jobs': 16,\n",
        "    'n_estimators': 200,\n",
        "    'max_features': 0.5,\n",
        "    'max_depth': 12,\n",
        "    'min_samples_leaf': 2,\n",
        "}\n",
        "\n",
        "rf_params = {\n",
        "    'n_jobs': 16,\n",
        "    'n_estimators': 200,\n",
        "    'max_features': 0.2,\n",
        "    'max_depth': 12,\n",
        "    'min_samples_leaf': 2,\n",
        "}\n",
        "\n",
        "xgb_params = {\n",
        "    'seed': 0,\n",
        "    'colsample_bytree': 0.7,\n",
        "    'silent': 1,\n",
        "    'subsample': 0.7,\n",
        "    'learning_rate': 0.075,\n",
        "    'objective': 'binary:logistic',\n",
        "    'max_depth': 4,\n",
        "    'num_parallel_tree': 1,\n",
        "    'min_child_weight': 1,\n",
        "    'nrounds': 200\n",
        "}\n",
        "\n",
        "lightgbm_params = {\n",
        "    'n_estimators':200,\n",
        "    'learning_rate':0.1,\n",
        "    'num_leaves':123,\n",
        "    'colsample_bytree':0.8,\n",
        "    'subsample':0.9,\n",
        "    'max_depth':15,\n",
        "    'reg_alpha':0.1,\n",
        "    'reg_lambda':0.1,\n",
        "    'min_split_gain':0.01,\n",
        "    'min_child_weight':2    \n",
        "}"
      ],
      "execution_count": 30,
      "outputs": []
    },
    {
      "cell_type": "code",
      "metadata": {
        "id": "1y3aNeuy-dEB"
      },
      "source": [
        "xg = XgbWrapper(seed=SEED, params=xgb_params)\n",
        "et = SklearnWrapper(clf=ExtraTreesClassifier, seed=SEED, params=et_params)\n",
        "rf = SklearnWrapper(clf=RandomForestClassifier, seed=SEED, params=rf_params)\n",
        "lg = LightGBMWrapper(clf=lgbm.LGBMClassifier, seed=SEED, params=lightgbm_params)\n",
        "\n",
        "xg_oof_train, xg_oof_test = get_oof(xg)\n",
        "et_oof_train, et_oof_test = get_oof(et)\n",
        "rf_oof_train, rf_oof_test = get_oof(rf)\n",
        "lg_oof_train, lg_oof_test = get_oof(lg)"
      ],
      "execution_count": 38,
      "outputs": []
    },
    {
      "cell_type": "code",
      "metadata": {
        "colab": {
          "base_uri": "https://localhost:8080/"
        },
        "id": "vDCt68QQ1TsO",
        "outputId": "86a31e68-9311-46c6-b037-93eda66bdafb"
      },
      "source": [
        "x_train = np.concatenate((xg_oof_train, et_oof_train, rf_oof_train, lg_oof_train), axis=1)\n",
        "x_test = np.concatenate((xg_oof_test, et_oof_test, rf_oof_test, lg_oof_test), axis=1)\n",
        "\n",
        "print(f'{x_train.shape}, {x_test.shape}')"
      ],
      "execution_count": 45,
      "outputs": [
        {
          "output_type": "stream",
          "text": [
            "(307511, 4), (48744, 4)\n"
          ],
          "name": "stdout"
        }
      ]
    },
    {
      "cell_type": "code",
      "metadata": {
        "colab": {
          "base_uri": "https://localhost:8080/"
        },
        "id": "piJWaYcM2bhs",
        "outputId": "369ea491-00d4-4fa8-c1ba-5ddd2604c339"
      },
      "source": [
        "x_train"
      ],
      "execution_count": 46,
      "outputs": [
        {
          "output_type": "execute_result",
          "data": {
            "text/plain": [
              "array([[0.46254739, 0.25386311, 0.25404124, 0.33126676],\n",
              "       [0.02558656, 0.05970479, 0.04743688, 0.01410166],\n",
              "       [0.03600311, 0.03798396, 0.04537422, 0.02493492],\n",
              "       ...,\n",
              "       [0.0712582 , 0.08628077, 0.08751423, 0.05627924],\n",
              "       [0.05059865, 0.06023865, 0.04982792, 0.0448122 ],\n",
              "       [0.10169223, 0.05509749, 0.04581712, 0.1322984 ]])"
            ]
          },
          "metadata": {
            "tags": []
          },
          "execution_count": 46
        }
      ]
    },
    {
      "cell_type": "code",
      "metadata": {
        "id": "Bo3k3Klk28Sk"
      },
      "source": [
        "submit = pd.read_csv('/content/drive/MyDrive/dataset/kaggle/application_sample_submission.csv')"
      ],
      "execution_count": 48,
      "outputs": []
    },
    {
      "cell_type": "code",
      "metadata": {
        "id": "bPhjtjDQ2Az4"
      },
      "source": [
        "logistic = LogisticRegression()\n",
        "logistic.fit(x_train, y_train)\n",
        "\n",
        "submit['TARGET'] = logistic.predict_proba(x_test)[:,1]"
      ],
      "execution_count": 49,
      "outputs": []
    },
    {
      "cell_type": "code",
      "metadata": {
        "id": "-xoaqW-k2eZ9"
      },
      "source": [
        "submit = submit.set_index('SK_ID_CURR')\n",
        "submit.to_csv('/content/drive/MyDrive/dataset/kaggle/2021-05-19 application submit1.csv')"
      ],
      "execution_count": 51,
      "outputs": []
    }
  ]
}