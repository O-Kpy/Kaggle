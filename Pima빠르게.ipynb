{
  "nbformat": 4,
  "nbformat_minor": 0,
  "metadata": {
    "colab": {
      "name": "Pima빠르게.ipynb",
      "provenance": [],
      "collapsed_sections": [],
      "mount_file_id": "1Jt2Yl762NKmMi7j2vGjYQOy1XHLACuGj",
      "authorship_tag": "ABX9TyN3qjpoxATM7NFWOCtRAwL9",
      "include_colab_link": true
    },
    "kernelspec": {
      "name": "python3",
      "display_name": "Python 3"
    },
    "language_info": {
      "name": "python"
    }
  },
  "cells": [
    {
      "cell_type": "markdown",
      "metadata": {
        "id": "view-in-github",
        "colab_type": "text"
      },
      "source": [
        "<a href=\"https://colab.research.google.com/github/O-Kpy/Kaggle/blob/main/Pima%EB%B9%A0%EB%A5%B4%EA%B2%8C.ipynb\" target=\"_parent\"><img src=\"https://colab.research.google.com/assets/colab-badge.svg\" alt=\"Open In Colab\"/></a>"
      ]
    },
    {
      "cell_type": "code",
      "metadata": {
        "id": "fTdGq3JG27Qj"
      },
      "source": [
        "import pandas as pd\n",
        "import numpy as np\n",
        "import seaborn as sns\n",
        "sns.set_style('whitegrid')\n",
        "import matplotlib.pyplot as plt\n",
        "%matplotlib inline\n",
        "import plotly.express as px\n",
        "import warnings\n",
        "warnings.filterwarnings(\"ignore\")"
      ],
      "execution_count": 2,
      "outputs": []
    },
    {
      "cell_type": "code",
      "metadata": {
        "id": "HKKTvVBo3AE4"
      },
      "source": [
        "data=pd.read_csv('/content/drive/MyDrive/dataset/kaggle/Pima Indians.csv')"
      ],
      "execution_count": 3,
      "outputs": []
    },
    {
      "cell_type": "code",
      "metadata": {
        "colab": {
          "base_uri": "https://localhost:8080/"
        },
        "id": "K3L9DXqC3Ikb",
        "outputId": "29b81a62-00b2-49d2-dd23-a1e1336fd6fd"
      },
      "source": [
        "data.shape"
      ],
      "execution_count": null,
      "outputs": [
        {
          "output_type": "execute_result",
          "data": {
            "text/plain": [
              "(768, 9)"
            ]
          },
          "metadata": {
            "tags": []
          },
          "execution_count": 4
        }
      ]
    },
    {
      "cell_type": "code",
      "metadata": {
        "id": "gp2ohc_03KIX"
      },
      "source": [
        "data.loc[:,'Glucose':'Age'] = data.loc[:,'Glucose':'Age'].replace(0,np.NaN)"
      ],
      "execution_count": 4,
      "outputs": []
    },
    {
      "cell_type": "code",
      "metadata": {
        "colab": {
          "base_uri": "https://localhost:8080/"
        },
        "id": "14lNHcDz3f02",
        "outputId": "17ae7940-6f8b-4e92-991c-305b3b1abda7"
      },
      "source": [
        "data.isnull().sum()"
      ],
      "execution_count": 5,
      "outputs": [
        {
          "output_type": "execute_result",
          "data": {
            "text/plain": [
              "Pregnancies                   0\n",
              "Glucose                       5\n",
              "BloodPressure                35\n",
              "SkinThickness               227\n",
              "Insulin                     374\n",
              "BMI                          11\n",
              "DiabetesPedigreeFunction      0\n",
              "Age                           0\n",
              "Outcome                       0\n",
              "dtype: int64"
            ]
          },
          "metadata": {
            "tags": []
          },
          "execution_count": 5
        }
      ]
    },
    {
      "cell_type": "code",
      "metadata": {
        "colab": {
          "base_uri": "https://localhost:8080/"
        },
        "id": "qZUNXzMwbiXW",
        "outputId": "f93762d3-7a60-4540-f41c-6fdc26ce90a3"
      },
      "source": [
        "data.info()"
      ],
      "execution_count": 6,
      "outputs": [
        {
          "output_type": "stream",
          "text": [
            "<class 'pandas.core.frame.DataFrame'>\n",
            "RangeIndex: 768 entries, 0 to 767\n",
            "Data columns (total 9 columns):\n",
            " #   Column                    Non-Null Count  Dtype  \n",
            "---  ------                    --------------  -----  \n",
            " 0   Pregnancies               768 non-null    int64  \n",
            " 1   Glucose                   763 non-null    float64\n",
            " 2   BloodPressure             733 non-null    float64\n",
            " 3   SkinThickness             541 non-null    float64\n",
            " 4   Insulin                   394 non-null    float64\n",
            " 5   BMI                       757 non-null    float64\n",
            " 6   DiabetesPedigreeFunction  768 non-null    float64\n",
            " 7   Age                       768 non-null    int64  \n",
            " 8   Outcome                   768 non-null    int64  \n",
            "dtypes: float64(6), int64(3)\n",
            "memory usage: 54.1 KB\n"
          ],
          "name": "stdout"
        }
      ]
    },
    {
      "cell_type": "code",
      "metadata": {
        "colab": {
          "base_uri": "https://localhost:8080/",
          "height": 282
        },
        "id": "TwoiYYrs3f3M",
        "outputId": "fe80e5a2-0030-4ad6-a4ea-e7678abceeca"
      },
      "source": [
        "data.Outcome.hist()"
      ],
      "execution_count": 7,
      "outputs": [
        {
          "output_type": "execute_result",
          "data": {
            "text/plain": [
              "<matplotlib.axes._subplots.AxesSubplot at 0x7f79941e2550>"
            ]
          },
          "metadata": {
            "tags": []
          },
          "execution_count": 7
        },
        {
          "output_type": "display_data",
          "data": {
            "image/png": "[encoded data removed]",
            "text/plain": [
              "<Figure size 432x288 with 1 Axes>"
            ]
          },
          "metadata": {
            "tags": [],
            "needs_background": "light"
          }
        }
      ]
    },
    {
      "cell_type": "code",
      "metadata": {
        "id": "FW73Kc9g3f5N"
      },
      "source": [
        "from sklearn.utils import resample"
      ],
      "execution_count": 9,
      "outputs": []
    },
    {
      "cell_type": "code",
      "metadata": {
        "id": "20h0PxwF3f7T"
      },
      "source": [
        "no = data[data.Outcome == 0]\n",
        "yes = data[data.Outcome == 1]\n",
        "yes_oversampled = resample(yes, replace=True, n_samples=len(no), random_state=100)\n",
        "data = pd.concat([no, yes_oversampled], axis=0)"
      ],
      "execution_count": 10,
      "outputs": []
    },
    {
      "cell_type": "code",
      "metadata": {
        "colab": {
          "base_uri": "https://localhost:8080/",
          "height": 282
        },
        "id": "XJPMZBk14gzO",
        "outputId": "cb31e523-3b6e-416e-d587-0f2a8ab5119d"
      },
      "source": [
        "data.Outcome.hist()\n",
        "## 오버샘플링"
      ],
      "execution_count": 11,
      "outputs": [
        {
          "output_type": "execute_result",
          "data": {
            "text/plain": [
              "<matplotlib.axes._subplots.AxesSubplot at 0x7f79941e2d50>"
            ]
          },
          "metadata": {
            "tags": []
          },
          "execution_count": 11
        },
        {
          "output_type": "display_data",
          "data": {
            "image/png": "[encoded data removed]",
            "text/plain": [
              "<Figure size 432x288 with 1 Axes>"
            ]
          },
          "metadata": {
            "tags": [],
            "needs_background": "light"
          }
        }
      ]
    },
    {
      "cell_type": "code",
      "metadata": {
        "id": "qixzrasv4jYe"
      },
      "source": [
        "from sklearn.experimental import enable_iterative_imputer\n",
        "from sklearn.impute import IterativeImputer"
      ],
      "execution_count": 12,
      "outputs": []
    },
    {
      "cell_type": "code",
      "metadata": {
        "id": "_CDLPMj34jeX"
      },
      "source": [
        "miceimputed = data.copy(deep=True)\n",
        "imputed = IterativeImputer()\n",
        "miceimputed.iloc[:,:] = imputed.fit_transform(data)\n",
        "## 결측치 해결"
      ],
      "execution_count": 13,
      "outputs": []
    },
    {
      "cell_type": "code",
      "metadata": {
        "colab": {
          "base_uri": "https://localhost:8080/"
        },
        "id": "NoJUx8Cn4jgr",
        "outputId": "13cb7b09-9a46-40ae-df8f-cc9bbca55a13"
      },
      "source": [
        "data = miceimputed\n",
        "data.isnull().sum()"
      ],
      "execution_count": 14,
      "outputs": [
        {
          "output_type": "execute_result",
          "data": {
            "text/plain": [
              "Pregnancies                 0\n",
              "Glucose                     0\n",
              "BloodPressure               0\n",
              "SkinThickness               0\n",
              "Insulin                     0\n",
              "BMI                         0\n",
              "DiabetesPedigreeFunction    0\n",
              "Age                         0\n",
              "Outcome                     0\n",
              "dtype: int64"
            ]
          },
          "metadata": {
            "tags": []
          },
          "execution_count": 14
        }
      ]
    },
    {
      "cell_type": "code",
      "metadata": {
        "colab": {
          "base_uri": "https://localhost:8080/"
        },
        "id": "BA3gTCc44jjB",
        "outputId": "ce347f76-62bc-4651-9284-3e90a8112c23"
      },
      "source": [
        "Q1 = data.quantile(0.25)\n",
        "Q3 = data.quantile(0.75)\n",
        "IQR = Q3 - Q1\n",
        "print(IQR)"
      ],
      "execution_count": 15,
      "outputs": [
        {
          "output_type": "stream",
          "text": [
            "Pregnancies                   5.000000\n",
            "Glucose                      45.000000\n",
            "BloodPressure                14.000000\n",
            "SkinThickness                12.173717\n",
            "Insulin                     102.422825\n",
            "BMI                           8.850000\n",
            "DiabetesPedigreeFunction      0.412250\n",
            "Age                          16.250000\n",
            "Outcome                       1.000000\n",
            "dtype: float64\n"
          ],
          "name": "stdout"
        }
      ]
    },
    {
      "cell_type": "code",
      "metadata": {
        "id": "RWF7aO2lbx98"
      },
      "source": [
        "data = data[~((data < (Q1-1.5*IQR)) | (data > (Q3 + 1.5*IQR))).any(axis=1)]\n",
        "## 이상치 제거"
      ],
      "execution_count": 17,
      "outputs": []
    },
    {
      "cell_type": "code",
      "metadata": {
        "id": "mhfGW_Q6cYae"
      },
      "source": [
        "x = data.drop(['Outcome'], axis=1)\n",
        "y = data['Outcome']"
      ],
      "execution_count": 18,
      "outputs": []
    },
    {
      "cell_type": "code",
      "metadata": {
        "id": "HP0aDPaucYct"
      },
      "source": [
        "from sklearn.preprocessing import robust_scale\n",
        "scaler = robust_scale(x)\n",
        "x = pd.DataFrame(scaler, columns=x.columns)"
      ],
      "execution_count": 22,
      "outputs": []
    },
    {
      "cell_type": "code",
      "metadata": {
        "colab": {
          "base_uri": "https://localhost:8080/"
        },
        "id": "qD9KzE1OcYe-",
        "outputId": "62c075c1-ad0c-42fb-aca9-fd0e9c3b320f"
      },
      "source": [
        "from sklearn.model_selection import train_test_split\n",
        "x_train, x_test, y_train, y_test = train_test_split(x,y, test_size=0.25, random_state=123)\n",
        "print(f'x_train:{x_train.shape}, y_train:{y_train.shape}, x_test:{x_test.shape}, y_test{y_test.shape}')"
      ],
      "execution_count": 25,
      "outputs": [
        {
          "output_type": "stream",
          "text": [
            "x_train:(655, 8), y_train:(655,), x_test:(219, 8), y_test(219,)\n"
          ],
          "name": "stdout"
        }
      ]
    },
    {
      "cell_type": "code",
      "metadata": {
        "id": "PvAssrJ1dFiN"
      },
      "source": [
        "import xgboost as xgb\n",
        "from sklearn.ensemble import RandomForestClassifier\n",
        "from sklearn.tree import DecisionTreeClassifier\n",
        "from sklearn.linear_model import LogisticRegression\n",
        "import lightgbm as lgb\n",
        "from sklearn.metrics import accuracy_score, f1_score, precision_score, roc_auc_score, cohen_kappa_score, classification_report, plot_confusion_matrix"
      ],
      "execution_count": 27,
      "outputs": []
    },
    {
      "cell_type": "code",
      "metadata": {
        "id": "wiJ0SQsQdFkn"
      },
      "source": [
        "def model(model):\n",
        "  model = model\n",
        "  model.fit(x_train, y_train)\n",
        "  y_pred = model.predict(x_test)\n",
        "  print('accuracy:', accuracy_score(y_test, y_pred))\n",
        "  print('roc_auc_score::', roc_auc_score(y_test, y_pred))\n",
        "  print('cohen_kappa_score:', cohen_kappa_score(y_test, y_pred))\n",
        "  print(classification_report(y_test, y_pred))\n",
        "  plot_confusion_matrix(model, x_test, y_test, normalize='all', cmap=plt.cm.Blues)"
      ],
      "execution_count": 48,
      "outputs": []
    },
    {
      "cell_type": "code",
      "metadata": {
        "colab": {
          "base_uri": "https://localhost:8080/",
          "height": 490
        },
        "id": "OrZQvUAmdFmn",
        "outputId": "852b955a-a316-4e86-d9e1-8de771f7fb92"
      },
      "source": [
        "model(LogisticRegression(n_jobs=-1, random_state=123, C=0.5))"
      ],
      "execution_count": 49,
      "outputs": [
        {
          "output_type": "stream",
          "text": [
            "accuracy: 0.726027397260274\n",
            "roc_auc_score:: 0.7257714762301919\n",
            "cohen_kappa_score: 0.45176902536715624\n",
            "              precision    recall  f1-score   support\n",
            "\n",
            "         0.0       0.70      0.78      0.74       110\n",
            "         1.0       0.75      0.67      0.71       109\n",
            "\n",
            "    accuracy                           0.73       219\n",
            "   macro avg       0.73      0.73      0.73       219\n",
            "weighted avg       0.73      0.73      0.73       219\n",
            "\n"
          ],
          "name": "stdout"
        },
        {
          "output_type": "display_data",
          "data": {
            "image/png": "[encoded data removed]",
            "text/plain": [
              "<Figure size 432x288 with 2 Axes>"
            ]
          },
          "metadata": {
            "tags": [],
            "needs_background": "light"
          }
        }
      ]
    },
    {
      "cell_type": "code",
      "metadata": {
        "colab": {
          "base_uri": "https://localhost:8080/",
          "height": 491
        },
        "id": "ch9t86DZdFpC",
        "outputId": "6395eccc-c8cf-4a9e-ff9d-fadafac88eff"
      },
      "source": [
        "model(RandomForestClassifier(max_depth=10, n_jobs=-1))"
      ],
      "execution_count": 35,
      "outputs": [
        {
          "output_type": "stream",
          "text": [
            "accuracy: 0.867579908675799\n",
            "roc_auc_score:: 0.8678065054211843\n",
            "cohen_kappa_score: 0.7352757283981493\n",
            "              precision    recall  f1-score   support\n",
            "\n",
            "         0.0       0.91      0.82      0.86       110\n",
            "         1.0       0.83      0.92      0.87       109\n",
            "\n",
            "    accuracy                           0.87       219\n",
            "   macro avg       0.87      0.87      0.87       219\n",
            "weighted avg       0.87      0.87      0.87       219\n",
            "\n"
          ],
          "name": "stdout"
        },
        {
          "output_type": "display_data",
          "data": {
            "image/png": "[encoded data removed]",
            "text/plain": [
              "<Figure size 432x288 with 2 Axes>"
            ]
          },
          "metadata": {
            "tags": [],
            "needs_background": "light"
          }
        }
      ]
    },
    {
      "cell_type": "code",
      "metadata": {
        "colab": {
          "base_uri": "https://localhost:8080/",
          "height": 490
        },
        "id": "fUQvbr7WdFrX",
        "outputId": "638042fa-0e68-48bb-830d-46ef0017a346"
      },
      "source": [
        "model(xgb.XGBClassifier(max_depth=8, n_jobs=-1))"
      ],
      "execution_count": 40,
      "outputs": [
        {
          "output_type": "stream",
          "text": [
            "accuracy: 0.8447488584474886\n",
            "roc_auc_score:: 0.8449958298582152\n",
            "cohen_kappa_score: 0.6896465488496166\n",
            "              precision    recall  f1-score   support\n",
            "\n",
            "         0.0       0.89      0.79      0.84       110\n",
            "         1.0       0.81      0.90      0.85       109\n",
            "\n",
            "    accuracy                           0.84       219\n",
            "   macro avg       0.85      0.84      0.84       219\n",
            "weighted avg       0.85      0.84      0.84       219\n",
            "\n"
          ],
          "name": "stdout"
        },
        {
          "output_type": "display_data",
          "data": {
            "image/png": "[encoded data removed]",
            "text/plain": [
              "<Figure size 432x288 with 2 Axes>"
            ]
          },
          "metadata": {
            "tags": [],
            "needs_background": "light"
          }
        }
      ]
    },
    {
      "cell_type": "code",
      "metadata": {
        "colab": {
          "base_uri": "https://localhost:8080/",
          "height": 490
        },
        "id": "i8LRjCGpdFtS",
        "outputId": "ffdbc3d2-2b0c-432e-a483-890b67abe424"
      },
      "source": [
        "model(DecisionTreeClassifier(max_depth=10, random_state=123))"
      ],
      "execution_count": 50,
      "outputs": [
        {
          "output_type": "stream",
          "text": [
            "accuracy: 0.8264840182648402\n",
            "roc_auc_score:: 0.8267723102585489\n",
            "cohen_kappa_score: 0.6531632908227056\n",
            "              precision    recall  f1-score   support\n",
            "\n",
            "         0.0       0.88      0.76      0.82       110\n",
            "         1.0       0.79      0.89      0.84       109\n",
            "\n",
            "    accuracy                           0.83       219\n",
            "   macro avg       0.83      0.83      0.83       219\n",
            "weighted avg       0.83      0.83      0.83       219\n",
            "\n"
          ],
          "name": "stdout"
        },
        {
          "output_type": "display_data",
          "data": {
            "image/png": "[encoded data removed]",
            "text/plain": [
              "<Figure size 432x288 with 2 Axes>"
            ]
          },
          "metadata": {
            "tags": [],
            "needs_background": "light"
          }
        }
      ]
    },
    {
      "cell_type": "code",
      "metadata": {
        "id": "G_Qdqn1ziUdq"
      },
      "source": [
        "from sklearn.model_selection import GridSearchCV"
      ],
      "execution_count": 52,
      "outputs": []
    },
    {
      "cell_type": "code",
      "metadata": {
        "colab": {
          "base_uri": "https://localhost:8080/"
        },
        "id": "3SNJecLsdFvd",
        "outputId": "fd3e2403-146a-4e14-ecb9-c4d3b1c154d8"
      },
      "source": [
        "model_rf = RandomForestClassifier()\n",
        "model_rf.fit(x_train, y_train)\n",
        "\n",
        "model_xgb = xgb.XGBClassifier()\n",
        "model_xgb.fit(x_train, y_train)\n",
        "\n",
        "model_dec = DecisionTreeClassifier()\n",
        "model_dec.fit(x_train, y_train)\n",
        "\n",
        "model_log = LogisticRegression()\n",
        "model_log.fit(x_train, y_train)"
      ],
      "execution_count": 54,
      "outputs": [
        {
          "output_type": "execute_result",
          "data": {
            "text/plain": [
              "LogisticRegression(C=1.0, class_weight=None, dual=False, fit_intercept=True,\n",
              "                   intercept_scaling=1, l1_ratio=None, max_iter=100,\n",
              "                   multi_class='auto', n_jobs=None, penalty='l2',\n",
              "                   random_state=None, solver='lbfgs', tol=0.0001, verbose=0,\n",
              "                   warm_start=False)"
            ]
          },
          "metadata": {
            "tags": []
          },
          "execution_count": 54
        }
      ]
    },
    {
      "cell_type": "code",
      "metadata": {
        "colab": {
          "base_uri": "https://localhost:8080/"
        },
        "id": "LjiisBTQhMWU",
        "outputId": "8a0f384f-3bd5-4f11-959e-50247e6b3ad5"
      },
      "source": [
        "param_rf = {'max_depth':np.arange(1, 100, 10),\n",
        "            'n_estimators':np.arange(100,200,10)}\n",
        "\n",
        "grid_rf = GridSearchCV(model_rf, param_rf, n_jobs=-1, cv=5)\n",
        "grid_rf.fit(x_train, y_train)\n",
        "\n",
        "print(f'튜닝한 RandomForest best score:{grid_rf.best_score_}, best parameters:{grid_rf.best_params_}')"
      ],
      "execution_count": 62,
      "outputs": [
        {
          "output_type": "stream",
          "text": [
            "튜닝한 RandomForest best score:0.8641221374045802, best parameters:{'max_depth': 51, 'n_estimators': 190}\n"
          ],
          "name": "stdout"
        }
      ]
    },
    {
      "cell_type": "code",
      "metadata": {
        "colab": {
          "base_uri": "https://localhost:8080/",
          "height": 491
        },
        "id": "oV3fEW3LqgHW",
        "outputId": "06788832-cdd8-46fb-c03b-eed1254e8f3b"
      },
      "source": [
        "model(RandomForestClassifier(max_depth=10))"
      ],
      "execution_count": 77,
      "outputs": [
        {
          "output_type": "stream",
          "text": [
            "accuracy: 0.867579908675799\n",
            "roc_auc_score:: 0.8678065054211843\n",
            "cohen_kappa_score: 0.7352757283981493\n",
            "              precision    recall  f1-score   support\n",
            "\n",
            "         0.0       0.91      0.82      0.86       110\n",
            "         1.0       0.83      0.92      0.87       109\n",
            "\n",
            "    accuracy                           0.87       219\n",
            "   macro avg       0.87      0.87      0.87       219\n",
            "weighted avg       0.87      0.87      0.87       219\n",
            "\n"
          ],
          "name": "stdout"
        },
        {
          "output_type": "display_data",
          "data": {
            "image/png": "[encoded data removed]",
            "text/plain": [
              "<Figure size 432x288 with 2 Axes>"
            ]
          },
          "metadata": {
            "tags": [],
            "needs_background": "light"
          }
        }
      ]
    },
    {
      "cell_type": "code",
      "metadata": {
        "colab": {
          "base_uri": "https://localhost:8080/"
        },
        "id": "GG9QKA24hMYg",
        "outputId": "662b5900-57e8-43a7-8748-236dd9f9b185"
      },
      "source": [
        "param_xgb = {'max_depth':np.arange(5, 100, 10),\n",
        "            'n_estimators':np.arange(100,200,10)}\n",
        "\n",
        "grid_xgb = GridSearchCV(model_xgb, param_xgb, n_jobs=-1, cv=5)\n",
        "grid_xgb.fit(x_train, y_train)\n",
        "\n",
        "print(f'튜닝한 XGBoost best score:{grid_xgb.best_score_}, best parameters:{grid_xgb.best_params_}')"
      ],
      "execution_count": 66,
      "outputs": [
        {
          "output_type": "stream",
          "text": [
            "튜닝한 XGBoost best score:0.8396946564885497, best parameters:{'max_depth': 5, 'n_estimators': 180}\n"
          ],
          "name": "stdout"
        }
      ]
    },
    {
      "cell_type": "code",
      "metadata": {
        "colab": {
          "base_uri": "https://localhost:8080/"
        },
        "id": "n_KS6nKwhMan",
        "outputId": "22e9c8ef-5b0d-47e4-c024-a7f81b9c7225"
      },
      "source": [
        "param_log = {'penalty':['l1', 'l2'],\n",
        "            'C':np.arange(0.1,1,0.1)}\n",
        "\n",
        "grid_log = GridSearchCV(model_log, param_log, n_jobs=-1, cv=5)\n",
        "grid_log.fit(x_train, y_train)\n",
        "\n",
        "print(f'튜닝한 LogisticRegression best score:{grid_log.best_score_}, best parameters:{grid_log.best_params_}')"
      ],
      "execution_count": 65,
      "outputs": [
        {
          "output_type": "stream",
          "text": [
            "튜닝한 LogisticRegression best score:0.751145038167939, best parameters:{'C': 0.8, 'penalty': 'l2'}\n"
          ],
          "name": "stdout"
        }
      ]
    },
    {
      "cell_type": "code",
      "metadata": {
        "colab": {
          "base_uri": "https://localhost:8080/"
        },
        "id": "-VNcT648hMdE",
        "outputId": "7bdc5d33-1828-40ed-849b-7d2575d4f3aa"
      },
      "source": [
        "param_dec = {'max_depth':np.arange(5, 100, 10)}\n",
        "\n",
        "grid_dec = GridSearchCV(model_dec, param_dec, n_jobs=-1, cv=5)\n",
        "grid_dec.fit(x_train, y_train)\n",
        "\n",
        "print(f'튜닝한 DecisionTrue best score:{grid_dec.best_score_}, best parameters:{grid_dec.best_params_}')"
      ],
      "execution_count": 67,
      "outputs": [
        {
          "output_type": "stream",
          "text": [
            "튜닝한 DecisionTrue best score:0.815267175572519, best parameters:{'max_depth': 55}\n"
          ],
          "name": "stdout"
        }
      ]
    },
    {
      "cell_type": "code",
      "metadata": {
        "colab": {
          "base_uri": "https://localhost:8080/",
          "height": 490
        },
        "id": "_ejJsLtxcYhU",
        "outputId": "33d1fd74-43ad-448e-a591-2a0c29beb889"
      },
      "source": [
        "model(DecisionTreeClassifier(max_depth=55))"
      ],
      "execution_count": 68,
      "outputs": [
        {
          "output_type": "stream",
          "text": [
            "accuracy: 0.8264840182648402\n",
            "roc_auc_score:: 0.8268140116763969\n",
            "cohen_kappa_score: 0.6531921986997833\n",
            "              precision    recall  f1-score   support\n",
            "\n",
            "         0.0       0.88      0.75      0.81       110\n",
            "         1.0       0.78      0.90      0.84       109\n",
            "\n",
            "    accuracy                           0.83       219\n",
            "   macro avg       0.83      0.83      0.83       219\n",
            "weighted avg       0.83      0.83      0.83       219\n",
            "\n"
          ],
          "name": "stdout"
        },
        {
          "output_type": "display_data",
          "data": {
            "image/png": "[encoded data removed]",
            "text/plain": [
              "<Figure size 432x288 with 2 Axes>"
            ]
          },
          "metadata": {
            "tags": [],
            "needs_background": "light"
          }
        }
      ]
    },
    {
      "cell_type": "code",
      "metadata": {
        "id": "ToaVZ38yrU8Y"
      },
      "source": [
        "feature_importance = pd.DataFrame([model_dec.feature_importances_, model_rf.feature_importances_, model_xgb.feature_importances_], index=['DecisionTree', 'RandomForest', 'XGBoost'], columns=x.columns).T\n",
        "feature_importance = feature_importance.rename(index={'DiabetesPedigreeFunction':'DPF'})"
      ],
      "execution_count": 111,
      "outputs": []
    },
    {
      "cell_type": "code",
      "metadata": {
        "colab": {
          "base_uri": "https://localhost:8080/",
          "height": 414
        },
        "id": "XpL3hf9_rU-2",
        "outputId": "1c5591b7-d52e-4ba0-d3d2-e1fe69297410"
      },
      "source": [
        "fig, ax = plt.subplots(1,3, figsize=(25,6))\n",
        "ax[0] = sns.barplot(x=feature_importance['DecisionTree'], y=feature_importance.index, palette=sns.dark_palette(\"#69d\", reverse=True, n_colors=len(feature_importance.index)),ax=ax[0])\n",
        "ax[0].set_title('DecisionTree Feature_importaces', fontsize=18, fontweight='bold', pad=15)\n",
        "ax[1] = sns.barplot(x=feature_importance['RandomForest'], y=feature_importance.index, palette=sns.dark_palette(\"#69d\", reverse=True, n_colors=len(feature_importance.index)),ax=ax[1])\n",
        "ax[1].set_title('RandomForest Feature_importaces', fontsize=18, fontweight='bold', pad=15)\n",
        "ax[2] = sns.barplot(x=feature_importance['XGBoost'], y=feature_importance.index, palette=sns.dark_palette(\"#69d\", reverse=True, n_colors=len(feature_importance.index)),ax=ax[2])\n",
        "ax[2].set_title('XGBoost Feature_importaces', fontsize=18, fontweight='bold', pad=15)"
      ],
      "execution_count": 118,
      "outputs": [
        {
          "output_type": "execute_result",
          "data": {
            "text/plain": [
              "Text(0.5, 1.0, 'XGBoost Feature_importaces')"
            ]
          },
          "metadata": {
            "tags": []
          },
          "execution_count": 118
        },
        {
          "output_type": "display_data",
          "data": {
            "image/png": "[encoded data removed]",
            "text/plain": [
              "<Figure size 1800x432 with 3 Axes>"
            ]
          },
          "metadata": {
            "tags": [],
            "needs_background": "light"
          }
        }
      ]
    },
    {
      "cell_type": "code",
      "metadata": {
        "id": "C7lA9NdErVBO"
      },
      "source": [
        ""
      ],
      "execution_count": null,
      "outputs": []
    },
    {
      "cell_type": "code",
      "metadata": {
        "id": "BT4QEsyQrVDO"
      },
      "source": [
        ""
      ],
      "execution_count": null,
      "outputs": []
    },
    {
      "cell_type": "markdown",
      "metadata": {
        "id": "kU8IKEzd5gfh"
      },
      "source": [
        "data_copy = data.copy()\n",
        "## data는 이상치 제거 하고, data_copy는 바로 모델링 해본다."
      ]
    },
    {
      "cell_type": "code",
      "metadata": {
        "id": "DIBVT4HC50xe"
      },
      "source": [
        "data_copy = data.copy()"
      ],
      "execution_count": null,
      "outputs": []
    },
    {
      "cell_type": "code",
      "metadata": {
        "id": "56FTcGyw6qCh"
      },
      "source": [
        "X = data_copy.drop(['Outcome'], axis=1)\n",
        "Y = data_copy['Outcome']"
      ],
      "execution_count": null,
      "outputs": []
    },
    {
      "cell_type": "code",
      "metadata": {
        "id": "27mrtwvN9rCp"
      },
      "source": [
        "scaler = robust_scale(X)\n",
        "X = scaler"
      ],
      "execution_count": null,
      "outputs": []
    },
    {
      "cell_type": "code",
      "metadata": {
        "id": "5TJTr4ev6zgx"
      },
      "source": [
        "from sklearn.model_selection import train_test_split"
      ],
      "execution_count": null,
      "outputs": []
    },
    {
      "cell_type": "code",
      "metadata": {
        "colab": {
          "base_uri": "https://localhost:8080/"
        },
        "id": "-hDgG3lD633q",
        "outputId": "280dcdfe-670c-4f97-8b50-5dd906c7b5a8"
      },
      "source": [
        "X_train, X_test, Y_train, Y_test = train_test_split(X,Y, test_size=.25, random_state=100)\n",
        "print(f'{X_train.shape, Y_train.shape, X_test.shape, Y_test.shape}')"
      ],
      "execution_count": null,
      "outputs": [
        {
          "output_type": "stream",
          "text": [
            "((750, 8), (750,), (250, 8), (250,))\n"
          ],
          "name": "stdout"
        }
      ]
    },
    {
      "cell_type": "code",
      "metadata": {
        "id": "7MLPXBST7MLU"
      },
      "source": [
        "from sklearn.ensemble import RandomForestClassifier\n",
        "import xgboost as xgb\n",
        "from sklearn.metrics import accuracy_score, f1_score, roc_auc_score, cohen_kappa_score, classification_report"
      ],
      "execution_count": null,
      "outputs": []
    },
    {
      "cell_type": "code",
      "metadata": {
        "colab": {
          "base_uri": "https://localhost:8080/"
        },
        "id": "YdT1XI5n7WFh",
        "outputId": "ff315049-f6b5-43af-9286-5dc65e38bbbc"
      },
      "source": [
        "model_rf = RandomForestClassifier(n_estimators=200, max_depth=100, n_jobs=-1)\n",
        "model_rf.fit(X_train, Y_train)\n",
        "Y_pred_rf = model_rf.predict(X_test)\n",
        "print(f'accuracy : {accuracy_score(Y_test, Y_pred_rf)}')\n",
        "print(f'f1_score : {f1_score(Y_test, Y_pred_rf)}')\n",
        "print(f'roc_auc_score : {roc_auc_score(Y_test, Y_pred_rf)}')\n",
        "print(f'cohen_kappa_score : {cohen_kappa_score(Y_test, Y_pred_rf)}')"
      ],
      "execution_count": null,
      "outputs": [
        {
          "output_type": "stream",
          "text": [
            "accuracy : 0.828\n",
            "f1_score : 0.8185654008438819\n",
            "roc_auc_score : 0.8298503611971104\n",
            "cohen_kappa_score : 0.6555149650708197\n"
          ],
          "name": "stdout"
        }
      ]
    },
    {
      "cell_type": "code",
      "metadata": {
        "colab": {
          "base_uri": "https://localhost:8080/"
        },
        "id": "YApEoisV7WoK",
        "outputId": "25fba2e7-0f7a-4039-9cc8-331f0a5027d6"
      },
      "source": [
        "model_xgb = xgb.XGBClassifier(max_depth=100, n_estimators=200, n_jobs=-1)\n",
        "model_xgb.fit(X_train, Y_train)\n",
        "Y_pred_xgb = model_xgb.predict(X_test)\n",
        "print(f'accuracy : {accuracy_score(Y_test, Y_pred_xgb)}')\n",
        "print(f'f1_score : {f1_score(Y_test, Y_pred_xgb)}')\n",
        "print(f'roc_auc_score : {roc_auc_score(Y_test, Y_pred_xgb)}')\n",
        "print(f'cohen_kappa_score : {cohen_kappa_score(Y_test, Y_pred_xgb)}')"
      ],
      "execution_count": null,
      "outputs": [
        {
          "output_type": "stream",
          "text": [
            "accuracy : 0.804\n",
            "f1_score : 0.7966804979253113\n",
            "roc_auc_score : 0.8070820433436533\n",
            "cohen_kappa_score : 0.6085511599667668\n"
          ],
          "name": "stdout"
        }
      ]
    },
    {
      "cell_type": "code",
      "metadata": {
        "id": "al0N0BJY7WqF"
      },
      "source": [
        "from sklearn.model_selection import GridSearchCV, "
      ],
      "execution_count": null,
      "outputs": []
    },
    {
      "cell_type": "code",
      "metadata": {
        "colab": {
          "base_uri": "https://localhost:8080/"
        },
        "id": "VLFE9Nyi7WsK",
        "outputId": "dbcc7f3e-a56f-48e8-cc37-c39cf32c9eb8"
      },
      "source": [
        "param_rf = {'max_depth':np.arange(100, 200, 10), 'n_estimators':np.arange(50, 200, 10)}\n",
        "grid_rf = GridSearchCV(model_rf, param_rf, cv=5, n_jobs=-1)\n",
        "grid_rf.fit(X_train, Y_train)"
      ],
      "execution_count": null,
      "outputs": [
        {
          "output_type": "execute_result",
          "data": {
            "text/plain": [
              "GridSearchCV(cv=5, error_score=nan,\n",
              "             estimator=RandomForestClassifier(bootstrap=True, ccp_alpha=0.0,\n",
              "                                              class_weight=None,\n",
              "                                              criterion='gini', max_depth=100,\n",
              "                                              max_features='auto',\n",
              "                                              max_leaf_nodes=None,\n",
              "                                              max_samples=None,\n",
              "                                              min_impurity_decrease=0.0,\n",
              "                                              min_impurity_split=None,\n",
              "                                              min_samples_leaf=1,\n",
              "                                              min_samples_split=2,\n",
              "                                              min_weight_fraction_leaf=0.0,\n",
              "                                              n_estimators=200, n_jobs=-1,\n",
              "                                              oob_score=False,\n",
              "                                              random_state=None, verbose=0,\n",
              "                                              warm_start=False),\n",
              "             iid='deprecated', n_jobs=-1,\n",
              "             param_grid={'max_depth': array([100, 110, 120, 130, 140, 150, 160, 170, 180, 190]),\n",
              "                         'n_estimators': array([ 50,  60,  70,  80,  90, 100, 110, 120, 130, 140, 150, 160, 170,\n",
              "       180, 190])},\n",
              "             pre_dispatch='2*n_jobs', refit=True, return_train_score=False,\n",
              "             scoring=None, verbose=0)"
            ]
          },
          "metadata": {
            "tags": []
          },
          "execution_count": 59
        }
      ]
    },
    {
      "cell_type": "code",
      "metadata": {
        "colab": {
          "base_uri": "https://localhost:8080/"
        },
        "id": "GyNgqLgJ7WuF",
        "outputId": "fb2d934b-d6c9-4951-aad0-b54a2f9bf4ff"
      },
      "source": [
        "print(f'RainForest의 best socre : {grid_rf.best_score_}, best parameter : {grid_rf.best_params_}')"
      ],
      "execution_count": null,
      "outputs": [
        {
          "output_type": "stream",
          "text": [
            "RainForest의 best socre : 0.8720000000000001, best parameter : {'max_depth': 130, 'n_estimators': 80}\n"
          ],
          "name": "stdout"
        }
      ]
    },
    {
      "cell_type": "code",
      "metadata": {
        "colab": {
          "base_uri": "https://localhost:8080/"
        },
        "id": "Qzwo8ojY_Zt2",
        "outputId": "2050b429-f938-46f9-e488-6a442339b909"
      },
      "source": [
        "model_rf = RandomForestClassifier(max_depth=130, n_estimators=80)\n",
        "model_rf.fit(X_train, Y_train)\n",
        "Y_pred_rf = model_rf.predict(X_test)\n",
        "print(f'accuracy : {accuracy_score(Y_test, Y_pred_rf)}')\n",
        "print(f'f1_score : {f1_score(Y_test, Y_pred_rf)}')\n",
        "print(f'roc_auc_score : {roc_auc_score(Y_test, Y_pred_rf)}')\n",
        "print(f'cohen_kappa_score : {cohen_kappa_score(Y_test, Y_pred_rf)}')\n",
        "## 더 안좋은데..."
      ],
      "execution_count": null,
      "outputs": [
        {
          "output_type": "stream",
          "text": [
            "accuracy : 0.808\n",
            "f1_score : 0.7948717948717949\n",
            "roc_auc_score : 0.8086300309597524\n",
            "cohen_kappa_score : 0.6146435452793835\n"
          ],
          "name": "stdout"
        }
      ]
    },
    {
      "cell_type": "markdown",
      "metadata": {
        "id": "km1VPid1gw3b"
      },
      "source": [
        "\n",
        "\n",
        "---\n",
        "\n",
        "# **결론(conclusion)**\n",
        "---\n",
        "\n",
        "\n",
        "\n",
        "1.   Iterative Imputer를 돌려서 결측치 처리하는게 나아보임\n",
        "2.   이상값 처리하면 성능향상 (4~5% 향상)\n",
        "\n",
        "\n"
      ]
    }
  ]
}