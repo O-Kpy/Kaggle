{
  "nbformat": 4,
  "nbformat_minor": 0,
  "metadata": {
    "colab": {
      "name": "Pima빠르게.ipynb",
      "provenance": [],
      "mount_file_id": "1Jt2Yl762NKmMi7j2vGjYQOy1XHLACuGj",
      "authorship_tag": "ABX9TyPn02sPC4sy685BrDA3qFu/",
      "include_colab_link": true
    },
    "kernelspec": {
      "name": "python3",
      "display_name": "Python 3"
    },
    "language_info": {
      "name": "python"
    }
  },
  "cells": [
    {
      "cell_type": "markdown",
      "metadata": {
        "id": "view-in-github",
        "colab_type": "text"
      },
      "source": [
        "<a href=\"https://colab.research.google.com/github/O-Kpy/Kaggle/blob/main/Pima%EB%B9%A0%EB%A5%B4%EA%B2%8C.ipynb\" target=\"_parent\"><img src=\"https://colab.research.google.com/assets/colab-badge.svg\" alt=\"Open In Colab\"/></a>"
      ]
    },
    {
      "cell_type": "code",
      "metadata": {
        "id": "fTdGq3JG27Qj"
      },
      "source": [
        "import pandas as pd\n",
        "import numpy as np\n",
        "import seaborn as sns\n",
        "sns.set_style('whitegrid')\n",
        "import matplotlib.pyplot as plt\n",
        "%matplotlib inline\n",
        "import plotly.express as px\n",
        "import warnings\n",
        "warnings.filterwarnings(\"ignore\")"
      ],
      "execution_count": 2,
      "outputs": []
    },
    {
      "cell_type": "code",
      "metadata": {
        "id": "HKKTvVBo3AE4"
      },
      "source": [
        "data=pd.read_csv('/content/drive/MyDrive/dataset/kaggle/Pima Indians.csv')"
      ],
      "execution_count": 3,
      "outputs": []
    },
    {
      "cell_type": "code",
      "metadata": {
        "colab": {
          "base_uri": "https://localhost:8080/"
        },
        "id": "K3L9DXqC3Ikb",
        "outputId": "29b81a62-00b2-49d2-dd23-a1e1336fd6fd"
      },
      "source": [
        "data.shape"
      ],
      "execution_count": 4,
      "outputs": [
        {
          "output_type": "execute_result",
          "data": {
            "text/plain": [
              "(768, 9)"
            ]
          },
          "metadata": {
            "tags": []
          },
          "execution_count": 4
        }
      ]
    },
    {
      "cell_type": "code",
      "metadata": {
        "id": "gp2ohc_03KIX"
      },
      "source": [
        "data.loc[:,'Glucose':'Age'] = data.loc[:,'Glucose':'Age'].replace(0,np.NaN)"
      ],
      "execution_count": 15,
      "outputs": []
    },
    {
      "cell_type": "code",
      "metadata": {
        "colab": {
          "base_uri": "https://localhost:8080/"
        },
        "id": "14lNHcDz3f02",
        "outputId": "879bc2fe-8cdc-4994-ce3e-3d2b20cecc2e"
      },
      "source": [
        "data.isnull().sum()"
      ],
      "execution_count": 18,
      "outputs": [
        {
          "output_type": "execute_result",
          "data": {
            "text/plain": [
              "Pregnancies                   0\n",
              "Glucose                       5\n",
              "BloodPressure                35\n",
              "SkinThickness               227\n",
              "Insulin                     374\n",
              "BMI                          11\n",
              "DiabetesPedigreeFunction      0\n",
              "Age                           0\n",
              "Outcome                       0\n",
              "dtype: int64"
            ]
          },
          "metadata": {
            "tags": []
          },
          "execution_count": 18
        }
      ]
    },
    {
      "cell_type": "code",
      "metadata": {
        "colab": {
          "base_uri": "https://localhost:8080/",
          "height": 282
        },
        "id": "TwoiYYrs3f3M",
        "outputId": "8cd82527-4a6c-4067-ac42-3ada64037838"
      },
      "source": [
        "data.Outcome.hist()"
      ],
      "execution_count": 19,
      "outputs": [
        {
          "output_type": "execute_result",
          "data": {
            "text/plain": [
              "<matplotlib.axes._subplots.AxesSubplot at 0x7fd6ef56e690>"
            ]
          },
          "metadata": {
            "tags": []
          },
          "execution_count": 19
        },
        {
          "output_type": "display_data",
          "data": {
            "image/png": "[encoded data removed]",
            "text/plain": [
              "<Figure size 432x288 with 1 Axes>"
            ]
          },
          "metadata": {
            "tags": [],
            "needs_background": "light"
          }
        }
      ]
    },
    {
      "cell_type": "code",
      "metadata": {
        "id": "FW73Kc9g3f5N"
      },
      "source": [
        "from sklearn.utils import resample"
      ],
      "execution_count": 20,
      "outputs": []
    },
    {
      "cell_type": "code",
      "metadata": {
        "id": "20h0PxwF3f7T"
      },
      "source": [
        "no = data[data.Outcome != 1]\n",
        "yes = data[data.Outcome == 1]\n",
        "yes_oversampled = resample(yes, replace=True, n_samples=len(no), random_state=100)\n",
        "data = pd.concat([no, yes_oversampled], axis=0)"
      ],
      "execution_count": 21,
      "outputs": []
    },
    {
      "cell_type": "code",
      "metadata": {
        "colab": {
          "base_uri": "https://localhost:8080/",
          "height": 282
        },
        "id": "XJPMZBk14gzO",
        "outputId": "9b525fb4-a58c-44f0-c264-7725762e6bfc"
      },
      "source": [
        "data.Outcome.hist()\n",
        "## 오버샘플링"
      ],
      "execution_count": 22,
      "outputs": [
        {
          "output_type": "execute_result",
          "data": {
            "text/plain": [
              "<matplotlib.axes._subplots.AxesSubplot at 0x7fd6ee2e7890>"
            ]
          },
          "metadata": {
            "tags": []
          },
          "execution_count": 22
        },
        {
          "output_type": "display_data",
          "data": {
            "image/png": "[encoded data removed]",
            "text/plain": [
              "<Figure size 432x288 with 1 Axes>"
            ]
          },
          "metadata": {
            "tags": [],
            "needs_background": "light"
          }
        }
      ]
    },
    {
      "cell_type": "code",
      "metadata": {
        "id": "qixzrasv4jYe"
      },
      "source": [
        "from sklearn.experimental import enable_iterative_imputer\n",
        "from sklearn.impute import IterativeImputer"
      ],
      "execution_count": 23,
      "outputs": []
    },
    {
      "cell_type": "code",
      "metadata": {
        "id": "_CDLPMj34jeX"
      },
      "source": [
        "miceimputed = data.copy(deep=True)\n",
        "imputed = IterativeImputer()\n",
        "miceimputed.iloc[:,:] = imputed.fit_transform(data)\n",
        "## 결측치 해결"
      ],
      "execution_count": 25,
      "outputs": []
    },
    {
      "cell_type": "code",
      "metadata": {
        "colab": {
          "base_uri": "https://localhost:8080/"
        },
        "id": "NoJUx8Cn4jgr",
        "outputId": "cd2aa1ce-aa0f-40bf-f854-2b9c2de6139f"
      },
      "source": [
        "data = miceimputed\n",
        "data.isnull().sum()"
      ],
      "execution_count": 28,
      "outputs": [
        {
          "output_type": "execute_result",
          "data": {
            "text/plain": [
              "Pregnancies                 0\n",
              "Glucose                     0\n",
              "BloodPressure               0\n",
              "SkinThickness               0\n",
              "Insulin                     0\n",
              "BMI                         0\n",
              "DiabetesPedigreeFunction    0\n",
              "Age                         0\n",
              "Outcome                     0\n",
              "dtype: int64"
            ]
          },
          "metadata": {
            "tags": []
          },
          "execution_count": 28
        }
      ]
    },
    {
      "cell_type": "code",
      "metadata": {
        "colab": {
          "base_uri": "https://localhost:8080/"
        },
        "id": "BA3gTCc44jjB",
        "outputId": "3ae1bbdf-c544-4fb1-fbc0-5645e439e4a5"
      },
      "source": [
        "Q1 = data.quantile(0.25)\n",
        "Q3 = data.quantile(0.75)\n",
        "IQR = Q3 - Q1\n",
        "print(IQR)"
      ],
      "execution_count": 30,
      "outputs": [
        {
          "output_type": "stream",
          "text": [
            "Pregnancies                   5.000000\n",
            "Glucose                      45.000000\n",
            "BloodPressure                14.000000\n",
            "SkinThickness                12.173717\n",
            "Insulin                     102.422825\n",
            "BMI                           8.850000\n",
            "DiabetesPedigreeFunction      0.412250\n",
            "Age                          16.250000\n",
            "Outcome                       1.000000\n",
            "dtype: float64\n"
          ],
          "name": "stdout"
        }
      ]
    },
    {
      "cell_type": "code",
      "metadata": {
        "id": "kU8IKEzd5gfh"
      },
      "source": [
        "data_copy = data.copy()\n",
        "## data는 이상치 제거 하고, data_copy는 바로 모델링 해본다."
      ],
      "execution_count": 32,
      "outputs": []
    },
    {
      "cell_type": "code",
      "metadata": {
        "id": "ubYb0_ov9dKK"
      },
      "source": [
        ""
      ],
      "execution_count": null,
      "outputs": []
    },
    {
      "cell_type": "code",
      "metadata": {
        "id": "DIBVT4HC50xe"
      },
      "source": [
        "from sklearn.preprocessing import robust_scale"
      ],
      "execution_count": 33,
      "outputs": []
    },
    {
      "cell_type": "code",
      "metadata": {
        "id": "56FTcGyw6qCh"
      },
      "source": [
        "X = data_copy.drop(['Outcome'], axis=1)\n",
        "Y = data_copy['Outcome']"
      ],
      "execution_count": 42,
      "outputs": []
    },
    {
      "cell_type": "code",
      "metadata": {
        "id": "27mrtwvN9rCp"
      },
      "source": [
        "scaler = robust_scale(X)\n",
        "X = scaler"
      ],
      "execution_count": 55,
      "outputs": []
    },
    {
      "cell_type": "code",
      "metadata": {
        "id": "5TJTr4ev6zgx"
      },
      "source": [
        "from sklearn.model_selection import train_test_split"
      ],
      "execution_count": 43,
      "outputs": []
    },
    {
      "cell_type": "code",
      "metadata": {
        "colab": {
          "base_uri": "https://localhost:8080/"
        },
        "id": "-hDgG3lD633q",
        "outputId": "280dcdfe-670c-4f97-8b50-5dd906c7b5a8"
      },
      "source": [
        "X_train, X_test, Y_train, Y_test = train_test_split(X,Y, test_size=.25, random_state=100)\n",
        "print(f'{X_train.shape, Y_train.shape, X_test.shape, Y_test.shape}')"
      ],
      "execution_count": 56,
      "outputs": [
        {
          "output_type": "stream",
          "text": [
            "((750, 8), (750,), (250, 8), (250,))\n"
          ],
          "name": "stdout"
        }
      ]
    },
    {
      "cell_type": "code",
      "metadata": {
        "id": "7MLPXBST7MLU"
      },
      "source": [
        "from sklearn.ensemble import RandomForestClassifier\n",
        "import xgboost as xgb\n",
        "from sklearn.metrics import accuracy_score, f1_score, roc_auc_score, cohen_kappa_score, classification_report"
      ],
      "execution_count": 47,
      "outputs": []
    },
    {
      "cell_type": "code",
      "metadata": {
        "colab": {
          "base_uri": "https://localhost:8080/"
        },
        "id": "YdT1XI5n7WFh",
        "outputId": "ff315049-f6b5-43af-9286-5dc65e38bbbc"
      },
      "source": [
        "model_rf = RandomForestClassifier(n_estimators=200, max_depth=100, n_jobs=-1)\n",
        "model_rf.fit(X_train, Y_train)\n",
        "Y_pred_rf = model_rf.predict(X_test)\n",
        "print(f'accuracy : {accuracy_score(Y_test, Y_pred_rf)}')\n",
        "print(f'f1_score : {f1_score(Y_test, Y_pred_rf)}')\n",
        "print(f'roc_auc_score : {roc_auc_score(Y_test, Y_pred_rf)}')\n",
        "print(f'cohen_kappa_score : {cohen_kappa_score(Y_test, Y_pred_rf)}')"
      ],
      "execution_count": 70,
      "outputs": [
        {
          "output_type": "stream",
          "text": [
            "accuracy : 0.828\n",
            "f1_score : 0.8185654008438819\n",
            "roc_auc_score : 0.8298503611971104\n",
            "cohen_kappa_score : 0.6555149650708197\n"
          ],
          "name": "stdout"
        }
      ]
    },
    {
      "cell_type": "code",
      "metadata": {
        "colab": {
          "base_uri": "https://localhost:8080/"
        },
        "id": "YApEoisV7WoK",
        "outputId": "25fba2e7-0f7a-4039-9cc8-331f0a5027d6"
      },
      "source": [
        "model_xgb = xgb.XGBClassifier(max_depth=100, n_estimators=200, n_jobs=-1)\n",
        "model_xgb.fit(X_train, Y_train)\n",
        "Y_pred_xgb = model_xgb.predict(X_test)\n",
        "print(f'accuracy : {accuracy_score(Y_test, Y_pred_xgb)}')\n",
        "print(f'f1_score : {f1_score(Y_test, Y_pred_xgb)}')\n",
        "print(f'roc_auc_score : {roc_auc_score(Y_test, Y_pred_xgb)}')\n",
        "print(f'cohen_kappa_score : {cohen_kappa_score(Y_test, Y_pred_xgb)}')"
      ],
      "execution_count": 58,
      "outputs": [
        {
          "output_type": "stream",
          "text": [
            "accuracy : 0.804\n",
            "f1_score : 0.7966804979253113\n",
            "roc_auc_score : 0.8070820433436533\n",
            "cohen_kappa_score : 0.6085511599667668\n"
          ],
          "name": "stdout"
        }
      ]
    },
    {
      "cell_type": "code",
      "metadata": {
        "id": "al0N0BJY7WqF"
      },
      "source": [
        "from sklearn.model_selection import GridSearchCV, "
      ],
      "execution_count": 50,
      "outputs": []
    },
    {
      "cell_type": "code",
      "metadata": {
        "colab": {
          "base_uri": "https://localhost:8080/"
        },
        "id": "VLFE9Nyi7WsK",
        "outputId": "dbcc7f3e-a56f-48e8-cc37-c39cf32c9eb8"
      },
      "source": [
        "param_rf = {'max_depth':np.arange(100, 200, 10), 'n_estimators':np.arange(50, 200, 10)}\n",
        "grid_rf = GridSearchCV(model_rf, param_rf, cv=5, n_jobs=-1)\n",
        "grid_rf.fit(X_train, Y_train)"
      ],
      "execution_count": 59,
      "outputs": [
        {
          "output_type": "execute_result",
          "data": {
            "text/plain": [
              "GridSearchCV(cv=5, error_score=nan,\n",
              "             estimator=RandomForestClassifier(bootstrap=True, ccp_alpha=0.0,\n",
              "                                              class_weight=None,\n",
              "                                              criterion='gini', max_depth=100,\n",
              "                                              max_features='auto',\n",
              "                                              max_leaf_nodes=None,\n",
              "                                              max_samples=None,\n",
              "                                              min_impurity_decrease=0.0,\n",
              "                                              min_impurity_split=None,\n",
              "                                              min_samples_leaf=1,\n",
              "                                              min_samples_split=2,\n",
              "                                              min_weight_fraction_leaf=0.0,\n",
              "                                              n_estimators=200, n_jobs=-1,\n",
              "                                              oob_score=False,\n",
              "                                              random_state=None, verbose=0,\n",
              "                                              warm_start=False),\n",
              "             iid='deprecated', n_jobs=-1,\n",
              "             param_grid={'max_depth': array([100, 110, 120, 130, 140, 150, 160, 170, 180, 190]),\n",
              "                         'n_estimators': array([ 50,  60,  70,  80,  90, 100, 110, 120, 130, 140, 150, 160, 170,\n",
              "       180, 190])},\n",
              "             pre_dispatch='2*n_jobs', refit=True, return_train_score=False,\n",
              "             scoring=None, verbose=0)"
            ]
          },
          "metadata": {
            "tags": []
          },
          "execution_count": 59
        }
      ]
    },
    {
      "cell_type": "code",
      "metadata": {
        "colab": {
          "base_uri": "https://localhost:8080/"
        },
        "id": "GyNgqLgJ7WuF",
        "outputId": "fb2d934b-d6c9-4951-aad0-b54a2f9bf4ff"
      },
      "source": [
        "print(f'RainForest의 best socre : {grid_rf.best_score_}, best parameter : {grid_rf.best_params_}')"
      ],
      "execution_count": 63,
      "outputs": [
        {
          "output_type": "stream",
          "text": [
            "RainForest의 best socre : 0.8720000000000001, best parameter : {'max_depth': 130, 'n_estimators': 80}\n"
          ],
          "name": "stdout"
        }
      ]
    },
    {
      "cell_type": "code",
      "metadata": {
        "colab": {
          "base_uri": "https://localhost:8080/"
        },
        "id": "Qzwo8ojY_Zt2",
        "outputId": "2050b429-f938-46f9-e488-6a442339b909"
      },
      "source": [
        "model_rf = RandomForestClassifier(max_depth=130, n_estimators=80)\n",
        "model_rf.fit(X_train, Y_train)\n",
        "Y_pred_rf = model_rf.predict(X_test)\n",
        "print(f'accuracy : {accuracy_score(Y_test, Y_pred_rf)}')\n",
        "print(f'f1_score : {f1_score(Y_test, Y_pred_rf)}')\n",
        "print(f'roc_auc_score : {roc_auc_score(Y_test, Y_pred_rf)}')\n",
        "print(f'cohen_kappa_score : {cohen_kappa_score(Y_test, Y_pred_rf)}')\n",
        "## 더 안좋은데..."
      ],
      "execution_count": 68,
      "outputs": [
        {
          "output_type": "stream",
          "text": [
            "accuracy : 0.808\n",
            "f1_score : 0.7948717948717949\n",
            "roc_auc_score : 0.8086300309597524\n",
            "cohen_kappa_score : 0.6146435452793835\n"
          ],
          "name": "stdout"
        }
      ]
    },
    {
      "cell_type": "code",
      "metadata": {
        "colab": {
          "base_uri": "https://localhost:8080/",
          "height": 402
        },
        "id": "UFTBp1V15gma",
        "outputId": "144064c5-4167-44a0-a339-bb43efcecb3d"
      },
      "source": [
        "data_copy"
      ],
      "execution_count": 37,
      "outputs": [
        {
          "output_type": "execute_result",
          "data": {
            "text/html": [
              "<div>\n",
              "<style scoped>\n",
              "    .dataframe tbody tr th:only-of-type {\n",
              "        vertical-align: middle;\n",
              "    }\n",
              "\n",
              "    .dataframe tbody tr th {\n",
              "        vertical-align: top;\n",
              "    }\n",
              "\n",
              "    .dataframe thead th {\n",
              "        text-align: right;\n",
              "    }\n",
              "</style>\n",
              "<table border=\"1\" class=\"dataframe\">\n",
              "  <thead>\n",
              "    <tr style=\"text-align: right;\">\n",
              "      <th></th>\n",
              "      <th>Pregnancies</th>\n",
              "      <th>Glucose</th>\n",
              "      <th>BloodPressure</th>\n",
              "      <th>SkinThickness</th>\n",
              "      <th>Insulin</th>\n",
              "      <th>BMI</th>\n",
              "      <th>DiabetesPedigreeFunction</th>\n",
              "      <th>Age</th>\n",
              "      <th>Outcome</th>\n",
              "    </tr>\n",
              "  </thead>\n",
              "  <tbody>\n",
              "    <tr>\n",
              "      <th>1</th>\n",
              "      <td>1.0</td>\n",
              "      <td>85.0</td>\n",
              "      <td>66.000000</td>\n",
              "      <td>29.000000</td>\n",
              "      <td>75.723622</td>\n",
              "      <td>26.6</td>\n",
              "      <td>0.351</td>\n",
              "      <td>31.0</td>\n",
              "      <td>0.0</td>\n",
              "    </tr>\n",
              "    <tr>\n",
              "      <th>3</th>\n",
              "      <td>1.0</td>\n",
              "      <td>89.0</td>\n",
              "      <td>66.000000</td>\n",
              "      <td>23.000000</td>\n",
              "      <td>94.000000</td>\n",
              "      <td>28.1</td>\n",
              "      <td>0.167</td>\n",
              "      <td>21.0</td>\n",
              "      <td>0.0</td>\n",
              "    </tr>\n",
              "    <tr>\n",
              "      <th>5</th>\n",
              "      <td>5.0</td>\n",
              "      <td>116.0</td>\n",
              "      <td>74.000000</td>\n",
              "      <td>22.563186</td>\n",
              "      <td>113.528138</td>\n",
              "      <td>25.6</td>\n",
              "      <td>0.201</td>\n",
              "      <td>30.0</td>\n",
              "      <td>0.0</td>\n",
              "    </tr>\n",
              "    <tr>\n",
              "      <th>7</th>\n",
              "      <td>10.0</td>\n",
              "      <td>115.0</td>\n",
              "      <td>74.047444</td>\n",
              "      <td>31.774664</td>\n",
              "      <td>129.515705</td>\n",
              "      <td>35.3</td>\n",
              "      <td>0.134</td>\n",
              "      <td>29.0</td>\n",
              "      <td>0.0</td>\n",
              "    </tr>\n",
              "    <tr>\n",
              "      <th>10</th>\n",
              "      <td>4.0</td>\n",
              "      <td>110.0</td>\n",
              "      <td>92.000000</td>\n",
              "      <td>32.988489</td>\n",
              "      <td>108.720364</td>\n",
              "      <td>37.6</td>\n",
              "      <td>0.191</td>\n",
              "      <td>30.0</td>\n",
              "      <td>0.0</td>\n",
              "    </tr>\n",
              "    <tr>\n",
              "      <th>...</th>\n",
              "      <td>...</td>\n",
              "      <td>...</td>\n",
              "      <td>...</td>\n",
              "      <td>...</td>\n",
              "      <td>...</td>\n",
              "      <td>...</td>\n",
              "      <td>...</td>\n",
              "      <td>...</td>\n",
              "      <td>...</td>\n",
              "    </tr>\n",
              "    <tr>\n",
              "      <th>740</th>\n",
              "      <td>11.0</td>\n",
              "      <td>120.0</td>\n",
              "      <td>80.000000</td>\n",
              "      <td>37.000000</td>\n",
              "      <td>150.000000</td>\n",
              "      <td>42.3</td>\n",
              "      <td>0.785</td>\n",
              "      <td>48.0</td>\n",
              "      <td>1.0</td>\n",
              "    </tr>\n",
              "    <tr>\n",
              "      <th>603</th>\n",
              "      <td>7.0</td>\n",
              "      <td>150.0</td>\n",
              "      <td>78.000000</td>\n",
              "      <td>29.000000</td>\n",
              "      <td>126.000000</td>\n",
              "      <td>35.2</td>\n",
              "      <td>0.692</td>\n",
              "      <td>54.0</td>\n",
              "      <td>1.0</td>\n",
              "    </tr>\n",
              "    <tr>\n",
              "      <th>291</th>\n",
              "      <td>0.0</td>\n",
              "      <td>107.0</td>\n",
              "      <td>62.000000</td>\n",
              "      <td>30.000000</td>\n",
              "      <td>74.000000</td>\n",
              "      <td>36.6</td>\n",
              "      <td>0.757</td>\n",
              "      <td>25.0</td>\n",
              "      <td>1.0</td>\n",
              "    </tr>\n",
              "    <tr>\n",
              "      <th>22</th>\n",
              "      <td>7.0</td>\n",
              "      <td>196.0</td>\n",
              "      <td>90.000000</td>\n",
              "      <td>37.222533</td>\n",
              "      <td>290.493538</td>\n",
              "      <td>39.8</td>\n",
              "      <td>0.451</td>\n",
              "      <td>41.0</td>\n",
              "      <td>1.0</td>\n",
              "    </tr>\n",
              "    <tr>\n",
              "      <th>45</th>\n",
              "      <td>0.0</td>\n",
              "      <td>180.0</td>\n",
              "      <td>66.000000</td>\n",
              "      <td>39.000000</td>\n",
              "      <td>291.231013</td>\n",
              "      <td>42.0</td>\n",
              "      <td>1.893</td>\n",
              "      <td>25.0</td>\n",
              "      <td>1.0</td>\n",
              "    </tr>\n",
              "  </tbody>\n",
              "</table>\n",
              "<p>1000 rows × 9 columns</p>\n",
              "</div>"
            ],
            "text/plain": [
              "     Pregnancies  Glucose  ...   Age  Outcome\n",
              "1            1.0     85.0  ...  31.0      0.0\n",
              "3            1.0     89.0  ...  21.0      0.0\n",
              "5            5.0    116.0  ...  30.0      0.0\n",
              "7           10.0    115.0  ...  29.0      0.0\n",
              "10           4.0    110.0  ...  30.0      0.0\n",
              "..           ...      ...  ...   ...      ...\n",
              "740         11.0    120.0  ...  48.0      1.0\n",
              "603          7.0    150.0  ...  54.0      1.0\n",
              "291          0.0    107.0  ...  25.0      1.0\n",
              "22           7.0    196.0  ...  41.0      1.0\n",
              "45           0.0    180.0  ...  25.0      1.0\n",
              "\n",
              "[1000 rows x 9 columns]"
            ]
          },
          "metadata": {
            "tags": []
          },
          "execution_count": 37
        }
      ]
    }
  ]
}