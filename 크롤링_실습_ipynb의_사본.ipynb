{
  "nbformat": 4,
  "nbformat_minor": 0,
  "metadata": {
    "colab": {
      "name": "크롤링 실습.ipynb의 사본",
      "provenance": [],
      "collapsed_sections": [],
      "authorship_tag": "ABX9TyPWaqaCciyJUi/NT9CL/Z2O",
      "include_colab_link": true
    },
    "kernelspec": {
      "name": "python3",
      "display_name": "Python 3"
    },
    "language_info": {
      "name": "python"
    }
  },
  "cells": [
    {
      "cell_type": "markdown",
      "metadata": {
        "id": "view-in-github",
        "colab_type": "text"
      },
      "source": [
        "<a href=\"https://colab.research.google.com/github/O-Kpy/Kaggle/blob/main/%ED%81%AC%EB%A1%A4%EB%A7%81_%EC%8B%A4%EC%8A%B5_ipynb%EC%9D%98_%EC%82%AC%EB%B3%B8.ipynb\" target=\"_parent\"><img src=\"https://colab.research.google.com/assets/colab-badge.svg\" alt=\"Open In Colab\"/></a>"
      ]
    },
    {
      "cell_type": "code",
      "metadata": {
        "id": "XNoKcQoCitLW"
      },
      "source": [
        "import pandas as pd\n",
        "from bs4 import BeautifulSoup\n",
        "import requests\n",
        "startnumber=1\n",
        "endnumber=1000\n",
        "name = {}\n",
        "address = []\n",
        "representative = []\n",
        "call = []"
      ],
      "execution_count": null,
      "outputs": []
    },
    {
      "cell_type": "code",
      "metadata": {
        "id": "_MEihCO-jWy7"
      },
      "source": [
        "import requests\n",
        "from bs4 import BeautifulSoup\n",
        "import pandas as pd\n",
        "\n",
        "API_Key = \"oyZ2LLIqAK2y2TL0Nypw72UeEwUE1dcpM9jrD%2Ba3gymbkMNIRZDBNo01RJPuiqgdeAC4CPwVhf7vvNAw8JTCFA%3D%3D\"\n",
        "URL = \"http://openapi.tago.go.kr/openapi/service/ExpBusInfoService/getCtyCodeList?serviceKey={API}\".format(API= API_Key)\n",
        "\n",
        "# API로 데이터 불러오기\n",
        "rq = requests.get(URL)\n",
        "soup = BeautifulSoup(rq.text, \"html.parser\")\n",
        "\n",
        "cityList = []\n",
        "for item in soup.find_all(\"item\"):\n",
        "    cityCode = item.find(\"citycode\").text\n",
        "    cityName = item.find(\"cityname\").text\n",
        "    cityList.append([cityCode, cityName])\n",
        "\n"
      ],
      "execution_count": null,
      "outputs": []
    },
    {
      "cell_type": "code",
      "metadata": {
        "colab": {
          "base_uri": "https://localhost:8080/"
        },
        "id": "DHl_UKHKq0U9",
        "outputId": "6309e394-9d2c-4a42-f0e2-2ca8c6f56228"
      },
      "source": [
        "soup.find_all('Item')"
      ],
      "execution_count": null,
      "outputs": [
        {
          "output_type": "execute_result",
          "data": {
            "text/plain": [
              "[]"
            ]
          },
          "metadata": {},
          "execution_count": 6
        }
      ]
    },
    {
      "cell_type": "code",
      "metadata": {
        "id": "1J3Iv269xMeY"
      },
      "source": [
        "!pip install selenium\n",
        "!apt-get update\n",
        "!apt install chromium-chromedriver"
      ],
      "execution_count": null,
      "outputs": []
    },
    {
      "cell_type": "code",
      "metadata": {
        "colab": {
          "base_uri": "https://localhost:8080/",
          "height": 422
        },
        "id": "evM72y5-vh3k",
        "outputId": "ede20cc7-6160-4983-db8c-2485844824cf"
      },
      "source": [
        "# step1.프로젝트에 필요한 패키지 불러오기\n",
        "from bs4 import BeautifulSoup\n",
        "from selenium import webdriver\n",
        "from selenium.webdriver.common.keys import Keys\n",
        "import time\n",
        "import pandas as pd\n",
        "\n",
        "# step2.로그인 정보 및 검색할 회사 미리 정의, 해당 회사의 리뷰 끝 페이지도 정의\n",
        "usr = \"rbwls112@naver.com\"\n",
        "pwd = \"Ohkyujin11@\"\n",
        "query = \"빌트온\"\n",
        "page = 2\n",
        "\n",
        "\n",
        "# step3.크롬드라이버 실행 및 잡플래닛 로그인\n",
        "\n",
        "chrome_options = webdriver.ChromeOptions()\n",
        "chrome_options = webdriver.ChromeOptions()\n",
        "chrome_options.add_argument('--headless')\n",
        "chrome_options.add_argument('--no-sandbox')\n",
        "chrome_options.add_argument('--disable-dev-shm-usage')\n",
        "driver = webdriver.Chrome('chromedriver', chrome_options=chrome_options)\n",
        "\n",
        "\n",
        "\n",
        "driver.get(\"https://www.jobplanet.co.kr/users/sign_in?_nav=gb\")\n",
        "time.sleep(5)\n",
        "\n",
        "login_id = driver.find_element_by_css_selector(\"input#user_email\")\n",
        "login_id.send_keys(usr)\n",
        "\n",
        "login_pwd = driver.find_element_by_css_selector(\"input#user_password\")\n",
        "login_pwd.send_keys(pwd)\n",
        "\n",
        "login_id.send_keys(Keys.RETURN)\n",
        "time.sleep(5)\n",
        "\n",
        "\n",
        "# step4.원하는 회사의 리뷰 페이지까지 이동\n",
        "query_vieworks = driver.find_element_by_css_selector(\"input#search_bar_search_query\")\n",
        "query_vieworks.send_keys(query)\n",
        "query_vieworks.send_keys(Keys.RETURN)\n",
        "time.sleep(3)\n",
        "\n",
        "driver.find_element_by_css_selector('.result_card .tit').click()\n",
        "time.sleep(15)\n",
        "\n",
        "driver.find_element_by_css_selector(\"button.btn_close_x_ty1 \").click()\n",
        "time.sleep(3)\n",
        "\n",
        "\n",
        "\n",
        "# step6.크롤링한 정보를 담을 리스트명 정의\n",
        "list_div = []\n",
        "list_cur = []\n",
        "list_date =[]\n",
        "list_stars = []\n",
        "list_summery = []\n",
        "list_merit = []\n",
        "list_disadvantages = []\n",
        "list_managers =[]\n",
        "\n",
        "\n",
        "# step7.원하는 회사의 직무/근속여부/일시/요약/평점/장점/단점/경영진에게 바라는 점 크롤링 (for문으로 반복)\n",
        "for i in range(page): \n",
        "\n",
        "    #직무, 근속여부, 일시\n",
        "    user_info = driver.find_elements_by_css_selector(\"span.txt1\")\n",
        "\n",
        "    count = int(len(user_info)/4)\n",
        "    print(count)\n",
        "\n",
        "    list_user_info = []\n",
        "\n",
        "    for j in user_info:\n",
        "        list_user_info.append(j.text)\n",
        "\n",
        "    for j in range(count):            #한 페이지에 정보 5set씩 나옴. 마지막 페이지는 5개 미만일 수 있으므로 count 변수를 반복횟수로 넣어줌.\n",
        "        a = list_user_info[4*j]\n",
        "        list_div.append(a)\n",
        "        \n",
        "        b = list_user_info[4*j+1]\n",
        "        list_cur.append(b)\n",
        "\n",
        "        c = list_user_info[4*j+3]\n",
        "        list_date.append(c)\n",
        "\n",
        "    #별점\n",
        "    stars = driver.find_elements_by_css_selector(\"div.star_score\")\n",
        "    for j in stars:\n",
        "        a = j.get_attribute('style')\n",
        "        if a[7:9] == '20':\n",
        "            list_stars.append(\"1점\")\n",
        "        elif a[7:9] == '40':\n",
        "            list_stars.append(\"2점\")\n",
        "        elif a[7:9] == '60':\n",
        "            list_stars.append(\"3점\")\n",
        "        elif a[7:9] == '80':\n",
        "            list_stars.append(\"4점\")\n",
        "        else:\n",
        "            list_stars.append(\"5점\")\n",
        "        \n",
        "    #요약 정보\n",
        "    summery = driver.find_elements_by_css_selector(\"h2.us_label\")\n",
        "\n",
        "    for j in summery:\n",
        "        list_summery.append(j.text)\n",
        "    \n",
        "    #장점, 단점, 경영진에게 바라는 점\n",
        "    list_review = []\n",
        "\n",
        "    review = driver.find_elements_by_css_selector(\"dd.df1\")\n",
        "\n",
        "    for j in review:\n",
        "        list_review.append(j.text)\n",
        "\n",
        "    for j in range(count):            #한 페이지에 정보 5set씩 나옴. 마지막 페이지는 5개 미만일 수 있으므로 count 변수를 반복횟수로 넣어줌.\n",
        "        a = list_review[3*j]\n",
        "        list_merit.append(a)\n",
        "        \n",
        "        b = list_review[3*j+1]\n",
        "        list_disadvantages.append(b)\n",
        "\n",
        "        c = list_review[3*j+2]\n",
        "        list_managers.append(c)\n",
        "\n",
        "    # 다음 페이지 클릭 후 for문 진행, 끝 페이지에서 다음 페이지 클릭 안되는 것 대비해서 예외처리 구문 추가\n",
        "    try:\n",
        "        driver.find_element_by_css_selector(\"a.btn_pgnext\").click()\n",
        "        time.sleep(15)\n",
        "    except:\n",
        "        pass\n",
        "\n",
        "\n",
        "# step8.pandas 라이브러리로 표 만들기\n",
        "total_data = pd.DataFrame()\n",
        "total_data['날짜'] = pd.Series(list_date)\n",
        "total_data['직무'] = pd.Series(list_div)\n",
        "total_data['재직여부'] = pd.Series(list_cur)\n",
        "total_data['별점'] = pd.Series(list_stars)\n",
        "total_data['요약'] = pd.Series(list_summery)\n",
        "total_data['장점'] = pd.Series(list_merit)\n",
        "total_data['단점'] = pd.Series(list_disadvantages)\n",
        "total_data['경영진에게 바라는 점'] = pd.Series(list_managers)\n",
        "\n",
        "# step9.엑셀 형태로 저장하기\n",
        "total_data.to_excel(\"잡플래닛 리뷰 총정리.xls\" ,index=True)\n",
        "\n",
        "# step10.크롬 드라이버 종료\n",
        "driver.close()"
      ],
      "execution_count": null,
      "outputs": [
        {
          "output_type": "stream",
          "name": "stderr",
          "text": [
            "/usr/local/lib/python3.7/dist-packages/ipykernel_launcher.py:22: DeprecationWarning: use options instead of chrome_options\n"
          ]
        },
        {
          "output_type": "error",
          "ename": "NoSuchElementException",
          "evalue": "ignored",
          "traceback": [
            "\u001b[0;31m---------------------------------------------------------------------------\u001b[0m",
            "\u001b[0;31mNoSuchElementException\u001b[0m                    Traceback (most recent call last)",
            "\u001b[0;32m<ipython-input-4-0dfc773c5b8f>\u001b[0m in \u001b[0;36m<module>\u001b[0;34m()\u001b[0m\n\u001b[1;32m     43\u001b[0m \u001b[0mtime\u001b[0m\u001b[0;34m.\u001b[0m\u001b[0msleep\u001b[0m\u001b[0;34m(\u001b[0m\u001b[0;36m3\u001b[0m\u001b[0;34m)\u001b[0m\u001b[0;34m\u001b[0m\u001b[0;34m\u001b[0m\u001b[0m\n\u001b[1;32m     44\u001b[0m \u001b[0;34m\u001b[0m\u001b[0m\n\u001b[0;32m---> 45\u001b[0;31m \u001b[0mdriver\u001b[0m\u001b[0;34m.\u001b[0m\u001b[0mfind_element_by_css_selector\u001b[0m\u001b[0;34m(\u001b[0m\u001b[0;34m'.result_card .tit'\u001b[0m\u001b[0;34m)\u001b[0m\u001b[0;34m.\u001b[0m\u001b[0mclick\u001b[0m\u001b[0;34m(\u001b[0m\u001b[0;34m)\u001b[0m\u001b[0;34m\u001b[0m\u001b[0;34m\u001b[0m\u001b[0m\n\u001b[0m\u001b[1;32m     46\u001b[0m \u001b[0mtime\u001b[0m\u001b[0;34m.\u001b[0m\u001b[0msleep\u001b[0m\u001b[0;34m(\u001b[0m\u001b[0;36m15\u001b[0m\u001b[0;34m)\u001b[0m\u001b[0;34m\u001b[0m\u001b[0;34m\u001b[0m\u001b[0m\n\u001b[1;32m     47\u001b[0m \u001b[0;34m\u001b[0m\u001b[0m\n",
            "\u001b[0;32m/usr/local/lib/python3.7/dist-packages/selenium/webdriver/remote/webdriver.py\u001b[0m in \u001b[0;36mfind_element_by_css_selector\u001b[0;34m(self, css_selector)\u001b[0m\n\u001b[1;32m    596\u001b[0m             \u001b[0melement\u001b[0m \u001b[0;34m=\u001b[0m \u001b[0mdriver\u001b[0m\u001b[0;34m.\u001b[0m\u001b[0mfind_element_by_css_selector\u001b[0m\u001b[0;34m(\u001b[0m\u001b[0;34m'#foo'\u001b[0m\u001b[0;34m)\u001b[0m\u001b[0;34m\u001b[0m\u001b[0;34m\u001b[0m\u001b[0m\n\u001b[1;32m    597\u001b[0m         \"\"\"\n\u001b[0;32m--> 598\u001b[0;31m         \u001b[0;32mreturn\u001b[0m \u001b[0mself\u001b[0m\u001b[0;34m.\u001b[0m\u001b[0mfind_element\u001b[0m\u001b[0;34m(\u001b[0m\u001b[0mby\u001b[0m\u001b[0;34m=\u001b[0m\u001b[0mBy\u001b[0m\u001b[0;34m.\u001b[0m\u001b[0mCSS_SELECTOR\u001b[0m\u001b[0;34m,\u001b[0m \u001b[0mvalue\u001b[0m\u001b[0;34m=\u001b[0m\u001b[0mcss_selector\u001b[0m\u001b[0;34m)\u001b[0m\u001b[0;34m\u001b[0m\u001b[0;34m\u001b[0m\u001b[0m\n\u001b[0m\u001b[1;32m    599\u001b[0m \u001b[0;34m\u001b[0m\u001b[0m\n\u001b[1;32m    600\u001b[0m     \u001b[0;32mdef\u001b[0m \u001b[0mfind_elements_by_css_selector\u001b[0m\u001b[0;34m(\u001b[0m\u001b[0mself\u001b[0m\u001b[0;34m,\u001b[0m \u001b[0mcss_selector\u001b[0m\u001b[0;34m)\u001b[0m\u001b[0;34m:\u001b[0m\u001b[0;34m\u001b[0m\u001b[0;34m\u001b[0m\u001b[0m\n",
            "\u001b[0;32m/usr/local/lib/python3.7/dist-packages/selenium/webdriver/remote/webdriver.py\u001b[0m in \u001b[0;36mfind_element\u001b[0;34m(self, by, value)\u001b[0m\n\u001b[1;32m    976\u001b[0m         return self.execute(Command.FIND_ELEMENT, {\n\u001b[1;32m    977\u001b[0m             \u001b[0;34m'using'\u001b[0m\u001b[0;34m:\u001b[0m \u001b[0mby\u001b[0m\u001b[0;34m,\u001b[0m\u001b[0;34m\u001b[0m\u001b[0;34m\u001b[0m\u001b[0m\n\u001b[0;32m--> 978\u001b[0;31m             'value': value})['value']\n\u001b[0m\u001b[1;32m    979\u001b[0m \u001b[0;34m\u001b[0m\u001b[0m\n\u001b[1;32m    980\u001b[0m     \u001b[0;32mdef\u001b[0m \u001b[0mfind_elements\u001b[0m\u001b[0;34m(\u001b[0m\u001b[0mself\u001b[0m\u001b[0;34m,\u001b[0m \u001b[0mby\u001b[0m\u001b[0;34m=\u001b[0m\u001b[0mBy\u001b[0m\u001b[0;34m.\u001b[0m\u001b[0mID\u001b[0m\u001b[0;34m,\u001b[0m \u001b[0mvalue\u001b[0m\u001b[0;34m=\u001b[0m\u001b[0;32mNone\u001b[0m\u001b[0;34m)\u001b[0m\u001b[0;34m:\u001b[0m\u001b[0;34m\u001b[0m\u001b[0;34m\u001b[0m\u001b[0m\n",
            "\u001b[0;32m/usr/local/lib/python3.7/dist-packages/selenium/webdriver/remote/webdriver.py\u001b[0m in \u001b[0;36mexecute\u001b[0;34m(self, driver_command, params)\u001b[0m\n\u001b[1;32m    319\u001b[0m         \u001b[0mresponse\u001b[0m \u001b[0;34m=\u001b[0m \u001b[0mself\u001b[0m\u001b[0;34m.\u001b[0m\u001b[0mcommand_executor\u001b[0m\u001b[0;34m.\u001b[0m\u001b[0mexecute\u001b[0m\u001b[0;34m(\u001b[0m\u001b[0mdriver_command\u001b[0m\u001b[0;34m,\u001b[0m \u001b[0mparams\u001b[0m\u001b[0;34m)\u001b[0m\u001b[0;34m\u001b[0m\u001b[0;34m\u001b[0m\u001b[0m\n\u001b[1;32m    320\u001b[0m         \u001b[0;32mif\u001b[0m \u001b[0mresponse\u001b[0m\u001b[0;34m:\u001b[0m\u001b[0;34m\u001b[0m\u001b[0;34m\u001b[0m\u001b[0m\n\u001b[0;32m--> 321\u001b[0;31m             \u001b[0mself\u001b[0m\u001b[0;34m.\u001b[0m\u001b[0merror_handler\u001b[0m\u001b[0;34m.\u001b[0m\u001b[0mcheck_response\u001b[0m\u001b[0;34m(\u001b[0m\u001b[0mresponse\u001b[0m\u001b[0;34m)\u001b[0m\u001b[0;34m\u001b[0m\u001b[0;34m\u001b[0m\u001b[0m\n\u001b[0m\u001b[1;32m    322\u001b[0m             response['value'] = self._unwrap_value(\n\u001b[1;32m    323\u001b[0m                 response.get('value', None))\n",
            "\u001b[0;32m/usr/local/lib/python3.7/dist-packages/selenium/webdriver/remote/errorhandler.py\u001b[0m in \u001b[0;36mcheck_response\u001b[0;34m(self, response)\u001b[0m\n\u001b[1;32m    240\u001b[0m                 \u001b[0malert_text\u001b[0m \u001b[0;34m=\u001b[0m \u001b[0mvalue\u001b[0m\u001b[0;34m[\u001b[0m\u001b[0;34m'alert'\u001b[0m\u001b[0;34m]\u001b[0m\u001b[0;34m.\u001b[0m\u001b[0mget\u001b[0m\u001b[0;34m(\u001b[0m\u001b[0;34m'text'\u001b[0m\u001b[0;34m)\u001b[0m\u001b[0;34m\u001b[0m\u001b[0;34m\u001b[0m\u001b[0m\n\u001b[1;32m    241\u001b[0m             \u001b[0;32mraise\u001b[0m \u001b[0mexception_class\u001b[0m\u001b[0;34m(\u001b[0m\u001b[0mmessage\u001b[0m\u001b[0;34m,\u001b[0m \u001b[0mscreen\u001b[0m\u001b[0;34m,\u001b[0m \u001b[0mstacktrace\u001b[0m\u001b[0;34m,\u001b[0m \u001b[0malert_text\u001b[0m\u001b[0;34m)\u001b[0m\u001b[0;34m\u001b[0m\u001b[0;34m\u001b[0m\u001b[0m\n\u001b[0;32m--> 242\u001b[0;31m         \u001b[0;32mraise\u001b[0m \u001b[0mexception_class\u001b[0m\u001b[0;34m(\u001b[0m\u001b[0mmessage\u001b[0m\u001b[0;34m,\u001b[0m \u001b[0mscreen\u001b[0m\u001b[0;34m,\u001b[0m \u001b[0mstacktrace\u001b[0m\u001b[0;34m)\u001b[0m\u001b[0;34m\u001b[0m\u001b[0;34m\u001b[0m\u001b[0m\n\u001b[0m\u001b[1;32m    243\u001b[0m \u001b[0;34m\u001b[0m\u001b[0m\n\u001b[1;32m    244\u001b[0m     \u001b[0;32mdef\u001b[0m \u001b[0m_value_or_default\u001b[0m\u001b[0;34m(\u001b[0m\u001b[0mself\u001b[0m\u001b[0;34m,\u001b[0m \u001b[0mobj\u001b[0m\u001b[0;34m,\u001b[0m \u001b[0mkey\u001b[0m\u001b[0;34m,\u001b[0m \u001b[0mdefault\u001b[0m\u001b[0;34m)\u001b[0m\u001b[0;34m:\u001b[0m\u001b[0;34m\u001b[0m\u001b[0;34m\u001b[0m\u001b[0m\n",
            "\u001b[0;31mNoSuchElementException\u001b[0m: Message: no such element: Unable to locate element: {\"method\":\"css selector\",\"selector\":\".result_card .tit\"}\n  (Session info: headless chrome=93.0.4577.63)\n"
          ]
        }
      ]
    }
  ]
}