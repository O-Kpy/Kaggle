{
  "nbformat": 4,
  "nbformat_minor": 0,
  "metadata": {
    "colab": {
      "name": "Costarican.ipynb",
      "provenance": [],
      "mount_file_id": "1-jTORW9a7QlsPIsrRLTCgunIpFXMnE-U",
      "authorship_tag": "ABX9TyOyAJz7/BOa3gUTeE9jEbP9",
      "include_colab_link": true
    },
    "kernelspec": {
      "name": "python3",
      "display_name": "Python 3"
    },
    "language_info": {
      "name": "python"
    }
  },
  "cells": [
    {
      "cell_type": "markdown",
      "metadata": {
        "id": "view-in-github",
        "colab_type": "text"
      },
      "source": [
        "<a href=\"https://colab.research.google.com/github/O-Kpy/Kaggle/blob/main/Costarican.ipynb\" target=\"_parent\"><img src=\"https://colab.research.google.com/assets/colab-badge.svg\" alt=\"Open In Colab\"/></a>"
      ]
    },
    {
      "cell_type": "code",
      "metadata": {
        "id": "F2UJEOWzTdOi"
      },
      "source": [
        "import pandas as pd\n",
        "import numpy as np\n",
        "import matplotlib.pyplot as plt\n",
        "%matplotlib inline\n",
        "import seaborn as sns\n",
        "sns.set_style('whitegrid')\n",
        "import warnings\n",
        "warnings.filterwarnings('ignore')"
      ],
      "execution_count": null,
      "outputs": []
    },
    {
      "cell_type": "code",
      "metadata": {
        "id": "AZySkYLkT935"
      },
      "source": [
        "train = pd.read_csv('/content/drive/MyDrive/dataset/kaggle/Costarican_train.csv')"
      ],
      "execution_count": null,
      "outputs": []
    },
    {
      "cell_type": "code",
      "metadata": {
        "id": "VCXZnUvM0Gp7"
      },
      "source": [
        "test = pd.read_csv('/content/drive/MyDrive/dataset/kaggle/Costarican_test.csv')"
      ],
      "execution_count": null,
      "outputs": []
    },
    {
      "cell_type": "code",
      "metadata": {
        "id": "xqLFxsL0ecs5"
      },
      "source": [
        "train = train.drop(['Id'], axis=1)\n",
        "test = test.drop(['Id'], axis=1)"
      ],
      "execution_count": null,
      "outputs": []
    },
    {
      "cell_type": "code",
      "metadata": {
        "id": "0RGaz7gY25Xf"
      },
      "source": [
        "test = test.drop(['v2a1'], axis=1)\n",
        "test = test.drop(['rez_esc'], axis=1)\n",
        "test = test.drop(['v18q1'], axis=1)"
      ],
      "execution_count": null,
      "outputs": []
    },
    {
      "cell_type": "code",
      "metadata": {
        "colab": {
          "base_uri": "https://localhost:8080/"
        },
        "id": "wdSIFLE8UPEl",
        "outputId": "0991bd9e-e6f8-4c1b-f4f5-226218e9bfaf"
      },
      "source": [
        "print(f'train shape:{train.shape}, test shape:{test.shape}')"
      ],
      "execution_count": null,
      "outputs": [
        {
          "output_type": "stream",
          "text": [
            "train shape:(9557, 143), test shape:(23856, 142)\n"
          ],
          "name": "stdout"
        }
      ]
    },
    {
      "cell_type": "code",
      "metadata": {
        "id": "1TDvYBM-aVTE"
      },
      "source": [
        "def missing_data(data):\n",
        "  d_sum = data.isnull().sum()\n",
        "  d_percent = round(data.isnull().sum()/len(data)*100, 2)\n",
        "\n",
        "  d_table = pd.concat([d_sum, d_percent], axis=1, keys=['Sum', 'Percent']).sort_values(by='Percent', ascending=False).head(10)\n",
        "  return d_table"
      ],
      "execution_count": null,
      "outputs": []
    },
    {
      "cell_type": "code",
      "metadata": {
        "colab": {
          "base_uri": "https://localhost:8080/",
          "height": 343
        },
        "id": "7_g9TFRKcIkH",
        "outputId": "2579f6f6-361c-4167-bd85-5385242cb526"
      },
      "source": [
        "missing_data(train)"
      ],
      "execution_count": null,
      "outputs": [
        {
          "output_type": "execute_result",
          "data": {
            "text/html": [
              "<div>\n",
              "<style scoped>\n",
              "    .dataframe tbody tr th:only-of-type {\n",
              "        vertical-align: middle;\n",
              "    }\n",
              "\n",
              "    .dataframe tbody tr th {\n",
              "        vertical-align: top;\n",
              "    }\n",
              "\n",
              "    .dataframe thead th {\n",
              "        text-align: right;\n",
              "    }\n",
              "</style>\n",
              "<table border=\"1\" class=\"dataframe\">\n",
              "  <thead>\n",
              "    <tr style=\"text-align: right;\">\n",
              "      <th></th>\n",
              "      <th>Sum</th>\n",
              "      <th>Percent</th>\n",
              "    </tr>\n",
              "  </thead>\n",
              "  <tbody>\n",
              "    <tr>\n",
              "      <th>hacdor</th>\n",
              "      <td>0</td>\n",
              "      <td>0.0</td>\n",
              "    </tr>\n",
              "    <tr>\n",
              "      <th>hogar_total</th>\n",
              "      <td>0</td>\n",
              "      <td>0.0</td>\n",
              "    </tr>\n",
              "    <tr>\n",
              "      <th>parentesco11</th>\n",
              "      <td>0</td>\n",
              "      <td>0.0</td>\n",
              "    </tr>\n",
              "    <tr>\n",
              "      <th>parentesco12</th>\n",
              "      <td>0</td>\n",
              "      <td>0.0</td>\n",
              "    </tr>\n",
              "    <tr>\n",
              "      <th>idhogar</th>\n",
              "      <td>0</td>\n",
              "      <td>0.0</td>\n",
              "    </tr>\n",
              "    <tr>\n",
              "      <th>hogar_nin</th>\n",
              "      <td>0</td>\n",
              "      <td>0.0</td>\n",
              "    </tr>\n",
              "    <tr>\n",
              "      <th>hogar_adul</th>\n",
              "      <td>0</td>\n",
              "      <td>0.0</td>\n",
              "    </tr>\n",
              "    <tr>\n",
              "      <th>hogar_mayor</th>\n",
              "      <td>0</td>\n",
              "      <td>0.0</td>\n",
              "    </tr>\n",
              "    <tr>\n",
              "      <th>dependency</th>\n",
              "      <td>0</td>\n",
              "      <td>0.0</td>\n",
              "    </tr>\n",
              "    <tr>\n",
              "      <th>instlevel5</th>\n",
              "      <td>0</td>\n",
              "      <td>0.0</td>\n",
              "    </tr>\n",
              "  </tbody>\n",
              "</table>\n",
              "</div>"
            ],
            "text/plain": [
              "              Sum  Percent\n",
              "hacdor          0      0.0\n",
              "hogar_total     0      0.0\n",
              "parentesco11    0      0.0\n",
              "parentesco12    0      0.0\n",
              "idhogar         0      0.0\n",
              "hogar_nin       0      0.0\n",
              "hogar_adul      0      0.0\n",
              "hogar_mayor     0      0.0\n",
              "dependency      0      0.0\n",
              "instlevel5      0      0.0"
            ]
          },
          "metadata": {
            "tags": []
          },
          "execution_count": 98
        }
      ]
    },
    {
      "cell_type": "code",
      "metadata": {
        "colab": {
          "base_uri": "https://localhost:8080/",
          "height": 343
        },
        "id": "ozv72kyReuJV",
        "outputId": "5b896490-b345-4ff8-9e22-74e42d003b33"
      },
      "source": [
        "missing_data(test)"
      ],
      "execution_count": null,
      "outputs": [
        {
          "output_type": "execute_result",
          "data": {
            "text/html": [
              "<div>\n",
              "<style scoped>\n",
              "    .dataframe tbody tr th:only-of-type {\n",
              "        vertical-align: middle;\n",
              "    }\n",
              "\n",
              "    .dataframe tbody tr th {\n",
              "        vertical-align: top;\n",
              "    }\n",
              "\n",
              "    .dataframe thead th {\n",
              "        text-align: right;\n",
              "    }\n",
              "</style>\n",
              "<table border=\"1\" class=\"dataframe\">\n",
              "  <thead>\n",
              "    <tr style=\"text-align: right;\">\n",
              "      <th></th>\n",
              "      <th>Sum</th>\n",
              "      <th>Percent</th>\n",
              "    </tr>\n",
              "  </thead>\n",
              "  <tbody>\n",
              "    <tr>\n",
              "      <th>hacdor</th>\n",
              "      <td>0</td>\n",
              "      <td>0.0</td>\n",
              "    </tr>\n",
              "    <tr>\n",
              "      <th>hogar_mayor</th>\n",
              "      <td>0</td>\n",
              "      <td>0.0</td>\n",
              "    </tr>\n",
              "    <tr>\n",
              "      <th>parentesco10</th>\n",
              "      <td>0</td>\n",
              "      <td>0.0</td>\n",
              "    </tr>\n",
              "    <tr>\n",
              "      <th>parentesco11</th>\n",
              "      <td>0</td>\n",
              "      <td>0.0</td>\n",
              "    </tr>\n",
              "    <tr>\n",
              "      <th>parentesco12</th>\n",
              "      <td>0</td>\n",
              "      <td>0.0</td>\n",
              "    </tr>\n",
              "    <tr>\n",
              "      <th>idhogar</th>\n",
              "      <td>0</td>\n",
              "      <td>0.0</td>\n",
              "    </tr>\n",
              "    <tr>\n",
              "      <th>hogar_nin</th>\n",
              "      <td>0</td>\n",
              "      <td>0.0</td>\n",
              "    </tr>\n",
              "    <tr>\n",
              "      <th>hogar_adul</th>\n",
              "      <td>0</td>\n",
              "      <td>0.0</td>\n",
              "    </tr>\n",
              "    <tr>\n",
              "      <th>hogar_total</th>\n",
              "      <td>0</td>\n",
              "      <td>0.0</td>\n",
              "    </tr>\n",
              "    <tr>\n",
              "      <th>instlevel4</th>\n",
              "      <td>0</td>\n",
              "      <td>0.0</td>\n",
              "    </tr>\n",
              "  </tbody>\n",
              "</table>\n",
              "</div>"
            ],
            "text/plain": [
              "              Sum  Percent\n",
              "hacdor          0      0.0\n",
              "hogar_mayor     0      0.0\n",
              "parentesco10    0      0.0\n",
              "parentesco11    0      0.0\n",
              "parentesco12    0      0.0\n",
              "idhogar         0      0.0\n",
              "hogar_nin       0      0.0\n",
              "hogar_adul      0      0.0\n",
              "hogar_total     0      0.0\n",
              "instlevel4      0      0.0"
            ]
          },
          "metadata": {
            "tags": []
          },
          "execution_count": 111
        }
      ]
    },
    {
      "cell_type": "code",
      "metadata": {
        "colab": {
          "base_uri": "https://localhost:8080/",
          "height": 343
        },
        "id": "7OUtXVu1gXTy",
        "outputId": "cd6f4566-9ccf-4505-fd79-97bff7ab66bf"
      },
      "source": [
        "missing_data(data)"
      ],
      "execution_count": null,
      "outputs": [
        {
          "output_type": "execute_result",
          "data": {
            "text/html": [
              "<div>\n",
              "<style scoped>\n",
              "    .dataframe tbody tr th:only-of-type {\n",
              "        vertical-align: middle;\n",
              "    }\n",
              "\n",
              "    .dataframe tbody tr th {\n",
              "        vertical-align: top;\n",
              "    }\n",
              "\n",
              "    .dataframe thead th {\n",
              "        text-align: right;\n",
              "    }\n",
              "</style>\n",
              "<table border=\"1\" class=\"dataframe\">\n",
              "  <thead>\n",
              "    <tr style=\"text-align: right;\">\n",
              "      <th></th>\n",
              "      <th>Sum</th>\n",
              "      <th>Percent</th>\n",
              "    </tr>\n",
              "  </thead>\n",
              "  <tbody>\n",
              "    <tr>\n",
              "      <th>Target</th>\n",
              "      <td>23856</td>\n",
              "      <td>71.4</td>\n",
              "    </tr>\n",
              "    <tr>\n",
              "      <th>hogar_total</th>\n",
              "      <td>0</td>\n",
              "      <td>0.0</td>\n",
              "    </tr>\n",
              "    <tr>\n",
              "      <th>parentesco11</th>\n",
              "      <td>0</td>\n",
              "      <td>0.0</td>\n",
              "    </tr>\n",
              "    <tr>\n",
              "      <th>parentesco12</th>\n",
              "      <td>0</td>\n",
              "      <td>0.0</td>\n",
              "    </tr>\n",
              "    <tr>\n",
              "      <th>idhogar</th>\n",
              "      <td>0</td>\n",
              "      <td>0.0</td>\n",
              "    </tr>\n",
              "    <tr>\n",
              "      <th>hogar_nin</th>\n",
              "      <td>0</td>\n",
              "      <td>0.0</td>\n",
              "    </tr>\n",
              "    <tr>\n",
              "      <th>hogar_adul</th>\n",
              "      <td>0</td>\n",
              "      <td>0.0</td>\n",
              "    </tr>\n",
              "    <tr>\n",
              "      <th>hogar_mayor</th>\n",
              "      <td>0</td>\n",
              "      <td>0.0</td>\n",
              "    </tr>\n",
              "    <tr>\n",
              "      <th>dependency</th>\n",
              "      <td>0</td>\n",
              "      <td>0.0</td>\n",
              "    </tr>\n",
              "    <tr>\n",
              "      <th>instlevel5</th>\n",
              "      <td>0</td>\n",
              "      <td>0.0</td>\n",
              "    </tr>\n",
              "  </tbody>\n",
              "</table>\n",
              "</div>"
            ],
            "text/plain": [
              "                Sum  Percent\n",
              "Target        23856     71.4\n",
              "hogar_total       0      0.0\n",
              "parentesco11      0      0.0\n",
              "parentesco12      0      0.0\n",
              "idhogar           0      0.0\n",
              "hogar_nin         0      0.0\n",
              "hogar_adul        0      0.0\n",
              "hogar_mayor       0      0.0\n",
              "dependency        0      0.0\n",
              "instlevel5        0      0.0"
            ]
          },
          "metadata": {
            "tags": []
          },
          "execution_count": 57
        }
      ]
    },
    {
      "cell_type": "code",
      "metadata": {
        "id": "dN7t8hg6U6g_"
      },
      "source": [
        "from sklearn.preprocessing import LabelEncoder"
      ],
      "execution_count": null,
      "outputs": []
    },
    {
      "cell_type": "code",
      "metadata": {
        "colab": {
          "base_uri": "https://localhost:8080/"
        },
        "id": "ZQhpHg0weGNY",
        "outputId": "04f248e1-53f7-494b-8613-b7ce06013d3f"
      },
      "source": [
        "train.select_dtypes('object').columns"
      ],
      "execution_count": null,
      "outputs": [
        {
          "output_type": "execute_result",
          "data": {
            "text/plain": [
              "Index(['idhogar', 'dependency', 'edjefe', 'edjefa'], dtype='object')"
            ]
          },
          "metadata": {
            "tags": []
          },
          "execution_count": 6
        }
      ]
    },
    {
      "cell_type": "code",
      "metadata": {
        "id": "Kvv-25JMe25Y"
      },
      "source": [
        "data = pd.concat([train, test])"
      ],
      "execution_count": null,
      "outputs": []
    },
    {
      "cell_type": "code",
      "metadata": {
        "id": "CvaReRNVe7gq"
      },
      "source": [
        "data_target = data['Target']"
      ],
      "execution_count": null,
      "outputs": []
    },
    {
      "cell_type": "code",
      "metadata": {
        "id": "Uq93BXOYfKk_"
      },
      "source": [
        "for i in data.select_dtypes('object').columns:\n",
        "  lencoders=LabelEncoder()\n",
        "  data[i] = lencoders.fit_transform(data[i])"
      ],
      "execution_count": null,
      "outputs": []
    },
    {
      "cell_type": "code",
      "metadata": {
        "id": "KQOM8U9mgIRI"
      },
      "source": [
        "data = data.drop(['rez_esc', 'v18q1', 'v2a1'], axis=1)"
      ],
      "execution_count": null,
      "outputs": []
    },
    {
      "cell_type": "code",
      "metadata": {
        "id": "JHsTM1hBgVoP"
      },
      "source": [
        "data['SQBmeaned'] = data['SQBmeaned'].fillna(data['SQBmeaned'].median())\n",
        "data['meaneduc'] = data['meaneduc'].fillna(data['meaneduc'].median())"
      ],
      "execution_count": null,
      "outputs": []
    },
    {
      "cell_type": "code",
      "metadata": {
        "id": "b5WnhX2VfesZ"
      },
      "source": [
        "train = data[data.Target.notnull()]\n",
        "test = data[data.Target.isnull()]\n",
        "test = test.drop(['Target'], axis=1)"
      ],
      "execution_count": null,
      "outputs": []
    },
    {
      "cell_type": "code",
      "metadata": {
        "colab": {
          "base_uri": "https://localhost:8080/"
        },
        "id": "tsHHWfQK3SKr",
        "outputId": "4d93ee96-e26f-4fb8-b695-afd3634fef32"
      },
      "source": [
        "test.shape"
      ],
      "execution_count": null,
      "outputs": [
        {
          "output_type": "execute_result",
          "data": {
            "text/plain": [
              "(23856, 138)"
            ]
          },
          "metadata": {
            "tags": []
          },
          "execution_count": 110
        }
      ]
    },
    {
      "cell_type": "code",
      "metadata": {
        "colab": {
          "base_uri": "https://localhost:8080/"
        },
        "id": "7gaiqpEEfn8h",
        "outputId": "e7260937-2bee-49ba-df1e-314f73ef22de"
      },
      "source": [
        "print(f'train shape:{train.shape}, test shape:{test.shape}')"
      ],
      "execution_count": null,
      "outputs": [
        {
          "output_type": "stream",
          "text": [
            "train shape:(9557, 139), test shape:(23856, 138)\n"
          ],
          "name": "stdout"
        }
      ]
    },
    {
      "cell_type": "code",
      "metadata": {
        "colab": {
          "base_uri": "https://localhost:8080/",
          "height": 282
        },
        "id": "TND7VagQfqx8",
        "outputId": "992a600c-9001-4b00-e3c4-56bb4e0452eb"
      },
      "source": [
        "train['Target'].hist()"
      ],
      "execution_count": null,
      "outputs": [
        {
          "output_type": "execute_result",
          "data": {
            "text/plain": [
              "<matplotlib.axes._subplots.AxesSubplot at 0x7f32102b9190>"
            ]
          },
          "metadata": {
            "tags": []
          },
          "execution_count": 64
        },
        {
          "output_type": "display_data",
          "data": {
            "image/png": "[encoded data removed]",
            "text/plain": [
              "<Figure size 432x288 with 1 Axes>"
            ]
          },
          "metadata": {
            "tags": [],
            "needs_background": "light"
          }
        }
      ]
    },
    {
      "cell_type": "code",
      "metadata": {
        "id": "8C-qWxjmk6Kn"
      },
      "source": [
        "X = train.drop(['Target'], axis=1)\n",
        "Y = train['Target']"
      ],
      "execution_count": null,
      "outputs": []
    },
    {
      "cell_type": "code",
      "metadata": {
        "id": "rjkq0XXthJGQ"
      },
      "source": [
        "from imblearn.over_sampling import SMOTE\n",
        "\n",
        "smote = SMOTE(random_state=100, n_jobs=-1)\n",
        "X_resampled, Y_resampled = smote.fit_resample(X,Y)"
      ],
      "execution_count": null,
      "outputs": []
    },
    {
      "cell_type": "code",
      "metadata": {
        "colab": {
          "base_uri": "https://localhost:8080/"
        },
        "id": "17KcVWFNlTft",
        "outputId": "dfb60562-9779-482a-9bef-7012df064022"
      },
      "source": [
        "print(X_resampled.shape, Y_resampled.shape)"
      ],
      "execution_count": null,
      "outputs": [
        {
          "output_type": "stream",
          "text": [
            "(23984, 138) (23984,)\n"
          ],
          "name": "stdout"
        }
      ]
    },
    {
      "cell_type": "code",
      "metadata": {
        "colab": {
          "base_uri": "https://localhost:8080/"
        },
        "id": "Ss4w_uMPlzAW",
        "outputId": "d51d082e-6826-41f8-c03f-8f79ca5c58ce"
      },
      "source": [
        "train.shape"
      ],
      "execution_count": null,
      "outputs": [
        {
          "output_type": "execute_result",
          "data": {
            "text/plain": [
              "(9557, 139)"
            ]
          },
          "metadata": {
            "tags": []
          },
          "execution_count": 19
        }
      ]
    },
    {
      "cell_type": "code",
      "metadata": {
        "id": "1i8A1HMGla23"
      },
      "source": [
        "train_x = pd.DataFrame(X_resampled, columns=X.columns)\n",
        "train_y = pd.Series(Y_resampled, name='Target')"
      ],
      "execution_count": null,
      "outputs": []
    },
    {
      "cell_type": "code",
      "metadata": {
        "id": "rnGufMUUmPyS"
      },
      "source": [
        "train = pd.concat([train_x, train_y], axis=1)"
      ],
      "execution_count": null,
      "outputs": []
    },
    {
      "cell_type": "code",
      "metadata": {
        "colab": {
          "base_uri": "https://localhost:8080/",
          "height": 282
        },
        "id": "IOj7KEACmVpo",
        "outputId": "c597aa73-4161-42b3-c882-2f13d7a17f45"
      },
      "source": [
        "train.Target.hist()"
      ],
      "execution_count": null,
      "outputs": [
        {
          "output_type": "execute_result",
          "data": {
            "text/plain": [
              "<matplotlib.axes._subplots.AxesSubplot at 0x7f320d2c0990>"
            ]
          },
          "metadata": {
            "tags": []
          },
          "execution_count": 86
        },
        {
          "output_type": "display_data",
          "data": {
            "image/png": "[encoded data removed]",
            "text/plain": [
              "<Figure size 432x288 with 1 Axes>"
            ]
          },
          "metadata": {
            "tags": [],
            "needs_background": "light"
          }
        }
      ]
    },
    {
      "cell_type": "code",
      "metadata": {
        "colab": {
          "base_uri": "https://localhost:8080/"
        },
        "id": "UIGm5n2kpE9M",
        "outputId": "de0b07a2-8f72-49d0-9cfe-79bb92ed8fb7"
      },
      "source": [
        "train.shape"
      ],
      "execution_count": null,
      "outputs": [
        {
          "output_type": "execute_result",
          "data": {
            "text/plain": [
              "(23984, 139)"
            ]
          },
          "metadata": {
            "tags": []
          },
          "execution_count": 28
        }
      ]
    },
    {
      "cell_type": "code",
      "metadata": {
        "id": "qXdMoyY1q-Tw"
      },
      "source": [
        "x = train.drop(['Target'], axis=1)\n",
        "y = train['Target']"
      ],
      "execution_count": null,
      "outputs": []
    },
    {
      "cell_type": "code",
      "metadata": {
        "id": "8saLzm_epwAd"
      },
      "source": [
        "from sklearn.preprocessing import robust_scale\n",
        "from sklearn.model_selection import train_test_split, GridSearchCV, cross_val_score\n",
        "from sklearn.ensemble import RandomForestClassifier\n",
        "from sklearn.metrics import accuracy_score, classification_report, roc_auc_score, cohen_kappa_score, plot_confusion_matrix, log_loss\n",
        "from keras.utils import to_categorical\n",
        "import xgboost as xgb\n",
        "import lightgbm as lgbm\n",
        "from sklearn.svm import SVC"
      ],
      "execution_count": null,
      "outputs": []
    },
    {
      "cell_type": "code",
      "metadata": {
        "id": "fbRsX3z5qq1t"
      },
      "source": [
        "x_train, x_test, y_train, y_test = train_test_split(x,y, test_size=.25, random_state=1234, stratify=y)"
      ],
      "execution_count": null,
      "outputs": []
    },
    {
      "cell_type": "code",
      "metadata": {
        "colab": {
          "base_uri": "https://localhost:8080/",
          "height": 526
        },
        "id": "URIff9BmrGPi",
        "outputId": "c9868ad2-6339-41e0-d941-07377aada9a8"
      },
      "source": [
        "model_rf = RandomForestClassifier(n_jobs=-1)\n",
        "model_rf.fit(x_train, y_train)\n",
        "y_pred_rf = model_rf.predict(x_test)\n",
        "print('accuracy:', accuracy_score(y_test, y_pred_rf))\n",
        "print('cohen_kappa_score:', cohen_kappa_score(y_test, y_pred_rf))\n",
        "print(classification_report(y_test, y_pred_rf))\n",
        "plot_confusion_matrix(model_rf, x_test, y_test, normalize='all')"
      ],
      "execution_count": null,
      "outputs": [
        {
          "output_type": "stream",
          "text": [
            "accuracy: 0.9518012008005337\n",
            "cohen_kappa_score: 0.9357349344007115\n",
            "              precision    recall  f1-score   support\n",
            "\n",
            "         1.0       0.96      0.97      0.97      1499\n",
            "         2.0       0.96      0.91      0.94      1499\n",
            "         3.0       0.94      0.94      0.94      1499\n",
            "         4.0       0.94      0.98      0.96      1499\n",
            "\n",
            "    accuracy                           0.95      5996\n",
            "   macro avg       0.95      0.95      0.95      5996\n",
            "weighted avg       0.95      0.95      0.95      5996\n",
            "\n"
          ],
          "name": "stdout"
        },
        {
          "output_type": "execute_result",
          "data": {
            "text/plain": [
              "<sklearn.metrics._plot.confusion_matrix.ConfusionMatrixDisplay at 0x7f505a707450>"
            ]
          },
          "metadata": {
            "tags": []
          },
          "execution_count": 45
        },
        {
          "output_type": "display_data",
          "data": {
            "image/png": "[encoded data removed]",
            "text/plain": [
              "<Figure size 432x288 with 2 Axes>"
            ]
          },
          "metadata": {
            "tags": []
          }
        }
      ]
    },
    {
      "cell_type": "code",
      "metadata": {
        "colab": {
          "base_uri": "https://localhost:8080/",
          "height": 527
        },
        "id": "N6dquDgFr_ow",
        "outputId": "b8faa5b0-b9d2-4af4-dc9a-84d07dcb3ef5"
      },
      "source": [
        "model_xgb = xgb.XGBClassifier(n_jobs=-1)\n",
        "model_xgb.fit(x_train, y_train)\n",
        "y_pred_xgb = model_xgb.predict(x_test)\n",
        "print('accuracy:', accuracy_score(y_test, y_pred_xgb))\n",
        "print('cohen_kappa_score:', cohen_kappa_score(y_test, y_pred_xgb))\n",
        "print(classification_report(y_test, y_pred_xgb))\n",
        "plot_confusion_matrix(model_xgb, x_test, y_test, normalize='all')"
      ],
      "execution_count": null,
      "outputs": [
        {
          "output_type": "stream",
          "text": [
            "accuracy: 0.7159773182121414\n",
            "cohen_kappa_score: 0.6213030909495219\n",
            "              precision    recall  f1-score   support\n",
            "\n",
            "         1.0       0.73      0.79      0.76      1499\n",
            "         2.0       0.68      0.48      0.56      1499\n",
            "         3.0       0.68      0.68      0.68      1499\n",
            "         4.0       0.75      0.91      0.83      1499\n",
            "\n",
            "    accuracy                           0.72      5996\n",
            "   macro avg       0.71      0.72      0.71      5996\n",
            "weighted avg       0.71      0.72      0.71      5996\n",
            "\n"
          ],
          "name": "stdout"
        },
        {
          "output_type": "execute_result",
          "data": {
            "text/plain": [
              "<sklearn.metrics._plot.confusion_matrix.ConfusionMatrixDisplay at 0x7f508320c9d0>"
            ]
          },
          "metadata": {
            "tags": []
          },
          "execution_count": 53
        },
        {
          "output_type": "display_data",
          "data": {
            "image/png": "[encoded data removed]",
            "text/plain": [
              "<Figure size 432x288 with 2 Axes>"
            ]
          },
          "metadata": {
            "tags": []
          }
        }
      ]
    },
    {
      "cell_type": "code",
      "metadata": {
        "colab": {
          "base_uri": "https://localhost:8080/",
          "height": 526
        },
        "id": "5h9HxcxduLD8",
        "outputId": "f447fa56-2181-45e6-ebb9-d53658c892dc"
      },
      "source": [
        "model_lgbm = lgbm.LGBMClassifier()\n",
        "model_lgbm.fit(x_train, y_train)\n",
        "y_pred_lgbm = model_lgbm.predict(x_test)\n",
        "print('accuracy:', accuracy_score(y_test, y_pred_lgbm))\n",
        "print('cohen_kappa_score:', cohen_kappa_score(y_test, y_pred_lgbm))\n",
        "print(classification_report(y_test, y_pred_lgbm))\n",
        "plot_confusion_matrix(model_lgbm, x_test, y_test, normalize='all')"
      ],
      "execution_count": null,
      "outputs": [
        {
          "output_type": "stream",
          "text": [
            "accuracy: 0.909606404269513\n",
            "cohen_kappa_score: 0.879475205692684\n",
            "              precision    recall  f1-score   support\n",
            "\n",
            "         1.0       0.94      0.94      0.94      1499\n",
            "         2.0       0.92      0.84      0.88      1499\n",
            "         3.0       0.90      0.91      0.90      1499\n",
            "         4.0       0.88      0.96      0.91      1499\n",
            "\n",
            "    accuracy                           0.91      5996\n",
            "   macro avg       0.91      0.91      0.91      5996\n",
            "weighted avg       0.91      0.91      0.91      5996\n",
            "\n"
          ],
          "name": "stdout"
        },
        {
          "output_type": "execute_result",
          "data": {
            "text/plain": [
              "<sklearn.metrics._plot.confusion_matrix.ConfusionMatrixDisplay at 0x7f5059d52590>"
            ]
          },
          "metadata": {
            "tags": []
          },
          "execution_count": 52
        },
        {
          "output_type": "display_data",
          "data": {
            "image/png": "[encoded data removed]",
            "text/plain": [
              "<Figure size 432x288 with 2 Axes>"
            ]
          },
          "metadata": {
            "tags": []
          }
        }
      ]
    },
    {
      "cell_type": "code",
      "metadata": {
        "colab": {
          "base_uri": "https://localhost:8080/",
          "height": 526
        },
        "id": "NEqOx1Ybsqqw",
        "outputId": "1a8d8e9f-3386-4dbd-ca68-670534f1d2a1"
      },
      "source": [
        "model_svm = SVC(kernel='rbf')\n",
        "model_svm.fit(x_train, y_train)\n",
        "y_pred_svm = model_svm.predict(x_test)\n",
        "print('accuracy:', accuracy_score(y_test, y_pred_svm))\n",
        "print('cohen_kappa_score:', cohen_kappa_score(y_test, y_pred_svm))\n",
        "print(classification_report(y_test, y_pred_svm))\n",
        "plot_confusion_matrix(model_svm, x_test, y_test, normalize='all')"
      ],
      "execution_count": null,
      "outputs": [
        {
          "output_type": "stream",
          "text": [
            "accuracy: 0.35440293529019345\n",
            "cohen_kappa_score: 0.13920391372025798\n",
            "              precision    recall  f1-score   support\n",
            "\n",
            "         1.0       0.34      0.38      0.36      1499\n",
            "         2.0       0.30      0.34      0.32      1499\n",
            "         3.0       0.31      0.36      0.33      1499\n",
            "         4.0       0.60      0.34      0.44      1499\n",
            "\n",
            "    accuracy                           0.35      5996\n",
            "   macro avg       0.39      0.35      0.36      5996\n",
            "weighted avg       0.39      0.35      0.36      5996\n",
            "\n"
          ],
          "name": "stdout"
        },
        {
          "output_type": "execute_result",
          "data": {
            "text/plain": [
              "<sklearn.metrics._plot.confusion_matrix.ConfusionMatrixDisplay at 0x7f506adac310>"
            ]
          },
          "metadata": {
            "tags": []
          },
          "execution_count": 50
        },
        {
          "output_type": "display_data",
          "data": {
            "image/png": "[encoded data removed]",
            "text/plain": [
              "<Figure size 432x288 with 2 Axes>"
            ]
          },
          "metadata": {
            "tags": []
          }
        }
      ]
    },
    {
      "cell_type": "code",
      "metadata": {
        "id": "DMIBankysqs3"
      },
      "source": [
        "from sklearn.model_selection import StratifiedKFold"
      ],
      "execution_count": null,
      "outputs": []
    },
    {
      "cell_type": "code",
      "metadata": {
        "id": "5CATp_IHwjBu"
      },
      "source": [
        ""
      ],
      "execution_count": null,
      "outputs": []
    },
    {
      "cell_type": "code",
      "metadata": {
        "id": "-im37obSwjF_"
      },
      "source": [
        "ids=test['Id']\n",
        "test.drop(['Id'], axis=1, inplace=True)"
      ],
      "execution_count": null,
      "outputs": []
    },
    {
      "cell_type": "code",
      "metadata": {
        "colab": {
          "base_uri": "https://localhost:8080/"
        },
        "id": "yiq44EXd0LvL",
        "outputId": "28a7db78-4337-43aa-d5f8-b8de045d8ff0"
      },
      "source": [
        "kfold = 5\n",
        "kf = StratifiedKFold(n_splits=kfold, shuffle=True)\n",
        "\n",
        "predicts_result = []\n",
        "for train_index, test_index in kf.split(x_train, y_train):\n",
        "    print(\"###\")\n",
        "    X_train, X_val = x_train.iloc[train_index], x_train.iloc[test_index]\n",
        "    Y_train, Y_val = y_train.iloc[train_index], y_train.iloc[test_index]\n",
        "    model_lgbm.fit(X_train, Y_train, eval_set=[(X_val, Y_val)], \n",
        "            early_stopping_rounds=400, verbose=100)\n",
        "    predicts_result.append(model_lgbm.predict(test))"
      ],
      "execution_count": null,
      "outputs": [
        {
          "output_type": "stream",
          "text": [
            "###\n",
            "Training until validation scores don't improve for 400 rounds.\n",
            "[100]\tvalid_0's multi_logloss: 0.382148\n",
            "Did not meet early stopping. Best iteration is:\n",
            "[100]\tvalid_0's multi_logloss: 0.382148\n",
            "###\n",
            "Training until validation scores don't improve for 400 rounds.\n",
            "[100]\tvalid_0's multi_logloss: 0.375522\n",
            "Did not meet early stopping. Best iteration is:\n",
            "[100]\tvalid_0's multi_logloss: 0.375522\n",
            "###\n",
            "Training until validation scores don't improve for 400 rounds.\n",
            "[100]\tvalid_0's multi_logloss: 0.368948\n",
            "Did not meet early stopping. Best iteration is:\n",
            "[100]\tvalid_0's multi_logloss: 0.368948\n",
            "###\n",
            "Training until validation scores don't improve for 400 rounds.\n",
            "[100]\tvalid_0's multi_logloss: 0.363173\n",
            "Did not meet early stopping. Best iteration is:\n",
            "[100]\tvalid_0's multi_logloss: 0.363173\n",
            "###\n",
            "Training until validation scores don't improve for 400 rounds.\n",
            "[100]\tvalid_0's multi_logloss: 0.374281\n",
            "Did not meet early stopping. Best iteration is:\n",
            "[100]\tvalid_0's multi_logloss: 0.374281\n"
          ],
          "name": "stdout"
        }
      ]
    },
    {
      "cell_type": "code",
      "metadata": {
        "id": "fIlUa_vQsqxa"
      },
      "source": [
        "submit = pd.read_csv('/content/drive/MyDrive/dataset/kaggle/Costarican_sample_submission.csv')"
      ],
      "execution_count": null,
      "outputs": []
    },
    {
      "cell_type": "code",
      "metadata": {
        "id": "MmWjvTxX4LRU"
      },
      "source": [
        "submit['Target'] = np.array(predicts_result).mean(axis=0).round().astype(int)"
      ],
      "execution_count": null,
      "outputs": []
    },
    {
      "cell_type": "code",
      "metadata": {
        "colab": {
          "base_uri": "https://localhost:8080/"
        },
        "id": "MPq4ZkTb46sW",
        "outputId": "6f43e16e-7577-4dae-f52b-8ca0ba9558dc"
      },
      "source": [
        "np.array(predicts_result).mean(axis=0).round().astype(int)"
      ],
      "execution_count": null,
      "outputs": [
        {
          "output_type": "execute_result",
          "data": {
            "text/plain": [
              "array([4, 4, 4, ..., 2, 3, 3])"
            ]
          },
          "metadata": {
            "tags": []
          },
          "execution_count": 119
        }
      ]
    },
    {
      "cell_type": "code",
      "metadata": {
        "colab": {
          "base_uri": "https://localhost:8080/"
        },
        "id": "OHl0mL7g4VPg",
        "outputId": "7efd8c9c-af6a-436b-acd3-684b74375a3b"
      },
      "source": [
        "predicts_result"
      ],
      "execution_count": null,
      "outputs": [
        {
          "output_type": "execute_result",
          "data": {
            "text/plain": [
              "[array([4., 4., 4., ..., 2., 2., 2.]),\n",
              " array([4., 4., 4., ..., 4., 4., 4.]),\n",
              " array([4., 4., 4., ..., 2., 2., 4.]),\n",
              " array([4., 4., 4., ..., 2., 2., 2.]),\n",
              " array([4., 4., 4., ..., 2., 4., 4.])]"
            ]
          },
          "metadata": {
            "tags": []
          },
          "execution_count": 115
        }
      ]
    },
    {
      "cell_type": "code",
      "metadata": {
        "colab": {
          "base_uri": "https://localhost:8080/",
          "height": 402
        },
        "id": "g8Xf_LCpyidX",
        "outputId": "c08dfec5-f778-40af-8b2d-dd279fcda16a"
      },
      "source": [
        "submit"
      ],
      "execution_count": null,
      "outputs": [
        {
          "output_type": "execute_result",
          "data": {
            "text/html": [
              "<div>\n",
              "<style scoped>\n",
              "    .dataframe tbody tr th:only-of-type {\n",
              "        vertical-align: middle;\n",
              "    }\n",
              "\n",
              "    .dataframe tbody tr th {\n",
              "        vertical-align: top;\n",
              "    }\n",
              "\n",
              "    .dataframe thead th {\n",
              "        text-align: right;\n",
              "    }\n",
              "</style>\n",
              "<table border=\"1\" class=\"dataframe\">\n",
              "  <thead>\n",
              "    <tr style=\"text-align: right;\">\n",
              "      <th></th>\n",
              "      <th>Id</th>\n",
              "      <th>Target</th>\n",
              "    </tr>\n",
              "  </thead>\n",
              "  <tbody>\n",
              "    <tr>\n",
              "      <th>0</th>\n",
              "      <td>ID_2f6873615</td>\n",
              "      <td>4</td>\n",
              "    </tr>\n",
              "    <tr>\n",
              "      <th>1</th>\n",
              "      <td>ID_1c78846d2</td>\n",
              "      <td>4</td>\n",
              "    </tr>\n",
              "    <tr>\n",
              "      <th>2</th>\n",
              "      <td>ID_e5442cf6a</td>\n",
              "      <td>4</td>\n",
              "    </tr>\n",
              "    <tr>\n",
              "      <th>3</th>\n",
              "      <td>ID_a8db26a79</td>\n",
              "      <td>4</td>\n",
              "    </tr>\n",
              "    <tr>\n",
              "      <th>4</th>\n",
              "      <td>ID_a62966799</td>\n",
              "      <td>4</td>\n",
              "    </tr>\n",
              "    <tr>\n",
              "      <th>...</th>\n",
              "      <td>...</td>\n",
              "      <td>...</td>\n",
              "    </tr>\n",
              "    <tr>\n",
              "      <th>23851</th>\n",
              "      <td>ID_a065a7cad</td>\n",
              "      <td>3</td>\n",
              "    </tr>\n",
              "    <tr>\n",
              "      <th>23852</th>\n",
              "      <td>ID_1a7c6953b</td>\n",
              "      <td>3</td>\n",
              "    </tr>\n",
              "    <tr>\n",
              "      <th>23853</th>\n",
              "      <td>ID_07dbb4be2</td>\n",
              "      <td>2</td>\n",
              "    </tr>\n",
              "    <tr>\n",
              "      <th>23854</th>\n",
              "      <td>ID_34d2ed046</td>\n",
              "      <td>3</td>\n",
              "    </tr>\n",
              "    <tr>\n",
              "      <th>23855</th>\n",
              "      <td>ID_34754556f</td>\n",
              "      <td>3</td>\n",
              "    </tr>\n",
              "  </tbody>\n",
              "</table>\n",
              "<p>23856 rows × 2 columns</p>\n",
              "</div>"
            ],
            "text/plain": [
              "                 Id  Target\n",
              "0      ID_2f6873615       4\n",
              "1      ID_1c78846d2       4\n",
              "2      ID_e5442cf6a       4\n",
              "3      ID_a8db26a79       4\n",
              "4      ID_a62966799       4\n",
              "...             ...     ...\n",
              "23851  ID_a065a7cad       3\n",
              "23852  ID_1a7c6953b       3\n",
              "23853  ID_07dbb4be2       2\n",
              "23854  ID_34d2ed046       3\n",
              "23855  ID_34754556f       3\n",
              "\n",
              "[23856 rows x 2 columns]"
            ]
          },
          "metadata": {
            "tags": []
          },
          "execution_count": 125
        }
      ]
    },
    {
      "cell_type": "code",
      "metadata": {
        "id": "FMXULB2d4O6v"
      },
      "source": [
        "submit.to_csv('submit.csv', index = False)"
      ],
      "execution_count": null,
      "outputs": []
    }
  ]
}