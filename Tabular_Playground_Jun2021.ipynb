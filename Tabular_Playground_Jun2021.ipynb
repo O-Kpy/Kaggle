{
  "nbformat": 4,
  "nbformat_minor": 0,
  "metadata": {
    "kernelspec": {
      "language": "python",
      "display_name": "Python 3",
      "name": "python3"
    },
    "language_info": {
      "name": "python",
      "version": "3.7.10",
      "mimetype": "text/x-python",
      "codemirror_mode": {
        "name": "ipython",
        "version": 3
      },
      "pygments_lexer": "ipython3",
      "nbconvert_exporter": "python",
      "file_extension": ".py"
    },
    "colab": {
      "name": "Tabular Playground Jun2021.ipynb",
      "provenance": [],
      "include_colab_link": true
    }
  },
  "cells": [
    {
      "cell_type": "markdown",
      "metadata": {
        "id": "view-in-github",
        "colab_type": "text"
      },
      "source": [
        "<a href=\"https://colab.research.google.com/github/O-Kpy/Kaggle/blob/main/Tabular_Playground_Jun2021.ipynb\" target=\"_parent\"><img src=\"https://colab.research.google.com/assets/colab-badge.svg\" alt=\"Open In Colab\"/></a>"
      ]
    },
    {
      "cell_type": "code",
      "metadata": {
        "_uuid": "8f2839f25d086af736a60e9eeb907d3b93b6e0e5",
        "_cell_guid": "b1076dfc-b9ad-4769-8c92-a6c4dae69d19",
        "execution": {
          "iopub.status.busy": "2021-06-22T09:46:21.265002Z",
          "iopub.execute_input": "2021-06-22T09:46:21.265556Z",
          "iopub.status.idle": "2021-06-22T09:46:21.273591Z",
          "shell.execute_reply.started": "2021-06-22T09:46:21.265472Z",
          "shell.execute_reply": "2021-06-22T09:46:21.272438Z"
        },
        "trusted": true,
        "id": "3FdGpYFzGKbp"
      },
      "source": [
        "# This Python 3 environment comes with many helpful analytics libraries installed\n",
        "# It is defined by the kaggle/python Docker image: https://github.com/kaggle/docker-python\n",
        "# For example, here's several helpful packages to load\n",
        "\n",
        "import numpy as np # linear algebra\n",
        "import pandas as pd # data processing, CSV file I/O (e.g. pd.read_csv)\n",
        "\n",
        "# Input data files are available in the read-only \"../input/\" directory\n",
        "# For example, running this (by clicking run or pressing Shift+Enter) will list all files under the input directory\n",
        "\n",
        "import os\n",
        "for dirname, _, filenames in os.walk('/kaggle/input'):\n",
        "    for filename in filenames:\n",
        "        print(os.path.join(dirname, filename))\n",
        "\n",
        "# You can write up to 20GB to the current directory (/kaggle/working/) that gets preserved as output when you create a version using \"Save & Run All\" \n",
        "# You can also write temporary files to /kaggle/temp/, but they won't be saved outside of the current session"
      ],
      "execution_count": null,
      "outputs": []
    },
    {
      "cell_type": "code",
      "metadata": {
        "execution": {
          "iopub.status.busy": "2021-06-24T11:08:34.125717Z",
          "iopub.execute_input": "2021-06-24T11:08:34.126041Z",
          "iopub.status.idle": "2021-06-24T11:08:34.804157Z",
          "shell.execute_reply.started": "2021-06-24T11:08:34.126009Z",
          "shell.execute_reply": "2021-06-24T11:08:34.803325Z"
        },
        "trusted": true,
        "id": "NLnnuerzGKbq"
      },
      "source": [
        "import pandas as pd\n",
        "import numpy as np\n",
        "import matplotlib.pyplot as plt\n",
        "%matplotlib inline\n",
        "import seaborn as sns\n",
        "import warnings\n",
        "warnings.filterwarnings('ignore')\n",
        "from scipy.stats import skew"
      ],
      "execution_count": null,
      "outputs": []
    },
    {
      "cell_type": "code",
      "metadata": {
        "execution": {
          "iopub.status.busy": "2021-06-24T11:08:35.892077Z",
          "iopub.execute_input": "2021-06-24T11:08:35.892426Z",
          "iopub.status.idle": "2021-06-24T11:08:37.684214Z",
          "shell.execute_reply.started": "2021-06-24T11:08:35.892396Z",
          "shell.execute_reply": "2021-06-24T11:08:37.683267Z"
        },
        "trusted": true,
        "id": "xrk4qJ3rGKbr",
        "outputId": "2ddbdee7-9c2b-40a7-c296-6e5d2313b753"
      },
      "source": [
        "submit = pd.read_csv('/kaggle/input/tabular-playground-series-jun-2021/sample_submission.csv')\n",
        "test = pd.read_csv('/kaggle/input/tabular-playground-series-jun-2021/test.csv')\n",
        "train = pd.read_csv('/kaggle/input/tabular-playground-series-jun-2021/train.csv')\n",
        "train.shape, test.shape, submit.shape"
      ],
      "execution_count": null,
      "outputs": [
        {
          "output_type": "execute_result",
          "data": {
            "text/plain": [
              "((200000, 77), (100000, 76), (100000, 10))"
            ]
          },
          "metadata": {
            "tags": []
          },
          "execution_count": 3
        }
      ]
    },
    {
      "cell_type": "code",
      "metadata": {
        "trusted": true,
        "id": "-v5y2h-RGKbs"
      },
      "source": [
        "train.target.value_counts().sort_index(ascending=False).plot.bar()"
      ],
      "execution_count": null,
      "outputs": []
    },
    {
      "cell_type": "code",
      "metadata": {
        "execution": {
          "iopub.status.busy": "2021-06-24T11:08:38.618220Z",
          "iopub.execute_input": "2021-06-24T11:08:38.618594Z",
          "iopub.status.idle": "2021-06-24T11:08:38.692117Z",
          "shell.execute_reply.started": "2021-06-24T11:08:38.618562Z",
          "shell.execute_reply": "2021-06-24T11:08:38.691266Z"
        },
        "trusted": true,
        "id": "7t8hZfD6GKbs"
      },
      "source": [
        "data=pd.concat([train, test], axis=0)"
      ],
      "execution_count": null,
      "outputs": []
    },
    {
      "cell_type": "code",
      "metadata": {
        "execution": {
          "iopub.status.busy": "2021-06-22T09:50:56.276885Z",
          "iopub.execute_input": "2021-06-22T09:50:56.27729Z",
          "iopub.status.idle": "2021-06-22T09:50:56.346698Z",
          "shell.execute_reply.started": "2021-06-22T09:50:56.277254Z",
          "shell.execute_reply": "2021-06-22T09:50:56.345543Z"
        },
        "trusted": true,
        "id": "2RozgXErGKbs"
      },
      "source": [
        "data.isnull().sum().sort_values(ascending=False)\n",
        "# Null값 없고"
      ],
      "execution_count": null,
      "outputs": []
    },
    {
      "cell_type": "code",
      "metadata": {
        "execution": {
          "iopub.status.busy": "2021-06-24T09:46:50.873750Z",
          "iopub.execute_input": "2021-06-24T09:46:50.874059Z",
          "iopub.status.idle": "2021-06-24T09:46:51.195296Z",
          "shell.execute_reply.started": "2021-06-24T09:46:50.874030Z",
          "shell.execute_reply": "2021-06-24T09:46:51.194113Z"
        },
        "trusted": true,
        "id": "fE-ClG-SGKbt",
        "outputId": "5b6f3023-71dd-4094-9495-21810feccc55"
      },
      "source": [
        "data.skew().sort_values(ascending=False)\n",
        "# 스케일링 해야하고"
      ],
      "execution_count": null,
      "outputs": [
        {
          "output_type": "execute_result",
          "data": {
            "text/plain": [
              "feature_74    5.353961\n",
              "feature_47    5.217023\n",
              "feature_15    4.612932\n",
              "feature_24    4.391702\n",
              "feature_32    4.214856\n",
              "                ...   \n",
              "feature_43    0.905721\n",
              "feature_54    0.905510\n",
              "feature_19    0.897660\n",
              "feature_12    0.749524\n",
              "id            0.000000\n",
              "Length: 76, dtype: float64"
            ]
          },
          "metadata": {
            "tags": []
          },
          "execution_count": 33
        }
      ]
    },
    {
      "cell_type": "code",
      "metadata": {
        "execution": {
          "iopub.status.busy": "2021-06-24T11:08:49.316327Z",
          "iopub.execute_input": "2021-06-24T11:08:49.316649Z",
          "iopub.status.idle": "2021-06-24T11:08:52.321506Z",
          "shell.execute_reply.started": "2021-06-24T11:08:49.316619Z",
          "shell.execute_reply": "2021-06-24T11:08:52.320572Z"
        },
        "trusted": true,
        "id": "d1Cb4OhaGKbt"
      },
      "source": [
        "for i in data.drop(columns=['id', 'target']).columns:\n",
        "    if data[i].skew() > 0.5:\n",
        "        data[i] = np.log1p(data[i]+1)"
      ],
      "execution_count": null,
      "outputs": []
    },
    {
      "cell_type": "code",
      "metadata": {
        "execution": {
          "iopub.status.busy": "2021-06-24T11:09:11.585653Z",
          "iopub.execute_input": "2021-06-24T11:09:11.585963Z",
          "iopub.status.idle": "2021-06-24T11:09:13.357499Z",
          "shell.execute_reply.started": "2021-06-24T11:09:11.585934Z",
          "shell.execute_reply": "2021-06-24T11:09:13.356592Z"
        },
        "trusted": true,
        "id": "SiLUIaQ4GKbt"
      },
      "source": [
        "data_agg = data.drop(columns='target').groupby('id').agg(['min', 'max', 'count', 'mean'])\n",
        "data_agg_col = []\n",
        "\n",
        "for i in data_agg.columns.levels[0]:\n",
        "    for j in data_agg.columns.levels[1]:\n",
        "        data_agg_col.append(f'{i}-{j}')\n",
        "        \n",
        "data_agg.columns = data_agg_col"
      ],
      "execution_count": null,
      "outputs": []
    },
    {
      "cell_type": "code",
      "metadata": {
        "execution": {
          "iopub.status.busy": "2021-06-24T11:09:17.059831Z",
          "iopub.execute_input": "2021-06-24T11:09:17.060158Z",
          "iopub.status.idle": "2021-06-24T11:10:07.801028Z",
          "shell.execute_reply.started": "2021-06-24T11:09:17.060126Z",
          "shell.execute_reply": "2021-06-24T11:10:07.800127Z"
        },
        "trusted": true,
        "id": "FKvhNjzyGKbu",
        "outputId": "aed550e7-ddb2-4b4e-adf3-d88c0768350d"
      },
      "source": [
        "corr_matrix = data_agg.corr()\n",
        "\n",
        "upper = corr_matrix.where(np.triu(np.ones(corr_matrix.shape), k=1).astype(np.bool))\n",
        "\n",
        "to_drop = [c for c in upper.columns if any(abs(upper[c]) > 0.9)]\n",
        "\n",
        "print(f'There are {len(data_agg.columns)} columns but {len(to_drop)} corr columns to remove')"
      ],
      "execution_count": null,
      "outputs": [
        {
          "output_type": "stream",
          "text": [
            "There are 300 columns but 150 corr columns to remove\n"
          ],
          "name": "stdout"
        }
      ]
    },
    {
      "cell_type": "code",
      "metadata": {
        "execution": {
          "iopub.status.busy": "2021-06-24T11:10:07.802610Z",
          "iopub.execute_input": "2021-06-24T11:10:07.803143Z",
          "iopub.status.idle": "2021-06-24T11:10:28.162486Z",
          "shell.execute_reply.started": "2021-06-24T11:10:07.803100Z",
          "shell.execute_reply": "2021-06-24T11:10:28.161595Z"
        },
        "trusted": true,
        "id": "qbcpIbQgGKbu"
      },
      "source": [
        "data_agg.drop(columns=to_drop)\n",
        "data = data.merge(data_agg, how='left', on='id')"
      ],
      "execution_count": null,
      "outputs": []
    },
    {
      "cell_type": "code",
      "metadata": {
        "id": "7IlqDIypGKbu"
      },
      "source": [
        ""
      ],
      "execution_count": null,
      "outputs": []
    },
    {
      "cell_type": "markdown",
      "metadata": {
        "id": "WyG8NDa4GKbv"
      },
      "source": [
        "# 그냥 모델링 하기 다음에 피쳐 엔지니어링"
      ]
    },
    {
      "cell_type": "code",
      "metadata": {
        "execution": {
          "iopub.status.busy": "2021-06-24T11:10:28.164099Z",
          "iopub.execute_input": "2021-06-24T11:10:28.164426Z",
          "iopub.status.idle": "2021-06-24T11:10:30.958295Z",
          "shell.execute_reply.started": "2021-06-24T11:10:28.164392Z",
          "shell.execute_reply": "2021-06-24T11:10:30.957401Z"
        },
        "trusted": true,
        "id": "cx8aK-q9GKbv",
        "outputId": "614293fa-fe14-45d6-c7b6-70b6c1b7e6c0"
      },
      "source": [
        "from sklearn.metrics import log_loss, make_scorer\n",
        "import catboost\n",
        "import lightgbm\n",
        "import xgboost\n",
        "from sklearn.linear_model import LogisticRegression\n",
        "from sklearn.ensemble import RandomForestClassifier\n",
        "from sklearn.model_selection import cross_validate, KFold, StratifiedKFold\n",
        "from sklearn.preprocessing import LabelEncoder, robust_scale"
      ],
      "execution_count": null,
      "outputs": [
        {
          "output_type": "display_data",
          "data": {
            "text/plain": [
              "<IPython.core.display.HTML object>"
            ],
            "text/html": [
              "<style type='text/css'>\n",
              ".datatable table.frame { margin-bottom: 0; }\n",
              ".datatable table.frame thead { border-bottom: none; }\n",
              ".datatable table.frame tr.coltypes td {  color: #FFFFFF;  line-height: 6px;  padding: 0 0.5em;}\n",
              ".datatable .bool    { background: #DDDD99; }\n",
              ".datatable .object  { background: #565656; }\n",
              ".datatable .int     { background: #5D9E5D; }\n",
              ".datatable .float   { background: #4040CC; }\n",
              ".datatable .str     { background: #CC4040; }\n",
              ".datatable .row_index {  background: var(--jp-border-color3);  border-right: 1px solid var(--jp-border-color0);  color: var(--jp-ui-font-color3);  font-size: 9px;}\n",
              ".datatable .frame tr.coltypes .row_index {  background: var(--jp-border-color0);}\n",
              ".datatable th:nth-child(2) { padding-left: 12px; }\n",
              ".datatable .hellipsis {  color: var(--jp-cell-editor-border-color);}\n",
              ".datatable .vellipsis {  background: var(--jp-layout-color0);  color: var(--jp-cell-editor-border-color);}\n",
              ".datatable .na {  color: var(--jp-cell-editor-border-color);  font-size: 80%;}\n",
              ".datatable .footer { font-size: 9px; }\n",
              ".datatable .frame_dimensions {  background: var(--jp-border-color3);  border-top: 1px solid var(--jp-border-color0);  color: var(--jp-ui-font-color3);  display: inline-block;  opacity: 0.6;  padding: 1px 10px 1px 5px;}\n",
              "</style>\n"
            ]
          },
          "metadata": {
            "tags": []
          }
        }
      ]
    },
    {
      "cell_type": "code",
      "metadata": {
        "execution": {
          "iopub.status.busy": "2021-06-24T11:10:30.959657Z",
          "iopub.execute_input": "2021-06-24T11:10:30.959968Z",
          "iopub.status.idle": "2021-06-24T11:10:32.325582Z",
          "shell.execute_reply.started": "2021-06-24T11:10:30.959936Z",
          "shell.execute_reply": "2021-06-24T11:10:32.324468Z"
        },
        "trusted": true,
        "id": "G9_9fJqgGKbv"
      },
      "source": [
        "x_train = data.loc[data['target'].notnull()].drop(columns=['id', 'target'])\n",
        "y_train = data.loc[data['target'].notnull()]['target']\n",
        "x_test = data.loc[data['target'].isnull()].drop(columns=['id', 'target'])"
      ],
      "execution_count": null,
      "outputs": []
    },
    {
      "cell_type": "code",
      "metadata": {
        "execution": {
          "iopub.status.busy": "2021-06-24T11:10:32.326904Z",
          "iopub.execute_input": "2021-06-24T11:10:32.327421Z",
          "iopub.status.idle": "2021-06-24T11:10:32.426196Z",
          "shell.execute_reply.started": "2021-06-24T11:10:32.327381Z",
          "shell.execute_reply": "2021-06-24T11:10:32.425291Z"
        },
        "trusted": true,
        "id": "JMUoCa3nGKbv"
      },
      "source": [
        "encoder = LabelEncoder()\n",
        "y_train = encoder.fit_transform(y_train)\n",
        "y_train = pd.Series(y_train)"
      ],
      "execution_count": null,
      "outputs": []
    },
    {
      "cell_type": "code",
      "metadata": {
        "execution": {
          "iopub.status.busy": "2021-06-24T09:48:20.339277Z",
          "iopub.execute_input": "2021-06-24T09:48:20.339528Z",
          "iopub.status.idle": "2021-06-24T09:48:23.895310Z",
          "shell.execute_reply.started": "2021-06-24T09:48:20.339499Z",
          "shell.execute_reply": "2021-06-24T09:48:23.894279Z"
        },
        "trusted": true,
        "id": "-NdO8yxBGKbw"
      },
      "source": [
        "x_train_col = x_train.columns\n",
        "x_test_col = x_test.columns\n",
        "\n",
        "x_train = pd.DataFrame(robust_scale(x_train), columns=x_train_col)\n",
        "x_test = pd.DataFrame(robust_scale(x_test), columns=x_test_col)"
      ],
      "execution_count": null,
      "outputs": []
    },
    {
      "cell_type": "code",
      "metadata": {
        "execution": {
          "iopub.status.busy": "2021-06-24T11:14:37.243705Z",
          "iopub.execute_input": "2021-06-24T11:14:37.244039Z",
          "iopub.status.idle": "2021-06-24T11:29:54.427855Z",
          "shell.execute_reply.started": "2021-06-24T11:14:37.244001Z",
          "shell.execute_reply": "2021-06-24T11:29:54.426999Z"
        },
        "trusted": true,
        "id": "7Sn19chNGKbw",
        "outputId": "40a2f3b3-40f0-4d86-eb39-b1c860fe378f"
      },
      "source": [
        "skf = StratifiedKFold(n_splits=5, shuffle=True, random_state=42)\n",
        "preds = np.zeros((len(x_test)))\n",
        "for i, (train_index, valid_index) in enumerate(skf.split(x_train, y_train)):\n",
        "  X_train, X_valid = x_train.iloc[train_index], x_train.iloc[valid_index]\n",
        "  Y_train, Y_valid = y_train.iloc[train_index], y_train.iloc[valid_index]\n",
        "\n",
        "  model = lightgbm.LGBMClassifier(n_estimators=3000, learning_rate=0.05, objective='multiclass', n_jobs=-1)\n",
        "  model.fit(X_train, Y_train, eval_set=[(X_train, Y_train), (X_valid, Y_valid)], verbose=100, early_stopping_rounds=70, eval_metric='multi_logloss')\n",
        "  preds = model.predict_proba(x_test)"
      ],
      "execution_count": null,
      "outputs": [
        {
          "output_type": "stream",
          "text": [
            "Training until validation scores don't improve for 70 rounds\n",
            "[100]\ttraining's multi_logloss: 1.66235\tvalid_1's multi_logloss: 1.75672\n",
            "[200]\ttraining's multi_logloss: 1.59642\tvalid_1's multi_logloss: 1.75755\n",
            "Early stopping, best iteration is:\n",
            "[137]\ttraining's multi_logloss: 1.63543\tvalid_1's multi_logloss: 1.75649\n",
            "Training until validation scores don't improve for 70 rounds\n",
            "[100]\ttraining's multi_logloss: 1.66408\tvalid_1's multi_logloss: 1.74879\n",
            "[200]\ttraining's multi_logloss: 1.59782\tvalid_1's multi_logloss: 1.74931\n",
            "Early stopping, best iteration is:\n",
            "[130]\ttraining's multi_logloss: 1.64222\tvalid_1's multi_logloss: 1.74837\n",
            "Training until validation scores don't improve for 70 rounds\n",
            "[100]\ttraining's multi_logloss: 1.6637\tvalid_1's multi_logloss: 1.75045\n",
            "Early stopping, best iteration is:\n",
            "[114]\ttraining's multi_logloss: 1.65283\tvalid_1's multi_logloss: 1.75018\n",
            "Training until validation scores don't improve for 70 rounds\n",
            "[100]\ttraining's multi_logloss: 1.66313\tvalid_1's multi_logloss: 1.75232\n",
            "Early stopping, best iteration is:\n",
            "[121]\ttraining's multi_logloss: 1.64747\tvalid_1's multi_logloss: 1.75196\n",
            "Training until validation scores don't improve for 70 rounds\n",
            "[100]\ttraining's multi_logloss: 1.66322\tvalid_1's multi_logloss: 1.75192\n",
            "Early stopping, best iteration is:\n",
            "[129]\ttraining's multi_logloss: 1.64191\tvalid_1's multi_logloss: 1.75157\n"
          ],
          "name": "stdout"
        }
      ]
    },
    {
      "cell_type": "code",
      "metadata": {
        "execution": {
          "iopub.status.busy": "2021-06-24T12:40:01.263312Z",
          "iopub.execute_input": "2021-06-24T12:40:01.263644Z",
          "iopub.status.idle": "2021-06-24T12:40:01.269745Z",
          "shell.execute_reply.started": "2021-06-24T12:40:01.263614Z",
          "shell.execute_reply": "2021-06-24T12:40:01.268898Z"
        },
        "trusted": true,
        "id": "jrisld89GKbw",
        "outputId": "a59cb218-b8e8-4d84-f3d0-685874887aec"
      },
      "source": [
        "y_train.nunique()"
      ],
      "execution_count": null,
      "outputs": [
        {
          "output_type": "execute_result",
          "data": {
            "text/plain": [
              "9"
            ]
          },
          "metadata": {
            "tags": []
          },
          "execution_count": 46
        }
      ]
    },
    {
      "cell_type": "code",
      "metadata": {
        "execution": {
          "iopub.status.busy": "2021-06-24T12:40:34.971020Z",
          "iopub.execute_input": "2021-06-24T12:40:34.971366Z",
          "iopub.status.idle": "2021-06-24T12:45:10.838493Z",
          "shell.execute_reply.started": "2021-06-24T12:40:34.971334Z",
          "shell.execute_reply": "2021-06-24T12:45:10.837576Z"
        },
        "trusted": true,
        "id": "gS-AGl_YGKbx",
        "outputId": "41088971-7a30-4d57-c4cc-ce4735a938f0"
      },
      "source": [
        "skf = StratifiedKFold(n_splits=5, shuffle=True, random_state=42)\n",
        "preds_cat = np.zeros((x_test.shape[0], y_train.nunique()))\n",
        "for i, (train_index, valid_index) in enumerate(skf.split(x_train, y_train)):\n",
        "    X_train, X_valid = x_train.iloc[train_index], x_train.iloc[valid_index]\n",
        "    Y_train, Y_valid = y_train.iloc[train_index], y_train.iloc[valid_index]\n",
        "    \n",
        "    model = catboost.CatBoostClassifier(n_estimators=3000, learning_rate=0.03, objective='MultiClass', eval_metric='MultiClass', task_type='GPU', devices='0:1')\n",
        "    model.fit(X_train, Y_train, verbose=100, early_stopping_rounds=70 )\n",
        "    preds_cat += model.predict_proba(x_test)/skf.n_splits\n"
      ],
      "execution_count": null,
      "outputs": [
        {
          "output_type": "stream",
          "text": [
            "0:\tlearn: 2.1712908\ttotal: 23ms\tremaining: 1m 9s\n",
            "100:\tlearn: 1.7524984\ttotal: 2.02s\tremaining: 58.1s\n",
            "200:\tlearn: 1.7337598\ttotal: 3.92s\tremaining: 54.6s\n",
            "300:\tlearn: 1.7245252\ttotal: 5.66s\tremaining: 50.8s\n",
            "400:\tlearn: 1.7175564\ttotal: 7.78s\tremaining: 50.4s\n",
            "500:\tlearn: 1.7115506\ttotal: 9.89s\tremaining: 49.3s\n",
            "600:\tlearn: 1.7062127\ttotal: 11.5s\tremaining: 45.9s\n",
            "700:\tlearn: 1.7012039\ttotal: 13.1s\tremaining: 42.9s\n",
            "800:\tlearn: 1.6963311\ttotal: 14.7s\tremaining: 40.3s\n",
            "900:\tlearn: 1.6916381\ttotal: 16.3s\tremaining: 37.9s\n",
            "1000:\tlearn: 1.6873186\ttotal: 18.1s\tremaining: 36.1s\n",
            "1100:\tlearn: 1.6829193\ttotal: 19.6s\tremaining: 33.9s\n",
            "1200:\tlearn: 1.6786123\ttotal: 21.2s\tremaining: 31.8s\n",
            "1300:\tlearn: 1.6744455\ttotal: 22.8s\tremaining: 29.8s\n",
            "1400:\tlearn: 1.6704061\ttotal: 24.4s\tremaining: 27.8s\n",
            "1500:\tlearn: 1.6662926\ttotal: 26s\tremaining: 25.9s\n",
            "1600:\tlearn: 1.6621701\ttotal: 27.6s\tremaining: 24.1s\n",
            "1700:\tlearn: 1.6582902\ttotal: 29.4s\tremaining: 22.4s\n",
            "1800:\tlearn: 1.6541537\ttotal: 31s\tremaining: 20.6s\n",
            "1900:\tlearn: 1.6502145\ttotal: 32.6s\tremaining: 18.9s\n",
            "2000:\tlearn: 1.6463609\ttotal: 34.2s\tremaining: 17.1s\n",
            "2100:\tlearn: 1.6425303\ttotal: 35.8s\tremaining: 15.3s\n",
            "2200:\tlearn: 1.6388371\ttotal: 37.4s\tremaining: 13.6s\n",
            "2300:\tlearn: 1.6350200\ttotal: 39.1s\tremaining: 11.9s\n",
            "2400:\tlearn: 1.6312238\ttotal: 41.3s\tremaining: 10.3s\n",
            "2500:\tlearn: 1.6275640\ttotal: 42.9s\tremaining: 8.56s\n",
            "2600:\tlearn: 1.6237713\ttotal: 44.5s\tremaining: 6.83s\n",
            "2700:\tlearn: 1.6201236\ttotal: 46.1s\tremaining: 5.11s\n",
            "2800:\tlearn: 1.6161183\ttotal: 47.7s\tremaining: 3.39s\n",
            "2900:\tlearn: 1.6122748\ttotal: 49.3s\tremaining: 1.68s\n",
            "2999:\tlearn: 1.6086306\ttotal: 51.2s\tremaining: 0us\n",
            "0:\tlearn: 2.1716281\ttotal: 23ms\tremaining: 1m 9s\n",
            "100:\tlearn: 1.7541834\ttotal: 2.03s\tremaining: 58.2s\n",
            "200:\tlearn: 1.7355170\ttotal: 3.92s\tremaining: 54.6s\n",
            "300:\tlearn: 1.7263406\ttotal: 5.68s\tremaining: 51s\n",
            "400:\tlearn: 1.7194023\ttotal: 7.51s\tremaining: 48.7s\n",
            "500:\tlearn: 1.7136816\ttotal: 9.13s\tremaining: 45.5s\n",
            "600:\tlearn: 1.7083061\ttotal: 10.7s\tremaining: 42.8s\n",
            "700:\tlearn: 1.7034494\ttotal: 12.3s\tremaining: 40.5s\n",
            "800:\tlearn: 1.6987439\ttotal: 13.9s\tremaining: 38.2s\n",
            "900:\tlearn: 1.6941879\ttotal: 15.5s\tremaining: 36.2s\n",
            "1000:\tlearn: 1.6901584\ttotal: 18.1s\tremaining: 36.1s\n",
            "1100:\tlearn: 1.6856725\ttotal: 19.7s\tremaining: 34s\n",
            "1200:\tlearn: 1.6814168\ttotal: 21.3s\tremaining: 31.9s\n",
            "1300:\tlearn: 1.6776262\ttotal: 22.9s\tremaining: 29.9s\n",
            "1400:\tlearn: 1.6736301\ttotal: 24.5s\tremaining: 27.9s\n",
            "1500:\tlearn: 1.6695465\ttotal: 26.1s\tremaining: 26s\n",
            "1600:\tlearn: 1.6655004\ttotal: 27.7s\tremaining: 24.2s\n",
            "1700:\tlearn: 1.6613822\ttotal: 29.5s\tremaining: 22.5s\n",
            "1800:\tlearn: 1.6574398\ttotal: 31.1s\tremaining: 20.7s\n",
            "1900:\tlearn: 1.6533297\ttotal: 32.7s\tremaining: 18.9s\n",
            "2000:\tlearn: 1.6493084\ttotal: 34.3s\tremaining: 17.1s\n",
            "2100:\tlearn: 1.6454113\ttotal: 36s\tremaining: 15.4s\n",
            "2200:\tlearn: 1.6417744\ttotal: 37.6s\tremaining: 13.6s\n",
            "2300:\tlearn: 1.6379170\ttotal: 39.5s\tremaining: 12s\n",
            "2400:\tlearn: 1.6339886\ttotal: 41.1s\tremaining: 10.3s\n",
            "2500:\tlearn: 1.6302063\ttotal: 42.7s\tremaining: 8.52s\n",
            "2600:\tlearn: 1.6264665\ttotal: 44.3s\tremaining: 6.79s\n",
            "2700:\tlearn: 1.6226095\ttotal: 45.9s\tremaining: 5.08s\n",
            "2800:\tlearn: 1.6187453\ttotal: 47.5s\tremaining: 3.38s\n",
            "2900:\tlearn: 1.6150660\ttotal: 49.7s\tremaining: 1.7s\n",
            "2999:\tlearn: 1.6112699\ttotal: 51.7s\tremaining: 0us\n",
            "0:\tlearn: 2.1717354\ttotal: 22.9ms\tremaining: 1m 8s\n",
            "100:\tlearn: 1.7538830\ttotal: 2.03s\tremaining: 58.2s\n",
            "200:\tlearn: 1.7351090\ttotal: 3.92s\tremaining: 54.5s\n",
            "300:\tlearn: 1.7257338\ttotal: 5.81s\tremaining: 52.1s\n",
            "400:\tlearn: 1.7188064\ttotal: 7.49s\tremaining: 48.6s\n",
            "500:\tlearn: 1.7126947\ttotal: 9.14s\tremaining: 45.6s\n",
            "600:\tlearn: 1.7071957\ttotal: 10.8s\tremaining: 43s\n",
            "700:\tlearn: 1.7022037\ttotal: 12.4s\tremaining: 40.5s\n",
            "800:\tlearn: 1.6975307\ttotal: 13.9s\tremaining: 38.3s\n",
            "900:\tlearn: 1.6928824\ttotal: 15.5s\tremaining: 36.2s\n",
            "1000:\tlearn: 1.6885082\ttotal: 17.3s\tremaining: 34.6s\n",
            "1100:\tlearn: 1.6842568\ttotal: 18.9s\tremaining: 32.6s\n",
            "1200:\tlearn: 1.6797986\ttotal: 20.5s\tremaining: 30.7s\n",
            "1300:\tlearn: 1.6757289\ttotal: 22.1s\tremaining: 28.8s\n",
            "1400:\tlearn: 1.6716330\ttotal: 23.7s\tremaining: 27s\n",
            "1500:\tlearn: 1.6676678\ttotal: 25.2s\tremaining: 25.2s\n",
            "1600:\tlearn: 1.6635939\ttotal: 27.4s\tremaining: 23.9s\n",
            "1700:\tlearn: 1.6596322\ttotal: 29s\tremaining: 22.1s\n",
            "1800:\tlearn: 1.6557805\ttotal: 30.6s\tremaining: 20.4s\n",
            "1900:\tlearn: 1.6519199\ttotal: 32.1s\tremaining: 18.6s\n",
            "2000:\tlearn: 1.6480125\ttotal: 33.7s\tremaining: 16.8s\n",
            "2100:\tlearn: 1.6442283\ttotal: 35.3s\tremaining: 15.1s\n",
            "2200:\tlearn: 1.6404561\ttotal: 36.9s\tremaining: 13.4s\n",
            "2300:\tlearn: 1.6366908\ttotal: 38.7s\tremaining: 11.8s\n",
            "2400:\tlearn: 1.6328934\ttotal: 40.4s\tremaining: 10.1s\n",
            "2500:\tlearn: 1.6290453\ttotal: 42s\tremaining: 8.38s\n",
            "2600:\tlearn: 1.6251170\ttotal: 43.6s\tremaining: 6.69s\n",
            "2700:\tlearn: 1.6211296\ttotal: 45.2s\tremaining: 5s\n",
            "2800:\tlearn: 1.6173416\ttotal: 46.8s\tremaining: 3.32s\n",
            "2900:\tlearn: 1.6133708\ttotal: 48.4s\tremaining: 1.65s\n",
            "2999:\tlearn: 1.6096826\ttotal: 50.3s\tremaining: 0us\n",
            "0:\tlearn: 2.1716604\ttotal: 23.2ms\tremaining: 1m 9s\n",
            "100:\tlearn: 1.7532672\ttotal: 2.05s\tremaining: 58.9s\n",
            "200:\tlearn: 1.7345848\ttotal: 4.11s\tremaining: 57.3s\n",
            "300:\tlearn: 1.7251750\ttotal: 6.46s\tremaining: 57.9s\n",
            "400:\tlearn: 1.7183723\ttotal: 8.13s\tremaining: 52.7s\n",
            "500:\tlearn: 1.7126133\ttotal: 9.74s\tremaining: 48.6s\n",
            "600:\tlearn: 1.7073027\ttotal: 11.4s\tremaining: 45.3s\n",
            "700:\tlearn: 1.7022986\ttotal: 12.9s\tremaining: 42.5s\n",
            "800:\tlearn: 1.6974592\ttotal: 14.5s\tremaining: 39.9s\n",
            "900:\tlearn: 1.6928369\ttotal: 16.1s\tremaining: 37.6s\n",
            "1000:\tlearn: 1.6884982\ttotal: 18s\tremaining: 35.9s\n",
            "1100:\tlearn: 1.6843035\ttotal: 19.5s\tremaining: 33.7s\n",
            "1200:\tlearn: 1.6800693\ttotal: 21.1s\tremaining: 31.6s\n",
            "1300:\tlearn: 1.6759684\ttotal: 22.7s\tremaining: 29.6s\n",
            "1400:\tlearn: 1.6718164\ttotal: 24.3s\tremaining: 27.7s\n",
            "1500:\tlearn: 1.6675799\ttotal: 25.9s\tremaining: 25.8s\n",
            "1600:\tlearn: 1.6635553\ttotal: 27.5s\tremaining: 24s\n",
            "1700:\tlearn: 1.6597594\ttotal: 29.3s\tremaining: 22.4s\n",
            "1800:\tlearn: 1.6557875\ttotal: 30.9s\tremaining: 20.6s\n",
            "1900:\tlearn: 1.6520135\ttotal: 32.5s\tremaining: 18.8s\n",
            "2000:\tlearn: 1.6480953\ttotal: 34.1s\tremaining: 17s\n",
            "2100:\tlearn: 1.6442539\ttotal: 35.8s\tremaining: 15.3s\n",
            "2200:\tlearn: 1.6403096\ttotal: 37.8s\tremaining: 13.7s\n",
            "2300:\tlearn: 1.6365307\ttotal: 39.8s\tremaining: 12.1s\n",
            "2400:\tlearn: 1.6326179\ttotal: 41.4s\tremaining: 10.3s\n",
            "2500:\tlearn: 1.6289589\ttotal: 43s\tremaining: 8.57s\n",
            "2600:\tlearn: 1.6251092\ttotal: 44.6s\tremaining: 6.84s\n",
            "2700:\tlearn: 1.6212433\ttotal: 46.2s\tremaining: 5.12s\n",
            "2800:\tlearn: 1.6174190\ttotal: 47.8s\tremaining: 3.4s\n",
            "2900:\tlearn: 1.6137414\ttotal: 49.4s\tremaining: 1.69s\n",
            "2999:\tlearn: 1.6097474\ttotal: 51.2s\tremaining: 0us\n",
            "0:\tlearn: 2.1713762\ttotal: 23.1ms\tremaining: 1m 9s\n",
            "100:\tlearn: 1.7536166\ttotal: 2.04s\tremaining: 58.6s\n",
            "200:\tlearn: 1.7351168\ttotal: 3.93s\tremaining: 54.8s\n",
            "300:\tlearn: 1.7260459\ttotal: 5.84s\tremaining: 52.3s\n",
            "400:\tlearn: 1.7190016\ttotal: 7.61s\tremaining: 49.3s\n",
            "500:\tlearn: 1.7130186\ttotal: 9.24s\tremaining: 46.1s\n",
            "600:\tlearn: 1.7075168\ttotal: 10.9s\tremaining: 43.3s\n",
            "700:\tlearn: 1.7023561\ttotal: 12.5s\tremaining: 40.9s\n",
            "800:\tlearn: 1.6973412\ttotal: 14.8s\tremaining: 40.7s\n",
            "900:\tlearn: 1.6927818\ttotal: 16.4s\tremaining: 38.3s\n",
            "1000:\tlearn: 1.6884760\ttotal: 18.2s\tremaining: 36.4s\n",
            "1100:\tlearn: 1.6842111\ttotal: 19.8s\tremaining: 34.2s\n",
            "1200:\tlearn: 1.6799428\ttotal: 21.4s\tremaining: 32.1s\n",
            "1300:\tlearn: 1.6757885\ttotal: 23s\tremaining: 30s\n",
            "1400:\tlearn: 1.6715680\ttotal: 24.6s\tremaining: 28.1s\n",
            "1500:\tlearn: 1.6674801\ttotal: 26.2s\tremaining: 26.1s\n",
            "1600:\tlearn: 1.6633201\ttotal: 27.9s\tremaining: 24.4s\n",
            "1700:\tlearn: 1.6593881\ttotal: 29.6s\tremaining: 22.6s\n",
            "1800:\tlearn: 1.6554723\ttotal: 31.2s\tremaining: 20.8s\n",
            "1900:\tlearn: 1.6515732\ttotal: 32.8s\tremaining: 18.9s\n",
            "2000:\tlearn: 1.6476975\ttotal: 34.3s\tremaining: 17.1s\n",
            "2100:\tlearn: 1.6438957\ttotal: 35.9s\tremaining: 15.4s\n",
            "2200:\tlearn: 1.6401930\ttotal: 37.5s\tremaining: 13.6s\n",
            "2300:\tlearn: 1.6363485\ttotal: 39.4s\tremaining: 12s\n",
            "2400:\tlearn: 1.6324957\ttotal: 41s\tremaining: 10.2s\n",
            "2500:\tlearn: 1.6287727\ttotal: 42.6s\tremaining: 8.49s\n",
            "2600:\tlearn: 1.6250819\ttotal: 44.2s\tremaining: 6.77s\n",
            "2700:\tlearn: 1.6210926\ttotal: 46.3s\tremaining: 5.13s\n",
            "2800:\tlearn: 1.6173165\ttotal: 47.9s\tremaining: 3.41s\n",
            "2900:\tlearn: 1.6135864\ttotal: 49.8s\tremaining: 1.7s\n",
            "2999:\tlearn: 1.6097435\ttotal: 51.5s\tremaining: 0us\n"
          ],
          "name": "stdout"
        }
      ]
    },
    {
      "cell_type": "code",
      "metadata": {
        "id": "NT73a0IKGKbx"
      },
      "source": [
        "model_cat.select_features(\n",
        "                X_train,\n",
        "                Y_train,\n",
        "                eval_set=[(X_train, Y_train), (X_valid, Y_valid)],\n",
        "                features_for_select=None,\n",
        "                num_features_to_select=None,\n",
        "                algorithm='RecursiveByLossFunctionChange',\n",
        "                steps=None,\n",
        "                shap_calc_type=None,\n",
        "                train_final_model=False,\n",
        "                verbose=None,\n",
        "                logging_level=None,\n",
        "                plot=True)"
      ],
      "execution_count": null,
      "outputs": []
    },
    {
      "cell_type": "code",
      "metadata": {
        "execution": {
          "iopub.status.busy": "2021-06-24T12:48:33.499329Z",
          "iopub.execute_input": "2021-06-24T12:48:33.499660Z",
          "iopub.status.idle": "2021-06-24T12:48:33.506357Z",
          "shell.execute_reply.started": "2021-06-24T12:48:33.499630Z",
          "shell.execute_reply": "2021-06-24T12:48:33.505291Z"
        },
        "trusted": true,
        "id": "gG-MSVfrGKby",
        "outputId": "18a3a7a2-b155-4fa2-c569-1f1420a347af"
      },
      "source": [
        "preds_cat"
      ],
      "execution_count": null,
      "outputs": [
        {
          "output_type": "execute_result",
          "data": {
            "text/plain": [
              "array([[0.05618264, 0.36730427, 0.15547635, ..., 0.02465586, 0.05812148,\n",
              "        0.12116492],\n",
              "       [0.04200647, 0.07692724, 0.05730919, ..., 0.08996002, 0.33041065,\n",
              "        0.13009589],\n",
              "       [0.02103344, 0.02642113, 0.02384407, ..., 0.0315424 , 0.12622487,\n",
              "        0.05662751],\n",
              "       ...,\n",
              "       [0.07642187, 0.29309052, 0.12842135, ..., 0.0410427 , 0.11358795,\n",
              "        0.13756208],\n",
              "       [0.03616271, 0.01981402, 0.01977624, ..., 0.0669261 , 0.36978935,\n",
              "        0.08328917],\n",
              "       [0.03944433, 0.07657988, 0.07599119, ..., 0.08708266, 0.24721113,\n",
              "        0.13636335]])"
            ]
          },
          "metadata": {
            "tags": []
          },
          "execution_count": 48
        }
      ]
    },
    {
      "cell_type": "code",
      "metadata": {
        "execution": {
          "iopub.status.busy": "2021-06-24T09:28:10.435992Z",
          "iopub.execute_input": "2021-06-24T09:28:10.436407Z",
          "iopub.status.idle": "2021-06-24T09:28:10.543100Z",
          "shell.execute_reply.started": "2021-06-24T09:28:10.436363Z",
          "shell.execute_reply": "2021-06-24T09:28:10.542270Z"
        },
        "trusted": true,
        "id": "uCi7G0AuGKby",
        "outputId": "462a33db-f782-4fca-cb8d-bd5a106d1935"
      },
      "source": [
        "from catboost.utils import get_gpu_device_count\n",
        "get_gpu_device_count()"
      ],
      "execution_count": null,
      "outputs": [
        {
          "output_type": "execute_result",
          "data": {
            "text/plain": [
              "1"
            ]
          },
          "metadata": {
            "tags": []
          },
          "execution_count": 20
        }
      ]
    },
    {
      "cell_type": "code",
      "metadata": {
        "execution": {
          "iopub.status.busy": "2021-06-24T06:38:56.803141Z",
          "iopub.execute_input": "2021-06-24T06:38:56.803471Z",
          "iopub.status.idle": "2021-06-24T08:10:02.320242Z",
          "shell.execute_reply.started": "2021-06-24T06:38:56.803441Z",
          "shell.execute_reply": "2021-06-24T08:10:02.314827Z"
        },
        "trusted": true,
        "id": "8GfCEZXNGKbz",
        "outputId": "cd748ed9-0e19-4cea-b3bc-b2b7eafba121"
      },
      "source": [
        "skf = StratifiedKFold(n_splits=5, shuffle=True, random_state=42)\n",
        "preds_xgb = np.zeros((len(x_test)))\n",
        "for i, (train_index, valid_index) in enumerate(skf.split(x_train, y_train)):\n",
        "  X_train, X_valid = x_train.iloc[train_index], x_train.iloc[valid_index]\n",
        "  Y_train, Y_valid = y_train.iloc[train_index], y_train.iloc[valid_index]\n",
        "\n",
        "  model_xgb = xgboost.XGBClassifier(n_estimators=3000, learning_rate=0.022, objective='multiclass')\n",
        "  model_xgb.fit(X_train, Y_train, eval_set=[(X_train, Y_train), (X_valid, Y_valid)], verbose=100, early_stopping_rounds=70, eval_metric='mlogloss')\n",
        "  preds_xgb = model_xgb.predict_proba(x_test)"
      ],
      "execution_count": null,
      "outputs": [
        {
          "output_type": "stream",
          "text": [
            "[0]\tvalidation_0-mlogloss:2.18486\tvalidation_1-mlogloss:2.18537\n",
            "[100]\tvalidation_0-mlogloss:1.77213\tvalidation_1-mlogloss:1.80677\n",
            "[200]\tvalidation_0-mlogloss:1.69942\tvalidation_1-mlogloss:1.76371\n",
            "[300]\tvalidation_0-mlogloss:1.66592\tvalidation_1-mlogloss:1.75669\n"
          ],
          "name": "stdout"
        },
        {
          "output_type": "error",
          "ename": "KeyboardInterrupt",
          "evalue": "",
          "traceback": [
            "\u001b[0;31m---------------------------------------------------------------------------\u001b[0m",
            "\u001b[0;31mKeyboardInterrupt\u001b[0m                         Traceback (most recent call last)",
            "\u001b[0;32m<ipython-input-47-b8cd6fd36fb1>\u001b[0m in \u001b[0;36m<module>\u001b[0;34m\u001b[0m\n\u001b[1;32m      6\u001b[0m \u001b[0;34m\u001b[0m\u001b[0m\n\u001b[1;32m      7\u001b[0m   \u001b[0mmodel_xgb\u001b[0m \u001b[0;34m=\u001b[0m \u001b[0mxgboost\u001b[0m\u001b[0;34m.\u001b[0m\u001b[0mXGBClassifier\u001b[0m\u001b[0;34m(\u001b[0m\u001b[0mn_estimators\u001b[0m\u001b[0;34m=\u001b[0m\u001b[0;36m3000\u001b[0m\u001b[0;34m,\u001b[0m \u001b[0mlearning_rate\u001b[0m\u001b[0;34m=\u001b[0m\u001b[0;36m0.022\u001b[0m\u001b[0;34m,\u001b[0m \u001b[0mobjective\u001b[0m\u001b[0;34m=\u001b[0m\u001b[0;34m'multiclass'\u001b[0m\u001b[0;34m)\u001b[0m\u001b[0;34m\u001b[0m\u001b[0;34m\u001b[0m\u001b[0m\n\u001b[0;32m----> 8\u001b[0;31m   \u001b[0mmodel_xgb\u001b[0m\u001b[0;34m.\u001b[0m\u001b[0mfit\u001b[0m\u001b[0;34m(\u001b[0m\u001b[0mX_train\u001b[0m\u001b[0;34m,\u001b[0m \u001b[0mY_train\u001b[0m\u001b[0;34m,\u001b[0m \u001b[0meval_set\u001b[0m\u001b[0;34m=\u001b[0m\u001b[0;34m[\u001b[0m\u001b[0;34m(\u001b[0m\u001b[0mX_train\u001b[0m\u001b[0;34m,\u001b[0m \u001b[0mY_train\u001b[0m\u001b[0;34m)\u001b[0m\u001b[0;34m,\u001b[0m \u001b[0;34m(\u001b[0m\u001b[0mX_valid\u001b[0m\u001b[0;34m,\u001b[0m \u001b[0mY_valid\u001b[0m\u001b[0;34m)\u001b[0m\u001b[0;34m]\u001b[0m\u001b[0;34m,\u001b[0m \u001b[0mverbose\u001b[0m\u001b[0;34m=\u001b[0m\u001b[0;36m100\u001b[0m\u001b[0;34m,\u001b[0m \u001b[0mearly_stopping_rounds\u001b[0m\u001b[0;34m=\u001b[0m\u001b[0;36m70\u001b[0m\u001b[0;34m,\u001b[0m \u001b[0meval_metric\u001b[0m\u001b[0;34m=\u001b[0m\u001b[0;34m'mlogloss'\u001b[0m\u001b[0;34m)\u001b[0m\u001b[0;34m\u001b[0m\u001b[0;34m\u001b[0m\u001b[0m\n\u001b[0m\u001b[1;32m      9\u001b[0m   \u001b[0mpreds_xgb\u001b[0m \u001b[0;34m=\u001b[0m \u001b[0mmodel_xgb\u001b[0m\u001b[0;34m.\u001b[0m\u001b[0mpredict_proba\u001b[0m\u001b[0;34m(\u001b[0m\u001b[0mx_test\u001b[0m\u001b[0;34m)\u001b[0m\u001b[0;34m\u001b[0m\u001b[0;34m\u001b[0m\u001b[0m\n",
            "\u001b[0;32m/opt/conda/lib/python3.7/site-packages/xgboost/core.py\u001b[0m in \u001b[0;36minner_f\u001b[0;34m(*args, **kwargs)\u001b[0m\n\u001b[1;32m    431\u001b[0m         \u001b[0;32mfor\u001b[0m \u001b[0mk\u001b[0m\u001b[0;34m,\u001b[0m \u001b[0marg\u001b[0m \u001b[0;32min\u001b[0m \u001b[0mzip\u001b[0m\u001b[0;34m(\u001b[0m\u001b[0msig\u001b[0m\u001b[0;34m.\u001b[0m\u001b[0mparameters\u001b[0m\u001b[0;34m,\u001b[0m \u001b[0margs\u001b[0m\u001b[0;34m)\u001b[0m\u001b[0;34m:\u001b[0m\u001b[0;34m\u001b[0m\u001b[0;34m\u001b[0m\u001b[0m\n\u001b[1;32m    432\u001b[0m             \u001b[0mkwargs\u001b[0m\u001b[0;34m[\u001b[0m\u001b[0mk\u001b[0m\u001b[0;34m]\u001b[0m \u001b[0;34m=\u001b[0m \u001b[0marg\u001b[0m\u001b[0;34m\u001b[0m\u001b[0;34m\u001b[0m\u001b[0m\n\u001b[0;32m--> 433\u001b[0;31m         \u001b[0;32mreturn\u001b[0m \u001b[0mf\u001b[0m\u001b[0;34m(\u001b[0m\u001b[0;34m**\u001b[0m\u001b[0mkwargs\u001b[0m\u001b[0;34m)\u001b[0m\u001b[0;34m\u001b[0m\u001b[0;34m\u001b[0m\u001b[0m\n\u001b[0m\u001b[1;32m    434\u001b[0m \u001b[0;34m\u001b[0m\u001b[0m\n\u001b[1;32m    435\u001b[0m     \u001b[0;32mreturn\u001b[0m \u001b[0minner_f\u001b[0m\u001b[0;34m\u001b[0m\u001b[0;34m\u001b[0m\u001b[0m\n",
            "\u001b[0;32m/opt/conda/lib/python3.7/site-packages/xgboost/sklearn.py\u001b[0m in \u001b[0;36mfit\u001b[0;34m(self, X, y, sample_weight, base_margin, eval_set, eval_metric, early_stopping_rounds, verbose, xgb_model, sample_weight_eval_set, base_margin_eval_set, feature_weights, callbacks)\u001b[0m\n\u001b[1;32m   1185\u001b[0m             \u001b[0mverbose_eval\u001b[0m\u001b[0;34m=\u001b[0m\u001b[0mverbose\u001b[0m\u001b[0;34m,\u001b[0m\u001b[0;34m\u001b[0m\u001b[0;34m\u001b[0m\u001b[0m\n\u001b[1;32m   1186\u001b[0m             \u001b[0mxgb_model\u001b[0m\u001b[0;34m=\u001b[0m\u001b[0mmodel\u001b[0m\u001b[0;34m,\u001b[0m\u001b[0;34m\u001b[0m\u001b[0;34m\u001b[0m\u001b[0m\n\u001b[0;32m-> 1187\u001b[0;31m             \u001b[0mcallbacks\u001b[0m\u001b[0;34m=\u001b[0m\u001b[0mcallbacks\u001b[0m\u001b[0;34m,\u001b[0m\u001b[0;34m\u001b[0m\u001b[0;34m\u001b[0m\u001b[0m\n\u001b[0m\u001b[1;32m   1188\u001b[0m         )\n\u001b[1;32m   1189\u001b[0m \u001b[0;34m\u001b[0m\u001b[0m\n",
            "\u001b[0;32m/opt/conda/lib/python3.7/site-packages/xgboost/training.py\u001b[0m in \u001b[0;36mtrain\u001b[0;34m(params, dtrain, num_boost_round, evals, obj, feval, maximize, early_stopping_rounds, evals_result, verbose_eval, xgb_model, callbacks)\u001b[0m\n\u001b[1;32m    195\u001b[0m                           \u001b[0mevals_result\u001b[0m\u001b[0;34m=\u001b[0m\u001b[0mevals_result\u001b[0m\u001b[0;34m,\u001b[0m\u001b[0;34m\u001b[0m\u001b[0;34m\u001b[0m\u001b[0m\n\u001b[1;32m    196\u001b[0m                           \u001b[0mmaximize\u001b[0m\u001b[0;34m=\u001b[0m\u001b[0mmaximize\u001b[0m\u001b[0;34m,\u001b[0m\u001b[0;34m\u001b[0m\u001b[0;34m\u001b[0m\u001b[0m\n\u001b[0;32m--> 197\u001b[0;31m                           early_stopping_rounds=early_stopping_rounds)\n\u001b[0m\u001b[1;32m    198\u001b[0m     \u001b[0;32mreturn\u001b[0m \u001b[0mbst\u001b[0m\u001b[0;34m\u001b[0m\u001b[0;34m\u001b[0m\u001b[0m\n\u001b[1;32m    199\u001b[0m \u001b[0;34m\u001b[0m\u001b[0m\n",
            "\u001b[0;32m/opt/conda/lib/python3.7/site-packages/xgboost/training.py\u001b[0m in \u001b[0;36m_train_internal\u001b[0;34m(params, dtrain, num_boost_round, evals, obj, feval, xgb_model, callbacks, evals_result, maximize, verbose_eval, early_stopping_rounds)\u001b[0m\n\u001b[1;32m     79\u001b[0m         \u001b[0;32mif\u001b[0m \u001b[0mcallbacks\u001b[0m\u001b[0;34m.\u001b[0m\u001b[0mbefore_iteration\u001b[0m\u001b[0;34m(\u001b[0m\u001b[0mbst\u001b[0m\u001b[0;34m,\u001b[0m \u001b[0mi\u001b[0m\u001b[0;34m,\u001b[0m \u001b[0mdtrain\u001b[0m\u001b[0;34m,\u001b[0m \u001b[0mevals\u001b[0m\u001b[0;34m)\u001b[0m\u001b[0;34m:\u001b[0m\u001b[0;34m\u001b[0m\u001b[0;34m\u001b[0m\u001b[0m\n\u001b[1;32m     80\u001b[0m             \u001b[0;32mbreak\u001b[0m\u001b[0;34m\u001b[0m\u001b[0;34m\u001b[0m\u001b[0m\n\u001b[0;32m---> 81\u001b[0;31m         \u001b[0mbst\u001b[0m\u001b[0;34m.\u001b[0m\u001b[0mupdate\u001b[0m\u001b[0;34m(\u001b[0m\u001b[0mdtrain\u001b[0m\u001b[0;34m,\u001b[0m \u001b[0mi\u001b[0m\u001b[0;34m,\u001b[0m \u001b[0mobj\u001b[0m\u001b[0;34m)\u001b[0m\u001b[0;34m\u001b[0m\u001b[0;34m\u001b[0m\u001b[0m\n\u001b[0m\u001b[1;32m     82\u001b[0m         \u001b[0;32mif\u001b[0m \u001b[0mcallbacks\u001b[0m\u001b[0;34m.\u001b[0m\u001b[0mafter_iteration\u001b[0m\u001b[0;34m(\u001b[0m\u001b[0mbst\u001b[0m\u001b[0;34m,\u001b[0m \u001b[0mi\u001b[0m\u001b[0;34m,\u001b[0m \u001b[0mdtrain\u001b[0m\u001b[0;34m,\u001b[0m \u001b[0mevals\u001b[0m\u001b[0;34m)\u001b[0m\u001b[0;34m:\u001b[0m\u001b[0;34m\u001b[0m\u001b[0;34m\u001b[0m\u001b[0m\n\u001b[1;32m     83\u001b[0m             \u001b[0;32mbreak\u001b[0m\u001b[0;34m\u001b[0m\u001b[0;34m\u001b[0m\u001b[0m\n",
            "\u001b[0;32m/opt/conda/lib/python3.7/site-packages/xgboost/core.py\u001b[0m in \u001b[0;36mupdate\u001b[0;34m(self, dtrain, iteration, fobj)\u001b[0m\n\u001b[1;32m   1496\u001b[0m             _check_call(_LIB.XGBoosterUpdateOneIter(self.handle,\n\u001b[1;32m   1497\u001b[0m                                                     \u001b[0mctypes\u001b[0m\u001b[0;34m.\u001b[0m\u001b[0mc_int\u001b[0m\u001b[0;34m(\u001b[0m\u001b[0miteration\u001b[0m\u001b[0;34m)\u001b[0m\u001b[0;34m,\u001b[0m\u001b[0;34m\u001b[0m\u001b[0;34m\u001b[0m\u001b[0m\n\u001b[0;32m-> 1498\u001b[0;31m                                                     dtrain.handle))\n\u001b[0m\u001b[1;32m   1499\u001b[0m         \u001b[0;32melse\u001b[0m\u001b[0;34m:\u001b[0m\u001b[0;34m\u001b[0m\u001b[0;34m\u001b[0m\u001b[0m\n\u001b[1;32m   1500\u001b[0m             \u001b[0mpred\u001b[0m \u001b[0;34m=\u001b[0m \u001b[0mself\u001b[0m\u001b[0;34m.\u001b[0m\u001b[0mpredict\u001b[0m\u001b[0;34m(\u001b[0m\u001b[0mdtrain\u001b[0m\u001b[0;34m,\u001b[0m \u001b[0moutput_margin\u001b[0m\u001b[0;34m=\u001b[0m\u001b[0;32mTrue\u001b[0m\u001b[0;34m,\u001b[0m \u001b[0mtraining\u001b[0m\u001b[0;34m=\u001b[0m\u001b[0;32mTrue\u001b[0m\u001b[0;34m)\u001b[0m\u001b[0;34m\u001b[0m\u001b[0;34m\u001b[0m\u001b[0m\n",
            "\u001b[0;31mKeyboardInterrupt\u001b[0m: "
          ]
        }
      ]
    },
    {
      "cell_type": "code",
      "metadata": {
        "execution": {
          "iopub.status.busy": "2021-06-24T12:48:46.820368Z",
          "iopub.execute_input": "2021-06-24T12:48:46.820874Z",
          "iopub.status.idle": "2021-06-24T12:48:46.960424Z",
          "shell.execute_reply.started": "2021-06-24T12:48:46.820828Z",
          "shell.execute_reply": "2021-06-24T12:48:46.959503Z"
        },
        "trusted": true,
        "id": "7wgLy3f6GKbz"
      },
      "source": [
        "submit = pd.read_csv('/kaggle/input/tabular-playground-series-jun-2021/sample_submission.csv')\n",
        "submit = submit.set_index('id')"
      ],
      "execution_count": null,
      "outputs": []
    },
    {
      "cell_type": "code",
      "metadata": {
        "execution": {
          "iopub.status.busy": "2021-06-24T12:48:47.885333Z",
          "iopub.execute_input": "2021-06-24T12:48:47.885675Z",
          "iopub.status.idle": "2021-06-24T12:48:47.897316Z",
          "shell.execute_reply.started": "2021-06-24T12:48:47.885647Z",
          "shell.execute_reply": "2021-06-24T12:48:47.896254Z"
        },
        "trusted": true,
        "id": "HbVMVYM1GKb0"
      },
      "source": [
        "for i in range(9):\n",
        "    submit.iloc[:,i] = preds_cat[:,i]"
      ],
      "execution_count": null,
      "outputs": []
    },
    {
      "cell_type": "code",
      "metadata": {
        "execution": {
          "iopub.status.busy": "2021-06-24T12:48:51.655384Z",
          "iopub.execute_input": "2021-06-24T12:48:51.655708Z",
          "iopub.status.idle": "2021-06-24T12:48:53.582257Z",
          "shell.execute_reply.started": "2021-06-24T12:48:51.655678Z",
          "shell.execute_reply": "2021-06-24T12:48:53.581372Z"
        },
        "trusted": true,
        "id": "-1VmI-WAGKb0"
      },
      "source": [
        "submit.to_csv('submit8.csv')"
      ],
      "execution_count": null,
      "outputs": []
    },
    {
      "cell_type": "markdown",
      "metadata": {
        "id": "EOju55MmGKb0"
      },
      "source": [
        "# NN모델을 써야 점수가 올라간다. \n",
        "# Pytorch NN모델을 생성하고 제출하자\n",
        "# feature_select할게 더 있나? 체크"
      ]
    }
  ]
}