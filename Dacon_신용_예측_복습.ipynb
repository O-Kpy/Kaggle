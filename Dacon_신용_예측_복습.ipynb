{
  "nbformat": 4,
  "nbformat_minor": 0,
  "metadata": {
    "colab": {
      "name": "Dacon 신용 예측 복습.ipynb",
      "provenance": [],
      "collapsed_sections": [],
      "mount_file_id": "1m8mH0QHVZ8FNGEm-bo5WulWsCN77YPeA",
      "authorship_tag": "ABX9TyO1261VDLcb/Dxv7/IOO8+W",
      "include_colab_link": true
    },
    "kernelspec": {
      "name": "python3",
      "display_name": "Python 3"
    },
    "language_info": {
      "name": "python"
    }
  },
  "cells": [
    {
      "cell_type": "markdown",
      "metadata": {
        "id": "view-in-github",
        "colab_type": "text"
      },
      "source": [
        "<a href=\"https://colab.research.google.com/github/O-Kpy/Kaggle/blob/main/Dacon_%EC%8B%A0%EC%9A%A9_%EC%98%88%EC%B8%A1_%EB%B3%B5%EC%8A%B5.ipynb\" target=\"_parent\"><img src=\"https://colab.research.google.com/assets/colab-badge.svg\" alt=\"Open In Colab\"/></a>"
      ]
    },
    {
      "cell_type": "code",
      "metadata": {
        "id": "TT9S_XzX0nZ-"
      },
      "source": [
        "import pandas as pd\n",
        "import numpy as np\n",
        "\n",
        "import matplotlib.pyplot as plt\n",
        "%matplotlib inline\n",
        "import seaborn as sns"
      ],
      "execution_count": 1,
      "outputs": []
    },
    {
      "cell_type": "code",
      "metadata": {
        "colab": {
          "base_uri": "https://localhost:8080/"
        },
        "id": "bSZvwyqQ09s0",
        "outputId": "1f063207-2a80-4086-a18d-6c170ef9fb9c"
      },
      "source": [
        "train = pd.read_csv('/content/drive/MyDrive/dataset/Dacon/대회/신용카드 사용자 연체 예측 AI 경진대회/train.csv')\n",
        "test = pd.read_csv('/content/drive/MyDrive/dataset/Dacon/대회/신용카드 사용자 연체 예측 AI 경진대회/test.csv')\n",
        "print(f'train shape:{train.shape}')\n",
        "print(f'test shape:{test.shape}')\n",
        "test_index = test['index']"
      ],
      "execution_count": 40,
      "outputs": [
        {
          "output_type": "stream",
          "text": [
            "train shape:(26457, 20)\n",
            "test shape:(10000, 19)\n"
          ],
          "name": "stdout"
        }
      ]
    },
    {
      "cell_type": "code",
      "metadata": {
        "id": "RyiwT4wq1ene"
      },
      "source": [
        "data = pd.concat([train, test], axis=0)"
      ],
      "execution_count": 41,
      "outputs": []
    },
    {
      "cell_type": "code",
      "metadata": {
        "colab": {
          "base_uri": "https://localhost:8080/",
          "height": 438
        },
        "id": "dTd-K4RN19XH",
        "outputId": "f05f0fad-f206-4e20-fcfc-737f6f58c9df"
      },
      "source": [
        "data"
      ],
      "execution_count": 80,
      "outputs": [
        {
          "output_type": "execute_result",
          "data": {
            "text/html": [
              "<div>\n",
              "<style scoped>\n",
              "    .dataframe tbody tr th:only-of-type {\n",
              "        vertical-align: middle;\n",
              "    }\n",
              "\n",
              "    .dataframe tbody tr th {\n",
              "        vertical-align: top;\n",
              "    }\n",
              "\n",
              "    .dataframe thead th {\n",
              "        text-align: right;\n",
              "    }\n",
              "</style>\n",
              "<table border=\"1\" class=\"dataframe\">\n",
              "  <thead>\n",
              "    <tr style=\"text-align: right;\">\n",
              "      <th></th>\n",
              "      <th>index</th>\n",
              "      <th>gender</th>\n",
              "      <th>car</th>\n",
              "      <th>reality</th>\n",
              "      <th>child_num</th>\n",
              "      <th>income_total</th>\n",
              "      <th>income_type</th>\n",
              "      <th>edu_type</th>\n",
              "      <th>family_type</th>\n",
              "      <th>house_type</th>\n",
              "      <th>DAYS_BIRTH</th>\n",
              "      <th>DAYS_EMPLOYED</th>\n",
              "      <th>FLAG_MOBIL</th>\n",
              "      <th>work_phone</th>\n",
              "      <th>phone</th>\n",
              "      <th>email</th>\n",
              "      <th>occyp_type</th>\n",
              "      <th>family_size</th>\n",
              "      <th>begin_month</th>\n",
              "      <th>credit</th>\n",
              "      <th>begin_years</th>\n",
              "      <th>DAYS_EMPLOYED_ANOM</th>\n",
              "      <th>age</th>\n",
              "      <th>employed</th>\n",
              "      <th>working_ratio</th>\n",
              "      <th>daily_wage</th>\n",
              "      <th>property</th>\n",
              "      <th>age_cut</th>\n",
              "      <th>employed_cut</th>\n",
              "      <th>daily_wage_cut</th>\n",
              "    </tr>\n",
              "  </thead>\n",
              "  <tbody>\n",
              "    <tr>\n",
              "      <th>0</th>\n",
              "      <td>0</td>\n",
              "      <td>0</td>\n",
              "      <td>0</td>\n",
              "      <td>0</td>\n",
              "      <td>0</td>\n",
              "      <td>202500.0</td>\n",
              "      <td>0</td>\n",
              "      <td>1</td>\n",
              "      <td>1</td>\n",
              "      <td>2</td>\n",
              "      <td>-13899</td>\n",
              "      <td>-4709.0</td>\n",
              "      <td>1</td>\n",
              "      <td>0</td>\n",
              "      <td>0</td>\n",
              "      <td>0</td>\n",
              "      <td>etc</td>\n",
              "      <td>2.0</td>\n",
              "      <td>-6.0</td>\n",
              "      <td>1.0</td>\n",
              "      <td>0.500000</td>\n",
              "      <td>False</td>\n",
              "      <td>38.079452</td>\n",
              "      <td>12.901370</td>\n",
              "      <td>33.880135</td>\n",
              "      <td>43.002761</td>\n",
              "      <td>1</td>\n",
              "      <td>35-40</td>\n",
              "      <td>10-20</td>\n",
              "      <td>0-1600</td>\n",
              "    </tr>\n",
              "    <tr>\n",
              "      <th>1</th>\n",
              "      <td>1</td>\n",
              "      <td>0</td>\n",
              "      <td>0</td>\n",
              "      <td>1</td>\n",
              "      <td>1</td>\n",
              "      <td>247500.0</td>\n",
              "      <td>0</td>\n",
              "      <td>4</td>\n",
              "      <td>0</td>\n",
              "      <td>1</td>\n",
              "      <td>-11380</td>\n",
              "      <td>-1540.0</td>\n",
              "      <td>1</td>\n",
              "      <td>0</td>\n",
              "      <td>0</td>\n",
              "      <td>1</td>\n",
              "      <td>Laborers</td>\n",
              "      <td>3.0</td>\n",
              "      <td>-5.0</td>\n",
              "      <td>1.0</td>\n",
              "      <td>0.416667</td>\n",
              "      <td>False</td>\n",
              "      <td>31.178082</td>\n",
              "      <td>4.219178</td>\n",
              "      <td>13.532513</td>\n",
              "      <td>160.714286</td>\n",
              "      <td>2</td>\n",
              "      <td>30-35</td>\n",
              "      <td>0-10</td>\n",
              "      <td>0-1600</td>\n",
              "    </tr>\n",
              "    <tr>\n",
              "      <th>2</th>\n",
              "      <td>2</td>\n",
              "      <td>1</td>\n",
              "      <td>1</td>\n",
              "      <td>1</td>\n",
              "      <td>0</td>\n",
              "      <td>450000.0</td>\n",
              "      <td>4</td>\n",
              "      <td>1</td>\n",
              "      <td>1</td>\n",
              "      <td>1</td>\n",
              "      <td>-19087</td>\n",
              "      <td>-4434.0</td>\n",
              "      <td>1</td>\n",
              "      <td>0</td>\n",
              "      <td>1</td>\n",
              "      <td>0</td>\n",
              "      <td>Managers</td>\n",
              "      <td>2.0</td>\n",
              "      <td>-22.0</td>\n",
              "      <td>2.0</td>\n",
              "      <td>1.833333</td>\n",
              "      <td>False</td>\n",
              "      <td>52.293151</td>\n",
              "      <td>12.147945</td>\n",
              "      <td>23.230471</td>\n",
              "      <td>101.488498</td>\n",
              "      <td>4</td>\n",
              "      <td>51-58</td>\n",
              "      <td>10-20</td>\n",
              "      <td>0-1600</td>\n",
              "    </tr>\n",
              "    <tr>\n",
              "      <th>3</th>\n",
              "      <td>3</td>\n",
              "      <td>0</td>\n",
              "      <td>0</td>\n",
              "      <td>1</td>\n",
              "      <td>0</td>\n",
              "      <td>202500.0</td>\n",
              "      <td>0</td>\n",
              "      <td>4</td>\n",
              "      <td>1</td>\n",
              "      <td>1</td>\n",
              "      <td>-15088</td>\n",
              "      <td>-2092.0</td>\n",
              "      <td>1</td>\n",
              "      <td>0</td>\n",
              "      <td>1</td>\n",
              "      <td>0</td>\n",
              "      <td>Sales staff</td>\n",
              "      <td>2.0</td>\n",
              "      <td>-37.0</td>\n",
              "      <td>0.0</td>\n",
              "      <td>3.083333</td>\n",
              "      <td>False</td>\n",
              "      <td>41.336986</td>\n",
              "      <td>5.731507</td>\n",
              "      <td>13.865323</td>\n",
              "      <td>96.797323</td>\n",
              "      <td>3</td>\n",
              "      <td>40-45</td>\n",
              "      <td>0-10</td>\n",
              "      <td>0-1600</td>\n",
              "    </tr>\n",
              "    <tr>\n",
              "      <th>4</th>\n",
              "      <td>4</td>\n",
              "      <td>0</td>\n",
              "      <td>1</td>\n",
              "      <td>1</td>\n",
              "      <td>0</td>\n",
              "      <td>157500.0</td>\n",
              "      <td>2</td>\n",
              "      <td>1</td>\n",
              "      <td>1</td>\n",
              "      <td>1</td>\n",
              "      <td>-15037</td>\n",
              "      <td>-2105.0</td>\n",
              "      <td>1</td>\n",
              "      <td>0</td>\n",
              "      <td>0</td>\n",
              "      <td>0</td>\n",
              "      <td>Managers</td>\n",
              "      <td>2.0</td>\n",
              "      <td>-26.0</td>\n",
              "      <td>2.0</td>\n",
              "      <td>2.166667</td>\n",
              "      <td>False</td>\n",
              "      <td>41.197260</td>\n",
              "      <td>5.767123</td>\n",
              "      <td>13.998803</td>\n",
              "      <td>74.821853</td>\n",
              "      <td>3</td>\n",
              "      <td>40-45</td>\n",
              "      <td>0-10</td>\n",
              "      <td>0-1600</td>\n",
              "    </tr>\n",
              "    <tr>\n",
              "      <th>...</th>\n",
              "      <td>...</td>\n",
              "      <td>...</td>\n",
              "      <td>...</td>\n",
              "      <td>...</td>\n",
              "      <td>...</td>\n",
              "      <td>...</td>\n",
              "      <td>...</td>\n",
              "      <td>...</td>\n",
              "      <td>...</td>\n",
              "      <td>...</td>\n",
              "      <td>...</td>\n",
              "      <td>...</td>\n",
              "      <td>...</td>\n",
              "      <td>...</td>\n",
              "      <td>...</td>\n",
              "      <td>...</td>\n",
              "      <td>...</td>\n",
              "      <td>...</td>\n",
              "      <td>...</td>\n",
              "      <td>...</td>\n",
              "      <td>...</td>\n",
              "      <td>...</td>\n",
              "      <td>...</td>\n",
              "      <td>...</td>\n",
              "      <td>...</td>\n",
              "      <td>...</td>\n",
              "      <td>...</td>\n",
              "      <td>...</td>\n",
              "      <td>...</td>\n",
              "      <td>...</td>\n",
              "    </tr>\n",
              "    <tr>\n",
              "      <th>9995</th>\n",
              "      <td>36452</td>\n",
              "      <td>0</td>\n",
              "      <td>1</td>\n",
              "      <td>1</td>\n",
              "      <td>0</td>\n",
              "      <td>202500.0</td>\n",
              "      <td>4</td>\n",
              "      <td>2</td>\n",
              "      <td>1</td>\n",
              "      <td>1</td>\n",
              "      <td>-18593</td>\n",
              "      <td>-5434.0</td>\n",
              "      <td>1</td>\n",
              "      <td>1</td>\n",
              "      <td>1</td>\n",
              "      <td>0</td>\n",
              "      <td>Accountants</td>\n",
              "      <td>2.0</td>\n",
              "      <td>-19.0</td>\n",
              "      <td>NaN</td>\n",
              "      <td>1.583333</td>\n",
              "      <td>False</td>\n",
              "      <td>50.939726</td>\n",
              "      <td>14.887671</td>\n",
              "      <td>29.226053</td>\n",
              "      <td>37.265366</td>\n",
              "      <td>5</td>\n",
              "      <td>45-51</td>\n",
              "      <td>10-20</td>\n",
              "      <td>0-1600</td>\n",
              "    </tr>\n",
              "    <tr>\n",
              "      <th>9996</th>\n",
              "      <td>36453</td>\n",
              "      <td>1</td>\n",
              "      <td>1</td>\n",
              "      <td>1</td>\n",
              "      <td>0</td>\n",
              "      <td>202500.0</td>\n",
              "      <td>4</td>\n",
              "      <td>4</td>\n",
              "      <td>0</td>\n",
              "      <td>1</td>\n",
              "      <td>-10886</td>\n",
              "      <td>-1315.0</td>\n",
              "      <td>1</td>\n",
              "      <td>1</td>\n",
              "      <td>0</td>\n",
              "      <td>0</td>\n",
              "      <td>Laborers</td>\n",
              "      <td>2.0</td>\n",
              "      <td>-34.0</td>\n",
              "      <td>NaN</td>\n",
              "      <td>2.833333</td>\n",
              "      <td>False</td>\n",
              "      <td>29.824658</td>\n",
              "      <td>3.602740</td>\n",
              "      <td>12.079735</td>\n",
              "      <td>153.992395</td>\n",
              "      <td>4</td>\n",
              "      <td>20-30</td>\n",
              "      <td>0-10</td>\n",
              "      <td>0-1600</td>\n",
              "    </tr>\n",
              "    <tr>\n",
              "      <th>9997</th>\n",
              "      <td>36454</td>\n",
              "      <td>0</td>\n",
              "      <td>0</td>\n",
              "      <td>1</td>\n",
              "      <td>0</td>\n",
              "      <td>292500.0</td>\n",
              "      <td>4</td>\n",
              "      <td>4</td>\n",
              "      <td>1</td>\n",
              "      <td>1</td>\n",
              "      <td>-21016</td>\n",
              "      <td>-14018.0</td>\n",
              "      <td>1</td>\n",
              "      <td>0</td>\n",
              "      <td>0</td>\n",
              "      <td>0</td>\n",
              "      <td>Medicine staff</td>\n",
              "      <td>2.0</td>\n",
              "      <td>-55.0</td>\n",
              "      <td>NaN</td>\n",
              "      <td>4.583333</td>\n",
              "      <td>False</td>\n",
              "      <td>57.578082</td>\n",
              "      <td>38.405479</td>\n",
              "      <td>66.701561</td>\n",
              "      <td>20.866029</td>\n",
              "      <td>2</td>\n",
              "      <td>51-58</td>\n",
              "      <td>30-40</td>\n",
              "      <td>0-1600</td>\n",
              "    </tr>\n",
              "    <tr>\n",
              "      <th>9998</th>\n",
              "      <td>36455</td>\n",
              "      <td>0</td>\n",
              "      <td>1</td>\n",
              "      <td>0</td>\n",
              "      <td>0</td>\n",
              "      <td>180000.0</td>\n",
              "      <td>0</td>\n",
              "      <td>4</td>\n",
              "      <td>1</td>\n",
              "      <td>1</td>\n",
              "      <td>-16541</td>\n",
              "      <td>-1085.0</td>\n",
              "      <td>1</td>\n",
              "      <td>0</td>\n",
              "      <td>1</td>\n",
              "      <td>0</td>\n",
              "      <td>etc</td>\n",
              "      <td>2.0</td>\n",
              "      <td>-33.0</td>\n",
              "      <td>NaN</td>\n",
              "      <td>2.750000</td>\n",
              "      <td>False</td>\n",
              "      <td>45.317808</td>\n",
              "      <td>2.972603</td>\n",
              "      <td>6.559458</td>\n",
              "      <td>165.898618</td>\n",
              "      <td>3</td>\n",
              "      <td>40-45</td>\n",
              "      <td>0-10</td>\n",
              "      <td>0-1600</td>\n",
              "    </tr>\n",
              "    <tr>\n",
              "      <th>9999</th>\n",
              "      <td>36456</td>\n",
              "      <td>0</td>\n",
              "      <td>0</td>\n",
              "      <td>1</td>\n",
              "      <td>0</td>\n",
              "      <td>270000.0</td>\n",
              "      <td>4</td>\n",
              "      <td>1</td>\n",
              "      <td>1</td>\n",
              "      <td>1</td>\n",
              "      <td>-9154</td>\n",
              "      <td>-187.0</td>\n",
              "      <td>1</td>\n",
              "      <td>0</td>\n",
              "      <td>0</td>\n",
              "      <td>1</td>\n",
              "      <td>Laborers</td>\n",
              "      <td>2.0</td>\n",
              "      <td>-11.0</td>\n",
              "      <td>NaN</td>\n",
              "      <td>0.916667</td>\n",
              "      <td>False</td>\n",
              "      <td>25.079452</td>\n",
              "      <td>0.512329</td>\n",
              "      <td>2.042823</td>\n",
              "      <td>1443.850267</td>\n",
              "      <td>2</td>\n",
              "      <td>20-30</td>\n",
              "      <td>0-10</td>\n",
              "      <td>0-1600</td>\n",
              "    </tr>\n",
              "  </tbody>\n",
              "</table>\n",
              "<p>36457 rows × 30 columns</p>\n",
              "</div>"
            ],
            "text/plain": [
              "      index  gender  car  reality  ...  property  age_cut  employed_cut  daily_wage_cut\n",
              "0         0       0    0        0  ...         1    35-40         10-20          0-1600\n",
              "1         1       0    0        1  ...         2    30-35          0-10          0-1600\n",
              "2         2       1    1        1  ...         4    51-58         10-20          0-1600\n",
              "3         3       0    0        1  ...         3    40-45          0-10          0-1600\n",
              "4         4       0    1        1  ...         3    40-45          0-10          0-1600\n",
              "...     ...     ...  ...      ...  ...       ...      ...           ...             ...\n",
              "9995  36452       0    1        1  ...         5    45-51         10-20          0-1600\n",
              "9996  36453       1    1        1  ...         4    20-30          0-10          0-1600\n",
              "9997  36454       0    0        1  ...         2    51-58         30-40          0-1600\n",
              "9998  36455       0    1        0  ...         3    40-45          0-10          0-1600\n",
              "9999  36456       0    0        1  ...         2    20-30          0-10          0-1600\n",
              "\n",
              "[36457 rows x 30 columns]"
            ]
          },
          "metadata": {
            "tags": []
          },
          "execution_count": 80
        }
      ]
    },
    {
      "cell_type": "code",
      "metadata": {
        "id": "u6ZVat9X3V9r"
      },
      "source": [
        "from sklearn.preprocessing import LabelEncoder"
      ],
      "execution_count": 5,
      "outputs": []
    },
    {
      "cell_type": "code",
      "metadata": {
        "id": "_Q2XHkVz6Bsj"
      },
      "source": [
        "encoders = LabelEncoder()\n",
        "\n",
        "for i in data.select_dtypes('object'):\n",
        "  if i == 'occyp_type':\n",
        "    continue\n",
        "  else:\n",
        "    data[i] = encoders.fit_transform(data[i])"
      ],
      "execution_count": 42,
      "outputs": []
    },
    {
      "cell_type": "code",
      "metadata": {
        "id": "b2HuJDBK2eVM"
      },
      "source": [
        "encoders = LabelEncoder()\n",
        "\n",
        "for i in data.select_dtypes('object'):\n",
        "  if data[i].nunique() <= 2:\n",
        "    data[i] = encoders.fit_transform(data[i])\n",
        "  elif i == 'occyp_type':\n",
        "    continue\n",
        "  else:\n",
        "    data = pd.get_dummies(data=data, columns=[i])\n",
        "\n",
        "# occyp_type만 남기고 다 인코딩"
      ],
      "execution_count": null,
      "outputs": []
    },
    {
      "cell_type": "code",
      "metadata": {
        "colab": {
          "base_uri": "https://localhost:8080/"
        },
        "id": "akf7cuWu4pXg",
        "outputId": "fe0bf322-2164-4833-8e13-907a867baad4"
      },
      "source": [
        "corr_matrix = data.corr()\n",
        "upper = corr_matrix.where(np.triu(np.ones(corr_matrix.shape), k=1).astype(np.bool))\n",
        "to_drop = [c for c in upper.columns if any(abs(upper[c])>0.9)]\n",
        "to_drop\n",
        "# 제거할 Feature는 안보인다."
      ],
      "execution_count": 43,
      "outputs": [
        {
          "output_type": "execute_result",
          "data": {
            "text/plain": [
              "[]"
            ]
          },
          "metadata": {
            "tags": []
          },
          "execution_count": 43
        }
      ]
    },
    {
      "cell_type": "code",
      "metadata": {
        "id": "eGH3y9ssB5SH"
      },
      "source": [
        "def plot_categoricals(x, y, data, annotate = True):\n",
        "    \"\"\"Plot counts of two categoricals.\n",
        "    Size is raw count for each grouping.\n",
        "    Percentages are for a given value of y.\"\"\"\n",
        "    \n",
        "    # Raw counts \n",
        "    raw_counts = pd.DataFrame(data.groupby(y)[x].value_counts(normalize = False))\n",
        "    raw_counts = raw_counts.rename(columns = {x: 'raw_count'})\n",
        "    \n",
        "    # Calculate counts for each group of x and y\n",
        "    counts = pd.DataFrame(data.groupby(y)[x].value_counts(normalize = True))\n",
        "    \n",
        "    # Rename the column and reset the index\n",
        "    counts = counts.rename(columns = {x: 'normalized_count'}).reset_index()\n",
        "    counts['percent'] = 100 * counts['normalized_count']\n",
        "    \n",
        "    # Add the raw count\n",
        "    counts['raw_count'] = list(raw_counts['raw_count'])\n",
        "    \n",
        "    plt.figure(figsize = (14, 10))\n",
        "    # Scatter plot sized by percent\n",
        "    plt.scatter(counts[x], counts[y], edgecolor = 'k', color = 'lightgreen',\n",
        "                s = 100 * np.sqrt(counts['raw_count']), marker = 'o',\n",
        "                alpha = 0.6, linewidth = 1.5)\n",
        "    \n",
        "    if annotate:\n",
        "        # Annotate the plot with text\n",
        "        for i, row in counts.iterrows():\n",
        "            # Put text with appropriate offsets\n",
        "            plt.annotate(xy = (row[x] - (1 / counts[x].nunique()), \n",
        "                               row[y] - (0.15 / counts[y].nunique())),\n",
        "                         color = 'navy',\n",
        "                         s = f\"{round(row['percent'], 1)}%\")\n",
        "        \n",
        "    # Set tick marks\n",
        "    plt.yticks(counts[y].unique())\n",
        "    plt.xticks(counts[x].unique())\n",
        "    \n",
        "    # Transform min and max to evenly space in square root domain\n",
        "    sqr_min = int(np.sqrt(raw_counts['raw_count'].min()))\n",
        "    sqr_max = int(np.sqrt(raw_counts['raw_count'].max()))\n",
        "    \n",
        "    # 5 sizes for legend\n",
        "    msizes = list(range(sqr_min, sqr_max,\n",
        "                        int(( sqr_max - sqr_min) / 5)))\n",
        "    markers = []\n",
        "    \n",
        "    # Markers for legend\n",
        "    for size in msizes:\n",
        "        markers.append(plt.scatter([], [], s = 100 * size, \n",
        "                                   label = f'{int(round(np.square(size) / 100) * 100)}', \n",
        "                                   color = 'lightgreen',\n",
        "                                   alpha = 0.6, edgecolor = 'k', linewidth = 1.5))\n",
        "        \n",
        "    # Legend and formatting\n",
        "    plt.legend(handles = markers, title = 'Counts',\n",
        "               labelspacing = 3, handletextpad = 2,\n",
        "               fontsize = 16,\n",
        "               loc = (1.10, 0.19))\n",
        "    \n",
        "    plt.annotate(f'* Size represents raw count while % is for a given y value.',\n",
        "                 xy = (0, 1), xycoords = 'figure points', size = 10)\n",
        "    \n",
        "    # Adjust axes limits\n",
        "    plt.xlim((counts[x].min() - (6 / counts[x].nunique()), \n",
        "              counts[x].max() + (6 / counts[x].nunique())))\n",
        "    plt.ylim((counts[y].min() - (4 / counts[y].nunique()), \n",
        "              counts[y].max() + (4 / counts[y].nunique())))\n",
        "    plt.grid(None)\n",
        "    plt.xlabel(f\"{x}\"); plt.ylabel(f\"{y}\"); plt.title(f\"{y} vs {x}\");"
      ],
      "execution_count": 44,
      "outputs": []
    },
    {
      "cell_type": "markdown",
      "metadata": {
        "id": "ASmfzFPf70Ml"
      },
      "source": [
        "# Feature Engineering"
      ]
    },
    {
      "cell_type": "code",
      "metadata": {
        "id": "uKjSh-CI7Kpk"
      },
      "source": [
        "data['begin_month'] = abs(data['begin_month'])\n",
        "data['DAYS_EMPLOYED'] = abs(data['DAYS_EMPLOYED'])\n",
        "data['DAYS_BIRTH'] = abs(data['DAYS_BIRTH'])"
      ],
      "execution_count": null,
      "outputs": []
    },
    {
      "cell_type": "code",
      "metadata": {
        "id": "UUqzVKbe85zr"
      },
      "source": [
        "data['begin_years'] = data['begin_month'] / -12"
      ],
      "execution_count": 45,
      "outputs": []
    },
    {
      "cell_type": "code",
      "metadata": {
        "id": "d0BCxr1klKnQ"
      },
      "source": [
        "data['DAYS_EMPLOYED_ANOM'] = data['DAYS_EMPLOYED'] == 365243\n",
        "data.loc[data['DAYS_EMPLOYED'] == 365243, 'DAYS_EMPLOYED'] = np.NaN"
      ],
      "execution_count": 46,
      "outputs": []
    },
    {
      "cell_type": "code",
      "metadata": {
        "id": "tkk6aWNa7Y79"
      },
      "source": [
        "data['age'] = data['DAYS_BIRTH'] / -365\n",
        "data['employed'] = data['DAYS_EMPLOYED'] / -365"
      ],
      "execution_count": 48,
      "outputs": []
    },
    {
      "cell_type": "code",
      "metadata": {
        "id": "IV6yQK_h9Y7e"
      },
      "source": [
        "data['working_ratio'] = data['DAYS_EMPLOYED'] / data['DAYS_BIRTH'] * 100\n",
        "data['daily_wage'] = data['income_total'] / -data['DAYS_EMPLOYED']"
      ],
      "execution_count": 49,
      "outputs": []
    },
    {
      "cell_type": "code",
      "metadata": {
        "id": "1xHMKe4VB4oR"
      },
      "source": [
        "data['property'] = data['car'] + data['reality'] + data['phone'] + data['FLAG_MOBIL'] + data['work_phone']"
      ],
      "execution_count": 52,
      "outputs": []
    },
    {
      "cell_type": "code",
      "metadata": {
        "id": "RUBJ55nkhR7c"
      },
      "source": [
        "labels = ['20-30', '30-35', '35-40', '40-45', '45-51', '51-58', '58-']\n",
        "data['age_cut'] = pd.qcut(data['age'], 7, labels=labels)"
      ],
      "execution_count": 53,
      "outputs": []
    },
    {
      "cell_type": "code",
      "metadata": {
        "id": "0ffP6Gpml_mJ"
      },
      "source": [
        "labels = ['0-10', '10-20', '20-30', '30-40', '40-50']\n",
        "data['employed_cut'] = pd.cut(data['employed'], bins=np.linspace(0,50, num=6), labels=labels)"
      ],
      "execution_count": 60,
      "outputs": []
    },
    {
      "cell_type": "code",
      "metadata": {
        "id": "7ceJgp-Wm1sl"
      },
      "source": [
        "labels = ['0-1600', '1600-3200', '3200-4800', '4800-6400', '6400-8000']\n",
        "data['daily_wage_cut'] = pd.cut(data['daily_wage'], bins=np.linspace(0,8000, num=6), labels=labels)"
      ],
      "execution_count": 71,
      "outputs": []
    },
    {
      "cell_type": "code",
      "metadata": {
        "colab": {
          "base_uri": "https://localhost:8080/",
          "height": 282
        },
        "id": "r1BoTiatEEhp",
        "outputId": "a0b71ca5-1b3d-4a25-9767-8bf71ca43348"
      },
      "source": [
        "data[data['occyp_type'].isnull()]['income_total'].hist()\n",
        "# 어느 특정 직업의 정상적인 분포같음"
      ],
      "execution_count": 76,
      "outputs": [
        {
          "output_type": "execute_result",
          "data": {
            "text/plain": [
              "<matplotlib.axes._subplots.AxesSubplot at 0x7f2d8642a550>"
            ]
          },
          "metadata": {
            "tags": []
          },
          "execution_count": 76
        },
        {
          "output_type": "display_data",
          "data": {
            "image/png": "[encoded data removed]",
            "text/plain": [
              "<Figure size 432x288 with 1 Axes>"
            ]
          },
          "metadata": {
            "tags": [],
            "needs_background": "light"
          }
        }
      ]
    },
    {
      "cell_type": "code",
      "metadata": {
        "colab": {
          "base_uri": "https://localhost:8080/",
          "height": 282
        },
        "id": "vU8-F_eGETNU",
        "outputId": "ac256366-079e-4b97-81ea-3fcb318796fb"
      },
      "source": [
        "data[data['occyp_type'] == 'Sales staff']['income_total'].hist()\n",
        "# Nan값의 연봉에 비하여 분포 차이가 그렇게 많이 나지도 않는다."
      ],
      "execution_count": 77,
      "outputs": [
        {
          "output_type": "execute_result",
          "data": {
            "text/plain": [
              "<matplotlib.axes._subplots.AxesSubplot at 0x7f2d8642ac90>"
            ]
          },
          "metadata": {
            "tags": []
          },
          "execution_count": 77
        },
        {
          "output_type": "display_data",
          "data": {
            "image/png": "[encoded data removed]",
            "text/plain": [
              "<Figure size 432x288 with 1 Axes>"
            ]
          },
          "metadata": {
            "tags": [],
            "needs_background": "light"
          }
        }
      ]
    },
    {
      "cell_type": "code",
      "metadata": {
        "colab": {
          "base_uri": "https://localhost:8080/",
          "height": 282
        },
        "id": "DbKYP6dGEwsX",
        "outputId": "08f08fdc-f7e9-448c-ddd3-bad22a1bf92c"
      },
      "source": [
        "data[data['occyp_type'] == 'Laborers']['income_total'].hist()"
      ],
      "execution_count": 78,
      "outputs": [
        {
          "output_type": "execute_result",
          "data": {
            "text/plain": [
              "<matplotlib.axes._subplots.AxesSubplot at 0x7f2d862bb0d0>"
            ]
          },
          "metadata": {
            "tags": []
          },
          "execution_count": 78
        },
        {
          "output_type": "display_data",
          "data": {
            "image/png": "[encoded data removed]",
            "text/plain": [
              "<Figure size 432x288 with 1 Axes>"
            ]
          },
          "metadata": {
            "tags": [],
            "needs_background": "light"
          }
        }
      ]
    },
    {
      "cell_type": "code",
      "metadata": {
        "id": "EHPdaRMfNPdc"
      },
      "source": [
        "# income_total, age, employed를 카테고리 화 Feature Engineering"
      ],
      "execution_count": null,
      "outputs": []
    },
    {
      "cell_type": "code",
      "metadata": {
        "id": "cdKomL1DD9FI"
      },
      "source": [
        "data['occyp_type'] = data['occyp_type'].fillna('etc')"
      ],
      "execution_count": 79,
      "outputs": []
    },
    {
      "cell_type": "code",
      "metadata": {
        "id": "ADtvv2jQE7v4"
      },
      "source": [
        "data = pd.get_dummies(data=data, columns=['occyp_type', 'age_cut', 'employed_cut',\t'daily_wage_cut'])"
      ],
      "execution_count": 81,
      "outputs": []
    },
    {
      "cell_type": "code",
      "metadata": {
        "id": "hc7NPCXDo0NV"
      },
      "source": [
        "# aggregation은 다음에 시도해보자..."
      ],
      "execution_count": null,
      "outputs": []
    },
    {
      "cell_type": "code",
      "metadata": {
        "id": "UgUJXvG6pTUA"
      },
      "source": [
        "def missing_data(data):\n",
        "  total = data.isnull().sum()\n",
        "  percent = round(data.isnull().sum()/len(data)*100, 2)\n",
        "\n",
        "  table = pd.concat([total, percent], axis=1, keys=['Total', 'Percent']).sort_values('Percent', ascending=False)\n",
        "  table = table[table['Total'] != 0]\n",
        "  return table"
      ],
      "execution_count": 95,
      "outputs": []
    },
    {
      "cell_type": "code",
      "metadata": {
        "colab": {
          "base_uri": "https://localhost:8080/",
          "height": 77
        },
        "id": "h0SC47stpr8h",
        "outputId": "0c8997c4-8d0d-484d-f861-23388f84a2b1"
      },
      "source": [
        "missing_data(data)"
      ],
      "execution_count": 100,
      "outputs": [
        {
          "output_type": "execute_result",
          "data": {
            "text/html": [
              "<div>\n",
              "<style scoped>\n",
              "    .dataframe tbody tr th:only-of-type {\n",
              "        vertical-align: middle;\n",
              "    }\n",
              "\n",
              "    .dataframe tbody tr th {\n",
              "        vertical-align: top;\n",
              "    }\n",
              "\n",
              "    .dataframe thead th {\n",
              "        text-align: right;\n",
              "    }\n",
              "</style>\n",
              "<table border=\"1\" class=\"dataframe\">\n",
              "  <thead>\n",
              "    <tr style=\"text-align: right;\">\n",
              "      <th></th>\n",
              "      <th>Total</th>\n",
              "      <th>Percent</th>\n",
              "    </tr>\n",
              "  </thead>\n",
              "  <tbody>\n",
              "    <tr>\n",
              "      <th>credit</th>\n",
              "      <td>10000</td>\n",
              "      <td>27.43</td>\n",
              "    </tr>\n",
              "  </tbody>\n",
              "</table>\n",
              "</div>"
            ],
            "text/plain": [
              "        Total  Percent\n",
              "credit  10000    27.43"
            ]
          },
          "metadata": {
            "tags": []
          },
          "execution_count": 100
        }
      ]
    },
    {
      "cell_type": "code",
      "metadata": {
        "id": "m3C0hgQOqUZG"
      },
      "source": [
        "from sklearn.impute import SimpleImputer"
      ],
      "execution_count": 97,
      "outputs": []
    },
    {
      "cell_type": "code",
      "metadata": {
        "id": "q3pdmlHDqBLh"
      },
      "source": [
        "imputer = SimpleImputer(strategy='median')\n",
        "for i in data.drop(columns='credit').columns:\n",
        "  data[i] = imputer.fit_transform(data[[i]])"
      ],
      "execution_count": 99,
      "outputs": []
    },
    {
      "cell_type": "code",
      "metadata": {
        "colab": {
          "base_uri": "https://localhost:8080/"
        },
        "id": "uHRXFl5nIhzg",
        "outputId": "993f377b-ff66-43e3-8ccc-a6e46893811a"
      },
      "source": [
        "x_train = data[data['credit'].notnull()]\n",
        "x_test = data[data['credit'].isnull()]\n",
        "x_test = x_test.drop(['credit'], axis=1)\n",
        "\n",
        "print(f'Whole data set shape:{data.shape}')\n",
        "print(f'train set shape:{x_train.shape}, test set shape:{x_test.shape}')"
      ],
      "execution_count": 101,
      "outputs": [
        {
          "output_type": "stream",
          "text": [
            "Whole data set shape:(36457, 62)\n",
            "train set shape:(26457, 62), test set shape:(10000, 61)\n"
          ],
          "name": "stdout"
        }
      ]
    }
  ]
}