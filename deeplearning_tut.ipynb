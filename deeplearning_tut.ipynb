{
  "nbformat": 4,
  "nbformat_minor": 0,
  "metadata": {
    "kernelspec": {
      "language": "python",
      "display_name": "Python 3",
      "name": "python3"
    },
    "language_info": {
      "name": "python",
      "version": "3.7.10",
      "mimetype": "text/x-python",
      "codemirror_mode": {
        "name": "ipython",
        "version": 3
      },
      "pygments_lexer": "ipython3",
      "nbconvert_exporter": "python",
      "file_extension": ".py"
    },
    "colab": {
      "name": "deeplearning tut.ipynb",
      "provenance": [],
      "include_colab_link": true
    }
  },
  "cells": [
    {
      "cell_type": "markdown",
      "metadata": {
        "id": "view-in-github",
        "colab_type": "text"
      },
      "source": [
        "<a href=\"https://colab.research.google.com/github/O-Kpy/Kaggle/blob/main/deeplearning_tut.ipynb\" target=\"_parent\"><img src=\"https://colab.research.google.com/assets/colab-badge.svg\" alt=\"Open In Colab\"/></a>"
      ]
    },
    {
      "cell_type": "code",
      "metadata": {
        "_uuid": "8f2839f25d086af736a60e9eeb907d3b93b6e0e5",
        "_cell_guid": "b1076dfc-b9ad-4769-8c92-a6c4dae69d19",
        "execution": {
          "iopub.status.busy": "2021-07-03T06:03:52.782107Z",
          "iopub.execute_input": "2021-07-03T06:03:52.782675Z",
          "iopub.status.idle": "2021-07-03T06:03:54.959836Z",
          "shell.execute_reply.started": "2021-07-03T06:03:52.782588Z",
          "shell.execute_reply": "2021-07-03T06:03:54.958902Z"
        },
        "trusted": true,
        "id": "O_HEaJB5qMbN"
      },
      "source": [
        "import numpy as np\n",
        "import pandas as pd\n",
        "import os\n",
        "import torch\n",
        "import torch.nn as nn\n",
        "from torch.autograd import Variable\n",
        "from torch.utils.data import DataLoader\n",
        "from sklearn.model_selection import train_test_split"
      ],
      "execution_count": null,
      "outputs": []
    },
    {
      "cell_type": "code",
      "metadata": {
        "execution": {
          "iopub.status.busy": "2021-07-03T08:29:39.481380Z",
          "iopub.execute_input": "2021-07-03T08:29:39.481951Z",
          "iopub.status.idle": "2021-07-03T08:29:43.032427Z",
          "shell.execute_reply.started": "2021-07-03T08:29:39.481909Z",
          "shell.execute_reply": "2021-07-03T08:29:43.031403Z"
        },
        "trusted": true,
        "id": "QnvFyHcCqMbP",
        "outputId": "4bfa937e-0896-4e9c-f73a-ecb1283350ef"
      },
      "source": [
        "train = pd.read_csv('../input/digit-recognizer/train.csv', dtype=np.float32)\n",
        "train.shape"
      ],
      "execution_count": null,
      "outputs": [
        {
          "output_type": "execute_result",
          "data": {
            "text/plain": [
              "(42000, 785)"
            ]
          },
          "metadata": {
            "tags": []
          },
          "execution_count": 106
        }
      ]
    },
    {
      "cell_type": "code",
      "metadata": {
        "execution": {
          "iopub.status.busy": "2021-07-03T08:29:43.034393Z",
          "iopub.execute_input": "2021-07-03T08:29:43.034829Z",
          "iopub.status.idle": "2021-07-03T08:29:43.617649Z",
          "shell.execute_reply.started": "2021-07-03T08:29:43.034784Z",
          "shell.execute_reply": "2021-07-03T08:29:43.616607Z"
        },
        "trusted": true,
        "id": "WkLloGs4qMbR",
        "outputId": "382e4754-5e95-47ef-dccb-ea06a015c9ed"
      },
      "source": [
        "targets_numpy = train.label.values\n",
        "features_numpy = train.loc[:,train.columns != \"label\"].values/255 # normalization\n",
        "\n",
        "# train test split. Size of train data is 80% and size of test data is 20%. \n",
        "features_train, features_test, targets_train, targets_test = train_test_split(features_numpy,\n",
        "                                                                             targets_numpy,\n",
        "                                                                             test_size = 0.2,\n",
        "                                                                             random_state = 42) \n",
        "\n",
        "# create feature and targets tensor for train set. As you remember we need variable to accumulate gradients. Therefore first we create tensor, then we will create variable\n",
        "featuresTrain = torch.from_numpy(features_train)\n",
        "targetsTrain = torch.from_numpy(targets_train).type(torch.LongTensor) # data type is long\n",
        "\n",
        "# create feature and targets tensor for test set.\n",
        "featuresTest = torch.from_numpy(features_test)\n",
        "targetsTest = torch.from_numpy(targets_test).type(torch.LongTensor) # data type is long\n",
        "\n",
        "# batch_size, epoch and iteration\n",
        "batch_size = 100\n",
        "n_iters = 10000\n",
        "num_epochs = n_iters / (len(features_train) / batch_size)\n",
        "num_epochs = int(num_epochs)\n",
        "\n",
        "# Pytorch train and test sets\n",
        "train = torch.utils.data.TensorDataset(featuresTrain,targetsTrain)\n",
        "test = torch.utils.data.TensorDataset(featuresTest,targetsTest)\n",
        "\n",
        "# data loader\n",
        "train_loader = DataLoader(train, batch_size = batch_size, shuffle = False)\n",
        "test_loader = DataLoader(test, batch_size = batch_size, shuffle = False)\n",
        "\n",
        "# visualize one of the images in data set\n",
        "plt.imshow(features_numpy[10].reshape(28,28))\n",
        "plt.axis(\"off\")\n",
        "plt.title(str(targets_numpy[10]))\n",
        "plt.savefig('graph.png')\n",
        "plt.show()"
      ],
      "execution_count": null,
      "outputs": [
        {
          "output_type": "display_data",
          "data": {
            "text/plain": [
              "<Figure size 432x288 with 1 Axes>"
            ],
            "image/png": "[encoded data removed]"
          },
          "metadata": {
            "tags": [],
            "needs_background": "light"
          }
        }
      ]
    },
    {
      "cell_type": "code",
      "metadata": {
        "execution": {
          "iopub.status.busy": "2021-07-03T07:43:47.205400Z",
          "iopub.execute_input": "2021-07-03T07:43:47.205875Z",
          "iopub.status.idle": "2021-07-03T07:43:47.463520Z",
          "shell.execute_reply.started": "2021-07-03T07:43:47.205822Z",
          "shell.execute_reply": "2021-07-03T07:43:47.462446Z"
        },
        "trusted": true,
        "id": "YURKQYCvqMbR"
      },
      "source": [
        "targets_numpy = train.label.values\n",
        "features_numpy = train.loc[:, train.columns != 'label'].values /255  # normalization"
      ],
      "execution_count": null,
      "outputs": []
    },
    {
      "cell_type": "code",
      "metadata": {
        "execution": {
          "iopub.status.busy": "2021-07-03T07:43:51.972536Z",
          "iopub.execute_input": "2021-07-03T07:43:51.972899Z",
          "iopub.status.idle": "2021-07-03T07:43:52.437316Z",
          "shell.execute_reply.started": "2021-07-03T07:43:51.972868Z",
          "shell.execute_reply": "2021-07-03T07:43:52.436322Z"
        },
        "trusted": true,
        "id": "0bIvvq2iqMbS"
      },
      "source": [
        "features_train, features_test, targets_train, targets_test = train_test_split(features_numpy, targets_numpy, test_size=0.2, random_state=42)"
      ],
      "execution_count": null,
      "outputs": []
    },
    {
      "cell_type": "code",
      "metadata": {
        "execution": {
          "iopub.status.busy": "2021-07-03T07:43:53.429016Z",
          "iopub.execute_input": "2021-07-03T07:43:53.429379Z",
          "iopub.status.idle": "2021-07-03T07:43:53.437326Z",
          "shell.execute_reply.started": "2021-07-03T07:43:53.429346Z",
          "shell.execute_reply": "2021-07-03T07:43:53.434873Z"
        },
        "trusted": true,
        "id": "IRGs4vCNqMbS"
      },
      "source": [
        "feature_train = torch.from_numpy(features_train)\n",
        "target_train = torch.from_numpy(targets_train).type(torch.LongTensor)\n",
        "\n",
        "feature_test = torch.from_numpy(features_test)\n",
        "target_test = torch.from_numpy(targets_test).type(torch.LongTensor)"
      ],
      "execution_count": null,
      "outputs": []
    },
    {
      "cell_type": "code",
      "metadata": {
        "execution": {
          "iopub.status.busy": "2021-07-03T07:44:24.309711Z",
          "iopub.execute_input": "2021-07-03T07:44:24.310046Z",
          "iopub.status.idle": "2021-07-03T07:44:24.315001Z",
          "shell.execute_reply.started": "2021-07-03T07:44:24.310015Z",
          "shell.execute_reply": "2021-07-03T07:44:24.313811Z"
        },
        "trusted": true,
        "id": "z86jjpJ6qMbS"
      },
      "source": [
        "batch_size=100\n",
        "n_iters=10000\n",
        "num_epochs = n_iters / (len(feature_train)/batch_size)\n",
        "num_epochs = int(num_epochs)"
      ],
      "execution_count": null,
      "outputs": []
    },
    {
      "cell_type": "code",
      "metadata": {
        "execution": {
          "iopub.status.busy": "2021-07-03T07:45:00.740172Z",
          "iopub.execute_input": "2021-07-03T07:45:00.740687Z",
          "iopub.status.idle": "2021-07-03T07:45:00.837506Z",
          "shell.execute_reply.started": "2021-07-03T07:45:00.740654Z",
          "shell.execute_reply": "2021-07-03T07:45:00.836493Z"
        },
        "trusted": true,
        "id": "hlxXMtc9qMbT",
        "outputId": "e69a7bb7-5dcf-4c3f-a41a-c1f4fd3a9ead"
      },
      "source": [
        "train = torch.utils.data.TensorDataset(feature_train, target_train)\n",
        "test = torch.utils.data.TensorDataset(feature_test, target_test)\n",
        "\n",
        "import matplotlib.pyplot as plt\n",
        "plt.imshow(features_numpy[3].reshape(28, 28))\n",
        "plt.axis('off')\n",
        "plt.title(str(targets_numpy[3]))\n",
        "plt.savefig('graph.png')\n",
        "plt.show()"
      ],
      "execution_count": null,
      "outputs": [
        {
          "output_type": "display_data",
          "data": {
            "text/plain": [
              "<Figure size 432x288 with 1 Axes>"
            ],
            "image/png": "[encoded data removed]"
          },
          "metadata": {
            "tags": [],
            "needs_background": "light"
          }
        }
      ]
    },
    {
      "cell_type": "code",
      "metadata": {
        "execution": {
          "iopub.status.busy": "2021-07-03T07:45:02.425618Z",
          "iopub.execute_input": "2021-07-03T07:45:02.426319Z",
          "iopub.status.idle": "2021-07-03T07:45:02.430331Z",
          "shell.execute_reply.started": "2021-07-03T07:45:02.426280Z",
          "shell.execute_reply": "2021-07-03T07:45:02.429342Z"
        },
        "trusted": true,
        "id": "huvefjDUqMbU"
      },
      "source": [
        "train_loader = DataLoader(train, batch_size=batch_size, shuffle=False)\n",
        "test_loader = DataLoader(test, batch_size=batch_size, shuffle=False)"
      ],
      "execution_count": null,
      "outputs": []
    },
    {
      "cell_type": "code",
      "metadata": {
        "execution": {
          "iopub.status.busy": "2021-07-03T08:14:13.093964Z",
          "iopub.execute_input": "2021-07-03T08:14:13.094356Z",
          "iopub.status.idle": "2021-07-03T08:14:13.103562Z",
          "shell.execute_reply.started": "2021-07-03T08:14:13.094321Z",
          "shell.execute_reply": "2021-07-03T08:14:13.102329Z"
        },
        "trusted": true,
        "id": "GKaRO8CbqMbU"
      },
      "source": [
        "# Create Logistic Regression Model\n",
        "class LogisticRegressionModel(nn.Module):\n",
        "    def __init__(self, input_dim, output_dim):\n",
        "        super(LogisticRegressionModel, self).__init__()\n",
        "        # Linear part\n",
        "        self.linear = nn.Linear(input_dim, output_dim)\n",
        "        # There should be logistic function right?\n",
        "        # However logistic function in pytorch is in loss function\n",
        "        # So actually we do not forget to put it, it is only at next parts\n",
        "    \n",
        "    def forward(self, x):\n",
        "        out = self.linear(x)\n",
        "        return out\n",
        "\n",
        "# Instantiate Model Class\n",
        "input_dim = 28*28 # size of image px*px\n",
        "output_dim = 10  # labels 0,1,2,3,4,5,6,7,8,9\n",
        "\n",
        "# create logistic regression model\n",
        "model = LogisticRegressionModel(input_dim, output_dim)\n",
        "\n",
        "# Cross Entropy Loss  \n",
        "error = nn.CrossEntropyLoss()\n",
        "\n",
        "# SGD Optimizer \n",
        "learning_rate = 0.001\n",
        "optimizer = torch.optim.SGD(model.parameters(), lr=learning_rate)"
      ],
      "execution_count": null,
      "outputs": []
    },
    {
      "cell_type": "code",
      "metadata": {
        "execution": {
          "iopub.status.busy": "2021-07-03T08:36:25.135193Z",
          "iopub.execute_input": "2021-07-03T08:36:25.135588Z",
          "iopub.status.idle": "2021-07-03T08:36:25.149907Z",
          "shell.execute_reply.started": "2021-07-03T08:36:25.135555Z",
          "shell.execute_reply": "2021-07-03T08:36:25.148553Z"
        },
        "trusted": true,
        "id": "nZgYNRYnqMbU"
      },
      "source": [
        "# Create ANN Model\n",
        "class ANNModel(nn.Module):\n",
        "    \n",
        "    def __init__(self):\n",
        "        super(ANNModel, self).__init__()\n",
        "        \n",
        "        # Linear function 1: 784 --> 150\n",
        "        self.fc1 = nn.Linear(784, 150) \n",
        "        # Non-linearity 1\n",
        "        self.relu1 = nn.ReLU()\n",
        "        \n",
        "        # Linear function 2: 150 --> 150\n",
        "        self.fc2 = nn.Linear(150, 150)\n",
        "        # Non-linearity 2\n",
        "        self.tanh2 = nn.Tanh()\n",
        "        \n",
        "        # Linear function 3: 150 --> 150\n",
        "        self.fc3 = nn.Linear(150, 150)\n",
        "        # Non-linearity 3\n",
        "        self.elu3 = nn.ELU()\n",
        "        \n",
        "        # Linear function 4 (readout): 150 --> 10\n",
        "        self.fc4 = nn.Linear(150, 10)  \n",
        "    \n",
        "    def forward(self, x):\n",
        "        # Linear function 1\n",
        "        out = self.fc1(x)\n",
        "        # Non-linearity 1\n",
        "        out = self.relu1(out)\n",
        "        \n",
        "        # Linear function 2\n",
        "        out = self.fc2(out)\n",
        "        # Non-linearity 2\n",
        "        out = self.tanh2(out)\n",
        "        \n",
        "        # Linear function 2\n",
        "        out = self.fc3(out)\n",
        "        # Non-linearity 2\n",
        "        out = self.elu3(out)\n",
        "        \n",
        "        # Linear function 4 (readout)\n",
        "        out = self.fc4(out)\n",
        "        return out\n",
        "\n",
        "# Create ANN\n",
        "model = ANNModel()\n",
        "\n",
        "# Cross Entropy Loss \n",
        "error = nn.CrossEntropyLoss()\n",
        "\n",
        "# SGD Optimizer\n",
        "learning_rate = 0.02\n",
        "optimizer = torch.optim.SGD(model.parameters(), lr=learning_rate)"
      ],
      "execution_count": null,
      "outputs": []
    },
    {
      "cell_type": "code",
      "metadata": {
        "execution": {
          "iopub.status.busy": "2021-07-03T08:38:03.112050Z",
          "iopub.execute_input": "2021-07-03T08:38:03.112562Z",
          "iopub.status.idle": "2021-07-03T08:39:19.135417Z",
          "shell.execute_reply.started": "2021-07-03T08:38:03.112529Z",
          "shell.execute_reply": "2021-07-03T08:39:19.134410Z"
        },
        "trusted": true,
        "id": "X3cvi7sBqMbV",
        "outputId": "a7ea1cc7-3b25-4d14-c681-7d934aa8b321"
      },
      "source": [
        "device = 'cuda:0' if torch.cuda.is_available() else 'cpu'\n",
        "count = 0\n",
        "loss_list = []\n",
        "iteration_list = []\n",
        "for epoch in range(num_epochs):\n",
        "    for i, (images, labels) in enumerate(train_loader):\n",
        "        train = Variable(images.view(-1, 28*28))\n",
        "        labels = Variable(labels)\n",
        "        \n",
        "        # Clear gradients\n",
        "        optimizer.zero_grad()\n",
        "        \n",
        "        # Forward propagation\n",
        "        outputs = model(train)\n",
        "        \n",
        "        # Calculate softmax and cross entropy loss\n",
        "        loss = error(outputs, labels)\n",
        "        \n",
        "        # Calculate gradients\n",
        "        loss.backward()\n",
        "        \n",
        "        # Update parameters\n",
        "        optimizer.step()\n",
        "        \n",
        "        count += 1\n",
        "        \n",
        "        # Prediction\n",
        "        if count % 50 == 0:\n",
        "            # Calculate Accuracy         \n",
        "            correct = 0\n",
        "            total = 0\n",
        "            # Predict test dataset\n",
        "            for images, labels in test_loader: \n",
        "                test = Variable(images.view(-1, 28*28))\n",
        "                \n",
        "                # Forward propagation\n",
        "                outputs = model(test)\n",
        "                \n",
        "                # Get predictions from the maximum value\n",
        "                predicted = torch.max(outputs.data, 1)[1]\n",
        "                \n",
        "                # Total number of labels\n",
        "                total += len(labels)\n",
        "                \n",
        "                # Total correct predictions\n",
        "                correct += (predicted == labels).sum()\n",
        "            \n",
        "            accuracy = 100 * correct / float(total)\n",
        "            \n",
        "            # store loss and iteration\n",
        "            loss_list.append(loss.data)\n",
        "            iteration_list.append(count)\n",
        "        if count % 500 == 0:\n",
        "            # Print Loss\n",
        "            print('Iteration: {}  Loss: {}  Accuracy: {}%'.format(count, loss.data, accuracy))"
      ],
      "execution_count": null,
      "outputs": [
        {
          "output_type": "stream",
          "text": [
            "Iteration: 500  Loss: 0.06558701395988464  Accuracy: 96.29762268066406%\n",
            "Iteration: 1000  Loss: 0.03357722610235214  Accuracy: 96.52381134033203%\n",
            "Iteration: 1500  Loss: 0.025779414921998978  Accuracy: 96.52381134033203%\n",
            "Iteration: 2000  Loss: 0.056707873940467834  Accuracy: 96.48809814453125%\n",
            "Iteration: 2500  Loss: 0.06658922880887985  Accuracy: 96.67857360839844%\n",
            "Iteration: 3000  Loss: 0.019078457728028297  Accuracy: 96.72618865966797%\n",
            "Iteration: 3500  Loss: 0.044243354350328445  Accuracy: 96.78571319580078%\n",
            "Iteration: 4000  Loss: 0.009329624474048615  Accuracy: 96.96428680419922%\n",
            "Iteration: 4500  Loss: 0.036622341722249985  Accuracy: 96.79762268066406%\n",
            "Iteration: 5000  Loss: 0.02065420150756836  Accuracy: 96.95237731933594%\n",
            "Iteration: 5500  Loss: 0.0539683923125267  Accuracy: 96.71428680419922%\n",
            "Iteration: 6000  Loss: 0.021009664982557297  Accuracy: 96.95237731933594%\n",
            "Iteration: 6500  Loss: 0.04387672245502472  Accuracy: 96.97618865966797%\n",
            "Iteration: 7000  Loss: 0.020674025639891624  Accuracy: 96.98809814453125%\n",
            "Iteration: 7500  Loss: 0.017717953771352768  Accuracy: 96.95237731933594%\n",
            "Iteration: 8000  Loss: 0.1189211905002594  Accuracy: 96.94047546386719%\n",
            "Iteration: 8500  Loss: 0.008599955588579178  Accuracy: 96.91666412353516%\n",
            "Iteration: 9000  Loss: 0.013275938108563423  Accuracy: 97.02381134033203%\n",
            "Iteration: 9500  Loss: 0.00553975161164999  Accuracy: 97.04762268066406%\n"
          ],
          "name": "stdout"
        }
      ]
    },
    {
      "cell_type": "code",
      "metadata": {
        "execution": {
          "iopub.status.busy": "2021-07-03T08:40:45.703369Z",
          "iopub.execute_input": "2021-07-03T08:40:45.703720Z",
          "iopub.status.idle": "2021-07-03T08:40:45.712186Z",
          "shell.execute_reply.started": "2021-07-03T08:40:45.703690Z",
          "shell.execute_reply": "2021-07-03T08:40:45.711189Z"
        },
        "trusted": true,
        "id": "-mKvO1wDqMbW",
        "outputId": "378a8f63-71ed-4417-8ee8-f7d0cd0e552d"
      },
      "source": [
        "torch.max(outputs, 1)[1]"
      ],
      "execution_count": null,
      "outputs": [
        {
          "output_type": "execute_result",
          "data": {
            "text/plain": [
              "tensor([1, 2, 3, 5, 4, 3, 3, 9, 0, 1, 3, 9, 5, 8, 9, 4, 2, 1, 0, 9, 7, 6, 0, 6,\n",
              "        7, 0, 0, 5, 8, 8, 1, 1, 5, 6, 9, 6, 8, 9, 7, 8, 1, 3, 8, 7, 6, 6, 2, 0,\n",
              "        9, 5, 1, 7, 5, 2, 7, 0, 2, 2, 2, 5, 2, 5, 5, 6, 7, 6, 6, 1, 0, 1, 1, 4,\n",
              "        9, 6, 5, 1, 6, 1, 1, 0, 1, 1, 7, 4, 7, 0, 1, 7, 2, 2, 1, 7, 7, 3, 2, 9,\n",
              "        9, 2, 6, 0])"
            ]
          },
          "metadata": {
            "tags": []
          },
          "execution_count": 126
        }
      ]
    },
    {
      "cell_type": "code",
      "metadata": {
        "execution": {
          "iopub.status.busy": "2021-07-03T09:02:55.905486Z",
          "iopub.execute_input": "2021-07-03T09:02:55.905848Z",
          "iopub.status.idle": "2021-07-03T09:02:55.925049Z",
          "shell.execute_reply.started": "2021-07-03T09:02:55.905817Z",
          "shell.execute_reply": "2021-07-03T09:02:55.923986Z"
        },
        "trusted": true,
        "id": "I3sNbfuZqMbW",
        "outputId": "47b93f87-1d3d-4780-91a8-a52f96f5e601"
      },
      "source": [
        "class CNNModel(nn.Module):\n",
        "    def __init__(self):\n",
        "        super(CNNModel, self).__init__()\n",
        "        \n",
        "        self.cnn1 = nn.Conv2d(in_channels=1, out_channels=16, kernel_size=5, stride=1, padding=0)\n",
        "        self.relu1 = nn.ReLU()\n",
        "        \n",
        "        self.maxpool1 = nn.MaxPool2d(kernel_size=2)\n",
        "        \n",
        "        self.cnn2 = nn.Conv2d(in_channels=16, out_channels=32, kernel_size=5, stride=1, padding=0)\n",
        "        self.relu2 = nn.ReLU()\n",
        "        \n",
        "        self.maxpool2 = nn.MaxPool2d(kernel_size=2)\n",
        "        \n",
        "        self.fc1 = nn.Linear(32*4*4, 10)\n",
        "    \n",
        "    def forward(self, x):\n",
        "        \n",
        "        out=self.cnn1(x)\n",
        "        out=self.relu1(out)\n",
        "        \n",
        "        out=self.maxpool1(out)\n",
        "        \n",
        "        out=self.cnn2(out)\n",
        "        out=self.relu2(out)\n",
        "        \n",
        "        out=self.maxpool2(out)\n",
        "        \n",
        "        out=out.view(out.size(0), -1)\n",
        "        \n",
        "        out=self.fc1(out)\n",
        "        \n",
        "        return out\n",
        "\n",
        "batch_size=100\n",
        "n_iters=2500\n",
        "num_epochs = n_iters / (len(features_train)/batch_size)\n",
        "num_epochs = int(num_epochs)\n",
        "\n",
        "train = torch.utils.data.TensorDataset(featuresTrain, targetsTrain)\n",
        "test = torch.utils.data.TensorDataset(featuresTest, targetsTest)\n",
        "\n",
        "train_loader = torch.utils.data.DataLoader(train, batch_size=batch_size, shuffle=False)\n",
        "test_loader = torch.utils.data.DataLoader(test, batch_size=batch_size, shuffle=False)\n",
        "\n",
        "model=CNNModel()\n",
        "\n",
        "error = nn.CrossEntropyLoss()\n",
        "\n",
        "learning_rate=0.1\n",
        "optimizer=torch.optim.SGD(model.parameters(), lr=learning_rate)\n",
        "print(model)"
      ],
      "execution_count": null,
      "outputs": [
        {
          "output_type": "stream",
          "text": [
            "CNNModel(\n",
            "  (cnn1): Conv2d(1, 16, kernel_size=(5, 5), stride=(1, 1))\n",
            "  (relu1): ReLU()\n",
            "  (maxpool1): MaxPool2d(kernel_size=2, stride=2, padding=0, dilation=1, ceil_mode=False)\n",
            "  (cnn2): Conv2d(16, 32, kernel_size=(5, 5), stride=(1, 1))\n",
            "  (relu2): ReLU()\n",
            "  (maxpool2): MaxPool2d(kernel_size=2, stride=2, padding=0, dilation=1, ceil_mode=False)\n",
            "  (fc1): Linear(in_features=512, out_features=10, bias=True)\n",
            ")\n"
          ],
          "name": "stdout"
        }
      ]
    },
    {
      "cell_type": "code",
      "metadata": {
        "execution": {
          "iopub.status.busy": "2021-07-03T09:14:50.905348Z",
          "iopub.execute_input": "2021-07-03T09:14:50.905744Z",
          "iopub.status.idle": "2021-07-03T09:14:50.913873Z",
          "shell.execute_reply.started": "2021-07-03T09:14:50.905714Z",
          "shell.execute_reply": "2021-07-03T09:14:50.912380Z"
        },
        "trusted": true,
        "id": "IIO0zgscqMbW",
        "outputId": "4b4d56a6-499d-44fb-d32f-7d373f02e35c"
      },
      "source": [
        "for images, labels in train_loader:\n",
        "    print(images.size(), labels.size())\n",
        "    break"
      ],
      "execution_count": null,
      "outputs": [
        {
          "output_type": "stream",
          "text": [
            "torch.Size([100, 784]) torch.Size([100])\n"
          ],
          "name": "stdout"
        }
      ]
    },
    {
      "cell_type": "code",
      "metadata": {
        "execution": {
          "iopub.status.busy": "2021-07-03T09:04:15.965620Z",
          "iopub.execute_input": "2021-07-03T09:04:15.966006Z",
          "iopub.status.idle": "2021-07-03T09:05:26.251418Z",
          "shell.execute_reply.started": "2021-07-03T09:04:15.965975Z",
          "shell.execute_reply": "2021-07-03T09:05:26.250362Z"
        },
        "trusted": true,
        "id": "O-hj_VgGqMbX",
        "outputId": "58cba503-b433-4bf7-d755-c64eaf60d87b"
      },
      "source": [
        "device = 'cuda:0' if torch.cuda.is_available() else 'cpu'\n",
        "count = 0\n",
        "loss_list = []\n",
        "iteration_list = []\n",
        "for epoch in range(num_epochs):\n",
        "    for i, (images, labels) in enumerate(train_loader):\n",
        "        train = Variable(images.view(100, 1, 28, 28))\n",
        "        labels = Variable(labels)\n",
        "        \n",
        "        # Clear gradients\n",
        "        optimizer.zero_grad()\n",
        "        \n",
        "        # Forward propagation\n",
        "        outputs = model(train)\n",
        "        \n",
        "        # Calculate softmax and cross entropy loss\n",
        "        loss = error(outputs, labels)\n",
        "        \n",
        "        # Calculate gradients\n",
        "        loss.backward()\n",
        "        \n",
        "        # Update parameters\n",
        "        optimizer.step()\n",
        "        \n",
        "        count += 1\n",
        "        \n",
        "        # Prediction\n",
        "        if count % 50 == 0:\n",
        "            # Calculate Accuracy         \n",
        "            correct = 0\n",
        "            total = 0\n",
        "            # Predict test dataset\n",
        "            for images, labels in test_loader: \n",
        "                test = Variable(images.view(100, 1, 28, 28))\n",
        "                \n",
        "                # Forward propagation\n",
        "                outputs = model(test)\n",
        "                \n",
        "                # Get predictions from the maximum value\n",
        "                predicted = torch.max(outputs.data, 1)[1]\n",
        "                \n",
        "                # Total number of labels\n",
        "                total += len(labels)\n",
        "                \n",
        "                # Total correct predictions\n",
        "                correct += (predicted == labels).sum()\n",
        "            \n",
        "            accuracy = 100 * correct / float(total)\n",
        "            \n",
        "            # store loss and iteration\n",
        "            loss_list.append(loss.data)\n",
        "            iteration_list.append(count)\n",
        "        if count % 500 == 0:\n",
        "            # Print Loss\n",
        "            print('Iteration: {}  Loss: {}  Accuracy: {}%'.format(count, loss.data, accuracy))"
      ],
      "execution_count": null,
      "outputs": [
        {
          "output_type": "stream",
          "text": [
            "Iteration: 500  Loss: 0.09633925557136536  Accuracy: 96.5952377319336%\n",
            "Iteration: 1000  Loss: 0.04455050453543663  Accuracy: 97.64286041259766%\n",
            "Iteration: 1500  Loss: 0.035635627806186676  Accuracy: 97.94047546386719%\n",
            "Iteration: 2000  Loss: 0.014624148607254028  Accuracy: 98.30952453613281%\n"
          ],
          "name": "stdout"
        }
      ]
    }
  ]
}