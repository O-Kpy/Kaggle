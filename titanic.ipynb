{
  "nbformat": 4,
  "nbformat_minor": 0,
  "metadata": {
    "colab": {
      "name": "titanic.ipynb",
      "provenance": [],
      "collapsed_sections": [],
      "mount_file_id": "1V75o3sy9ClMxvQEAMVAbIW3jCfFsr2v2",
      "authorship_tag": "ABX9TyPyjlNH3kDW2DwiLAiP19mb",
      "include_colab_link": true
    },
    "kernelspec": {
      "name": "python3",
      "display_name": "Python 3"
    }
  },
  "cells": [
    {
      "cell_type": "markdown",
      "metadata": {
        "id": "view-in-github",
        "colab_type": "text"
      },
      "source": [
        "<a href=\"https://colab.research.google.com/github/O-Kpy/Kaggle/blob/main/titanic.ipynb\" target=\"_parent\"><img src=\"https://colab.research.google.com/assets/colab-badge.svg\" alt=\"Open In Colab\"/></a>"
      ]
    },
    {
      "cell_type": "code",
      "metadata": {
        "colab": {
          "base_uri": "https://localhost:8080/",
          "height": 17
        },
        "id": "AEU8syKYzHc_",
        "outputId": "00835ddf-8687-461f-9ac1-5ca96fe23dd8"
      },
      "source": [
        "import pandas as pd\n",
        "import numpy as np\n",
        "import re\n",
        "import sklearn\n",
        "import xgboost as xgb\n",
        "import seaborn as sns\n",
        "import matplotlib.pyplot as plt\n",
        "%matplotlib inline\n",
        "\n",
        "import plotly.offline as py\n",
        "py.init_notebook_mode(connected=True)\n",
        "import plotly.graph_objs as go\n",
        "import plotly.tools as tls\n",
        "\n",
        "import warnings\n",
        "warnings.filterwarnings('ignore')\n",
        "from sklearn.ensemble import (RandomForestClassifier, AdaBoostClassifier, GradientBoostingClassifier, ExtraTreesClassifier)\n",
        "from sklearn.svm import SVC\n",
        "from sklearn.model_selection import KFold"
      ],
      "execution_count": null,
      "outputs": [
        {
          "output_type": "display_data",
          "data": {
            "text/html": [
              "        <script type=\"text/javascript\">\n",
              "        window.PlotlyConfig = {MathJaxConfig: 'local'};\n",
              "        if (window.MathJax) {MathJax.Hub.Config({SVG: {font: \"STIX-Web\"}});}\n",
              "        if (typeof require !== 'undefined') {\n",
              "        require.undef(\"plotly\");\n",
              "        requirejs.config({\n",
              "            paths: {\n",
              "                'plotly': ['https://cdn.plot.ly/plotly-latest.min']\n",
              "            }\n",
              "        });\n",
              "        require(['plotly'], function(Plotly) {\n",
              "            window._Plotly = Plotly;\n",
              "        });\n",
              "        }\n",
              "        </script>\n",
              "        "
            ]
          },
          "metadata": {
            "tags": []
          }
        }
      ]
    },
    {
      "cell_type": "code",
      "metadata": {
        "id": "Fjm0-_kz_HjK"
      },
      "source": [
        "train = pd.read_csv('/content/drive/MyDrive/train.csv')\n",
        "test = pd.read_csv('/content/drive/MyDrive/test.csv')\n",
        "\n",
        "PassengerId = test['PassengerId']"
      ],
      "execution_count": null,
      "outputs": []
    },
    {
      "cell_type": "code",
      "metadata": {
        "id": "bnYJVg02_Hla",
        "colab": {
          "base_uri": "https://localhost:8080/"
        },
        "outputId": "ef1e888f-c12b-4053-af23-4b070117554b"
      },
      "source": [
        "test.isnull().sum()"
      ],
      "execution_count": null,
      "outputs": [
        {
          "output_type": "execute_result",
          "data": {
            "text/plain": [
              "PassengerId      0\n",
              "Pclass           0\n",
              "Name             0\n",
              "Sex              0\n",
              "Age             86\n",
              "SibSp            0\n",
              "Parch            0\n",
              "Ticket           0\n",
              "Fare             1\n",
              "Cabin          327\n",
              "Embarked         0\n",
              "dtype: int64"
            ]
          },
          "metadata": {
            "tags": []
          },
          "execution_count": 150
        }
      ]
    },
    {
      "cell_type": "code",
      "metadata": {
        "colab": {
          "base_uri": "https://localhost:8080/"
        },
        "id": "Q9LEWOVkAkVn",
        "outputId": "a0bda421-9cee-4909-e067-c5e47920659c"
      },
      "source": [
        "import pandas as pd\n",
        "tup_data = ('영인', '2010-05-01', '여', True)\n",
        "sr = pd.Series(tup_data, index=['이름', '생년월일', '성별', '학생여부'])\n",
        "print(sr[[1,2]]) ## [[]]로 인덱싱하면 짝을 이루는 원소데이터 모두를 반환한다.\n",
        "print(sr[['생년월일', '성별']])"
      ],
      "execution_count": null,
      "outputs": [
        {
          "output_type": "stream",
          "text": [
            "생년월일    2010-05-01\n",
            "성별               여\n",
            "dtype: object\n",
            "생년월일    2010-05-01\n",
            "성별               여\n",
            "dtype: object\n"
          ],
          "name": "stdout"
        }
      ]
    },
    {
      "cell_type": "code",
      "metadata": {
        "id": "_kcJxGMX_Hnm"
      },
      "source": [
        "fd=[train, test]"
      ],
      "execution_count": null,
      "outputs": []
    },
    {
      "cell_type": "code",
      "metadata": {
        "id": "fLcqBboHRbvs"
      },
      "source": [
        "fd=[train, test]"
      ],
      "execution_count": null,
      "outputs": []
    },
    {
      "cell_type": "code",
      "metadata": {
        "id": "SzpbJYbK_HqA"
      },
      "source": [
        "train['Name_length'] = train['Name'].apply(len) \n",
        "test['Name_length'] = test['Name'].apply(len) "
      ],
      "execution_count": null,
      "outputs": []
    },
    {
      "cell_type": "code",
      "metadata": {
        "id": "I7389mULReev"
      },
      "source": [
        "train['Name_length'] = train['Name'].apply(len)\n",
        "test['Name_length'] = test['Name'].apply(len)"
      ],
      "execution_count": null,
      "outputs": []
    },
    {
      "cell_type": "code",
      "metadata": {
        "id": "9wcfDbOk_HsP"
      },
      "source": [
        "train['Has_Cabin'] = train['Cabin'].apply(lambda x: 0 if type(x) == float else 1)\n",
        "test['Has_Cabin'] = test['Cabin'].apply(lambda x: 0 if type(x) == float else 1)"
      ],
      "execution_count": null,
      "outputs": []
    },
    {
      "cell_type": "code",
      "metadata": {
        "id": "DpkMw2f8R8kQ"
      },
      "source": [
        "train['Has_Cabin'] = train['Cabin'].apply(lambda x: 0 if type(x) == float else 1)\n",
        "test['Has_Cabin'] = test['Cabin'].apply(lambda x: 0 if type(x) == float else 1)"
      ],
      "execution_count": null,
      "outputs": []
    },
    {
      "cell_type": "code",
      "metadata": {
        "id": "6-bNrwWaB4xR"
      },
      "source": [
        "for dataset in fd:\n",
        "  dataset['Family_size'] = dataset['SibSp'] + dataset['Parch'] + 1"
      ],
      "execution_count": null,
      "outputs": []
    },
    {
      "cell_type": "code",
      "metadata": {
        "id": "GcHOSMD6SQmg"
      },
      "source": [
        "for dataset in fd:\n",
        "  dataset['Family_size'] = dataset['SibSp'] + dataset['Parch'] + 1"
      ],
      "execution_count": null,
      "outputs": []
    },
    {
      "cell_type": "code",
      "metadata": {
        "id": "RQBhbfYAB4z5"
      },
      "source": [
        "for dataset in fd:\n",
        "  dataset['IsAlone'] = 0\n",
        "  dataset.loc[dataset['Family_size']==1, 'IsAlone'] = 1"
      ],
      "execution_count": null,
      "outputs": []
    },
    {
      "cell_type": "code",
      "metadata": {
        "id": "zoSw18hgSZYw"
      },
      "source": [
        "for dataset in fd:\n",
        "  dataset['IsAlone'] = 0\n",
        "  dataset.loc[dataset['Family_size']==1, 'IsAlone'] = 1"
      ],
      "execution_count": null,
      "outputs": []
    },
    {
      "cell_type": "code",
      "metadata": {
        "id": "F5opipPHB42N"
      },
      "source": [
        "## 결측치 채우기"
      ],
      "execution_count": null,
      "outputs": []
    },
    {
      "cell_type": "code",
      "metadata": {
        "colab": {
          "base_uri": "https://localhost:8080/"
        },
        "id": "WP7fMK9KDbYE",
        "outputId": "48266f22-1d34-4b0b-ec54-af15b3342f5a"
      },
      "source": [
        "train.isnull().sum()"
      ],
      "execution_count": null,
      "outputs": [
        {
          "output_type": "execute_result",
          "data": {
            "text/plain": [
              "PassengerId      0\n",
              "Survived         0\n",
              "Pclass           0\n",
              "Name             0\n",
              "Sex              0\n",
              "Age              0\n",
              "SibSp            0\n",
              "Parch            0\n",
              "Ticket           0\n",
              "Fare             0\n",
              "Cabin          687\n",
              "Embarked         0\n",
              "Name_length      0\n",
              "Has_Cabin        0\n",
              "Family_size      0\n",
              "IsAlone          0\n",
              "Fare_cut         0\n",
              "Age_cut          0\n",
              "Title            0\n",
              "dtype: int64"
            ]
          },
          "metadata": {
            "tags": []
          },
          "execution_count": 167
        }
      ]
    },
    {
      "cell_type": "code",
      "metadata": {
        "colab": {
          "base_uri": "https://localhost:8080/"
        },
        "id": "suD3Cy9kFU49",
        "outputId": "dccf4b1c-79c7-403f-d248-1937de7130cb"
      },
      "source": [
        "test.isnull().sum()"
      ],
      "execution_count": null,
      "outputs": [
        {
          "output_type": "execute_result",
          "data": {
            "text/plain": [
              "PassengerId      0\n",
              "Pclass           0\n",
              "Name             0\n",
              "Sex              0\n",
              "Age              0\n",
              "SibSp            0\n",
              "Parch            0\n",
              "Ticket           0\n",
              "Fare             0\n",
              "Cabin          327\n",
              "Embarked         0\n",
              "Name_length      0\n",
              "Has_Cabin        0\n",
              "Family_size      0\n",
              "IsAlone          0\n",
              "Title            0\n",
              "dtype: int64"
            ]
          },
          "metadata": {
            "tags": []
          },
          "execution_count": 166
        }
      ]
    },
    {
      "cell_type": "code",
      "metadata": {
        "colab": {
          "base_uri": "https://localhost:8080/",
          "height": 106
        },
        "id": "mz-XRqMKD2f2",
        "outputId": "0475c8e6-f48d-4dca-db2c-7dc2e8d5fe25"
      },
      "source": [
        "train[train['Embarked'].isnull()]"
      ],
      "execution_count": null,
      "outputs": [
        {
          "output_type": "execute_result",
          "data": {
            "text/html": [
              "<div>\n",
              "<style scoped>\n",
              "    .dataframe tbody tr th:only-of-type {\n",
              "        vertical-align: middle;\n",
              "    }\n",
              "\n",
              "    .dataframe tbody tr th {\n",
              "        vertical-align: top;\n",
              "    }\n",
              "\n",
              "    .dataframe thead th {\n",
              "        text-align: right;\n",
              "    }\n",
              "</style>\n",
              "<table border=\"1\" class=\"dataframe\">\n",
              "  <thead>\n",
              "    <tr style=\"text-align: right;\">\n",
              "      <th></th>\n",
              "      <th>PassengerId</th>\n",
              "      <th>Survived</th>\n",
              "      <th>Pclass</th>\n",
              "      <th>Name</th>\n",
              "      <th>Sex</th>\n",
              "      <th>Age</th>\n",
              "      <th>SibSp</th>\n",
              "      <th>Parch</th>\n",
              "      <th>Ticket</th>\n",
              "      <th>Fare</th>\n",
              "      <th>Cabin</th>\n",
              "      <th>Embarked</th>\n",
              "      <th>Name_length</th>\n",
              "      <th>Has_Cabin</th>\n",
              "      <th>Family_size</th>\n",
              "      <th>IsAlone</th>\n",
              "    </tr>\n",
              "  </thead>\n",
              "  <tbody>\n",
              "    <tr>\n",
              "      <th>61</th>\n",
              "      <td>62</td>\n",
              "      <td>1</td>\n",
              "      <td>1</td>\n",
              "      <td>Icard, Miss. Amelie</td>\n",
              "      <td>female</td>\n",
              "      <td>38.0</td>\n",
              "      <td>0</td>\n",
              "      <td>0</td>\n",
              "      <td>113572</td>\n",
              "      <td>80.0</td>\n",
              "      <td>B28</td>\n",
              "      <td>NaN</td>\n",
              "      <td>19</td>\n",
              "      <td>1</td>\n",
              "      <td>1</td>\n",
              "      <td>1</td>\n",
              "    </tr>\n",
              "    <tr>\n",
              "      <th>829</th>\n",
              "      <td>830</td>\n",
              "      <td>1</td>\n",
              "      <td>1</td>\n",
              "      <td>Stone, Mrs. George Nelson (Martha Evelyn)</td>\n",
              "      <td>female</td>\n",
              "      <td>62.0</td>\n",
              "      <td>0</td>\n",
              "      <td>0</td>\n",
              "      <td>113572</td>\n",
              "      <td>80.0</td>\n",
              "      <td>B28</td>\n",
              "      <td>NaN</td>\n",
              "      <td>41</td>\n",
              "      <td>1</td>\n",
              "      <td>1</td>\n",
              "      <td>1</td>\n",
              "    </tr>\n",
              "  </tbody>\n",
              "</table>\n",
              "</div>"
            ],
            "text/plain": [
              "     PassengerId  Survived  Pclass  ... Has_Cabin Family_size  IsAlone\n",
              "61            62         1       1  ...         1           1        1\n",
              "829          830         1       1  ...         1           1        1\n",
              "\n",
              "[2 rows x 16 columns]"
            ]
          },
          "metadata": {
            "tags": []
          },
          "execution_count": 15
        }
      ]
    },
    {
      "cell_type": "code",
      "metadata": {
        "colab": {
          "base_uri": "https://localhost:8080/",
          "height": 546
        },
        "id": "kItdXX-VS2YF",
        "outputId": "9cc8e211-d067-46b0-fb3d-50dc825253df"
      },
      "source": [
        "train[(train['Fare']>78)&(train['Fare']<82)&(train['Pclass']==1)]"
      ],
      "execution_count": null,
      "outputs": [
        {
          "output_type": "execute_result",
          "data": {
            "text/html": [
              "<div>\n",
              "<style scoped>\n",
              "    .dataframe tbody tr th:only-of-type {\n",
              "        vertical-align: middle;\n",
              "    }\n",
              "\n",
              "    .dataframe tbody tr th {\n",
              "        vertical-align: top;\n",
              "    }\n",
              "\n",
              "    .dataframe thead th {\n",
              "        text-align: right;\n",
              "    }\n",
              "</style>\n",
              "<table border=\"1\" class=\"dataframe\">\n",
              "  <thead>\n",
              "    <tr style=\"text-align: right;\">\n",
              "      <th></th>\n",
              "      <th>PassengerId</th>\n",
              "      <th>Survived</th>\n",
              "      <th>Pclass</th>\n",
              "      <th>Name</th>\n",
              "      <th>Sex</th>\n",
              "      <th>Age</th>\n",
              "      <th>SibSp</th>\n",
              "      <th>Parch</th>\n",
              "      <th>Ticket</th>\n",
              "      <th>Fare</th>\n",
              "      <th>Cabin</th>\n",
              "      <th>Embarked</th>\n",
              "      <th>Name_length</th>\n",
              "      <th>Has_Cabin</th>\n",
              "      <th>Family_size</th>\n",
              "      <th>IsAlone</th>\n",
              "    </tr>\n",
              "  </thead>\n",
              "  <tbody>\n",
              "    <tr>\n",
              "      <th>61</th>\n",
              "      <td>62</td>\n",
              "      <td>1</td>\n",
              "      <td>1</td>\n",
              "      <td>Icard, Miss. Amelie</td>\n",
              "      <td>female</td>\n",
              "      <td>38.0</td>\n",
              "      <td>0</td>\n",
              "      <td>0</td>\n",
              "      <td>113572</td>\n",
              "      <td>80.0000</td>\n",
              "      <td>B28</td>\n",
              "      <td>NaN</td>\n",
              "      <td>19</td>\n",
              "      <td>1</td>\n",
              "      <td>1</td>\n",
              "      <td>1</td>\n",
              "    </tr>\n",
              "    <tr>\n",
              "      <th>139</th>\n",
              "      <td>140</td>\n",
              "      <td>0</td>\n",
              "      <td>1</td>\n",
              "      <td>Giglio, Mr. Victor</td>\n",
              "      <td>male</td>\n",
              "      <td>24.0</td>\n",
              "      <td>0</td>\n",
              "      <td>0</td>\n",
              "      <td>PC 17593</td>\n",
              "      <td>79.2000</td>\n",
              "      <td>B86</td>\n",
              "      <td>C</td>\n",
              "      <td>18</td>\n",
              "      <td>1</td>\n",
              "      <td>1</td>\n",
              "      <td>1</td>\n",
              "    </tr>\n",
              "    <tr>\n",
              "      <th>256</th>\n",
              "      <td>257</td>\n",
              "      <td>1</td>\n",
              "      <td>1</td>\n",
              "      <td>Thorne, Mrs. Gertrude Maybelle</td>\n",
              "      <td>female</td>\n",
              "      <td>NaN</td>\n",
              "      <td>0</td>\n",
              "      <td>0</td>\n",
              "      <td>PC 17585</td>\n",
              "      <td>79.2000</td>\n",
              "      <td>NaN</td>\n",
              "      <td>C</td>\n",
              "      <td>30</td>\n",
              "      <td>0</td>\n",
              "      <td>1</td>\n",
              "      <td>1</td>\n",
              "    </tr>\n",
              "    <tr>\n",
              "      <th>262</th>\n",
              "      <td>263</td>\n",
              "      <td>0</td>\n",
              "      <td>1</td>\n",
              "      <td>Taussig, Mr. Emil</td>\n",
              "      <td>male</td>\n",
              "      <td>52.0</td>\n",
              "      <td>1</td>\n",
              "      <td>1</td>\n",
              "      <td>110413</td>\n",
              "      <td>79.6500</td>\n",
              "      <td>E67</td>\n",
              "      <td>S</td>\n",
              "      <td>17</td>\n",
              "      <td>1</td>\n",
              "      <td>3</td>\n",
              "      <td>0</td>\n",
              "    </tr>\n",
              "    <tr>\n",
              "      <th>290</th>\n",
              "      <td>291</td>\n",
              "      <td>1</td>\n",
              "      <td>1</td>\n",
              "      <td>Barber, Miss. Ellen \"Nellie\"</td>\n",
              "      <td>female</td>\n",
              "      <td>26.0</td>\n",
              "      <td>0</td>\n",
              "      <td>0</td>\n",
              "      <td>19877</td>\n",
              "      <td>78.8500</td>\n",
              "      <td>NaN</td>\n",
              "      <td>S</td>\n",
              "      <td>28</td>\n",
              "      <td>0</td>\n",
              "      <td>1</td>\n",
              "      <td>1</td>\n",
              "    </tr>\n",
              "    <tr>\n",
              "      <th>445</th>\n",
              "      <td>446</td>\n",
              "      <td>1</td>\n",
              "      <td>1</td>\n",
              "      <td>Dodge, Master. Washington</td>\n",
              "      <td>male</td>\n",
              "      <td>4.0</td>\n",
              "      <td>0</td>\n",
              "      <td>2</td>\n",
              "      <td>33638</td>\n",
              "      <td>81.8583</td>\n",
              "      <td>A34</td>\n",
              "      <td>S</td>\n",
              "      <td>25</td>\n",
              "      <td>1</td>\n",
              "      <td>3</td>\n",
              "      <td>0</td>\n",
              "    </tr>\n",
              "    <tr>\n",
              "      <th>496</th>\n",
              "      <td>497</td>\n",
              "      <td>1</td>\n",
              "      <td>1</td>\n",
              "      <td>Eustis, Miss. Elizabeth Mussey</td>\n",
              "      <td>female</td>\n",
              "      <td>54.0</td>\n",
              "      <td>1</td>\n",
              "      <td>0</td>\n",
              "      <td>36947</td>\n",
              "      <td>78.2667</td>\n",
              "      <td>D20</td>\n",
              "      <td>C</td>\n",
              "      <td>30</td>\n",
              "      <td>1</td>\n",
              "      <td>2</td>\n",
              "      <td>0</td>\n",
              "    </tr>\n",
              "    <tr>\n",
              "      <th>558</th>\n",
              "      <td>559</td>\n",
              "      <td>1</td>\n",
              "      <td>1</td>\n",
              "      <td>Taussig, Mrs. Emil (Tillie Mandelbaum)</td>\n",
              "      <td>female</td>\n",
              "      <td>39.0</td>\n",
              "      <td>1</td>\n",
              "      <td>1</td>\n",
              "      <td>110413</td>\n",
              "      <td>79.6500</td>\n",
              "      <td>E67</td>\n",
              "      <td>S</td>\n",
              "      <td>38</td>\n",
              "      <td>1</td>\n",
              "      <td>3</td>\n",
              "      <td>0</td>\n",
              "    </tr>\n",
              "    <tr>\n",
              "      <th>585</th>\n",
              "      <td>586</td>\n",
              "      <td>1</td>\n",
              "      <td>1</td>\n",
              "      <td>Taussig, Miss. Ruth</td>\n",
              "      <td>female</td>\n",
              "      <td>18.0</td>\n",
              "      <td>0</td>\n",
              "      <td>2</td>\n",
              "      <td>110413</td>\n",
              "      <td>79.6500</td>\n",
              "      <td>E68</td>\n",
              "      <td>S</td>\n",
              "      <td>19</td>\n",
              "      <td>1</td>\n",
              "      <td>3</td>\n",
              "      <td>0</td>\n",
              "    </tr>\n",
              "    <tr>\n",
              "      <th>587</th>\n",
              "      <td>588</td>\n",
              "      <td>1</td>\n",
              "      <td>1</td>\n",
              "      <td>Frolicher-Stehli, Mr. Maxmillian</td>\n",
              "      <td>male</td>\n",
              "      <td>60.0</td>\n",
              "      <td>1</td>\n",
              "      <td>1</td>\n",
              "      <td>13567</td>\n",
              "      <td>79.2000</td>\n",
              "      <td>B41</td>\n",
              "      <td>C</td>\n",
              "      <td>32</td>\n",
              "      <td>1</td>\n",
              "      <td>3</td>\n",
              "      <td>0</td>\n",
              "    </tr>\n",
              "    <tr>\n",
              "      <th>591</th>\n",
              "      <td>592</td>\n",
              "      <td>1</td>\n",
              "      <td>1</td>\n",
              "      <td>Stephenson, Mrs. Walter Bertram (Martha Eustis)</td>\n",
              "      <td>female</td>\n",
              "      <td>52.0</td>\n",
              "      <td>1</td>\n",
              "      <td>0</td>\n",
              "      <td>36947</td>\n",
              "      <td>78.2667</td>\n",
              "      <td>D20</td>\n",
              "      <td>C</td>\n",
              "      <td>47</td>\n",
              "      <td>1</td>\n",
              "      <td>2</td>\n",
              "      <td>0</td>\n",
              "    </tr>\n",
              "    <tr>\n",
              "      <th>741</th>\n",
              "      <td>742</td>\n",
              "      <td>0</td>\n",
              "      <td>1</td>\n",
              "      <td>Cavendish, Mr. Tyrell William</td>\n",
              "      <td>male</td>\n",
              "      <td>36.0</td>\n",
              "      <td>1</td>\n",
              "      <td>0</td>\n",
              "      <td>19877</td>\n",
              "      <td>78.8500</td>\n",
              "      <td>C46</td>\n",
              "      <td>S</td>\n",
              "      <td>29</td>\n",
              "      <td>1</td>\n",
              "      <td>2</td>\n",
              "      <td>0</td>\n",
              "    </tr>\n",
              "    <tr>\n",
              "      <th>789</th>\n",
              "      <td>790</td>\n",
              "      <td>0</td>\n",
              "      <td>1</td>\n",
              "      <td>Guggenheim, Mr. Benjamin</td>\n",
              "      <td>male</td>\n",
              "      <td>46.0</td>\n",
              "      <td>0</td>\n",
              "      <td>0</td>\n",
              "      <td>PC 17593</td>\n",
              "      <td>79.2000</td>\n",
              "      <td>B82 B84</td>\n",
              "      <td>C</td>\n",
              "      <td>24</td>\n",
              "      <td>1</td>\n",
              "      <td>1</td>\n",
              "      <td>1</td>\n",
              "    </tr>\n",
              "    <tr>\n",
              "      <th>829</th>\n",
              "      <td>830</td>\n",
              "      <td>1</td>\n",
              "      <td>1</td>\n",
              "      <td>Stone, Mrs. George Nelson (Martha Evelyn)</td>\n",
              "      <td>female</td>\n",
              "      <td>62.0</td>\n",
              "      <td>0</td>\n",
              "      <td>0</td>\n",
              "      <td>113572</td>\n",
              "      <td>80.0000</td>\n",
              "      <td>B28</td>\n",
              "      <td>NaN</td>\n",
              "      <td>41</td>\n",
              "      <td>1</td>\n",
              "      <td>1</td>\n",
              "      <td>1</td>\n",
              "    </tr>\n",
              "  </tbody>\n",
              "</table>\n",
              "</div>"
            ],
            "text/plain": [
              "     PassengerId  Survived  Pclass  ... Has_Cabin Family_size  IsAlone\n",
              "61            62         1       1  ...         1           1        1\n",
              "139          140         0       1  ...         1           1        1\n",
              "256          257         1       1  ...         0           1        1\n",
              "262          263         0       1  ...         1           3        0\n",
              "290          291         1       1  ...         0           1        1\n",
              "445          446         1       1  ...         1           3        0\n",
              "496          497         1       1  ...         1           2        0\n",
              "558          559         1       1  ...         1           3        0\n",
              "585          586         1       1  ...         1           3        0\n",
              "587          588         1       1  ...         1           3        0\n",
              "591          592         1       1  ...         1           2        0\n",
              "741          742         0       1  ...         1           2        0\n",
              "789          790         0       1  ...         1           1        1\n",
              "829          830         1       1  ...         1           1        1\n",
              "\n",
              "[14 rows x 16 columns]"
            ]
          },
          "metadata": {
            "tags": []
          },
          "execution_count": 37
        }
      ]
    },
    {
      "cell_type": "code",
      "metadata": {
        "colab": {
          "base_uri": "https://localhost:8080/",
          "height": 297
        },
        "id": "u24JcALnEC63",
        "outputId": "71a1140a-9a59-4956-f784-3a70be05febf"
      },
      "source": [
        "sns.boxplot('Embarked', 'Fare', hue='Pclass', data=train )"
      ],
      "execution_count": null,
      "outputs": [
        {
          "output_type": "execute_result",
          "data": {
            "text/plain": [
              "<matplotlib.axes._subplots.AxesSubplot at 0x7fbe22ee8a20>"
            ]
          },
          "metadata": {
            "tags": []
          },
          "execution_count": 35
        },
        {
          "output_type": "display_data",
          "data": {
            "image/png": "[encoded data removed]",
            "text/plain": [
              "<Figure size 432x288 with 1 Axes>"
            ]
          },
          "metadata": {
            "tags": [],
            "needs_background": "light"
          }
        }
      ]
    },
    {
      "cell_type": "code",
      "metadata": {
        "id": "AWWZ3OTbDbaH"
      },
      "source": [
        "train['Embarked'].fillna('C', inplace=True)"
      ],
      "execution_count": null,
      "outputs": []
    },
    {
      "cell_type": "code",
      "metadata": {
        "id": "StIZFivgUpg1"
      },
      "source": [
        "train['Embarked'].fillna('C', inplace=True)"
      ],
      "execution_count": null,
      "outputs": []
    },
    {
      "cell_type": "code",
      "metadata": {
        "colab": {
          "base_uri": "https://localhost:8080/",
          "height": 77
        },
        "id": "uexSmUNBDbcT",
        "outputId": "732b37cf-1813-44f3-bc0a-394f0e6234d0"
      },
      "source": [
        "test[test['Fare'].isnull()]"
      ],
      "execution_count": null,
      "outputs": [
        {
          "output_type": "execute_result",
          "data": {
            "text/html": [
              "<div>\n",
              "<style scoped>\n",
              "    .dataframe tbody tr th:only-of-type {\n",
              "        vertical-align: middle;\n",
              "    }\n",
              "\n",
              "    .dataframe tbody tr th {\n",
              "        vertical-align: top;\n",
              "    }\n",
              "\n",
              "    .dataframe thead th {\n",
              "        text-align: right;\n",
              "    }\n",
              "</style>\n",
              "<table border=\"1\" class=\"dataframe\">\n",
              "  <thead>\n",
              "    <tr style=\"text-align: right;\">\n",
              "      <th></th>\n",
              "      <th>PassengerId</th>\n",
              "      <th>Pclass</th>\n",
              "      <th>Name</th>\n",
              "      <th>Sex</th>\n",
              "      <th>Age</th>\n",
              "      <th>SibSp</th>\n",
              "      <th>Parch</th>\n",
              "      <th>Ticket</th>\n",
              "      <th>Fare</th>\n",
              "      <th>Cabin</th>\n",
              "      <th>Embarked</th>\n",
              "      <th>Name_length</th>\n",
              "      <th>Has_Cabin</th>\n",
              "      <th>Family_size</th>\n",
              "      <th>IsAlone</th>\n",
              "    </tr>\n",
              "  </thead>\n",
              "  <tbody>\n",
              "    <tr>\n",
              "      <th>152</th>\n",
              "      <td>1044</td>\n",
              "      <td>3</td>\n",
              "      <td>Storey, Mr. Thomas</td>\n",
              "      <td>male</td>\n",
              "      <td>60.5</td>\n",
              "      <td>0</td>\n",
              "      <td>0</td>\n",
              "      <td>3701</td>\n",
              "      <td>NaN</td>\n",
              "      <td>NaN</td>\n",
              "      <td>S</td>\n",
              "      <td>18</td>\n",
              "      <td>0</td>\n",
              "      <td>1</td>\n",
              "      <td>1</td>\n",
              "    </tr>\n",
              "  </tbody>\n",
              "</table>\n",
              "</div>"
            ],
            "text/plain": [
              "     PassengerId  Pclass                Name  ... Has_Cabin  Family_size  IsAlone\n",
              "152         1044       3  Storey, Mr. Thomas  ...         0            1        1\n",
              "\n",
              "[1 rows x 15 columns]"
            ]
          },
          "metadata": {
            "tags": []
          },
          "execution_count": 159
        }
      ]
    },
    {
      "cell_type": "code",
      "metadata": {
        "id": "7MKZC90gFOCS"
      },
      "source": [
        "test.loc[test['Fare'].isnull(), 'Fare'] = test[(test['Pclass']==3)&(test['Embarked']=='S')].Fare.mean()"
      ],
      "execution_count": null,
      "outputs": []
    },
    {
      "cell_type": "code",
      "metadata": {
        "id": "BRyupmpAwVbE"
      },
      "source": [
        "test.Fare.fillna(test[(test['Pclass']==3)&(test['Embarked']=='S')].Fare.mean(), inplace=True)"
      ],
      "execution_count": null,
      "outputs": []
    },
    {
      "cell_type": "code",
      "metadata": {
        "id": "sn2Sh_wxUvwV"
      },
      "source": [
        "test.loc[test['Fare'].isnull(), 'Fare'] = test[(test['Pclass']==3)&(test['Embarked']=='S')].Fare.mean()"
      ],
      "execution_count": null,
      "outputs": []
    },
    {
      "cell_type": "code",
      "metadata": {
        "colab": {
          "base_uri": "https://localhost:8080/",
          "height": 761
        },
        "id": "KY7kGb4dVLCF",
        "outputId": "add468fb-9e68-42e0-df1d-3989111da44d"
      },
      "source": [
        "sns.heatmap(test.corr(),annot=True, linewidths=0.2)\n",
        "fig = plt.gcf()\n",
        "fig.set_size_inches(15,12)"
      ],
      "execution_count": null,
      "outputs": [
        {
          "output_type": "display_data",
          "data": {
            "image/png": "[encoded data removed]",
            "text/plain": [
              "<Figure size 1080x864 with 2 Axes>"
            ]
          },
          "metadata": {
            "tags": [],
            "needs_background": "light"
          }
        }
      ]
    },
    {
      "cell_type": "code",
      "metadata": {
        "id": "ezRZQN_NFOEQ"
      },
      "source": [
        "train['Fare_cut'] = pd.qcut(train['Fare'], 4)"
      ],
      "execution_count": null,
      "outputs": []
    },
    {
      "cell_type": "code",
      "metadata": {
        "id": "f4Xs6Ck4VxgZ"
      },
      "source": [
        "train['Fare_cut'] = pd.qcut(train['Fare'], 4)"
      ],
      "execution_count": null,
      "outputs": []
    },
    {
      "cell_type": "code",
      "metadata": {
        "id": "Dr92itZoWdav"
      },
      "source": [
        "train.loc[(train['Age'].isnull())&(train['Pclass']==1), 'Age'] = train[train['Pclass']==1].Age.mean()\n",
        "train.loc[(train['Age'].isnull())&(train['Pclass']==2), 'Age'] = train[train['Pclass']==2].Age.mean()\n",
        "train.loc[(train['Age'].isnull())&(train['Pclass']==3), 'Age'] = train[train['Pclass']==3].Age.mean()\n",
        "test.loc[(test['Age'].isnull())&(test['Pclass']==1), 'Age'] = test[test['Pclass']==1].Age.mean()\n",
        "test.loc[(test['Age'].isnull())&(test['Pclass']==2), 'Age'] = test[test['Pclass']==2].Age.mean()\n",
        "test.loc[(test['Age'].isnull())&(test['Pclass']==3), 'Age'] = test[test['Pclass']==3].Age.mean()"
      ],
      "execution_count": null,
      "outputs": []
    },
    {
      "cell_type": "code",
      "metadata": {
        "id": "aUTVkXyvZDq6"
      },
      "source": [
        "for dataset in fd:\n",
        "  dataset['Age'].astype(int)"
      ],
      "execution_count": null,
      "outputs": []
    },
    {
      "cell_type": "code",
      "metadata": {
        "colab": {
          "base_uri": "https://localhost:8080/",
          "height": 761
        },
        "id": "dlFkOlaDGed6",
        "outputId": "6348a79e-a169-4d2d-8159-69b3d4d6df2f"
      },
      "source": [
        "sns.heatmap(train.corr(),annot=True, linewidths=0.2, square=True)\n",
        "fig = plt.gcf()\n",
        "fig.set_size_inches(15,12)"
      ],
      "execution_count": null,
      "outputs": [
        {
          "output_type": "display_data",
          "data": {
            "image/png": "[encoded data removed]",
            "text/plain": [
              "<Figure size 1080x864 with 2 Axes>"
            ]
          },
          "metadata": {
            "tags": [],
            "needs_background": "light"
          }
        }
      ]
    },
    {
      "cell_type": "code",
      "metadata": {
        "colab": {
          "base_uri": "https://localhost:8080/",
          "height": 489
        },
        "id": "-2dHUVyUGegZ",
        "outputId": "612535f6-ad96-475d-9a88-ed4b41576414"
      },
      "source": [
        "sns.heatmap(test.corr(),annot=True, linewidths=0.2, square=True)\n",
        "fig = plt.gcf()\n",
        "fig.set_size_inches(16,7)"
      ],
      "execution_count": null,
      "outputs": [
        {
          "output_type": "display_data",
          "data": {
            "image/png": "[encoded data removed]",
            "text/plain": [
              "<Figure size 1152x504 with 2 Axes>"
            ]
          },
          "metadata": {
            "tags": [],
            "needs_background": "light"
          }
        }
      ]
    },
    {
      "cell_type": "code",
      "metadata": {
        "id": "tZKj4CjlHgFE"
      },
      "source": [
        "train.loc[(train['Age'].isnull())&(train['Pclass']==1), 'Age'] = train[train['Pclass']==1].Age.median()\n",
        "train.loc[(train['Age'].isnull())&(train['Pclass']==2), 'Age'] = train[train['Pclass']==2].Age.median()\n",
        "train.loc[(train['Age'].isnull())&(train['Pclass']==3), 'Age'] = train[train['Pclass']==3].Age.median()\n",
        "test.loc[(test['Age'].isnull())&(test['Pclass']==1), 'Age'] = test[test['Pclass']==1].Age.median()\n",
        "test.loc[(test['Age'].isnull())&(test['Pclass']==2), 'Age'] = test[test['Pclass']==2].Age.median()\n",
        "test.loc[(test['Age'].isnull())&(test['Pclass']==3), 'Age'] = test[test['Pclass']==3].Age.median()"
      ],
      "execution_count": null,
      "outputs": []
    },
    {
      "cell_type": "code",
      "metadata": {
        "id": "m7gV7QWwFOGp"
      },
      "source": [
        "for dataset in fd:\n",
        "  dataset.loc[(dataset['Age'].isnull())&(dataset['Pclass']==1), 'Age'] = dataset[dataset['Pclass']==1].Age.median()\n",
        "  dataset.loc[(dataset['Age'].isnull())&(dataset['Pclass']==2), 'Age'] = dataset[dataset['Pclass']==2].Age.median()\n",
        "  dataset.loc[(dataset['Age'].isnull())&(dataset['Pclass']==3), 'Age'] = dataset[dataset['Pclass']==3].Age.median()\n",
        "  dataset['Age'] = dataset['Age'].astype(int)"
      ],
      "execution_count": null,
      "outputs": []
    },
    {
      "cell_type": "code",
      "metadata": {
        "id": "KvrcTxBqSglm"
      },
      "source": [
        "train['Age_cut'] = pd.qcut(train['Age'], 5)"
      ],
      "execution_count": null,
      "outputs": []
    },
    {
      "cell_type": "code",
      "metadata": {
        "id": "V1J7R0GJgJZA"
      },
      "source": [
        "train['Age_cut'] = pd.qcut(train['Age'],5)"
      ],
      "execution_count": null,
      "outputs": []
    },
    {
      "cell_type": "code",
      "metadata": {
        "colab": {
          "base_uri": "https://localhost:8080/"
        },
        "id": "goZZTLV7Dbev",
        "outputId": "6bc00a63-8cdf-42dd-d2f7-bc7d29607837"
      },
      "source": [
        "dataset['Age'].isnull().any()"
      ],
      "execution_count": null,
      "outputs": [
        {
          "output_type": "execute_result",
          "data": {
            "text/plain": [
              "False"
            ]
          },
          "metadata": {
            "tags": []
          },
          "execution_count": 164
        }
      ]
    },
    {
      "cell_type": "code",
      "metadata": {
        "id": "MZoKTYSmDbgo"
      },
      "source": [
        "for dataset in fd:\n",
        "  dataset['Title'] = dataset.Name.str.extract('([A-Za-z]+)\\.')"
      ],
      "execution_count": null,
      "outputs": []
    },
    {
      "cell_type": "code",
      "metadata": {
        "id": "2SuA968VyGZh"
      },
      "source": [
        "for dataset in fd:\n",
        "  dataset['Title'] = dataset.Name.str.extract('([A-Za-z]+)\\.')"
      ],
      "execution_count": null,
      "outputs": []
    },
    {
      "cell_type": "code",
      "metadata": {
        "id": "vS5Ln_ZBgPhT"
      },
      "source": [
        "for dataset in fd:\n",
        "  dataset['Title'] = dataset.Name.str.extract('([A-Za-z]+)\\.') "
      ],
      "execution_count": null,
      "outputs": []
    },
    {
      "cell_type": "code",
      "metadata": {
        "colab": {
          "base_uri": "https://localhost:8080/"
        },
        "id": "IhTylDRO50Am",
        "outputId": "4e2a9285-196a-4e74-ae9b-a02969e3d93e"
      },
      "source": [
        "train['Title'].isnull().sum()"
      ],
      "execution_count": null,
      "outputs": [
        {
          "output_type": "execute_result",
          "data": {
            "text/plain": [
              "0"
            ]
          },
          "metadata": {
            "tags": []
          },
          "execution_count": 124
        }
      ]
    },
    {
      "cell_type": "code",
      "metadata": {
        "id": "sLs4LjzR_HuZ",
        "colab": {
          "base_uri": "https://localhost:8080/",
          "height": 330
        },
        "outputId": "ba1bd611-946d-4e7e-c49f-eab10e3e2804"
      },
      "source": [
        "train.head()"
      ],
      "execution_count": null,
      "outputs": [
        {
          "output_type": "execute_result",
          "data": {
            "text/html": [
              "<div>\n",
              "<style scoped>\n",
              "    .dataframe tbody tr th:only-of-type {\n",
              "        vertical-align: middle;\n",
              "    }\n",
              "\n",
              "    .dataframe tbody tr th {\n",
              "        vertical-align: top;\n",
              "    }\n",
              "\n",
              "    .dataframe thead th {\n",
              "        text-align: right;\n",
              "    }\n",
              "</style>\n",
              "<table border=\"1\" class=\"dataframe\">\n",
              "  <thead>\n",
              "    <tr style=\"text-align: right;\">\n",
              "      <th></th>\n",
              "      <th>PassengerId</th>\n",
              "      <th>Survived</th>\n",
              "      <th>Pclass</th>\n",
              "      <th>Name</th>\n",
              "      <th>Sex</th>\n",
              "      <th>Age</th>\n",
              "      <th>SibSp</th>\n",
              "      <th>Parch</th>\n",
              "      <th>Ticket</th>\n",
              "      <th>Fare</th>\n",
              "      <th>Cabin</th>\n",
              "      <th>Embarked</th>\n",
              "      <th>Name_length</th>\n",
              "      <th>Has_Cabin</th>\n",
              "      <th>Family_size</th>\n",
              "      <th>IsAlone</th>\n",
              "      <th>Fare_cut</th>\n",
              "      <th>Age_cut</th>\n",
              "      <th>Title</th>\n",
              "    </tr>\n",
              "  </thead>\n",
              "  <tbody>\n",
              "    <tr>\n",
              "      <th>0</th>\n",
              "      <td>1</td>\n",
              "      <td>0</td>\n",
              "      <td>3</td>\n",
              "      <td>Braund, Mr. Owen Harris</td>\n",
              "      <td>1</td>\n",
              "      <td>22.0</td>\n",
              "      <td>1</td>\n",
              "      <td>0</td>\n",
              "      <td>A/5 21171</td>\n",
              "      <td>7.2500</td>\n",
              "      <td>NaN</td>\n",
              "      <td>0</td>\n",
              "      <td>23</td>\n",
              "      <td>0</td>\n",
              "      <td>2</td>\n",
              "      <td>0</td>\n",
              "      <td>(-0.001, 7.91]</td>\n",
              "      <td>(20.0, 25.141]</td>\n",
              "      <td>0</td>\n",
              "    </tr>\n",
              "    <tr>\n",
              "      <th>1</th>\n",
              "      <td>2</td>\n",
              "      <td>1</td>\n",
              "      <td>1</td>\n",
              "      <td>Cumings, Mrs. John Bradley (Florence Briggs Th...</td>\n",
              "      <td>0</td>\n",
              "      <td>38.0</td>\n",
              "      <td>1</td>\n",
              "      <td>0</td>\n",
              "      <td>PC 17599</td>\n",
              "      <td>71.2833</td>\n",
              "      <td>C85</td>\n",
              "      <td>1</td>\n",
              "      <td>51</td>\n",
              "      <td>1</td>\n",
              "      <td>2</td>\n",
              "      <td>0</td>\n",
              "      <td>(31.0, 512.329]</td>\n",
              "      <td>(30.0, 38.233]</td>\n",
              "      <td>2</td>\n",
              "    </tr>\n",
              "    <tr>\n",
              "      <th>2</th>\n",
              "      <td>3</td>\n",
              "      <td>1</td>\n",
              "      <td>3</td>\n",
              "      <td>Heikkinen, Miss. Laina</td>\n",
              "      <td>0</td>\n",
              "      <td>26.0</td>\n",
              "      <td>0</td>\n",
              "      <td>0</td>\n",
              "      <td>STON/O2. 3101282</td>\n",
              "      <td>7.9250</td>\n",
              "      <td>NaN</td>\n",
              "      <td>0</td>\n",
              "      <td>22</td>\n",
              "      <td>0</td>\n",
              "      <td>1</td>\n",
              "      <td>1</td>\n",
              "      <td>(7.91, 14.454]</td>\n",
              "      <td>(25.141, 30.0]</td>\n",
              "      <td>1</td>\n",
              "    </tr>\n",
              "    <tr>\n",
              "      <th>3</th>\n",
              "      <td>4</td>\n",
              "      <td>1</td>\n",
              "      <td>1</td>\n",
              "      <td>Futrelle, Mrs. Jacques Heath (Lily May Peel)</td>\n",
              "      <td>0</td>\n",
              "      <td>35.0</td>\n",
              "      <td>1</td>\n",
              "      <td>0</td>\n",
              "      <td>113803</td>\n",
              "      <td>53.1000</td>\n",
              "      <td>C123</td>\n",
              "      <td>0</td>\n",
              "      <td>44</td>\n",
              "      <td>1</td>\n",
              "      <td>2</td>\n",
              "      <td>0</td>\n",
              "      <td>(31.0, 512.329]</td>\n",
              "      <td>(30.0, 38.233]</td>\n",
              "      <td>2</td>\n",
              "    </tr>\n",
              "    <tr>\n",
              "      <th>4</th>\n",
              "      <td>5</td>\n",
              "      <td>0</td>\n",
              "      <td>3</td>\n",
              "      <td>Allen, Mr. William Henry</td>\n",
              "      <td>1</td>\n",
              "      <td>35.0</td>\n",
              "      <td>0</td>\n",
              "      <td>0</td>\n",
              "      <td>373450</td>\n",
              "      <td>8.0500</td>\n",
              "      <td>NaN</td>\n",
              "      <td>0</td>\n",
              "      <td>24</td>\n",
              "      <td>0</td>\n",
              "      <td>1</td>\n",
              "      <td>1</td>\n",
              "      <td>(7.91, 14.454]</td>\n",
              "      <td>(30.0, 38.233]</td>\n",
              "      <td>0</td>\n",
              "    </tr>\n",
              "  </tbody>\n",
              "</table>\n",
              "</div>"
            ],
            "text/plain": [
              "   PassengerId  Survived  Pclass  ...         Fare_cut         Age_cut  Title\n",
              "0            1         0       3  ...   (-0.001, 7.91]  (20.0, 25.141]      0\n",
              "1            2         1       1  ...  (31.0, 512.329]  (30.0, 38.233]      2\n",
              "2            3         1       3  ...   (7.91, 14.454]  (25.141, 30.0]      1\n",
              "3            4         1       1  ...  (31.0, 512.329]  (30.0, 38.233]      2\n",
              "4            5         0       3  ...   (7.91, 14.454]  (30.0, 38.233]      0\n",
              "\n",
              "[5 rows x 19 columns]"
            ]
          },
          "metadata": {
            "tags": []
          },
          "execution_count": 125
        }
      ]
    },
    {
      "cell_type": "code",
      "metadata": {
        "colab": {
          "base_uri": "https://localhost:8080/"
        },
        "id": "z8br25kRL1Ct",
        "outputId": "26a7fd4e-f440-4893-82ca-22bdea4824b0"
      },
      "source": [
        "test.Title.value_counts()"
      ],
      "execution_count": null,
      "outputs": [
        {
          "output_type": "execute_result",
          "data": {
            "text/plain": [
              "Mr        240\n",
              "Miss       79\n",
              "Mrs        72\n",
              "Master     21\n",
              "Rare        6\n",
              "Name: Title, dtype: int64"
            ]
          },
          "metadata": {
            "tags": []
          },
          "execution_count": 170
        }
      ]
    },
    {
      "cell_type": "code",
      "metadata": {
        "id": "GmjkfkOeggDn"
      },
      "source": [
        "for dataset in fd:\n",
        "  dataset['Title'].replace(['Dr','Rev','Major', 'Col', 'Jonkheer', 'Countess', 'Sir', 'Don', 'Capt', 'Dona'], 'Rare', inplace=True)\n",
        "  dataset['Title'].replace(['Mlle','Ms','Lady'], 'Miss', inplace=True)\n",
        "  dataset['Title'].replace('Mme', 'Mrs', inplace=True)"
      ],
      "execution_count": null,
      "outputs": []
    },
    {
      "cell_type": "code",
      "metadata": {
        "id": "OzCEW6pM_Hwt"
      },
      "source": [
        "for dataset in fd:\n",
        "  dataset['Title'].replace(['Lady', 'Countess', 'Capt', 'Col', 'Don', 'Dr', 'Major', 'Rev', 'Sir', 'Jonkheer', 'Dona'], 'Rare', inplace=True)\n",
        "  dataset['Title'].replace('Mlle', 'Miss', inplace=True)\n",
        "  dataset['Title'].replace('Ms', 'Miss', inplace=True)\n",
        "  dataset['Title'].replace('Mme', 'Mrs', inplace=True)"
      ],
      "execution_count": null,
      "outputs": []
    },
    {
      "cell_type": "code",
      "metadata": {
        "id": "6sqxZCI_LucP"
      },
      "source": [
        "for dataset in fd:\n",
        "  dataset['Sex'] = dataset['Sex'].map({'female':0, 'male':1}).astype(int)"
      ],
      "execution_count": null,
      "outputs": []
    },
    {
      "cell_type": "code",
      "metadata": {
        "id": "5ey5rH41yfIg"
      },
      "source": [
        "for dataset in fd:\n",
        "  dataset.Sex.replace(['male','female'],[0,1], inplace=True)"
      ],
      "execution_count": null,
      "outputs": []
    },
    {
      "cell_type": "code",
      "metadata": {
        "id": "DRB6J_cDLueg"
      },
      "source": [
        "for dataset in fd:\n",
        "  dataset['Embarked'] = dataset['Embarked'].map({'S':0, 'C':1, 'Q':2})\n",
        "  dataset['Title'] = dataset['Title'].map({'Mr':0, 'Miss':1, 'Mrs':2, 'Master':3, 'Rare':4})"
      ],
      "execution_count": null,
      "outputs": []
    },
    {
      "cell_type": "code",
      "metadata": {
        "id": "ayp0sNjniEzx"
      },
      "source": [
        "for dataset in fd:\n",
        "  dataset['Embarked'].replace(['S','C','Q'],[0,1,2],inplace=True)\n",
        "  dataset['Title'].replace(['Mr','Miss','Mrs','Master','Rare'],[0,1,2,3,4], inplace=True)"
      ],
      "execution_count": null,
      "outputs": []
    },
    {
      "cell_type": "code",
      "metadata": {
        "id": "SzPMU7rjLug5"
      },
      "source": [
        "for dataset in fd:\n",
        "  dataset.loc[dataset['Fare']<=7.91, 'Fare'] = 0\n",
        "  dataset.loc[(dataset['Fare']>7.91)&(dataset['Fare']<=14.454), 'Fare'] = 1\n",
        "  dataset.loc[(dataset['Fare']>14.454)&(dataset['Fare']<=31), 'Fare'] = 2\n",
        "  dataset.loc[dataset['Fare']>31, 'Fare'] = 3"
      ],
      "execution_count": null,
      "outputs": []
    },
    {
      "cell_type": "code",
      "metadata": {
        "colab": {
          "base_uri": "https://localhost:8080/",
          "height": 195
        },
        "id": "8xJqoEnliiqf",
        "outputId": "271adccf-3236-406f-cafc-fb10edd28f9e"
      },
      "source": [
        "pd.DataFrame(train.Age_cut.value_counts())"
      ],
      "execution_count": null,
      "outputs": [
        {
          "output_type": "execute_result",
          "data": {
            "text/html": [
              "<div>\n",
              "<style scoped>\n",
              "    .dataframe tbody tr th:only-of-type {\n",
              "        vertical-align: middle;\n",
              "    }\n",
              "\n",
              "    .dataframe tbody tr th {\n",
              "        vertical-align: top;\n",
              "    }\n",
              "\n",
              "    .dataframe thead th {\n",
              "        text-align: right;\n",
              "    }\n",
              "</style>\n",
              "<table border=\"1\" class=\"dataframe\">\n",
              "  <thead>\n",
              "    <tr style=\"text-align: right;\">\n",
              "      <th></th>\n",
              "      <th>Age_cut</th>\n",
              "    </tr>\n",
              "  </thead>\n",
              "  <tbody>\n",
              "    <tr>\n",
              "      <th>(20.0, 25.141]</th>\n",
              "      <td>258</td>\n",
              "    </tr>\n",
              "    <tr>\n",
              "      <th>(0.419, 20.0]</th>\n",
              "      <td>179</td>\n",
              "    </tr>\n",
              "    <tr>\n",
              "      <th>(38.233, 80.0]</th>\n",
              "      <td>177</td>\n",
              "    </tr>\n",
              "    <tr>\n",
              "      <th>(30.0, 38.233]</th>\n",
              "      <td>158</td>\n",
              "    </tr>\n",
              "    <tr>\n",
              "      <th>(25.141, 30.0]</th>\n",
              "      <td>119</td>\n",
              "    </tr>\n",
              "  </tbody>\n",
              "</table>\n",
              "</div>"
            ],
            "text/plain": [
              "                Age_cut\n",
              "(20.0, 25.141]      258\n",
              "(0.419, 20.0]       179\n",
              "(38.233, 80.0]      177\n",
              "(30.0, 38.233]      158\n",
              "(25.141, 30.0]      119"
            ]
          },
          "metadata": {
            "tags": []
          },
          "execution_count": 173
        }
      ]
    },
    {
      "cell_type": "code",
      "metadata": {
        "id": "2zESIslXzI_q"
      },
      "source": [
        "train['Age_cut'] = pd.qcut(train['Age'], 5)"
      ],
      "execution_count": null,
      "outputs": []
    },
    {
      "cell_type": "code",
      "metadata": {
        "id": "yel_KX15Lui6"
      },
      "source": [
        "for dataset in fd:\n",
        "  dataset.loc[dataset['Age']<=20,'Age'] = 0\n",
        "  dataset.loc[(dataset['Age']>20)&(dataset['Age']<=25.141), 'Age'] = 1\n",
        "  dataset.loc[(dataset['Age']>25.141)&(dataset['Age']<=30), 'Age'] = 2\n",
        "  dataset.loc[(dataset['Age']>30)&(dataset['Age']<=38.233), 'Age'] = 3\n",
        "  dataset.loc[(dataset['Age']>38.233), 'Age'] = 4"
      ],
      "execution_count": null,
      "outputs": []
    },
    {
      "cell_type": "code",
      "metadata": {
        "colab": {
          "base_uri": "https://localhost:8080/"
        },
        "id": "-HxdBTnh7ip-",
        "outputId": "7241ec69-b9d9-42e3-9916-44c9b328123f"
      },
      "source": [
        "test.Title.isnull().sum()"
      ],
      "execution_count": null,
      "outputs": [
        {
          "output_type": "execute_result",
          "data": {
            "text/plain": [
              "1"
            ]
          },
          "metadata": {
            "tags": []
          },
          "execution_count": 145
        }
      ]
    },
    {
      "cell_type": "code",
      "metadata": {
        "colab": {
          "base_uri": "https://localhost:8080/",
          "height": 195
        },
        "id": "RuzYGckcjdSV",
        "outputId": "ddf8f33c-7d31-46f1-b729-50862585a88a"
      },
      "source": [
        "train.head()"
      ],
      "execution_count": null,
      "outputs": [
        {
          "output_type": "execute_result",
          "data": {
            "text/html": [
              "<div>\n",
              "<style scoped>\n",
              "    .dataframe tbody tr th:only-of-type {\n",
              "        vertical-align: middle;\n",
              "    }\n",
              "\n",
              "    .dataframe tbody tr th {\n",
              "        vertical-align: top;\n",
              "    }\n",
              "\n",
              "    .dataframe thead th {\n",
              "        text-align: right;\n",
              "    }\n",
              "</style>\n",
              "<table border=\"1\" class=\"dataframe\">\n",
              "  <thead>\n",
              "    <tr style=\"text-align: right;\">\n",
              "      <th></th>\n",
              "      <th>Survived</th>\n",
              "      <th>Pclass</th>\n",
              "      <th>Sex</th>\n",
              "      <th>Age</th>\n",
              "      <th>SibSp</th>\n",
              "      <th>Parch</th>\n",
              "      <th>Fare</th>\n",
              "      <th>Embarked</th>\n",
              "      <th>Name_length</th>\n",
              "      <th>Has_Cabin</th>\n",
              "      <th>Family_size</th>\n",
              "      <th>IsAlone</th>\n",
              "      <th>Title</th>\n",
              "    </tr>\n",
              "  </thead>\n",
              "  <tbody>\n",
              "    <tr>\n",
              "      <th>0</th>\n",
              "      <td>0</td>\n",
              "      <td>3</td>\n",
              "      <td>0</td>\n",
              "      <td>1</td>\n",
              "      <td>1</td>\n",
              "      <td>0</td>\n",
              "      <td>0</td>\n",
              "      <td>0</td>\n",
              "      <td>23</td>\n",
              "      <td>0</td>\n",
              "      <td>2</td>\n",
              "      <td>0</td>\n",
              "      <td>0</td>\n",
              "    </tr>\n",
              "    <tr>\n",
              "      <th>1</th>\n",
              "      <td>1</td>\n",
              "      <td>1</td>\n",
              "      <td>1</td>\n",
              "      <td>3</td>\n",
              "      <td>1</td>\n",
              "      <td>0</td>\n",
              "      <td>3</td>\n",
              "      <td>1</td>\n",
              "      <td>51</td>\n",
              "      <td>1</td>\n",
              "      <td>2</td>\n",
              "      <td>0</td>\n",
              "      <td>2</td>\n",
              "    </tr>\n",
              "    <tr>\n",
              "      <th>2</th>\n",
              "      <td>1</td>\n",
              "      <td>3</td>\n",
              "      <td>1</td>\n",
              "      <td>2</td>\n",
              "      <td>0</td>\n",
              "      <td>0</td>\n",
              "      <td>1</td>\n",
              "      <td>0</td>\n",
              "      <td>22</td>\n",
              "      <td>0</td>\n",
              "      <td>1</td>\n",
              "      <td>1</td>\n",
              "      <td>1</td>\n",
              "    </tr>\n",
              "    <tr>\n",
              "      <th>3</th>\n",
              "      <td>1</td>\n",
              "      <td>1</td>\n",
              "      <td>1</td>\n",
              "      <td>3</td>\n",
              "      <td>1</td>\n",
              "      <td>0</td>\n",
              "      <td>3</td>\n",
              "      <td>0</td>\n",
              "      <td>44</td>\n",
              "      <td>1</td>\n",
              "      <td>2</td>\n",
              "      <td>0</td>\n",
              "      <td>2</td>\n",
              "    </tr>\n",
              "    <tr>\n",
              "      <th>4</th>\n",
              "      <td>0</td>\n",
              "      <td>3</td>\n",
              "      <td>0</td>\n",
              "      <td>3</td>\n",
              "      <td>0</td>\n",
              "      <td>0</td>\n",
              "      <td>1</td>\n",
              "      <td>0</td>\n",
              "      <td>24</td>\n",
              "      <td>0</td>\n",
              "      <td>1</td>\n",
              "      <td>1</td>\n",
              "      <td>0</td>\n",
              "    </tr>\n",
              "  </tbody>\n",
              "</table>\n",
              "</div>"
            ],
            "text/plain": [
              "   Survived  Pclass  Sex  Age  ...  Has_Cabin  Family_size  IsAlone  Title\n",
              "0         0       3    0    1  ...          0            2        0      0\n",
              "1         1       1    1    3  ...          1            2        0      2\n",
              "2         1       3    1    2  ...          0            1        1      1\n",
              "3         1       1    1    3  ...          1            2        0      2\n",
              "4         0       3    0    3  ...          0            1        1      0\n",
              "\n",
              "[5 rows x 13 columns]"
            ]
          },
          "metadata": {
            "tags": []
          },
          "execution_count": 185
        }
      ]
    },
    {
      "cell_type": "code",
      "metadata": {
        "colab": {
          "base_uri": "https://localhost:8080/",
          "height": 195
        },
        "id": "0JqJOxEgkAn2",
        "outputId": "f882e5f5-07fe-4e9e-fc23-0dc833a7701b"
      },
      "source": [
        "test.head()"
      ],
      "execution_count": null,
      "outputs": [
        {
          "output_type": "execute_result",
          "data": {
            "text/html": [
              "<div>\n",
              "<style scoped>\n",
              "    .dataframe tbody tr th:only-of-type {\n",
              "        vertical-align: middle;\n",
              "    }\n",
              "\n",
              "    .dataframe tbody tr th {\n",
              "        vertical-align: top;\n",
              "    }\n",
              "\n",
              "    .dataframe thead th {\n",
              "        text-align: right;\n",
              "    }\n",
              "</style>\n",
              "<table border=\"1\" class=\"dataframe\">\n",
              "  <thead>\n",
              "    <tr style=\"text-align: right;\">\n",
              "      <th></th>\n",
              "      <th>Pclass</th>\n",
              "      <th>Sex</th>\n",
              "      <th>Age</th>\n",
              "      <th>SibSp</th>\n",
              "      <th>Parch</th>\n",
              "      <th>Fare</th>\n",
              "      <th>Embarked</th>\n",
              "      <th>Name_length</th>\n",
              "      <th>Has_Cabin</th>\n",
              "      <th>Family_size</th>\n",
              "      <th>IsAlone</th>\n",
              "      <th>Title</th>\n",
              "    </tr>\n",
              "  </thead>\n",
              "  <tbody>\n",
              "    <tr>\n",
              "      <th>0</th>\n",
              "      <td>3</td>\n",
              "      <td>0</td>\n",
              "      <td>3</td>\n",
              "      <td>0</td>\n",
              "      <td>0</td>\n",
              "      <td>0</td>\n",
              "      <td>2</td>\n",
              "      <td>16</td>\n",
              "      <td>0</td>\n",
              "      <td>1</td>\n",
              "      <td>1</td>\n",
              "      <td>0</td>\n",
              "    </tr>\n",
              "    <tr>\n",
              "      <th>1</th>\n",
              "      <td>3</td>\n",
              "      <td>1</td>\n",
              "      <td>4</td>\n",
              "      <td>1</td>\n",
              "      <td>0</td>\n",
              "      <td>0</td>\n",
              "      <td>0</td>\n",
              "      <td>32</td>\n",
              "      <td>0</td>\n",
              "      <td>2</td>\n",
              "      <td>0</td>\n",
              "      <td>2</td>\n",
              "    </tr>\n",
              "    <tr>\n",
              "      <th>2</th>\n",
              "      <td>2</td>\n",
              "      <td>0</td>\n",
              "      <td>4</td>\n",
              "      <td>0</td>\n",
              "      <td>0</td>\n",
              "      <td>1</td>\n",
              "      <td>2</td>\n",
              "      <td>25</td>\n",
              "      <td>0</td>\n",
              "      <td>1</td>\n",
              "      <td>1</td>\n",
              "      <td>0</td>\n",
              "    </tr>\n",
              "    <tr>\n",
              "      <th>3</th>\n",
              "      <td>3</td>\n",
              "      <td>0</td>\n",
              "      <td>2</td>\n",
              "      <td>0</td>\n",
              "      <td>0</td>\n",
              "      <td>1</td>\n",
              "      <td>0</td>\n",
              "      <td>16</td>\n",
              "      <td>0</td>\n",
              "      <td>1</td>\n",
              "      <td>1</td>\n",
              "      <td>0</td>\n",
              "    </tr>\n",
              "    <tr>\n",
              "      <th>4</th>\n",
              "      <td>3</td>\n",
              "      <td>1</td>\n",
              "      <td>1</td>\n",
              "      <td>1</td>\n",
              "      <td>1</td>\n",
              "      <td>1</td>\n",
              "      <td>0</td>\n",
              "      <td>44</td>\n",
              "      <td>0</td>\n",
              "      <td>3</td>\n",
              "      <td>0</td>\n",
              "      <td>2</td>\n",
              "    </tr>\n",
              "  </tbody>\n",
              "</table>\n",
              "</div>"
            ],
            "text/plain": [
              "   Pclass  Sex  Age  SibSp  ...  Has_Cabin  Family_size  IsAlone  Title\n",
              "0       3    0    3      0  ...          0            1        1      0\n",
              "1       3    1    4      1  ...          0            2        0      2\n",
              "2       2    0    4      0  ...          0            1        1      0\n",
              "3       3    0    2      0  ...          0            1        1      0\n",
              "4       3    1    1      1  ...          0            3        0      2\n",
              "\n",
              "[5 rows x 12 columns]"
            ]
          },
          "metadata": {
            "tags": []
          },
          "execution_count": 184
        }
      ]
    },
    {
      "cell_type": "code",
      "metadata": {
        "id": "bFYC1XZ73cxH"
      },
      "source": [
        "for dataset in fd:\n",
        "  dataset.Age = dataset['Age'].astype(int)\n",
        "  dataset.Fare = dataset['Fare'].astype(int)\n",
        "  dataset.Title = dataset['Title'].astype(int)"
      ],
      "execution_count": null,
      "outputs": []
    },
    {
      "cell_type": "code",
      "metadata": {
        "colab": {
          "base_uri": "https://localhost:8080/",
          "height": 77
        },
        "id": "OJOquAcL7s5R",
        "outputId": "548d49eb-e1b6-4414-a47a-3de408ab7ebc"
      },
      "source": [
        "test[test['Title'].isnull()]"
      ],
      "execution_count": null,
      "outputs": [
        {
          "output_type": "execute_result",
          "data": {
            "text/html": [
              "<div>\n",
              "<style scoped>\n",
              "    .dataframe tbody tr th:only-of-type {\n",
              "        vertical-align: middle;\n",
              "    }\n",
              "\n",
              "    .dataframe tbody tr th {\n",
              "        vertical-align: top;\n",
              "    }\n",
              "\n",
              "    .dataframe thead th {\n",
              "        text-align: right;\n",
              "    }\n",
              "</style>\n",
              "<table border=\"1\" class=\"dataframe\">\n",
              "  <thead>\n",
              "    <tr style=\"text-align: right;\">\n",
              "      <th></th>\n",
              "      <th>Pclass</th>\n",
              "      <th>Sex</th>\n",
              "      <th>Age</th>\n",
              "      <th>SibSp</th>\n",
              "      <th>Parch</th>\n",
              "      <th>Fare</th>\n",
              "      <th>Embarked</th>\n",
              "      <th>Name_length</th>\n",
              "      <th>Has_Cabin</th>\n",
              "      <th>Family_size</th>\n",
              "      <th>IsAlone</th>\n",
              "      <th>Title</th>\n",
              "    </tr>\n",
              "  </thead>\n",
              "  <tbody>\n",
              "    <tr>\n",
              "      <th>414</th>\n",
              "      <td>1</td>\n",
              "      <td>0</td>\n",
              "      <td>4</td>\n",
              "      <td>0</td>\n",
              "      <td>0</td>\n",
              "      <td>3</td>\n",
              "      <td>1</td>\n",
              "      <td>28</td>\n",
              "      <td>1</td>\n",
              "      <td>1</td>\n",
              "      <td>1</td>\n",
              "      <td>NaN</td>\n",
              "    </tr>\n",
              "  </tbody>\n",
              "</table>\n",
              "</div>"
            ],
            "text/plain": [
              "     Pclass  Sex  Age  SibSp  ...  Has_Cabin  Family_size  IsAlone  Title\n",
              "414       1    0    4      0  ...          1            1        1    NaN\n",
              "\n",
              "[1 rows x 12 columns]"
            ]
          },
          "metadata": {
            "tags": []
          },
          "execution_count": 146
        }
      ]
    },
    {
      "cell_type": "code",
      "metadata": {
        "colab": {
          "base_uri": "https://localhost:8080/"
        },
        "id": "FFtJtDTW3xYl",
        "outputId": "23dff652-62dd-492f-b282-04ae367e592d"
      },
      "source": [
        "train.isnull().sum()"
      ],
      "execution_count": null,
      "outputs": [
        {
          "output_type": "execute_result",
          "data": {
            "text/plain": [
              "Survived        0\n",
              "Pclass          0\n",
              "Sex             0\n",
              "Age             0\n",
              "SibSp           0\n",
              "Parch           0\n",
              "Fare            0\n",
              "Embarked        0\n",
              "Name_length     0\n",
              "Has_Cabin       0\n",
              "Family_size     0\n",
              "IsAlone         0\n",
              "Title          27\n",
              "dtype: int64"
            ]
          },
          "metadata": {
            "tags": []
          },
          "execution_count": 90
        }
      ]
    },
    {
      "cell_type": "code",
      "metadata": {
        "colab": {
          "base_uri": "https://localhost:8080/"
        },
        "id": "ePbwfODlO_Ia",
        "outputId": "8085f0e2-830e-4336-f698-d8672bea7955"
      },
      "source": [
        "drop_elements = ['PassengerId','Name','Ticket','Cabin','SibSp(?)']\n",
        "train = train.drop(drop_elements, axis=1)\n",
        "train.drop(['Fare_cut','Age_cut'], axis=1, inplace=True)\n",
        "test = test.drop(drop_elements, axis=1)"
      ],
      "execution_count": null,
      "outputs": [
        {
          "output_type": "execute_result",
          "data": {
            "text/plain": [
              "(7.91, 14.454]     224\n",
              "(-0.001, 7.91]     223\n",
              "(31.0, 512.329]    222\n",
              "(14.454, 31.0]     222\n",
              "Name: Fare_cut, dtype: int64"
            ]
          },
          "metadata": {
            "tags": []
          },
          "execution_count": 105
        }
      ]
    },
    {
      "cell_type": "code",
      "metadata": {
        "id": "G-F-FAU50UY3"
      },
      "source": [
        "train.drop(['PassengerId','Name', 'Ticket', 'Cabin', 'Age_cut', 'Fare_cut'], inplace=True, axis=1)\n",
        "test.drop(['PassengerId', 'Name', 'Ticket', 'Cabin'], inplace=True, axis=1)"
      ],
      "execution_count": null,
      "outputs": []
    },
    {
      "cell_type": "code",
      "metadata": {
        "id": "nB13YR2wjU-M"
      },
      "source": [
        "drop_elements = ['PassengerId','Name','Ticket','Cabin']\n",
        "train.drop(drop_elements, axis=1, inplace=True)\n",
        "train.drop(['Fare_cut','Age_cut'], axis=1, inplace=True)\n",
        "test.drop(drop_elements, axis=1, inplace=True)"
      ],
      "execution_count": null,
      "outputs": []
    },
    {
      "cell_type": "code",
      "metadata": {
        "id": "OTs3UG60LulB",
        "colab": {
          "base_uri": "https://localhost:8080/",
          "height": 825
        },
        "outputId": "e7410f45-3584-42c9-c2b5-b7e35aa77a1e"
      },
      "source": [
        "colormap = plt.cm.RdBu\n",
        "plt.figure(figsize=(16,12))\n",
        "plt.title('correlation of Feature', y=1.05, size=15)\n",
        "sns.heatmap(train.astype(float).corr(),linewidths=0.1, vmax=1.0, square=True, cmap=colormap, linecolor='white', annot=True )"
      ],
      "execution_count": null,
      "outputs": [
        {
          "output_type": "execute_result",
          "data": {
            "text/plain": [
              "<matplotlib.axes._subplots.AxesSubplot at 0x7f4a00b97e48>"
            ]
          },
          "metadata": {
            "tags": []
          },
          "execution_count": 186
        },
        {
          "output_type": "display_data",
          "data": {
            "image/png": "[encoded data removed]",
            "text/plain": [
              "<Figure size 1152x864 with 2 Axes>"
            ]
          },
          "metadata": {
            "tags": [],
            "needs_background": "light"
          }
        }
      ]
    },
    {
      "cell_type": "code",
      "metadata": {
        "id": "3jWJt1wOkIq5"
      },
      "source": [
        "from sklearn.linear_model import LogisticRegression\n",
        "from sklearn import svm\n",
        "from sklearn.ensemble import RandomForestClassifier\n",
        "from sklearn.neighbors import KNeighborsClassifier\n",
        "from sklearn.naive_bayes import GaussianNB\n",
        "from sklearn.tree import DecisionTreeClassifier\n",
        "from sklearn.model_selection import train_test_split\n",
        "from sklearn import metrics\n",
        "from sklearn.metrics import confusion_matrix \n",
        "from sklearn.model_selection import cross_val_predict\n",
        "from sklearn.model_selection import cross_val_score\n",
        "from sklearn.model_selection import KFold"
      ],
      "execution_count": null,
      "outputs": []
    },
    {
      "cell_type": "code",
      "metadata": {
        "colab": {
          "base_uri": "https://localhost:8080/"
        },
        "id": "Dn_5xL2KGLsi",
        "outputId": "32490019-7d1d-48a5-8db3-6046cd09a990"
      },
      "source": [
        "test.values"
      ],
      "execution_count": null,
      "outputs": [
        {
          "output_type": "execute_result",
          "data": {
            "text/plain": [
              "array([[3, 0, 3, ..., 1, 1, 0],\n",
              "       [3, 1, 4, ..., 2, 0, 2],\n",
              "       [2, 0, 4, ..., 1, 1, 0],\n",
              "       ...,\n",
              "       [3, 0, 4, ..., 1, 1, 0],\n",
              "       [3, 0, 1, ..., 1, 1, 0],\n",
              "       [3, 0, 1, ..., 3, 0, 3]])"
            ]
          },
          "metadata": {
            "tags": []
          },
          "execution_count": 195
        }
      ]
    },
    {
      "cell_type": "code",
      "metadata": {
        "colab": {
          "base_uri": "https://localhost:8080/",
          "height": 402
        },
        "id": "M31mteifGyxl",
        "outputId": "375b28a8-8680-46bf-8107-36dd186a8059"
      },
      "source": [
        "train[train.columns[1:]]"
      ],
      "execution_count": null,
      "outputs": [
        {
          "output_type": "execute_result",
          "data": {
            "text/html": [
              "<div>\n",
              "<style scoped>\n",
              "    .dataframe tbody tr th:only-of-type {\n",
              "        vertical-align: middle;\n",
              "    }\n",
              "\n",
              "    .dataframe tbody tr th {\n",
              "        vertical-align: top;\n",
              "    }\n",
              "\n",
              "    .dataframe thead th {\n",
              "        text-align: right;\n",
              "    }\n",
              "</style>\n",
              "<table border=\"1\" class=\"dataframe\">\n",
              "  <thead>\n",
              "    <tr style=\"text-align: right;\">\n",
              "      <th></th>\n",
              "      <th>Pclass</th>\n",
              "      <th>Sex</th>\n",
              "      <th>Age</th>\n",
              "      <th>SibSp</th>\n",
              "      <th>Parch</th>\n",
              "      <th>Fare</th>\n",
              "      <th>Embarked</th>\n",
              "      <th>Name_length</th>\n",
              "      <th>Has_Cabin</th>\n",
              "      <th>Family_size</th>\n",
              "      <th>IsAlone</th>\n",
              "      <th>Title</th>\n",
              "    </tr>\n",
              "  </thead>\n",
              "  <tbody>\n",
              "    <tr>\n",
              "      <th>0</th>\n",
              "      <td>3</td>\n",
              "      <td>0</td>\n",
              "      <td>1</td>\n",
              "      <td>1</td>\n",
              "      <td>0</td>\n",
              "      <td>0</td>\n",
              "      <td>0</td>\n",
              "      <td>23</td>\n",
              "      <td>0</td>\n",
              "      <td>2</td>\n",
              "      <td>0</td>\n",
              "      <td>0</td>\n",
              "    </tr>\n",
              "    <tr>\n",
              "      <th>1</th>\n",
              "      <td>1</td>\n",
              "      <td>1</td>\n",
              "      <td>3</td>\n",
              "      <td>1</td>\n",
              "      <td>0</td>\n",
              "      <td>3</td>\n",
              "      <td>1</td>\n",
              "      <td>51</td>\n",
              "      <td>1</td>\n",
              "      <td>2</td>\n",
              "      <td>0</td>\n",
              "      <td>2</td>\n",
              "    </tr>\n",
              "    <tr>\n",
              "      <th>2</th>\n",
              "      <td>3</td>\n",
              "      <td>1</td>\n",
              "      <td>2</td>\n",
              "      <td>0</td>\n",
              "      <td>0</td>\n",
              "      <td>1</td>\n",
              "      <td>0</td>\n",
              "      <td>22</td>\n",
              "      <td>0</td>\n",
              "      <td>1</td>\n",
              "      <td>1</td>\n",
              "      <td>1</td>\n",
              "    </tr>\n",
              "    <tr>\n",
              "      <th>3</th>\n",
              "      <td>1</td>\n",
              "      <td>1</td>\n",
              "      <td>3</td>\n",
              "      <td>1</td>\n",
              "      <td>0</td>\n",
              "      <td>3</td>\n",
              "      <td>0</td>\n",
              "      <td>44</td>\n",
              "      <td>1</td>\n",
              "      <td>2</td>\n",
              "      <td>0</td>\n",
              "      <td>2</td>\n",
              "    </tr>\n",
              "    <tr>\n",
              "      <th>4</th>\n",
              "      <td>3</td>\n",
              "      <td>0</td>\n",
              "      <td>3</td>\n",
              "      <td>0</td>\n",
              "      <td>0</td>\n",
              "      <td>1</td>\n",
              "      <td>0</td>\n",
              "      <td>24</td>\n",
              "      <td>0</td>\n",
              "      <td>1</td>\n",
              "      <td>1</td>\n",
              "      <td>0</td>\n",
              "    </tr>\n",
              "    <tr>\n",
              "      <th>...</th>\n",
              "      <td>...</td>\n",
              "      <td>...</td>\n",
              "      <td>...</td>\n",
              "      <td>...</td>\n",
              "      <td>...</td>\n",
              "      <td>...</td>\n",
              "      <td>...</td>\n",
              "      <td>...</td>\n",
              "      <td>...</td>\n",
              "      <td>...</td>\n",
              "      <td>...</td>\n",
              "      <td>...</td>\n",
              "    </tr>\n",
              "    <tr>\n",
              "      <th>886</th>\n",
              "      <td>2</td>\n",
              "      <td>0</td>\n",
              "      <td>2</td>\n",
              "      <td>0</td>\n",
              "      <td>0</td>\n",
              "      <td>1</td>\n",
              "      <td>0</td>\n",
              "      <td>21</td>\n",
              "      <td>0</td>\n",
              "      <td>1</td>\n",
              "      <td>1</td>\n",
              "      <td>4</td>\n",
              "    </tr>\n",
              "    <tr>\n",
              "      <th>887</th>\n",
              "      <td>1</td>\n",
              "      <td>1</td>\n",
              "      <td>0</td>\n",
              "      <td>0</td>\n",
              "      <td>0</td>\n",
              "      <td>2</td>\n",
              "      <td>0</td>\n",
              "      <td>28</td>\n",
              "      <td>1</td>\n",
              "      <td>1</td>\n",
              "      <td>1</td>\n",
              "      <td>1</td>\n",
              "    </tr>\n",
              "    <tr>\n",
              "      <th>888</th>\n",
              "      <td>3</td>\n",
              "      <td>1</td>\n",
              "      <td>1</td>\n",
              "      <td>1</td>\n",
              "      <td>2</td>\n",
              "      <td>2</td>\n",
              "      <td>0</td>\n",
              "      <td>40</td>\n",
              "      <td>0</td>\n",
              "      <td>4</td>\n",
              "      <td>0</td>\n",
              "      <td>1</td>\n",
              "    </tr>\n",
              "    <tr>\n",
              "      <th>889</th>\n",
              "      <td>1</td>\n",
              "      <td>0</td>\n",
              "      <td>2</td>\n",
              "      <td>0</td>\n",
              "      <td>0</td>\n",
              "      <td>2</td>\n",
              "      <td>1</td>\n",
              "      <td>21</td>\n",
              "      <td>1</td>\n",
              "      <td>1</td>\n",
              "      <td>1</td>\n",
              "      <td>0</td>\n",
              "    </tr>\n",
              "    <tr>\n",
              "      <th>890</th>\n",
              "      <td>3</td>\n",
              "      <td>0</td>\n",
              "      <td>3</td>\n",
              "      <td>0</td>\n",
              "      <td>0</td>\n",
              "      <td>0</td>\n",
              "      <td>2</td>\n",
              "      <td>19</td>\n",
              "      <td>0</td>\n",
              "      <td>1</td>\n",
              "      <td>1</td>\n",
              "      <td>0</td>\n",
              "    </tr>\n",
              "  </tbody>\n",
              "</table>\n",
              "<p>891 rows × 12 columns</p>\n",
              "</div>"
            ],
            "text/plain": [
              "     Pclass  Sex  Age  SibSp  ...  Has_Cabin  Family_size  IsAlone  Title\n",
              "0         3    0    1      1  ...          0            2        0      0\n",
              "1         1    1    3      1  ...          1            2        0      2\n",
              "2         3    1    2      0  ...          0            1        1      1\n",
              "3         1    1    3      1  ...          1            2        0      2\n",
              "4         3    0    3      0  ...          0            1        1      0\n",
              "..      ...  ...  ...    ...  ...        ...          ...      ...    ...\n",
              "886       2    0    2      0  ...          0            1        1      4\n",
              "887       1    1    0      0  ...          1            1        1      1\n",
              "888       3    1    1      1  ...          0            4        0      1\n",
              "889       1    0    2      0  ...          1            1        1      0\n",
              "890       3    0    3      0  ...          0            1        1      0\n",
              "\n",
              "[891 rows x 12 columns]"
            ]
          },
          "metadata": {
            "tags": []
          },
          "execution_count": 237
        }
      ]
    },
    {
      "cell_type": "code",
      "metadata": {
        "colab": {
          "base_uri": "https://localhost:8080/"
        },
        "id": "S1OeoEizQVIr",
        "outputId": "4eb8ee88-26e0-42b8-cfd5-c1eb339000b0"
      },
      "source": [
        "train[train.columns[1:]].values"
      ],
      "execution_count": null,
      "outputs": [
        {
          "output_type": "execute_result",
          "data": {
            "text/plain": [
              "array([[3, 0, 1, ..., 2, 0, 0],\n",
              "       [1, 1, 3, ..., 2, 0, 2],\n",
              "       [3, 1, 2, ..., 1, 1, 1],\n",
              "       ...,\n",
              "       [3, 1, 1, ..., 4, 0, 1],\n",
              "       [1, 0, 2, ..., 1, 1, 0],\n",
              "       [3, 0, 3, ..., 1, 1, 0]])"
            ]
          },
          "metadata": {
            "tags": []
          },
          "execution_count": 235
        }
      ]
    },
    {
      "cell_type": "code",
      "metadata": {
        "id": "YOnrISC_L-Yb"
      },
      "source": [
        "train_data = train[train.columns[1:]]\n",
        "target = train[['Survived']]"
      ],
      "execution_count": null,
      "outputs": []
    },
    {
      "cell_type": "code",
      "metadata": {
        "id": "LWHyhPWBMUA5"
      },
      "source": [
        "train_X, test_X, train_Y, test_Y = train_test_split(train_data, target, test_size=0.3, random_state=2018)  ## test데이터도 전처리해서 같이 트레인셋, 타겟셋을 나눈다."
      ],
      "execution_count": null,
      "outputs": []
    },
    {
      "cell_type": "code",
      "metadata": {
        "id": "-dfOss6yWb0u"
      },
      "source": [
        "train, test = train_test_split(train, test_size=0.3, random_state=0)\n",
        "train_X = train[train.columns[1:]]\n",
        "train_Y = train[train.columns[:1]]\n",
        "test_X = test[test.columns[1:]]\n",
        "test_Y = test[test.columns[:1]]\n",
        "X = train[train.columns[1:]]\n",
        "Y = train['Survived']"
      ],
      "execution_count": null,
      "outputs": []
    },
    {
      "cell_type": "code",
      "metadata": {
        "colab": {
          "base_uri": "https://localhost:8080/"
        },
        "id": "agHjMmaHMw4J",
        "outputId": "12989158-a283-4b7c-d80b-97b9a92c63b3"
      },
      "source": [
        "model = svm.SVC(kernel = 'rbf', C=1, gamma=0.5)\n",
        "model.fit(train_X, train_Y)\n",
        "prediction1 = model.predict(test_X)\n",
        "print('SVC rbf의 정확도는', metrics.accuracy_score(prediction1, test_Y))\n",
        "result = cross_val_score(model, test_X, test_Y, cv=10, scoring='accuracy')\n",
        "print('SVC rbf의 교차검증 점수는', result.mean())\n",
        "print('SVC rbf의 f1 점수는', metrics.f1_score(prediction1, test_Y))"
      ],
      "execution_count": null,
      "outputs": [
        {
          "output_type": "stream",
          "text": [
            "SVC rbf의 정확도는 0.8208955223880597\n",
            "SVC rbf의 교차검증 점수는 0.7198005698005698\n",
            "SVC rbf의 f1 점수는 0.7272727272727272\n"
          ],
          "name": "stdout"
        }
      ]
    },
    {
      "cell_type": "code",
      "metadata": {
        "colab": {
          "base_uri": "https://localhost:8080/"
        },
        "id": "_ruCXwRgSga0",
        "outputId": "a64d7c69-c9c6-43a8-c20b-1758ca0ffa94"
      },
      "source": [
        "model = svm.SVC(kernel='linear', C=1, gamma=0.5)\n",
        "model.fit(train_X, train_Y)\n",
        "prediction2 = model.predict(test_X)\n",
        "print('SVC lin의 정확도는', metrics.accuracy_score(prediction2, test_Y))\n",
        "result = cross_val_score(model, test_X, test_Y, cv=10, scoring='accuracy')\n",
        "print('SVC lin의 교차검증 값은', result.mean())\n",
        "print('SVC lin의 f1 값은', metrics.f1_score(prediction2, test_Y))"
      ],
      "execution_count": null,
      "outputs": [
        {
          "output_type": "stream",
          "text": [
            "SVC lin의 정확도는 0.8619402985074627\n",
            "SVC lin의 교차검증 값은 0.8245014245014245\n",
            "SVC lin의 f1 값은 0.8042328042328043\n"
          ],
          "name": "stdout"
        }
      ]
    },
    {
      "cell_type": "code",
      "metadata": {
        "colab": {
          "base_uri": "https://localhost:8080/"
        },
        "id": "ENEKiwPJT53p",
        "outputId": "5e22f581-b51e-4a81-8fd5-f0b3276d1f35"
      },
      "source": [
        "model = RandomForestClassifier()\n",
        "model.fit(train_X, train_Y)\n",
        "prediction3 = model.predict(test_X)\n",
        "result = cross_val_score(model, test_X, test_Y, cv=10, scoring='accuracy')\n",
        "print('랜덤포레스트의 정확도는', metrics.accuracy_score(prediction3, test_Y))\n",
        "print('랜덤포레스트의 교차검증 점수는', result.mean())\n",
        "print('랜덤포레스트의 f1값은', metrics.f1_score(prediction3, test_Y))"
      ],
      "execution_count": null,
      "outputs": [
        {
          "output_type": "stream",
          "text": [
            "랜덤포레스트의 정확도는 0.8507462686567164\n",
            "랜덤포레스트의 교차검증 점수는 0.8433048433048432\n",
            "랜덤포레스트의 f1값은 0.7826086956521738\n"
          ],
          "name": "stdout"
        }
      ]
    },
    {
      "cell_type": "code",
      "metadata": {
        "colab": {
          "base_uri": "https://localhost:8080/"
        },
        "id": "qn3QsACeUbOi",
        "outputId": "2f5d1929-00e6-490a-a2b2-b2f87db1cf6a"
      },
      "source": [
        "model = KNeighborsClassifier()\n",
        "model.fit(train_X, train_Y)\n",
        "prediction4 = model.predict(test_X)\n",
        "result = cross_val_score(model, test_X, test_Y, cv=10, scoring='accuracy')\n",
        "print('KNN의 정확도는', metrics.accuracy_score(prediction4, test_Y))\n",
        "print('KNN의 f1값은', metrics.f1_score(prediction4, test_Y))\n",
        "print('KNN의 교차검증 점수는', result.mean())"
      ],
      "execution_count": null,
      "outputs": [
        {
          "output_type": "stream",
          "text": [
            "KNN의 정확도는 0.7947761194029851\n",
            "KNN의 f1값은 0.6927374301675977\n",
            "KNN의 교차검증 점수는 0.7686609686609687\n"
          ],
          "name": "stdout"
        }
      ]
    },
    {
      "cell_type": "code",
      "metadata": {
        "colab": {
          "base_uri": "https://localhost:8080/"
        },
        "id": "TUM9B3erVI6l",
        "outputId": "a7e8d699-e5fc-48c5-93d8-57e4ba83f0a9"
      },
      "source": [
        "model = GaussianNB()\n",
        "model.fit(train_X, train_Y)\n",
        "prediction5 = model.predict(test_X)\n",
        "result = cross_val_score(model, test_X, test_Y, cv=10, scoring='accuracy')\n",
        "print('가우시안의 정확도는', metrics.accuracy_score(prediction5, test_Y))\n",
        "print('가우시안의 f1값은', metrics.f1_score(prediction5, test_Y))\n",
        "print('가우시안의 교차검증 값은', result.mean())"
      ],
      "execution_count": null,
      "outputs": [
        {
          "output_type": "stream",
          "text": [
            "가우시안의 정확도는 0.7798507462686567\n",
            "가우시안의 f1값은 0.7121951219512195\n",
            "가우시안의 교차검증 값은 0.8024216524216525\n"
          ],
          "name": "stdout"
        }
      ]
    },
    {
      "cell_type": "code",
      "metadata": {
        "colab": {
          "base_uri": "https://localhost:8080/"
        },
        "id": "ZIE55ov6Vn3C",
        "outputId": "981ec21c-b864-4ffe-b05c-b3fe7411d805"
      },
      "source": [
        "model = DecisionTreeClassifier()\n",
        "model.fit(train_X, train_Y)\n",
        "prediction6 = model.predict(test_X)\n",
        "result = cross_val_score(model, test_X, test_Y, cv=10, scoring='accuracy')\n",
        "print('의사결정트리의 정확도든', metrics.accuracy_score(prediction6, test_Y))\n",
        "print('의사결정트리의 f1값은', metrics.f1_score(prediction6, test_Y))\n",
        "print('의사결정트리의 교차검증 점수는', result.mean())"
      ],
      "execution_count": null,
      "outputs": [
        {
          "output_type": "stream",
          "text": [
            "의사결정트리의 정확도든 0.7835820895522388\n",
            "의사결정트리의 f1값은 0.6947368421052632\n",
            "의사결정트리의 교차검증 점수는 0.798148148148148\n"
          ],
          "name": "stdout"
        }
      ]
    },
    {
      "cell_type": "code",
      "metadata": {
        "colab": {
          "base_uri": "https://localhost:8080/"
        },
        "id": "RnwU3x_hY8yU",
        "outputId": "0ccc8d2e-7379-4b70-9822-058193419a33"
      },
      "source": [
        "model = LogisticRegression()\n",
        "model.fit(train_X, train_Y)\n",
        "prediction7 = model.predict(test_X)\n",
        "result = cross_val_score(model, test_X, test_Y, cv=10, scoring='accuracy')\n",
        "print('로지스틱의 정확도든', metrics.accuracy_score(prediction7, test_Y))\n",
        "print('로지스틱의 f1값은', metrics.f1_score(prediction7, test_Y))\n",
        "print('로지스틱의 교차검증 점수는', result.mean())"
      ],
      "execution_count": null,
      "outputs": [
        {
          "output_type": "stream",
          "text": [
            "로지스틱의 정확도든 0.8246268656716418\n",
            "로지스틱의 f1값은 0.7486631016042781\n",
            "로지스틱의 교차검증 점수는 0.8507122507122507\n"
          ],
          "name": "stdout"
        }
      ]
    },
    {
      "cell_type": "code",
      "metadata": {
        "id": "F2079hWGU-NT"
      },
      "source": [
        "for model in []"
      ],
      "execution_count": null,
      "outputs": []
    },
    {
      "cell_type": "code",
      "metadata": {
        "id": "Fo2F7eOikIsv"
      },
      "source": [
        "train_X = train[train.columns[1:]]\n",
        "train_Y = train[train.columns[:1]]\n",
        "test_X = test[test.columns[:]]\n",
        "X = train[train.columns[1:]]\n",
        "Y = train['Survived']"
      ],
      "execution_count": null,
      "outputs": []
    },
    {
      "cell_type": "code",
      "metadata": {
        "id": "zklUd4-hEsA2"
      },
      "source": [
        "train, test = train_test_split(train, test_size=0.3, random_state=0, stratify=train['Survived'])\n",
        "train_X = train[train.columns[1:]]\n",
        "train_Y = train[train.columns[:1]]\n",
        "test_X = test[test.columns[1:]]\n",
        "test_Y = test[test.columns[:1]]\n",
        "X = train[train.columns[1:]]\n",
        "Y = train['Survived']"
      ],
      "execution_count": null,
      "outputs": []
    },
    {
      "cell_type": "code",
      "metadata": {
        "colab": {
          "base_uri": "https://localhost:8080/",
          "height": 386
        },
        "id": "wes2_17qkIvi",
        "outputId": "7587f75c-777f-40f2-b0dc-062e74cb56ad"
      },
      "source": [
        "model = svm.SVC(kernel='rbf', C=1, gamma=0.1)\n",
        "model.fit(train_X,train_Y)\n",
        "y_pred = model.fit(train_X, train_Y).predict(train_X)\n",
        "print('SVC rbf의 정확도 점수는', metrics.accuracy_score(Y, y_pred))  ## y_pred ==> 예측한 값,    y_true ==> 실제 값\n",
        "print('SVC rbf의 f1(성능값)은', metrics.f1_score(Y, y_pred))"
      ],
      "execution_count": null,
      "outputs": [
        {
          "output_type": "error",
          "ename": "ValueError",
          "evalue": "ignored",
          "traceback": [
            "\u001b[0;31m---------------------------------------------------------------------------\u001b[0m",
            "\u001b[0;31mValueError\u001b[0m                                Traceback (most recent call last)",
            "\u001b[0;32m<ipython-input-241-b8eea1d72c48>\u001b[0m in \u001b[0;36m<module>\u001b[0;34m()\u001b[0m\n\u001b[1;32m      1\u001b[0m \u001b[0mmodel\u001b[0m \u001b[0;34m=\u001b[0m \u001b[0msvm\u001b[0m\u001b[0;34m.\u001b[0m\u001b[0mSVC\u001b[0m\u001b[0;34m(\u001b[0m\u001b[0mkernel\u001b[0m\u001b[0;34m=\u001b[0m\u001b[0;34m'rbf'\u001b[0m\u001b[0;34m,\u001b[0m \u001b[0mC\u001b[0m\u001b[0;34m=\u001b[0m\u001b[0;36m1\u001b[0m\u001b[0;34m,\u001b[0m \u001b[0mgamma\u001b[0m\u001b[0;34m=\u001b[0m\u001b[0;36m0.1\u001b[0m\u001b[0;34m)\u001b[0m\u001b[0;34m\u001b[0m\u001b[0;34m\u001b[0m\u001b[0m\n\u001b[0;32m----> 2\u001b[0;31m \u001b[0mmodel\u001b[0m\u001b[0;34m.\u001b[0m\u001b[0mfit\u001b[0m\u001b[0;34m(\u001b[0m\u001b[0mtrain_X\u001b[0m\u001b[0;34m,\u001b[0m\u001b[0mtrain_Y\u001b[0m\u001b[0;34m)\u001b[0m\u001b[0;34m\u001b[0m\u001b[0;34m\u001b[0m\u001b[0m\n\u001b[0m\u001b[1;32m      3\u001b[0m \u001b[0my_pred\u001b[0m \u001b[0;34m=\u001b[0m \u001b[0mmodel\u001b[0m\u001b[0;34m.\u001b[0m\u001b[0mfit\u001b[0m\u001b[0;34m(\u001b[0m\u001b[0mtrain_X\u001b[0m\u001b[0;34m,\u001b[0m \u001b[0mtrain_Y\u001b[0m\u001b[0;34m)\u001b[0m\u001b[0;34m.\u001b[0m\u001b[0mpredict\u001b[0m\u001b[0;34m(\u001b[0m\u001b[0mtrain_X\u001b[0m\u001b[0;34m)\u001b[0m\u001b[0;34m\u001b[0m\u001b[0;34m\u001b[0m\u001b[0m\n\u001b[1;32m      4\u001b[0m \u001b[0mprint\u001b[0m\u001b[0;34m(\u001b[0m\u001b[0;34m'SVC rbf의 정확도 점수는'\u001b[0m\u001b[0;34m,\u001b[0m \u001b[0mmetrics\u001b[0m\u001b[0;34m.\u001b[0m\u001b[0maccuracy_score\u001b[0m\u001b[0;34m(\u001b[0m\u001b[0mY\u001b[0m\u001b[0;34m,\u001b[0m \u001b[0my_pred\u001b[0m\u001b[0;34m)\u001b[0m\u001b[0;34m)\u001b[0m  \u001b[0;31m## y_pred ==> 예측한 값,    y_true ==> 실제 값\u001b[0m\u001b[0;34m\u001b[0m\u001b[0;34m\u001b[0m\u001b[0m\n\u001b[1;32m      5\u001b[0m \u001b[0mprint\u001b[0m\u001b[0;34m(\u001b[0m\u001b[0;34m'SVC rbf의 f1(성능값)은'\u001b[0m\u001b[0;34m,\u001b[0m \u001b[0mmetrics\u001b[0m\u001b[0;34m.\u001b[0m\u001b[0mf1_score\u001b[0m\u001b[0;34m(\u001b[0m\u001b[0mY\u001b[0m\u001b[0;34m,\u001b[0m \u001b[0my_pred\u001b[0m\u001b[0;34m)\u001b[0m\u001b[0;34m)\u001b[0m\u001b[0;34m\u001b[0m\u001b[0;34m\u001b[0m\u001b[0m\n",
            "\u001b[0;32m/usr/local/lib/python3.6/dist-packages/sklearn/svm/_base.py\u001b[0m in \u001b[0;36mfit\u001b[0;34m(self, X, y, sample_weight)\u001b[0m\n\u001b[1;32m    146\u001b[0m         X, y = check_X_y(X, y, dtype=np.float64,\n\u001b[1;32m    147\u001b[0m                          \u001b[0morder\u001b[0m\u001b[0;34m=\u001b[0m\u001b[0;34m'C'\u001b[0m\u001b[0;34m,\u001b[0m \u001b[0maccept_sparse\u001b[0m\u001b[0;34m=\u001b[0m\u001b[0;34m'csr'\u001b[0m\u001b[0;34m,\u001b[0m\u001b[0;34m\u001b[0m\u001b[0;34m\u001b[0m\u001b[0m\n\u001b[0;32m--> 148\u001b[0;31m                          accept_large_sparse=False)\n\u001b[0m\u001b[1;32m    149\u001b[0m         \u001b[0my\u001b[0m \u001b[0;34m=\u001b[0m \u001b[0mself\u001b[0m\u001b[0;34m.\u001b[0m\u001b[0m_validate_targets\u001b[0m\u001b[0;34m(\u001b[0m\u001b[0my\u001b[0m\u001b[0;34m)\u001b[0m\u001b[0;34m\u001b[0m\u001b[0;34m\u001b[0m\u001b[0m\n\u001b[1;32m    150\u001b[0m \u001b[0;34m\u001b[0m\u001b[0m\n",
            "\u001b[0;32m/usr/local/lib/python3.6/dist-packages/sklearn/utils/validation.py\u001b[0m in \u001b[0;36mcheck_X_y\u001b[0;34m(X, y, accept_sparse, accept_large_sparse, dtype, order, copy, force_all_finite, ensure_2d, allow_nd, multi_output, ensure_min_samples, ensure_min_features, y_numeric, warn_on_dtype, estimator)\u001b[0m\n\u001b[1;32m    758\u001b[0m                         dtype=None)\n\u001b[1;32m    759\u001b[0m     \u001b[0;32melse\u001b[0m\u001b[0;34m:\u001b[0m\u001b[0;34m\u001b[0m\u001b[0;34m\u001b[0m\u001b[0m\n\u001b[0;32m--> 760\u001b[0;31m         \u001b[0my\u001b[0m \u001b[0;34m=\u001b[0m \u001b[0mcolumn_or_1d\u001b[0m\u001b[0;34m(\u001b[0m\u001b[0my\u001b[0m\u001b[0;34m,\u001b[0m \u001b[0mwarn\u001b[0m\u001b[0;34m=\u001b[0m\u001b[0;32mTrue\u001b[0m\u001b[0;34m)\u001b[0m\u001b[0;34m\u001b[0m\u001b[0;34m\u001b[0m\u001b[0m\n\u001b[0m\u001b[1;32m    761\u001b[0m         \u001b[0m_assert_all_finite\u001b[0m\u001b[0;34m(\u001b[0m\u001b[0my\u001b[0m\u001b[0;34m)\u001b[0m\u001b[0;34m\u001b[0m\u001b[0;34m\u001b[0m\u001b[0m\n\u001b[1;32m    762\u001b[0m     \u001b[0;32mif\u001b[0m \u001b[0my_numeric\u001b[0m \u001b[0;32mand\u001b[0m \u001b[0my\u001b[0m\u001b[0;34m.\u001b[0m\u001b[0mdtype\u001b[0m\u001b[0;34m.\u001b[0m\u001b[0mkind\u001b[0m \u001b[0;34m==\u001b[0m \u001b[0;34m'O'\u001b[0m\u001b[0;34m:\u001b[0m\u001b[0;34m\u001b[0m\u001b[0;34m\u001b[0m\u001b[0m\n",
            "\u001b[0;32m/usr/local/lib/python3.6/dist-packages/sklearn/utils/validation.py\u001b[0m in \u001b[0;36mcolumn_or_1d\u001b[0;34m(y, warn)\u001b[0m\n\u001b[1;32m    795\u001b[0m         \u001b[0;32mreturn\u001b[0m \u001b[0mnp\u001b[0m\u001b[0;34m.\u001b[0m\u001b[0mravel\u001b[0m\u001b[0;34m(\u001b[0m\u001b[0my\u001b[0m\u001b[0;34m)\u001b[0m\u001b[0;34m\u001b[0m\u001b[0;34m\u001b[0m\u001b[0m\n\u001b[1;32m    796\u001b[0m \u001b[0;34m\u001b[0m\u001b[0m\n\u001b[0;32m--> 797\u001b[0;31m     \u001b[0;32mraise\u001b[0m \u001b[0mValueError\u001b[0m\u001b[0;34m(\u001b[0m\u001b[0;34m\"bad input shape {0}\"\u001b[0m\u001b[0;34m.\u001b[0m\u001b[0mformat\u001b[0m\u001b[0;34m(\u001b[0m\u001b[0mshape\u001b[0m\u001b[0;34m)\u001b[0m\u001b[0;34m)\u001b[0m\u001b[0;34m\u001b[0m\u001b[0;34m\u001b[0m\u001b[0m\n\u001b[0m\u001b[1;32m    798\u001b[0m \u001b[0;34m\u001b[0m\u001b[0m\n\u001b[1;32m    799\u001b[0m \u001b[0;34m\u001b[0m\u001b[0m\n",
            "\u001b[0;31mValueError\u001b[0m: bad input shape (268, 12)"
          ]
        }
      ]
    },
    {
      "cell_type": "code",
      "metadata": {
        "colab": {
          "base_uri": "https://localhost:8080/"
        },
        "id": "cC9n5rewkIxN",
        "outputId": "74f09422-4bdf-4cde-94c2-4197cf08266c"
      },
      "source": [
        "model = svm.SVC(kernel='linear', C=1, gamma=.1)\n",
        "model.fit(train_X, train_Y)\n",
        "prediction2 = model.predict(test_X)\n",
        "print('SVC lin의 정확도 점수는', metrics.accuracy_score(prediction2, test_Y))\n",
        "result = cross_val_score(model, X, Y, cv=10, scoring='accuracy')\n",
        "print('SVC lin의 교차검증 점수는', result.mean())\n",
        "print('SVC lin의 f1(성능값은)', metrics.f1_score(prediction2, test_Y))"
      ],
      "execution_count": null,
      "outputs": [
        {
          "output_type": "stream",
          "text": [
            "SVC lin의 정확도 점수는 0.8235294117647058\n",
            "SVC lin의 교차검증 점수는 0.763953488372093\n",
            "SVC lin의 f1(성능값은) 0.7518796992481204\n"
          ],
          "name": "stdout"
        }
      ]
    },
    {
      "cell_type": "code",
      "metadata": {
        "colab": {
          "base_uri": "https://localhost:8080/"
        },
        "id": "DZm1P-spkIzv",
        "outputId": "8cdbc4ae-3c39-4bee-a275-8a45e13a860d"
      },
      "source": [
        "model = RandomForestClassifier()\n",
        "model.fit(train_X, train_Y)\n",
        "prediction3 = model.predict(test_X)\n",
        "result = cross_val_score(model, X, Y, cv=10, scoring='accuracy')\n",
        "print('랜덤포레스트의 정확도는', metrics.accuracy_score(prediction3, test_Y))\n",
        "print('랜덤포레스트의 교차검증 점수는', result.mean())\n",
        "print('랜덤포레스트의 f1값은', metrics.f1_score(prediction3, test_Y))"
      ],
      "execution_count": null,
      "outputs": [
        {
          "output_type": "stream",
          "text": [
            "랜덤포레스트의 정확도는 0.8021390374331551\n",
            "랜덤포레스트의 교차검증 점수는 0.7893234672304439\n",
            "랜덤포레스트의 f1값은 0.7259259259259259\n"
          ],
          "name": "stdout"
        }
      ]
    },
    {
      "cell_type": "code",
      "metadata": {
        "colab": {
          "base_uri": "https://localhost:8080/"
        },
        "id": "zGtDrXPqkI17",
        "outputId": "4a902b25-2492-41c7-881f-c2ffa8ed6671"
      },
      "source": [
        "model = KNeighborsClassifier()\n",
        "model.fit(train_X, train_Y)\n",
        "prediction4 = model.predict(test_X)\n",
        "result = cross_val_score(model, X, Y, cv=10, scoring='accuracy')\n",
        "print('KNN의 정확도는', metrics.accuracy_score(prediction4, test_Y))\n",
        "print('KNN의 교차검증 점수는', result.mean())\n",
        "print('KNN의 f1값은', metrics.f1_score(prediction4, test_Y))"
      ],
      "execution_count": null,
      "outputs": [
        {
          "output_type": "stream",
          "text": [
            "KNN의 정확도는 0.8128342245989305\n",
            "KNN의 교차검증 점수는 0.7361522198731502\n",
            "KNN의 f1값은 0.7368421052631579\n"
          ],
          "name": "stdout"
        }
      ]
    },
    {
      "cell_type": "code",
      "metadata": {
        "colab": {
          "base_uri": "https://localhost:8080/"
        },
        "id": "smWOx21gkI4D",
        "outputId": "f850854d-6ac9-4d80-be4c-e675df823a5a"
      },
      "source": [
        "model = GaussianNB()\n",
        "model.fit(train_X, train_Y)\n",
        "prediction5 = model.predict(test_X)\n",
        "result = cross_val_score(model, X, Y, cv=10, scoring='accuracy')\n",
        "print('가우시안의 정확도는', metrics.accuracy_score(prediction5, test_Y))\n",
        "print('가우시안의 교차검증 점수는', result.mean())\n",
        "print('가우시안의 f1값은', metrics.f1_score(prediction5, test_Y))"
      ],
      "execution_count": null,
      "outputs": [
        {
          "output_type": "stream",
          "text": [
            "가우시안의 정확도는 0.8021390374331551\n",
            "가우시안의 교차검증 점수는 0.7661205073995772\n",
            "가우시안의 f1값은 0.7516778523489932\n"
          ],
          "name": "stdout"
        }
      ]
    },
    {
      "cell_type": "code",
      "metadata": {
        "colab": {
          "base_uri": "https://localhost:8080/"
        },
        "id": "2IVgvlurCofM",
        "outputId": "142d8f9c-907c-49fd-9e8c-f87fb428c025"
      },
      "source": [
        "model = LogisticRegression()\n",
        "model.fit(train_X, train_Y)\n",
        "prediction6 = model.predict(test_X)\n",
        "result = cross_val_score(model, X, Y, cv=10, scoring='accuracy')\n",
        "print('로지스틱의 정확도는', metrics.accuracy_score(prediction6, test_Y))\n",
        "print('로지스틱의 교차검증 점수는', result.mean())\n",
        "print('로지스틱의 f1값은', metrics.f1_score(prediction6, test_Y))"
      ],
      "execution_count": null,
      "outputs": [
        {
          "output_type": "stream",
          "text": [
            "로지스틱의 정확도는 0.7807486631016043\n",
            "로지스틱의 교차검증 점수는 0.7845137420718815\n",
            "로지스틱의 f1값은 0.6962962962962964\n"
          ],
          "name": "stdout"
        }
      ]
    },
    {
      "cell_type": "code",
      "metadata": {
        "colab": {
          "base_uri": "https://localhost:8080/"
        },
        "id": "5mCW_wMuCohr",
        "outputId": "fd3f37a8-6268-4f96-a1a7-93b2a1a9421e"
      },
      "source": [
        "model = DecisionTreeClassifier()\n",
        "model.fit(train_X, train_Y)\n",
        "prediction7 = model.predict(test_X)\n",
        "result = cross_val_score(model, X, Y, cv=10, scoring='accuracy')\n",
        "print('결정트리의 정확도는', metrics.accuracy_score(prediction7, test_Y))\n",
        "print('결정트리의 교차검증 점수는', result.mean())\n",
        "print('결정트리의 f1값은', metrics.f1_score(prediction7, test_Y))"
      ],
      "execution_count": null,
      "outputs": [
        {
          "output_type": "stream",
          "text": [
            "결정트리의 정확도는 0.7540106951871658\n",
            "결정트리의 교차검증 점수는 0.7571881606765327\n",
            "결정트리의 f1값은 0.676056338028169\n"
          ],
          "name": "stdout"
        }
      ]
    },
    {
      "cell_type": "code",
      "metadata": {
        "colab": {
          "base_uri": "https://localhost:8080/",
          "height": 254
        },
        "id": "kHtLZzK2Cojx",
        "outputId": "facbe94a-b120-42c4-f601-d9f8f1edcc93"
      },
      "source": [
        "kfold = KFold(n_splits=10, random_state=22)\n",
        "xyz=[]\n",
        "std=[]\n",
        "accuracy=[]\n",
        "classifiers = ['SVC lin',' SVC rbf', 'Logistic Regression', 'KNN', 'Decision Tree', 'Gausiian', 'Random Forest']\n",
        "models = [svm.SVC(kernel='linear'), svm.SVC(kernel='rbf'), LogisticRegression(), KNeighborsClassifier(n_neighbors=9), DecisionTreeClassifier(), GaussianNB(), RandomForestClassifier(n_estimators=100)]\n",
        "for i in models:\n",
        "  model = i\n",
        "  cv_result = cross_val_score(model, X, Y, cv=kfold, scoring='accuracy') ## 교차검증 점수 보기위한 for문\n",
        "  cv_result = cv_result\n",
        "  xyz.append(cv_result.mean())  ## append = 리스트에 추가하기\n",
        "  std.append(cv_result.std())\n",
        "  accuracy.append(cv_result)\n",
        "new_models_dataframe2 = pd.DataFrame({'CV Mean':xyz, 'Std':std}, index=classifiers)\n",
        "new_models_dataframe2"
      ],
      "execution_count": null,
      "outputs": [
        {
          "output_type": "execute_result",
          "data": {
            "text/html": [
              "<div>\n",
              "<style scoped>\n",
              "    .dataframe tbody tr th:only-of-type {\n",
              "        vertical-align: middle;\n",
              "    }\n",
              "\n",
              "    .dataframe tbody tr th {\n",
              "        vertical-align: top;\n",
              "    }\n",
              "\n",
              "    .dataframe thead th {\n",
              "        text-align: right;\n",
              "    }\n",
              "</style>\n",
              "<table border=\"1\" class=\"dataframe\">\n",
              "  <thead>\n",
              "    <tr style=\"text-align: right;\">\n",
              "      <th></th>\n",
              "      <th>CV Mean</th>\n",
              "      <th>Std</th>\n",
              "    </tr>\n",
              "  </thead>\n",
              "  <tbody>\n",
              "    <tr>\n",
              "      <th>SVC lin</th>\n",
              "      <td>0.761681</td>\n",
              "      <td>0.043572</td>\n",
              "    </tr>\n",
              "    <tr>\n",
              "      <th>SVC rbf</th>\n",
              "      <td>0.683192</td>\n",
              "      <td>0.036242</td>\n",
              "    </tr>\n",
              "    <tr>\n",
              "      <th>Logistic Regression</th>\n",
              "      <td>0.789218</td>\n",
              "      <td>0.037036</td>\n",
              "    </tr>\n",
              "    <tr>\n",
              "      <th>KNN</th>\n",
              "      <td>0.731660</td>\n",
              "      <td>0.044240</td>\n",
              "    </tr>\n",
              "    <tr>\n",
              "      <th>Decision Tree</th>\n",
              "      <td>0.745507</td>\n",
              "      <td>0.040842</td>\n",
              "    </tr>\n",
              "    <tr>\n",
              "      <th>Gausiian</th>\n",
              "      <td>0.766121</td>\n",
              "      <td>0.055529</td>\n",
              "    </tr>\n",
              "    <tr>\n",
              "      <th>Random Forest</th>\n",
              "      <td>0.791702</td>\n",
              "      <td>0.050057</td>\n",
              "    </tr>\n",
              "  </tbody>\n",
              "</table>\n",
              "</div>"
            ],
            "text/plain": [
              "                      CV Mean       Std\n",
              "SVC lin              0.761681  0.043572\n",
              " SVC rbf             0.683192  0.036242\n",
              "Logistic Regression  0.789218  0.037036\n",
              "KNN                  0.731660  0.044240\n",
              "Decision Tree        0.745507  0.040842\n",
              "Gausiian             0.766121  0.055529\n",
              "Random Forest        0.791702  0.050057"
            ]
          },
          "metadata": {
            "tags": []
          },
          "execution_count": 125
        }
      ]
    },
    {
      "cell_type": "code",
      "metadata": {
        "colab": {
          "base_uri": "https://localhost:8080/",
          "height": 392
        },
        "id": "Fz53L38FElPc",
        "outputId": "c2fe0b9e-0102-4084-a14f-29d9be6071e8"
      },
      "source": [
        "plt.subplots(figsize=(12,6))\n",
        "box = pd.DataFrame(accuracy, index=[classifiers])\n",
        "box.T.boxplot()"
      ],
      "execution_count": null,
      "outputs": [
        {
          "output_type": "execute_result",
          "data": {
            "text/plain": [
              "<matplotlib.axes._subplots.AxesSubplot at 0x7f4f0478f240>"
            ]
          },
          "metadata": {
            "tags": []
          },
          "execution_count": 127
        },
        {
          "output_type": "display_data",
          "data": {
            "image/png": "[encoded data removed]",
            "text/plain": [
              "<Figure size 864x432 with 1 Axes>"
            ]
          },
          "metadata": {
            "tags": [],
            "needs_background": "light"
          }
        }
      ]
    },
    {
      "cell_type": "code",
      "metadata": {
        "colab": {
          "base_uri": "https://localhost:8080/",
          "height": 390
        },
        "id": "EbXFuWV9ElSC",
        "outputId": "6eb6bda0-036f-4cd8-a686-7274da72be18"
      },
      "source": [
        "new_models_dataframe2['CV Mean'].sort_values().plot.barh(width=0.8)\n",
        "plt.title('average CV Mean Accuracy')\n",
        "fig = plt.gcf()\n",
        "fig.set_size_inches(12,6)"
      ],
      "execution_count": null,
      "outputs": [
        {
          "output_type": "display_data",
          "data": {
            "image/png": "[encoded data removed]",
            "text/plain": [
              "<Figure size 864x432 with 1 Axes>"
            ]
          },
          "metadata": {
            "tags": [],
            "needs_background": "light"
          }
        }
      ]
    },
    {
      "cell_type": "code",
      "metadata": {
        "colab": {
          "base_uri": "https://localhost:8080/",
          "height": 625
        },
        "id": "PqWLr5DTElT-",
        "outputId": "910b8a3e-f792-4295-b9cf-b32ed2aa49d9"
      },
      "source": [
        "f, ax =plt.subplots(3,3, figsize=(12,10))\n",
        "y_pred = cross_val_predict(svm.SVC(kernel='rbf'),X,Y,cv=10)\n",
        "sns.heatmap(confusion_matrix(Y, y_pred), ax=ax[0,0], annot=True, fmt='2.0f')\n",
        "ax[0,0].set_title('matrix for SVC rbf')\n",
        "y_pred = cross_val_predict(svm.SVC(kernel='linear'),X, Y, cv=10)\n",
        "sns.heatmap(confusion_matrix(Y,y_pred), ax=ax[0,1], annot=True, fmt='2.0f')\n",
        "ax[0,1].set_title('matrix for SVC lin')\n",
        "y_pred = cross_val_predict(KNeighborsClassifier(n_neighbors=9), X, Y, cv=10)\n",
        "sns.heatmap(confusion_matrix(Y, y_pred), ax=ax[0,2], annot=True, fmt='2.0f')\n",
        "ax[0,2].set_title('matrix for KNN')\n",
        "y_pred = cross_val_predict(RandomForestClassifier(n_estimators=100), X, Y, cv=10)\n",
        "sns.heatmap(confusion_matrix(Y,y_pred), ax=ax[1,0], annot=True, fmt='2.0f')\n",
        "ax[1,0].set_title('matrix for RandomForest')\n",
        "y_pred = cross_val_predict(LogisticRegression(), X, Y, cv=10)\n",
        "sns.heatmap(confusion_matrix(Y, y_pred), ax=ax[1,1], annot=True, fmt='2.0f')\n",
        "ax[1,1].set_title('matrix for Logistic Regression')\n",
        "y_pred = cross_val_predict(DecisionTreeClassifier(), X, Y, cv=10)\n",
        "sns.heatmap(confusion_matrix(Y, y_pred), ax=ax[1,2], annot=True, fmt='2.0f')\n",
        "ax[1,2].set_title('matrix for Decision Tree')\n",
        "y_pred = cross_val_predict(GaussianNB(), X, Y, cv=10)\n",
        "sns.heatmap(confusion_matrix(Y, y_pred), ax=ax[2,0], annot=True, fmt='2.0f')\n",
        "ax[2,0].set_title('GaussianNB')"
      ],
      "execution_count": null,
      "outputs": [
        {
          "output_type": "execute_result",
          "data": {
            "text/plain": [
              "Text(0.5, 1.0, 'GaussianNB')"
            ]
          },
          "metadata": {
            "tags": []
          },
          "execution_count": 131
        },
        {
          "output_type": "display_data",
          "data": {
            "image/png": "[encoded data removed]",
            "text/plain": [
              "<Figure size 864x720 with 16 Axes>"
            ]
          },
          "metadata": {
            "tags": [],
            "needs_background": "light"
          }
        }
      ]
    },
    {
      "cell_type": "code",
      "metadata": {
        "id": "Oh7My94CElWI"
      },
      "source": [
        ""
      ],
      "execution_count": null,
      "outputs": []
    },
    {
      "cell_type": "code",
      "metadata": {
        "id": "k6Cgwoi0ElY4"
      },
      "source": [
        ""
      ],
      "execution_count": null,
      "outputs": []
    },
    {
      "cell_type": "code",
      "metadata": {
        "id": "9s1GmM9pkI6T"
      },
      "source": [
        ""
      ],
      "execution_count": null,
      "outputs": []
    },
    {
      "cell_type": "code",
      "metadata": {
        "id": "9c0thqhfkI8c"
      },
      "source": [
        ""
      ],
      "execution_count": null,
      "outputs": []
    }
  ]
}