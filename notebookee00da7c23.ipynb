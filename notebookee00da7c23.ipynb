{
  "nbformat": 4,
  "nbformat_minor": 0,
  "metadata": {
    "kernelspec": {
      "language": "python",
      "display_name": "Python 3",
      "name": "python3"
    },
    "language_info": {
      "name": "python",
      "version": "3.7.10",
      "mimetype": "text/x-python",
      "codemirror_mode": {
        "name": "ipython",
        "version": 3
      },
      "pygments_lexer": "ipython3",
      "nbconvert_exporter": "python",
      "file_extension": ".py"
    },
    "colab": {
      "name": "notebookee00da7c23.ipynb",
      "provenance": [],
      "include_colab_link": true
    }
  },
  "cells": [
    {
      "cell_type": "markdown",
      "metadata": {
        "id": "view-in-github",
        "colab_type": "text"
      },
      "source": [
        "<a href=\"https://colab.research.google.com/github/O-Kpy/Kaggle/blob/main/notebookee00da7c23.ipynb\" target=\"_parent\"><img src=\"https://colab.research.google.com/assets/colab-badge.svg\" alt=\"Open In Colab\"/></a>"
      ]
    },
    {
      "cell_type": "code",
      "metadata": {
        "_uuid": "8f2839f25d086af736a60e9eeb907d3b93b6e0e5",
        "_cell_guid": "b1076dfc-b9ad-4769-8c92-a6c4dae69d19",
        "execution": {
          "iopub.status.busy": "2021-09-27T11:38:42.728281Z",
          "iopub.execute_input": "2021-09-27T11:38:42.728553Z",
          "iopub.status.idle": "2021-09-27T11:39:03.312035Z",
          "shell.execute_reply.started": "2021-09-27T11:38:42.728526Z",
          "shell.execute_reply": "2021-09-27T11:39:03.311228Z"
        },
        "trusted": true,
        "id": "fEIZBVHsNfXj"
      },
      "source": [
        "!pip install git+https://github.com/rwightman/pytorch-image-models\n",
        "!pip install --upgrade wandb"
      ],
      "execution_count": null,
      "outputs": []
    },
    {
      "cell_type": "code",
      "metadata": {
        "execution": {
          "iopub.status.busy": "2021-09-27T11:39:39.654085Z",
          "iopub.execute_input": "2021-09-27T11:39:39.654350Z",
          "iopub.status.idle": "2021-09-27T11:39:39.662257Z",
          "shell.execute_reply.started": "2021-09-27T11:39:39.654319Z",
          "shell.execute_reply": "2021-09-27T11:39:39.661368Z"
        },
        "trusted": true,
        "id": "-us5gwErNfXm"
      },
      "source": [
        "import os\n",
        "import gc\n",
        "import cv2\n",
        "import copy\n",
        "import time\n",
        "import random\n",
        "from PIL import Image\n",
        "\n",
        "# for data manipulation\n",
        "import numpy as np\n",
        "import pandas as pd\n",
        "\n",
        "# pytorch import\n",
        "import torch\n",
        "import torch.nn as nn\n",
        "import torch.optim as optim\n",
        "from torch.optim import lr_scheduler\n",
        "from torch.utils.data import Dataset, DataLoader\n",
        "from torch.cuda import amp\n",
        "\n",
        "# utils\n",
        "import joblib\n",
        "from tqdm import tqdm\n",
        "from collections import defaultdict\n",
        "\n",
        "# sklearn import\n",
        "from sklearn.metrics import mean_squared_error\n",
        "from sklearn.model_selection import StratifiedKFold, KFold\n",
        "\n",
        "import timm\n",
        "\n",
        "# Albumentations for augmentations\n",
        "import albumentations as A\n",
        "from albumentations.pytorch import ToTensorV2\n",
        "\n",
        "# For colored terminal text\n",
        "from colorama import Fore, Back, Style\n",
        "c_ = Fore.CYAN\n",
        "sr_ = Style.RESET_ALL\n",
        "\n",
        "# for descriptive error messages\n",
        "os.environ['CUDA_LAUNCH_BLOCKING']='1'"
      ],
      "execution_count": null,
      "outputs": []
    },
    {
      "cell_type": "markdown",
      "metadata": {
        "id": "FITAMBgHNfXn"
      },
      "source": [
        "Weights & Biases(W&B) is a set of machine learning tools that helps you build better models faster. kaggle competitions require fast-paced model development and evaluation. There are a lot components: exploring the training data, training diffent models, combining trained models in different combinations(ensembling), and so on.\n",
        "\n",
        "W&B can be useful for Kaggle competition with it's lightweight and interoperable tools:\n",
        "\n",
        "* Quickly track experiments,\n",
        "* Version and iterate on datasets,\n",
        "* Evaluate model performance,\n",
        "* Reproduce models,\n",
        "* Visualize results and spot regressions,\n",
        "* Share findings with colleagues.\n",
        "\n",
        "To learn more about Weights and Biases check out this kernel."
      ]
    },
    {
      "cell_type": "code",
      "metadata": {
        "execution": {
          "iopub.status.busy": "2021-09-27T11:39:43.169592Z",
          "iopub.execute_input": "2021-09-27T11:39:43.170298Z",
          "iopub.status.idle": "2021-09-27T11:39:44.510803Z",
          "shell.execute_reply.started": "2021-09-27T11:39:43.170260Z",
          "shell.execute_reply": "2021-09-27T11:39:44.510014Z"
        },
        "trusted": true,
        "id": "cV5nibH8NfXo"
      },
      "source": [
        "import wandb\n",
        "\n",
        "try:\n",
        "    from kaggle_secrets import UserSecretsClient\n",
        "    user_secrets = UserSecretsClient()\n",
        "    api_key = user_secrets.get_secret('wandb_api')\n",
        "    wandb.login(key=api_key)\n",
        "    anony=None\n",
        "except:\n",
        "    anony='must'\n",
        "    print('If you want to use your W&B account, go to Add-ons -> Secrets and provide your W&B access token. Use the Label name as wandb_api. \\nGet your W&B access token from here: https://wandb.ai/authorize')"
      ],
      "execution_count": null,
      "outputs": []
    },
    {
      "cell_type": "code",
      "metadata": {
        "execution": {
          "iopub.status.busy": "2021-09-27T11:59:26.181489Z",
          "iopub.execute_input": "2021-09-27T11:59:26.181739Z",
          "iopub.status.idle": "2021-09-27T11:59:26.187692Z",
          "shell.execute_reply.started": "2021-09-27T11:59:26.181712Z",
          "shell.execute_reply": "2021-09-27T11:59:26.186877Z"
        },
        "trusted": true,
        "id": "PYuP5w1CNfXp"
      },
      "source": [
        "ROOT_DIR = \"../input/petfinder-pawpularity-score\"\n",
        "TRAIN_DIR = \"../input/petfinder-pawpularity-score/train\"\n",
        "TEST_DIR = \"../input/petfinder-pawpularity-score/test\""
      ],
      "execution_count": null,
      "outputs": []
    },
    {
      "cell_type": "code",
      "metadata": {
        "execution": {
          "iopub.status.busy": "2021-09-27T11:45:40.822477Z",
          "iopub.execute_input": "2021-09-27T11:45:40.822750Z",
          "iopub.status.idle": "2021-09-27T11:45:40.831648Z",
          "shell.execute_reply.started": "2021-09-27T11:45:40.822721Z",
          "shell.execute_reply": "2021-09-27T11:45:40.830969Z"
        },
        "trusted": true,
        "id": "s9Q01qlTNfXp"
      },
      "source": [
        "# Traning Configure\n",
        "CONFIG = dict(\n",
        "seed=42,\n",
        "model_name='tf_efficientnet_b4_ns',\n",
        "train_batch_size=16,\n",
        "valid_batch_size=32,\n",
        "img_size=512,\n",
        "epochs=5,\n",
        "learning_rate=1e-4,\n",
        "scheduler='CosineAnnealingLR',\n",
        "min_lr=1e-6,\n",
        "T_max=20,\n",
        "T_0=25,\n",
        "warmup_epochs=0,\n",
        "weight_decay=1e-6,\n",
        "n_accumulate=1,\n",
        "n_fold=5,\n",
        "num_classes=1,\n",
        "device=torch.device('cuda' if torch.cuda.is_available() else 'cpu'),\n",
        "competitions='PetFinder',\n",
        "_wandb_kernel='deb')"
      ],
      "execution_count": null,
      "outputs": []
    },
    {
      "cell_type": "code",
      "metadata": {
        "execution": {
          "iopub.status.busy": "2021-09-27T11:45:45.930748Z",
          "iopub.execute_input": "2021-09-27T11:45:45.931025Z",
          "iopub.status.idle": "2021-09-27T11:45:45.940059Z",
          "shell.execute_reply.started": "2021-09-27T11:45:45.930996Z",
          "shell.execute_reply": "2021-09-27T11:45:45.939278Z"
        },
        "trusted": true,
        "id": "kdpHoOTpNfXq"
      },
      "source": [
        "# Set Seed for Reproducibility\n",
        "def set_seed(seed=42):\n",
        "    np.random.seed(seed)\n",
        "    random.seed(seed)\n",
        "    torch.manual_seed(seed)\n",
        "    torch.cuda.manual_seed(seed)\n",
        "    torch.backends.cudnn.deterministic=True\n",
        "    torch.backends.cudnn.benchmark=False\n",
        "    os.environ['PYTHONHASHSEED']=str(seed)\n",
        "\n",
        "set_seed(CONFIG['seed'])"
      ],
      "execution_count": null,
      "outputs": []
    },
    {
      "cell_type": "markdown",
      "metadata": {
        "id": "bD2hc3iTNfXr"
      },
      "source": [
        "# Read Data"
      ]
    },
    {
      "cell_type": "code",
      "metadata": {
        "execution": {
          "iopub.status.busy": "2021-09-27T11:59:30.663653Z",
          "iopub.execute_input": "2021-09-27T11:59:30.664453Z",
          "iopub.status.idle": "2021-09-27T11:59:30.670785Z",
          "shell.execute_reply.started": "2021-09-27T11:59:30.664407Z",
          "shell.execute_reply": "2021-09-27T11:59:30.670038Z"
        },
        "trusted": true,
        "id": "RD2NeHpvNfXr"
      },
      "source": [
        "def get_train_file_path(id):\n",
        "    return f'{TRAIN_DIR}/{id}.jpg'"
      ],
      "execution_count": null,
      "outputs": []
    },
    {
      "cell_type": "code",
      "metadata": {
        "execution": {
          "iopub.status.busy": "2021-09-27T11:59:31.771933Z",
          "iopub.execute_input": "2021-09-27T11:59:31.772426Z",
          "iopub.status.idle": "2021-09-27T11:59:31.821954Z",
          "shell.execute_reply.started": "2021-09-27T11:59:31.772381Z",
          "shell.execute_reply": "2021-09-27T11:59:31.820829Z"
        },
        "trusted": true,
        "id": "66hfHexPNfXs"
      },
      "source": [
        "df = pd.read_csv(f'{ROOT_DIR}/train.csv')\n",
        "df['file_path'] = df['Id'].apply(get_train_file_path)\n",
        "\n",
        "feature_cols = [col for col in df.columns if col not in ['Id', 'Pawpularity', 'file_path']]"
      ],
      "execution_count": null,
      "outputs": []
    },
    {
      "cell_type": "code",
      "metadata": {
        "execution": {
          "iopub.status.busy": "2021-09-27T11:59:32.972491Z",
          "iopub.execute_input": "2021-09-27T11:59:32.973150Z",
          "iopub.status.idle": "2021-09-27T11:59:45.210449Z",
          "shell.execute_reply.started": "2021-09-27T11:59:32.973109Z",
          "shell.execute_reply": "2021-09-27T11:59:45.209618Z"
        },
        "trusted": true,
        "id": "A_HBtshBNfXs"
      },
      "source": [
        "# visualize images\n",
        "run = wandb.init(project='Pawpularity',\n",
        "                config=CONFIG,\n",
        "                job_type='Visualization',\n",
        "                anonymous='must')"
      ],
      "execution_count": null,
      "outputs": []
    },
    {
      "cell_type": "code",
      "metadata": {
        "execution": {
          "iopub.status.busy": "2021-09-27T11:59:48.750077Z",
          "iopub.execute_input": "2021-09-27T11:59:48.750830Z",
          "iopub.status.idle": "2021-09-27T12:05:40.439959Z",
          "shell.execute_reply.started": "2021-09-27T11:59:48.750786Z",
          "shell.execute_reply": "2021-09-27T12:05:40.439310Z"
        },
        "trusted": true,
        "id": "7oFokNOhNfXt"
      },
      "source": [
        "preview_table = wandb.Table(columns=['Id', 'Image', 'Subject Focus', 'Eyes', 'Face', 'Near', 'Action', 'Accessory', 'Group', 'Collage', 'Human', 'Occlusion', 'Info', 'Blur', 'Pawpularity'])\n",
        "tmp_df = df.sample(1000, random_state=CONFIG['seed']).reset_index(drop=True)\n",
        "for i in tqdm(range(len(tmp_df))):\n",
        "    row = tmp_df.loc[i]\n",
        "    img=Image.open(row.file_path)\n",
        "    preview_table.add_data(row['Id'],\n",
        "                          wandb.Image(img),\n",
        "                          row['Subject Focus'],\n",
        "                          row['Eyes'],\n",
        "                          row['Face'],\n",
        "                          row['Near'],\n",
        "                          row['Action'],\n",
        "                          row['Accessory'],\n",
        "                          row['Group'],\n",
        "                          row['Collage'],\n",
        "                          row['Human'],\n",
        "                          row['Occlusion'],\n",
        "                          row['Info'],\n",
        "                          row['Blur'],\n",
        "                          row['Pawpularity'])\n",
        "wandb.log({'Visualization':preview_table})\n",
        "run.finish()"
      ],
      "execution_count": null,
      "outputs": []
    },
    {
      "cell_type": "code",
      "metadata": {
        "execution": {
          "iopub.status.busy": "2021-09-27T12:08:57.479695Z",
          "iopub.execute_input": "2021-09-27T12:08:57.480308Z",
          "iopub.status.idle": "2021-09-27T12:08:57.487525Z",
          "shell.execute_reply.started": "2021-09-27T12:08:57.480269Z",
          "shell.execute_reply": "2021-09-27T12:08:57.486415Z"
        },
        "trusted": true,
        "id": "kWtyg4qHNfXt"
      },
      "source": [
        "# Creat Folds\n",
        "def create_folds(df, n_s=5, n_grp=None):\n",
        "    df['kfold'] = -1\n",
        "    if n_grp is None:\n",
        "        skf = KFold(n_splits=n_s, random_state=CONFIG['seed'])\n",
        "        target=df['Pawpularity']\n",
        "    else:\n",
        "        skf=StratifiedKFold(n_splits=n_s, shuffle=True, random_state=CONFIG['seed'])\n",
        "        df['grp']=pd.cut(df['Pawpularity'], n_grp, labels=False)\n",
        "        target = df.grp\n",
        "    for fold_no, (t, v) in enumerate(skf.split(target, target)):\n",
        "        df.loc[v, 'kfold'] = fold_no\n",
        "    \n",
        "    df = df.drop('grp', axis=1)\n",
        "    \n",
        "    return df"
      ],
      "execution_count": null,
      "outputs": []
    },
    {
      "cell_type": "code",
      "metadata": {
        "execution": {
          "iopub.status.busy": "2021-09-27T12:08:58.914250Z",
          "iopub.execute_input": "2021-09-27T12:08:58.915008Z",
          "iopub.status.idle": "2021-09-27T12:08:58.949956Z",
          "shell.execute_reply.started": "2021-09-27T12:08:58.914970Z",
          "shell.execute_reply": "2021-09-27T12:08:58.949177Z"
        },
        "trusted": true,
        "id": "_aSQriFzNfXt"
      },
      "source": [
        "df = create_folds(df, n_s=CONFIG['n_fold'], n_grp=14)\n",
        "df.head()"
      ],
      "execution_count": null,
      "outputs": []
    },
    {
      "cell_type": "code",
      "metadata": {
        "id": "dVpYbtZ0NfXu"
      },
      "source": [
        "# Dataset Class\n"
      ],
      "execution_count": null,
      "outputs": []
    }
  ]
}