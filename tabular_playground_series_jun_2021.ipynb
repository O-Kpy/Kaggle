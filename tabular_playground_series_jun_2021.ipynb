{
  "nbformat": 4,
  "nbformat_minor": 0,
  "metadata": {
    "kernelspec": {
      "language": "python",
      "display_name": "Python 3",
      "name": "python3"
    },
    "language_info": {
      "name": "python",
      "version": "3.7.10",
      "mimetype": "text/x-python",
      "codemirror_mode": {
        "name": "ipython",
        "version": 3
      },
      "pygments_lexer": "ipython3",
      "nbconvert_exporter": "python",
      "file_extension": ".py"
    },
    "colab": {
      "name": "tabular-playground-series-jun-2021.ipynb",
      "provenance": [],
      "include_colab_link": true
    }
  },
  "cells": [
    {
      "cell_type": "markdown",
      "metadata": {
        "id": "view-in-github",
        "colab_type": "text"
      },
      "source": [
        "<a href=\"https://colab.research.google.com/github/O-Kpy/Kaggle/blob/main/tabular_playground_series_jun_2021.ipynb\" target=\"_parent\"><img src=\"https://colab.research.google.com/assets/colab-badge.svg\" alt=\"Open In Colab\"/></a>"
      ]
    },
    {
      "cell_type": "code",
      "metadata": {
        "_uuid": "8f2839f25d086af736a60e9eeb907d3b93b6e0e5",
        "_cell_guid": "b1076dfc-b9ad-4769-8c92-a6c4dae69d19",
        "execution": {
          "iopub.status.busy": "2021-06-22T09:46:21.265002Z",
          "iopub.execute_input": "2021-06-22T09:46:21.265556Z",
          "iopub.status.idle": "2021-06-22T09:46:21.273591Z",
          "shell.execute_reply.started": "2021-06-22T09:46:21.265472Z",
          "shell.execute_reply": "2021-06-22T09:46:21.272438Z"
        },
        "id": "aL0_JsAIiSMQ",
        "trusted": true
      },
      "source": [
        "# 내일 할일 normalizaition 돌리고 파이토치 필사하기, 이미지 분류 필사하기(구글 랜드마크)\n",
        "# 그리고 https://www.kaggle.com/masumrumi/a-detailed-regression-guide-with-house-pricing#Fitting-model(simple-approach) 정독하기"
      ],
      "execution_count": null,
      "outputs": []
    },
    {
      "cell_type": "code",
      "metadata": {
        "id": "_uwPlXMNiSMT",
        "execution": {
          "iopub.status.busy": "2021-06-29T06:08:52.657225Z",
          "iopub.execute_input": "2021-06-29T06:08:52.657594Z",
          "iopub.status.idle": "2021-06-29T06:08:53.393871Z",
          "shell.execute_reply.started": "2021-06-29T06:08:52.657517Z",
          "shell.execute_reply": "2021-06-29T06:08:53.393068Z"
        },
        "trusted": true
      },
      "source": [
        "import pandas as pd\n",
        "import numpy as np\n",
        "import matplotlib.pyplot as plt\n",
        "%matplotlib inline\n",
        "import seaborn as sns\n",
        "import warnings\n",
        "warnings.filterwarnings('ignore')\n",
        "from scipy.stats import skew"
      ],
      "execution_count": null,
      "outputs": []
    },
    {
      "cell_type": "code",
      "metadata": {
        "id": "RF14-5-riSMT",
        "execution": {
          "iopub.status.busy": "2021-06-29T06:08:54.504933Z",
          "iopub.execute_input": "2021-06-29T06:08:54.505262Z",
          "iopub.status.idle": "2021-06-29T06:08:56.546805Z",
          "shell.execute_reply.started": "2021-06-29T06:08:54.505232Z",
          "shell.execute_reply": "2021-06-29T06:08:56.546041Z"
        },
        "trusted": true,
        "outputId": "231a45c5-33ad-4e3d-9bee-f302c07f1b42"
      },
      "source": [
        "submit = pd.read_csv('/kaggle/input/tabular-playground-series-jun-2021/sample_submission.csv')\n",
        "test = pd.read_csv('/kaggle/input/tabular-playground-series-jun-2021/test.csv')\n",
        "train = pd.read_csv('/kaggle/input/tabular-playground-series-jun-2021/train.csv')\n",
        "train.shape, test.shape, submit.shape"
      ],
      "execution_count": null,
      "outputs": [
        {
          "output_type": "execute_result",
          "data": {
            "text/plain": [
              "((200000, 77), (100000, 76), (100000, 10))"
            ]
          },
          "metadata": {
            "tags": []
          },
          "execution_count": 2
        }
      ]
    },
    {
      "cell_type": "code",
      "metadata": {
        "id": "HqiiL1S0iSMU",
        "trusted": true
      },
      "source": [
        "train.target.value_counts().sort_index(ascending=False).plot.bar()"
      ],
      "execution_count": null,
      "outputs": []
    },
    {
      "cell_type": "code",
      "metadata": {
        "execution": {
          "iopub.status.busy": "2021-06-25T08:06:33.436826Z",
          "iopub.execute_input": "2021-06-25T08:06:33.437136Z",
          "iopub.status.idle": "2021-06-25T08:06:33.509696Z",
          "shell.execute_reply.started": "2021-06-25T08:06:33.437106Z",
          "shell.execute_reply": "2021-06-25T08:06:33.508823Z"
        },
        "id": "1Ye43NSIiSMU",
        "trusted": true
      },
      "source": [
        "data=pd.concat([train, test], axis=0)"
      ],
      "execution_count": null,
      "outputs": []
    },
    {
      "cell_type": "code",
      "metadata": {
        "execution": {
          "iopub.status.busy": "2021-06-22T09:50:56.276885Z",
          "iopub.execute_input": "2021-06-22T09:50:56.27729Z",
          "iopub.status.idle": "2021-06-22T09:50:56.346698Z",
          "shell.execute_reply.started": "2021-06-22T09:50:56.277254Z",
          "shell.execute_reply": "2021-06-22T09:50:56.345543Z"
        },
        "id": "cX3u_xGEiSMV",
        "trusted": true
      },
      "source": [
        "data.isnull().sum().sort_values(ascending=False)\n",
        "# Null값 없고"
      ],
      "execution_count": null,
      "outputs": []
    },
    {
      "cell_type": "code",
      "metadata": {
        "execution": {
          "iopub.status.busy": "2021-06-24T09:46:50.87375Z",
          "iopub.execute_input": "2021-06-24T09:46:50.874059Z",
          "iopub.status.idle": "2021-06-24T09:46:51.195296Z",
          "shell.execute_reply.started": "2021-06-24T09:46:50.87403Z",
          "shell.execute_reply": "2021-06-24T09:46:51.194113Z"
        },
        "id": "DrxnmgjNiSMV",
        "trusted": true
      },
      "source": [
        "data.skew().sort_values(ascending=False)\n",
        "# 스케일링 해야하고"
      ],
      "execution_count": null,
      "outputs": []
    },
    {
      "cell_type": "code",
      "metadata": {
        "id": "1tw57ucZiSMV",
        "execution": {
          "iopub.status.busy": "2021-06-26T09:22:38.633398Z",
          "iopub.execute_input": "2021-06-26T09:22:38.633717Z",
          "iopub.status.idle": "2021-06-26T09:22:41.127745Z",
          "shell.execute_reply.started": "2021-06-26T09:22:38.633688Z",
          "shell.execute_reply": "2021-06-26T09:22:41.126911Z"
        },
        "trusted": true
      },
      "source": [
        "# 로그변환 안하는게 성능이 더 잘 나오는데\n",
        "for i in train.drop(columns=['id', 'target']).columns:\n",
        "    if train[i].skew() > 0.5:\n",
        "        train[i] = np.log1p(train[i]+1)\n",
        "        \n",
        "for i in test.drop(columns=['id']).columns:\n",
        "    if test[i].skew() > 0.5:\n",
        "        test[i] = np.log1p(test[i]+1)"
      ],
      "execution_count": null,
      "outputs": []
    },
    {
      "cell_type": "code",
      "metadata": {
        "execution": {
          "iopub.status.busy": "2021-06-29T06:09:01.166030Z",
          "iopub.execute_input": "2021-06-29T06:09:01.166376Z",
          "iopub.status.idle": "2021-06-29T06:10:08.007770Z",
          "shell.execute_reply.started": "2021-06-29T06:09:01.166343Z",
          "shell.execute_reply": "2021-06-29T06:10:08.006672Z"
        },
        "trusted": true,
        "id": "cWV9IwqITjdN"
      },
      "source": [
        "# boxcox로 Normalize하기\n",
        "from scipy.stats import skew\n",
        "from scipy.special import boxcox1p\n",
        "from scipy.stats import boxcox_normmax\n",
        "\n",
        "for feat in train.drop(columns=['id', 'target']).columns:\n",
        "    train[feat] = boxcox1p(train[feat], boxcox_normmax(train[feat] + 1))\n",
        "    \n",
        "for feat in test.drop(columns=['id']).columns:\n",
        "    test[feat] = boxcox1p(test[feat], boxcox_normmax(test[feat] + 1))"
      ],
      "execution_count": null,
      "outputs": []
    },
    {
      "cell_type": "code",
      "metadata": {
        "id": "E6r3p4u_iSMW",
        "execution": {
          "iopub.status.busy": "2021-06-28T08:21:17.38139Z",
          "iopub.execute_input": "2021-06-28T08:21:17.381726Z",
          "iopub.status.idle": "2021-06-28T08:21:18.614566Z",
          "shell.execute_reply.started": "2021-06-28T08:21:17.381694Z",
          "shell.execute_reply": "2021-06-28T08:21:18.613757Z"
        },
        "trusted": true
      },
      "source": [
        "train_agg = train.drop(columns='target').groupby('id').agg(['median'])\n",
        "train_agg_col = []\n",
        "\n",
        "for i in train_agg.columns.levels[0]:\n",
        "    for j in train_agg.columns.levels[1]:\n",
        "        train_agg_col.append(f'{i}-{j}')\n",
        "        \n",
        "train_agg.columns = train_agg_col\n",
        "\n",
        "test_agg = test.groupby('id').agg(['median'])\n",
        "test_agg_col = []\n",
        "\n",
        "for i in test_agg.columns.levels[0]:\n",
        "    for j in test_agg.columns.levels[1]:\n",
        "        test_agg_col.append(f'{i}-{j}')\n",
        "        \n",
        "test_agg.columns = test_agg_col"
      ],
      "execution_count": null,
      "outputs": []
    },
    {
      "cell_type": "code",
      "metadata": {
        "id": "uiRVU8FmiSMW",
        "execution": {
          "iopub.status.busy": "2021-06-28T08:21:27.278447Z",
          "iopub.execute_input": "2021-06-28T08:21:27.278772Z",
          "iopub.status.idle": "2021-06-28T08:21:29.635131Z",
          "shell.execute_reply.started": "2021-06-28T08:21:27.278741Z",
          "shell.execute_reply": "2021-06-28T08:21:29.634238Z"
        },
        "trusted": true
      },
      "source": [
        "corr_matrix = train_agg.corr()\n",
        "\n",
        "upper = corr_matrix.where(np.triu(np.ones(corr_matrix.shape), k=1).astype(np.bool))\n",
        "\n",
        "to_drop = [c for c in upper.columns if any(abs(upper[c]) > 0.9)]\n",
        "\n",
        "print(f'There are {len(train_agg.columns)} columns but {len(to_drop)} corr columns to remove')"
      ],
      "execution_count": null,
      "outputs": []
    },
    {
      "cell_type": "code",
      "metadata": {
        "id": "etZfqax3iSMW",
        "execution": {
          "iopub.status.busy": "2021-06-28T08:21:33.07971Z",
          "iopub.execute_input": "2021-06-28T08:21:33.080069Z",
          "iopub.status.idle": "2021-06-28T08:21:33.47763Z",
          "shell.execute_reply.started": "2021-06-28T08:21:33.080037Z",
          "shell.execute_reply": "2021-06-28T08:21:33.476741Z"
        },
        "trusted": true
      },
      "source": [
        "train_agg.drop(columns=to_drop)\n",
        "train = train.merge(train_agg, how='left', on='id')\n",
        "\n",
        "test_agg.drop(columns=to_drop)\n",
        "test = test.merge(test_agg, how='left', on='id')"
      ],
      "execution_count": null,
      "outputs": []
    },
    {
      "cell_type": "code",
      "metadata": {
        "id": "zRKQEnDKiSMX"
      },
      "source": [
        ""
      ],
      "execution_count": null,
      "outputs": []
    },
    {
      "cell_type": "markdown",
      "metadata": {
        "id": "9ChKIvDciSMX"
      },
      "source": [
        "# 그냥 모델링 하기 다음에 피쳐 엔지니어링"
      ]
    },
    {
      "cell_type": "code",
      "metadata": {
        "id": "7BE3Ila1iSMX",
        "execution": {
          "iopub.status.busy": "2021-06-29T06:11:29.620485Z",
          "iopub.execute_input": "2021-06-29T06:11:29.620844Z",
          "iopub.status.idle": "2021-06-29T06:11:32.164667Z",
          "shell.execute_reply.started": "2021-06-29T06:11:29.620808Z",
          "shell.execute_reply": "2021-06-29T06:11:32.163846Z"
        },
        "trusted": true,
        "outputId": "9044df41-18ac-4d62-d309-1913416cd42a"
      },
      "source": [
        "from sklearn.metrics import log_loss, make_scorer\n",
        "import catboost\n",
        "import lightgbm\n",
        "import xgboost\n",
        "import optuna\n",
        "from sklearn.linear_model import LogisticRegression\n",
        "from sklearn.ensemble import RandomForestClassifier\n",
        "from sklearn.model_selection import cross_validate, KFold, StratifiedKFold, StratifiedShuffleSplit, train_test_split\n",
        "from sklearn.preprocessing import LabelEncoder, robust_scale, MinMaxScaler"
      ],
      "execution_count": null,
      "outputs": [
        {
          "output_type": "display_data",
          "data": {
            "text/plain": [
              "<IPython.core.display.HTML object>"
            ],
            "text/html": [
              "<style type='text/css'>\n",
              ".datatable table.frame { margin-bottom: 0; }\n",
              ".datatable table.frame thead { border-bottom: none; }\n",
              ".datatable table.frame tr.coltypes td {  color: #FFFFFF;  line-height: 6px;  padding: 0 0.5em;}\n",
              ".datatable .bool    { background: #DDDD99; }\n",
              ".datatable .object  { background: #565656; }\n",
              ".datatable .int     { background: #5D9E5D; }\n",
              ".datatable .float   { background: #4040CC; }\n",
              ".datatable .str     { background: #CC4040; }\n",
              ".datatable .row_index {  background: var(--jp-border-color3);  border-right: 1px solid var(--jp-border-color0);  color: var(--jp-ui-font-color3);  font-size: 9px;}\n",
              ".datatable .frame tr.coltypes .row_index {  background: var(--jp-border-color0);}\n",
              ".datatable th:nth-child(2) { padding-left: 12px; }\n",
              ".datatable .hellipsis {  color: var(--jp-cell-editor-border-color);}\n",
              ".datatable .vellipsis {  background: var(--jp-layout-color0);  color: var(--jp-cell-editor-border-color);}\n",
              ".datatable .na {  color: var(--jp-cell-editor-border-color);  font-size: 80%;}\n",
              ".datatable .footer { font-size: 9px; }\n",
              ".datatable .frame_dimensions {  background: var(--jp-border-color3);  border-top: 1px solid var(--jp-border-color0);  color: var(--jp-ui-font-color3);  display: inline-block;  opacity: 0.6;  padding: 1px 10px 1px 5px;}\n",
              "</style>\n"
            ]
          },
          "metadata": {
            "tags": []
          }
        }
      ]
    },
    {
      "cell_type": "code",
      "metadata": {
        "id": "G85mKc8CiSMY",
        "execution": {
          "iopub.status.busy": "2021-06-29T06:11:35.823398Z",
          "iopub.execute_input": "2021-06-29T06:11:35.823711Z",
          "iopub.status.idle": "2021-06-29T06:11:35.882410Z",
          "shell.execute_reply.started": "2021-06-29T06:11:35.823682Z",
          "shell.execute_reply": "2021-06-29T06:11:35.881425Z"
        },
        "trusted": true
      },
      "source": [
        "x_train = train.drop(columns=['target', 'id'])\n",
        "y_train = train['target']\n",
        "x_test = test.drop(columns=['id'])"
      ],
      "execution_count": null,
      "outputs": []
    },
    {
      "cell_type": "code",
      "metadata": {
        "execution": {
          "iopub.status.busy": "2021-06-25T05:05:58.399958Z",
          "iopub.execute_input": "2021-06-25T05:05:58.400297Z",
          "iopub.status.idle": "2021-06-25T05:05:59.69781Z",
          "shell.execute_reply.started": "2021-06-25T05:05:58.400261Z",
          "shell.execute_reply": "2021-06-25T05:05:59.696928Z"
        },
        "id": "fwUoFoPNiSMY",
        "trusted": true
      },
      "source": [
        "x_train = data.loc[data['target'].notnull()].drop(columns=['id', 'target'])\n",
        "y_train = data.loc[data['target'].notnull()]['target']\n",
        "x_test = data.loc[data['target'].isnull()].drop(columns=['id', 'target'])"
      ],
      "execution_count": null,
      "outputs": []
    },
    {
      "cell_type": "code",
      "metadata": {
        "id": "sfDRM1KsiSMY",
        "execution": {
          "iopub.status.busy": "2021-06-29T06:11:38.627374Z",
          "iopub.execute_input": "2021-06-29T06:11:38.627693Z",
          "iopub.status.idle": "2021-06-29T06:11:38.697833Z",
          "shell.execute_reply.started": "2021-06-29T06:11:38.627664Z",
          "shell.execute_reply": "2021-06-29T06:11:38.697064Z"
        },
        "trusted": true
      },
      "source": [
        "encoder = LabelEncoder()\n",
        "y_train = encoder.fit_transform(y_train)\n",
        "y_train = pd.Series(y_train)"
      ],
      "execution_count": null,
      "outputs": []
    },
    {
      "cell_type": "code",
      "metadata": {
        "execution": {
          "iopub.status.busy": "2021-06-28T09:50:30.792729Z",
          "iopub.execute_input": "2021-06-28T09:50:30.793119Z",
          "iopub.status.idle": "2021-06-28T09:50:32.844047Z",
          "shell.execute_reply.started": "2021-06-28T09:50:30.793084Z",
          "shell.execute_reply": "2021-06-28T09:50:32.843204Z"
        },
        "trusted": true,
        "id": "krRFR4EHTjdQ"
      },
      "source": [
        "from sklearn.decomposition import PCA\n",
        "\n",
        "pca = PCA(svd_solver='auto', whiten=True)\n",
        "pca.fit(x_train)\n",
        "\n",
        "fig, ax = plt.subplots(figsize=(12,8))\n",
        "xi = np.arange(1, len(x_train.columns)+1, step=1)\n",
        "y = np.cumsum(pca.explained_variance_ratio_)\n",
        "\n",
        "plt.ylim(0.0, 1.1)\n",
        "plt.plot(xi, y, marker='o', linestyle='--', color='b')\n",
        "\n",
        "plt.xlabel('number of components')\n",
        "plt.xticks(np.arange(0, len(x_train.columns), step=2))\n",
        "\n",
        "plt.axhline(y=0.95, color='r', linestyle='-')\n",
        "plt.text(0.5, 0.85, '95% cut-off threshold', color='red', fontsize=16)\n",
        "\n",
        "ax.grid(axis='x')\n",
        "plt.show()"
      ],
      "execution_count": null,
      "outputs": []
    },
    {
      "cell_type": "code",
      "metadata": {
        "execution": {
          "iopub.status.busy": "2021-06-28T09:51:17.254257Z",
          "iopub.execute_input": "2021-06-28T09:51:17.25459Z",
          "iopub.status.idle": "2021-06-28T09:51:23.972878Z",
          "shell.execute_reply.started": "2021-06-28T09:51:17.254556Z",
          "shell.execute_reply": "2021-06-28T09:51:23.971985Z"
        },
        "trusted": true,
        "id": "VkUX_Ui7TjdQ"
      },
      "source": [
        "pca = PCA(n_components=54,svd_solver='auto', whiten=True)\n",
        "x_train = pca.fit_transform(x_train)\n",
        "x_test = pca.fit_transform(x_test)"
      ],
      "execution_count": null,
      "outputs": []
    },
    {
      "cell_type": "code",
      "metadata": {
        "execution": {
          "iopub.status.busy": "2021-06-28T09:51:24.906367Z",
          "iopub.execute_input": "2021-06-28T09:51:24.906692Z",
          "iopub.status.idle": "2021-06-28T09:51:25.948529Z",
          "shell.execute_reply.started": "2021-06-28T09:51:24.90666Z",
          "shell.execute_reply": "2021-06-28T09:51:25.947427Z"
        },
        "trusted": true,
        "id": "NPvWqMwTTjdQ"
      },
      "source": [
        "x_train = robust_scale(x_train)\n",
        "x_test = robust_scale(x_test)"
      ],
      "execution_count": null,
      "outputs": []
    },
    {
      "cell_type": "code",
      "metadata": {
        "id": "EJuPRRowiSMY",
        "execution": {
          "iopub.status.busy": "2021-06-29T06:12:16.872690Z",
          "iopub.execute_input": "2021-06-29T06:12:16.873036Z",
          "iopub.status.idle": "2021-06-29T06:12:17.526203Z",
          "shell.execute_reply.started": "2021-06-29T06:12:16.873003Z",
          "shell.execute_reply": "2021-06-29T06:12:17.525327Z"
        },
        "trusted": true
      },
      "source": [
        "x_train_col = x_train.columns\n",
        "x_test_col = x_test.columns\n",
        "\n",
        "x_train = pd.DataFrame(robust_scale(x_train), columns=x_train_col)\n",
        "x_test = pd.DataFrame(robust_scale(x_test), columns=x_test_col)"
      ],
      "execution_count": null,
      "outputs": []
    },
    {
      "cell_type": "code",
      "metadata": {
        "id": "JXUYlPXbTjdR"
      },
      "source": [
        "# lgbm 모델\n",
        "skf = StratifiedKFold(n_splits=5, shuffle=True, random_state=42)\n",
        "preds = np.zeros((len(x_test)))\n",
        "for i, (train_index, valid_index) in enumerate(skf.split(x_train, y_train)):\n",
        "  X_train, X_valid = x_train.iloc[train_index], x_train.iloc[valid_index]\n",
        "  Y_train, Y_valid = y_train.iloc[train_index], y_train.iloc[valid_index]\n",
        "\n",
        "  model = lightgbm.LGBMClassifier(n_estimators=3000, learning_rate=0.05, objective='multiclass', n_jobs=-1)\n",
        "  model.fit(X_train, Y_train, eval_set=[(X_train, Y_train), (X_valid, Y_valid)], verbose=100, early_stopping_rounds=70, eval_metric='multi_logloss')\n",
        "  preds = model.predict_proba(x_test)"
      ],
      "execution_count": null,
      "outputs": []
    },
    {
      "cell_type": "code",
      "metadata": {
        "execution": {
          "iopub.status.busy": "2021-06-29T06:12:19.063291Z",
          "iopub.execute_input": "2021-06-29T06:12:19.063629Z",
          "iopub.status.idle": "2021-06-29T06:12:19.072270Z",
          "shell.execute_reply.started": "2021-06-29T06:12:19.063600Z",
          "shell.execute_reply": "2021-06-29T06:12:19.071238Z"
        },
        "trusted": true,
        "id": "kIMAAMuoTjdR"
      },
      "source": [
        "def objective(trial,data=x_train,target=y_train):\n",
        "    \n",
        "    X_train, X_test, y_train, y_test = train_test_split(data, target, test_size=0.2,random_state=42)\n",
        "    params = {'iterations':trial.suggest_int(\"iterations\", 2000, 25000),\n",
        "             'loss_function':'MultiClass',\n",
        "              'task_type':\"GPU\",\n",
        "              'eval_metric':'MultiClass',\n",
        "              'leaf_estimation_method':'Newton',\n",
        "              'bootstrap_type': 'Bernoulli',\n",
        "              'learning_rate' : trial.suggest_uniform('learning_rate',0.01,0.5),\n",
        "              'reg_lambda': trial.suggest_uniform('reg_lambda',1e-5,100),\n",
        "              'subsample': trial.suggest_uniform('subsample',0,1),\n",
        "              'random_strength': trial.suggest_uniform('random_strength',10,50),\n",
        "              'depth': trial.suggest_int('depth',1,15),\n",
        "              'min_data_in_leaf': trial.suggest_int('min_data_in_leaf',1,50),\n",
        "              'leaf_estimation_iterations': trial.suggest_int('leaf_estimation_iterations',1,15),\n",
        "              'grow_policy' : 'Lossguide'\n",
        "               }\n",
        "    model = catboost.CatBoostClassifier(**params)  \n",
        "    model.fit(X_train,y_train,eval_set=[(X_test,y_test)],early_stopping_rounds=100,verbose=False)\n",
        "        \n",
        "    y_preds = model.predict_proba(X_test)\n",
        "\n",
        "\n",
        "    log_loss_multi = log_loss(y_test, y_preds)\n",
        "    \n",
        "    return log_loss_multi"
      ],
      "execution_count": null,
      "outputs": []
    },
    {
      "cell_type": "code",
      "metadata": {
        "execution": {
          "iopub.status.busy": "2021-06-29T06:13:26.910722Z",
          "iopub.execute_input": "2021-06-29T06:13:26.911051Z",
          "iopub.status.idle": "2021-06-29T06:55:45.998651Z",
          "shell.execute_reply.started": "2021-06-29T06:13:26.911020Z",
          "shell.execute_reply": "2021-06-29T06:55:45.997950Z"
        },
        "trusted": true,
        "id": "qwpM7JdSTjdR",
        "outputId": "bfb50e85-527c-4230-9293-12af9f2ec761"
      },
      "source": [
        "OPTUNA_OPTIMIZATION = True\n",
        "\n",
        "study = optuna.create_study(direction='minimize')\n",
        "study.optimize(objective, n_trials=100)\n",
        "print('Number of finished trials:', len(study.trials))\n",
        "print('Best trial: score {}, params {}'.format(study.best_trial.value, study.best_trial.params))"
      ],
      "execution_count": null,
      "outputs": [
        {
          "output_type": "stream",
          "text": [
            "\u001b[32m[I 2021-06-29 06:13:26,913]\u001b[0m A new study created in memory with name: no-name-87955b1a-a78a-4489-be76-5b41b6255ff5\u001b[0m\n",
            "\u001b[32m[I 2021-06-29 06:14:39,022]\u001b[0m Trial 0 finished with value: 1.7494181579682393 and parameters: {'iterations': 6086, 'learning_rate': 0.05946889834120377, 'reg_lambda': 13.839182649925533, 'subsample': 0.6415432904147128, 'random_strength': 34.354423624851144, 'depth': 5, 'min_data_in_leaf': 36, 'leaf_estimation_iterations': 8}. Best is trial 0 with value: 1.7494181579682393.\u001b[0m\n",
            "\u001b[32m[I 2021-06-29 06:14:43,563]\u001b[0m Trial 1 finished with value: 1.759088275861155 and parameters: {'iterations': 5430, 'learning_rate': 0.4125243175282473, 'reg_lambda': 53.77196021055085, 'subsample': 0.2378944650024809, 'random_strength': 30.013151704104995, 'depth': 7, 'min_data_in_leaf': 17, 'leaf_estimation_iterations': 4}. Best is trial 0 with value: 1.7494181579682393.\u001b[0m\n",
            "\u001b[32m[I 2021-06-29 06:14:52,029]\u001b[0m Trial 2 finished with value: 1.7504377105038467 and parameters: {'iterations': 20924, 'learning_rate': 0.1621105530185306, 'reg_lambda': 82.63365259895023, 'subsample': 0.6602584900196311, 'random_strength': 24.16472637038446, 'depth': 9, 'min_data_in_leaf': 24, 'leaf_estimation_iterations': 15}. Best is trial 0 with value: 1.7494181579682393.\u001b[0m\n",
            "\u001b[32m[I 2021-06-29 06:14:58,634]\u001b[0m Trial 3 finished with value: 1.7529390922504913 and parameters: {'iterations': 16646, 'learning_rate': 0.22518971942202193, 'reg_lambda': 75.18237908772463, 'subsample': 0.6782271543728555, 'random_strength': 19.95653375557275, 'depth': 6, 'min_data_in_leaf': 35, 'leaf_estimation_iterations': 12}. Best is trial 0 with value: 1.7494181579682393.\u001b[0m\n",
            "\u001b[32m[I 2021-06-29 06:15:05,050]\u001b[0m Trial 4 finished with value: 1.752861539308893 and parameters: {'iterations': 14701, 'learning_rate': 0.424410669538692, 'reg_lambda': 84.69443621986856, 'subsample': 0.7950770382702588, 'random_strength': 32.728374850387425, 'depth': 1, 'min_data_in_leaf': 18, 'leaf_estimation_iterations': 7}. Best is trial 0 with value: 1.7494181579682393.\u001b[0m\n",
            "\u001b[32m[I 2021-06-29 06:15:09,917]\u001b[0m Trial 5 finished with value: 1.7616989083073458 and parameters: {'iterations': 4779, 'learning_rate': 0.47287760974144905, 'reg_lambda': 2.3607984502158215, 'subsample': 0.7426963100867616, 'random_strength': 16.571290275808344, 'depth': 6, 'min_data_in_leaf': 30, 'leaf_estimation_iterations': 10}. Best is trial 0 with value: 1.7494181579682393.\u001b[0m\n",
            "\u001b[32m[I 2021-06-29 06:15:22,869]\u001b[0m Trial 6 finished with value: 1.7479247734312842 and parameters: {'iterations': 19904, 'learning_rate': 0.06615277297906433, 'reg_lambda': 75.73939491226346, 'subsample': 0.29189465965941275, 'random_strength': 38.38937796976102, 'depth': 9, 'min_data_in_leaf': 31, 'leaf_estimation_iterations': 3}. Best is trial 6 with value: 1.7479247734312842.\u001b[0m\n",
            "\u001b[32m[I 2021-06-29 06:15:27,196]\u001b[0m Trial 7 finished with value: 1.7589588739754145 and parameters: {'iterations': 13572, 'learning_rate': 0.4056377631677702, 'reg_lambda': 30.508667022248115, 'subsample': 0.1886612690484698, 'random_strength': 26.618301169862157, 'depth': 4, 'min_data_in_leaf': 2, 'leaf_estimation_iterations': 9}. Best is trial 6 with value: 1.7479247734312842.\u001b[0m\n",
            "\u001b[32m[I 2021-06-29 06:15:33,797]\u001b[0m Trial 8 finished with value: 1.75193435417627 and parameters: {'iterations': 21892, 'learning_rate': 0.20640642752497548, 'reg_lambda': 60.404935896729505, 'subsample': 0.34354861507026313, 'random_strength': 45.20542167129279, 'depth': 8, 'min_data_in_leaf': 29, 'leaf_estimation_iterations': 9}. Best is trial 6 with value: 1.7479247734312842.\u001b[0m\n",
            "\u001b[32m[I 2021-06-29 06:15:37,392]\u001b[0m Trial 9 finished with value: 1.752809778439282 and parameters: {'iterations': 20197, 'learning_rate': 0.31419018703417667, 'reg_lambda': 87.61543022804292, 'subsample': 0.987226034283719, 'random_strength': 26.365134911282503, 'depth': 3, 'min_data_in_leaf': 47, 'leaf_estimation_iterations': 3}. Best is trial 6 with value: 1.7479247734312842.\u001b[0m\n",
            "\u001b[32m[I 2021-06-29 06:15:57,818]\u001b[0m Trial 10 finished with value: 1.7466043746052542 and parameters: {'iterations': 9681, 'learning_rate': 0.0361362331742979, 'reg_lambda': 32.70646526450352, 'subsample': 0.012659875588958314, 'random_strength': 48.705849854887674, 'depth': 10, 'min_data_in_leaf': 49, 'leaf_estimation_iterations': 1}. Best is trial 10 with value: 1.7466043746052542.\u001b[0m\n",
            "\u001b[32m[I 2021-06-29 06:16:51,060]\u001b[0m Trial 11 finished with value: 1.745885222244062 and parameters: {'iterations': 9918, 'learning_rate': 0.013117126495803735, 'reg_lambda': 34.08763314469105, 'subsample': 0.05207137896797729, 'random_strength': 49.21764291432988, 'depth': 10, 'min_data_in_leaf': 50, 'leaf_estimation_iterations': 1}. Best is trial 11 with value: 1.745885222244062.\u001b[0m\n",
            "\u001b[32m[I 2021-06-29 06:17:53,031]\u001b[0m Trial 12 finished with value: 1.7455353430219225 and parameters: {'iterations': 9912, 'learning_rate': 0.012404639001169242, 'reg_lambda': 34.85607480479962, 'subsample': 0.010055515569231628, 'random_strength': 49.89579844259698, 'depth': 10, 'min_data_in_leaf': 49, 'leaf_estimation_iterations': 1}. Best is trial 12 with value: 1.7455353430219225.\u001b[0m\n",
            "\u001b[32m[I 2021-06-29 06:18:01,506]\u001b[0m Trial 13 finished with value: 1.7503962767877146 and parameters: {'iterations': 9433, 'learning_rate': 0.1291033321153459, 'reg_lambda': 36.24323014262094, 'subsample': 0.019060187683526818, 'random_strength': 43.01620828916191, 'depth': 10, 'min_data_in_leaf': 44, 'leaf_estimation_iterations': 1}. Best is trial 12 with value: 1.7455353430219225.\u001b[0m\n",
            "\u001b[32m[I 2021-06-29 06:18:29,689]\u001b[0m Trial 14 finished with value: 1.7479966462707555 and parameters: {'iterations': 9547, 'learning_rate': 0.029449870400693724, 'reg_lambda': 15.838287220974117, 'subsample': 0.10903893215927982, 'random_strength': 49.72216520182864, 'depth': 10, 'min_data_in_leaf': 41, 'leaf_estimation_iterations': 5}. Best is trial 12 with value: 1.7455353430219225.\u001b[0m\n",
            "\u001b[32m[I 2021-06-29 06:18:37,523]\u001b[0m Trial 15 finished with value: 1.7481531134805581 and parameters: {'iterations': 2666, 'learning_rate': 0.09980067469850379, 'reg_lambda': 41.27331256325091, 'subsample': 0.3704370434121543, 'random_strength': 39.9767694791203, 'depth': 8, 'min_data_in_leaf': 3, 'leaf_estimation_iterations': 1}. Best is trial 12 with value: 1.7455353430219225.\u001b[0m\n",
            "\u001b[32m[I 2021-06-29 06:18:43,542]\u001b[0m Trial 16 finished with value: 1.7613682853911057 and parameters: {'iterations': 10692, 'learning_rate': 0.30176569972118206, 'reg_lambda': 19.07256191242951, 'subsample': 0.466296486574538, 'random_strength': 49.59821150996518, 'depth': 8, 'min_data_in_leaf': 50, 'leaf_estimation_iterations': 6}. Best is trial 12 with value: 1.7455353430219225.\u001b[0m\n",
            "\u001b[32m[I 2021-06-29 06:19:35,413]\u001b[0m Trial 17 finished with value: 1.7526955953197993 and parameters: {'iterations': 11849, 'learning_rate': 0.01995648111671312, 'reg_lambda': 47.58630117758074, 'subsample': 0.13453266324858806, 'random_strength': 44.58446396390703, 'depth': 1, 'min_data_in_leaf': 40, 'leaf_estimation_iterations': 2}. Best is trial 12 with value: 1.7455353430219225.\u001b[0m\n",
            "\u001b[32m[I 2021-06-29 06:19:49,958]\u001b[0m Trial 18 finished with value: 1.74967259506939 and parameters: {'iterations': 7952, 'learning_rate': 0.11209933737638642, 'reg_lambda': 62.816407495871005, 'subsample': 0.004803455684692466, 'random_strength': 39.07118634170446, 'depth': 9, 'min_data_in_leaf': 9, 'leaf_estimation_iterations': 14}. Best is trial 12 with value: 1.7455353430219225.\u001b[0m\n",
            "\u001b[32m[I 2021-06-29 06:19:56,689]\u001b[0m Trial 19 finished with value: 1.756565860276331 and parameters: {'iterations': 15870, 'learning_rate': 0.1742393170519294, 'reg_lambda': 1.7971959444871075, 'subsample': 0.10192141522423126, 'random_strength': 47.13253549871945, 'depth': 10, 'min_data_in_leaf': 44, 'leaf_estimation_iterations': 5}. Best is trial 12 with value: 1.7455353430219225.\u001b[0m\n",
            "\u001b[32m[I 2021-06-29 06:20:45,360]\u001b[0m Trial 20 finished with value: 1.7471475056629544 and parameters: {'iterations': 17514, 'learning_rate': 0.010999871561831819, 'reg_lambda': 24.823648872955772, 'subsample': 0.5028080676173954, 'random_strength': 10.926931928703713, 'depth': 7, 'min_data_in_leaf': 49, 'leaf_estimation_iterations': 3}. Best is trial 12 with value: 1.7455353430219225.\u001b[0m\n",
            "\u001b[32m[I 2021-06-29 06:21:51,840]\u001b[0m Trial 21 finished with value: 1.745815924236874 and parameters: {'iterations': 12132, 'learning_rate': 0.010866060894902219, 'reg_lambda': 38.09363708990846, 'subsample': 0.011909846281868926, 'random_strength': 48.99073845233586, 'depth': 10, 'min_data_in_leaf': 50, 'leaf_estimation_iterations': 1}. Best is trial 12 with value: 1.7455353430219225.\u001b[0m\n",
            "\u001b[32m[I 2021-06-29 06:22:02,984]\u001b[0m Trial 22 finished with value: 1.7478863439188563 and parameters: {'iterations': 12570, 'learning_rate': 0.08147170210108994, 'reg_lambda': 43.84494649934853, 'subsample': 0.025365840658065197, 'random_strength': 49.94093280809087, 'depth': 9, 'min_data_in_leaf': 50, 'leaf_estimation_iterations': 1}. Best is trial 12 with value: 1.7455353430219225.\u001b[0m\n",
            "\u001b[32m[I 2021-06-29 06:23:01,010]\u001b[0m Trial 23 finished with value: 1.746689368215168 and parameters: {'iterations': 7395, 'learning_rate': 0.011043355595386897, 'reg_lambda': 25.495110220919905, 'subsample': 0.08956792121302531, 'random_strength': 41.871311374855615, 'depth': 10, 'min_data_in_leaf': 44, 'leaf_estimation_iterations': 2}. Best is trial 12 with value: 1.7455353430219225.\u001b[0m\n",
            "\u001b[32m[I 2021-06-29 06:23:08,804]\u001b[0m Trial 24 finished with value: 1.7498021106972752 and parameters: {'iterations': 11579, 'learning_rate': 0.13457448505937591, 'reg_lambda': 52.56697829312952, 'subsample': 0.20171073757554045, 'random_strength': 46.35963240745274, 'depth': 9, 'min_data_in_leaf': 38, 'leaf_estimation_iterations': 2}. Best is trial 12 with value: 1.7455353430219225.\u001b[0m\n",
            "\u001b[32m[I 2021-06-29 06:23:27,212]\u001b[0m Trial 25 finished with value: 1.747704464899408 and parameters: {'iterations': 13693, 'learning_rate': 0.05857378960007635, 'reg_lambda': 38.31783661542899, 'subsample': 0.009099142884689845, 'random_strength': 36.75665948035561, 'depth': 8, 'min_data_in_leaf': 46, 'leaf_estimation_iterations': 4}. Best is trial 12 with value: 1.7455353430219225.\u001b[0m\n",
            "\u001b[32m[I 2021-06-29 06:24:06,301]\u001b[0m Trial 26 finished with value: 1.7472800198388228 and parameters: {'iterations': 2509, 'learning_rate': 0.01573704007009318, 'reg_lambda': 9.388078237759615, 'subsample': 0.1558514725943954, 'random_strength': 42.51429274695022, 'depth': 10, 'min_data_in_leaf': 50, 'leaf_estimation_iterations': 1}. Best is trial 12 with value: 1.7455353430219225.\u001b[0m\n",
            "\u001b[32m[I 2021-06-29 06:24:14,646]\u001b[0m Trial 27 finished with value: 1.7494628930128842 and parameters: {'iterations': 7585, 'learning_rate': 0.08665312550969723, 'reg_lambda': 26.391702650631473, 'subsample': 0.26810187398595847, 'random_strength': 47.21384473118694, 'depth': 7, 'min_data_in_leaf': 42, 'leaf_estimation_iterations': 4}. Best is trial 12 with value: 1.7455353430219225.\u001b[0m\n",
            "\u001b[32m[I 2021-06-29 06:24:30,708]\u001b[0m Trial 28 finished with value: 1.7471582068129596 and parameters: {'iterations': 10691, 'learning_rate': 0.04707161754660727, 'reg_lambda': 58.65165576762061, 'subsample': 0.06144861095320806, 'random_strength': 49.426533287217374, 'depth': 9, 'min_data_in_leaf': 34, 'leaf_estimation_iterations': 2}. Best is trial 12 with value: 1.7455353430219225.\u001b[0m\n",
            "\u001b[32m[I 2021-06-29 06:24:35,235]\u001b[0m Trial 29 finished with value: 1.7540639115800638 and parameters: {'iterations': 5993, 'learning_rate': 0.2829538339997868, 'reg_lambda': 9.673398975253129, 'subsample': 0.45273948239212297, 'random_strength': 33.311141086286604, 'depth': 3, 'min_data_in_leaf': 38, 'leaf_estimation_iterations': 6}. Best is trial 12 with value: 1.7455353430219225.\u001b[0m\n",
            "\u001b[32m[I 2021-06-29 06:24:39,816]\u001b[0m Trial 30 finished with value: 1.7574028627450806 and parameters: {'iterations': 24242, 'learning_rate': 0.35936377900794303, 'reg_lambda': 46.7416865890739, 'subsample': 0.16773426510477657, 'random_strength': 35.37811239052573, 'depth': 10, 'min_data_in_leaf': 47, 'leaf_estimation_iterations': 3}. Best is trial 12 with value: 1.7455353430219225.\u001b[0m\n",
            "\u001b[32m[I 2021-06-29 06:24:57,905]\u001b[0m Trial 31 finished with value: 1.747195115664796 and parameters: {'iterations': 9042, 'learning_rate': 0.045837013658460476, 'reg_lambda': 32.88651989555571, 'subsample': 0.018009976896891614, 'random_strength': 49.962030972561884, 'depth': 10, 'min_data_in_leaf': 50, 'leaf_estimation_iterations': 1}. Best is trial 12 with value: 1.7455353430219225.\u001b[0m\n",
            "\u001b[32m[I 2021-06-29 06:25:44,256]\u001b[0m Trial 32 finished with value: 1.7465598631880122 and parameters: {'iterations': 4211, 'learning_rate': 0.014230045213777326, 'reg_lambda': 20.380685313278768, 'subsample': 0.05836036821567453, 'random_strength': 47.52670788967572, 'depth': 10, 'min_data_in_leaf': 47, 'leaf_estimation_iterations': 1}. Best is trial 12 with value: 1.7455353430219225.\u001b[0m\n",
            "\u001b[32m[I 2021-06-29 06:25:56,037]\u001b[0m Trial 33 finished with value: 1.7479330871104022 and parameters: {'iterations': 4076, 'learning_rate': 0.06935424642278587, 'reg_lambda': 22.800389487019235, 'subsample': 0.06858137659873928, 'random_strength': 43.98719419509823, 'depth': 9, 'min_data_in_leaf': 46, 'leaf_estimation_iterations': 2}. Best is trial 12 with value: 1.7455353430219225.\u001b[0m\n",
            "\u001b[32m[I 2021-06-29 06:26:44,359]\u001b[0m Trial 34 finished with value: 1.7471074279314625 and parameters: {'iterations': 6677, 'learning_rate': 0.012576941829924065, 'reg_lambda': 18.36080504787695, 'subsample': 0.20692040507952783, 'random_strength': 47.15539552823725, 'depth': 8, 'min_data_in_leaf': 42, 'leaf_estimation_iterations': 4}. Best is trial 12 with value: 1.7455353430219225.\u001b[0m\n",
            "\u001b[32m[I 2021-06-29 06:26:49,269]\u001b[0m Trial 35 finished with value: 1.7512057664780518 and parameters: {'iterations': 14775, 'learning_rate': 0.16363855426705073, 'reg_lambda': 38.41714998155467, 'subsample': 0.9525531268243649, 'random_strength': 41.42172909709801, 'depth': 7, 'min_data_in_leaf': 47, 'leaf_estimation_iterations': 2}. Best is trial 12 with value: 1.7455353430219225.\u001b[0m\n",
            "\u001b[32m[I 2021-06-29 06:27:00,955]\u001b[0m Trial 36 finished with value: 1.7503444088730176 and parameters: {'iterations': 4841, 'learning_rate': 0.11615493952644797, 'reg_lambda': 10.39673338178621, 'subsample': 0.06860190227175456, 'random_strength': 45.445079988232195, 'depth': 9, 'min_data_in_leaf': 38, 'leaf_estimation_iterations': 12}. Best is trial 12 with value: 1.7455353430219225.\u001b[0m\n",
            "\u001b[32m[I 2021-06-29 06:28:03,317]\u001b[0m Trial 37 finished with value: 1.7459732305724733 and parameters: {'iterations': 12905, 'learning_rate': 0.010000935869284935, 'reg_lambda': 98.45415977645263, 'subsample': 0.24409216841572612, 'random_strength': 48.08289178570175, 'depth': 10, 'min_data_in_leaf': 20, 'leaf_estimation_iterations': 3}. Best is trial 12 with value: 1.7455353430219225.\u001b[0m\n",
            "\u001b[32m[I 2021-06-29 06:28:18,418]\u001b[0m Trial 38 finished with value: 1.748899567879922 and parameters: {'iterations': 12461, 'learning_rate': 0.05253399361781348, 'reg_lambda': 99.01418819391819, 'subsample': 0.31963197482424804, 'random_strength': 20.02578014024636, 'depth': 5, 'min_data_in_leaf': 21, 'leaf_estimation_iterations': 3}. Best is trial 12 with value: 1.7455353430219225.\u001b[0m\n",
            "\u001b[32m[I 2021-06-29 06:28:24,453]\u001b[0m Trial 39 finished with value: 1.7521417496793446 and parameters: {'iterations': 17817, 'learning_rate': 0.20279073876381618, 'reg_lambda': 67.14510478920846, 'subsample': 0.5804969028063538, 'random_strength': 30.671563878221388, 'depth': 9, 'min_data_in_leaf': 15, 'leaf_estimation_iterations': 7}. Best is trial 12 with value: 1.7455353430219225.\u001b[0m\n",
            "\u001b[32m[I 2021-06-29 06:28:30,981]\u001b[0m Trial 40 finished with value: 1.750843813080883 and parameters: {'iterations': 14466, 'learning_rate': 0.14221401599676958, 'reg_lambda': 99.51371781394826, 'subsample': 0.24976854907110788, 'random_strength': 40.23366160148571, 'depth': 6, 'min_data_in_leaf': 25, 'leaf_estimation_iterations': 3}. Best is trial 12 with value: 1.7455353430219225.\u001b[0m\n",
            "\u001b[32m[I 2021-06-29 06:28:54,537]\u001b[0m Trial 41 finished with value: 1.7472109585379763 and parameters: {'iterations': 11076, 'learning_rate': 0.030534802244084887, 'reg_lambda': 30.293969632428634, 'subsample': 0.1322104941544445, 'random_strength': 48.01049376542444, 'depth': 10, 'min_data_in_leaf': 14, 'leaf_estimation_iterations': 1}. Best is trial 12 with value: 1.7455353430219225.\u001b[0m\n",
            "\u001b[32m[I 2021-06-29 06:29:02,899]\u001b[0m Trial 42 finished with value: 1.748808346319664 and parameters: {'iterations': 12941, 'learning_rate': 0.0830931374269573, 'reg_lambda': 42.28030626353042, 'subsample': 0.4057693234953753, 'random_strength': 44.40935060790392, 'depth': 10, 'min_data_in_leaf': 21, 'leaf_estimation_iterations': 1}. Best is trial 12 with value: 1.7455353430219225.\u001b[0m\n",
            "\u001b[32m[I 2021-06-29 06:29:07,318]\u001b[0m Trial 43 finished with value: 1.7675081719323942 and parameters: {'iterations': 16066, 'learning_rate': 0.4925329364323403, 'reg_lambda': 29.4582549460342, 'subsample': 0.22828368528946777, 'random_strength': 47.760357813152154, 'depth': 9, 'min_data_in_leaf': 28, 'leaf_estimation_iterations': 2}. Best is trial 12 with value: 1.7455353430219225.\u001b[0m\n",
            "\u001b[32m[I 2021-06-29 06:29:35,156]\u001b[0m Trial 44 finished with value: 1.747133955817405 and parameters: {'iterations': 8621, 'learning_rate': 0.033624553590830795, 'reg_lambda': 34.94512092524168, 'subsample': 0.055044374129356845, 'random_strength': 45.507081434911335, 'depth': 10, 'min_data_in_leaf': 19, 'leaf_estimation_iterations': 5}. Best is trial 12 with value: 1.7455353430219225.\u001b[0m\n",
            "\u001b[32m[I 2021-06-29 06:30:51,001]\u001b[0m Trial 45 finished with value: 1.7460768003293117 and parameters: {'iterations': 10201, 'learning_rate': 0.010048915313381474, 'reg_lambda': 50.4471283233661, 'subsample': 0.16279929302980062, 'random_strength': 49.845978332477834, 'depth': 8, 'min_data_in_leaf': 15, 'leaf_estimation_iterations': 1}. Best is trial 12 with value: 1.7455353430219225.\u001b[0m\n",
            "\u001b[32m[I 2021-06-29 06:31:05,349]\u001b[0m Trial 46 finished with value: 1.7480529206153872 and parameters: {'iterations': 10125, 'learning_rate': 0.06794342190065365, 'reg_lambda': 91.32508322723866, 'subsample': 0.1634564794561519, 'random_strength': 49.45940431399272, 'depth': 8, 'min_data_in_leaf': 12, 'leaf_estimation_iterations': 4}. Best is trial 12 with value: 1.7455353430219225.\u001b[0m\n",
            "\u001b[32m[I 2021-06-29 06:31:22,419]\u001b[0m Trial 47 finished with value: 1.747404222616305 and parameters: {'iterations': 14121, 'learning_rate': 0.04199225429492423, 'reg_lambda': 52.42726996944785, 'subsample': 0.2856853262529593, 'random_strength': 43.375022138530426, 'depth': 9, 'min_data_in_leaf': 7, 'leaf_estimation_iterations': 2}. Best is trial 12 with value: 1.7455353430219225.\u001b[0m\n",
            "\u001b[32m[I 2021-06-29 06:31:31,980]\u001b[0m Trial 48 finished with value: 1.748550283024873 and parameters: {'iterations': 11734, 'learning_rate': 0.10114497853369925, 'reg_lambda': 75.82849207769782, 'subsample': 0.10212722779145236, 'random_strength': 49.83643198429174, 'depth': 8, 'min_data_in_leaf': 23, 'leaf_estimation_iterations': 1}. Best is trial 12 with value: 1.7455353430219225.\u001b[0m\n",
            "\u001b[32m[I 2021-06-29 06:31:36,317]\u001b[0m Trial 49 finished with value: 1.7534660414411045 and parameters: {'iterations': 8451, 'learning_rate': 0.25304319467946834, 'reg_lambda': 48.40121534492759, 'subsample': 0.8396956826724663, 'random_strength': 45.82648595629259, 'depth': 7, 'min_data_in_leaf': 10, 'leaf_estimation_iterations': 3}. Best is trial 12 with value: 1.7455353430219225.\u001b[0m\n",
            "\u001b[32m[I 2021-06-29 06:31:41,780]\u001b[0m Trial 50 finished with value: 1.760585854703432 and parameters: {'iterations': 10109, 'learning_rate': 0.4336906558383813, 'reg_lambda': 67.85361229903705, 'subsample': 0.13342824214830298, 'random_strength': 37.097981793302914, 'depth': 6, 'min_data_in_leaf': 17, 'leaf_estimation_iterations': 11}. Best is trial 12 with value: 1.7455353430219225.\u001b[0m\n",
            "\u001b[32m[I 2021-06-29 06:32:37,245]\u001b[0m Trial 51 finished with value: 1.74607380790249 and parameters: {'iterations': 15238, 'learning_rate': 0.01198504641567686, 'reg_lambda': 21.302141726366955, 'subsample': 0.03821009091587646, 'random_strength': 48.31691322661502, 'depth': 10, 'min_data_in_leaf': 27, 'leaf_estimation_iterations': 1}. Best is trial 12 with value: 1.7455353430219225.\u001b[0m\n",
            "\u001b[32m[I 2021-06-29 06:33:08,874]\u001b[0m Trial 52 finished with value: 1.7464151187044255 and parameters: {'iterations': 15495, 'learning_rate': 0.026406660248289297, 'reg_lambda': 28.811581470768466, 'subsample': 0.037828155514269296, 'random_strength': 48.363862302104835, 'depth': 10, 'min_data_in_leaf': 18, 'leaf_estimation_iterations': 2}. Best is trial 12 with value: 1.7455353430219225.\u001b[0m\n",
            "\u001b[32m[I 2021-06-29 06:34:02,819]\u001b[0m Trial 53 finished with value: 1.7474020397458219 and parameters: {'iterations': 12905, 'learning_rate': 0.013022164628839199, 'reg_lambda': 39.31361404944441, 'subsample': 0.0006268856641855371, 'random_strength': 49.81909861567473, 'depth': 10, 'min_data_in_leaf': 27, 'leaf_estimation_iterations': 1}. Best is trial 12 with value: 1.7455353430219225.\u001b[0m\n",
            "\u001b[32m[I 2021-06-29 06:34:15,779]\u001b[0m Trial 54 finished with value: 1.7476919365657595 and parameters: {'iterations': 18490, 'learning_rate': 0.06490931670254241, 'reg_lambda': 45.22309095315356, 'subsample': 0.10899310316725497, 'random_strength': 10.369209120923578, 'depth': 9, 'min_data_in_leaf': 32, 'leaf_estimation_iterations': 2}. Best is trial 12 with value: 1.7455353430219225.\u001b[0m\n",
            "\u001b[32m[I 2021-06-29 06:34:37,139]\u001b[0m Trial 55 finished with value: 1.7464405833544827 and parameters: {'iterations': 11857, 'learning_rate': 0.03616785198223031, 'reg_lambda': 56.49953889138463, 'subsample': 0.19646053096159383, 'random_strength': 46.20429866741303, 'depth': 9, 'min_data_in_leaf': 5, 'leaf_estimation_iterations': 3}. Best is trial 12 with value: 1.7455353430219225.\u001b[0m\n",
            "\u001b[32m[I 2021-06-29 06:35:36,469]\u001b[0m Trial 56 finished with value: 1.7460679881762935 and parameters: {'iterations': 15285, 'learning_rate': 0.012585411097930849, 'reg_lambda': 15.510243180156383, 'subsample': 0.007481125741847006, 'random_strength': 48.22812834172342, 'depth': 10, 'min_data_in_leaf': 13, 'leaf_estimation_iterations': 1}. Best is trial 12 with value: 1.7455353430219225.\u001b[0m\n",
            "\u001b[32m[I 2021-06-29 06:35:48,851]\u001b[0m Trial 57 finished with value: 1.7508186298887838 and parameters: {'iterations': 16963, 'learning_rate': 0.09182796791068919, 'reg_lambda': 13.237813375343311, 'subsample': 0.037621838655514606, 'random_strength': 41.208771658606736, 'depth': 10, 'min_data_in_leaf': 12, 'leaf_estimation_iterations': 15}. Best is trial 12 with value: 1.7455353430219225.\u001b[0m\n",
            "\u001b[32m[I 2021-06-29 06:36:19,673]\u001b[0m Trial 58 finished with value: 1.7508939352803958 and parameters: {'iterations': 19429, 'learning_rate': 0.053256878409463526, 'reg_lambda': 4.548908598865424, 'subsample': 0.008042590443453623, 'random_strength': 48.484726013784254, 'depth': 2, 'min_data_in_leaf': 22, 'leaf_estimation_iterations': 8}. Best is trial 12 with value: 1.7455353430219225.\u001b[0m\n",
            "\u001b[32m[I 2021-06-29 06:36:30,768]\u001b[0m Trial 59 finished with value: 1.7488902537495785 and parameters: {'iterations': 13558, 'learning_rate': 0.06964387231161484, 'reg_lambda': 15.777348356915113, 'subsample': 0.08539922489306757, 'random_strength': 43.74484765101765, 'depth': 10, 'min_data_in_leaf': 19, 'leaf_estimation_iterations': 2}. Best is trial 12 with value: 1.7455353430219225.\u001b[0m\n",
            "\u001b[32m[I 2021-06-29 06:37:02,123]\u001b[0m Trial 60 finished with value: 1.7468779335044455 and parameters: {'iterations': 15069, 'learning_rate': 0.02400040535471091, 'reg_lambda': 32.621264554654225, 'subsample': 0.1379020744073157, 'random_strength': 46.51204534767474, 'depth': 9, 'min_data_in_leaf': 1, 'leaf_estimation_iterations': 1}. Best is trial 12 with value: 1.7455353430219225.\u001b[0m\n",
            "\u001b[32m[I 2021-06-29 06:37:59,095]\u001b[0m Trial 61 finished with value: 1.746731404304077 and parameters: {'iterations': 10679, 'learning_rate': 0.010865520410293497, 'reg_lambda': 21.213999676600384, 'subsample': 0.10036481510162537, 'random_strength': 48.54719110494345, 'depth': 10, 'min_data_in_leaf': 15, 'leaf_estimation_iterations': 1}. Best is trial 12 with value: 1.7455353430219225.\u001b[0m\n",
            "\u001b[32m[I 2021-06-29 06:38:17,300]\u001b[0m Trial 62 finished with value: 1.746493239191655 and parameters: {'iterations': 16489, 'learning_rate': 0.03631542932203402, 'reg_lambda': 35.45834748157901, 'subsample': 0.03549885018061403, 'random_strength': 49.93516023273343, 'depth': 10, 'min_data_in_leaf': 17, 'leaf_estimation_iterations': 1}. Best is trial 12 with value: 1.7455353430219225.\u001b[0m\n",
            "\u001b[32m[I 2021-06-29 06:39:12,196]\u001b[0m Trial 63 finished with value: 1.7474282669861088 and parameters: {'iterations': 9768, 'learning_rate': 0.011489503832377602, 'reg_lambda': 4.765527737694525, 'subsample': 0.18387095285873692, 'random_strength': 44.892850604653624, 'depth': 9, 'min_data_in_leaf': 12, 'leaf_estimation_iterations': 2}. Best is trial 12 with value: 1.7455353430219225.\u001b[0m\n",
            "\u001b[32m[I 2021-06-29 06:39:26,909]\u001b[0m Trial 64 finished with value: 1.7478773495807465 and parameters: {'iterations': 12449, 'learning_rate': 0.05196753250662445, 'reg_lambda': 24.559663458902477, 'subsample': 0.2403434346636397, 'random_strength': 48.72062568499917, 'depth': 8, 'min_data_in_leaf': 14, 'leaf_estimation_iterations': 3}. Best is trial 12 with value: 1.7455353430219225.\u001b[0m\n",
            "\u001b[32m[I 2021-06-29 06:39:59,077]\u001b[0m Trial 65 finished with value: 1.7460460331189478 and parameters: {'iterations': 11257, 'learning_rate': 0.031089780761990014, 'reg_lambda': 26.585322489171322, 'subsample': 0.00787119656742526, 'random_strength': 46.22400581888056, 'depth': 10, 'min_data_in_leaf': 10, 'leaf_estimation_iterations': 1}. Best is trial 12 with value: 1.7455353430219225.\u001b[0m\n",
            "\u001b[32m[I 2021-06-29 06:40:46,401]\u001b[0m Trial 66 finished with value: 1.7475224198490873 and parameters: {'iterations': 13344, 'learning_rate': 0.027023506778896485, 'reg_lambda': 27.092867996227184, 'subsample': 0.00021909958252935152, 'random_strength': 42.669769237159564, 'depth': 10, 'min_data_in_leaf': 7, 'leaf_estimation_iterations': 4}. Best is trial 12 with value: 1.7455353430219225.\u001b[0m\n",
            "\u001b[32m[I 2021-06-29 06:40:56,454]\u001b[0m Trial 67 finished with value: 1.7481931774327149 and parameters: {'iterations': 11251, 'learning_rate': 0.07684401460198119, 'reg_lambda': 18.733398201394788, 'subsample': 0.07035602093495491, 'random_strength': 46.56514618986228, 'depth': 10, 'min_data_in_leaf': 9, 'leaf_estimation_iterations': 2}. Best is trial 12 with value: 1.7455353430219225.\u001b[0m\n",
            "\u001b[32m[I 2021-06-29 06:41:06,416]\u001b[0m Trial 68 finished with value: 1.749407452743339 and parameters: {'iterations': 15314, 'learning_rate': 0.10835967688793281, 'reg_lambda': 41.28741761314925, 'subsample': 0.03377834375542772, 'random_strength': 47.41136117919671, 'depth': 9, 'min_data_in_leaf': 3, 'leaf_estimation_iterations': 1}. Best is trial 12 with value: 1.7455353430219225.\u001b[0m\n",
            "\u001b[32m[I 2021-06-29 06:41:10,855]\u001b[0m Trial 69 finished with value: 1.7580791360744152 and parameters: {'iterations': 9224, 'learning_rate': 0.35689634523542313, 'reg_lambda': 13.350807581158485, 'subsample': 0.004930073975917832, 'random_strength': 25.779978245676418, 'depth': 10, 'min_data_in_leaf': 48, 'leaf_estimation_iterations': 3}. Best is trial 12 with value: 1.7455353430219225.\u001b[0m\n",
            "\u001b[32m[I 2021-06-29 06:41:26,794]\u001b[0m Trial 70 finished with value: 1.7484969110648103 and parameters: {'iterations': 14109, 'learning_rate': 0.05516142693618358, 'reg_lambda': 23.276616250528647, 'subsample': 0.3745141371280706, 'random_strength': 45.04020533512842, 'depth': 9, 'min_data_in_leaf': 6, 'leaf_estimation_iterations': 14}. Best is trial 12 with value: 1.7455353430219225.\u001b[0m\n",
            "\u001b[32m[I 2021-06-29 06:42:14,831]\u001b[0m Trial 71 finished with value: 1.7463371664398784 and parameters: {'iterations': 12062, 'learning_rate': 0.013086875920223314, 'reg_lambda': 31.709090849667415, 'subsample': 0.14007516198187386, 'random_strength': 49.91820145748032, 'depth': 10, 'min_data_in_leaf': 11, 'leaf_estimation_iterations': 1}. Best is trial 12 with value: 1.7455353430219225.\u001b[0m\n",
            "\u001b[32m[I 2021-06-29 06:42:40,488]\u001b[0m Trial 72 finished with value: 1.7469668769352098 and parameters: {'iterations': 10556, 'learning_rate': 0.023972842685558944, 'reg_lambda': 15.903830798246016, 'subsample': 0.08229719372427297, 'random_strength': 48.75416869933916, 'depth': 10, 'min_data_in_leaf': 15, 'leaf_estimation_iterations': 1}. Best is trial 12 with value: 1.7455353430219225.\u001b[0m\n",
            "\u001b[32m[I 2021-06-29 06:43:17,401]\u001b[0m Trial 73 finished with value: 1.7480405429142185 and parameters: {'iterations': 8447, 'learning_rate': 0.042626661627198234, 'reg_lambda': 34.4903977233255, 'subsample': 0.00012787616580772418, 'random_strength': 12.79199232523833, 'depth': 9, 'min_data_in_leaf': 9, 'leaf_estimation_iterations': 2}. Best is trial 12 with value: 1.7455353430219225.\u001b[0m\n",
            "\u001b[32m[I 2021-06-29 06:43:44,289]\u001b[0m Trial 74 finished with value: 1.7484910896112054 and parameters: {'iterations': 11208, 'learning_rate': 0.024848536145097987, 'reg_lambda': 27.318190980144458, 'subsample': 0.1173569582319724, 'random_strength': 46.99563302184788, 'depth': 4, 'min_data_in_leaf': 16, 'leaf_estimation_iterations': 1}. Best is trial 12 with value: 1.7455353430219225.\u001b[0m\n",
            "\u001b[32m[I 2021-06-29 06:44:49,957]\u001b[0m Trial 75 finished with value: 1.74664335956172 and parameters: {'iterations': 7479, 'learning_rate': 0.011860210199783169, 'reg_lambda': 22.038787986588492, 'subsample': 0.049091422241017, 'random_strength': 48.812014887733255, 'depth': 10, 'min_data_in_leaf': 14, 'leaf_estimation_iterations': 2}. Best is trial 12 with value: 1.7455353430219225.\u001b[0m\n",
            "\u001b[32m[I 2021-06-29 06:45:05,867]\u001b[0m Trial 76 finished with value: 1.748358968551171 and parameters: {'iterations': 6861, 'learning_rate': 0.04305432189810557, 'reg_lambda': 6.910412666820491, 'subsample': 0.21716000322207707, 'random_strength': 47.87495025192902, 'depth': 10, 'min_data_in_leaf': 19, 'leaf_estimation_iterations': 1}. Best is trial 12 with value: 1.7455353430219225.\u001b[0m\n",
            "\u001b[32m[I 2021-06-29 06:45:59,391]\u001b[0m Trial 77 finished with value: 1.7467462491114074 and parameters: {'iterations': 13158, 'learning_rate': 0.011431430646874043, 'reg_lambda': 37.10197085491686, 'subsample': 0.5983497262259532, 'random_strength': 45.8439097602708, 'depth': 9, 'min_data_in_leaf': 45, 'leaf_estimation_iterations': 2}. Best is trial 12 with value: 1.7455353430219225.\u001b[0m\n",
            "\u001b[32m[I 2021-06-29 06:46:14,769]\u001b[0m Trial 78 finished with value: 1.747540072200638 and parameters: {'iterations': 12301, 'learning_rate': 0.06668218531125714, 'reg_lambda': 81.08809732644787, 'subsample': 0.18027120317613815, 'random_strength': 43.96047402087113, 'depth': 8, 'min_data_in_leaf': 13, 'leaf_estimation_iterations': 1}. Best is trial 12 with value: 1.7455353430219225.\u001b[0m\n",
            "\u001b[32m[I 2021-06-29 06:46:37,385]\u001b[0m Trial 79 finished with value: 1.7472994237527135 and parameters: {'iterations': 14049, 'learning_rate': 0.037772308951346464, 'reg_lambda': 29.70783850796328, 'subsample': 0.08572591044572458, 'random_strength': 47.053085789067325, 'depth': 10, 'min_data_in_leaf': 49, 'leaf_estimation_iterations': 9}. Best is trial 12 with value: 1.7455353430219225.\u001b[0m\n",
            "\u001b[32m[I 2021-06-29 06:46:47,552]\u001b[0m Trial 80 finished with value: 1.7485805041515432 and parameters: {'iterations': 9753, 'learning_rate': 0.09287009497669572, 'reg_lambda': 95.49568652713386, 'subsample': 0.16129155587403216, 'random_strength': 49.87300610952478, 'depth': 8, 'min_data_in_leaf': 25, 'leaf_estimation_iterations': 3}. Best is trial 12 with value: 1.7455353430219225.\u001b[0m\n",
            "\u001b[32m[I 2021-06-29 06:47:44,069]\u001b[0m Trial 81 finished with value: 1.7462317487187013 and parameters: {'iterations': 11970, 'learning_rate': 0.012019580274624719, 'reg_lambda': 31.291925755430682, 'subsample': 0.13006649009954613, 'random_strength': 49.80429134304904, 'depth': 10, 'min_data_in_leaf': 10, 'leaf_estimation_iterations': 1}. Best is trial 12 with value: 1.7455353430219225.\u001b[0m\n",
            "\u001b[32m[I 2021-06-29 06:48:22,278]\u001b[0m Trial 82 finished with value: 1.746005239654529 and parameters: {'iterations': 10448, 'learning_rate': 0.022301158431706235, 'reg_lambda': 40.23167182559039, 'subsample': 0.05534873934345624, 'random_strength': 48.940830832359694, 'depth': 10, 'min_data_in_leaf': 10, 'leaf_estimation_iterations': 1}. Best is trial 12 with value: 1.7455353430219225.\u001b[0m\n",
            "\u001b[32m[I 2021-06-29 06:48:38,020]\u001b[0m Trial 83 finished with value: 1.747582629988551 and parameters: {'iterations': 10340, 'learning_rate': 0.056912204249176264, 'reg_lambda': 43.718231247281274, 'subsample': 0.022651403660615736, 'random_strength': 47.86292374440346, 'depth': 10, 'min_data_in_leaf': 7, 'leaf_estimation_iterations': 2}. Best is trial 12 with value: 1.7455353430219225.\u001b[0m\n",
            "\u001b[32m[I 2021-06-29 06:49:07,338]\u001b[0m Trial 84 finished with value: 1.746021576425289 and parameters: {'iterations': 9041, 'learning_rate': 0.027893852217665036, 'reg_lambda': 38.58927074960068, 'subsample': 0.05204410906030686, 'random_strength': 21.200674540931058, 'depth': 9, 'min_data_in_leaf': 8, 'leaf_estimation_iterations': 1}. Best is trial 12 with value: 1.7455353430219225.\u001b[0m\n",
            "\u001b[32m[I 2021-06-29 06:49:32,929]\u001b[0m Trial 85 finished with value: 1.7466061267128512 and parameters: {'iterations': 9365, 'learning_rate': 0.026408344931908585, 'reg_lambda': 40.503668670301394, 'subsample': 0.06872962823945464, 'random_strength': 20.764453737907132, 'depth': 9, 'min_data_in_leaf': 5, 'leaf_estimation_iterations': 2}. Best is trial 12 with value: 1.7455353430219225.\u001b[0m\n",
            "\u001b[32m[I 2021-06-29 06:49:42,603]\u001b[0m Trial 86 finished with value: 1.748049474345507 and parameters: {'iterations': 8235, 'learning_rate': 0.07834892756878932, 'reg_lambda': 36.69746570015603, 'subsample': 0.04136005515621533, 'random_strength': 21.68991039486478, 'depth': 10, 'min_data_in_leaf': 8, 'leaf_estimation_iterations': 1}. Best is trial 12 with value: 1.7455353430219225.\u001b[0m\n",
            "\u001b[32m[I 2021-06-29 06:50:02,719]\u001b[0m Trial 87 finished with value: 1.7469564182172583 and parameters: {'iterations': 8804, 'learning_rate': 0.045989870303829235, 'reg_lambda': 44.95627272983717, 'subsample': 0.05436420276671783, 'random_strength': 29.487042079175765, 'depth': 10, 'min_data_in_leaf': 4, 'leaf_estimation_iterations': 5}. Best is trial 12 with value: 1.7455353430219225.\u001b[0m\n",
            "\u001b[32m[I 2021-06-29 06:50:27,257]\u001b[0m Trial 88 finished with value: 1.7465366475101451 and parameters: {'iterations': 11293, 'learning_rate': 0.031924325311439565, 'reg_lambda': 34.27788728386574, 'subsample': 0.019215828791582023, 'random_strength': 27.922511779147197, 'depth': 9, 'min_data_in_leaf': 11, 'leaf_estimation_iterations': 2}. Best is trial 12 with value: 1.7455353430219225.\u001b[0m\n",
            "\u001b[32m[I 2021-06-29 06:51:02,615]\u001b[0m Trial 89 finished with value: 1.7466962662671317 and parameters: {'iterations': 14756, 'learning_rate': 0.021681648369519843, 'reg_lambda': 38.922247451504425, 'subsample': 0.10920824108721564, 'random_strength': 45.04898832262443, 'depth': 10, 'min_data_in_leaf': 30, 'leaf_estimation_iterations': 3}. Best is trial 12 with value: 1.7455353430219225.\u001b[0m\n",
            "\u001b[32m[I 2021-06-29 06:51:20,722]\u001b[0m Trial 90 finished with value: 1.7487498517929012 and parameters: {'iterations': 12686, 'learning_rate': 0.05847175222371484, 'reg_lambda': 49.05103806838229, 'subsample': 0.00047188357716614494, 'random_strength': 49.00985821684176, 'depth': 9, 'min_data_in_leaf': 8, 'leaf_estimation_iterations': 1}. Best is trial 12 with value: 1.7455353430219225.\u001b[0m\n",
            "\u001b[32m[I 2021-06-29 06:52:08,418]\u001b[0m Trial 91 finished with value: 1.7466982671788687 and parameters: {'iterations': 10967, 'learning_rate': 0.01123510324750887, 'reg_lambda': 26.268905233970372, 'subsample': 0.3085857717882846, 'random_strength': 14.327931795621605, 'depth': 10, 'min_data_in_leaf': 13, 'leaf_estimation_iterations': 1}. Best is trial 12 with value: 1.7455353430219225.\u001b[0m\n",
            "\u001b[32m[I 2021-06-29 06:52:29,871]\u001b[0m Trial 92 finished with value: 1.746742513694935 and parameters: {'iterations': 10071, 'learning_rate': 0.03795473696437089, 'reg_lambda': 42.61721756472575, 'subsample': 0.09224375516390099, 'random_strength': 22.56090486478562, 'depth': 9, 'min_data_in_leaf': 10, 'leaf_estimation_iterations': 1}. Best is trial 12 with value: 1.7455353430219225.\u001b[0m\n",
            "\u001b[32m[I 2021-06-29 06:53:06,146]\u001b[0m Trial 93 finished with value: 1.7463929113375074 and parameters: {'iterations': 7678, 'learning_rate': 0.022144819613580353, 'reg_lambda': 28.49531527110066, 'subsample': 0.057186572553051, 'random_strength': 18.627274458656533, 'depth': 10, 'min_data_in_leaf': 16, 'leaf_estimation_iterations': 2}. Best is trial 12 with value: 1.7455353430219225.\u001b[0m\n",
            "\u001b[32m[I 2021-06-29 06:53:22,291]\u001b[0m Trial 94 finished with value: 1.7474573644540277 and parameters: {'iterations': 16125, 'learning_rate': 0.048708082351002616, 'reg_lambda': 16.893235892955083, 'subsample': 0.026160135004638794, 'random_strength': 46.12661688615584, 'depth': 10, 'min_data_in_leaf': 20, 'leaf_estimation_iterations': 1}. Best is trial 12 with value: 1.7455353430219225.\u001b[0m\n",
            "\u001b[32m[I 2021-06-29 06:53:42,636]\u001b[0m Trial 95 finished with value: 1.7476457611548868 and parameters: {'iterations': 9057, 'learning_rate': 0.030498011522616754, 'reg_lambda': 51.06266468637091, 'subsample': 0.7253323235656398, 'random_strength': 17.367790185415103, 'depth': 9, 'min_data_in_leaf': 11, 'leaf_estimation_iterations': 6}. Best is trial 12 with value: 1.7455353430219225.\u001b[0m\n",
            "\u001b[32m[I 2021-06-29 06:54:48,516]\u001b[0m Trial 96 finished with value: 1.74735571586035 and parameters: {'iterations': 10677, 'learning_rate': 0.011001488197398799, 'reg_lambda': 24.040807943498553, 'subsample': 0.08252261156952703, 'random_strength': 31.450498979600145, 'depth': 5, 'min_data_in_leaf': 13, 'leaf_estimation_iterations': 2}. Best is trial 12 with value: 1.7455353430219225.\u001b[0m\n",
            "\u001b[32m[I 2021-06-29 06:54:53,365]\u001b[0m Trial 97 finished with value: 1.752843826932547 and parameters: {'iterations': 11520, 'learning_rate': 0.19615393999435332, 'reg_lambda': 33.370707415878144, 'subsample': 0.15546578644779918, 'random_strength': 49.10460526592181, 'depth': 10, 'min_data_in_leaf': 23, 'leaf_estimation_iterations': 1}. Best is trial 12 with value: 1.7455353430219225.\u001b[0m\n",
            "\u001b[32m[I 2021-06-29 06:55:28,460]\u001b[0m Trial 98 finished with value: 1.7468155322222865 and parameters: {'iterations': 9577, 'learning_rate': 0.020353563535766797, 'reg_lambda': 45.81058557452512, 'subsample': 0.25716968155885, 'random_strength': 24.106177911563346, 'depth': 9, 'min_data_in_leaf': 48, 'leaf_estimation_iterations': 2}. Best is trial 12 with value: 1.7455353430219225.\u001b[0m\n",
            "\u001b[32m[I 2021-06-29 06:55:45,965]\u001b[0m Trial 99 finished with value: 1.7486207829546554 and parameters: {'iterations': 8004, 'learning_rate': 0.07294847646297992, 'reg_lambda': 55.6265879916813, 'subsample': 0.02251750110994649, 'random_strength': 47.961949185452646, 'depth': 10, 'min_data_in_leaf': 33, 'leaf_estimation_iterations': 10}. Best is trial 12 with value: 1.7455353430219225.\u001b[0m\n"
          ],
          "name": "stderr"
        },
        {
          "output_type": "stream",
          "text": [
            "Number of finished trials: 100\n",
            "Best trial: score 1.7455353430219225, params {'iterations': 9912, 'learning_rate': 0.012404639001169242, 'reg_lambda': 34.85607480479962, 'subsample': 0.010055515569231628, 'random_strength': 49.89579844259698, 'depth': 10, 'min_data_in_leaf': 49, 'leaf_estimation_iterations': 1}\n"
          ],
          "name": "stdout"
        }
      ]
    },
    {
      "cell_type": "code",
      "metadata": {
        "id": "_e8Yw95-iSMZ",
        "execution": {
          "iopub.status.busy": "2021-06-29T06:57:28.257460Z",
          "iopub.execute_input": "2021-06-29T06:57:28.257789Z",
          "iopub.status.idle": "2021-06-29T07:02:56.031215Z",
          "shell.execute_reply.started": "2021-06-29T06:57:28.257759Z",
          "shell.execute_reply": "2021-06-29T07:02:56.030309Z"
        },
        "trusted": true,
        "outputId": "a82bbfcf-1f18-4416-8f37-ca5eb2c20521"
      },
      "source": [
        "# catboost모델 제일 성능이 잘 나옴(NN빼고)\n",
        "skf = StratifiedKFold(n_splits=5, shuffle=True, random_state=42)\n",
        "preds_cat = np.zeros((x_test.shape[0], y_train.nunique()))\n",
        "params_cat = {'iterations':study.best_params['iterations'],\n",
        "             'loss_function':'MultiClass',\n",
        "              'task_type':\"GPU\",\n",
        "              'eval_metric':'MultiClass',\n",
        "              'leaf_estimation_method':'Newton',\n",
        "              'bootstrap_type': 'Bernoulli',\n",
        "              'learning_rate' : study.best_params['learning_rate'],\n",
        "              'reg_lambda': study.best_params['reg_lambda'],\n",
        "              'subsample': study.best_params['subsample'],\n",
        "              'random_strength': study.best_params['random_strength'],\n",
        "              'depth': study.best_params['depth'],\n",
        "              'min_data_in_leaf': study.best_params['min_data_in_leaf'],\n",
        "              'leaf_estimation_iterations': study.best_params['leaf_estimation_iterations'],\n",
        "              'grow_policy' : 'Lossguide'\n",
        "               }\n",
        "\n",
        "for i, (train_index, valid_index) in enumerate(skf.split(x_train, y_train)):\n",
        "    X_train, X_valid = x_train.iloc[train_index], x_train.iloc[valid_index]\n",
        "    Y_train, Y_valid = y_train.iloc[train_index], y_train.iloc[valid_index]\n",
        "    \n",
        "    model = catboost.CatBoostClassifier(**params_cat)\n",
        "    model.fit(X_train, Y_train, verbose=100, early_stopping_rounds=70, eval_set=(X_valid, Y_valid))\n",
        "    preds_cat += model.predict_proba(x_test)/skf.n_splits\n",
        "    preds_cat_valid = model.predict_proba(X_val)\n"
      ],
      "execution_count": null,
      "outputs": [
        {
          "output_type": "stream",
          "text": [
            "0:\tlearn: 2.1874537\ttest: 2.1875180\tbest: 2.1875180 (0)\ttotal: 21.1ms\tremaining: 3m 28s\n",
            "100:\tlearn: 1.8298094\ttest: 1.8342961\tbest: 1.8342961 (100)\ttotal: 2.19s\tremaining: 3m 32s\n",
            "200:\tlearn: 1.7728080\ttest: 1.7797732\tbest: 1.7797732 (200)\ttotal: 4s\tremaining: 3m 13s\n",
            "300:\tlearn: 1.7570209\ttest: 1.7659658\tbest: 1.7659658 (300)\ttotal: 5.79s\tremaining: 3m 4s\n",
            "400:\tlearn: 1.7496969\ttest: 1.7604617\tbest: 1.7604617 (400)\ttotal: 7.59s\tremaining: 2m 59s\n",
            "500:\tlearn: 1.7450857\ttest: 1.7575002\tbest: 1.7575002 (500)\ttotal: 9.38s\tremaining: 2m 56s\n",
            "600:\tlearn: 1.7416553\ttest: 1.7556410\tbest: 1.7556410 (600)\ttotal: 11.2s\tremaining: 2m 53s\n",
            "700:\tlearn: 1.7388707\ttest: 1.7544221\tbest: 1.7544221 (700)\ttotal: 13.4s\tremaining: 2m 55s\n",
            "800:\tlearn: 1.7363814\ttest: 1.7534945\tbest: 1.7534945 (800)\ttotal: 15.2s\tremaining: 2m 52s\n",
            "900:\tlearn: 1.7341859\ttest: 1.7527326\tbest: 1.7527326 (900)\ttotal: 17s\tremaining: 2m 49s\n",
            "1000:\tlearn: 1.7322381\ttest: 1.7521824\tbest: 1.7521824 (1000)\ttotal: 19.4s\tremaining: 2m 53s\n",
            "1100:\tlearn: 1.7303705\ttest: 1.7517510\tbest: 1.7517510 (1099)\ttotal: 21.3s\tremaining: 2m 50s\n",
            "1200:\tlearn: 1.7286002\ttest: 1.7513746\tbest: 1.7513746 (1200)\ttotal: 23.2s\tremaining: 2m 48s\n",
            "1300:\tlearn: 1.7269258\ttest: 1.7510682\tbest: 1.7510682 (1300)\ttotal: 25.3s\tremaining: 2m 47s\n",
            "1400:\tlearn: 1.7252951\ttest: 1.7507850\tbest: 1.7507850 (1400)\ttotal: 27.1s\tremaining: 2m 44s\n",
            "1500:\tlearn: 1.7237369\ttest: 1.7505854\tbest: 1.7505854 (1500)\ttotal: 29s\tremaining: 2m 42s\n",
            "1600:\tlearn: 1.7222238\ttest: 1.7504107\tbest: 1.7504086 (1599)\ttotal: 30.8s\tremaining: 2m 39s\n",
            "1700:\tlearn: 1.7207588\ttest: 1.7502303\tbest: 1.7502303 (1700)\ttotal: 32.6s\tremaining: 2m 37s\n",
            "1800:\tlearn: 1.7193029\ttest: 1.7500875\tbest: 1.7500875 (1800)\ttotal: 34.8s\tremaining: 2m 36s\n",
            "1900:\tlearn: 1.7178926\ttest: 1.7500186\tbest: 1.7500156 (1895)\ttotal: 36.7s\tremaining: 2m 34s\n",
            "2000:\tlearn: 1.7165045\ttest: 1.7499393\tbest: 1.7499311 (1989)\ttotal: 38.5s\tremaining: 2m 32s\n",
            "2100:\tlearn: 1.7151508\ttest: 1.7498467\tbest: 1.7498467 (2096)\ttotal: 40.3s\tremaining: 2m 29s\n",
            "2200:\tlearn: 1.7138125\ttest: 1.7498010\tbest: 1.7498004 (2196)\ttotal: 42.1s\tremaining: 2m 27s\n",
            "2300:\tlearn: 1.7124932\ttest: 1.7497568\tbest: 1.7497461 (2287)\ttotal: 43.9s\tremaining: 2m 25s\n",
            "2400:\tlearn: 1.7111773\ttest: 1.7497432\tbest: 1.7497389 (2359)\ttotal: 46s\tremaining: 2m 23s\n",
            "2500:\tlearn: 1.7098693\ttest: 1.7496742\tbest: 1.7496730 (2492)\ttotal: 47.8s\tremaining: 2m 21s\n",
            "2600:\tlearn: 1.7085879\ttest: 1.7496492\tbest: 1.7496484 (2598)\ttotal: 49.6s\tremaining: 2m 19s\n",
            "bestTest = 1.749644141\n",
            "bestIteration = 2610\n",
            "Shrink model to first 2611 iterations.\n",
            "0:\tlearn: 2.1876117\ttest: 2.1876031\tbest: 2.1876031 (0)\ttotal: 19.7ms\tremaining: 3m 14s\n",
            "100:\tlearn: 1.8312547\ttest: 1.8316008\tbest: 1.8316008 (100)\ttotal: 1.86s\tremaining: 3m\n",
            "200:\tlearn: 1.7748023\ttest: 1.7759658\tbest: 1.7759658 (200)\ttotal: 3.78s\tremaining: 3m 2s\n",
            "300:\tlearn: 1.7590354\ttest: 1.7612553\tbest: 1.7612553 (300)\ttotal: 5.93s\tremaining: 3m 9s\n",
            "400:\tlearn: 1.7518291\ttest: 1.7552266\tbest: 1.7552266 (400)\ttotal: 7.96s\tremaining: 3m 8s\n",
            "500:\tlearn: 1.7472354\ttest: 1.7518604\tbest: 1.7518604 (500)\ttotal: 9.75s\tremaining: 3m 3s\n",
            "600:\tlearn: 1.7438115\ttest: 1.7496336\tbest: 1.7496336 (600)\ttotal: 11.5s\tremaining: 2m 58s\n",
            "700:\tlearn: 1.7410053\ttest: 1.7480805\tbest: 1.7480805 (700)\ttotal: 13.4s\tremaining: 2m 55s\n",
            "800:\tlearn: 1.7385844\ttest: 1.7469156\tbest: 1.7469156 (800)\ttotal: 15.2s\tremaining: 2m 52s\n",
            "900:\tlearn: 1.7364342\ttest: 1.7460346\tbest: 1.7460346 (900)\ttotal: 17.4s\tremaining: 2m 54s\n",
            "1000:\tlearn: 1.7344510\ttest: 1.7453084\tbest: 1.7453084 (1000)\ttotal: 19.3s\tremaining: 2m 51s\n",
            "1100:\tlearn: 1.7325967\ttest: 1.7446949\tbest: 1.7446949 (1100)\ttotal: 21.1s\tremaining: 2m 48s\n",
            "1200:\tlearn: 1.7308344\ttest: 1.7442318\tbest: 1.7442318 (1200)\ttotal: 23.5s\tremaining: 2m 50s\n",
            "1300:\tlearn: 1.7291646\ttest: 1.7438301\tbest: 1.7438301 (1300)\ttotal: 25.4s\tremaining: 2m 47s\n",
            "1400:\tlearn: 1.7275678\ttest: 1.7434961\tbest: 1.7434961 (1399)\ttotal: 27.2s\tremaining: 2m 45s\n",
            "1500:\tlearn: 1.7260082\ttest: 1.7432045\tbest: 1.7432045 (1500)\ttotal: 29.4s\tremaining: 2m 44s\n",
            "1600:\tlearn: 1.7245207\ttest: 1.7430135\tbest: 1.7430135 (1600)\ttotal: 31.2s\tremaining: 2m 41s\n",
            "1700:\tlearn: 1.7230645\ttest: 1.7428062\tbest: 1.7428062 (1700)\ttotal: 33s\tremaining: 2m 39s\n",
            "1800:\tlearn: 1.7216494\ttest: 1.7425883\tbest: 1.7425881 (1799)\ttotal: 34.7s\tremaining: 2m 36s\n",
            "1900:\tlearn: 1.7202328\ttest: 1.7424303\tbest: 1.7424303 (1900)\ttotal: 36.5s\tremaining: 2m 33s\n",
            "2000:\tlearn: 1.7188350\ttest: 1.7422662\tbest: 1.7422658 (1996)\ttotal: 38.4s\tremaining: 2m 31s\n",
            "2100:\tlearn: 1.7174773\ttest: 1.7421768\tbest: 1.7421768 (2100)\ttotal: 40.6s\tremaining: 2m 30s\n",
            "2200:\tlearn: 1.7161482\ttest: 1.7420674\tbest: 1.7420645 (2197)\ttotal: 42.4s\tremaining: 2m 28s\n",
            "2300:\tlearn: 1.7148244\ttest: 1.7419340\tbest: 1.7419340 (2300)\ttotal: 44.2s\tremaining: 2m 26s\n",
            "2400:\tlearn: 1.7135365\ttest: 1.7418004\tbest: 1.7418004 (2400)\ttotal: 46s\tremaining: 2m 23s\n",
            "2500:\tlearn: 1.7122395\ttest: 1.7417344\tbest: 1.7417344 (2500)\ttotal: 47.8s\tremaining: 2m 21s\n",
            "2600:\tlearn: 1.7109791\ttest: 1.7416684\tbest: 1.7416684 (2600)\ttotal: 49.8s\tremaining: 2m 20s\n",
            "2700:\tlearn: 1.7097379\ttest: 1.7416160\tbest: 1.7416086 (2695)\ttotal: 51.7s\tremaining: 2m 18s\n",
            "2800:\tlearn: 1.7085111\ttest: 1.7415869\tbest: 1.7415863 (2798)\ttotal: 53.5s\tremaining: 2m 15s\n",
            "2900:\tlearn: 1.7072695\ttest: 1.7415432\tbest: 1.7415412 (2889)\ttotal: 56.2s\tremaining: 2m 15s\n",
            "3000:\tlearn: 1.7060105\ttest: 1.7415104\tbest: 1.7415053 (2998)\ttotal: 58s\tremaining: 2m 13s\n",
            "3100:\tlearn: 1.7048107\ttest: 1.7414648\tbest: 1.7414648 (3100)\ttotal: 59.8s\tremaining: 2m 11s\n",
            "3200:\tlearn: 1.7036258\ttest: 1.7414605\tbest: 1.7414582 (3160)\ttotal: 1m 1s\tremaining: 2m 9s\n",
            "bestTest = 1.741454297\n",
            "bestIteration = 3210\n",
            "Shrink model to first 3211 iterations.\n",
            "0:\tlearn: 2.1874223\ttest: 2.1874252\tbest: 2.1874252 (0)\ttotal: 19.8ms\tremaining: 3m 15s\n",
            "100:\tlearn: 1.8305053\ttest: 1.8310275\tbest: 1.8310275 (100)\ttotal: 1.87s\tremaining: 3m 1s\n",
            "200:\tlearn: 1.7737004\ttest: 1.7754486\tbest: 1.7754486 (200)\ttotal: 3.67s\tremaining: 2m 57s\n",
            "300:\tlearn: 1.7581570\ttest: 1.7612977\tbest: 1.7612977 (300)\ttotal: 5.45s\tremaining: 2m 54s\n",
            "400:\tlearn: 1.7510623\ttest: 1.7555348\tbest: 1.7555348 (400)\ttotal: 7.25s\tremaining: 2m 51s\n",
            "500:\tlearn: 1.7464199\ttest: 1.7523012\tbest: 1.7523012 (500)\ttotal: 9.42s\tremaining: 2m 56s\n",
            "600:\tlearn: 1.7430027\ttest: 1.7503074\tbest: 1.7503074 (600)\ttotal: 11.2s\tremaining: 2m 53s\n",
            "700:\tlearn: 1.7401568\ttest: 1.7488553\tbest: 1.7488553 (700)\ttotal: 13.9s\tremaining: 3m 2s\n",
            "800:\tlearn: 1.7377172\ttest: 1.7478270\tbest: 1.7478270 (800)\ttotal: 15.8s\tremaining: 2m 59s\n",
            "900:\tlearn: 1.7355029\ttest: 1.7470180\tbest: 1.7470180 (900)\ttotal: 17.5s\tremaining: 2m 55s\n",
            "1000:\tlearn: 1.7334949\ttest: 1.7464102\tbest: 1.7464102 (1000)\ttotal: 19.8s\tremaining: 2m 56s\n",
            "1100:\tlearn: 1.7316916\ttest: 1.7459541\tbest: 1.7459541 (1100)\ttotal: 21.7s\tremaining: 2m 53s\n",
            "1200:\tlearn: 1.7299225\ttest: 1.7455422\tbest: 1.7455422 (1200)\ttotal: 23.6s\tremaining: 2m 51s\n",
            "1300:\tlearn: 1.7282770\ttest: 1.7452137\tbest: 1.7452137 (1300)\ttotal: 25.5s\tremaining: 2m 48s\n",
            "1400:\tlearn: 1.7266510\ttest: 1.7449301\tbest: 1.7449301 (1400)\ttotal: 27.4s\tremaining: 2m 46s\n",
            "1500:\tlearn: 1.7251004\ttest: 1.7446613\tbest: 1.7446613 (1500)\ttotal: 29.2s\tremaining: 2m 43s\n",
            "1600:\tlearn: 1.7235936\ttest: 1.7444752\tbest: 1.7444752 (1600)\ttotal: 31.4s\tremaining: 2m 43s\n",
            "1700:\tlearn: 1.7221393\ttest: 1.7443129\tbest: 1.7443129 (1700)\ttotal: 33.2s\tremaining: 2m 40s\n",
            "1800:\tlearn: 1.7207041\ttest: 1.7441945\tbest: 1.7441945 (1800)\ttotal: 35s\tremaining: 2m 37s\n",
            "1900:\tlearn: 1.7192918\ttest: 1.7440693\tbest: 1.7440682 (1899)\ttotal: 36.8s\tremaining: 2m 35s\n",
            "2000:\tlearn: 1.7179125\ttest: 1.7439943\tbest: 1.7439920 (1993)\ttotal: 38.6s\tremaining: 2m 32s\n",
            "2100:\tlearn: 1.7165516\ttest: 1.7439078\tbest: 1.7439070 (2099)\ttotal: 40.4s\tremaining: 2m 30s\n",
            "2200:\tlearn: 1.7152229\ttest: 1.7437975\tbest: 1.7437975 (2200)\ttotal: 42.7s\tremaining: 2m 29s\n",
            "2300:\tlearn: 1.7139154\ttest: 1.7437439\tbest: 1.7437439 (2300)\ttotal: 45.2s\tremaining: 2m 29s\n",
            "2400:\tlearn: 1.7126156\ttest: 1.7436654\tbest: 1.7436654 (2400)\ttotal: 47.1s\tremaining: 2m 27s\n",
            "2500:\tlearn: 1.7113277\ttest: 1.7436127\tbest: 1.7436127 (2500)\ttotal: 49s\tremaining: 2m 25s\n",
            "2600:\tlearn: 1.7100787\ttest: 1.7435730\tbest: 1.7435672 (2584)\ttotal: 50.8s\tremaining: 2m 22s\n",
            "2700:\tlearn: 1.7088088\ttest: 1.7435496\tbest: 1.7435432 (2668)\ttotal: 53s\tremaining: 2m 21s\n",
            "2800:\tlearn: 1.7075572\ttest: 1.7434902\tbest: 1.7434855 (2796)\ttotal: 54.8s\tremaining: 2m 19s\n",
            "2900:\tlearn: 1.7063139\ttest: 1.7434771\tbest: 1.7434666 (2883)\ttotal: 56.6s\tremaining: 2m 16s\n",
            "bestTest = 1.743466602\n",
            "bestIteration = 2883\n",
            "Shrink model to first 2884 iterations.\n",
            "0:\tlearn: 2.1873918\ttest: 2.1873838\tbest: 2.1873838 (0)\ttotal: 21.5ms\tremaining: 3m 33s\n",
            "100:\tlearn: 1.8299605\ttest: 1.8314777\tbest: 1.8314777 (100)\ttotal: 1.95s\tremaining: 3m 9s\n",
            "200:\tlearn: 1.7734928\ttest: 1.7768852\tbest: 1.7768852 (200)\ttotal: 3.85s\tremaining: 3m 5s\n",
            "300:\tlearn: 1.7576037\ttest: 1.7627193\tbest: 1.7627193 (300)\ttotal: 6.04s\tremaining: 3m 12s\n",
            "400:\tlearn: 1.7504471\ttest: 1.7572154\tbest: 1.7572154 (400)\ttotal: 8.23s\tremaining: 3m 15s\n",
            "500:\tlearn: 1.7457826\ttest: 1.7541086\tbest: 1.7541086 (500)\ttotal: 10.5s\tremaining: 3m 17s\n",
            "600:\tlearn: 1.7424041\ttest: 1.7522320\tbest: 1.7522320 (600)\ttotal: 12.3s\tremaining: 3m 10s\n",
            "700:\tlearn: 1.7395598\ttest: 1.7509131\tbest: 1.7509131 (700)\ttotal: 14.1s\tremaining: 3m 5s\n",
            "800:\tlearn: 1.7371150\ttest: 1.7499219\tbest: 1.7499219 (800)\ttotal: 15.9s\tremaining: 3m\n",
            "900:\tlearn: 1.7349416\ttest: 1.7491645\tbest: 1.7491645 (900)\ttotal: 18s\tremaining: 3m\n",
            "1000:\tlearn: 1.7330035\ttest: 1.7486387\tbest: 1.7486387 (1000)\ttotal: 19.9s\tremaining: 2m 56s\n",
            "1100:\tlearn: 1.7311576\ttest: 1.7482043\tbest: 1.7482043 (1100)\ttotal: 21.6s\tremaining: 2m 53s\n",
            "1200:\tlearn: 1.7293813\ttest: 1.7478291\tbest: 1.7478291 (1200)\ttotal: 23.4s\tremaining: 2m 49s\n",
            "1300:\tlearn: 1.7276861\ttest: 1.7474936\tbest: 1.7474936 (1300)\ttotal: 25.2s\tremaining: 2m 46s\n",
            "1400:\tlearn: 1.7260461\ttest: 1.7472191\tbest: 1.7472191 (1400)\ttotal: 27s\tremaining: 2m 43s\n",
            "1500:\tlearn: 1.7245096\ttest: 1.7470232\tbest: 1.7470232 (1500)\ttotal: 29.2s\tremaining: 2m 43s\n",
            "1600:\tlearn: 1.7229750\ttest: 1.7468145\tbest: 1.7468145 (1600)\ttotal: 30.9s\tremaining: 2m 40s\n",
            "1700:\tlearn: 1.7215293\ttest: 1.7466750\tbest: 1.7466748 (1699)\ttotal: 32.7s\tremaining: 2m 38s\n",
            "1800:\tlearn: 1.7200994\ttest: 1.7465547\tbest: 1.7465547 (1800)\ttotal: 34.5s\tremaining: 2m 35s\n",
            "1900:\tlearn: 1.7186979\ttest: 1.7464627\tbest: 1.7464602 (1899)\ttotal: 36.3s\tremaining: 2m 32s\n",
            "2000:\tlearn: 1.7173254\ttest: 1.7463637\tbest: 1.7463598 (1995)\ttotal: 38.1s\tremaining: 2m 30s\n",
            "2100:\tlearn: 1.7159844\ttest: 1.7463238\tbest: 1.7463238 (2100)\ttotal: 40.8s\tremaining: 2m 31s\n",
            "2200:\tlearn: 1.7146320\ttest: 1.7462227\tbest: 1.7462227 (2200)\ttotal: 43.3s\tremaining: 2m 31s\n",
            "2300:\tlearn: 1.7133277\ttest: 1.7461488\tbest: 1.7461469 (2296)\ttotal: 45.2s\tremaining: 2m 29s\n",
            "2400:\tlearn: 1.7120330\ttest: 1.7461145\tbest: 1.7461109 (2393)\ttotal: 47s\tremaining: 2m 27s\n",
            "2500:\tlearn: 1.7107203\ttest: 1.7460613\tbest: 1.7460566 (2494)\ttotal: 48.8s\tremaining: 2m 24s\n",
            "2600:\tlearn: 1.7094246\ttest: 1.7460211\tbest: 1.7460191 (2599)\ttotal: 51s\tremaining: 2m 23s\n",
            "2700:\tlearn: 1.7081695\ttest: 1.7459678\tbest: 1.7459678 (2700)\ttotal: 52.8s\tremaining: 2m 21s\n",
            "bestTest = 1.745958594\n",
            "bestIteration = 2711\n",
            "Shrink model to first 2712 iterations.\n",
            "0:\tlearn: 2.1874574\ttest: 2.1875209\tbest: 2.1875209 (0)\ttotal: 20ms\tremaining: 3m 18s\n",
            "100:\tlearn: 1.8309209\ttest: 1.8328926\tbest: 1.8328926 (100)\ttotal: 1.83s\tremaining: 2m 58s\n",
            "200:\tlearn: 1.7740900\ttest: 1.7773420\tbest: 1.7773420 (200)\ttotal: 3.64s\tremaining: 2m 56s\n",
            "300:\tlearn: 1.7581549\ttest: 1.7627506\tbest: 1.7627506 (300)\ttotal: 5.46s\tremaining: 2m 54s\n",
            "400:\tlearn: 1.7509937\ttest: 1.7569279\tbest: 1.7569279 (400)\ttotal: 7.25s\tremaining: 2m 52s\n",
            "500:\tlearn: 1.7463418\ttest: 1.7535594\tbest: 1.7535594 (500)\ttotal: 10.5s\tremaining: 3m 17s\n",
            "600:\tlearn: 1.7428051\ttest: 1.7513164\tbest: 1.7513164 (600)\ttotal: 12.4s\tremaining: 3m 12s\n",
            "700:\tlearn: 1.7399873\ttest: 1.7498008\tbest: 1.7498008 (700)\ttotal: 14.2s\tremaining: 3m 6s\n",
            "800:\tlearn: 1.7375094\ttest: 1.7487098\tbest: 1.7487098 (800)\ttotal: 16s\tremaining: 3m 2s\n",
            "900:\tlearn: 1.7353201\ttest: 1.7478781\tbest: 1.7478777 (899)\ttotal: 17.8s\tremaining: 2m 58s\n",
            "1000:\tlearn: 1.7333291\ttest: 1.7472439\tbest: 1.7472439 (1000)\ttotal: 20s\tremaining: 2m 58s\n",
            "1100:\tlearn: 1.7314730\ttest: 1.7467547\tbest: 1.7467547 (1100)\ttotal: 21.8s\tremaining: 2m 54s\n",
            "1200:\tlearn: 1.7297191\ttest: 1.7463324\tbest: 1.7463324 (1200)\ttotal: 23.6s\tremaining: 2m 51s\n",
            "1300:\tlearn: 1.7280512\ttest: 1.7459656\tbest: 1.7459656 (1300)\ttotal: 25.4s\tremaining: 2m 47s\n",
            "1400:\tlearn: 1.7264529\ttest: 1.7457037\tbest: 1.7457037 (1400)\ttotal: 27.2s\tremaining: 2m 45s\n",
            "1500:\tlearn: 1.7249033\ttest: 1.7454672\tbest: 1.7454672 (1500)\ttotal: 28.9s\tremaining: 2m 42s\n",
            "1600:\tlearn: 1.7234158\ttest: 1.7452746\tbest: 1.7452746 (1600)\ttotal: 31.1s\tremaining: 2m 41s\n",
            "1700:\tlearn: 1.7219457\ttest: 1.7450916\tbest: 1.7450904 (1699)\ttotal: 32.9s\tremaining: 2m 38s\n",
            "1800:\tlearn: 1.7205146\ttest: 1.7449328\tbest: 1.7449320 (1799)\ttotal: 34.7s\tremaining: 2m 36s\n",
            "1900:\tlearn: 1.7190947\ttest: 1.7448213\tbest: 1.7448213 (1900)\ttotal: 36.6s\tremaining: 2m 34s\n",
            "2000:\tlearn: 1.7177297\ttest: 1.7447098\tbest: 1.7447098 (2000)\ttotal: 38.4s\tremaining: 2m 31s\n",
            "2100:\tlearn: 1.7163762\ttest: 1.7446273\tbest: 1.7446244 (2099)\ttotal: 40.2s\tremaining: 2m 29s\n",
            "2200:\tlearn: 1.7150533\ttest: 1.7445547\tbest: 1.7445514 (2197)\ttotal: 43.2s\tremaining: 2m 31s\n",
            "2300:\tlearn: 1.7137453\ttest: 1.7444961\tbest: 1.7444961 (2300)\ttotal: 45s\tremaining: 2m 28s\n",
            "2400:\tlearn: 1.7124605\ttest: 1.7444104\tbest: 1.7444104 (2400)\ttotal: 46.8s\tremaining: 2m 26s\n",
            "2500:\tlearn: 1.7111809\ttest: 1.7443609\tbest: 1.7443609 (2491)\ttotal: 48.6s\tremaining: 2m 23s\n",
            "bestTest = 1.744353711\n",
            "bestIteration = 2510\n",
            "Shrink model to first 2511 iterations.\n"
          ],
          "name": "stdout"
        }
      ]
    },
    {
      "cell_type": "code",
      "metadata": {
        "execution": {
          "iopub.status.busy": "2021-06-29T07:19:23.987417Z",
          "iopub.execute_input": "2021-06-29T07:19:23.987751Z",
          "iopub.status.idle": "2021-06-29T07:19:25.131372Z",
          "shell.execute_reply.started": "2021-06-29T07:19:23.987720Z",
          "shell.execute_reply": "2021-06-29T07:19:25.130412Z"
        },
        "trusted": true,
        "id": "J2RkfrF-TjdS",
        "outputId": "4d210482-c14f-4763-a38e-3902ec15b77d"
      },
      "source": [
        "fi = pd.Series(model.feature_importances_, index=x_train.columns).sort_values()\n",
        "fig = plt.figure(figsize=(8,14))\n",
        "sns.barplot(y=fi.index, x=fi)"
      ],
      "execution_count": null,
      "outputs": [
        {
          "output_type": "execute_result",
          "data": {
            "text/plain": [
              "<AxesSubplot:>"
            ]
          },
          "metadata": {
            "tags": []
          },
          "execution_count": 32
        },
        {
          "output_type": "display_data",
          "data": {
            "text/plain": [
              "<Figure size 576x1008 with 1 Axes>"
            ],
            "image/png": "[encoded data removed]"
          },
          "metadata": {
            "tags": [],
            "needs_background": "light"
          }
        }
      ]
    },
    {
      "cell_type": "code",
      "metadata": {
        "id": "cRUXX1KiiSMZ",
        "execution": {
          "iopub.status.busy": "2021-06-28T08:32:12.896749Z",
          "iopub.execute_input": "2021-06-28T08:32:12.897105Z",
          "iopub.status.idle": "2021-06-28T09:28:29.333762Z",
          "shell.execute_reply.started": "2021-06-28T08:32:12.897073Z",
          "shell.execute_reply": "2021-06-28T09:28:29.333016Z"
        },
        "trusted": true
      },
      "source": [
        "X_train, X_valid, Y_train, Y_valid = train_test_split(x_train, y_train, test_size=0.2, shuffle=True)\n",
        "model.select_features(\n",
        "                X_train,\n",
        "                Y_train,\n",
        "                eval_set=(X_valid, Y_valid),\n",
        "                features_for_select=list(range(X_train.shape[1])),\n",
        "                num_features_to_select=100,\n",
        "                algorithm='RecursiveByShapValues',\n",
        "                steps=None,\n",
        "                shap_calc_type=None,\n",
        "                train_final_model=False,\n",
        "                verbose=None,\n",
        "                logging_level='Silent',\n",
        "                plot=True)"
      ],
      "execution_count": null,
      "outputs": []
    },
    {
      "cell_type": "code",
      "metadata": {
        "execution": {
          "iopub.status.busy": "2021-06-24T09:28:10.435992Z",
          "iopub.execute_input": "2021-06-24T09:28:10.436407Z",
          "iopub.status.idle": "2021-06-24T09:28:10.5431Z",
          "shell.execute_reply.started": "2021-06-24T09:28:10.436363Z",
          "shell.execute_reply": "2021-06-24T09:28:10.54227Z"
        },
        "id": "QlXot59qiSMa",
        "trusted": true
      },
      "source": [
        "from catboost.utils import get_gpu_device_count\n",
        "get_gpu_device_count()"
      ],
      "execution_count": null,
      "outputs": []
    },
    {
      "cell_type": "code",
      "metadata": {
        "execution": {
          "iopub.status.busy": "2021-06-29T07:39:14.283057Z",
          "iopub.execute_input": "2021-06-29T07:39:14.283414Z",
          "iopub.status.idle": "2021-06-29T07:39:14.294603Z",
          "shell.execute_reply.started": "2021-06-29T07:39:14.283384Z",
          "shell.execute_reply": "2021-06-29T07:39:14.293704Z"
        },
        "trusted": true,
        "id": "vKn1HpCKTjdT"
      },
      "source": [
        "def objective(trial,data=x_train,target=y_train):\n",
        "    \n",
        "    X_train, X_test, y_train, y_test = train_test_split(data, target, test_size=0.2,random_state=42)\n",
        "    params = {'n_estimators':trial.suggest_int(\"n_estimators\", 2000, 25000),\n",
        "              'tree_method':'gpu_hist',\n",
        "              'eval_metric':'mlogloss',\n",
        "              'gamma':trial.suggest_uniform('gamma', .2, .5),\n",
        "              'learning_rate' : trial.suggest_uniform('learning_rate',0.01,0.5),\n",
        "              'reg_lambda': trial.suggest_uniform('reg_lambda',1e-5,100),\n",
        "              'reg_alpha':trial.suggest_int('reg_alpha', 1, 5),\n",
        "              'subsample': trial.suggest_uniform('subsample',0,1),\n",
        "              'max_depth': trial.suggest_int('max_depth',1,15),\n",
        "              'objective':'multi:softprob',\n",
        "              'min_child_weight':trial.suggest_int('min_child_weight', 100, 200),\n",
        "              'colsample_bytree':trial.suggest_uniform('colsample_bytree',0.2, .4),\n",
        "              'colsample_bynode':trial.suggest_uniform('colsample_bynode', .2, .4),\n",
        "              'colsample_bylevel':trial.suggest_uniform('colsample_bylevel', .65, .75)\n",
        "               }\n",
        "    model = xgboost.XGBClassifier(**params)  \n",
        "    model.fit(X_train,y_train,eval_set=[(X_test,y_test)],early_stopping_rounds=100,verbose=False)\n",
        "        \n",
        "    y_preds = model.predict_proba(X_test)\n",
        "\n",
        "\n",
        "    log_loss_multi = log_loss(y_test, y_preds)\n",
        "    \n",
        "    return log_loss_multi"
      ],
      "execution_count": null,
      "outputs": []
    },
    {
      "cell_type": "code",
      "metadata": {
        "execution": {
          "iopub.status.busy": "2021-06-29T07:39:16.341977Z",
          "iopub.execute_input": "2021-06-29T07:39:16.342322Z",
          "iopub.status.idle": "2021-06-29T09:55:35.072803Z",
          "shell.execute_reply.started": "2021-06-29T07:39:16.342290Z",
          "shell.execute_reply": "2021-06-29T09:55:35.071509Z"
        },
        "trusted": true,
        "id": "wtEFOwG1TjdT",
        "outputId": "21594659-e738-48e4-ab23-fe436fadee67"
      },
      "source": [
        "OPTUNA_OPTIMIZATION = True\n",
        "\n",
        "study = optuna.create_study(direction='minimize')\n",
        "study.optimize(objective, n_trials=100)\n",
        "print('Number of finished trials:', len(study.trials))\n",
        "print('Best trial: score {}, params {}'.format(study.best_trial.value, study.best_trial.params))"
      ],
      "execution_count": null,
      "outputs": [
        {
          "output_type": "stream",
          "text": [
            "\u001b[32m[I 2021-06-29 07:39:16,344]\u001b[0m A new study created in memory with name: no-name-fc6fbea9-f366-401f-80a7-938afb9d2a59\u001b[0m\n",
            "\u001b[32m[I 2021-06-29 07:39:36,453]\u001b[0m Trial 0 finished with value: 1.760611058209464 and parameters: {'n_estimators': 18866, 'gamma': 0.4088428675417628, 'learning_rate': 0.2620641631188869, 'reg_lambda': 13.152304737915578, 'reg_alpha': 5, 'subsample': 0.01718091564643065, 'max_depth': 4, 'min_child_weight': 165, 'colsample_bytree': 0.28121399286709836, 'colsample_bynode': 0.3557914022387126, 'colsample_bylevel': 0.6882922439605854}. Best is trial 0 with value: 1.760611058209464.\u001b[0m\n",
            "\u001b[32m[I 2021-06-29 07:39:46,857]\u001b[0m Trial 1 finished with value: 1.753419739504531 and parameters: {'n_estimators': 9263, 'gamma': 0.4890665882930721, 'learning_rate': 0.40318858365444127, 'reg_lambda': 24.736251783363876, 'reg_alpha': 1, 'subsample': 0.953798564005461, 'max_depth': 13, 'min_child_weight': 115, 'colsample_bytree': 0.21353509204208104, 'colsample_bynode': 0.3170123663207481, 'colsample_bylevel': 0.7234100912090738}. Best is trial 1 with value: 1.753419739504531.\u001b[0m\n",
            "\u001b[32m[I 2021-06-29 07:39:56,809]\u001b[0m Trial 2 finished with value: 1.7519168609659188 and parameters: {'n_estimators': 8059, 'gamma': 0.34808872621110776, 'learning_rate': 0.37531581511916184, 'reg_lambda': 6.522463561851696, 'reg_alpha': 5, 'subsample': 0.6754069816828879, 'max_depth': 10, 'min_child_weight': 168, 'colsample_bytree': 0.38638246948145377, 'colsample_bynode': 0.2500732568092848, 'colsample_bylevel': 0.659935360448738}. Best is trial 2 with value: 1.7519168609659188.\u001b[0m\n",
            "\u001b[32m[I 2021-06-29 07:40:05,946]\u001b[0m Trial 3 finished with value: 1.751350845167879 and parameters: {'n_estimators': 11978, 'gamma': 0.4138978489542666, 'learning_rate': 0.31079843156927034, 'reg_lambda': 97.82419322902297, 'reg_alpha': 1, 'subsample': 0.25091754629085694, 'max_depth': 10, 'min_child_weight': 153, 'colsample_bytree': 0.2149374236656364, 'colsample_bynode': 0.3193437504311901, 'colsample_bylevel': 0.7403083784902198}. Best is trial 3 with value: 1.751350845167879.\u001b[0m\n",
            "\u001b[32m[I 2021-06-29 07:40:14,717]\u001b[0m Trial 4 finished with value: 1.7573721485413611 and parameters: {'n_estimators': 3665, 'gamma': 0.3237728028030196, 'learning_rate': 0.37372970840920405, 'reg_lambda': 47.592047678364466, 'reg_alpha': 2, 'subsample': 0.06180461152822825, 'max_depth': 1, 'min_child_weight': 107, 'colsample_bytree': 0.33608741400183384, 'colsample_bynode': 0.38460438020058596, 'colsample_bylevel': 0.7456429222013721}. Best is trial 3 with value: 1.751350845167879.\u001b[0m\n",
            "\u001b[32m[I 2021-06-29 07:40:30,739]\u001b[0m Trial 5 finished with value: 1.748666103053186 and parameters: {'n_estimators': 24588, 'gamma': 0.27562355673913846, 'learning_rate': 0.1575350278838361, 'reg_lambda': 95.46663158011575, 'reg_alpha': 1, 'subsample': 0.3619137267300826, 'max_depth': 11, 'min_child_weight': 177, 'colsample_bytree': 0.399774463230516, 'colsample_bynode': 0.38969100322892136, 'colsample_bylevel': 0.6966909191194754}. Best is trial 5 with value: 1.748666103053186.\u001b[0m\n",
            "\u001b[32m[I 2021-06-29 07:40:40,596]\u001b[0m Trial 6 finished with value: 1.753361934140511 and parameters: {'n_estimators': 22763, 'gamma': 0.28922117229714284, 'learning_rate': 0.48917378887283547, 'reg_lambda': 49.174143548409724, 'reg_alpha': 4, 'subsample': 0.7848559080142671, 'max_depth': 2, 'min_child_weight': 190, 'colsample_bytree': 0.28032744816071475, 'colsample_bynode': 0.3167306854441176, 'colsample_bylevel': 0.7327559810159575}. Best is trial 5 with value: 1.748666103053186.\u001b[0m\n",
            "\u001b[32m[I 2021-06-29 07:40:51,760]\u001b[0m Trial 7 finished with value: 1.7494227898336947 and parameters: {'n_estimators': 20171, 'gamma': 0.4822878795268542, 'learning_rate': 0.17910270108414428, 'reg_lambda': 4.010591178828293, 'reg_alpha': 5, 'subsample': 0.21461959903091, 'max_depth': 12, 'min_child_weight': 121, 'colsample_bytree': 0.3166181729132059, 'colsample_bynode': 0.2515521295013075, 'colsample_bylevel': 0.7314792506575547}. Best is trial 5 with value: 1.748666103053186.\u001b[0m\n",
            "\u001b[32m[I 2021-06-29 07:40:59,836]\u001b[0m Trial 8 finished with value: 1.7555058022128418 and parameters: {'n_estimators': 7957, 'gamma': 0.3829768209608287, 'learning_rate': 0.406831039573056, 'reg_lambda': 90.48697950718037, 'reg_alpha': 5, 'subsample': 0.11162524145572794, 'max_depth': 6, 'min_child_weight': 122, 'colsample_bytree': 0.23228926645062886, 'colsample_bynode': 0.36359541843460313, 'colsample_bylevel': 0.698718494580722}. Best is trial 5 with value: 1.748666103053186.\u001b[0m\n",
            "\u001b[32m[I 2021-06-29 07:41:12,964]\u001b[0m Trial 9 finished with value: 1.7555990456569008 and parameters: {'n_estimators': 20375, 'gamma': 0.2748877434903573, 'learning_rate': 0.4973210172185964, 'reg_lambda': 58.532270433589964, 'reg_alpha': 2, 'subsample': 0.6950373606565965, 'max_depth': 14, 'min_child_weight': 152, 'colsample_bytree': 0.37797793888891423, 'colsample_bynode': 0.35873414785814933, 'colsample_bylevel': 0.749299731534952}. Best is trial 5 with value: 1.748666103053186.\u001b[0m\n",
            "\u001b[32m[I 2021-06-29 07:42:42,059]\u001b[0m Trial 10 finished with value: 1.7455951163838617 and parameters: {'n_estimators': 14390, 'gamma': 0.2033407083458642, 'learning_rate': 0.01672588435001618, 'reg_lambda': 77.2783921110877, 'reg_alpha': 3, 'subsample': 0.42838450640990267, 'max_depth': 7, 'min_child_weight': 197, 'colsample_bytree': 0.35404941694484116, 'colsample_bynode': 0.399220878007228, 'colsample_bylevel': 0.6686598531804565}. Best is trial 10 with value: 1.7455951163838617.\u001b[0m\n",
            "\u001b[32m[I 2021-06-29 07:43:15,431]\u001b[0m Trial 11 finished with value: 1.746277306252625 and parameters: {'n_estimators': 15046, 'gamma': 0.20094489788721684, 'learning_rate': 0.048410550960064136, 'reg_lambda': 77.87491301220547, 'reg_alpha': 3, 'subsample': 0.43169529999181044, 'max_depth': 7, 'min_child_weight': 193, 'colsample_bytree': 0.3572283826235287, 'colsample_bynode': 0.3990051677936394, 'colsample_bylevel': 0.6620397787748741}. Best is trial 10 with value: 1.7455951163838617.\u001b[0m\n",
            "\u001b[32m[I 2021-06-29 07:44:25,940]\u001b[0m Trial 12 finished with value: 1.7457684227898718 and parameters: {'n_estimators': 16624, 'gamma': 0.21070721344004673, 'learning_rate': 0.025884319249814353, 'reg_lambda': 70.46909149907087, 'reg_alpha': 3, 'subsample': 0.4935628527356753, 'max_depth': 7, 'min_child_weight': 197, 'colsample_bytree': 0.3469781754323805, 'colsample_bynode': 0.39774416513081046, 'colsample_bylevel': 0.652702704906979}. Best is trial 10 with value: 1.7455951163838617.\u001b[0m\n",
            "\u001b[32m[I 2021-06-29 07:45:38,914]\u001b[0m Trial 13 finished with value: 1.7462744561147876 and parameters: {'n_estimators': 15996, 'gamma': 0.21106144506526311, 'learning_rate': 0.024711216852521256, 'reg_lambda': 71.3783432543438, 'reg_alpha': 3, 'subsample': 0.548786062397978, 'max_depth': 5, 'min_child_weight': 200, 'colsample_bytree': 0.34793009616080384, 'colsample_bynode': 0.20905343965035897, 'colsample_bylevel': 0.6759215583412382}. Best is trial 10 with value: 1.7455951163838617.\u001b[0m\n",
            "\u001b[32m[I 2021-06-29 07:46:00,121]\u001b[0m Trial 14 finished with value: 1.746900028261263 and parameters: {'n_estimators': 13139, 'gamma': 0.21783001664888496, 'learning_rate': 0.10037087765374662, 'reg_lambda': 74.35107904813607, 'reg_alpha': 4, 'subsample': 0.5343689590846076, 'max_depth': 8, 'min_child_weight': 183, 'colsample_bytree': 0.3155209695058433, 'colsample_bynode': 0.3937348950181438, 'colsample_bylevel': 0.6746272997874012}. Best is trial 10 with value: 1.7455951163838617.\u001b[0m\n",
            "\u001b[32m[I 2021-06-29 07:47:26,286]\u001b[0m Trial 15 finished with value: 1.7457280579145067 and parameters: {'n_estimators': 16802, 'gamma': 0.24246720377089612, 'learning_rate': 0.018987386245392455, 'reg_lambda': 62.21689248426781, 'reg_alpha': 2, 'subsample': 0.40179982891876975, 'max_depth': 8, 'min_child_weight': 198, 'colsample_bytree': 0.36638010712549507, 'colsample_bynode': 0.2789459455298756, 'colsample_bylevel': 0.6534414514972604}. Best is trial 10 with value: 1.7455951163838617.\u001b[0m\n",
            "\u001b[32m[I 2021-06-29 07:47:50,089]\u001b[0m Trial 16 finished with value: 1.7475945704791696 and parameters: {'n_estimators': 11484, 'gamma': 0.2442500187824239, 'learning_rate': 0.10086239120937115, 'reg_lambda': 35.48906845170333, 'reg_alpha': 2, 'subsample': 0.3264356770825675, 'max_depth': 9, 'min_child_weight': 178, 'colsample_bytree': 0.37250358271648326, 'colsample_bynode': 0.2716923022288857, 'colsample_bylevel': 0.6503421995343753}. Best is trial 10 with value: 1.7455951163838617.\u001b[0m\n",
            "\u001b[32m[I 2021-06-29 07:48:10,162]\u001b[0m Trial 17 finished with value: 1.7498874089035206 and parameters: {'n_estimators': 4040, 'gamma': 0.24725503784399452, 'learning_rate': 0.10980491574089302, 'reg_lambda': 60.859061158813496, 'reg_alpha': 2, 'subsample': 0.6176338981449663, 'max_depth': 3, 'min_child_weight': 138, 'colsample_bytree': 0.3190152944626592, 'colsample_bynode': 0.2855214300730196, 'colsample_bylevel': 0.6727423742324801}. Best is trial 10 with value: 1.7455951163838617.\u001b[0m\n",
            "\u001b[32m[I 2021-06-29 07:51:11,325]\u001b[0m Trial 18 finished with value: 1.7462126260939985 and parameters: {'n_estimators': 18251, 'gamma': 0.31784060257929114, 'learning_rate': 0.011129225533146691, 'reg_lambda': 85.90367748459869, 'reg_alpha': 4, 'subsample': 0.17479009394373846, 'max_depth': 5, 'min_child_weight': 199, 'colsample_bytree': 0.3993124951962086, 'colsample_bynode': 0.20612551666808615, 'colsample_bylevel': 0.7123382341473662}. Best is trial 10 with value: 1.7455951163838617.\u001b[0m\n",
            "\u001b[32m[I 2021-06-29 07:51:26,561]\u001b[0m Trial 19 finished with value: 1.7495539090197534 and parameters: {'n_estimators': 14382, 'gamma': 0.23813607054887537, 'learning_rate': 0.1919830830585601, 'reg_lambda': 57.70638186680806, 'reg_alpha': 2, 'subsample': 0.37068529078655366, 'max_depth': 9, 'min_child_weight': 166, 'colsample_bytree': 0.29040526014355716, 'colsample_bynode': 0.23303147990879894, 'colsample_bylevel': 0.6835009164492354}. Best is trial 10 with value: 1.7455951163838617.\u001b[0m\n",
            "\u001b[32m[I 2021-06-29 07:52:01,387]\u001b[0m Trial 20 finished with value: 1.7463341676980257 and parameters: {'n_estimators': 21795, 'gamma': 0.3065512617072001, 'learning_rate': 0.06233278313186626, 'reg_lambda': 38.386547267775796, 'reg_alpha': 3, 'subsample': 0.8432757491624445, 'max_depth': 7, 'min_child_weight': 139, 'colsample_bytree': 0.2611701384446203, 'colsample_bynode': 0.2944434047955678, 'colsample_bylevel': 0.6635748165056}. Best is trial 10 with value: 1.7455951163838617.\u001b[0m\n",
            "\u001b[32m[I 2021-06-29 07:54:00,830]\u001b[0m Trial 21 finished with value: 1.7455301304609514 and parameters: {'n_estimators': 16795, 'gamma': 0.2062253919759335, 'learning_rate': 0.013653897805165576, 'reg_lambda': 67.01338819331656, 'reg_alpha': 3, 'subsample': 0.4750634615501778, 'max_depth': 7, 'min_child_weight': 190, 'colsample_bytree': 0.36215765447543663, 'colsample_bynode': 0.3380950915379143, 'colsample_bylevel': 0.6500552787142696}. Best is trial 21 with value: 1.7455301304609514.\u001b[0m\n",
            "\u001b[32m[I 2021-06-29 07:54:25,983]\u001b[0m Trial 22 finished with value: 1.7466468817911112 and parameters: {'n_estimators': 16963, 'gamma': 0.23565768744594365, 'learning_rate': 0.07667417706410548, 'reg_lambda': 82.05806434879852, 'reg_alpha': 4, 'subsample': 0.44231497927878466, 'max_depth': 6, 'min_child_weight': 187, 'colsample_bytree': 0.3700642879106843, 'colsample_bynode': 0.336358980724501, 'colsample_bylevel': 0.6507355843041089}. Best is trial 21 with value: 1.7455301304609514.\u001b[0m\n",
            "\u001b[32m[I 2021-06-29 07:57:19,296]\u001b[0m Trial 23 finished with value: 1.7455697269985453 and parameters: {'n_estimators': 10213, 'gamma': 0.20088421646506707, 'learning_rate': 0.010634966089049175, 'reg_lambda': 66.58735161586013, 'reg_alpha': 3, 'subsample': 0.3079200802835438, 'max_depth': 8, 'min_child_weight': 200, 'colsample_bytree': 0.33360944686444466, 'colsample_bynode': 0.27402740266766445, 'colsample_bylevel': 0.6583313431553554}. Best is trial 21 with value: 1.7455301304609514.\u001b[0m\n",
            "\u001b[32m[I 2021-06-29 07:57:37,530]\u001b[0m Trial 24 finished with value: 1.7478934906118548 and parameters: {'n_estimators': 10106, 'gamma': 0.20244637518469888, 'learning_rate': 0.13713954879696422, 'reg_lambda': 70.94785080252154, 'reg_alpha': 3, 'subsample': 0.32257566891821887, 'max_depth': 9, 'min_child_weight': 177, 'colsample_bytree': 0.33489085004949914, 'colsample_bynode': 0.26325055215522447, 'colsample_bylevel': 0.667308900073172}. Best is trial 21 with value: 1.7455301304609514.\u001b[0m\n",
            "\u001b[32m[I 2021-06-29 07:57:48,403]\u001b[0m Trial 25 finished with value: 1.7504172782089562 and parameters: {'n_estimators': 5724, 'gamma': 0.26278163978833247, 'learning_rate': 0.21767799795837695, 'reg_lambda': 64.97579616378599, 'reg_alpha': 4, 'subsample': 0.2612435448895093, 'max_depth': 5, 'min_child_weight': 186, 'colsample_bytree': 0.33372695599631114, 'colsample_bynode': 0.3367266477247373, 'colsample_bylevel': 0.6842434690788479}. Best is trial 21 with value: 1.7455301304609514.\u001b[0m\n",
            "\u001b[32m[I 2021-06-29 07:58:19,847]\u001b[0m Trial 26 finished with value: 1.746657553669717 and parameters: {'n_estimators': 12288, 'gamma': 0.2181453461914597, 'learning_rate': 0.057331103591890406, 'reg_lambda': 84.81484660819523, 'reg_alpha': 3, 'subsample': 0.573027526492518, 'max_depth': 6, 'min_child_weight': 192, 'colsample_bytree': 0.35682492331980653, 'colsample_bynode': 0.30167747181725885, 'colsample_bylevel': 0.656066234257682}. Best is trial 21 with value: 1.7455301304609514.\u001b[0m\n",
            "\u001b[32m[I 2021-06-29 07:59:56,330]\u001b[0m Trial 27 finished with value: 1.745137335239118 and parameters: {'n_estimators': 14347, 'gamma': 0.4517807548010375, 'learning_rate': 0.018171489521298375, 'reg_lambda': 51.81152997483635, 'reg_alpha': 3, 'subsample': 0.47268068286151543, 'max_depth': 11, 'min_child_weight': 171, 'colsample_bytree': 0.3060563595287364, 'colsample_bynode': 0.37047162305293724, 'colsample_bylevel': 0.6654820839796303}. Best is trial 27 with value: 1.745137335239118.\u001b[0m\n",
            "\u001b[32m[I 2021-06-29 08:00:14,880]\u001b[0m Trial 28 finished with value: 1.747487758236006 and parameters: {'n_estimators': 10215, 'gamma': 0.46334786933625893, 'learning_rate': 0.12391124361422151, 'reg_lambda': 41.27603363469824, 'reg_alpha': 4, 'subsample': 0.49466266370716827, 'max_depth': 15, 'min_child_weight': 171, 'colsample_bytree': 0.3058379319078219, 'colsample_bynode': 0.34406968279228395, 'colsample_bylevel': 0.7101887680604992}. Best is trial 27 with value: 1.745137335239118.\u001b[0m\n",
            "\u001b[32m[I 2021-06-29 08:00:24,410]\u001b[0m Trial 29 finished with value: 1.7512897218668833 and parameters: {'n_estimators': 6677, 'gamma': 0.43263779356209225, 'learning_rate': 0.27434216150558527, 'reg_lambda': 54.177811890428565, 'reg_alpha': 3, 'subsample': 0.2882285508656709, 'max_depth': 11, 'min_child_weight': 160, 'colsample_bytree': 0.29528702650914673, 'colsample_bynode': 0.3483114541224926, 'colsample_bylevel': 0.6925889393511523}. Best is trial 27 with value: 1.745137335239118.\u001b[0m\n",
            "\u001b[32m[I 2021-06-29 08:00:27,756]\u001b[0m Trial 30 finished with value: 2.1972246170043945 and parameters: {'n_estimators': 18323, 'gamma': 0.3723953495353989, 'learning_rate': 0.0787211071492914, 'reg_lambda': 22.95332153477655, 'reg_alpha': 2, 'subsample': 0.0008168473730183479, 'max_depth': 12, 'min_child_weight': 160, 'colsample_bytree': 0.257973156704111, 'colsample_bynode': 0.37606632517515703, 'colsample_bylevel': 0.6804756934555466}. Best is trial 27 with value: 1.745137335239118.\u001b[0m\n",
            "\u001b[32m[I 2021-06-29 08:01:48,924]\u001b[0m Trial 31 finished with value: 1.7455010945776943 and parameters: {'n_estimators': 13967, 'gamma': 0.4344847832146872, 'learning_rate': 0.020266649222029053, 'reg_lambda': 64.06357069329479, 'reg_alpha': 3, 'subsample': 0.45725059282943653, 'max_depth': 8, 'min_child_weight': 180, 'colsample_bytree': 0.3265486596619845, 'colsample_bynode': 0.37202720729699573, 'colsample_bylevel': 0.6676018678977811}. Best is trial 27 with value: 1.745137335239118.\u001b[0m\n",
            "\u001b[32m[I 2021-06-29 08:02:31,542]\u001b[0m Trial 32 finished with value: 1.7457937081423123 and parameters: {'n_estimators': 13727, 'gamma': 0.4568033794250444, 'learning_rate': 0.04815980935066616, 'reg_lambda': 65.82300044647037, 'reg_alpha': 3, 'subsample': 0.6338283158439881, 'max_depth': 10, 'min_child_weight': 181, 'colsample_bytree': 0.32271784148549865, 'colsample_bynode': 0.368421379204977, 'colsample_bylevel': 0.6584787734218654}. Best is trial 27 with value: 1.745137335239118.\u001b[0m\n",
            "\u001b[32m[I 2021-06-29 08:05:02,967]\u001b[0m Trial 33 finished with value: 1.7457143912454602 and parameters: {'n_estimators': 10986, 'gamma': 0.498217225800096, 'learning_rate': 0.010129818713331592, 'reg_lambda': 45.24199430011204, 'reg_alpha': 3, 'subsample': 0.4965902475776986, 'max_depth': 8, 'min_child_weight': 172, 'colsample_bytree': 0.27696510797195445, 'colsample_bynode': 0.3755066800562327, 'colsample_bylevel': 0.6657061225661036}. Best is trial 27 with value: 1.745137335239118.\u001b[0m\n",
            "\u001b[32m[I 2021-06-29 08:05:57,551]\u001b[0m Trial 34 finished with value: 1.7471016322120092 and parameters: {'n_estimators': 8554, 'gamma': 0.43347964331060995, 'learning_rate': 0.04026040839141432, 'reg_lambda': 53.700800806057465, 'reg_alpha': 4, 'subsample': 0.1707274818758458, 'max_depth': 4, 'min_child_weight': 173, 'colsample_bytree': 0.30310192191197954, 'colsample_bynode': 0.31934020224942117, 'colsample_bylevel': 0.6579433065255024}. Best is trial 27 with value: 1.745137335239118.\u001b[0m\n",
            "\u001b[32m[I 2021-06-29 08:06:27,292]\u001b[0m Trial 35 finished with value: 1.7462538235685323 and parameters: {'n_estimators': 12697, 'gamma': 0.39185228135341166, 'learning_rate': 0.0821727912092315, 'reg_lambda': 30.889956323674966, 'reg_alpha': 3, 'subsample': 0.746706097005063, 'max_depth': 11, 'min_child_weight': 159, 'colsample_bytree': 0.3289346398618908, 'colsample_bynode': 0.3082599528598108, 'colsample_bylevel': 0.6711346159504712}. Best is trial 27 with value: 1.745137335239118.\u001b[0m\n",
            "\u001b[32m[I 2021-06-29 08:09:20,885]\u001b[0m Trial 36 finished with value: 1.7452436172500718 and parameters: {'n_estimators': 15844, 'gamma': 0.41882004017082725, 'learning_rate': 0.010466255538143373, 'reg_lambda': 67.24310114469596, 'reg_alpha': 2, 'subsample': 0.6065244403314946, 'max_depth': 10, 'min_child_weight': 185, 'colsample_bytree': 0.38510064041348135, 'colsample_bynode': 0.32907642754865646, 'colsample_bylevel': 0.6770838237981222}. Best is trial 27 with value: 1.745137335239118.\u001b[0m\n",
            "\u001b[32m[I 2021-06-29 08:09:38,027]\u001b[0m Trial 37 finished with value: 1.7484635985669215 and parameters: {'n_estimators': 15649, 'gamma': 0.4150826251123466, 'learning_rate': 0.15255676802608745, 'reg_lambda': 53.403690222834825, 'reg_alpha': 1, 'subsample': 0.6052485733717772, 'max_depth': 10, 'min_child_weight': 144, 'colsample_bytree': 0.3867601744454033, 'colsample_bynode': 0.32692449798980183, 'colsample_bylevel': 0.6900516432759206}. Best is trial 27 with value: 1.745137335239118.\u001b[0m\n",
            "\u001b[32m[I 2021-06-29 08:09:51,096]\u001b[0m Trial 38 finished with value: 1.7501903294586576 and parameters: {'n_estimators': 19811, 'gamma': 0.34793087836721803, 'learning_rate': 0.31777105509406683, 'reg_lambda': 43.23373370153428, 'reg_alpha': 2, 'subsample': 0.9888737148833451, 'max_depth': 13, 'min_child_weight': 183, 'colsample_bytree': 0.39526845546990597, 'colsample_bynode': 0.353632008074968, 'colsample_bylevel': 0.6781125888355474}. Best is trial 27 with value: 1.745137335239118.\u001b[0m\n",
            "\u001b[32m[I 2021-06-29 08:10:38,951]\u001b[0m Trial 39 finished with value: 1.745680487646535 and parameters: {'n_estimators': 17659, 'gamma': 0.47161773481202973, 'learning_rate': 0.039889651985475144, 'reg_lambda': 48.649690421199935, 'reg_alpha': 1, 'subsample': 0.6807410323411861, 'max_depth': 12, 'min_child_weight': 189, 'colsample_bytree': 0.38537334323699374, 'colsample_bynode': 0.3310351018048551, 'colsample_bylevel': 0.6862983619144987}. Best is trial 27 with value: 1.745137335239118.\u001b[0m\n",
            "\u001b[32m[I 2021-06-29 08:10:48,922]\u001b[0m Trial 40 finished with value: 1.7529297354350333 and parameters: {'n_estimators': 19125, 'gamma': 0.4484828051239302, 'learning_rate': 0.46774117603873544, 'reg_lambda': 92.8113704808273, 'reg_alpha': 2, 'subsample': 0.8489895555371292, 'max_depth': 9, 'min_child_weight': 169, 'colsample_bytree': 0.34173056246466743, 'colsample_bynode': 0.38446495592513846, 'colsample_bylevel': 0.7058631258185356}. Best is trial 27 with value: 1.745137335239118.\u001b[0m\n",
            "\u001b[32m[I 2021-06-29 08:13:29,238]\u001b[0m Trial 41 finished with value: 1.7453651741234586 and parameters: {'n_estimators': 15149, 'gamma': 0.4366510008304701, 'learning_rate': 0.010091996144467753, 'reg_lambda': 66.20391396340672, 'reg_alpha': 3, 'subsample': 0.45282588694057735, 'max_depth': 10, 'min_child_weight': 193, 'colsample_bytree': 0.31041242408632325, 'colsample_bynode': 0.3435504907762186, 'colsample_bylevel': 0.6614597116358959}. Best is trial 27 with value: 1.745137335239118.\u001b[0m\n",
            "\u001b[32m[I 2021-06-29 08:13:58,201]\u001b[0m Trial 42 finished with value: 1.7468524698360823 and parameters: {'n_estimators': 15140, 'gamma': 0.4353056464483144, 'learning_rate': 0.07045820024043811, 'reg_lambda': 57.95606000240543, 'reg_alpha': 3, 'subsample': 0.46678601364401795, 'max_depth': 10, 'min_child_weight': 194, 'colsample_bytree': 0.3094560997337769, 'colsample_bynode': 0.3436611661978437, 'colsample_bylevel': 0.6627564919351148}. Best is trial 27 with value: 1.745137335239118.\u001b[0m\n",
            "\u001b[32m[I 2021-06-29 08:16:59,373]\u001b[0m Trial 43 finished with value: 1.7454264733844436 and parameters: {'n_estimators': 13666, 'gamma': 0.40176127763145725, 'learning_rate': 0.010018848125627209, 'reg_lambda': 79.26362096284237, 'reg_alpha': 3, 'subsample': 0.3895686024037839, 'max_depth': 11, 'min_child_weight': 180, 'colsample_bytree': 0.27427512166451545, 'colsample_bynode': 0.3623846945212665, 'colsample_bylevel': 0.6699677151219893}. Best is trial 27 with value: 1.745137335239118.\u001b[0m\n",
            "\u001b[32m[I 2021-06-29 08:17:40,289]\u001b[0m Trial 44 finished with value: 1.7461279464572668 and parameters: {'n_estimators': 13714, 'gamma': 0.4113343881727678, 'learning_rate': 0.044737750558657224, 'reg_lambda': 78.47185194202598, 'reg_alpha': 2, 'subsample': 0.3775523269742561, 'max_depth': 11, 'min_child_weight': 178, 'colsample_bytree': 0.2747315100714952, 'colsample_bynode': 0.36510806358708553, 'colsample_bylevel': 0.6704134269738691}. Best is trial 27 with value: 1.745137335239118.\u001b[0m\n",
            "\u001b[32m[I 2021-06-29 08:18:46,217]\u001b[0m Trial 45 finished with value: 1.7456146444388199 and parameters: {'n_estimators': 14597, 'gamma': 0.38694988546956455, 'learning_rate': 0.031765058656953414, 'reg_lambda': 99.75182669385649, 'reg_alpha': 4, 'subsample': 0.5355660758166445, 'max_depth': 13, 'min_child_weight': 185, 'colsample_bytree': 0.2646586396225529, 'colsample_bynode': 0.3559790238081997, 'colsample_bylevel': 0.6786260331011972}. Best is trial 27 with value: 1.745137335239118.\u001b[0m\n",
            "\u001b[32m[I 2021-06-29 08:19:07,145]\u001b[0m Trial 46 finished with value: 1.7469126234838739 and parameters: {'n_estimators': 12037, 'gamma': 0.4811681172905493, 'learning_rate': 0.10137196962976643, 'reg_lambda': 74.88337800933564, 'reg_alpha': 3, 'subsample': 0.4121626112197971, 'max_depth': 12, 'min_child_weight': 176, 'colsample_bytree': 0.24404538257750777, 'colsample_bynode': 0.37649455650097935, 'colsample_bylevel': 0.6692248998618695}. Best is trial 27 with value: 1.745137335239118.\u001b[0m\n",
            "\u001b[32m[I 2021-06-29 08:22:04,112]\u001b[0m Trial 47 finished with value: 1.7450804100750479 and parameters: {'n_estimators': 15944, 'gamma': 0.425773284842345, 'learning_rate': 0.010740334755368966, 'reg_lambda': 79.57521428878215, 'reg_alpha': 2, 'subsample': 0.7310742852289027, 'max_depth': 10, 'min_child_weight': 181, 'colsample_bytree': 0.2871047125232335, 'colsample_bynode': 0.385127314732842, 'colsample_bylevel': 0.6653386392513186}. Best is trial 47 with value: 1.7450804100750479.\u001b[0m\n",
            "\u001b[32m[I 2021-06-29 08:22:46,437]\u001b[0m Trial 48 finished with value: 1.7454347737200557 and parameters: {'n_estimators': 15332, 'gamma': 0.37036996166336156, 'learning_rate': 0.058739115943399804, 'reg_lambda': 88.98914240867022, 'reg_alpha': 1, 'subsample': 0.7308402410628563, 'max_depth': 14, 'min_child_weight': 156, 'colsample_bytree': 0.2877337497149425, 'colsample_bynode': 0.38477486154271806, 'colsample_bylevel': 0.662651769863313}. Best is trial 47 with value: 1.7450804100750479.\u001b[0m\n",
            "\u001b[32m[I 2021-06-29 08:23:12,321]\u001b[0m Trial 49 finished with value: 1.746354954137886 and parameters: {'n_estimators': 16059, 'gamma': 0.3990926029900951, 'learning_rate': 0.0881163296358806, 'reg_lambda': 81.68515006952978, 'reg_alpha': 2, 'subsample': 0.5742292396901362, 'max_depth': 11, 'min_child_weight': 164, 'colsample_bytree': 0.2006475336744775, 'colsample_bynode': 0.36007207629416427, 'colsample_bylevel': 0.6748323536473763}. Best is trial 47 with value: 1.7450804100750479.\u001b[0m\n",
            "\u001b[32m[I 2021-06-29 08:23:32,151]\u001b[0m Trial 50 finished with value: 1.7467921119879932 and parameters: {'n_estimators': 13014, 'gamma': 0.42000766677643225, 'learning_rate': 0.12406688907569859, 'reg_lambda': 70.37060524871399, 'reg_alpha': 2, 'subsample': 0.8151116962413993, 'max_depth': 10, 'min_child_weight': 194, 'colsample_bytree': 0.23688273887696057, 'colsample_bynode': 0.32525803813602494, 'colsample_bylevel': 0.6815473158024303}. Best is trial 47 with value: 1.7450804100750479.\u001b[0m\n",
            "\u001b[32m[I 2021-06-29 08:24:37,946]\u001b[0m Trial 51 finished with value: 1.7453787381645292 and parameters: {'n_estimators': 15356, 'gamma': 0.36579370149536616, 'learning_rate': 0.031966252563122854, 'reg_lambda': 89.10093932163592, 'reg_alpha': 1, 'subsample': 0.7698039561674708, 'max_depth': 14, 'min_child_weight': 163, 'colsample_bytree': 0.28598987996843733, 'colsample_bynode': 0.3881042951424139, 'colsample_bylevel': 0.661964369596104}. Best is trial 47 with value: 1.7450804100750479.\u001b[0m\n",
            "\u001b[32m[I 2021-06-29 08:27:27,048]\u001b[0m Trial 52 finished with value: 1.7449493467468302 and parameters: {'n_estimators': 17588, 'gamma': 0.3537096710777782, 'learning_rate': 0.011681931108198684, 'reg_lambda': 93.97512292198661, 'reg_alpha': 1, 'subsample': 0.6461880301616297, 'max_depth': 14, 'min_child_weight': 163, 'colsample_bytree': 0.2866200779815464, 'colsample_bynode': 0.38644102067711866, 'colsample_bylevel': 0.6553005463297367}. Best is trial 52 with value: 1.7449493467468302.\u001b[0m\n",
            "\u001b[32m[I 2021-06-29 08:28:28,455]\u001b[0m Trial 53 finished with value: 1.745542386585474 and parameters: {'n_estimators': 21392, 'gamma': 0.3433487489647722, 'learning_rate': 0.03562927131274445, 'reg_lambda': 96.56205408984515, 'reg_alpha': 1, 'subsample': 0.6465845885901809, 'max_depth': 15, 'min_child_weight': 165, 'colsample_bytree': 0.288309593348114, 'colsample_bynode': 0.3896111870328698, 'colsample_bylevel': 0.6548545285594451}. Best is trial 52 with value: 1.7449493467468302.\u001b[0m\n",
            "\u001b[32m[I 2021-06-29 08:29:54,632]\u001b[0m Trial 54 finished with value: 1.7451659415790346 and parameters: {'n_estimators': 17425, 'gamma': 0.37174783343050943, 'learning_rate': 0.029497740914526765, 'reg_lambda': 89.06003022069828, 'reg_alpha': 1, 'subsample': 0.9225248884444655, 'max_depth': 14, 'min_child_weight': 148, 'colsample_bytree': 0.29665487840944427, 'colsample_bynode': 0.38152052198988884, 'colsample_bylevel': 0.6613750679854602}. Best is trial 52 with value: 1.7449493467468302.\u001b[0m\n",
            "\u001b[32m[I 2021-06-29 08:33:15,767]\u001b[0m Trial 55 finished with value: 1.7449385414723306 and parameters: {'n_estimators': 17625, 'gamma': 0.3386654948901041, 'learning_rate': 0.010828162680228143, 'reg_lambda': 93.52447281457624, 'reg_alpha': 1, 'subsample': 0.9005056718275661, 'max_depth': 13, 'min_child_weight': 151, 'colsample_bytree': 0.2947981219815481, 'colsample_bynode': 0.38064411702274403, 'colsample_bylevel': 0.6530996721612672}. Best is trial 55 with value: 1.7449385414723306.\u001b[0m\n",
            "\u001b[32m[I 2021-06-29 08:34:01,657]\u001b[0m Trial 56 finished with value: 1.7458154329745565 and parameters: {'n_estimators': 24246, 'gamma': 0.3331487022576167, 'learning_rate': 0.06160608394421842, 'reg_lambda': 93.64164646184254, 'reg_alpha': 1, 'subsample': 0.9082317242420791, 'max_depth': 14, 'min_child_weight': 145, 'colsample_bytree': 0.2988269743209934, 'colsample_bynode': 0.3978539815093191, 'colsample_bylevel': 0.6537016891152027}. Best is trial 55 with value: 1.7449385414723306.\u001b[0m\n",
            "\u001b[32m[I 2021-06-29 08:37:54,264]\u001b[0m Trial 57 finished with value: 1.7447349471766502 and parameters: {'n_estimators': 17740, 'gamma': 0.35851511557818727, 'learning_rate': 0.010013177462139486, 'reg_lambda': 87.07249926122657, 'reg_alpha': 1, 'subsample': 0.9166034290444538, 'max_depth': 13, 'min_child_weight': 131, 'colsample_bytree': 0.26709602373511687, 'colsample_bynode': 0.382577095246454, 'colsample_bylevel': 0.6658609905050997}. Best is trial 57 with value: 1.7447349471766502.\u001b[0m\n",
            "\u001b[32m[I 2021-06-29 08:39:19,104]\u001b[0m Trial 58 finished with value: 1.745276549577294 and parameters: {'n_estimators': 17752, 'gamma': 0.3037894430159538, 'learning_rate': 0.027124192749553567, 'reg_lambda': 86.43055105679896, 'reg_alpha': 1, 'subsample': 0.9236011776819657, 'max_depth': 13, 'min_child_weight': 130, 'colsample_bytree': 0.2676690256531275, 'colsample_bynode': 0.3808306528548507, 'colsample_bylevel': 0.6509553785405113}. Best is trial 57 with value: 1.7447349471766502.\u001b[0m\n",
            "\u001b[32m[I 2021-06-29 08:40:02,577]\u001b[0m Trial 59 finished with value: 1.7460655924280175 and parameters: {'n_estimators': 19607, 'gamma': 0.3581090779880117, 'learning_rate': 0.06005315316620498, 'reg_lambda': 98.73235603482532, 'reg_alpha': 1, 'subsample': 0.8863654102432246, 'max_depth': 13, 'min_child_weight': 101, 'colsample_bytree': 0.24750915782504004, 'colsample_bynode': 0.39349557043070726, 'colsample_bylevel': 0.6647033227263874}. Best is trial 57 with value: 1.7447349471766502.\u001b[0m\n",
            "\u001b[32m[I 2021-06-29 08:40:14,956]\u001b[0m Trial 60 finished with value: 1.751545774721913 and parameters: {'n_estimators': 18884, 'gamma': 0.3304287205292589, 'learning_rate': 0.4344231691948355, 'reg_lambda': 92.35999341905621, 'reg_alpha': 1, 'subsample': 0.9912862627190666, 'max_depth': 15, 'min_child_weight': 149, 'colsample_bytree': 0.28291498816110355, 'colsample_bynode': 0.3965189260908657, 'colsample_bylevel': 0.6591154564158647}. Best is trial 57 with value: 1.7447349471766502.\u001b[0m\n",
            "\u001b[32m[I 2021-06-29 08:43:46,792]\u001b[0m Trial 61 finished with value: 1.7450503594382667 and parameters: {'n_estimators': 20793, 'gamma': 0.357083265266949, 'learning_rate': 0.011586670584513938, 'reg_lambda': 83.01877252650735, 'reg_alpha': 1, 'subsample': 0.9450194875640834, 'max_depth': 14, 'min_child_weight': 114, 'colsample_bytree': 0.25514421694974954, 'colsample_bynode': 0.38008968754133887, 'colsample_bylevel': 0.656353574015699}. Best is trial 57 with value: 1.7447349471766502.\u001b[0m\n",
            "\u001b[32m[I 2021-06-29 08:45:20,734]\u001b[0m Trial 62 finished with value: 1.7451336957998573 and parameters: {'n_estimators': 20797, 'gamma': 0.3583881315393087, 'learning_rate': 0.02622798851428631, 'reg_lambda': 82.8032422990053, 'reg_alpha': 1, 'subsample': 0.9527953199242438, 'max_depth': 14, 'min_child_weight': 114, 'colsample_bytree': 0.25071140124734637, 'colsample_bynode': 0.36883970868196564, 'colsample_bylevel': 0.6571158540645471}. Best is trial 57 with value: 1.7447349471766502.\u001b[0m\n",
            "\u001b[32m[I 2021-06-29 08:46:16,486]\u001b[0m Trial 63 finished with value: 1.7455273444501218 and parameters: {'n_estimators': 20723, 'gamma': 0.3563067050545393, 'learning_rate': 0.04863172972920745, 'reg_lambda': 83.18474013203041, 'reg_alpha': 1, 'subsample': 0.955319569333703, 'max_depth': 13, 'min_child_weight': 113, 'colsample_bytree': 0.2531483166514742, 'colsample_bynode': 0.3691018031937841, 'colsample_bylevel': 0.6562518787598166}. Best is trial 57 with value: 1.7447349471766502.\u001b[0m\n",
            "\u001b[32m[I 2021-06-29 08:49:21,920]\u001b[0m Trial 64 finished with value: 1.7449792869464493 and parameters: {'n_estimators': 23309, 'gamma': 0.3136335754617734, 'learning_rate': 0.011126387530769506, 'reg_lambda': 0.08102004527126638, 'reg_alpha': 1, 'subsample': 0.8715998938507762, 'max_depth': 15, 'min_child_weight': 113, 'colsample_bytree': 0.27091709635715916, 'colsample_bynode': 0.3998848061524517, 'colsample_bylevel': 0.6522071253911156}. Best is trial 57 with value: 1.7447349471766502.\u001b[0m\n",
            "\u001b[32m[I 2021-06-29 08:49:53,614]\u001b[0m Trial 65 finished with value: 1.747001240326278 and parameters: {'n_estimators': 23221, 'gamma': 0.31410508412249466, 'learning_rate': 0.08833343183963407, 'reg_lambda': 0.608571016160127, 'reg_alpha': 1, 'subsample': 0.8719194330552911, 'max_depth': 15, 'min_child_weight': 121, 'colsample_bytree': 0.23064114247117234, 'colsample_bynode': 0.3990643789640493, 'colsample_bylevel': 0.6501171203976367}. Best is trial 57 with value: 1.7447349471766502.\u001b[0m\n",
            "\u001b[32m[I 2021-06-29 08:50:09,424]\u001b[0m Trial 66 finished with value: 1.7531399996532127 and parameters: {'n_estimators': 23444, 'gamma': 0.2848783937587498, 'learning_rate': 0.33150168951462594, 'reg_lambda': 11.783615863455283, 'reg_alpha': 1, 'subsample': 0.8130537721352706, 'max_depth': 14, 'min_child_weight': 108, 'colsample_bytree': 0.2683000746393078, 'colsample_bynode': 0.39126846080423083, 'colsample_bylevel': 0.652782232992784}. Best is trial 57 with value: 1.7447349471766502.\u001b[0m\n",
            "\u001b[32m[I 2021-06-29 08:50:26,123]\u001b[0m Trial 67 finished with value: 1.7488757721819914 and parameters: {'n_estimators': 21602, 'gamma': 0.3379621588275302, 'learning_rate': 0.2258915495153047, 'reg_lambda': 96.02995313879002, 'reg_alpha': 1, 'subsample': 0.9683831858811085, 'max_depth': 15, 'min_child_weight': 127, 'colsample_bytree': 0.22080483472513976, 'colsample_bynode': 0.3809444600618949, 'colsample_bylevel': 0.6553097081812044}. Best is trial 57 with value: 1.7447349471766502.\u001b[0m\n",
            "\u001b[32m[I 2021-06-29 08:52:08,697]\u001b[0m Trial 68 finished with value: 1.7453104241894093 and parameters: {'n_estimators': 22572, 'gamma': 0.3205176313055963, 'learning_rate': 0.023395048480716017, 'reg_lambda': 86.67349244021966, 'reg_alpha': 1, 'subsample': 0.8010802233004723, 'max_depth': 12, 'min_child_weight': 118, 'colsample_bytree': 0.25149909265315407, 'colsample_bynode': 0.37600812187547566, 'colsample_bylevel': 0.6501540705291431}. Best is trial 57 with value: 1.7447349471766502.\u001b[0m\n",
            "\u001b[32m[I 2021-06-29 08:52:48,073]\u001b[0m Trial 69 finished with value: 1.7463540010955185 and parameters: {'n_estimators': 22262, 'gamma': 0.38004433801377036, 'learning_rate': 0.07048901833824758, 'reg_lambda': 74.52810409649683, 'reg_alpha': 1, 'subsample': 0.7251784393545291, 'max_depth': 14, 'min_child_weight': 101, 'colsample_bytree': 0.2703019725286237, 'colsample_bynode': 0.3884854198732742, 'colsample_bylevel': 0.6580587311714655}. Best is trial 57 with value: 1.7447349471766502.\u001b[0m\n",
            "\u001b[32m[I 2021-06-29 08:56:35,764]\u001b[0m Trial 70 finished with value: 1.7450262136193924 and parameters: {'n_estimators': 18378, 'gamma': 0.30719689773060654, 'learning_rate': 0.010359081652274848, 'reg_lambda': 80.99090255398528, 'reg_alpha': 1, 'subsample': 0.8452604540904963, 'max_depth': 13, 'min_child_weight': 110, 'colsample_bytree': 0.260137127224623, 'colsample_bynode': 0.35200407440272136, 'colsample_bylevel': 0.738415127066457}. Best is trial 57 with value: 1.7447349471766502.\u001b[0m\n",
            "\u001b[32m[I 2021-06-29 08:57:30,229]\u001b[0m Trial 71 finished with value: 1.7454568045806604 and parameters: {'n_estimators': 18463, 'gamma': 0.2981875880539512, 'learning_rate': 0.04760769323575467, 'reg_lambda': 82.0518661983244, 'reg_alpha': 1, 'subsample': 0.8612436342336836, 'max_depth': 13, 'min_child_weight': 111, 'colsample_bytree': 0.2589065362551601, 'colsample_bynode': 0.36516512788056266, 'colsample_bylevel': 0.6535381326654728}. Best is trial 57 with value: 1.7447349471766502.\u001b[0m\n",
            "\u001b[32m[I 2021-06-29 09:01:10,062]\u001b[0m Trial 72 finished with value: 1.7450341503450646 and parameters: {'n_estimators': 20706, 'gamma': 0.32634060525578934, 'learning_rate': 0.011465906590843178, 'reg_lambda': 77.14308517869598, 'reg_alpha': 1, 'subsample': 0.9033579770778037, 'max_depth': 15, 'min_child_weight': 105, 'colsample_bytree': 0.27989381812118924, 'colsample_bynode': 0.3998731000505231, 'colsample_bylevel': 0.7306049797845312}. Best is trial 57 with value: 1.7447349471766502.\u001b[0m\n",
            "\u001b[32m[I 2021-06-29 09:05:02,511]\u001b[0m Trial 73 finished with value: 1.744945880009234 and parameters: {'n_estimators': 16491, 'gamma': 0.3136957683139602, 'learning_rate': 0.010427348761017844, 'reg_lambda': 75.90258931464419, 'reg_alpha': 1, 'subsample': 0.8962585102302313, 'max_depth': 15, 'min_child_weight': 106, 'colsample_bytree': 0.2788218394319481, 'colsample_bynode': 0.39821246071904415, 'colsample_bylevel': 0.7399900114257699}. Best is trial 57 with value: 1.7447349471766502.\u001b[0m\n",
            "\u001b[32m[I 2021-06-29 09:06:04,732]\u001b[0m Trial 74 finished with value: 1.7455073763167486 and parameters: {'n_estimators': 19737, 'gamma': 0.32757805647273897, 'learning_rate': 0.041723938644841016, 'reg_lambda': 76.29892565012217, 'reg_alpha': 1, 'subsample': 0.8345552804337373, 'max_depth': 15, 'min_child_weight': 107, 'colsample_bytree': 0.2930033918880279, 'colsample_bynode': 0.39917319409133867, 'colsample_bylevel': 0.7401915828532531}. Best is trial 57 with value: 1.7447349471766502.\u001b[0m\n",
            "\u001b[32m[I 2021-06-29 09:09:36,827]\u001b[0m Trial 75 finished with value: 1.744956029892806 and parameters: {'n_estimators': 20455, 'gamma': 0.3124470816071168, 'learning_rate': 0.012189914450267311, 'reg_lambda': 90.78400774034888, 'reg_alpha': 1, 'subsample': 0.888339613442183, 'max_depth': 15, 'min_child_weight': 104, 'colsample_bytree': 0.28010606233190166, 'colsample_bynode': 0.39362631400994347, 'colsample_bylevel': 0.7288226805413971}. Best is trial 57 with value: 1.7447349471766502.\u001b[0m\n",
            "\u001b[32m[I 2021-06-29 09:10:32,763]\u001b[0m Trial 76 finished with value: 1.7460419313297606 and parameters: {'n_estimators': 16607, 'gamma': 0.28704830680293036, 'learning_rate': 0.052441860104094094, 'reg_lambda': 93.05699465457971, 'reg_alpha': 1, 'subsample': 0.8869420233550279, 'max_depth': 15, 'min_child_weight': 104, 'colsample_bytree': 0.27978768484340794, 'colsample_bynode': 0.399960348889985, 'colsample_bylevel': 0.7258021495731485}. Best is trial 57 with value: 1.7447349471766502.\u001b[0m\n",
            "\u001b[32m[I 2021-06-29 09:14:28,035]\u001b[0m Trial 77 finished with value: 1.7450398414500523 and parameters: {'n_estimators': 19186, 'gamma': 0.2957636778528299, 'learning_rate': 0.010539688109169356, 'reg_lambda': 99.7786741419706, 'reg_alpha': 1, 'subsample': 0.7766510647586552, 'max_depth': 15, 'min_child_weight': 110, 'colsample_bytree': 0.28091484548512924, 'colsample_bynode': 0.39357044702334354, 'colsample_bylevel': 0.7382919483575582}. Best is trial 57 with value: 1.7447349471766502.\u001b[0m\n",
            "\u001b[32m[I 2021-06-29 09:15:09,438]\u001b[0m Trial 78 finished with value: 1.7459084254044108 and parameters: {'n_estimators': 18133, 'gamma': 0.31315943478251934, 'learning_rate': 0.06998116465712992, 'reg_lambda': 86.57272122130361, 'reg_alpha': 1, 'subsample': 0.9047980837289489, 'max_depth': 13, 'min_child_weight': 117, 'colsample_bytree': 0.26173927964079485, 'colsample_bynode': 0.39297646956299365, 'colsample_bylevel': 0.7485241917876592}. Best is trial 57 with value: 1.7447349471766502.\u001b[0m\n",
            "\u001b[32m[I 2021-06-29 09:16:46,158]\u001b[0m Trial 79 finished with value: 1.745200510822935 and parameters: {'n_estimators': 17265, 'gamma': 0.34215283933996116, 'learning_rate': 0.0272674168851791, 'reg_lambda': 90.56306768932012, 'reg_alpha': 1, 'subsample': 0.8295630711403592, 'max_depth': 14, 'min_child_weight': 103, 'colsample_bytree': 0.27260767541646963, 'colsample_bynode': 0.37321179966283624, 'colsample_bylevel': 0.7449581380120232}. Best is trial 57 with value: 1.7447349471766502.\u001b[0m\n",
            "\u001b[32m[I 2021-06-29 09:18:39,068]\u001b[0m Trial 80 finished with value: 1.7451362916464452 and parameters: {'n_estimators': 20270, 'gamma': 0.2722540904635604, 'learning_rate': 0.023068107507254437, 'reg_lambda': 72.74745796596457, 'reg_alpha': 1, 'subsample': 0.8719941133697091, 'max_depth': 15, 'min_child_weight': 105, 'colsample_bytree': 0.2782256065348553, 'colsample_bynode': 0.3523252083244191, 'colsample_bylevel': 0.734059764624888}. Best is trial 57 with value: 1.7447349471766502.\u001b[0m\n",
            "\u001b[32m[I 2021-06-29 09:21:56,854]\u001b[0m Trial 81 finished with value: 1.745037144737877 and parameters: {'n_estimators': 19001, 'gamma': 0.29551342206416253, 'learning_rate': 0.013420967150941376, 'reg_lambda': 99.75519326597242, 'reg_alpha': 1, 'subsample': 0.9297826326765871, 'max_depth': 15, 'min_child_weight': 110, 'colsample_bytree': 0.28181898296220287, 'colsample_bynode': 0.39420097291985, 'colsample_bylevel': 0.7361399992330377}. Best is trial 57 with value: 1.7447349471766502.\u001b[0m\n",
            "\u001b[32m[I 2021-06-29 09:25:51,606]\u001b[0m Trial 82 finished with value: 1.7449237542673015 and parameters: {'n_estimators': 16557, 'gamma': 0.3203558558415595, 'learning_rate': 0.010409991761539917, 'reg_lambda': 95.17229080044834, 'reg_alpha': 1, 'subsample': 0.9926322107673248, 'max_depth': 15, 'min_child_weight': 128, 'colsample_bytree': 0.3006503364390366, 'colsample_bynode': 0.3999851256489275, 'colsample_bylevel': 0.7270432294695605}. Best is trial 57 with value: 1.7447349471766502.\u001b[0m\n",
            "\u001b[32m[I 2021-06-29 09:27:06,929]\u001b[0m Trial 83 finished with value: 1.7454977117141708 and parameters: {'n_estimators': 18008, 'gamma': 0.3108686255419624, 'learning_rate': 0.037460059214270224, 'reg_lambda': 96.16068063218631, 'reg_alpha': 1, 'subsample': 0.980647561977843, 'max_depth': 14, 'min_child_weight': 134, 'colsample_bytree': 0.3013589730631864, 'colsample_bynode': 0.39942659239478334, 'colsample_bylevel': 0.7280984903725795}. Best is trial 57 with value: 1.7447349471766502.\u001b[0m\n",
            "\u001b[32m[I 2021-06-29 09:29:14,573]\u001b[0m Trial 84 finished with value: 1.7452366918130777 and parameters: {'n_estimators': 16581, 'gamma': 0.324764695174048, 'learning_rate': 0.018445148848215152, 'reg_lambda': 91.15414619452199, 'reg_alpha': 1, 'subsample': 0.8927795501401092, 'max_depth': 12, 'min_child_weight': 125, 'colsample_bytree': 0.293086535395109, 'colsample_bynode': 0.3876949497182308, 'colsample_bylevel': 0.7188417608343325}. Best is trial 57 with value: 1.7447349471766502.\u001b[0m\n",
            "\u001b[32m[I 2021-06-29 09:31:37,330]\u001b[0m Trial 85 finished with value: 1.7529587085066363 and parameters: {'n_estimators': 17147, 'gamma': 0.3058288691649604, 'learning_rate': 0.03890471163353458, 'reg_lambda': 93.778638091302, 'reg_alpha': 1, 'subsample': 0.994462679208639, 'max_depth': 1, 'min_child_weight': 138, 'colsample_bytree': 0.2644500797772406, 'colsample_bynode': 0.39993858331490195, 'colsample_bylevel': 0.7295718316832127}. Best is trial 57 with value: 1.7447349471766502.\u001b[0m\n",
            "\u001b[32m[I 2021-06-29 09:32:27,612]\u001b[0m Trial 86 finished with value: 1.745566958763264 and parameters: {'n_estimators': 24997, 'gamma': 0.3345424286671093, 'learning_rate': 0.052970570635928436, 'reg_lambda': 87.94669000959233, 'reg_alpha': 1, 'subsample': 0.9352397805814645, 'max_depth': 13, 'min_child_weight': 118, 'colsample_bytree': 0.31173565386046076, 'colsample_bynode': 0.23751731866937603, 'colsample_bylevel': 0.743802672457063}. Best is trial 57 with value: 1.7447349471766502.\u001b[0m\n",
            "\u001b[32m[I 2021-06-29 09:34:23,934]\u001b[0m Trial 87 finished with value: 1.7451790846304502 and parameters: {'n_estimators': 18457, 'gamma': 0.32048539125767045, 'learning_rate': 0.019412189749778076, 'reg_lambda': 84.59844582113155, 'reg_alpha': 1, 'subsample': 0.8396024520543961, 'max_depth': 15, 'min_child_weight': 141, 'colsample_bytree': 0.27247371505503054, 'colsample_bynode': 0.38482268581044127, 'colsample_bylevel': 0.7206927653696231}. Best is trial 57 with value: 1.7447349471766502.\u001b[0m\n",
            "\u001b[32m[I 2021-06-29 09:38:11,706]\u001b[0m Trial 88 finished with value: 1.745018808668293 and parameters: {'n_estimators': 16181, 'gamma': 0.3497388633649432, 'learning_rate': 0.010374588114198183, 'reg_lambda': 80.31942417028665, 'reg_alpha': 1, 'subsample': 0.9076701852305152, 'max_depth': 14, 'min_child_weight': 124, 'colsample_bytree': 0.29158685978339816, 'colsample_bynode': 0.3904248466297283, 'colsample_bylevel': 0.733396344106004}. Best is trial 57 with value: 1.7447349471766502.\u001b[0m\n",
            "\u001b[32m[I 2021-06-29 09:38:50,829]\u001b[0m Trial 89 finished with value: 1.7458001365560574 and parameters: {'n_estimators': 16398, 'gamma': 0.35092675417147834, 'learning_rate': 0.06524938146646608, 'reg_lambda': 80.14486153212593, 'reg_alpha': 1, 'subsample': 0.8642705903757913, 'max_depth': 13, 'min_child_weight': 134, 'colsample_bytree': 0.3031725990092692, 'colsample_bynode': 0.3789333367597215, 'colsample_bylevel': 0.7347501560014801}. Best is trial 57 with value: 1.7447349471766502.\u001b[0m\n",
            "\u001b[32m[I 2021-06-29 09:40:06,414]\u001b[0m Trial 90 finished with value: 1.7451502859283705 and parameters: {'n_estimators': 14797, 'gamma': 0.27930765146704417, 'learning_rate': 0.03488945245615835, 'reg_lambda': 96.9259176348192, 'reg_alpha': 5, 'subsample': 0.9640628159467537, 'max_depth': 14, 'min_child_weight': 123, 'colsample_bytree': 0.2904928664312537, 'colsample_bynode': 0.38990055475957897, 'colsample_bylevel': 0.7413157794913084}. Best is trial 57 with value: 1.7447349471766502.\u001b[0m\n",
            "\u001b[32m[I 2021-06-29 09:41:57,929]\u001b[0m Trial 91 finished with value: 1.7453194726358634 and parameters: {'n_estimators': 17306, 'gamma': 0.3471881198805166, 'learning_rate': 0.02064777303001091, 'reg_lambda': 76.61939671924151, 'reg_alpha': 1, 'subsample': 0.7943508033100667, 'max_depth': 14, 'min_child_weight': 127, 'colsample_bytree': 0.2832944633817081, 'colsample_bynode': 0.39472719176918714, 'colsample_bylevel': 0.7310010664012224}. Best is trial 57 with value: 1.7447349471766502.\u001b[0m\n",
            "\u001b[32m[I 2021-06-29 09:42:47,182]\u001b[0m Trial 92 finished with value: 1.7457440625258722 and parameters: {'n_estimators': 18644, 'gamma': 0.32685568474840926, 'learning_rate': 0.04586903943200002, 'reg_lambda': 22.579797080347817, 'reg_alpha': 1, 'subsample': 0.9136519515784379, 'max_depth': 15, 'min_child_weight': 153, 'colsample_bytree': 0.2980802304503634, 'colsample_bynode': 0.38493255944486826, 'colsample_bylevel': 0.7226732421459519}. Best is trial 57 with value: 1.7447349471766502.\u001b[0m\n",
            "\u001b[32m[I 2021-06-29 09:46:21,989]\u001b[0m Trial 93 finished with value: 1.7450574898973108 and parameters: {'n_estimators': 19426, 'gamma': 0.3383687308738706, 'learning_rate': 0.011311672217905569, 'reg_lambda': 69.17036311356608, 'reg_alpha': 1, 'subsample': 0.9996965151450998, 'max_depth': 14, 'min_child_weight': 107, 'colsample_bytree': 0.2760545400703516, 'colsample_bynode': 0.3742561196170827, 'colsample_bylevel': 0.7277828354287095}. Best is trial 57 with value: 1.7447349471766502.\u001b[0m\n",
            "\u001b[32m[I 2021-06-29 09:47:52,926]\u001b[0m Trial 94 finished with value: 1.7452659156241455 and parameters: {'n_estimators': 17819, 'gamma': 0.31712661257970337, 'learning_rate': 0.027522185082991375, 'reg_lambda': 84.75675421485639, 'reg_alpha': 1, 'subsample': 0.8959178109975718, 'max_depth': 15, 'min_child_weight': 132, 'colsample_bytree': 0.29293874324170677, 'colsample_bynode': 0.399980119641694, 'colsample_bylevel': 0.7385764634133776}. Best is trial 57 with value: 1.7447349471766502.\u001b[0m\n",
            "\u001b[32m[I 2021-06-29 09:48:29,868]\u001b[0m Trial 95 finished with value: 1.7462847371005918 and parameters: {'n_estimators': 21251, 'gamma': 0.3001164475412089, 'learning_rate': 0.08163021510951882, 'reg_lambda': 94.31814767091305, 'reg_alpha': 1, 'subsample': 0.857319172065085, 'max_depth': 12, 'min_child_weight': 100, 'colsample_bytree': 0.31659826427719284, 'colsample_bynode': 0.39168377260263826, 'colsample_bylevel': 0.7173171208207048}. Best is trial 57 with value: 1.7447349471766502.\u001b[0m\n",
            "\u001b[32m[I 2021-06-29 09:51:57,387]\u001b[0m Trial 96 finished with value: 1.7447876447213813 and parameters: {'n_estimators': 16228, 'gamma': 0.364165212634746, 'learning_rate': 0.010531504917395799, 'reg_lambda': 90.2028643377275, 'reg_alpha': 1, 'subsample': 0.7546873053729666, 'max_depth': 13, 'min_child_weight': 116, 'colsample_bytree': 0.26687044710045066, 'colsample_bynode': 0.382546367670289, 'colsample_bylevel': 0.7250910004273365}. Best is trial 57 with value: 1.7447349471766502.\u001b[0m\n",
            "\u001b[32m[I 2021-06-29 09:52:58,248]\u001b[0m Trial 97 finished with value: 1.7457414671710227 and parameters: {'n_estimators': 15949, 'gamma': 0.38098421579870984, 'learning_rate': 0.03774335163820253, 'reg_lambda': 90.90337663323379, 'reg_alpha': 1, 'subsample': 0.7572981275006366, 'max_depth': 12, 'min_child_weight': 116, 'colsample_bytree': 0.24392265306848168, 'colsample_bynode': 0.3809086259362341, 'colsample_bylevel': 0.7250979211248195}. Best is trial 57 with value: 1.7447349471766502.\u001b[0m\n",
            "\u001b[32m[I 2021-06-29 09:53:41,915]\u001b[0m Trial 98 finished with value: 1.7460081843625288 and parameters: {'n_estimators': 16282, 'gamma': 0.36652065802901806, 'learning_rate': 0.05555353857896675, 'reg_lambda': 88.9161819037072, 'reg_alpha': 1, 'subsample': 0.8284997734998113, 'max_depth': 13, 'min_child_weight': 120, 'colsample_bytree': 0.2662063644288916, 'colsample_bynode': 0.36545910892919486, 'colsample_bylevel': 0.7330258099012537}. Best is trial 57 with value: 1.7447349471766502.\u001b[0m\n",
            "\u001b[32m[I 2021-06-29 09:55:35,042]\u001b[0m Trial 99 finished with value: 1.7450980781455059 and parameters: {'n_estimators': 17001, 'gamma': 0.35043611717175005, 'learning_rate': 0.020957187498046884, 'reg_lambda': 80.7143778489783, 'reg_alpha': 2, 'subsample': 0.6968139993988789, 'max_depth': 13, 'min_child_weight': 112, 'colsample_bytree': 0.26115759345398587, 'colsample_bynode': 0.3572146678098987, 'colsample_bylevel': 0.7484076037604783}. Best is trial 57 with value: 1.7447349471766502.\u001b[0m\n"
          ],
          "name": "stderr"
        },
        {
          "output_type": "stream",
          "text": [
            "Number of finished trials: 100\n",
            "Best trial: score 1.7447349471766502, params {'n_estimators': 17740, 'gamma': 0.35851511557818727, 'learning_rate': 0.010013177462139486, 'reg_lambda': 87.07249926122657, 'reg_alpha': 1, 'subsample': 0.9166034290444538, 'max_depth': 13, 'min_child_weight': 131, 'colsample_bytree': 0.26709602373511687, 'colsample_bynode': 0.382577095246454, 'colsample_bylevel': 0.6658609905050997}\n"
          ],
          "name": "stdout"
        }
      ]
    },
    {
      "cell_type": "code",
      "metadata": {
        "id": "YR84dl-ZiSMa",
        "execution": {
          "iopub.status.busy": "2021-06-29T10:00:31.139533Z",
          "iopub.execute_input": "2021-06-29T10:00:31.139857Z",
          "iopub.status.idle": "2021-06-29T10:21:48.009342Z",
          "shell.execute_reply.started": "2021-06-29T10:00:31.139828Z",
          "shell.execute_reply": "2021-06-29T10:21:48.008547Z"
        },
        "trusted": true,
        "outputId": "c636896c-581d-4249-ecaf-18400cd56ef8"
      },
      "source": [
        "# xgboost ==> 너무 느림\n",
        "skf = StratifiedKFold(n_splits=5, shuffle=True, random_state=42)\n",
        "preds_xgb = np.zeros((len(x_test), y_train.nunique()))\n",
        "params_xgb = {\n",
        "    'n_estimators':study.best_params['n_estimators'],\n",
        "    'tree_method':'gpu_hist',\n",
        "    'eval_metric':'mlogloss',\n",
        "    'gamma':study.best_params['gamma'],\n",
        "    'learning_rate' : study.best_params['learning_rate'],\n",
        "    'reg_lambda': study.best_params['reg_lambda'],\n",
        "    'reg_alpha': study.best_params['reg_alpha'],\n",
        "    'subsample': study.best_params['subsample'],\n",
        "    'max_depth': study.best_params['max_depth'],\n",
        "    'objective':'multi:softprob',\n",
        "    'min_child_weight':study.best_params['min_child_weight'],\n",
        "    'colsample_bytree':study.best_params['colsample_bytree'],\n",
        "    'colsample_bynode':study.best_params['colsample_bynode'],\n",
        "    'colsample_bylevel':study.best_params['colsample_bylevel']\n",
        "}\n",
        "\n",
        "for i, (train_index, valid_index) in enumerate(skf.split(x_train, y_train)):\n",
        "  X_train, X_valid = x_train.iloc[train_index], x_train.iloc[valid_index]\n",
        "  Y_train, Y_valid = y_train.iloc[train_index], y_train.iloc[valid_index]\n",
        "\n",
        "  model_xgb = xgboost.XGBClassifier(**params_xgb)\n",
        "  model_xgb.fit(X_train, Y_train, eval_set=[(X_train, Y_train), (X_valid, Y_valid)], verbose=100, early_stopping_rounds=70, eval_metric='mlogloss')\n",
        "  preds_xgb += model_xgb.predict_proba(x_test)/skf.n_splits"
      ],
      "execution_count": null,
      "outputs": [
        {
          "output_type": "stream",
          "text": [
            "[0]\tvalidation_0-mlogloss:2.19267\tvalidation_1-mlogloss:2.19272\n",
            "[100]\tvalidation_0-mlogloss:1.92085\tvalidation_1-mlogloss:1.92529\n",
            "[200]\tvalidation_0-mlogloss:1.82050\tvalidation_1-mlogloss:1.82859\n",
            "[300]\tvalidation_0-mlogloss:1.77667\tvalidation_1-mlogloss:1.78822\n",
            "[400]\tvalidation_0-mlogloss:1.75488\tvalidation_1-mlogloss:1.76989\n",
            "[500]\tvalidation_0-mlogloss:1.74246\tvalidation_1-mlogloss:1.76096\n",
            "[600]\tvalidation_0-mlogloss:1.73426\tvalidation_1-mlogloss:1.75631\n",
            "[700]\tvalidation_0-mlogloss:1.72813\tvalidation_1-mlogloss:1.75369\n",
            "[800]\tvalidation_0-mlogloss:1.72307\tvalidation_1-mlogloss:1.75205\n",
            "[900]\tvalidation_0-mlogloss:1.71865\tvalidation_1-mlogloss:1.75103\n",
            "[1000]\tvalidation_0-mlogloss:1.71463\tvalidation_1-mlogloss:1.75027\n",
            "[1100]\tvalidation_0-mlogloss:1.71096\tvalidation_1-mlogloss:1.74976\n",
            "[1200]\tvalidation_0-mlogloss:1.70752\tvalidation_1-mlogloss:1.74939\n",
            "[1300]\tvalidation_0-mlogloss:1.70423\tvalidation_1-mlogloss:1.74917\n",
            "[1400]\tvalidation_0-mlogloss:1.70115\tvalidation_1-mlogloss:1.74898\n",
            "[1500]\tvalidation_0-mlogloss:1.69821\tvalidation_1-mlogloss:1.74886\n",
            "[1600]\tvalidation_0-mlogloss:1.69542\tvalidation_1-mlogloss:1.74881\n",
            "[1700]\tvalidation_0-mlogloss:1.69277\tvalidation_1-mlogloss:1.74876\n",
            "[1774]\tvalidation_0-mlogloss:1.69091\tvalidation_1-mlogloss:1.74877\n",
            "[0]\tvalidation_0-mlogloss:2.19251\tvalidation_1-mlogloss:2.19250\n",
            "[100]\tvalidation_0-mlogloss:1.92181\tvalidation_1-mlogloss:1.92223\n",
            "[200]\tvalidation_0-mlogloss:1.82173\tvalidation_1-mlogloss:1.82378\n",
            "[300]\tvalidation_0-mlogloss:1.77812\tvalidation_1-mlogloss:1.78246\n",
            "[400]\tvalidation_0-mlogloss:1.75653\tvalidation_1-mlogloss:1.76361\n",
            "[500]\tvalidation_0-mlogloss:1.74427\tvalidation_1-mlogloss:1.75442\n",
            "[600]\tvalidation_0-mlogloss:1.73622\tvalidation_1-mlogloss:1.74942\n",
            "[700]\tvalidation_0-mlogloss:1.73015\tvalidation_1-mlogloss:1.74652\n",
            "[800]\tvalidation_0-mlogloss:1.72513\tvalidation_1-mlogloss:1.74469\n",
            "[900]\tvalidation_0-mlogloss:1.72071\tvalidation_1-mlogloss:1.74347\n",
            "[1000]\tvalidation_0-mlogloss:1.71679\tvalidation_1-mlogloss:1.74258\n",
            "[1100]\tvalidation_0-mlogloss:1.71314\tvalidation_1-mlogloss:1.74193\n",
            "[1200]\tvalidation_0-mlogloss:1.70975\tvalidation_1-mlogloss:1.74146\n",
            "[1300]\tvalidation_0-mlogloss:1.70652\tvalidation_1-mlogloss:1.74109\n",
            "[1400]\tvalidation_0-mlogloss:1.70345\tvalidation_1-mlogloss:1.74085\n",
            "[1500]\tvalidation_0-mlogloss:1.70054\tvalidation_1-mlogloss:1.74068\n",
            "[1600]\tvalidation_0-mlogloss:1.69780\tvalidation_1-mlogloss:1.74056\n",
            "[1700]\tvalidation_0-mlogloss:1.69520\tvalidation_1-mlogloss:1.74050\n",
            "[1800]\tvalidation_0-mlogloss:1.69276\tvalidation_1-mlogloss:1.74045\n",
            "[1900]\tvalidation_0-mlogloss:1.69037\tvalidation_1-mlogloss:1.74043\n",
            "[1922]\tvalidation_0-mlogloss:1.68988\tvalidation_1-mlogloss:1.74042\n",
            "[0]\tvalidation_0-mlogloss:2.19255\tvalidation_1-mlogloss:2.19257\n",
            "[100]\tvalidation_0-mlogloss:1.92223\tvalidation_1-mlogloss:1.92354\n",
            "[200]\tvalidation_0-mlogloss:1.82203\tvalidation_1-mlogloss:1.82529\n",
            "[300]\tvalidation_0-mlogloss:1.77814\tvalidation_1-mlogloss:1.78385\n",
            "[400]\tvalidation_0-mlogloss:1.75637\tvalidation_1-mlogloss:1.76503\n",
            "[500]\tvalidation_0-mlogloss:1.74401\tvalidation_1-mlogloss:1.75576\n",
            "[600]\tvalidation_0-mlogloss:1.73589\tvalidation_1-mlogloss:1.75086\n",
            "[700]\tvalidation_0-mlogloss:1.72977\tvalidation_1-mlogloss:1.74799\n",
            "[800]\tvalidation_0-mlogloss:1.72470\tvalidation_1-mlogloss:1.74615\n",
            "[900]\tvalidation_0-mlogloss:1.72030\tvalidation_1-mlogloss:1.74497\n",
            "[1000]\tvalidation_0-mlogloss:1.71633\tvalidation_1-mlogloss:1.74414\n",
            "[1100]\tvalidation_0-mlogloss:1.71259\tvalidation_1-mlogloss:1.74354\n",
            "[1200]\tvalidation_0-mlogloss:1.70913\tvalidation_1-mlogloss:1.74314\n",
            "[1300]\tvalidation_0-mlogloss:1.70584\tvalidation_1-mlogloss:1.74285\n",
            "[1400]\tvalidation_0-mlogloss:1.70270\tvalidation_1-mlogloss:1.74261\n",
            "[1500]\tvalidation_0-mlogloss:1.69979\tvalidation_1-mlogloss:1.74247\n",
            "[1600]\tvalidation_0-mlogloss:1.69702\tvalidation_1-mlogloss:1.74238\n",
            "[1700]\tvalidation_0-mlogloss:1.69436\tvalidation_1-mlogloss:1.74233\n",
            "[1800]\tvalidation_0-mlogloss:1.69182\tvalidation_1-mlogloss:1.74231\n",
            "[1864]\tvalidation_0-mlogloss:1.69029\tvalidation_1-mlogloss:1.74234\n",
            "[0]\tvalidation_0-mlogloss:2.19247\tvalidation_1-mlogloss:2.19248\n",
            "[100]\tvalidation_0-mlogloss:1.92142\tvalidation_1-mlogloss:1.92333\n",
            "[200]\tvalidation_0-mlogloss:1.82169\tvalidation_1-mlogloss:1.82591\n",
            "[300]\tvalidation_0-mlogloss:1.77770\tvalidation_1-mlogloss:1.78485\n",
            "[400]\tvalidation_0-mlogloss:1.75588\tvalidation_1-mlogloss:1.76624\n",
            "[500]\tvalidation_0-mlogloss:1.74342\tvalidation_1-mlogloss:1.75723\n",
            "[600]\tvalidation_0-mlogloss:1.73525\tvalidation_1-mlogloss:1.75249\n",
            "[700]\tvalidation_0-mlogloss:1.72910\tvalidation_1-mlogloss:1.74977\n",
            "[800]\tvalidation_0-mlogloss:1.72402\tvalidation_1-mlogloss:1.74810\n",
            "[900]\tvalidation_0-mlogloss:1.71957\tvalidation_1-mlogloss:1.74701\n",
            "[1000]\tvalidation_0-mlogloss:1.71559\tvalidation_1-mlogloss:1.74625\n",
            "[1100]\tvalidation_0-mlogloss:1.71189\tvalidation_1-mlogloss:1.74574\n",
            "[1200]\tvalidation_0-mlogloss:1.70846\tvalidation_1-mlogloss:1.74537\n",
            "[1300]\tvalidation_0-mlogloss:1.70519\tvalidation_1-mlogloss:1.74511\n",
            "[1400]\tvalidation_0-mlogloss:1.70211\tvalidation_1-mlogloss:1.74491\n",
            "[1500]\tvalidation_0-mlogloss:1.69916\tvalidation_1-mlogloss:1.74478\n",
            "[1600]\tvalidation_0-mlogloss:1.69642\tvalidation_1-mlogloss:1.74470\n",
            "[1700]\tvalidation_0-mlogloss:1.69375\tvalidation_1-mlogloss:1.74464\n",
            "[1750]\tvalidation_0-mlogloss:1.69247\tvalidation_1-mlogloss:1.74466\n",
            "[0]\tvalidation_0-mlogloss:2.19258\tvalidation_1-mlogloss:2.19260\n",
            "[100]\tvalidation_0-mlogloss:1.92203\tvalidation_1-mlogloss:1.92404\n",
            "[200]\tvalidation_0-mlogloss:1.82169\tvalidation_1-mlogloss:1.82606\n",
            "[300]\tvalidation_0-mlogloss:1.77781\tvalidation_1-mlogloss:1.78475\n",
            "[400]\tvalidation_0-mlogloss:1.75620\tvalidation_1-mlogloss:1.76601\n",
            "[500]\tvalidation_0-mlogloss:1.74384\tvalidation_1-mlogloss:1.75676\n",
            "[600]\tvalidation_0-mlogloss:1.73572\tvalidation_1-mlogloss:1.75185\n",
            "[700]\tvalidation_0-mlogloss:1.72959\tvalidation_1-mlogloss:1.74895\n",
            "[800]\tvalidation_0-mlogloss:1.72451\tvalidation_1-mlogloss:1.74708\n",
            "[900]\tvalidation_0-mlogloss:1.72008\tvalidation_1-mlogloss:1.74587\n",
            "[1000]\tvalidation_0-mlogloss:1.71611\tvalidation_1-mlogloss:1.74501\n",
            "[1100]\tvalidation_0-mlogloss:1.71243\tvalidation_1-mlogloss:1.74442\n",
            "[1200]\tvalidation_0-mlogloss:1.70900\tvalidation_1-mlogloss:1.74396\n",
            "[1300]\tvalidation_0-mlogloss:1.70576\tvalidation_1-mlogloss:1.74364\n",
            "[1400]\tvalidation_0-mlogloss:1.70269\tvalidation_1-mlogloss:1.74342\n",
            "[1500]\tvalidation_0-mlogloss:1.69977\tvalidation_1-mlogloss:1.74327\n",
            "[1600]\tvalidation_0-mlogloss:1.69695\tvalidation_1-mlogloss:1.74318\n",
            "[1700]\tvalidation_0-mlogloss:1.69435\tvalidation_1-mlogloss:1.74314\n",
            "[1800]\tvalidation_0-mlogloss:1.69185\tvalidation_1-mlogloss:1.74311\n",
            "[1900]\tvalidation_0-mlogloss:1.68942\tvalidation_1-mlogloss:1.74309\n",
            "[2000]\tvalidation_0-mlogloss:1.68714\tvalidation_1-mlogloss:1.74310\n",
            "[2003]\tvalidation_0-mlogloss:1.68707\tvalidation_1-mlogloss:1.74310\n"
          ],
          "name": "stdout"
        }
      ]
    },
    {
      "cell_type": "code",
      "metadata": {
        "id": "chpuvoVDiSMa",
        "execution": {
          "iopub.status.busy": "2021-06-29T10:24:08.846554Z",
          "iopub.execute_input": "2021-06-29T10:24:08.846918Z",
          "iopub.status.idle": "2021-06-29T10:24:08.949006Z",
          "shell.execute_reply.started": "2021-06-29T10:24:08.846878Z",
          "shell.execute_reply": "2021-06-29T10:24:08.948209Z"
        },
        "trusted": true
      },
      "source": [
        "submit = pd.read_csv('/kaggle/input/tabular-playground-series-jun-2021/sample_submission.csv')\n",
        "submit = submit.set_index('id')"
      ],
      "execution_count": null,
      "outputs": []
    },
    {
      "cell_type": "code",
      "metadata": {
        "execution": {
          "iopub.status.busy": "2021-06-29T10:23:29.534560Z",
          "iopub.execute_input": "2021-06-29T10:23:29.534885Z",
          "iopub.status.idle": "2021-06-29T10:23:29.541847Z",
          "shell.execute_reply.started": "2021-06-29T10:23:29.534855Z",
          "shell.execute_reply": "2021-06-29T10:23:29.540683Z"
        },
        "trusted": true,
        "id": "5ydA4kDpTjdT"
      },
      "source": [
        "preds = (preds_cat + preds_xgb)/2 # ensemble"
      ],
      "execution_count": null,
      "outputs": []
    },
    {
      "cell_type": "code",
      "metadata": {
        "id": "hi5DVQvmiSMb",
        "execution": {
          "iopub.status.busy": "2021-06-29T10:24:17.316775Z",
          "iopub.execute_input": "2021-06-29T10:24:17.317092Z",
          "iopub.status.idle": "2021-06-29T10:24:17.328370Z",
          "shell.execute_reply.started": "2021-06-29T10:24:17.317062Z",
          "shell.execute_reply": "2021-06-29T10:24:17.327282Z"
        },
        "trusted": true
      },
      "source": [
        "for i in range(9):\n",
        "    submit.iloc[:,i] = preds_xgb[:,i]"
      ],
      "execution_count": null,
      "outputs": []
    },
    {
      "cell_type": "code",
      "metadata": {
        "id": "SVihYCfdTjdU"
      },
      "source": [
        "# xgb 오버피팅"
      ],
      "execution_count": null,
      "outputs": []
    },
    {
      "cell_type": "code",
      "metadata": {
        "id": "5XKaZoX9iSMb",
        "execution": {
          "iopub.status.busy": "2021-06-29T10:24:19.181765Z",
          "iopub.execute_input": "2021-06-29T10:24:19.182105Z",
          "iopub.status.idle": "2021-06-29T10:24:21.189421Z",
          "shell.execute_reply.started": "2021-06-29T10:24:19.182072Z",
          "shell.execute_reply": "2021-06-29T10:24:21.188566Z"
        },
        "trusted": true
      },
      "source": [
        "submit.to_csv('submit21.csv')"
      ],
      "execution_count": null,
      "outputs": []
    },
    {
      "cell_type": "markdown",
      "metadata": {
        "id": "jQfdhRo8iSMb"
      },
      "source": [
        "# NN 파이토치 필사본"
      ]
    },
    {
      "cell_type": "code",
      "metadata": {
        "execution": {
          "iopub.status.busy": "2021-06-25T08:26:43.838662Z",
          "iopub.execute_input": "2021-06-25T08:26:43.83899Z",
          "iopub.status.idle": "2021-06-25T08:26:45.073899Z",
          "shell.execute_reply.started": "2021-06-25T08:26:43.838952Z",
          "shell.execute_reply": "2021-06-25T08:26:45.07303Z"
        },
        "id": "rZDBNrpYiSMb",
        "trusted": true
      },
      "source": [
        "import os\n",
        "import sys\n",
        "import datetime\n",
        "\n",
        "import numpy as np\n",
        "import pandas as pd\n",
        "from sklearn.preprocessing import LabelEncoder, StandardScaler\n",
        "from sklearn.model_selection import StratifiedShuffleSplit\n",
        "\n",
        "import torch\n",
        "import torch.nn as nn\n",
        "import torch.nn.functional as F\n",
        "import torch.optim as optim\n",
        "from torch.utils.data import DataLoader, TensorDataset\n",
        "\n",
        "import optuna\n",
        "from optuna.trial import TrialState"
      ],
      "execution_count": null,
      "outputs": []
    },
    {
      "cell_type": "code",
      "metadata": {
        "id": "1-KO_1OSTjdU"
      },
      "source": [
        ""
      ],
      "execution_count": null,
      "outputs": []
    },
    {
      "cell_type": "code",
      "metadata": {
        "execution": {
          "iopub.status.busy": "2021-06-25T08:26:47.836815Z",
          "iopub.execute_input": "2021-06-25T08:26:47.837114Z",
          "iopub.status.idle": "2021-06-25T08:26:51.224489Z",
          "shell.execute_reply.started": "2021-06-25T08:26:47.837084Z",
          "shell.execute_reply": "2021-06-25T08:26:51.223634Z"
        },
        "id": "EGgH7S01iSMc",
        "trusted": true
      },
      "source": [
        "sss = StratifiedShuffleSplit(n_splits=5, test_size=0.3, random_state=42)\n",
        "\n",
        "for train_index, val_index in sss.split(x_train, y_train):\n",
        "    print(f'train size:{len(train_index)}')\n",
        "    print(f'val size:{len(val_index)}')\n",
        "    X_train, X_val = x_train.iloc[train_index], x_train.iloc[val_index]\n",
        "    Y_train, Y_val = y_train.iloc[train_index], y_train.iloc[val_index]"
      ],
      "execution_count": null,
      "outputs": []
    },
    {
      "cell_type": "markdown",
      "metadata": {
        "id": "NU8CqqmxiSMc"
      },
      "source": [
        "# Optuna"
      ]
    },
    {
      "cell_type": "code",
      "metadata": {
        "execution": {
          "iopub.status.busy": "2021-06-25T05:43:54.742869Z",
          "iopub.execute_input": "2021-06-25T05:43:54.743191Z",
          "iopub.status.idle": "2021-06-25T05:44:01.91469Z",
          "shell.execute_reply.started": "2021-06-25T05:43:54.743159Z",
          "shell.execute_reply": "2021-06-25T05:44:01.913558Z"
        },
        "id": "AaVNfC-PiSMc",
        "trusted": true
      },
      "source": [
        "pip install optuna"
      ],
      "execution_count": null,
      "outputs": []
    },
    {
      "cell_type": "code",
      "metadata": {
        "execution": {
          "iopub.status.busy": "2021-06-25T08:30:25.731968Z",
          "iopub.execute_input": "2021-06-25T08:30:25.732338Z",
          "iopub.status.idle": "2021-06-25T08:30:33.486396Z",
          "shell.execute_reply.started": "2021-06-25T08:30:25.732305Z",
          "shell.execute_reply": "2021-06-25T08:30:33.485462Z"
        },
        "id": "PJLs2Jh8iSMc",
        "trusted": true
      },
      "source": [
        "pip install skorch"
      ],
      "execution_count": null,
      "outputs": []
    },
    {
      "cell_type": "code",
      "metadata": {
        "execution": {
          "iopub.status.busy": "2021-06-25T09:21:25.748668Z",
          "iopub.execute_input": "2021-06-25T09:21:25.748984Z",
          "iopub.status.idle": "2021-06-25T09:21:25.755887Z",
          "shell.execute_reply.started": "2021-06-25T09:21:25.748953Z",
          "shell.execute_reply": "2021-06-25T09:21:25.754986Z"
        },
        "id": "Gtko9e0DiSMc",
        "trusted": true
      },
      "source": [
        "import optuna\n",
        "from torch.optim.lr_scheduler import ReduceLROnPlateau"
      ],
      "execution_count": null,
      "outputs": []
    },
    {
      "cell_type": "code",
      "metadata": {
        "execution": {
          "iopub.status.busy": "2021-06-25T09:32:41.344027Z",
          "iopub.execute_input": "2021-06-25T09:32:41.344391Z",
          "iopub.status.idle": "2021-06-25T09:32:41.363043Z",
          "shell.execute_reply.started": "2021-06-25T09:32:41.344356Z",
          "shell.execute_reply": "2021-06-25T09:32:41.362172Z"
        },
        "id": "och8ZbIIiSMd",
        "trusted": true
      },
      "source": [
        "CLASSES = y_train.nunique()\n",
        "NUM_FEATURES = x_train.shape[1]\n",
        "DEVICE = torch.device(\"cpu\" if not torch.cuda.is_available() else \"cuda\")\n",
        "\n",
        "BATCHSIZE = 1000\n",
        "EPOCHS = 10\n",
        "N_TRAIN_EXAMPLES = BATCHSIZE * 14\n",
        "N_VALID_EXAMPLES = BATCHSIZE * 6\n",
        "\n",
        "criterion = nn.CrossEntropyLoss()\n",
        "\n",
        "def define_model(trial):\n",
        "    # We optimize the number of layers, hidden units and dropout ratio in each layer.\n",
        "    n_layers = trial.suggest_int(\"n_layers\", 1, 10)\n",
        "    layers = []\n",
        "\n",
        "    in_features = NUM_FEATURES\n",
        "    for i in range(n_layers):\n",
        "        out_features = trial.suggest_int(\"n_units_l{}\".format(i), y_train.nunique(), 1024)\n",
        "        layers.append(nn.Linear(in_features, out_features, bias=False))\n",
        "        layers.append(nn.ReLU(inplace=True))\n",
        "        p = trial.suggest_float(\"dropout_l{}\".format(i), 0.1, 0.5)\n",
        "        layers.append(nn.Dropout(p))\n",
        "        layers.append(nn.BatchNorm1d(out_features))\n",
        "\n",
        "        in_features = out_features\n",
        "        \n",
        "    layers.append(nn.Linear(in_features, CLASSES))\n",
        "\n",
        "    return nn.Sequential(*layers)\n",
        "\n",
        "def get_data(X_train, y_train, X_val, y_val):\n",
        "    train = TensorDataset(torch.Tensor(np.array(X_train)), torch.Tensor(np.array(y_train)))\n",
        "    train_loader = DataLoader(train, batch_size = 1000, shuffle = True, num_workers=4)\n",
        "\n",
        "    val = TensorDataset(torch.Tensor(np.array(X_val)), torch.Tensor(np.array(y_val)))\n",
        "    val_loader = DataLoader(val, batch_size = 1000, shuffle = True, num_workers=4)\n",
        "\n",
        "    return train_loader, val_loader\n",
        "\n",
        "def objective(trial):\n",
        "    model = define_model(trial).to(DEVICE)\n",
        "    optimizer_name = trial.suggest_categorical(\"optimizer\", [\"Adam\", 'AdamW', \"RMSprop\", \"SGD\"])\n",
        "    lr = trial.suggest_float(\"lr\", 0.001, 0.5)\n",
        "    optimizer = getattr(optim, optimizer_name)(model.parameters(), lr=lr, weight_decay)\n",
        "    lr_scheduler = optim.lr_scheduler.ReduceLROnPlateau(optimizer)\n",
        "    train_loader, valid_loader = get_data(X_train, Y_train, X_val, Y_val)\n",
        "    \n",
        "    for epoch in range(EPOCHS):\n",
        "        model.train()\n",
        "        for batch_idx, (data, target) in enumerate(train_loader):\n",
        "            data, target = data.view(data.size(0), -1).to(DEVICE), target.to(DEVICE)\n",
        "\n",
        "            optimizer.zero_grad()\n",
        "            output = model(data)\n",
        "            \n",
        "            loss = criterion(output, target.long())\n",
        "            loss.backward()\n",
        "            optimizer.step()\n",
        "            lr_scheduler.step(epoch + batch_idx / len(train_loader))\n",
        "\n",
        "        # Validation of the model.\n",
        "        model.eval()\n",
        "        val_loss = []\n",
        "        with torch.no_grad():\n",
        "            for batch_idx, (data, target) in enumerate(valid_loader):\n",
        "                data, target = data.view(data.size(0), -1).to(DEVICE), target.to(DEVICE)\n",
        "                output = model(data)\n",
        "                \n",
        "                loss = criterion(output, target.long())\n",
        "                val_loss.append(loss.item())\n",
        "        \n",
        "        avg_val_loss = np.mean(val_loss)\n",
        "\n",
        "        trial.report(avg_val_loss, epoch)\n",
        "\n",
        "        # Handle pruning based on the intermediate value.\n",
        "        if trial.should_prune():\n",
        "            raise optuna.exceptions.TrialPruned()\n",
        "    \n",
        "    return avg_val_loss"
      ],
      "execution_count": null,
      "outputs": []
    },
    {
      "cell_type": "code",
      "metadata": {
        "execution": {
          "iopub.status.busy": "2021-06-25T09:32:43.889997Z",
          "iopub.execute_input": "2021-06-25T09:32:43.890361Z",
          "iopub.status.idle": "2021-06-25T09:37:40.667259Z",
          "shell.execute_reply.started": "2021-06-25T09:32:43.890326Z",
          "shell.execute_reply": "2021-06-25T09:37:40.664742Z"
        },
        "id": "HcP5-oTkiSMd",
        "trusted": true
      },
      "source": [
        "study = optuna.create_study(direction='minimize')\n",
        "study.optimize(objective, n_trials=100)"
      ],
      "execution_count": null,
      "outputs": []
    },
    {
      "cell_type": "code",
      "metadata": {
        "execution": {
          "iopub.status.busy": "2021-06-25T09:09:42.033776Z",
          "iopub.execute_input": "2021-06-25T09:09:42.034084Z",
          "iopub.status.idle": "2021-06-25T09:09:42.063228Z",
          "shell.execute_reply.started": "2021-06-25T09:09:42.034052Z",
          "shell.execute_reply": "2021-06-25T09:09:42.062458Z"
        },
        "id": "nFyLcBN_iSMd",
        "trusted": true
      },
      "source": [
        "pruned_trials = study.get_trials(deepcopy=False, states=[TrialState.PRUNED])\n",
        "complete_trials = study.get_trials(deepcopy=False, states=[TrialState.COMPLETE])\n",
        "\n",
        "print('Study statistics:')\n",
        "print(' Number of finished trials:', len(study.trials))\n",
        "print(' Number of pruned trials:', len(pruned_trials))\n",
        "print(' Number of complete trials:', len(complete_trials))\n",
        "\n",
        "print('Best trial:')\n",
        "trial = study.best_trial\n",
        "\n",
        "print(' Value:', trial.value)\n",
        "print(' Params:')\n",
        "for key, value in trial.params.items():\n",
        "    print(f'{key}:{value}')"
      ],
      "execution_count": null,
      "outputs": []
    },
    {
      "cell_type": "code",
      "metadata": {
        "execution": {
          "iopub.status.busy": "2021-06-25T09:09:49.325419Z",
          "iopub.execute_input": "2021-06-25T09:09:49.325751Z",
          "iopub.status.idle": "2021-06-25T09:09:49.486748Z",
          "shell.execute_reply.started": "2021-06-25T09:09:49.32572Z",
          "shell.execute_reply": "2021-06-25T09:09:49.486022Z"
        },
        "id": "xeOlGr2uiSMe",
        "trusted": true
      },
      "source": [
        "optuna.visualization.plot_intermediate_values(study).show()"
      ],
      "execution_count": null,
      "outputs": []
    },
    {
      "cell_type": "markdown",
      "metadata": {
        "id": "iYpi61o6iSMe"
      },
      "source": [
        "# 최적화된 파라미터를 가지고 모델링"
      ]
    },
    {
      "cell_type": "code",
      "metadata": {
        "execution": {
          "iopub.status.busy": "2021-06-25T09:09:55.072421Z",
          "iopub.execute_input": "2021-06-25T09:09:55.072739Z",
          "iopub.status.idle": "2021-06-25T09:09:55.081213Z",
          "shell.execute_reply.started": "2021-06-25T09:09:55.072706Z",
          "shell.execute_reply": "2021-06-25T09:09:55.080056Z"
        },
        "id": "XYk-k2URiSMe",
        "trusted": true
      },
      "source": [
        "class classification_model(nn.Module):\n",
        "    def __init__(self, n_in, n_out, layers, p=None):\n",
        "        super(classification_model, self).__init__()\n",
        "        \n",
        "        all_layers=[]\n",
        "        self.n_in = n_in\n",
        "        self.n_out = n_out\n",
        "        \n",
        "        for i in range(len(layers)):\n",
        "            all_layers.append(nn.Linear(self.n_in, layers[i], bias=False))\n",
        "            all_layers.append(nn.ReLU(inplace=True))\n",
        "            if p:\n",
        "                all_layers.append(nn.Dropout(p[i]))\n",
        "            all_layers.append(nn.BatchNorm1d(layers[i]))\n",
        "            \n",
        "            self.n_in = layers[i]\n",
        "            \n",
        "        all_layers.append(nn.Linear(layers[-1], self.n_out))\n",
        "        \n",
        "        self.layers=nn.Sequential(*all_layers)\n",
        "        \n",
        "    def forward(self, x):\n",
        "        x = self.layers(x)\n",
        "        return x\n",
        "    \n",
        "    net_name='classification_model'"
      ],
      "execution_count": null,
      "outputs": []
    },
    {
      "cell_type": "code",
      "metadata": {
        "execution": {
          "iopub.status.busy": "2021-06-25T09:09:57.309808Z",
          "iopub.execute_input": "2021-06-25T09:09:57.310161Z",
          "iopub.status.idle": "2021-06-25T09:09:58.426772Z",
          "shell.execute_reply.started": "2021-06-25T09:09:57.310114Z",
          "shell.execute_reply": "2021-06-25T09:09:58.425892Z"
        },
        "id": "Lal2DcApiSMe",
        "trusted": true
      },
      "source": [
        "batch_size = 1000\n",
        "\n",
        "sss = StratifiedShuffleSplit(n_splits=1, test_size=0.3, random_state=0)\n",
        "\n",
        "for train_index, val_index in sss.split(x_train, y_train):    \n",
        "    print(\"TRAIN:\\t\", train_index, \"Size:\\t\", len(train_index))\n",
        "    print(\"VAL:\\t\", val_index, \"Size:\\t\", len(val_index))\n",
        "    X_train, X_val = x_train.iloc[train_index], x_train.iloc[val_index]\n",
        "    Y_train, Y_val = y_train.iloc[train_index], y_train.iloc[val_index]\n",
        "\n",
        "train = TensorDataset(torch.Tensor(np.array(X_train)), torch.Tensor(np.array(Y_train)))\n",
        "train_loader = DataLoader(train, batch_size = batch_size, shuffle = True)\n",
        "\n",
        "val = TensorDataset(torch.Tensor(np.array(X_val)), torch.Tensor(np.array(Y_val)))\n",
        "val_loader = DataLoader(val, batch_size = batch_size, shuffle = True)\n",
        "\n",
        "phases = [\"train\", \"val\"]\n",
        "loaders = {\"train\": train_loader, \"val\": val_loader}"
      ],
      "execution_count": null,
      "outputs": []
    },
    {
      "cell_type": "code",
      "metadata": {
        "execution": {
          "iopub.status.busy": "2021-06-25T09:09:59.144827Z",
          "iopub.execute_input": "2021-06-25T09:09:59.145158Z",
          "iopub.status.idle": "2021-06-25T09:09:59.168884Z",
          "shell.execute_reply.started": "2021-06-25T09:09:59.145113Z",
          "shell.execute_reply": "2021-06-25T09:09:59.167904Z"
        },
        "id": "BIaK-2h9iSMe",
        "trusted": true
      },
      "source": [
        "\"\"\"\n",
        "Best trial:\n",
        " Value: 1.7687533100446065\n",
        " Params:\n",
        "n_layers:1\n",
        "n_units_l0:880\n",
        "dropout_l0:0.2116281048320166\n",
        "optimizer:RMSprop\n",
        "lr:0.0009784821223970022\n",
        "\"\"\"\n",
        "\n",
        "layers_=[]\n",
        "dropout_=[]\n",
        "l_rate=trial.params['lr']\n",
        "\n",
        "for i in range(trial.params['n_layers']):\n",
        "    layers_.append(trial.params[f'n_units_l{i}'])\n",
        "    dropout_.append(trial.params[f'dropout_l{i}'])\n",
        "    \n",
        "device = torch.device('cpu' if not torch.cuda.is_available() else 'cuda')\n",
        "\n",
        "model = classification_model(x_train.shape[1], y_train.nunique(), layers_, p=dropout_)\n",
        "model.to(device)\n",
        "\n",
        "criterion = nn.CrossEntropyLoss()\n",
        "if trial.params['optimizer'] == 'RMSprop':\n",
        "    optimizer = optim.RMSprop(model.parameters(), lr=l_rate)\n",
        "elif trial.params['optimizer'] == 'Adam':\n",
        "    optimizer = optim.Adam(model.parameters(), lr=l_rate)\n",
        "elif trial.params['optimizer'] == 'SGD':\n",
        "    optimizer = optim.SGD(model.parameters(), lr=l_rate)\n",
        "    \n",
        "print(device)\n",
        "print(model)"
      ],
      "execution_count": null,
      "outputs": []
    },
    {
      "cell_type": "code",
      "metadata": {
        "execution": {
          "iopub.status.busy": "2021-06-25T09:15:20.524229Z",
          "iopub.execute_input": "2021-06-25T09:15:20.524548Z",
          "iopub.status.idle": "2021-06-25T09:18:47.137438Z",
          "shell.execute_reply.started": "2021-06-25T09:15:20.524518Z",
          "shell.execute_reply": "2021-06-25T09:18:47.135734Z"
        },
        "id": "DDxUNUO7iSMf",
        "trusted": true
      },
      "source": [
        "loss_train=[]\n",
        "loss_valid=[]\n",
        "best_validation_loss = 1000\n",
        "best_epoch=1\n",
        "correct=0\n",
        "total=0\n",
        "\n",
        "n_epochs=50\n",
        "\n",
        "now = datetime.datetime.now()\n",
        "weights_path = \"./output/{:%Y%m%dT%H%M}\".format(now)\n",
        "os.makedirs(weights_path, exist_ok=True)\n",
        "\n",
        "lr_scheduler = optim.lr_scheduler.ReduceLROnPlateau(optimizer)\n",
        "break_st = False\n",
        "\n",
        "for epoch in range(1, n_epochs+1):\n",
        "    \n",
        "    for phase in phases:\n",
        "        if phase == 'train':\n",
        "            model.train()\n",
        "        elif phase == 'val':\n",
        "            model.eval()\n",
        "        \n",
        "        for _, data in enumerate(loaders[phase], 0):\n",
        "            features, y_true = data[0], data[1]\n",
        "            features = features.to(device, dtype=torch.float)\n",
        "            y_true = y_true.to(device, dtype=torch.float)\n",
        "            \n",
        "            optimizer.zero_grad()\n",
        "            \n",
        "            with torch.set_grad_enabled(phase=='train'):\n",
        "                y_pred = model(features)\n",
        "                \n",
        "                sm = nn.Softmax(dim=1)  # predict_proba\n",
        "                pred_percentage = sm(y_pred)\n",
        "                \n",
        "                if break_st:\n",
        "                    break\n",
        "                    \n",
        "                y_true = y_true.long()\n",
        "                \n",
        "                _, preds = torch.max(pred_percentage, 1)\n",
        "                total += y_true.size(0)\n",
        "                correct += (preds == y_true).sum().item()\n",
        "                \n",
        "                loss = criterion(y_pred, y_true)\n",
        "                \n",
        "                if phase == 'val':\n",
        "                    loss_valid.append(loss.item())\n",
        "                    \n",
        "                if phase == 'train':\n",
        "                    loss_train.append(loss.item())\n",
        "                    loss.backward()\n",
        "                    \n",
        "                    optimizer.step()\n",
        "                    lr_scheduler.step(epoch / len(train_loader))\n",
        "        if break_st:\n",
        "            break\n",
        "        if phase == 'train':\n",
        "            mean_train_loss = np.mean(loss_train)\n",
        "            acc_train = 100*correct/total\n",
        "            loss_train = []\n",
        "            correct = 0\n",
        "        \n",
        "        if phase == 'val':\n",
        "            validation_loss = np.mean(loss_valid)\n",
        "            acc_valid = 100*correct/total\n",
        "            loss_valid = []\n",
        "            correct = 0\n",
        "            total = 0\n",
        "                \n",
        "    if break_st:\n",
        "        break\n",
        "    if validation_loss < best_validation_loss:\n",
        "        print('saving weights...')\n",
        "        best_epoch = epoch\n",
        "        best_validation_loss = validation_loss\n",
        "        torch.save(model.state_dict(),\n",
        "                   os.path.join(weights_path, 'model.pt'),)\n",
        "            \n",
        "    print(f'Epoch={epoch}/{n_epochs}\\tloss={mean_train_loss:.4f}\\tval_loss={validation_loss:.4f}\\tacc={acc_train:.4f}\\tval_acc={acc_valid:.4f}')\n",
        "                \n"
      ],
      "execution_count": null,
      "outputs": []
    },
    {
      "cell_type": "code",
      "metadata": {
        "execution": {
          "iopub.status.busy": "2021-06-25T09:19:00.200079Z",
          "iopub.execute_input": "2021-06-25T09:19:00.200506Z",
          "iopub.status.idle": "2021-06-25T09:19:00.404882Z",
          "shell.execute_reply.started": "2021-06-25T09:19:00.20047Z",
          "shell.execute_reply": "2021-06-25T09:19:00.404061Z"
        },
        "id": "QknfcuyJiSMf",
        "trusted": true
      },
      "source": [
        "test = TensorDataset(torch.Tensor(np.array(x_test)))\n",
        "test_loader = DataLoader(test, batch_size=100000, shuffle=False)"
      ],
      "execution_count": null,
      "outputs": []
    },
    {
      "cell_type": "code",
      "metadata": {
        "execution": {
          "iopub.status.busy": "2021-06-25T09:19:06.92089Z",
          "iopub.execute_input": "2021-06-25T09:19:06.92124Z",
          "iopub.status.idle": "2021-06-25T09:19:08.11426Z",
          "shell.execute_reply.started": "2021-06-25T09:19:06.921206Z",
          "shell.execute_reply": "2021-06-25T09:19:08.113276Z"
        },
        "id": "pmX-1cmFiSMg",
        "trusted": true
      },
      "source": [
        "if not weights_path:\n",
        "    print('Choose weights path')\n",
        "    sys.exit()\n",
        "\n",
        "device = torch.device('cpu' if not torch.cuda.is_available() else 'cuda')\n",
        "\n",
        "model_name = weights_path + '/model.pt'\n",
        "print(model_name)\n",
        "state_dict = torch.load(model_name, map_location=device)\n",
        "model.load_state_dict(state_dict)\n",
        "model.eval()\n",
        "\n",
        "for _, data in enumerate(test_loader, 0):\n",
        "    features = data[0]\n",
        "    print(features.size())\n",
        "    features = features.to(device, dtype=torch.float)\n",
        "    \n",
        "    with torch.set_grad_enabled(False):\n",
        "        y_pred = model(features)\n",
        "        \n",
        "        sm = nn.Softmax(dim=1)\n",
        "        pred_percentage = sm(y_pred)\n",
        "        \n",
        "        print(pred_percentage.size())\n",
        "\n",
        "print(pred_percentage.detach().cpu().numpy())\n",
        "print('Done!')"
      ],
      "execution_count": null,
      "outputs": []
    },
    {
      "cell_type": "code",
      "metadata": {
        "execution": {
          "iopub.status.busy": "2021-06-25T09:19:35.312466Z",
          "iopub.execute_input": "2021-06-25T09:19:35.312825Z",
          "iopub.status.idle": "2021-06-25T09:19:35.638986Z",
          "shell.execute_reply.started": "2021-06-25T09:19:35.312792Z",
          "shell.execute_reply": "2021-06-25T09:19:35.63775Z"
        },
        "id": "v8f3L9bXiSMg",
        "trusted": true
      },
      "source": [
        "submit = pd.read_csv('../input/tabular-playground-series-jun-2021/sample_submission.csv')\n",
        "pred_array = pred_percentage.detach().cpu().numpy()\n",
        "submit.loc[:, 'Class_1':'Class_9'] = pred_array\n",
        "submit = submit.set_index('id')\n",
        "submit.head()"
      ],
      "execution_count": null,
      "outputs": []
    },
    {
      "cell_type": "code",
      "metadata": {
        "execution": {
          "iopub.status.busy": "2021-06-25T09:19:40.379495Z",
          "iopub.execute_input": "2021-06-25T09:19:40.379824Z",
          "iopub.status.idle": "2021-06-25T09:19:42.283463Z",
          "shell.execute_reply.started": "2021-06-25T09:19:40.379792Z",
          "shell.execute_reply": "2021-06-25T09:19:42.282602Z"
        },
        "id": "1yTESnbdiSMg",
        "trusted": true
      },
      "source": [
        "submit.to_csv('./output/submission10.csv')"
      ],
      "execution_count": null,
      "outputs": []
    },
    {
      "cell_type": "markdown",
      "metadata": {
        "id": "PnmvfKFIiSMg"
      },
      "source": [
        "# NN모델을 써야 점수가 올라간다. \n",
        "# Pytorch NN모델을 생성하고 제출하자\n",
        "# feature_select할게 더 있나? 체크"
      ]
    }
  ]
}