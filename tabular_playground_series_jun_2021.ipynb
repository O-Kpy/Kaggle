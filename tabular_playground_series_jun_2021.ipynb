{
  "nbformat": 4,
  "nbformat_minor": 0,
  "metadata": {
    "kernelspec": {
      "language": "python",
      "display_name": "Python 3",
      "name": "python3"
    },
    "language_info": {
      "name": "python",
      "version": "3.7.10",
      "mimetype": "text/x-python",
      "codemirror_mode": {
        "name": "ipython",
        "version": 3
      },
      "pygments_lexer": "ipython3",
      "nbconvert_exporter": "python",
      "file_extension": ".py"
    },
    "colab": {
      "name": "tabular-playground-series-jun-2021.ipynb",
      "provenance": [],
      "include_colab_link": true
    }
  },
  "cells": [
    {
      "cell_type": "markdown",
      "metadata": {
        "id": "view-in-github",
        "colab_type": "text"
      },
      "source": [
        "<a href=\"https://colab.research.google.com/github/O-Kpy/Kaggle/blob/main/tabular_playground_series_jun_2021.ipynb\" target=\"_parent\"><img src=\"https://colab.research.google.com/assets/colab-badge.svg\" alt=\"Open In Colab\"/></a>"
      ]
    },
    {
      "cell_type": "code",
      "metadata": {
        "_uuid": "8f2839f25d086af736a60e9eeb907d3b93b6e0e5",
        "_cell_guid": "b1076dfc-b9ad-4769-8c92-a6c4dae69d19",
        "execution": {
          "iopub.status.busy": "2021-06-22T09:46:21.265002Z",
          "iopub.execute_input": "2021-06-22T09:46:21.265556Z",
          "iopub.status.idle": "2021-06-22T09:46:21.273591Z",
          "shell.execute_reply.started": "2021-06-22T09:46:21.265472Z",
          "shell.execute_reply": "2021-06-22T09:46:21.272438Z"
        },
        "id": "aL0_JsAIiSMQ",
        "trusted": true
      },
      "source": [
        "# 내일 할일 normalizaition 돌리고 파이토치 필사하기, 이미지 분류 필사하기(구글 랜드마크)\n",
        "# 그리고 https://www.kaggle.com/masumrumi/a-detailed-regression-guide-with-house-pricing#Fitting-model(simple-approach) 정독하기"
      ],
      "execution_count": null,
      "outputs": []
    },
    {
      "cell_type": "code",
      "metadata": {
        "id": "_uwPlXMNiSMT",
        "execution": {
          "iopub.status.busy": "2021-06-30T11:44:43.663598Z",
          "iopub.execute_input": "2021-06-30T11:44:43.664065Z",
          "iopub.status.idle": "2021-06-30T11:44:44.482030Z",
          "shell.execute_reply.started": "2021-06-30T11:44:43.663958Z",
          "shell.execute_reply": "2021-06-30T11:44:44.481156Z"
        },
        "trusted": true
      },
      "source": [
        "import pandas as pd\n",
        "import numpy as np\n",
        "import matplotlib.pyplot as plt\n",
        "%matplotlib inline\n",
        "import seaborn as sns\n",
        "import warnings\n",
        "warnings.filterwarnings('ignore')\n",
        "from scipy.stats import skew"
      ],
      "execution_count": null,
      "outputs": []
    },
    {
      "cell_type": "code",
      "metadata": {
        "id": "RF14-5-riSMT",
        "execution": {
          "iopub.status.busy": "2021-06-30T11:44:46.799218Z",
          "iopub.execute_input": "2021-06-30T11:44:46.799628Z",
          "iopub.status.idle": "2021-06-30T11:44:51.179648Z",
          "shell.execute_reply.started": "2021-06-30T11:44:46.799594Z",
          "shell.execute_reply": "2021-06-30T11:44:51.178566Z"
        },
        "trusted": true,
        "outputId": "231a45c5-33ad-4e3d-9bee-f302c07f1b42"
      },
      "source": [
        "submit = pd.read_csv('/kaggle/input/tabular-playground-series-jun-2021/sample_submission.csv')\n",
        "test = pd.read_csv('/kaggle/input/tabular-playground-series-jun-2021/test.csv')\n",
        "train = pd.read_csv('/kaggle/input/tabular-playground-series-jun-2021/train.csv')\n",
        "train.shape, test.shape, submit.shape"
      ],
      "execution_count": null,
      "outputs": [
        {
          "output_type": "execute_result",
          "data": {
            "text/plain": [
              "((200000, 77), (100000, 76), (100000, 10))"
            ]
          },
          "metadata": {
            "tags": []
          },
          "execution_count": 2
        }
      ]
    },
    {
      "cell_type": "code",
      "metadata": {
        "id": "HqiiL1S0iSMU",
        "trusted": true
      },
      "source": [
        "train.target.value_counts().sort_index(ascending=False).plot.bar()"
      ],
      "execution_count": null,
      "outputs": []
    },
    {
      "cell_type": "code",
      "metadata": {
        "execution": {
          "iopub.status.busy": "2021-06-25T08:06:33.436826Z",
          "iopub.execute_input": "2021-06-25T08:06:33.437136Z",
          "iopub.status.idle": "2021-06-25T08:06:33.509696Z",
          "shell.execute_reply.started": "2021-06-25T08:06:33.437106Z",
          "shell.execute_reply": "2021-06-25T08:06:33.508823Z"
        },
        "id": "1Ye43NSIiSMU",
        "trusted": true
      },
      "source": [
        "data=pd.concat([train, test], axis=0)"
      ],
      "execution_count": null,
      "outputs": []
    },
    {
      "cell_type": "code",
      "metadata": {
        "execution": {
          "iopub.status.busy": "2021-06-22T09:50:56.276885Z",
          "iopub.execute_input": "2021-06-22T09:50:56.27729Z",
          "iopub.status.idle": "2021-06-22T09:50:56.346698Z",
          "shell.execute_reply.started": "2021-06-22T09:50:56.277254Z",
          "shell.execute_reply": "2021-06-22T09:50:56.345543Z"
        },
        "id": "cX3u_xGEiSMV",
        "trusted": true
      },
      "source": [
        "data.isnull().sum().sort_values(ascending=False)\n",
        "# Null값 없고"
      ],
      "execution_count": null,
      "outputs": []
    },
    {
      "cell_type": "code",
      "metadata": {
        "execution": {
          "iopub.status.busy": "2021-06-24T09:46:50.87375Z",
          "iopub.execute_input": "2021-06-24T09:46:50.874059Z",
          "iopub.status.idle": "2021-06-24T09:46:51.195296Z",
          "shell.execute_reply.started": "2021-06-24T09:46:50.87403Z",
          "shell.execute_reply": "2021-06-24T09:46:51.194113Z"
        },
        "id": "DrxnmgjNiSMV",
        "trusted": true
      },
      "source": [
        "data.skew().sort_values(ascending=False)\n",
        "# 스케일링 해야하고"
      ],
      "execution_count": null,
      "outputs": []
    },
    {
      "cell_type": "code",
      "metadata": {
        "id": "1tw57ucZiSMV",
        "execution": {
          "iopub.status.busy": "2021-06-30T07:29:57.653394Z",
          "iopub.execute_input": "2021-06-30T07:29:57.653879Z",
          "iopub.status.idle": "2021-06-30T07:29:58.556332Z",
          "shell.execute_reply.started": "2021-06-30T07:29:57.653834Z",
          "shell.execute_reply": "2021-06-30T07:29:58.555347Z"
        },
        "trusted": true
      },
      "source": [
        "# 로그변환 안하는게 성능이 더 잘 나오는데\n",
        "for i in train.drop(columns=['id', 'target']).columns:\n",
        "    if train[i].skew() > 0.5:\n",
        "        train[i] = np.log1p(train[i]+1)\n",
        "        \n",
        "for i in test.drop(columns=['id']).columns:\n",
        "    if test[i].skew() > 0.5:\n",
        "        test[i] = np.log1p(test[i]+1)"
      ],
      "execution_count": null,
      "outputs": []
    },
    {
      "cell_type": "code",
      "metadata": {
        "trusted": true,
        "id": "G03UFeuA_tCZ"
      },
      "source": [
        "# boxcox로 Normalize하기\n",
        "from scipy.stats import skew\n",
        "from scipy.special import boxcox1p\n",
        "from scipy.stats import boxcox_normmax\n",
        "\n",
        "for feat in train.drop(columns=['id', 'target']).columns:\n",
        "    train[feat] = boxcox1p(train[feat], boxcox_normmax(train[feat] + 1))\n",
        "    \n",
        "for feat in test.drop(columns=['id']).columns:\n",
        "    test[feat] = boxcox1p(test[feat], boxcox_normmax(test[feat] + 1))"
      ],
      "execution_count": null,
      "outputs": []
    },
    {
      "cell_type": "code",
      "metadata": {
        "id": "E6r3p4u_iSMW",
        "execution": {
          "iopub.status.busy": "2021-06-30T07:31:36.987935Z",
          "iopub.execute_input": "2021-06-30T07:31:36.988595Z",
          "iopub.status.idle": "2021-06-30T07:31:38.100675Z",
          "shell.execute_reply.started": "2021-06-30T07:31:36.988551Z",
          "shell.execute_reply": "2021-06-30T07:31:38.099715Z"
        },
        "trusted": true
      },
      "source": [
        "train_agg = train.drop(columns='target').groupby('id').agg(['median'])\n",
        "train_agg_col = []\n",
        "\n",
        "for i in train_agg.columns.levels[0]:\n",
        "    for j in train_agg.columns.levels[1]:\n",
        "        train_agg_col.append(f'{i}-{j}')\n",
        "        \n",
        "train_agg.columns = train_agg_col\n",
        "\n",
        "test_agg = test.groupby('id').agg(['median'])\n",
        "test_agg_col = []\n",
        "\n",
        "for i in test_agg.columns.levels[0]:\n",
        "    for j in test_agg.columns.levels[1]:\n",
        "        test_agg_col.append(f'{i}-{j}')\n",
        "        \n",
        "test_agg.columns = test_agg_col"
      ],
      "execution_count": null,
      "outputs": []
    },
    {
      "cell_type": "code",
      "metadata": {
        "id": "uiRVU8FmiSMW",
        "execution": {
          "iopub.status.busy": "2021-06-30T07:31:38.102573Z",
          "iopub.execute_input": "2021-06-30T07:31:38.102956Z",
          "iopub.status.idle": "2021-06-30T07:31:40.688288Z",
          "shell.execute_reply.started": "2021-06-30T07:31:38.102913Z",
          "shell.execute_reply": "2021-06-30T07:31:40.687102Z"
        },
        "trusted": true
      },
      "source": [
        "corr_matrix = train_agg.corr()\n",
        "\n",
        "upper = corr_matrix.where(np.triu(np.ones(corr_matrix.shape), k=1).astype(np.bool))\n",
        "\n",
        "to_drop = [c for c in upper.columns if any(abs(upper[c]) > 0.9)]\n",
        "\n",
        "print(f'There are {len(train_agg.columns)} columns but {len(to_drop)} corr columns to remove')"
      ],
      "execution_count": null,
      "outputs": []
    },
    {
      "cell_type": "code",
      "metadata": {
        "id": "etZfqax3iSMW",
        "execution": {
          "iopub.status.busy": "2021-06-30T07:31:40.689867Z",
          "iopub.execute_input": "2021-06-30T07:31:40.690299Z",
          "iopub.status.idle": "2021-06-30T07:31:41.152689Z",
          "shell.execute_reply.started": "2021-06-30T07:31:40.690256Z",
          "shell.execute_reply": "2021-06-30T07:31:41.15178Z"
        },
        "trusted": true
      },
      "source": [
        "train_agg.drop(columns=to_drop)\n",
        "train = train.merge(train_agg, how='left', on='id')\n",
        "\n",
        "test_agg.drop(columns=to_drop)\n",
        "test = test.merge(test_agg, how='left', on='id')"
      ],
      "execution_count": null,
      "outputs": []
    },
    {
      "cell_type": "markdown",
      "metadata": {
        "id": "CgqK5LZR_tCa"
      },
      "source": [
        "# Clustering"
      ]
    },
    {
      "cell_type": "code",
      "metadata": {
        "execution": {
          "iopub.status.busy": "2021-06-30T11:44:52.984488Z",
          "iopub.execute_input": "2021-06-30T11:44:52.985044Z",
          "iopub.status.idle": "2021-06-30T11:44:54.412992Z",
          "shell.execute_reply.started": "2021-06-30T11:44:52.984994Z",
          "shell.execute_reply": "2021-06-30T11:44:54.411770Z"
        },
        "trusted": true,
        "id": "R2RGuWe6_tCb"
      },
      "source": [
        "from sklearn.preprocessing import StandardScaler\n",
        "from sklearn.cluster import KMeans\n",
        "\n",
        "df = pd.concat([train.drop(columns=['id', 'target']), test.drop(columns=['id'])])\n",
        "df_col = df.columns\n",
        "\n",
        "sc_df = StandardScaler().fit_transform(df)\n",
        "\n",
        "sc_df = pd.DataFrame(sc_df, columns=df_col)\n",
        "\n",
        "cs = {}\n",
        "for i in range(1,20):\n",
        "    km = KMeans(n_jobs=-1, n_clusters=i, random_state=13).fit(sc_df)\n",
        "    cs[i] = km.inertia_\n",
        "\n",
        "plt.figure(figsize=(10,5))\n",
        "sns.lineplot(pd.Series(cs).index, pd.Series(cs), marker='o')\n",
        "plt.xticks(pd.Series(cs).index)"
      ],
      "execution_count": null,
      "outputs": []
    },
    {
      "cell_type": "code",
      "metadata": {
        "execution": {
          "iopub.status.busy": "2021-06-30T12:06:10.055953Z",
          "iopub.execute_input": "2021-06-30T12:06:10.056290Z",
          "iopub.status.idle": "2021-06-30T12:06:33.332080Z",
          "shell.execute_reply.started": "2021-06-30T12:06:10.056240Z",
          "shell.execute_reply": "2021-06-30T12:06:33.331213Z"
        },
        "trusted": true,
        "id": "v8OvDLG__tCb"
      },
      "source": [
        "km = KMeans(n_jobs=-1, n_clusters=8, random_state=13).fit(sc_df)\n",
        "\n",
        "train_col = train.drop(columns=['id', 'target']).columns\n",
        "test_col = test.drop(columns=['id']).columns\n",
        "\n",
        "sc_train = StandardScaler().fit_transform(train.drop(columns=['id', 'target']))\n",
        "sc_test = StandardScaler().fit_transform(test.drop(columns=['id']))\n",
        "\n",
        "sc_train = pd.DataFrame(sc_train, columns=train_col)\n",
        "sc_test = pd.DataFrame(sc_test, columns=test_col)"
      ],
      "execution_count": null,
      "outputs": []
    },
    {
      "cell_type": "code",
      "metadata": {
        "id": "HXq_XJMf_tCb"
      },
      "source": [
        "train['cluster'] = km.predict(sc_train)\n",
        "test['cluster'] = km.predict(sc_test)\n",
        "\n",
        "train = pd.get_dummies(train, columns=['cluster'])\n",
        "test = pd.get_dummies(test, columns=['cluster'])"
      ],
      "execution_count": null,
      "outputs": []
    },
    {
      "cell_type": "markdown",
      "metadata": {
        "id": "9ChKIvDciSMX"
      },
      "source": [
        "# 그냥 모델링 하기 다음에 피쳐 엔지니어링"
      ]
    },
    {
      "cell_type": "code",
      "metadata": {
        "id": "7BE3Ila1iSMX",
        "execution": {
          "iopub.status.busy": "2021-06-30T12:14:04.060640Z",
          "iopub.execute_input": "2021-06-30T12:14:04.060961Z",
          "iopub.status.idle": "2021-06-30T12:14:05.029771Z",
          "shell.execute_reply.started": "2021-06-30T12:14:04.060931Z",
          "shell.execute_reply": "2021-06-30T12:14:05.028981Z"
        },
        "trusted": true,
        "outputId": "9c466769-3344-4e24-b2ac-e51de592e58f"
      },
      "source": [
        "from sklearn.metrics import log_loss, make_scorer\n",
        "import catboost\n",
        "import lightgbm\n",
        "import xgboost\n",
        "import optuna\n",
        "from sklearn.linear_model import LogisticRegression\n",
        "from sklearn.ensemble import RandomForestClassifier\n",
        "from sklearn.model_selection import cross_validate, KFold, StratifiedKFold, StratifiedShuffleSplit, train_test_split\n",
        "from sklearn.preprocessing import LabelEncoder, robust_scale, MinMaxScaler"
      ],
      "execution_count": null,
      "outputs": [
        {
          "output_type": "display_data",
          "data": {
            "text/plain": [
              "<IPython.core.display.HTML object>"
            ],
            "text/html": [
              "<style type='text/css'>\n",
              ".datatable table.frame { margin-bottom: 0; }\n",
              ".datatable table.frame thead { border-bottom: none; }\n",
              ".datatable table.frame tr.coltypes td {  color: #FFFFFF;  line-height: 6px;  padding: 0 0.5em;}\n",
              ".datatable .bool    { background: #DDDD99; }\n",
              ".datatable .object  { background: #565656; }\n",
              ".datatable .int     { background: #5D9E5D; }\n",
              ".datatable .float   { background: #4040CC; }\n",
              ".datatable .str     { background: #CC4040; }\n",
              ".datatable .row_index {  background: var(--jp-border-color3);  border-right: 1px solid var(--jp-border-color0);  color: var(--jp-ui-font-color3);  font-size: 9px;}\n",
              ".datatable .frame tr.coltypes .row_index {  background: var(--jp-border-color0);}\n",
              ".datatable th:nth-child(2) { padding-left: 12px; }\n",
              ".datatable .hellipsis {  color: var(--jp-cell-editor-border-color);}\n",
              ".datatable .vellipsis {  background: var(--jp-layout-color0);  color: var(--jp-cell-editor-border-color);}\n",
              ".datatable .na {  color: var(--jp-cell-editor-border-color);  font-size: 80%;}\n",
              ".datatable .footer { font-size: 9px; }\n",
              ".datatable .frame_dimensions {  background: var(--jp-border-color3);  border-top: 1px solid var(--jp-border-color0);  color: var(--jp-ui-font-color3);  display: inline-block;  opacity: 0.6;  padding: 1px 10px 1px 5px;}\n",
              "</style>\n"
            ]
          },
          "metadata": {
            "tags": []
          }
        }
      ]
    },
    {
      "cell_type": "code",
      "metadata": {
        "id": "G85mKc8CiSMY",
        "execution": {
          "iopub.status.busy": "2021-06-30T12:14:23.533950Z",
          "iopub.execute_input": "2021-06-30T12:14:23.534309Z",
          "iopub.status.idle": "2021-06-30T12:14:23.596439Z",
          "shell.execute_reply.started": "2021-06-30T12:14:23.534274Z",
          "shell.execute_reply": "2021-06-30T12:14:23.595455Z"
        },
        "trusted": true
      },
      "source": [
        "x_train = train.drop(columns=['target', 'id'])\n",
        "y_train = train['target']\n",
        "x_test = test.drop(columns=['id'])"
      ],
      "execution_count": null,
      "outputs": []
    },
    {
      "cell_type": "code",
      "metadata": {
        "execution": {
          "iopub.status.busy": "2021-06-25T05:05:58.399958Z",
          "iopub.execute_input": "2021-06-25T05:05:58.400297Z",
          "iopub.status.idle": "2021-06-25T05:05:59.69781Z",
          "shell.execute_reply.started": "2021-06-25T05:05:58.400261Z",
          "shell.execute_reply": "2021-06-25T05:05:59.696928Z"
        },
        "id": "fwUoFoPNiSMY",
        "trusted": true
      },
      "source": [
        "x_train = data.loc[data['target'].notnull()].drop(columns=['id', 'target'])\n",
        "y_train = data.loc[data['target'].notnull()]['target']\n",
        "x_test = data.loc[data['target'].isnull()].drop(columns=['id', 'target'])"
      ],
      "execution_count": null,
      "outputs": []
    },
    {
      "cell_type": "code",
      "metadata": {
        "id": "sfDRM1KsiSMY",
        "execution": {
          "iopub.status.busy": "2021-06-30T12:14:31.524951Z",
          "iopub.execute_input": "2021-06-30T12:14:31.525292Z",
          "iopub.status.idle": "2021-06-30T12:14:31.596032Z",
          "shell.execute_reply.started": "2021-06-30T12:14:31.525240Z",
          "shell.execute_reply": "2021-06-30T12:14:31.595259Z"
        },
        "trusted": true
      },
      "source": [
        "encoder = LabelEncoder()\n",
        "y_train = encoder.fit_transform(y_train)\n",
        "y_train = pd.Series(y_train)"
      ],
      "execution_count": null,
      "outputs": []
    },
    {
      "cell_type": "code",
      "metadata": {
        "execution": {
          "iopub.status.busy": "2021-06-28T09:50:30.792729Z",
          "iopub.execute_input": "2021-06-28T09:50:30.793119Z",
          "iopub.status.idle": "2021-06-28T09:50:32.844047Z",
          "shell.execute_reply.started": "2021-06-28T09:50:30.793084Z",
          "shell.execute_reply": "2021-06-28T09:50:32.843204Z"
        },
        "trusted": true,
        "id": "LracPbZ1_tCd"
      },
      "source": [
        "from sklearn.decomposition import PCA\n",
        "\n",
        "pca = PCA(svd_solver='auto', whiten=True)\n",
        "pca.fit(x_train)\n",
        "\n",
        "fig, ax = plt.subplots(figsize=(12,8))\n",
        "xi = np.arange(1, len(x_train.columns)+1, step=1)\n",
        "y = np.cumsum(pca.explained_variance_ratio_)\n",
        "\n",
        "plt.ylim(0.0, 1.1)\n",
        "plt.plot(xi, y, marker='o', linestyle='--', color='b')\n",
        "\n",
        "plt.xlabel('number of components')\n",
        "plt.xticks(np.arange(0, len(x_train.columns), step=2))\n",
        "\n",
        "plt.axhline(y=0.85, color='r', linestyle='-')\n",
        "plt.text(0.5, 0.85, '85% cut-off threshold', color='red', fontsize=16)\n",
        "\n",
        "ax.grid(axis='x')\n",
        "plt.show()"
      ],
      "execution_count": null,
      "outputs": []
    },
    {
      "cell_type": "code",
      "metadata": {
        "execution": {
          "iopub.status.busy": "2021-06-28T09:51:17.254257Z",
          "iopub.execute_input": "2021-06-28T09:51:17.25459Z",
          "iopub.status.idle": "2021-06-28T09:51:23.972878Z",
          "shell.execute_reply.started": "2021-06-28T09:51:17.254556Z",
          "shell.execute_reply": "2021-06-28T09:51:23.971985Z"
        },
        "trusted": true,
        "id": "Xdpyb8IB_tCd"
      },
      "source": [
        "pca = PCA(n_components=54,svd_solver='auto', whiten=True)\n",
        "x_train = pca.fit_transform(x_train)\n",
        "x_test = pca.fit_transform(x_test)"
      ],
      "execution_count": null,
      "outputs": []
    },
    {
      "cell_type": "code",
      "metadata": {
        "execution": {
          "iopub.status.busy": "2021-06-28T09:51:24.906367Z",
          "iopub.execute_input": "2021-06-28T09:51:24.906692Z",
          "iopub.status.idle": "2021-06-28T09:51:25.948529Z",
          "shell.execute_reply.started": "2021-06-28T09:51:24.90666Z",
          "shell.execute_reply": "2021-06-28T09:51:25.947427Z"
        },
        "trusted": true,
        "id": "ZRRkDSCm_tCd"
      },
      "source": [
        "x_train = robust_scale(x_train)\n",
        "x_test = robust_scale(x_test)"
      ],
      "execution_count": null,
      "outputs": []
    },
    {
      "cell_type": "code",
      "metadata": {
        "execution": {
          "iopub.status.busy": "2021-06-30T12:14:14.237851Z",
          "iopub.execute_input": "2021-06-30T12:14:14.238185Z",
          "iopub.status.idle": "2021-06-30T12:14:14.706834Z",
          "shell.execute_reply.started": "2021-06-30T12:14:14.238154Z",
          "shell.execute_reply": "2021-06-30T12:14:14.705954Z"
        },
        "trusted": true,
        "id": "CXlsmLAP_tCd"
      },
      "source": [
        "x_train_col = x_train.columns\n",
        "x_test_col = x_test.columns\n",
        "\n",
        "x_train = pd.DataFrame(MinMaxScaler().fit_transform(x_train), columns=x_train_col)\n",
        "x_test = pd.DataFrame(MinMaxScaler().fit_transform(x_test), columns=x_test_col)"
      ],
      "execution_count": null,
      "outputs": []
    },
    {
      "cell_type": "code",
      "metadata": {
        "id": "EJuPRRowiSMY",
        "execution": {
          "iopub.status.busy": "2021-06-30T12:14:36.670184Z",
          "iopub.execute_input": "2021-06-30T12:14:36.670569Z",
          "iopub.status.idle": "2021-06-30T12:14:37.594362Z",
          "shell.execute_reply.started": "2021-06-30T12:14:36.670535Z",
          "shell.execute_reply": "2021-06-30T12:14:37.593483Z"
        },
        "trusted": true
      },
      "source": [
        "x_train_col = x_train.columns\n",
        "x_test_col = x_test.columns\n",
        "\n",
        "x_train = pd.DataFrame(robust_scale(x_train), columns=x_train_col)\n",
        "x_test = pd.DataFrame(robust_scale(x_test), columns=x_test_col)"
      ],
      "execution_count": null,
      "outputs": []
    },
    {
      "cell_type": "code",
      "metadata": {
        "id": "dacFn5GQ_tCd"
      },
      "source": [
        "# lgbm 모델\n",
        "skf = StratifiedKFold(n_splits=5, shuffle=True, random_state=42)\n",
        "preds = np.zeros((len(x_test)))\n",
        "for i, (train_index, valid_index) in enumerate(skf.split(x_train, y_train)):\n",
        "  X_train, X_valid = x_train.iloc[train_index], x_train.iloc[valid_index]\n",
        "  Y_train, Y_valid = y_train.iloc[train_index], y_train.iloc[valid_index]\n",
        "\n",
        "  model = lightgbm.LGBMClassifier(n_estimators=3000, learning_rate=0.05, objective='multiclass', n_jobs=-1)\n",
        "  model.fit(X_train, Y_train, eval_set=[(X_train, Y_train), (X_valid, Y_valid)], verbose=100, early_stopping_rounds=70, eval_metric='multi_logloss')\n",
        "  preds = model.predict_proba(x_test)"
      ],
      "execution_count": null,
      "outputs": []
    },
    {
      "cell_type": "code",
      "metadata": {
        "execution": {
          "iopub.status.busy": "2021-06-30T12:14:43.776399Z",
          "iopub.execute_input": "2021-06-30T12:14:43.776811Z",
          "iopub.status.idle": "2021-06-30T12:16:02.412779Z",
          "shell.execute_reply.started": "2021-06-30T12:14:43.776769Z",
          "shell.execute_reply": "2021-06-30T12:16:02.411919Z"
        },
        "trusted": true,
        "id": "AguqLhC2_tCe",
        "outputId": "b3809dff-4d6e-4a29-ff4e-6597592c89fb"
      },
      "source": [
        "# feature selection\n",
        "X_train, X_test, Y_train, Y_test = train_test_split(x_train, y_train, test_size=0.2, shuffle=True, random_state=10)\n",
        "model_sel = catboost.CatBoostClassifier(loss_function='MultiClass',\n",
        "                                   eval_metric='MultiClass',\n",
        "                                   verbose=False,\n",
        "                                   task_type='GPU')\n",
        "model_sel.fit(X_train, Y_train, eval_set=(X_test, Y_test), verbose=False)"
      ],
      "execution_count": null,
      "outputs": [
        {
          "output_type": "execute_result",
          "data": {
            "text/plain": [
              "<catboost.core.CatBoostClassifier at 0x7f97498594d0>"
            ]
          },
          "metadata": {
            "tags": []
          },
          "execution_count": 30
        }
      ]
    },
    {
      "cell_type": "code",
      "metadata": {
        "execution": {
          "iopub.status.busy": "2021-06-30T12:17:40.529179Z",
          "iopub.execute_input": "2021-06-30T12:17:40.529531Z",
          "iopub.status.idle": "2021-06-30T12:19:02.618693Z",
          "shell.execute_reply.started": "2021-06-30T12:17:40.529501Z",
          "shell.execute_reply": "2021-06-30T12:19:02.617860Z"
        },
        "trusted": true,
        "id": "5hDs5XQk_tCe",
        "outputId": "2d9ab7e8-32b2-4b89-eb70-c1994f919f38"
      },
      "source": [
        "import eli5\n",
        "from eli5.sklearn import PermutationImportance\n",
        "perm = PermutationImportance(model_sel, random_state=13, scoring='neg_log_loss')\n",
        "perm.fit(X_test, Y_test)"
      ],
      "execution_count": null,
      "outputs": [
        {
          "output_type": "execute_result",
          "data": {
            "text/plain": [
              "PermutationImportance(estimator=<catboost.core.CatBoostClassifier object at 0x7f97498594d0>,\n",
              "                      random_state=13, scoring='neg_log_loss')"
            ]
          },
          "metadata": {
            "tags": []
          },
          "execution_count": 31
        }
      ]
    },
    {
      "cell_type": "code",
      "metadata": {
        "execution": {
          "iopub.status.busy": "2021-06-30T12:19:02.620223Z",
          "iopub.execute_input": "2021-06-30T12:19:02.620582Z",
          "iopub.status.idle": "2021-06-30T12:19:03.832385Z",
          "shell.execute_reply.started": "2021-06-30T12:19:02.620545Z",
          "shell.execute_reply": "2021-06-30T12:19:03.831608Z"
        },
        "trusted": true,
        "id": "G8-hSYsv_tCe",
        "outputId": "47dc6044-0110-4e92-9ea3-d9fbbcccb1c8"
      },
      "source": [
        "importance = pd.Series(perm.feature_importances_, index=X_test.columns).sort_values()\n",
        "plt.figure(figsize=(10,15))\n",
        "sns.barplot(y=importance.index, x=importance)"
      ],
      "execution_count": null,
      "outputs": [
        {
          "output_type": "execute_result",
          "data": {
            "text/plain": [
              "<AxesSubplot:>"
            ]
          },
          "metadata": {
            "tags": []
          },
          "execution_count": 32
        },
        {
          "output_type": "display_data",
          "data": {
            "text/plain": [
              "<Figure size 720x1080 with 1 Axes>"
            ],
            "image/png": "[encoded data removed]"
          },
          "metadata": {
            "tags": [],
            "needs_background": "light"
          }
        }
      ]
    },
    {
      "cell_type": "code",
      "metadata": {
        "execution": {
          "iopub.status.busy": "2021-06-30T12:21:27.796713Z",
          "iopub.execute_input": "2021-06-30T12:21:27.797104Z",
          "iopub.status.idle": "2021-06-30T12:21:27.803863Z",
          "shell.execute_reply.started": "2021-06-30T12:21:27.797073Z",
          "shell.execute_reply": "2021-06-30T12:21:27.802773Z"
        },
        "trusted": true,
        "id": "nHWKoA3V_tCe",
        "outputId": "f36db8ed-fcdb-4bd2-961c-eae553b79c6f"
      },
      "source": [
        "importance.head(10)"
      ],
      "execution_count": null,
      "outputs": [
        {
          "output_type": "execute_result",
          "data": {
            "text/plain": [
              "feature_46   -0.000053\n",
              "feature_27   -0.000022\n",
              "cluster_7     0.000000\n",
              "cluster_5     0.000000\n",
              "cluster_3     0.000000\n",
              "cluster_2     0.000000\n",
              "cluster_0     0.000004\n",
              "feature_15    0.000028\n",
              "feature_60    0.000030\n",
              "feature_42    0.000085\n",
              "dtype: float64"
            ]
          },
          "metadata": {
            "tags": []
          },
          "execution_count": 34
        }
      ]
    },
    {
      "cell_type": "code",
      "metadata": {
        "execution": {
          "iopub.status.busy": "2021-06-30T12:21:36.894487Z",
          "iopub.execute_input": "2021-06-30T12:21:36.894849Z",
          "iopub.status.idle": "2021-06-30T12:21:36.958564Z",
          "shell.execute_reply.started": "2021-06-30T12:21:36.894819Z",
          "shell.execute_reply": "2021-06-30T12:21:36.957492Z"
        },
        "trusted": true,
        "id": "-PY2efsD_tCe"
      },
      "source": [
        "sel_drop = importance.loc[importance<=0].index\n",
        "x_train = x_train.drop(columns=sel_drop)\n",
        "x_test = x_test.drop(columns=sel_drop)"
      ],
      "execution_count": null,
      "outputs": []
    },
    {
      "cell_type": "code",
      "metadata": {
        "execution": {
          "iopub.status.busy": "2021-06-30T12:21:39.908973Z",
          "iopub.execute_input": "2021-06-30T12:21:39.909325Z",
          "iopub.status.idle": "2021-06-30T12:21:39.917074Z",
          "shell.execute_reply.started": "2021-06-30T12:21:39.909292Z",
          "shell.execute_reply": "2021-06-30T12:21:39.916269Z"
        },
        "trusted": true,
        "id": "gFFbEOd-_tCf"
      },
      "source": [
        "def objective(trial,data=x_train,target=y_train):\n",
        "    \n",
        "    X_train, X_test, y_train, y_test = train_test_split(data, target, test_size=0.2,random_state=42)\n",
        "    params = {'iterations':trial.suggest_int(\"iterations\", 2000, 25000),\n",
        "             'loss_function':'MultiClass',\n",
        "              'task_type':\"GPU\",\n",
        "              'eval_metric':'MultiClass',\n",
        "              'leaf_estimation_method':'Newton',\n",
        "              'bootstrap_type': 'Bernoulli',\n",
        "              'learning_rate' : trial.suggest_uniform('learning_rate',0.01,0.5),\n",
        "              'reg_lambda': trial.suggest_uniform('reg_lambda',1e-5,100),\n",
        "              'subsample': trial.suggest_uniform('subsample',0,1),\n",
        "              'random_strength': trial.suggest_uniform('random_strength',10,50),\n",
        "              'depth': trial.suggest_int('depth',1,12),\n",
        "              'min_data_in_leaf': trial.suggest_int('min_data_in_leaf',1,50),\n",
        "              'leaf_estimation_iterations': trial.suggest_int('leaf_estimation_iterations',1,15),\n",
        "              'grow_policy' : 'Lossguide'\n",
        "               }\n",
        "    model = catboost.CatBoostClassifier(**params)  \n",
        "    model.fit(X_train,y_train,eval_set=[(X_test,y_test)],early_stopping_rounds=100,verbose=False)\n",
        "        \n",
        "    y_preds = model.predict_proba(X_test)\n",
        "\n",
        "\n",
        "    log_loss_multi = log_loss(y_test, y_preds)\n",
        "    \n",
        "    return log_loss_multi"
      ],
      "execution_count": null,
      "outputs": []
    },
    {
      "cell_type": "code",
      "metadata": {
        "execution": {
          "iopub.status.busy": "2021-06-30T12:21:41.866833Z",
          "iopub.execute_input": "2021-06-30T12:21:41.867175Z",
          "iopub.status.idle": "2021-06-30T12:40:44.420146Z",
          "shell.execute_reply.started": "2021-06-30T12:21:41.867144Z",
          "shell.execute_reply": "2021-06-30T12:40:44.417923Z"
        },
        "trusted": true,
        "id": "HOsAFEsW_tCf",
        "outputId": "57415b98-030a-4f38-b171-e39afb23c388"
      },
      "source": [
        "OPTUNA_OPTIMIZATION = True\n",
        "\n",
        "study = optuna.create_study(direction='minimize')\n",
        "study.optimize(objective, n_trials=100)\n",
        "print('Number of finished trials:', len(study.trials))\n",
        "print('Best trial: score {}, params {}'.format(study.best_trial.value, study.best_trial.params))"
      ],
      "execution_count": null,
      "outputs": [
        {
          "output_type": "stream",
          "text": [
            "\u001b[32m[I 2021-06-30 12:21:41,869]\u001b[0m A new study created in memory with name: no-name-97f5463c-6c85-4ea7-9182-a5cb0c8c158c\u001b[0m\n",
            "\u001b[32m[I 2021-06-30 12:21:46,654]\u001b[0m Trial 0 finished with value: 1.7602338566988005 and parameters: {'iterations': 16906, 'learning_rate': 0.3628894085388647, 'reg_lambda': 7.669609874720121, 'subsample': 0.05360717028369566, 'random_strength': 28.500655652393792, 'depth': 12, 'min_data_in_leaf': 49, 'leaf_estimation_iterations': 11}. Best is trial 0 with value: 1.7602338566988005.\u001b[0m\n",
            "\u001b[32m[I 2021-06-30 12:21:55,743]\u001b[0m Trial 1 finished with value: 1.7526257514867054 and parameters: {'iterations': 9275, 'learning_rate': 0.2876527180374485, 'reg_lambda': 4.318614819341309, 'subsample': 0.7732620327847457, 'random_strength': 32.40915560047106, 'depth': 1, 'min_data_in_leaf': 8, 'leaf_estimation_iterations': 11}. Best is trial 1 with value: 1.7526257514867054.\u001b[0m\n",
            "\u001b[32m[I 2021-06-30 12:21:59,727]\u001b[0m Trial 2 finished with value: 1.7532724990904507 and parameters: {'iterations': 4976, 'learning_rate': 0.3640295636070417, 'reg_lambda': 86.84883181797954, 'subsample': 0.8843163910198676, 'random_strength': 27.522297482568977, 'depth': 2, 'min_data_in_leaf': 9, 'leaf_estimation_iterations': 7}. Best is trial 1 with value: 1.7526257514867054.\u001b[0m\n",
            "\u001b[32m[I 2021-06-30 12:22:04,223]\u001b[0m Trial 3 finished with value: 1.7590596832453826 and parameters: {'iterations': 10760, 'learning_rate': 0.405459672518205, 'reg_lambda': 50.354034049386115, 'subsample': 0.7462933726100296, 'random_strength': 22.406228511842915, 'depth': 6, 'min_data_in_leaf': 27, 'leaf_estimation_iterations': 7}. Best is trial 1 with value: 1.7526257514867054.\u001b[0m\n",
            "\u001b[32m[I 2021-06-30 12:22:07,387]\u001b[0m Trial 4 finished with value: 1.7593501302114396 and parameters: {'iterations': 7609, 'learning_rate': 0.45069811153097966, 'reg_lambda': 61.23151574178561, 'subsample': 0.04113404762919626, 'random_strength': 48.4195815419918, 'depth': 4, 'min_data_in_leaf': 50, 'leaf_estimation_iterations': 2}. Best is trial 1 with value: 1.7526257514867054.\u001b[0m\n",
            "\u001b[32m[I 2021-06-30 12:22:14,701]\u001b[0m Trial 5 finished with value: 1.752065128803145 and parameters: {'iterations': 16049, 'learning_rate': 0.21006115238184847, 'reg_lambda': 4.744215182451459, 'subsample': 0.26682750231816943, 'random_strength': 19.45976648103834, 'depth': 2, 'min_data_in_leaf': 11, 'leaf_estimation_iterations': 10}. Best is trial 5 with value: 1.752065128803145.\u001b[0m\n",
            "\u001b[32m[I 2021-06-30 12:22:20,336]\u001b[0m Trial 6 finished with value: 1.755747674056284 and parameters: {'iterations': 9622, 'learning_rate': 0.29880001259182654, 'reg_lambda': 31.664214381650478, 'subsample': 0.04644846549401638, 'random_strength': 38.291865858432175, 'depth': 6, 'min_data_in_leaf': 15, 'leaf_estimation_iterations': 11}. Best is trial 5 with value: 1.752065128803145.\u001b[0m\n",
            "\u001b[32m[I 2021-06-30 12:22:27,151]\u001b[0m Trial 7 finished with value: 1.756893423527572 and parameters: {'iterations': 15102, 'learning_rate': 0.3052688339398753, 'reg_lambda': 41.71849285596852, 'subsample': 0.03208774899094635, 'random_strength': 26.705548101589883, 'depth': 7, 'min_data_in_leaf': 34, 'leaf_estimation_iterations': 15}. Best is trial 5 with value: 1.752065128803145.\u001b[0m\n",
            "\u001b[32m[I 2021-06-30 12:22:30,927]\u001b[0m Trial 8 finished with value: 1.7540086077259636 and parameters: {'iterations': 23496, 'learning_rate': 0.2879476065265917, 'reg_lambda': 87.90976709883493, 'subsample': 0.6940394796879924, 'random_strength': 17.8432149062601, 'depth': 4, 'min_data_in_leaf': 16, 'leaf_estimation_iterations': 1}. Best is trial 5 with value: 1.752065128803145.\u001b[0m\n",
            "\u001b[32m[I 2021-06-30 12:22:36,092]\u001b[0m Trial 9 finished with value: 1.7537788856539813 and parameters: {'iterations': 21778, 'learning_rate': 0.37958460314013337, 'reg_lambda': 87.35764374297834, 'subsample': 0.9821325374865332, 'random_strength': 45.35826024603704, 'depth': 2, 'min_data_in_leaf': 10, 'leaf_estimation_iterations': 15}. Best is trial 5 with value: 1.752065128803145.\u001b[0m\n",
            "\u001b[32m[I 2021-06-30 12:22:44,556]\u001b[0m Trial 10 finished with value: 1.7503893015715908 and parameters: {'iterations': 18851, 'learning_rate': 0.10647085637200647, 'reg_lambda': 20.46451069416793, 'subsample': 0.3322978583362124, 'random_strength': 14.090740834439996, 'depth': 10, 'min_data_in_leaf': 1, 'leaf_estimation_iterations': 4}. Best is trial 10 with value: 1.7503893015715908.\u001b[0m\n",
            "\u001b[32m[I 2021-06-30 12:22:52,869]\u001b[0m Trial 11 finished with value: 1.750775050862455 and parameters: {'iterations': 18761, 'learning_rate': 0.10173677101348269, 'reg_lambda': 18.560513116565076, 'subsample': 0.32569114914554775, 'random_strength': 11.617434948749835, 'depth': 11, 'min_data_in_leaf': 1, 'leaf_estimation_iterations': 4}. Best is trial 10 with value: 1.7503893015715908.\u001b[0m\n",
            "\u001b[32m[I 2021-06-30 12:23:16,750]\u001b[0m Trial 12 finished with value: 1.7474465682060107 and parameters: {'iterations': 19734, 'learning_rate': 0.026945690004469933, 'reg_lambda': 21.21324063539582, 'subsample': 0.3829585513118354, 'random_strength': 10.361542976308689, 'depth': 12, 'min_data_in_leaf': 5, 'leaf_estimation_iterations': 4}. Best is trial 12 with value: 1.7474465682060107.\u001b[0m\n",
            "\u001b[32m[I 2021-06-30 12:23:32,453]\u001b[0m Trial 13 finished with value: 1.7480119532293967 and parameters: {'iterations': 20075, 'learning_rate': 0.03893529423514879, 'reg_lambda': 24.246729467719334, 'subsample': 0.4488754841537718, 'random_strength': 12.154665794901003, 'depth': 10, 'min_data_in_leaf': 1, 'leaf_estimation_iterations': 4}. Best is trial 12 with value: 1.7474465682060107.\u001b[0m\n",
            "\u001b[32m[I 2021-06-30 12:24:19,905]\u001b[0m Trial 14 finished with value: 1.7470648192734684 and parameters: {'iterations': 21306, 'learning_rate': 0.011710954287896619, 'reg_lambda': 26.536013830482467, 'subsample': 0.5413449374478823, 'random_strength': 10.979951232762165, 'depth': 9, 'min_data_in_leaf': 1, 'leaf_estimation_iterations': 4}. Best is trial 14 with value: 1.7470648192734684.\u001b[0m\n",
            "\u001b[32m[I 2021-06-30 12:24:57,902]\u001b[0m Trial 15 finished with value: 1.7468841905947945 and parameters: {'iterations': 24779, 'learning_rate': 0.01635614098235033, 'reg_lambda': 62.36071349278087, 'subsample': 0.5376398670270348, 'random_strength': 11.127186917879882, 'depth': 9, 'min_data_in_leaf': 20, 'leaf_estimation_iterations': 5}. Best is trial 15 with value: 1.7468841905947945.\u001b[0m\n",
            "\u001b[32m[I 2021-06-30 12:25:05,063]\u001b[0m Trial 16 finished with value: 1.7499454280022757 and parameters: {'iterations': 24536, 'learning_rate': 0.1255637273243013, 'reg_lambda': 68.5030611360465, 'subsample': 0.5999808828323321, 'random_strength': 15.9174382797802, 'depth': 8, 'min_data_in_leaf': 41, 'leaf_estimation_iterations': 6}. Best is trial 15 with value: 1.7468841905947945.\u001b[0m\n",
            "\u001b[32m[I 2021-06-30 12:25:36,004]\u001b[0m Trial 17 finished with value: 1.7469383635059097 and parameters: {'iterations': 24059, 'learning_rate': 0.021475510824415484, 'reg_lambda': 66.27122377674262, 'subsample': 0.5316101162285568, 'random_strength': 22.88926601363769, 'depth': 9, 'min_data_in_leaf': 21, 'leaf_estimation_iterations': 1}. Best is trial 15 with value: 1.7468841905947945.\u001b[0m\n",
            "\u001b[32m[I 2021-06-30 12:25:40,202]\u001b[0m Trial 18 finished with value: 1.751786946404755 and parameters: {'iterations': 24981, 'learning_rate': 0.20852701798255224, 'reg_lambda': 71.55998327770223, 'subsample': 0.6193259250639411, 'random_strength': 22.465814593030515, 'depth': 8, 'min_data_in_leaf': 21, 'leaf_estimation_iterations': 1}. Best is trial 15 with value: 1.7468841905947945.\u001b[0m\n",
            "\u001b[32m[I 2021-06-30 12:25:50,249]\u001b[0m Trial 19 finished with value: 1.7482647770063453 and parameters: {'iterations': 2002, 'learning_rate': 0.06703246397568921, 'reg_lambda': 52.84669891366253, 'subsample': 0.20149219185116418, 'random_strength': 34.865884853184824, 'depth': 10, 'min_data_in_leaf': 26, 'leaf_estimation_iterations': 2}. Best is trial 15 with value: 1.7468841905947945.\u001b[0m\n",
            "\u001b[32m[I 2021-06-30 12:25:56,908]\u001b[0m Trial 20 finished with value: 1.750398565532142 and parameters: {'iterations': 12623, 'learning_rate': 0.16098995191168067, 'reg_lambda': 75.91971367154147, 'subsample': 0.47937973275744145, 'random_strength': 23.513517873993017, 'depth': 8, 'min_data_in_leaf': 31, 'leaf_estimation_iterations': 9}. Best is trial 15 with value: 1.7468841905947945.\u001b[0m\n",
            "\u001b[32m[I 2021-06-30 12:26:51,223]\u001b[0m Trial 21 finished with value: 1.7470580108920046 and parameters: {'iterations': 22384, 'learning_rate': 0.011134222774102502, 'reg_lambda': 58.86716956983407, 'subsample': 0.56467793221637, 'random_strength': 10.495432148971878, 'depth': 9, 'min_data_in_leaf': 21, 'leaf_estimation_iterations': 5}. Best is trial 15 with value: 1.7468841905947945.\u001b[0m\n",
            "\u001b[32m[I 2021-06-30 12:27:01,254]\u001b[0m Trial 22 finished with value: 1.748260028431416 and parameters: {'iterations': 23033, 'learning_rate': 0.06223737844387696, 'reg_lambda': 61.14337092999332, 'subsample': 0.559799863313415, 'random_strength': 18.05694382805654, 'depth': 9, 'min_data_in_leaf': 20, 'leaf_estimation_iterations': 6}. Best is trial 15 with value: 1.7468841905947945.\u001b[0m\n",
            "\u001b[32m[I 2021-06-30 12:27:51,088]\u001b[0m Trial 23 finished with value: 1.747159901307393 and parameters: {'iterations': 24977, 'learning_rate': 0.010326448719289463, 'reg_lambda': 41.766773689037265, 'subsample': 0.6672417126572222, 'random_strength': 14.18381203991323, 'depth': 11, 'min_data_in_leaf': 21, 'leaf_estimation_iterations': 6}. Best is trial 15 with value: 1.7468841905947945.\u001b[0m\n",
            "\u001b[32m[I 2021-06-30 12:28:00,913]\u001b[0m Trial 24 finished with value: 1.7480597606629225 and parameters: {'iterations': 22746, 'learning_rate': 0.07003445266760898, 'reg_lambda': 98.73264229134197, 'subsample': 0.45695492604470433, 'random_strength': 19.073629812343707, 'depth': 9, 'min_data_in_leaf': 16, 'leaf_estimation_iterations': 2}. Best is trial 15 with value: 1.7468841905947945.\u001b[0m\n",
            "\u001b[32m[I 2021-06-30 12:28:06,952]\u001b[0m Trial 25 finished with value: 1.7514602737536253 and parameters: {'iterations': 24739, 'learning_rate': 0.1627825255005123, 'reg_lambda': 56.69693753373816, 'subsample': 0.8679288339290618, 'random_strength': 40.63871914252891, 'depth': 7, 'min_data_in_leaf': 29, 'leaf_estimation_iterations': 8}. Best is trial 15 with value: 1.7468841905947945.\u001b[0m\n",
            "\u001b[32m[I 2021-06-30 12:28:45,121]\u001b[0m Trial 26 finished with value: 1.7464838529083306 and parameters: {'iterations': 21361, 'learning_rate': 0.017144168655211928, 'reg_lambda': 78.00406400095893, 'subsample': 0.393919435659971, 'random_strength': 10.29037204761493, 'depth': 11, 'min_data_in_leaf': 22, 'leaf_estimation_iterations': 3}. Best is trial 26 with value: 1.7464838529083306.\u001b[0m\n",
            "\u001b[32m[I 2021-06-30 12:28:52,112]\u001b[0m Trial 27 finished with value: 1.7494882446715714 and parameters: {'iterations': 18062, 'learning_rate': 0.13383978954208764, 'reg_lambda': 77.46118813251522, 'subsample': 0.14992548600890887, 'random_strength': 24.859936901462724, 'depth': 11, 'min_data_in_leaf': 35, 'leaf_estimation_iterations': 3}. Best is trial 26 with value: 1.7464838529083306.\u001b[0m\n",
            "\u001b[32m[I 2021-06-30 12:29:07,106]\u001b[0m Trial 28 finished with value: 1.7478030214104674 and parameters: {'iterations': 20825, 'learning_rate': 0.050179375249785024, 'reg_lambda': 66.73996502965758, 'subsample': 0.4031567288304563, 'random_strength': 30.959524359721733, 'depth': 12, 'min_data_in_leaf': 24, 'leaf_estimation_iterations': 1}. Best is trial 26 with value: 1.7464838529083306.\u001b[0m\n",
            "\u001b[32m[I 2021-06-30 12:29:16,990]\u001b[0m Trial 29 finished with value: 1.7487044365486433 and parameters: {'iterations': 16706, 'learning_rate': 0.09005885858839881, 'reg_lambda': 77.14443190229976, 'subsample': 0.2592906359435066, 'random_strength': 15.943014891845863, 'depth': 11, 'min_data_in_leaf': 40, 'leaf_estimation_iterations': 3}. Best is trial 26 with value: 1.7464838529083306.\u001b[0m\n",
            "\u001b[32m[I 2021-06-30 12:30:08,597]\u001b[0m Trial 30 finished with value: 1.7468085835035443 and parameters: {'iterations': 14007, 'learning_rate': 0.014402413536947073, 'reg_lambda': 98.09549366162207, 'subsample': 0.5201677126027717, 'random_strength': 20.803568266172633, 'depth': 12, 'min_data_in_leaf': 17, 'leaf_estimation_iterations': 13}. Best is trial 26 with value: 1.7464838529083306.\u001b[0m\n",
            "\u001b[32m[I 2021-06-30 12:30:54,322]\u001b[0m Trial 31 finished with value: 1.7469114933342997 and parameters: {'iterations': 14374, 'learning_rate': 0.017679558291267012, 'reg_lambda': 96.22622234828262, 'subsample': 0.5212210415397588, 'random_strength': 20.988669940538372, 'depth': 12, 'min_data_in_leaf': 14, 'leaf_estimation_iterations': 13}. Best is trial 26 with value: 1.7464838529083306.\u001b[0m\n",
            "\u001b[32m[I 2021-06-30 12:31:13,965]\u001b[0m Trial 32 finished with value: 1.7474224188190526 and parameters: {'iterations': 13948, 'learning_rate': 0.0455778880398407, 'reg_lambda': 99.13463752103306, 'subsample': 0.39732775419554334, 'random_strength': 20.370113141451313, 'depth': 12, 'min_data_in_leaf': 14, 'leaf_estimation_iterations': 14}. Best is trial 26 with value: 1.7464838529083306.\u001b[0m\n",
            "\u001b[32m[I 2021-06-30 12:32:21,009]\u001b[0m Trial 33 finished with value: 1.7466551913070671 and parameters: {'iterations': 12333, 'learning_rate': 0.010842067019129417, 'reg_lambda': 93.46066218634363, 'subsample': 0.48641939360204034, 'random_strength': 29.757690748373932, 'depth': 12, 'min_data_in_leaf': 18, 'leaf_estimation_iterations': 13}. Best is trial 26 with value: 1.7464838529083306.\u001b[0m\n",
            "\u001b[32m[I 2021-06-30 12:32:33,464]\u001b[0m Trial 34 finished with value: 1.74862150721604 and parameters: {'iterations': 12438, 'learning_rate': 0.08032855090218752, 'reg_lambda': 92.17236919992251, 'subsample': 0.6651050736911696, 'random_strength': 29.39452094344881, 'depth': 11, 'min_data_in_leaf': 19, 'leaf_estimation_iterations': 13}. Best is trial 26 with value: 1.7464838529083306.\u001b[0m\n",
            "\u001b[32m[I 2021-06-30 12:32:49,387]\u001b[0m Trial 35 finished with value: 1.7484639770400348 and parameters: {'iterations': 6561, 'learning_rate': 0.04695845881847502, 'reg_lambda': 85.33040415552921, 'subsample': 0.786569194088927, 'random_strength': 33.41395307365633, 'depth': 10, 'min_data_in_leaf': 24, 'leaf_estimation_iterations': 13}. Best is trial 26 with value: 1.7464838529083306.\u001b[0m\n",
            "\u001b[32m[I 2021-06-30 12:32:54,840]\u001b[0m Trial 36 finished with value: 1.7604237228499335 and parameters: {'iterations': 11089, 'learning_rate': 0.48276068342072875, 'reg_lambda': 78.96170737847532, 'subsample': 0.3358606047594027, 'random_strength': 36.964146993477, 'depth': 12, 'min_data_in_leaf': 18, 'leaf_estimation_iterations': 10}. Best is trial 26 with value: 1.7464838529083306.\u001b[0m\n",
            "\u001b[32m[I 2021-06-30 12:33:01,186]\u001b[0m Trial 37 finished with value: 1.7534323708525734 and parameters: {'iterations': 2945, 'learning_rate': 0.24583232245210038, 'reg_lambda': 82.36841105750565, 'subsample': 0.6277105166844538, 'random_strength': 25.993923595282546, 'depth': 11, 'min_data_in_leaf': 11, 'leaf_estimation_iterations': 12}. Best is trial 26 with value: 1.7464838529083306.\u001b[0m\n",
            "\u001b[32m[I 2021-06-30 12:33:10,456]\u001b[0m Trial 38 finished with value: 1.751033775793379 and parameters: {'iterations': 8379, 'learning_rate': 0.1367774434386229, 'reg_lambda': 92.91790701708945, 'subsample': 0.4351409418043546, 'random_strength': 28.84776308755466, 'depth': 10, 'min_data_in_leaf': 6, 'leaf_estimation_iterations': 12}. Best is trial 26 with value: 1.7464838529083306.\u001b[0m\n",
            "\u001b[32m[I 2021-06-30 12:33:15,540]\u001b[0m Trial 39 finished with value: 1.755738844941629 and parameters: {'iterations': 10735, 'learning_rate': 0.3386298568736338, 'reg_lambda': 91.89432769516424, 'subsample': 0.48890083350677366, 'random_strength': 15.19686460227322, 'depth': 12, 'min_data_in_leaf': 24, 'leaf_estimation_iterations': 7}. Best is trial 26 with value: 1.7464838529083306.\u001b[0m\n",
            "\u001b[32m[I 2021-06-30 12:33:24,499]\u001b[0m Trial 40 finished with value: 1.7522467056229147 and parameters: {'iterations': 5726, 'learning_rate': 0.1868595118365308, 'reg_lambda': 43.89274427712381, 'subsample': 0.26019444663429087, 'random_strength': 13.163255786261189, 'depth': 4, 'min_data_in_leaf': 12, 'leaf_estimation_iterations': 14}. Best is trial 26 with value: 1.7464838529083306.\u001b[0m\n",
            "\u001b[32m[I 2021-06-30 12:34:37,507]\u001b[0m Trial 41 finished with value: 1.746813248581411 and parameters: {'iterations': 14760, 'learning_rate': 0.010138942806974248, 'reg_lambda': 98.57544530736652, 'subsample': 0.5175965293609732, 'random_strength': 20.94460814251877, 'depth': 12, 'min_data_in_leaf': 14, 'leaf_estimation_iterations': 12}. Best is trial 26 with value: 1.7464838529083306.\u001b[0m\n",
            "\u001b[32m[I 2021-06-30 12:34:58,300]\u001b[0m Trial 42 finished with value: 1.7474870412861971 and parameters: {'iterations': 15332, 'learning_rate': 0.04050182487053233, 'reg_lambda': 82.06120273741972, 'subsample': 0.5845921548722723, 'random_strength': 26.928800943334842, 'depth': 12, 'min_data_in_leaf': 18, 'leaf_estimation_iterations': 12}. Best is trial 26 with value: 1.7464838529083306.\u001b[0m\n",
            "\u001b[32m[I 2021-06-30 12:35:47,977]\u001b[0m Trial 43 finished with value: 1.746592295656044 and parameters: {'iterations': 12443, 'learning_rate': 0.014492486394551363, 'reg_lambda': 95.25499456746705, 'subsample': 0.5073813637802816, 'random_strength': 17.078945782584196, 'depth': 11, 'min_data_in_leaf': 17, 'leaf_estimation_iterations': 10}. Best is trial 26 with value: 1.7464838529083306.\u001b[0m\n",
            "\u001b[32m[I 2021-06-30 12:35:57,162]\u001b[0m Trial 44 finished with value: 1.7491595353971745 and parameters: {'iterations': 12631, 'learning_rate': 0.10601971982877409, 'reg_lambda': 99.84609299170108, 'subsample': 0.7136029805621161, 'random_strength': 17.65064738177512, 'depth': 11, 'min_data_in_leaf': 9, 'leaf_estimation_iterations': 10}. Best is trial 26 with value: 1.7464838529083306.\u001b[0m\n",
            "\u001b[32m[I 2021-06-30 12:36:08,493]\u001b[0m Trial 45 finished with value: 1.7482599489594988 and parameters: {'iterations': 10046, 'learning_rate': 0.08135526733890563, 'reg_lambda': 94.6055891297504, 'subsample': 0.34800552464968915, 'random_strength': 24.749684975316907, 'depth': 12, 'min_data_in_leaf': 7, 'leaf_estimation_iterations': 11}. Best is trial 26 with value: 1.7464838529083306.\u001b[0m\n",
            "\u001b[32m[I 2021-06-30 12:36:36,649]\u001b[0m Trial 46 finished with value: 1.7472548356325799 and parameters: {'iterations': 11488, 'learning_rate': 0.03280691226932776, 'reg_lambda': 88.84644539309791, 'subsample': 0.42389824446206903, 'random_strength': 20.613999696680548, 'depth': 11, 'min_data_in_leaf': 13, 'leaf_estimation_iterations': 14}. Best is trial 26 with value: 1.7464838529083306.\u001b[0m\n",
            "\u001b[32m[I 2021-06-30 12:37:48,451]\u001b[0m Trial 47 finished with value: 1.7475424086832776 and parameters: {'iterations': 17605, 'learning_rate': 0.010833128062549427, 'reg_lambda': 99.95972801759935, 'subsample': 0.4726689205951823, 'random_strength': 17.498341059479785, 'depth': 5, 'min_data_in_leaf': 17, 'leaf_estimation_iterations': 9}. Best is trial 26 with value: 1.7464838529083306.\u001b[0m\n",
            "\u001b[32m[I 2021-06-30 12:38:03,118]\u001b[0m Trial 48 finished with value: 1.748200850717871 and parameters: {'iterations': 15821, 'learning_rate': 0.06384802864703508, 'reg_lambda': 88.06647236244933, 'subsample': 0.364771408269054, 'random_strength': 40.85537362307362, 'depth': 10, 'min_data_in_leaf': 28, 'leaf_estimation_iterations': 10}. Best is trial 26 with value: 1.7464838529083306.\u001b[0m\n",
            "\u001b[32m[I 2021-06-30 12:38:10,100]\u001b[0m Trial 49 finished with value: 1.7528805374753196 and parameters: {'iterations': 14606, 'learning_rate': 0.42445413528257736, 'reg_lambda': 95.8266969125278, 'subsample': 0.6368525188596541, 'random_strength': 30.916208507237904, 'depth': 1, 'min_data_in_leaf': 4, 'leaf_estimation_iterations': 15}. Best is trial 26 with value: 1.7464838529083306.\u001b[0m\n",
            "\u001b[32m[I 2021-06-30 12:38:43,435]\u001b[0m Trial 50 finished with value: 1.7468629537577898 and parameters: {'iterations': 13210, 'learning_rate': 0.02856261702403895, 'reg_lambda': 83.72376355974507, 'subsample': 0.2977345107956609, 'random_strength': 21.917338618532888, 'depth': 12, 'min_data_in_leaf': 23, 'leaf_estimation_iterations': 11}. Best is trial 26 with value: 1.7464838529083306.\u001b[0m\n",
            "\u001b[32m[I 2021-06-30 12:39:14,104]\u001b[0m Trial 51 finished with value: 1.747042159730928 and parameters: {'iterations': 13665, 'learning_rate': 0.02805719746519067, 'reg_lambda': 83.34853862285516, 'subsample': 0.31372045391292375, 'random_strength': 21.501237522405518, 'depth': 12, 'min_data_in_leaf': 23, 'leaf_estimation_iterations': 11}. Best is trial 26 with value: 1.7464838529083306.\u001b[0m\n",
            "\u001b[32m[I 2021-06-30 12:39:47,546]\u001b[0m Trial 52 finished with value: 1.7464596839290072 and parameters: {'iterations': 9069, 'learning_rate': 0.0321585966272392, 'reg_lambda': 90.50954515235007, 'subsample': 0.11873720918922287, 'random_strength': 19.52967649497604, 'depth': 11, 'min_data_in_leaf': 16, 'leaf_estimation_iterations': 11}. Best is trial 52 with value: 1.7464596839290072.\u001b[0m\n",
            "\u001b[32m[I 2021-06-30 12:40:08,900]\u001b[0m Trial 53 finished with value: 1.7474262852474043 and parameters: {'iterations': 8162, 'learning_rate': 0.05320741755771729, 'reg_lambda': 90.9470863031214, 'subsample': 0.18708957498734732, 'random_strength': 19.538880093201495, 'depth': 10, 'min_data_in_leaf': 16, 'leaf_estimation_iterations': 12}. Best is trial 52 with value: 1.7464596839290072.\u001b[0m\n",
            "\u001b[32m[I 2021-06-30 12:40:27,169]\u001b[0m Trial 54 finished with value: 1.7505593395801684 and parameters: {'iterations': 9206, 'learning_rate': 0.09594461938598171, 'reg_lambda': 72.81167634527121, 'subsample': 0.0034496832682945344, 'random_strength': 23.81827162276909, 'depth': 11, 'min_data_in_leaf': 15, 'leaf_estimation_iterations': 13}. Best is trial 52 with value: 1.7464596839290072.\u001b[0m\n"
          ],
          "name": "stderr"
        },
        {
          "output_type": "error",
          "ename": "KeyboardInterrupt",
          "evalue": "",
          "traceback": [
            "\u001b[0;31m---------------------------------------------------------------------------\u001b[0m",
            "\u001b[0;31mKeyboardInterrupt\u001b[0m                         Traceback (most recent call last)",
            "\u001b[0;32m<ipython-input-37-1a48f53a0b43>\u001b[0m in \u001b[0;36m<module>\u001b[0;34m\u001b[0m\n\u001b[1;32m      2\u001b[0m \u001b[0;34m\u001b[0m\u001b[0m\n\u001b[1;32m      3\u001b[0m \u001b[0mstudy\u001b[0m \u001b[0;34m=\u001b[0m \u001b[0moptuna\u001b[0m\u001b[0;34m.\u001b[0m\u001b[0mcreate_study\u001b[0m\u001b[0;34m(\u001b[0m\u001b[0mdirection\u001b[0m\u001b[0;34m=\u001b[0m\u001b[0;34m'minimize'\u001b[0m\u001b[0;34m)\u001b[0m\u001b[0;34m\u001b[0m\u001b[0;34m\u001b[0m\u001b[0m\n\u001b[0;32m----> 4\u001b[0;31m \u001b[0mstudy\u001b[0m\u001b[0;34m.\u001b[0m\u001b[0moptimize\u001b[0m\u001b[0;34m(\u001b[0m\u001b[0mobjective\u001b[0m\u001b[0;34m,\u001b[0m \u001b[0mn_trials\u001b[0m\u001b[0;34m=\u001b[0m\u001b[0;36m100\u001b[0m\u001b[0;34m)\u001b[0m\u001b[0;34m\u001b[0m\u001b[0;34m\u001b[0m\u001b[0m\n\u001b[0m\u001b[1;32m      5\u001b[0m \u001b[0mprint\u001b[0m\u001b[0;34m(\u001b[0m\u001b[0;34m'Number of finished trials:'\u001b[0m\u001b[0;34m,\u001b[0m \u001b[0mlen\u001b[0m\u001b[0;34m(\u001b[0m\u001b[0mstudy\u001b[0m\u001b[0;34m.\u001b[0m\u001b[0mtrials\u001b[0m\u001b[0;34m)\u001b[0m\u001b[0;34m)\u001b[0m\u001b[0;34m\u001b[0m\u001b[0;34m\u001b[0m\u001b[0m\n\u001b[1;32m      6\u001b[0m \u001b[0mprint\u001b[0m\u001b[0;34m(\u001b[0m\u001b[0;34m'Best trial: score {}, params {}'\u001b[0m\u001b[0;34m.\u001b[0m\u001b[0mformat\u001b[0m\u001b[0;34m(\u001b[0m\u001b[0mstudy\u001b[0m\u001b[0;34m.\u001b[0m\u001b[0mbest_trial\u001b[0m\u001b[0;34m.\u001b[0m\u001b[0mvalue\u001b[0m\u001b[0;34m,\u001b[0m \u001b[0mstudy\u001b[0m\u001b[0;34m.\u001b[0m\u001b[0mbest_trial\u001b[0m\u001b[0;34m.\u001b[0m\u001b[0mparams\u001b[0m\u001b[0;34m)\u001b[0m\u001b[0;34m)\u001b[0m\u001b[0;34m\u001b[0m\u001b[0;34m\u001b[0m\u001b[0m\n",
            "\u001b[0;32m/opt/conda/lib/python3.7/site-packages/optuna/study.py\u001b[0m in \u001b[0;36moptimize\u001b[0;34m(self, func, n_trials, timeout, n_jobs, catch, callbacks, gc_after_trial, show_progress_bar)\u001b[0m\n\u001b[1;32m    407\u001b[0m             \u001b[0mcallbacks\u001b[0m\u001b[0;34m=\u001b[0m\u001b[0mcallbacks\u001b[0m\u001b[0;34m,\u001b[0m\u001b[0;34m\u001b[0m\u001b[0;34m\u001b[0m\u001b[0m\n\u001b[1;32m    408\u001b[0m             \u001b[0mgc_after_trial\u001b[0m\u001b[0;34m=\u001b[0m\u001b[0mgc_after_trial\u001b[0m\u001b[0;34m,\u001b[0m\u001b[0;34m\u001b[0m\u001b[0;34m\u001b[0m\u001b[0m\n\u001b[0;32m--> 409\u001b[0;31m             \u001b[0mshow_progress_bar\u001b[0m\u001b[0;34m=\u001b[0m\u001b[0mshow_progress_bar\u001b[0m\u001b[0;34m,\u001b[0m\u001b[0;34m\u001b[0m\u001b[0;34m\u001b[0m\u001b[0m\n\u001b[0m\u001b[1;32m    410\u001b[0m         )\n\u001b[1;32m    411\u001b[0m \u001b[0;34m\u001b[0m\u001b[0m\n",
            "\u001b[0;32m/opt/conda/lib/python3.7/site-packages/optuna/_optimize.py\u001b[0m in \u001b[0;36m_optimize\u001b[0;34m(study, func, n_trials, timeout, n_jobs, catch, callbacks, gc_after_trial, show_progress_bar)\u001b[0m\n\u001b[1;32m     74\u001b[0m                 \u001b[0mreseed_sampler_rng\u001b[0m\u001b[0;34m=\u001b[0m\u001b[0;32mFalse\u001b[0m\u001b[0;34m,\u001b[0m\u001b[0;34m\u001b[0m\u001b[0;34m\u001b[0m\u001b[0m\n\u001b[1;32m     75\u001b[0m                 \u001b[0mtime_start\u001b[0m\u001b[0;34m=\u001b[0m\u001b[0;32mNone\u001b[0m\u001b[0;34m,\u001b[0m\u001b[0;34m\u001b[0m\u001b[0;34m\u001b[0m\u001b[0m\n\u001b[0;32m---> 76\u001b[0;31m                 \u001b[0mprogress_bar\u001b[0m\u001b[0;34m=\u001b[0m\u001b[0mprogress_bar\u001b[0m\u001b[0;34m,\u001b[0m\u001b[0;34m\u001b[0m\u001b[0;34m\u001b[0m\u001b[0m\n\u001b[0m\u001b[1;32m     77\u001b[0m             )\n\u001b[1;32m     78\u001b[0m         \u001b[0;32melse\u001b[0m\u001b[0;34m:\u001b[0m\u001b[0;34m\u001b[0m\u001b[0;34m\u001b[0m\u001b[0m\n",
            "\u001b[0;32m/opt/conda/lib/python3.7/site-packages/optuna/_optimize.py\u001b[0m in \u001b[0;36m_optimize_sequential\u001b[0;34m(study, func, n_trials, timeout, catch, callbacks, gc_after_trial, reseed_sampler_rng, time_start, progress_bar)\u001b[0m\n\u001b[1;32m    161\u001b[0m \u001b[0;34m\u001b[0m\u001b[0m\n\u001b[1;32m    162\u001b[0m         \u001b[0;32mtry\u001b[0m\u001b[0;34m:\u001b[0m\u001b[0;34m\u001b[0m\u001b[0;34m\u001b[0m\u001b[0m\n\u001b[0;32m--> 163\u001b[0;31m             \u001b[0mtrial\u001b[0m \u001b[0;34m=\u001b[0m \u001b[0m_run_trial\u001b[0m\u001b[0;34m(\u001b[0m\u001b[0mstudy\u001b[0m\u001b[0;34m,\u001b[0m \u001b[0mfunc\u001b[0m\u001b[0;34m,\u001b[0m \u001b[0mcatch\u001b[0m\u001b[0;34m)\u001b[0m\u001b[0;34m\u001b[0m\u001b[0;34m\u001b[0m\u001b[0m\n\u001b[0m\u001b[1;32m    164\u001b[0m         \u001b[0;32mexcept\u001b[0m \u001b[0mException\u001b[0m\u001b[0;34m:\u001b[0m\u001b[0;34m\u001b[0m\u001b[0;34m\u001b[0m\u001b[0m\n\u001b[1;32m    165\u001b[0m             \u001b[0;32mraise\u001b[0m\u001b[0;34m\u001b[0m\u001b[0;34m\u001b[0m\u001b[0m\n",
            "\u001b[0;32m/opt/conda/lib/python3.7/site-packages/optuna/_optimize.py\u001b[0m in \u001b[0;36m_run_trial\u001b[0;34m(study, func, catch)\u001b[0m\n\u001b[1;32m    215\u001b[0m \u001b[0;34m\u001b[0m\u001b[0m\n\u001b[1;32m    216\u001b[0m     \u001b[0;32mtry\u001b[0m\u001b[0;34m:\u001b[0m\u001b[0;34m\u001b[0m\u001b[0;34m\u001b[0m\u001b[0m\n\u001b[0;32m--> 217\u001b[0;31m         \u001b[0mvalue_or_values\u001b[0m \u001b[0;34m=\u001b[0m \u001b[0mfunc\u001b[0m\u001b[0;34m(\u001b[0m\u001b[0mtrial\u001b[0m\u001b[0;34m)\u001b[0m\u001b[0;34m\u001b[0m\u001b[0;34m\u001b[0m\u001b[0m\n\u001b[0m\u001b[1;32m    218\u001b[0m     \u001b[0;32mexcept\u001b[0m \u001b[0mexceptions\u001b[0m\u001b[0;34m.\u001b[0m\u001b[0mTrialPruned\u001b[0m \u001b[0;32mas\u001b[0m \u001b[0me\u001b[0m\u001b[0;34m:\u001b[0m\u001b[0;34m\u001b[0m\u001b[0;34m\u001b[0m\u001b[0m\n\u001b[1;32m    219\u001b[0m         \u001b[0;31m# TODO(mamu): Handle multi-objective cases.\u001b[0m\u001b[0;34m\u001b[0m\u001b[0;34m\u001b[0m\u001b[0;34m\u001b[0m\u001b[0m\n",
            "\u001b[0;32m<ipython-input-36-6725550c68d4>\u001b[0m in \u001b[0;36mobjective\u001b[0;34m(trial, data, target)\u001b[0m\n\u001b[1;32m     18\u001b[0m                }\n\u001b[1;32m     19\u001b[0m     \u001b[0mmodel\u001b[0m \u001b[0;34m=\u001b[0m \u001b[0mcatboost\u001b[0m\u001b[0;34m.\u001b[0m\u001b[0mCatBoostClassifier\u001b[0m\u001b[0;34m(\u001b[0m\u001b[0;34m**\u001b[0m\u001b[0mparams\u001b[0m\u001b[0;34m)\u001b[0m\u001b[0;34m\u001b[0m\u001b[0;34m\u001b[0m\u001b[0m\n\u001b[0;32m---> 20\u001b[0;31m     \u001b[0mmodel\u001b[0m\u001b[0;34m.\u001b[0m\u001b[0mfit\u001b[0m\u001b[0;34m(\u001b[0m\u001b[0mX_train\u001b[0m\u001b[0;34m,\u001b[0m\u001b[0my_train\u001b[0m\u001b[0;34m,\u001b[0m\u001b[0meval_set\u001b[0m\u001b[0;34m=\u001b[0m\u001b[0;34m[\u001b[0m\u001b[0;34m(\u001b[0m\u001b[0mX_test\u001b[0m\u001b[0;34m,\u001b[0m\u001b[0my_test\u001b[0m\u001b[0;34m)\u001b[0m\u001b[0;34m]\u001b[0m\u001b[0;34m,\u001b[0m\u001b[0mearly_stopping_rounds\u001b[0m\u001b[0;34m=\u001b[0m\u001b[0;36m100\u001b[0m\u001b[0;34m,\u001b[0m\u001b[0mverbose\u001b[0m\u001b[0;34m=\u001b[0m\u001b[0;32mFalse\u001b[0m\u001b[0;34m)\u001b[0m\u001b[0;34m\u001b[0m\u001b[0;34m\u001b[0m\u001b[0m\n\u001b[0m\u001b[1;32m     21\u001b[0m \u001b[0;34m\u001b[0m\u001b[0m\n\u001b[1;32m     22\u001b[0m     \u001b[0my_preds\u001b[0m \u001b[0;34m=\u001b[0m \u001b[0mmodel\u001b[0m\u001b[0;34m.\u001b[0m\u001b[0mpredict_proba\u001b[0m\u001b[0;34m(\u001b[0m\u001b[0mX_test\u001b[0m\u001b[0;34m)\u001b[0m\u001b[0;34m\u001b[0m\u001b[0;34m\u001b[0m\u001b[0m\n",
            "\u001b[0;32m/opt/conda/lib/python3.7/site-packages/catboost/core.py\u001b[0m in \u001b[0;36mfit\u001b[0;34m(self, X, y, cat_features, text_features, embedding_features, sample_weight, baseline, use_best_model, eval_set, verbose, logging_level, plot, column_description, verbose_eval, metric_period, silent, early_stopping_rounds, save_snapshot, snapshot_file, snapshot_interval, init_model)\u001b[0m\n\u001b[1;32m   4539\u001b[0m         self._fit(X, y, cat_features, text_features, embedding_features, None, sample_weight, None, None, None, None, baseline, use_best_model,\n\u001b[1;32m   4540\u001b[0m                   \u001b[0meval_set\u001b[0m\u001b[0;34m,\u001b[0m \u001b[0mverbose\u001b[0m\u001b[0;34m,\u001b[0m \u001b[0mlogging_level\u001b[0m\u001b[0;34m,\u001b[0m \u001b[0mplot\u001b[0m\u001b[0;34m,\u001b[0m \u001b[0mcolumn_description\u001b[0m\u001b[0;34m,\u001b[0m \u001b[0mverbose_eval\u001b[0m\u001b[0;34m,\u001b[0m \u001b[0mmetric_period\u001b[0m\u001b[0;34m,\u001b[0m\u001b[0;34m\u001b[0m\u001b[0;34m\u001b[0m\u001b[0m\n\u001b[0;32m-> 4541\u001b[0;31m                   silent, early_stopping_rounds, save_snapshot, snapshot_file, snapshot_interval, init_model)\n\u001b[0m\u001b[1;32m   4542\u001b[0m         \u001b[0;32mreturn\u001b[0m \u001b[0mself\u001b[0m\u001b[0;34m\u001b[0m\u001b[0;34m\u001b[0m\u001b[0m\n\u001b[1;32m   4543\u001b[0m \u001b[0;34m\u001b[0m\u001b[0m\n",
            "\u001b[0;32m/opt/conda/lib/python3.7/site-packages/catboost/core.py\u001b[0m in \u001b[0;36m_fit\u001b[0;34m(self, X, y, cat_features, text_features, embedding_features, pairs, sample_weight, group_id, group_weight, subgroup_id, pairs_weight, baseline, use_best_model, eval_set, verbose, logging_level, plot, column_description, verbose_eval, metric_period, silent, early_stopping_rounds, save_snapshot, snapshot_file, snapshot_interval, init_model)\u001b[0m\n\u001b[1;32m   1921\u001b[0m                 \u001b[0mparams\u001b[0m\u001b[0;34m,\u001b[0m\u001b[0;34m\u001b[0m\u001b[0;34m\u001b[0m\u001b[0m\n\u001b[1;32m   1922\u001b[0m                 \u001b[0mallow_clear_pool\u001b[0m\u001b[0;34m,\u001b[0m\u001b[0;34m\u001b[0m\u001b[0;34m\u001b[0m\u001b[0m\n\u001b[0;32m-> 1923\u001b[0;31m                 \u001b[0mtrain_params\u001b[0m\u001b[0;34m[\u001b[0m\u001b[0;34m\"init_model\"\u001b[0m\u001b[0;34m]\u001b[0m\u001b[0;34m\u001b[0m\u001b[0;34m\u001b[0m\u001b[0m\n\u001b[0m\u001b[1;32m   1924\u001b[0m             )\n\u001b[1;32m   1925\u001b[0m \u001b[0;34m\u001b[0m\u001b[0m\n",
            "\u001b[0;32m/opt/conda/lib/python3.7/site-packages/catboost/core.py\u001b[0m in \u001b[0;36m_train\u001b[0;34m(self, train_pool, test_pool, params, allow_clear_pool, init_model)\u001b[0m\n\u001b[1;32m   1364\u001b[0m \u001b[0;34m\u001b[0m\u001b[0m\n\u001b[1;32m   1365\u001b[0m     \u001b[0;32mdef\u001b[0m \u001b[0m_train\u001b[0m\u001b[0;34m(\u001b[0m\u001b[0mself\u001b[0m\u001b[0;34m,\u001b[0m \u001b[0mtrain_pool\u001b[0m\u001b[0;34m,\u001b[0m \u001b[0mtest_pool\u001b[0m\u001b[0;34m,\u001b[0m \u001b[0mparams\u001b[0m\u001b[0;34m,\u001b[0m \u001b[0mallow_clear_pool\u001b[0m\u001b[0;34m,\u001b[0m \u001b[0minit_model\u001b[0m\u001b[0;34m)\u001b[0m\u001b[0;34m:\u001b[0m\u001b[0;34m\u001b[0m\u001b[0;34m\u001b[0m\u001b[0m\n\u001b[0;32m-> 1366\u001b[0;31m         \u001b[0mself\u001b[0m\u001b[0;34m.\u001b[0m\u001b[0m_object\u001b[0m\u001b[0;34m.\u001b[0m\u001b[0m_train\u001b[0m\u001b[0;34m(\u001b[0m\u001b[0mtrain_pool\u001b[0m\u001b[0;34m,\u001b[0m \u001b[0mtest_pool\u001b[0m\u001b[0;34m,\u001b[0m \u001b[0mparams\u001b[0m\u001b[0;34m,\u001b[0m \u001b[0mallow_clear_pool\u001b[0m\u001b[0;34m,\u001b[0m \u001b[0minit_model\u001b[0m\u001b[0;34m.\u001b[0m\u001b[0m_object\u001b[0m \u001b[0;32mif\u001b[0m \u001b[0minit_model\u001b[0m \u001b[0;32melse\u001b[0m \u001b[0;32mNone\u001b[0m\u001b[0;34m)\u001b[0m\u001b[0;34m\u001b[0m\u001b[0;34m\u001b[0m\u001b[0m\n\u001b[0m\u001b[1;32m   1367\u001b[0m         \u001b[0mself\u001b[0m\u001b[0;34m.\u001b[0m\u001b[0m_set_trained_model_attributes\u001b[0m\u001b[0;34m(\u001b[0m\u001b[0;34m)\u001b[0m\u001b[0;34m\u001b[0m\u001b[0;34m\u001b[0m\u001b[0m\n\u001b[1;32m   1368\u001b[0m \u001b[0;34m\u001b[0m\u001b[0m\n",
            "\u001b[0;32m_catboost.pyx\u001b[0m in \u001b[0;36m_catboost._CatBoost._train\u001b[0;34m()\u001b[0m\n",
            "\u001b[0;32m_catboost.pyx\u001b[0m in \u001b[0;36m_catboost._CatBoost._train\u001b[0;34m()\u001b[0m\n",
            "\u001b[0;31mKeyboardInterrupt\u001b[0m: "
          ]
        }
      ]
    },
    {
      "cell_type": "code",
      "metadata": {
        "id": "_e8Yw95-iSMZ",
        "execution": {
          "iopub.status.busy": "2021-06-30T12:49:42.323718Z",
          "iopub.execute_input": "2021-06-30T12:49:42.324037Z",
          "iopub.status.idle": "2021-06-30T12:52:52.585130Z",
          "shell.execute_reply.started": "2021-06-30T12:49:42.324008Z",
          "shell.execute_reply": "2021-06-30T12:52:52.584212Z"
        },
        "trusted": true,
        "outputId": "45afb5b6-cf1b-42ff-9b92-595f780d8684"
      },
      "source": [
        "# catboost모델 제일 성능이 잘 나옴(NN빼고)\n",
        "skf = StratifiedKFold(n_splits=5, shuffle=True, random_state=42)\n",
        "preds_cat = np.zeros((x_test.shape[0], y_train.nunique()))\n",
        "params_cat = {\n",
        "             'loss_function':'MultiClass',\n",
        "              'task_type':\"GPU\",\n",
        "              'eval_metric':'MultiClass',\n",
        "              'leaf_estimation_method':'Newton',\n",
        "              'bootstrap_type': 'Bernoulli',\n",
        "              'iterations': 24779, 'learning_rate': 0.01635614098235033, 'reg_lambda': 62.36071349278087, 'subsample': 0.5376398670270348, 'random_strength': 11.127186917879882, 'depth': 9, 'min_data_in_leaf': 20, 'leaf_estimation_iterations': 5\n",
        "              ,'grow_policy' : 'Lossguide'\n",
        "               }\n",
        "\n",
        "for i, (train_index, valid_index) in enumerate(skf.split(x_train, y_train)):\n",
        "    X_train, X_valid = x_train.iloc[train_index], x_train.iloc[valid_index]\n",
        "    Y_train, Y_valid = y_train.iloc[train_index], y_train.iloc[valid_index]\n",
        "    \n",
        "    model = catboost.CatBoostClassifier(**params_cat)\n",
        "    model.fit(X_train, Y_train, verbose=100, early_stopping_rounds=70, eval_set=(X_valid, Y_valid))\n",
        "    preds_cat += model.predict_proba(x_test)/skf.n_splits"
      ],
      "execution_count": null,
      "outputs": [
        {
          "output_type": "stream",
          "text": [
            "0:\tlearn: 2.1822793\ttest: 2.1824945\tbest: 2.1824945 (0)\ttotal: 28.1ms\tremaining: 11m 35s\n",
            "100:\tlearn: 1.7827551\ttest: 1.7910398\tbest: 1.7910398 (100)\ttotal: 2.75s\tremaining: 11m 10s\n",
            "200:\tlearn: 1.7490012\ttest: 1.7630975\tbest: 1.7630975 (200)\ttotal: 5.44s\tremaining: 11m 5s\n",
            "300:\tlearn: 1.7380182\ttest: 1.7568578\tbest: 1.7568578 (300)\ttotal: 8.44s\tremaining: 11m 26s\n",
            "400:\tlearn: 1.7310834\ttest: 1.7541053\tbest: 1.7541053 (400)\ttotal: 12.1s\tremaining: 12m 13s\n",
            "500:\tlearn: 1.7256398\ttest: 1.7526592\tbest: 1.7526592 (500)\ttotal: 14.7s\tremaining: 11m 52s\n",
            "600:\tlearn: 1.7209119\ttest: 1.7518055\tbest: 1.7518055 (600)\ttotal: 17.4s\tremaining: 11m 38s\n",
            "700:\tlearn: 1.7167102\ttest: 1.7512428\tbest: 1.7512428 (700)\ttotal: 19.9s\tremaining: 11m 24s\n",
            "800:\tlearn: 1.7128143\ttest: 1.7509326\tbest: 1.7509316 (799)\ttotal: 22.9s\tremaining: 11m 25s\n",
            "900:\tlearn: 1.7091307\ttest: 1.7507740\tbest: 1.7507641 (890)\ttotal: 25.4s\tremaining: 11m 14s\n",
            "1000:\tlearn: 1.7056609\ttest: 1.7507018\tbest: 1.7506912 (996)\ttotal: 28s\tremaining: 11m 4s\n",
            "1100:\tlearn: 1.7022664\ttest: 1.7506594\tbest: 1.7506561 (1098)\ttotal: 30.5s\tremaining: 10m 56s\n",
            "1200:\tlearn: 1.6989678\ttest: 1.7506086\tbest: 1.7506021 (1197)\ttotal: 33.4s\tremaining: 10m 55s\n",
            "1300:\tlearn: 1.6957348\ttest: 1.7506189\tbest: 1.7505891 (1267)\ttotal: 35.9s\tremaining: 10m 48s\n",
            "bestTest = 1.750589063\n",
            "bestIteration = 1267\n",
            "Shrink model to first 1268 iterations.\n",
            "0:\tlearn: 2.1820725\ttest: 2.1819916\tbest: 2.1819916 (0)\ttotal: 27.9ms\tremaining: 11m 32s\n",
            "100:\tlearn: 1.7838531\ttest: 1.7868926\tbest: 1.7868926 (100)\ttotal: 3.12s\tremaining: 12m 43s\n",
            "200:\tlearn: 1.7507689\ttest: 1.7571615\tbest: 1.7571615 (200)\ttotal: 5.84s\tremaining: 11m 54s\n",
            "300:\tlearn: 1.7398727\ttest: 1.7499352\tbest: 1.7499352 (300)\ttotal: 8.52s\tremaining: 11m 32s\n",
            "400:\tlearn: 1.7330043\ttest: 1.7468600\tbest: 1.7468600 (400)\ttotal: 11.2s\tremaining: 11m 23s\n",
            "500:\tlearn: 1.7274893\ttest: 1.7451490\tbest: 1.7451490 (500)\ttotal: 14.2s\tremaining: 11m 26s\n",
            "600:\tlearn: 1.7227654\ttest: 1.7442510\tbest: 1.7442510 (600)\ttotal: 16.8s\tremaining: 11m 17s\n",
            "700:\tlearn: 1.7185359\ttest: 1.7437418\tbest: 1.7437418 (700)\ttotal: 19.4s\tremaining: 11m 7s\n",
            "800:\tlearn: 1.7146754\ttest: 1.7434422\tbest: 1.7434422 (800)\ttotal: 22s\tremaining: 10m 58s\n",
            "900:\tlearn: 1.7109518\ttest: 1.7432279\tbest: 1.7432215 (898)\ttotal: 25s\tremaining: 11m 3s\n",
            "1000:\tlearn: 1.7074209\ttest: 1.7431316\tbest: 1.7431260 (987)\ttotal: 27.6s\tremaining: 10m 54s\n",
            "bestTest = 1.743125977\n",
            "bestIteration = 987\n",
            "Shrink model to first 988 iterations.\n",
            "0:\tlearn: 2.1837504\ttest: 2.1837957\tbest: 2.1837957 (0)\ttotal: 29.8ms\tremaining: 12m 18s\n",
            "100:\tlearn: 1.7840057\ttest: 1.7876023\tbest: 1.7876023 (100)\ttotal: 3.26s\tremaining: 13m 16s\n",
            "200:\tlearn: 1.7505754\ttest: 1.7581004\tbest: 1.7581004 (200)\ttotal: 6.05s\tremaining: 12m 19s\n",
            "300:\tlearn: 1.7395965\ttest: 1.7512646\tbest: 1.7512646 (300)\ttotal: 8.71s\tremaining: 11m 48s\n",
            "400:\tlearn: 1.7326342\ttest: 1.7483713\tbest: 1.7483713 (400)\ttotal: 11.5s\tremaining: 11m 39s\n",
            "500:\tlearn: 1.7271529\ttest: 1.7467092\tbest: 1.7467092 (500)\ttotal: 14.5s\tremaining: 11m 44s\n",
            "600:\tlearn: 1.7224307\ttest: 1.7458232\tbest: 1.7458232 (600)\ttotal: 17.2s\tremaining: 11m 31s\n",
            "700:\tlearn: 1.7181984\ttest: 1.7453189\tbest: 1.7453189 (700)\ttotal: 19.8s\tremaining: 11m 19s\n",
            "800:\tlearn: 1.7142896\ttest: 1.7449883\tbest: 1.7449770 (786)\ttotal: 22.5s\tremaining: 11m 12s\n",
            "900:\tlearn: 1.7105896\ttest: 1.7447982\tbest: 1.7447982 (900)\ttotal: 25.1s\tremaining: 11m 6s\n",
            "1000:\tlearn: 1.7070893\ttest: 1.7447352\tbest: 1.7447238 (965)\ttotal: 27.7s\tremaining: 10m 57s\n",
            "1100:\tlearn: 1.7036668\ttest: 1.7446994\tbest: 1.7446926 (1078)\ttotal: 30.5s\tremaining: 10m 56s\n",
            "1200:\tlearn: 1.7003881\ttest: 1.7446738\tbest: 1.7446381 (1146)\ttotal: 33.7s\tremaining: 11m 1s\n",
            "bestTest = 1.744638086\n",
            "bestIteration = 1146\n",
            "Shrink model to first 1147 iterations.\n",
            "0:\tlearn: 2.1821785\ttest: 2.1823191\tbest: 2.1823191 (0)\ttotal: 28.9ms\tremaining: 11m 56s\n",
            "100:\tlearn: 1.7832285\ttest: 1.7885943\tbest: 1.7885943 (100)\ttotal: 2.84s\tremaining: 11m 34s\n",
            "200:\tlearn: 1.7496496\ttest: 1.7600680\tbest: 1.7600680 (200)\ttotal: 5.56s\tremaining: 11m 19s\n",
            "300:\tlearn: 1.7385943\ttest: 1.7536381\tbest: 1.7536381 (300)\ttotal: 8.64s\tremaining: 11m 42s\n",
            "400:\tlearn: 1.7316148\ttest: 1.7509045\tbest: 1.7509045 (400)\ttotal: 11.3s\tremaining: 11m 26s\n",
            "500:\tlearn: 1.7261309\ttest: 1.7492916\tbest: 1.7492916 (500)\ttotal: 13.9s\tremaining: 11m 15s\n",
            "600:\tlearn: 1.7214316\ttest: 1.7483896\tbest: 1.7483896 (600)\ttotal: 16.5s\tremaining: 11m 4s\n",
            "700:\tlearn: 1.7172488\ttest: 1.7479121\tbest: 1.7479121 (700)\ttotal: 19.5s\tremaining: 11m 8s\n",
            "800:\tlearn: 1.7134346\ttest: 1.7475898\tbest: 1.7475898 (800)\ttotal: 22s\tremaining: 10m 59s\n",
            "900:\tlearn: 1.7097350\ttest: 1.7474479\tbest: 1.7474479 (900)\ttotal: 24.6s\tremaining: 10m 52s\n",
            "1000:\tlearn: 1.7062510\ttest: 1.7473396\tbest: 1.7473396 (1000)\ttotal: 28.6s\tremaining: 11m 18s\n",
            "1100:\tlearn: 1.7028281\ttest: 1.7473094\tbest: 1.7473012 (1090)\ttotal: 31.2s\tremaining: 11m 10s\n",
            "1200:\tlearn: 1.6995861\ttest: 1.7472758\tbest: 1.7472715 (1195)\ttotal: 33.8s\tremaining: 11m 2s\n",
            "1300:\tlearn: 1.6963316\ttest: 1.7473199\tbest: 1.7472633 (1238)\ttotal: 36.3s\tremaining: 10m 55s\n",
            "bestTest = 1.747263281\n",
            "bestIteration = 1238\n",
            "Shrink model to first 1239 iterations.\n",
            "0:\tlearn: 2.1835791\ttest: 2.1836227\tbest: 2.1836227 (0)\ttotal: 29.1ms\tremaining: 12m 1s\n",
            "100:\tlearn: 1.7837258\ttest: 1.7886961\tbest: 1.7886961 (100)\ttotal: 2.77s\tremaining: 11m 18s\n",
            "200:\tlearn: 1.7502559\ttest: 1.7594057\tbest: 1.7594057 (200)\ttotal: 5.46s\tremaining: 11m 7s\n",
            "300:\tlearn: 1.7392324\ttest: 1.7522719\tbest: 1.7522719 (300)\ttotal: 8.28s\tremaining: 11m 12s\n",
            "400:\tlearn: 1.7322672\ttest: 1.7492771\tbest: 1.7492771 (400)\ttotal: 11.3s\tremaining: 11m 25s\n",
            "500:\tlearn: 1.7267609\ttest: 1.7475676\tbest: 1.7475676 (500)\ttotal: 13.9s\tremaining: 11m 15s\n",
            "600:\tlearn: 1.7221066\ttest: 1.7467037\tbest: 1.7467037 (600)\ttotal: 16.6s\tremaining: 11m 6s\n",
            "700:\tlearn: 1.7179391\ttest: 1.7461564\tbest: 1.7461564 (700)\ttotal: 20.6s\tremaining: 11m 47s\n",
            "800:\tlearn: 1.7140129\ttest: 1.7458201\tbest: 1.7458148 (798)\ttotal: 23.2s\tremaining: 11m 35s\n",
            "900:\tlearn: 1.7103283\ttest: 1.7457193\tbest: 1.7457141 (866)\ttotal: 25.8s\tremaining: 11m 23s\n",
            "1000:\tlearn: 1.7068320\ttest: 1.7456264\tbest: 1.7456092 (996)\ttotal: 28.3s\tremaining: 11m 12s\n",
            "bestTest = 1.74560918\n",
            "bestIteration = 996\n",
            "Shrink model to first 997 iterations.\n"
          ],
          "name": "stdout"
        }
      ]
    },
    {
      "cell_type": "code",
      "metadata": {
        "id": "B63gQQb1_tCf"
      },
      "source": [
        "skf = StratifiedKFold(n_splits=5, shuffle=True, random_state=42)\n",
        "preds_cat = np.zeros((x_test.shape[0], y_train.nunique()))\n",
        "params_cat = {'iterations':study.best_params['iterations'],\n",
        "             'loss_function':'MultiClass',\n",
        "              'task_type':\"GPU\",\n",
        "              'eval_metric':'MultiClass',\n",
        "              'leaf_estimation_method':'Newton',\n",
        "              'bootstrap_type': 'Bernoulli',\n",
        "              'learning_rate' : study.best_params['learning_rate'],\n",
        "              'reg_lambda': study.best_params['reg_lambda'],\n",
        "              'subsample': study.best_params['subsample'],\n",
        "              'random_strength': study.best_params['random_strength'],\n",
        "              'depth': study.best_params['depth'],\n",
        "              'min_data_in_leaf': study.best_params['min_data_in_leaf'],\n",
        "              'leaf_estimation_iterations': study.best_params['leaf_estimation_iterations'],\n",
        "              'grow_policy' : 'Lossguide'\n",
        "               }\n",
        "\n",
        "for i, (train_index, valid_index) in enumerate(skf.split(x_train, y_train)):\n",
        "    X_train, X_valid = x_train.iloc[train_index], x_train.iloc[valid_index]\n",
        "    Y_train, Y_valid = y_train.iloc[train_index], y_train.iloc[valid_index]\n",
        "    \n",
        "    model = catboost.CatBoostClassifier(**params_cat)\n",
        "    model.fit(X_train, Y_train, verbose=100, early_stopping_rounds=70, eval_set=(X_valid, Y_valid))\n",
        "    preds_cat += model.predict_proba(x_test)/skf.n_splits"
      ],
      "execution_count": null,
      "outputs": []
    },
    {
      "cell_type": "code",
      "metadata": {
        "execution": {
          "iopub.status.busy": "2021-06-29T07:19:23.987417Z",
          "iopub.execute_input": "2021-06-29T07:19:23.987751Z",
          "iopub.status.idle": "2021-06-29T07:19:25.131372Z",
          "shell.execute_reply.started": "2021-06-29T07:19:23.98772Z",
          "shell.execute_reply": "2021-06-29T07:19:25.130412Z"
        },
        "trusted": true,
        "id": "SEiROckZ_tCg"
      },
      "source": [
        "fi = pd.Series(model.feature_importances_, index=x_train.columns).sort_values()\n",
        "fig = plt.figure(figsize=(8,14))\n",
        "sns.barplot(y=fi.index, x=fi)"
      ],
      "execution_count": null,
      "outputs": []
    },
    {
      "cell_type": "code",
      "metadata": {
        "id": "cRUXX1KiiSMZ",
        "execution": {
          "iopub.status.busy": "2021-06-28T08:32:12.896749Z",
          "iopub.execute_input": "2021-06-28T08:32:12.897105Z",
          "iopub.status.idle": "2021-06-28T09:28:29.333762Z",
          "shell.execute_reply.started": "2021-06-28T08:32:12.897073Z",
          "shell.execute_reply": "2021-06-28T09:28:29.333016Z"
        },
        "trusted": true
      },
      "source": [
        "X_train, X_valid, Y_train, Y_valid = train_test_split(x_train, y_train, test_size=0.2, shuffle=True)\n",
        "model.select_features(\n",
        "                X_train,\n",
        "                Y_train,\n",
        "                eval_set=(X_valid, Y_valid),\n",
        "                features_for_select=list(range(X_train.shape[1])),\n",
        "                num_features_to_select=100,\n",
        "                algorithm='RecursiveByShapValues',\n",
        "                steps=None,\n",
        "                shap_calc_type=None,\n",
        "                train_final_model=False,\n",
        "                verbose=None,\n",
        "                logging_level='Silent',\n",
        "                plot=True)"
      ],
      "execution_count": null,
      "outputs": []
    },
    {
      "cell_type": "code",
      "metadata": {
        "execution": {
          "iopub.status.busy": "2021-06-24T09:28:10.435992Z",
          "iopub.execute_input": "2021-06-24T09:28:10.436407Z",
          "iopub.status.idle": "2021-06-24T09:28:10.5431Z",
          "shell.execute_reply.started": "2021-06-24T09:28:10.436363Z",
          "shell.execute_reply": "2021-06-24T09:28:10.54227Z"
        },
        "id": "QlXot59qiSMa",
        "trusted": true
      },
      "source": [
        "from catboost.utils import get_gpu_device_count\n",
        "get_gpu_device_count()"
      ],
      "execution_count": null,
      "outputs": []
    },
    {
      "cell_type": "code",
      "metadata": {
        "execution": {
          "iopub.status.busy": "2021-06-29T07:39:14.283057Z",
          "iopub.execute_input": "2021-06-29T07:39:14.283414Z",
          "iopub.status.idle": "2021-06-29T07:39:14.294603Z",
          "shell.execute_reply.started": "2021-06-29T07:39:14.283384Z",
          "shell.execute_reply": "2021-06-29T07:39:14.293704Z"
        },
        "trusted": true,
        "id": "4QvZp3n9_tCg"
      },
      "source": [
        "def objective(trial,data=x_train,target=y_train):\n",
        "    \n",
        "    X_train, X_test, y_train, y_test = train_test_split(data, target, test_size=0.2,random_state=42)\n",
        "    params = {'n_estimators':trial.suggest_int(\"n_estimators\", 2000, 25000),\n",
        "              'tree_method':'gpu_hist',\n",
        "              'eval_metric':'mlogloss',\n",
        "              'gamma':trial.suggest_uniform('gamma', .2, .5),\n",
        "              'learning_rate' : trial.suggest_uniform('learning_rate',0.01,0.5),\n",
        "              'reg_lambda': trial.suggest_uniform('reg_lambda',1e-5,100),\n",
        "              'reg_alpha':trial.suggest_int('reg_alpha', 1, 5),\n",
        "              'subsample': trial.suggest_uniform('subsample',0,1),\n",
        "              'max_depth': trial.suggest_int('max_depth',1,15),\n",
        "              'objective':'multi:softprob',\n",
        "              'min_child_weight':trial.suggest_int('min_child_weight', 100, 200),\n",
        "              'colsample_bytree':trial.suggest_uniform('colsample_bytree',0.2, .4),\n",
        "              'colsample_bynode':trial.suggest_uniform('colsample_bynode', .2, .4),\n",
        "              'colsample_bylevel':trial.suggest_uniform('colsample_bylevel', .65, .75)\n",
        "               }\n",
        "    model = xgboost.XGBClassifier(**params)  \n",
        "    model.fit(X_train,y_train,eval_set=[(X_test,y_test)],early_stopping_rounds=100,verbose=False)\n",
        "        \n",
        "    y_preds = model.predict_proba(X_test)\n",
        "\n",
        "\n",
        "    log_loss_multi = log_loss(y_test, y_preds)\n",
        "    \n",
        "    return log_loss_multi"
      ],
      "execution_count": null,
      "outputs": []
    },
    {
      "cell_type": "code",
      "metadata": {
        "execution": {
          "iopub.status.busy": "2021-06-29T07:39:16.341977Z",
          "iopub.execute_input": "2021-06-29T07:39:16.342322Z",
          "iopub.status.idle": "2021-06-29T09:55:35.072803Z",
          "shell.execute_reply.started": "2021-06-29T07:39:16.34229Z",
          "shell.execute_reply": "2021-06-29T09:55:35.071509Z"
        },
        "trusted": true,
        "id": "4peFLe-c_tCg"
      },
      "source": [
        "OPTUNA_OPTIMIZATION = True\n",
        "\n",
        "study = optuna.create_study(direction='minimize')\n",
        "study.optimize(objective, n_trials=100)\n",
        "print('Number of finished trials:', len(study.trials))\n",
        "print('Best trial: score {}, params {}'.format(study.best_trial.value, study.best_trial.params))"
      ],
      "execution_count": null,
      "outputs": []
    },
    {
      "cell_type": "code",
      "metadata": {
        "id": "YR84dl-ZiSMa",
        "execution": {
          "iopub.status.busy": "2021-06-29T10:00:31.139533Z",
          "iopub.execute_input": "2021-06-29T10:00:31.139857Z",
          "iopub.status.idle": "2021-06-29T10:21:48.009342Z",
          "shell.execute_reply.started": "2021-06-29T10:00:31.139828Z",
          "shell.execute_reply": "2021-06-29T10:21:48.008547Z"
        },
        "trusted": true
      },
      "source": [
        "# xgboost ==> 너무 느림\n",
        "skf = StratifiedKFold(n_splits=5, shuffle=True, random_state=42)\n",
        "preds_xgb = np.zeros((len(x_test), y_train.nunique()))\n",
        "params_xgb = {\n",
        "    'n_estimators':study.best_params['n_estimators'],\n",
        "    'tree_method':'gpu_hist',\n",
        "    'eval_metric':'mlogloss',\n",
        "    'gamma':study.best_params['gamma'],\n",
        "    'learning_rate' : study.best_params['learning_rate'],\n",
        "    'reg_lambda': study.best_params['reg_lambda'],\n",
        "    'reg_alpha': study.best_params['reg_alpha'],\n",
        "    'subsample': study.best_params['subsample'],\n",
        "    'max_depth': study.best_params['max_depth'],\n",
        "    'objective':'multi:softprob',\n",
        "    'min_child_weight':study.best_params['min_child_weight'],\n",
        "    'colsample_bytree':study.best_params['colsample_bytree'],\n",
        "    'colsample_bynode':study.best_params['colsample_bynode'],\n",
        "    'colsample_bylevel':study.best_params['colsample_bylevel']\n",
        "}\n",
        "\n",
        "for i, (train_index, valid_index) in enumerate(skf.split(x_train, y_train)):\n",
        "  X_train, X_valid = x_train.iloc[train_index], x_train.iloc[valid_index]\n",
        "  Y_train, Y_valid = y_train.iloc[train_index], y_train.iloc[valid_index]\n",
        "\n",
        "  model_xgb = xgboost.XGBClassifier(**params_xgb)\n",
        "  model_xgb.fit(X_train, Y_train, eval_set=[(X_train, Y_train), (X_valid, Y_valid)], verbose=100, early_stopping_rounds=70, eval_metric='mlogloss')\n",
        "  preds_xgb += model_xgb.predict_proba(x_test)/skf.n_splits"
      ],
      "execution_count": null,
      "outputs": []
    },
    {
      "cell_type": "code",
      "metadata": {
        "id": "chpuvoVDiSMa",
        "execution": {
          "iopub.status.busy": "2021-06-30T12:55:04.162679Z",
          "iopub.execute_input": "2021-06-30T12:55:04.163013Z",
          "iopub.status.idle": "2021-06-30T12:55:04.275274Z",
          "shell.execute_reply.started": "2021-06-30T12:55:04.162983Z",
          "shell.execute_reply": "2021-06-30T12:55:04.274342Z"
        },
        "trusted": true
      },
      "source": [
        "submit = pd.read_csv('/kaggle/input/tabular-playground-series-jun-2021/sample_submission.csv')\n",
        "submit = submit.set_index('id')"
      ],
      "execution_count": null,
      "outputs": []
    },
    {
      "cell_type": "code",
      "metadata": {
        "execution": {
          "iopub.status.busy": "2021-06-29T10:23:29.53456Z",
          "iopub.execute_input": "2021-06-29T10:23:29.534885Z",
          "iopub.status.idle": "2021-06-29T10:23:29.541847Z",
          "shell.execute_reply.started": "2021-06-29T10:23:29.534855Z",
          "shell.execute_reply": "2021-06-29T10:23:29.540683Z"
        },
        "trusted": true,
        "id": "0Oeik6Pt_tCh"
      },
      "source": [
        "preds = (preds_cat + preds_xgb)/2 # ensemble"
      ],
      "execution_count": null,
      "outputs": []
    },
    {
      "cell_type": "code",
      "metadata": {
        "id": "hi5DVQvmiSMb",
        "execution": {
          "iopub.status.busy": "2021-06-30T12:55:05.550138Z",
          "iopub.execute_input": "2021-06-30T12:55:05.550529Z",
          "iopub.status.idle": "2021-06-30T12:55:05.561386Z",
          "shell.execute_reply.started": "2021-06-30T12:55:05.550499Z",
          "shell.execute_reply": "2021-06-30T12:55:05.560574Z"
        },
        "trusted": true
      },
      "source": [
        "for i in range(9):\n",
        "    submit.iloc[:,i] = preds_cat[:,i]"
      ],
      "execution_count": null,
      "outputs": []
    },
    {
      "cell_type": "code",
      "metadata": {
        "id": "XfsTPi5v_tCh"
      },
      "source": [
        "# xgb 오버피팅"
      ],
      "execution_count": null,
      "outputs": []
    },
    {
      "cell_type": "code",
      "metadata": {
        "id": "5XKaZoX9iSMb",
        "execution": {
          "iopub.status.busy": "2021-06-30T12:55:20.947614Z",
          "iopub.execute_input": "2021-06-30T12:55:20.947928Z",
          "iopub.status.idle": "2021-06-30T12:55:23.007912Z",
          "shell.execute_reply.started": "2021-06-30T12:55:20.947900Z",
          "shell.execute_reply": "2021-06-30T12:55:23.006792Z"
        },
        "trusted": true
      },
      "source": [
        "submit.to_csv('submit27.csv')"
      ],
      "execution_count": null,
      "outputs": []
    },
    {
      "cell_type": "markdown",
      "metadata": {
        "id": "jQfdhRo8iSMb"
      },
      "source": [
        "# NN 파이토치 필사본"
      ]
    },
    {
      "cell_type": "code",
      "metadata": {
        "execution": {
          "iopub.status.busy": "2021-06-25T08:26:43.838662Z",
          "iopub.execute_input": "2021-06-25T08:26:43.83899Z",
          "iopub.status.idle": "2021-06-25T08:26:45.073899Z",
          "shell.execute_reply.started": "2021-06-25T08:26:43.838952Z",
          "shell.execute_reply": "2021-06-25T08:26:45.07303Z"
        },
        "id": "rZDBNrpYiSMb",
        "trusted": true
      },
      "source": [
        "import os\n",
        "import sys\n",
        "import datetime\n",
        "\n",
        "import numpy as np\n",
        "import pandas as pd\n",
        "from sklearn.preprocessing import LabelEncoder, StandardScaler\n",
        "from sklearn.model_selection import StratifiedShuffleSplit\n",
        "\n",
        "import torch\n",
        "import torch.nn as nn\n",
        "import torch.nn.functional as F\n",
        "import torch.optim as optim\n",
        "from torch.utils.data import DataLoader, TensorDataset\n",
        "\n",
        "import optuna\n",
        "from optuna.trial import TrialState"
      ],
      "execution_count": null,
      "outputs": []
    },
    {
      "cell_type": "code",
      "metadata": {
        "id": "wzDu2rL1_tCh"
      },
      "source": [
        ""
      ],
      "execution_count": null,
      "outputs": []
    },
    {
      "cell_type": "code",
      "metadata": {
        "execution": {
          "iopub.status.busy": "2021-06-25T08:26:47.836815Z",
          "iopub.execute_input": "2021-06-25T08:26:47.837114Z",
          "iopub.status.idle": "2021-06-25T08:26:51.224489Z",
          "shell.execute_reply.started": "2021-06-25T08:26:47.837084Z",
          "shell.execute_reply": "2021-06-25T08:26:51.223634Z"
        },
        "id": "EGgH7S01iSMc",
        "trusted": true
      },
      "source": [
        "sss = StratifiedShuffleSplit(n_splits=5, test_size=0.3, random_state=42)\n",
        "\n",
        "for train_index, val_index in sss.split(x_train, y_train):\n",
        "    print(f'train size:{len(train_index)}')\n",
        "    print(f'val size:{len(val_index)}')\n",
        "    X_train, X_val = x_train.iloc[train_index], x_train.iloc[val_index]\n",
        "    Y_train, Y_val = y_train.iloc[train_index], y_train.iloc[val_index]"
      ],
      "execution_count": null,
      "outputs": []
    },
    {
      "cell_type": "markdown",
      "metadata": {
        "id": "NU8CqqmxiSMc"
      },
      "source": [
        "# Optuna"
      ]
    },
    {
      "cell_type": "code",
      "metadata": {
        "execution": {
          "iopub.status.busy": "2021-06-25T05:43:54.742869Z",
          "iopub.execute_input": "2021-06-25T05:43:54.743191Z",
          "iopub.status.idle": "2021-06-25T05:44:01.91469Z",
          "shell.execute_reply.started": "2021-06-25T05:43:54.743159Z",
          "shell.execute_reply": "2021-06-25T05:44:01.913558Z"
        },
        "id": "AaVNfC-PiSMc",
        "trusted": true
      },
      "source": [
        "pip install optuna"
      ],
      "execution_count": null,
      "outputs": []
    },
    {
      "cell_type": "code",
      "metadata": {
        "execution": {
          "iopub.status.busy": "2021-06-25T08:30:25.731968Z",
          "iopub.execute_input": "2021-06-25T08:30:25.732338Z",
          "iopub.status.idle": "2021-06-25T08:30:33.486396Z",
          "shell.execute_reply.started": "2021-06-25T08:30:25.732305Z",
          "shell.execute_reply": "2021-06-25T08:30:33.485462Z"
        },
        "id": "PJLs2Jh8iSMc",
        "trusted": true
      },
      "source": [
        "pip install skorch"
      ],
      "execution_count": null,
      "outputs": []
    },
    {
      "cell_type": "code",
      "metadata": {
        "execution": {
          "iopub.status.busy": "2021-06-25T09:21:25.748668Z",
          "iopub.execute_input": "2021-06-25T09:21:25.748984Z",
          "iopub.status.idle": "2021-06-25T09:21:25.755887Z",
          "shell.execute_reply.started": "2021-06-25T09:21:25.748953Z",
          "shell.execute_reply": "2021-06-25T09:21:25.754986Z"
        },
        "id": "Gtko9e0DiSMc",
        "trusted": true
      },
      "source": [
        "import optuna\n",
        "from torch.optim.lr_scheduler import ReduceLROnPlateau"
      ],
      "execution_count": null,
      "outputs": []
    },
    {
      "cell_type": "code",
      "metadata": {
        "execution": {
          "iopub.status.busy": "2021-06-25T09:32:41.344027Z",
          "iopub.execute_input": "2021-06-25T09:32:41.344391Z",
          "iopub.status.idle": "2021-06-25T09:32:41.363043Z",
          "shell.execute_reply.started": "2021-06-25T09:32:41.344356Z",
          "shell.execute_reply": "2021-06-25T09:32:41.362172Z"
        },
        "id": "och8ZbIIiSMd",
        "trusted": true
      },
      "source": [
        "CLASSES = y_train.nunique()\n",
        "NUM_FEATURES = x_train.shape[1]\n",
        "DEVICE = torch.device(\"cpu\" if not torch.cuda.is_available() else \"cuda\")\n",
        "\n",
        "BATCHSIZE = 1000\n",
        "EPOCHS = 10\n",
        "N_TRAIN_EXAMPLES = BATCHSIZE * 14\n",
        "N_VALID_EXAMPLES = BATCHSIZE * 6\n",
        "\n",
        "criterion = nn.CrossEntropyLoss()\n",
        "\n",
        "def define_model(trial):\n",
        "    # We optimize the number of layers, hidden units and dropout ratio in each layer.\n",
        "    n_layers = trial.suggest_int(\"n_layers\", 1, 10)\n",
        "    layers = []\n",
        "\n",
        "    in_features = NUM_FEATURES\n",
        "    for i in range(n_layers):\n",
        "        out_features = trial.suggest_int(\"n_units_l{}\".format(i), y_train.nunique(), 1024)\n",
        "        layers.append(nn.Linear(in_features, out_features, bias=False))\n",
        "        layers.append(nn.ReLU(inplace=True))\n",
        "        p = trial.suggest_float(\"dropout_l{}\".format(i), 0.1, 0.5)\n",
        "        layers.append(nn.Dropout(p))\n",
        "        layers.append(nn.BatchNorm1d(out_features))\n",
        "\n",
        "        in_features = out_features\n",
        "        \n",
        "    layers.append(nn.Linear(in_features, CLASSES))\n",
        "\n",
        "    return nn.Sequential(*layers)\n",
        "\n",
        "def get_data(X_train, y_train, X_val, y_val):\n",
        "    train = TensorDataset(torch.Tensor(np.array(X_train)), torch.Tensor(np.array(y_train)))\n",
        "    train_loader = DataLoader(train, batch_size = 1000, shuffle = True, num_workers=4)\n",
        "\n",
        "    val = TensorDataset(torch.Tensor(np.array(X_val)), torch.Tensor(np.array(y_val)))\n",
        "    val_loader = DataLoader(val, batch_size = 1000, shuffle = True, num_workers=4)\n",
        "\n",
        "    return train_loader, val_loader\n",
        "\n",
        "def objective(trial):\n",
        "    model = define_model(trial).to(DEVICE)\n",
        "    optimizer_name = trial.suggest_categorical(\"optimizer\", [\"Adam\", 'AdamW', \"RMSprop\", \"SGD\"])\n",
        "    lr = trial.suggest_float(\"lr\", 0.001, 0.5)\n",
        "    optimizer = getattr(optim, optimizer_name)(model.parameters(), lr=lr, weight_decay)\n",
        "    lr_scheduler = optim.lr_scheduler.ReduceLROnPlateau(optimizer)\n",
        "    train_loader, valid_loader = get_data(X_train, Y_train, X_val, Y_val)\n",
        "    \n",
        "    for epoch in range(EPOCHS):\n",
        "        model.train()\n",
        "        for batch_idx, (data, target) in enumerate(train_loader):\n",
        "            data, target = data.view(data.size(0), -1).to(DEVICE), target.to(DEVICE)\n",
        "\n",
        "            optimizer.zero_grad()\n",
        "            output = model(data)\n",
        "            \n",
        "            loss = criterion(output, target.long())\n",
        "            loss.backward()\n",
        "            optimizer.step()\n",
        "            lr_scheduler.step(epoch + batch_idx / len(train_loader))\n",
        "\n",
        "        # Validation of the model.\n",
        "        model.eval()\n",
        "        val_loss = []\n",
        "        with torch.no_grad():\n",
        "            for batch_idx, (data, target) in enumerate(valid_loader):\n",
        "                data, target = data.view(data.size(0), -1).to(DEVICE), target.to(DEVICE)\n",
        "                output = model(data)\n",
        "                \n",
        "                loss = criterion(output, target.long())\n",
        "                val_loss.append(loss.item())\n",
        "        \n",
        "        avg_val_loss = np.mean(val_loss)\n",
        "\n",
        "        trial.report(avg_val_loss, epoch)\n",
        "\n",
        "        # Handle pruning based on the intermediate value.\n",
        "        if trial.should_prune():\n",
        "            raise optuna.exceptions.TrialPruned()\n",
        "    \n",
        "    return avg_val_loss"
      ],
      "execution_count": null,
      "outputs": []
    },
    {
      "cell_type": "code",
      "metadata": {
        "execution": {
          "iopub.status.busy": "2021-06-25T09:32:43.889997Z",
          "iopub.execute_input": "2021-06-25T09:32:43.890361Z",
          "iopub.status.idle": "2021-06-25T09:37:40.667259Z",
          "shell.execute_reply.started": "2021-06-25T09:32:43.890326Z",
          "shell.execute_reply": "2021-06-25T09:37:40.664742Z"
        },
        "id": "HcP5-oTkiSMd",
        "trusted": true
      },
      "source": [
        "study = optuna.create_study(direction='minimize')\n",
        "study.optimize(objective, n_trials=100)"
      ],
      "execution_count": null,
      "outputs": []
    },
    {
      "cell_type": "code",
      "metadata": {
        "execution": {
          "iopub.status.busy": "2021-06-25T09:09:42.033776Z",
          "iopub.execute_input": "2021-06-25T09:09:42.034084Z",
          "iopub.status.idle": "2021-06-25T09:09:42.063228Z",
          "shell.execute_reply.started": "2021-06-25T09:09:42.034052Z",
          "shell.execute_reply": "2021-06-25T09:09:42.062458Z"
        },
        "id": "nFyLcBN_iSMd",
        "trusted": true
      },
      "source": [
        "pruned_trials = study.get_trials(deepcopy=False, states=[TrialState.PRUNED])\n",
        "complete_trials = study.get_trials(deepcopy=False, states=[TrialState.COMPLETE])\n",
        "\n",
        "print('Study statistics:')\n",
        "print(' Number of finished trials:', len(study.trials))\n",
        "print(' Number of pruned trials:', len(pruned_trials))\n",
        "print(' Number of complete trials:', len(complete_trials))\n",
        "\n",
        "print('Best trial:')\n",
        "trial = study.best_trial\n",
        "\n",
        "print(' Value:', trial.value)\n",
        "print(' Params:')\n",
        "for key, value in trial.params.items():\n",
        "    print(f'{key}:{value}')"
      ],
      "execution_count": null,
      "outputs": []
    },
    {
      "cell_type": "code",
      "metadata": {
        "execution": {
          "iopub.status.busy": "2021-06-25T09:09:49.325419Z",
          "iopub.execute_input": "2021-06-25T09:09:49.325751Z",
          "iopub.status.idle": "2021-06-25T09:09:49.486748Z",
          "shell.execute_reply.started": "2021-06-25T09:09:49.32572Z",
          "shell.execute_reply": "2021-06-25T09:09:49.486022Z"
        },
        "id": "xeOlGr2uiSMe",
        "trusted": true
      },
      "source": [
        "optuna.visualization.plot_intermediate_values(study).show()"
      ],
      "execution_count": null,
      "outputs": []
    },
    {
      "cell_type": "markdown",
      "metadata": {
        "id": "iYpi61o6iSMe"
      },
      "source": [
        "# 최적화된 파라미터를 가지고 모델링"
      ]
    },
    {
      "cell_type": "code",
      "metadata": {
        "execution": {
          "iopub.status.busy": "2021-06-25T09:09:55.072421Z",
          "iopub.execute_input": "2021-06-25T09:09:55.072739Z",
          "iopub.status.idle": "2021-06-25T09:09:55.081213Z",
          "shell.execute_reply.started": "2021-06-25T09:09:55.072706Z",
          "shell.execute_reply": "2021-06-25T09:09:55.080056Z"
        },
        "id": "XYk-k2URiSMe",
        "trusted": true
      },
      "source": [
        "class classification_model(nn.Module):\n",
        "    def __init__(self, n_in, n_out, layers, p=None):\n",
        "        super(classification_model, self).__init__()\n",
        "        \n",
        "        all_layers=[]\n",
        "        self.n_in = n_in\n",
        "        self.n_out = n_out\n",
        "        \n",
        "        for i in range(len(layers)):\n",
        "            all_layers.append(nn.Linear(self.n_in, layers[i], bias=False))\n",
        "            all_layers.append(nn.ReLU(inplace=True))\n",
        "            if p:\n",
        "                all_layers.append(nn.Dropout(p[i]))\n",
        "            all_layers.append(nn.BatchNorm1d(layers[i]))\n",
        "            \n",
        "            self.n_in = layers[i]\n",
        "            \n",
        "        all_layers.append(nn.Linear(layers[-1], self.n_out))\n",
        "        \n",
        "        self.layers=nn.Sequential(*all_layers)\n",
        "        \n",
        "    def forward(self, x):\n",
        "        x = self.layers(x)\n",
        "        return x\n",
        "    \n",
        "    net_name='classification_model'"
      ],
      "execution_count": null,
      "outputs": []
    },
    {
      "cell_type": "code",
      "metadata": {
        "execution": {
          "iopub.status.busy": "2021-06-25T09:09:57.309808Z",
          "iopub.execute_input": "2021-06-25T09:09:57.310161Z",
          "iopub.status.idle": "2021-06-25T09:09:58.426772Z",
          "shell.execute_reply.started": "2021-06-25T09:09:57.310114Z",
          "shell.execute_reply": "2021-06-25T09:09:58.425892Z"
        },
        "id": "Lal2DcApiSMe",
        "trusted": true
      },
      "source": [
        "batch_size = 1000\n",
        "\n",
        "sss = StratifiedShuffleSplit(n_splits=1, test_size=0.3, random_state=0)\n",
        "\n",
        "for train_index, val_index in sss.split(x_train, y_train):    \n",
        "    print(\"TRAIN:\\t\", train_index, \"Size:\\t\", len(train_index))\n",
        "    print(\"VAL:\\t\", val_index, \"Size:\\t\", len(val_index))\n",
        "    X_train, X_val = x_train.iloc[train_index], x_train.iloc[val_index]\n",
        "    Y_train, Y_val = y_train.iloc[train_index], y_train.iloc[val_index]\n",
        "\n",
        "train = TensorDataset(torch.Tensor(np.array(X_train)), torch.Tensor(np.array(Y_train)))\n",
        "train_loader = DataLoader(train, batch_size = batch_size, shuffle = True)\n",
        "\n",
        "val = TensorDataset(torch.Tensor(np.array(X_val)), torch.Tensor(np.array(Y_val)))\n",
        "val_loader = DataLoader(val, batch_size = batch_size, shuffle = True)\n",
        "\n",
        "phases = [\"train\", \"val\"]\n",
        "loaders = {\"train\": train_loader, \"val\": val_loader}"
      ],
      "execution_count": null,
      "outputs": []
    },
    {
      "cell_type": "code",
      "metadata": {
        "execution": {
          "iopub.status.busy": "2021-06-25T09:09:59.144827Z",
          "iopub.execute_input": "2021-06-25T09:09:59.145158Z",
          "iopub.status.idle": "2021-06-25T09:09:59.168884Z",
          "shell.execute_reply.started": "2021-06-25T09:09:59.145113Z",
          "shell.execute_reply": "2021-06-25T09:09:59.167904Z"
        },
        "id": "BIaK-2h9iSMe",
        "trusted": true
      },
      "source": [
        "\"\"\"\n",
        "Best trial:\n",
        " Value: 1.7687533100446065\n",
        " Params:\n",
        "n_layers:1\n",
        "n_units_l0:880\n",
        "dropout_l0:0.2116281048320166\n",
        "optimizer:RMSprop\n",
        "lr:0.0009784821223970022\n",
        "\"\"\"\n",
        "\n",
        "layers_=[]\n",
        "dropout_=[]\n",
        "l_rate=trial.params['lr']\n",
        "\n",
        "for i in range(trial.params['n_layers']):\n",
        "    layers_.append(trial.params[f'n_units_l{i}'])\n",
        "    dropout_.append(trial.params[f'dropout_l{i}'])\n",
        "    \n",
        "device = torch.device('cpu' if not torch.cuda.is_available() else 'cuda')\n",
        "\n",
        "model = classification_model(x_train.shape[1], y_train.nunique(), layers_, p=dropout_)\n",
        "model.to(device)\n",
        "\n",
        "criterion = nn.CrossEntropyLoss()\n",
        "if trial.params['optimizer'] == 'RMSprop':\n",
        "    optimizer = optim.RMSprop(model.parameters(), lr=l_rate)\n",
        "elif trial.params['optimizer'] == 'Adam':\n",
        "    optimizer = optim.Adam(model.parameters(), lr=l_rate)\n",
        "elif trial.params['optimizer'] == 'SGD':\n",
        "    optimizer = optim.SGD(model.parameters(), lr=l_rate)\n",
        "    \n",
        "print(device)\n",
        "print(model)"
      ],
      "execution_count": null,
      "outputs": []
    },
    {
      "cell_type": "code",
      "metadata": {
        "execution": {
          "iopub.status.busy": "2021-06-25T09:15:20.524229Z",
          "iopub.execute_input": "2021-06-25T09:15:20.524548Z",
          "iopub.status.idle": "2021-06-25T09:18:47.137438Z",
          "shell.execute_reply.started": "2021-06-25T09:15:20.524518Z",
          "shell.execute_reply": "2021-06-25T09:18:47.135734Z"
        },
        "id": "DDxUNUO7iSMf",
        "trusted": true
      },
      "source": [
        "loss_train=[]\n",
        "loss_valid=[]\n",
        "best_validation_loss = 1000\n",
        "best_epoch=1\n",
        "correct=0\n",
        "total=0\n",
        "\n",
        "n_epochs=50\n",
        "\n",
        "now = datetime.datetime.now()\n",
        "weights_path = \"./output/{:%Y%m%dT%H%M}\".format(now)\n",
        "os.makedirs(weights_path, exist_ok=True)\n",
        "\n",
        "lr_scheduler = optim.lr_scheduler.ReduceLROnPlateau(optimizer)\n",
        "break_st = False\n",
        "\n",
        "for epoch in range(1, n_epochs+1):\n",
        "    \n",
        "    for phase in phases:\n",
        "        if phase == 'train':\n",
        "            model.train()\n",
        "        elif phase == 'val':\n",
        "            model.eval()\n",
        "        \n",
        "        for _, data in enumerate(loaders[phase], 0):\n",
        "            features, y_true = data[0], data[1]\n",
        "            features = features.to(device, dtype=torch.float)\n",
        "            y_true = y_true.to(device, dtype=torch.float)\n",
        "            \n",
        "            optimizer.zero_grad()\n",
        "            \n",
        "            with torch.set_grad_enabled(phase=='train'):\n",
        "                y_pred = model(features)\n",
        "                \n",
        "                sm = nn.Softmax(dim=1)  # predict_proba\n",
        "                pred_percentage = sm(y_pred)\n",
        "                \n",
        "                if break_st:\n",
        "                    break\n",
        "                    \n",
        "                y_true = y_true.long()\n",
        "                \n",
        "                _, preds = torch.max(pred_percentage, 1)\n",
        "                total += y_true.size(0)\n",
        "                correct += (preds == y_true).sum().item()\n",
        "                \n",
        "                loss = criterion(y_pred, y_true)\n",
        "                \n",
        "                if phase == 'val':\n",
        "                    loss_valid.append(loss.item())\n",
        "                    \n",
        "                if phase == 'train':\n",
        "                    loss_train.append(loss.item())\n",
        "                    loss.backward()\n",
        "                    \n",
        "                    optimizer.step()\n",
        "                    lr_scheduler.step(epoch / len(train_loader))\n",
        "        if break_st:\n",
        "            break\n",
        "        if phase == 'train':\n",
        "            mean_train_loss = np.mean(loss_train)\n",
        "            acc_train = 100*correct/total\n",
        "            loss_train = []\n",
        "            correct = 0\n",
        "        \n",
        "        if phase == 'val':\n",
        "            validation_loss = np.mean(loss_valid)\n",
        "            acc_valid = 100*correct/total\n",
        "            loss_valid = []\n",
        "            correct = 0\n",
        "            total = 0\n",
        "                \n",
        "    if break_st:\n",
        "        break\n",
        "    if validation_loss < best_validation_loss:\n",
        "        print('saving weights...')\n",
        "        best_epoch = epoch\n",
        "        best_validation_loss = validation_loss\n",
        "        torch.save(model.state_dict(),\n",
        "                   os.path.join(weights_path, 'model.pt'),)\n",
        "            \n",
        "    print(f'Epoch={epoch}/{n_epochs}\\tloss={mean_train_loss:.4f}\\tval_loss={validation_loss:.4f}\\tacc={acc_train:.4f}\\tval_acc={acc_valid:.4f}')\n",
        "                \n"
      ],
      "execution_count": null,
      "outputs": []
    },
    {
      "cell_type": "code",
      "metadata": {
        "execution": {
          "iopub.status.busy": "2021-06-25T09:19:00.200079Z",
          "iopub.execute_input": "2021-06-25T09:19:00.200506Z",
          "iopub.status.idle": "2021-06-25T09:19:00.404882Z",
          "shell.execute_reply.started": "2021-06-25T09:19:00.20047Z",
          "shell.execute_reply": "2021-06-25T09:19:00.404061Z"
        },
        "id": "QknfcuyJiSMf",
        "trusted": true
      },
      "source": [
        "test = TensorDataset(torch.Tensor(np.array(x_test)))\n",
        "test_loader = DataLoader(test, batch_size=100000, shuffle=False)"
      ],
      "execution_count": null,
      "outputs": []
    },
    {
      "cell_type": "code",
      "metadata": {
        "execution": {
          "iopub.status.busy": "2021-06-25T09:19:06.92089Z",
          "iopub.execute_input": "2021-06-25T09:19:06.92124Z",
          "iopub.status.idle": "2021-06-25T09:19:08.11426Z",
          "shell.execute_reply.started": "2021-06-25T09:19:06.921206Z",
          "shell.execute_reply": "2021-06-25T09:19:08.113276Z"
        },
        "id": "pmX-1cmFiSMg",
        "trusted": true
      },
      "source": [
        "if not weights_path:\n",
        "    print('Choose weights path')\n",
        "    sys.exit()\n",
        "\n",
        "device = torch.device('cpu' if not torch.cuda.is_available() else 'cuda')\n",
        "\n",
        "model_name = weights_path + '/model.pt'\n",
        "print(model_name)\n",
        "state_dict = torch.load(model_name, map_location=device)\n",
        "model.load_state_dict(state_dict)\n",
        "model.eval()\n",
        "\n",
        "for _, data in enumerate(test_loader, 0):\n",
        "    features = data[0]\n",
        "    print(features.size())\n",
        "    features = features.to(device, dtype=torch.float)\n",
        "    \n",
        "    with torch.set_grad_enabled(False):\n",
        "        y_pred = model(features)\n",
        "        \n",
        "        sm = nn.Softmax(dim=1)\n",
        "        pred_percentage = sm(y_pred)\n",
        "        \n",
        "        print(pred_percentage.size())\n",
        "\n",
        "print(pred_percentage.detach().cpu().numpy())\n",
        "print('Done!')"
      ],
      "execution_count": null,
      "outputs": []
    },
    {
      "cell_type": "code",
      "metadata": {
        "execution": {
          "iopub.status.busy": "2021-06-25T09:19:35.312466Z",
          "iopub.execute_input": "2021-06-25T09:19:35.312825Z",
          "iopub.status.idle": "2021-06-25T09:19:35.638986Z",
          "shell.execute_reply.started": "2021-06-25T09:19:35.312792Z",
          "shell.execute_reply": "2021-06-25T09:19:35.63775Z"
        },
        "id": "v8f3L9bXiSMg",
        "trusted": true
      },
      "source": [
        "submit = pd.read_csv('../input/tabular-playground-series-jun-2021/sample_submission.csv')\n",
        "pred_array = pred_percentage.detach().cpu().numpy()\n",
        "submit.loc[:, 'Class_1':'Class_9'] = pred_array\n",
        "submit = submit.set_index('id')\n",
        "submit.head()"
      ],
      "execution_count": null,
      "outputs": []
    },
    {
      "cell_type": "code",
      "metadata": {
        "execution": {
          "iopub.status.busy": "2021-06-25T09:19:40.379495Z",
          "iopub.execute_input": "2021-06-25T09:19:40.379824Z",
          "iopub.status.idle": "2021-06-25T09:19:42.283463Z",
          "shell.execute_reply.started": "2021-06-25T09:19:40.379792Z",
          "shell.execute_reply": "2021-06-25T09:19:42.282602Z"
        },
        "id": "1yTESnbdiSMg",
        "trusted": true
      },
      "source": [
        "submit.to_csv('./output/submission10.csv')"
      ],
      "execution_count": null,
      "outputs": []
    },
    {
      "cell_type": "markdown",
      "metadata": {
        "id": "PnmvfKFIiSMg"
      },
      "source": [
        "# NN모델을 써야 점수가 올라간다. \n",
        "# Pytorch NN모델을 생성하고 제출하자\n",
        "# feature_select할게 더 있나? 체크"
      ]
    }
  ]
}