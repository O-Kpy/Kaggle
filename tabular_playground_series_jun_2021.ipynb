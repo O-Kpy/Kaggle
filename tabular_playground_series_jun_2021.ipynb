{
  "nbformat": 4,
  "nbformat_minor": 0,
  "metadata": {
    "kernelspec": {
      "language": "python",
      "display_name": "Python 3",
      "name": "python3"
    },
    "language_info": {
      "name": "python",
      "version": "3.7.10",
      "mimetype": "text/x-python",
      "codemirror_mode": {
        "name": "ipython",
        "version": 3
      },
      "pygments_lexer": "ipython3",
      "nbconvert_exporter": "python",
      "file_extension": ".py"
    },
    "colab": {
      "name": "tabular-playground-series-jun-2021.ipynb",
      "provenance": [],
      "include_colab_link": true
    }
  },
  "cells": [
    {
      "cell_type": "markdown",
      "metadata": {
        "id": "view-in-github",
        "colab_type": "text"
      },
      "source": [
        "<a href=\"https://colab.research.google.com/github/O-Kpy/Kaggle/blob/main/tabular_playground_series_jun_2021.ipynb\" target=\"_parent\"><img src=\"https://colab.research.google.com/assets/colab-badge.svg\" alt=\"Open In Colab\"/></a>"
      ]
    },
    {
      "cell_type": "code",
      "metadata": {
        "_uuid": "8f2839f25d086af736a60e9eeb907d3b93b6e0e5",
        "_cell_guid": "b1076dfc-b9ad-4769-8c92-a6c4dae69d19",
        "execution": {
          "iopub.status.busy": "2021-06-22T09:46:21.265002Z",
          "iopub.execute_input": "2021-06-22T09:46:21.265556Z",
          "iopub.status.idle": "2021-06-22T09:46:21.273591Z",
          "shell.execute_reply.started": "2021-06-22T09:46:21.265472Z",
          "shell.execute_reply": "2021-06-22T09:46:21.272438Z"
        },
        "id": "aL0_JsAIiSMQ",
        "trusted": true
      },
      "source": [
        "# This Python 3 environment comes with many helpful analytics libraries installed\n",
        "# It is defined by the kaggle/python Docker image: https://github.com/kaggle/docker-python\n",
        "# For example, here's several helpful packages to load\n",
        "\n",
        "import numpy as np # linear algebra\n",
        "import pandas as pd # data processing, CSV file I/O (e.g. pd.read_csv)\n",
        "\n",
        "# Input data files are available in the read-only \"../input/\" directory\n",
        "# For example, running this (by clicking run or pressing Shift+Enter) will list all files under the input directory\n",
        "\n",
        "import os\n",
        "for dirname, _, filenames in os.walk('/kaggle/input'):\n",
        "    for filename in filenames:\n",
        "        print(os.path.join(dirname, filename))\n",
        "\n",
        "# You can write up to 20GB to the current directory (/kaggle/working/) that gets preserved as output when you create a version using \"Save & Run All\" \n",
        "# You can also write temporary files to /kaggle/temp/, but they won't be saved outside of the current session"
      ],
      "execution_count": null,
      "outputs": []
    },
    {
      "cell_type": "code",
      "metadata": {
        "id": "_uwPlXMNiSMT",
        "execution": {
          "iopub.status.busy": "2021-06-26T08:03:59.166031Z",
          "iopub.execute_input": "2021-06-26T08:03:59.166352Z",
          "iopub.status.idle": "2021-06-26T08:03:59.841887Z",
          "shell.execute_reply.started": "2021-06-26T08:03:59.166323Z",
          "shell.execute_reply": "2021-06-26T08:03:59.841005Z"
        },
        "trusted": true
      },
      "source": [
        "import pandas as pd\n",
        "import numpy as np\n",
        "import matplotlib.pyplot as plt\n",
        "%matplotlib inline\n",
        "import seaborn as sns\n",
        "import warnings\n",
        "warnings.filterwarnings('ignore')\n",
        "from scipy.stats import skew"
      ],
      "execution_count": null,
      "outputs": []
    },
    {
      "cell_type": "code",
      "metadata": {
        "id": "RF14-5-riSMT",
        "execution": {
          "iopub.status.busy": "2021-06-26T09:41:17.956666Z",
          "iopub.execute_input": "2021-06-26T09:41:17.957010Z",
          "iopub.status.idle": "2021-06-26T09:41:18.974602Z",
          "shell.execute_reply.started": "2021-06-26T09:41:17.956977Z",
          "shell.execute_reply": "2021-06-26T09:41:18.973599Z"
        },
        "trusted": true,
        "outputId": "231a45c5-33ad-4e3d-9bee-f302c07f1b42"
      },
      "source": [
        "submit = pd.read_csv('/kaggle/input/tabular-playground-series-jun-2021/sample_submission.csv')\n",
        "test = pd.read_csv('/kaggle/input/tabular-playground-series-jun-2021/test.csv')\n",
        "train = pd.read_csv('/kaggle/input/tabular-playground-series-jun-2021/train.csv')\n",
        "train.shape, test.shape, submit.shape"
      ],
      "execution_count": null,
      "outputs": [
        {
          "output_type": "execute_result",
          "data": {
            "text/plain": [
              "((200000, 77), (100000, 76), (100000, 10))"
            ]
          },
          "metadata": {
            "tags": []
          },
          "execution_count": 41
        }
      ]
    },
    {
      "cell_type": "code",
      "metadata": {
        "id": "HqiiL1S0iSMU",
        "trusted": true
      },
      "source": [
        "train.target.value_counts().sort_index(ascending=False).plot.bar()"
      ],
      "execution_count": null,
      "outputs": []
    },
    {
      "cell_type": "code",
      "metadata": {
        "execution": {
          "iopub.status.busy": "2021-06-25T08:06:33.436826Z",
          "iopub.execute_input": "2021-06-25T08:06:33.437136Z",
          "iopub.status.idle": "2021-06-25T08:06:33.509696Z",
          "shell.execute_reply.started": "2021-06-25T08:06:33.437106Z",
          "shell.execute_reply": "2021-06-25T08:06:33.508823Z"
        },
        "id": "1Ye43NSIiSMU",
        "trusted": true
      },
      "source": [
        "data=pd.concat([train, test], axis=0)"
      ],
      "execution_count": null,
      "outputs": []
    },
    {
      "cell_type": "code",
      "metadata": {
        "execution": {
          "iopub.status.busy": "2021-06-22T09:50:56.276885Z",
          "iopub.execute_input": "2021-06-22T09:50:56.27729Z",
          "iopub.status.idle": "2021-06-22T09:50:56.346698Z",
          "shell.execute_reply.started": "2021-06-22T09:50:56.277254Z",
          "shell.execute_reply": "2021-06-22T09:50:56.345543Z"
        },
        "id": "cX3u_xGEiSMV",
        "trusted": true
      },
      "source": [
        "data.isnull().sum().sort_values(ascending=False)\n",
        "# Null값 없고"
      ],
      "execution_count": null,
      "outputs": []
    },
    {
      "cell_type": "code",
      "metadata": {
        "execution": {
          "iopub.status.busy": "2021-06-24T09:46:50.87375Z",
          "iopub.execute_input": "2021-06-24T09:46:50.874059Z",
          "iopub.status.idle": "2021-06-24T09:46:51.195296Z",
          "shell.execute_reply.started": "2021-06-24T09:46:50.87403Z",
          "shell.execute_reply": "2021-06-24T09:46:51.194113Z"
        },
        "id": "DrxnmgjNiSMV",
        "trusted": true
      },
      "source": [
        "data.skew().sort_values(ascending=False)\n",
        "# 스케일링 해야하고"
      ],
      "execution_count": null,
      "outputs": []
    },
    {
      "cell_type": "code",
      "metadata": {
        "id": "1tw57ucZiSMV",
        "execution": {
          "iopub.status.busy": "2021-06-26T09:22:38.633398Z",
          "iopub.execute_input": "2021-06-26T09:22:38.633717Z",
          "iopub.status.idle": "2021-06-26T09:22:41.127745Z",
          "shell.execute_reply.started": "2021-06-26T09:22:38.633688Z",
          "shell.execute_reply": "2021-06-26T09:22:41.126911Z"
        },
        "trusted": true
      },
      "source": [
        "for i in train.drop(columns=['id', 'target']).columns:\n",
        "    if train[i].skew() > 0.5:\n",
        "        train[i] = np.log1p(train[i]+1)\n",
        "        \n",
        "for i in test.drop(columns=['id']).columns:\n",
        "    if test[i].skew() > 0.5:\n",
        "        test[i] = np.log1p(test[i]+1)"
      ],
      "execution_count": null,
      "outputs": []
    },
    {
      "cell_type": "code",
      "metadata": {
        "execution": {
          "iopub.status.busy": "2021-06-26T09:41:33.179388Z",
          "iopub.execute_input": "2021-06-26T09:41:33.179702Z",
          "iopub.status.idle": "2021-06-26T09:41:33.186347Z",
          "shell.execute_reply.started": "2021-06-26T09:41:33.179674Z",
          "shell.execute_reply": "2021-06-26T09:41:33.185290Z"
        },
        "trusted": true,
        "id": "ndY9jqtss8nK",
        "outputId": "d36d83c3-9baf-4afa-aca2-131d92889915"
      },
      "source": [
        "np.array(train['feature_0'])"
      ],
      "execution_count": null,
      "outputs": [
        {
          "output_type": "execute_result",
          "data": {
            "text/plain": [
              "array([0, 0, 0, ..., 1, 0, 5])"
            ]
          },
          "metadata": {
            "tags": []
          },
          "execution_count": 43
        }
      ]
    },
    {
      "cell_type": "code",
      "metadata": {
        "execution": {
          "iopub.status.busy": "2021-06-26T09:41:47.396451Z",
          "iopub.execute_input": "2021-06-26T09:41:47.396803Z",
          "iopub.status.idle": "2021-06-26T09:42:09.578519Z",
          "shell.execute_reply.started": "2021-06-26T09:41:47.396771Z",
          "shell.execute_reply": "2021-06-26T09:42:09.576155Z"
        },
        "trusted": true,
        "id": "OSjWWaT9s8nL",
        "outputId": "f6bd9861-bcf5-4918-d6fb-8fc15711f3f7"
      },
      "source": [
        "PowerTransformer().fit_transform(np.array(train['feature_0']).reshape(1, -1))"
      ],
      "execution_count": null,
      "outputs": [
        {
          "output_type": "error",
          "ename": "KeyboardInterrupt",
          "evalue": "",
          "traceback": [
            "\u001b[0;31m---------------------------------------------------------------------------\u001b[0m",
            "\u001b[0;31mKeyboardInterrupt\u001b[0m                         Traceback (most recent call last)",
            "\u001b[0;32m<ipython-input-45-e7e145bb697e>\u001b[0m in \u001b[0;36m<module>\u001b[0;34m\u001b[0m\n\u001b[0;32m----> 1\u001b[0;31m \u001b[0mPowerTransformer\u001b[0m\u001b[0;34m(\u001b[0m\u001b[0;34m)\u001b[0m\u001b[0;34m.\u001b[0m\u001b[0mfit_transform\u001b[0m\u001b[0;34m(\u001b[0m\u001b[0mnp\u001b[0m\u001b[0;34m.\u001b[0m\u001b[0marray\u001b[0m\u001b[0;34m(\u001b[0m\u001b[0mtrain\u001b[0m\u001b[0;34m[\u001b[0m\u001b[0;34m'feature_0'\u001b[0m\u001b[0;34m]\u001b[0m\u001b[0;34m)\u001b[0m\u001b[0;34m.\u001b[0m\u001b[0mreshape\u001b[0m\u001b[0;34m(\u001b[0m\u001b[0;36m1\u001b[0m\u001b[0;34m,\u001b[0m \u001b[0;34m-\u001b[0m\u001b[0;36m1\u001b[0m\u001b[0;34m)\u001b[0m\u001b[0;34m)\u001b[0m\u001b[0;34m\u001b[0m\u001b[0;34m\u001b[0m\u001b[0m\n\u001b[0m",
            "\u001b[0;32m/opt/conda/lib/python3.7/site-packages/sklearn/preprocessing/_data.py\u001b[0m in \u001b[0;36mfit_transform\u001b[0;34m(self, X, y)\u001b[0m\n\u001b[1;32m   3048\u001b[0m \u001b[0;34m\u001b[0m\u001b[0m\n\u001b[1;32m   3049\u001b[0m     \u001b[0;32mdef\u001b[0m \u001b[0mfit_transform\u001b[0m\u001b[0;34m(\u001b[0m\u001b[0mself\u001b[0m\u001b[0;34m,\u001b[0m \u001b[0mX\u001b[0m\u001b[0;34m,\u001b[0m \u001b[0my\u001b[0m\u001b[0;34m=\u001b[0m\u001b[0;32mNone\u001b[0m\u001b[0;34m)\u001b[0m\u001b[0;34m:\u001b[0m\u001b[0;34m\u001b[0m\u001b[0;34m\u001b[0m\u001b[0m\n\u001b[0;32m-> 3050\u001b[0;31m         \u001b[0;32mreturn\u001b[0m \u001b[0mself\u001b[0m\u001b[0;34m.\u001b[0m\u001b[0m_fit\u001b[0m\u001b[0;34m(\u001b[0m\u001b[0mX\u001b[0m\u001b[0;34m,\u001b[0m \u001b[0my\u001b[0m\u001b[0;34m,\u001b[0m \u001b[0mforce_transform\u001b[0m\u001b[0;34m=\u001b[0m\u001b[0;32mTrue\u001b[0m\u001b[0;34m)\u001b[0m\u001b[0;34m\u001b[0m\u001b[0;34m\u001b[0m\u001b[0m\n\u001b[0m\u001b[1;32m   3051\u001b[0m \u001b[0;34m\u001b[0m\u001b[0m\n\u001b[1;32m   3052\u001b[0m     \u001b[0;32mdef\u001b[0m \u001b[0m_fit\u001b[0m\u001b[0;34m(\u001b[0m\u001b[0mself\u001b[0m\u001b[0;34m,\u001b[0m \u001b[0mX\u001b[0m\u001b[0;34m,\u001b[0m \u001b[0my\u001b[0m\u001b[0;34m=\u001b[0m\u001b[0;32mNone\u001b[0m\u001b[0;34m,\u001b[0m \u001b[0mforce_transform\u001b[0m\u001b[0;34m=\u001b[0m\u001b[0;32mFalse\u001b[0m\u001b[0;34m)\u001b[0m\u001b[0;34m:\u001b[0m\u001b[0;34m\u001b[0m\u001b[0;34m\u001b[0m\u001b[0m\n",
            "\u001b[0;32m/opt/conda/lib/python3.7/site-packages/sklearn/preprocessing/_data.py\u001b[0m in \u001b[0;36m_fit\u001b[0;34m(self, X, y, force_transform)\u001b[0m\n\u001b[1;32m   3061\u001b[0m                           }[self.method]\n\u001b[1;32m   3062\u001b[0m         \u001b[0;32mwith\u001b[0m \u001b[0mnp\u001b[0m\u001b[0;34m.\u001b[0m\u001b[0merrstate\u001b[0m\u001b[0;34m(\u001b[0m\u001b[0minvalid\u001b[0m\u001b[0;34m=\u001b[0m\u001b[0;34m'ignore'\u001b[0m\u001b[0;34m)\u001b[0m\u001b[0;34m:\u001b[0m  \u001b[0;31m# hide NaN warnings\u001b[0m\u001b[0;34m\u001b[0m\u001b[0;34m\u001b[0m\u001b[0m\n\u001b[0;32m-> 3063\u001b[0;31m             \u001b[0mself\u001b[0m\u001b[0;34m.\u001b[0m\u001b[0mlambdas_\u001b[0m \u001b[0;34m=\u001b[0m \u001b[0mnp\u001b[0m\u001b[0;34m.\u001b[0m\u001b[0marray\u001b[0m\u001b[0;34m(\u001b[0m\u001b[0;34m[\u001b[0m\u001b[0moptim_function\u001b[0m\u001b[0;34m(\u001b[0m\u001b[0mcol\u001b[0m\u001b[0;34m)\u001b[0m \u001b[0;32mfor\u001b[0m \u001b[0mcol\u001b[0m \u001b[0;32min\u001b[0m \u001b[0mX\u001b[0m\u001b[0;34m.\u001b[0m\u001b[0mT\u001b[0m\u001b[0;34m]\u001b[0m\u001b[0;34m)\u001b[0m\u001b[0;34m\u001b[0m\u001b[0;34m\u001b[0m\u001b[0m\n\u001b[0m\u001b[1;32m   3064\u001b[0m \u001b[0;34m\u001b[0m\u001b[0m\n\u001b[1;32m   3065\u001b[0m         \u001b[0;32mif\u001b[0m \u001b[0mself\u001b[0m\u001b[0;34m.\u001b[0m\u001b[0mstandardize\u001b[0m \u001b[0;32mor\u001b[0m \u001b[0mforce_transform\u001b[0m\u001b[0;34m:\u001b[0m\u001b[0;34m\u001b[0m\u001b[0;34m\u001b[0m\u001b[0m\n",
            "\u001b[0;32m/opt/conda/lib/python3.7/site-packages/sklearn/preprocessing/_data.py\u001b[0m in \u001b[0;36m<listcomp>\u001b[0;34m(.0)\u001b[0m\n\u001b[1;32m   3061\u001b[0m                           }[self.method]\n\u001b[1;32m   3062\u001b[0m         \u001b[0;32mwith\u001b[0m \u001b[0mnp\u001b[0m\u001b[0;34m.\u001b[0m\u001b[0merrstate\u001b[0m\u001b[0;34m(\u001b[0m\u001b[0minvalid\u001b[0m\u001b[0;34m=\u001b[0m\u001b[0;34m'ignore'\u001b[0m\u001b[0;34m)\u001b[0m\u001b[0;34m:\u001b[0m  \u001b[0;31m# hide NaN warnings\u001b[0m\u001b[0;34m\u001b[0m\u001b[0;34m\u001b[0m\u001b[0m\n\u001b[0;32m-> 3063\u001b[0;31m             \u001b[0mself\u001b[0m\u001b[0;34m.\u001b[0m\u001b[0mlambdas_\u001b[0m \u001b[0;34m=\u001b[0m \u001b[0mnp\u001b[0m\u001b[0;34m.\u001b[0m\u001b[0marray\u001b[0m\u001b[0;34m(\u001b[0m\u001b[0;34m[\u001b[0m\u001b[0moptim_function\u001b[0m\u001b[0;34m(\u001b[0m\u001b[0mcol\u001b[0m\u001b[0;34m)\u001b[0m \u001b[0;32mfor\u001b[0m \u001b[0mcol\u001b[0m \u001b[0;32min\u001b[0m \u001b[0mX\u001b[0m\u001b[0;34m.\u001b[0m\u001b[0mT\u001b[0m\u001b[0;34m]\u001b[0m\u001b[0;34m)\u001b[0m\u001b[0;34m\u001b[0m\u001b[0;34m\u001b[0m\u001b[0m\n\u001b[0m\u001b[1;32m   3064\u001b[0m \u001b[0;34m\u001b[0m\u001b[0m\n\u001b[1;32m   3065\u001b[0m         \u001b[0;32mif\u001b[0m \u001b[0mself\u001b[0m\u001b[0;34m.\u001b[0m\u001b[0mstandardize\u001b[0m \u001b[0;32mor\u001b[0m \u001b[0mforce_transform\u001b[0m\u001b[0;34m:\u001b[0m\u001b[0;34m\u001b[0m\u001b[0;34m\u001b[0m\u001b[0m\n",
            "\u001b[0;32m/opt/conda/lib/python3.7/site-packages/sklearn/preprocessing/_data.py\u001b[0m in \u001b[0;36m_yeo_johnson_optimize\u001b[0;34m(self, x)\u001b[0m\n\u001b[1;32m   3244\u001b[0m         \u001b[0mx\u001b[0m \u001b[0;34m=\u001b[0m \u001b[0mx\u001b[0m\u001b[0;34m[\u001b[0m\u001b[0;34m~\u001b[0m\u001b[0mnp\u001b[0m\u001b[0;34m.\u001b[0m\u001b[0misnan\u001b[0m\u001b[0;34m(\u001b[0m\u001b[0mx\u001b[0m\u001b[0;34m)\u001b[0m\u001b[0;34m]\u001b[0m\u001b[0;34m\u001b[0m\u001b[0;34m\u001b[0m\u001b[0m\n\u001b[1;32m   3245\u001b[0m         \u001b[0;31m# choosing bracket -2, 2 like for boxcox\u001b[0m\u001b[0;34m\u001b[0m\u001b[0;34m\u001b[0m\u001b[0;34m\u001b[0m\u001b[0m\n\u001b[0;32m-> 3246\u001b[0;31m         \u001b[0;32mreturn\u001b[0m \u001b[0moptimize\u001b[0m\u001b[0;34m.\u001b[0m\u001b[0mbrent\u001b[0m\u001b[0;34m(\u001b[0m\u001b[0m_neg_log_likelihood\u001b[0m\u001b[0;34m,\u001b[0m \u001b[0mbrack\u001b[0m\u001b[0;34m=\u001b[0m\u001b[0;34m(\u001b[0m\u001b[0;34m-\u001b[0m\u001b[0;36m2\u001b[0m\u001b[0;34m,\u001b[0m \u001b[0;36m2\u001b[0m\u001b[0;34m)\u001b[0m\u001b[0;34m)\u001b[0m\u001b[0;34m\u001b[0m\u001b[0;34m\u001b[0m\u001b[0m\n\u001b[0m\u001b[1;32m   3247\u001b[0m \u001b[0;34m\u001b[0m\u001b[0m\n\u001b[1;32m   3248\u001b[0m     def _check_input(self, X, in_fit, check_positive=False, check_shape=False,\n",
            "\u001b[0;32m/opt/conda/lib/python3.7/site-packages/scipy/optimize/optimize.py\u001b[0m in \u001b[0;36mbrent\u001b[0;34m(func, args, brack, tol, full_output, maxiter)\u001b[0m\n\u001b[1;32m   2263\u001b[0m     options = {'xtol': tol,\n\u001b[1;32m   2264\u001b[0m                'maxiter': maxiter}\n\u001b[0;32m-> 2265\u001b[0;31m     \u001b[0mres\u001b[0m \u001b[0;34m=\u001b[0m \u001b[0m_minimize_scalar_brent\u001b[0m\u001b[0;34m(\u001b[0m\u001b[0mfunc\u001b[0m\u001b[0;34m,\u001b[0m \u001b[0mbrack\u001b[0m\u001b[0;34m,\u001b[0m \u001b[0margs\u001b[0m\u001b[0;34m,\u001b[0m \u001b[0;34m**\u001b[0m\u001b[0moptions\u001b[0m\u001b[0;34m)\u001b[0m\u001b[0;34m\u001b[0m\u001b[0;34m\u001b[0m\u001b[0m\n\u001b[0m\u001b[1;32m   2266\u001b[0m     \u001b[0;32mif\u001b[0m \u001b[0mfull_output\u001b[0m\u001b[0;34m:\u001b[0m\u001b[0;34m\u001b[0m\u001b[0;34m\u001b[0m\u001b[0m\n\u001b[1;32m   2267\u001b[0m         \u001b[0;32mreturn\u001b[0m \u001b[0mres\u001b[0m\u001b[0;34m[\u001b[0m\u001b[0;34m'x'\u001b[0m\u001b[0;34m]\u001b[0m\u001b[0;34m,\u001b[0m \u001b[0mres\u001b[0m\u001b[0;34m[\u001b[0m\u001b[0;34m'fun'\u001b[0m\u001b[0;34m]\u001b[0m\u001b[0;34m,\u001b[0m \u001b[0mres\u001b[0m\u001b[0;34m[\u001b[0m\u001b[0;34m'nit'\u001b[0m\u001b[0;34m]\u001b[0m\u001b[0;34m,\u001b[0m \u001b[0mres\u001b[0m\u001b[0;34m[\u001b[0m\u001b[0;34m'nfev'\u001b[0m\u001b[0;34m]\u001b[0m\u001b[0;34m\u001b[0m\u001b[0;34m\u001b[0m\u001b[0m\n",
            "\u001b[0;32m/opt/conda/lib/python3.7/site-packages/scipy/optimize/optimize.py\u001b[0m in \u001b[0;36m_minimize_scalar_brent\u001b[0;34m(func, brack, args, xtol, maxiter, **unknown_options)\u001b[0m\n\u001b[1;32m   2295\u001b[0m                   full_output=True, maxiter=maxiter)\n\u001b[1;32m   2296\u001b[0m     \u001b[0mbrent\u001b[0m\u001b[0;34m.\u001b[0m\u001b[0mset_bracket\u001b[0m\u001b[0;34m(\u001b[0m\u001b[0mbrack\u001b[0m\u001b[0;34m)\u001b[0m\u001b[0;34m\u001b[0m\u001b[0;34m\u001b[0m\u001b[0m\n\u001b[0;32m-> 2297\u001b[0;31m     \u001b[0mbrent\u001b[0m\u001b[0;34m.\u001b[0m\u001b[0moptimize\u001b[0m\u001b[0;34m(\u001b[0m\u001b[0;34m)\u001b[0m\u001b[0;34m\u001b[0m\u001b[0;34m\u001b[0m\u001b[0m\n\u001b[0m\u001b[1;32m   2298\u001b[0m     \u001b[0mx\u001b[0m\u001b[0;34m,\u001b[0m \u001b[0mfval\u001b[0m\u001b[0;34m,\u001b[0m \u001b[0mnit\u001b[0m\u001b[0;34m,\u001b[0m \u001b[0mnfev\u001b[0m \u001b[0;34m=\u001b[0m \u001b[0mbrent\u001b[0m\u001b[0;34m.\u001b[0m\u001b[0mget_result\u001b[0m\u001b[0;34m(\u001b[0m\u001b[0mfull_output\u001b[0m\u001b[0;34m=\u001b[0m\u001b[0;32mTrue\u001b[0m\u001b[0;34m)\u001b[0m\u001b[0;34m\u001b[0m\u001b[0;34m\u001b[0m\u001b[0m\n\u001b[1;32m   2299\u001b[0m \u001b[0;34m\u001b[0m\u001b[0m\n",
            "\u001b[0;32m/opt/conda/lib/python3.7/site-packages/scipy/optimize/optimize.py\u001b[0m in \u001b[0;36moptimize\u001b[0;34m(self)\u001b[0m\n\u001b[1;32m   2146\u001b[0m             \u001b[0;32melse\u001b[0m\u001b[0;34m:\u001b[0m\u001b[0;34m\u001b[0m\u001b[0;34m\u001b[0m\u001b[0m\n\u001b[1;32m   2147\u001b[0m                 \u001b[0mu\u001b[0m \u001b[0;34m=\u001b[0m \u001b[0mx\u001b[0m \u001b[0;34m+\u001b[0m \u001b[0mrat\u001b[0m\u001b[0;34m\u001b[0m\u001b[0;34m\u001b[0m\u001b[0m\n\u001b[0;32m-> 2148\u001b[0;31m             \u001b[0mfu\u001b[0m \u001b[0;34m=\u001b[0m \u001b[0mfunc\u001b[0m\u001b[0;34m(\u001b[0m\u001b[0;34m*\u001b[0m\u001b[0;34m(\u001b[0m\u001b[0;34m(\u001b[0m\u001b[0mu\u001b[0m\u001b[0;34m,\u001b[0m\u001b[0;34m)\u001b[0m \u001b[0;34m+\u001b[0m \u001b[0mself\u001b[0m\u001b[0;34m.\u001b[0m\u001b[0margs\u001b[0m\u001b[0;34m)\u001b[0m\u001b[0;34m)\u001b[0m      \u001b[0;31m# calculate new output value\u001b[0m\u001b[0;34m\u001b[0m\u001b[0;34m\u001b[0m\u001b[0m\n\u001b[0m\u001b[1;32m   2149\u001b[0m             \u001b[0mfuncalls\u001b[0m \u001b[0;34m+=\u001b[0m \u001b[0;36m1\u001b[0m\u001b[0;34m\u001b[0m\u001b[0;34m\u001b[0m\u001b[0m\n\u001b[1;32m   2150\u001b[0m \u001b[0;34m\u001b[0m\u001b[0m\n",
            "\u001b[0;32m/opt/conda/lib/python3.7/site-packages/sklearn/preprocessing/_data.py\u001b[0m in \u001b[0;36m_neg_log_likelihood\u001b[0;34m(lmbda)\u001b[0m\n\u001b[1;32m   3232\u001b[0m             \"\"\"Return the negative log likelihood of the observed data x as a\n\u001b[1;32m   3233\u001b[0m             function of lambda.\"\"\"\n\u001b[0;32m-> 3234\u001b[0;31m             \u001b[0mx_trans\u001b[0m \u001b[0;34m=\u001b[0m \u001b[0mself\u001b[0m\u001b[0;34m.\u001b[0m\u001b[0m_yeo_johnson_transform\u001b[0m\u001b[0;34m(\u001b[0m\u001b[0mx\u001b[0m\u001b[0;34m,\u001b[0m \u001b[0mlmbda\u001b[0m\u001b[0;34m)\u001b[0m\u001b[0;34m\u001b[0m\u001b[0;34m\u001b[0m\u001b[0m\n\u001b[0m\u001b[1;32m   3235\u001b[0m             \u001b[0mn_samples\u001b[0m \u001b[0;34m=\u001b[0m \u001b[0mx\u001b[0m\u001b[0;34m.\u001b[0m\u001b[0mshape\u001b[0m\u001b[0;34m[\u001b[0m\u001b[0;36m0\u001b[0m\u001b[0;34m]\u001b[0m\u001b[0;34m\u001b[0m\u001b[0;34m\u001b[0m\u001b[0m\n\u001b[1;32m   3236\u001b[0m \u001b[0;34m\u001b[0m\u001b[0m\n",
            "\u001b[0;32m/opt/conda/lib/python3.7/site-packages/sklearn/preprocessing/_data.py\u001b[0m in \u001b[0;36m_yeo_johnson_transform\u001b[0;34m(self, x, lmbda)\u001b[0m\n\u001b[1;32m   3203\u001b[0m \u001b[0;34m\u001b[0m\u001b[0m\n\u001b[1;32m   3204\u001b[0m         \u001b[0;31m# when x < 0\u001b[0m\u001b[0;34m\u001b[0m\u001b[0;34m\u001b[0m\u001b[0;34m\u001b[0m\u001b[0m\n\u001b[0;32m-> 3205\u001b[0;31m         \u001b[0;32mif\u001b[0m \u001b[0mabs\u001b[0m\u001b[0;34m(\u001b[0m\u001b[0mlmbda\u001b[0m \u001b[0;34m-\u001b[0m \u001b[0;36m2\u001b[0m\u001b[0;34m)\u001b[0m \u001b[0;34m>\u001b[0m \u001b[0mnp\u001b[0m\u001b[0;34m.\u001b[0m\u001b[0mspacing\u001b[0m\u001b[0;34m(\u001b[0m\u001b[0;36m1.\u001b[0m\u001b[0;34m)\u001b[0m\u001b[0;34m:\u001b[0m\u001b[0;34m\u001b[0m\u001b[0;34m\u001b[0m\u001b[0m\n\u001b[0m\u001b[1;32m   3206\u001b[0m             \u001b[0mout\u001b[0m\u001b[0;34m[\u001b[0m\u001b[0;34m~\u001b[0m\u001b[0mpos\u001b[0m\u001b[0;34m]\u001b[0m \u001b[0;34m=\u001b[0m \u001b[0;34m-\u001b[0m\u001b[0;34m(\u001b[0m\u001b[0mnp\u001b[0m\u001b[0;34m.\u001b[0m\u001b[0mpower\u001b[0m\u001b[0;34m(\u001b[0m\u001b[0;34m-\u001b[0m\u001b[0mx\u001b[0m\u001b[0;34m[\u001b[0m\u001b[0;34m~\u001b[0m\u001b[0mpos\u001b[0m\u001b[0;34m]\u001b[0m \u001b[0;34m+\u001b[0m \u001b[0;36m1\u001b[0m\u001b[0;34m,\u001b[0m \u001b[0;36m2\u001b[0m \u001b[0;34m-\u001b[0m \u001b[0mlmbda\u001b[0m\u001b[0;34m)\u001b[0m \u001b[0;34m-\u001b[0m \u001b[0;36m1\u001b[0m\u001b[0;34m)\u001b[0m \u001b[0;34m/\u001b[0m \u001b[0;34m(\u001b[0m\u001b[0;36m2\u001b[0m \u001b[0;34m-\u001b[0m \u001b[0mlmbda\u001b[0m\u001b[0;34m)\u001b[0m\u001b[0;34m\u001b[0m\u001b[0;34m\u001b[0m\u001b[0m\n\u001b[1;32m   3207\u001b[0m         \u001b[0;32melse\u001b[0m\u001b[0;34m:\u001b[0m  \u001b[0;31m# lmbda == 2\u001b[0m\u001b[0;34m\u001b[0m\u001b[0;34m\u001b[0m\u001b[0m\n",
            "\u001b[0;31mKeyboardInterrupt\u001b[0m: "
          ]
        }
      ]
    },
    {
      "cell_type": "code",
      "metadata": {
        "execution": {
          "iopub.status.busy": "2021-06-26T09:34:36.892471Z",
          "iopub.execute_input": "2021-06-26T09:34:36.892795Z",
          "iopub.status.idle": "2021-06-26T09:34:36.960021Z",
          "shell.execute_reply.started": "2021-06-26T09:34:36.892765Z",
          "shell.execute_reply": "2021-06-26T09:34:36.957765Z"
        },
        "trusted": true,
        "id": "Of6EdlAOs8nL",
        "outputId": "b7302874-b1af-4eee-ec7c-582a0d5c2da6"
      },
      "source": [
        "# boxcox로 Normalize하기\n",
        "from sklearn.preprocessing import PowerTransformer\n",
        "\n",
        "for i in train.drop(columns=['id', 'target']).columns:\n",
        "    train[i] = PowerTransformer().fit_transform(train[i])"
      ],
      "execution_count": null,
      "outputs": [
        {
          "output_type": "error",
          "ename": "ValueError",
          "evalue": "Expected 2D array, got 1D array instead:\narray=[0.69314718 0.69314718 0.69314718 ... 1.09861229 0.69314718 1.94591015].\nReshape your data either using array.reshape(-1, 1) if your data has a single feature or array.reshape(1, -1) if it contains a single sample.",
          "traceback": [
            "\u001b[0;31m---------------------------------------------------------------------------\u001b[0m",
            "\u001b[0;31mValueError\u001b[0m                                Traceback (most recent call last)",
            "\u001b[0;32m<ipython-input-37-0505ae43d240>\u001b[0m in \u001b[0;36m<module>\u001b[0;34m\u001b[0m\n\u001b[1;32m      3\u001b[0m \u001b[0;34m\u001b[0m\u001b[0m\n\u001b[1;32m      4\u001b[0m \u001b[0;32mfor\u001b[0m \u001b[0mi\u001b[0m \u001b[0;32min\u001b[0m \u001b[0mtrain\u001b[0m\u001b[0;34m.\u001b[0m\u001b[0mdrop\u001b[0m\u001b[0;34m(\u001b[0m\u001b[0mcolumns\u001b[0m\u001b[0;34m=\u001b[0m\u001b[0;34m[\u001b[0m\u001b[0;34m'id'\u001b[0m\u001b[0;34m,\u001b[0m \u001b[0;34m'target'\u001b[0m\u001b[0;34m]\u001b[0m\u001b[0;34m)\u001b[0m\u001b[0;34m.\u001b[0m\u001b[0mcolumns\u001b[0m\u001b[0;34m:\u001b[0m\u001b[0;34m\u001b[0m\u001b[0;34m\u001b[0m\u001b[0m\n\u001b[0;32m----> 5\u001b[0;31m     \u001b[0mtrain\u001b[0m\u001b[0;34m[\u001b[0m\u001b[0mi\u001b[0m\u001b[0;34m]\u001b[0m \u001b[0;34m=\u001b[0m \u001b[0mPowerTransformer\u001b[0m\u001b[0;34m(\u001b[0m\u001b[0;34m)\u001b[0m\u001b[0;34m.\u001b[0m\u001b[0mfit_transform\u001b[0m\u001b[0;34m(\u001b[0m\u001b[0mnp\u001b[0m\u001b[0;34m.\u001b[0m\u001b[0marray\u001b[0m\u001b[0;34m(\u001b[0m\u001b[0mtrain\u001b[0m\u001b[0;34m[\u001b[0m\u001b[0mi\u001b[0m\u001b[0;34m]\u001b[0m\u001b[0;34m)\u001b[0m\u001b[0;34m)\u001b[0m\u001b[0;34m\u001b[0m\u001b[0;34m\u001b[0m\u001b[0m\n\u001b[0m",
            "\u001b[0;32m/opt/conda/lib/python3.7/site-packages/sklearn/preprocessing/_data.py\u001b[0m in \u001b[0;36mfit_transform\u001b[0;34m(self, X, y)\u001b[0m\n\u001b[1;32m   3048\u001b[0m \u001b[0;34m\u001b[0m\u001b[0m\n\u001b[1;32m   3049\u001b[0m     \u001b[0;32mdef\u001b[0m \u001b[0mfit_transform\u001b[0m\u001b[0;34m(\u001b[0m\u001b[0mself\u001b[0m\u001b[0;34m,\u001b[0m \u001b[0mX\u001b[0m\u001b[0;34m,\u001b[0m \u001b[0my\u001b[0m\u001b[0;34m=\u001b[0m\u001b[0;32mNone\u001b[0m\u001b[0;34m)\u001b[0m\u001b[0;34m:\u001b[0m\u001b[0;34m\u001b[0m\u001b[0;34m\u001b[0m\u001b[0m\n\u001b[0;32m-> 3050\u001b[0;31m         \u001b[0;32mreturn\u001b[0m \u001b[0mself\u001b[0m\u001b[0;34m.\u001b[0m\u001b[0m_fit\u001b[0m\u001b[0;34m(\u001b[0m\u001b[0mX\u001b[0m\u001b[0;34m,\u001b[0m \u001b[0my\u001b[0m\u001b[0;34m,\u001b[0m \u001b[0mforce_transform\u001b[0m\u001b[0;34m=\u001b[0m\u001b[0;32mTrue\u001b[0m\u001b[0;34m)\u001b[0m\u001b[0;34m\u001b[0m\u001b[0;34m\u001b[0m\u001b[0m\n\u001b[0m\u001b[1;32m   3051\u001b[0m \u001b[0;34m\u001b[0m\u001b[0m\n\u001b[1;32m   3052\u001b[0m     \u001b[0;32mdef\u001b[0m \u001b[0m_fit\u001b[0m\u001b[0;34m(\u001b[0m\u001b[0mself\u001b[0m\u001b[0;34m,\u001b[0m \u001b[0mX\u001b[0m\u001b[0;34m,\u001b[0m \u001b[0my\u001b[0m\u001b[0;34m=\u001b[0m\u001b[0;32mNone\u001b[0m\u001b[0;34m,\u001b[0m \u001b[0mforce_transform\u001b[0m\u001b[0;34m=\u001b[0m\u001b[0;32mFalse\u001b[0m\u001b[0;34m)\u001b[0m\u001b[0;34m:\u001b[0m\u001b[0;34m\u001b[0m\u001b[0;34m\u001b[0m\u001b[0m\n",
            "\u001b[0;32m/opt/conda/lib/python3.7/site-packages/sklearn/preprocessing/_data.py\u001b[0m in \u001b[0;36m_fit\u001b[0;34m(self, X, y, force_transform)\u001b[0m\n\u001b[1;32m   3052\u001b[0m     \u001b[0;32mdef\u001b[0m \u001b[0m_fit\u001b[0m\u001b[0;34m(\u001b[0m\u001b[0mself\u001b[0m\u001b[0;34m,\u001b[0m \u001b[0mX\u001b[0m\u001b[0;34m,\u001b[0m \u001b[0my\u001b[0m\u001b[0;34m=\u001b[0m\u001b[0;32mNone\u001b[0m\u001b[0;34m,\u001b[0m \u001b[0mforce_transform\u001b[0m\u001b[0;34m=\u001b[0m\u001b[0;32mFalse\u001b[0m\u001b[0;34m)\u001b[0m\u001b[0;34m:\u001b[0m\u001b[0;34m\u001b[0m\u001b[0;34m\u001b[0m\u001b[0m\n\u001b[1;32m   3053\u001b[0m         X = self._check_input(X, in_fit=True, check_positive=True,\n\u001b[0;32m-> 3054\u001b[0;31m                               check_method=True)\n\u001b[0m\u001b[1;32m   3055\u001b[0m \u001b[0;34m\u001b[0m\u001b[0m\n\u001b[1;32m   3056\u001b[0m         \u001b[0;32mif\u001b[0m \u001b[0;32mnot\u001b[0m \u001b[0mself\u001b[0m\u001b[0;34m.\u001b[0m\u001b[0mcopy\u001b[0m \u001b[0;32mand\u001b[0m \u001b[0;32mnot\u001b[0m \u001b[0mforce_transform\u001b[0m\u001b[0;34m:\u001b[0m  \u001b[0;31m# if call from fit()\u001b[0m\u001b[0;34m\u001b[0m\u001b[0;34m\u001b[0m\u001b[0m\n",
            "\u001b[0;32m/opt/conda/lib/python3.7/site-packages/sklearn/preprocessing/_data.py\u001b[0m in \u001b[0;36m_check_input\u001b[0;34m(self, X, in_fit, check_positive, check_shape, check_method)\u001b[0m\n\u001b[1;32m   3270\u001b[0m         X = self._validate_data(X, ensure_2d=True, dtype=FLOAT_DTYPES,\n\u001b[1;32m   3271\u001b[0m                                 \u001b[0mcopy\u001b[0m\u001b[0;34m=\u001b[0m\u001b[0mself\u001b[0m\u001b[0;34m.\u001b[0m\u001b[0mcopy\u001b[0m\u001b[0;34m,\u001b[0m \u001b[0mforce_all_finite\u001b[0m\u001b[0;34m=\u001b[0m\u001b[0;34m'allow-nan'\u001b[0m\u001b[0;34m,\u001b[0m\u001b[0;34m\u001b[0m\u001b[0;34m\u001b[0m\u001b[0m\n\u001b[0;32m-> 3272\u001b[0;31m                                 reset=in_fit)\n\u001b[0m\u001b[1;32m   3273\u001b[0m \u001b[0;34m\u001b[0m\u001b[0m\n\u001b[1;32m   3274\u001b[0m         \u001b[0;32mwith\u001b[0m \u001b[0mnp\u001b[0m\u001b[0;34m.\u001b[0m\u001b[0mwarnings\u001b[0m\u001b[0;34m.\u001b[0m\u001b[0mcatch_warnings\u001b[0m\u001b[0;34m(\u001b[0m\u001b[0;34m)\u001b[0m\u001b[0;34m:\u001b[0m\u001b[0;34m\u001b[0m\u001b[0;34m\u001b[0m\u001b[0m\n",
            "\u001b[0;32m/opt/conda/lib/python3.7/site-packages/sklearn/base.py\u001b[0m in \u001b[0;36m_validate_data\u001b[0;34m(self, X, y, reset, validate_separately, **check_params)\u001b[0m\n\u001b[1;32m    419\u001b[0m             \u001b[0mout\u001b[0m \u001b[0;34m=\u001b[0m \u001b[0mX\u001b[0m\u001b[0;34m\u001b[0m\u001b[0;34m\u001b[0m\u001b[0m\n\u001b[1;32m    420\u001b[0m         \u001b[0;32melif\u001b[0m \u001b[0misinstance\u001b[0m\u001b[0;34m(\u001b[0m\u001b[0my\u001b[0m\u001b[0;34m,\u001b[0m \u001b[0mstr\u001b[0m\u001b[0;34m)\u001b[0m \u001b[0;32mand\u001b[0m \u001b[0my\u001b[0m \u001b[0;34m==\u001b[0m \u001b[0;34m'no_validation'\u001b[0m\u001b[0;34m:\u001b[0m\u001b[0;34m\u001b[0m\u001b[0;34m\u001b[0m\u001b[0m\n\u001b[0;32m--> 421\u001b[0;31m             \u001b[0mX\u001b[0m \u001b[0;34m=\u001b[0m \u001b[0mcheck_array\u001b[0m\u001b[0;34m(\u001b[0m\u001b[0mX\u001b[0m\u001b[0;34m,\u001b[0m \u001b[0;34m**\u001b[0m\u001b[0mcheck_params\u001b[0m\u001b[0;34m)\u001b[0m\u001b[0;34m\u001b[0m\u001b[0;34m\u001b[0m\u001b[0m\n\u001b[0m\u001b[1;32m    422\u001b[0m             \u001b[0mout\u001b[0m \u001b[0;34m=\u001b[0m \u001b[0mX\u001b[0m\u001b[0;34m\u001b[0m\u001b[0;34m\u001b[0m\u001b[0m\n\u001b[1;32m    423\u001b[0m         \u001b[0;32melse\u001b[0m\u001b[0;34m:\u001b[0m\u001b[0;34m\u001b[0m\u001b[0;34m\u001b[0m\u001b[0m\n",
            "\u001b[0;32m/opt/conda/lib/python3.7/site-packages/sklearn/utils/validation.py\u001b[0m in \u001b[0;36minner_f\u001b[0;34m(*args, **kwargs)\u001b[0m\n\u001b[1;32m     61\u001b[0m             \u001b[0mextra_args\u001b[0m \u001b[0;34m=\u001b[0m \u001b[0mlen\u001b[0m\u001b[0;34m(\u001b[0m\u001b[0margs\u001b[0m\u001b[0;34m)\u001b[0m \u001b[0;34m-\u001b[0m \u001b[0mlen\u001b[0m\u001b[0;34m(\u001b[0m\u001b[0mall_args\u001b[0m\u001b[0;34m)\u001b[0m\u001b[0;34m\u001b[0m\u001b[0;34m\u001b[0m\u001b[0m\n\u001b[1;32m     62\u001b[0m             \u001b[0;32mif\u001b[0m \u001b[0mextra_args\u001b[0m \u001b[0;34m<=\u001b[0m \u001b[0;36m0\u001b[0m\u001b[0;34m:\u001b[0m\u001b[0;34m\u001b[0m\u001b[0;34m\u001b[0m\u001b[0m\n\u001b[0;32m---> 63\u001b[0;31m                 \u001b[0;32mreturn\u001b[0m \u001b[0mf\u001b[0m\u001b[0;34m(\u001b[0m\u001b[0;34m*\u001b[0m\u001b[0margs\u001b[0m\u001b[0;34m,\u001b[0m \u001b[0;34m**\u001b[0m\u001b[0mkwargs\u001b[0m\u001b[0;34m)\u001b[0m\u001b[0;34m\u001b[0m\u001b[0;34m\u001b[0m\u001b[0m\n\u001b[0m\u001b[1;32m     64\u001b[0m \u001b[0;34m\u001b[0m\u001b[0m\n\u001b[1;32m     65\u001b[0m             \u001b[0;31m# extra_args > 0\u001b[0m\u001b[0;34m\u001b[0m\u001b[0;34m\u001b[0m\u001b[0;34m\u001b[0m\u001b[0m\n",
            "\u001b[0;32m/opt/conda/lib/python3.7/site-packages/sklearn/utils/validation.py\u001b[0m in \u001b[0;36mcheck_array\u001b[0;34m(array, accept_sparse, accept_large_sparse, dtype, order, copy, force_all_finite, ensure_2d, allow_nd, ensure_min_samples, ensure_min_features, estimator)\u001b[0m\n\u001b[1;32m    639\u001b[0m                     \u001b[0;34m\"Reshape your data either using array.reshape(-1, 1) if \"\u001b[0m\u001b[0;34m\u001b[0m\u001b[0;34m\u001b[0m\u001b[0m\n\u001b[1;32m    640\u001b[0m                     \u001b[0;34m\"your data has a single feature or array.reshape(1, -1) \"\u001b[0m\u001b[0;34m\u001b[0m\u001b[0;34m\u001b[0m\u001b[0m\n\u001b[0;32m--> 641\u001b[0;31m                     \"if it contains a single sample.\".format(array))\n\u001b[0m\u001b[1;32m    642\u001b[0m \u001b[0;34m\u001b[0m\u001b[0m\n\u001b[1;32m    643\u001b[0m         \u001b[0;31m# make sure we actually converted to numeric:\u001b[0m\u001b[0;34m\u001b[0m\u001b[0;34m\u001b[0m\u001b[0;34m\u001b[0m\u001b[0m\n",
            "\u001b[0;31mValueError\u001b[0m: Expected 2D array, got 1D array instead:\narray=[0.69314718 0.69314718 0.69314718 ... 1.09861229 0.69314718 1.94591015].\nReshape your data either using array.reshape(-1, 1) if your data has a single feature or array.reshape(1, -1) if it contains a single sample."
          ]
        }
      ]
    },
    {
      "cell_type": "code",
      "metadata": {
        "id": "E6r3p4u_iSMW",
        "execution": {
          "iopub.status.busy": "2021-06-26T08:04:10.956939Z",
          "iopub.execute_input": "2021-06-26T08:04:10.957349Z",
          "iopub.status.idle": "2021-06-26T08:04:11.697639Z",
          "shell.execute_reply.started": "2021-06-26T08:04:10.957317Z",
          "shell.execute_reply": "2021-06-26T08:04:11.696808Z"
        },
        "trusted": true
      },
      "source": [
        "train_agg = train.drop(columns='target').groupby('id').agg(['median'])\n",
        "train_agg_col = []\n",
        "\n",
        "for i in train_agg.columns.levels[0]:\n",
        "    for j in train_agg.columns.levels[1]:\n",
        "        train_agg_col.append(f'{i}-{j}')\n",
        "        \n",
        "train_agg.columns = train_agg_col\n",
        "\n",
        "test_agg = test.groupby('id').agg(['median'])\n",
        "test_agg_col = []\n",
        "\n",
        "for i in test_agg.columns.levels[0]:\n",
        "    for j in test_agg.columns.levels[1]:\n",
        "        test_agg_col.append(f'{i}-{j}')\n",
        "        \n",
        "test_agg.columns = test_agg_col"
      ],
      "execution_count": null,
      "outputs": []
    },
    {
      "cell_type": "code",
      "metadata": {
        "id": "uiRVU8FmiSMW",
        "execution": {
          "iopub.status.busy": "2021-06-26T08:04:12.981585Z",
          "iopub.execute_input": "2021-06-26T08:04:12.981940Z",
          "iopub.status.idle": "2021-06-26T08:04:15.149088Z",
          "shell.execute_reply.started": "2021-06-26T08:04:12.981908Z",
          "shell.execute_reply": "2021-06-26T08:04:15.148209Z"
        },
        "trusted": true,
        "outputId": "15b33473-188c-4c53-ca67-4c0a83075cf3"
      },
      "source": [
        "corr_matrix = train_agg.corr()\n",
        "\n",
        "upper = corr_matrix.where(np.triu(np.ones(corr_matrix.shape), k=1).astype(np.bool))\n",
        "\n",
        "to_drop = [c for c in upper.columns if any(abs(upper[c]) > 0.9)]\n",
        "\n",
        "print(f'There are {len(train_agg.columns)} columns but {len(to_drop)} corr columns to remove')"
      ],
      "execution_count": null,
      "outputs": [
        {
          "output_type": "stream",
          "text": [
            "There are 75 columns but 0 corr columns to remove\n"
          ],
          "name": "stdout"
        }
      ]
    },
    {
      "cell_type": "code",
      "metadata": {
        "id": "etZfqax3iSMW",
        "execution": {
          "iopub.status.busy": "2021-06-26T08:04:15.150668Z",
          "iopub.execute_input": "2021-06-26T08:04:15.151277Z",
          "iopub.status.idle": "2021-06-26T08:04:15.542463Z",
          "shell.execute_reply.started": "2021-06-26T08:04:15.151231Z",
          "shell.execute_reply": "2021-06-26T08:04:15.541566Z"
        },
        "trusted": true
      },
      "source": [
        "train_agg.drop(columns=to_drop)\n",
        "train = train.merge(train_agg, how='left', on='id')\n",
        "\n",
        "test_agg.drop(columns=to_drop)\n",
        "test = test.merge(test_agg, how='left', on='id')"
      ],
      "execution_count": null,
      "outputs": []
    },
    {
      "cell_type": "code",
      "metadata": {
        "id": "zRKQEnDKiSMX"
      },
      "source": [
        ""
      ],
      "execution_count": null,
      "outputs": []
    },
    {
      "cell_type": "markdown",
      "metadata": {
        "id": "9ChKIvDciSMX"
      },
      "source": [
        "# 그냥 모델링 하기 다음에 피쳐 엔지니어링"
      ]
    },
    {
      "cell_type": "code",
      "metadata": {
        "id": "7BE3Ila1iSMX",
        "execution": {
          "iopub.status.busy": "2021-06-26T08:04:16.588928Z",
          "iopub.execute_input": "2021-06-26T08:04:16.589334Z",
          "iopub.status.idle": "2021-06-26T08:04:19.325390Z",
          "shell.execute_reply.started": "2021-06-26T08:04:16.589300Z",
          "shell.execute_reply": "2021-06-26T08:04:19.324546Z"
        },
        "trusted": true,
        "outputId": "671438a1-16c0-4752-9851-66110595d946"
      },
      "source": [
        "from sklearn.metrics import log_loss, make_scorer\n",
        "import catboost\n",
        "import lightgbm\n",
        "import xgboost\n",
        "import optuna\n",
        "from sklearn.linear_model import LogisticRegression\n",
        "from sklearn.ensemble import RandomForestClassifier\n",
        "from sklearn.model_selection import cross_validate, KFold, StratifiedKFold, StratifiedShuffleSplit, train_test_split\n",
        "from sklearn.preprocessing import LabelEncoder, robust_scale, MinMaxScaler"
      ],
      "execution_count": null,
      "outputs": [
        {
          "output_type": "display_data",
          "data": {
            "text/plain": [
              "<IPython.core.display.HTML object>"
            ],
            "text/html": [
              "<style type='text/css'>\n",
              ".datatable table.frame { margin-bottom: 0; }\n",
              ".datatable table.frame thead { border-bottom: none; }\n",
              ".datatable table.frame tr.coltypes td {  color: #FFFFFF;  line-height: 6px;  padding: 0 0.5em;}\n",
              ".datatable .bool    { background: #DDDD99; }\n",
              ".datatable .object  { background: #565656; }\n",
              ".datatable .int     { background: #5D9E5D; }\n",
              ".datatable .float   { background: #4040CC; }\n",
              ".datatable .str     { background: #CC4040; }\n",
              ".datatable .row_index {  background: var(--jp-border-color3);  border-right: 1px solid var(--jp-border-color0);  color: var(--jp-ui-font-color3);  font-size: 9px;}\n",
              ".datatable .frame tr.coltypes .row_index {  background: var(--jp-border-color0);}\n",
              ".datatable th:nth-child(2) { padding-left: 12px; }\n",
              ".datatable .hellipsis {  color: var(--jp-cell-editor-border-color);}\n",
              ".datatable .vellipsis {  background: var(--jp-layout-color0);  color: var(--jp-cell-editor-border-color);}\n",
              ".datatable .na {  color: var(--jp-cell-editor-border-color);  font-size: 80%;}\n",
              ".datatable .footer { font-size: 9px; }\n",
              ".datatable .frame_dimensions {  background: var(--jp-border-color3);  border-top: 1px solid var(--jp-border-color0);  color: var(--jp-ui-font-color3);  display: inline-block;  opacity: 0.6;  padding: 1px 10px 1px 5px;}\n",
              "</style>\n"
            ]
          },
          "metadata": {
            "tags": []
          }
        }
      ]
    },
    {
      "cell_type": "code",
      "metadata": {
        "id": "G85mKc8CiSMY",
        "execution": {
          "iopub.status.busy": "2021-06-26T08:04:19.326741Z",
          "iopub.execute_input": "2021-06-26T08:04:19.327068Z",
          "iopub.status.idle": "2021-06-26T08:04:19.663281Z",
          "shell.execute_reply.started": "2021-06-26T08:04:19.327034Z",
          "shell.execute_reply": "2021-06-26T08:04:19.662408Z"
        },
        "trusted": true
      },
      "source": [
        "x_train = train.drop(columns=['target', 'id'])\n",
        "y_train = train['target']\n",
        "x_test = test.drop(columns=['id'])"
      ],
      "execution_count": null,
      "outputs": []
    },
    {
      "cell_type": "code",
      "metadata": {
        "execution": {
          "iopub.status.busy": "2021-06-25T05:05:58.399958Z",
          "iopub.execute_input": "2021-06-25T05:05:58.400297Z",
          "iopub.status.idle": "2021-06-25T05:05:59.69781Z",
          "shell.execute_reply.started": "2021-06-25T05:05:58.400261Z",
          "shell.execute_reply": "2021-06-25T05:05:59.696928Z"
        },
        "id": "fwUoFoPNiSMY",
        "trusted": true
      },
      "source": [
        "x_train = data.loc[data['target'].notnull()].drop(columns=['id', 'target'])\n",
        "y_train = data.loc[data['target'].notnull()]['target']\n",
        "x_test = data.loc[data['target'].isnull()].drop(columns=['id', 'target'])"
      ],
      "execution_count": null,
      "outputs": []
    },
    {
      "cell_type": "code",
      "metadata": {
        "id": "sfDRM1KsiSMY",
        "execution": {
          "iopub.status.busy": "2021-06-26T08:04:20.310153Z",
          "iopub.execute_input": "2021-06-26T08:04:20.310480Z",
          "iopub.status.idle": "2021-06-26T08:04:20.375088Z",
          "shell.execute_reply.started": "2021-06-26T08:04:20.310451Z",
          "shell.execute_reply": "2021-06-26T08:04:20.374235Z"
        },
        "trusted": true
      },
      "source": [
        "encoder = LabelEncoder()\n",
        "y_train = encoder.fit_transform(y_train)\n",
        "y_train = pd.Series(y_train)"
      ],
      "execution_count": null,
      "outputs": []
    },
    {
      "cell_type": "code",
      "metadata": {
        "id": "EJuPRRowiSMY",
        "execution": {
          "iopub.status.busy": "2021-06-26T08:04:49.418586Z",
          "iopub.execute_input": "2021-06-26T08:04:49.418907Z",
          "iopub.status.idle": "2021-06-26T08:04:50.667540Z",
          "shell.execute_reply.started": "2021-06-26T08:04:49.418876Z",
          "shell.execute_reply": "2021-06-26T08:04:50.666662Z"
        },
        "trusted": true
      },
      "source": [
        "x_train_col = x_train.columns\n",
        "x_test_col = x_test.columns\n",
        "\n",
        "x_train = pd.DataFrame(robust_scale(x_train), columns=x_train_col)\n",
        "x_test = pd.DataFrame(robust_scale(x_test), columns=x_test_col)"
      ],
      "execution_count": null,
      "outputs": []
    },
    {
      "cell_type": "code",
      "metadata": {
        "id": "uCQIagrNs8nO"
      },
      "source": [
        "# lgbm 모델\n",
        "skf = StratifiedKFold(n_splits=5, shuffle=True, random_state=42)\n",
        "preds = np.zeros((len(x_test)))\n",
        "for i, (train_index, valid_index) in enumerate(skf.split(x_train, y_train)):\n",
        "  X_train, X_valid = x_train.iloc[train_index], x_train.iloc[valid_index]\n",
        "  Y_train, Y_valid = y_train.iloc[train_index], y_train.iloc[valid_index]\n",
        "\n",
        "  model = lightgbm.LGBMClassifier(n_estimators=3000, learning_rate=0.05, objective='multiclass', n_jobs=-1)\n",
        "  model.fit(X_train, Y_train, eval_set=[(X_train, Y_train), (X_valid, Y_valid)], verbose=100, early_stopping_rounds=70, eval_metric='multi_logloss')\n",
        "  preds = model.predict_proba(x_test)"
      ],
      "execution_count": null,
      "outputs": []
    },
    {
      "cell_type": "code",
      "metadata": {
        "execution": {
          "iopub.status.busy": "2021-06-26T08:11:58.907709Z",
          "iopub.execute_input": "2021-06-26T08:11:58.908064Z",
          "iopub.status.idle": "2021-06-26T08:11:58.915748Z",
          "shell.execute_reply.started": "2021-06-26T08:11:58.908031Z",
          "shell.execute_reply": "2021-06-26T08:11:58.914969Z"
        },
        "trusted": true,
        "id": "ZlJtl2Ams8nO"
      },
      "source": [
        "def objective(trial,data=x_train,target=y_train):\n",
        "    \n",
        "    X_train, X_test, y_train, y_test = train_test_split(data, target, test_size=0.2,random_state=42)\n",
        "    params = {'iterations':trial.suggest_int(\"iterations\", 2000, 25000),\n",
        "             'loss_function':'MultiClass',\n",
        "              'task_type':\"GPU\",\n",
        "              'eval_metric':'MultiClass',\n",
        "              'leaf_estimation_method':'Newton',\n",
        "              'bootstrap_type': 'Bernoulli',\n",
        "              'learning_rate' : trial.suggest_uniform('learning_rate',0.01,0.5),\n",
        "              'reg_lambda': trial.suggest_uniform('reg_lambda',1e-5,100),\n",
        "              'subsample': trial.suggest_uniform('subsample',0,1),\n",
        "              'random_strength': trial.suggest_uniform('random_strength',10,50),\n",
        "              'depth': trial.suggest_int('depth',1,10),\n",
        "              'min_data_in_leaf': trial.suggest_int('min_data_in_leaf',1,50),\n",
        "              'leaf_estimation_iterations': trial.suggest_int('leaf_estimation_iterations',1,15),\n",
        "              'grow_policy' : 'Lossguide'\n",
        "               }\n",
        "    model = catboost.CatBoostClassifier(**params)  \n",
        "    model.fit(X_train,y_train,eval_set=[(X_test,y_test)],early_stopping_rounds=100,verbose=False)\n",
        "        \n",
        "    y_preds = model.predict_proba(X_test)\n",
        "\n",
        "\n",
        "    log_loss_multi = log_loss(y_test, y_preds)\n",
        "    \n",
        "    return log_loss_multi"
      ],
      "execution_count": null,
      "outputs": []
    },
    {
      "cell_type": "code",
      "metadata": {
        "execution": {
          "iopub.status.busy": "2021-06-26T08:12:29.086642Z",
          "iopub.execute_input": "2021-06-26T08:12:29.087017Z",
          "iopub.status.idle": "2021-06-26T08:59:41.632496Z",
          "shell.execute_reply.started": "2021-06-26T08:12:29.086984Z",
          "shell.execute_reply": "2021-06-26T08:59:41.631630Z"
        },
        "trusted": true,
        "id": "N6aR17qms8nO",
        "outputId": "519ca6cc-8ace-4c2f-cc80-4c62609fe71b"
      },
      "source": [
        "OPTUNA_OPTIMIZATION = True\n",
        "\n",
        "study = optuna.create_study(direction='minimize')\n",
        "study.optimize(objective, n_trials=100)\n",
        "print('Number of finished trials:', len(study.trials))\n",
        "print('Best trial: score {}, params {}'.format(study.best_trial.value, study.best_trial.params))"
      ],
      "execution_count": null,
      "outputs": [
        {
          "output_type": "stream",
          "text": [
            "\u001b[32m[I 2021-06-26 08:12:29,088]\u001b[0m A new study created in memory with name: no-name-cef43c19-da84-416e-a4ec-b6ca835aa262\u001b[0m\n",
            "\u001b[32m[I 2021-06-26 08:13:34,688]\u001b[0m Trial 0 finished with value: 1.7591363047184783 and parameters: {'iterations': 6973, 'learning_rate': 0.3941153419269652, 'reg_lambda': 19.557147522026, 'subsample': 0.17712609302918558, 'random_strength': 34.71799720978931, 'depth': 12, 'min_data_in_leaf': 2, 'leaf_estimation_iterations': 12}. Best is trial 0 with value: 1.7591363047184783.\u001b[0m\n",
            "\u001b[32m[I 2021-06-26 08:13:40,914]\u001b[0m Trial 1 finished with value: 1.7528753888232358 and parameters: {'iterations': 15209, 'learning_rate': 0.24341264300966542, 'reg_lambda': 23.656405417398528, 'subsample': 0.010689323312411902, 'random_strength': 15.521222938234946, 'depth': 11, 'min_data_in_leaf': 39, 'leaf_estimation_iterations': 3}. Best is trial 1 with value: 1.7528753888232358.\u001b[0m\n",
            "\u001b[32m[I 2021-06-26 08:13:48,942]\u001b[0m Trial 2 finished with value: 1.7507235773538095 and parameters: {'iterations': 15437, 'learning_rate': 0.14198652348956664, 'reg_lambda': 71.8838971319735, 'subsample': 0.47743586623369916, 'random_strength': 25.936329537498143, 'depth': 9, 'min_data_in_leaf': 29, 'leaf_estimation_iterations': 10}. Best is trial 2 with value: 1.7507235773538095.\u001b[0m\n",
            "\u001b[32m[I 2021-06-26 08:13:56,805]\u001b[0m Trial 3 finished with value: 1.751248131232639 and parameters: {'iterations': 2494, 'learning_rate': 0.17728002697254494, 'reg_lambda': 96.5618873693697, 'subsample': 0.6388792383969969, 'random_strength': 34.13121963333633, 'depth': 2, 'min_data_in_leaf': 47, 'leaf_estimation_iterations': 6}. Best is trial 2 with value: 1.7507235773538095.\u001b[0m\n",
            "\u001b[32m[I 2021-06-26 08:14:04,995]\u001b[0m Trial 4 finished with value: 1.7502393660438422 and parameters: {'iterations': 24822, 'learning_rate': 0.14160910342077987, 'reg_lambda': 51.54003786459741, 'subsample': 0.22988515672461074, 'random_strength': 29.908387725184863, 'depth': 6, 'min_data_in_leaf': 48, 'leaf_estimation_iterations': 4}. Best is trial 4 with value: 1.7502393660438422.\u001b[0m\n",
            "\u001b[32m[I 2021-06-26 08:14:10,308]\u001b[0m Trial 5 finished with value: 1.7574332865391606 and parameters: {'iterations': 23623, 'learning_rate': 0.39487225300494044, 'reg_lambda': 64.82270648362206, 'subsample': 0.641068275352376, 'random_strength': 35.704626076034614, 'depth': 10, 'min_data_in_leaf': 27, 'leaf_estimation_iterations': 10}. Best is trial 4 with value: 1.7502393660438422.\u001b[0m\n",
            "\u001b[32m[I 2021-06-26 08:14:15,226]\u001b[0m Trial 6 finished with value: 1.755851218568412 and parameters: {'iterations': 21365, 'learning_rate': 0.2701100916420849, 'reg_lambda': 4.057876770524429, 'subsample': 0.6603938919497321, 'random_strength': 17.32129165570158, 'depth': 12, 'min_data_in_leaf': 29, 'leaf_estimation_iterations': 2}. Best is trial 4 with value: 1.7502393660438422.\u001b[0m\n",
            "\u001b[32m[I 2021-06-26 08:14:31,559]\u001b[0m Trial 7 finished with value: 1.7479553518105786 and parameters: {'iterations': 4371, 'learning_rate': 0.04041800674844035, 'reg_lambda': 88.20717473117631, 'subsample': 0.39613602150060345, 'random_strength': 18.021628674237423, 'depth': 7, 'min_data_in_leaf': 17, 'leaf_estimation_iterations': 3}. Best is trial 7 with value: 1.7479553518105786.\u001b[0m\n",
            "\u001b[32m[I 2021-06-26 08:14:37,077]\u001b[0m Trial 8 finished with value: 1.7542131028033694 and parameters: {'iterations': 19062, 'learning_rate': 0.27930260700587173, 'reg_lambda': 12.898502340417751, 'subsample': 0.20386422978299834, 'random_strength': 16.79015278143209, 'depth': 2, 'min_data_in_leaf': 10, 'leaf_estimation_iterations': 5}. Best is trial 7 with value: 1.7479553518105786.\u001b[0m\n",
            "\u001b[32m[I 2021-06-26 08:14:40,954]\u001b[0m Trial 9 finished with value: 1.759995439912308 and parameters: {'iterations': 4769, 'learning_rate': 0.4966596040888624, 'reg_lambda': 98.70203688010443, 'subsample': 0.610444383400017, 'random_strength': 46.086551037060836, 'depth': 4, 'min_data_in_leaf': 43, 'leaf_estimation_iterations': 8}. Best is trial 7 with value: 1.7479553518105786.\u001b[0m\n",
            "\u001b[32m[I 2021-06-26 08:15:20,631]\u001b[0m Trial 10 finished with value: 1.7477754287754352 and parameters: {'iterations': 9552, 'learning_rate': 0.01712125050712655, 'reg_lambda': 81.35205000182074, 'subsample': 0.9328882942315762, 'random_strength': 22.963633604188217, 'depth': 7, 'min_data_in_leaf': 15, 'leaf_estimation_iterations': 15}. Best is trial 10 with value: 1.7477754287754352.\u001b[0m\n",
            "\u001b[32m[I 2021-06-26 08:15:58,301]\u001b[0m Trial 11 finished with value: 1.7475197176633912 and parameters: {'iterations': 9718, 'learning_rate': 0.019226230987312645, 'reg_lambda': 82.40218050185666, 'subsample': 0.8674228110979134, 'random_strength': 10.332626660113053, 'depth': 7, 'min_data_in_leaf': 14, 'leaf_estimation_iterations': 15}. Best is trial 11 with value: 1.7475197176633912.\u001b[0m\n",
            "\u001b[32m[I 2021-06-26 08:16:34,755]\u001b[0m Trial 12 finished with value: 1.749148540460553 and parameters: {'iterations': 9688, 'learning_rate': 0.019076046463887122, 'reg_lambda': 77.96236534317991, 'subsample': 0.9595469932949766, 'random_strength': 11.318979253375458, 'depth': 5, 'min_data_in_leaf': 14, 'leaf_estimation_iterations': 14}. Best is trial 11 with value: 1.7475197176633912.\u001b[0m\n",
            "\u001b[32m[I 2021-06-26 08:16:50,754]\u001b[0m Trial 13 finished with value: 1.7493953814271515 and parameters: {'iterations': 10624, 'learning_rate': 0.05787555936733493, 'reg_lambda': 42.10958222968216, 'subsample': 0.9915886764786901, 'random_strength': 24.229730609315176, 'depth': 8, 'min_data_in_leaf': 1, 'leaf_estimation_iterations': 15}. Best is trial 11 with value: 1.7475197176633912.\u001b[0m\n",
            "\u001b[32m[I 2021-06-26 08:17:01,897]\u001b[0m Trial 14 finished with value: 1.748829879933955 and parameters: {'iterations': 11269, 'learning_rate': 0.08675674258480402, 'reg_lambda': 82.55838733477164, 'subsample': 0.8404527726543898, 'random_strength': 11.11647837307158, 'depth': 15, 'min_data_in_leaf': 20, 'leaf_estimation_iterations': 13}. Best is trial 11 with value: 1.7475197176633912.\u001b[0m\n",
            "\u001b[32m[I 2021-06-26 08:17:52,879]\u001b[0m Trial 15 finished with value: 1.7487883080261104 and parameters: {'iterations': 7709, 'learning_rate': 0.015114722880757568, 'reg_lambda': 60.095473254607526, 'subsample': 0.8379927666924344, 'random_strength': 43.43878814918952, 'depth': 4, 'min_data_in_leaf': 7, 'leaf_estimation_iterations': 15}. Best is trial 11 with value: 1.7475197176633912.\u001b[0m\n",
            "\u001b[32m[I 2021-06-26 08:18:01,582]\u001b[0m Trial 16 finished with value: 1.7499419268171834 and parameters: {'iterations': 13054, 'learning_rate': 0.09712065117924404, 'reg_lambda': 37.59591464500817, 'subsample': 0.8455329029303831, 'random_strength': 22.813725022814392, 'depth': 7, 'min_data_in_leaf': 22, 'leaf_estimation_iterations': 11}. Best is trial 11 with value: 1.7475197176633912.\u001b[0m\n",
            "\u001b[32m[I 2021-06-26 08:18:09,146]\u001b[0m Trial 17 finished with value: 1.7524951911078541 and parameters: {'iterations': 7566, 'learning_rate': 0.20142593740716103, 'reg_lambda': 92.12851266852547, 'subsample': 0.9812604437026387, 'random_strength': 10.734656014610682, 'depth': 14, 'min_data_in_leaf': 10, 'leaf_estimation_iterations': 15}. Best is trial 11 with value: 1.7475197176633912.\u001b[0m\n",
            "\u001b[32m[I 2021-06-26 08:18:14,783]\u001b[0m Trial 18 finished with value: 1.757177712963567 and parameters: {'iterations': 17357, 'learning_rate': 0.33980878280213267, 'reg_lambda': 69.71139764289163, 'subsample': 0.7699679642569893, 'random_strength': 40.20058038235241, 'depth': 9, 'min_data_in_leaf': 36, 'leaf_estimation_iterations': 8}. Best is trial 11 with value: 1.7475197176633912.\u001b[0m\n",
            "\u001b[32m[I 2021-06-26 08:18:24,917]\u001b[0m Trial 19 finished with value: 1.750703909967023 and parameters: {'iterations': 12732, 'learning_rate': 0.10183576593349199, 'reg_lambda': 56.593796890395225, 'subsample': 0.912912794475577, 'random_strength': 21.800836977248526, 'depth': 4, 'min_data_in_leaf': 5, 'leaf_estimation_iterations': 13}. Best is trial 11 with value: 1.7475197176633912.\u001b[0m\n",
            "\u001b[32m[I 2021-06-26 08:20:19,414]\u001b[0m Trial 20 finished with value: 1.7525655341960773 and parameters: {'iterations': 8649, 'learning_rate': 0.017528020420605427, 'reg_lambda': 80.96704194629774, 'subsample': 0.7390288086078993, 'random_strength': 31.149498770736464, 'depth': 1, 'min_data_in_leaf': 15, 'leaf_estimation_iterations': 13}. Best is trial 11 with value: 1.7475197176633912.\u001b[0m\n",
            "\u001b[32m[I 2021-06-26 08:20:34,449]\u001b[0m Trial 21 finished with value: 1.748092794467991 and parameters: {'iterations': 4284, 'learning_rate': 0.046795331556579944, 'reg_lambda': 88.37914154427442, 'subsample': 0.438420778980093, 'random_strength': 19.257357556804394, 'depth': 7, 'min_data_in_leaf': 17, 'leaf_estimation_iterations': 6}. Best is trial 11 with value: 1.7475197176633912.\u001b[0m\n",
            "\u001b[32m[I 2021-06-26 08:20:48,770]\u001b[0m Trial 22 finished with value: 1.7479603372037502 and parameters: {'iterations': 5405, 'learning_rate': 0.0500893537806422, 'reg_lambda': 86.24562275602673, 'subsample': 0.42442591935968293, 'random_strength': 13.92704125664782, 'depth': 6, 'min_data_in_leaf': 23, 'leaf_estimation_iterations': 1}. Best is trial 11 with value: 1.7475197176633912.\u001b[0m\n",
            "\u001b[32m[I 2021-06-26 08:21:32,901]\u001b[0m Trial 23 finished with value: 1.746029926356897 and parameters: {'iterations': 3150, 'learning_rate': 0.01722922366960469, 'reg_lambda': 97.87444502097921, 'subsample': 0.33141204073461017, 'random_strength': 26.6396026843073, 'depth': 8, 'min_data_in_leaf': 12, 'leaf_estimation_iterations': 1}. Best is trial 23 with value: 1.746029926356897.\u001b[0m\n",
            "\u001b[32m[I 2021-06-26 08:22:33,026]\u001b[0m Trial 24 finished with value: 1.7463593121239191 and parameters: {'iterations': 2952, 'learning_rate': 0.01219997261782682, 'reg_lambda': 99.69582089870576, 'subsample': 0.3208470198907814, 'random_strength': 28.496313447690106, 'depth': 9, 'min_data_in_leaf': 11, 'leaf_estimation_iterations': 10}. Best is trial 23 with value: 1.746029926356897.\u001b[0m\n",
            "\u001b[32m[I 2021-06-26 08:22:41,926]\u001b[0m Trial 25 finished with value: 1.7503407392668007 and parameters: {'iterations': 3113, 'learning_rate': 0.126292088631859, 'reg_lambda': 99.64234857948107, 'subsample': 0.3247587470025086, 'random_strength': 27.15141280520679, 'depth': 9, 'min_data_in_leaf': 11, 'leaf_estimation_iterations': 9}. Best is trial 23 with value: 1.746029926356897.\u001b[0m\n",
            "\u001b[32m[I 2021-06-26 08:22:58,865]\u001b[0m Trial 26 finished with value: 1.7475772231981108 and parameters: {'iterations': 2008, 'learning_rate': 0.06916409392802492, 'reg_lambda': 96.19093061600073, 'subsample': 0.0405343671672968, 'random_strength': 38.72633578510325, 'depth': 11, 'min_data_in_leaf': 5, 'leaf_estimation_iterations': 6}. Best is trial 23 with value: 1.746029926356897.\u001b[0m\n",
            "\u001b[32m[I 2021-06-26 08:23:06,807]\u001b[0m Trial 27 finished with value: 1.7515049865422654 and parameters: {'iterations': 6407, 'learning_rate': 0.184228671100434, 'reg_lambda': 74.7978677418754, 'subsample': 0.30872748752163015, 'random_strength': 49.69935073876873, 'depth': 8, 'min_data_in_leaf': 11, 'leaf_estimation_iterations': 11}. Best is trial 23 with value: 1.746029926356897.\u001b[0m\n",
            "\u001b[32m[I 2021-06-26 08:23:55,674]\u001b[0m Trial 28 finished with value: 1.746570917270794 and parameters: {'iterations': 2153, 'learning_rate': 0.015476710387013926, 'reg_lambda': 92.79846648925374, 'subsample': 0.5435914283211942, 'random_strength': 29.611753600263903, 'depth': 10, 'min_data_in_leaf': 7, 'leaf_estimation_iterations': 7}. Best is trial 23 with value: 1.746029926356897.\u001b[0m\n",
            "\u001b[32m[I 2021-06-26 08:24:00,933]\u001b[0m Trial 29 finished with value: 1.759548976290942 and parameters: {'iterations': 2110, 'learning_rate': 0.4269722183947369, 'reg_lambda': 92.33129559341286, 'subsample': 0.14835984112297906, 'random_strength': 29.046577641297922, 'depth': 13, 'min_data_in_leaf': 3, 'leaf_estimation_iterations': 7}. Best is trial 23 with value: 1.746029926356897.\u001b[0m\n",
            "\u001b[32m[I 2021-06-26 08:24:10,518]\u001b[0m Trial 30 finished with value: 1.749002603499957 and parameters: {'iterations': 6191, 'learning_rate': 0.10447694700912073, 'reg_lambda': 98.3132556807438, 'subsample': 0.5539135324123701, 'random_strength': 32.57119833922093, 'depth': 11, 'min_data_in_leaf': 8, 'leaf_estimation_iterations': 1}. Best is trial 23 with value: 1.746029926356897.\u001b[0m\n",
            "\u001b[32m[I 2021-06-26 08:24:37,071]\u001b[0m Trial 31 finished with value: 1.7468462152875457 and parameters: {'iterations': 3422, 'learning_rate': 0.03349312097053195, 'reg_lambda': 99.93397083646046, 'subsample': 0.3212836880055631, 'random_strength': 27.053448726702495, 'depth': 10, 'min_data_in_leaf': 1, 'leaf_estimation_iterations': 12}. Best is trial 23 with value: 1.746029926356897.\u001b[0m\n",
            "\u001b[32m[I 2021-06-26 08:25:48,060]\u001b[0m Trial 32 finished with value: 1.7463529990869093 and parameters: {'iterations': 3477, 'learning_rate': 0.012201683540233889, 'reg_lambda': 92.14711773799417, 'subsample': 0.32615182327280645, 'random_strength': 27.213903533431182, 'depth': 10, 'min_data_in_leaf': 1, 'leaf_estimation_iterations': 12}. Best is trial 23 with value: 1.746029926356897.\u001b[0m\n",
            "\u001b[32m[I 2021-06-26 08:26:05,303]\u001b[0m Trial 33 finished with value: 1.7479123825042182 and parameters: {'iterations': 3512, 'learning_rate': 0.064228692080673, 'reg_lambda': 92.53450612215725, 'subsample': 0.26500316338808616, 'random_strength': 28.310061700428395, 'depth': 10, 'min_data_in_leaf': 4, 'leaf_estimation_iterations': 11}. Best is trial 23 with value: 1.746029926356897.\u001b[0m\n",
            "\u001b[32m[I 2021-06-26 08:26:20,389]\u001b[0m Trial 34 finished with value: 1.7476051621328912 and parameters: {'iterations': 2048, 'learning_rate': 0.08224110654492929, 'reg_lambda': 71.2347486301473, 'subsample': 0.09007007389964641, 'random_strength': 35.66524508732043, 'depth': 9, 'min_data_in_leaf': 7, 'leaf_estimation_iterations': 9}. Best is trial 23 with value: 1.746029926356897.\u001b[0m\n",
            "\u001b[32m[I 2021-06-26 08:26:28,464]\u001b[0m Trial 35 finished with value: 1.750641579022227 and parameters: {'iterations': 5712, 'learning_rate': 0.1539280601000637, 'reg_lambda': 92.1743047084047, 'subsample': 0.519672824749452, 'random_strength': 25.278280934507627, 'depth': 12, 'min_data_in_leaf': 1, 'leaf_estimation_iterations': 10}. Best is trial 23 with value: 1.746029926356897.\u001b[0m\n",
            "\u001b[32m[I 2021-06-26 08:26:37,746]\u001b[0m Trial 36 finished with value: 1.7508621824885449 and parameters: {'iterations': 2243, 'learning_rate': 0.12431780786557713, 'reg_lambda': 29.387074027611124, 'subsample': 0.3552620222497735, 'random_strength': 32.92609275647018, 'depth': 10, 'min_data_in_leaf': 8, 'leaf_estimation_iterations': 9}. Best is trial 23 with value: 1.746029926356897.\u001b[0m\n",
            "\u001b[32m[I 2021-06-26 08:26:53,535]\u001b[0m Trial 37 finished with value: 1.7472066919642983 and parameters: {'iterations': 3908, 'learning_rate': 0.048033307798965516, 'reg_lambda': 86.59768377462036, 'subsample': 0.48375815036143827, 'random_strength': 20.103855703231424, 'depth': 13, 'min_data_in_leaf': 35, 'leaf_estimation_iterations': 4}. Best is trial 23 with value: 1.746029926356897.\u001b[0m\n",
            "\u001b[32m[I 2021-06-26 08:28:04,164]\u001b[0m Trial 38 finished with value: 1.7464587820280733 and parameters: {'iterations': 6680, 'learning_rate': 0.013378912502521791, 'reg_lambda': 66.70330711840336, 'subsample': 0.25760186877250024, 'random_strength': 30.355100908860052, 'depth': 9, 'min_data_in_leaf': 19, 'leaf_estimation_iterations': 12}. Best is trial 23 with value: 1.746029926356897.\u001b[0m\n",
            "\u001b[32m[I 2021-06-26 08:28:12,486]\u001b[0m Trial 39 finished with value: 1.753055549470378 and parameters: {'iterations': 6970, 'learning_rate': 0.21125731292381586, 'reg_lambda': 66.79545380522632, 'subsample': 0.16697558349156205, 'random_strength': 31.455571860283364, 'depth': 11, 'min_data_in_leaf': 18, 'leaf_estimation_iterations': 12}. Best is trial 23 with value: 1.746029926356897.\u001b[0m\n",
            "\u001b[32m[I 2021-06-26 08:28:18,212]\u001b[0m Trial 40 finished with value: 1.7566780772985606 and parameters: {'iterations': 4912, 'learning_rate': 0.3309299838583078, 'reg_lambda': 48.162528781012654, 'subsample': 0.2583290610509402, 'random_strength': 34.29699730333296, 'depth': 8, 'min_data_in_leaf': 25, 'leaf_estimation_iterations': 12}. Best is trial 23 with value: 1.746029926356897.\u001b[0m\n",
            "\u001b[32m[I 2021-06-26 08:29:12,953]\u001b[0m Trial 41 finished with value: 1.7468344255608215 and parameters: {'iterations': 2922, 'learning_rate': 0.018241523503044952, 'reg_lambda': 76.63575610605497, 'subsample': 0.38018147182347667, 'random_strength': 29.648036587479126, 'depth': 9, 'min_data_in_leaf': 20, 'leaf_estimation_iterations': 11}. Best is trial 23 with value: 1.746029926356897.\u001b[0m\n",
            "\u001b[32m[I 2021-06-26 08:30:46,303]\u001b[0m Trial 42 finished with value: 1.7460668914877344 and parameters: {'iterations': 4949, 'learning_rate': 0.010246004199900042, 'reg_lambda': 99.75172873248596, 'subsample': 0.2699874109933855, 'random_strength': 25.847424499686653, 'depth': 11, 'min_data_in_leaf': 12, 'leaf_estimation_iterations': 10}. Best is trial 23 with value: 1.746029926356897.\u001b[0m\n",
            "\u001b[32m[I 2021-06-26 08:31:14,220]\u001b[0m Trial 43 finished with value: 1.7467057490496358 and parameters: {'iterations': 5199, 'learning_rate': 0.034284946366888495, 'reg_lambda': 99.71953548161656, 'subsample': 0.11953412741208472, 'random_strength': 25.314554923787732, 'depth': 12, 'min_data_in_leaf': 13, 'leaf_estimation_iterations': 10}. Best is trial 23 with value: 1.746029926356897.\u001b[0m\n",
            "\u001b[32m[I 2021-06-26 08:31:29,970]\u001b[0m Trial 44 finished with value: 1.7476753795450626 and parameters: {'iterations': 7341, 'learning_rate': 0.06689498383003246, 'reg_lambda': 61.323623900571285, 'subsample': 0.20734699105965154, 'random_strength': 27.120303434702098, 'depth': 9, 'min_data_in_leaf': 12, 'leaf_estimation_iterations': 10}. Best is trial 23 with value: 1.746029926356897.\u001b[0m\n",
            "\u001b[32m[I 2021-06-26 08:32:52,422]\u001b[0m Trial 45 finished with value: 1.7468611657067485 and parameters: {'iterations': 4104, 'learning_rate': 0.012584462770098639, 'reg_lambda': 95.46038083587544, 'subsample': 0.268153301004136, 'random_strength': 21.2586848861697, 'depth': 6, 'min_data_in_leaf': 17, 'leaf_estimation_iterations': 14}. Best is trial 23 with value: 1.746029926356897.\u001b[0m\n",
            "\u001b[32m[I 2021-06-26 08:33:15,545]\u001b[0m Trial 46 finished with value: 1.7470303911984126 and parameters: {'iterations': 14670, 'learning_rate': 0.037224688129160334, 'reg_lambda': 86.33669108690061, 'subsample': 0.44186121869319, 'random_strength': 37.61378987150084, 'depth': 10, 'min_data_in_leaf': 20, 'leaf_estimation_iterations': 9}. Best is trial 23 with value: 1.746029926356897.\u001b[0m\n",
            "\u001b[32m[I 2021-06-26 08:33:28,680]\u001b[0m Trial 47 finished with value: 1.7495000205415498 and parameters: {'iterations': 6413, 'learning_rate': 0.07784916829938926, 'reg_lambda': 2.9801048986690546, 'subsample': 0.23024987985106332, 'random_strength': 23.70390575936722, 'depth': 8, 'min_data_in_leaf': 31, 'leaf_estimation_iterations': 12}. Best is trial 23 with value: 1.746029926356897.\u001b[0m\n",
            "\u001b[32m[I 2021-06-26 08:33:34,493]\u001b[0m Trial 48 finished with value: 1.7607389758729486 and parameters: {'iterations': 8239, 'learning_rate': 0.4925703254058045, 'reg_lambda': 50.45159928888272, 'subsample': 0.37383776479904474, 'random_strength': 31.027540363993076, 'depth': 11, 'min_data_in_leaf': 15, 'leaf_estimation_iterations': 14}. Best is trial 23 with value: 1.746029926356897.\u001b[0m\n",
            "\u001b[32m[I 2021-06-26 08:33:44,967]\u001b[0m Trial 49 finished with value: 1.750481982392441 and parameters: {'iterations': 4984, 'learning_rate': 0.11832209964082825, 'reg_lambda': 19.25289902487837, 'subsample': 0.2954774094068101, 'random_strength': 26.7103133084985, 'depth': 13, 'min_data_in_leaf': 26, 'leaf_estimation_iterations': 10}. Best is trial 23 with value: 1.746029926356897.\u001b[0m\n",
            "\u001b[32m[I 2021-06-26 08:33:53,758]\u001b[0m Trial 50 finished with value: 1.7506104653268555 and parameters: {'iterations': 8550, 'learning_rate': 0.1605769924039079, 'reg_lambda': 89.01316269996508, 'subsample': 0.06323956198688876, 'random_strength': 24.810790946064355, 'depth': 8, 'min_data_in_leaf': 19, 'leaf_estimation_iterations': 13}. Best is trial 23 with value: 1.746029926356897.\u001b[0m\n",
            "\u001b[32m[I 2021-06-26 08:34:55,916]\u001b[0m Trial 51 finished with value: 1.7463864901170578 and parameters: {'iterations': 2322, 'learning_rate': 0.011000051145344476, 'reg_lambda': 95.20163662935771, 'subsample': 0.5590148947685429, 'random_strength': 28.954518871750523, 'depth': 10, 'min_data_in_leaf': 9, 'leaf_estimation_iterations': 7}. Best is trial 23 with value: 1.746029926356897.\u001b[0m\n",
            "\u001b[32m[I 2021-06-26 08:35:13,284]\u001b[0m Trial 52 finished with value: 1.747412332185017 and parameters: {'iterations': 3641, 'learning_rate': 0.03323638207271053, 'reg_lambda': 95.85499010479441, 'subsample': 0.5898260374662325, 'random_strength': 28.250548392719217, 'depth': 12, 'min_data_in_leaf': 10, 'leaf_estimation_iterations': 3}. Best is trial 23 with value: 1.746029926356897.\u001b[0m\n",
            "\u001b[32m[I 2021-06-26 08:35:29,927]\u001b[0m Trial 53 finished with value: 1.748039774994667 and parameters: {'iterations': 2773, 'learning_rate': 0.05553049091639373, 'reg_lambda': 82.4295254572765, 'subsample': 0.3482661044538128, 'random_strength': 33.351126483965466, 'depth': 9, 'min_data_in_leaf': 13, 'leaf_estimation_iterations': 11}. Best is trial 23 with value: 1.746029926356897.\u001b[0m\n",
            "\u001b[32m[I 2021-06-26 08:36:21,218]\u001b[0m Trial 54 finished with value: 1.7464461705329075 and parameters: {'iterations': 4475, 'learning_rate': 0.013681618612886177, 'reg_lambda': 99.09288947138668, 'subsample': 0.4100527212626543, 'random_strength': 22.64318641328116, 'depth': 10, 'min_data_in_leaf': 9, 'leaf_estimation_iterations': 8}. Best is trial 23 with value: 1.746029926356897.\u001b[0m\n",
            "\u001b[32m[I 2021-06-26 08:37:22,559]\u001b[0m Trial 55 finished with value: 1.7460467779634232 and parameters: {'iterations': 4383, 'learning_rate': 0.010711470353881564, 'reg_lambda': 99.03694717278812, 'subsample': 0.41488843775390616, 'random_strength': 21.8199120573772, 'depth': 10, 'min_data_in_leaf': 9, 'leaf_estimation_iterations': 7}. Best is trial 23 with value: 1.746029926356897.\u001b[0m\n",
            "\u001b[32m[I 2021-06-26 08:37:42,153]\u001b[0m Trial 56 finished with value: 1.7470846082633984 and parameters: {'iterations': 22430, 'learning_rate': 0.0327271293765794, 'reg_lambda': 89.63244248346435, 'subsample': 0.46872582346003555, 'random_strength': 15.297954708102242, 'depth': 11, 'min_data_in_leaf': 5, 'leaf_estimation_iterations': 7}. Best is trial 23 with value: 1.746029926356897.\u001b[0m\n",
            "\u001b[32m[I 2021-06-26 08:37:50,700]\u001b[0m Trial 57 finished with value: 1.749352760010877 and parameters: {'iterations': 2884, 'learning_rate': 0.09268755356966787, 'reg_lambda': 96.60422054062256, 'subsample': 0.6626150146716768, 'random_strength': 19.324119559630088, 'depth': 11, 'min_data_in_leaf': 3, 'leaf_estimation_iterations': 5}. Best is trial 23 with value: 1.746029926356897.\u001b[0m\n",
            "\u001b[32m[I 2021-06-26 08:38:05,492]\u001b[0m Trial 58 finished with value: 1.7482580876810054 and parameters: {'iterations': 4208, 'learning_rate': 0.05421162243781676, 'reg_lambda': 84.5319281006617, 'subsample': 0.44540792892281056, 'random_strength': 20.75240520664933, 'depth': 7, 'min_data_in_leaf': 16, 'leaf_estimation_iterations': 2}. Best is trial 23 with value: 1.746029926356897.\u001b[0m\n",
            "\u001b[32m[I 2021-06-26 08:38:11,038]\u001b[0m Trial 59 finished with value: 1.7524650934075954 and parameters: {'iterations': 5729, 'learning_rate': 0.24734057168752988, 'reg_lambda': 79.33360648864114, 'subsample': 0.40284899294545273, 'random_strength': 25.986307839226654, 'depth': 12, 'min_data_in_leaf': 6, 'leaf_estimation_iterations': 5}. Best is trial 23 with value: 1.746029926356897.\u001b[0m\n",
            "\u001b[32m[I 2021-06-26 08:38:38,070]\u001b[0m Trial 60 finished with value: 1.747200122484272 and parameters: {'iterations': 18108, 'learning_rate': 0.031623968023524116, 'reg_lambda': 94.33167616127305, 'subsample': 0.34207343679581376, 'random_strength': 23.00210508943592, 'depth': 7, 'min_data_in_leaf': 12, 'leaf_estimation_iterations': 8}. Best is trial 23 with value: 1.746029926356897.\u001b[0m\n",
            "\u001b[32m[I 2021-06-26 08:39:17,961]\u001b[0m Trial 61 finished with value: 1.746512675212062 and parameters: {'iterations': 4499, 'learning_rate': 0.015759331358698787, 'reg_lambda': 99.6486310068731, 'subsample': 0.4002689976622185, 'random_strength': 22.465804975804446, 'depth': 10, 'min_data_in_leaf': 9, 'leaf_estimation_iterations': 7}. Best is trial 23 with value: 1.746029926356897.\u001b[0m\n",
            "\u001b[32m[I 2021-06-26 08:40:17,921]\u001b[0m Trial 62 finished with value: 1.7467016269641178 and parameters: {'iterations': 2850, 'learning_rate': 0.012048366968052393, 'reg_lambda': 99.55217449547153, 'subsample': 0.5216384225069716, 'random_strength': 23.78426870201883, 'depth': 10, 'min_data_in_leaf': 9, 'leaf_estimation_iterations': 8}. Best is trial 23 with value: 1.746029926356897.\u001b[0m\n",
            "\u001b[32m[I 2021-06-26 08:40:29,862]\u001b[0m Trial 63 finished with value: 1.7485500824901556 and parameters: {'iterations': 4634, 'learning_rate': 0.07353624623798036, 'reg_lambda': 89.96098268394451, 'subsample': 0.30234888383313746, 'random_strength': 28.212301142680552, 'depth': 11, 'min_data_in_leaf': 11, 'leaf_estimation_iterations': 6}. Best is trial 23 with value: 1.746029926356897.\u001b[0m\n",
            "\u001b[32m[I 2021-06-26 08:41:41,208]\u001b[0m Trial 64 finished with value: 1.746127453684124 and parameters: {'iterations': 3721, 'learning_rate': 0.010208184968652528, 'reg_lambda': 96.33780686376684, 'subsample': 0.41297768771157156, 'random_strength': 17.890735871505015, 'depth': 10, 'min_data_in_leaf': 14, 'leaf_estimation_iterations': 9}. Best is trial 23 with value: 1.746029926356897.\u001b[0m\n",
            "\u001b[32m[I 2021-06-26 08:42:00,907]\u001b[0m Trial 65 finished with value: 1.7474202297676722 and parameters: {'iterations': 2079, 'learning_rate': 0.05185443751244258, 'reg_lambda': 95.78745818048212, 'subsample': 0.4775690243731552, 'random_strength': 17.97446830367646, 'depth': 9, 'min_data_in_leaf': 14, 'leaf_estimation_iterations': 9}. Best is trial 23 with value: 1.746029926356897.\u001b[0m\n",
            "\u001b[32m[I 2021-06-26 08:42:36,936]\u001b[0m Trial 66 finished with value: 1.74646636657052 and parameters: {'iterations': 3602, 'learning_rate': 0.026825039630149778, 'reg_lambda': 90.31880241814886, 'subsample': 0.21491558794211318, 'random_strength': 14.456481979425277, 'depth': 8, 'min_data_in_leaf': 6, 'leaf_estimation_iterations': 10}. Best is trial 23 with value: 1.746029926356897.\u001b[0m\n",
            "\u001b[32m[I 2021-06-26 08:42:54,964]\u001b[0m Trial 67 finished with value: 1.7477005082917887 and parameters: {'iterations': 3311, 'learning_rate': 0.04687364799285208, 'reg_lambda': 84.4382260081658, 'subsample': 0.3659414322466019, 'random_strength': 17.089497997208113, 'depth': 9, 'min_data_in_leaf': 22, 'leaf_estimation_iterations': 9}. Best is trial 23 with value: 1.746029926356897.\u001b[0m\n",
            "\u001b[32m[I 2021-06-26 08:43:09,049]\u001b[0m Trial 68 finished with value: 1.7478249002483361 and parameters: {'iterations': 5547, 'learning_rate': 0.06491285899286658, 'reg_lambda': 93.48536929780835, 'subsample': 0.5948416249307984, 'random_strength': 12.324860718062421, 'depth': 10, 'min_data_in_leaf': 2, 'leaf_estimation_iterations': 11}. Best is trial 23 with value: 1.746029926356897.\u001b[0m\n",
            "\u001b[32m[I 2021-06-26 08:44:08,774]\u001b[0m Trial 69 finished with value: 1.7469428908556845 and parameters: {'iterations': 2004, 'learning_rate': 0.010043822721744566, 'reg_lambda': 96.06733512259801, 'subsample': 0.2972149920256208, 'random_strength': 25.73177852683862, 'depth': 6, 'min_data_in_leaf': 12, 'leaf_estimation_iterations': 7}. Best is trial 23 with value: 1.746029926356897.\u001b[0m\n",
            "\u001b[32m[I 2021-06-26 08:44:18,248]\u001b[0m Trial 70 finished with value: 1.749883603169923 and parameters: {'iterations': 11778, 'learning_rate': 0.11120893301401011, 'reg_lambda': 97.57608090248819, 'subsample': 0.5089863187935431, 'random_strength': 28.50096864815662, 'depth': 11, 'min_data_in_leaf': 16, 'leaf_estimation_iterations': 10}. Best is trial 23 with value: 1.746029926356897.\u001b[0m\n",
            "\u001b[32m[I 2021-06-26 08:44:39,559]\u001b[0m Trial 71 finished with value: 1.7471021004138714 and parameters: {'iterations': 4128, 'learning_rate': 0.039852212286577024, 'reg_lambda': 99.98652198635529, 'subsample': 0.39885238375260845, 'random_strength': 21.618489070545767, 'depth': 10, 'min_data_in_leaf': 9, 'leaf_estimation_iterations': 8}. Best is trial 23 with value: 1.746029926356897.\u001b[0m\n",
            "\u001b[32m[I 2021-06-26 08:45:47,475]\u001b[0m Trial 72 finished with value: 1.7463485670837977 and parameters: {'iterations': 5850, 'learning_rate': 0.012001527982389949, 'reg_lambda': 99.88017595762363, 'subsample': 0.33183008542000114, 'random_strength': 23.973076804464746, 'depth': 10, 'min_data_in_leaf': 8, 'leaf_estimation_iterations': 8}. Best is trial 23 with value: 1.746029926356897.\u001b[0m\n",
            "\u001b[32m[I 2021-06-26 08:46:14,151]\u001b[0m Trial 73 finished with value: 1.7467335603493153 and parameters: {'iterations': 5962, 'learning_rate': 0.025029392654789727, 'reg_lambda': 91.40652525684999, 'subsample': 0.33246773823418646, 'random_strength': 24.31188284054408, 'depth': 11, 'min_data_in_leaf': 7, 'leaf_estimation_iterations': 7}. Best is trial 23 with value: 1.746029926356897.\u001b[0m\n",
            "\u001b[32m[I 2021-06-26 08:46:25,802]\u001b[0m Trial 74 finished with value: 1.7490191075372845 and parameters: {'iterations': 5182, 'learning_rate': 0.08580209237694633, 'reg_lambda': 94.07337691517921, 'subsample': 0.23791590353463887, 'random_strength': 19.188432832282466, 'depth': 9, 'min_data_in_leaf': 14, 'leaf_estimation_iterations': 9}. Best is trial 23 with value: 1.746029926356897.\u001b[0m\n",
            "\u001b[32m[I 2021-06-26 08:46:52,968]\u001b[0m Trial 75 finished with value: 1.7468670342524704 and parameters: {'iterations': 2524, 'learning_rate': 0.027562031969131838, 'reg_lambda': 87.06190347128997, 'subsample': 0.2879812480141443, 'random_strength': 26.628199953831494, 'depth': 10, 'min_data_in_leaf': 4, 'leaf_estimation_iterations': 4}. Best is trial 23 with value: 1.746029926356897.\u001b[0m\n",
            "\u001b[32m[I 2021-06-26 08:47:10,292]\u001b[0m Trial 76 finished with value: 1.747565341311365 and parameters: {'iterations': 3601, 'learning_rate': 0.04527604621967487, 'reg_lambda': 97.99753358131872, 'subsample': 0.4605550653134588, 'random_strength': 30.485247734361394, 'depth': 8, 'min_data_in_leaf': 13, 'leaf_estimation_iterations': 9}. Best is trial 23 with value: 1.746029926356897.\u001b[0m\n",
            "\u001b[32m[I 2021-06-26 08:47:16,481]\u001b[0m Trial 77 finished with value: 1.7544326231509928 and parameters: {'iterations': 9233, 'learning_rate': 0.28013740618652044, 'reg_lambda': 93.5472926332349, 'subsample': 0.5531167304759067, 'random_strength': 24.631590193042552, 'depth': 9, 'min_data_in_leaf': 11, 'leaf_estimation_iterations': 6}. Best is trial 23 with value: 1.746029926356897.\u001b[0m\n",
            "\u001b[32m[I 2021-06-26 08:48:19,405]\u001b[0m Trial 78 finished with value: 1.7463398594788668 and parameters: {'iterations': 7770, 'learning_rate': 0.01132368535285437, 'reg_lambda': 99.92636072541488, 'subsample': 0.4285921172760338, 'random_strength': 27.708362002356413, 'depth': 12, 'min_data_in_leaf': 8, 'leaf_estimation_iterations': 8}. Best is trial 23 with value: 1.746029926356897.\u001b[0m\n",
            "\u001b[32m[I 2021-06-26 08:48:37,326]\u001b[0m Trial 79 finished with value: 1.7475131315244063 and parameters: {'iterations': 7399, 'learning_rate': 0.06254650130422656, 'reg_lambda': 99.32916199488533, 'subsample': 0.17568250629528537, 'random_strength': 27.6020216377544, 'depth': 13, 'min_data_in_leaf': 45, 'leaf_estimation_iterations': 11}. Best is trial 23 with value: 1.746029926356897.\u001b[0m\n",
            "\u001b[32m[I 2021-06-26 08:49:13,066]\u001b[0m Trial 80 finished with value: 1.7464270580104946 and parameters: {'iterations': 6721, 'learning_rate': 0.023117551837859518, 'reg_lambda': 91.1843964927038, 'subsample': 0.42577391142744603, 'random_strength': 20.00302008736781, 'depth': 14, 'min_data_in_leaf': 6, 'leaf_estimation_iterations': 10}. Best is trial 23 with value: 1.746029926356897.\u001b[0m\n",
            "\u001b[32m[I 2021-06-26 08:49:33,233]\u001b[0m Trial 81 finished with value: 1.7479606895526496 and parameters: {'iterations': 5085, 'learning_rate': 0.04165492944981444, 'reg_lambda': 96.5912768734618, 'subsample': 0.37378343452784857, 'random_strength': 32.17345005040866, 'depth': 12, 'min_data_in_leaf': 8, 'leaf_estimation_iterations': 8}. Best is trial 23 with value: 1.746029926356897.\u001b[0m\n",
            "\u001b[32m[I 2021-06-26 08:50:22,032]\u001b[0m Trial 82 finished with value: 1.7465606077339428 and parameters: {'iterations': 2757, 'learning_rate': 0.012584371503240524, 'reg_lambda': 93.95565244297777, 'subsample': 0.3276108161053365, 'random_strength': 26.24766642675253, 'depth': 11, 'min_data_in_leaf': 10, 'leaf_estimation_iterations': 7}. Best is trial 23 with value: 1.746029926356897.\u001b[0m\n",
            "\u001b[32m[I 2021-06-26 08:50:56,222]\u001b[0m Trial 83 finished with value: 1.7468410258969518 and parameters: {'iterations': 6243, 'learning_rate': 0.02736943622364658, 'reg_lambda': 88.26474703315672, 'subsample': 0.27451076228400806, 'random_strength': 29.34608303508868, 'depth': 10, 'min_data_in_leaf': 3, 'leaf_estimation_iterations': 8}. Best is trial 23 with value: 1.746029926356897.\u001b[0m\n",
            "\u001b[32m[I 2021-06-26 08:51:12,026]\u001b[0m Trial 84 finished with value: 1.7489367299952883 and parameters: {'iterations': 8020, 'learning_rate': 0.05672193364109636, 'reg_lambda': 8.107816432744812, 'subsample': 0.34955272315075675, 'random_strength': 23.48459514960541, 'depth': 12, 'min_data_in_leaf': 8, 'leaf_estimation_iterations': 9}. Best is trial 23 with value: 1.746029926356897.\u001b[0m\n",
            "\u001b[32m[I 2021-06-26 08:52:14,772]\u001b[0m Trial 85 finished with value: 1.7462236897440402 and parameters: {'iterations': 3893, 'learning_rate': 0.010962150846762568, 'reg_lambda': 99.72275846931288, 'subsample': 0.42192339288920594, 'random_strength': 27.879134709267355, 'depth': 9, 'min_data_in_leaf': 10, 'leaf_estimation_iterations': 8}. Best is trial 23 with value: 1.746029926356897.\u001b[0m\n",
            "\u001b[32m[I 2021-06-26 08:53:15,631]\u001b[0m Trial 86 finished with value: 1.7464422859704722 and parameters: {'iterations': 3834, 'learning_rate': 0.011325861406153043, 'reg_lambda': 99.94706971880201, 'subsample': 0.4270551934933847, 'random_strength': 27.732798899033476, 'depth': 9, 'min_data_in_leaf': 11, 'leaf_estimation_iterations': 9}. Best is trial 23 with value: 1.746029926356897.\u001b[0m\n",
            "\u001b[32m[I 2021-06-26 08:53:34,601]\u001b[0m Trial 87 finished with value: 1.7473210821074925 and parameters: {'iterations': 4778, 'learning_rate': 0.040954819410093414, 'reg_lambda': 98.05629283315065, 'subsample': 0.4957534362723134, 'random_strength': 24.986419993789458, 'depth': 8, 'min_data_in_leaf': 13, 'leaf_estimation_iterations': 8}. Best is trial 23 with value: 1.746029926356897.\u001b[0m\n",
            "\u001b[32m[I 2021-06-26 08:54:50,500]\u001b[0m Trial 88 finished with value: 1.7464040913809527 and parameters: {'iterations': 5824, 'learning_rate': 0.010556248252546398, 'reg_lambda': 84.48166581430065, 'subsample': 0.38293879602577285, 'random_strength': 29.84660183385585, 'depth': 12, 'min_data_in_leaf': 15, 'leaf_estimation_iterations': 10}. Best is trial 23 with value: 1.746029926356897.\u001b[0m\n",
            "\u001b[32m[I 2021-06-26 08:55:03,238]\u001b[0m Trial 89 finished with value: 1.7481299383120983 and parameters: {'iterations': 10219, 'learning_rate': 0.07342796897076909, 'reg_lambda': 91.73758130845209, 'subsample': 0.3270031482694276, 'random_strength': 22.28369961260137, 'depth': 9, 'min_data_in_leaf': 5, 'leaf_estimation_iterations': 9}. Best is trial 23 with value: 1.746029926356897.\u001b[0m\n",
            "\u001b[32m[I 2021-06-26 08:55:08,539]\u001b[0m Trial 90 finished with value: 1.7587840358572608 and parameters: {'iterations': 6936, 'learning_rate': 0.45433841431114497, 'reg_lambda': 97.29823989825529, 'subsample': 0.45272531256594506, 'random_strength': 25.290114161376774, 'depth': 11, 'min_data_in_leaf': 10, 'leaf_estimation_iterations': 8}. Best is trial 23 with value: 1.746029926356897.\u001b[0m\n",
            "\u001b[32m[I 2021-06-26 08:56:05,013]\u001b[0m Trial 91 finished with value: 1.7465413668131666 and parameters: {'iterations': 3120, 'learning_rate': 0.010488443520171201, 'reg_lambda': 94.61455759660883, 'subsample': 0.634037007939105, 'random_strength': 27.081674016332165, 'depth': 10, 'min_data_in_leaf': 12, 'leaf_estimation_iterations': 7}. Best is trial 23 with value: 1.746029926356897.\u001b[0m\n",
            "\u001b[32m[I 2021-06-26 08:56:36,410]\u001b[0m Trial 92 finished with value: 1.746349603344091 and parameters: {'iterations': 4015, 'learning_rate': 0.02528196015699848, 'reg_lambda': 97.5717536886315, 'subsample': 0.31038332013468434, 'random_strength': 29.239145338025843, 'depth': 10, 'min_data_in_leaf': 7, 'leaf_estimation_iterations': 6}. Best is trial 23 with value: 1.746029926356897.\u001b[0m\n",
            "\u001b[32m[I 2021-06-26 08:57:05,846]\u001b[0m Trial 93 finished with value: 1.7465825792983658 and parameters: {'iterations': 4101, 'learning_rate': 0.02300714617217349, 'reg_lambda': 99.86647165171227, 'subsample': 0.313686535133975, 'random_strength': 32.019631882000894, 'depth': 10, 'min_data_in_leaf': 7, 'leaf_estimation_iterations': 6}. Best is trial 23 with value: 1.746029926356897.\u001b[0m\n",
            "\u001b[32m[I 2021-06-26 08:57:32,043]\u001b[0m Trial 94 finished with value: 1.7466650553446925 and parameters: {'iterations': 5496, 'learning_rate': 0.03448713593262056, 'reg_lambda': 97.71230132805862, 'subsample': 0.35955096442835327, 'random_strength': 31.329287457527233, 'depth': 11, 'min_data_in_leaf': 4, 'leaf_estimation_iterations': 8}. Best is trial 23 with value: 1.746029926356897.\u001b[0m\n",
            "\u001b[32m[I 2021-06-26 08:58:13,067]\u001b[0m Trial 95 finished with value: 1.7465111540605642 and parameters: {'iterations': 3374, 'learning_rate': 0.02097268846644489, 'reg_lambda': 88.65866335267427, 'subsample': 0.24532842874050273, 'random_strength': 25.93121622068285, 'depth': 9, 'min_data_in_leaf': 8, 'leaf_estimation_iterations': 13}. Best is trial 23 with value: 1.746029926356897.\u001b[0m\n",
            "\u001b[32m[I 2021-06-26 08:58:25,549]\u001b[0m Trial 96 finished with value: 1.7481058345403417 and parameters: {'iterations': 4122, 'learning_rate': 0.053419678920867235, 'reg_lambda': 36.428757415915726, 'subsample': 0.38777073219685565, 'random_strength': 28.78203417939047, 'depth': 8, 'min_data_in_leaf': 50, 'leaf_estimation_iterations': 2}. Best is trial 23 with value: 1.746029926356897.\u001b[0m\n",
            "\u001b[32m[I 2021-06-26 08:58:52,855]\u001b[0m Trial 97 finished with value: 1.7472279910208905 and parameters: {'iterations': 4606, 'learning_rate': 0.03728179053620968, 'reg_lambda': 91.98044092124822, 'subsample': 0.27738586933023834, 'random_strength': 30.509626388942984, 'depth': 10, 'min_data_in_leaf': 6, 'leaf_estimation_iterations': 14}. Best is trial 23 with value: 1.746029926356897.\u001b[0m\n",
            "\u001b[32m[I 2021-06-26 08:59:22,299]\u001b[0m Trial 98 finished with value: 1.7464295599192285 and parameters: {'iterations': 2509, 'learning_rate': 0.02380601692383671, 'reg_lambda': 97.22281194303594, 'subsample': 0.425313259385753, 'random_strength': 27.520136200783902, 'depth': 9, 'min_data_in_leaf': 1, 'leaf_estimation_iterations': 6}. Best is trial 23 with value: 1.746029926356897.\u001b[0m\n",
            "\u001b[32m[I 2021-06-26 08:59:41,602]\u001b[0m Trial 99 finished with value: 1.74797269142798 and parameters: {'iterations': 3212, 'learning_rate': 0.04605884213385181, 'reg_lambda': 99.98554275651966, 'subsample': 0.34613799177473337, 'random_strength': 24.208946763315556, 'depth': 11, 'min_data_in_leaf': 10, 'leaf_estimation_iterations': 9}. Best is trial 23 with value: 1.746029926356897.\u001b[0m\n"
          ],
          "name": "stderr"
        },
        {
          "output_type": "stream",
          "text": [
            "Number of finished trials: 100\n",
            "Best trial: score 1.746029926356897, params {'iterations': 3150, 'learning_rate': 0.01722922366960469, 'reg_lambda': 97.87444502097921, 'subsample': 0.33141204073461017, 'random_strength': 26.6396026843073, 'depth': 8, 'min_data_in_leaf': 12, 'leaf_estimation_iterations': 1}\n"
          ],
          "name": "stdout"
        }
      ]
    },
    {
      "cell_type": "code",
      "metadata": {
        "id": "_e8Yw95-iSMZ",
        "execution": {
          "iopub.status.busy": "2021-06-26T09:00:54.829302Z",
          "iopub.execute_input": "2021-06-26T09:00:54.829632Z",
          "iopub.status.idle": "2021-06-26T09:04:23.405232Z",
          "shell.execute_reply.started": "2021-06-26T09:00:54.829601Z",
          "shell.execute_reply": "2021-06-26T09:04:23.404312Z"
        },
        "trusted": true,
        "outputId": "e40b0d26-9db3-461e-b9f4-2ba00feb5533"
      },
      "source": [
        "# catboost모델 제일 성능이 잘 나옴(NN빼고)\n",
        "skf = StratifiedKFold(n_splits=5, shuffle=True, random_state=42)\n",
        "preds_cat = np.zeros((x_test.shape[0], y_train.nunique()))\n",
        "params_cat = {'iterations':study.best_params['iterations'],\n",
        "             'loss_function':'MultiClass',\n",
        "              'task_type':\"GPU\",\n",
        "              'eval_metric':'MultiClass',\n",
        "              'leaf_estimation_method':'Newton',\n",
        "              'bootstrap_type': 'Bernoulli',\n",
        "              'learning_rate' : study.best_params['learning_rate'],\n",
        "              'reg_lambda': study.best_params['reg_lambda'],\n",
        "              'subsample': study.best_params['subsample'],\n",
        "              'random_strength': study.best_params['random_strength'],\n",
        "              'depth': study.best_params['depth'],\n",
        "              'min_data_in_leaf': study.best_params['min_data_in_leaf'],\n",
        "              'leaf_estimation_iterations': study.best_params['leaf_estimation_iterations'],\n",
        "              'grow_policy' : 'Lossguide'\n",
        "               }\n",
        "\n",
        "for i, (train_index, valid_index) in enumerate(skf.split(x_train, y_train)):\n",
        "    X_train, X_valid = x_train.iloc[train_index], x_train.iloc[valid_index]\n",
        "    Y_train, Y_valid = y_train.iloc[train_index], y_train.iloc[valid_index]\n",
        "    \n",
        "    model = catboost.CatBoostClassifier(**params_cat)\n",
        "    model.fit(X_train, Y_train, verbose=100, early_stopping_rounds=70, eval_set=(X_valid, Y_valid))\n",
        "    preds_cat += model.predict_proba(x_test)/skf.n_splits\n"
      ],
      "execution_count": null,
      "outputs": [
        {
          "output_type": "stream",
          "text": [
            "0:\tlearn: 2.1834006\ttest: 2.1835584\tbest: 2.1835584 (0)\ttotal: 22.6ms\tremaining: 1m 11s\n",
            "100:\tlearn: 1.7936150\ttest: 1.8017998\tbest: 1.8017998 (100)\ttotal: 2.39s\tremaining: 1m 12s\n",
            "200:\tlearn: 1.7528883\ttest: 1.7653191\tbest: 1.7653191 (200)\ttotal: 4.4s\tremaining: 1m 4s\n",
            "300:\tlearn: 1.7420348\ttest: 1.7577615\tbest: 1.7577615 (300)\ttotal: 6.38s\tremaining: 1m\n",
            "400:\tlearn: 1.7364549\ttest: 1.7550311\tbest: 1.7550311 (400)\ttotal: 8.32s\tremaining: 57s\n",
            "500:\tlearn: 1.7324424\ttest: 1.7536818\tbest: 1.7536818 (500)\ttotal: 10.3s\tremaining: 54.2s\n",
            "600:\tlearn: 1.7291414\ttest: 1.7527713\tbest: 1.7527713 (600)\ttotal: 12.2s\tremaining: 51.7s\n",
            "700:\tlearn: 1.7262984\ttest: 1.7521609\tbest: 1.7521609 (700)\ttotal: 14.3s\tremaining: 50s\n",
            "800:\tlearn: 1.7237611\ttest: 1.7517072\tbest: 1.7517072 (800)\ttotal: 16.2s\tremaining: 47.5s\n",
            "900:\tlearn: 1.7214533\ttest: 1.7513777\tbest: 1.7513777 (900)\ttotal: 18s\tremaining: 45s\n",
            "1000:\tlearn: 1.7193082\ttest: 1.7511074\tbest: 1.7511074 (1000)\ttotal: 19.9s\tremaining: 42.7s\n",
            "1100:\tlearn: 1.7172170\ttest: 1.7509215\tbest: 1.7509215 (1091)\ttotal: 21.7s\tremaining: 40.5s\n",
            "1200:\tlearn: 1.7151811\ttest: 1.7507748\tbest: 1.7507748 (1200)\ttotal: 23.9s\tremaining: 38.7s\n",
            "1300:\tlearn: 1.7132664\ttest: 1.7506762\tbest: 1.7506762 (1300)\ttotal: 25.8s\tremaining: 36.7s\n",
            "1400:\tlearn: 1.7114344\ttest: 1.7506354\tbest: 1.7506211 (1376)\ttotal: 27.6s\tremaining: 34.5s\n",
            "1500:\tlearn: 1.7096461\ttest: 1.7505480\tbest: 1.7505465 (1497)\ttotal: 29.5s\tremaining: 32.4s\n",
            "1600:\tlearn: 1.7079160\ttest: 1.7505113\tbest: 1.7505100 (1596)\ttotal: 31.9s\tremaining: 30.8s\n",
            "1700:\tlearn: 1.7061805\ttest: 1.7504781\tbest: 1.7504756 (1666)\ttotal: 33.7s\tremaining: 28.7s\n",
            "bestTest = 1.750475586\n",
            "bestIteration = 1666\n",
            "Shrink model to first 1667 iterations.\n",
            "0:\tlearn: 2.1835953\ttest: 2.1835865\tbest: 2.1835865 (0)\ttotal: 23.6ms\tremaining: 1m 14s\n",
            "100:\tlearn: 1.7949941\ttest: 1.7972768\tbest: 1.7972768 (100)\ttotal: 2.2s\tremaining: 1m 6s\n",
            "200:\tlearn: 1.7548211\ttest: 1.7593160\tbest: 1.7593160 (200)\ttotal: 4.23s\tremaining: 1m 2s\n",
            "300:\tlearn: 1.7441303\ttest: 1.7508012\tbest: 1.7508012 (300)\ttotal: 6.57s\tremaining: 1m 2s\n",
            "400:\tlearn: 1.7385643\ttest: 1.7474957\tbest: 1.7474957 (400)\ttotal: 8.56s\tremaining: 58.7s\n",
            "500:\tlearn: 1.7345607\ttest: 1.7458104\tbest: 1.7458104 (500)\ttotal: 10.5s\tremaining: 55.5s\n",
            "600:\tlearn: 1.7313320\ttest: 1.7447654\tbest: 1.7447654 (600)\ttotal: 12.4s\tremaining: 52.5s\n",
            "700:\tlearn: 1.7285266\ttest: 1.7440246\tbest: 1.7440246 (700)\ttotal: 14.3s\tremaining: 49.8s\n",
            "800:\tlearn: 1.7260746\ttest: 1.7435230\tbest: 1.7435230 (800)\ttotal: 16.5s\tremaining: 48.3s\n",
            "900:\tlearn: 1.7237311\ttest: 1.7431369\tbest: 1.7431369 (900)\ttotal: 18.3s\tremaining: 45.7s\n",
            "1000:\tlearn: 1.7215457\ttest: 1.7428225\tbest: 1.7428225 (1000)\ttotal: 20.2s\tremaining: 43.3s\n",
            "1100:\tlearn: 1.7194562\ttest: 1.7425600\tbest: 1.7425586 (1099)\ttotal: 22s\tremaining: 41s\n",
            "1200:\tlearn: 1.7175051\ttest: 1.7424016\tbest: 1.7424016 (1200)\ttotal: 24.7s\tremaining: 40.1s\n",
            "1300:\tlearn: 1.7155813\ttest: 1.7422898\tbest: 1.7422865 (1298)\ttotal: 26.6s\tremaining: 37.8s\n",
            "1400:\tlearn: 1.7137537\ttest: 1.7422154\tbest: 1.7422154 (1400)\ttotal: 28.8s\tremaining: 36s\n",
            "1500:\tlearn: 1.7119234\ttest: 1.7421375\tbest: 1.7421375 (1500)\ttotal: 30.7s\tremaining: 33.7s\n",
            "1600:\tlearn: 1.7101830\ttest: 1.7420760\tbest: 1.7420736 (1595)\ttotal: 32.5s\tremaining: 31.5s\n",
            "1700:\tlearn: 1.7084736\ttest: 1.7420477\tbest: 1.7420439 (1694)\ttotal: 34.4s\tremaining: 29.3s\n",
            "1800:\tlearn: 1.7067559\ttest: 1.7420365\tbest: 1.7420264 (1776)\ttotal: 36.2s\tremaining: 27.1s\n",
            "bestTest = 1.742026367\n",
            "bestIteration = 1776\n",
            "Shrink model to first 1777 iterations.\n",
            "0:\tlearn: 2.1835568\ttest: 2.1835904\tbest: 2.1835904 (0)\ttotal: 23.6ms\tremaining: 1m 14s\n",
            "100:\tlearn: 1.7948891\ttest: 1.7977570\tbest: 1.7977570 (100)\ttotal: 2.22s\tremaining: 1m 7s\n",
            "200:\tlearn: 1.7543582\ttest: 1.7601121\tbest: 1.7601121 (200)\ttotal: 4.24s\tremaining: 1m 2s\n",
            "300:\tlearn: 1.7435924\ttest: 1.7519529\tbest: 1.7519529 (300)\ttotal: 6.63s\tremaining: 1m 2s\n",
            "400:\tlearn: 1.7380033\ttest: 1.7488803\tbest: 1.7488803 (400)\ttotal: 8.58s\tremaining: 58.8s\n",
            "500:\tlearn: 1.7339410\ttest: 1.7472445\tbest: 1.7472445 (500)\ttotal: 10.5s\tremaining: 55.5s\n",
            "600:\tlearn: 1.7306658\ttest: 1.7462459\tbest: 1.7462459 (600)\ttotal: 12.4s\tremaining: 52.6s\n",
            "700:\tlearn: 1.7278072\ttest: 1.7455947\tbest: 1.7455947 (700)\ttotal: 15.2s\tremaining: 53.2s\n",
            "800:\tlearn: 1.7252475\ttest: 1.7450719\tbest: 1.7450719 (800)\ttotal: 17.4s\tremaining: 51.1s\n",
            "900:\tlearn: 1.7228840\ttest: 1.7447521\tbest: 1.7447521 (900)\ttotal: 19.3s\tremaining: 48.2s\n",
            "1000:\tlearn: 1.7207100\ttest: 1.7445135\tbest: 1.7445135 (1000)\ttotal: 21.2s\tremaining: 45.5s\n",
            "1100:\tlearn: 1.7186387\ttest: 1.7443723\tbest: 1.7443678 (1096)\ttotal: 23.1s\tremaining: 42.9s\n",
            "1200:\tlearn: 1.7167014\ttest: 1.7442531\tbest: 1.7442531 (1200)\ttotal: 24.9s\tremaining: 40.5s\n",
            "1300:\tlearn: 1.7147953\ttest: 1.7441619\tbest: 1.7441619 (1300)\ttotal: 26.8s\tremaining: 38.1s\n",
            "1400:\tlearn: 1.7129881\ttest: 1.7441187\tbest: 1.7441187 (1381)\ttotal: 29s\tremaining: 36.2s\n",
            "1500:\tlearn: 1.7111893\ttest: 1.7440629\tbest: 1.7440598 (1499)\ttotal: 30.9s\tremaining: 33.9s\n",
            "1600:\tlearn: 1.7093813\ttest: 1.7440346\tbest: 1.7440346 (1600)\ttotal: 32.7s\tremaining: 31.7s\n",
            "1700:\tlearn: 1.7076422\ttest: 1.7440205\tbest: 1.7440033 (1665)\ttotal: 34.6s\tremaining: 29.5s\n",
            "bestTest = 1.74400332\n",
            "bestIteration = 1665\n",
            "Shrink model to first 1666 iterations.\n",
            "0:\tlearn: 2.1834961\ttest: 2.1835742\tbest: 2.1835742 (0)\ttotal: 22.1ms\tremaining: 1m 9s\n",
            "100:\tlearn: 1.7944967\ttest: 1.7992314\tbest: 1.7992314 (100)\ttotal: 2.04s\tremaining: 1m 1s\n",
            "200:\tlearn: 1.7539004\ttest: 1.7622936\tbest: 1.7622936 (200)\ttotal: 4.06s\tremaining: 59.6s\n",
            "300:\tlearn: 1.7431088\ttest: 1.7545900\tbest: 1.7545900 (300)\ttotal: 6.73s\tremaining: 1m 3s\n",
            "400:\tlearn: 1.7374668\ttest: 1.7516826\tbest: 1.7516826 (400)\ttotal: 9.17s\tremaining: 1m 2s\n",
            "500:\tlearn: 1.7334625\ttest: 1.7501051\tbest: 1.7501051 (500)\ttotal: 11.1s\tremaining: 58.7s\n",
            "600:\tlearn: 1.7302012\ttest: 1.7491412\tbest: 1.7491412 (600)\ttotal: 13s\tremaining: 55.2s\n",
            "700:\tlearn: 1.7274354\ttest: 1.7484877\tbest: 1.7484877 (700)\ttotal: 14.9s\tremaining: 52s\n",
            "800:\tlearn: 1.7249633\ttest: 1.7480168\tbest: 1.7480168 (800)\ttotal: 16.7s\tremaining: 49.1s\n",
            "900:\tlearn: 1.7226467\ttest: 1.7476711\tbest: 1.7476705 (898)\ttotal: 18.6s\tremaining: 46.4s\n",
            "1000:\tlearn: 1.7204314\ttest: 1.7474086\tbest: 1.7474086 (1000)\ttotal: 20.8s\tremaining: 44.7s\n",
            "1100:\tlearn: 1.7183100\ttest: 1.7471742\tbest: 1.7471742 (1100)\ttotal: 22.7s\tremaining: 42.2s\n",
            "1200:\tlearn: 1.7163648\ttest: 1.7470396\tbest: 1.7470396 (1200)\ttotal: 24.5s\tremaining: 39.8s\n",
            "1300:\tlearn: 1.7144742\ttest: 1.7469586\tbest: 1.7469570 (1298)\ttotal: 26.4s\tremaining: 37.5s\n",
            "1400:\tlearn: 1.7126293\ttest: 1.7469156\tbest: 1.7469156 (1400)\ttotal: 28.2s\tremaining: 35.2s\n",
            "1500:\tlearn: 1.7108383\ttest: 1.7468414\tbest: 1.7468412 (1499)\ttotal: 30.2s\tremaining: 33.2s\n",
            "1600:\tlearn: 1.7090836\ttest: 1.7468037\tbest: 1.7467953 (1592)\ttotal: 32.2s\tremaining: 31.1s\n",
            "1700:\tlearn: 1.7072818\ttest: 1.7467227\tbest: 1.7467227 (1700)\ttotal: 34s\tremaining: 29s\n",
            "1800:\tlearn: 1.7055879\ttest: 1.7467299\tbest: 1.7467145 (1752)\ttotal: 35.9s\tremaining: 26.9s\n",
            "bestTest = 1.746714453\n",
            "bestIteration = 1752\n",
            "Shrink model to first 1753 iterations.\n",
            "0:\tlearn: 2.1835730\ttest: 2.1836779\tbest: 2.1836779 (0)\ttotal: 23.7ms\tremaining: 1m 14s\n",
            "100:\tlearn: 1.7946508\ttest: 1.7992871\tbest: 1.7992871 (100)\ttotal: 2.11s\tremaining: 1m 3s\n",
            "200:\tlearn: 1.7541279\ttest: 1.7614707\tbest: 1.7614707 (200)\ttotal: 4.12s\tremaining: 1m\n",
            "300:\tlearn: 1.7432666\ttest: 1.7532037\tbest: 1.7532037 (300)\ttotal: 6.1s\tremaining: 57.7s\n",
            "400:\tlearn: 1.7377213\ttest: 1.7499992\tbest: 1.7499992 (400)\ttotal: 8.06s\tremaining: 55.3s\n",
            "500:\tlearn: 1.7337836\ttest: 1.7482730\tbest: 1.7482730 (500)\ttotal: 10.4s\tremaining: 54.8s\n",
            "600:\tlearn: 1.7305258\ttest: 1.7471852\tbest: 1.7471852 (600)\ttotal: 12.2s\tremaining: 51.9s\n",
            "700:\tlearn: 1.7277334\ttest: 1.7465049\tbest: 1.7465049 (700)\ttotal: 14.1s\tremaining: 49.4s\n",
            "800:\tlearn: 1.7251687\ttest: 1.7460246\tbest: 1.7460246 (800)\ttotal: 16s\tremaining: 46.9s\n",
            "900:\tlearn: 1.7228398\ttest: 1.7456338\tbest: 1.7456338 (900)\ttotal: 17.9s\tremaining: 44.6s\n",
            "1000:\tlearn: 1.7206127\ttest: 1.7453479\tbest: 1.7453479 (1000)\ttotal: 19.7s\tremaining: 42.4s\n",
            "1100:\tlearn: 1.7185350\ttest: 1.7452006\tbest: 1.7452006 (1098)\ttotal: 22s\tremaining: 40.9s\n",
            "1200:\tlearn: 1.7165732\ttest: 1.7450725\tbest: 1.7450725 (1200)\ttotal: 23.8s\tremaining: 38.6s\n",
            "1300:\tlearn: 1.7146729\ttest: 1.7449664\tbest: 1.7449664 (1300)\ttotal: 25.6s\tremaining: 36.4s\n",
            "1400:\tlearn: 1.7128346\ttest: 1.7448973\tbest: 1.7448943 (1386)\ttotal: 27.5s\tremaining: 34.3s\n",
            "1500:\tlearn: 1.7110246\ttest: 1.7448445\tbest: 1.7448426 (1498)\ttotal: 29.3s\tremaining: 32.2s\n",
            "1600:\tlearn: 1.7092424\ttest: 1.7447990\tbest: 1.7447936 (1598)\ttotal: 32.2s\tremaining: 31.2s\n",
            "1700:\tlearn: 1.7075059\ttest: 1.7448010\tbest: 1.7447910 (1633)\ttotal: 34.1s\tremaining: 29s\n",
            "bestTest = 1.744791016\n",
            "bestIteration = 1633\n",
            "Shrink model to first 1634 iterations.\n"
          ],
          "name": "stdout"
        }
      ]
    },
    {
      "cell_type": "code",
      "metadata": {
        "id": "cRUXX1KiiSMZ"
      },
      "source": [
        "model_cat.select_features(\n",
        "                X_train,\n",
        "                Y_train,\n",
        "                eval_set=[(X_train, Y_train), (X_valid, Y_valid)],\n",
        "                features_for_select=list(len(X_train.columns)),\n",
        "                num_features_to_select=150,\n",
        "                algorithm='RecursiveByLossFunctionChange',\n",
        "                steps=None,\n",
        "                shap_calc_type=None,\n",
        "                train_final_model=False,\n",
        "                verbose=None,\n",
        "                logging_level=None,\n",
        "                plot=True)"
      ],
      "execution_count": null,
      "outputs": []
    },
    {
      "cell_type": "code",
      "metadata": {
        "execution": {
          "iopub.status.busy": "2021-06-24T09:28:10.435992Z",
          "iopub.execute_input": "2021-06-24T09:28:10.436407Z",
          "iopub.status.idle": "2021-06-24T09:28:10.5431Z",
          "shell.execute_reply.started": "2021-06-24T09:28:10.436363Z",
          "shell.execute_reply": "2021-06-24T09:28:10.54227Z"
        },
        "id": "QlXot59qiSMa",
        "trusted": true
      },
      "source": [
        "from catboost.utils import get_gpu_device_count\n",
        "get_gpu_device_count()"
      ],
      "execution_count": null,
      "outputs": []
    },
    {
      "cell_type": "code",
      "metadata": {
        "id": "YR84dl-ZiSMa",
        "execution": {
          "iopub.status.busy": "2021-06-26T05:12:31.849252Z",
          "iopub.execute_input": "2021-06-26T05:12:31.849575Z",
          "iopub.status.idle": "2021-06-26T05:17:45.272520Z",
          "shell.execute_reply.started": "2021-06-26T05:12:31.849544Z",
          "shell.execute_reply": "2021-06-26T05:17:45.271751Z"
        },
        "trusted": true,
        "outputId": "73c98600-9ffa-462e-b416-1b4cee9df2ae"
      },
      "source": [
        "# xgboost ==> 너무 느림\n",
        "skf = StratifiedKFold(n_splits=5, shuffle=True, random_state=42)\n",
        "preds_xgb = np.zeros((len(x_test)))\n",
        "for i, (train_index, valid_index) in enumerate(skf.split(x_train, y_train)):\n",
        "  X_train, X_valid = x_train.iloc[train_index], x_train.iloc[valid_index]\n",
        "  Y_train, Y_valid = y_train.iloc[train_index], y_train.iloc[valid_index]\n",
        "\n",
        "  model_xgb = xgboost.XGBClassifier(n_estimators=3000, learning_rate=0.022, objective='multiclass', tree_method='gpu_hist')\n",
        "  model_xgb.fit(X_train, Y_train, eval_set=[(X_train, Y_train), (X_valid, Y_valid)], verbose=100, early_stopping_rounds=70, eval_metric='mlogloss')\n",
        "  preds_xgb = model_xgb.predict_proba(x_test)"
      ],
      "execution_count": null,
      "outputs": [
        {
          "output_type": "stream",
          "text": [
            "[0]\tvalidation_0-mlogloss:2.18487\tvalidation_1-mlogloss:2.18537\n",
            "[100]\tvalidation_0-mlogloss:1.77220\tvalidation_1-mlogloss:1.80678\n",
            "[200]\tvalidation_0-mlogloss:1.69948\tvalidation_1-mlogloss:1.76371\n",
            "[300]\tvalidation_0-mlogloss:1.66592\tvalidation_1-mlogloss:1.75669\n",
            "[400]\tvalidation_0-mlogloss:1.64265\tvalidation_1-mlogloss:1.75584\n",
            "[450]\tvalidation_0-mlogloss:1.63327\tvalidation_1-mlogloss:1.75592\n",
            "[0]\tvalidation_0-mlogloss:2.18492\tvalidation_1-mlogloss:2.18520\n",
            "[100]\tvalidation_0-mlogloss:1.77369\tvalidation_1-mlogloss:1.80184\n",
            "[200]\tvalidation_0-mlogloss:1.70139\tvalidation_1-mlogloss:1.75738\n",
            "[300]\tvalidation_0-mlogloss:1.66809\tvalidation_1-mlogloss:1.74991\n",
            "[400]\tvalidation_0-mlogloss:1.64513\tvalidation_1-mlogloss:1.74853\n",
            "[500]\tvalidation_0-mlogloss:1.62745\tvalidation_1-mlogloss:1.74842\n",
            "[551]\tvalidation_0-mlogloss:1.61918\tvalidation_1-mlogloss:1.74856\n",
            "[0]\tvalidation_0-mlogloss:2.18492\tvalidation_1-mlogloss:2.18524\n",
            "[100]\tvalidation_0-mlogloss:1.77357\tvalidation_1-mlogloss:1.80286\n",
            "[200]\tvalidation_0-mlogloss:1.70118\tvalidation_1-mlogloss:1.75904\n",
            "[300]\tvalidation_0-mlogloss:1.66737\tvalidation_1-mlogloss:1.75202\n",
            "[400]\tvalidation_0-mlogloss:1.64356\tvalidation_1-mlogloss:1.75116\n",
            "[487]\tvalidation_0-mlogloss:1.62756\tvalidation_1-mlogloss:1.75127\n",
            "[0]\tvalidation_0-mlogloss:2.18491\tvalidation_1-mlogloss:2.18526\n",
            "[100]\tvalidation_0-mlogloss:1.77327\tvalidation_1-mlogloss:1.80337\n",
            "[200]\tvalidation_0-mlogloss:1.70075\tvalidation_1-mlogloss:1.75999\n",
            "[300]\tvalidation_0-mlogloss:1.66738\tvalidation_1-mlogloss:1.75319\n",
            "[400]\tvalidation_0-mlogloss:1.64328\tvalidation_1-mlogloss:1.75227\n",
            "[497]\tvalidation_0-mlogloss:1.62496\tvalidation_1-mlogloss:1.75237\n",
            "[0]\tvalidation_0-mlogloss:2.18489\tvalidation_1-mlogloss:2.18523\n",
            "[100]\tvalidation_0-mlogloss:1.77333\tvalidation_1-mlogloss:1.80384\n",
            "[200]\tvalidation_0-mlogloss:1.70117\tvalidation_1-mlogloss:1.76035\n",
            "[300]\tvalidation_0-mlogloss:1.66804\tvalidation_1-mlogloss:1.75311\n",
            "[400]\tvalidation_0-mlogloss:1.64440\tvalidation_1-mlogloss:1.75207\n",
            "[468]\tvalidation_0-mlogloss:1.63152\tvalidation_1-mlogloss:1.75210\n"
          ],
          "name": "stdout"
        }
      ]
    },
    {
      "cell_type": "code",
      "metadata": {
        "id": "chpuvoVDiSMa",
        "execution": {
          "iopub.status.busy": "2021-06-26T09:07:16.176310Z",
          "iopub.execute_input": "2021-06-26T09:07:16.176628Z",
          "iopub.status.idle": "2021-06-26T09:07:16.271652Z",
          "shell.execute_reply.started": "2021-06-26T09:07:16.176599Z",
          "shell.execute_reply": "2021-06-26T09:07:16.270666Z"
        },
        "trusted": true
      },
      "source": [
        "submit = pd.read_csv('/kaggle/input/tabular-playground-series-jun-2021/sample_submission.csv')\n",
        "submit = submit.set_index('id')"
      ],
      "execution_count": null,
      "outputs": []
    },
    {
      "cell_type": "code",
      "metadata": {
        "id": "hi5DVQvmiSMb",
        "execution": {
          "iopub.status.busy": "2021-06-26T09:07:17.675104Z",
          "iopub.execute_input": "2021-06-26T09:07:17.675432Z",
          "iopub.status.idle": "2021-06-26T09:07:17.686868Z",
          "shell.execute_reply.started": "2021-06-26T09:07:17.675403Z",
          "shell.execute_reply": "2021-06-26T09:07:17.685775Z"
        },
        "trusted": true
      },
      "source": [
        "for i in range(9):\n",
        "    submit.iloc[:,i] = preds_cat[:,i]"
      ],
      "execution_count": null,
      "outputs": []
    },
    {
      "cell_type": "code",
      "metadata": {
        "id": "5XKaZoX9iSMb",
        "execution": {
          "iopub.status.busy": "2021-06-26T09:07:21.027440Z",
          "iopub.execute_input": "2021-06-26T09:07:21.027770Z",
          "iopub.status.idle": "2021-06-26T09:07:23.214577Z",
          "shell.execute_reply.started": "2021-06-26T09:07:21.027735Z",
          "shell.execute_reply": "2021-06-26T09:07:23.213749Z"
        },
        "trusted": true
      },
      "source": [
        "submit.to_csv('submit16.csv')"
      ],
      "execution_count": null,
      "outputs": []
    },
    {
      "cell_type": "markdown",
      "metadata": {
        "id": "jQfdhRo8iSMb"
      },
      "source": [
        "# NN 파이토치 필사본"
      ]
    },
    {
      "cell_type": "code",
      "metadata": {
        "execution": {
          "iopub.status.busy": "2021-06-25T08:26:43.838662Z",
          "iopub.execute_input": "2021-06-25T08:26:43.83899Z",
          "iopub.status.idle": "2021-06-25T08:26:45.073899Z",
          "shell.execute_reply.started": "2021-06-25T08:26:43.838952Z",
          "shell.execute_reply": "2021-06-25T08:26:45.07303Z"
        },
        "id": "rZDBNrpYiSMb",
        "trusted": true
      },
      "source": [
        "import os\n",
        "import sys\n",
        "import datetime\n",
        "\n",
        "import numpy as np\n",
        "import pandas as pd\n",
        "from sklearn.preprocessing import LabelEncoder, StandardScaler\n",
        "from sklearn.model_selection import StratifiedShuffleSplit\n",
        "\n",
        "import torch\n",
        "import torch.nn as nn\n",
        "import torch.nn.functional as F\n",
        "import torch.optim as optim\n",
        "from torch.utils.data import DataLoader, TensorDataset\n",
        "\n",
        "import optuna\n",
        "from optuna.trial import TrialState"
      ],
      "execution_count": null,
      "outputs": []
    },
    {
      "cell_type": "code",
      "metadata": {
        "execution": {
          "iopub.status.busy": "2021-06-25T08:26:47.836815Z",
          "iopub.execute_input": "2021-06-25T08:26:47.837114Z",
          "iopub.status.idle": "2021-06-25T08:26:51.224489Z",
          "shell.execute_reply.started": "2021-06-25T08:26:47.837084Z",
          "shell.execute_reply": "2021-06-25T08:26:51.223634Z"
        },
        "id": "EGgH7S01iSMc",
        "trusted": true
      },
      "source": [
        "sss = StratifiedShuffleSplit(n_splits=5, test_size=0.3, random_state=42)\n",
        "\n",
        "for train_index, val_index in sss.split(x_train, y_train):\n",
        "    print(f'train size:{len(train_index)}')\n",
        "    print(f'val size:{len(val_index)}')\n",
        "    X_train, X_val = x_train.iloc[train_index], x_train.iloc[val_index]\n",
        "    Y_train, Y_val = y_train.iloc[train_index], y_train.iloc[val_index]"
      ],
      "execution_count": null,
      "outputs": []
    },
    {
      "cell_type": "markdown",
      "metadata": {
        "id": "NU8CqqmxiSMc"
      },
      "source": [
        "# Optuna"
      ]
    },
    {
      "cell_type": "code",
      "metadata": {
        "execution": {
          "iopub.status.busy": "2021-06-25T05:43:54.742869Z",
          "iopub.execute_input": "2021-06-25T05:43:54.743191Z",
          "iopub.status.idle": "2021-06-25T05:44:01.91469Z",
          "shell.execute_reply.started": "2021-06-25T05:43:54.743159Z",
          "shell.execute_reply": "2021-06-25T05:44:01.913558Z"
        },
        "id": "AaVNfC-PiSMc",
        "trusted": true
      },
      "source": [
        "pip install optuna"
      ],
      "execution_count": null,
      "outputs": []
    },
    {
      "cell_type": "code",
      "metadata": {
        "execution": {
          "iopub.status.busy": "2021-06-25T08:30:25.731968Z",
          "iopub.execute_input": "2021-06-25T08:30:25.732338Z",
          "iopub.status.idle": "2021-06-25T08:30:33.486396Z",
          "shell.execute_reply.started": "2021-06-25T08:30:25.732305Z",
          "shell.execute_reply": "2021-06-25T08:30:33.485462Z"
        },
        "id": "PJLs2Jh8iSMc",
        "trusted": true
      },
      "source": [
        "pip install skorch"
      ],
      "execution_count": null,
      "outputs": []
    },
    {
      "cell_type": "code",
      "metadata": {
        "execution": {
          "iopub.status.busy": "2021-06-25T09:21:25.748668Z",
          "iopub.execute_input": "2021-06-25T09:21:25.748984Z",
          "iopub.status.idle": "2021-06-25T09:21:25.755887Z",
          "shell.execute_reply.started": "2021-06-25T09:21:25.748953Z",
          "shell.execute_reply": "2021-06-25T09:21:25.754986Z"
        },
        "id": "Gtko9e0DiSMc",
        "trusted": true
      },
      "source": [
        "import optuna\n",
        "from torch.optim.lr_scheduler import ReduceLROnPlateau"
      ],
      "execution_count": null,
      "outputs": []
    },
    {
      "cell_type": "code",
      "metadata": {
        "execution": {
          "iopub.status.busy": "2021-06-25T09:32:41.344027Z",
          "iopub.execute_input": "2021-06-25T09:32:41.344391Z",
          "iopub.status.idle": "2021-06-25T09:32:41.363043Z",
          "shell.execute_reply.started": "2021-06-25T09:32:41.344356Z",
          "shell.execute_reply": "2021-06-25T09:32:41.362172Z"
        },
        "id": "och8ZbIIiSMd",
        "trusted": true
      },
      "source": [
        "CLASSES = y_train.nunique()\n",
        "NUM_FEATURES = x_train.shape[1]\n",
        "DEVICE = torch.device(\"cpu\" if not torch.cuda.is_available() else \"cuda\")\n",
        "\n",
        "BATCHSIZE = 1000\n",
        "EPOCHS = 10\n",
        "N_TRAIN_EXAMPLES = BATCHSIZE * 14\n",
        "N_VALID_EXAMPLES = BATCHSIZE * 6\n",
        "\n",
        "criterion = nn.CrossEntropyLoss()\n",
        "\n",
        "def define_model(trial):\n",
        "    # We optimize the number of layers, hidden units and dropout ratio in each layer.\n",
        "    n_layers = trial.suggest_int(\"n_layers\", 1, 10)\n",
        "    layers = []\n",
        "\n",
        "    in_features = NUM_FEATURES\n",
        "    for i in range(n_layers):\n",
        "        out_features = trial.suggest_int(\"n_units_l{}\".format(i), y_train.nunique(), 1024)\n",
        "        layers.append(nn.Linear(in_features, out_features, bias=False))\n",
        "        layers.append(nn.ReLU(inplace=True))\n",
        "        p = trial.suggest_float(\"dropout_l{}\".format(i), 0.1, 0.5)\n",
        "        layers.append(nn.Dropout(p))\n",
        "        layers.append(nn.BatchNorm1d(out_features))\n",
        "\n",
        "        in_features = out_features\n",
        "        \n",
        "    layers.append(nn.Linear(in_features, CLASSES))\n",
        "\n",
        "    return nn.Sequential(*layers)\n",
        "\n",
        "def get_data(X_train, y_train, X_val, y_val):\n",
        "    train = TensorDataset(torch.Tensor(np.array(X_train)), torch.Tensor(np.array(y_train)))\n",
        "    train_loader = DataLoader(train, batch_size = 1000, shuffle = True, num_workers=4)\n",
        "\n",
        "    val = TensorDataset(torch.Tensor(np.array(X_val)), torch.Tensor(np.array(y_val)))\n",
        "    val_loader = DataLoader(val, batch_size = 1000, shuffle = True, num_workers=4)\n",
        "\n",
        "    return train_loader, val_loader\n",
        "\n",
        "def objective(trial):\n",
        "    model = define_model(trial).to(DEVICE)\n",
        "    optimizer_name = trial.suggest_categorical(\"optimizer\", [\"Adam\", 'AdamW', \"RMSprop\", \"SGD\"])\n",
        "    lr = trial.suggest_float(\"lr\", 0.001, 0.5)\n",
        "    optimizer = getattr(optim, optimizer_name)(model.parameters(), lr=lr, weight_decay)\n",
        "    lr_scheduler = optim.lr_scheduler.ReduceLROnPlateau(optimizer)\n",
        "    train_loader, valid_loader = get_data(X_train, Y_train, X_val, Y_val)\n",
        "    \n",
        "    for epoch in range(EPOCHS):\n",
        "        model.train()\n",
        "        for batch_idx, (data, target) in enumerate(train_loader):\n",
        "            data, target = data.view(data.size(0), -1).to(DEVICE), target.to(DEVICE)\n",
        "\n",
        "            optimizer.zero_grad()\n",
        "            output = model(data)\n",
        "            \n",
        "            loss = criterion(output, target.long())\n",
        "            loss.backward()\n",
        "            optimizer.step()\n",
        "            lr_scheduler.step(epoch + batch_idx / len(train_loader))\n",
        "\n",
        "        # Validation of the model.\n",
        "        model.eval()\n",
        "        val_loss = []\n",
        "        with torch.no_grad():\n",
        "            for batch_idx, (data, target) in enumerate(valid_loader):\n",
        "                data, target = data.view(data.size(0), -1).to(DEVICE), target.to(DEVICE)\n",
        "                output = model(data)\n",
        "                \n",
        "                loss = criterion(output, target.long())\n",
        "                val_loss.append(loss.item())\n",
        "        \n",
        "        avg_val_loss = np.mean(val_loss)\n",
        "\n",
        "        trial.report(avg_val_loss, epoch)\n",
        "\n",
        "        # Handle pruning based on the intermediate value.\n",
        "        if trial.should_prune():\n",
        "            raise optuna.exceptions.TrialPruned()\n",
        "    \n",
        "    return avg_val_loss"
      ],
      "execution_count": null,
      "outputs": []
    },
    {
      "cell_type": "code",
      "metadata": {
        "execution": {
          "iopub.status.busy": "2021-06-25T09:32:43.889997Z",
          "iopub.execute_input": "2021-06-25T09:32:43.890361Z",
          "iopub.status.idle": "2021-06-25T09:37:40.667259Z",
          "shell.execute_reply.started": "2021-06-25T09:32:43.890326Z",
          "shell.execute_reply": "2021-06-25T09:37:40.664742Z"
        },
        "id": "HcP5-oTkiSMd",
        "trusted": true
      },
      "source": [
        "study = optuna.create_study(direction='minimize')\n",
        "study.optimize(objective, n_trials=100)"
      ],
      "execution_count": null,
      "outputs": []
    },
    {
      "cell_type": "code",
      "metadata": {
        "execution": {
          "iopub.status.busy": "2021-06-25T09:09:42.033776Z",
          "iopub.execute_input": "2021-06-25T09:09:42.034084Z",
          "iopub.status.idle": "2021-06-25T09:09:42.063228Z",
          "shell.execute_reply.started": "2021-06-25T09:09:42.034052Z",
          "shell.execute_reply": "2021-06-25T09:09:42.062458Z"
        },
        "id": "nFyLcBN_iSMd",
        "trusted": true
      },
      "source": [
        "pruned_trials = study.get_trials(deepcopy=False, states=[TrialState.PRUNED])\n",
        "complete_trials = study.get_trials(deepcopy=False, states=[TrialState.COMPLETE])\n",
        "\n",
        "print('Study statistics:')\n",
        "print(' Number of finished trials:', len(study.trials))\n",
        "print(' Number of pruned trials:', len(pruned_trials))\n",
        "print(' Number of complete trials:', len(complete_trials))\n",
        "\n",
        "print('Best trial:')\n",
        "trial = study.best_trial\n",
        "\n",
        "print(' Value:', trial.value)\n",
        "print(' Params:')\n",
        "for key, value in trial.params.items():\n",
        "    print(f'{key}:{value}')"
      ],
      "execution_count": null,
      "outputs": []
    },
    {
      "cell_type": "code",
      "metadata": {
        "execution": {
          "iopub.status.busy": "2021-06-25T09:09:49.325419Z",
          "iopub.execute_input": "2021-06-25T09:09:49.325751Z",
          "iopub.status.idle": "2021-06-25T09:09:49.486748Z",
          "shell.execute_reply.started": "2021-06-25T09:09:49.32572Z",
          "shell.execute_reply": "2021-06-25T09:09:49.486022Z"
        },
        "id": "xeOlGr2uiSMe",
        "trusted": true
      },
      "source": [
        "optuna.visualization.plot_intermediate_values(study).show()"
      ],
      "execution_count": null,
      "outputs": []
    },
    {
      "cell_type": "markdown",
      "metadata": {
        "id": "iYpi61o6iSMe"
      },
      "source": [
        "# 최적화된 파라미터를 가지고 모델링"
      ]
    },
    {
      "cell_type": "code",
      "metadata": {
        "execution": {
          "iopub.status.busy": "2021-06-25T09:09:55.072421Z",
          "iopub.execute_input": "2021-06-25T09:09:55.072739Z",
          "iopub.status.idle": "2021-06-25T09:09:55.081213Z",
          "shell.execute_reply.started": "2021-06-25T09:09:55.072706Z",
          "shell.execute_reply": "2021-06-25T09:09:55.080056Z"
        },
        "id": "XYk-k2URiSMe",
        "trusted": true
      },
      "source": [
        "class classification_model(nn.Module):\n",
        "    def __init__(self, n_in, n_out, layers, p=None):\n",
        "        super(classification_model, self).__init__()\n",
        "        \n",
        "        all_layers=[]\n",
        "        self.n_in = n_in\n",
        "        self.n_out = n_out\n",
        "        \n",
        "        for i in range(len(layers)):\n",
        "            all_layers.append(nn.Linear(self.n_in, layers[i], bias=False))\n",
        "            all_layers.append(nn.ReLU(inplace=True))\n",
        "            if p:\n",
        "                all_layers.append(nn.Dropout(p[i]))\n",
        "            all_layers.append(nn.BatchNorm1d(layers[i]))\n",
        "            \n",
        "            self.n_in = layers[i]\n",
        "            \n",
        "        all_layers.append(nn.Linear(layers[-1], self.n_out))\n",
        "        \n",
        "        self.layers=nn.Sequential(*all_layers)\n",
        "        \n",
        "    def forward(self, x):\n",
        "        x = self.layers(x)\n",
        "        return x\n",
        "    \n",
        "    net_name='classification_model'"
      ],
      "execution_count": null,
      "outputs": []
    },
    {
      "cell_type": "code",
      "metadata": {
        "execution": {
          "iopub.status.busy": "2021-06-25T09:09:57.309808Z",
          "iopub.execute_input": "2021-06-25T09:09:57.310161Z",
          "iopub.status.idle": "2021-06-25T09:09:58.426772Z",
          "shell.execute_reply.started": "2021-06-25T09:09:57.310114Z",
          "shell.execute_reply": "2021-06-25T09:09:58.425892Z"
        },
        "id": "Lal2DcApiSMe",
        "trusted": true
      },
      "source": [
        "batch_size = 1000\n",
        "\n",
        "sss = StratifiedShuffleSplit(n_splits=1, test_size=0.3, random_state=0)\n",
        "\n",
        "for train_index, val_index in sss.split(x_train, y_train):    \n",
        "    print(\"TRAIN:\\t\", train_index, \"Size:\\t\", len(train_index))\n",
        "    print(\"VAL:\\t\", val_index, \"Size:\\t\", len(val_index))\n",
        "    X_train, X_val = x_train.iloc[train_index], x_train.iloc[val_index]\n",
        "    Y_train, Y_val = y_train.iloc[train_index], y_train.iloc[val_index]\n",
        "\n",
        "train = TensorDataset(torch.Tensor(np.array(X_train)), torch.Tensor(np.array(Y_train)))\n",
        "train_loader = DataLoader(train, batch_size = batch_size, shuffle = True)\n",
        "\n",
        "val = TensorDataset(torch.Tensor(np.array(X_val)), torch.Tensor(np.array(Y_val)))\n",
        "val_loader = DataLoader(val, batch_size = batch_size, shuffle = True)\n",
        "\n",
        "phases = [\"train\", \"val\"]\n",
        "loaders = {\"train\": train_loader, \"val\": val_loader}"
      ],
      "execution_count": null,
      "outputs": []
    },
    {
      "cell_type": "code",
      "metadata": {
        "execution": {
          "iopub.status.busy": "2021-06-25T09:09:59.144827Z",
          "iopub.execute_input": "2021-06-25T09:09:59.145158Z",
          "iopub.status.idle": "2021-06-25T09:09:59.168884Z",
          "shell.execute_reply.started": "2021-06-25T09:09:59.145113Z",
          "shell.execute_reply": "2021-06-25T09:09:59.167904Z"
        },
        "id": "BIaK-2h9iSMe",
        "trusted": true
      },
      "source": [
        "\"\"\"\n",
        "Best trial:\n",
        " Value: 1.7687533100446065\n",
        " Params:\n",
        "n_layers:1\n",
        "n_units_l0:880\n",
        "dropout_l0:0.2116281048320166\n",
        "optimizer:RMSprop\n",
        "lr:0.0009784821223970022\n",
        "\"\"\"\n",
        "\n",
        "layers_=[]\n",
        "dropout_=[]\n",
        "l_rate=trial.params['lr']\n",
        "\n",
        "for i in range(trial.params['n_layers']):\n",
        "    layers_.append(trial.params[f'n_units_l{i}'])\n",
        "    dropout_.append(trial.params[f'dropout_l{i}'])\n",
        "    \n",
        "device = torch.device('cpu' if not torch.cuda.is_available() else 'cuda')\n",
        "\n",
        "model = classification_model(x_train.shape[1], y_train.nunique(), layers_, p=dropout_)\n",
        "model.to(device)\n",
        "\n",
        "criterion = nn.CrossEntropyLoss()\n",
        "if trial.params['optimizer'] == 'RMSprop':\n",
        "    optimizer = optim.RMSprop(model.parameters(), lr=l_rate)\n",
        "elif trial.params['optimizer'] == 'Adam':\n",
        "    optimizer = optim.Adam(model.parameters(), lr=l_rate)\n",
        "elif trial.params['optimizer'] == 'SGD':\n",
        "    optimizer = optim.SGD(model.parameters(), lr=l_rate)\n",
        "    \n",
        "print(device)\n",
        "print(model)"
      ],
      "execution_count": null,
      "outputs": []
    },
    {
      "cell_type": "code",
      "metadata": {
        "execution": {
          "iopub.status.busy": "2021-06-25T09:15:20.524229Z",
          "iopub.execute_input": "2021-06-25T09:15:20.524548Z",
          "iopub.status.idle": "2021-06-25T09:18:47.137438Z",
          "shell.execute_reply.started": "2021-06-25T09:15:20.524518Z",
          "shell.execute_reply": "2021-06-25T09:18:47.135734Z"
        },
        "id": "DDxUNUO7iSMf",
        "trusted": true
      },
      "source": [
        "loss_train=[]\n",
        "loss_valid=[]\n",
        "best_validation_loss = 1000\n",
        "best_epoch=1\n",
        "correct=0\n",
        "total=0\n",
        "\n",
        "n_epochs=50\n",
        "\n",
        "now = datetime.datetime.now()\n",
        "weights_path = \"./output/{:%Y%m%dT%H%M}\".format(now)\n",
        "os.makedirs(weights_path, exist_ok=True)\n",
        "\n",
        "lr_scheduler = optim.lr_scheduler.ReduceLROnPlateau(optimizer)\n",
        "break_st = False\n",
        "\n",
        "for epoch in range(1, n_epochs+1):\n",
        "    \n",
        "    for phase in phases:\n",
        "        if phase == 'train':\n",
        "            model.train()\n",
        "        elif phase == 'val':\n",
        "            model.eval()\n",
        "        \n",
        "        for _, data in enumerate(loaders[phase], 0):\n",
        "            features, y_true = data[0], data[1]\n",
        "            features = features.to(device, dtype=torch.float)\n",
        "            y_true = y_true.to(device, dtype=torch.float)\n",
        "            \n",
        "            optimizer.zero_grad()\n",
        "            \n",
        "            with torch.set_grad_enabled(phase=='train'):\n",
        "                y_pred = model(features)\n",
        "                \n",
        "                sm = nn.Softmax(dim=1)  # predict_proba\n",
        "                pred_percentage = sm(y_pred)\n",
        "                \n",
        "                if break_st:\n",
        "                    break\n",
        "                    \n",
        "                y_true = y_true.long()\n",
        "                \n",
        "                _, preds = torch.max(pred_percentage, 1)\n",
        "                total += y_true.size(0)\n",
        "                correct += (preds == y_true).sum().item()\n",
        "                \n",
        "                loss = criterion(y_pred, y_true)\n",
        "                \n",
        "                if phase == 'val':\n",
        "                    loss_valid.append(loss.item())\n",
        "                    \n",
        "                if phase == 'train':\n",
        "                    loss_train.append(loss.item())\n",
        "                    loss.backward()\n",
        "                    \n",
        "                    optimizer.step()\n",
        "                    lr_scheduler.step(epoch / len(train_loader))\n",
        "        if break_st:\n",
        "            break\n",
        "        if phase == 'train':\n",
        "            mean_train_loss = np.mean(loss_train)\n",
        "            acc_train = 100*correct/total\n",
        "            loss_train = []\n",
        "            correct = 0\n",
        "        \n",
        "        if phase == 'val':\n",
        "            validation_loss = np.mean(loss_valid)\n",
        "            acc_valid = 100*correct/total\n",
        "            loss_valid = []\n",
        "            correct = 0\n",
        "            total = 0\n",
        "                \n",
        "    if break_st:\n",
        "        break\n",
        "    if validation_loss < best_validation_loss:\n",
        "        print('saving weights...')\n",
        "        best_epoch = epoch\n",
        "        best_validation_loss = validation_loss\n",
        "        torch.save(model.state_dict(),\n",
        "                   os.path.join(weights_path, 'model.pt'),)\n",
        "            \n",
        "    print(f'Epoch={epoch}/{n_epochs}\\tloss={mean_train_loss:.4f}\\tval_loss={validation_loss:.4f}\\tacc={acc_train:.4f}\\tval_acc={acc_valid:.4f}')\n",
        "                \n"
      ],
      "execution_count": null,
      "outputs": []
    },
    {
      "cell_type": "code",
      "metadata": {
        "execution": {
          "iopub.status.busy": "2021-06-25T09:19:00.200079Z",
          "iopub.execute_input": "2021-06-25T09:19:00.200506Z",
          "iopub.status.idle": "2021-06-25T09:19:00.404882Z",
          "shell.execute_reply.started": "2021-06-25T09:19:00.20047Z",
          "shell.execute_reply": "2021-06-25T09:19:00.404061Z"
        },
        "id": "QknfcuyJiSMf",
        "trusted": true
      },
      "source": [
        "test = TensorDataset(torch.Tensor(np.array(x_test)))\n",
        "test_loader = DataLoader(test, batch_size=100000, shuffle=False)"
      ],
      "execution_count": null,
      "outputs": []
    },
    {
      "cell_type": "code",
      "metadata": {
        "execution": {
          "iopub.status.busy": "2021-06-25T09:19:06.92089Z",
          "iopub.execute_input": "2021-06-25T09:19:06.92124Z",
          "iopub.status.idle": "2021-06-25T09:19:08.11426Z",
          "shell.execute_reply.started": "2021-06-25T09:19:06.921206Z",
          "shell.execute_reply": "2021-06-25T09:19:08.113276Z"
        },
        "id": "pmX-1cmFiSMg",
        "trusted": true
      },
      "source": [
        "if not weights_path:\n",
        "    print('Choose weights path')\n",
        "    sys.exit()\n",
        "\n",
        "device = torch.device('cpu' if not torch.cuda.is_available() else 'cuda')\n",
        "\n",
        "model_name = weights_path + '/model.pt'\n",
        "print(model_name)\n",
        "state_dict = torch.load(model_name, map_location=device)\n",
        "model.load_state_dict(state_dict)\n",
        "model.eval()\n",
        "\n",
        "for _, data in enumerate(test_loader, 0):\n",
        "    features = data[0]\n",
        "    print(features.size())\n",
        "    features = features.to(device, dtype=torch.float)\n",
        "    \n",
        "    with torch.set_grad_enabled(False):\n",
        "        y_pred = model(features)\n",
        "        \n",
        "        sm = nn.Softmax(dim=1)\n",
        "        pred_percentage = sm(y_pred)\n",
        "        \n",
        "        print(pred_percentage.size())\n",
        "\n",
        "print(pred_percentage.detach().cpu().numpy())\n",
        "print('Done!')"
      ],
      "execution_count": null,
      "outputs": []
    },
    {
      "cell_type": "code",
      "metadata": {
        "execution": {
          "iopub.status.busy": "2021-06-25T09:19:35.312466Z",
          "iopub.execute_input": "2021-06-25T09:19:35.312825Z",
          "iopub.status.idle": "2021-06-25T09:19:35.638986Z",
          "shell.execute_reply.started": "2021-06-25T09:19:35.312792Z",
          "shell.execute_reply": "2021-06-25T09:19:35.63775Z"
        },
        "id": "v8f3L9bXiSMg",
        "trusted": true
      },
      "source": [
        "submit = pd.read_csv('../input/tabular-playground-series-jun-2021/sample_submission.csv')\n",
        "pred_array = pred_percentage.detach().cpu().numpy()\n",
        "submit.loc[:, 'Class_1':'Class_9'] = pred_array\n",
        "submit = submit.set_index('id')\n",
        "submit.head()"
      ],
      "execution_count": null,
      "outputs": []
    },
    {
      "cell_type": "code",
      "metadata": {
        "execution": {
          "iopub.status.busy": "2021-06-25T09:19:40.379495Z",
          "iopub.execute_input": "2021-06-25T09:19:40.379824Z",
          "iopub.status.idle": "2021-06-25T09:19:42.283463Z",
          "shell.execute_reply.started": "2021-06-25T09:19:40.379792Z",
          "shell.execute_reply": "2021-06-25T09:19:42.282602Z"
        },
        "id": "1yTESnbdiSMg",
        "trusted": true
      },
      "source": [
        "submit.to_csv('./output/submission10.csv')"
      ],
      "execution_count": null,
      "outputs": []
    },
    {
      "cell_type": "markdown",
      "metadata": {
        "id": "PnmvfKFIiSMg"
      },
      "source": [
        "# NN모델을 써야 점수가 올라간다. \n",
        "# Pytorch NN모델을 생성하고 제출하자\n",
        "# feature_select할게 더 있나? 체크"
      ]
    }
  ]
}