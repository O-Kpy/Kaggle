{
  "nbformat": 4,
  "nbformat_minor": 0,
  "metadata": {
    "kernelspec": {
      "language": "python",
      "display_name": "Python 3",
      "name": "python3"
    },
    "language_info": {
      "name": "python",
      "version": "3.7.10",
      "mimetype": "text/x-python",
      "codemirror_mode": {
        "name": "ipython",
        "version": 3
      },
      "pygments_lexer": "ipython3",
      "nbconvert_exporter": "python",
      "file_extension": ".py"
    },
    "colab": {
      "name": "tabular-playground-series-jun-2021.ipynb",
      "provenance": [],
      "include_colab_link": true
    }
  },
  "cells": [
    {
      "cell_type": "markdown",
      "metadata": {
        "id": "view-in-github",
        "colab_type": "text"
      },
      "source": [
        "<a href=\"https://colab.research.google.com/github/O-Kpy/Kaggle/blob/main/tabular_playground_series_jun_2021.ipynb\" target=\"_parent\"><img src=\"https://colab.research.google.com/assets/colab-badge.svg\" alt=\"Open In Colab\"/></a>"
      ]
    },
    {
      "cell_type": "code",
      "metadata": {
        "_uuid": "8f2839f25d086af736a60e9eeb907d3b93b6e0e5",
        "_cell_guid": "b1076dfc-b9ad-4769-8c92-a6c4dae69d19",
        "execution": {
          "iopub.status.busy": "2021-06-22T09:46:21.265002Z",
          "iopub.execute_input": "2021-06-22T09:46:21.265556Z",
          "iopub.status.idle": "2021-06-22T09:46:21.273591Z",
          "shell.execute_reply.started": "2021-06-22T09:46:21.265472Z",
          "shell.execute_reply": "2021-06-22T09:46:21.272438Z"
        },
        "trusted": true,
        "id": "aL0_JsAIiSMQ"
      },
      "source": [
        "# This Python 3 environment comes with many helpful analytics libraries installed\n",
        "# It is defined by the kaggle/python Docker image: https://github.com/kaggle/docker-python\n",
        "# For example, here's several helpful packages to load\n",
        "\n",
        "import numpy as np # linear algebra\n",
        "import pandas as pd # data processing, CSV file I/O (e.g. pd.read_csv)\n",
        "\n",
        "# Input data files are available in the read-only \"../input/\" directory\n",
        "# For example, running this (by clicking run or pressing Shift+Enter) will list all files under the input directory\n",
        "\n",
        "import os\n",
        "for dirname, _, filenames in os.walk('/kaggle/input'):\n",
        "    for filename in filenames:\n",
        "        print(os.path.join(dirname, filename))\n",
        "\n",
        "# You can write up to 20GB to the current directory (/kaggle/working/) that gets preserved as output when you create a version using \"Save & Run All\" \n",
        "# You can also write temporary files to /kaggle/temp/, but they won't be saved outside of the current session"
      ],
      "execution_count": null,
      "outputs": []
    },
    {
      "cell_type": "code",
      "metadata": {
        "execution": {
          "iopub.status.busy": "2021-06-25T08:06:24.876801Z",
          "iopub.execute_input": "2021-06-25T08:06:24.877126Z",
          "iopub.status.idle": "2021-06-25T08:06:25.695441Z",
          "shell.execute_reply.started": "2021-06-25T08:06:24.877095Z",
          "shell.execute_reply": "2021-06-25T08:06:25.694606Z"
        },
        "trusted": true,
        "id": "_uwPlXMNiSMT"
      },
      "source": [
        "import pandas as pd\n",
        "import numpy as np\n",
        "import matplotlib.pyplot as plt\n",
        "%matplotlib inline\n",
        "import seaborn as sns\n",
        "import warnings\n",
        "warnings.filterwarnings('ignore')\n",
        "from scipy.stats import skew"
      ],
      "execution_count": null,
      "outputs": []
    },
    {
      "cell_type": "code",
      "metadata": {
        "execution": {
          "iopub.status.busy": "2021-06-25T08:06:26.592638Z",
          "iopub.execute_input": "2021-06-25T08:06:26.592955Z",
          "iopub.status.idle": "2021-06-25T08:06:28.323665Z",
          "shell.execute_reply.started": "2021-06-25T08:06:26.592924Z",
          "shell.execute_reply": "2021-06-25T08:06:28.322872Z"
        },
        "trusted": true,
        "id": "RF14-5-riSMT",
        "outputId": "231a45c5-33ad-4e3d-9bee-f302c07f1b42"
      },
      "source": [
        "submit = pd.read_csv('/kaggle/input/tabular-playground-series-jun-2021/sample_submission.csv')\n",
        "test = pd.read_csv('/kaggle/input/tabular-playground-series-jun-2021/test.csv')\n",
        "train = pd.read_csv('/kaggle/input/tabular-playground-series-jun-2021/train.csv')\n",
        "train.shape, test.shape, submit.shape"
      ],
      "execution_count": null,
      "outputs": [
        {
          "output_type": "execute_result",
          "data": {
            "text/plain": [
              "((200000, 77), (100000, 76), (100000, 10))"
            ]
          },
          "metadata": {
            "tags": []
          },
          "execution_count": 4
        }
      ]
    },
    {
      "cell_type": "code",
      "metadata": {
        "trusted": true,
        "id": "HqiiL1S0iSMU"
      },
      "source": [
        "train.target.value_counts().sort_index(ascending=False).plot.bar()"
      ],
      "execution_count": null,
      "outputs": []
    },
    {
      "cell_type": "code",
      "metadata": {
        "execution": {
          "iopub.status.busy": "2021-06-25T08:06:33.436826Z",
          "iopub.execute_input": "2021-06-25T08:06:33.437136Z",
          "iopub.status.idle": "2021-06-25T08:06:33.509696Z",
          "shell.execute_reply.started": "2021-06-25T08:06:33.437106Z",
          "shell.execute_reply": "2021-06-25T08:06:33.508823Z"
        },
        "trusted": true,
        "id": "1Ye43NSIiSMU"
      },
      "source": [
        "data=pd.concat([train, test], axis=0)"
      ],
      "execution_count": null,
      "outputs": []
    },
    {
      "cell_type": "code",
      "metadata": {
        "execution": {
          "iopub.status.busy": "2021-06-22T09:50:56.276885Z",
          "iopub.execute_input": "2021-06-22T09:50:56.27729Z",
          "iopub.status.idle": "2021-06-22T09:50:56.346698Z",
          "shell.execute_reply.started": "2021-06-22T09:50:56.277254Z",
          "shell.execute_reply": "2021-06-22T09:50:56.345543Z"
        },
        "trusted": true,
        "id": "cX3u_xGEiSMV"
      },
      "source": [
        "data.isnull().sum().sort_values(ascending=False)\n",
        "# Null값 없고"
      ],
      "execution_count": null,
      "outputs": []
    },
    {
      "cell_type": "code",
      "metadata": {
        "execution": {
          "iopub.status.busy": "2021-06-24T09:46:50.87375Z",
          "iopub.execute_input": "2021-06-24T09:46:50.874059Z",
          "iopub.status.idle": "2021-06-24T09:46:51.195296Z",
          "shell.execute_reply.started": "2021-06-24T09:46:50.87403Z",
          "shell.execute_reply": "2021-06-24T09:46:51.194113Z"
        },
        "trusted": true,
        "id": "DrxnmgjNiSMV"
      },
      "source": [
        "data.skew().sort_values(ascending=False)\n",
        "# 스케일링 해야하고"
      ],
      "execution_count": null,
      "outputs": []
    },
    {
      "cell_type": "code",
      "metadata": {
        "execution": {
          "iopub.status.busy": "2021-06-25T08:07:16.162014Z",
          "iopub.execute_input": "2021-06-25T08:07:16.162365Z",
          "iopub.status.idle": "2021-06-25T08:07:18.833545Z",
          "shell.execute_reply.started": "2021-06-25T08:07:16.162334Z",
          "shell.execute_reply": "2021-06-25T08:07:18.832705Z"
        },
        "trusted": true,
        "id": "1tw57ucZiSMV"
      },
      "source": [
        "for i in train.drop(columns=['id', 'target']).columns:\n",
        "    if train[i].skew() > 0.5:\n",
        "        train[i] = np.log1p(train[i]+1)\n",
        "        \n",
        "for i in test.drop(columns=['id']).columns:\n",
        "    if test[i].skew() > 0.5:\n",
        "        test[i] = np.log1p(test[i]+1)"
      ],
      "execution_count": null,
      "outputs": []
    },
    {
      "cell_type": "code",
      "metadata": {
        "execution": {
          "iopub.status.busy": "2021-06-25T08:08:33.735806Z",
          "iopub.execute_input": "2021-06-25T08:08:33.736252Z",
          "iopub.status.idle": "2021-06-25T08:08:35.410785Z",
          "shell.execute_reply.started": "2021-06-25T08:08:33.736216Z",
          "shell.execute_reply": "2021-06-25T08:08:35.409932Z"
        },
        "trusted": true,
        "id": "E6r3p4u_iSMW"
      },
      "source": [
        "train_agg = train.drop(columns='target').groupby('id').agg(['min', 'max', 'count', 'mean'])\n",
        "train_agg_col = []\n",
        "\n",
        "for i in train_agg.columns.levels[0]:\n",
        "    for j in train_agg.columns.levels[1]:\n",
        "        train_agg_col.append(f'{i}-{j}')\n",
        "        \n",
        "train_agg.columns = train_agg_col\n",
        "\n",
        "test_agg = test.groupby('id').agg(['min', 'max', 'count', 'mean'])\n",
        "test_agg_col = []\n",
        "\n",
        "for i in test_agg.columns.levels[0]:\n",
        "    for j in test_agg.columns.levels[1]:\n",
        "        test_agg_col.append(f'{i}-{j}')\n",
        "        \n",
        "test_agg.columns = test_agg_col"
      ],
      "execution_count": null,
      "outputs": []
    },
    {
      "cell_type": "code",
      "metadata": {
        "execution": {
          "iopub.status.busy": "2021-06-25T08:08:49.956566Z",
          "iopub.execute_input": "2021-06-25T08:08:49.956886Z",
          "iopub.status.idle": "2021-06-25T08:09:23.029450Z",
          "shell.execute_reply.started": "2021-06-25T08:08:49.956855Z",
          "shell.execute_reply": "2021-06-25T08:09:23.028549Z"
        },
        "trusted": true,
        "id": "uiRVU8FmiSMW",
        "outputId": "15b33473-188c-4c53-ca67-4c0a83075cf3"
      },
      "source": [
        "corr_matrix = train_agg.corr()\n",
        "\n",
        "upper = corr_matrix.where(np.triu(np.ones(corr_matrix.shape), k=1).astype(np.bool))\n",
        "\n",
        "to_drop = [c for c in upper.columns if any(abs(upper[c]) > 0.9)]\n",
        "\n",
        "print(f'There are {len(train_agg.columns)} columns but {len(to_drop)} corr columns to remove')"
      ],
      "execution_count": null,
      "outputs": [
        {
          "output_type": "stream",
          "text": [
            "There are 300 columns but 150 corr columns to remove\n"
          ],
          "name": "stdout"
        }
      ]
    },
    {
      "cell_type": "code",
      "metadata": {
        "execution": {
          "iopub.status.busy": "2021-06-25T08:09:39.238030Z",
          "iopub.execute_input": "2021-06-25T08:09:39.238388Z",
          "iopub.status.idle": "2021-06-25T08:09:58.927737Z",
          "shell.execute_reply.started": "2021-06-25T08:09:39.238356Z",
          "shell.execute_reply": "2021-06-25T08:09:58.926838Z"
        },
        "trusted": true,
        "id": "etZfqax3iSMW"
      },
      "source": [
        "train_agg.drop(columns=to_drop)\n",
        "train = train.merge(train_agg, how='left', on='id')\n",
        "\n",
        "test_agg.drop(columns=to_drop)\n",
        "test = test.merge(test_agg, how='left', on='id')"
      ],
      "execution_count": null,
      "outputs": []
    },
    {
      "cell_type": "code",
      "metadata": {
        "id": "zRKQEnDKiSMX"
      },
      "source": [
        ""
      ],
      "execution_count": null,
      "outputs": []
    },
    {
      "cell_type": "markdown",
      "metadata": {
        "id": "9ChKIvDciSMX"
      },
      "source": [
        "# 그냥 모델링 하기 다음에 피쳐 엔지니어링"
      ]
    },
    {
      "cell_type": "code",
      "metadata": {
        "execution": {
          "iopub.status.busy": "2021-06-25T08:12:12.341117Z",
          "iopub.execute_input": "2021-06-25T08:12:12.341494Z",
          "iopub.status.idle": "2021-06-25T08:12:12.346799Z",
          "shell.execute_reply.started": "2021-06-25T08:12:12.341462Z",
          "shell.execute_reply": "2021-06-25T08:12:12.345674Z"
        },
        "trusted": true,
        "id": "7BE3Ila1iSMX"
      },
      "source": [
        "from sklearn.metrics import log_loss, make_scorer\n",
        "import catboost\n",
        "import lightgbm\n",
        "import xgboost\n",
        "from sklearn.linear_model import LogisticRegression\n",
        "from sklearn.ensemble import RandomForestClassifier\n",
        "from sklearn.model_selection import cross_validate, KFold, StratifiedKFold\n",
        "from sklearn.preprocessing import LabelEncoder, robust_scale, MinMaxScaler"
      ],
      "execution_count": null,
      "outputs": []
    },
    {
      "cell_type": "code",
      "metadata": {
        "execution": {
          "iopub.status.busy": "2021-06-25T08:10:32.542005Z",
          "iopub.execute_input": "2021-06-25T08:10:32.542359Z",
          "iopub.status.idle": "2021-06-25T08:10:33.347666Z",
          "shell.execute_reply.started": "2021-06-25T08:10:32.542324Z",
          "shell.execute_reply": "2021-06-25T08:10:33.346818Z"
        },
        "trusted": true,
        "id": "G85mKc8CiSMY"
      },
      "source": [
        "x_train = train.drop(columns=['target', 'id'])\n",
        "y_train = train['target']\n",
        "x_test = test.drop(columns=['id'])"
      ],
      "execution_count": null,
      "outputs": []
    },
    {
      "cell_type": "code",
      "metadata": {
        "execution": {
          "iopub.status.busy": "2021-06-25T05:05:58.399958Z",
          "iopub.execute_input": "2021-06-25T05:05:58.400297Z",
          "iopub.status.idle": "2021-06-25T05:05:59.697810Z",
          "shell.execute_reply.started": "2021-06-25T05:05:58.400261Z",
          "shell.execute_reply": "2021-06-25T05:05:59.696928Z"
        },
        "trusted": true,
        "id": "fwUoFoPNiSMY"
      },
      "source": [
        "x_train = data.loc[data['target'].notnull()].drop(columns=['id', 'target'])\n",
        "y_train = data.loc[data['target'].notnull()]['target']\n",
        "x_test = data.loc[data['target'].isnull()].drop(columns=['id', 'target'])"
      ],
      "execution_count": null,
      "outputs": []
    },
    {
      "cell_type": "code",
      "metadata": {
        "execution": {
          "iopub.status.busy": "2021-06-25T08:11:26.695552Z",
          "iopub.execute_input": "2021-06-25T08:11:26.695864Z",
          "iopub.status.idle": "2021-06-25T08:11:26.764103Z",
          "shell.execute_reply.started": "2021-06-25T08:11:26.695835Z",
          "shell.execute_reply": "2021-06-25T08:11:26.763183Z"
        },
        "trusted": true,
        "id": "sfDRM1KsiSMY"
      },
      "source": [
        "encoder = LabelEncoder()\n",
        "y_train = encoder.fit_transform(y_train)\n",
        "y_train = pd.Series(y_train)"
      ],
      "execution_count": null,
      "outputs": []
    },
    {
      "cell_type": "code",
      "metadata": {
        "execution": {
          "iopub.status.busy": "2021-06-25T08:13:00.217637Z",
          "iopub.execute_input": "2021-06-25T08:13:00.218035Z",
          "iopub.status.idle": "2021-06-25T08:13:01.730675Z",
          "shell.execute_reply.started": "2021-06-25T08:13:00.217998Z",
          "shell.execute_reply": "2021-06-25T08:13:01.729792Z"
        },
        "trusted": true,
        "id": "EJuPRRowiSMY"
      },
      "source": [
        "x_train_col = x_train.columns\n",
        "x_test_col = x_test.columns\n",
        "\n",
        "x_train = pd.DataFrame(MinMaxScaler().fit_transform(x_train), columns=x_train_col)\n",
        "x_test = pd.DataFrame(MinMaxScaler().fit_transform(x_test), columns=x_test_col)"
      ],
      "execution_count": null,
      "outputs": []
    },
    {
      "cell_type": "code",
      "metadata": {
        "execution": {
          "iopub.status.busy": "2021-06-25T08:13:19.916479Z",
          "iopub.execute_input": "2021-06-25T08:13:19.916794Z",
          "iopub.status.idle": "2021-06-25T08:23:01.503809Z",
          "shell.execute_reply.started": "2021-06-25T08:13:19.916764Z",
          "shell.execute_reply": "2021-06-25T08:23:01.503027Z"
        },
        "trusted": true,
        "id": "ZUJuWOY1iSMZ",
        "outputId": "07870d1c-00da-4421-e7b1-fe6fed45d69b"
      },
      "source": [
        "# lgbm 모델\n",
        "skf = StratifiedKFold(n_splits=5, shuffle=True, random_state=42)\n",
        "preds = np.zeros((len(x_test)))\n",
        "for i, (train_index, valid_index) in enumerate(skf.split(x_train, y_train)):\n",
        "  X_train, X_valid = x_train.iloc[train_index], x_train.iloc[valid_index]\n",
        "  Y_train, Y_valid = y_train.iloc[train_index], y_train.iloc[valid_index]\n",
        "\n",
        "  model = lightgbm.LGBMClassifier(n_estimators=3000, learning_rate=0.05, objective='multiclass', n_jobs=-1)\n",
        "  model.fit(X_train, Y_train, eval_set=[(X_train, Y_train), (X_valid, Y_valid)], verbose=100, early_stopping_rounds=70, eval_metric='multi_logloss')\n",
        "  preds = model.predict_proba(x_test)"
      ],
      "execution_count": null,
      "outputs": [
        {
          "output_type": "stream",
          "text": [
            "Training until validation scores don't improve for 70 rounds\n",
            "[100]\ttraining's multi_logloss: 1.66235\tvalid_1's multi_logloss: 1.75672\n",
            "[200]\ttraining's multi_logloss: 1.59642\tvalid_1's multi_logloss: 1.75755\n",
            "Early stopping, best iteration is:\n",
            "[137]\ttraining's multi_logloss: 1.63543\tvalid_1's multi_logloss: 1.75649\n",
            "Training until validation scores don't improve for 70 rounds\n",
            "[100]\ttraining's multi_logloss: 1.66408\tvalid_1's multi_logloss: 1.74879\n",
            "[200]\ttraining's multi_logloss: 1.59782\tvalid_1's multi_logloss: 1.74931\n",
            "Early stopping, best iteration is:\n",
            "[130]\ttraining's multi_logloss: 1.64222\tvalid_1's multi_logloss: 1.74837\n",
            "Training until validation scores don't improve for 70 rounds\n",
            "[100]\ttraining's multi_logloss: 1.6637\tvalid_1's multi_logloss: 1.75045\n",
            "Early stopping, best iteration is:\n",
            "[114]\ttraining's multi_logloss: 1.65283\tvalid_1's multi_logloss: 1.75018\n",
            "Training until validation scores don't improve for 70 rounds\n",
            "[100]\ttraining's multi_logloss: 1.66313\tvalid_1's multi_logloss: 1.75232\n",
            "Early stopping, best iteration is:\n",
            "[121]\ttraining's multi_logloss: 1.64747\tvalid_1's multi_logloss: 1.75196\n",
            "Training until validation scores don't improve for 70 rounds\n",
            "[100]\ttraining's multi_logloss: 1.66322\tvalid_1's multi_logloss: 1.75192\n",
            "Early stopping, best iteration is:\n",
            "[129]\ttraining's multi_logloss: 1.64191\tvalid_1's multi_logloss: 1.75157\n"
          ],
          "name": "stdout"
        }
      ]
    },
    {
      "cell_type": "code",
      "metadata": {
        "execution": {
          "iopub.status.busy": "2021-06-24T12:40:34.97102Z",
          "iopub.execute_input": "2021-06-24T12:40:34.971366Z",
          "iopub.status.idle": "2021-06-24T12:45:10.838493Z",
          "shell.execute_reply.started": "2021-06-24T12:40:34.971334Z",
          "shell.execute_reply": "2021-06-24T12:45:10.837576Z"
        },
        "trusted": true,
        "id": "_e8Yw95-iSMZ"
      },
      "source": [
        "# catboost모델 제일 성능이 잘 나옴(NN빼고)\n",
        "skf = StratifiedKFold(n_splits=5, shuffle=True, random_state=42)\n",
        "preds_cat = np.zeros((x_test.shape[0], y_train.nunique()))\n",
        "for i, (train_index, valid_index) in enumerate(skf.split(x_train, y_train)):\n",
        "    X_train, X_valid = x_train.iloc[train_index], x_train.iloc[valid_index]\n",
        "    Y_train, Y_valid = y_train.iloc[train_index], y_train.iloc[valid_index]\n",
        "    \n",
        "    model = catboost.CatBoostClassifier(n_estimators=3000, learning_rate=0.03, objective='MultiClass', eval_metric='MultiClass', task_type='GPU', devices='0:1')\n",
        "    model.fit(X_train, Y_train, verbose=100, early_stopping_rounds=70 )\n",
        "    preds_cat += model.predict_proba(x_test)/skf.n_splits\n"
      ],
      "execution_count": null,
      "outputs": []
    },
    {
      "cell_type": "code",
      "metadata": {
        "id": "cRUXX1KiiSMZ"
      },
      "source": [
        "model_cat.select_features(\n",
        "                X_train,\n",
        "                Y_train,\n",
        "                eval_set=[(X_train, Y_train), (X_valid, Y_valid)],\n",
        "                features_for_select=None,\n",
        "                num_features_to_select=None,\n",
        "                algorithm='RecursiveByLossFunctionChange',\n",
        "                steps=None,\n",
        "                shap_calc_type=None,\n",
        "                train_final_model=False,\n",
        "                verbose=None,\n",
        "                logging_level=None,\n",
        "                plot=True)"
      ],
      "execution_count": null,
      "outputs": []
    },
    {
      "cell_type": "code",
      "metadata": {
        "execution": {
          "iopub.status.busy": "2021-06-24T09:28:10.435992Z",
          "iopub.execute_input": "2021-06-24T09:28:10.436407Z",
          "iopub.status.idle": "2021-06-24T09:28:10.5431Z",
          "shell.execute_reply.started": "2021-06-24T09:28:10.436363Z",
          "shell.execute_reply": "2021-06-24T09:28:10.54227Z"
        },
        "trusted": true,
        "id": "QlXot59qiSMa"
      },
      "source": [
        "from catboost.utils import get_gpu_device_count\n",
        "get_gpu_device_count()"
      ],
      "execution_count": null,
      "outputs": []
    },
    {
      "cell_type": "code",
      "metadata": {
        "execution": {
          "iopub.status.busy": "2021-06-24T06:38:56.803141Z",
          "iopub.execute_input": "2021-06-24T06:38:56.803471Z",
          "iopub.status.idle": "2021-06-24T08:10:02.320242Z",
          "shell.execute_reply.started": "2021-06-24T06:38:56.803441Z",
          "shell.execute_reply": "2021-06-24T08:10:02.314827Z"
        },
        "trusted": true,
        "id": "YR84dl-ZiSMa"
      },
      "source": [
        "# xgboost ==> 너무 느림\n",
        "skf = StratifiedKFold(n_splits=5, shuffle=True, random_state=42)\n",
        "preds_xgb = np.zeros((len(x_test)))\n",
        "for i, (train_index, valid_index) in enumerate(skf.split(x_train, y_train)):\n",
        "  X_train, X_valid = x_train.iloc[train_index], x_train.iloc[valid_index]\n",
        "  Y_train, Y_valid = y_train.iloc[train_index], y_train.iloc[valid_index]\n",
        "\n",
        "  model_xgb = xgboost.XGBClassifier(n_estimators=3000, learning_rate=0.022, objective='multiclass')\n",
        "  model_xgb.fit(X_train, Y_train, eval_set=[(X_train, Y_train), (X_valid, Y_valid)], verbose=100, early_stopping_rounds=70, eval_metric='mlogloss')\n",
        "  preds_xgb = model_xgb.predict_proba(x_test)"
      ],
      "execution_count": null,
      "outputs": []
    },
    {
      "cell_type": "code",
      "metadata": {
        "execution": {
          "iopub.status.busy": "2021-06-24T12:48:46.820368Z",
          "iopub.execute_input": "2021-06-24T12:48:46.820874Z",
          "iopub.status.idle": "2021-06-24T12:48:46.960424Z",
          "shell.execute_reply.started": "2021-06-24T12:48:46.820828Z",
          "shell.execute_reply": "2021-06-24T12:48:46.959503Z"
        },
        "trusted": true,
        "id": "chpuvoVDiSMa"
      },
      "source": [
        "submit = pd.read_csv('/kaggle/input/tabular-playground-series-jun-2021/sample_submission.csv')\n",
        "submit = submit.set_index('id')"
      ],
      "execution_count": null,
      "outputs": []
    },
    {
      "cell_type": "code",
      "metadata": {
        "execution": {
          "iopub.status.busy": "2021-06-24T12:48:47.885333Z",
          "iopub.execute_input": "2021-06-24T12:48:47.885675Z",
          "iopub.status.idle": "2021-06-24T12:48:47.897316Z",
          "shell.execute_reply.started": "2021-06-24T12:48:47.885647Z",
          "shell.execute_reply": "2021-06-24T12:48:47.896254Z"
        },
        "trusted": true,
        "id": "hi5DVQvmiSMb"
      },
      "source": [
        "for i in range(9):\n",
        "    submit.iloc[:,i] = preds_cat[:,i]"
      ],
      "execution_count": null,
      "outputs": []
    },
    {
      "cell_type": "code",
      "metadata": {
        "execution": {
          "iopub.status.busy": "2021-06-24T12:48:51.655384Z",
          "iopub.execute_input": "2021-06-24T12:48:51.655708Z",
          "iopub.status.idle": "2021-06-24T12:48:53.582257Z",
          "shell.execute_reply.started": "2021-06-24T12:48:51.655678Z",
          "shell.execute_reply": "2021-06-24T12:48:53.581372Z"
        },
        "trusted": true,
        "id": "5XKaZoX9iSMb"
      },
      "source": [
        "submit.to_csv('submit8.csv')"
      ],
      "execution_count": null,
      "outputs": []
    },
    {
      "cell_type": "markdown",
      "metadata": {
        "id": "jQfdhRo8iSMb"
      },
      "source": [
        "# NN 파이토치 필사본"
      ]
    },
    {
      "cell_type": "code",
      "metadata": {
        "execution": {
          "iopub.status.busy": "2021-06-25T08:26:43.838662Z",
          "iopub.execute_input": "2021-06-25T08:26:43.838990Z",
          "iopub.status.idle": "2021-06-25T08:26:45.073899Z",
          "shell.execute_reply.started": "2021-06-25T08:26:43.838952Z",
          "shell.execute_reply": "2021-06-25T08:26:45.073030Z"
        },
        "trusted": true,
        "id": "rZDBNrpYiSMb"
      },
      "source": [
        "import os\n",
        "import sys\n",
        "import datetime\n",
        "\n",
        "import numpy as np\n",
        "import pandas as pd\n",
        "from sklearn.preprocessing import LabelEncoder, StandardScaler\n",
        "from sklearn.model_selection import StratifiedShuffleSplit\n",
        "\n",
        "import torch\n",
        "import torch.nn as nn\n",
        "import torch.nn.functional as F\n",
        "import torch.optim as optim\n",
        "from torch.utils.data import DataLoader, TensorDataset\n",
        "\n",
        "import optuna\n",
        "from optuna.trial import TrialState"
      ],
      "execution_count": null,
      "outputs": []
    },
    {
      "cell_type": "code",
      "metadata": {
        "execution": {
          "iopub.status.busy": "2021-06-25T08:26:47.836815Z",
          "iopub.execute_input": "2021-06-25T08:26:47.837114Z",
          "iopub.status.idle": "2021-06-25T08:26:51.224489Z",
          "shell.execute_reply.started": "2021-06-25T08:26:47.837084Z",
          "shell.execute_reply": "2021-06-25T08:26:51.223634Z"
        },
        "trusted": true,
        "id": "EGgH7S01iSMc",
        "outputId": "49caae66-b339-4fe7-bf95-6ccb10f7f7f6"
      },
      "source": [
        "sss = StratifiedShuffleSplit(n_splits=5, test_size=0.3, random_state=42)\n",
        "\n",
        "for train_index, val_index in sss.split(x_train, y_train):\n",
        "    print(f'train size:{len(train_index)}')\n",
        "    print(f'val size:{len(val_index)}')\n",
        "    X_train, X_val = x_train.iloc[train_index], x_train.iloc[val_index]\n",
        "    Y_train, Y_val = y_train.iloc[train_index], y_train.iloc[val_index]"
      ],
      "execution_count": null,
      "outputs": [
        {
          "output_type": "stream",
          "text": [
            "train size:140000\n",
            "val size:60000\n",
            "train size:140000\n",
            "val size:60000\n",
            "train size:140000\n",
            "val size:60000\n",
            "train size:140000\n",
            "val size:60000\n",
            "train size:140000\n",
            "val size:60000\n"
          ],
          "name": "stdout"
        }
      ]
    },
    {
      "cell_type": "markdown",
      "metadata": {
        "id": "NU8CqqmxiSMc"
      },
      "source": [
        "# Optuna"
      ]
    },
    {
      "cell_type": "code",
      "metadata": {
        "execution": {
          "iopub.status.busy": "2021-06-25T05:43:54.742869Z",
          "iopub.execute_input": "2021-06-25T05:43:54.743191Z",
          "iopub.status.idle": "2021-06-25T05:44:01.914690Z",
          "shell.execute_reply.started": "2021-06-25T05:43:54.743159Z",
          "shell.execute_reply": "2021-06-25T05:44:01.913558Z"
        },
        "trusted": true,
        "id": "AaVNfC-PiSMc",
        "outputId": "df2106ef-27cb-4d39-dc6a-c95a6ea3e266"
      },
      "source": [
        "pip install optuna"
      ],
      "execution_count": null,
      "outputs": [
        {
          "output_type": "stream",
          "text": [
            "Requirement already satisfied: optuna in /opt/conda/lib/python3.7/site-packages (2.7.0)\n",
            "Requirement already satisfied: cmaes>=0.8.2 in /opt/conda/lib/python3.7/site-packages (from optuna) (0.8.2)\n",
            "Requirement already satisfied: cliff in /opt/conda/lib/python3.7/site-packages (from optuna) (3.7.0)\n",
            "Requirement already satisfied: colorlog in /opt/conda/lib/python3.7/site-packages (from optuna) (5.0.1)\n",
            "Requirement already satisfied: packaging>=20.0 in /opt/conda/lib/python3.7/site-packages (from optuna) (20.9)\n",
            "Requirement already satisfied: sqlalchemy>=1.1.0 in /opt/conda/lib/python3.7/site-packages (from optuna) (1.4.3)\n",
            "Requirement already satisfied: tqdm in /opt/conda/lib/python3.7/site-packages (from optuna) (4.59.0)\n",
            "Requirement already satisfied: scipy!=1.4.0 in /opt/conda/lib/python3.7/site-packages (from optuna) (1.5.4)\n",
            "Requirement already satisfied: alembic in /opt/conda/lib/python3.7/site-packages (from optuna) (1.5.8)\n",
            "Requirement already satisfied: numpy in /opt/conda/lib/python3.7/site-packages (from optuna) (1.19.5)\n",
            "Requirement already satisfied: pyparsing>=2.0.2 in /opt/conda/lib/python3.7/site-packages (from packaging>=20.0->optuna) (2.4.7)\n",
            "Requirement already satisfied: greenlet!=0.4.17 in /opt/conda/lib/python3.7/site-packages (from sqlalchemy>=1.1.0->optuna) (1.0.0)\n",
            "Requirement already satisfied: importlib-metadata in /opt/conda/lib/python3.7/site-packages (from sqlalchemy>=1.1.0->optuna) (3.4.0)\n",
            "Requirement already satisfied: Mako in /opt/conda/lib/python3.7/site-packages (from alembic->optuna) (1.1.4)\n",
            "Requirement already satisfied: python-editor>=0.3 in /opt/conda/lib/python3.7/site-packages (from alembic->optuna) (1.0.4)\n",
            "Requirement already satisfied: python-dateutil in /opt/conda/lib/python3.7/site-packages (from alembic->optuna) (2.8.1)\n",
            "Requirement already satisfied: PyYAML>=3.12 in /opt/conda/lib/python3.7/site-packages (from cliff->optuna) (5.3.1)\n",
            "Requirement already satisfied: PrettyTable>=0.7.2 in /opt/conda/lib/python3.7/site-packages (from cliff->optuna) (2.1.0)\n",
            "Requirement already satisfied: pbr!=2.1.0,>=2.0.0 in /opt/conda/lib/python3.7/site-packages (from cliff->optuna) (5.5.1)\n",
            "Requirement already satisfied: stevedore>=2.0.1 in /opt/conda/lib/python3.7/site-packages (from cliff->optuna) (3.3.0)\n",
            "Requirement already satisfied: cmd2>=1.0.0 in /opt/conda/lib/python3.7/site-packages (from cliff->optuna) (1.5.0)\n",
            "Requirement already satisfied: wcwidth>=0.1.7 in /opt/conda/lib/python3.7/site-packages (from cmd2>=1.0.0->cliff->optuna) (0.2.5)\n",
            "Requirement already satisfied: colorama>=0.3.7 in /opt/conda/lib/python3.7/site-packages (from cmd2>=1.0.0->cliff->optuna) (0.4.4)\n",
            "Requirement already satisfied: pyperclip>=1.6 in /opt/conda/lib/python3.7/site-packages (from cmd2>=1.0.0->cliff->optuna) (1.8.2)\n",
            "Requirement already satisfied: attrs>=16.3.0 in /opt/conda/lib/python3.7/site-packages (from cmd2>=1.0.0->cliff->optuna) (20.3.0)\n",
            "Requirement already satisfied: typing-extensions>=3.6.4 in /opt/conda/lib/python3.7/site-packages (from importlib-metadata->sqlalchemy>=1.1.0->optuna) (3.7.4.3)\n",
            "Requirement already satisfied: zipp>=0.5 in /opt/conda/lib/python3.7/site-packages (from importlib-metadata->sqlalchemy>=1.1.0->optuna) (3.4.1)\n",
            "Requirement already satisfied: MarkupSafe>=0.9.2 in /opt/conda/lib/python3.7/site-packages (from Mako->alembic->optuna) (1.1.1)\n",
            "Requirement already satisfied: six>=1.5 in /opt/conda/lib/python3.7/site-packages (from python-dateutil->alembic->optuna) (1.15.0)\n",
            "Note: you may need to restart the kernel to use updated packages.\n"
          ],
          "name": "stdout"
        }
      ]
    },
    {
      "cell_type": "code",
      "metadata": {
        "execution": {
          "iopub.status.busy": "2021-06-25T08:30:25.731968Z",
          "iopub.execute_input": "2021-06-25T08:30:25.732338Z",
          "iopub.status.idle": "2021-06-25T08:30:33.486396Z",
          "shell.execute_reply.started": "2021-06-25T08:30:25.732305Z",
          "shell.execute_reply": "2021-06-25T08:30:33.485462Z"
        },
        "trusted": true,
        "id": "PJLs2Jh8iSMc",
        "outputId": "a6deb530-20e4-4402-eee1-66ea67387f43"
      },
      "source": [
        "pip install skorch"
      ],
      "execution_count": null,
      "outputs": [
        {
          "output_type": "stream",
          "text": [
            "Collecting skorch\n",
            "  Downloading skorch-0.10.0-py3-none-any.whl (128 kB)\n",
            "\u001b[K     |████████████████████████████████| 128 kB 1.2 MB/s eta 0:00:01\n",
            "\u001b[?25hRequirement already satisfied: numpy>=1.13.3 in /opt/conda/lib/python3.7/site-packages (from skorch) (1.19.5)\n",
            "Requirement already satisfied: scikit-learn>=0.19.1 in /opt/conda/lib/python3.7/site-packages (from skorch) (0.24.1)\n",
            "Requirement already satisfied: tabulate>=0.7.7 in /opt/conda/lib/python3.7/site-packages (from skorch) (0.8.9)\n",
            "Requirement already satisfied: tqdm>=4.14.0 in /opt/conda/lib/python3.7/site-packages (from skorch) (4.59.0)\n",
            "Requirement already satisfied: scipy>=1.1.0 in /opt/conda/lib/python3.7/site-packages (from skorch) (1.5.4)\n",
            "Requirement already satisfied: joblib>=0.11 in /opt/conda/lib/python3.7/site-packages (from scikit-learn>=0.19.1->skorch) (1.0.1)\n",
            "Requirement already satisfied: threadpoolctl>=2.0.0 in /opt/conda/lib/python3.7/site-packages (from scikit-learn>=0.19.1->skorch) (2.1.0)\n",
            "Installing collected packages: skorch\n",
            "Successfully installed skorch-0.10.0\n",
            "Note: you may need to restart the kernel to use updated packages.\n"
          ],
          "name": "stdout"
        }
      ]
    },
    {
      "cell_type": "code",
      "metadata": {
        "execution": {
          "iopub.status.busy": "2021-06-25T09:21:25.748668Z",
          "iopub.execute_input": "2021-06-25T09:21:25.748984Z",
          "iopub.status.idle": "2021-06-25T09:21:25.755887Z",
          "shell.execute_reply.started": "2021-06-25T09:21:25.748953Z",
          "shell.execute_reply": "2021-06-25T09:21:25.754986Z"
        },
        "trusted": true,
        "id": "Gtko9e0DiSMc"
      },
      "source": [
        "import optuna\n",
        "from torch.optim.lr_scheduler import ReduceLROnPlateau"
      ],
      "execution_count": null,
      "outputs": []
    },
    {
      "cell_type": "code",
      "metadata": {
        "execution": {
          "iopub.status.busy": "2021-06-25T09:32:41.344027Z",
          "iopub.execute_input": "2021-06-25T09:32:41.344391Z",
          "iopub.status.idle": "2021-06-25T09:32:41.363043Z",
          "shell.execute_reply.started": "2021-06-25T09:32:41.344356Z",
          "shell.execute_reply": "2021-06-25T09:32:41.362172Z"
        },
        "trusted": true,
        "id": "och8ZbIIiSMd"
      },
      "source": [
        "CLASSES = y_train.nunique()\n",
        "NUM_FEATURES = x_train.shape[1]\n",
        "DEVICE = torch.device(\"cpu\" if not torch.cuda.is_available() else \"cuda\")\n",
        "\n",
        "BATCHSIZE = 1000\n",
        "EPOCHS = 10\n",
        "N_TRAIN_EXAMPLES = BATCHSIZE * 14\n",
        "N_VALID_EXAMPLES = BATCHSIZE * 6\n",
        "\n",
        "criterion = nn.CrossEntropyLoss()\n",
        "\n",
        "def define_model(trial):\n",
        "    # We optimize the number of layers, hidden units and dropout ratio in each layer.\n",
        "    n_layers = trial.suggest_int(\"n_layers\", 1, 10)\n",
        "    layers = []\n",
        "\n",
        "    in_features = NUM_FEATURES\n",
        "    for i in range(n_layers):\n",
        "        out_features = trial.suggest_int(\"n_units_l{}\".format(i), y_train.nunique(), 1024)\n",
        "        layers.append(nn.Linear(in_features, out_features, bias=False))\n",
        "        layers.append(nn.ReLU(inplace=True))\n",
        "        p = trial.suggest_float(\"dropout_l{}\".format(i), 0.1, 0.5)\n",
        "        layers.append(nn.Dropout(p))\n",
        "        layers.append(nn.BatchNorm1d(out_features))\n",
        "\n",
        "        in_features = out_features\n",
        "        \n",
        "    layers.append(nn.Linear(in_features, CLASSES))\n",
        "\n",
        "    return nn.Sequential(*layers)\n",
        "\n",
        "def get_data(X_train, y_train, X_val, y_val):\n",
        "    train = TensorDataset(torch.Tensor(np.array(X_train)), torch.Tensor(np.array(y_train)))\n",
        "    train_loader = DataLoader(train, batch_size = 10000, shuffle = True)\n",
        "\n",
        "    val = TensorDataset(torch.Tensor(np.array(X_val)), torch.Tensor(np.array(y_val)))\n",
        "    val_loader = DataLoader(val, batch_size = 10000, shuffle = True)\n",
        "\n",
        "    return train_loader, val_loader\n",
        "\n",
        "def objective(trial):\n",
        "    model = define_model(trial).to(DEVICE)\n",
        "    optimizer_name = trial.suggest_categorical(\"optimizer\", [\"Adam\", 'AdamW', \"RMSprop\", \"SGD\"])\n",
        "    lr = trial.suggest_float(\"lr\", 0.001, 0.5)\n",
        "    optimizer = getattr(optim, optimizer_name)(model.parameters(), lr=lr)\n",
        "    lr_scheduler = optim.lr_scheduler.ReduceLROnPlateau(optimizer)\n",
        "    train_loader, valid_loader = get_data(X_train, Y_train, X_val, Y_val)\n",
        "    \n",
        "    for epoch in range(EPOCHS):\n",
        "        model.train()\n",
        "        for batch_idx, (data, target) in enumerate(train_loader):\n",
        "            data, target = data.view(data.size(0), -1).to(DEVICE), target.to(DEVICE)\n",
        "\n",
        "            optimizer.zero_grad()\n",
        "            output = model(data)\n",
        "            \n",
        "            loss = criterion(output, target.long())\n",
        "            loss.backward()\n",
        "            optimizer.step()\n",
        "            lr_scheduler.step(epoch + batch_idx / len(train_loader))\n",
        "\n",
        "        # Validation of the model.\n",
        "        model.eval()\n",
        "        val_loss = []\n",
        "        with torch.no_grad():\n",
        "            for batch_idx, (data, target) in enumerate(valid_loader):\n",
        "                data, target = data.view(data.size(0), -1).to(DEVICE), target.to(DEVICE)\n",
        "                output = model(data)\n",
        "                \n",
        "                loss = criterion(output, target.long())\n",
        "                val_loss.append(loss.item())\n",
        "        \n",
        "        avg_val_loss = np.mean(val_loss)\n",
        "\n",
        "        trial.report(avg_val_loss, epoch)\n",
        "\n",
        "        # Handle pruning based on the intermediate value.\n",
        "        if trial.should_prune():\n",
        "            raise optuna.exceptions.TrialPruned()\n",
        "    \n",
        "    return avg_val_loss"
      ],
      "execution_count": null,
      "outputs": []
    },
    {
      "cell_type": "code",
      "metadata": {
        "execution": {
          "iopub.status.busy": "2021-06-25T09:32:43.889997Z",
          "iopub.execute_input": "2021-06-25T09:32:43.890361Z",
          "iopub.status.idle": "2021-06-25T09:37:40.667259Z",
          "shell.execute_reply.started": "2021-06-25T09:32:43.890326Z",
          "shell.execute_reply": "2021-06-25T09:37:40.664742Z"
        },
        "trusted": true,
        "id": "HcP5-oTkiSMd",
        "outputId": "14f68664-27a3-415c-e9b5-d274be6b5223"
      },
      "source": [
        "study = optuna.create_study(direction='minimize')\n",
        "study.optimize(objective, n_trials=50)"
      ],
      "execution_count": null,
      "outputs": [
        {
          "output_type": "stream",
          "text": [
            "\u001b[32m[I 2021-06-25 09:32:43,891]\u001b[0m A new study created in memory with name: no-name-973d2513-5ddf-4f25-ab71-29ada33c61b4\u001b[0m\n",
            "\u001b[32m[I 2021-06-25 09:33:27,727]\u001b[0m Trial 0 finished with value: 114.02726491292317 and parameters: {'n_layers': 6, 'n_units_l0': 130, 'dropout_l0': 0.1428306849730681, 'n_units_l1': 393, 'dropout_l1': 0.396970117149559, 'n_units_l2': 106, 'dropout_l2': 0.36191710858523607, 'n_units_l3': 690, 'dropout_l3': 0.1695344048295732, 'n_units_l4': 480, 'dropout_l4': 0.2774807448471288, 'n_units_l5': 898, 'dropout_l5': 0.3993355981749753, 'optimizer': 'RMSprop', 'lr': 0.16651074769676258}. Best is trial 0 with value: 114.02726491292317.\u001b[0m\n",
            "\u001b[32m[I 2021-06-25 09:34:11,192]\u001b[0m Trial 1 finished with value: 1.8835017482439678 and parameters: {'n_layers': 4, 'n_units_l0': 237, 'dropout_l0': 0.12150456098751161, 'n_units_l1': 257, 'dropout_l1': 0.11908673810631445, 'n_units_l2': 852, 'dropout_l2': 0.4415032210004828, 'n_units_l3': 924, 'dropout_l3': 0.42800490585728224, 'optimizer': 'SGD', 'lr': 0.18545202596636035}. Best is trial 1 with value: 1.8835017482439678.\u001b[0m\n",
            "\u001b[32m[I 2021-06-25 09:34:54,688]\u001b[0m Trial 2 finished with value: 1.911950449148814 and parameters: {'n_layers': 6, 'n_units_l0': 653, 'dropout_l0': 0.15773603189577853, 'n_units_l1': 60, 'dropout_l1': 0.40262836518940504, 'n_units_l2': 199, 'dropout_l2': 0.39277131978029156, 'n_units_l3': 347, 'dropout_l3': 0.49825783078521535, 'n_units_l4': 878, 'dropout_l4': 0.2377518124399567, 'n_units_l5': 866, 'dropout_l5': 0.18980801000868386, 'optimizer': 'SGD', 'lr': 0.30705491553228165}. Best is trial 1 with value: 1.8835017482439678.\u001b[0m\n",
            "\u001b[32m[I 2021-06-25 09:35:37,392]\u001b[0m Trial 3 finished with value: 2.216443101565043 and parameters: {'n_layers': 3, 'n_units_l0': 333, 'dropout_l0': 0.34123844141538173, 'n_units_l1': 124, 'dropout_l1': 0.39651283354084865, 'n_units_l2': 43, 'dropout_l2': 0.45594919501384124, 'optimizer': 'Adam', 'lr': 0.4702934218657915}. Best is trial 1 with value: 1.8835017482439678.\u001b[0m\n",
            "\u001b[32m[I 2021-06-25 09:36:21,860]\u001b[0m Trial 4 finished with value: 8602.249308268229 and parameters: {'n_layers': 9, 'n_units_l0': 556, 'dropout_l0': 0.20914413190457581, 'n_units_l1': 715, 'dropout_l1': 0.4358916725566, 'n_units_l2': 926, 'dropout_l2': 0.13645397250641866, 'n_units_l3': 623, 'dropout_l3': 0.3132354202865575, 'n_units_l4': 29, 'dropout_l4': 0.1824368173448847, 'n_units_l5': 1016, 'dropout_l5': 0.3237661515662389, 'n_units_l6': 722, 'dropout_l6': 0.47146460079307684, 'n_units_l7': 657, 'dropout_l7': 0.2438606352936711, 'n_units_l8': 365, 'dropout_l8': 0.3757777264594492, 'optimizer': 'RMSprop', 'lr': 0.2722847940521516}. Best is trial 1 with value: 1.8835017482439678.\u001b[0m\n",
            "\u001b[32m[I 2021-06-25 09:36:26,674]\u001b[0m Trial 5 pruned. \u001b[0m\n",
            "\u001b[32m[I 2021-06-25 09:36:31,295]\u001b[0m Trial 6 pruned. \u001b[0m\n",
            "\u001b[32m[I 2021-06-25 09:36:35,994]\u001b[0m Trial 7 pruned. \u001b[0m\n",
            "\u001b[32m[I 2021-06-25 09:36:40,920]\u001b[0m Trial 8 pruned. \u001b[0m\n",
            "\u001b[32m[I 2021-06-25 09:36:45,840]\u001b[0m Trial 9 pruned. \u001b[0m\n",
            "\u001b[32m[I 2021-06-25 09:37:28,527]\u001b[0m Trial 10 finished with value: 1.8863632678985596 and parameters: {'n_layers': 1, 'n_units_l0': 351, 'dropout_l0': 0.47519464602451394, 'optimizer': 'AdamW', 'lr': 0.003867189888365097}. Best is trial 1 with value: 1.8835017482439678.\u001b[0m\n",
            "\u001b[32m[I 2021-06-25 09:37:37,515]\u001b[0m Trial 11 pruned. \u001b[0m\n"
          ],
          "name": "stderr"
        },
        {
          "output_type": "error",
          "ename": "KeyboardInterrupt",
          "evalue": "",
          "traceback": [
            "\u001b[0;31m---------------------------------------------------------------------------\u001b[0m",
            "\u001b[0;31mKeyboardInterrupt\u001b[0m                         Traceback (most recent call last)",
            "\u001b[0;32m<ipython-input-62-a02604a4856b>\u001b[0m in \u001b[0;36m<module>\u001b[0;34m\u001b[0m\n\u001b[1;32m      1\u001b[0m \u001b[0mstudy\u001b[0m \u001b[0;34m=\u001b[0m \u001b[0moptuna\u001b[0m\u001b[0;34m.\u001b[0m\u001b[0mcreate_study\u001b[0m\u001b[0;34m(\u001b[0m\u001b[0mdirection\u001b[0m\u001b[0;34m=\u001b[0m\u001b[0;34m'minimize'\u001b[0m\u001b[0;34m)\u001b[0m\u001b[0;34m\u001b[0m\u001b[0;34m\u001b[0m\u001b[0m\n\u001b[0;32m----> 2\u001b[0;31m \u001b[0mstudy\u001b[0m\u001b[0;34m.\u001b[0m\u001b[0moptimize\u001b[0m\u001b[0;34m(\u001b[0m\u001b[0mobjective\u001b[0m\u001b[0;34m,\u001b[0m \u001b[0mn_trials\u001b[0m\u001b[0;34m=\u001b[0m\u001b[0;36m50\u001b[0m\u001b[0;34m)\u001b[0m\u001b[0;34m\u001b[0m\u001b[0;34m\u001b[0m\u001b[0m\n\u001b[0m",
            "\u001b[0;32m/opt/conda/lib/python3.7/site-packages/optuna/study.py\u001b[0m in \u001b[0;36moptimize\u001b[0;34m(self, func, n_trials, timeout, n_jobs, catch, callbacks, gc_after_trial, show_progress_bar)\u001b[0m\n\u001b[1;32m    407\u001b[0m             \u001b[0mcallbacks\u001b[0m\u001b[0;34m=\u001b[0m\u001b[0mcallbacks\u001b[0m\u001b[0;34m,\u001b[0m\u001b[0;34m\u001b[0m\u001b[0;34m\u001b[0m\u001b[0m\n\u001b[1;32m    408\u001b[0m             \u001b[0mgc_after_trial\u001b[0m\u001b[0;34m=\u001b[0m\u001b[0mgc_after_trial\u001b[0m\u001b[0;34m,\u001b[0m\u001b[0;34m\u001b[0m\u001b[0;34m\u001b[0m\u001b[0m\n\u001b[0;32m--> 409\u001b[0;31m             \u001b[0mshow_progress_bar\u001b[0m\u001b[0;34m=\u001b[0m\u001b[0mshow_progress_bar\u001b[0m\u001b[0;34m,\u001b[0m\u001b[0;34m\u001b[0m\u001b[0;34m\u001b[0m\u001b[0m\n\u001b[0m\u001b[1;32m    410\u001b[0m         )\n\u001b[1;32m    411\u001b[0m \u001b[0;34m\u001b[0m\u001b[0m\n",
            "\u001b[0;32m/opt/conda/lib/python3.7/site-packages/optuna/_optimize.py\u001b[0m in \u001b[0;36m_optimize\u001b[0;34m(study, func, n_trials, timeout, n_jobs, catch, callbacks, gc_after_trial, show_progress_bar)\u001b[0m\n\u001b[1;32m     74\u001b[0m                 \u001b[0mreseed_sampler_rng\u001b[0m\u001b[0;34m=\u001b[0m\u001b[0;32mFalse\u001b[0m\u001b[0;34m,\u001b[0m\u001b[0;34m\u001b[0m\u001b[0;34m\u001b[0m\u001b[0m\n\u001b[1;32m     75\u001b[0m                 \u001b[0mtime_start\u001b[0m\u001b[0;34m=\u001b[0m\u001b[0;32mNone\u001b[0m\u001b[0;34m,\u001b[0m\u001b[0;34m\u001b[0m\u001b[0;34m\u001b[0m\u001b[0m\n\u001b[0;32m---> 76\u001b[0;31m                 \u001b[0mprogress_bar\u001b[0m\u001b[0;34m=\u001b[0m\u001b[0mprogress_bar\u001b[0m\u001b[0;34m,\u001b[0m\u001b[0;34m\u001b[0m\u001b[0;34m\u001b[0m\u001b[0m\n\u001b[0m\u001b[1;32m     77\u001b[0m             )\n\u001b[1;32m     78\u001b[0m         \u001b[0;32melse\u001b[0m\u001b[0;34m:\u001b[0m\u001b[0;34m\u001b[0m\u001b[0;34m\u001b[0m\u001b[0m\n",
            "\u001b[0;32m/opt/conda/lib/python3.7/site-packages/optuna/_optimize.py\u001b[0m in \u001b[0;36m_optimize_sequential\u001b[0;34m(study, func, n_trials, timeout, catch, callbacks, gc_after_trial, reseed_sampler_rng, time_start, progress_bar)\u001b[0m\n\u001b[1;32m    161\u001b[0m \u001b[0;34m\u001b[0m\u001b[0m\n\u001b[1;32m    162\u001b[0m         \u001b[0;32mtry\u001b[0m\u001b[0;34m:\u001b[0m\u001b[0;34m\u001b[0m\u001b[0;34m\u001b[0m\u001b[0m\n\u001b[0;32m--> 163\u001b[0;31m             \u001b[0mtrial\u001b[0m \u001b[0;34m=\u001b[0m \u001b[0m_run_trial\u001b[0m\u001b[0;34m(\u001b[0m\u001b[0mstudy\u001b[0m\u001b[0;34m,\u001b[0m \u001b[0mfunc\u001b[0m\u001b[0;34m,\u001b[0m \u001b[0mcatch\u001b[0m\u001b[0;34m)\u001b[0m\u001b[0;34m\u001b[0m\u001b[0;34m\u001b[0m\u001b[0m\n\u001b[0m\u001b[1;32m    164\u001b[0m         \u001b[0;32mexcept\u001b[0m \u001b[0mException\u001b[0m\u001b[0;34m:\u001b[0m\u001b[0;34m\u001b[0m\u001b[0;34m\u001b[0m\u001b[0m\n\u001b[1;32m    165\u001b[0m             \u001b[0;32mraise\u001b[0m\u001b[0;34m\u001b[0m\u001b[0;34m\u001b[0m\u001b[0m\n",
            "\u001b[0;32m/opt/conda/lib/python3.7/site-packages/optuna/_optimize.py\u001b[0m in \u001b[0;36m_run_trial\u001b[0;34m(study, func, catch)\u001b[0m\n\u001b[1;32m    215\u001b[0m \u001b[0;34m\u001b[0m\u001b[0m\n\u001b[1;32m    216\u001b[0m     \u001b[0;32mtry\u001b[0m\u001b[0;34m:\u001b[0m\u001b[0;34m\u001b[0m\u001b[0;34m\u001b[0m\u001b[0m\n\u001b[0;32m--> 217\u001b[0;31m         \u001b[0mvalue_or_values\u001b[0m \u001b[0;34m=\u001b[0m \u001b[0mfunc\u001b[0m\u001b[0;34m(\u001b[0m\u001b[0mtrial\u001b[0m\u001b[0;34m)\u001b[0m\u001b[0;34m\u001b[0m\u001b[0;34m\u001b[0m\u001b[0m\n\u001b[0m\u001b[1;32m    218\u001b[0m     \u001b[0;32mexcept\u001b[0m \u001b[0mexceptions\u001b[0m\u001b[0;34m.\u001b[0m\u001b[0mTrialPruned\u001b[0m \u001b[0;32mas\u001b[0m \u001b[0me\u001b[0m\u001b[0;34m:\u001b[0m\u001b[0;34m\u001b[0m\u001b[0;34m\u001b[0m\u001b[0m\n\u001b[1;32m    219\u001b[0m         \u001b[0;31m# TODO(mamu): Handle multi-objective cases.\u001b[0m\u001b[0;34m\u001b[0m\u001b[0;34m\u001b[0m\u001b[0;34m\u001b[0m\u001b[0m\n",
            "\u001b[0;32m<ipython-input-61-0bceeb05b5f0>\u001b[0m in \u001b[0;36mobjective\u001b[0;34m(trial)\u001b[0m\n\u001b[1;32m     49\u001b[0m     \u001b[0;32mfor\u001b[0m \u001b[0mepoch\u001b[0m \u001b[0;32min\u001b[0m \u001b[0mrange\u001b[0m\u001b[0;34m(\u001b[0m\u001b[0mEPOCHS\u001b[0m\u001b[0;34m)\u001b[0m\u001b[0;34m:\u001b[0m\u001b[0;34m\u001b[0m\u001b[0;34m\u001b[0m\u001b[0m\n\u001b[1;32m     50\u001b[0m         \u001b[0mmodel\u001b[0m\u001b[0;34m.\u001b[0m\u001b[0mtrain\u001b[0m\u001b[0;34m(\u001b[0m\u001b[0;34m)\u001b[0m\u001b[0;34m\u001b[0m\u001b[0;34m\u001b[0m\u001b[0m\n\u001b[0;32m---> 51\u001b[0;31m         \u001b[0;32mfor\u001b[0m \u001b[0mbatch_idx\u001b[0m\u001b[0;34m,\u001b[0m \u001b[0;34m(\u001b[0m\u001b[0mdata\u001b[0m\u001b[0;34m,\u001b[0m \u001b[0mtarget\u001b[0m\u001b[0;34m)\u001b[0m \u001b[0;32min\u001b[0m \u001b[0menumerate\u001b[0m\u001b[0;34m(\u001b[0m\u001b[0mtrain_loader\u001b[0m\u001b[0;34m)\u001b[0m\u001b[0;34m:\u001b[0m\u001b[0;34m\u001b[0m\u001b[0;34m\u001b[0m\u001b[0m\n\u001b[0m\u001b[1;32m     52\u001b[0m             \u001b[0mdata\u001b[0m\u001b[0;34m,\u001b[0m \u001b[0mtarget\u001b[0m \u001b[0;34m=\u001b[0m \u001b[0mdata\u001b[0m\u001b[0;34m.\u001b[0m\u001b[0mview\u001b[0m\u001b[0;34m(\u001b[0m\u001b[0mdata\u001b[0m\u001b[0;34m.\u001b[0m\u001b[0msize\u001b[0m\u001b[0;34m(\u001b[0m\u001b[0;36m0\u001b[0m\u001b[0;34m)\u001b[0m\u001b[0;34m,\u001b[0m \u001b[0;34m-\u001b[0m\u001b[0;36m1\u001b[0m\u001b[0;34m)\u001b[0m\u001b[0;34m.\u001b[0m\u001b[0mto\u001b[0m\u001b[0;34m(\u001b[0m\u001b[0mDEVICE\u001b[0m\u001b[0;34m)\u001b[0m\u001b[0;34m,\u001b[0m \u001b[0mtarget\u001b[0m\u001b[0;34m.\u001b[0m\u001b[0mto\u001b[0m\u001b[0;34m(\u001b[0m\u001b[0mDEVICE\u001b[0m\u001b[0;34m)\u001b[0m\u001b[0;34m\u001b[0m\u001b[0;34m\u001b[0m\u001b[0m\n\u001b[1;32m     53\u001b[0m \u001b[0;34m\u001b[0m\u001b[0m\n",
            "\u001b[0;32m/opt/conda/lib/python3.7/site-packages/torch/utils/data/dataloader.py\u001b[0m in \u001b[0;36m__next__\u001b[0;34m(self)\u001b[0m\n\u001b[1;32m    433\u001b[0m         \u001b[0;32mif\u001b[0m \u001b[0mself\u001b[0m\u001b[0;34m.\u001b[0m\u001b[0m_sampler_iter\u001b[0m \u001b[0;32mis\u001b[0m \u001b[0;32mNone\u001b[0m\u001b[0;34m:\u001b[0m\u001b[0;34m\u001b[0m\u001b[0;34m\u001b[0m\u001b[0m\n\u001b[1;32m    434\u001b[0m             \u001b[0mself\u001b[0m\u001b[0;34m.\u001b[0m\u001b[0m_reset\u001b[0m\u001b[0;34m(\u001b[0m\u001b[0;34m)\u001b[0m\u001b[0;34m\u001b[0m\u001b[0;34m\u001b[0m\u001b[0m\n\u001b[0;32m--> 435\u001b[0;31m         \u001b[0mdata\u001b[0m \u001b[0;34m=\u001b[0m \u001b[0mself\u001b[0m\u001b[0;34m.\u001b[0m\u001b[0m_next_data\u001b[0m\u001b[0;34m(\u001b[0m\u001b[0;34m)\u001b[0m\u001b[0;34m\u001b[0m\u001b[0;34m\u001b[0m\u001b[0m\n\u001b[0m\u001b[1;32m    436\u001b[0m         \u001b[0mself\u001b[0m\u001b[0;34m.\u001b[0m\u001b[0m_num_yielded\u001b[0m \u001b[0;34m+=\u001b[0m \u001b[0;36m1\u001b[0m\u001b[0;34m\u001b[0m\u001b[0;34m\u001b[0m\u001b[0m\n\u001b[1;32m    437\u001b[0m         \u001b[0;32mif\u001b[0m \u001b[0mself\u001b[0m\u001b[0;34m.\u001b[0m\u001b[0m_dataset_kind\u001b[0m \u001b[0;34m==\u001b[0m \u001b[0m_DatasetKind\u001b[0m\u001b[0;34m.\u001b[0m\u001b[0mIterable\u001b[0m \u001b[0;32mand\u001b[0m\u001b[0;31m \u001b[0m\u001b[0;31m\\\u001b[0m\u001b[0;34m\u001b[0m\u001b[0;34m\u001b[0m\u001b[0m\n",
            "\u001b[0;32m/opt/conda/lib/python3.7/site-packages/torch/utils/data/dataloader.py\u001b[0m in \u001b[0;36m_next_data\u001b[0;34m(self)\u001b[0m\n\u001b[1;32m    473\u001b[0m     \u001b[0;32mdef\u001b[0m \u001b[0m_next_data\u001b[0m\u001b[0;34m(\u001b[0m\u001b[0mself\u001b[0m\u001b[0;34m)\u001b[0m\u001b[0;34m:\u001b[0m\u001b[0;34m\u001b[0m\u001b[0;34m\u001b[0m\u001b[0m\n\u001b[1;32m    474\u001b[0m         \u001b[0mindex\u001b[0m \u001b[0;34m=\u001b[0m \u001b[0mself\u001b[0m\u001b[0;34m.\u001b[0m\u001b[0m_next_index\u001b[0m\u001b[0;34m(\u001b[0m\u001b[0;34m)\u001b[0m  \u001b[0;31m# may raise StopIteration\u001b[0m\u001b[0;34m\u001b[0m\u001b[0;34m\u001b[0m\u001b[0m\n\u001b[0;32m--> 475\u001b[0;31m         \u001b[0mdata\u001b[0m \u001b[0;34m=\u001b[0m \u001b[0mself\u001b[0m\u001b[0;34m.\u001b[0m\u001b[0m_dataset_fetcher\u001b[0m\u001b[0;34m.\u001b[0m\u001b[0mfetch\u001b[0m\u001b[0;34m(\u001b[0m\u001b[0mindex\u001b[0m\u001b[0;34m)\u001b[0m  \u001b[0;31m# may raise StopIteration\u001b[0m\u001b[0;34m\u001b[0m\u001b[0;34m\u001b[0m\u001b[0m\n\u001b[0m\u001b[1;32m    476\u001b[0m         \u001b[0;32mif\u001b[0m \u001b[0mself\u001b[0m\u001b[0;34m.\u001b[0m\u001b[0m_pin_memory\u001b[0m\u001b[0;34m:\u001b[0m\u001b[0;34m\u001b[0m\u001b[0;34m\u001b[0m\u001b[0m\n\u001b[1;32m    477\u001b[0m             \u001b[0mdata\u001b[0m \u001b[0;34m=\u001b[0m \u001b[0m_utils\u001b[0m\u001b[0;34m.\u001b[0m\u001b[0mpin_memory\u001b[0m\u001b[0;34m.\u001b[0m\u001b[0mpin_memory\u001b[0m\u001b[0;34m(\u001b[0m\u001b[0mdata\u001b[0m\u001b[0;34m)\u001b[0m\u001b[0;34m\u001b[0m\u001b[0;34m\u001b[0m\u001b[0m\n",
            "\u001b[0;32m/opt/conda/lib/python3.7/site-packages/torch/utils/data/_utils/fetch.py\u001b[0m in \u001b[0;36mfetch\u001b[0;34m(self, possibly_batched_index)\u001b[0m\n\u001b[1;32m     45\u001b[0m         \u001b[0;32melse\u001b[0m\u001b[0;34m:\u001b[0m\u001b[0;34m\u001b[0m\u001b[0;34m\u001b[0m\u001b[0m\n\u001b[1;32m     46\u001b[0m             \u001b[0mdata\u001b[0m \u001b[0;34m=\u001b[0m \u001b[0mself\u001b[0m\u001b[0;34m.\u001b[0m\u001b[0mdataset\u001b[0m\u001b[0;34m[\u001b[0m\u001b[0mpossibly_batched_index\u001b[0m\u001b[0;34m]\u001b[0m\u001b[0;34m\u001b[0m\u001b[0;34m\u001b[0m\u001b[0m\n\u001b[0;32m---> 47\u001b[0;31m         \u001b[0;32mreturn\u001b[0m \u001b[0mself\u001b[0m\u001b[0;34m.\u001b[0m\u001b[0mcollate_fn\u001b[0m\u001b[0;34m(\u001b[0m\u001b[0mdata\u001b[0m\u001b[0;34m)\u001b[0m\u001b[0;34m\u001b[0m\u001b[0;34m\u001b[0m\u001b[0m\n\u001b[0m",
            "\u001b[0;32m/opt/conda/lib/python3.7/site-packages/torch/utils/data/_utils/collate.py\u001b[0m in \u001b[0;36mdefault_collate\u001b[0;34m(batch)\u001b[0m\n\u001b[1;32m     81\u001b[0m             \u001b[0;32mraise\u001b[0m \u001b[0mRuntimeError\u001b[0m\u001b[0;34m(\u001b[0m\u001b[0;34m'each element in list of batch should be of equal size'\u001b[0m\u001b[0;34m)\u001b[0m\u001b[0;34m\u001b[0m\u001b[0;34m\u001b[0m\u001b[0m\n\u001b[1;32m     82\u001b[0m         \u001b[0mtransposed\u001b[0m \u001b[0;34m=\u001b[0m \u001b[0mzip\u001b[0m\u001b[0;34m(\u001b[0m\u001b[0;34m*\u001b[0m\u001b[0mbatch\u001b[0m\u001b[0;34m)\u001b[0m\u001b[0;34m\u001b[0m\u001b[0;34m\u001b[0m\u001b[0m\n\u001b[0;32m---> 83\u001b[0;31m         \u001b[0;32mreturn\u001b[0m \u001b[0;34m[\u001b[0m\u001b[0mdefault_collate\u001b[0m\u001b[0;34m(\u001b[0m\u001b[0msamples\u001b[0m\u001b[0;34m)\u001b[0m \u001b[0;32mfor\u001b[0m \u001b[0msamples\u001b[0m \u001b[0;32min\u001b[0m \u001b[0mtransposed\u001b[0m\u001b[0;34m]\u001b[0m\u001b[0;34m\u001b[0m\u001b[0;34m\u001b[0m\u001b[0m\n\u001b[0m\u001b[1;32m     84\u001b[0m \u001b[0;34m\u001b[0m\u001b[0m\n\u001b[1;32m     85\u001b[0m     \u001b[0;32mraise\u001b[0m \u001b[0mTypeError\u001b[0m\u001b[0;34m(\u001b[0m\u001b[0mdefault_collate_err_msg_format\u001b[0m\u001b[0;34m.\u001b[0m\u001b[0mformat\u001b[0m\u001b[0;34m(\u001b[0m\u001b[0melem_type\u001b[0m\u001b[0;34m)\u001b[0m\u001b[0;34m)\u001b[0m\u001b[0;34m\u001b[0m\u001b[0;34m\u001b[0m\u001b[0m\n",
            "\u001b[0;32m/opt/conda/lib/python3.7/site-packages/torch/utils/data/_utils/collate.py\u001b[0m in \u001b[0;36m<listcomp>\u001b[0;34m(.0)\u001b[0m\n\u001b[1;32m     81\u001b[0m             \u001b[0;32mraise\u001b[0m \u001b[0mRuntimeError\u001b[0m\u001b[0;34m(\u001b[0m\u001b[0;34m'each element in list of batch should be of equal size'\u001b[0m\u001b[0;34m)\u001b[0m\u001b[0;34m\u001b[0m\u001b[0;34m\u001b[0m\u001b[0m\n\u001b[1;32m     82\u001b[0m         \u001b[0mtransposed\u001b[0m \u001b[0;34m=\u001b[0m \u001b[0mzip\u001b[0m\u001b[0;34m(\u001b[0m\u001b[0;34m*\u001b[0m\u001b[0mbatch\u001b[0m\u001b[0;34m)\u001b[0m\u001b[0;34m\u001b[0m\u001b[0;34m\u001b[0m\u001b[0m\n\u001b[0;32m---> 83\u001b[0;31m         \u001b[0;32mreturn\u001b[0m \u001b[0;34m[\u001b[0m\u001b[0mdefault_collate\u001b[0m\u001b[0;34m(\u001b[0m\u001b[0msamples\u001b[0m\u001b[0;34m)\u001b[0m \u001b[0;32mfor\u001b[0m \u001b[0msamples\u001b[0m \u001b[0;32min\u001b[0m \u001b[0mtransposed\u001b[0m\u001b[0;34m]\u001b[0m\u001b[0;34m\u001b[0m\u001b[0;34m\u001b[0m\u001b[0m\n\u001b[0m\u001b[1;32m     84\u001b[0m \u001b[0;34m\u001b[0m\u001b[0m\n\u001b[1;32m     85\u001b[0m     \u001b[0;32mraise\u001b[0m \u001b[0mTypeError\u001b[0m\u001b[0;34m(\u001b[0m\u001b[0mdefault_collate_err_msg_format\u001b[0m\u001b[0;34m.\u001b[0m\u001b[0mformat\u001b[0m\u001b[0;34m(\u001b[0m\u001b[0melem_type\u001b[0m\u001b[0;34m)\u001b[0m\u001b[0;34m)\u001b[0m\u001b[0;34m\u001b[0m\u001b[0;34m\u001b[0m\u001b[0m\n",
            "\u001b[0;32m/opt/conda/lib/python3.7/site-packages/torch/utils/data/_utils/collate.py\u001b[0m in \u001b[0;36mdefault_collate\u001b[0;34m(batch)\u001b[0m\n\u001b[1;32m     53\u001b[0m             \u001b[0mstorage\u001b[0m \u001b[0;34m=\u001b[0m \u001b[0melem\u001b[0m\u001b[0;34m.\u001b[0m\u001b[0mstorage\u001b[0m\u001b[0;34m(\u001b[0m\u001b[0;34m)\u001b[0m\u001b[0;34m.\u001b[0m\u001b[0m_new_shared\u001b[0m\u001b[0;34m(\u001b[0m\u001b[0mnumel\u001b[0m\u001b[0;34m)\u001b[0m\u001b[0;34m\u001b[0m\u001b[0;34m\u001b[0m\u001b[0m\n\u001b[1;32m     54\u001b[0m             \u001b[0mout\u001b[0m \u001b[0;34m=\u001b[0m \u001b[0melem\u001b[0m\u001b[0;34m.\u001b[0m\u001b[0mnew\u001b[0m\u001b[0;34m(\u001b[0m\u001b[0mstorage\u001b[0m\u001b[0;34m)\u001b[0m\u001b[0;34m\u001b[0m\u001b[0;34m\u001b[0m\u001b[0m\n\u001b[0;32m---> 55\u001b[0;31m         \u001b[0;32mreturn\u001b[0m \u001b[0mtorch\u001b[0m\u001b[0;34m.\u001b[0m\u001b[0mstack\u001b[0m\u001b[0;34m(\u001b[0m\u001b[0mbatch\u001b[0m\u001b[0;34m,\u001b[0m \u001b[0;36m0\u001b[0m\u001b[0;34m,\u001b[0m \u001b[0mout\u001b[0m\u001b[0;34m=\u001b[0m\u001b[0mout\u001b[0m\u001b[0;34m)\u001b[0m\u001b[0;34m\u001b[0m\u001b[0;34m\u001b[0m\u001b[0m\n\u001b[0m\u001b[1;32m     56\u001b[0m     \u001b[0;32melif\u001b[0m \u001b[0melem_type\u001b[0m\u001b[0;34m.\u001b[0m\u001b[0m__module__\u001b[0m \u001b[0;34m==\u001b[0m \u001b[0;34m'numpy'\u001b[0m \u001b[0;32mand\u001b[0m \u001b[0melem_type\u001b[0m\u001b[0;34m.\u001b[0m\u001b[0m__name__\u001b[0m \u001b[0;34m!=\u001b[0m \u001b[0;34m'str_'\u001b[0m\u001b[0;31m \u001b[0m\u001b[0;31m\\\u001b[0m\u001b[0;34m\u001b[0m\u001b[0;34m\u001b[0m\u001b[0m\n\u001b[1;32m     57\u001b[0m             \u001b[0;32mand\u001b[0m \u001b[0melem_type\u001b[0m\u001b[0;34m.\u001b[0m\u001b[0m__name__\u001b[0m \u001b[0;34m!=\u001b[0m \u001b[0;34m'string_'\u001b[0m\u001b[0;34m:\u001b[0m\u001b[0;34m\u001b[0m\u001b[0;34m\u001b[0m\u001b[0m\n",
            "\u001b[0;31mKeyboardInterrupt\u001b[0m: "
          ]
        }
      ]
    },
    {
      "cell_type": "code",
      "metadata": {
        "execution": {
          "iopub.status.busy": "2021-06-25T09:09:42.033776Z",
          "iopub.execute_input": "2021-06-25T09:09:42.034084Z",
          "iopub.status.idle": "2021-06-25T09:09:42.063228Z",
          "shell.execute_reply.started": "2021-06-25T09:09:42.034052Z",
          "shell.execute_reply": "2021-06-25T09:09:42.062458Z"
        },
        "trusted": true,
        "id": "nFyLcBN_iSMd",
        "outputId": "b83c1bce-7570-4345-ba91-66ebf337a5ab"
      },
      "source": [
        "pruned_trials = study.get_trials(deepcopy=False, states=[TrialState.PRUNED])\n",
        "complete_trials = study.get_trials(deepcopy=False, states=[TrialState.COMPLETE])\n",
        "\n",
        "print('Study statistics:')\n",
        "print(' Number of finished trials:', len(study.trials))\n",
        "print(' Number of pruned trials:', len(pruned_trials))\n",
        "print(' Number of complete trials:', len(complete_trials))\n",
        "\n",
        "print('Best trial:')\n",
        "trial = study.best_trial\n",
        "\n",
        "print(' Value:', trial.value)\n",
        "print(' Params:')\n",
        "for key, value in trial.params.items():\n",
        "    print(f'{key}:{value}')"
      ],
      "execution_count": null,
      "outputs": [
        {
          "output_type": "stream",
          "text": [
            "Study statistics:\n",
            " Number of finished trials: 50\n",
            " Number of pruned trials: 19\n",
            " Number of complete trials: 31\n",
            "Best trial:\n",
            " Value: 1.840059796969096\n",
            " Params:\n",
            "n_layers:4\n",
            "n_units_l0:510\n",
            "dropout_l0:0.36217530281546845\n",
            "n_units_l1:636\n",
            "dropout_l1:0.4127331955172506\n",
            "n_units_l2:263\n",
            "dropout_l2:0.497500273667107\n",
            "n_units_l3:1010\n",
            "dropout_l3:0.21133027314680752\n",
            "optimizer:RMSprop\n",
            "lr:0.0009986857150353628\n"
          ],
          "name": "stdout"
        }
      ]
    },
    {
      "cell_type": "code",
      "metadata": {
        "execution": {
          "iopub.status.busy": "2021-06-25T09:09:49.325419Z",
          "iopub.execute_input": "2021-06-25T09:09:49.325751Z",
          "iopub.status.idle": "2021-06-25T09:09:49.486748Z",
          "shell.execute_reply.started": "2021-06-25T09:09:49.325720Z",
          "shell.execute_reply": "2021-06-25T09:09:49.486022Z"
        },
        "trusted": true,
        "id": "xeOlGr2uiSMe",
        "outputId": "baf96104-a1e5-45dc-8085-c09bc91b15b0"
      },
      "source": [
        "optuna.visualization.plot_intermediate_values(study).show()"
      ],
      "execution_count": null,
      "outputs": [
        {
          "output_type": "display_data",
          "data": {
            "text/html": [
              "        <script type=\"text/javascript\">\n",
              "        window.PlotlyConfig = {MathJaxConfig: 'local'};\n",
              "        if (window.MathJax) {MathJax.Hub.Config({SVG: {font: \"STIX-Web\"}});}\n",
              "        if (typeof require !== 'undefined') {\n",
              "        require.undef(\"plotly\");\n",
              "        requirejs.config({\n",
              "            paths: {\n",
              "                'plotly': ['https://cdn.plot.ly/plotly-latest.min']\n",
              "            }\n",
              "        });\n",
              "        require(['plotly'], function(Plotly) {\n",
              "            window._Plotly = Plotly;\n",
              "        });\n",
              "        }\n",
              "        </script>\n",
              "        "
            ]
          },
          "metadata": {
            "tags": []
          }
        },
        {
          "output_type": "display_data",
          "data": {
            "text/html": [
              "<div>                            <div id=\"8ebc68c1-9de6-40b4-a3dd-41b1a184d2d3\" class=\"plotly-graph-div\" style=\"height:525px; width:100%;\"></div>            <script type=\"text/javascript\">                require([\"plotly\"], function(Plotly) {                    window.PLOTLYENV=window.PLOTLYENV || {};                                    if (document.getElementById(\"8ebc68c1-9de6-40b4-a3dd-41b1a184d2d3\")) {                    Plotly.newPlot(                        \"8ebc68c1-9de6-40b4-a3dd-41b1a184d2d3\",                        [{\"marker\": {\"maxdisplayed\": 10}, \"mode\": \"lines+markers\", \"name\": \"Trial0\", \"type\": \"scatter\", \"x\": [0, 1, 2, 3, 4, 5, 6, 7, 8, 9], \"y\": [2.230071226755778, 2.2736963828404746, 2.289537787437439, 2.292027155558268, 2.2914461692174277, 2.290988643964132, 2.2908615271250405, 2.290152351061503, 2.290715495745341, 2.2913550535837808]}, {\"marker\": {\"maxdisplayed\": 10}, \"mode\": \"lines+markers\", \"name\": \"Trial1\", \"type\": \"scatter\", \"x\": [0, 1, 2, 3, 4, 5, 6, 7, 8, 9], \"y\": [2.1587419907251992, 2.130865732828776, 2.1236215432484946, 2.1330246527989707, 2.145843267440796, 2.15451180934906, 2.1586751143137612, 2.1601619720458984, 2.1607903639475503, 2.1602675120035806]}, {\"marker\": {\"maxdisplayed\": 10}, \"mode\": \"lines+markers\", \"name\": \"Trial2\", \"type\": \"scatter\", \"x\": [0, 1, 2, 3, 4, 5, 6, 7, 8, 9], \"y\": [2.011287252108256, 1.9350574215253193, 1.930898090203603, 1.950606644153595, 1.9649449984232585, 1.970377008120219, 1.972688357035319, 1.9724284609158833, 1.972785969575246, 1.972364604473114]}, {\"marker\": {\"maxdisplayed\": 10}, \"mode\": \"lines+markers\", \"name\": \"Trial3\", \"type\": \"scatter\", \"x\": [0, 1, 2, 3, 4, 5, 6, 7, 8, 9], \"y\": [2.114417632420858, 2.041639566421509, 2.00112913052241, 2.0006489157676697, 2.01338791847229, 2.0226289431254068, 2.0271129608154297, 2.0285616318384805, 2.0290961265563965, 2.0288174947102866]}, {\"marker\": {\"maxdisplayed\": 10}, \"mode\": \"lines+markers\", \"name\": \"Trial4\", \"type\": \"scatter\", \"x\": [0, 1, 2, 3, 4, 5, 6, 7, 8, 9], \"y\": [2.1756428480148315, 2.0687203407287598, 2.027452270189921, 2.034393628438314, 2.0426995356877646, 2.045246442159017, 2.045719544092814, 2.045088052749634, 2.0462101300557456, 2.046179215113322]}, {\"marker\": {\"maxdisplayed\": 10}, \"mode\": \"lines+markers\", \"name\": \"Trial5\", \"type\": \"scatter\", \"x\": [0], \"y\": [2.1831867694854736]}, {\"marker\": {\"maxdisplayed\": 10}, \"mode\": \"lines+markers\", \"name\": \"Trial6\", \"type\": \"scatter\", \"x\": [0], \"y\": [2.2351539532343545]}, {\"marker\": {\"maxdisplayed\": 10}, \"mode\": \"lines+markers\", \"name\": \"Trial7\", \"type\": \"scatter\", \"x\": [0], \"y\": [2.250774343808492]}, {\"marker\": {\"maxdisplayed\": 10}, \"mode\": \"lines+markers\", \"name\": \"Trial8\", \"type\": \"scatter\", \"x\": [0, 1, 2, 3, 4, 5, 6, 7, 8, 9], \"y\": [2.0760472615559897, 1.9608885248502095, 1.9345281322797139, 1.966570496559143, 1.986129363377889, 1.9935192267100017, 1.9952762126922607, 1.996222972869873, 1.9964471459388733, 1.9964276552200317]}, {\"marker\": {\"maxdisplayed\": 10}, \"mode\": \"lines+markers\", \"name\": \"Trial9\", \"type\": \"scatter\", \"x\": [0, 1, 2, 3, 4, 5, 6, 7, 8, 9], \"y\": [2.049096624056498, 1.956742485364278, 1.9276029666264851, 1.9412527084350586, 1.96194722255071, 1.974405546983083, 1.9795746405919392, 1.981356938680013, 1.981884757677714, 1.9822659889856975]}, {\"marker\": {\"maxdisplayed\": 10}, \"mode\": \"lines+markers\", \"name\": \"Trial10\", \"type\": \"scatter\", \"x\": [0], \"y\": [2.24085525671641]}, {\"marker\": {\"maxdisplayed\": 10}, \"mode\": \"lines+markers\", \"name\": \"Trial11\", \"type\": \"scatter\", \"x\": [0, 1, 2, 3, 4, 5, 6, 7, 8, 9], \"y\": [2.057634115219116, 1.9921960632006328, 1.9632758696873982, 1.9681871334711711, 1.9877692262331645, 2.0015188256899514, 2.007880131403605, 2.0095394452412925, 2.0100021163622537, 2.010088006655375]}, {\"marker\": {\"maxdisplayed\": 10}, \"mode\": \"lines+markers\", \"name\": \"Trial12\", \"type\": \"scatter\", \"x\": [0, 1, 2, 3, 4, 5, 6, 7, 8, 9], \"y\": [2.0366008281707764, 1.9420399864514668, 1.906954248746236, 1.9142651955286663, 1.9279791911443074, 1.9370268781979878, 1.941161314646403, 1.9421942631403606, 1.9424530466397603, 1.9425401886304219]}, {\"marker\": {\"maxdisplayed\": 10}, \"mode\": \"lines+markers\", \"name\": \"Trial13\", \"type\": \"scatter\", \"x\": [0], \"y\": [2.1072941223780313]}, {\"marker\": {\"maxdisplayed\": 10}, \"mode\": \"lines+markers\", \"name\": \"Trial14\", \"type\": \"scatter\", \"x\": [0, 1, 2, 3, 4, 5, 6, 7, 8, 9], \"y\": [1.9142889976501465, 1.8427974979082744, 1.8124199310938518, 1.8147069017092388, 1.8249295353889465, 1.8338194688161213, 1.8381478389104207, 1.8396419882774353, 1.840053677558899, 1.840059796969096]}, {\"marker\": {\"maxdisplayed\": 10}, \"mode\": \"lines+markers\", \"name\": \"Trial15\", \"type\": \"scatter\", \"x\": [0], \"y\": [2.120030641555786]}, {\"marker\": {\"maxdisplayed\": 10}, \"mode\": \"lines+markers\", \"name\": \"Trial16\", \"type\": \"scatter\", \"x\": [0, 1, 2, 3, 4, 5, 6, 7, 8, 9], \"y\": [2.014384468396505, 1.9622890154520671, 1.9440413912137349, 1.9326026439666748, 1.9304990768432617, 1.929044485092163, 1.9293477733929951, 1.9307736953099568, 1.9296763340632122, 1.9301095406214397]}, {\"marker\": {\"maxdisplayed\": 10}, \"mode\": \"lines+markers\", \"name\": \"Trial17\", \"type\": \"scatter\", \"x\": [0, 1, 2, 3, 4, 5, 6, 7, 8, 9], \"y\": [2.005550662676493, 1.9477280974388123, 1.9062215685844421, 1.904356300830841, 1.9130438963572185, 1.9179739554723103, 1.920176923274994, 1.9214455087979634, 1.9220390518506367, 1.92155259847641]}, {\"marker\": {\"maxdisplayed\": 10}, \"mode\": \"lines+markers\", \"name\": \"Trial18\", \"type\": \"scatter\", \"x\": [0, 1, 2, 3, 4, 5, 6, 7, 8, 9], \"y\": [2.030482808748881, 1.9300208290417988, 1.9296499093373616, 1.957275887330373, 1.9705538948376973, 1.9731833537419636, 1.9746855894724529, 1.9743088086446126, 1.974506139755249, 1.9747965137163799]}, {\"marker\": {\"maxdisplayed\": 10}, \"mode\": \"lines+markers\", \"name\": \"Trial19\", \"type\": \"scatter\", \"x\": [0], \"y\": [2.2095389366149902]}, {\"marker\": {\"maxdisplayed\": 10}, \"mode\": \"lines+markers\", \"name\": \"Trial20\", \"type\": \"scatter\", \"x\": [0], \"y\": [2.2440834442774453]}, {\"marker\": {\"maxdisplayed\": 10}, \"mode\": \"lines+markers\", \"name\": \"Trial21\", \"type\": \"scatter\", \"x\": [0, 1, 2], \"y\": [1.9958630204200745, 1.9546759724617004, 1.9446458617846172]}, {\"marker\": {\"maxdisplayed\": 10}, \"mode\": \"lines+markers\", \"name\": \"Trial22\", \"type\": \"scatter\", \"x\": [0], \"y\": [2.063054323196411]}, {\"marker\": {\"maxdisplayed\": 10}, \"mode\": \"lines+markers\", \"name\": \"Trial23\", \"type\": \"scatter\", \"x\": [0, 1, 2, 3, 4, 5, 6, 7, 8, 9], \"y\": [2.0051603515942893, 1.9210071166356404, 1.8861750562985737, 1.8831464648246765, 1.8879508177439372, 1.89230477809906, 1.8947222630182903, 1.8948442339897156, 1.8953333497047424, 1.8953553040822346]}, {\"marker\": {\"maxdisplayed\": 10}, \"mode\": \"lines+markers\", \"name\": \"Trial24\", \"type\": \"scatter\", \"x\": [0, 1, 2, 3, 4, 5, 6, 7, 8, 9], \"y\": [1.9826834400494893, 1.8855457703272502, 1.8634393811225891, 1.892259140809377, 1.9187590678532918, 1.9322006106376648, 1.937200387318929, 1.9371709028879802, 1.9380233685175579, 1.9391005039215088]}, {\"marker\": {\"maxdisplayed\": 10}, \"mode\": \"lines+markers\", \"name\": \"Trial25\", \"type\": \"scatter\", \"x\": [0, 1, 2, 3, 4, 5, 6, 7, 8, 9], \"y\": [2.009259661038717, 1.9484116435050964, 1.907333234945933, 1.9112241466840107, 1.928636113802592, 1.9379997650782268, 1.9402746955553691, 1.9407572348912556, 1.9412955045700073, 1.9413599173227947]}, {\"marker\": {\"maxdisplayed\": 10}, \"mode\": \"lines+markers\", \"name\": \"Trial26\", \"type\": \"scatter\", \"x\": [0], \"y\": [2.1416632731755576]}, {\"marker\": {\"maxdisplayed\": 10}, \"mode\": \"lines+markers\", \"name\": \"Trial27\", \"type\": \"scatter\", \"x\": [0, 1, 2, 3, 4, 5, 6, 7, 8, 9], \"y\": [2.0207244952519736, 1.9441837271054585, 1.901989738146464, 1.9016551971435547, 1.9133725961049397, 1.9219002922375996, 1.9247240821520488, 1.925915519396464, 1.926285167535146, 1.9260879556337993]}, {\"marker\": {\"maxdisplayed\": 10}, \"mode\": \"lines+markers\", \"name\": \"Trial28\", \"type\": \"scatter\", \"x\": [0, 1, 2, 3, 4, 5, 6, 7, 8, 9], \"y\": [2.008044262727102, 1.9047754605611165, 1.8875396450360615, 1.9461337725321453, 1.9867177208264668, 2.0031895836194358, 2.00746488571167, 2.009104530016581, 2.0089738368988037, 2.0084060033162436]}, {\"marker\": {\"maxdisplayed\": 10}, \"mode\": \"lines+markers\", \"name\": \"Trial29\", \"type\": \"scatter\", \"x\": [0], \"y\": [2.2406023343404136]}, {\"marker\": {\"maxdisplayed\": 10}, \"mode\": \"lines+markers\", \"name\": \"Trial30\", \"type\": \"scatter\", \"x\": [0], \"y\": [2.143959641456604]}, {\"marker\": {\"maxdisplayed\": 10}, \"mode\": \"lines+markers\", \"name\": \"Trial31\", \"type\": \"scatter\", \"x\": [0], \"y\": [2.040385047594706]}, {\"marker\": {\"maxdisplayed\": 10}, \"mode\": \"lines+markers\", \"name\": \"Trial32\", \"type\": \"scatter\", \"x\": [0], \"y\": [2.079588532447815]}, {\"marker\": {\"maxdisplayed\": 10}, \"mode\": \"lines+markers\", \"name\": \"Trial33\", \"type\": \"scatter\", \"x\": [0, 1, 2, 3, 4, 5, 6, 7, 8, 9], \"y\": [2.006771723429362, 1.9222129185994465, 1.8940769632657368, 1.9106197158495586, 1.9249447584152222, 1.9315924247105916, 1.934552550315857, 1.9353600144386292, 1.9353797634442647, 1.9353333512941997]}, {\"marker\": {\"maxdisplayed\": 10}, \"mode\": \"lines+markers\", \"name\": \"Trial34\", \"type\": \"scatter\", \"x\": [0, 1, 2, 3, 4, 5, 6, 7, 8, 9], \"y\": [1.9748064676920574, 1.9346327582995098, 1.9137537280718486, 1.8989580869674683, 1.892139991124471, 1.8903947671254475, 1.8907639582951863, 1.8907086849212646, 1.8904347817103069, 1.8908543586730957]}, {\"marker\": {\"maxdisplayed\": 10}, \"mode\": \"lines+markers\", \"name\": \"Trial35\", \"type\": \"scatter\", \"x\": [0, 1, 2, 3, 4, 5, 6, 7, 8, 9], \"y\": [1.9881324966748555, 1.8707890311876934, 1.8463107546170552, 1.8454357981681824, 1.8499010006586711, 1.8552176157633464, 1.8592417637507122, 1.8609983722368877, 1.8615881999333699, 1.8618683616320293]}, {\"marker\": {\"maxdisplayed\": 10}, \"mode\": \"lines+markers\", \"name\": \"Trial36\", \"type\": \"scatter\", \"x\": [0, 1, 2, 3, 4, 5, 6, 7, 8, 9], \"y\": [2.006676435470581, 1.9224647283554077, 1.8755200505256653, 1.864983340104421, 1.8692867755889893, 1.8763493498166401, 1.8805148204167683, 1.8822663029034932, 1.88282310962677, 1.8824951648712158]}, {\"marker\": {\"maxdisplayed\": 10}, \"mode\": \"lines+markers\", \"name\": \"Trial37\", \"type\": \"scatter\", \"x\": [0], \"y\": [2.046527942021688]}, {\"marker\": {\"maxdisplayed\": 10}, \"mode\": \"lines+markers\", \"name\": \"Trial38\", \"type\": \"scatter\", \"x\": [0], \"y\": [2.2833940585454306]}, {\"marker\": {\"maxdisplayed\": 10}, \"mode\": \"lines+markers\", \"name\": \"Trial39\", \"type\": \"scatter\", \"x\": [0, 1, 2, 3, 4, 5, 6, 7, 8, 9], \"y\": [1.9973435203234355, 1.916281243165334, 1.8760267694791157, 1.8711540699005127, 1.8762231469154358, 1.881967802842458, 1.8855385581652324, 1.8866288860638936, 1.8872483372688293, 1.8873485922813416]}, {\"marker\": {\"maxdisplayed\": 10}, \"mode\": \"lines+markers\", \"name\": \"Trial40\", \"type\": \"scatter\", \"x\": [0, 1, 2, 3, 4, 5, 6, 7, 8, 9], \"y\": [1.9986873269081116, 1.92144775390625, 1.8772188027699788, 1.8936891555786133, 1.922387142976125, 1.9408055345217388, 1.9488097230593364, 1.9507076342900593, 1.9518711964289348, 1.9515842994054158]}, {\"marker\": {\"maxdisplayed\": 10}, \"mode\": \"lines+markers\", \"name\": \"Trial41\", \"type\": \"scatter\", \"x\": [0, 1, 2, 3, 4, 5, 6, 7, 8, 9], \"y\": [1.9597230156262715, 1.9019816716512044, 1.8771721124649048, 1.8645569284756978, 1.8619515697161357, 1.8680412769317627, 1.877725859483083, 1.8850130836168926, 1.8877403140068054, 1.888369858264923]}, {\"marker\": {\"maxdisplayed\": 10}, \"mode\": \"lines+markers\", \"name\": \"Trial42\", \"type\": \"scatter\", \"x\": [0, 1, 2, 3, 4, 5, 6, 7, 8, 9], \"y\": [1.9689339995384216, 1.9246128797531128, 1.8972094058990479, 1.8814105987548828, 1.876804252465566, 1.881002922852834, 1.886875073115031, 1.8902177214622498, 1.8915016055107117, 1.8914945324261982]}, {\"marker\": {\"maxdisplayed\": 10}, \"mode\": \"lines+markers\", \"name\": \"Trial43\", \"type\": \"scatter\", \"x\": [0, 1, 2, 3, 4, 5, 6, 7, 8, 9], \"y\": [2.0069833397865295, 1.9109756350517273, 1.873339593410492, 1.863907555739085, 1.8652283747990925, 1.8703927596410115, 1.874117871125539, 1.8757194081942241, 1.8762306571006775, 1.875880241394043]}, {\"marker\": {\"maxdisplayed\": 10}, \"mode\": \"lines+markers\", \"name\": \"Trial44\", \"type\": \"scatter\", \"x\": [0, 1, 2, 3, 4, 5, 6, 7, 8, 9], \"y\": [1.9826956788698833, 1.9210058848063152, 1.864430566628774, 1.8502102295557659, 1.8590653737386067, 1.8708674510320027, 1.8788482944170635, 1.8826369047164917, 1.883311132589976, 1.883999188741048]}, {\"marker\": {\"maxdisplayed\": 10}, \"mode\": \"lines+markers\", \"name\": \"Trial45\", \"type\": \"scatter\", \"x\": [0, 1, 2, 3, 4, 5, 6, 7, 8, 9], \"y\": [1.9562491377194722, 1.8932138284047444, 1.8557212551434834, 1.846165657043457, 1.8549951910972595, 1.8691111008326213, 1.878463129202525, 1.8820960521697998, 1.8835115830103557, 1.88359934091568]}, {\"marker\": {\"maxdisplayed\": 10}, \"mode\": \"lines+markers\", \"name\": \"Trial46\", \"type\": \"scatter\", \"x\": [0, 1, 2, 3, 4, 5, 6, 7, 8, 9], \"y\": [1.9640663862228394, 1.9039624730745952, 1.8560004035631816, 1.8410799702008565, 1.849939227104187, 1.8645458618799846, 1.8747388521830242, 1.879017134507497, 1.879965603351593, 1.8800208171208699]}, {\"marker\": {\"maxdisplayed\": 10}, \"mode\": \"lines+markers\", \"name\": \"Trial47\", \"type\": \"scatter\", \"x\": [0], \"y\": [2.0230510234832764]}, {\"marker\": {\"maxdisplayed\": 10}, \"mode\": \"lines+markers\", \"name\": \"Trial48\", \"type\": \"scatter\", \"x\": [0], \"y\": [2.1937431494394937]}, {\"marker\": {\"maxdisplayed\": 10}, \"mode\": \"lines+markers\", \"name\": \"Trial49\", \"type\": \"scatter\", \"x\": [0, 1, 2, 3, 4, 5, 6, 7, 8, 9], \"y\": [1.9422902862230937, 1.888884166876475, 1.8632695078849792, 1.8606027563412983, 1.8673617243766785, 1.8763108253479004, 1.8821916580200195, 1.8847203453381856, 1.8852468530337017, 1.8849088152249653]}],                        {\"showlegend\": false, \"template\": {\"data\": {\"bar\": [{\"error_x\": {\"color\": \"#2a3f5f\"}, \"error_y\": {\"color\": \"#2a3f5f\"}, \"marker\": {\"line\": {\"color\": \"#E5ECF6\", \"width\": 0.5}}, \"type\": \"bar\"}], \"barpolar\": [{\"marker\": {\"line\": {\"color\": \"#E5ECF6\", \"width\": 0.5}}, \"type\": \"barpolar\"}], \"carpet\": [{\"aaxis\": {\"endlinecolor\": \"#2a3f5f\", \"gridcolor\": \"white\", \"linecolor\": \"white\", \"minorgridcolor\": \"white\", \"startlinecolor\": \"#2a3f5f\"}, \"baxis\": {\"endlinecolor\": \"#2a3f5f\", \"gridcolor\": \"white\", \"linecolor\": \"white\", \"minorgridcolor\": \"white\", \"startlinecolor\": \"#2a3f5f\"}, \"type\": \"carpet\"}], \"choropleth\": [{\"colorbar\": {\"outlinewidth\": 0, \"ticks\": \"\"}, \"type\": \"choropleth\"}], \"contour\": [{\"colorbar\": {\"outlinewidth\": 0, \"ticks\": \"\"}, \"colorscale\": [[0.0, \"#0d0887\"], [0.1111111111111111, \"#46039f\"], [0.2222222222222222, \"#7201a8\"], [0.3333333333333333, \"#9c179e\"], [0.4444444444444444, \"#bd3786\"], [0.5555555555555556, \"#d8576b\"], [0.6666666666666666, \"#ed7953\"], [0.7777777777777778, \"#fb9f3a\"], [0.8888888888888888, \"#fdca26\"], [1.0, \"#f0f921\"]], \"type\": \"contour\"}], \"contourcarpet\": [{\"colorbar\": {\"outlinewidth\": 0, \"ticks\": \"\"}, \"type\": \"contourcarpet\"}], \"heatmap\": [{\"colorbar\": {\"outlinewidth\": 0, \"ticks\": \"\"}, \"colorscale\": [[0.0, \"#0d0887\"], [0.1111111111111111, \"#46039f\"], [0.2222222222222222, \"#7201a8\"], [0.3333333333333333, \"#9c179e\"], [0.4444444444444444, \"#bd3786\"], [0.5555555555555556, \"#d8576b\"], [0.6666666666666666, \"#ed7953\"], [0.7777777777777778, \"#fb9f3a\"], [0.8888888888888888, \"#fdca26\"], [1.0, \"#f0f921\"]], \"type\": \"heatmap\"}], \"heatmapgl\": [{\"colorbar\": {\"outlinewidth\": 0, \"ticks\": \"\"}, \"colorscale\": [[0.0, \"#0d0887\"], [0.1111111111111111, \"#46039f\"], [0.2222222222222222, \"#7201a8\"], [0.3333333333333333, \"#9c179e\"], [0.4444444444444444, \"#bd3786\"], [0.5555555555555556, \"#d8576b\"], [0.6666666666666666, \"#ed7953\"], [0.7777777777777778, \"#fb9f3a\"], [0.8888888888888888, \"#fdca26\"], [1.0, \"#f0f921\"]], \"type\": \"heatmapgl\"}], \"histogram\": [{\"marker\": {\"colorbar\": {\"outlinewidth\": 0, \"ticks\": \"\"}}, \"type\": \"histogram\"}], \"histogram2d\": [{\"colorbar\": {\"outlinewidth\": 0, \"ticks\": \"\"}, \"colorscale\": [[0.0, \"#0d0887\"], [0.1111111111111111, \"#46039f\"], [0.2222222222222222, \"#7201a8\"], [0.3333333333333333, \"#9c179e\"], [0.4444444444444444, \"#bd3786\"], [0.5555555555555556, \"#d8576b\"], [0.6666666666666666, \"#ed7953\"], [0.7777777777777778, \"#fb9f3a\"], [0.8888888888888888, \"#fdca26\"], [1.0, \"#f0f921\"]], \"type\": \"histogram2d\"}], \"histogram2dcontour\": [{\"colorbar\": {\"outlinewidth\": 0, \"ticks\": \"\"}, \"colorscale\": [[0.0, \"#0d0887\"], [0.1111111111111111, \"#46039f\"], [0.2222222222222222, \"#7201a8\"], [0.3333333333333333, \"#9c179e\"], [0.4444444444444444, \"#bd3786\"], [0.5555555555555556, \"#d8576b\"], [0.6666666666666666, \"#ed7953\"], [0.7777777777777778, \"#fb9f3a\"], [0.8888888888888888, \"#fdca26\"], [1.0, \"#f0f921\"]], \"type\": \"histogram2dcontour\"}], \"mesh3d\": [{\"colorbar\": {\"outlinewidth\": 0, \"ticks\": \"\"}, \"type\": \"mesh3d\"}], \"parcoords\": [{\"line\": {\"colorbar\": {\"outlinewidth\": 0, \"ticks\": \"\"}}, \"type\": \"parcoords\"}], \"pie\": [{\"automargin\": true, \"type\": \"pie\"}], \"scatter\": [{\"marker\": {\"colorbar\": {\"outlinewidth\": 0, \"ticks\": \"\"}}, \"type\": \"scatter\"}], \"scatter3d\": [{\"line\": {\"colorbar\": {\"outlinewidth\": 0, \"ticks\": \"\"}}, \"marker\": {\"colorbar\": {\"outlinewidth\": 0, \"ticks\": \"\"}}, \"type\": \"scatter3d\"}], \"scattercarpet\": [{\"marker\": {\"colorbar\": {\"outlinewidth\": 0, \"ticks\": \"\"}}, \"type\": \"scattercarpet\"}], \"scattergeo\": [{\"marker\": {\"colorbar\": {\"outlinewidth\": 0, \"ticks\": \"\"}}, \"type\": \"scattergeo\"}], \"scattergl\": [{\"marker\": {\"colorbar\": {\"outlinewidth\": 0, \"ticks\": \"\"}}, \"type\": \"scattergl\"}], \"scattermapbox\": [{\"marker\": {\"colorbar\": {\"outlinewidth\": 0, \"ticks\": \"\"}}, \"type\": \"scattermapbox\"}], \"scatterpolar\": [{\"marker\": {\"colorbar\": {\"outlinewidth\": 0, \"ticks\": \"\"}}, \"type\": \"scatterpolar\"}], \"scatterpolargl\": [{\"marker\": {\"colorbar\": {\"outlinewidth\": 0, \"ticks\": \"\"}}, \"type\": \"scatterpolargl\"}], \"scatterternary\": [{\"marker\": {\"colorbar\": {\"outlinewidth\": 0, \"ticks\": \"\"}}, \"type\": \"scatterternary\"}], \"surface\": [{\"colorbar\": {\"outlinewidth\": 0, \"ticks\": \"\"}, \"colorscale\": [[0.0, \"#0d0887\"], [0.1111111111111111, \"#46039f\"], [0.2222222222222222, \"#7201a8\"], [0.3333333333333333, \"#9c179e\"], [0.4444444444444444, \"#bd3786\"], [0.5555555555555556, \"#d8576b\"], [0.6666666666666666, \"#ed7953\"], [0.7777777777777778, \"#fb9f3a\"], [0.8888888888888888, \"#fdca26\"], [1.0, \"#f0f921\"]], \"type\": \"surface\"}], \"table\": [{\"cells\": {\"fill\": {\"color\": \"#EBF0F8\"}, \"line\": {\"color\": \"white\"}}, \"header\": {\"fill\": {\"color\": \"#C8D4E3\"}, \"line\": {\"color\": \"white\"}}, \"type\": \"table\"}]}, \"layout\": {\"annotationdefaults\": {\"arrowcolor\": \"#2a3f5f\", \"arrowhead\": 0, \"arrowwidth\": 1}, \"autotypenumbers\": \"strict\", \"coloraxis\": {\"colorbar\": {\"outlinewidth\": 0, \"ticks\": \"\"}}, \"colorscale\": {\"diverging\": [[0, \"#8e0152\"], [0.1, \"#c51b7d\"], [0.2, \"#de77ae\"], [0.3, \"#f1b6da\"], [0.4, \"#fde0ef\"], [0.5, \"#f7f7f7\"], [0.6, \"#e6f5d0\"], [0.7, \"#b8e186\"], [0.8, \"#7fbc41\"], [0.9, \"#4d9221\"], [1, \"#276419\"]], \"sequential\": [[0.0, \"#0d0887\"], [0.1111111111111111, \"#46039f\"], [0.2222222222222222, \"#7201a8\"], [0.3333333333333333, \"#9c179e\"], [0.4444444444444444, \"#bd3786\"], [0.5555555555555556, \"#d8576b\"], [0.6666666666666666, \"#ed7953\"], [0.7777777777777778, \"#fb9f3a\"], [0.8888888888888888, \"#fdca26\"], [1.0, \"#f0f921\"]], \"sequentialminus\": [[0.0, \"#0d0887\"], [0.1111111111111111, \"#46039f\"], [0.2222222222222222, \"#7201a8\"], [0.3333333333333333, \"#9c179e\"], [0.4444444444444444, \"#bd3786\"], [0.5555555555555556, \"#d8576b\"], [0.6666666666666666, \"#ed7953\"], [0.7777777777777778, \"#fb9f3a\"], [0.8888888888888888, \"#fdca26\"], [1.0, \"#f0f921\"]]}, \"colorway\": [\"#636efa\", \"#EF553B\", \"#00cc96\", \"#ab63fa\", \"#FFA15A\", \"#19d3f3\", \"#FF6692\", \"#B6E880\", \"#FF97FF\", \"#FECB52\"], \"font\": {\"color\": \"#2a3f5f\"}, \"geo\": {\"bgcolor\": \"white\", \"lakecolor\": \"white\", \"landcolor\": \"#E5ECF6\", \"showlakes\": true, \"showland\": true, \"subunitcolor\": \"white\"}, \"hoverlabel\": {\"align\": \"left\"}, \"hovermode\": \"closest\", \"mapbox\": {\"style\": \"light\"}, \"paper_bgcolor\": \"white\", \"plot_bgcolor\": \"#E5ECF6\", \"polar\": {\"angularaxis\": {\"gridcolor\": \"white\", \"linecolor\": \"white\", \"ticks\": \"\"}, \"bgcolor\": \"#E5ECF6\", \"radialaxis\": {\"gridcolor\": \"white\", \"linecolor\": \"white\", \"ticks\": \"\"}}, \"scene\": {\"xaxis\": {\"backgroundcolor\": \"#E5ECF6\", \"gridcolor\": \"white\", \"gridwidth\": 2, \"linecolor\": \"white\", \"showbackground\": true, \"ticks\": \"\", \"zerolinecolor\": \"white\"}, \"yaxis\": {\"backgroundcolor\": \"#E5ECF6\", \"gridcolor\": \"white\", \"gridwidth\": 2, \"linecolor\": \"white\", \"showbackground\": true, \"ticks\": \"\", \"zerolinecolor\": \"white\"}, \"zaxis\": {\"backgroundcolor\": \"#E5ECF6\", \"gridcolor\": \"white\", \"gridwidth\": 2, \"linecolor\": \"white\", \"showbackground\": true, \"ticks\": \"\", \"zerolinecolor\": \"white\"}}, \"shapedefaults\": {\"line\": {\"color\": \"#2a3f5f\"}}, \"ternary\": {\"aaxis\": {\"gridcolor\": \"white\", \"linecolor\": \"white\", \"ticks\": \"\"}, \"baxis\": {\"gridcolor\": \"white\", \"linecolor\": \"white\", \"ticks\": \"\"}, \"bgcolor\": \"#E5ECF6\", \"caxis\": {\"gridcolor\": \"white\", \"linecolor\": \"white\", \"ticks\": \"\"}}, \"title\": {\"x\": 0.05}, \"xaxis\": {\"automargin\": true, \"gridcolor\": \"white\", \"linecolor\": \"white\", \"ticks\": \"\", \"title\": {\"standoff\": 15}, \"zerolinecolor\": \"white\", \"zerolinewidth\": 2}, \"yaxis\": {\"automargin\": true, \"gridcolor\": \"white\", \"linecolor\": \"white\", \"ticks\": \"\", \"title\": {\"standoff\": 15}, \"zerolinecolor\": \"white\", \"zerolinewidth\": 2}}}, \"title\": {\"text\": \"Intermediate Values Plot\"}, \"xaxis\": {\"title\": {\"text\": \"Step\"}}, \"yaxis\": {\"title\": {\"text\": \"Intermediate Value\"}}},                        {\"responsive\": true}                    ).then(function(){\n",
              "                            \n",
              "var gd = document.getElementById('8ebc68c1-9de6-40b4-a3dd-41b1a184d2d3');\n",
              "var x = new MutationObserver(function (mutations, observer) {{\n",
              "        var display = window.getComputedStyle(gd).display;\n",
              "        if (!display || display === 'none') {{\n",
              "            console.log([gd, 'removed!']);\n",
              "            Plotly.purge(gd);\n",
              "            observer.disconnect();\n",
              "        }}\n",
              "}});\n",
              "\n",
              "// Listen for the removal of the full notebook cells\n",
              "var notebookContainer = gd.closest('#notebook-container');\n",
              "if (notebookContainer) {{\n",
              "    x.observe(notebookContainer, {childList: true});\n",
              "}}\n",
              "\n",
              "// Listen for the clearing of the current output cell\n",
              "var outputEl = gd.closest('.output');\n",
              "if (outputEl) {{\n",
              "    x.observe(outputEl, {childList: true});\n",
              "}}\n",
              "\n",
              "                        })                };                });            </script>        </div>"
            ]
          },
          "metadata": {
            "tags": []
          }
        }
      ]
    },
    {
      "cell_type": "markdown",
      "metadata": {
        "id": "iYpi61o6iSMe"
      },
      "source": [
        "# 최적화된 파라미터를 가지고 모델링"
      ]
    },
    {
      "cell_type": "code",
      "metadata": {
        "execution": {
          "iopub.status.busy": "2021-06-25T09:09:55.072421Z",
          "iopub.execute_input": "2021-06-25T09:09:55.072739Z",
          "iopub.status.idle": "2021-06-25T09:09:55.081213Z",
          "shell.execute_reply.started": "2021-06-25T09:09:55.072706Z",
          "shell.execute_reply": "2021-06-25T09:09:55.080056Z"
        },
        "trusted": true,
        "id": "XYk-k2URiSMe"
      },
      "source": [
        "class classification_model(nn.Module):\n",
        "    def __init__(self, n_in, n_out, layers, p=None):\n",
        "        super(classification_model, self).__init__()\n",
        "        \n",
        "        all_layers=[]\n",
        "        self.n_in = n_in\n",
        "        self.n_out = n_out\n",
        "        \n",
        "        for i in range(len(layers)):\n",
        "            all_layers.append(nn.Linear(self.n_in, layers[i], bias=False))\n",
        "            all_layers.append(nn.ReLU(inplace=True))\n",
        "            if p:\n",
        "                all_layers.append(nn.Dropout(p[i]))\n",
        "            all_layers.append(nn.BatchNorm1d(layers[i]))\n",
        "            \n",
        "            self.n_in = layers[i]\n",
        "            \n",
        "        all_layers.append(nn.Linear(layers[-1], self.n_out))\n",
        "        \n",
        "        self.layers=nn.Sequential(*all_layers)\n",
        "        \n",
        "    def forward(self, x):\n",
        "        x = self.layers(x)\n",
        "        return x\n",
        "    \n",
        "    net_name='classification_model'"
      ],
      "execution_count": null,
      "outputs": []
    },
    {
      "cell_type": "code",
      "metadata": {
        "execution": {
          "iopub.status.busy": "2021-06-25T09:09:57.309808Z",
          "iopub.execute_input": "2021-06-25T09:09:57.310161Z",
          "iopub.status.idle": "2021-06-25T09:09:58.426772Z",
          "shell.execute_reply.started": "2021-06-25T09:09:57.310114Z",
          "shell.execute_reply": "2021-06-25T09:09:58.425892Z"
        },
        "trusted": true,
        "id": "Lal2DcApiSMe",
        "outputId": "e02711d3-2e71-4e34-8372-4c84a0bacb3b"
      },
      "source": [
        "batch_size = 1000\n",
        "\n",
        "sss = StratifiedShuffleSplit(n_splits=1, test_size=0.3, random_state=0)\n",
        "\n",
        "for train_index, val_index in sss.split(x_train, y_train):    \n",
        "    print(\"TRAIN:\\t\", train_index, \"Size:\\t\", len(train_index))\n",
        "    print(\"VAL:\\t\", val_index, \"Size:\\t\", len(val_index))\n",
        "    X_train, X_val = x_train.iloc[train_index], x_train.iloc[val_index]\n",
        "    Y_train, Y_val = y_train.iloc[train_index], y_train.iloc[val_index]\n",
        "\n",
        "train = TensorDataset(torch.Tensor(np.array(X_train)), torch.Tensor(np.array(Y_train)))\n",
        "train_loader = DataLoader(train, batch_size = batch_size, shuffle = True)\n",
        "\n",
        "val = TensorDataset(torch.Tensor(np.array(X_val)), torch.Tensor(np.array(Y_val)))\n",
        "val_loader = DataLoader(val, batch_size = batch_size, shuffle = True)\n",
        "\n",
        "phases = [\"train\", \"val\"]\n",
        "loaders = {\"train\": train_loader, \"val\": val_loader}"
      ],
      "execution_count": null,
      "outputs": [
        {
          "output_type": "stream",
          "text": [
            "TRAIN:\t [ 80553  41670 142223 ... 154852 130289  53137] Size:\t 140000\n",
            "VAL:\t [ 75883  65709  45309 ... 181524  14476   2577] Size:\t 60000\n"
          ],
          "name": "stdout"
        }
      ]
    },
    {
      "cell_type": "code",
      "metadata": {
        "execution": {
          "iopub.status.busy": "2021-06-25T09:09:59.144827Z",
          "iopub.execute_input": "2021-06-25T09:09:59.145158Z",
          "iopub.status.idle": "2021-06-25T09:09:59.168884Z",
          "shell.execute_reply.started": "2021-06-25T09:09:59.145113Z",
          "shell.execute_reply": "2021-06-25T09:09:59.167904Z"
        },
        "trusted": true,
        "id": "BIaK-2h9iSMe",
        "outputId": "85be2e6b-b7ca-48c7-e552-f79cd37fc793"
      },
      "source": [
        "\"\"\"\n",
        "Best trial:\n",
        " Value: 1.7687533100446065\n",
        " Params:\n",
        "n_layers:1\n",
        "n_units_l0:880\n",
        "dropout_l0:0.2116281048320166\n",
        "optimizer:RMSprop\n",
        "lr:0.0009784821223970022\n",
        "\"\"\"\n",
        "\n",
        "layers_=[]\n",
        "dropout_=[]\n",
        "l_rate=trial.params['lr']\n",
        "\n",
        "for i in range(trial.params['n_layers']):\n",
        "    layers_.append(trial.params[f'n_units_l{i}'])\n",
        "    dropout_.append(trial.params[f'dropout_l{i}'])\n",
        "    \n",
        "device = torch.device('cpu' if not torch.cuda.is_available() else 'cuda')\n",
        "\n",
        "model = classification_model(x_train.shape[1], y_train.nunique(), layers_, p=dropout_)\n",
        "model.to(device)\n",
        "\n",
        "criterion = nn.CrossEntropyLoss()\n",
        "if trial.params['optimizer'] == 'RMSprop':\n",
        "    optimizer = optim.RMSprop(model.parameters(), lr=l_rate)\n",
        "elif trial.params['optimizer'] == 'Adam':\n",
        "    optimizer = optim.Adam(model.parameters(), lr=l_rate)\n",
        "elif trial.params['optimizer'] == 'SGD':\n",
        "    optimizer = optim.SGD(model.parameters(), lr=l_rate)\n",
        "    \n",
        "print(device)\n",
        "print(model)"
      ],
      "execution_count": null,
      "outputs": [
        {
          "output_type": "stream",
          "text": [
            "cuda\n",
            "classification_model(\n",
            "  (layers): Sequential(\n",
            "    (0): Linear(in_features=375, out_features=510, bias=True)\n",
            "    (1): ReLU(inplace=True)\n",
            "    (2): Dropout(p=0.36217530281546845, inplace=False)\n",
            "    (3): BatchNorm1d(510, eps=1e-05, momentum=0.1, affine=True, track_running_stats=True)\n",
            "    (4): Linear(in_features=510, out_features=636, bias=True)\n",
            "    (5): ReLU(inplace=True)\n",
            "    (6): Dropout(p=0.4127331955172506, inplace=False)\n",
            "    (7): BatchNorm1d(636, eps=1e-05, momentum=0.1, affine=True, track_running_stats=True)\n",
            "    (8): Linear(in_features=636, out_features=263, bias=True)\n",
            "    (9): ReLU(inplace=True)\n",
            "    (10): Dropout(p=0.497500273667107, inplace=False)\n",
            "    (11): BatchNorm1d(263, eps=1e-05, momentum=0.1, affine=True, track_running_stats=True)\n",
            "    (12): Linear(in_features=263, out_features=1010, bias=True)\n",
            "    (13): ReLU(inplace=True)\n",
            "    (14): Dropout(p=0.21133027314680752, inplace=False)\n",
            "    (15): BatchNorm1d(1010, eps=1e-05, momentum=0.1, affine=True, track_running_stats=True)\n",
            "    (16): Linear(in_features=1010, out_features=9, bias=True)\n",
            "  )\n",
            ")\n"
          ],
          "name": "stdout"
        }
      ]
    },
    {
      "cell_type": "code",
      "metadata": {
        "execution": {
          "iopub.status.busy": "2021-06-25T09:15:20.524229Z",
          "iopub.execute_input": "2021-06-25T09:15:20.524548Z",
          "iopub.status.idle": "2021-06-25T09:18:47.137438Z",
          "shell.execute_reply.started": "2021-06-25T09:15:20.524518Z",
          "shell.execute_reply": "2021-06-25T09:18:47.135734Z"
        },
        "trusted": true,
        "id": "DDxUNUO7iSMf",
        "outputId": "8466dc7e-e280-42b4-ec85-2839bd592ea9"
      },
      "source": [
        "loss_train=[]\n",
        "loss_valid=[]\n",
        "best_validation_loss = 1000\n",
        "best_epoch=1\n",
        "correct=0\n",
        "total=0\n",
        "\n",
        "n_epochs=50\n",
        "\n",
        "now = datetime.datetime.now()\n",
        "weights_path = \"./output/{:%Y%m%dT%H%M}\".format(now)\n",
        "os.makedirs(weights_path, exist_ok=True)\n",
        "\n",
        "lr_scheduler = optim.lr_scheduler.ReduceLROnPlateau(optimizer)\n",
        "break_st = False\n",
        "\n",
        "for epoch in range(1, n_epochs+1):\n",
        "    \n",
        "    for phase in phases:\n",
        "        if phase == 'train':\n",
        "            model.train()\n",
        "        elif phase == 'val':\n",
        "            model.eval()\n",
        "        \n",
        "        for _, data in enumerate(loaders[phase], 0):\n",
        "            features, y_true = data[0], data[1]\n",
        "            features = features.to(device, dtype=torch.float)\n",
        "            y_true = y_true.to(device, dtype=torch.float)\n",
        "            \n",
        "            optimizer.zero_grad()\n",
        "            \n",
        "            with torch.set_grad_enabled(phase=='train'):\n",
        "                y_pred = model(features)\n",
        "                \n",
        "                sm = nn.Softmax(dim=1)  # predict_proba\n",
        "                pred_percentage = sm(y_pred)\n",
        "                \n",
        "                if break_st:\n",
        "                    break\n",
        "                    \n",
        "                y_true = y_true.long()\n",
        "                \n",
        "                _, preds = torch.max(pred_percentage, 1)\n",
        "                total += y_true.size(0)\n",
        "                correct += (preds == y_true).sum().item()\n",
        "                \n",
        "                loss = criterion(y_pred, y_true)\n",
        "                \n",
        "                if phase == 'val':\n",
        "                    loss_valid.append(loss.item())\n",
        "                    \n",
        "                if phase == 'train':\n",
        "                    loss_train.append(loss.item())\n",
        "                    loss.backward()\n",
        "                    \n",
        "                    optimizer.step()\n",
        "                    lr_scheduler.step(epoch / len(train_loader))\n",
        "        if break_st:\n",
        "            break\n",
        "        if phase == 'train':\n",
        "            mean_train_loss = np.mean(loss_train)\n",
        "            acc_train = 100*correct/total\n",
        "            loss_train = []\n",
        "            correct = 0\n",
        "        \n",
        "        if phase == 'val':\n",
        "            validation_loss = np.mean(loss_valid)\n",
        "            acc_valid = 100*correct/total\n",
        "            loss_valid = []\n",
        "            correct = 0\n",
        "            total = 0\n",
        "                \n",
        "    if break_st:\n",
        "        break\n",
        "    if validation_loss < best_validation_loss:\n",
        "        print('saving weights...')\n",
        "        best_epoch = epoch\n",
        "        best_validation_loss = validation_loss\n",
        "        torch.save(model.state_dict(),\n",
        "                   os.path.join(weights_path, 'model.pt'),)\n",
        "            \n",
        "    print(f'Epoch={epoch}/{n_epochs}\\tloss={mean_train_loss:.4f}\\tval_loss={validation_loss:.4f}\\tacc={acc_train:.4f}\\tval_acc={acc_valid:.4f}')\n",
        "                \n"
      ],
      "execution_count": null,
      "outputs": [
        {
          "output_type": "stream",
          "text": [
            "saving weights...\n",
            "Epoch=1/50\tloss=1.7158\tval_loss=1.7763\tacc=37.7643\tval_acc=10.6440\n",
            "Epoch=2/50\tloss=1.7135\tval_loss=1.7776\tacc=37.9057\tval_acc=10.6425\n",
            "saving weights...\n",
            "Epoch=3/50\tloss=1.7119\tval_loss=1.7763\tacc=37.9364\tval_acc=10.6585\n",
            "Epoch=4/50\tloss=1.7134\tval_loss=1.7777\tacc=37.9450\tval_acc=10.6515\n",
            "Epoch=5/50\tloss=1.7122\tval_loss=1.7763\tacc=37.8850\tval_acc=10.6635\n",
            "Epoch=6/50\tloss=1.7130\tval_loss=1.7770\tacc=37.9743\tval_acc=10.6545\n",
            "Epoch=7/50\tloss=1.7139\tval_loss=1.7788\tacc=37.8364\tval_acc=10.6545\n",
            "Epoch=8/50\tloss=1.7128\tval_loss=1.7785\tacc=37.9429\tval_acc=10.6610\n",
            "saving weights...\n",
            "Epoch=9/50\tloss=1.7124\tval_loss=1.7763\tacc=37.9436\tval_acc=10.6505\n",
            "Epoch=10/50\tloss=1.7137\tval_loss=1.7769\tacc=37.9157\tval_acc=10.6510\n",
            "saving weights...\n",
            "Epoch=11/50\tloss=1.7134\tval_loss=1.7756\tacc=37.8807\tval_acc=10.6705\n",
            "Epoch=12/50\tloss=1.7123\tval_loss=1.7768\tacc=38.0221\tval_acc=10.6510\n",
            "saving weights...\n",
            "Epoch=13/50\tloss=1.7126\tval_loss=1.7750\tacc=37.9921\tval_acc=10.6590\n",
            "Epoch=14/50\tloss=1.7128\tval_loss=1.7763\tacc=37.8750\tval_acc=10.6580\n",
            "Epoch=15/50\tloss=1.7136\tval_loss=1.7782\tacc=37.9650\tval_acc=10.6575\n",
            "Epoch=16/50\tloss=1.7135\tval_loss=1.7762\tacc=37.7907\tval_acc=10.6555\n",
            "Epoch=17/50\tloss=1.7127\tval_loss=1.7775\tacc=37.9271\tval_acc=10.6575\n",
            "Epoch=18/50\tloss=1.7143\tval_loss=1.7782\tacc=37.8579\tval_acc=10.6385\n",
            "Epoch=19/50\tloss=1.7121\tval_loss=1.7778\tacc=37.8707\tval_acc=10.6515\n",
            "Epoch=20/50\tloss=1.7136\tval_loss=1.7756\tacc=37.9671\tval_acc=10.6535\n",
            "Epoch=21/50\tloss=1.7136\tval_loss=1.7777\tacc=37.8721\tval_acc=10.6670\n",
            "Epoch=22/50\tloss=1.7139\tval_loss=1.7777\tacc=38.0950\tval_acc=10.6525\n",
            "Epoch=23/50\tloss=1.7127\tval_loss=1.7779\tacc=37.9864\tval_acc=10.6535\n",
            "Epoch=24/50\tloss=1.7138\tval_loss=1.7756\tacc=37.8893\tval_acc=10.6345\n",
            "Epoch=25/50\tloss=1.7138\tval_loss=1.7770\tacc=37.9386\tval_acc=10.6480\n",
            "Epoch=26/50\tloss=1.7126\tval_loss=1.7765\tacc=37.7986\tval_acc=10.6625\n",
            "Epoch=27/50\tloss=1.7121\tval_loss=1.7761\tacc=38.0536\tval_acc=10.6575\n",
            "Epoch=28/50\tloss=1.7130\tval_loss=1.7768\tacc=37.9207\tval_acc=10.6555\n",
            "Epoch=29/50\tloss=1.7122\tval_loss=1.7767\tacc=38.0179\tval_acc=10.6515\n",
            "Epoch=30/50\tloss=1.7134\tval_loss=1.7751\tacc=37.9536\tval_acc=10.6560\n",
            "Epoch=31/50\tloss=1.7135\tval_loss=1.7781\tacc=37.9636\tval_acc=10.6435\n",
            "Epoch=32/50\tloss=1.7126\tval_loss=1.7784\tacc=37.9564\tval_acc=10.6425\n",
            "Epoch=33/50\tloss=1.7123\tval_loss=1.7784\tacc=38.0029\tval_acc=10.6475\n",
            "Epoch=34/50\tloss=1.7135\tval_loss=1.7772\tacc=38.0114\tval_acc=10.6590\n",
            "Epoch=35/50\tloss=1.7126\tval_loss=1.7787\tacc=37.9993\tval_acc=10.6525\n",
            "Epoch=36/50\tloss=1.7126\tval_loss=1.7794\tacc=37.9914\tval_acc=10.6425\n",
            "Epoch=37/50\tloss=1.7132\tval_loss=1.7791\tacc=37.8757\tval_acc=10.6515\n",
            "Epoch=38/50\tloss=1.7124\tval_loss=1.7773\tacc=38.0186\tval_acc=10.6500\n",
            "Epoch=39/50\tloss=1.7136\tval_loss=1.7768\tacc=37.9514\tval_acc=10.6560\n",
            "Epoch=40/50\tloss=1.7122\tval_loss=1.7777\tacc=37.9557\tval_acc=10.6490\n",
            "Epoch=41/50\tloss=1.7126\tval_loss=1.7792\tacc=38.0036\tval_acc=10.6605\n",
            "Epoch=42/50\tloss=1.7137\tval_loss=1.7771\tacc=37.9936\tval_acc=10.6645\n",
            "Epoch=43/50\tloss=1.7130\tval_loss=1.7752\tacc=37.9893\tval_acc=10.6595\n",
            "Epoch=44/50\tloss=1.7132\tval_loss=1.7761\tacc=37.8743\tval_acc=10.6515\n",
            "Epoch=45/50\tloss=1.7137\tval_loss=1.7766\tacc=37.9421\tval_acc=10.6600\n",
            "Epoch=46/50\tloss=1.7139\tval_loss=1.7769\tacc=37.9193\tval_acc=10.6470\n",
            "Epoch=47/50\tloss=1.7141\tval_loss=1.7760\tacc=38.0150\tval_acc=10.6585\n",
            "Epoch=48/50\tloss=1.7129\tval_loss=1.7798\tacc=38.0371\tval_acc=10.6440\n",
            "Epoch=49/50\tloss=1.7134\tval_loss=1.7763\tacc=37.9429\tval_acc=10.6495\n",
            "Epoch=50/50\tloss=1.7141\tval_loss=1.7775\tacc=37.8957\tval_acc=10.6580\n"
          ],
          "name": "stdout"
        }
      ]
    },
    {
      "cell_type": "code",
      "metadata": {
        "execution": {
          "iopub.status.busy": "2021-06-25T09:19:00.200079Z",
          "iopub.execute_input": "2021-06-25T09:19:00.200506Z",
          "iopub.status.idle": "2021-06-25T09:19:00.404882Z",
          "shell.execute_reply.started": "2021-06-25T09:19:00.200470Z",
          "shell.execute_reply": "2021-06-25T09:19:00.404061Z"
        },
        "trusted": true,
        "id": "QknfcuyJiSMf"
      },
      "source": [
        "test = TensorDataset(torch.Tensor(np.array(x_test)))\n",
        "test_loader = DataLoader(test, batch_size=100000, shuffle=False)"
      ],
      "execution_count": null,
      "outputs": []
    },
    {
      "cell_type": "code",
      "metadata": {
        "execution": {
          "iopub.status.busy": "2021-06-25T09:19:06.920890Z",
          "iopub.execute_input": "2021-06-25T09:19:06.921240Z",
          "iopub.status.idle": "2021-06-25T09:19:08.114260Z",
          "shell.execute_reply.started": "2021-06-25T09:19:06.921206Z",
          "shell.execute_reply": "2021-06-25T09:19:08.113276Z"
        },
        "trusted": true,
        "id": "pmX-1cmFiSMg",
        "outputId": "ee84beee-f5ec-44fa-847e-bbcaaa7b6484"
      },
      "source": [
        "if not weights_path:\n",
        "    print('Choose weights path')\n",
        "    sys.exit()\n",
        "\n",
        "device = torch.device('cpu' if not torch.cuda.is_available() else 'cuda')\n",
        "\n",
        "model_name = weights_path + '/model.pt'\n",
        "print(model_name)\n",
        "state_dict = torch.load(model_name, map_location=device)\n",
        "model.load_state_dict(state_dict)\n",
        "model.eval()\n",
        "\n",
        "for _, data in enumerate(test_loader, 0):\n",
        "    features = data[0]\n",
        "    print(features.size())\n",
        "    features = features.to(device, dtype=torch.float)\n",
        "    \n",
        "    with torch.set_grad_enabled(False):\n",
        "        y_pred = model(features)\n",
        "        \n",
        "        sm = nn.Softmax(dim=1)\n",
        "        pred_percentage = sm(y_pred)\n",
        "        \n",
        "        print(pred_percentage.size())\n",
        "\n",
        "print(pred_percentage.detach().cpu().numpy())\n",
        "print('Done!')"
      ],
      "execution_count": null,
      "outputs": [
        {
          "output_type": "stream",
          "text": [
            "./output/20210625T0915/model.pt\n",
            "torch.Size([100000, 375])\n",
            "torch.Size([100000, 9])\n",
            "[[0.08042812 0.472009   0.17498638 ... 0.01489316 0.03152972 0.10974982]\n",
            " [0.02847469 0.01827991 0.01802572 ... 0.08047377 0.40378097 0.08335941]\n",
            " [0.01908431 0.0219461  0.01843582 ... 0.03277696 0.14273822 0.05185917]\n",
            " ...\n",
            " [0.06526197 0.3491881  0.15484692 ... 0.03494824 0.08958131 0.13881981]\n",
            " [0.02777312 0.01361246 0.01413754 ... 0.0782783  0.3770459  0.0729562 ]\n",
            " [0.03722076 0.04652073 0.05035622 ... 0.091174   0.29906538 0.12914579]]\n",
            "Done!\n"
          ],
          "name": "stdout"
        }
      ]
    },
    {
      "cell_type": "code",
      "metadata": {
        "execution": {
          "iopub.status.busy": "2021-06-25T09:19:35.312466Z",
          "iopub.execute_input": "2021-06-25T09:19:35.312825Z",
          "iopub.status.idle": "2021-06-25T09:19:35.638986Z",
          "shell.execute_reply.started": "2021-06-25T09:19:35.312792Z",
          "shell.execute_reply": "2021-06-25T09:19:35.637750Z"
        },
        "trusted": true,
        "id": "v8f3L9bXiSMg",
        "outputId": "21c71385-d731-48df-b092-788d0ca1104e"
      },
      "source": [
        "submit = pd.read_csv('../input/tabular-playground-series-jun-2021/sample_submission.csv')\n",
        "pred_array = pred_percentage.detach().cpu().numpy()\n",
        "submit.loc[:, 'Class_1':'Class_9'] = pred_array\n",
        "submit = submit.set_index('id')\n",
        "submit.head()"
      ],
      "execution_count": null,
      "outputs": [
        {
          "output_type": "execute_result",
          "data": {
            "text/plain": [
              "         Class_1   Class_2   Class_3   Class_4   Class_5   Class_6   Class_7  \\\n",
              "id                                                                             \n",
              "200000  0.080428  0.472009  0.174986  0.024173  0.012897  0.079334  0.014893   \n",
              "200001  0.028475  0.018280  0.018026  0.008878  0.007393  0.351335  0.080474   \n",
              "200002  0.019084  0.021946  0.018436  0.009017  0.008079  0.696063  0.032777   \n",
              "200003  0.041159  0.075034  0.069922  0.028387  0.019746  0.275462  0.083476   \n",
              "200004  0.037041  0.061479  0.060587  0.024905  0.018075  0.293186  0.084864   \n",
              "\n",
              "         Class_8   Class_9  \n",
              "id                          \n",
              "200000  0.031530  0.109750  \n",
              "200001  0.403781  0.083359  \n",
              "200002  0.142738  0.051859  \n",
              "200003  0.247847  0.158967  \n",
              "200004  0.271702  0.148162  "
            ],
            "text/html": [
              "<div>\n",
              "<style scoped>\n",
              "    .dataframe tbody tr th:only-of-type {\n",
              "        vertical-align: middle;\n",
              "    }\n",
              "\n",
              "    .dataframe tbody tr th {\n",
              "        vertical-align: top;\n",
              "    }\n",
              "\n",
              "    .dataframe thead th {\n",
              "        text-align: right;\n",
              "    }\n",
              "</style>\n",
              "<table border=\"1\" class=\"dataframe\">\n",
              "  <thead>\n",
              "    <tr style=\"text-align: right;\">\n",
              "      <th></th>\n",
              "      <th>Class_1</th>\n",
              "      <th>Class_2</th>\n",
              "      <th>Class_3</th>\n",
              "      <th>Class_4</th>\n",
              "      <th>Class_5</th>\n",
              "      <th>Class_6</th>\n",
              "      <th>Class_7</th>\n",
              "      <th>Class_8</th>\n",
              "      <th>Class_9</th>\n",
              "    </tr>\n",
              "    <tr>\n",
              "      <th>id</th>\n",
              "      <th></th>\n",
              "      <th></th>\n",
              "      <th></th>\n",
              "      <th></th>\n",
              "      <th></th>\n",
              "      <th></th>\n",
              "      <th></th>\n",
              "      <th></th>\n",
              "      <th></th>\n",
              "    </tr>\n",
              "  </thead>\n",
              "  <tbody>\n",
              "    <tr>\n",
              "      <th>200000</th>\n",
              "      <td>0.080428</td>\n",
              "      <td>0.472009</td>\n",
              "      <td>0.174986</td>\n",
              "      <td>0.024173</td>\n",
              "      <td>0.012897</td>\n",
              "      <td>0.079334</td>\n",
              "      <td>0.014893</td>\n",
              "      <td>0.031530</td>\n",
              "      <td>0.109750</td>\n",
              "    </tr>\n",
              "    <tr>\n",
              "      <th>200001</th>\n",
              "      <td>0.028475</td>\n",
              "      <td>0.018280</td>\n",
              "      <td>0.018026</td>\n",
              "      <td>0.008878</td>\n",
              "      <td>0.007393</td>\n",
              "      <td>0.351335</td>\n",
              "      <td>0.080474</td>\n",
              "      <td>0.403781</td>\n",
              "      <td>0.083359</td>\n",
              "    </tr>\n",
              "    <tr>\n",
              "      <th>200002</th>\n",
              "      <td>0.019084</td>\n",
              "      <td>0.021946</td>\n",
              "      <td>0.018436</td>\n",
              "      <td>0.009017</td>\n",
              "      <td>0.008079</td>\n",
              "      <td>0.696063</td>\n",
              "      <td>0.032777</td>\n",
              "      <td>0.142738</td>\n",
              "      <td>0.051859</td>\n",
              "    </tr>\n",
              "    <tr>\n",
              "      <th>200003</th>\n",
              "      <td>0.041159</td>\n",
              "      <td>0.075034</td>\n",
              "      <td>0.069922</td>\n",
              "      <td>0.028387</td>\n",
              "      <td>0.019746</td>\n",
              "      <td>0.275462</td>\n",
              "      <td>0.083476</td>\n",
              "      <td>0.247847</td>\n",
              "      <td>0.158967</td>\n",
              "    </tr>\n",
              "    <tr>\n",
              "      <th>200004</th>\n",
              "      <td>0.037041</td>\n",
              "      <td>0.061479</td>\n",
              "      <td>0.060587</td>\n",
              "      <td>0.024905</td>\n",
              "      <td>0.018075</td>\n",
              "      <td>0.293186</td>\n",
              "      <td>0.084864</td>\n",
              "      <td>0.271702</td>\n",
              "      <td>0.148162</td>\n",
              "    </tr>\n",
              "  </tbody>\n",
              "</table>\n",
              "</div>"
            ]
          },
          "metadata": {
            "tags": []
          },
          "execution_count": 55
        }
      ]
    },
    {
      "cell_type": "code",
      "metadata": {
        "execution": {
          "iopub.status.busy": "2021-06-25T09:19:40.379495Z",
          "iopub.execute_input": "2021-06-25T09:19:40.379824Z",
          "iopub.status.idle": "2021-06-25T09:19:42.283463Z",
          "shell.execute_reply.started": "2021-06-25T09:19:40.379792Z",
          "shell.execute_reply": "2021-06-25T09:19:42.282602Z"
        },
        "trusted": true,
        "id": "1yTESnbdiSMg"
      },
      "source": [
        "submit.to_csv('./output/submission10.csv')"
      ],
      "execution_count": null,
      "outputs": []
    },
    {
      "cell_type": "markdown",
      "metadata": {
        "id": "PnmvfKFIiSMg"
      },
      "source": [
        "# NN모델을 써야 점수가 올라간다. \n",
        "# Pytorch NN모델을 생성하고 제출하자\n",
        "# feature_select할게 더 있나? 체크"
      ]
    }
  ]
}