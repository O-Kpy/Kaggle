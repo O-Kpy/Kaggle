{
  "nbformat": 4,
  "nbformat_minor": 5,
  "metadata": {
    "kernelspec": {
      "display_name": "Python 3",
      "language": "python",
      "name": "python3"
    },
    "language_info": {
      "codemirror_mode": {
        "name": "ipython",
        "version": 3
      },
      "file_extension": ".py",
      "mimetype": "text/x-python",
      "name": "python",
      "nbconvert_exporter": "python",
      "pygments_lexer": "ipython3",
      "version": "3.7.10"
    },
    "papermill": {
      "default_parameters": {},
      "duration": 29.765671,
      "end_time": "2021-09-29T07:52:57.322096",
      "environment_variables": {},
      "exception": null,
      "input_path": "__notebook__.ipynb",
      "output_path": "__notebook__.ipynb",
      "parameters": {},
      "start_time": "2021-09-29T07:52:27.556425",
      "version": "2.3.3"
    },
    "colab": {
      "name": "pawpularity-submit.ipynb",
      "provenance": [],
      "include_colab_link": true
    }
  },
  "cells": [
    {
      "cell_type": "markdown",
      "metadata": {
        "id": "view-in-github",
        "colab_type": "text"
      },
      "source": [
        "<a href=\"https://colab.research.google.com/github/O-Kpy/Kaggle/blob/main/pawpularity_submit.ipynb\" target=\"_parent\"><img src=\"https://colab.research.google.com/assets/colab-badge.svg\" alt=\"Open In Colab\"/></a>"
      ]
    },
    {
      "cell_type": "code",
      "metadata": {
        "_cell_guid": "b1076dfc-b9ad-4769-8c92-a6c4dae69d19",
        "_uuid": "8f2839f25d086af736a60e9eeb907d3b93b6e0e5",
        "execution": {
          "iopub.execute_input": "2021-09-29T07:52:35.631653Z",
          "iopub.status.busy": "2021-09-29T07:52:35.624487Z",
          "iopub.status.idle": "2021-09-29T07:52:35.636872Z",
          "shell.execute_reply": "2021-09-29T07:52:35.639645Z",
          "shell.execute_reply.started": "2021-09-29T07:33:00.070017Z"
        },
        "papermill": {
          "duration": 0.160385,
          "end_time": "2021-09-29T07:52:35.640118",
          "exception": false,
          "start_time": "2021-09-29T07:52:35.479733",
          "status": "completed"
        },
        "tags": [],
        "id": "fb71400e"
      },
      "source": [
        "package_path = '../input/timmlatest'\n",
        "import sys; sys.path.append(package_path)"
      ],
      "id": "fb71400e",
      "execution_count": null,
      "outputs": []
    },
    {
      "cell_type": "code",
      "metadata": {
        "execution": {
          "iopub.execute_input": "2021-09-29T07:52:35.687560Z",
          "iopub.status.busy": "2021-09-29T07:52:35.686773Z",
          "iopub.status.idle": "2021-09-29T07:52:44.642563Z",
          "shell.execute_reply": "2021-09-29T07:52:44.641954Z",
          "shell.execute_reply.started": "2021-09-29T07:33:53.705336Z"
        },
        "papermill": {
          "duration": 8.981012,
          "end_time": "2021-09-29T07:52:44.642726",
          "exception": false,
          "start_time": "2021-09-29T07:52:35.661714",
          "status": "completed"
        },
        "tags": [],
        "id": "f5dd1d9f"
      },
      "source": [
        "import os\n",
        "import gc\n",
        "import cv2\n",
        "import time\n",
        "import random\n",
        "\n",
        "import numpy as np\n",
        "import pandas as pd\n",
        "\n",
        "import torch\n",
        "import torch.nn as nn\n",
        "from torch.utils.data import Dataset, DataLoader\n",
        "from torch.cuda import amp\n",
        "\n",
        "from tqdm import tqdm\n",
        "\n",
        "import timm\n",
        "\n",
        "import albumentations as A\n",
        "from albumentations.pytorch import ToTensorV2\n",
        "\n",
        "os.environ['CUDA_LAUNCH_BLOCKING'] = '1'"
      ],
      "id": "f5dd1d9f",
      "execution_count": null,
      "outputs": []
    },
    {
      "cell_type": "code",
      "metadata": {
        "execution": {
          "iopub.execute_input": "2021-09-29T07:52:44.683046Z",
          "iopub.status.busy": "2021-09-29T07:52:44.682042Z",
          "iopub.status.idle": "2021-09-29T07:52:44.685396Z",
          "shell.execute_reply": "2021-09-29T07:52:44.684871Z",
          "shell.execute_reply.started": "2021-09-29T07:34:11.002416Z"
        },
        "papermill": {
          "duration": 0.025257,
          "end_time": "2021-09-29T07:52:44.685541",
          "exception": false,
          "start_time": "2021-09-29T07:52:44.660284",
          "status": "completed"
        },
        "tags": [],
        "id": "449b58d2"
      },
      "source": [
        "ROOT_DIR = \"../input/petfinder-pawpularity-score\"\n",
        "TRAIN_DIR = \"../input/petfinder-pawpularity-score/train\"\n",
        "TEST_DIR = \"../input/petfinder-pawpularity-score/test\""
      ],
      "id": "449b58d2",
      "execution_count": null,
      "outputs": []
    },
    {
      "cell_type": "code",
      "metadata": {
        "execution": {
          "iopub.execute_input": "2021-09-29T07:52:44.774338Z",
          "iopub.status.busy": "2021-09-29T07:52:44.773260Z",
          "iopub.status.idle": "2021-09-29T07:52:44.776586Z",
          "shell.execute_reply": "2021-09-29T07:52:44.776031Z",
          "shell.execute_reply.started": "2021-09-29T07:34:12.485992Z"
        },
        "papermill": {
          "duration": 0.074043,
          "end_time": "2021-09-29T07:52:44.776747",
          "exception": false,
          "start_time": "2021-09-29T07:52:44.702704",
          "status": "completed"
        },
        "tags": [],
        "id": "2ebf8867"
      },
      "source": [
        "# Config\n",
        "CONFIG = dict(\n",
        "seed = 42,\n",
        "model_name = 'tf_efficientnet_b4_ns',\n",
        "test_batch_size = 32,\n",
        "img_size = 512,\n",
        "num_classes = 1,\n",
        "device = torch.device('cuda:0' if torch.cuda.is_available() else 'cpu'))"
      ],
      "id": "2ebf8867",
      "execution_count": null,
      "outputs": []
    },
    {
      "cell_type": "code",
      "metadata": {
        "execution": {
          "iopub.execute_input": "2021-09-29T07:52:44.817678Z",
          "iopub.status.busy": "2021-09-29T07:52:44.816700Z",
          "iopub.status.idle": "2021-09-29T07:52:44.820070Z",
          "shell.execute_reply": "2021-09-29T07:52:44.819504Z",
          "shell.execute_reply.started": "2021-09-29T07:34:14.347954Z"
        },
        "papermill": {
          "duration": 0.025809,
          "end_time": "2021-09-29T07:52:44.820206",
          "exception": false,
          "start_time": "2021-09-29T07:52:44.794397",
          "status": "completed"
        },
        "tags": [],
        "id": "6019ffd9"
      },
      "source": [
        "# model path\n",
        "MODEL_PATHS = [\n",
        "    '../input/pawpularity-torch-rmse/RMSE18.5378_epoch3.bin'\n",
        "    # '' # 모델 계속 돌리면서 최저 RMSE\n",
        "]"
      ],
      "id": "6019ffd9",
      "execution_count": null,
      "outputs": []
    },
    {
      "cell_type": "code",
      "metadata": {
        "execution": {
          "iopub.execute_input": "2021-09-29T07:52:44.861104Z",
          "iopub.status.busy": "2021-09-29T07:52:44.860352Z",
          "iopub.status.idle": "2021-09-29T07:52:44.867457Z",
          "shell.execute_reply": "2021-09-29T07:52:44.866872Z",
          "shell.execute_reply.started": "2021-09-29T07:34:15.818194Z"
        },
        "papermill": {
          "duration": 0.030099,
          "end_time": "2021-09-29T07:52:44.867646",
          "exception": false,
          "start_time": "2021-09-29T07:52:44.837547",
          "status": "completed"
        },
        "tags": [],
        "id": "013779d4"
      },
      "source": [
        "def set_seed(seed=42):\n",
        "    np.random.seed(seed)\n",
        "    random.seed(seed)\n",
        "    torch.manual_seed(seed)\n",
        "    torch.cuda.manual_seed(seed)\n",
        "    \n",
        "    torch.backends.cudnn.deterministic = True\n",
        "    torch.backends.cudnn.benchmark = False\n",
        "    os.environ['PYTHONHASHSEED'] = str(seed)\n",
        "    \n",
        "set_seed(CONFIG['seed'])"
      ],
      "id": "013779d4",
      "execution_count": null,
      "outputs": []
    },
    {
      "cell_type": "markdown",
      "metadata": {
        "papermill": {
          "duration": 0.01823,
          "end_time": "2021-09-29T07:52:44.902995",
          "exception": false,
          "start_time": "2021-09-29T07:52:44.884765",
          "status": "completed"
        },
        "tags": [],
        "id": "2a512b39"
      },
      "source": [
        "# 데이터 불러오기"
      ],
      "id": "2a512b39"
    },
    {
      "cell_type": "code",
      "metadata": {
        "execution": {
          "iopub.execute_input": "2021-09-29T07:52:44.945178Z",
          "iopub.status.busy": "2021-09-29T07:52:44.944192Z",
          "iopub.status.idle": "2021-09-29T07:52:44.947511Z",
          "shell.execute_reply": "2021-09-29T07:52:44.946991Z",
          "shell.execute_reply.started": "2021-09-29T07:34:17.575286Z"
        },
        "papermill": {
          "duration": 0.026828,
          "end_time": "2021-09-29T07:52:44.947646",
          "exception": false,
          "start_time": "2021-09-29T07:52:44.920818",
          "status": "completed"
        },
        "tags": [],
        "id": "136708c0"
      },
      "source": [
        "def get_test_file_path(id):\n",
        "    return f'{TEST_DIR}/{id}.jpg'"
      ],
      "id": "136708c0",
      "execution_count": null,
      "outputs": []
    },
    {
      "cell_type": "code",
      "metadata": {
        "execution": {
          "iopub.execute_input": "2021-09-29T07:52:44.987211Z",
          "iopub.status.busy": "2021-09-29T07:52:44.986465Z",
          "iopub.status.idle": "2021-09-29T07:52:45.008221Z",
          "shell.execute_reply": "2021-09-29T07:52:45.007665Z",
          "shell.execute_reply.started": "2021-09-29T07:34:18.629649Z"
        },
        "papermill": {
          "duration": 0.043672,
          "end_time": "2021-09-29T07:52:45.008400",
          "exception": false,
          "start_time": "2021-09-29T07:52:44.964728",
          "status": "completed"
        },
        "tags": [],
        "id": "934e904e"
      },
      "source": [
        "df = pd.read_csv(f'{ROOT_DIR}/test.csv')\n",
        "df['file_path'] = df['Id'].apply(get_test_file_path)"
      ],
      "id": "934e904e",
      "execution_count": null,
      "outputs": []
    },
    {
      "cell_type": "code",
      "metadata": {
        "execution": {
          "iopub.execute_input": "2021-09-29T07:52:45.048044Z",
          "iopub.status.busy": "2021-09-29T07:52:45.047058Z",
          "iopub.status.idle": "2021-09-29T07:52:45.049872Z",
          "shell.execute_reply": "2021-09-29T07:52:45.050397Z",
          "shell.execute_reply.started": "2021-09-29T07:34:20.008772Z"
        },
        "papermill": {
          "duration": 0.024923,
          "end_time": "2021-09-29T07:52:45.050551",
          "exception": false,
          "start_time": "2021-09-29T07:52:45.025628",
          "status": "completed"
        },
        "tags": [],
        "id": "071beb80"
      },
      "source": [
        "feature_cols = [col for col in df.columns if col not in ['Id', 'Pawpularity', 'file_path']]"
      ],
      "id": "071beb80",
      "execution_count": null,
      "outputs": []
    },
    {
      "cell_type": "code",
      "metadata": {
        "execution": {
          "iopub.execute_input": "2021-09-29T07:52:45.093529Z",
          "iopub.status.busy": "2021-09-29T07:52:45.092530Z",
          "iopub.status.idle": "2021-09-29T07:52:45.095329Z",
          "shell.execute_reply": "2021-09-29T07:52:45.095886Z",
          "shell.execute_reply.started": "2021-09-29T07:34:21.021354Z"
        },
        "papermill": {
          "duration": 0.028849,
          "end_time": "2021-09-29T07:52:45.096025",
          "exception": false,
          "start_time": "2021-09-29T07:52:45.067176",
          "status": "completed"
        },
        "tags": [],
        "id": "f977ce3c"
      },
      "source": [
        "# Test Dataset\n",
        "\n",
        "class PawpularityTestDataset(Dataset):\n",
        "    def __init__(self, root_dir, df, transforms=None):\n",
        "        self.root_dir = root_dir\n",
        "        self.df = df\n",
        "        self.file_names = df['file_path'].values\n",
        "        self.meta = df[feature_cols].values\n",
        "        self.transforms = transforms\n",
        "        \n",
        "    def __len__(self):\n",
        "        return len(self.df)\n",
        "    \n",
        "    def __getitem__(self, index):\n",
        "        img_path = self.file_names[index]\n",
        "        img = cv2.imread(img_path)\n",
        "        img = cv2.cvtColor(img, cv2.COLOR_BGR2RGB)\n",
        "        meta = self.meta[index, :]\n",
        "        \n",
        "        if self.transforms:\n",
        "            img = self.transforms(image=img)[\"image\"]\n",
        "            \n",
        "        return img, meta"
      ],
      "id": "f977ce3c",
      "execution_count": null,
      "outputs": []
    },
    {
      "cell_type": "code",
      "metadata": {
        "execution": {
          "iopub.execute_input": "2021-09-29T07:52:45.137377Z",
          "iopub.status.busy": "2021-09-29T07:52:45.136227Z",
          "iopub.status.idle": "2021-09-29T07:52:45.138819Z",
          "shell.execute_reply": "2021-09-29T07:52:45.139432Z",
          "shell.execute_reply.started": "2021-09-29T07:34:22.625950Z"
        },
        "papermill": {
          "duration": 0.026203,
          "end_time": "2021-09-29T07:52:45.139580",
          "exception": false,
          "start_time": "2021-09-29T07:52:45.113377",
          "status": "completed"
        },
        "tags": [],
        "id": "810b6b98"
      },
      "source": [
        "# Augmentation\n",
        "test_transforms = A.Compose([\n",
        "    A.Resize(CONFIG['img_size'], CONFIG['img_size']),\n",
        "    A.Normalize(\n",
        "            mean=[0.485, 0.456, 0.406], \n",
        "            std=[0.229, 0.224, 0.225], \n",
        "            max_pixel_value=255.0, \n",
        "            p=1.0\n",
        "        ),\n",
        "    ToTensorV2()], p=1.)"
      ],
      "id": "810b6b98",
      "execution_count": null,
      "outputs": []
    },
    {
      "cell_type": "code",
      "metadata": {
        "execution": {
          "iopub.execute_input": "2021-09-29T07:52:45.186058Z",
          "iopub.status.busy": "2021-09-29T07:52:45.184868Z",
          "iopub.status.idle": "2021-09-29T07:52:45.197501Z",
          "shell.execute_reply": "2021-09-29T07:52:45.198401Z",
          "shell.execute_reply.started": "2021-09-29T07:34:26.184161Z"
        },
        "papermill": {
          "duration": 0.042276,
          "end_time": "2021-09-29T07:52:45.198679",
          "exception": false,
          "start_time": "2021-09-29T07:52:45.156403",
          "status": "completed"
        },
        "tags": [],
        "id": "8e2924a8"
      },
      "source": [
        "# Model Creat\n",
        "\n",
        "class PawpularityModel(nn.Module):\n",
        "    def __init__(self, model_name, pretrained=True):\n",
        "        super(PawpularityModel, self).__init__()\n",
        "        self.model = timm.create_model(model_name, pretrained=pretrained)\n",
        "        self.n_features = self.model.classifier.in_features\n",
        "        self.model.reset_classifier(0)\n",
        "        self.fc = nn.Linear(self.n_features + 12, CONFIG['num_classes'])\n",
        "        self.dropout = nn.Dropout(p=0.3)\n",
        "\n",
        "    def forward(self, images, meta):\n",
        "        features = self.model(images)                 # features = (bs, embedding_size)\n",
        "        features = self.dropout(features)\n",
        "        features = torch.cat([features, meta], dim=1) # features = (bs, embedding_size + 12)\n",
        "        output = self.fc(features)                    # outputs  = (bs, num_classes)\n",
        "        return output"
      ],
      "id": "8e2924a8",
      "execution_count": null,
      "outputs": []
    },
    {
      "cell_type": "code",
      "metadata": {
        "execution": {
          "iopub.execute_input": "2021-09-29T07:52:45.243588Z",
          "iopub.status.busy": "2021-09-29T07:52:45.242559Z",
          "iopub.status.idle": "2021-09-29T07:52:45.245796Z",
          "shell.execute_reply": "2021-09-29T07:52:45.245131Z",
          "shell.execute_reply.started": "2021-09-29T07:34:28.250259Z"
        },
        "papermill": {
          "duration": 0.028588,
          "end_time": "2021-09-29T07:52:45.245937",
          "exception": false,
          "start_time": "2021-09-29T07:52:45.217349",
          "status": "completed"
        },
        "tags": [],
        "id": "46474857"
      },
      "source": [
        "# test model\n",
        "\n",
        "@torch.no_grad()\n",
        "def valid_fn(model, dataloader, device):\n",
        "    model.eval()\n",
        "    \n",
        "    dataset_size = 0\n",
        "    running_loss = 0.0\n",
        "    \n",
        "    PREDS = []\n",
        "    \n",
        "    bar = tqdm(enumerate(dataloader), total=len(dataloader))\n",
        "    for step, (images, meta) in bar:        \n",
        "        images = images.to(device, dtype=torch.float)\n",
        "        meta = meta.to(device, dtype=torch.float)\n",
        "        \n",
        "        batch_size = images.size(0)\n",
        "        dataset_size += batch_size\n",
        "        \n",
        "        outputs = model(images, meta)\n",
        "        PREDS.append(outputs.view(-1).cpu().detach().numpy()) \n",
        "    \n",
        "    PREDS = np.concatenate(PREDS)\n",
        "    gc.collect()\n",
        "    \n",
        "    return PREDS"
      ],
      "id": "46474857",
      "execution_count": null,
      "outputs": []
    },
    {
      "cell_type": "code",
      "metadata": {
        "execution": {
          "iopub.execute_input": "2021-09-29T07:52:45.288101Z",
          "iopub.status.busy": "2021-09-29T07:52:45.287096Z",
          "iopub.status.idle": "2021-09-29T07:52:45.290420Z",
          "shell.execute_reply": "2021-09-29T07:52:45.289848Z",
          "shell.execute_reply.started": "2021-09-29T07:34:32.035274Z"
        },
        "papermill": {
          "duration": 0.027221,
          "end_time": "2021-09-29T07:52:45.290576",
          "exception": false,
          "start_time": "2021-09-29T07:52:45.263355",
          "status": "completed"
        },
        "tags": [],
        "id": "f506c5d5"
      },
      "source": [
        "def inference(model_paths, dataloader, device):\n",
        "    final_preds = []\n",
        "    for i, path in enumerate(model_paths):\n",
        "        model = PawpularityModel(CONFIG['model_name'], pretrained=False)\n",
        "        model.to(CONFIG['device'])\n",
        "        model.load_state_dict(torch.load(path))\n",
        "        \n",
        "        print(f\"Getting predictions for model {i+1}\")\n",
        "        preds = valid_fn(model, dataloader, device)\n",
        "        final_preds.append(preds)\n",
        "    \n",
        "    final_preds = np.array(final_preds)\n",
        "    final_preds = np.mean(final_preds, axis=0)\n",
        "    return final_preds"
      ],
      "id": "f506c5d5",
      "execution_count": null,
      "outputs": []
    },
    {
      "cell_type": "code",
      "metadata": {
        "execution": {
          "iopub.execute_input": "2021-09-29T07:52:45.335710Z",
          "iopub.status.busy": "2021-09-29T07:52:45.334529Z",
          "iopub.status.idle": "2021-09-29T07:52:45.337760Z",
          "shell.execute_reply": "2021-09-29T07:52:45.337159Z",
          "shell.execute_reply.started": "2021-09-29T07:34:33.704469Z"
        },
        "papermill": {
          "duration": 0.029964,
          "end_time": "2021-09-29T07:52:45.337890",
          "exception": false,
          "start_time": "2021-09-29T07:52:45.307926",
          "status": "completed"
        },
        "tags": [],
        "id": "331e5e1d"
      },
      "source": [
        "# 데이터 준비(dataset, loader)\n",
        "test_dataset = PawpularityTestDataset(TEST_DIR, df, test_transforms)\n",
        "test_loader = DataLoader(test_dataset, batch_size=CONFIG['test_batch_size'], \n",
        "                         num_workers=4, shuffle=False, pin_memory=True)"
      ],
      "id": "331e5e1d",
      "execution_count": null,
      "outputs": []
    },
    {
      "cell_type": "code",
      "metadata": {
        "execution": {
          "iopub.execute_input": "2021-09-29T07:52:45.379012Z",
          "iopub.status.busy": "2021-09-29T07:52:45.376536Z",
          "iopub.status.idle": "2021-09-29T07:52:55.534049Z",
          "shell.execute_reply": "2021-09-29T07:52:55.534907Z",
          "shell.execute_reply.started": "2021-09-29T07:34:34.924370Z"
        },
        "papermill": {
          "duration": 10.179973,
          "end_time": "2021-09-29T07:52:55.535133",
          "exception": false,
          "start_time": "2021-09-29T07:52:45.355160",
          "status": "completed"
        },
        "tags": [],
        "id": "52ff46c2",
        "outputId": "732a4ca1-e144-4fb5-a3f9-eea333a56c7a"
      },
      "source": [
        "preds = inference(MODEL_PATHS, test_loader, CONFIG['device'])"
      ],
      "id": "52ff46c2",
      "execution_count": null,
      "outputs": [
        {
          "name": "stdout",
          "output_type": "stream",
          "text": [
            "Getting predictions for model 1\n"
          ]
        },
        {
          "name": "stderr",
          "output_type": "stream",
          "text": [
            "100%|██████████| 1/1 [00:00<00:00,  1.52it/s]\n"
          ]
        }
      ]
    },
    {
      "cell_type": "code",
      "metadata": {
        "execution": {
          "iopub.execute_input": "2021-09-29T07:52:55.620468Z",
          "iopub.status.busy": "2021-09-29T07:52:55.619712Z",
          "iopub.status.idle": "2021-09-29T07:52:55.642515Z",
          "shell.execute_reply": "2021-09-29T07:52:55.643033Z",
          "shell.execute_reply.started": "2021-09-29T07:35:01.177705Z"
        },
        "papermill": {
          "duration": 0.067735,
          "end_time": "2021-09-29T07:52:55.643211",
          "exception": false,
          "start_time": "2021-09-29T07:52:55.575476",
          "status": "completed"
        },
        "tags": [],
        "id": "dea171a7",
        "outputId": "463a935f-10dc-405a-99b3-4725b528286d"
      },
      "source": [
        "submit = pd.read_csv(f'{ROOT_DIR}/sample_submission.csv')\n",
        "submit['Pawpularity'] = preds\n",
        "submit.head()"
      ],
      "id": "dea171a7",
      "execution_count": null,
      "outputs": [
        {
          "data": {
            "text/html": [
              "<div>\n",
              "<style scoped>\n",
              "    .dataframe tbody tr th:only-of-type {\n",
              "        vertical-align: middle;\n",
              "    }\n",
              "\n",
              "    .dataframe tbody tr th {\n",
              "        vertical-align: top;\n",
              "    }\n",
              "\n",
              "    .dataframe thead th {\n",
              "        text-align: right;\n",
              "    }\n",
              "</style>\n",
              "<table border=\"1\" class=\"dataframe\">\n",
              "  <thead>\n",
              "    <tr style=\"text-align: right;\">\n",
              "      <th></th>\n",
              "      <th>Id</th>\n",
              "      <th>Pawpularity</th>\n",
              "    </tr>\n",
              "  </thead>\n",
              "  <tbody>\n",
              "    <tr>\n",
              "      <th>0</th>\n",
              "      <td>4128bae22183829d2b5fea10effdb0c3</td>\n",
              "      <td>4.537697</td>\n",
              "    </tr>\n",
              "    <tr>\n",
              "      <th>1</th>\n",
              "      <td>43a2262d7738e3d420d453815151079e</td>\n",
              "      <td>4.109232</td>\n",
              "    </tr>\n",
              "    <tr>\n",
              "      <th>2</th>\n",
              "      <td>4e429cead1848a298432a0acad014c9d</td>\n",
              "      <td>4.586139</td>\n",
              "    </tr>\n",
              "    <tr>\n",
              "      <th>3</th>\n",
              "      <td>80bc3ccafcc51b66303c2c263aa38486</td>\n",
              "      <td>4.200558</td>\n",
              "    </tr>\n",
              "    <tr>\n",
              "      <th>4</th>\n",
              "      <td>8f49844c382931444e68dffbe20228f4</td>\n",
              "      <td>4.522197</td>\n",
              "    </tr>\n",
              "  </tbody>\n",
              "</table>\n",
              "</div>"
            ],
            "text/plain": [
              "                                 Id  Pawpularity\n",
              "0  4128bae22183829d2b5fea10effdb0c3     4.537697\n",
              "1  43a2262d7738e3d420d453815151079e     4.109232\n",
              "2  4e429cead1848a298432a0acad014c9d     4.586139\n",
              "3  80bc3ccafcc51b66303c2c263aa38486     4.200558\n",
              "4  8f49844c382931444e68dffbe20228f4     4.522197"
            ]
          },
          "execution_count": 17,
          "metadata": {},
          "output_type": "execute_result"
        }
      ]
    },
    {
      "cell_type": "code",
      "metadata": {
        "execution": {
          "iopub.execute_input": "2021-09-29T07:52:55.687411Z",
          "iopub.status.busy": "2021-09-29T07:52:55.686427Z",
          "iopub.status.idle": "2021-09-29T07:52:55.692801Z",
          "shell.execute_reply": "2021-09-29T07:52:55.692307Z",
          "shell.execute_reply.started": "2021-09-29T07:35:19.415473Z"
        },
        "papermill": {
          "duration": 0.029947,
          "end_time": "2021-09-29T07:52:55.692922",
          "exception": false,
          "start_time": "2021-09-29T07:52:55.662975",
          "status": "completed"
        },
        "tags": [],
        "id": "a256dda0"
      },
      "source": [
        "submit.to_csv('submission.csv', index=False)"
      ],
      "id": "a256dda0",
      "execution_count": null,
      "outputs": []
    }
  ]
}