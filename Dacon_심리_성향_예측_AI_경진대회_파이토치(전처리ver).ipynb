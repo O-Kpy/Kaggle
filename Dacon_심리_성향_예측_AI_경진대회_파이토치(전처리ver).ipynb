{
  "nbformat": 4,
  "nbformat_minor": 0,
  "metadata": {
    "colab": {
      "name": "Dacon_심리 성향 예측 AI 경진대회_파이토치(전처리ver).ipynb",
      "provenance": [],
      "mount_file_id": "1sJw9HDnnKysMNwn7dz8uX7zBKR6HCHiK",
      "authorship_tag": "ABX9TyNXJml+NuKnPdfTdqU/erwO",
      "include_colab_link": true
    },
    "kernelspec": {
      "name": "python3",
      "display_name": "Python 3"
    },
    "language_info": {
      "name": "python"
    }
  },
  "cells": [
    {
      "cell_type": "markdown",
      "metadata": {
        "id": "view-in-github",
        "colab_type": "text"
      },
      "source": [
        "<a href=\"https://colab.research.google.com/github/O-Kpy/Kaggle/blob/main/Dacon_%EC%8B%AC%EB%A6%AC_%EC%84%B1%ED%96%A5_%EC%98%88%EC%B8%A1_AI_%EA%B2%BD%EC%A7%84%EB%8C%80%ED%9A%8C_%ED%8C%8C%EC%9D%B4%ED%86%A0%EC%B9%98(%EC%A0%84%EC%B2%98%EB%A6%ACver).ipynb\" target=\"_parent\"><img src=\"https://colab.research.google.com/assets/colab-badge.svg\" alt=\"Open In Colab\"/></a>"
      ]
    },
    {
      "cell_type": "code",
      "metadata": {
        "id": "vjx9dVMWdACb"
      },
      "source": [
        "import pandas as pd\n",
        "import numpy as np\n",
        "import matplotlib.pyplot as plt\n",
        "%matplotlib inline\n",
        "import seaborn as sns\n",
        "sns.set_style('whitegrid')\n",
        "from sklearn.pipeline import Pipeline\n",
        "from sklearn.preprocessing import LabelEncoder, robust_scale"
      ],
      "execution_count": 22,
      "outputs": []
    },
    {
      "cell_type": "code",
      "metadata": {
        "colab": {
          "base_uri": "https://localhost:8080/"
        },
        "id": "QtwM6nLyqHnx",
        "outputId": "66c15fa4-4242-49e5-a3d9-e3788da24e98"
      },
      "source": [
        "print(torch.__version__)"
      ],
      "execution_count": 59,
      "outputs": [
        {
          "output_type": "stream",
          "text": [
            "1.8.1+cu101\n"
          ],
          "name": "stdout"
        }
      ]
    },
    {
      "cell_type": "code",
      "metadata": {
        "colab": {
          "base_uri": "https://localhost:8080/"
        },
        "id": "H4sVX-etdkrk",
        "outputId": "8d0ce084-4160-4509-9112-e91ef93493d4"
      },
      "source": [
        "train = pd.read_csv('/content/drive/MyDrive/dataset/Dacon/연습/심리 성향 예측 AI 경진대회_train.csv')\n",
        "test = pd.read_csv('/content/drive/MyDrive/dataset/Dacon/연습/심리 성향 예측 AI 경진대회_test_x.csv')\n",
        "print(train.shape, test.shape)"
      ],
      "execution_count": 3,
      "outputs": [
        {
          "output_type": "stream",
          "text": [
            "(45532, 78) (11383, 77)\n"
          ],
          "name": "stdout"
        }
      ]
    },
    {
      "cell_type": "code",
      "metadata": {
        "id": "zQW5b-BHdzg6"
      },
      "source": [
        "data = pd.concat([train, test])"
      ],
      "execution_count": 9,
      "outputs": []
    },
    {
      "cell_type": "code",
      "metadata": {
        "id": "g966wKMLd6kv"
      },
      "source": [
        "for i in data.select_dtypes('object').columns:\n",
        "  data = pd.get_dummies(data=data, columns=[i])"
      ],
      "execution_count": 11,
      "outputs": []
    },
    {
      "cell_type": "code",
      "metadata": {
        "id": "MyITzrISekLr"
      },
      "source": [
        "data['moderate tendencies'] = data['tp06'] + data['tp07'] + data['tp08'] + data['tp09'] + data['tp10']"
      ],
      "execution_count": 13,
      "outputs": []
    },
    {
      "cell_type": "code",
      "metadata": {
        "id": "sG8oYCADe0mv"
      },
      "source": [
        "data['radical tendencies'] = data['tp01'] + data['tp02']\t+ data['tp03'] + data['tp04'] + data['tp05']"
      ],
      "execution_count": 14,
      "outputs": []
    },
    {
      "cell_type": "code",
      "metadata": {
        "id": "_gtmIIs9e17D"
      },
      "source": [
        "labels = ['a', 'b', 'c', 'd', 'e', 'f']\n",
        "data['QaE_cut'] = pd.qcut(data['QaE'], 6, labels=labels)\n",
        "data['QbE_cut'] = pd.qcut(data['QbE'], 6, labels=labels)\n",
        "data['QcE_cut'] = pd.qcut(data['QcE'], 6, labels=labels)\n",
        "data['QdE_cut'] = pd.qcut(data['QdE'], 6, labels=labels)\n",
        "data['QeE_cut'] = pd.qcut(data['QeE'], 6, labels=labels)\n",
        "data['QfE_cut'] = pd.qcut(data['QfE'], 6, labels=labels)\n",
        "data['QgE_cut'] = pd.qcut(data['QgE'], 6, labels=labels)\n",
        "data['QhE_cut'] = pd.qcut(data['QhE'], 6, labels=labels)\n",
        "data['QiE_cut'] = pd.qcut(data['QiE'], 6, labels=labels)\n",
        "data['QjE_cut'] = pd.qcut(data['QjE'], 6, labels=labels)\n",
        "data['QkE_cut'] = pd.qcut(data['QkE'], 6, labels=labels)\n",
        "data['QlE_cut'] = pd.qcut(data['QlE'], 6, labels=labels)\n",
        "data['QmE_cut'] = pd.qcut(data['QmE'], 6, labels=labels)\n",
        "data['QnE_cut'] = pd.qcut(data['QnE'], 6, labels=labels)\n",
        "data['QoE_cut'] = pd.qcut(data['QoE'], 6, labels=labels)\n",
        "data['QpE_cut'] = pd.qcut(data['QpE'], 6, labels=labels)\n",
        "data['QqE_cut'] = pd.qcut(data['QqE'], 6, labels=labels)\n",
        "data['QrE_cut'] = pd.qcut(data['QrE'], 6, labels=labels)\n",
        "data['QsE_cut'] = pd.qcut(data['QsE'], 6, labels=labels)\n",
        "data['QtE_cut'] = pd.qcut(data['QtE'], 6, labels=labels)"
      ],
      "execution_count": 18,
      "outputs": []
    },
    {
      "cell_type": "code",
      "metadata": {
        "id": "skP4kNttfSKg"
      },
      "source": [
        "for i in data.select_dtypes('category').columns:\n",
        "  data = pd.get_dummies(data=data, columns=[i])"
      ],
      "execution_count": 19,
      "outputs": []
    },
    {
      "cell_type": "code",
      "metadata": {
        "colab": {
          "base_uri": "https://localhost:8080/"
        },
        "id": "I_TjOj2_fUUr",
        "outputId": "f04a2a0e-10c8-49d6-b4a2-e93028500699"
      },
      "source": [
        "data.shape"
      ],
      "execution_count": 21,
      "outputs": [
        {
          "output_type": "execute_result",
          "data": {
            "text/plain": [
              "(56915, 224)"
            ]
          },
          "metadata": {
            "tags": []
          },
          "execution_count": 21
        }
      ]
    },
    {
      "cell_type": "code",
      "metadata": {
        "id": "tPvbMn6chmCv"
      },
      "source": [
        "x_train = data[data['voted'].notnull()].drop(columns=['index', 'voted'])\n",
        "y_train = 2 - data[data['voted'].notnull()]['voted']\n",
        "x_test = data[data['voted'].isnull()].drop(columns=['index', 'voted'])\n",
        "y_train = y_train.astype(np.float32)"
      ],
      "execution_count": 85,
      "outputs": []
    },
    {
      "cell_type": "code",
      "metadata": {
        "id": "8RvUnOr_h-aF"
      },
      "source": [
        "train_columns = x_train.columns\n",
        "x_train = robust_scale(x_train)\n",
        "x_test = robust_scale(x_test)"
      ],
      "execution_count": 86,
      "outputs": []
    },
    {
      "cell_type": "code",
      "metadata": {
        "id": "mtfPjd7Fi1j4"
      },
      "source": [
        "import torch\n",
        "import torch.nn as nn\n",
        "from torch.nn import functional as F\n",
        "from torch.autograd import Variable"
      ],
      "execution_count": 87,
      "outputs": []
    },
    {
      "cell_type": "code",
      "metadata": {
        "colab": {
          "base_uri": "https://localhost:8080/"
        },
        "id": "s1tS5c5JuuNn",
        "outputId": "dd1477ec-8107-4ad7-bac7-e0661931a9d1"
      },
      "source": [
        "x_train.shape"
      ],
      "execution_count": 65,
      "outputs": [
        {
          "output_type": "execute_result",
          "data": {
            "text/plain": [
              "(45532, 222)"
            ]
          },
          "metadata": {
            "tags": []
          },
          "execution_count": 65
        }
      ]
    },
    {
      "cell_type": "code",
      "metadata": {
        "colab": {
          "base_uri": "https://localhost:8080/"
        },
        "id": "4ewfKzQVi3Vd",
        "outputId": "17555f9f-aa4a-4452-c838-dfa93aceb989"
      },
      "source": [
        "class Net(nn.Module):\n",
        "  def __init__(self):\n",
        "    super(Net, self).__init__()\n",
        "    self.fc1 = nn.Linear(222, 500)\n",
        "    self.fc2 = nn.Linear(500, 100)\n",
        "    self.fc3 = nn.Linear(100, 1)\n",
        "    self.dropout = nn.Dropout(0.2)\n",
        "\n",
        "  def forward(self, x):\n",
        "    x = F.relu(self.fc1(x))\n",
        "    x = self.dropout(x)\n",
        "    x = F.relu(self.fc2(x))\n",
        "    x = self.dropout(x)\n",
        "    x = self.fc3(x)\n",
        "    return x\n",
        "model=Net()\n",
        "print(model)"
      ],
      "execution_count": 95,
      "outputs": [
        {
          "output_type": "stream",
          "text": [
            "Net(\n",
            "  (fc1): Linear(in_features=222, out_features=500, bias=True)\n",
            "  (fc2): Linear(in_features=500, out_features=100, bias=True)\n",
            "  (fc3): Linear(in_features=100, out_features=1, bias=True)\n",
            "  (dropout): Dropout(p=0.2, inplace=False)\n",
            ")\n"
          ],
          "name": "stdout"
        }
      ]
    },
    {
      "cell_type": "code",
      "metadata": {
        "id": "vqKOQAo3j3Lx"
      },
      "source": [
        "criterion = nn.CrossEntropyLoss()\n",
        "optimizer = torch.optim.SGD(model.parameters(), lr=0.01)"
      ],
      "execution_count": 89,
      "outputs": []
    },
    {
      "cell_type": "code",
      "metadata": {
        "colab": {
          "base_uri": "https://localhost:8080/"
        },
        "id": "8DgAhx4q1RDk",
        "outputId": "294f948c-d414-4302-8139-155559ec9c23"
      },
      "source": [
        "y_train"
      ],
      "execution_count": 109,
      "outputs": [
        {
          "output_type": "execute_result",
          "data": {
            "text/plain": [
              "0        0.0\n",
              "1        0.0\n",
              "2        1.0\n",
              "3        1.0\n",
              "4        1.0\n",
              "        ... \n",
              "45527    0.0\n",
              "45528    0.0\n",
              "45529    1.0\n",
              "45530    1.0\n",
              "45531    1.0\n",
              "Name: voted, Length: 45532, dtype: float32"
            ]
          },
          "metadata": {
            "tags": []
          },
          "execution_count": 109
        }
      ]
    },
    {
      "cell_type": "code",
      "metadata": {
        "colab": {
          "base_uri": "https://localhost:8080/",
          "height": 239
        },
        "id": "bI6t8ItLj_-y",
        "outputId": "5caef136-d923-415e-f0ab-7405ef4d4747"
      },
      "source": [
        "batch_size = 64\n",
        "n_epochs = 500\n",
        "batch_no = len(x_train) // batch_size\n",
        "\n",
        "DEVICE = 'cuda:0' if torch.cuda.is_available() else 'cpu'\n",
        "criterion = torch.nn.BCEWithLogitsLoss(pos_weight=torch.tensor([1.20665], device=DEVICE))\n",
        "train_loss=0\n",
        "train_loss_min=np.Inf\n",
        "\n",
        "for epoch in range(n_epochs):\n",
        "  for i in range(batch_no):\n",
        "    start = i*batch_size\n",
        "    end = start + batch_size\n",
        "    x_var = Variable(torch.FloatTensor(x_train[start:end]))\n",
        "    y_var = Variable(torch.FloatTensor(y_train[start:end]))\n",
        "\n",
        "    optimizer.zero_grad()\n",
        "    output = model(x_var).squeeze()\n",
        "    loss = criterion(output, y_var)\n",
        "    loss.backward()\n",
        "    optimizer.step()\n",
        "\n",
        "    values, labels = torch.max(output, 1)\n",
        "    num_right = np.sum(labels.data.numpy() == y_train[start:end])\n",
        "    train_loss += loss.item()*batch_size\n",
        "\n",
        "  train_loss = train_loss / len(x_train)\n",
        "  if train_loss <= train_loss_min:\n",
        "    print(\"Validation loss decreased ({:6f} ===> {:6f}). Saving the model...\".format(train_loss_min,train_loss))\n",
        "    torch.save(model.state_dict(), 'model.pt')\n",
        "    train_loss_min = train_loss\n",
        "\n",
        "  if epoch % 200 == 0:\n",
        "    print('')\n",
        "    print(\"Epoch: {} \\tTrain Loss: {} \\tTrain Accuracy: {}\".format(epoch+1, train_loss,num_right / len(y_train[start:end]) ))"
      ],
      "execution_count": 108,
      "outputs": [
        {
          "output_type": "error",
          "ename": "IndexError",
          "evalue": "ignored",
          "traceback": [
            "\u001b[0;31m---------------------------------------------------------------------------\u001b[0m",
            "\u001b[0;31mIndexError\u001b[0m                                Traceback (most recent call last)",
            "\u001b[0;32m<ipython-input-108-0901af263baf>\u001b[0m in \u001b[0;36m<module>\u001b[0;34m()\u001b[0m\n\u001b[1;32m     21\u001b[0m     \u001b[0moptimizer\u001b[0m\u001b[0;34m.\u001b[0m\u001b[0mstep\u001b[0m\u001b[0;34m(\u001b[0m\u001b[0;34m)\u001b[0m\u001b[0;34m\u001b[0m\u001b[0;34m\u001b[0m\u001b[0m\n\u001b[1;32m     22\u001b[0m \u001b[0;34m\u001b[0m\u001b[0m\n\u001b[0;32m---> 23\u001b[0;31m     \u001b[0mvalues\u001b[0m\u001b[0;34m,\u001b[0m \u001b[0mlabels\u001b[0m \u001b[0;34m=\u001b[0m \u001b[0mtorch\u001b[0m\u001b[0;34m.\u001b[0m\u001b[0mmax\u001b[0m\u001b[0;34m(\u001b[0m\u001b[0moutput\u001b[0m\u001b[0;34m,\u001b[0m \u001b[0;36m1\u001b[0m\u001b[0;34m)\u001b[0m\u001b[0;34m\u001b[0m\u001b[0;34m\u001b[0m\u001b[0m\n\u001b[0m\u001b[1;32m     24\u001b[0m     \u001b[0mnum_right\u001b[0m \u001b[0;34m=\u001b[0m \u001b[0mnp\u001b[0m\u001b[0;34m.\u001b[0m\u001b[0msum\u001b[0m\u001b[0;34m(\u001b[0m\u001b[0mlabels\u001b[0m\u001b[0;34m.\u001b[0m\u001b[0mdata\u001b[0m\u001b[0;34m.\u001b[0m\u001b[0mnumpy\u001b[0m\u001b[0;34m(\u001b[0m\u001b[0;34m)\u001b[0m \u001b[0;34m==\u001b[0m \u001b[0my_train\u001b[0m\u001b[0;34m[\u001b[0m\u001b[0mstart\u001b[0m\u001b[0;34m:\u001b[0m\u001b[0mend\u001b[0m\u001b[0;34m]\u001b[0m\u001b[0;34m)\u001b[0m\u001b[0;34m\u001b[0m\u001b[0;34m\u001b[0m\u001b[0m\n\u001b[1;32m     25\u001b[0m     \u001b[0mtrain_loss\u001b[0m \u001b[0;34m+=\u001b[0m \u001b[0mloss\u001b[0m\u001b[0;34m.\u001b[0m\u001b[0mitem\u001b[0m\u001b[0;34m(\u001b[0m\u001b[0;34m)\u001b[0m\u001b[0;34m*\u001b[0m\u001b[0mbatch_size\u001b[0m\u001b[0;34m\u001b[0m\u001b[0;34m\u001b[0m\u001b[0m\n",
            "\u001b[0;31mIndexError\u001b[0m: Dimension out of range (expected to be in range of [-1, 0], but got 1)"
          ]
        }
      ]
    },
    {
      "cell_type": "code",
      "metadata": {
        "id": "fcOfR_Jk3S_4"
      },
      "source": [
        "from sklearn.model_selection import StratifiedKFold\n",
        "import random\n",
        "from datetime import datetime\n",
        "\n",
        "import torch\n",
        "from sklearn.model_selection import StratifiedKFold\n",
        "from torch import nn, optim\n",
        "from torch.utils.data import DataLoader\n",
        "from torch.utils.data import TensorDataset\n",
        "from tqdm import tqdm"
      ],
      "execution_count": 116,
      "outputs": []
    },
    {
      "cell_type": "code",
      "metadata": {
        "colab": {
          "base_uri": "https://localhost:8080/",
          "height": 811
        },
        "id": "_7n0kUr-29Lg",
        "outputId": "3cfe1a92-9fb3-4bd2-a81b-593658b594fd"
      },
      "source": [
        "train_y_t = torch.tensor(y_train, dtype=torch.float32)\n",
        "train_x_t = torch.tensor(x_train, dtype=torch.float32)\n",
        "test_x_t = torch.tensor(x_test, dtype=torch.float32)\n",
        "train_x_t[:, :20] = (train_x_t[:, :20] - 3.) / 2.\n",
        "test_x_t[:, :20] = (test_x_t[:, :20] - 3.) / 2\n",
        "train_x_t[:, 20] = (train_x_t[:, 20] - 5.) / 4.\n",
        "test_x_t[:, 20] = (test_x_t[:, 20] - 5.) / 4.\n",
        "train_x_t[:, 21:31] = (train_x_t[:, 21:31] - 3.5) / 3.5\n",
        "test_x_t[:, 21:31] = (test_x_t[:, 21:31] - 3.5) / 3.5\n",
        "test_len = len(test_x_t)\n",
        "\n",
        "N_REPEAT = 5\n",
        "N_SKFOLD = 5\n",
        "N_EPOCH = 48\n",
        "BATCH_SIZE = 72\n",
        "LOADER_PARAM = {\n",
        "    'batch_size': BATCH_SIZE,\n",
        "    'num_workers': 4,\n",
        "    'pin_memory': True\n",
        "}\n",
        "\n",
        "prediction = np.zeros((test_len, 1), dtype=np.float32)\n",
        "\n",
        "for repeat in range(N_REPEAT):\n",
        "\n",
        "    skf, tot = StratifiedKFold(n_splits=N_SKFOLD, random_state=repeat, shuffle=True), 0.\n",
        "    for skfold, (train_idx, valid_idx) in enumerate(skf.split(x_train, y_train)):\n",
        "        train_idx, valid_idx = list(train_idx), list(valid_idx)\n",
        "        train_loader = DataLoader(TensorDataset(train_x_t[train_idx, :], train_y_t[train_idx]),\n",
        "                                  shuffle=True, drop_last=True, **LOADER_PARAM)\n",
        "        valid_loader = DataLoader(TensorDataset(train_x_t[valid_idx, :], train_y_t[valid_idx]),\n",
        "                                  shuffle=False, drop_last=False, **LOADER_PARAM)\n",
        "        test_loader = DataLoader(TensorDataset(test_x_t, torch.zeros((test_len,), dtype=torch.float32)),\n",
        "                                 shuffle=False, drop_last=False, **LOADER_PARAM)\n",
        "        model = nn.Sequential(\n",
        "            nn.Dropout(0.05),\n",
        "            nn.Linear(222, 500, bias=False),\n",
        "            nn.LeakyReLU(0.05, inplace=True),\n",
        "            nn.Dropout(0.5),\n",
        "            nn.Linear(500, 222, bias=False),\n",
        "            nn.ReLU(inplace=True),\n",
        "            nn.Linear(222, 1)\n",
        "        ).to(DEVICE)\n",
        "        criterion = torch.nn.BCEWithLogitsLoss(pos_weight=torch.tensor([1.20665], device=DEVICE))\n",
        "        optimizer = optim.AdamW(model.parameters(), lr=5e-3, weight_decay=7.8e-2)\n",
        "        scheduler = optim.lr_scheduler.CosineAnnealingWarmRestarts(\n",
        "            optimizer, T_0=N_EPOCH // 6, eta_min=4e-4)\n",
        "        prediction_t, loss_t = np.zeros((test_len, 1), dtype=np.float32), 1.\n",
        "\n",
        "        # for epoch in range(N_EPOCH):\n",
        "        for epoch in tqdm(range(N_EPOCH), desc='{:02d}/{:02d}'.format(skfold + 1, N_SKFOLD)):\n",
        "            model.train()\n",
        "            for idx, (xx, yy) in enumerate(train_loader):\n",
        "                optimizer.zero_grad() ## 최적화 준비\n",
        "                xx, yy = xx.to(DEVICE), yy.to(DEVICE)\n",
        "                pred = model(xx).squeeze() ## predict뽑아내기\n",
        "                loss = criterion(pred, yy) ## loss 뽑아내기\n",
        "                loss.backward()\n",
        "                optimizer.step() ## 최적화로 뒤로간다\n",
        "                scheduler.step(epoch + idx / len(train_loader))\n",
        "\n",
        "            with torch.no_grad():\n",
        "                model.eval()\n",
        "                running_acc, running_loss, running_count = 0, 0., 0\n",
        "                for xx, yy in valid_loader:\n",
        "                    xx, yy = xx.to(DEVICE), yy.to(DEVICE)\n",
        "                    pred = model(xx).squeeze()\n",
        "                    loss = criterion(pred, yy)\n",
        "                    running_loss += loss.item() * len(yy)\n",
        "                    running_count += len(yy)\n",
        "                    running_acc += ((torch.sigmoid(pred) > 0.5).float() == yy).sum().item()\n",
        "                # print('R{:02d} S{:02d} E{:02d} | {:6.4f}, {:5.2f}%'\n",
        "                #       .format(repeat + 1, skfold + 1, epoch + 1, running_loss / running_count,\n",
        "                #               running_acc / running_count * 100))\n",
        "\n",
        "                if running_loss / running_count < loss_t:\n",
        "                    loss_t = running_loss / running_count\n",
        "                    for idx, (xx, _) in enumerate(test_loader):\n",
        "                        xx = xx.to(DEVICE)\n",
        "                        pred = (2. - torch.sigmoid(model(xx).detach().to('cpu'))).numpy()\n",
        "                        prediction_t[BATCH_SIZE * idx:min(BATCH_SIZE * (idx + 1), len(prediction)), :] \\\n",
        "                            = pred[:, :].copy()\n",
        "        prediction[:, :] += prediction_t[:, :].copy() / (N_REPEAT * N_SKFOLD)\n",
        "        tot += loss_t\n",
        "    print('R{} -> {:6.4f}'.format(repeat + 1, tot / N_SKFOLD))"
      ],
      "execution_count": 118,
      "outputs": [
        {
          "output_type": "stream",
          "text": [
            "/usr/local/lib/python3.7/dist-packages/torch/utils/data/dataloader.py:477: UserWarning: This DataLoader will create 4 worker processes in total. Our suggested max number of worker in current system is 2, which is smaller than what this DataLoader is going to create. Please be aware that excessive worker creation might get DataLoader running slow or even freeze, lower the worker number to avoid potential slowness/freeze if necessary.\n",
            "  cpuset_checked))\n",
            "01/07: 100%|██████████| 48/48 [04:43<00:00,  5.91s/it]\n",
            "02/07: 100%|██████████| 48/48 [04:35<00:00,  5.75s/it]\n",
            "03/07: 100%|██████████| 48/48 [04:42<00:00,  5.89s/it]\n",
            "04/07: 100%|██████████| 48/48 [04:41<00:00,  5.86s/it]\n",
            "05/07: 100%|██████████| 48/48 [04:47<00:00,  5.98s/it]\n",
            "06/07: 100%|██████████| 48/48 [04:43<00:00,  5.91s/it]\n",
            "07/07: 100%|██████████| 48/48 [04:52<00:00,  6.10s/it]\n",
            "/usr/local/lib/python3.7/dist-packages/torch/utils/data/dataloader.py:477: UserWarning: This DataLoader will create 4 worker processes in total. Our suggested max number of worker in current system is 2, which is smaller than what this DataLoader is going to create. Please be aware that excessive worker creation might get DataLoader running slow or even freeze, lower the worker number to avoid potential slowness/freeze if necessary.\n",
            "  cpuset_checked))\n",
            "01/07:   0%|          | 0/48 [00:00<?, ?it/s]"
          ],
          "name": "stderr"
        },
        {
          "output_type": "stream",
          "text": [
            "R1 -> 0.6221\n"
          ],
          "name": "stdout"
        },
        {
          "output_type": "stream",
          "text": [
            "01/07: 100%|██████████| 48/48 [04:51<00:00,  6.06s/it]\n",
            "02/07: 100%|██████████| 48/48 [04:49<00:00,  6.03s/it]\n",
            "03/07: 100%|██████████| 48/48 [04:54<00:00,  6.14s/it]\n",
            "04/07: 100%|██████████| 48/48 [04:50<00:00,  6.06s/it]\n",
            "05/07: 100%|██████████| 48/48 [04:57<00:00,  6.19s/it]\n",
            "06/07: 100%|██████████| 48/48 [05:03<00:00,  6.32s/it]\n",
            "07/07: 100%|██████████| 48/48 [04:52<00:00,  6.09s/it]\n",
            "/usr/local/lib/python3.7/dist-packages/torch/utils/data/dataloader.py:477: UserWarning: This DataLoader will create 4 worker processes in total. Our suggested max number of worker in current system is 2, which is smaller than what this DataLoader is going to create. Please be aware that excessive worker creation might get DataLoader running slow or even freeze, lower the worker number to avoid potential slowness/freeze if necessary.\n",
            "  cpuset_checked))\n",
            "01/07:   0%|          | 0/48 [00:00<?, ?it/s]"
          ],
          "name": "stderr"
        },
        {
          "output_type": "stream",
          "text": [
            "R2 -> 0.6235\n"
          ],
          "name": "stdout"
        },
        {
          "output_type": "stream",
          "text": [
            "01/07:  56%|█████▋    | 27/48 [02:49<02:09,  6.17s/it]"
          ],
          "name": "stderr"
        },
        {
          "output_type": "error",
          "ename": "KeyboardInterrupt",
          "evalue": "ignored",
          "traceback": [
            "\u001b[0;31m---------------------------------------------------------------------------\u001b[0m",
            "\u001b[0;31mKeyboardInterrupt\u001b[0m                         Traceback (most recent call last)",
            "\u001b[0;32m<ipython-input-118-d99e2ee0fa8c>\u001b[0m in \u001b[0;36m<module>\u001b[0;34m()\u001b[0m\n\u001b[1;32m     57\u001b[0m                 \u001b[0mloss\u001b[0m \u001b[0;34m=\u001b[0m \u001b[0mcriterion\u001b[0m\u001b[0;34m(\u001b[0m\u001b[0mpred\u001b[0m\u001b[0;34m,\u001b[0m \u001b[0myy\u001b[0m\u001b[0;34m)\u001b[0m\u001b[0;34m\u001b[0m\u001b[0;34m\u001b[0m\u001b[0m\n\u001b[1;32m     58\u001b[0m                 \u001b[0mloss\u001b[0m\u001b[0;34m.\u001b[0m\u001b[0mbackward\u001b[0m\u001b[0;34m(\u001b[0m\u001b[0;34m)\u001b[0m\u001b[0;34m\u001b[0m\u001b[0;34m\u001b[0m\u001b[0m\n\u001b[0;32m---> 59\u001b[0;31m                 \u001b[0moptimizer\u001b[0m\u001b[0;34m.\u001b[0m\u001b[0mstep\u001b[0m\u001b[0;34m(\u001b[0m\u001b[0;34m)\u001b[0m\u001b[0;34m\u001b[0m\u001b[0;34m\u001b[0m\u001b[0m\n\u001b[0m\u001b[1;32m     60\u001b[0m                 \u001b[0mscheduler\u001b[0m\u001b[0;34m.\u001b[0m\u001b[0mstep\u001b[0m\u001b[0;34m(\u001b[0m\u001b[0mepoch\u001b[0m \u001b[0;34m+\u001b[0m \u001b[0midx\u001b[0m \u001b[0;34m/\u001b[0m \u001b[0mlen\u001b[0m\u001b[0;34m(\u001b[0m\u001b[0mtrain_loader\u001b[0m\u001b[0;34m)\u001b[0m\u001b[0;34m)\u001b[0m\u001b[0;34m\u001b[0m\u001b[0;34m\u001b[0m\u001b[0m\n\u001b[1;32m     61\u001b[0m \u001b[0;34m\u001b[0m\u001b[0m\n",
            "\u001b[0;32m/usr/local/lib/python3.7/dist-packages/torch/optim/lr_scheduler.py\u001b[0m in \u001b[0;36mwrapper\u001b[0;34m(*args, **kwargs)\u001b[0m\n\u001b[1;32m     63\u001b[0m                 \u001b[0minstance\u001b[0m\u001b[0;34m.\u001b[0m\u001b[0m_step_count\u001b[0m \u001b[0;34m+=\u001b[0m \u001b[0;36m1\u001b[0m\u001b[0;34m\u001b[0m\u001b[0;34m\u001b[0m\u001b[0m\n\u001b[1;32m     64\u001b[0m                 \u001b[0mwrapped\u001b[0m \u001b[0;34m=\u001b[0m \u001b[0mfunc\u001b[0m\u001b[0;34m.\u001b[0m\u001b[0m__get__\u001b[0m\u001b[0;34m(\u001b[0m\u001b[0minstance\u001b[0m\u001b[0;34m,\u001b[0m \u001b[0mcls\u001b[0m\u001b[0;34m)\u001b[0m\u001b[0;34m\u001b[0m\u001b[0;34m\u001b[0m\u001b[0m\n\u001b[0;32m---> 65\u001b[0;31m                 \u001b[0;32mreturn\u001b[0m \u001b[0mwrapped\u001b[0m\u001b[0;34m(\u001b[0m\u001b[0;34m*\u001b[0m\u001b[0margs\u001b[0m\u001b[0;34m,\u001b[0m \u001b[0;34m**\u001b[0m\u001b[0mkwargs\u001b[0m\u001b[0;34m)\u001b[0m\u001b[0;34m\u001b[0m\u001b[0;34m\u001b[0m\u001b[0m\n\u001b[0m\u001b[1;32m     66\u001b[0m \u001b[0;34m\u001b[0m\u001b[0m\n\u001b[1;32m     67\u001b[0m             \u001b[0;31m# Note that the returned function here is no longer a bound method,\u001b[0m\u001b[0;34m\u001b[0m\u001b[0;34m\u001b[0m\u001b[0;34m\u001b[0m\u001b[0m\n",
            "\u001b[0;32m/usr/local/lib/python3.7/dist-packages/torch/optim/optimizer.py\u001b[0m in \u001b[0;36mwrapper\u001b[0;34m(*args, **kwargs)\u001b[0m\n\u001b[1;32m     87\u001b[0m                 \u001b[0mprofile_name\u001b[0m \u001b[0;34m=\u001b[0m \u001b[0;34m\"Optimizer.step#{}.step\"\u001b[0m\u001b[0;34m.\u001b[0m\u001b[0mformat\u001b[0m\u001b[0;34m(\u001b[0m\u001b[0mobj\u001b[0m\u001b[0;34m.\u001b[0m\u001b[0m__class__\u001b[0m\u001b[0;34m.\u001b[0m\u001b[0m__name__\u001b[0m\u001b[0;34m)\u001b[0m\u001b[0;34m\u001b[0m\u001b[0;34m\u001b[0m\u001b[0m\n\u001b[1;32m     88\u001b[0m                 \u001b[0;32mwith\u001b[0m \u001b[0mtorch\u001b[0m\u001b[0;34m.\u001b[0m\u001b[0mautograd\u001b[0m\u001b[0;34m.\u001b[0m\u001b[0mprofiler\u001b[0m\u001b[0;34m.\u001b[0m\u001b[0mrecord_function\u001b[0m\u001b[0;34m(\u001b[0m\u001b[0mprofile_name\u001b[0m\u001b[0;34m)\u001b[0m\u001b[0;34m:\u001b[0m\u001b[0;34m\u001b[0m\u001b[0;34m\u001b[0m\u001b[0m\n\u001b[0;32m---> 89\u001b[0;31m                     \u001b[0;32mreturn\u001b[0m \u001b[0mfunc\u001b[0m\u001b[0;34m(\u001b[0m\u001b[0;34m*\u001b[0m\u001b[0margs\u001b[0m\u001b[0;34m,\u001b[0m \u001b[0;34m**\u001b[0m\u001b[0mkwargs\u001b[0m\u001b[0;34m)\u001b[0m\u001b[0;34m\u001b[0m\u001b[0;34m\u001b[0m\u001b[0m\n\u001b[0m\u001b[1;32m     90\u001b[0m             \u001b[0;32mreturn\u001b[0m \u001b[0mwrapper\u001b[0m\u001b[0;34m\u001b[0m\u001b[0;34m\u001b[0m\u001b[0m\n\u001b[1;32m     91\u001b[0m \u001b[0;34m\u001b[0m\u001b[0m\n",
            "\u001b[0;32m/usr/local/lib/python3.7/dist-packages/torch/autograd/grad_mode.py\u001b[0m in \u001b[0;36mdecorate_context\u001b[0;34m(*args, **kwargs)\u001b[0m\n\u001b[1;32m     25\u001b[0m         \u001b[0;32mdef\u001b[0m \u001b[0mdecorate_context\u001b[0m\u001b[0;34m(\u001b[0m\u001b[0;34m*\u001b[0m\u001b[0margs\u001b[0m\u001b[0;34m,\u001b[0m \u001b[0;34m**\u001b[0m\u001b[0mkwargs\u001b[0m\u001b[0;34m)\u001b[0m\u001b[0;34m:\u001b[0m\u001b[0;34m\u001b[0m\u001b[0;34m\u001b[0m\u001b[0m\n\u001b[1;32m     26\u001b[0m             \u001b[0;32mwith\u001b[0m \u001b[0mself\u001b[0m\u001b[0;34m.\u001b[0m\u001b[0m__class__\u001b[0m\u001b[0;34m(\u001b[0m\u001b[0;34m)\u001b[0m\u001b[0;34m:\u001b[0m\u001b[0;34m\u001b[0m\u001b[0;34m\u001b[0m\u001b[0m\n\u001b[0;32m---> 27\u001b[0;31m                 \u001b[0;32mreturn\u001b[0m \u001b[0mfunc\u001b[0m\u001b[0;34m(\u001b[0m\u001b[0;34m*\u001b[0m\u001b[0margs\u001b[0m\u001b[0;34m,\u001b[0m \u001b[0;34m**\u001b[0m\u001b[0mkwargs\u001b[0m\u001b[0;34m)\u001b[0m\u001b[0;34m\u001b[0m\u001b[0;34m\u001b[0m\u001b[0m\n\u001b[0m\u001b[1;32m     28\u001b[0m         \u001b[0;32mreturn\u001b[0m \u001b[0mcast\u001b[0m\u001b[0;34m(\u001b[0m\u001b[0mF\u001b[0m\u001b[0;34m,\u001b[0m \u001b[0mdecorate_context\u001b[0m\u001b[0;34m)\u001b[0m\u001b[0;34m\u001b[0m\u001b[0;34m\u001b[0m\u001b[0m\n\u001b[1;32m     29\u001b[0m \u001b[0;34m\u001b[0m\u001b[0m\n",
            "\u001b[0;32m/usr/local/lib/python3.7/dist-packages/torch/optim/adamw.py\u001b[0m in \u001b[0;36mstep\u001b[0;34m(self, closure)\u001b[0m\n\u001b[1;32m    119\u001b[0m                     \u001b[0mgroup\u001b[0m\u001b[0;34m[\u001b[0m\u001b[0;34m'lr'\u001b[0m\u001b[0;34m]\u001b[0m\u001b[0;34m,\u001b[0m\u001b[0;34m\u001b[0m\u001b[0;34m\u001b[0m\u001b[0m\n\u001b[1;32m    120\u001b[0m                     \u001b[0mgroup\u001b[0m\u001b[0;34m[\u001b[0m\u001b[0;34m'weight_decay'\u001b[0m\u001b[0;34m]\u001b[0m\u001b[0;34m,\u001b[0m\u001b[0;34m\u001b[0m\u001b[0;34m\u001b[0m\u001b[0m\n\u001b[0;32m--> 121\u001b[0;31m                     group['eps'])\n\u001b[0m\u001b[1;32m    122\u001b[0m \u001b[0;34m\u001b[0m\u001b[0m\n\u001b[1;32m    123\u001b[0m         \u001b[0;32mreturn\u001b[0m \u001b[0mloss\u001b[0m\u001b[0;34m\u001b[0m\u001b[0;34m\u001b[0m\u001b[0m\n",
            "\u001b[0;32m/usr/local/lib/python3.7/dist-packages/torch/optim/_functional.py\u001b[0m in \u001b[0;36madamw\u001b[0;34m(params, grads, exp_avgs, exp_avg_sqs, max_exp_avg_sqs, state_steps, amsgrad, beta1, beta2, lr, weight_decay, eps)\u001b[0m\n\u001b[1;32m    127\u001b[0m         \u001b[0;31m# Decay the first and second moment running average coefficient\u001b[0m\u001b[0;34m\u001b[0m\u001b[0;34m\u001b[0m\u001b[0;34m\u001b[0m\u001b[0m\n\u001b[1;32m    128\u001b[0m         \u001b[0mexp_avg\u001b[0m\u001b[0;34m.\u001b[0m\u001b[0mmul_\u001b[0m\u001b[0;34m(\u001b[0m\u001b[0mbeta1\u001b[0m\u001b[0;34m)\u001b[0m\u001b[0;34m.\u001b[0m\u001b[0madd_\u001b[0m\u001b[0;34m(\u001b[0m\u001b[0mgrad\u001b[0m\u001b[0;34m,\u001b[0m \u001b[0malpha\u001b[0m\u001b[0;34m=\u001b[0m\u001b[0;36m1\u001b[0m \u001b[0;34m-\u001b[0m \u001b[0mbeta1\u001b[0m\u001b[0;34m)\u001b[0m\u001b[0;34m\u001b[0m\u001b[0;34m\u001b[0m\u001b[0m\n\u001b[0;32m--> 129\u001b[0;31m         \u001b[0mexp_avg_sq\u001b[0m\u001b[0;34m.\u001b[0m\u001b[0mmul_\u001b[0m\u001b[0;34m(\u001b[0m\u001b[0mbeta2\u001b[0m\u001b[0;34m)\u001b[0m\u001b[0;34m.\u001b[0m\u001b[0maddcmul_\u001b[0m\u001b[0;34m(\u001b[0m\u001b[0mgrad\u001b[0m\u001b[0;34m,\u001b[0m \u001b[0mgrad\u001b[0m\u001b[0;34m,\u001b[0m \u001b[0mvalue\u001b[0m\u001b[0;34m=\u001b[0m\u001b[0;36m1\u001b[0m \u001b[0;34m-\u001b[0m \u001b[0mbeta2\u001b[0m\u001b[0;34m)\u001b[0m\u001b[0;34m\u001b[0m\u001b[0;34m\u001b[0m\u001b[0m\n\u001b[0m\u001b[1;32m    130\u001b[0m         \u001b[0;32mif\u001b[0m \u001b[0mamsgrad\u001b[0m\u001b[0;34m:\u001b[0m\u001b[0;34m\u001b[0m\u001b[0;34m\u001b[0m\u001b[0m\n\u001b[1;32m    131\u001b[0m             \u001b[0;31m# Maintains the maximum of all 2nd moment running avg. till now\u001b[0m\u001b[0;34m\u001b[0m\u001b[0;34m\u001b[0m\u001b[0;34m\u001b[0m\u001b[0m\n",
            "\u001b[0;31mKeyboardInterrupt\u001b[0m: "
          ]
        }
      ]
    },
    {
      "cell_type": "code",
      "metadata": {
        "id": "59NTrDCBHvmy"
      },
      "source": [
        "# 너무 오래걸려서 오늘 다 못돌림 내일 하루종일 돌리기"
      ],
      "execution_count": null,
      "outputs": []
    }
  ]
}