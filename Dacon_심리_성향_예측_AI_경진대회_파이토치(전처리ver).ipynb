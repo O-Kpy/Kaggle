{
  "nbformat": 4,
  "nbformat_minor": 0,
  "metadata": {
    "colab": {
      "name": "Dacon_심리 성향 예측 AI 경진대회_파이토치(전처리ver).ipynb",
      "provenance": [],
      "mount_file_id": "1sJw9HDnnKysMNwn7dz8uX7zBKR6HCHiK",
      "authorship_tag": "ABX9TyOffCGDFjPwxWAgDXqBExHX",
      "include_colab_link": true
    },
    "kernelspec": {
      "name": "python3",
      "display_name": "Python 3"
    },
    "language_info": {
      "name": "python"
    },
    "accelerator": "GPU"
  },
  "cells": [
    {
      "cell_type": "markdown",
      "metadata": {
        "id": "view-in-github",
        "colab_type": "text"
      },
      "source": [
        "<a href=\"https://colab.research.google.com/github/O-Kpy/Kaggle/blob/main/Dacon_%EC%8B%AC%EB%A6%AC_%EC%84%B1%ED%96%A5_%EC%98%88%EC%B8%A1_AI_%EA%B2%BD%EC%A7%84%EB%8C%80%ED%9A%8C_%ED%8C%8C%EC%9D%B4%ED%86%A0%EC%B9%98(%EC%A0%84%EC%B2%98%EB%A6%ACver).ipynb\" target=\"_parent\"><img src=\"https://colab.research.google.com/assets/colab-badge.svg\" alt=\"Open In Colab\"/></a>"
      ]
    },
    {
      "cell_type": "code",
      "metadata": {
        "id": "vjx9dVMWdACb"
      },
      "source": [
        "import pandas as pd\n",
        "import numpy as np\n",
        "import matplotlib.pyplot as plt\n",
        "%matplotlib inline\n",
        "import seaborn as sns\n",
        "sns.set_style('whitegrid')\n",
        "from sklearn.pipeline import Pipeline\n",
        "from sklearn.preprocessing import LabelEncoder, robust_scale"
      ],
      "execution_count": 32,
      "outputs": []
    },
    {
      "cell_type": "code",
      "metadata": {
        "colab": {
          "base_uri": "https://localhost:8080/"
        },
        "id": "QtwM6nLyqHnx",
        "outputId": "66c15fa4-4242-49e5-a3d9-e3788da24e98"
      },
      "source": [
        "print(torch.__version__)"
      ],
      "execution_count": null,
      "outputs": [
        {
          "output_type": "stream",
          "text": [
            "1.8.1+cu101\n"
          ],
          "name": "stdout"
        }
      ]
    },
    {
      "cell_type": "code",
      "metadata": {
        "colab": {
          "base_uri": "https://localhost:8080/"
        },
        "id": "H4sVX-etdkrk",
        "outputId": "3e9a5299-83bb-475c-d2f7-22e4647db793"
      },
      "source": [
        "train = pd.read_csv('/content/drive/MyDrive/dataset/Dacon/연습/심리 성향 예측 AI 경진대회_train.csv')\n",
        "test = pd.read_csv('/content/drive/MyDrive/dataset/Dacon/연습/심리 성향 예측 AI 경진대회_test_x.csv')\n",
        "print(train.shape, test.shape)"
      ],
      "execution_count": 46,
      "outputs": [
        {
          "output_type": "stream",
          "text": [
            "(45532, 78) (11383, 77)\n"
          ],
          "name": "stdout"
        }
      ]
    },
    {
      "cell_type": "code",
      "metadata": {
        "id": "zQW5b-BHdzg6"
      },
      "source": [
        "data = pd.concat([train, test])"
      ],
      "execution_count": 34,
      "outputs": []
    },
    {
      "cell_type": "code",
      "metadata": {
        "id": "g966wKMLd6kv"
      },
      "source": [
        "for i in train.select_dtypes('object').columns:\n",
        "  train = pd.get_dummies(data=train, columns=[i])\n",
        "\n",
        "for i in test.select_dtypes('object').columns:\n",
        "  test = pd.get_dummies(data=test, columns=[i])"
      ],
      "execution_count": 49,
      "outputs": []
    },
    {
      "cell_type": "code",
      "metadata": {
        "id": "MyITzrISekLr"
      },
      "source": [
        "train['moderate tendencies'] = train['tp06'] + train['tp07'] + train['tp08'] + train['tp09'] + train['tp10']\n",
        "test['moderate tendencies'] = test['tp06'] + test['tp07'] + test['tp08'] + test['tp09'] + test['tp10']"
      ],
      "execution_count": 50,
      "outputs": []
    },
    {
      "cell_type": "code",
      "metadata": {
        "id": "sG8oYCADe0mv"
      },
      "source": [
        "train['radical tendencies'] = train['tp01'] + train['tp02']\t+ train['tp03'] + train['tp04'] + train['tp05']\n",
        "test['radical tendencies'] = test['tp01'] + test['tp02']\t+ test['tp03'] + test['tp04'] + test['tp05']"
      ],
      "execution_count": 51,
      "outputs": []
    },
    {
      "cell_type": "code",
      "metadata": {
        "id": "NraByN1dV_2z"
      },
      "source": [
        "train_columns = [c for c in train.columns if c.startswith('Q')]\n",
        "train = train.drop(columns=train_columns)\n",
        "\n",
        "test_columns = [c for c in test.columns if c.startswith('Q')]\n",
        "test = test.drop(columns=test_columns)"
      ],
      "execution_count": 52,
      "outputs": []
    },
    {
      "cell_type": "code",
      "metadata": {
        "id": "_gtmIIs9e17D",
        "cellView": "form"
      },
      "source": [
        "#@title\n",
        "labels = ['a', 'b', 'c', 'd', 'e', 'f']\n",
        "data['QaE_cut'] = pd.qcut(data['QaE'], 6, labels=labels)\n",
        "data['QbE_cut'] = pd.qcut(data['QbE'], 6, labels=labels)\n",
        "data['QcE_cut'] = pd.qcut(data['QcE'], 6, labels=labels)\n",
        "data['QdE_cut'] = pd.qcut(data['QdE'], 6, labels=labels)\n",
        "data['QeE_cut'] = pd.qcut(data['QeE'], 6, labels=labels)\n",
        "data['QfE_cut'] = pd.qcut(data['QfE'], 6, labels=labels)\n",
        "data['QgE_cut'] = pd.qcut(data['QgE'], 6, labels=labels)\n",
        "data['QhE_cut'] = pd.qcut(data['QhE'], 6, labels=labels)\n",
        "data['QiE_cut'] = pd.qcut(data['QiE'], 6, labels=labels)\n",
        "data['QjE_cut'] = pd.qcut(data['QjE'], 6, labels=labels)\n",
        "data['QkE_cut'] = pd.qcut(data['QkE'], 6, labels=labels)\n",
        "data['QlE_cut'] = pd.qcut(data['QlE'], 6, labels=labels)\n",
        "data['QmE_cut'] = pd.qcut(data['QmE'], 6, labels=labels)\n",
        "data['QnE_cut'] = pd.qcut(data['QnE'], 6, labels=labels)\n",
        "data['QoE_cut'] = pd.qcut(data['QoE'], 6, labels=labels)\n",
        "data['QpE_cut'] = pd.qcut(data['QpE'], 6, labels=labels)\n",
        "data['QqE_cut'] = pd.qcut(data['QqE'], 6, labels=labels)\n",
        "data['QrE_cut'] = pd.qcut(data['QrE'], 6, labels=labels)\n",
        "data['QsE_cut'] = pd.qcut(data['QsE'], 6, labels=labels)\n",
        "data['QtE_cut'] = pd.qcut(data['QtE'], 6, labels=labels)"
      ],
      "execution_count": 26,
      "outputs": []
    },
    {
      "cell_type": "code",
      "metadata": {
        "id": "u2emPScxHbVN"
      },
      "source": [
        "train = train.drop(index=train[train['familysize'] > 50].index)\n",
        "test = test.drop(index=test[test['familysize'] > 50].index)"
      ],
      "execution_count": 40,
      "outputs": []
    },
    {
      "cell_type": "code",
      "metadata": {
        "colab": {
          "base_uri": "https://localhost:8080/"
        },
        "id": "I_TjOj2_fUUr",
        "outputId": "41c906a8-0901-4e5d-aec8-d9be296cb8f3"
      },
      "source": [
        "data.shape"
      ],
      "execution_count": 41,
      "outputs": [
        {
          "output_type": "execute_result",
          "data": {
            "text/plain": [
              "(56911, 64)"
            ]
          },
          "metadata": {
            "tags": []
          },
          "execution_count": 41
        }
      ]
    },
    {
      "cell_type": "code",
      "metadata": {
        "id": "kPczusLBWe5M"
      },
      "source": [
        "train_agg = train.drop(columns='voted').groupby('index').agg(['min', 'max', 'sum', 'count', 'median'])\n",
        "test_agg = test.groupby('index').agg(['min', 'max', 'sum', 'count', 'median'])\n",
        "\n",
        "train_agg_columns = []\n",
        "test_agg_columns = []\n",
        "for i in train_agg.columns.levels[0]:\n",
        "  for j in train_agg.columns.levels[1]:\n",
        "    train_agg_columns.append(f'{i}-{j}')\n",
        "\n",
        "for a in test_agg.columns.levels[0]:\n",
        "  for b in test_agg.columns.levels[1]:\n",
        "    test_agg_columns.append(f'{a}-{b}')\n",
        "\n",
        "train_agg.columns = train_agg_columns\n",
        "test_agg.columns = test_agg_columns"
      ],
      "execution_count": 60,
      "outputs": []
    },
    {
      "cell_type": "code",
      "metadata": {
        "colab": {
          "base_uri": "https://localhost:8080/"
        },
        "id": "0WzFTpc2Zi_N",
        "outputId": "74e24d42-5ea3-4393-84e1-beeeebe37359"
      },
      "source": [
        "corr_matrix_train = train_agg.corr()\n",
        "upper_train = corr_matrix_train.where(np.triu(np.ones(corr_matrix_train.shape), k=1).astype(np.bool))\n",
        "to_drop_train = [c for c in upper_train.columns if any(abs(upper_train[c])>0.90)]\n",
        "\n",
        "corr_matrix_test = test_agg.corr()\n",
        "upper_test = corr_matrix_test.where(np.triu(np.ones(corr_matrix_test.shape), k=1).astype(np.bool))\n",
        "to_drop_test = [c for c in upper_test.columns if any(abs(upper_test[c])>0.90)]\n",
        "\n",
        "print(f'train_agg whole columns:{len(train_agg.columns)}, train to drop columns:{len(to_drop_train)} and test_agg whole columns:{len(test_agg.columns)}, test to drop columns:{len(to_drop_test)}')"
      ],
      "execution_count": 68,
      "outputs": [
        {
          "output_type": "stream",
          "text": [
            "train_agg whole columns:310, train to drop columns:187 and test_agg whole columns:310, test to drop columns:187\n"
          ],
          "name": "stdout"
        }
      ]
    },
    {
      "cell_type": "code",
      "metadata": {
        "id": "XXrqH6Tia0AI"
      },
      "source": [
        "train_final = train.merge(train_agg.drop(columns=to_drop_train), how='left', on='index')\n",
        "test_final = test.merge(test_agg.drop(columns=to_drop_test), how='left', on='index')"
      ],
      "execution_count": 69,
      "outputs": []
    },
    {
      "cell_type": "code",
      "metadata": {
        "id": "tPvbMn6chmCv"
      },
      "source": [
        "x_train = train_final.drop(columns=['index', 'voted'])\n",
        "y_train = 2 - train_final['voted']\n",
        "x_test = test_final.drop(columns=['index'])\n",
        "y_train = y_train.astype(np.float32)"
      ],
      "execution_count": 77,
      "outputs": []
    },
    {
      "cell_type": "code",
      "metadata": {
        "id": "8RvUnOr_h-aF"
      },
      "source": [
        "train_columns = x_train.columns\n",
        "x_train = robust_scale(x_train)\n",
        "x_test = robust_scale(x_test)"
      ],
      "execution_count": 78,
      "outputs": []
    },
    {
      "cell_type": "code",
      "metadata": {
        "id": "mtfPjd7Fi1j4"
      },
      "source": [
        "import torch\n",
        "import torch.nn as nn\n",
        "from torch.nn import functional as F\n",
        "from torch.autograd import Variable"
      ],
      "execution_count": 79,
      "outputs": []
    },
    {
      "cell_type": "code",
      "metadata": {
        "colab": {
          "base_uri": "https://localhost:8080/"
        },
        "id": "4ewfKzQVi3Vd",
        "outputId": "17555f9f-aa4a-4452-c838-dfa93aceb989"
      },
      "source": [
        "class Net(nn.Module):\n",
        "  def __init__(self):\n",
        "    super(Net, self).__init__()\n",
        "    self.fc1 = nn.Linear(222, 500)\n",
        "    self.fc2 = nn.Linear(500, 100)\n",
        "    self.fc3 = nn.Linear(100, 1)\n",
        "    self.dropout = nn.Dropout(0.2)\n",
        "\n",
        "  def forward(self, x):\n",
        "    x = F.relu(self.fc1(x))\n",
        "    x = self.dropout(x)\n",
        "    x = F.relu(self.fc2(x))\n",
        "    x = self.dropout(x)\n",
        "    x = self.fc3(x)\n",
        "    return x\n",
        "model=Net()\n",
        "print(model)"
      ],
      "execution_count": null,
      "outputs": [
        {
          "output_type": "stream",
          "text": [
            "Net(\n",
            "  (fc1): Linear(in_features=222, out_features=500, bias=True)\n",
            "  (fc2): Linear(in_features=500, out_features=100, bias=True)\n",
            "  (fc3): Linear(in_features=100, out_features=1, bias=True)\n",
            "  (dropout): Dropout(p=0.2, inplace=False)\n",
            ")\n"
          ],
          "name": "stdout"
        }
      ]
    },
    {
      "cell_type": "code",
      "metadata": {
        "id": "fcOfR_Jk3S_4"
      },
      "source": [
        "from sklearn.model_selection import StratifiedKFold\n",
        "import random\n",
        "from datetime import datetime\n",
        "\n",
        "import torch\n",
        "from torch import nn, optim\n",
        "from torch.utils.data import DataLoader\n",
        "from torch.utils.data import TensorDataset\n",
        "from tqdm import tqdm"
      ],
      "execution_count": 15,
      "outputs": []
    },
    {
      "cell_type": "code",
      "metadata": {
        "id": "glLgEuKlpbet"
      },
      "source": [
        "train_y_t = torch.tensor(y_train, dtype=torch.float32)\n",
        "train_x_t = torch.tensor(x_train, dtype=torch.float32)\n",
        "test_x_t = torch.tensor(x_test, dtype=torch.float32)\n",
        "\n",
        "test_len = len(test_x_t)"
      ],
      "execution_count": 81,
      "outputs": []
    },
    {
      "cell_type": "code",
      "metadata": {
        "id": "vIj-BHg2pfho"
      },
      "source": [
        "train_x_t[:, :20] = (train_x_t[:, :20] - 3.) / 2.\n",
        "test_x_t[:, :20] = (test_x_t[:, :20] - 3.) / 2\n",
        "train_x_t[:, 20] = (train_x_t[:, 20] - 5.) / 4.\n",
        "test_x_t[:, 20] = (test_x_t[:, 20] - 5.) / 4.\n",
        "train_x_t[:, 21:31] = (train_x_t[:, 21:31] - 3.5) / 3.5\n",
        "test_x_t[:, 21:31] = (test_x_t[:, 21:31] - 3.5) / 3.5"
      ],
      "execution_count": 17,
      "outputs": []
    },
    {
      "cell_type": "code",
      "metadata": {
        "colab": {
          "base_uri": "https://localhost:8080/"
        },
        "id": "qeX1WAdIcOpD",
        "outputId": "87eb65c4-c694-4f43-812d-683ab32fa5a8"
      },
      "source": [
        "x_train.shape"
      ],
      "execution_count": 83,
      "outputs": [
        {
          "output_type": "execute_result",
          "data": {
            "text/plain": [
              "(45532, 185)"
            ]
          },
          "metadata": {
            "tags": []
          },
          "execution_count": 83
        }
      ]
    },
    {
      "cell_type": "code",
      "metadata": {
        "colab": {
          "base_uri": "https://localhost:8080/"
        },
        "id": "_7n0kUr-29Lg",
        "outputId": "633d8d37-55b2-4387-8b9b-a4a2a970bf32"
      },
      "source": [
        "N_REPEAT = 5\n",
        "N_SKFOLD = 7\n",
        "N_EPOCH = 48\n",
        "BATCH_SIZE = 72\n",
        "LOADER_PARAM = {\n",
        "    'batch_size': BATCH_SIZE,\n",
        "    'num_workers': 4,\n",
        "    'pin_memory': True\n",
        "}\n",
        "\n",
        "DEVICE = 'cuda:0' if torch.cuda.is_available() else 'cpu'\n",
        "prediction = np.zeros((test_len, 1), dtype=np.float32)\n",
        "\n",
        "for repeat in range(N_REPEAT):\n",
        "\n",
        "    skf, tot = StratifiedKFold(n_splits=N_SKFOLD, random_state=repeat, shuffle=True), 0.\n",
        "    for skfold, (train_idx, valid_idx) in enumerate(skf.split(x_train, y_train)):\n",
        "        train_idx, valid_idx = list(train_idx), list(valid_idx)\n",
        "        train_loader = DataLoader(TensorDataset(train_x_t[train_idx, :], train_y_t[train_idx]),\n",
        "                                  shuffle=True, drop_last=True, **LOADER_PARAM)\n",
        "        valid_loader = DataLoader(TensorDataset(train_x_t[valid_idx, :], train_y_t[valid_idx]),\n",
        "                                  shuffle=False, drop_last=False, **LOADER_PARAM)\n",
        "        test_loader = DataLoader(TensorDataset(test_x_t, torch.zeros((test_len,), dtype=torch.float32)),\n",
        "                                 shuffle=False, drop_last=False, **LOADER_PARAM)\n",
        "        model = nn.Sequential(\n",
        "            nn.Dropout(0.05),\n",
        "            nn.Linear(185, 400, bias=False),\n",
        "            nn.LeakyReLU(0.05, inplace=True),\n",
        "            nn.Dropout(0.5),\n",
        "            nn.Linear(400, 222, bias=False),\n",
        "            nn.ReLU(inplace=True),\n",
        "            nn.Linear(222, 1)\n",
        "        ).to(DEVICE)\n",
        "        criterion = torch.nn.BCEWithLogitsLoss(pos_weight=torch.tensor([1.20665], device=DEVICE))\n",
        "        optimizer = optim.AdamW(model.parameters(), lr=5e-3, weight_decay=7.8e-2)\n",
        "        scheduler = optim.lr_scheduler.CosineAnnealingWarmRestarts(\n",
        "            optimizer, T_0=N_EPOCH // 6, eta_min=4e-4)\n",
        "        prediction_t, loss_t = np.zeros((test_len, 1), dtype=np.float32), 1.\n",
        "\n",
        "        # for epoch in range(N_EPOCH):\n",
        "        for epoch in tqdm(range(N_EPOCH), desc='{:02d}/{:02d}'.format(skfold + 1, N_SKFOLD)):\n",
        "            model.train()\n",
        "            for idx, (xx, yy) in enumerate(train_loader):\n",
        "                optimizer.zero_grad() ## 최적화 준비\n",
        "                xx, yy = xx.to(DEVICE), yy.to(DEVICE)\n",
        "                pred = model(xx).squeeze() ## predict뽑아내기\n",
        "                loss = criterion(pred, yy) ## loss 뽑아내기\n",
        "                loss.backward()\n",
        "                optimizer.step() ## 최적화로 뒤로간다\n",
        "                scheduler.step(epoch + idx / len(train_loader))\n",
        "\n",
        "            with torch.no_grad():\n",
        "                model.eval()\n",
        "                running_acc, running_loss, running_count = 0, 0., 0\n",
        "                for xx, yy in valid_loader:\n",
        "                    xx, yy = xx.to(DEVICE), yy.to(DEVICE)\n",
        "                    pred = model(xx).squeeze()\n",
        "                    loss = criterion(pred, yy)\n",
        "                    running_loss += loss.item() * len(yy)\n",
        "                    running_count += len(yy)\n",
        "                    running_acc += ((torch.sigmoid(pred) > 0.5).float() == yy).sum().item()\n",
        "                # print('R{:02d} S{:02d} E{:02d} | {:6.4f}, {:5.2f}%'\n",
        "                #       .format(repeat + 1, skfold + 1, epoch + 1, running_loss / running_count,\n",
        "                #               running_acc / running_count * 100))\n",
        "\n",
        "                if running_loss / running_count < loss_t:\n",
        "                    loss_t = running_loss / running_count\n",
        "                    for idx, (xx, _) in enumerate(test_loader):\n",
        "                        xx = xx.to(DEVICE)\n",
        "                        pred = (2. - torch.sigmoid(model(xx).detach().to('cpu'))).numpy()\n",
        "                        prediction_t[BATCH_SIZE * idx:min(BATCH_SIZE * (idx + 1), len(prediction)), :] \\\n",
        "                            = pred[:, :].copy()\n",
        "        prediction[:, :] += prediction_t[:, :].copy() / (N_REPEAT * N_SKFOLD)\n",
        "        tot += loss_t\n",
        "    print('R{} -> {:6.4f}'.format(repeat + 1, tot / N_SKFOLD))"
      ],
      "execution_count": 84,
      "outputs": [
        {
          "output_type": "stream",
          "text": [
            "/usr/local/lib/python3.7/dist-packages/torch/utils/data/dataloader.py:477: UserWarning: This DataLoader will create 4 worker processes in total. Our suggested max number of worker in current system is 2, which is smaller than what this DataLoader is going to create. Please be aware that excessive worker creation might get DataLoader running slow or even freeze, lower the worker number to avoid potential slowness/freeze if necessary.\n",
            "  cpuset_checked))\n",
            "01/07: 100%|██████████| 48/48 [03:24<00:00,  4.25s/it]\n",
            "02/07: 100%|██████████| 48/48 [03:34<00:00,  4.48s/it]\n",
            "03/07: 100%|██████████| 48/48 [03:20<00:00,  4.17s/it]\n",
            "04/07: 100%|██████████| 48/48 [03:20<00:00,  4.18s/it]\n",
            "05/07: 100%|██████████| 48/48 [03:35<00:00,  4.49s/it]\n",
            "06/07: 100%|██████████| 48/48 [03:36<00:00,  4.52s/it]\n",
            "07/07: 100%|██████████| 48/48 [03:29<00:00,  4.37s/it]\n",
            "/usr/local/lib/python3.7/dist-packages/torch/utils/data/dataloader.py:477: UserWarning: This DataLoader will create 4 worker processes in total. Our suggested max number of worker in current system is 2, which is smaller than what this DataLoader is going to create. Please be aware that excessive worker creation might get DataLoader running slow or even freeze, lower the worker number to avoid potential slowness/freeze if necessary.\n",
            "  cpuset_checked))\n",
            "01/07:   0%|          | 0/48 [00:00<?, ?it/s]"
          ],
          "name": "stderr"
        },
        {
          "output_type": "stream",
          "text": [
            "R1 -> 0.6119\n"
          ],
          "name": "stdout"
        },
        {
          "output_type": "stream",
          "text": [
            "01/07: 100%|██████████| 48/48 [03:37<00:00,  4.52s/it]\n",
            "02/07: 100%|██████████| 48/48 [03:50<00:00,  4.80s/it]\n",
            "03/07: 100%|██████████| 48/48 [03:50<00:00,  4.79s/it]\n",
            "04/07: 100%|██████████| 48/48 [03:33<00:00,  4.45s/it]\n",
            "05/07: 100%|██████████| 48/48 [03:43<00:00,  4.65s/it]\n",
            "06/07: 100%|██████████| 48/48 [03:58<00:00,  4.97s/it]\n",
            "07/07: 100%|██████████| 48/48 [03:49<00:00,  4.78s/it]\n",
            "/usr/local/lib/python3.7/dist-packages/torch/utils/data/dataloader.py:477: UserWarning: This DataLoader will create 4 worker processes in total. Our suggested max number of worker in current system is 2, which is smaller than what this DataLoader is going to create. Please be aware that excessive worker creation might get DataLoader running slow or even freeze, lower the worker number to avoid potential slowness/freeze if necessary.\n",
            "  cpuset_checked))\n",
            "01/07:   0%|          | 0/48 [00:00<?, ?it/s]"
          ],
          "name": "stderr"
        },
        {
          "output_type": "stream",
          "text": [
            "R2 -> 0.6125\n"
          ],
          "name": "stdout"
        },
        {
          "output_type": "stream",
          "text": [
            "01/07: 100%|██████████| 48/48 [03:37<00:00,  4.53s/it]\n",
            "02/07: 100%|██████████| 48/48 [03:46<00:00,  4.72s/it]\n",
            "03/07: 100%|██████████| 48/48 [03:58<00:00,  4.97s/it]\n",
            "04/07: 100%|██████████| 48/48 [03:56<00:00,  4.94s/it]\n",
            "05/07: 100%|██████████| 48/48 [03:46<00:00,  4.71s/it]\n",
            "06/07: 100%|██████████| 48/48 [03:42<00:00,  4.64s/it]\n",
            "07/07: 100%|██████████| 48/48 [04:08<00:00,  5.18s/it]\n",
            "/usr/local/lib/python3.7/dist-packages/torch/utils/data/dataloader.py:477: UserWarning: This DataLoader will create 4 worker processes in total. Our suggested max number of worker in current system is 2, which is smaller than what this DataLoader is going to create. Please be aware that excessive worker creation might get DataLoader running slow or even freeze, lower the worker number to avoid potential slowness/freeze if necessary.\n",
            "  cpuset_checked))\n",
            "01/07:   0%|          | 0/48 [00:00<?, ?it/s]"
          ],
          "name": "stderr"
        },
        {
          "output_type": "stream",
          "text": [
            "R3 -> 0.6125\n"
          ],
          "name": "stdout"
        },
        {
          "output_type": "stream",
          "text": [
            "01/07: 100%|██████████| 48/48 [04:04<00:00,  5.09s/it]\n",
            "02/07: 100%|██████████| 48/48 [04:01<00:00,  5.04s/it]\n",
            "03/07: 100%|██████████| 48/48 [03:49<00:00,  4.79s/it]\n",
            "04/07: 100%|██████████| 48/48 [03:58<00:00,  4.97s/it]\n",
            "05/07: 100%|██████████| 48/48 [04:11<00:00,  5.24s/it]\n",
            "06/07: 100%|██████████| 48/48 [04:12<00:00,  5.25s/it]\n",
            "07/07: 100%|██████████| 48/48 [04:10<00:00,  5.21s/it]\n",
            "/usr/local/lib/python3.7/dist-packages/torch/utils/data/dataloader.py:477: UserWarning: This DataLoader will create 4 worker processes in total. Our suggested max number of worker in current system is 2, which is smaller than what this DataLoader is going to create. Please be aware that excessive worker creation might get DataLoader running slow or even freeze, lower the worker number to avoid potential slowness/freeze if necessary.\n",
            "  cpuset_checked))\n",
            "01/07:   0%|          | 0/48 [00:00<?, ?it/s]"
          ],
          "name": "stderr"
        },
        {
          "output_type": "stream",
          "text": [
            "R4 -> 0.6117\n"
          ],
          "name": "stdout"
        },
        {
          "output_type": "stream",
          "text": [
            "01/07: 100%|██████████| 48/48 [04:02<00:00,  5.06s/it]\n",
            "02/07: 100%|██████████| 48/48 [04:18<00:00,  5.38s/it]\n",
            "03/07: 100%|██████████| 48/48 [04:26<00:00,  5.55s/it]\n",
            "04/07: 100%|██████████| 48/48 [04:27<00:00,  5.58s/it]\n",
            "05/07: 100%|██████████| 48/48 [04:19<00:00,  5.41s/it]\n",
            "06/07: 100%|██████████| 48/48 [04:02<00:00,  5.05s/it]\n",
            "07/07: 100%|██████████| 48/48 [04:25<00:00,  5.53s/it]"
          ],
          "name": "stderr"
        },
        {
          "output_type": "stream",
          "text": [
            "R5 -> 0.6122\n"
          ],
          "name": "stdout"
        },
        {
          "output_type": "stream",
          "text": [
            "\n"
          ],
          "name": "stderr"
        }
      ]
    },
    {
      "cell_type": "code",
      "metadata": {
        "id": "nus0WtquCVcv"
      },
      "source": [
        "submit=pd.read_csv('/content/drive/MyDrive/dataset/Dacon/연습/심리 성향 예측 AI 경진대회_sample_submission.csv')\n",
        "submit.iloc[:,1:] = prediction"
      ],
      "execution_count": 85,
      "outputs": []
    },
    {
      "cell_type": "code",
      "metadata": {
        "colab": {
          "base_uri": "https://localhost:8080/",
          "height": 431
        },
        "id": "sXDcnHL0CvYQ",
        "outputId": "4640fae8-0351-4edb-de7f-016a4de170aa"
      },
      "source": [
        "submit = submit.set_index('index')\n",
        "submit"
      ],
      "execution_count": 86,
      "outputs": [
        {
          "output_type": "execute_result",
          "data": {
            "text/html": [
              "<div>\n",
              "<style scoped>\n",
              "    .dataframe tbody tr th:only-of-type {\n",
              "        vertical-align: middle;\n",
              "    }\n",
              "\n",
              "    .dataframe tbody tr th {\n",
              "        vertical-align: top;\n",
              "    }\n",
              "\n",
              "    .dataframe thead th {\n",
              "        text-align: right;\n",
              "    }\n",
              "</style>\n",
              "<table border=\"1\" class=\"dataframe\">\n",
              "  <thead>\n",
              "    <tr style=\"text-align: right;\">\n",
              "      <th></th>\n",
              "      <th>voted</th>\n",
              "    </tr>\n",
              "    <tr>\n",
              "      <th>index</th>\n",
              "      <th></th>\n",
              "    </tr>\n",
              "  </thead>\n",
              "  <tbody>\n",
              "    <tr>\n",
              "      <th>0</th>\n",
              "      <td>1.640144</td>\n",
              "    </tr>\n",
              "    <tr>\n",
              "      <th>1</th>\n",
              "      <td>1.917178</td>\n",
              "    </tr>\n",
              "    <tr>\n",
              "      <th>2</th>\n",
              "      <td>1.477831</td>\n",
              "    </tr>\n",
              "    <tr>\n",
              "      <th>3</th>\n",
              "      <td>1.180768</td>\n",
              "    </tr>\n",
              "    <tr>\n",
              "      <th>4</th>\n",
              "      <td>1.805007</td>\n",
              "    </tr>\n",
              "    <tr>\n",
              "      <th>...</th>\n",
              "      <td>...</td>\n",
              "    </tr>\n",
              "    <tr>\n",
              "      <th>11378</th>\n",
              "      <td>1.378419</td>\n",
              "    </tr>\n",
              "    <tr>\n",
              "      <th>11379</th>\n",
              "      <td>1.825347</td>\n",
              "    </tr>\n",
              "    <tr>\n",
              "      <th>11380</th>\n",
              "      <td>1.235604</td>\n",
              "    </tr>\n",
              "    <tr>\n",
              "      <th>11381</th>\n",
              "      <td>1.357305</td>\n",
              "    </tr>\n",
              "    <tr>\n",
              "      <th>11382</th>\n",
              "      <td>1.639298</td>\n",
              "    </tr>\n",
              "  </tbody>\n",
              "</table>\n",
              "<p>11383 rows × 1 columns</p>\n",
              "</div>"
            ],
            "text/plain": [
              "          voted\n",
              "index          \n",
              "0      1.640144\n",
              "1      1.917178\n",
              "2      1.477831\n",
              "3      1.180768\n",
              "4      1.805007\n",
              "...         ...\n",
              "11378  1.378419\n",
              "11379  1.825347\n",
              "11380  1.235604\n",
              "11381  1.357305\n",
              "11382  1.639298\n",
              "\n",
              "[11383 rows x 1 columns]"
            ]
          },
          "metadata": {
            "tags": []
          },
          "execution_count": 86
        }
      ]
    },
    {
      "cell_type": "code",
      "metadata": {
        "id": "HEGdaX4DC8pp"
      },
      "source": [
        "submit.to_csv('/content/drive/MyDrive/dataset/Dacon/연습/2021-05-19 submit3.csv')"
      ],
      "execution_count": 87,
      "outputs": []
    },
    {
      "cell_type": "code",
      "metadata": {
        "id": "59NTrDCBHvmy"
      },
      "source": [
        "# 너무 오래걸려서 오늘 다 못돌림 내일 하루종일 돌리기"
      ],
      "execution_count": null,
      "outputs": []
    }
  ]
}