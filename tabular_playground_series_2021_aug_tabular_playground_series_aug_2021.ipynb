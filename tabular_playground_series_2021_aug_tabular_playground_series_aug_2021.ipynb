{
  "nbformat": 4,
  "nbformat_minor": 0,
  "metadata": {
    "colab": {
      "name": "tabular-playground-series/2021-aug/tabular-playground-series-aug-2021.ipynb",
      "provenance": [],
      "mount_file_id": "1jPxX8yPI5M-ht0FHW3esyqlTeqc_R6Hw",
      "authorship_tag": "ABX9TyNR7KYEReJ0990CiOgp61NC",
      "include_colab_link": true
    },
    "kernelspec": {
      "name": "python3",
      "display_name": "Python 3"
    },
    "language_info": {
      "name": "python"
    },
    "accelerator": "GPU"
  },
  "cells": [
    {
      "cell_type": "markdown",
      "metadata": {
        "id": "view-in-github",
        "colab_type": "text"
      },
      "source": [
        "<a href=\"https://colab.research.google.com/github/O-Kpy/Kaggle/blob/main/tabular_playground_series_2021_aug_tabular_playground_series_aug_2021.ipynb\" target=\"_parent\"><img src=\"https://colab.research.google.com/assets/colab-badge.svg\" alt=\"Open In Colab\"/></a>"
      ]
    },
    {
      "cell_type": "code",
      "metadata": {
        "id": "AEBAjbJ7UkPH"
      },
      "source": [
        "import pandas as pd\n",
        "import numpy as np\n",
        "import matplotlib.pyplot as plt\n",
        "plt.style.use('ggplot')\n",
        "import seaborn as sns\n",
        "import scipy\n",
        "from scipy.stats import skew"
      ],
      "execution_count": 1,
      "outputs": []
    },
    {
      "cell_type": "code",
      "metadata": {
        "colab": {
          "base_uri": "https://localhost:8080/"
        },
        "id": "-a1qRF-QVgSq",
        "outputId": "d56f6f36-bcfe-43bb-af33-2ee0dd6ee9f5"
      },
      "source": [
        "train = pd.read_csv('/content/drive/MyDrive/dataset/kaggle/tabular-playground-series/2021-aug/tabular-playground-series-aug-2021_train.csv')\n",
        "test = pd.read_csv('/content/drive/MyDrive/dataset/kaggle/tabular-playground-series/2021-aug/tabular-playground-series-aug-2021_test.csv')\n",
        "submit = pd.read_csv('/content/drive/MyDrive/dataset/kaggle/tabular-playground-series/2021-aug/tabular-playground-series-aug-2021_sample_submission.csv')\n",
        "train.shape, test.shape, submit.shape"
      ],
      "execution_count": 2,
      "outputs": [
        {
          "output_type": "execute_result",
          "data": {
            "text/plain": [
              "((250000, 102), (150000, 101), (150000, 2))"
            ]
          },
          "metadata": {
            "tags": []
          },
          "execution_count": 2
        }
      ]
    },
    {
      "cell_type": "code",
      "metadata": {
        "colab": {
          "base_uri": "https://localhost:8080/"
        },
        "id": "dEP635LtVsHJ",
        "outputId": "729b4c52-bd55-4549-e6ad-1fc33741783d"
      },
      "source": [
        "train['loss'].skew()  # target 라벨에 log1p씌울까 "
      ],
      "execution_count": null,
      "outputs": [
        {
          "output_type": "execute_result",
          "data": {
            "text/plain": [
              "1.4653191365369271"
            ]
          },
          "metadata": {
            "tags": []
          },
          "execution_count": 12
        }
      ]
    },
    {
      "cell_type": "code",
      "metadata": {
        "colab": {
          "base_uri": "https://localhost:8080/",
          "height": 426
        },
        "id": "JHafe73qXiKH",
        "outputId": "4e5bab98-a133-4a73-ba11-5e38602fc056"
      },
      "source": [
        "plt.figure(figsize=(12,6))\n",
        "train.skew().sort_values().plot()\n",
        "plt.title('Train set Skew', fontsize=20, fontweight='bold', pad=20)\n",
        "# noramlize를 적용 할까 고민"
      ],
      "execution_count": null,
      "outputs": [
        {
          "output_type": "execute_result",
          "data": {
            "text/plain": [
              "Text(0.5, 1.0, 'Train set Skew')"
            ]
          },
          "metadata": {
            "tags": []
          },
          "execution_count": 33
        },
        {
          "output_type": "display_data",
          "data": {
            "image/png": "[encoded data removed]",
            "text/plain": [
              "<Figure size 864x432 with 1 Axes>"
            ]
          },
          "metadata": {
            "tags": []
          }
        }
      ]
    },
    {
      "cell_type": "markdown",
      "metadata": {
        "id": "KAaP4UlNsOz1"
      },
      "source": [
        "# cluster DBSCAN기법\n",
        "\n",
        "- DBSCAN(density-based spatial clustering of application with noise)은 클러스터의 갯수를 미리 지정하지 않는 군집 알고리즘\n",
        "\n",
        "\n",
        "- DBSCAN은 병합 군집이나 k-평균보다는 다소 느리지만 비교적 큰 데이터셋에도 적용\n",
        "\n",
        "\n",
        "\n",
        "- 데이터의 밀집지역이 한 클러스터를 구성하며 비교적 비어있는 지역을 경계로 다른 클러스터와 구분함\n",
        "\n",
        "\n",
        "\n",
        "- DBSCAN은 특성 공간에서 가까이 있는 데이터가 많아 붐비는 지역의 포인트를 찾음\n",
        "\n",
        "- 이런 지역을 밀집 지역dense region이라 함\n",
        "\n",
        "- 밀집 지역에 있는 포인트를 핵심 포인트core point라고함\n",
        "\n",
        "\n",
        "\n",
        "- 핵심 포인트: min_samples, epsepsilon\n",
        "\n",
        "  - 한 데이터 포인트에서 eps 거리 안에 데이터가 min_samples 갯수만큼 들어 있으면 이 데이터 포인트를 핵심 포인트로 분류\n",
        "\n",
        "  - eps(거리)보다 가까운 핵심 샘플은 동일한 클러스터로 분류"
      ]
    },
    {
      "cell_type": "code",
      "metadata": {
        "id": "jmVVxeJZx26U"
      },
      "source": [
        "from sklearn.preprocessing import StandardScaler, MinMaxScaler\n",
        "\n",
        "data = pd.concat([train.drop(columns=['id']), test.drop(columns=['id'])], axis=0)\n",
        "data_columns = data.columns\n",
        "\n",
        "for i in data.columns:\n",
        "  if i == 'loss':\n",
        "    continue\n",
        "  data[i] = MinMaxScaler().fit_transform(data[[i]])"
      ],
      "execution_count": null,
      "outputs": []
    },
    {
      "cell_type": "code",
      "metadata": {
        "colab": {
          "base_uri": "https://localhost:8080/",
          "height": 369
        },
        "id": "QZmixSiSy5uy",
        "outputId": "2c85d0f4-fb57-4ef6-83f0-64164e42c49e"
      },
      "source": [
        "from sklearn.cluster import DBSCAN\n",
        "\n",
        "data['cluster'] = DBSCAN(n_jobs=-1).fit_predict(data.drop(columns=['loss']))\n",
        "data"
      ],
      "execution_count": null,
      "outputs": [
        {
          "output_type": "error",
          "ename": "KeyboardInterrupt",
          "evalue": "ignored",
          "traceback": [
            "\u001b[0;31m---------------------------------------------------------------------------\u001b[0m",
            "\u001b[0;31mKeyboardInterrupt\u001b[0m                         Traceback (most recent call last)",
            "\u001b[0;32m<ipython-input-4-938e90b76fe1>\u001b[0m in \u001b[0;36m<module>\u001b[0;34m()\u001b[0m\n\u001b[1;32m      1\u001b[0m \u001b[0;32mfrom\u001b[0m \u001b[0msklearn\u001b[0m\u001b[0;34m.\u001b[0m\u001b[0mcluster\u001b[0m \u001b[0;32mimport\u001b[0m \u001b[0mDBSCAN\u001b[0m\u001b[0;34m\u001b[0m\u001b[0;34m\u001b[0m\u001b[0m\n\u001b[1;32m      2\u001b[0m \u001b[0;34m\u001b[0m\u001b[0m\n\u001b[0;32m----> 3\u001b[0;31m \u001b[0mdata\u001b[0m\u001b[0;34m[\u001b[0m\u001b[0;34m'cluster'\u001b[0m\u001b[0;34m]\u001b[0m \u001b[0;34m=\u001b[0m \u001b[0mDBSCAN\u001b[0m\u001b[0;34m(\u001b[0m\u001b[0mn_jobs\u001b[0m\u001b[0;34m=\u001b[0m\u001b[0;34m-\u001b[0m\u001b[0;36m1\u001b[0m\u001b[0;34m)\u001b[0m\u001b[0;34m.\u001b[0m\u001b[0mfit_predict\u001b[0m\u001b[0;34m(\u001b[0m\u001b[0mdata\u001b[0m\u001b[0;34m.\u001b[0m\u001b[0mdrop\u001b[0m\u001b[0;34m(\u001b[0m\u001b[0mcolumns\u001b[0m\u001b[0;34m=\u001b[0m\u001b[0;34m[\u001b[0m\u001b[0;34m'loss'\u001b[0m\u001b[0;34m]\u001b[0m\u001b[0;34m)\u001b[0m\u001b[0;34m)\u001b[0m\u001b[0;34m\u001b[0m\u001b[0;34m\u001b[0m\u001b[0m\n\u001b[0m\u001b[1;32m      4\u001b[0m \u001b[0mdata\u001b[0m\u001b[0;34m\u001b[0m\u001b[0;34m\u001b[0m\u001b[0m\n",
            "\u001b[0;32m/usr/local/lib/python3.7/dist-packages/sklearn/cluster/_dbscan.py\u001b[0m in \u001b[0;36mfit_predict\u001b[0;34m(self, X, y, sample_weight)\u001b[0m\n\u001b[1;32m    387\u001b[0m             \u001b[0mCluster\u001b[0m \u001b[0mlabels\u001b[0m\u001b[0;34m.\u001b[0m \u001b[0mNoisy\u001b[0m \u001b[0msamples\u001b[0m \u001b[0mare\u001b[0m \u001b[0mgiven\u001b[0m \u001b[0mthe\u001b[0m \u001b[0mlabel\u001b[0m \u001b[0;34m-\u001b[0m\u001b[0;36m1.\u001b[0m\u001b[0;34m\u001b[0m\u001b[0;34m\u001b[0m\u001b[0m\n\u001b[1;32m    388\u001b[0m         \"\"\"\n\u001b[0;32m--> 389\u001b[0;31m         \u001b[0mself\u001b[0m\u001b[0;34m.\u001b[0m\u001b[0mfit\u001b[0m\u001b[0;34m(\u001b[0m\u001b[0mX\u001b[0m\u001b[0;34m,\u001b[0m \u001b[0msample_weight\u001b[0m\u001b[0;34m=\u001b[0m\u001b[0msample_weight\u001b[0m\u001b[0;34m)\u001b[0m\u001b[0;34m\u001b[0m\u001b[0;34m\u001b[0m\u001b[0m\n\u001b[0m\u001b[1;32m    390\u001b[0m         \u001b[0;32mreturn\u001b[0m \u001b[0mself\u001b[0m\u001b[0;34m.\u001b[0m\u001b[0mlabels_\u001b[0m\u001b[0;34m\u001b[0m\u001b[0;34m\u001b[0m\u001b[0m\n",
            "\u001b[0;32m/usr/local/lib/python3.7/dist-packages/sklearn/cluster/_dbscan.py\u001b[0m in \u001b[0;36mfit\u001b[0;34m(self, X, y, sample_weight)\u001b[0m\n\u001b[1;32m    333\u001b[0m         \u001b[0;31m# This has worst case O(n^2) memory complexity\u001b[0m\u001b[0;34m\u001b[0m\u001b[0;34m\u001b[0m\u001b[0;34m\u001b[0m\u001b[0m\n\u001b[1;32m    334\u001b[0m         neighborhoods = neighbors_model.radius_neighbors(X,\n\u001b[0;32m--> 335\u001b[0;31m                                                          return_distance=False)\n\u001b[0m\u001b[1;32m    336\u001b[0m \u001b[0;34m\u001b[0m\u001b[0m\n\u001b[1;32m    337\u001b[0m         \u001b[0;32mif\u001b[0m \u001b[0msample_weight\u001b[0m \u001b[0;32mis\u001b[0m \u001b[0;32mNone\u001b[0m\u001b[0;34m:\u001b[0m\u001b[0;34m\u001b[0m\u001b[0;34m\u001b[0m\u001b[0m\n",
            "\u001b[0;32m/usr/local/lib/python3.7/dist-packages/sklearn/neighbors/_base.py\u001b[0m in \u001b[0;36mradius_neighbors\u001b[0;34m(self, X, radius, return_distance, sort_results)\u001b[0m\n\u001b[1;32m    969\u001b[0m                               sort_results=sort_results)\n\u001b[1;32m    970\u001b[0m \u001b[0;34m\u001b[0m\u001b[0m\n\u001b[0;32m--> 971\u001b[0;31m                 \u001b[0;32mfor\u001b[0m \u001b[0ms\u001b[0m \u001b[0;32min\u001b[0m \u001b[0mgen_even_slices\u001b[0m\u001b[0;34m(\u001b[0m\u001b[0mX\u001b[0m\u001b[0;34m.\u001b[0m\u001b[0mshape\u001b[0m\u001b[0;34m[\u001b[0m\u001b[0;36m0\u001b[0m\u001b[0;34m]\u001b[0m\u001b[0;34m,\u001b[0m \u001b[0mn_jobs\u001b[0m\u001b[0;34m)\u001b[0m\u001b[0;34m\u001b[0m\u001b[0;34m\u001b[0m\u001b[0m\n\u001b[0m\u001b[1;32m    972\u001b[0m             )\n\u001b[1;32m    973\u001b[0m             \u001b[0;32mif\u001b[0m \u001b[0mreturn_distance\u001b[0m\u001b[0;34m:\u001b[0m\u001b[0;34m\u001b[0m\u001b[0;34m\u001b[0m\u001b[0m\n",
            "\u001b[0;32m/usr/local/lib/python3.7/dist-packages/joblib/parallel.py\u001b[0m in \u001b[0;36m__call__\u001b[0;34m(self, iterable)\u001b[0m\n\u001b[1;32m   1052\u001b[0m \u001b[0;34m\u001b[0m\u001b[0m\n\u001b[1;32m   1053\u001b[0m             \u001b[0;32mwith\u001b[0m \u001b[0mself\u001b[0m\u001b[0;34m.\u001b[0m\u001b[0m_backend\u001b[0m\u001b[0;34m.\u001b[0m\u001b[0mretrieval_context\u001b[0m\u001b[0;34m(\u001b[0m\u001b[0;34m)\u001b[0m\u001b[0;34m:\u001b[0m\u001b[0;34m\u001b[0m\u001b[0;34m\u001b[0m\u001b[0m\n\u001b[0;32m-> 1054\u001b[0;31m                 \u001b[0mself\u001b[0m\u001b[0;34m.\u001b[0m\u001b[0mretrieve\u001b[0m\u001b[0;34m(\u001b[0m\u001b[0;34m)\u001b[0m\u001b[0;34m\u001b[0m\u001b[0;34m\u001b[0m\u001b[0m\n\u001b[0m\u001b[1;32m   1055\u001b[0m             \u001b[0;31m# Make sure that we get a last message telling us we are done\u001b[0m\u001b[0;34m\u001b[0m\u001b[0;34m\u001b[0m\u001b[0;34m\u001b[0m\u001b[0m\n\u001b[1;32m   1056\u001b[0m             \u001b[0melapsed_time\u001b[0m \u001b[0;34m=\u001b[0m \u001b[0mtime\u001b[0m\u001b[0;34m.\u001b[0m\u001b[0mtime\u001b[0m\u001b[0;34m(\u001b[0m\u001b[0;34m)\u001b[0m \u001b[0;34m-\u001b[0m \u001b[0mself\u001b[0m\u001b[0;34m.\u001b[0m\u001b[0m_start_time\u001b[0m\u001b[0;34m\u001b[0m\u001b[0;34m\u001b[0m\u001b[0m\n",
            "\u001b[0;32m/usr/local/lib/python3.7/dist-packages/joblib/parallel.py\u001b[0m in \u001b[0;36mretrieve\u001b[0;34m(self)\u001b[0m\n\u001b[1;32m    931\u001b[0m             \u001b[0;32mtry\u001b[0m\u001b[0;34m:\u001b[0m\u001b[0;34m\u001b[0m\u001b[0;34m\u001b[0m\u001b[0m\n\u001b[1;32m    932\u001b[0m                 \u001b[0;32mif\u001b[0m \u001b[0mgetattr\u001b[0m\u001b[0;34m(\u001b[0m\u001b[0mself\u001b[0m\u001b[0;34m.\u001b[0m\u001b[0m_backend\u001b[0m\u001b[0;34m,\u001b[0m \u001b[0;34m'supports_timeout'\u001b[0m\u001b[0;34m,\u001b[0m \u001b[0;32mFalse\u001b[0m\u001b[0;34m)\u001b[0m\u001b[0;34m:\u001b[0m\u001b[0;34m\u001b[0m\u001b[0;34m\u001b[0m\u001b[0m\n\u001b[0;32m--> 933\u001b[0;31m                     \u001b[0mself\u001b[0m\u001b[0;34m.\u001b[0m\u001b[0m_output\u001b[0m\u001b[0;34m.\u001b[0m\u001b[0mextend\u001b[0m\u001b[0;34m(\u001b[0m\u001b[0mjob\u001b[0m\u001b[0;34m.\u001b[0m\u001b[0mget\u001b[0m\u001b[0;34m(\u001b[0m\u001b[0mtimeout\u001b[0m\u001b[0;34m=\u001b[0m\u001b[0mself\u001b[0m\u001b[0;34m.\u001b[0m\u001b[0mtimeout\u001b[0m\u001b[0;34m)\u001b[0m\u001b[0;34m)\u001b[0m\u001b[0;34m\u001b[0m\u001b[0;34m\u001b[0m\u001b[0m\n\u001b[0m\u001b[1;32m    934\u001b[0m                 \u001b[0;32melse\u001b[0m\u001b[0;34m:\u001b[0m\u001b[0;34m\u001b[0m\u001b[0;34m\u001b[0m\u001b[0m\n\u001b[1;32m    935\u001b[0m                     \u001b[0mself\u001b[0m\u001b[0;34m.\u001b[0m\u001b[0m_output\u001b[0m\u001b[0;34m.\u001b[0m\u001b[0mextend\u001b[0m\u001b[0;34m(\u001b[0m\u001b[0mjob\u001b[0m\u001b[0;34m.\u001b[0m\u001b[0mget\u001b[0m\u001b[0;34m(\u001b[0m\u001b[0;34m)\u001b[0m\u001b[0;34m)\u001b[0m\u001b[0;34m\u001b[0m\u001b[0;34m\u001b[0m\u001b[0m\n",
            "\u001b[0;32m/usr/lib/python3.7/multiprocessing/pool.py\u001b[0m in \u001b[0;36mget\u001b[0;34m(self, timeout)\u001b[0m\n\u001b[1;32m    649\u001b[0m \u001b[0;34m\u001b[0m\u001b[0m\n\u001b[1;32m    650\u001b[0m     \u001b[0;32mdef\u001b[0m \u001b[0mget\u001b[0m\u001b[0;34m(\u001b[0m\u001b[0mself\u001b[0m\u001b[0;34m,\u001b[0m \u001b[0mtimeout\u001b[0m\u001b[0;34m=\u001b[0m\u001b[0;32mNone\u001b[0m\u001b[0;34m)\u001b[0m\u001b[0;34m:\u001b[0m\u001b[0;34m\u001b[0m\u001b[0;34m\u001b[0m\u001b[0m\n\u001b[0;32m--> 651\u001b[0;31m         \u001b[0mself\u001b[0m\u001b[0;34m.\u001b[0m\u001b[0mwait\u001b[0m\u001b[0;34m(\u001b[0m\u001b[0mtimeout\u001b[0m\u001b[0;34m)\u001b[0m\u001b[0;34m\u001b[0m\u001b[0;34m\u001b[0m\u001b[0m\n\u001b[0m\u001b[1;32m    652\u001b[0m         \u001b[0;32mif\u001b[0m \u001b[0;32mnot\u001b[0m \u001b[0mself\u001b[0m\u001b[0;34m.\u001b[0m\u001b[0mready\u001b[0m\u001b[0;34m(\u001b[0m\u001b[0;34m)\u001b[0m\u001b[0;34m:\u001b[0m\u001b[0;34m\u001b[0m\u001b[0;34m\u001b[0m\u001b[0m\n\u001b[1;32m    653\u001b[0m             \u001b[0;32mraise\u001b[0m \u001b[0mTimeoutError\u001b[0m\u001b[0;34m\u001b[0m\u001b[0;34m\u001b[0m\u001b[0m\n",
            "\u001b[0;32m/usr/lib/python3.7/multiprocessing/pool.py\u001b[0m in \u001b[0;36mwait\u001b[0;34m(self, timeout)\u001b[0m\n\u001b[1;32m    646\u001b[0m \u001b[0;34m\u001b[0m\u001b[0m\n\u001b[1;32m    647\u001b[0m     \u001b[0;32mdef\u001b[0m \u001b[0mwait\u001b[0m\u001b[0;34m(\u001b[0m\u001b[0mself\u001b[0m\u001b[0;34m,\u001b[0m \u001b[0mtimeout\u001b[0m\u001b[0;34m=\u001b[0m\u001b[0;32mNone\u001b[0m\u001b[0;34m)\u001b[0m\u001b[0;34m:\u001b[0m\u001b[0;34m\u001b[0m\u001b[0;34m\u001b[0m\u001b[0m\n\u001b[0;32m--> 648\u001b[0;31m         \u001b[0mself\u001b[0m\u001b[0;34m.\u001b[0m\u001b[0m_event\u001b[0m\u001b[0;34m.\u001b[0m\u001b[0mwait\u001b[0m\u001b[0;34m(\u001b[0m\u001b[0mtimeout\u001b[0m\u001b[0;34m)\u001b[0m\u001b[0;34m\u001b[0m\u001b[0;34m\u001b[0m\u001b[0m\n\u001b[0m\u001b[1;32m    649\u001b[0m \u001b[0;34m\u001b[0m\u001b[0m\n\u001b[1;32m    650\u001b[0m     \u001b[0;32mdef\u001b[0m \u001b[0mget\u001b[0m\u001b[0;34m(\u001b[0m\u001b[0mself\u001b[0m\u001b[0;34m,\u001b[0m \u001b[0mtimeout\u001b[0m\u001b[0;34m=\u001b[0m\u001b[0;32mNone\u001b[0m\u001b[0;34m)\u001b[0m\u001b[0;34m:\u001b[0m\u001b[0;34m\u001b[0m\u001b[0;34m\u001b[0m\u001b[0m\n",
            "\u001b[0;32m/usr/lib/python3.7/threading.py\u001b[0m in \u001b[0;36mwait\u001b[0;34m(self, timeout)\u001b[0m\n\u001b[1;32m    550\u001b[0m             \u001b[0msignaled\u001b[0m \u001b[0;34m=\u001b[0m \u001b[0mself\u001b[0m\u001b[0;34m.\u001b[0m\u001b[0m_flag\u001b[0m\u001b[0;34m\u001b[0m\u001b[0;34m\u001b[0m\u001b[0m\n\u001b[1;32m    551\u001b[0m             \u001b[0;32mif\u001b[0m \u001b[0;32mnot\u001b[0m \u001b[0msignaled\u001b[0m\u001b[0;34m:\u001b[0m\u001b[0;34m\u001b[0m\u001b[0;34m\u001b[0m\u001b[0m\n\u001b[0;32m--> 552\u001b[0;31m                 \u001b[0msignaled\u001b[0m \u001b[0;34m=\u001b[0m \u001b[0mself\u001b[0m\u001b[0;34m.\u001b[0m\u001b[0m_cond\u001b[0m\u001b[0;34m.\u001b[0m\u001b[0mwait\u001b[0m\u001b[0;34m(\u001b[0m\u001b[0mtimeout\u001b[0m\u001b[0;34m)\u001b[0m\u001b[0;34m\u001b[0m\u001b[0;34m\u001b[0m\u001b[0m\n\u001b[0m\u001b[1;32m    553\u001b[0m             \u001b[0;32mreturn\u001b[0m \u001b[0msignaled\u001b[0m\u001b[0;34m\u001b[0m\u001b[0;34m\u001b[0m\u001b[0m\n\u001b[1;32m    554\u001b[0m \u001b[0;34m\u001b[0m\u001b[0m\n",
            "\u001b[0;32m/usr/lib/python3.7/threading.py\u001b[0m in \u001b[0;36mwait\u001b[0;34m(self, timeout)\u001b[0m\n\u001b[1;32m    294\u001b[0m         \u001b[0;32mtry\u001b[0m\u001b[0;34m:\u001b[0m    \u001b[0;31m# restore state no matter what (e.g., KeyboardInterrupt)\u001b[0m\u001b[0;34m\u001b[0m\u001b[0;34m\u001b[0m\u001b[0m\n\u001b[1;32m    295\u001b[0m             \u001b[0;32mif\u001b[0m \u001b[0mtimeout\u001b[0m \u001b[0;32mis\u001b[0m \u001b[0;32mNone\u001b[0m\u001b[0;34m:\u001b[0m\u001b[0;34m\u001b[0m\u001b[0;34m\u001b[0m\u001b[0m\n\u001b[0;32m--> 296\u001b[0;31m                 \u001b[0mwaiter\u001b[0m\u001b[0;34m.\u001b[0m\u001b[0macquire\u001b[0m\u001b[0;34m(\u001b[0m\u001b[0;34m)\u001b[0m\u001b[0;34m\u001b[0m\u001b[0;34m\u001b[0m\u001b[0m\n\u001b[0m\u001b[1;32m    297\u001b[0m                 \u001b[0mgotit\u001b[0m \u001b[0;34m=\u001b[0m \u001b[0;32mTrue\u001b[0m\u001b[0;34m\u001b[0m\u001b[0;34m\u001b[0m\u001b[0m\n\u001b[1;32m    298\u001b[0m             \u001b[0;32melse\u001b[0m\u001b[0;34m:\u001b[0m\u001b[0;34m\u001b[0m\u001b[0;34m\u001b[0m\u001b[0m\n",
            "\u001b[0;31mKeyboardInterrupt\u001b[0m: "
          ]
        }
      ]
    },
    {
      "cell_type": "markdown",
      "metadata": {
        "id": "Q9JOhkaLZkNq"
      },
      "source": [
        "# Clustering 적용하자"
      ]
    },
    {
      "cell_type": "code",
      "metadata": {
        "colab": {
          "base_uri": "https://localhost:8080/"
        },
        "id": "oHOZOVN3ZW3z",
        "outputId": "975612e0-03cc-455a-ccd8-d20967fd7a13"
      },
      "source": [
        "!pip install catboost\n",
        "!pip install optuna"
      ],
      "execution_count": 3,
      "outputs": [
        {
          "output_type": "stream",
          "text": [
            "Requirement already satisfied: catboost in /usr/local/lib/python3.7/dist-packages (0.26.1)\n",
            "Requirement already satisfied: pandas>=0.24.0 in /usr/local/lib/python3.7/dist-packages (from catboost) (1.1.5)\n",
            "Requirement already satisfied: six in /usr/local/lib/python3.7/dist-packages (from catboost) (1.15.0)\n",
            "Requirement already satisfied: scipy in /usr/local/lib/python3.7/dist-packages (from catboost) (1.4.1)\n",
            "Requirement already satisfied: plotly in /usr/local/lib/python3.7/dist-packages (from catboost) (4.4.1)\n",
            "Requirement already satisfied: graphviz in /usr/local/lib/python3.7/dist-packages (from catboost) (0.10.1)\n",
            "Requirement already satisfied: numpy>=1.16.0 in /usr/local/lib/python3.7/dist-packages (from catboost) (1.19.5)\n",
            "Requirement already satisfied: matplotlib in /usr/local/lib/python3.7/dist-packages (from catboost) (3.2.2)\n",
            "Requirement already satisfied: pytz>=2017.2 in /usr/local/lib/python3.7/dist-packages (from pandas>=0.24.0->catboost) (2018.9)\n",
            "Requirement already satisfied: python-dateutil>=2.7.3 in /usr/local/lib/python3.7/dist-packages (from pandas>=0.24.0->catboost) (2.8.2)\n",
            "Requirement already satisfied: pyparsing!=2.0.4,!=2.1.2,!=2.1.6,>=2.0.1 in /usr/local/lib/python3.7/dist-packages (from matplotlib->catboost) (2.4.7)\n",
            "Requirement already satisfied: kiwisolver>=1.0.1 in /usr/local/lib/python3.7/dist-packages (from matplotlib->catboost) (1.3.1)\n",
            "Requirement already satisfied: cycler>=0.10 in /usr/local/lib/python3.7/dist-packages (from matplotlib->catboost) (0.10.0)\n",
            "Requirement already satisfied: retrying>=1.3.3 in /usr/local/lib/python3.7/dist-packages (from plotly->catboost) (1.3.3)\n",
            "Requirement already satisfied: optuna in /usr/local/lib/python3.7/dist-packages (2.9.1)\n",
            "Requirement already satisfied: PyYAML in /usr/local/lib/python3.7/dist-packages (from optuna) (3.13)\n",
            "Requirement already satisfied: cliff in /usr/local/lib/python3.7/dist-packages (from optuna) (3.8.0)\n",
            "Requirement already satisfied: tqdm in /usr/local/lib/python3.7/dist-packages (from optuna) (4.62.0)\n",
            "Requirement already satisfied: scipy!=1.4.0 in /usr/local/lib/python3.7/dist-packages (from optuna) (1.4.1)\n",
            "Requirement already satisfied: sqlalchemy>=1.1.0 in /usr/local/lib/python3.7/dist-packages (from optuna) (1.4.22)\n",
            "Requirement already satisfied: numpy in /usr/local/lib/python3.7/dist-packages (from optuna) (1.19.5)\n",
            "Requirement already satisfied: colorlog in /usr/local/lib/python3.7/dist-packages (from optuna) (5.0.1)\n",
            "Requirement already satisfied: packaging>=20.0 in /usr/local/lib/python3.7/dist-packages (from optuna) (21.0)\n",
            "Requirement already satisfied: alembic in /usr/local/lib/python3.7/dist-packages (from optuna) (1.6.5)\n",
            "Requirement already satisfied: cmaes>=0.8.2 in /usr/local/lib/python3.7/dist-packages (from optuna) (0.8.2)\n",
            "Requirement already satisfied: pyparsing>=2.0.2 in /usr/local/lib/python3.7/dist-packages (from packaging>=20.0->optuna) (2.4.7)\n",
            "Requirement already satisfied: importlib-metadata in /usr/local/lib/python3.7/dist-packages (from sqlalchemy>=1.1.0->optuna) (4.6.3)\n",
            "Requirement already satisfied: greenlet!=0.4.17 in /usr/local/lib/python3.7/dist-packages (from sqlalchemy>=1.1.0->optuna) (1.1.1)\n",
            "Requirement already satisfied: python-dateutil in /usr/local/lib/python3.7/dist-packages (from alembic->optuna) (2.8.2)\n",
            "Requirement already satisfied: python-editor>=0.3 in /usr/local/lib/python3.7/dist-packages (from alembic->optuna) (1.0.4)\n",
            "Requirement already satisfied: Mako in /usr/local/lib/python3.7/dist-packages (from alembic->optuna) (1.1.4)\n",
            "Requirement already satisfied: pbr!=2.1.0,>=2.0.0 in /usr/local/lib/python3.7/dist-packages (from cliff->optuna) (5.6.0)\n",
            "Requirement already satisfied: stevedore>=2.0.1 in /usr/local/lib/python3.7/dist-packages (from cliff->optuna) (3.3.0)\n",
            "Requirement already satisfied: PrettyTable>=0.7.2 in /usr/local/lib/python3.7/dist-packages (from cliff->optuna) (2.1.0)\n",
            "Requirement already satisfied: cmd2>=1.0.0 in /usr/local/lib/python3.7/dist-packages (from cliff->optuna) (2.1.2)\n",
            "Requirement already satisfied: typing-extensions in /usr/local/lib/python3.7/dist-packages (from cmd2>=1.0.0->cliff->optuna) (3.7.4.3)\n",
            "Requirement already satisfied: colorama>=0.3.7 in /usr/local/lib/python3.7/dist-packages (from cmd2>=1.0.0->cliff->optuna) (0.4.4)\n",
            "Requirement already satisfied: wcwidth>=0.1.7 in /usr/local/lib/python3.7/dist-packages (from cmd2>=1.0.0->cliff->optuna) (0.2.5)\n",
            "Requirement already satisfied: attrs>=16.3.0 in /usr/local/lib/python3.7/dist-packages (from cmd2>=1.0.0->cliff->optuna) (21.2.0)\n",
            "Requirement already satisfied: pyperclip>=1.6 in /usr/local/lib/python3.7/dist-packages (from cmd2>=1.0.0->cliff->optuna) (1.8.2)\n",
            "Requirement already satisfied: zipp>=0.5 in /usr/local/lib/python3.7/dist-packages (from importlib-metadata->sqlalchemy>=1.1.0->optuna) (3.5.0)\n",
            "Requirement already satisfied: MarkupSafe>=0.9.2 in /usr/local/lib/python3.7/dist-packages (from Mako->alembic->optuna) (2.0.1)\n",
            "Requirement already satisfied: six>=1.5 in /usr/local/lib/python3.7/dist-packages (from python-dateutil->alembic->optuna) (1.15.0)\n"
          ],
          "name": "stdout"
        }
      ]
    },
    {
      "cell_type": "code",
      "metadata": {
        "id": "rLlP0cqcZ6vD"
      },
      "source": [
        "import catboost\n",
        "import optuna\n",
        "import optuna.integration.lightgbm as lgbo\n",
        "import lightgbm\n",
        "import xgboost\n",
        "from sklearn.metrics import mean_squared_error\n",
        "from sklearn.model_selection import KFold, StratifiedKFold, LeaveOneGroupOut, train_test_split\n",
        "from sklearn.preprocessing import StandardScaler, MinMaxScaler"
      ],
      "execution_count": 4,
      "outputs": []
    },
    {
      "cell_type": "code",
      "metadata": {
        "colab": {
          "base_uri": "https://localhost:8080/"
        },
        "id": "f7Y-LxF9aRWi",
        "outputId": "f373706f-be9f-431c-f058-f05625718874"
      },
      "source": [
        "# 데이터 나누기\n",
        "x_train = train.drop(columns=['id', 'loss'])\n",
        "y_train = train['loss']\n",
        "x_test = test.drop(columns=['id'])\n",
        "x_train_columns = x_train.columns\n",
        "x_test_columns = x_test.columns\n",
        "x_train.shape, y_train.shape, x_test.shape"
      ],
      "execution_count": 5,
      "outputs": [
        {
          "output_type": "execute_result",
          "data": {
            "text/plain": [
              "((250000, 100), (250000,), (150000, 100))"
            ]
          },
          "metadata": {
            "tags": []
          },
          "execution_count": 5
        }
      ]
    },
    {
      "cell_type": "code",
      "metadata": {
        "id": "BQF7A77Fe5EI"
      },
      "source": [
        "mm = MinMaxScaler().fit(x_train)\n",
        "x_train = mm.transform(x_train)\n",
        "x_test = mm.transform(x_test)\n",
        "\n",
        "x_train = pd.DataFrame(x_train, columns=x_train_columns)\n",
        "x_test = pd.DataFrame(x_test, columns=x_test_columns)"
      ],
      "execution_count": 6,
      "outputs": []
    },
    {
      "cell_type": "code",
      "metadata": {
        "colab": {
          "base_uri": "https://localhost:8080/",
          "height": 626
        },
        "id": "SzyHuK_Rf6Vx",
        "outputId": "4e5f0d68-9f84-4525-afa1-2e57b56eb81e"
      },
      "source": [
        "# Clustering\n",
        "from sklearn.cluster import KMeans\n",
        "\n",
        "vstack = np.vstack((x_train,\n",
        "                    x_test))\n",
        "\n",
        "sse = {}\n",
        "for i in range(1,20, 1):\n",
        "  km = KMeans(n_clusters=i, max_iter=1000, random_state=0, n_jobs=-1).fit(vstack)\n",
        "  sse[i] = km.inertia_\n",
        "\n",
        "plt.figure(figsize=(12,8))\n",
        "sns.lineplot(pd.Series(sse).index, pd.Series(sse), marker='o')\n",
        "plt.xticks(pd.Series(sse).index)\n",
        "plt.title('elbow method', fontsize=20, fontweight='bold', pad=20)"
      ],
      "execution_count": null,
      "outputs": [
        {
          "output_type": "stream",
          "text": [
            "/usr/local/lib/python3.7/dist-packages/seaborn/_decorators.py:43: FutureWarning:\n",
            "\n",
            "Pass the following variables as keyword args: x, y. From version 0.12, the only valid positional argument will be `data`, and passing other arguments without an explicit keyword will result in an error or misinterpretation.\n",
            "\n"
          ],
          "name": "stderr"
        },
        {
          "output_type": "execute_result",
          "data": {
            "text/plain": [
              "Text(0.5, 1.0, 'elbow method')"
            ]
          },
          "metadata": {
            "tags": []
          },
          "execution_count": 20
        },
        {
          "output_type": "display_data",
          "data": {
            "image/png": "[encoded data removed]",
            "text/plain": [
              "<Figure size 864x576 with 1 Axes>"
            ]
          },
          "metadata": {
            "tags": [],
            "needs_background": "light"
          }
        }
      ]
    },
    {
      "cell_type": "code",
      "metadata": {
        "id": "pR5YSCDNmaYZ"
      },
      "source": [
        "km = KMeans(n_splits=, max_iter=1000, n_jobs=-1).fit(vstack)\n",
        "\n",
        "x_train['cluster'] = km.predict(x_train)\n",
        "x_test['cluster'] = km.predict(x_test)"
      ],
      "execution_count": null,
      "outputs": []
    },
    {
      "cell_type": "code",
      "metadata": {
        "colab": {
          "base_uri": "https://localhost:8080/"
        },
        "id": "ye_vs_epatCG",
        "outputId": "e1ff0b20-eb07-4488-a699-aa941fa77b1d"
      },
      "source": [
        "sk = StratifiedKFold(n_splits=5, shuffle=True, random_state=42)\n",
        "kf = KFold(n_splits=5, shuffle=True, random_state=42)\n",
        "preds = np.zeros((x_test.shape[0],))\n",
        "\n",
        "for i, (train_index, valid_index) in enumerate(kf.split(x_train, y_train)):\n",
        "  X_train, X_valid = x_train.iloc[train_index], x_train.iloc[valid_index]\n",
        "  Y_train, Y_valid = y_train.iloc[train_index], y_train.iloc[valid_index]\n",
        "\n",
        "  model_cat = catboost.CatBoostRegressor(iterations=3000, learning_rate=0.022, loss_function='RMSE', eval_metric='RMSE', task_type='GPU')\n",
        "  model_cat.fit(X_train, Y_train, eval_set=(X_valid, Y_valid), verbose=100, early_stopping_rounds=70)\n",
        "\n",
        "  preds += np.expm1(model_cat.predict(x_test)) / kf.n_splits"
      ],
      "execution_count": null,
      "outputs": [
        {
          "output_type": "stream",
          "text": [
            "Custom logger is already specified. Specify more than one logger at same time is not thread safe."
          ],
          "name": "stderr"
        },
        {
          "output_type": "stream",
          "text": [
            "0:\tlearn: 1.1039045\ttest: 1.1063753\tbest: 1.1063753 (0)\ttotal: 10.3ms\tremaining: 30.9s\n",
            "100:\tlearn: 1.0945647\ttest: 1.0977858\tbest: 1.0977858 (100)\ttotal: 1.8s\tremaining: 51.6s\n",
            "200:\tlearn: 1.0901819\ttest: 1.0942911\tbest: 1.0942911 (200)\ttotal: 2.91s\tremaining: 40.6s\n",
            "300:\tlearn: 1.0869794\ttest: 1.0920953\tbest: 1.0920953 (300)\ttotal: 4.21s\tremaining: 37.7s\n",
            "400:\tlearn: 1.0843921\ttest: 1.0905177\tbest: 1.0905177 (400)\ttotal: 5.58s\tremaining: 36.2s\n",
            "500:\tlearn: 1.0821666\ttest: 1.0893155\tbest: 1.0893155 (500)\ttotal: 7.41s\tremaining: 37s\n",
            "600:\tlearn: 1.0800835\ttest: 1.0882926\tbest: 1.0882926 (600)\ttotal: 9.82s\tremaining: 39.2s\n",
            "700:\tlearn: 1.0781490\ttest: 1.0874149\tbest: 1.0874149 (700)\ttotal: 12.1s\tremaining: 39.7s\n",
            "800:\tlearn: 1.0763697\ttest: 1.0866818\tbest: 1.0866818 (800)\ttotal: 14.4s\tremaining: 39.6s\n",
            "900:\tlearn: 1.0746677\ttest: 1.0860741\tbest: 1.0860741 (900)\ttotal: 16.9s\tremaining: 39.3s\n",
            "1000:\tlearn: 1.0730308\ttest: 1.0855342\tbest: 1.0855342 (1000)\ttotal: 18.9s\tremaining: 37.8s\n",
            "1100:\tlearn: 1.0714150\ttest: 1.0850424\tbest: 1.0850424 (1100)\ttotal: 21.2s\tremaining: 36.6s\n",
            "1200:\tlearn: 1.0698821\ttest: 1.0846505\tbest: 1.0846505 (1200)\ttotal: 23.7s\tremaining: 35.5s\n",
            "1300:\tlearn: 1.0683260\ttest: 1.0842475\tbest: 1.0842465 (1299)\ttotal: 26.1s\tremaining: 34.1s\n",
            "1400:\tlearn: 1.0668515\ttest: 1.0838828\tbest: 1.0838828 (1400)\ttotal: 27.5s\tremaining: 31.4s\n",
            "1500:\tlearn: 1.0653633\ttest: 1.0836128\tbest: 1.0836126 (1499)\ttotal: 28.8s\tremaining: 28.8s\n",
            "1600:\tlearn: 1.0639787\ttest: 1.0833106\tbest: 1.0833106 (1600)\ttotal: 30s\tremaining: 26.2s\n",
            "1700:\tlearn: 1.0625681\ttest: 1.0830857\tbest: 1.0830857 (1700)\ttotal: 32.5s\tremaining: 24.8s\n",
            "1800:\tlearn: 1.0611735\ttest: 1.0828337\tbest: 1.0828337 (1800)\ttotal: 34.9s\tremaining: 23.3s\n",
            "1900:\tlearn: 1.0597726\ttest: 1.0826380\tbest: 1.0826380 (1900)\ttotal: 37.3s\tremaining: 21.6s\n",
            "2000:\tlearn: 1.0584389\ttest: 1.0824363\tbest: 1.0824332 (1994)\ttotal: 39.8s\tremaining: 19.9s\n",
            "2100:\tlearn: 1.0571054\ttest: 1.0822507\tbest: 1.0822499 (2099)\ttotal: 42.2s\tremaining: 18.1s\n",
            "2200:\tlearn: 1.0557804\ttest: 1.0821156\tbest: 1.0821124 (2196)\ttotal: 44s\tremaining: 16s\n",
            "2300:\tlearn: 1.0544493\ttest: 1.0819591\tbest: 1.0819591 (2300)\ttotal: 45.6s\tremaining: 13.8s\n",
            "2400:\tlearn: 1.0531320\ttest: 1.0818264\tbest: 1.0818219 (2399)\ttotal: 46.9s\tremaining: 11.7s\n",
            "2500:\tlearn: 1.0518649\ttest: 1.0816928\tbest: 1.0816928 (2500)\ttotal: 48.2s\tremaining: 9.61s\n",
            "2600:\tlearn: 1.0505918\ttest: 1.0815349\tbest: 1.0815347 (2599)\ttotal: 49.3s\tremaining: 7.57s\n",
            "2700:\tlearn: 1.0492934\ttest: 1.0814109\tbest: 1.0814109 (2700)\ttotal: 50.4s\tremaining: 5.58s\n",
            "2800:\tlearn: 1.0480326\ttest: 1.0813022\tbest: 1.0813000 (2787)\ttotal: 52.4s\tremaining: 3.72s\n",
            "2900:\tlearn: 1.0467668\ttest: 1.0811932\tbest: 1.0811932 (2900)\ttotal: 54.5s\tremaining: 1.86s\n",
            "2999:\tlearn: 1.0455514\ttest: 1.0810936\tbest: 1.0810932 (2987)\ttotal: 56.2s\tremaining: 0us\n",
            "bestTest = 1.081093161\n",
            "bestIteration = 2987\n",
            "Shrink model to first 2988 iterations.\n",
            "0:\tlearn: 1.1044649\ttest: 1.1040989\tbest: 1.1040989 (0)\ttotal: 18.1ms\tremaining: 54.3s\n",
            "100:\tlearn: 1.0949868\ttest: 1.0959699\tbest: 1.0959699 (100)\ttotal: 1.2s\tremaining: 34.5s\n",
            "200:\tlearn: 1.0905697\ttest: 1.0928548\tbest: 1.0928548 (200)\ttotal: 2.29s\tremaining: 31.9s\n",
            "300:\tlearn: 1.0873358\ttest: 1.0907929\tbest: 1.0907929 (300)\ttotal: 3.46s\tremaining: 31s\n",
            "400:\tlearn: 1.0846803\ttest: 1.0892726\tbest: 1.0892726 (400)\ttotal: 5.38s\tremaining: 34.9s\n",
            "500:\tlearn: 1.0824005\ttest: 1.0881087\tbest: 1.0881087 (500)\ttotal: 7.39s\tremaining: 36.9s\n",
            "600:\tlearn: 1.0803119\ttest: 1.0871455\tbest: 1.0871455 (600)\ttotal: 8.51s\tremaining: 34s\n",
            "700:\tlearn: 1.0783302\ttest: 1.0864048\tbest: 1.0864048 (700)\ttotal: 9.64s\tremaining: 31.6s\n",
            "800:\tlearn: 1.0764583\ttest: 1.0857012\tbest: 1.0857012 (800)\ttotal: 10.8s\tremaining: 29.6s\n",
            "900:\tlearn: 1.0747186\ttest: 1.0851662\tbest: 1.0851662 (900)\ttotal: 11.9s\tremaining: 27.7s\n",
            "1000:\tlearn: 1.0730927\ttest: 1.0847154\tbest: 1.0847154 (1000)\ttotal: 13s\tremaining: 25.9s\n",
            "1100:\tlearn: 1.0714434\ttest: 1.0842594\tbest: 1.0842585 (1099)\ttotal: 14.1s\tremaining: 24.3s\n",
            "1200:\tlearn: 1.0698469\ttest: 1.0839155\tbest: 1.0839155 (1200)\ttotal: 15.3s\tremaining: 22.8s\n",
            "1300:\tlearn: 1.0682957\ttest: 1.0835978\tbest: 1.0835978 (1300)\ttotal: 16.4s\tremaining: 21.4s\n",
            "1400:\tlearn: 1.0667727\ttest: 1.0832844\tbest: 1.0832843 (1399)\ttotal: 17.6s\tremaining: 20.1s\n",
            "1500:\tlearn: 1.0653106\ttest: 1.0830181\tbest: 1.0830181 (1500)\ttotal: 18.7s\tremaining: 18.7s\n",
            "1600:\tlearn: 1.0639018\ttest: 1.0827778\tbest: 1.0827778 (1600)\ttotal: 19.8s\tremaining: 17.3s\n",
            "1700:\tlearn: 1.0625020\ttest: 1.0825785\tbest: 1.0825785 (1700)\ttotal: 21s\tremaining: 16s\n",
            "1800:\tlearn: 1.0610969\ttest: 1.0823383\tbest: 1.0823349 (1799)\ttotal: 22.1s\tremaining: 14.7s\n",
            "1900:\tlearn: 1.0597379\ttest: 1.0821661\tbest: 1.0821639 (1898)\ttotal: 23.2s\tremaining: 13.4s\n",
            "2000:\tlearn: 1.0583402\ttest: 1.0820170\tbest: 1.0820170 (2000)\ttotal: 24.3s\tremaining: 12.1s\n",
            "2100:\tlearn: 1.0570234\ttest: 1.0818561\tbest: 1.0818561 (2100)\ttotal: 25.4s\tremaining: 10.9s\n",
            "2200:\tlearn: 1.0557233\ttest: 1.0816966\tbest: 1.0816959 (2196)\ttotal: 26.5s\tremaining: 9.61s\n",
            "2300:\tlearn: 1.0544256\ttest: 1.0815937\tbest: 1.0815937 (2300)\ttotal: 27.6s\tremaining: 8.37s\n",
            "2400:\tlearn: 1.0530978\ttest: 1.0814849\tbest: 1.0814778 (2398)\ttotal: 28.7s\tremaining: 7.16s\n",
            "2500:\tlearn: 1.0518130\ttest: 1.0813679\tbest: 1.0813612 (2496)\ttotal: 29.8s\tremaining: 5.95s\n",
            "2600:\tlearn: 1.0505029\ttest: 1.0812040\tbest: 1.0812040 (2600)\ttotal: 31.1s\tremaining: 4.78s\n",
            "2700:\tlearn: 1.0492377\ttest: 1.0810894\tbest: 1.0810894 (2700)\ttotal: 33.5s\tremaining: 3.71s\n",
            "2800:\tlearn: 1.0479710\ttest: 1.0809939\tbest: 1.0809939 (2800)\ttotal: 35.2s\tremaining: 2.5s\n",
            "2900:\tlearn: 1.0467395\ttest: 1.0808998\tbest: 1.0808998 (2900)\ttotal: 36.5s\tremaining: 1.25s\n",
            "2999:\tlearn: 1.0454753\ttest: 1.0808057\tbest: 1.0808036 (2998)\ttotal: 38.9s\tremaining: 0us\n",
            "bestTest = 1.080803593\n",
            "bestIteration = 2998\n",
            "Shrink model to first 2999 iterations.\n",
            "0:\tlearn: 1.1043364\ttest: 1.1046365\tbest: 1.1046365 (0)\ttotal: 16.8ms\tremaining: 50.3s\n",
            "100:\tlearn: 1.0951551\ttest: 1.0959988\tbest: 1.0959988 (100)\ttotal: 1.21s\tremaining: 34.8s\n",
            "200:\tlearn: 1.0907616\ttest: 1.0923131\tbest: 1.0923131 (200)\ttotal: 2.57s\tremaining: 35.7s\n",
            "300:\tlearn: 1.0876000\ttest: 1.0899917\tbest: 1.0899917 (300)\ttotal: 3.96s\tremaining: 35.5s\n",
            "400:\tlearn: 1.0849994\ttest: 1.0884217\tbest: 1.0884217 (400)\ttotal: 5.11s\tremaining: 33.1s\n",
            "500:\tlearn: 1.0827736\ttest: 1.0872028\tbest: 1.0872028 (500)\ttotal: 6.15s\tremaining: 30.7s\n",
            "600:\tlearn: 1.0807277\ttest: 1.0861478\tbest: 1.0861478 (600)\ttotal: 7.19s\tremaining: 28.7s\n",
            "700:\tlearn: 1.0787555\ttest: 1.0852493\tbest: 1.0852493 (700)\ttotal: 8.24s\tremaining: 27s\n",
            "800:\tlearn: 1.0769298\ttest: 1.0844928\tbest: 1.0844928 (800)\ttotal: 9.32s\tremaining: 25.6s\n",
            "900:\tlearn: 1.0751642\ttest: 1.0837819\tbest: 1.0837819 (900)\ttotal: 10.4s\tremaining: 24.2s\n",
            "1000:\tlearn: 1.0735155\ttest: 1.0832363\tbest: 1.0832363 (1000)\ttotal: 11.5s\tremaining: 23.1s\n",
            "1100:\tlearn: 1.0719398\ttest: 1.0827809\tbest: 1.0827809 (1100)\ttotal: 12.7s\tremaining: 21.9s\n",
            "1200:\tlearn: 1.0703779\ttest: 1.0823821\tbest: 1.0823821 (1200)\ttotal: 14.3s\tremaining: 21.5s\n",
            "1300:\tlearn: 1.0688606\ttest: 1.0819637\tbest: 1.0819631 (1299)\ttotal: 16.3s\tremaining: 21.3s\n",
            "1400:\tlearn: 1.0674074\ttest: 1.0816368\tbest: 1.0816368 (1400)\ttotal: 18.8s\tremaining: 21.4s\n",
            "1500:\tlearn: 1.0659707\ttest: 1.0812870\tbest: 1.0812870 (1500)\ttotal: 21.1s\tremaining: 21.1s\n",
            "1600:\tlearn: 1.0645424\ttest: 1.0810012\tbest: 1.0810012 (1600)\ttotal: 22.8s\tremaining: 19.9s\n",
            "1700:\tlearn: 1.0631301\ttest: 1.0807146\tbest: 1.0807145 (1698)\ttotal: 24.1s\tremaining: 18.4s\n",
            "1800:\tlearn: 1.0617530\ttest: 1.0804705\tbest: 1.0804705 (1800)\ttotal: 26.6s\tremaining: 17.7s\n",
            "1900:\tlearn: 1.0604199\ttest: 1.0802916\tbest: 1.0802916 (1900)\ttotal: 28.7s\tremaining: 16.6s\n",
            "2000:\tlearn: 1.0590658\ttest: 1.0801167\tbest: 1.0801167 (2000)\ttotal: 30.9s\tremaining: 15.4s\n",
            "2100:\tlearn: 1.0577407\ttest: 1.0798941\tbest: 1.0798941 (2100)\ttotal: 33.3s\tremaining: 14.3s\n",
            "2200:\tlearn: 1.0564280\ttest: 1.0797223\tbest: 1.0797223 (2200)\ttotal: 35.7s\tremaining: 13s\n",
            "2300:\tlearn: 1.0551496\ttest: 1.0796212\tbest: 1.0796212 (2300)\ttotal: 38.2s\tremaining: 11.6s\n",
            "2400:\tlearn: 1.0538422\ttest: 1.0794974\tbest: 1.0794974 (2400)\ttotal: 40.6s\tremaining: 10.1s\n",
            "2500:\tlearn: 1.0525076\ttest: 1.0793624\tbest: 1.0793624 (2500)\ttotal: 42.6s\tremaining: 8.5s\n",
            "2600:\tlearn: 1.0512346\ttest: 1.0792140\tbest: 1.0792118 (2599)\ttotal: 43.7s\tremaining: 6.7s\n",
            "2700:\tlearn: 1.0499682\ttest: 1.0790912\tbest: 1.0790818 (2690)\ttotal: 44.8s\tremaining: 4.96s\n",
            "2800:\tlearn: 1.0487082\ttest: 1.0789863\tbest: 1.0789863 (2800)\ttotal: 46s\tremaining: 3.27s\n",
            "2900:\tlearn: 1.0474607\ttest: 1.0788419\tbest: 1.0788419 (2900)\ttotal: 47.2s\tremaining: 1.61s\n",
            "2999:\tlearn: 1.0462245\ttest: 1.0787354\tbest: 1.0787354 (2999)\ttotal: 48.4s\tremaining: 0us\n",
            "bestTest = 1.078735407\n",
            "bestIteration = 2999\n",
            "0:\tlearn: 1.1046693\ttest: 1.1032981\tbest: 1.1032981 (0)\ttotal: 6.4ms\tremaining: 19.2s\n",
            "100:\tlearn: 1.0952729\ttest: 1.0948783\tbest: 1.0948783 (100)\ttotal: 1.32s\tremaining: 37.9s\n",
            "200:\tlearn: 1.0909207\ttest: 1.0916262\tbest: 1.0916262 (200)\ttotal: 3.77s\tremaining: 52.4s\n",
            "300:\tlearn: 1.0876895\ttest: 1.0895470\tbest: 1.0895470 (300)\ttotal: 5.92s\tremaining: 53.1s\n",
            "400:\tlearn: 1.0850554\ttest: 1.0880001\tbest: 1.0880001 (400)\ttotal: 8.35s\tremaining: 54.1s\n",
            "500:\tlearn: 1.0827696\ttest: 1.0868355\tbest: 1.0868355 (500)\ttotal: 10.7s\tremaining: 53.2s\n",
            "600:\tlearn: 1.0806568\ttest: 1.0859213\tbest: 1.0859213 (600)\ttotal: 12.5s\tremaining: 49.9s\n",
            "700:\tlearn: 1.0786979\ttest: 1.0851148\tbest: 1.0851148 (700)\ttotal: 14.9s\tremaining: 48.9s\n",
            "800:\tlearn: 1.0768434\ttest: 1.0844396\tbest: 1.0844396 (800)\ttotal: 16.6s\tremaining: 45.7s\n",
            "900:\tlearn: 1.0751011\ttest: 1.0838771\tbest: 1.0838771 (900)\ttotal: 17.7s\tremaining: 41.2s\n",
            "1000:\tlearn: 1.0734114\ttest: 1.0833684\tbest: 1.0833684 (1000)\ttotal: 18.8s\tremaining: 37.5s\n",
            "1100:\tlearn: 1.0718222\ttest: 1.0829429\tbest: 1.0829429 (1100)\ttotal: 19.9s\tremaining: 34.2s\n",
            "1200:\tlearn: 1.0702567\ttest: 1.0826086\tbest: 1.0826086 (1200)\ttotal: 21s\tremaining: 31.5s\n",
            "1300:\tlearn: 1.0686840\ttest: 1.0823112\tbest: 1.0823112 (1300)\ttotal: 22.1s\tremaining: 28.9s\n",
            "1400:\tlearn: 1.0671978\ttest: 1.0819663\tbest: 1.0819663 (1400)\ttotal: 23.2s\tremaining: 26.5s\n",
            "1500:\tlearn: 1.0657685\ttest: 1.0816630\tbest: 1.0816629 (1499)\ttotal: 24.4s\tremaining: 24.4s\n",
            "1600:\tlearn: 1.0642780\ttest: 1.0814067\tbest: 1.0814050 (1598)\ttotal: 25.7s\tremaining: 22.5s\n",
            "1700:\tlearn: 1.0628801\ttest: 1.0811574\tbest: 1.0811574 (1700)\ttotal: 27.9s\tremaining: 21.3s\n",
            "1800:\tlearn: 1.0615133\ttest: 1.0809694\tbest: 1.0809694 (1800)\ttotal: 30.2s\tremaining: 20.1s\n",
            "1900:\tlearn: 1.0601648\ttest: 1.0807605\tbest: 1.0807583 (1899)\ttotal: 32.7s\tremaining: 18.9s\n",
            "2000:\tlearn: 1.0587644\ttest: 1.0806205\tbest: 1.0806171 (1999)\ttotal: 35.2s\tremaining: 17.6s\n",
            "2100:\tlearn: 1.0574156\ttest: 1.0804483\tbest: 1.0804480 (2099)\ttotal: 36.9s\tremaining: 15.8s\n",
            "2200:\tlearn: 1.0560762\ttest: 1.0802641\tbest: 1.0802641 (2200)\ttotal: 38s\tremaining: 13.8s\n",
            "2300:\tlearn: 1.0547519\ttest: 1.0801293\tbest: 1.0801254 (2298)\ttotal: 40.2s\tremaining: 12.2s\n",
            "2400:\tlearn: 1.0534229\ttest: 1.0800333\tbest: 1.0800316 (2399)\ttotal: 41.9s\tremaining: 10.5s\n",
            "2500:\tlearn: 1.0520842\ttest: 1.0799071\tbest: 1.0799070 (2494)\ttotal: 43s\tremaining: 8.58s\n",
            "2600:\tlearn: 1.0508228\ttest: 1.0797646\tbest: 1.0797646 (2600)\ttotal: 44.2s\tremaining: 6.78s\n",
            "2700:\tlearn: 1.0495656\ttest: 1.0796465\tbest: 1.0796465 (2700)\ttotal: 45.3s\tremaining: 5.01s\n",
            "2800:\tlearn: 1.0482951\ttest: 1.0795261\tbest: 1.0795258 (2799)\ttotal: 46.5s\tremaining: 3.3s\n",
            "2900:\tlearn: 1.0470255\ttest: 1.0794058\tbest: 1.0794058 (2900)\ttotal: 47.6s\tremaining: 1.62s\n",
            "2999:\tlearn: 1.0457698\ttest: 1.0792825\tbest: 1.0792791 (2998)\ttotal: 50.1s\tremaining: 0us\n",
            "bestTest = 1.079279129\n",
            "bestIteration = 2998\n",
            "Shrink model to first 2999 iterations.\n",
            "0:\tlearn: 1.1045939\ttest: 1.1036272\tbest: 1.1036272 (0)\ttotal: 16.5ms\tremaining: 49.5s\n",
            "100:\tlearn: 1.0952264\ttest: 1.0951645\tbest: 1.0951645 (100)\ttotal: 2.58s\tremaining: 1m 14s\n",
            "200:\tlearn: 1.0907438\ttest: 1.0919422\tbest: 1.0919422 (200)\ttotal: 4.88s\tremaining: 1m 8s\n",
            "300:\tlearn: 1.0875038\ttest: 1.0898594\tbest: 1.0898594 (300)\ttotal: 6.96s\tremaining: 1m 2s\n",
            "400:\tlearn: 1.0848840\ttest: 1.0884204\tbest: 1.0884204 (400)\ttotal: 9.06s\tremaining: 58.7s\n",
            "500:\tlearn: 1.0825648\ttest: 1.0872621\tbest: 1.0872621 (500)\ttotal: 11.5s\tremaining: 57.3s\n",
            "600:\tlearn: 1.0804561\ttest: 1.0862248\tbest: 1.0862248 (600)\ttotal: 14s\tremaining: 56s\n",
            "700:\tlearn: 1.0784642\ttest: 1.0854515\tbest: 1.0854515 (700)\ttotal: 16.1s\tremaining: 52.8s\n",
            "800:\tlearn: 1.0766058\ttest: 1.0848253\tbest: 1.0848253 (800)\ttotal: 18.6s\tremaining: 51s\n",
            "900:\tlearn: 1.0748467\ttest: 1.0842278\tbest: 1.0842278 (900)\ttotal: 20.1s\tremaining: 46.8s\n",
            "1000:\tlearn: 1.0731724\ttest: 1.0837211\tbest: 1.0837211 (1000)\ttotal: 22.6s\tremaining: 45s\n",
            "1100:\tlearn: 1.0715640\ttest: 1.0832451\tbest: 1.0832451 (1100)\ttotal: 25s\tremaining: 43.1s\n",
            "1200:\tlearn: 1.0700144\ttest: 1.0829242\tbest: 1.0829242 (1200)\ttotal: 27.4s\tremaining: 41s\n",
            "1300:\tlearn: 1.0684526\ttest: 1.0825897\tbest: 1.0825885 (1299)\ttotal: 29.8s\tremaining: 38.9s\n",
            "1400:\tlearn: 1.0669769\ttest: 1.0822851\tbest: 1.0822851 (1400)\ttotal: 32.2s\tremaining: 36.8s\n",
            "1500:\tlearn: 1.0655330\ttest: 1.0820148\tbest: 1.0820148 (1500)\ttotal: 34.1s\tremaining: 34s\n",
            "1600:\tlearn: 1.0641151\ttest: 1.0817907\tbest: 1.0817888 (1599)\ttotal: 36.2s\tremaining: 31.6s\n",
            "1700:\tlearn: 1.0626952\ttest: 1.0815271\tbest: 1.0815262 (1699)\ttotal: 38.6s\tremaining: 29.5s\n",
            "1800:\tlearn: 1.0613044\ttest: 1.0813151\tbest: 1.0813140 (1799)\ttotal: 41.1s\tremaining: 27.4s\n",
            "1900:\tlearn: 1.0599200\ttest: 1.0811788\tbest: 1.0811708 (1895)\ttotal: 43.2s\tremaining: 25s\n",
            "2000:\tlearn: 1.0585464\ttest: 1.0809923\tbest: 1.0809923 (2000)\ttotal: 45s\tremaining: 22.5s\n",
            "2100:\tlearn: 1.0571921\ttest: 1.0808418\tbest: 1.0808416 (2099)\ttotal: 47.5s\tremaining: 20.3s\n",
            "2200:\tlearn: 1.0559011\ttest: 1.0806903\tbest: 1.0806903 (2200)\ttotal: 49.9s\tremaining: 18.1s\n",
            "2300:\tlearn: 1.0545456\ttest: 1.0805497\tbest: 1.0805497 (2300)\ttotal: 52.4s\tremaining: 15.9s\n",
            "2400:\tlearn: 1.0532480\ttest: 1.0803966\tbest: 1.0803966 (2400)\ttotal: 54.1s\tremaining: 13.5s\n",
            "2500:\tlearn: 1.0519436\ttest: 1.0802798\tbest: 1.0802798 (2500)\ttotal: 55.3s\tremaining: 11s\n",
            "2600:\tlearn: 1.0506378\ttest: 1.0801431\tbest: 1.0801431 (2600)\ttotal: 56.8s\tremaining: 8.71s\n",
            "2700:\tlearn: 1.0493185\ttest: 1.0800106\tbest: 1.0800086 (2698)\ttotal: 58.6s\tremaining: 6.48s\n",
            "2800:\tlearn: 1.0480501\ttest: 1.0798877\tbest: 1.0798818 (2798)\ttotal: 59.9s\tremaining: 4.26s\n",
            "2900:\tlearn: 1.0467496\ttest: 1.0797381\tbest: 1.0797281 (2895)\ttotal: 1m 1s\tremaining: 2.08s\n",
            "2999:\tlearn: 1.0455093\ttest: 1.0796131\tbest: 1.0796080 (2996)\ttotal: 1m 2s\tremaining: 0us\n",
            "bestTest = 1.079608002\n",
            "bestIteration = 2996\n",
            "Shrink model to first 2997 iterations.\n"
          ],
          "name": "stdout"
        }
      ]
    },
    {
      "cell_type": "markdown",
      "metadata": {
        "id": "sK9c34jfsjxX"
      },
      "source": [
        "# LGBM LB: 7.90478"
      ]
    },
    {
      "cell_type": "code",
      "metadata": {
        "colab": {
          "base_uri": "https://localhost:8080/"
        },
        "id": "bLbpI3PrY-Lo",
        "outputId": "e442d988-bbbc-422e-da32-993cb33dc2ea"
      },
      "source": [
        "params = {'objective':'poisson', 'metric': 'rmse' } #'objective': 'mean_squared_error',\n",
        "from sklearn.metrics import mean_absolute_error\n",
        "X_train, X_test, Y_train, Y_test = train_test_split(x_train, y_train, test_size=0.3, random_state=42)\n",
        "lgb_train = lightgbm.Dataset(X_train, Y_train)\n",
        "lgb_valid = lightgbm.Dataset(X_test, Y_test)\n",
        "model = lgbo.train(params, lgb_train, valid_sets=[lgb_valid], verbose_eval=False, num_boost_round=100, early_stopping_rounds=5) \n",
        "model.params"
      ],
      "execution_count": 46,
      "outputs": [
        {
          "output_type": "stream",
          "text": [
            "\u001b[32m[I 2021-08-17 09:42:37,640]\u001b[0m A new study created in memory with name: no-name-ba7185ec-30d1-491a-be13-575eca4cd114\u001b[0m\n",
            "feature_fraction, val_score: 7.879661:  14%|#4        | 1/7 [00:14<01:26, 14.39s/it]\u001b[32m[I 2021-08-17 09:42:52,042]\u001b[0m Trial 0 finished with value: 7.879660976508031 and parameters: {'feature_fraction': 0.8}. Best is trial 0 with value: 7.879660976508031.\u001b[0m\n",
            "feature_fraction, val_score: 7.879661:  29%|##8       | 2/7 [00:24<01:00, 12.04s/it]\u001b[32m[I 2021-08-17 09:43:02,433]\u001b[0m Trial 1 finished with value: 7.880145065165371 and parameters: {'feature_fraction': 0.4}. Best is trial 0 with value: 7.879660976508031.\u001b[0m\n",
            "feature_fraction, val_score: 7.879661:  43%|####2     | 3/7 [00:37<00:50, 12.51s/it]\u001b[32m[I 2021-08-17 09:43:15,498]\u001b[0m Trial 2 finished with value: 7.879734648721687 and parameters: {'feature_fraction': 0.6}. Best is trial 0 with value: 7.879660976508031.\u001b[0m\n",
            "feature_fraction, val_score: 7.878592:  57%|#####7    | 4/7 [00:49<00:36, 12.24s/it]\u001b[32m[I 2021-08-17 09:43:27,337]\u001b[0m Trial 3 finished with value: 7.878591863643372 and parameters: {'feature_fraction': 0.5}. Best is trial 3 with value: 7.878591863643372.\u001b[0m\n",
            "feature_fraction, val_score: 7.878592:  71%|#######1  | 5/7 [01:05<00:26, 13.37s/it]\u001b[32m[I 2021-08-17 09:43:42,700]\u001b[0m Trial 4 finished with value: 7.87953386613191 and parameters: {'feature_fraction': 0.8999999999999999}. Best is trial 3 with value: 7.878591863643372.\u001b[0m\n",
            "feature_fraction, val_score: 7.878592:  86%|########5 | 6/7 [01:18<00:13, 13.35s/it]\u001b[32m[I 2021-08-17 09:43:56,023]\u001b[0m Trial 5 finished with value: 7.878997030894204 and parameters: {'feature_fraction': 0.7}. Best is trial 3 with value: 7.878591863643372.\u001b[0m\n",
            "feature_fraction, val_score: 7.878592: 100%|##########| 7/7 [01:35<00:00, 14.57s/it]\u001b[32m[I 2021-08-17 09:44:13,094]\u001b[0m Trial 6 finished with value: 7.87925420394927 and parameters: {'feature_fraction': 1.0}. Best is trial 3 with value: 7.878591863643372.\u001b[0m\n",
            "feature_fraction, val_score: 7.878592: 100%|##########| 7/7 [01:35<00:00, 13.64s/it]\n",
            "num_leaves, val_score: 7.877161:   5%|5         | 1/20 [00:13<04:08, 13.09s/it]\u001b[32m[I 2021-08-17 09:44:26,203]\u001b[0m Trial 7 finished with value: 7.8771610268160615 and parameters: {'num_leaves': 49}. Best is trial 7 with value: 7.8771610268160615.\u001b[0m\n",
            "num_leaves, val_score: 7.876384:  10%|#         | 2/20 [00:29<04:26, 14.78s/it]\u001b[32m[I 2021-08-17 09:44:42,170]\u001b[0m Trial 8 finished with value: 7.876384143565397 and parameters: {'num_leaves': 111}. Best is trial 8 with value: 7.876384143565397.\u001b[0m\n",
            "num_leaves, val_score: 7.876384:  15%|#5        | 3/20 [00:47<04:42, 16.60s/it]\u001b[32m[I 2021-08-17 09:45:00,941]\u001b[0m Trial 9 finished with value: 7.878052286674945 and parameters: {'num_leaves': 188}. Best is trial 8 with value: 7.876384143565397.\u001b[0m\n",
            "num_leaves, val_score: 7.874714:  20%|##        | 4/20 [01:05<04:34, 17.17s/it]\u001b[32m[I 2021-08-17 09:45:18,979]\u001b[0m Trial 10 finished with value: 7.874714384765062 and parameters: {'num_leaves': 153}. Best is trial 10 with value: 7.874714384765062.\u001b[0m\n",
            "num_leaves, val_score: 7.874714:  25%|##5       | 5/20 [01:26<04:36, 18.43s/it]\u001b[32m[I 2021-08-17 09:45:39,637]\u001b[0m Trial 11 finished with value: 7.8796298266768785 and parameters: {'num_leaves': 200}. Best is trial 10 with value: 7.874714384765062.\u001b[0m\n",
            "num_leaves, val_score: 7.874714:  30%|###       | 6/20 [01:42<04:05, 17.57s/it]\u001b[32m[I 2021-08-17 09:45:55,544]\u001b[0m Trial 12 finished with value: 7.875718847610126 and parameters: {'num_leaves': 105}. Best is trial 10 with value: 7.874714384765062.\u001b[0m\n",
            "num_leaves, val_score: 7.873654:  35%|###5      | 7/20 [01:57<03:38, 16.81s/it]\u001b[32m[I 2021-08-17 09:46:10,776]\u001b[0m Trial 13 finished with value: 7.873654070623889 and parameters: {'num_leaves': 84}. Best is trial 13 with value: 7.873654070623889.\u001b[0m\n",
            "num_leaves, val_score: 7.873654:  40%|####      | 8/20 [02:19<03:39, 18.27s/it]\u001b[32m[I 2021-08-17 09:46:32,172]\u001b[0m Trial 14 finished with value: 7.87961128439233 and parameters: {'num_leaves': 240}. Best is trial 13 with value: 7.873654070623889.\u001b[0m\n",
            "num_leaves, val_score: 7.873654:  45%|####5     | 9/20 [02:40<03:30, 19.14s/it]\u001b[32m[I 2021-08-17 09:46:53,230]\u001b[0m Trial 15 finished with value: 7.875674918655496 and parameters: {'num_leaves': 229}. Best is trial 13 with value: 7.873654070623889.\u001b[0m\n",
            "num_leaves, val_score: 7.873654:  50%|#####     | 10/20 [02:50<02:44, 16.49s/it]\u001b[32m[I 2021-08-17 09:47:03,770]\u001b[0m Trial 16 finished with value: 7.885516190959036 and parameters: {'num_leaves': 16}. Best is trial 13 with value: 7.873654070623889.\u001b[0m\n",
            "num_leaves, val_score: 7.873046:  55%|#####5    | 11/20 [03:05<02:22, 15.87s/it]\u001b[32m[I 2021-08-17 09:47:18,244]\u001b[0m Trial 17 finished with value: 7.873046397906527 and parameters: {'num_leaves': 71}. Best is trial 17 with value: 7.873046397906527.\u001b[0m\n",
            "num_leaves, val_score: 7.873046:  60%|######    | 12/20 [03:18<02:01, 15.15s/it]\u001b[32m[I 2021-08-17 09:47:31,745]\u001b[0m Trial 18 finished with value: 7.8748452806279845 and parameters: {'num_leaves': 66}. Best is trial 17 with value: 7.873046397906527.\u001b[0m\n",
            "num_leaves, val_score: 7.872746:  65%|######5   | 13/20 [03:32<01:43, 14.72s/it]\u001b[32m[I 2021-08-17 09:47:45,469]\u001b[0m Trial 19 finished with value: 7.872746430676772 and parameters: {'num_leaves': 73}. Best is trial 19 with value: 7.872746430676772.\u001b[0m\n",
            "num_leaves, val_score: 7.872746:  70%|#######   | 14/20 [03:39<01:14, 12.42s/it]\u001b[32m[I 2021-08-17 09:47:52,596]\u001b[0m Trial 20 finished with value: 7.915502844198047 and parameters: {'num_leaves': 3}. Best is trial 19 with value: 7.872746430676772.\u001b[0m\n",
            "num_leaves, val_score: 7.872746:  75%|#######5  | 15/20 [03:57<01:10, 14.14s/it]\u001b[32m[I 2021-08-17 09:48:10,715]\u001b[0m Trial 21 finished with value: 7.874351246964145 and parameters: {'num_leaves': 146}. Best is trial 19 with value: 7.872746430676772.\u001b[0m\n",
            "num_leaves, val_score: 7.872746:  80%|########  | 16/20 [04:10<00:55, 13.83s/it]\u001b[32m[I 2021-08-17 09:48:23,832]\u001b[0m Trial 22 finished with value: 7.8771610268160615 and parameters: {'num_leaves': 49}. Best is trial 19 with value: 7.872746430676772.\u001b[0m\n",
            "num_leaves, val_score: 7.872746:  85%|########5 | 17/20 [04:22<00:39, 13.13s/it]\u001b[32m[I 2021-08-17 09:48:35,339]\u001b[0m Trial 23 finished with value: 7.877077888620263 and parameters: {'num_leaves': 36}. Best is trial 19 with value: 7.872746430676772.\u001b[0m\n",
            "num_leaves, val_score: 7.872746:  90%|######### | 18/20 [04:36<00:27, 13.52s/it]\u001b[32m[I 2021-08-17 09:48:49,752]\u001b[0m Trial 24 finished with value: 7.873654070623889 and parameters: {'num_leaves': 84}. Best is trial 19 with value: 7.872746430676772.\u001b[0m\n",
            "num_leaves, val_score: 7.872746:  95%|#########5| 19/20 [04:52<00:14, 14.33s/it]\u001b[32m[I 2021-08-17 09:49:05,974]\u001b[0m Trial 25 finished with value: 7.8751451200729115 and parameters: {'num_leaves': 119}. Best is trial 19 with value: 7.872746430676772.\u001b[0m\n",
            "num_leaves, val_score: 7.872746: 100%|##########| 20/20 [05:08<00:00, 14.66s/it]\u001b[32m[I 2021-08-17 09:49:21,413]\u001b[0m Trial 26 finished with value: 7.874367052536341 and parameters: {'num_leaves': 88}. Best is trial 19 with value: 7.872746430676772.\u001b[0m\n",
            "num_leaves, val_score: 7.872746: 100%|##########| 20/20 [05:08<00:00, 15.42s/it]\n",
            "bagging, val_score: 7.872746:  10%|#         | 1/10 [00:14<02:07, 14.20s/it]\u001b[32m[I 2021-08-17 09:49:35,635]\u001b[0m Trial 27 finished with value: 7.873686064081986 and parameters: {'bagging_fraction': 0.7675897331377493, 'bagging_freq': 7}. Best is trial 27 with value: 7.873686064081986.\u001b[0m\n",
            "bagging, val_score: 7.872746:  20%|##        | 2/10 [00:26<01:44, 13.03s/it]\u001b[32m[I 2021-08-17 09:49:47,841]\u001b[0m Trial 28 finished with value: 7.8821425752031 and parameters: {'bagging_fraction': 0.5090200650162946, 'bagging_freq': 5}. Best is trial 27 with value: 7.873686064081986.\u001b[0m\n",
            "bagging, val_score: 7.872746:  30%|###       | 3/10 [00:39<01:29, 12.83s/it]\u001b[32m[I 2021-08-17 09:50:00,438]\u001b[0m Trial 29 finished with value: 7.879771034669587 and parameters: {'bagging_fraction': 0.5800244147636583, 'bagging_freq': 3}. Best is trial 27 with value: 7.873686064081986.\u001b[0m\n",
            "bagging, val_score: 7.872746:  40%|####      | 4/10 [00:51<01:16, 12.67s/it]\u001b[32m[I 2021-08-17 09:50:12,860]\u001b[0m Trial 30 finished with value: 7.882896047550268 and parameters: {'bagging_fraction': 0.49046527879803503, 'bagging_freq': 2}. Best is trial 27 with value: 7.873686064081986.\u001b[0m\n",
            "bagging, val_score: 7.872746:  50%|#####     | 5/10 [01:06<01:08, 13.66s/it]\u001b[32m[I 2021-08-17 09:50:28,285]\u001b[0m Trial 31 finished with value: 7.875659572439083 and parameters: {'bagging_fraction': 0.8845653328349834, 'bagging_freq': 7}. Best is trial 27 with value: 7.873686064081986.\u001b[0m\n",
            "bagging, val_score: 7.872746:  60%|######    | 6/10 [01:22<00:57, 14.38s/it]\u001b[32m[I 2021-08-17 09:50:44,071]\u001b[0m Trial 32 finished with value: 7.876566689220054 and parameters: {'bagging_fraction': 0.9555072408039427, 'bagging_freq': 3}. Best is trial 27 with value: 7.873686064081986.\u001b[0m\n",
            "bagging, val_score: 7.872746:  70%|#######   | 7/10 [01:36<00:42, 14.30s/it]\u001b[32m[I 2021-08-17 09:50:58,194]\u001b[0m Trial 33 finished with value: 7.880079722393915 and parameters: {'bagging_fraction': 0.6670147670680392, 'bagging_freq': 3}. Best is trial 27 with value: 7.873686064081986.\u001b[0m\n",
            "bagging, val_score: 7.872746:  80%|########  | 8/10 [01:50<00:28, 14.06s/it]\u001b[32m[I 2021-08-17 09:51:11,740]\u001b[0m Trial 34 finished with value: 7.8773703891401174 and parameters: {'bagging_fraction': 0.6222542165007373, 'bagging_freq': 5}. Best is trial 27 with value: 7.873686064081986.\u001b[0m\n",
            "bagging, val_score: 7.872746:  90%|######### | 9/10 [02:02<00:13, 13.51s/it]\u001b[32m[I 2021-08-17 09:51:24,027]\u001b[0m Trial 35 finished with value: 7.883425223516163 and parameters: {'bagging_fraction': 0.5559363846656322, 'bagging_freq': 1}. Best is trial 27 with value: 7.873686064081986.\u001b[0m\n",
            "bagging, val_score: 7.872746: 100%|##########| 10/10 [02:16<00:00, 13.55s/it]\u001b[32m[I 2021-08-17 09:51:37,674]\u001b[0m Trial 36 finished with value: 7.880558494151395 and parameters: {'bagging_fraction': 0.6977400013642829, 'bagging_freq': 2}. Best is trial 27 with value: 7.873686064081986.\u001b[0m\n",
            "bagging, val_score: 7.872746: 100%|##########| 10/10 [02:16<00:00, 13.63s/it]\n",
            "feature_fraction_stage2, val_score: 7.872746:  17%|#6        | 1/6 [00:13<01:05, 13.14s/it]\u001b[32m[I 2021-08-17 09:51:50,836]\u001b[0m Trial 37 finished with value: 7.875998149534693 and parameters: {'feature_fraction': 0.45199999999999996}. Best is trial 37 with value: 7.875998149534693.\u001b[0m\n",
            "feature_fraction_stage2, val_score: 7.872746:  33%|###3      | 2/6 [00:28<00:58, 14.69s/it]\u001b[32m[I 2021-08-17 09:52:06,619]\u001b[0m Trial 38 finished with value: 7.876977192551327 and parameters: {'feature_fraction': 0.58}. Best is trial 37 with value: 7.875998149534693.\u001b[0m\n",
            "feature_fraction_stage2, val_score: 7.872746:  50%|#####     | 3/6 [00:43<00:43, 14.44s/it]\u001b[32m[I 2021-08-17 09:52:20,755]\u001b[0m Trial 39 finished with value: 7.874757311614434 and parameters: {'feature_fraction': 0.484}. Best is trial 39 with value: 7.874757311614434.\u001b[0m\n",
            "feature_fraction_stage2, val_score: 7.872746:  67%|######6   | 4/6 [00:57<00:28, 14.40s/it]\u001b[32m[I 2021-08-17 09:52:35,084]\u001b[0m Trial 40 finished with value: 7.874178144031145 and parameters: {'feature_fraction': 0.5479999999999999}. Best is trial 40 with value: 7.874178144031145.\u001b[0m\n",
            "feature_fraction_stage2, val_score: 7.872746:  83%|########3 | 5/6 [01:09<00:13, 13.70s/it]\u001b[32m[I 2021-08-17 09:52:47,547]\u001b[0m Trial 41 finished with value: 7.876760357219783 and parameters: {'feature_fraction': 0.42}. Best is trial 40 with value: 7.874178144031145.\u001b[0m\n",
            "feature_fraction_stage2, val_score: 7.872746: 100%|##########| 6/6 [01:24<00:00, 13.93s/it]\u001b[32m[I 2021-08-17 09:53:01,917]\u001b[0m Trial 42 finished with value: 7.876310835035224 and parameters: {'feature_fraction': 0.516}. Best is trial 40 with value: 7.874178144031145.\u001b[0m\n",
            "feature_fraction_stage2, val_score: 7.872746: 100%|##########| 6/6 [01:24<00:00, 14.04s/it]\n",
            "regularization_factors, val_score: 7.872746:   5%|5         | 1/20 [00:14<04:38, 14.63s/it]\u001b[32m[I 2021-08-17 09:53:16,572]\u001b[0m Trial 43 finished with value: 7.872746433414837 and parameters: {'lambda_l1': 0.0026440908443283234, 'lambda_l2': 9.014720044496227e-07}. Best is trial 43 with value: 7.872746433414837.\u001b[0m\n",
            "regularization_factors, val_score: 7.872746:  10%|#         | 2/20 [00:28<04:17, 14.33s/it]\u001b[32m[I 2021-08-17 09:53:30,696]\u001b[0m Trial 44 finished with value: 7.872746430673923 and parameters: {'lambda_l1': 4.2955400754313404e-08, 'lambda_l2': 7.668063541679783e-07}. Best is trial 44 with value: 7.872746430673923.\u001b[0m\n",
            "regularization_factors, val_score: 7.872746:  15%|#5        | 3/20 [00:42<03:59, 14.09s/it]\u001b[32m[I 2021-08-17 09:53:44,488]\u001b[0m Trial 45 finished with value: 7.87274643067643 and parameters: {'lambda_l1': 8.97261568266226e-08, 'lambda_l2': 6.853731265148251e-08}. Best is trial 44 with value: 7.872746430673923.\u001b[0m\n",
            "regularization_factors, val_score: 7.872746:  20%|##        | 4/20 [00:56<03:42, 13.93s/it]\u001b[32m[I 2021-08-17 09:53:58,183]\u001b[0m Trial 46 finished with value: 7.873881842188163 and parameters: {'lambda_l1': 1.2431713216457185e-06, 'lambda_l2': 0.7069517073109244}. Best is trial 44 with value: 7.872746430673923.\u001b[0m\n",
            "regularization_factors, val_score: 7.872746:  25%|##5       | 5/20 [01:10<03:32, 14.17s/it]\u001b[32m[I 2021-08-17 09:54:12,766]\u001b[0m Trial 47 finished with value: 7.8753975889231524 and parameters: {'lambda_l1': 0.19591807192048485, 'lambda_l2': 0.00043280811116887887}. Best is trial 44 with value: 7.872746430673923.\u001b[0m\n",
            "regularization_factors, val_score: 7.872746:  30%|###       | 6/20 [01:25<03:19, 14.28s/it]\u001b[32m[I 2021-08-17 09:54:27,275]\u001b[0m Trial 48 finished with value: 7.872746431558295 and parameters: {'lambda_l1': 0.0039781143350291525, 'lambda_l2': 0.000788454065206817}. Best is trial 44 with value: 7.872746430673923.\u001b[0m\n",
            "regularization_factors, val_score: 7.872746:  35%|###5      | 7/20 [01:39<03:04, 14.18s/it]\u001b[32m[I 2021-08-17 09:54:41,257]\u001b[0m Trial 49 finished with value: 7.8746202010521795 and parameters: {'lambda_l1': 2.391057712455526, 'lambda_l2': 2.4821101837394828e-06}. Best is trial 44 with value: 7.872746430673923.\u001b[0m\n",
            "regularization_factors, val_score: 7.872746:  40%|####      | 8/20 [01:53<02:48, 14.06s/it]\u001b[32m[I 2021-08-17 09:54:55,036]\u001b[0m Trial 50 finished with value: 7.872746431061742 and parameters: {'lambda_l1': 0.0005866699304376548, 'lambda_l2': 5.758735620127443e-05}. Best is trial 44 with value: 7.872746430673923.\u001b[0m\n",
            "regularization_factors, val_score: 7.872746:  45%|####5     | 9/20 [02:07<02:34, 14.01s/it]\u001b[32m[I 2021-08-17 09:55:08,946]\u001b[0m Trial 51 finished with value: 7.875746353185412 and parameters: {'lambda_l1': 0.06080863073790979, 'lambda_l2': 0.4392925783864905}. Best is trial 44 with value: 7.872746430673923.\u001b[0m\n",
            "regularization_factors, val_score: 7.872746:  50%|#####     | 10/20 [02:21<02:22, 14.25s/it]\u001b[32m[I 2021-08-17 09:55:23,719]\u001b[0m Trial 52 finished with value: 7.873706326595378 and parameters: {'lambda_l1': 4.805884218594745e-08, 'lambda_l2': 1.9716983568084434}. Best is trial 44 with value: 7.872746430673923.\u001b[0m\n",
            "regularization_factors, val_score: 7.872746:  55%|#####5    | 11/20 [02:36<02:08, 14.24s/it]\u001b[32m[I 2021-08-17 09:55:37,949]\u001b[0m Trial 53 finished with value: 7.872746430685203 and parameters: {'lambda_l1': 8.631780207434948e-06, 'lambda_l2': 1.4008863185784722e-08}. Best is trial 44 with value: 7.872746430673923.\u001b[0m\n",
            "regularization_factors, val_score: 7.872746:  60%|######    | 12/20 [02:49<01:52, 14.11s/it]\u001b[32m[I 2021-08-17 09:55:51,743]\u001b[0m Trial 54 finished with value: 7.872746430676727 and parameters: {'lambda_l1': 1.0832372133021419e-08, 'lambda_l2': 1.2356131104956424e-08}. Best is trial 44 with value: 7.872746430673923.\u001b[0m\n",
            "regularization_factors, val_score: 7.872746:  65%|######5   | 13/20 [03:03<01:37, 13.99s/it]\u001b[32m[I 2021-08-17 09:56:05,461]\u001b[0m Trial 55 finished with value: 7.872746430676586 and parameters: {'lambda_l1': 2.597409647509733e-06, 'lambda_l2': 5.101032366659059e-07}. Best is trial 44 with value: 7.872746430673923.\u001b[0m\n",
            "regularization_factors, val_score: 7.872746:  70%|#######   | 14/20 [03:17<01:24, 14.05s/it]\u001b[32m[I 2021-08-17 09:56:19,656]\u001b[0m Trial 56 finished with value: 7.87274643061679 and parameters: {'lambda_l1': 2.2664034692393105e-07, 'lambda_l2': 1.4434171763270524e-05}. Best is trial 56 with value: 7.87274643061679.\u001b[0m\n",
            "regularization_factors, val_score: 7.872746:  75%|#######5  | 15/20 [03:32<01:11, 14.21s/it]\u001b[32m[I 2021-08-17 09:56:34,226]\u001b[0m Trial 57 finished with value: 7.872746430629554 and parameters: {'lambda_l1': 2.2021878336281265e-05, 'lambda_l2': 2.002544871554302e-05}. Best is trial 56 with value: 7.87274643061679.\u001b[0m\n",
            "regularization_factors, val_score: 7.872746:  80%|########  | 16/20 [03:46<00:56, 14.20s/it]\u001b[32m[I 2021-08-17 09:56:48,412]\u001b[0m Trial 58 finished with value: 7.87274635101672 and parameters: {'lambda_l1': 4.403512181343764e-05, 'lambda_l2': 0.019497702472195934}. Best is trial 58 with value: 7.87274635101672.\u001b[0m\n",
            "regularization_factors, val_score: 7.872746:  85%|########5 | 17/20 [04:01<00:42, 14.31s/it]\u001b[32m[I 2021-08-17 09:57:02,993]\u001b[0m Trial 59 finished with value: 7.872746346285719 and parameters: {'lambda_l1': 5.935568949691758e-05, 'lambda_l2': 0.020658266215490776}. Best is trial 59 with value: 7.872746346285719.\u001b[0m\n",
            "regularization_factors, val_score: 7.872746:  90%|######### | 18/20 [04:15<00:28, 14.31s/it]\u001b[32m[I 2021-08-17 09:57:17,277]\u001b[0m Trial 60 finished with value: 7.872746359031312 and parameters: {'lambda_l1': 3.9357213111109925e-05, 'lambda_l2': 0.017535649582715303}. Best is trial 59 with value: 7.872746346285719.\u001b[0m\n",
            "regularization_factors, val_score: 7.872746:  95%|#########5| 19/20 [04:29<00:14, 14.17s/it]\u001b[32m[I 2021-08-17 09:57:31,140]\u001b[0m Trial 61 finished with value: 7.87274622199695 and parameters: {'lambda_l1': 8.755102929703258e-05, 'lambda_l2': 0.05108148686084268}. Best is trial 61 with value: 7.87274622199695.\u001b[0m\n",
            "regularization_factors, val_score: 7.872746: 100%|##########| 20/20 [04:42<00:00, 13.99s/it]\u001b[32m[I 2021-08-17 09:57:44,717]\u001b[0m Trial 62 finished with value: 7.8727463785634635 and parameters: {'lambda_l1': 0.0002644469210495932, 'lambda_l2': 0.012814098326258183}. Best is trial 61 with value: 7.87274622199695.\u001b[0m\n",
            "regularization_factors, val_score: 7.872746: 100%|##########| 20/20 [04:42<00:00, 14.14s/it]\n",
            "min_data_in_leaf, val_score: 7.872746:  20%|##        | 1/5 [00:13<00:55, 13.82s/it]\u001b[32m[I 2021-08-17 09:57:58,559]\u001b[0m Trial 63 finished with value: 7.875883219164872 and parameters: {'min_child_samples': 5}. Best is trial 63 with value: 7.875883219164872.\u001b[0m\n",
            "min_data_in_leaf, val_score: 7.872746:  40%|####      | 2/5 [00:28<00:42, 14.29s/it]\u001b[32m[I 2021-08-17 09:58:13,181]\u001b[0m Trial 64 finished with value: 7.8735475439370015 and parameters: {'min_child_samples': 25}. Best is trial 64 with value: 7.8735475439370015.\u001b[0m\n",
            "min_data_in_leaf, val_score: 7.871976:  60%|######    | 3/5 [00:42<00:28, 14.39s/it]\u001b[32m[I 2021-08-17 09:58:27,679]\u001b[0m Trial 65 finished with value: 7.871975671071098 and parameters: {'min_child_samples': 100}. Best is trial 65 with value: 7.871975671071098.\u001b[0m\n",
            "min_data_in_leaf, val_score: 7.871976:  80%|########  | 4/5 [00:56<00:14, 14.17s/it]\u001b[32m[I 2021-08-17 09:58:41,517]\u001b[0m Trial 66 finished with value: 7.8732256444639 and parameters: {'min_child_samples': 50}. Best is trial 65 with value: 7.871975671071098.\u001b[0m\n",
            "min_data_in_leaf, val_score: 7.871976: 100%|##########| 5/5 [01:10<00:00, 13.96s/it]\u001b[32m[I 2021-08-17 09:58:55,121]\u001b[0m Trial 67 finished with value: 7.877254711764101 and parameters: {'min_child_samples': 10}. Best is trial 65 with value: 7.871975671071098.\u001b[0m\n",
            "min_data_in_leaf, val_score: 7.871976: 100%|##########| 5/5 [01:10<00:00, 14.08s/it]\n"
          ],
          "name": "stderr"
        },
        {
          "output_type": "execute_result",
          "data": {
            "text/plain": [
              "{'bagging_fraction': 1.0,\n",
              " 'bagging_freq': 0,\n",
              " 'feature_fraction': 0.5,\n",
              " 'feature_pre_filter': False,\n",
              " 'lambda_l1': 8.755102929703258e-05,\n",
              " 'lambda_l2': 0.05108148686084268,\n",
              " 'metric': 'rmse',\n",
              " 'min_child_samples': 100,\n",
              " 'num_leaves': 73,\n",
              " 'objective': 'poisson'}"
            ]
          },
          "metadata": {
            "tags": []
          },
          "execution_count": 46
        }
      ]
    },
    {
      "cell_type": "code",
      "metadata": {
        "colab": {
          "base_uri": "https://localhost:8080/",
          "height": 457
        },
        "id": "DGAUKm04h5ux",
        "outputId": "8beaf042-ea5a-4369-dc2b-306de0e8d11d"
      },
      "source": [
        "sk = StratifiedKFold(n_splits=5, shuffle=True, random_state=42)\n",
        "kf = KFold(n_splits=5, shuffle=True, random_state=42)\n",
        "preds = np.zeros((x_test.shape[0],))\n",
        "best_lgb_params = model.params\n",
        "best_lgb_params[\"learning_rate\"] = 0.006\n",
        "best_lgb_params[\"num_iterations\"] = 80000\n",
        "\n",
        "for i, (train_index, valid_index) in enumerate(kf.split(x_train, y_train)):\n",
        "  X_train, X_valid = x_train.iloc[train_index], x_train.iloc[valid_index]\n",
        "  Y_train, Y_valid = y_train.iloc[train_index], y_train.iloc[valid_index]\n",
        "\n",
        "  model_lgb = lightgbm.LGBMRegressor(**best_lgb_params)\n",
        "  model_lgb.fit(X_train, Y_train, eval_set=[(X_train, Y_train), (X_valid, Y_valid)], verbose=100, early_stopping_rounds=70)\n",
        "\n",
        "  preds += model_lgb.predict(x_test) / kf.n_splits\n",
        "  val_preds = model_lgb.predict(X_valid)\n",
        "  RMSE = np.sqrt(mean_squared_error(val_preds, Y_valid))\n",
        "  print(f'{i+1}번째 RMSE:{RMSE}')"
      ],
      "execution_count": 47,
      "outputs": [
        {
          "output_type": "stream",
          "text": [
            "/usr/local/lib/python3.7/dist-packages/lightgbm/engine.py:118: UserWarning:\n",
            "\n",
            "Found `num_iterations` in params. Will use it instead of argument\n",
            "\n"
          ],
          "name": "stderr"
        },
        {
          "output_type": "error",
          "ename": "KeyboardInterrupt",
          "evalue": "ignored",
          "traceback": [
            "\u001b[0;31m---------------------------------------------------------------------------\u001b[0m",
            "\u001b[0;31mKeyboardInterrupt\u001b[0m                         Traceback (most recent call last)",
            "\u001b[0;32m<ipython-input-47-1d1fb6226273>\u001b[0m in \u001b[0;36m<module>\u001b[0;34m()\u001b[0m\n\u001b[1;32m     11\u001b[0m \u001b[0;34m\u001b[0m\u001b[0m\n\u001b[1;32m     12\u001b[0m   \u001b[0mmodel_lgb\u001b[0m \u001b[0;34m=\u001b[0m \u001b[0mlightgbm\u001b[0m\u001b[0;34m.\u001b[0m\u001b[0mLGBMRegressor\u001b[0m\u001b[0;34m(\u001b[0m\u001b[0;34m**\u001b[0m\u001b[0mbest_lgb_params\u001b[0m\u001b[0;34m)\u001b[0m\u001b[0;34m\u001b[0m\u001b[0;34m\u001b[0m\u001b[0m\n\u001b[0;32m---> 13\u001b[0;31m   \u001b[0mmodel_lgb\u001b[0m\u001b[0;34m.\u001b[0m\u001b[0mfit\u001b[0m\u001b[0;34m(\u001b[0m\u001b[0mX_train\u001b[0m\u001b[0;34m,\u001b[0m \u001b[0mY_train\u001b[0m\u001b[0;34m,\u001b[0m \u001b[0meval_set\u001b[0m\u001b[0;34m=\u001b[0m\u001b[0;34m[\u001b[0m\u001b[0;34m(\u001b[0m\u001b[0mX_train\u001b[0m\u001b[0;34m,\u001b[0m \u001b[0mY_train\u001b[0m\u001b[0;34m)\u001b[0m\u001b[0;34m,\u001b[0m \u001b[0;34m(\u001b[0m\u001b[0mX_valid\u001b[0m\u001b[0;34m,\u001b[0m \u001b[0mY_valid\u001b[0m\u001b[0;34m)\u001b[0m\u001b[0;34m]\u001b[0m\u001b[0;34m,\u001b[0m \u001b[0mverbose\u001b[0m\u001b[0;34m=\u001b[0m\u001b[0;36m100\u001b[0m\u001b[0;34m,\u001b[0m \u001b[0mearly_stopping_rounds\u001b[0m\u001b[0;34m=\u001b[0m\u001b[0;36m70\u001b[0m\u001b[0;34m)\u001b[0m\u001b[0;34m\u001b[0m\u001b[0;34m\u001b[0m\u001b[0m\n\u001b[0m\u001b[1;32m     14\u001b[0m \u001b[0;34m\u001b[0m\u001b[0m\n\u001b[1;32m     15\u001b[0m   \u001b[0mpreds\u001b[0m \u001b[0;34m+=\u001b[0m \u001b[0mmodel_lgb\u001b[0m\u001b[0;34m.\u001b[0m\u001b[0mpredict\u001b[0m\u001b[0;34m(\u001b[0m\u001b[0mx_test\u001b[0m\u001b[0;34m)\u001b[0m \u001b[0;34m/\u001b[0m \u001b[0mkf\u001b[0m\u001b[0;34m.\u001b[0m\u001b[0mn_splits\u001b[0m\u001b[0;34m\u001b[0m\u001b[0;34m\u001b[0m\u001b[0m\n",
            "\u001b[0;32m/usr/local/lib/python3.7/dist-packages/lightgbm/sklearn.py\u001b[0m in \u001b[0;36mfit\u001b[0;34m(self, X, y, sample_weight, init_score, eval_set, eval_names, eval_sample_weight, eval_init_score, eval_metric, early_stopping_rounds, verbose, feature_name, categorical_feature, callbacks)\u001b[0m\n\u001b[1;32m    683\u001b[0m                                        \u001b[0mverbose\u001b[0m\u001b[0;34m=\u001b[0m\u001b[0mverbose\u001b[0m\u001b[0;34m,\u001b[0m \u001b[0mfeature_name\u001b[0m\u001b[0;34m=\u001b[0m\u001b[0mfeature_name\u001b[0m\u001b[0;34m,\u001b[0m\u001b[0;34m\u001b[0m\u001b[0;34m\u001b[0m\u001b[0m\n\u001b[1;32m    684\u001b[0m                                        \u001b[0mcategorical_feature\u001b[0m\u001b[0;34m=\u001b[0m\u001b[0mcategorical_feature\u001b[0m\u001b[0;34m,\u001b[0m\u001b[0;34m\u001b[0m\u001b[0;34m\u001b[0m\u001b[0m\n\u001b[0;32m--> 685\u001b[0;31m                                        callbacks=callbacks)\n\u001b[0m\u001b[1;32m    686\u001b[0m         \u001b[0;32mreturn\u001b[0m \u001b[0mself\u001b[0m\u001b[0;34m\u001b[0m\u001b[0;34m\u001b[0m\u001b[0m\n\u001b[1;32m    687\u001b[0m \u001b[0;34m\u001b[0m\u001b[0m\n",
            "\u001b[0;32m/usr/local/lib/python3.7/dist-packages/lightgbm/sklearn.py\u001b[0m in \u001b[0;36mfit\u001b[0;34m(self, X, y, sample_weight, init_score, group, eval_set, eval_names, eval_sample_weight, eval_class_weight, eval_init_score, eval_group, eval_metric, early_stopping_rounds, verbose, feature_name, categorical_feature, callbacks)\u001b[0m\n\u001b[1;32m    542\u001b[0m                               \u001b[0mverbose_eval\u001b[0m\u001b[0;34m=\u001b[0m\u001b[0mverbose\u001b[0m\u001b[0;34m,\u001b[0m \u001b[0mfeature_name\u001b[0m\u001b[0;34m=\u001b[0m\u001b[0mfeature_name\u001b[0m\u001b[0;34m,\u001b[0m\u001b[0;34m\u001b[0m\u001b[0;34m\u001b[0m\u001b[0m\n\u001b[1;32m    543\u001b[0m                               \u001b[0mcategorical_feature\u001b[0m\u001b[0;34m=\u001b[0m\u001b[0mcategorical_feature\u001b[0m\u001b[0;34m,\u001b[0m\u001b[0;34m\u001b[0m\u001b[0;34m\u001b[0m\u001b[0m\n\u001b[0;32m--> 544\u001b[0;31m                               callbacks=callbacks)\n\u001b[0m\u001b[1;32m    545\u001b[0m \u001b[0;34m\u001b[0m\u001b[0m\n\u001b[1;32m    546\u001b[0m         \u001b[0;32mif\u001b[0m \u001b[0mevals_result\u001b[0m\u001b[0;34m:\u001b[0m\u001b[0;34m\u001b[0m\u001b[0;34m\u001b[0m\u001b[0m\n",
            "\u001b[0;32m/usr/local/lib/python3.7/dist-packages/lightgbm/engine.py\u001b[0m in \u001b[0;36mtrain\u001b[0;34m(params, train_set, num_boost_round, valid_sets, valid_names, fobj, feval, init_model, feature_name, categorical_feature, early_stopping_rounds, evals_result, verbose_eval, learning_rates, keep_training_booster, callbacks)\u001b[0m\n\u001b[1;32m    195\u001b[0m     \u001b[0;31m# construct booster\u001b[0m\u001b[0;34m\u001b[0m\u001b[0;34m\u001b[0m\u001b[0;34m\u001b[0m\u001b[0m\n\u001b[1;32m    196\u001b[0m     \u001b[0;32mtry\u001b[0m\u001b[0;34m:\u001b[0m\u001b[0;34m\u001b[0m\u001b[0;34m\u001b[0m\u001b[0m\n\u001b[0;32m--> 197\u001b[0;31m         \u001b[0mbooster\u001b[0m \u001b[0;34m=\u001b[0m \u001b[0mBooster\u001b[0m\u001b[0;34m(\u001b[0m\u001b[0mparams\u001b[0m\u001b[0;34m=\u001b[0m\u001b[0mparams\u001b[0m\u001b[0;34m,\u001b[0m \u001b[0mtrain_set\u001b[0m\u001b[0;34m=\u001b[0m\u001b[0mtrain_set\u001b[0m\u001b[0;34m)\u001b[0m\u001b[0;34m\u001b[0m\u001b[0;34m\u001b[0m\u001b[0m\n\u001b[0m\u001b[1;32m    198\u001b[0m         \u001b[0;32mif\u001b[0m \u001b[0mis_valid_contain_train\u001b[0m\u001b[0;34m:\u001b[0m\u001b[0;34m\u001b[0m\u001b[0;34m\u001b[0m\u001b[0m\n\u001b[1;32m    199\u001b[0m             \u001b[0mbooster\u001b[0m\u001b[0;34m.\u001b[0m\u001b[0mset_train_data_name\u001b[0m\u001b[0;34m(\u001b[0m\u001b[0mtrain_data_name\u001b[0m\u001b[0;34m)\u001b[0m\u001b[0;34m\u001b[0m\u001b[0;34m\u001b[0m\u001b[0m\n",
            "\u001b[0;32m/usr/local/lib/python3.7/dist-packages/lightgbm/basic.py\u001b[0m in \u001b[0;36m__init__\u001b[0;34m(self, params, train_set, model_file, silent)\u001b[0m\n\u001b[1;32m   1550\u001b[0m             \u001b[0mself\u001b[0m\u001b[0;34m.\u001b[0m\u001b[0mhandle\u001b[0m \u001b[0;34m=\u001b[0m \u001b[0mctypes\u001b[0m\u001b[0;34m.\u001b[0m\u001b[0mc_void_p\u001b[0m\u001b[0;34m(\u001b[0m\u001b[0;34m)\u001b[0m\u001b[0;34m\u001b[0m\u001b[0;34m\u001b[0m\u001b[0m\n\u001b[1;32m   1551\u001b[0m             _safe_call(_LIB.LGBM_BoosterCreate(\n\u001b[0;32m-> 1552\u001b[0;31m                 \u001b[0mtrain_set\u001b[0m\u001b[0;34m.\u001b[0m\u001b[0mconstruct\u001b[0m\u001b[0;34m(\u001b[0m\u001b[0;34m)\u001b[0m\u001b[0;34m.\u001b[0m\u001b[0mhandle\u001b[0m\u001b[0;34m,\u001b[0m\u001b[0;34m\u001b[0m\u001b[0;34m\u001b[0m\u001b[0m\n\u001b[0m\u001b[1;32m   1553\u001b[0m                 \u001b[0mc_str\u001b[0m\u001b[0;34m(\u001b[0m\u001b[0mparams_str\u001b[0m\u001b[0;34m)\u001b[0m\u001b[0;34m,\u001b[0m\u001b[0;34m\u001b[0m\u001b[0;34m\u001b[0m\u001b[0m\n\u001b[1;32m   1554\u001b[0m                 ctypes.byref(self.handle)))\n",
            "\u001b[0;32m/usr/local/lib/python3.7/dist-packages/lightgbm/basic.py\u001b[0m in \u001b[0;36mconstruct\u001b[0;34m(self)\u001b[0m\n\u001b[1;32m    999\u001b[0m                                 \u001b[0minit_score\u001b[0m\u001b[0;34m=\u001b[0m\u001b[0mself\u001b[0m\u001b[0;34m.\u001b[0m\u001b[0minit_score\u001b[0m\u001b[0;34m,\u001b[0m \u001b[0mpredictor\u001b[0m\u001b[0;34m=\u001b[0m\u001b[0mself\u001b[0m\u001b[0;34m.\u001b[0m\u001b[0m_predictor\u001b[0m\u001b[0;34m,\u001b[0m\u001b[0;34m\u001b[0m\u001b[0;34m\u001b[0m\u001b[0m\n\u001b[1;32m   1000\u001b[0m                                 \u001b[0msilent\u001b[0m\u001b[0;34m=\u001b[0m\u001b[0mself\u001b[0m\u001b[0;34m.\u001b[0m\u001b[0msilent\u001b[0m\u001b[0;34m,\u001b[0m \u001b[0mfeature_name\u001b[0m\u001b[0;34m=\u001b[0m\u001b[0mself\u001b[0m\u001b[0;34m.\u001b[0m\u001b[0mfeature_name\u001b[0m\u001b[0;34m,\u001b[0m\u001b[0;34m\u001b[0m\u001b[0;34m\u001b[0m\u001b[0m\n\u001b[0;32m-> 1001\u001b[0;31m                                 categorical_feature=self.categorical_feature, params=self.params)\n\u001b[0m\u001b[1;32m   1002\u001b[0m             \u001b[0;32mif\u001b[0m \u001b[0mself\u001b[0m\u001b[0;34m.\u001b[0m\u001b[0mfree_raw_data\u001b[0m\u001b[0;34m:\u001b[0m\u001b[0;34m\u001b[0m\u001b[0;34m\u001b[0m\u001b[0m\n\u001b[1;32m   1003\u001b[0m                 \u001b[0mself\u001b[0m\u001b[0;34m.\u001b[0m\u001b[0mdata\u001b[0m \u001b[0;34m=\u001b[0m \u001b[0;32mNone\u001b[0m\u001b[0;34m\u001b[0m\u001b[0;34m\u001b[0m\u001b[0m\n",
            "\u001b[0;32m/usr/local/lib/python3.7/dist-packages/lightgbm/basic.py\u001b[0m in \u001b[0;36m_lazy_init\u001b[0;34m(self, data, label, reference, weight, group, init_score, predictor, silent, feature_name, categorical_feature, params)\u001b[0m\n\u001b[1;32m    789\u001b[0m             \u001b[0mself\u001b[0m\u001b[0;34m.\u001b[0m\u001b[0m__init_from_csc\u001b[0m\u001b[0;34m(\u001b[0m\u001b[0mdata\u001b[0m\u001b[0;34m,\u001b[0m \u001b[0mparams_str\u001b[0m\u001b[0;34m,\u001b[0m \u001b[0mref_dataset\u001b[0m\u001b[0;34m)\u001b[0m\u001b[0;34m\u001b[0m\u001b[0;34m\u001b[0m\u001b[0m\n\u001b[1;32m    790\u001b[0m         \u001b[0;32melif\u001b[0m \u001b[0misinstance\u001b[0m\u001b[0;34m(\u001b[0m\u001b[0mdata\u001b[0m\u001b[0;34m,\u001b[0m \u001b[0mnp\u001b[0m\u001b[0;34m.\u001b[0m\u001b[0mndarray\u001b[0m\u001b[0;34m)\u001b[0m\u001b[0;34m:\u001b[0m\u001b[0;34m\u001b[0m\u001b[0;34m\u001b[0m\u001b[0m\n\u001b[0;32m--> 791\u001b[0;31m             \u001b[0mself\u001b[0m\u001b[0;34m.\u001b[0m\u001b[0m__init_from_np2d\u001b[0m\u001b[0;34m(\u001b[0m\u001b[0mdata\u001b[0m\u001b[0;34m,\u001b[0m \u001b[0mparams_str\u001b[0m\u001b[0;34m,\u001b[0m \u001b[0mref_dataset\u001b[0m\u001b[0;34m)\u001b[0m\u001b[0;34m\u001b[0m\u001b[0;34m\u001b[0m\u001b[0m\n\u001b[0m\u001b[1;32m    792\u001b[0m         \u001b[0;32melif\u001b[0m \u001b[0misinstance\u001b[0m\u001b[0;34m(\u001b[0m\u001b[0mdata\u001b[0m\u001b[0;34m,\u001b[0m \u001b[0mlist\u001b[0m\u001b[0;34m)\u001b[0m \u001b[0;32mand\u001b[0m \u001b[0mlen\u001b[0m\u001b[0;34m(\u001b[0m\u001b[0mdata\u001b[0m\u001b[0;34m)\u001b[0m \u001b[0;34m>\u001b[0m \u001b[0;36m0\u001b[0m \u001b[0;32mand\u001b[0m \u001b[0mall\u001b[0m\u001b[0;34m(\u001b[0m\u001b[0misinstance\u001b[0m\u001b[0;34m(\u001b[0m\u001b[0mx\u001b[0m\u001b[0;34m,\u001b[0m \u001b[0mnp\u001b[0m\u001b[0;34m.\u001b[0m\u001b[0mndarray\u001b[0m\u001b[0;34m)\u001b[0m \u001b[0;32mfor\u001b[0m \u001b[0mx\u001b[0m \u001b[0;32min\u001b[0m \u001b[0mdata\u001b[0m\u001b[0;34m)\u001b[0m\u001b[0;34m:\u001b[0m\u001b[0;34m\u001b[0m\u001b[0;34m\u001b[0m\u001b[0m\n\u001b[1;32m    793\u001b[0m             \u001b[0mself\u001b[0m\u001b[0;34m.\u001b[0m\u001b[0m__init_from_list_np2d\u001b[0m\u001b[0;34m(\u001b[0m\u001b[0mdata\u001b[0m\u001b[0;34m,\u001b[0m \u001b[0mparams_str\u001b[0m\u001b[0;34m,\u001b[0m \u001b[0mref_dataset\u001b[0m\u001b[0;34m)\u001b[0m\u001b[0;34m\u001b[0m\u001b[0;34m\u001b[0m\u001b[0m\n",
            "\u001b[0;32m/usr/local/lib/python3.7/dist-packages/lightgbm/basic.py\u001b[0m in \u001b[0;36m__init_from_np2d\u001b[0;34m(self, mat, params_str, ref_dataset)\u001b[0m\n\u001b[1;32m    853\u001b[0m             \u001b[0mc_str\u001b[0m\u001b[0;34m(\u001b[0m\u001b[0mparams_str\u001b[0m\u001b[0;34m)\u001b[0m\u001b[0;34m,\u001b[0m\u001b[0;34m\u001b[0m\u001b[0;34m\u001b[0m\u001b[0m\n\u001b[1;32m    854\u001b[0m             \u001b[0mref_dataset\u001b[0m\u001b[0;34m,\u001b[0m\u001b[0;34m\u001b[0m\u001b[0;34m\u001b[0m\u001b[0m\n\u001b[0;32m--> 855\u001b[0;31m             ctypes.byref(self.handle)))\n\u001b[0m\u001b[1;32m    856\u001b[0m         \u001b[0;32mreturn\u001b[0m \u001b[0mself\u001b[0m\u001b[0;34m\u001b[0m\u001b[0;34m\u001b[0m\u001b[0m\n\u001b[1;32m    857\u001b[0m \u001b[0;34m\u001b[0m\u001b[0m\n",
            "\u001b[0;31mKeyboardInterrupt\u001b[0m: "
          ]
        }
      ]
    },
    {
      "cell_type": "markdown",
      "metadata": {
        "id": "Mr1xPaaLssBB"
      },
      "source": [
        "# XGBoost LB: "
      ]
    },
    {
      "cell_type": "code",
      "metadata": {
        "id": "pd_RfzHxsiEJ"
      },
      "source": [
        "def objective(trial,data=x_train,target=y_train):\n",
        "    \n",
        "    X_train, X_test, y_train, y_test = train_test_split(data, target, test_size=0.2,random_state=42)\n",
        "    params = {\n",
        "        'tweedie_variance_power': trial.suggest_discrete_uniform('tweedie_variance_power', 1.0, 2.0, 0.1),\n",
        "        'max_depth': trial.suggest_int('max_depth', 4, 12), # Extremely prone to overfitting!\n",
        "        'n_estimators': trial.suggest_int('n_estimators', 400, 4000, 400), # Extremely prone to overfitting!\n",
        "        'eta': trial.suggest_float('eta', 0.007, 0.013), # Most important parameter.\n",
        "        'subsample': trial.suggest_discrete_uniform('subsample', 0.2, 0.9, 0.1),\n",
        "        'colsample_bytree': trial.suggest_discrete_uniform('colsample_bytree', 0.2, 0.9, 0.1),\n",
        "        'colsample_bylevel': trial.suggest_discrete_uniform('colsample_bylevel', 0.2, 0.9, 0.1),\n",
        "        'min_child_weight': trial.suggest_loguniform('min_child_weight', 1e-4, 1e4), # I've had trouble with LB score until tuning this.\n",
        "        'reg_lambda': trial.suggest_loguniform('reg_lambda', 1e-4, 1e4), # L2 regularization\n",
        "        'reg_alpha': trial.suggest_loguniform('reg_alpha', 1e-4, 1e4), # L1 regularization\n",
        "        'gamma': trial.suggest_loguniform('gamma', 1e-4, 1e4),\n",
        "        'objective' : 'reg:tweedie',\n",
        "        'tree_method' : 'gpu_hist',\n",
        "        'loss_function':'rmse',\n",
        "        'eval_metric':'rmse'\n",
        "     }\n",
        "\n",
        "    model = xgboost.XGBRegressor(**params)  \n",
        "    model.fit(X_train,y_train,eval_set=[(X_test,y_test)],early_stopping_rounds=100,verbose=False)\n",
        "        \n",
        "    y_preds = model.predict(X_test)\n",
        "\n",
        "\n",
        "    RMSE = np.sqrt(mean_squared_error(y_test, y_preds))\n",
        "    \n",
        "    return RMSE"
      ],
      "execution_count": 34,
      "outputs": []
    },
    {
      "cell_type": "code",
      "metadata": {
        "colab": {
          "base_uri": "https://localhost:8080/"
        },
        "id": "ES6aUfkStH0-",
        "outputId": "d8a0fa8c-0a59-420e-fc8c-7d07b163f7ca"
      },
      "source": [
        "OPTUNA_OPTIMIZATION = True\n",
        "\n",
        "study = optuna.create_study(direction='minimize')\n",
        "study.optimize(objective, n_trials=50)\n",
        "print('Number of finished trials:', len(study.trials))\n",
        "print('Best trial: score {}, params {}'.format(study.best_trial.value, study.best_trial.params))"
      ],
      "execution_count": 35,
      "outputs": [
        {
          "output_type": "stream",
          "text": [
            "\u001b[32m[I 2021-08-17 09:15:48,863]\u001b[0m A new study created in memory with name: no-name-dce11ae7-c9cc-4db9-9af3-9bb6697d09c6\u001b[0m\n",
            "\u001b[32m[I 2021-08-17 09:15:52,971]\u001b[0m Trial 0 finished with value: 7.824025094033467 and parameters: {'tweedie_variance_power': 1.2, 'max_depth': 4, 'n_estimators': 2400, 'eta': 0.01086086527816068, 'subsample': 0.9, 'colsample_bytree': 0.5, 'colsample_bylevel': 0.8, 'min_child_weight': 0.2147233183761072, 'reg_lambda': 5306.490559989326, 'reg_alpha': 0.00015243341716143262, 'gamma': 0.3824533370260492}. Best is trial 0 with value: 7.824025094033467.\u001b[0m\n",
            "\u001b[32m[I 2021-08-17 09:15:55,910]\u001b[0m Trial 1 finished with value: 7.868151671180693 and parameters: {'tweedie_variance_power': 1.1, 'max_depth': 7, 'n_estimators': 3600, 'eta': 0.012248762838757088, 'subsample': 0.6000000000000001, 'colsample_bytree': 0.30000000000000004, 'colsample_bylevel': 0.8, 'min_child_weight': 1.540449001769388, 'reg_lambda': 0.6611807513045284, 'reg_alpha': 0.00036761746734094983, 'gamma': 4573.399694146538}. Best is trial 0 with value: 7.824025094033467.\u001b[0m\n",
            "\u001b[32m[I 2021-08-17 09:16:03,682]\u001b[0m Trial 2 finished with value: 7.837451067754994 and parameters: {'tweedie_variance_power': 2.0, 'max_depth': 5, 'n_estimators': 2800, 'eta': 0.011780764225981014, 'subsample': 0.2, 'colsample_bytree': 0.7, 'colsample_bylevel': 0.30000000000000004, 'min_child_weight': 0.05844064421266756, 'reg_lambda': 8838.001198788696, 'reg_alpha': 26.070419161651607, 'gamma': 0.002125556450629422}. Best is trial 0 with value: 7.824025094033467.\u001b[0m\n",
            "\u001b[32m[I 2021-08-17 09:16:06,313]\u001b[0m Trial 3 finished with value: 7.84849997453655 and parameters: {'tweedie_variance_power': 1.3, 'max_depth': 6, 'n_estimators': 800, 'eta': 0.00987107618118831, 'subsample': 0.4, 'colsample_bytree': 0.8, 'colsample_bylevel': 0.6000000000000001, 'min_child_weight': 0.0025799257761337097, 'reg_lambda': 0.018599910882139407, 'reg_alpha': 6.862930281533905, 'gamma': 2884.693730319361}. Best is trial 0 with value: 7.824025094033467.\u001b[0m\n",
            "\u001b[32m[I 2021-08-17 09:16:09,266]\u001b[0m Trial 4 finished with value: 7.832520734527251 and parameters: {'tweedie_variance_power': 1.8, 'max_depth': 4, 'n_estimators': 2400, 'eta': 0.010883188965565017, 'subsample': 0.6000000000000001, 'colsample_bytree': 0.6000000000000001, 'colsample_bylevel': 0.9, 'min_child_weight': 0.4816661657695215, 'reg_lambda': 0.12299151625560903, 'reg_alpha': 19.835173633983338, 'gamma': 0.0008319017727917844}. Best is trial 0 with value: 7.824025094033467.\u001b[0m\n",
            "\u001b[32m[I 2021-08-17 09:16:13,384]\u001b[0m Trial 5 finished with value: 7.89133869833926 and parameters: {'tweedie_variance_power': 1.9, 'max_depth': 9, 'n_estimators': 1200, 'eta': 0.010633057753081189, 'subsample': 0.7, 'colsample_bytree': 0.2, 'colsample_bylevel': 0.9, 'min_child_weight': 7.198574070648049, 'reg_lambda': 0.0012149377003170076, 'reg_alpha': 2.310252633300758, 'gamma': 23.344392375525867}. Best is trial 0 with value: 7.824025094033467.\u001b[0m\n",
            "\u001b[32m[I 2021-08-17 09:16:15,774]\u001b[0m Trial 6 finished with value: 7.909013429024267 and parameters: {'tweedie_variance_power': 1.0, 'max_depth': 6, 'n_estimators': 4000, 'eta': 0.010991552714479005, 'subsample': 0.4, 'colsample_bytree': 0.6000000000000001, 'colsample_bylevel': 0.8, 'min_child_weight': 0.16897917492507736, 'reg_lambda': 5.886088925566862, 'reg_alpha': 0.004260130089799643, 'gamma': 0.017708318379158757}. Best is trial 0 with value: 7.824025094033467.\u001b[0m\n",
            "\u001b[32m[I 2021-08-17 09:16:29,600]\u001b[0m Trial 7 finished with value: 7.836963379274092 and parameters: {'tweedie_variance_power': 1.8, 'max_depth': 10, 'n_estimators': 2000, 'eta': 0.007230887208009123, 'subsample': 0.6000000000000001, 'colsample_bytree': 0.2, 'colsample_bylevel': 0.2, 'min_child_weight': 6.688086480845029, 'reg_lambda': 3445.8889118292, 'reg_alpha': 0.0003392425531991465, 'gamma': 0.09665659334055725}. Best is trial 0 with value: 7.824025094033467.\u001b[0m\n",
            "\u001b[32m[I 2021-08-17 09:16:34,003]\u001b[0m Trial 8 finished with value: 7.86457791566059 and parameters: {'tweedie_variance_power': 2.0, 'max_depth': 11, 'n_estimators': 400, 'eta': 0.009517851574652831, 'subsample': 0.5, 'colsample_bytree': 0.8, 'colsample_bylevel': 0.8, 'min_child_weight': 182.5629643097777, 'reg_lambda': 0.0564917046742733, 'reg_alpha': 0.0012250512753283515, 'gamma': 0.025823679331573725}. Best is trial 0 with value: 7.824025094033467.\u001b[0m\n",
            "\u001b[32m[I 2021-08-17 09:16:37,364]\u001b[0m Trial 9 finished with value: 7.845439596828552 and parameters: {'tweedie_variance_power': 1.0, 'max_depth': 5, 'n_estimators': 2800, 'eta': 0.011014684523995934, 'subsample': 0.8, 'colsample_bytree': 0.7, 'colsample_bylevel': 0.2, 'min_child_weight': 0.9955037217192721, 'reg_lambda': 18.45616499223896, 'reg_alpha': 0.06139383108606759, 'gamma': 859.8173361466661}. Best is trial 0 with value: 7.824025094033467.\u001b[0m\n",
            "\u001b[32m[I 2021-08-17 09:16:43,033]\u001b[0m Trial 10 finished with value: 7.849566311114565 and parameters: {'tweedie_variance_power': 1.5, 'max_depth': 8, 'n_estimators': 1600, 'eta': 0.008735493150692795, 'subsample': 0.8, 'colsample_bytree': 0.4, 'colsample_bylevel': 0.5, 'min_child_weight': 0.00012971397197146837, 'reg_lambda': 165.97046171163842, 'reg_alpha': 2902.716326046549, 'gamma': 4.947639142532349}. Best is trial 0 with value: 7.824025094033467.\u001b[0m\n",
            "\u001b[32m[I 2021-08-17 09:16:47,806]\u001b[0m Trial 11 finished with value: 7.821145775880059 and parameters: {'tweedie_variance_power': 1.6, 'max_depth': 4, 'n_estimators': 2800, 'eta': 0.01297521339990741, 'subsample': 0.9, 'colsample_bytree': 0.5, 'colsample_bylevel': 0.6000000000000001, 'min_child_weight': 3396.7497116852624, 'reg_lambda': 0.10400582353202031, 'reg_alpha': 210.7907853176004, 'gamma': 0.00024247063968781625}. Best is trial 11 with value: 7.821145775880059.\u001b[0m\n",
            "\u001b[32m[I 2021-08-17 09:16:54,868]\u001b[0m Trial 12 finished with value: 7.863382957451477 and parameters: {'tweedie_variance_power': 1.5, 'max_depth': 4, 'n_estimators': 2800, 'eta': 0.012677824350415699, 'subsample': 0.9, 'colsample_bytree': 0.4, 'colsample_bylevel': 0.6000000000000001, 'min_child_weight': 8206.535555450911, 'reg_lambda': 0.00016428128951298984, 'reg_alpha': 3004.957138338505, 'gamma': 0.00025075403956908624}. Best is trial 11 with value: 7.821145775880059.\u001b[0m\n",
            "\u001b[32m[I 2021-08-17 09:16:58,568]\u001b[0m Trial 13 finished with value: 7.8304755102643195 and parameters: {'tweedie_variance_power': 1.2, 'max_depth': 12, 'n_estimators': 3200, 'eta': 0.012830114296622666, 'subsample': 0.9, 'colsample_bytree': 0.5, 'colsample_bylevel': 0.5, 'min_child_weight': 8548.416015257571, 'reg_lambda': 69.00034439684138, 'reg_alpha': 0.06089672993578179, 'gamma': 0.7665510534626465}. Best is trial 11 with value: 7.821145775880059.\u001b[0m\n",
            "\u001b[32m[I 2021-08-17 09:17:02,898]\u001b[0m Trial 14 finished with value: 7.8225041038767715 and parameters: {'tweedie_variance_power': 1.4, 'max_depth': 5, 'n_estimators': 2000, 'eta': 0.008799274752805841, 'subsample': 0.8, 'colsample_bytree': 0.5, 'colsample_bylevel': 0.7, 'min_child_weight': 507.9163766020116, 'reg_lambda': 0.004990246089911994, 'reg_alpha': 233.4321951791048, 'gamma': 95.73720672539842}. Best is trial 11 with value: 7.821145775880059.\u001b[0m\n",
            "\u001b[32m[I 2021-08-17 09:17:07,448]\u001b[0m Trial 15 finished with value: 7.825681319329828 and parameters: {'tweedie_variance_power': 1.6, 'max_depth': 7, 'n_estimators': 1600, 'eta': 0.008301676346508033, 'subsample': 0.8, 'colsample_bytree': 0.4, 'colsample_bylevel': 0.4, 'min_child_weight': 264.00529195787993, 'reg_lambda': 0.00737451736253541, 'reg_alpha': 191.93885174997996, 'gamma': 125.00124817831482}. Best is trial 11 with value: 7.821145775880059.\u001b[0m\n",
            "\u001b[32m[I 2021-08-17 09:17:12,067]\u001b[0m Trial 16 finished with value: 7.822469836597277 and parameters: {'tweedie_variance_power': 1.4, 'max_depth': 5, 'n_estimators': 2000, 'eta': 0.008697434705386923, 'subsample': 0.7, 'colsample_bytree': 0.9, 'colsample_bylevel': 0.7, 'min_child_weight': 352.2790847188725, 'reg_lambda': 0.001968659134298432, 'reg_alpha': 281.8958797321241, 'gamma': 138.9988428698305}. Best is trial 11 with value: 7.821145775880059.\u001b[0m\n",
            "\u001b[32m[I 2021-08-17 09:17:17,593]\u001b[0m Trial 17 finished with value: 7.825912081544128 and parameters: {'tweedie_variance_power': 1.7000000000000002, 'max_depth': 6, 'n_estimators': 3600, 'eta': 0.007511115870684573, 'subsample': 0.7, 'colsample_bytree': 0.9, 'colsample_bylevel': 0.7, 'min_child_weight': 1122.4798940120277, 'reg_lambda': 0.00021347022567504148, 'reg_alpha': 307.9272538983087, 'gamma': 5.357359364666685}. Best is trial 11 with value: 7.821145775880059.\u001b[0m\n",
            "\u001b[32m[I 2021-08-17 09:17:19,543]\u001b[0m Trial 18 finished with value: 7.896873154486894 and parameters: {'tweedie_variance_power': 1.6, 'max_depth': 8, 'n_estimators': 1600, 'eta': 0.008026328176467848, 'subsample': 0.7, 'colsample_bytree': 0.9, 'colsample_bylevel': 0.4, 'min_child_weight': 29.357178130748817, 'reg_lambda': 0.5149526395508868, 'reg_alpha': 7767.278145857933, 'gamma': 0.005784589477808026}. Best is trial 11 with value: 7.821145775880059.\u001b[0m\n",
            "\u001b[32m[I 2021-08-17 09:17:22,468]\u001b[0m Trial 19 finished with value: 7.829996044915354 and parameters: {'tweedie_variance_power': 1.4, 'max_depth': 4, 'n_estimators': 3200, 'eta': 0.009270663946276276, 'subsample': 0.5, 'colsample_bytree': 0.7, 'colsample_bylevel': 0.7, 'min_child_weight': 1414.4928179766475, 'reg_lambda': 0.0010150038685291499, 'reg_alpha': 0.32137475629938084, 'gamma': 398.4486236098245}. Best is trial 11 with value: 7.821145775880059.\u001b[0m\n",
            "\u001b[32m[I 2021-08-17 09:17:29,622]\u001b[0m Trial 20 finished with value: 7.838985325078926 and parameters: {'tweedie_variance_power': 1.6, 'max_depth': 7, 'n_estimators': 1200, 'eta': 0.01182368824098981, 'subsample': 0.2, 'colsample_bytree': 0.8, 'colsample_bylevel': 0.6000000000000001, 'min_child_weight': 48.49971872594136, 'reg_lambda': 0.13434143637051224, 'reg_alpha': 1045.1288240038546, 'gamma': 0.0001485118640890929}. Best is trial 11 with value: 7.821145775880059.\u001b[0m\n",
            "\u001b[32m[I 2021-08-17 09:17:34,265]\u001b[0m Trial 21 finished with value: 7.82679004921173 and parameters: {'tweedie_variance_power': 1.4, 'max_depth': 5, 'n_estimators': 2000, 'eta': 0.009022368622141114, 'subsample': 0.8, 'colsample_bytree': 0.5, 'colsample_bylevel': 0.7, 'min_child_weight': 1211.7974419048655, 'reg_lambda': 0.003861523695222135, 'reg_alpha': 133.15719894106385, 'gamma': 27.046166793662405}. Best is trial 11 with value: 7.821145775880059.\u001b[0m\n",
            "\u001b[32m[I 2021-08-17 09:17:37,882]\u001b[0m Trial 22 finished with value: 7.826511745114032 and parameters: {'tweedie_variance_power': 1.4, 'max_depth': 5, 'n_estimators': 2400, 'eta': 0.008222940248259975, 'subsample': 0.9, 'colsample_bytree': 0.6000000000000001, 'colsample_bylevel': 0.7, 'min_child_weight': 189.59875387285183, 'reg_lambda': 0.027561299093155963, 'reg_alpha': 62.332925726345, 'gamma': 86.85130409541777}. Best is trial 11 with value: 7.821145775880059.\u001b[0m\n",
            "\u001b[32m[I 2021-08-17 09:17:44,249]\u001b[0m Trial 23 finished with value: 7.82298777763681 and parameters: {'tweedie_variance_power': 1.3, 'max_depth': 6, 'n_estimators': 2000, 'eta': 0.010126845839483109, 'subsample': 0.7, 'colsample_bytree': 0.30000000000000004, 'colsample_bylevel': 0.5, 'min_child_weight': 2432.094423521421, 'reg_lambda': 0.003923267539148842, 'reg_alpha': 596.3833702202772, 'gamma': 7.891260180385711}. Best is trial 11 with value: 7.821145775880059.\u001b[0m\n",
            "\u001b[32m[I 2021-08-17 09:17:48,004]\u001b[0m Trial 24 finished with value: 7.833486146124505 and parameters: {'tweedie_variance_power': 1.3, 'max_depth': 5, 'n_estimators': 1200, 'eta': 0.008679235545313219, 'subsample': 0.8, 'colsample_bytree': 0.5, 'colsample_bylevel': 0.6000000000000001, 'min_child_weight': 34.29070909109328, 'reg_lambda': 0.001456033701935911, 'reg_alpha': 4.895749296694965, 'gamma': 401.25097914373777}. Best is trial 11 with value: 7.821145775880059.\u001b[0m\n",
            "\u001b[32m[I 2021-08-17 09:17:52,257]\u001b[0m Trial 25 finished with value: 7.823492002561398 and parameters: {'tweedie_variance_power': 1.5, 'max_depth': 4, 'n_estimators': 2800, 'eta': 0.007821267974588908, 'subsample': 0.9, 'colsample_bytree': 0.4, 'colsample_bylevel': 0.7, 'min_child_weight': 281.93615577132397, 'reg_lambda': 4.262644515513063, 'reg_alpha': 63.01555286165964, 'gamma': 0.10861406555170935}. Best is trial 11 with value: 7.821145775880059.\u001b[0m\n",
            "\u001b[32m[I 2021-08-17 09:18:01,960]\u001b[0m Trial 26 finished with value: 7.829109535939213 and parameters: {'tweedie_variance_power': 1.7000000000000002, 'max_depth': 6, 'n_estimators': 2000, 'eta': 0.010071755837310395, 'subsample': 0.7, 'colsample_bytree': 0.6000000000000001, 'colsample_bylevel': 0.4, 'min_child_weight': 3306.1758881038263, 'reg_lambda': 0.0004466284385312741, 'reg_alpha': 1030.771195152905, 'gamma': 71.76887890052059}. Best is trial 11 with value: 7.821145775880059.\u001b[0m\n",
            "\u001b[32m[I 2021-08-17 09:18:04,985]\u001b[0m Trial 27 finished with value: 7.829479807171473 and parameters: {'tweedie_variance_power': 1.4, 'max_depth': 5, 'n_estimators': 3200, 'eta': 0.009625822548204542, 'subsample': 0.8, 'colsample_bytree': 0.30000000000000004, 'colsample_bylevel': 0.6000000000000001, 'min_child_weight': 559.0005734405369, 'reg_lambda': 0.011568857781795143, 'reg_alpha': 0.6370149068935116, 'gamma': 2.478239797024121}. Best is trial 11 with value: 7.821145775880059.\u001b[0m\n",
            "\u001b[32m[I 2021-08-17 09:18:09,295]\u001b[0m Trial 28 finished with value: 7.855294108187748 and parameters: {'tweedie_variance_power': 1.7000000000000002, 'max_depth': 9, 'n_estimators': 2400, 'eta': 0.008708797818178389, 'subsample': 0.9, 'colsample_bytree': 0.7, 'colsample_bylevel': 0.8, 'min_child_weight': 58.19928196046793, 'reg_lambda': 0.22847272487741666, 'reg_alpha': 27.478742708833252, 'gamma': 1686.3445592817006}. Best is trial 11 with value: 7.821145775880059.\u001b[0m\n",
            "\u001b[32m[I 2021-08-17 09:18:11,723]\u001b[0m Trial 29 finished with value: 7.8935137383462255 and parameters: {'tweedie_variance_power': 1.2, 'max_depth': 4, 'n_estimators': 1600, 'eta': 0.0070034690784265725, 'subsample': 0.8, 'colsample_bytree': 0.5, 'colsample_bylevel': 0.9, 'min_child_weight': 6.927345280134046, 'reg_lambda': 1.9635920294533202, 'reg_alpha': 9872.592898152872, 'gamma': 0.29944880285811093}. Best is trial 11 with value: 7.821145775880059.\u001b[0m\n",
            "\u001b[32m[I 2021-08-17 09:18:14,941]\u001b[0m Trial 30 finished with value: 7.845574908317515 and parameters: {'tweedie_variance_power': 1.5, 'max_depth': 7, 'n_estimators': 2400, 'eta': 0.010324098947520954, 'subsample': 0.9, 'colsample_bytree': 0.5, 'colsample_bylevel': 0.7, 'min_child_weight': 0.027102933016354146, 'reg_lambda': 0.08218095760550864, 'reg_alpha': 9.691188871731615, 'gamma': 20.138841998180546}. Best is trial 11 with value: 7.821145775880059.\u001b[0m\n",
            "\u001b[32m[I 2021-08-17 09:18:23,244]\u001b[0m Trial 31 finished with value: 7.825292638398698 and parameters: {'tweedie_variance_power': 1.3, 'max_depth': 6, 'n_estimators': 2000, 'eta': 0.009088897901972266, 'subsample': 0.7, 'colsample_bytree': 0.30000000000000004, 'colsample_bylevel': 0.5, 'min_child_weight': 4284.111208102587, 'reg_lambda': 0.0030449403739341, 'reg_alpha': 1085.3913179015308, 'gamma': 9330.004233863057}. Best is trial 11 with value: 7.821145775880059.\u001b[0m\n",
            "\u001b[32m[I 2021-08-17 09:18:27,357]\u001b[0m Trial 32 finished with value: 7.828058718349265 and parameters: {'tweedie_variance_power': 1.1, 'max_depth': 4, 'n_estimators': 2000, 'eta': 0.011569484514558685, 'subsample': 0.6000000000000001, 'colsample_bytree': 0.30000000000000004, 'colsample_bylevel': 0.5, 'min_child_weight': 3432.1015605490243, 'reg_lambda': 0.005207214264068036, 'reg_alpha': 318.3223685107416, 'gamma': 2.0983323355486347}. Best is trial 11 with value: 7.821145775880059.\u001b[0m\n",
            "\u001b[32m[I 2021-08-17 09:18:33,404]\u001b[0m Trial 33 finished with value: 7.820321449197725 and parameters: {'tweedie_variance_power': 1.3, 'max_depth': 5, 'n_estimators': 2400, 'eta': 0.012359498897092239, 'subsample': 0.7, 'colsample_bytree': 0.4, 'colsample_bylevel': 0.6000000000000001, 'min_child_weight': 880.0448713614774, 'reg_lambda': 0.030693451053449526, 'reg_alpha': 592.5646629669819, 'gamma': 11.089924797796137}. Best is trial 33 with value: 7.820321449197725.\u001b[0m\n",
            "\u001b[32m[I 2021-08-17 09:18:36,800]\u001b[0m Trial 34 finished with value: 7.827075261254055 and parameters: {'tweedie_variance_power': 1.3, 'max_depth': 5, 'n_estimators': 2800, 'eta': 0.012355115764708793, 'subsample': 0.7, 'colsample_bytree': 0.4, 'colsample_bylevel': 0.6000000000000001, 'min_child_weight': 674.3184101447497, 'reg_lambda': 0.049413597595411154, 'reg_alpha': 78.40413425268378, 'gamma': 227.3406588082102}. Best is trial 33 with value: 7.820321449197725.\u001b[0m\n",
            "\u001b[32m[I 2021-08-17 09:18:45,180]\u001b[0m Trial 35 finished with value: 7.831251866176486 and parameters: {'tweedie_variance_power': 1.1, 'max_depth': 5, 'n_estimators': 2400, 'eta': 0.012442137877004935, 'subsample': 0.6000000000000001, 'colsample_bytree': 0.5, 'colsample_bylevel': 0.7, 'min_child_weight': 140.47377381631435, 'reg_lambda': 0.01717726504950784, 'reg_alpha': 3632.232605986457, 'gamma': 21.486169335574377}. Best is trial 33 with value: 7.820321449197725.\u001b[0m\n",
            "\u001b[32m[I 2021-08-17 09:18:47,872]\u001b[0m Trial 36 finished with value: 7.831162326536406 and parameters: {'tweedie_variance_power': 1.4, 'max_depth': 4, 'n_estimators': 2400, 'eta': 0.012970559350488737, 'subsample': 0.5, 'colsample_bytree': 0.6000000000000001, 'colsample_bylevel': 0.8, 'min_child_weight': 19.16632206409925, 'reg_lambda': 0.46314749692208407, 'reg_alpha': 18.408668141714053, 'gamma': 57.17867759295081}. Best is trial 33 with value: 7.820321449197725.\u001b[0m\n",
            "\u001b[32m[I 2021-08-17 09:18:50,230]\u001b[0m Trial 37 finished with value: 7.859533113517502 and parameters: {'tweedie_variance_power': 1.2, 'max_depth': 7, 'n_estimators': 3600, 'eta': 0.011903350559620657, 'subsample': 0.30000000000000004, 'colsample_bytree': 0.4, 'colsample_bylevel': 0.6000000000000001, 'min_child_weight': 527.4546760688171, 'reg_lambda': 0.00038499515434395364, 'reg_alpha': 1.6913852418219888, 'gamma': 1173.7177593620193}. Best is trial 33 with value: 7.820321449197725.\u001b[0m\n",
            "\u001b[32m[I 2021-08-17 09:18:55,987]\u001b[0m Trial 38 finished with value: 7.820850345456758 and parameters: {'tweedie_variance_power': 1.6, 'max_depth': 6, 'n_estimators': 2800, 'eta': 0.011183766077001623, 'subsample': 0.8, 'colsample_bytree': 0.6000000000000001, 'colsample_bylevel': 0.8, 'min_child_weight': 2.6126244495562583, 'reg_lambda': 0.0013068905898528274, 'reg_alpha': 416.62114294696767, 'gamma': 0.6366440176869127}. Best is trial 33 with value: 7.820321449197725.\u001b[0m\n",
            "\u001b[32m[I 2021-08-17 09:18:58,944]\u001b[0m Trial 39 finished with value: 7.839250768781556 and parameters: {'tweedie_variance_power': 1.8, 'max_depth': 6, 'n_estimators': 3200, 'eta': 0.011375307331198986, 'subsample': 0.6000000000000001, 'colsample_bytree': 0.8, 'colsample_bylevel': 0.9, 'min_child_weight': 0.012929899469056002, 'reg_lambda': 0.0012167224126849716, 'reg_alpha': 31.61433135858304, 'gamma': 0.003549478688310104}. Best is trial 33 with value: 7.820321449197725.\u001b[0m\n",
            "\u001b[32m[I 2021-08-17 09:19:06,226]\u001b[0m Trial 40 finished with value: 7.824776957989774 and parameters: {'tweedie_variance_power': 1.6, 'max_depth': 6, 'n_estimators': 3600, 'eta': 0.01200880928141723, 'subsample': 0.7, 'colsample_bytree': 0.9, 'colsample_bylevel': 0.8, 'min_child_weight': 1.6519905478587449, 'reg_lambda': 0.021239272416366976, 'reg_alpha': 641.6289909536097, 'gamma': 0.0014344127916228837}. Best is trial 33 with value: 7.820321449197725.\u001b[0m\n",
            "\u001b[32m[I 2021-08-17 09:19:10,417]\u001b[0m Trial 41 finished with value: 7.822345406491733 and parameters: {'tweedie_variance_power': 1.5, 'max_depth': 5, 'n_estimators': 2800, 'eta': 0.01130204136939961, 'subsample': 0.8, 'colsample_bytree': 0.6000000000000001, 'colsample_bylevel': 0.7, 'min_child_weight': 88.96352281359454, 'reg_lambda': 0.0005539688690328683, 'reg_alpha': 167.16116328773128, 'gamma': 0.3005006632952734}. Best is trial 33 with value: 7.820321449197725.\u001b[0m\n",
            "\u001b[32m[I 2021-08-17 09:19:13,903]\u001b[0m Trial 42 finished with value: 7.826433391507593 and parameters: {'tweedie_variance_power': 1.5, 'max_depth': 4, 'n_estimators': 2800, 'eta': 0.012178685763249118, 'subsample': 0.8, 'colsample_bytree': 0.6000000000000001, 'colsample_bylevel': 0.8, 'min_child_weight': 1.81758184512665, 'reg_lambda': 0.00011312981113570139, 'reg_alpha': 123.71193523729096, 'gamma': 0.29334979308058323}. Best is trial 33 with value: 7.820321449197725.\u001b[0m\n",
            "\u001b[32m[I 2021-08-17 09:19:16,096]\u001b[0m Trial 43 finished with value: 7.872619813989409 and parameters: {'tweedie_variance_power': 1.6, 'max_depth': 5, 'n_estimators': 2800, 'eta': 0.01128758848307352, 'subsample': 0.9, 'colsample_bytree': 0.7, 'colsample_bylevel': 0.6000000000000001, 'min_child_weight': 0.1488232999907226, 'reg_lambda': 0.0004920250276559256, 'reg_alpha': 3146.0604664580223, 'gamma': 0.04238502753479948}. Best is trial 33 with value: 7.820321449197725.\u001b[0m\n",
            "\u001b[32m[I 2021-08-17 09:19:23,058]\u001b[0m Trial 44 finished with value: 7.823803474298035 and parameters: {'tweedie_variance_power': 1.7000000000000002, 'max_depth': 4, 'n_estimators': 4000, 'eta': 0.010738679078737353, 'subsample': 0.8, 'colsample_bytree': 0.2, 'colsample_bylevel': 0.9, 'min_child_weight': 84.51680034564897, 'reg_lambda': 0.002166774062079272, 'reg_alpha': 432.98585562592854, 'gamma': 0.832796062770784}. Best is trial 33 with value: 7.820321449197725.\u001b[0m\n",
            "\u001b[32m[I 2021-08-17 09:19:30,939]\u001b[0m Trial 45 finished with value: 7.827981839672934 and parameters: {'tweedie_variance_power': 1.5, 'max_depth': 6, 'n_estimators': 3200, 'eta': 0.012666577131254944, 'subsample': 0.7, 'colsample_bytree': 0.6000000000000001, 'colsample_bylevel': 0.8, 'min_child_weight': 12.74396472531916, 'reg_lambda': 0.0006467437511442089, 'reg_alpha': 1546.0934453026823, 'gamma': 0.0003417012637478788}. Best is trial 33 with value: 7.820321449197725.\u001b[0m\n",
            "\u001b[32m[I 2021-08-17 09:19:33,824]\u001b[0m Trial 46 finished with value: 7.836437101078163 and parameters: {'tweedie_variance_power': 1.9, 'max_depth': 5, 'n_estimators': 2800, 'eta': 0.011243883253790254, 'subsample': 0.9, 'colsample_bytree': 0.8, 'colsample_bylevel': 0.7, 'min_child_weight': 2.9210969500658224, 'reg_lambda': 0.035122269044270904, 'reg_alpha': 8.86070149115056, 'gamma': 0.14009271347992192}. Best is trial 33 with value: 7.820321449197725.\u001b[0m\n",
            "\u001b[32m[I 2021-08-17 09:19:36,413]\u001b[0m Trial 47 finished with value: 7.83694125708516 and parameters: {'tweedie_variance_power': 1.6, 'max_depth': 5, 'n_estimators': 2400, 'eta': 0.01044910368329308, 'subsample': 0.8, 'colsample_bytree': 0.7, 'colsample_bylevel': 0.8, 'min_child_weight': 0.39833709456248095, 'reg_lambda': 0.2330890300910586, 'reg_alpha': 0.00986042157639857, 'gamma': 0.009201354182862066}. Best is trial 33 with value: 7.820321449197725.\u001b[0m\n",
            "\u001b[32m[I 2021-08-17 09:19:40,138]\u001b[0m Trial 48 finished with value: 7.841164511927863 and parameters: {'tweedie_variance_power': 1.5, 'max_depth': 7, 'n_estimators': 2800, 'eta': 0.01264097218813224, 'subsample': 0.6000000000000001, 'colsample_bytree': 0.4, 'colsample_bylevel': 0.6000000000000001, 'min_child_weight': 0.00023718174572768356, 'reg_lambda': 0.01089213235788551, 'reg_alpha': 60.02256726528802, 'gamma': 10.413986162901898}. Best is trial 33 with value: 7.820321449197725.\u001b[0m\n",
            "\u001b[32m[I 2021-08-17 09:19:46,634]\u001b[0m Trial 49 finished with value: 7.823018839194178 and parameters: {'tweedie_variance_power': 1.8, 'max_depth': 4, 'n_estimators': 3200, 'eta': 0.011651009241963895, 'subsample': 0.7, 'colsample_bytree': 0.5, 'colsample_bylevel': 0.7, 'min_child_weight': 105.3843489589506, 'reg_lambda': 744.0146815813202, 'reg_alpha': 235.45834223231932, 'gamma': 0.041067991169601456}. Best is trial 33 with value: 7.820321449197725.\u001b[0m\n"
          ],
          "name": "stderr"
        },
        {
          "output_type": "stream",
          "text": [
            "Number of finished trials: 50\n",
            "Best trial: score 7.820321449197725, params {'tweedie_variance_power': 1.3, 'max_depth': 5, 'n_estimators': 2400, 'eta': 0.012359498897092239, 'subsample': 0.7, 'colsample_bytree': 0.4, 'colsample_bylevel': 0.6000000000000001, 'min_child_weight': 880.0448713614774, 'reg_lambda': 0.030693451053449526, 'reg_alpha': 592.5646629669819, 'gamma': 11.089924797796137}\n"
          ],
          "name": "stdout"
        }
      ]
    },
    {
      "cell_type": "code",
      "metadata": {
        "colab": {
          "base_uri": "https://localhost:8080/"
        },
        "id": "DKd3TTTRzgxo",
        "outputId": "f8653dc4-8d72-405a-a8c5-d2b783327df1"
      },
      "source": [
        "sk = StratifiedKFold(n_splits=5, shuffle=True, random_state=42)\n",
        "kf = KFold(n_splits=10, shuffle=True, random_state=42)\n",
        "preds = np.zeros((x_test.shape[0],))\n",
        "params_xgb = {'objective' : 'reg:tweedie',\n",
        "          'tree_method' : 'gpu_hist',\n",
        "          'loss_function':'rmse',\n",
        "          'eval_metric':'rmse',\n",
        "          'tweedie_variance_power' : study.best_params['tweedie_variance_power'],\n",
        "          'max_depth': study.best_params['max_depth'],\n",
        "          'n_estimators': study.best_params['n_estimators'],\n",
        "          'eta': study.best_params['eta'],\n",
        "          'colsample_bytree': study.best_params['colsample_bytree'],\n",
        "          'colsample_bylevel': study.best_params['colsample_bylevel'],\n",
        "          'min_child_weight': study.best_params['min_child_weight'],\n",
        "          'reg_lambda': study.best_params['reg_lambda'],\n",
        "          'reg_alpha': study.best_params['reg_alpha'],\n",
        "          'gamma': study.best_params['gamma'],\n",
        "          'subsample': study.best_params['subsample']\n",
        "          }\n",
        "\n",
        "for i, (train_index, valid_index) in enumerate(sk.split(x_train, y_train)):\n",
        "  X_train, X_valid = x_train.iloc[train_index], x_train.iloc[valid_index]\n",
        "  Y_train, Y_valid = y_train.iloc[train_index], y_train.iloc[valid_index]\n",
        "\n",
        "  model_xgb = xgboost.XGBRegressor(**params_xgb)\n",
        "  model_xgb.fit(X_train, Y_train, eval_set=((X_train, Y_train), (X_valid, Y_valid)), verbose=100, early_stopping_rounds=70)\n",
        "\n",
        "  preds += model_xgb.predict(x_test) / sk.n_splits\n",
        "  val_preds = model_xgb.predict(X_valid)\n",
        "  RMSE = np.sqrt(mean_squared_error(Y_valid, val_preds))\n",
        "  print(f'{i+1}번째 RMSE:{RMSE}')"
      ],
      "execution_count": 36,
      "outputs": [
        {
          "output_type": "stream",
          "text": [
            "/usr/local/lib/python3.7/dist-packages/sklearn/model_selection/_split.py:667: UserWarning:\n",
            "\n",
            "The least populated class in y has only 3 members, which is less than n_splits=5.\n",
            "\n"
          ],
          "name": "stderr"
        },
        {
          "output_type": "stream",
          "text": [
            "[0]\tvalidation_0-rmse:10.0521\tvalidation_1-rmse:10.0509\n",
            "Multiple eval metrics have been passed: 'validation_1-rmse' will be used for early stopping.\n",
            "\n",
            "Will train until validation_1-rmse hasn't improved in 70 rounds.\n",
            "[100]\tvalidation_0-rmse:7.8329\tvalidation_1-rmse:7.87448\n",
            "[200]\tvalidation_0-rmse:7.78474\tvalidation_1-rmse:7.85877\n",
            "[300]\tvalidation_0-rmse:7.74615\tvalidation_1-rmse:7.85283\n",
            "[400]\tvalidation_0-rmse:7.71168\tvalidation_1-rmse:7.84971\n",
            "[500]\tvalidation_0-rmse:7.67759\tvalidation_1-rmse:7.84923\n",
            "Stopping. Best iteration:\n",
            "[481]\tvalidation_0-rmse:7.68344\tvalidation_1-rmse:7.84847\n",
            "\n",
            "1번째 RMSE:7.848473470548517\n",
            "[0]\tvalidation_0-rmse:10.0517\tvalidation_1-rmse:10.0533\n",
            "Multiple eval metrics have been passed: 'validation_1-rmse' will be used for early stopping.\n",
            "\n",
            "Will train until validation_1-rmse hasn't improved in 70 rounds.\n",
            "[100]\tvalidation_0-rmse:7.83306\tvalidation_1-rmse:7.87438\n",
            "[200]\tvalidation_0-rmse:7.78542\tvalidation_1-rmse:7.85911\n",
            "[300]\tvalidation_0-rmse:7.74705\tvalidation_1-rmse:7.85239\n",
            "[400]\tvalidation_0-rmse:7.71317\tvalidation_1-rmse:7.84946\n",
            "[500]\tvalidation_0-rmse:7.67983\tvalidation_1-rmse:7.84769\n",
            "[600]\tvalidation_0-rmse:7.64709\tvalidation_1-rmse:7.84553\n",
            "Stopping. Best iteration:\n",
            "[600]\tvalidation_0-rmse:7.64709\tvalidation_1-rmse:7.84553\n",
            "\n",
            "2번째 RMSE:7.845535274007622\n",
            "[0]\tvalidation_0-rmse:10.0516\tvalidation_1-rmse:10.053\n",
            "Multiple eval metrics have been passed: 'validation_1-rmse' will be used for early stopping.\n",
            "\n",
            "Will train until validation_1-rmse hasn't improved in 70 rounds.\n",
            "[100]\tvalidation_0-rmse:7.83051\tvalidation_1-rmse:7.87942\n",
            "[200]\tvalidation_0-rmse:7.78315\tvalidation_1-rmse:7.86412\n",
            "[300]\tvalidation_0-rmse:7.74661\tvalidation_1-rmse:7.85857\n",
            "[400]\tvalidation_0-rmse:7.71316\tvalidation_1-rmse:7.85562\n",
            "[500]\tvalidation_0-rmse:7.67988\tvalidation_1-rmse:7.85398\n",
            "Stopping. Best iteration:\n",
            "[490]\tvalidation_0-rmse:7.68327\tvalidation_1-rmse:7.85339\n",
            "\n",
            "3번째 RMSE:7.853394584951364\n",
            "[0]\tvalidation_0-rmse:10.052\tvalidation_1-rmse:10.0511\n",
            "Multiple eval metrics have been passed: 'validation_1-rmse' will be used for early stopping.\n",
            "\n",
            "Will train until validation_1-rmse hasn't improved in 70 rounds.\n",
            "[100]\tvalidation_0-rmse:7.83137\tvalidation_1-rmse:7.8791\n",
            "[200]\tvalidation_0-rmse:7.78227\tvalidation_1-rmse:7.8663\n",
            "[300]\tvalidation_0-rmse:7.74251\tvalidation_1-rmse:7.86113\n",
            "[400]\tvalidation_0-rmse:7.70822\tvalidation_1-rmse:7.85996\n",
            "[500]\tvalidation_0-rmse:7.67492\tvalidation_1-rmse:7.85973\n",
            "[600]\tvalidation_0-rmse:7.64284\tvalidation_1-rmse:7.85845\n",
            "[700]\tvalidation_0-rmse:7.60991\tvalidation_1-rmse:7.85865\n",
            "Stopping. Best iteration:\n",
            "[662]\tvalidation_0-rmse:7.62215\tvalidation_1-rmse:7.85775\n",
            "\n",
            "4번째 RMSE:7.857746945234295\n",
            "[0]\tvalidation_0-rmse:10.0521\tvalidation_1-rmse:10.0512\n",
            "Multiple eval metrics have been passed: 'validation_1-rmse' will be used for early stopping.\n",
            "\n",
            "Will train until validation_1-rmse hasn't improved in 70 rounds.\n",
            "[100]\tvalidation_0-rmse:7.83332\tvalidation_1-rmse:7.874\n",
            "[200]\tvalidation_0-rmse:7.78499\tvalidation_1-rmse:7.85914\n",
            "[300]\tvalidation_0-rmse:7.74664\tvalidation_1-rmse:7.854\n",
            "[400]\tvalidation_0-rmse:7.71392\tvalidation_1-rmse:7.85003\n",
            "[500]\tvalidation_0-rmse:7.68074\tvalidation_1-rmse:7.84821\n",
            "[600]\tvalidation_0-rmse:7.64814\tvalidation_1-rmse:7.84557\n",
            "[700]\tvalidation_0-rmse:7.61518\tvalidation_1-rmse:7.84445\n",
            "[800]\tvalidation_0-rmse:7.58275\tvalidation_1-rmse:7.844\n",
            "Stopping. Best iteration:\n",
            "[820]\tvalidation_0-rmse:7.57639\tvalidation_1-rmse:7.84365\n",
            "\n",
            "5번째 RMSE:7.84364581541404\n"
          ],
          "name": "stdout"
        }
      ]
    },
    {
      "cell_type": "markdown",
      "metadata": {
        "id": "WxEiw9UUtIcx"
      },
      "source": [
        "# Catboost LB : 7.87727"
      ]
    },
    {
      "cell_type": "code",
      "metadata": {
        "id": "A72VesFU8WFi"
      },
      "source": [
        "cat_features = x_train.select_dtypes('object').columns\n",
        "def objective(trial,data=x_train,target=y_train):\n",
        "    \n",
        "    X_train, X_test, y_train, y_test = train_test_split(data, target, test_size=0.2,random_state=42)\n",
        "    params = {'iterations':trial.suggest_int(\"iterations\", 2000, 25000),\n",
        "             'loss_function':'RMSE',\n",
        "              'task_type':\"GPU\",\n",
        "              'eval_metric':'RMSE',\n",
        "              'leaf_estimation_method':'Newton',\n",
        "              'bootstrap_type': 'Bernoulli',\n",
        "              'learning_rate' : trial.suggest_uniform('learning_rate',0.01,0.5),\n",
        "              'reg_lambda': trial.suggest_uniform('reg_lambda',1e-5,100),\n",
        "              'subsample': trial.suggest_uniform('subsample',0,1),\n",
        "              'random_strength': trial.suggest_uniform('random_strength',10,50),\n",
        "              'depth': trial.suggest_int('depth',1,13),\n",
        "              'min_data_in_leaf': trial.suggest_int('min_data_in_leaf',1,50),\n",
        "              'leaf_estimation_iterations': trial.suggest_int('leaf_estimation_iterations',1,15),\n",
        "              'grow_policy' : 'Depthwise',\n",
        "              'objective' : 'Poisson'\n",
        "               }\n",
        "    model = catboost.CatBoostRegressor(**params)  \n",
        "    model.fit(X_train,y_train,eval_set=[(X_test,y_test)],early_stopping_rounds=100,verbose=False)\n",
        "        \n",
        "    y_preds = model.predict(X_test)\n",
        "\n",
        "\n",
        "    RMSE = np.sqrt(mean_squared_error(y_test, y_preds))\n",
        "    \n",
        "    return RMSE"
      ],
      "execution_count": 24,
      "outputs": []
    },
    {
      "cell_type": "code",
      "metadata": {
        "colab": {
          "base_uri": "https://localhost:8080/"
        },
        "id": "T9Z5YVXw8eMd",
        "outputId": "2732d7db-4d62-4628-e296-de356652a68b"
      },
      "source": [
        "OPTUNA_OPTIMIZATION = True\n",
        "\n",
        "study = optuna.create_study(direction='minimize')\n",
        "study.optimize(objective, n_trials=50)\n",
        "print('Number of finished trials:', len(study.trials))\n",
        "print('Best trial: score {}, params {}'.format(study.best_trial.value, study.best_trial.params))"
      ],
      "execution_count": 25,
      "outputs": [
        {
          "output_type": "stream",
          "text": [
            "\u001b[32m[I 2021-08-17 07:09:05,506]\u001b[0m A new study created in memory with name: no-name-478415f2-cf46-4078-9860-16ccea069858\u001b[0m\n",
            "\u001b[32m[I 2021-08-17 07:09:13,877]\u001b[0m Trial 0 finished with value: 7.865085164513889 and parameters: {'iterations': 4657, 'learning_rate': 0.39625058378085665, 'reg_lambda': 2.284316139750984, 'subsample': 0.013373034491052538, 'random_strength': 12.823450884174559, 'depth': 5, 'min_data_in_leaf': 9, 'leaf_estimation_iterations': 8}. Best is trial 0 with value: 7.865085164513889.\u001b[0m\n",
            "\u001b[32m[I 2021-08-17 07:09:22,034]\u001b[0m Trial 1 finished with value: 7.835097727402279 and parameters: {'iterations': 5944, 'learning_rate': 0.15973859437222224, 'reg_lambda': 56.34551662213058, 'subsample': 0.5415013843558134, 'random_strength': 36.1432606075505, 'depth': 4, 'min_data_in_leaf': 2, 'leaf_estimation_iterations': 12}. Best is trial 1 with value: 7.835097727402279.\u001b[0m\n",
            "\u001b[32m[I 2021-08-17 07:10:18,799]\u001b[0m Trial 2 finished with value: 7.831465744635873 and parameters: {'iterations': 21495, 'learning_rate': 0.06954189748740795, 'reg_lambda': 99.2407831690198, 'subsample': 0.07773055932232575, 'random_strength': 44.38778996215258, 'depth': 1, 'min_data_in_leaf': 14, 'leaf_estimation_iterations': 10}. Best is trial 2 with value: 7.831465744635873.\u001b[0m\n",
            "\u001b[32m[I 2021-08-17 07:10:25,365]\u001b[0m Trial 3 finished with value: 7.848283674702212 and parameters: {'iterations': 24269, 'learning_rate': 0.35411726196033105, 'reg_lambda': 40.45836023821349, 'subsample': 0.4381834733042589, 'random_strength': 30.202540211524365, 'depth': 3, 'min_data_in_leaf': 10, 'leaf_estimation_iterations': 8}. Best is trial 2 with value: 7.831465744635873.\u001b[0m\n",
            "\u001b[32m[I 2021-08-17 07:10:30,512]\u001b[0m Trial 4 finished with value: 7.914139822091574 and parameters: {'iterations': 18388, 'learning_rate': 0.3452589551134312, 'reg_lambda': 42.806457584723546, 'subsample': 0.9468079118112377, 'random_strength': 24.789692080370248, 'depth': 8, 'min_data_in_leaf': 3, 'leaf_estimation_iterations': 8}. Best is trial 2 with value: 7.831465744635873.\u001b[0m\n",
            "\u001b[32m[I 2021-08-17 07:12:58,474]\u001b[0m Trial 5 finished with value: 7.833566312769146 and parameters: {'iterations': 17456, 'learning_rate': 0.012903428494582125, 'reg_lambda': 70.61926559426321, 'subsample': 0.5952604779817451, 'random_strength': 17.561783898095275, 'depth': 1, 'min_data_in_leaf': 49, 'leaf_estimation_iterations': 14}. Best is trial 2 with value: 7.831465744635873.\u001b[0m\n",
            "\u001b[32m[I 2021-08-17 07:13:04,482]\u001b[0m Trial 6 finished with value: 7.847326398768127 and parameters: {'iterations': 20237, 'learning_rate': 0.2087598533958977, 'reg_lambda': 47.05707016708271, 'subsample': 0.300625943269769, 'random_strength': 31.355448801969757, 'depth': 5, 'min_data_in_leaf': 19, 'leaf_estimation_iterations': 8}. Best is trial 2 with value: 7.831465744635873.\u001b[0m\n",
            "\u001b[32m[I 2021-08-17 07:13:09,361]\u001b[0m Trial 7 finished with value: 7.886790307013316 and parameters: {'iterations': 7783, 'learning_rate': 0.3454969402550265, 'reg_lambda': 38.01234680911305, 'subsample': 0.15846761082736627, 'random_strength': 46.323132973046164, 'depth': 9, 'min_data_in_leaf': 34, 'leaf_estimation_iterations': 4}. Best is trial 2 with value: 7.831465744635873.\u001b[0m\n",
            "\u001b[32m[I 2021-08-17 07:13:17,738]\u001b[0m Trial 8 finished with value: 7.8839437829951375 and parameters: {'iterations': 17557, 'learning_rate': 0.11427096226603889, 'reg_lambda': 82.09996861471376, 'subsample': 0.6265991881663364, 'random_strength': 48.793637871942465, 'depth': 11, 'min_data_in_leaf': 40, 'leaf_estimation_iterations': 4}. Best is trial 2 with value: 7.831465744635873.\u001b[0m\n",
            "\u001b[32m[I 2021-08-17 07:13:28,427]\u001b[0m Trial 9 finished with value: 7.833961411055593 and parameters: {'iterations': 11129, 'learning_rate': 0.06598573004655003, 'reg_lambda': 27.68379761044203, 'subsample': 0.27235567830084406, 'random_strength': 40.43562458954026, 'depth': 7, 'min_data_in_leaf': 49, 'leaf_estimation_iterations': 5}. Best is trial 2 with value: 7.831465744635873.\u001b[0m\n",
            "\u001b[32m[I 2021-08-17 07:13:39,575]\u001b[0m Trial 10 finished with value: 7.831327881488381 and parameters: {'iterations': 24951, 'learning_rate': 0.49085133024437666, 'reg_lambda': 97.84028882592362, 'subsample': 0.8048924188818191, 'random_strength': 40.87823579711569, 'depth': 1, 'min_data_in_leaf': 21, 'leaf_estimation_iterations': 12}. Best is trial 10 with value: 7.831327881488381.\u001b[0m\n",
            "\u001b[32m[I 2021-08-17 07:13:47,140]\u001b[0m Trial 11 finished with value: 7.830845822845902 and parameters: {'iterations': 24959, 'learning_rate': 0.48671567167974444, 'reg_lambda': 99.84526416406794, 'subsample': 0.9183742183446446, 'random_strength': 40.35541953084692, 'depth': 1, 'min_data_in_leaf': 19, 'leaf_estimation_iterations': 12}. Best is trial 11 with value: 7.830845822845902.\u001b[0m\n",
            "\u001b[32m[I 2021-08-17 07:13:54,525]\u001b[0m Trial 12 finished with value: 7.851692504198531 and parameters: {'iterations': 23963, 'learning_rate': 0.4999016936524284, 'reg_lambda': 98.77683714373899, 'subsample': 0.9307095966780154, 'random_strength': 38.87285365746716, 'depth': 2, 'min_data_in_leaf': 27, 'leaf_estimation_iterations': 15}. Best is trial 11 with value: 7.830845822845902.\u001b[0m\n",
            "\u001b[32m[I 2021-08-17 07:14:06,869]\u001b[0m Trial 13 finished with value: 8.267120427347868 and parameters: {'iterations': 13645, 'learning_rate': 0.4924478856244153, 'reg_lambda': 81.33220470288055, 'subsample': 0.787431087068404, 'random_strength': 34.19702718475081, 'depth': 13, 'min_data_in_leaf': 23, 'leaf_estimation_iterations': 12}. Best is trial 11 with value: 7.830845822845902.\u001b[0m\n",
            "\u001b[32m[I 2021-08-17 07:14:12,503]\u001b[0m Trial 14 finished with value: 7.851767725952114 and parameters: {'iterations': 24853, 'learning_rate': 0.4300126543304682, 'reg_lambda': 82.01710992369424, 'subsample': 0.7786268499933908, 'random_strength': 24.209257480819254, 'depth': 3, 'min_data_in_leaf': 29, 'leaf_estimation_iterations': 12}. Best is trial 11 with value: 7.830845822845902.\u001b[0m\n",
            "\u001b[32m[I 2021-08-17 07:14:16,603]\u001b[0m Trial 15 finished with value: 7.912036015899739 and parameters: {'iterations': 13718, 'learning_rate': 0.2823383390800385, 'reg_lambda': 91.14244264251536, 'subsample': 0.8034230953672735, 'random_strength': 42.132186860229965, 'depth': 6, 'min_data_in_leaf': 18, 'leaf_estimation_iterations': 1}. Best is trial 11 with value: 7.830845822845902.\u001b[0m\n",
            "\u001b[32m[I 2021-08-17 07:14:28,738]\u001b[0m Trial 16 finished with value: 7.8289574534956206 and parameters: {'iterations': 21358, 'learning_rate': 0.44562040386431495, 'reg_lambda': 64.61069258335391, 'subsample': 0.9965729421161915, 'random_strength': 48.98809778120379, 'depth': 1, 'min_data_in_leaf': 36, 'leaf_estimation_iterations': 10}. Best is trial 16 with value: 7.8289574534956206.\u001b[0m\n",
            "\u001b[32m[I 2021-08-17 07:14:33,239]\u001b[0m Trial 17 finished with value: 7.851063355136819 and parameters: {'iterations': 20635, 'learning_rate': 0.44027882755410086, 'reg_lambda': 62.270965070095365, 'subsample': 0.9334087632608741, 'random_strength': 49.92713880440496, 'depth': 3, 'min_data_in_leaf': 39, 'leaf_estimation_iterations': 10}. Best is trial 16 with value: 7.8289574534956206.\u001b[0m\n",
            "\u001b[32m[I 2021-08-17 07:14:39,841]\u001b[0m Trial 18 finished with value: 7.955866265930196 and parameters: {'iterations': 21496, 'learning_rate': 0.2924720918167945, 'reg_lambda': 22.917401198757016, 'subsample': 0.9876973135353374, 'random_strength': 45.29370141571649, 'depth': 10, 'min_data_in_leaf': 33, 'leaf_estimation_iterations': 10}. Best is trial 16 with value: 7.8289574534956206.\u001b[0m\n",
            "\u001b[32m[I 2021-08-17 07:14:45,740]\u001b[0m Trial 19 finished with value: 7.841000776209127 and parameters: {'iterations': 16586, 'learning_rate': 0.4251923779924988, 'reg_lambda': 70.49663503186353, 'subsample': 0.6807538076056361, 'random_strength': 36.20705394005428, 'depth': 2, 'min_data_in_leaf': 43, 'leaf_estimation_iterations': 6}. Best is trial 16 with value: 7.8289574534956206.\u001b[0m\n",
            "\u001b[32m[I 2021-08-17 07:14:50,377]\u001b[0m Trial 20 finished with value: 7.879037433402577 and parameters: {'iterations': 22588, 'learning_rate': 0.38865992515915715, 'reg_lambda': 67.6918812780234, 'subsample': 0.8801936951479011, 'random_strength': 24.369445418237717, 'depth': 5, 'min_data_in_leaf': 31, 'leaf_estimation_iterations': 14}. Best is trial 16 with value: 7.8289574534956206.\u001b[0m\n",
            "\u001b[32m[I 2021-08-17 07:15:03,025]\u001b[0m Trial 21 finished with value: 7.829537869727061 and parameters: {'iterations': 23091, 'learning_rate': 0.47023052245759117, 'reg_lambda': 90.996291396019, 'subsample': 0.8305983133645741, 'random_strength': 41.97853034225915, 'depth': 1, 'min_data_in_leaf': 23, 'leaf_estimation_iterations': 11}. Best is trial 16 with value: 7.8289574534956206.\u001b[0m\n",
            "\u001b[32m[I 2021-08-17 07:15:09,857]\u001b[0m Trial 22 finished with value: 7.841739868298865 and parameters: {'iterations': 18772, 'learning_rate': 0.45562394739891887, 'reg_lambda': 86.79458323442907, 'subsample': 0.704744367085743, 'random_strength': 45.95759714845779, 'depth': 2, 'min_data_in_leaf': 26, 'leaf_estimation_iterations': 11}. Best is trial 16 with value: 7.8289574534956206.\u001b[0m\n",
            "\u001b[32m[I 2021-08-17 07:15:22,714]\u001b[0m Trial 23 finished with value: 7.8296920594741755 and parameters: {'iterations': 22448, 'learning_rate': 0.45625574809639, 'reg_lambda': 73.61337689649169, 'subsample': 0.8597390816851066, 'random_strength': 43.30363558789223, 'depth': 1, 'min_data_in_leaf': 15, 'leaf_estimation_iterations': 14}. Best is trial 16 with value: 7.8289574534956206.\u001b[0m\n",
            "\u001b[32m[I 2021-08-17 07:15:27,410]\u001b[0m Trial 24 finished with value: 7.854064093002145 and parameters: {'iterations': 15062, 'learning_rate': 0.38854567607166124, 'reg_lambda': 75.28794093893448, 'subsample': 0.8497494648783721, 'random_strength': 49.599249227381975, 'depth': 4, 'min_data_in_leaf': 14, 'leaf_estimation_iterations': 14}. Best is trial 16 with value: 7.8289574534956206.\u001b[0m\n",
            "\u001b[32m[I 2021-08-17 07:15:36,375]\u001b[0m Trial 25 finished with value: 7.831725770790822 and parameters: {'iterations': 22862, 'learning_rate': 0.30964803509863514, 'reg_lambda': 54.95029534604446, 'subsample': 0.723802690308109, 'random_strength': 43.56930846088237, 'depth': 2, 'min_data_in_leaf': 35, 'leaf_estimation_iterations': 15}. Best is trial 16 with value: 7.8289574534956206.\u001b[0m\n",
            "\u001b[32m[I 2021-08-17 07:15:42,420]\u001b[0m Trial 26 finished with value: 7.838682980750996 and parameters: {'iterations': 10788, 'learning_rate': 0.21313404639952632, 'reg_lambda': 60.79547693900258, 'subsample': 0.4736400261569201, 'random_strength': 37.24604118125725, 'depth': 4, 'min_data_in_leaf': 23, 'leaf_estimation_iterations': 13}. Best is trial 16 with value: 7.8289574534956206.\u001b[0m\n",
            "\u001b[32m[I 2021-08-17 07:15:47,077]\u001b[0m Trial 27 finished with value: 7.850584508594637 and parameters: {'iterations': 19427, 'learning_rate': 0.4582304741891017, 'reg_lambda': 75.2627916626902, 'subsample': 0.8609174302010042, 'random_strength': 32.783511584262634, 'depth': 3, 'min_data_in_leaf': 12, 'leaf_estimation_iterations': 9}. Best is trial 16 with value: 7.8289574534956206.\u001b[0m\n",
            "\u001b[32m[I 2021-08-17 07:15:55,437]\u001b[0m Trial 28 finished with value: 7.8310235652391675 and parameters: {'iterations': 22556, 'learning_rate': 0.4068915077600203, 'reg_lambda': 62.48461648187407, 'subsample': 0.9878945758669531, 'random_strength': 47.03722964692698, 'depth': 1, 'min_data_in_leaf': 16, 'leaf_estimation_iterations': 11}. Best is trial 16 with value: 7.8289574534956206.\u001b[0m\n",
            "\u001b[32m[I 2021-08-17 07:16:00,641]\u001b[0m Trial 29 finished with value: 7.865278872080032 and parameters: {'iterations': 2843, 'learning_rate': 0.2417736792019833, 'reg_lambda': 90.83685127966238, 'subsample': 0.7373171249633999, 'random_strength': 27.79242404004221, 'depth': 6, 'min_data_in_leaf': 38, 'leaf_estimation_iterations': 13}. Best is trial 16 with value: 7.8289574534956206.\u001b[0m\n",
            "\u001b[32m[I 2021-08-17 07:16:07,951]\u001b[0m Trial 30 finished with value: 7.837513205723708 and parameters: {'iterations': 15551, 'learning_rate': 0.36837174747619283, 'reg_lambda': 76.8095252791065, 'subsample': 0.623727113203395, 'random_strength': 43.5736404030082, 'depth': 2, 'min_data_in_leaf': 7, 'leaf_estimation_iterations': 7}. Best is trial 16 with value: 7.8289574534956206.\u001b[0m\n",
            "\u001b[32m[I 2021-08-17 07:16:20,539]\u001b[0m Trial 31 finished with value: 7.830081096536731 and parameters: {'iterations': 23319, 'learning_rate': 0.4673210909020058, 'reg_lambda': 93.25146665606498, 'subsample': 0.8865396712840724, 'random_strength': 39.50480233837157, 'depth': 1, 'min_data_in_leaf': 23, 'leaf_estimation_iterations': 11}. Best is trial 16 with value: 7.8289574534956206.\u001b[0m\n",
            "\u001b[32m[I 2021-08-17 07:16:30,175]\u001b[0m Trial 32 finished with value: 7.829040787181053 and parameters: {'iterations': 21384, 'learning_rate': 0.46028980311157697, 'reg_lambda': 89.76101967395054, 'subsample': 0.8529058201955384, 'random_strength': 38.89890957423883, 'depth': 1, 'min_data_in_leaf': 24, 'leaf_estimation_iterations': 9}. Best is trial 16 with value: 7.8289574534956206.\u001b[0m\n",
            "\u001b[32m[I 2021-08-17 07:16:36,204]\u001b[0m Trial 33 finished with value: 7.838585574292079 and parameters: {'iterations': 21181, 'learning_rate': 0.4047309308638391, 'reg_lambda': 84.39162223642084, 'subsample': 0.9924515250780855, 'random_strength': 10.457800234495252, 'depth': 2, 'min_data_in_leaf': 28, 'leaf_estimation_iterations': 9}. Best is trial 16 with value: 7.8289574534956206.\u001b[0m\n",
            "\u001b[32m[I 2021-08-17 07:16:40,542]\u001b[0m Trial 34 finished with value: 7.860389230650976 and parameters: {'iterations': 19643, 'learning_rate': 0.43558022900283355, 'reg_lambda': 54.49756305910321, 'subsample': 0.8364178057411646, 'random_strength': 42.65839528605252, 'depth': 4, 'min_data_in_leaf': 7, 'leaf_estimation_iterations': 9}. Best is trial 16 with value: 7.8289574534956206.\u001b[0m\n",
            "\u001b[32m[I 2021-08-17 07:16:47,618]\u001b[0m Trial 35 finished with value: 7.839175669268245 and parameters: {'iterations': 21749, 'learning_rate': 0.3190210842914407, 'reg_lambda': 88.34261359468854, 'subsample': 0.5241653620139969, 'random_strength': 47.60876041160778, 'depth': 3, 'min_data_in_leaf': 24, 'leaf_estimation_iterations': 10}. Best is trial 16 with value: 7.8289574534956206.\u001b[0m\n",
            "\u001b[32m[I 2021-08-17 07:16:56,180]\u001b[0m Trial 36 finished with value: 7.830599079200154 and parameters: {'iterations': 18324, 'learning_rate': 0.46678755670134053, 'reg_lambda': 65.57647546204133, 'subsample': 0.6654095495966306, 'random_strength': 37.87978851243528, 'depth': 1, 'min_data_in_leaf': 15, 'leaf_estimation_iterations': 7}. Best is trial 16 with value: 7.8289574534956206.\u001b[0m\n",
            "\u001b[32m[I 2021-08-17 07:17:08,269]\u001b[0m Trial 37 finished with value: 7.82992904699445 and parameters: {'iterations': 20458, 'learning_rate': 0.3661879547126416, 'reg_lambda': 76.82995685049147, 'subsample': 0.7484806233302721, 'random_strength': 34.537884494591594, 'depth': 1, 'min_data_in_leaf': 30, 'leaf_estimation_iterations': 13}. Best is trial 16 with value: 7.8289574534956206.\u001b[0m\n",
            "\u001b[32m[I 2021-08-17 07:17:12,996]\u001b[0m Trial 38 finished with value: 7.851090759169912 and parameters: {'iterations': 22352, 'learning_rate': 0.4095059358283346, 'reg_lambda': 9.361759705877091, 'subsample': 0.9022651431835159, 'random_strength': 17.918199687489764, 'depth': 3, 'min_data_in_leaf': 11, 'leaf_estimation_iterations': 7}. Best is trial 16 with value: 7.8289574534956206.\u001b[0m\n",
            "\u001b[32m[I 2021-08-17 07:17:32,773]\u001b[0m Trial 39 finished with value: 7.8235007299845165 and parameters: {'iterations': 23548, 'learning_rate': 0.16296263552112067, 'reg_lambda': 46.64587911209365, 'subsample': 0.3507901836813464, 'random_strength': 44.95690322432215, 'depth': 2, 'min_data_in_leaf': 43, 'leaf_estimation_iterations': 9}. Best is trial 39 with value: 7.8235007299845165.\u001b[0m\n",
            "\u001b[32m[I 2021-08-17 07:17:41,853]\u001b[0m Trial 40 finished with value: 7.837969172514864 and parameters: {'iterations': 6040, 'learning_rate': 0.1754946473384078, 'reg_lambda': 37.03230796192942, 'subsample': 0.3767034105613147, 'random_strength': 44.9977817692435, 'depth': 4, 'min_data_in_leaf': 44, 'leaf_estimation_iterations': 9}. Best is trial 39 with value: 7.8235007299845165.\u001b[0m\n",
            "\u001b[32m[I 2021-08-17 07:17:57,108]\u001b[0m Trial 41 finished with value: 7.828121825629369 and parameters: {'iterations': 23267, 'learning_rate': 0.15547907519489257, 'reg_lambda': 48.59922282582983, 'subsample': 0.22742792412333912, 'random_strength': 47.60852199208342, 'depth': 2, 'min_data_in_leaf': 46, 'leaf_estimation_iterations': 8}. Best is trial 39 with value: 7.8235007299845165.\u001b[0m\n",
            "\u001b[32m[I 2021-08-17 07:18:10,593]\u001b[0m Trial 42 finished with value: 7.828653621438308 and parameters: {'iterations': 23792, 'learning_rate': 0.13016974480502044, 'reg_lambda': 47.86067138408565, 'subsample': 0.20271963790034442, 'random_strength': 47.74814598468393, 'depth': 2, 'min_data_in_leaf': 46, 'leaf_estimation_iterations': 8}. Best is trial 39 with value: 7.8235007299845165.\u001b[0m\n",
            "\u001b[32m[I 2021-08-17 07:18:28,256]\u001b[0m Trial 43 finished with value: 7.827864321035482 and parameters: {'iterations': 23808, 'learning_rate': 0.12371822813842848, 'reg_lambda': 46.89282357101271, 'subsample': 0.16575012893408028, 'random_strength': 47.93252501273766, 'depth': 2, 'min_data_in_leaf': 46, 'leaf_estimation_iterations': 8}. Best is trial 39 with value: 7.8235007299845165.\u001b[0m\n",
            "\u001b[32m[I 2021-08-17 07:18:45,374]\u001b[0m Trial 44 finished with value: 7.827633889505966 and parameters: {'iterations': 24044, 'learning_rate': 0.12181720383669048, 'reg_lambda': 45.3223594841562, 'subsample': 0.17538813112521556, 'random_strength': 48.016658170845034, 'depth': 2, 'min_data_in_leaf': 47, 'leaf_estimation_iterations': 8}. Best is trial 39 with value: 7.8235007299845165.\u001b[0m\n",
            "\u001b[32m[I 2021-08-17 07:18:58,091]\u001b[0m Trial 45 finished with value: 7.829389810466567 and parameters: {'iterations': 23708, 'learning_rate': 0.11621462067897191, 'reg_lambda': 46.84004865623747, 'subsample': 0.13858386564515976, 'random_strength': 47.79037273981123, 'depth': 3, 'min_data_in_leaf': 47, 'leaf_estimation_iterations': 6}. Best is trial 39 with value: 7.8235007299845165.\u001b[0m\n",
            "\u001b[32m[I 2021-08-17 07:19:29,421]\u001b[0m Trial 46 finished with value: 7.840394410986559 and parameters: {'iterations': 23905, 'learning_rate': 0.12978942307466027, 'reg_lambda': 29.629826963188147, 'subsample': 0.0005939236511565416, 'random_strength': 46.43752236858099, 'depth': 2, 'min_data_in_leaf': 46, 'leaf_estimation_iterations': 8}. Best is trial 39 with value: 7.8235007299845165.\u001b[0m\n",
            "\u001b[32m[I 2021-08-17 07:19:39,570]\u001b[0m Trial 47 finished with value: 7.839943474861824 and parameters: {'iterations': 24969, 'learning_rate': 0.0647569177008735, 'reg_lambda': 50.01946555563922, 'subsample': 0.23386476221167102, 'random_strength': 47.95053070461728, 'depth': 8, 'min_data_in_leaf': 42, 'leaf_estimation_iterations': 6}. Best is trial 39 with value: 7.8235007299845165.\u001b[0m\n",
            "\u001b[32m[I 2021-08-17 07:19:46,684]\u001b[0m Trial 48 finished with value: 7.843886037217401 and parameters: {'iterations': 24040, 'learning_rate': 0.15037459383175625, 'reg_lambda': 42.093635354889685, 'subsample': 0.10258332644494055, 'random_strength': 45.19692271631633, 'depth': 6, 'min_data_in_leaf': 49, 'leaf_estimation_iterations': 8}. Best is trial 39 with value: 7.8235007299845165.\u001b[0m\n",
            "\u001b[32m[I 2021-08-17 07:19:58,374]\u001b[0m Trial 49 finished with value: 7.827482941560676 and parameters: {'iterations': 11499, 'learning_rate': 0.08122437622559679, 'reg_lambda': 34.77031578132192, 'subsample': 0.22383660911106812, 'random_strength': 49.6642743902003, 'depth': 5, 'min_data_in_leaf': 50, 'leaf_estimation_iterations': 5}. Best is trial 39 with value: 7.8235007299845165.\u001b[0m\n"
          ],
          "name": "stderr"
        },
        {
          "output_type": "stream",
          "text": [
            "Number of finished trials: 50\n",
            "Best trial: score 7.8235007299845165, params {'iterations': 23548, 'learning_rate': 0.16296263552112067, 'reg_lambda': 46.64587911209365, 'subsample': 0.3507901836813464, 'random_strength': 44.95690322432215, 'depth': 2, 'min_data_in_leaf': 43, 'leaf_estimation_iterations': 9}\n"
          ],
          "name": "stdout"
        }
      ]
    },
    {
      "cell_type": "code",
      "metadata": {
        "id": "MPSwdl-Sdzhq",
        "colab": {
          "base_uri": "https://localhost:8080/"
        },
        "outputId": "8389d097-2efe-4453-8f4d-4d69c9ff069f"
      },
      "source": [
        "sk = StratifiedKFold(n_splits=5, shuffle=True, random_state=42)\n",
        "kf = KFold(n_splits=5, shuffle=True, random_state=42)\n",
        "preds = np.zeros((x_test.shape[0],))\n",
        "params_cat = {'iterations':study.best_params['iterations'],\n",
        "         'loss_function':'RMSE',\n",
        "         'task_type':\"GPU\",\n",
        "         'eval_metric':'RMSE',\n",
        "         'leaf_estimation_method':'Newton',\n",
        "         'bootstrap_type': 'Bernoulli',\n",
        "         'learning_rate' : study.best_params['learning_rate'],\n",
        "         'reg_lambda': study.best_params['reg_lambda'],\n",
        "         'subsample': study.best_params['subsample'],\n",
        "         'random_strength': study.best_params['random_strength'],\n",
        "         'depth': study.best_params['depth'],\n",
        "         'min_data_in_leaf': study.best_params['min_data_in_leaf'],\n",
        "         'leaf_estimation_iterations': study.best_params['leaf_estimation_iterations'],\n",
        "         'grow_policy' : 'Depthwise',  \n",
        "}\n",
        "\n",
        "for i, (train_index, valid_index) in enumerate(sk.split(x_train, y_train)):\n",
        "  X_train, X_valid = x_train.iloc[train_index], x_train.iloc[valid_index]\n",
        "  Y_train, Y_valid = y_train.iloc[train_index], y_train.iloc[valid_index]\n",
        "\n",
        "  model_cat = catboost.CatBoostRegressor(**params_cat)\n",
        "  model_cat.fit(X_train, Y_train, eval_set=(X_valid, Y_valid), verbose=100, early_stopping_rounds=70)\n",
        "\n",
        "  preds += model_cat.predict(x_test) / sk.n_splits\n",
        "  val_preds = model_cat.predict(X_valid)\n",
        "  RMSE = np.sqrt(mean_squared_error(val_preds, Y_valid))\n",
        "  print(f'{i+1}번째 RMSE:{RMSE}')"
      ],
      "execution_count": 27,
      "outputs": [
        {
          "output_type": "stream",
          "text": [
            "/usr/local/lib/python3.7/dist-packages/sklearn/model_selection/_split.py:667: UserWarning:\n",
            "\n",
            "The least populated class in y has only 3 members, which is less than n_splits=5.\n",
            "\n"
          ],
          "name": "stderr"
        },
        {
          "output_type": "stream",
          "text": [
            "0:\tlearn: 7.9371742\ttest: 7.9370164\tbest: 7.9370164 (0)\ttotal: 8.6ms\tremaining: 3m 22s\n",
            "100:\tlearn: 7.8767931\ttest: 7.8896372\tbest: 7.8896372 (100)\ttotal: 671ms\tremaining: 2m 35s\n",
            "200:\tlearn: 7.8531615\ttest: 7.8735700\tbest: 7.8735700 (200)\ttotal: 1.33s\tremaining: 2m 34s\n",
            "300:\tlearn: 7.8378607\ttest: 7.8637764\tbest: 7.8637475 (299)\ttotal: 1.99s\tremaining: 2m 34s\n",
            "400:\tlearn: 7.8266075\ttest: 7.8595728\tbest: 7.8595728 (400)\ttotal: 2.67s\tremaining: 2m 34s\n",
            "500:\tlearn: 7.8175396\ttest: 7.8557202\tbest: 7.8556441 (497)\ttotal: 3.28s\tremaining: 2m 30s\n",
            "600:\tlearn: 7.8096149\ttest: 7.8534804\tbest: 7.8534161 (594)\ttotal: 3.88s\tremaining: 2m 28s\n",
            "700:\tlearn: 7.8020154\ttest: 7.8519087\tbest: 7.8517539 (694)\ttotal: 4.51s\tremaining: 2m 26s\n",
            "800:\tlearn: 7.7959582\ttest: 7.8505484\tbest: 7.8505484 (800)\ttotal: 5.14s\tremaining: 2m 25s\n",
            "bestTest = 7.850195221\n",
            "bestIteration = 820\n",
            "Shrink model to first 821 iterations.\n",
            "1번째 RMSE:7.850196128189083\n",
            "0:\tlearn: 7.9373125\ttest: 7.9386167\tbest: 7.9386167 (0)\ttotal: 8.15ms\tremaining: 3m 11s\n",
            "100:\tlearn: 7.8769331\ttest: 7.8888165\tbest: 7.8888165 (100)\ttotal: 638ms\tremaining: 2m 28s\n",
            "200:\tlearn: 7.8528304\ttest: 7.8728222\tbest: 7.8728222 (200)\ttotal: 1.27s\tremaining: 2m 27s\n",
            "300:\tlearn: 7.8374326\ttest: 7.8645906\tbest: 7.8645906 (300)\ttotal: 1.9s\tremaining: 2m 27s\n",
            "400:\tlearn: 7.8257667\ttest: 7.8595509\tbest: 7.8595009 (399)\ttotal: 2.51s\tremaining: 2m 25s\n",
            "500:\tlearn: 7.8163575\ttest: 7.8557746\tbest: 7.8557746 (500)\ttotal: 3.15s\tremaining: 2m 24s\n",
            "600:\tlearn: 7.8087515\ttest: 7.8534712\tbest: 7.8534712 (600)\ttotal: 3.77s\tremaining: 2m 24s\n",
            "700:\tlearn: 7.8022429\ttest: 7.8517609\tbest: 7.8517520 (698)\ttotal: 4.39s\tremaining: 2m 23s\n",
            "800:\tlearn: 7.7959720\ttest: 7.8506366\tbest: 7.8506366 (800)\ttotal: 5.02s\tremaining: 2m 22s\n",
            "900:\tlearn: 7.7898591\ttest: 7.8489321\tbest: 7.8489321 (900)\ttotal: 5.64s\tremaining: 2m 21s\n",
            "1000:\tlearn: 7.7844027\ttest: 7.8480364\tbest: 7.8478513 (970)\ttotal: 6.26s\tremaining: 2m 21s\n",
            "1100:\tlearn: 7.7793615\ttest: 7.8472154\tbest: 7.8472154 (1100)\ttotal: 6.9s\tremaining: 2m 20s\n",
            "1200:\tlearn: 7.7743540\ttest: 7.8474024\tbest: 7.8470991 (1150)\ttotal: 7.52s\tremaining: 2m 19s\n",
            "bestTest = 7.847099146\n",
            "bestIteration = 1150\n",
            "Shrink model to first 1151 iterations.\n",
            "2번째 RMSE:7.847100037862088\n",
            "0:\tlearn: 7.9371481\ttest: 7.9386658\tbest: 7.9386658 (0)\ttotal: 7.99ms\tremaining: 3m 8s\n",
            "100:\tlearn: 7.8752133\ttest: 7.8887876\tbest: 7.8887876 (100)\ttotal: 630ms\tremaining: 2m 26s\n",
            "200:\tlearn: 7.8516941\ttest: 7.8742952\tbest: 7.8742952 (200)\ttotal: 1.26s\tremaining: 2m 26s\n",
            "300:\tlearn: 7.8370533\ttest: 7.8668764\tbest: 7.8668764 (300)\ttotal: 1.89s\tremaining: 2m 26s\n",
            "400:\tlearn: 7.8257645\ttest: 7.8623775\tbest: 7.8623775 (400)\ttotal: 2.49s\tremaining: 2m 24s\n",
            "500:\tlearn: 7.8159404\ttest: 7.8595137\tbest: 7.8595137 (500)\ttotal: 3.11s\tremaining: 2m 23s\n",
            "600:\tlearn: 7.8084506\ttest: 7.8572572\tbest: 7.8572572 (600)\ttotal: 3.74s\tremaining: 2m 22s\n",
            "700:\tlearn: 7.8016550\ttest: 7.8561810\tbest: 7.8561810 (700)\ttotal: 4.38s\tremaining: 2m 22s\n",
            "800:\tlearn: 7.7953614\ttest: 7.8551085\tbest: 7.8550662 (798)\ttotal: 4.98s\tremaining: 2m 21s\n",
            "900:\tlearn: 7.7897035\ttest: 7.8534365\tbest: 7.8534365 (900)\ttotal: 5.56s\tremaining: 2m 19s\n",
            "1000:\tlearn: 7.7840754\ttest: 7.8519886\tbest: 7.8519539 (997)\ttotal: 6.16s\tremaining: 2m 18s\n",
            "1100:\tlearn: 7.7787746\ttest: 7.8514183\tbest: 7.8514183 (1100)\ttotal: 6.75s\tremaining: 2m 17s\n",
            "1200:\tlearn: 7.7737980\ttest: 7.8514072\tbest: 7.8511706 (1145)\ttotal: 7.35s\tremaining: 2m 16s\n",
            "bestTest = 7.851170613\n",
            "bestIteration = 1145\n",
            "Shrink model to first 1146 iterations.\n",
            "3번째 RMSE:7.851170287774101\n",
            "0:\tlearn: 7.9377733\ttest: 7.9368533\tbest: 7.9368533 (0)\ttotal: 8.01ms\tremaining: 3m 8s\n",
            "100:\tlearn: 7.8759676\ttest: 7.8907379\tbest: 7.8907379 (100)\ttotal: 621ms\tremaining: 2m 24s\n",
            "200:\tlearn: 7.8504764\ttest: 7.8755276\tbest: 7.8755276 (200)\ttotal: 1.25s\tremaining: 2m 24s\n",
            "300:\tlearn: 7.8353819\ttest: 7.8676934\tbest: 7.8676934 (300)\ttotal: 1.88s\tremaining: 2m 24s\n",
            "400:\tlearn: 7.8240884\ttest: 7.8633415\tbest: 7.8632754 (399)\ttotal: 2.48s\tremaining: 2m 23s\n",
            "500:\tlearn: 7.8147860\ttest: 7.8612575\tbest: 7.8612413 (496)\ttotal: 3.08s\tremaining: 2m 21s\n",
            "600:\tlearn: 7.8067887\ttest: 7.8592401\tbest: 7.8592401 (600)\ttotal: 3.69s\tremaining: 2m 21s\n",
            "700:\tlearn: 7.8001388\ttest: 7.8578337\tbest: 7.8578308 (697)\ttotal: 4.3s\tremaining: 2m 20s\n",
            "800:\tlearn: 7.7939675\ttest: 7.8566004\tbest: 7.8565915 (799)\ttotal: 4.9s\tremaining: 2m 19s\n",
            "900:\tlearn: 7.7885974\ttest: 7.8559366\tbest: 7.8558421 (845)\ttotal: 5.53s\tremaining: 2m 18s\n",
            "1000:\tlearn: 7.7828019\ttest: 7.8558551\tbest: 7.8553122 (960)\ttotal: 6.14s\tremaining: 2m 18s\n",
            "bestTest = 7.855312215\n",
            "bestIteration = 960\n",
            "Shrink model to first 961 iterations.\n",
            "4번째 RMSE:7.855311776399555\n",
            "0:\tlearn: 7.9377538\ttest: 7.9365128\tbest: 7.9365128 (0)\ttotal: 7.45ms\tremaining: 2m 55s\n",
            "100:\tlearn: 7.8769198\ttest: 7.8879002\tbest: 7.8879002 (100)\ttotal: 633ms\tremaining: 2m 27s\n",
            "200:\tlearn: 7.8519988\ttest: 7.8721477\tbest: 7.8721477 (200)\ttotal: 1.25s\tremaining: 2m 24s\n",
            "300:\tlearn: 7.8368007\ttest: 7.8643925\tbest: 7.8643925 (300)\ttotal: 1.86s\tremaining: 2m 23s\n",
            "400:\tlearn: 7.8255613\ttest: 7.8592961\tbest: 7.8592961 (400)\ttotal: 2.47s\tremaining: 2m 22s\n",
            "500:\tlearn: 7.8164724\ttest: 7.8565116\tbest: 7.8565116 (500)\ttotal: 3.13s\tremaining: 2m 24s\n",
            "600:\tlearn: 7.8088149\ttest: 7.8546540\tbest: 7.8545445 (589)\ttotal: 3.78s\tremaining: 2m 24s\n",
            "700:\tlearn: 7.8015575\ttest: 7.8534862\tbest: 7.8534862 (700)\ttotal: 4.42s\tremaining: 2m 24s\n",
            "800:\tlearn: 7.7958184\ttest: 7.8524375\tbest: 7.8523458 (798)\ttotal: 5.07s\tremaining: 2m 23s\n",
            "900:\tlearn: 7.7896483\ttest: 7.8514534\tbest: 7.8513483 (888)\ttotal: 5.71s\tremaining: 2m 23s\n",
            "1000:\tlearn: 7.7847351\ttest: 7.8513317\tbest: 7.8510410 (961)\ttotal: 6.34s\tremaining: 2m 22s\n",
            "1100:\tlearn: 7.7803236\ttest: 7.8504615\tbest: 7.8503261 (1091)\ttotal: 6.96s\tremaining: 2m 22s\n",
            "1200:\tlearn: 7.7753315\ttest: 7.8501860\tbest: 7.8500710 (1169)\ttotal: 7.59s\tremaining: 2m 21s\n",
            "1300:\tlearn: 7.7710649\ttest: 7.8493012\tbest: 7.8492360 (1298)\ttotal: 8.24s\tremaining: 2m 20s\n",
            "bestTest = 7.849155369\n",
            "bestIteration = 1303\n",
            "Shrink model to first 1304 iterations.\n",
            "5번째 RMSE:7.849155653420736\n"
          ],
          "name": "stdout"
        }
      ]
    },
    {
      "cell_type": "markdown",
      "metadata": {
        "id": "SgIJ08Lf6yq2"
      },
      "source": [
        "# voting regressor"
      ]
    },
    {
      "cell_type": "code",
      "metadata": {
        "id": "R6lYeqixdEIW"
      },
      "source": [
        "from sklearn.ensemble import VotingRegressor"
      ],
      "execution_count": 38,
      "outputs": []
    },
    {
      "cell_type": "code",
      "metadata": {
        "id": "0Z7sPGwW64N2"
      },
      "source": [
        "cat = catboost.CatBoostRegressor(**params_cat)\n",
        "lgb = lightgbm.LGBMRegressor(**best_lgb_params)\n",
        "xgb = xgboost.XGBRegressor(**params_xgb)"
      ],
      "execution_count": 48,
      "outputs": []
    },
    {
      "cell_type": "code",
      "metadata": {
        "colab": {
          "base_uri": "https://localhost:8080/",
          "height": 474
        },
        "id": "J4BWRfMA6x4V",
        "outputId": "83e1a4c6-ae74-40d1-c022-8115a8bd6bb5"
      },
      "source": [
        "from sklearn.ensemble import VotingRegressor\n",
        "folds = KFold(n_splits = 10, random_state = 2021, shuffle = True)\n",
        "\n",
        "predictions = np.zeros((len(x_test),))\n",
        "\n",
        "for fold, (trn_idx, val_idx) in enumerate(folds.split(x_train)):\n",
        "    print(f\"Fold: {fold}\")\n",
        "    X_train, X_val = x_train.values[trn_idx], x_train.values[val_idx]\n",
        "    Y_train, Y_val = y_train.values[trn_idx], y_train.values[val_idx]\n",
        "\n",
        "    model = VotingRegressor(\n",
        "            estimators = [\n",
        "                ('lgbm', lgb),\n",
        "                ('xgb', xgb),\n",
        "                ('cat', cat)\n",
        "            ],\n",
        "            weights = [0.15, 0.65, 0.2]\n",
        "        )\n",
        "   \n",
        "    model.fit(X_train, Y_train)\n",
        "    pred = model.predict(X_val)\n",
        "    error = mean_squared_error(Y_val, pred,squared = False)\n",
        "    print(f\" mean_squared_error: {error}\")\n",
        "    print(\"-\"*50)\n",
        "    \n",
        "    predictions += model.predict(x_test) / folds.n_splits "
      ],
      "execution_count": 49,
      "outputs": [
        {
          "output_type": "stream",
          "text": [
            "Fold: 0\n"
          ],
          "name": "stdout"
        },
        {
          "output_type": "stream",
          "text": [
            "/usr/local/lib/python3.7/dist-packages/lightgbm/engine.py:118: UserWarning:\n",
            "\n",
            "Found `num_iterations` in params. Will use it instead of argument\n",
            "\n"
          ],
          "name": "stderr"
        },
        {
          "output_type": "error",
          "ename": "KeyboardInterrupt",
          "evalue": "ignored",
          "traceback": [
            "\u001b[0;31m---------------------------------------------------------------------------\u001b[0m",
            "\u001b[0;31mKeyboardInterrupt\u001b[0m                         Traceback (most recent call last)",
            "\u001b[0;32m<ipython-input-49-1da407822204>\u001b[0m in \u001b[0;36m<module>\u001b[0;34m()\u001b[0m\n\u001b[1;32m     18\u001b[0m         )\n\u001b[1;32m     19\u001b[0m \u001b[0;34m\u001b[0m\u001b[0m\n\u001b[0;32m---> 20\u001b[0;31m     \u001b[0mmodel\u001b[0m\u001b[0;34m.\u001b[0m\u001b[0mfit\u001b[0m\u001b[0;34m(\u001b[0m\u001b[0mX_train\u001b[0m\u001b[0;34m,\u001b[0m \u001b[0mY_train\u001b[0m\u001b[0;34m)\u001b[0m\u001b[0;34m\u001b[0m\u001b[0;34m\u001b[0m\u001b[0m\n\u001b[0m\u001b[1;32m     21\u001b[0m     \u001b[0mpred\u001b[0m \u001b[0;34m=\u001b[0m \u001b[0mmodel\u001b[0m\u001b[0;34m.\u001b[0m\u001b[0mpredict\u001b[0m\u001b[0;34m(\u001b[0m\u001b[0mX_val\u001b[0m\u001b[0;34m)\u001b[0m\u001b[0;34m\u001b[0m\u001b[0;34m\u001b[0m\u001b[0m\n\u001b[1;32m     22\u001b[0m     \u001b[0merror\u001b[0m \u001b[0;34m=\u001b[0m \u001b[0mmean_squared_error\u001b[0m\u001b[0;34m(\u001b[0m\u001b[0mY_val\u001b[0m\u001b[0;34m,\u001b[0m \u001b[0mpred\u001b[0m\u001b[0;34m,\u001b[0m\u001b[0msquared\u001b[0m \u001b[0;34m=\u001b[0m \u001b[0;32mFalse\u001b[0m\u001b[0;34m)\u001b[0m\u001b[0;34m\u001b[0m\u001b[0;34m\u001b[0m\u001b[0m\n",
            "\u001b[0;32m/usr/local/lib/python3.7/dist-packages/sklearn/ensemble/_voting.py\u001b[0m in \u001b[0;36mfit\u001b[0;34m(self, X, y, sample_weight)\u001b[0m\n\u001b[1;32m    405\u001b[0m         \"\"\"\n\u001b[1;32m    406\u001b[0m         \u001b[0my\u001b[0m \u001b[0;34m=\u001b[0m \u001b[0mcolumn_or_1d\u001b[0m\u001b[0;34m(\u001b[0m\u001b[0my\u001b[0m\u001b[0;34m,\u001b[0m \u001b[0mwarn\u001b[0m\u001b[0;34m=\u001b[0m\u001b[0;32mTrue\u001b[0m\u001b[0;34m)\u001b[0m\u001b[0;34m\u001b[0m\u001b[0;34m\u001b[0m\u001b[0m\n\u001b[0;32m--> 407\u001b[0;31m         \u001b[0;32mreturn\u001b[0m \u001b[0msuper\u001b[0m\u001b[0;34m(\u001b[0m\u001b[0;34m)\u001b[0m\u001b[0;34m.\u001b[0m\u001b[0mfit\u001b[0m\u001b[0;34m(\u001b[0m\u001b[0mX\u001b[0m\u001b[0;34m,\u001b[0m \u001b[0my\u001b[0m\u001b[0;34m,\u001b[0m \u001b[0msample_weight\u001b[0m\u001b[0;34m)\u001b[0m\u001b[0;34m\u001b[0m\u001b[0;34m\u001b[0m\u001b[0m\n\u001b[0m\u001b[1;32m    408\u001b[0m \u001b[0;34m\u001b[0m\u001b[0m\n\u001b[1;32m    409\u001b[0m     \u001b[0;32mdef\u001b[0m \u001b[0mpredict\u001b[0m\u001b[0;34m(\u001b[0m\u001b[0mself\u001b[0m\u001b[0;34m,\u001b[0m \u001b[0mX\u001b[0m\u001b[0;34m)\u001b[0m\u001b[0;34m:\u001b[0m\u001b[0;34m\u001b[0m\u001b[0;34m\u001b[0m\u001b[0m\n",
            "\u001b[0;32m/usr/local/lib/python3.7/dist-packages/sklearn/ensemble/_voting.py\u001b[0m in \u001b[0;36mfit\u001b[0;34m(self, X, y, sample_weight)\u001b[0m\n\u001b[1;32m     66\u001b[0m                 delayed(_parallel_fit_estimator)(clone(clf), X, y,\n\u001b[1;32m     67\u001b[0m                                                  sample_weight=sample_weight)\n\u001b[0;32m---> 68\u001b[0;31m                 \u001b[0;32mfor\u001b[0m \u001b[0mclf\u001b[0m \u001b[0;32min\u001b[0m \u001b[0mclfs\u001b[0m \u001b[0;32mif\u001b[0m \u001b[0mclf\u001b[0m \u001b[0;32mnot\u001b[0m \u001b[0;32min\u001b[0m \u001b[0;34m(\u001b[0m\u001b[0;32mNone\u001b[0m\u001b[0;34m,\u001b[0m \u001b[0;34m'drop'\u001b[0m\u001b[0;34m)\u001b[0m\u001b[0;34m\u001b[0m\u001b[0;34m\u001b[0m\u001b[0m\n\u001b[0m\u001b[1;32m     69\u001b[0m             )\n\u001b[1;32m     70\u001b[0m \u001b[0;34m\u001b[0m\u001b[0m\n",
            "\u001b[0;32m/usr/local/lib/python3.7/dist-packages/joblib/parallel.py\u001b[0m in \u001b[0;36m__call__\u001b[0;34m(self, iterable)\u001b[0m\n\u001b[1;32m   1039\u001b[0m             \u001b[0;31m# remaining jobs.\u001b[0m\u001b[0;34m\u001b[0m\u001b[0;34m\u001b[0m\u001b[0;34m\u001b[0m\u001b[0m\n\u001b[1;32m   1040\u001b[0m             \u001b[0mself\u001b[0m\u001b[0;34m.\u001b[0m\u001b[0m_iterating\u001b[0m \u001b[0;34m=\u001b[0m \u001b[0;32mFalse\u001b[0m\u001b[0;34m\u001b[0m\u001b[0;34m\u001b[0m\u001b[0m\n\u001b[0;32m-> 1041\u001b[0;31m             \u001b[0;32mif\u001b[0m \u001b[0mself\u001b[0m\u001b[0;34m.\u001b[0m\u001b[0mdispatch_one_batch\u001b[0m\u001b[0;34m(\u001b[0m\u001b[0miterator\u001b[0m\u001b[0;34m)\u001b[0m\u001b[0;34m:\u001b[0m\u001b[0;34m\u001b[0m\u001b[0;34m\u001b[0m\u001b[0m\n\u001b[0m\u001b[1;32m   1042\u001b[0m                 \u001b[0mself\u001b[0m\u001b[0;34m.\u001b[0m\u001b[0m_iterating\u001b[0m \u001b[0;34m=\u001b[0m \u001b[0mself\u001b[0m\u001b[0;34m.\u001b[0m\u001b[0m_original_iterator\u001b[0m \u001b[0;32mis\u001b[0m \u001b[0;32mnot\u001b[0m \u001b[0;32mNone\u001b[0m\u001b[0;34m\u001b[0m\u001b[0;34m\u001b[0m\u001b[0m\n\u001b[1;32m   1043\u001b[0m \u001b[0;34m\u001b[0m\u001b[0m\n",
            "\u001b[0;32m/usr/local/lib/python3.7/dist-packages/joblib/parallel.py\u001b[0m in \u001b[0;36mdispatch_one_batch\u001b[0;34m(self, iterator)\u001b[0m\n\u001b[1;32m    857\u001b[0m                 \u001b[0;32mreturn\u001b[0m \u001b[0;32mFalse\u001b[0m\u001b[0;34m\u001b[0m\u001b[0;34m\u001b[0m\u001b[0m\n\u001b[1;32m    858\u001b[0m             \u001b[0;32melse\u001b[0m\u001b[0;34m:\u001b[0m\u001b[0;34m\u001b[0m\u001b[0;34m\u001b[0m\u001b[0m\n\u001b[0;32m--> 859\u001b[0;31m                 \u001b[0mself\u001b[0m\u001b[0;34m.\u001b[0m\u001b[0m_dispatch\u001b[0m\u001b[0;34m(\u001b[0m\u001b[0mtasks\u001b[0m\u001b[0;34m)\u001b[0m\u001b[0;34m\u001b[0m\u001b[0;34m\u001b[0m\u001b[0m\n\u001b[0m\u001b[1;32m    860\u001b[0m                 \u001b[0;32mreturn\u001b[0m \u001b[0;32mTrue\u001b[0m\u001b[0;34m\u001b[0m\u001b[0;34m\u001b[0m\u001b[0m\n\u001b[1;32m    861\u001b[0m \u001b[0;34m\u001b[0m\u001b[0m\n",
            "\u001b[0;32m/usr/local/lib/python3.7/dist-packages/joblib/parallel.py\u001b[0m in \u001b[0;36m_dispatch\u001b[0;34m(self, batch)\u001b[0m\n\u001b[1;32m    775\u001b[0m         \u001b[0;32mwith\u001b[0m \u001b[0mself\u001b[0m\u001b[0;34m.\u001b[0m\u001b[0m_lock\u001b[0m\u001b[0;34m:\u001b[0m\u001b[0;34m\u001b[0m\u001b[0;34m\u001b[0m\u001b[0m\n\u001b[1;32m    776\u001b[0m             \u001b[0mjob_idx\u001b[0m \u001b[0;34m=\u001b[0m \u001b[0mlen\u001b[0m\u001b[0;34m(\u001b[0m\u001b[0mself\u001b[0m\u001b[0;34m.\u001b[0m\u001b[0m_jobs\u001b[0m\u001b[0;34m)\u001b[0m\u001b[0;34m\u001b[0m\u001b[0;34m\u001b[0m\u001b[0m\n\u001b[0;32m--> 777\u001b[0;31m             \u001b[0mjob\u001b[0m \u001b[0;34m=\u001b[0m \u001b[0mself\u001b[0m\u001b[0;34m.\u001b[0m\u001b[0m_backend\u001b[0m\u001b[0;34m.\u001b[0m\u001b[0mapply_async\u001b[0m\u001b[0;34m(\u001b[0m\u001b[0mbatch\u001b[0m\u001b[0;34m,\u001b[0m \u001b[0mcallback\u001b[0m\u001b[0;34m=\u001b[0m\u001b[0mcb\u001b[0m\u001b[0;34m)\u001b[0m\u001b[0;34m\u001b[0m\u001b[0;34m\u001b[0m\u001b[0m\n\u001b[0m\u001b[1;32m    778\u001b[0m             \u001b[0;31m# A job can complete so quickly than its callback is\u001b[0m\u001b[0;34m\u001b[0m\u001b[0;34m\u001b[0m\u001b[0;34m\u001b[0m\u001b[0m\n\u001b[1;32m    779\u001b[0m             \u001b[0;31m# called before we get here, causing self._jobs to\u001b[0m\u001b[0;34m\u001b[0m\u001b[0;34m\u001b[0m\u001b[0;34m\u001b[0m\u001b[0m\n",
            "\u001b[0;32m/usr/local/lib/python3.7/dist-packages/joblib/_parallel_backends.py\u001b[0m in \u001b[0;36mapply_async\u001b[0;34m(self, func, callback)\u001b[0m\n\u001b[1;32m    206\u001b[0m     \u001b[0;32mdef\u001b[0m \u001b[0mapply_async\u001b[0m\u001b[0;34m(\u001b[0m\u001b[0mself\u001b[0m\u001b[0;34m,\u001b[0m \u001b[0mfunc\u001b[0m\u001b[0;34m,\u001b[0m \u001b[0mcallback\u001b[0m\u001b[0;34m=\u001b[0m\u001b[0;32mNone\u001b[0m\u001b[0;34m)\u001b[0m\u001b[0;34m:\u001b[0m\u001b[0;34m\u001b[0m\u001b[0;34m\u001b[0m\u001b[0m\n\u001b[1;32m    207\u001b[0m         \u001b[0;34m\"\"\"Schedule a func to be run\"\"\"\u001b[0m\u001b[0;34m\u001b[0m\u001b[0;34m\u001b[0m\u001b[0m\n\u001b[0;32m--> 208\u001b[0;31m         \u001b[0mresult\u001b[0m \u001b[0;34m=\u001b[0m \u001b[0mImmediateResult\u001b[0m\u001b[0;34m(\u001b[0m\u001b[0mfunc\u001b[0m\u001b[0;34m)\u001b[0m\u001b[0;34m\u001b[0m\u001b[0;34m\u001b[0m\u001b[0m\n\u001b[0m\u001b[1;32m    209\u001b[0m         \u001b[0;32mif\u001b[0m \u001b[0mcallback\u001b[0m\u001b[0;34m:\u001b[0m\u001b[0;34m\u001b[0m\u001b[0;34m\u001b[0m\u001b[0m\n\u001b[1;32m    210\u001b[0m             \u001b[0mcallback\u001b[0m\u001b[0;34m(\u001b[0m\u001b[0mresult\u001b[0m\u001b[0;34m)\u001b[0m\u001b[0;34m\u001b[0m\u001b[0;34m\u001b[0m\u001b[0m\n",
            "\u001b[0;32m/usr/local/lib/python3.7/dist-packages/joblib/_parallel_backends.py\u001b[0m in \u001b[0;36m__init__\u001b[0;34m(self, batch)\u001b[0m\n\u001b[1;32m    570\u001b[0m         \u001b[0;31m# Don't delay the application, to avoid keeping the input\u001b[0m\u001b[0;34m\u001b[0m\u001b[0;34m\u001b[0m\u001b[0;34m\u001b[0m\u001b[0m\n\u001b[1;32m    571\u001b[0m         \u001b[0;31m# arguments in memory\u001b[0m\u001b[0;34m\u001b[0m\u001b[0;34m\u001b[0m\u001b[0;34m\u001b[0m\u001b[0m\n\u001b[0;32m--> 572\u001b[0;31m         \u001b[0mself\u001b[0m\u001b[0;34m.\u001b[0m\u001b[0mresults\u001b[0m \u001b[0;34m=\u001b[0m \u001b[0mbatch\u001b[0m\u001b[0;34m(\u001b[0m\u001b[0;34m)\u001b[0m\u001b[0;34m\u001b[0m\u001b[0;34m\u001b[0m\u001b[0m\n\u001b[0m\u001b[1;32m    573\u001b[0m \u001b[0;34m\u001b[0m\u001b[0m\n\u001b[1;32m    574\u001b[0m     \u001b[0;32mdef\u001b[0m \u001b[0mget\u001b[0m\u001b[0;34m(\u001b[0m\u001b[0mself\u001b[0m\u001b[0;34m)\u001b[0m\u001b[0;34m:\u001b[0m\u001b[0;34m\u001b[0m\u001b[0;34m\u001b[0m\u001b[0m\n",
            "\u001b[0;32m/usr/local/lib/python3.7/dist-packages/joblib/parallel.py\u001b[0m in \u001b[0;36m__call__\u001b[0;34m(self)\u001b[0m\n\u001b[1;32m    261\u001b[0m         \u001b[0;32mwith\u001b[0m \u001b[0mparallel_backend\u001b[0m\u001b[0;34m(\u001b[0m\u001b[0mself\u001b[0m\u001b[0;34m.\u001b[0m\u001b[0m_backend\u001b[0m\u001b[0;34m,\u001b[0m \u001b[0mn_jobs\u001b[0m\u001b[0;34m=\u001b[0m\u001b[0mself\u001b[0m\u001b[0;34m.\u001b[0m\u001b[0m_n_jobs\u001b[0m\u001b[0;34m)\u001b[0m\u001b[0;34m:\u001b[0m\u001b[0;34m\u001b[0m\u001b[0;34m\u001b[0m\u001b[0m\n\u001b[1;32m    262\u001b[0m             return [func(*args, **kwargs)\n\u001b[0;32m--> 263\u001b[0;31m                     for func, args, kwargs in self.items]\n\u001b[0m\u001b[1;32m    264\u001b[0m \u001b[0;34m\u001b[0m\u001b[0m\n\u001b[1;32m    265\u001b[0m     \u001b[0;32mdef\u001b[0m \u001b[0m__reduce__\u001b[0m\u001b[0;34m(\u001b[0m\u001b[0mself\u001b[0m\u001b[0;34m)\u001b[0m\u001b[0;34m:\u001b[0m\u001b[0;34m\u001b[0m\u001b[0;34m\u001b[0m\u001b[0m\n",
            "\u001b[0;32m/usr/local/lib/python3.7/dist-packages/joblib/parallel.py\u001b[0m in \u001b[0;36m<listcomp>\u001b[0;34m(.0)\u001b[0m\n\u001b[1;32m    261\u001b[0m         \u001b[0;32mwith\u001b[0m \u001b[0mparallel_backend\u001b[0m\u001b[0;34m(\u001b[0m\u001b[0mself\u001b[0m\u001b[0;34m.\u001b[0m\u001b[0m_backend\u001b[0m\u001b[0;34m,\u001b[0m \u001b[0mn_jobs\u001b[0m\u001b[0;34m=\u001b[0m\u001b[0mself\u001b[0m\u001b[0;34m.\u001b[0m\u001b[0m_n_jobs\u001b[0m\u001b[0;34m)\u001b[0m\u001b[0;34m:\u001b[0m\u001b[0;34m\u001b[0m\u001b[0;34m\u001b[0m\u001b[0m\n\u001b[1;32m    262\u001b[0m             return [func(*args, **kwargs)\n\u001b[0;32m--> 263\u001b[0;31m                     for func, args, kwargs in self.items]\n\u001b[0m\u001b[1;32m    264\u001b[0m \u001b[0;34m\u001b[0m\u001b[0m\n\u001b[1;32m    265\u001b[0m     \u001b[0;32mdef\u001b[0m \u001b[0m__reduce__\u001b[0m\u001b[0;34m(\u001b[0m\u001b[0mself\u001b[0m\u001b[0;34m)\u001b[0m\u001b[0;34m:\u001b[0m\u001b[0;34m\u001b[0m\u001b[0;34m\u001b[0m\u001b[0m\n",
            "\u001b[0;32m/usr/local/lib/python3.7/dist-packages/sklearn/ensemble/_base.py\u001b[0m in \u001b[0;36m_parallel_fit_estimator\u001b[0;34m(estimator, X, y, sample_weight)\u001b[0m\n\u001b[1;32m     34\u001b[0m             \u001b[0;32mraise\u001b[0m\u001b[0;34m\u001b[0m\u001b[0;34m\u001b[0m\u001b[0m\n\u001b[1;32m     35\u001b[0m     \u001b[0;32melse\u001b[0m\u001b[0;34m:\u001b[0m\u001b[0;34m\u001b[0m\u001b[0;34m\u001b[0m\u001b[0m\n\u001b[0;32m---> 36\u001b[0;31m         \u001b[0mestimator\u001b[0m\u001b[0;34m.\u001b[0m\u001b[0mfit\u001b[0m\u001b[0;34m(\u001b[0m\u001b[0mX\u001b[0m\u001b[0;34m,\u001b[0m \u001b[0my\u001b[0m\u001b[0;34m)\u001b[0m\u001b[0;34m\u001b[0m\u001b[0;34m\u001b[0m\u001b[0m\n\u001b[0m\u001b[1;32m     37\u001b[0m     \u001b[0;32mreturn\u001b[0m \u001b[0mestimator\u001b[0m\u001b[0;34m\u001b[0m\u001b[0;34m\u001b[0m\u001b[0m\n\u001b[1;32m     38\u001b[0m \u001b[0;34m\u001b[0m\u001b[0m\n",
            "\u001b[0;32m/usr/local/lib/python3.7/dist-packages/lightgbm/sklearn.py\u001b[0m in \u001b[0;36mfit\u001b[0;34m(self, X, y, sample_weight, init_score, eval_set, eval_names, eval_sample_weight, eval_init_score, eval_metric, early_stopping_rounds, verbose, feature_name, categorical_feature, callbacks)\u001b[0m\n\u001b[1;32m    683\u001b[0m                                        \u001b[0mverbose\u001b[0m\u001b[0;34m=\u001b[0m\u001b[0mverbose\u001b[0m\u001b[0;34m,\u001b[0m \u001b[0mfeature_name\u001b[0m\u001b[0;34m=\u001b[0m\u001b[0mfeature_name\u001b[0m\u001b[0;34m,\u001b[0m\u001b[0;34m\u001b[0m\u001b[0;34m\u001b[0m\u001b[0m\n\u001b[1;32m    684\u001b[0m                                        \u001b[0mcategorical_feature\u001b[0m\u001b[0;34m=\u001b[0m\u001b[0mcategorical_feature\u001b[0m\u001b[0;34m,\u001b[0m\u001b[0;34m\u001b[0m\u001b[0;34m\u001b[0m\u001b[0m\n\u001b[0;32m--> 685\u001b[0;31m                                        callbacks=callbacks)\n\u001b[0m\u001b[1;32m    686\u001b[0m         \u001b[0;32mreturn\u001b[0m \u001b[0mself\u001b[0m\u001b[0;34m\u001b[0m\u001b[0;34m\u001b[0m\u001b[0m\n\u001b[1;32m    687\u001b[0m \u001b[0;34m\u001b[0m\u001b[0m\n",
            "\u001b[0;32m/usr/local/lib/python3.7/dist-packages/lightgbm/sklearn.py\u001b[0m in \u001b[0;36mfit\u001b[0;34m(self, X, y, sample_weight, init_score, group, eval_set, eval_names, eval_sample_weight, eval_class_weight, eval_init_score, eval_group, eval_metric, early_stopping_rounds, verbose, feature_name, categorical_feature, callbacks)\u001b[0m\n\u001b[1;32m    542\u001b[0m                               \u001b[0mverbose_eval\u001b[0m\u001b[0;34m=\u001b[0m\u001b[0mverbose\u001b[0m\u001b[0;34m,\u001b[0m \u001b[0mfeature_name\u001b[0m\u001b[0;34m=\u001b[0m\u001b[0mfeature_name\u001b[0m\u001b[0;34m,\u001b[0m\u001b[0;34m\u001b[0m\u001b[0;34m\u001b[0m\u001b[0m\n\u001b[1;32m    543\u001b[0m                               \u001b[0mcategorical_feature\u001b[0m\u001b[0;34m=\u001b[0m\u001b[0mcategorical_feature\u001b[0m\u001b[0;34m,\u001b[0m\u001b[0;34m\u001b[0m\u001b[0;34m\u001b[0m\u001b[0m\n\u001b[0;32m--> 544\u001b[0;31m                               callbacks=callbacks)\n\u001b[0m\u001b[1;32m    545\u001b[0m \u001b[0;34m\u001b[0m\u001b[0m\n\u001b[1;32m    546\u001b[0m         \u001b[0;32mif\u001b[0m \u001b[0mevals_result\u001b[0m\u001b[0;34m:\u001b[0m\u001b[0;34m\u001b[0m\u001b[0;34m\u001b[0m\u001b[0m\n",
            "\u001b[0;32m/usr/local/lib/python3.7/dist-packages/lightgbm/engine.py\u001b[0m in \u001b[0;36mtrain\u001b[0;34m(params, train_set, num_boost_round, valid_sets, valid_names, fobj, feval, init_model, feature_name, categorical_feature, early_stopping_rounds, evals_result, verbose_eval, learning_rates, keep_training_booster, callbacks)\u001b[0m\n\u001b[1;32m    216\u001b[0m                                     evaluation_result_list=None))\n\u001b[1;32m    217\u001b[0m \u001b[0;34m\u001b[0m\u001b[0m\n\u001b[0;32m--> 218\u001b[0;31m         \u001b[0mbooster\u001b[0m\u001b[0;34m.\u001b[0m\u001b[0mupdate\u001b[0m\u001b[0;34m(\u001b[0m\u001b[0mfobj\u001b[0m\u001b[0;34m=\u001b[0m\u001b[0mfobj\u001b[0m\u001b[0;34m)\u001b[0m\u001b[0;34m\u001b[0m\u001b[0;34m\u001b[0m\u001b[0m\n\u001b[0m\u001b[1;32m    219\u001b[0m \u001b[0;34m\u001b[0m\u001b[0m\n\u001b[1;32m    220\u001b[0m         \u001b[0mevaluation_result_list\u001b[0m \u001b[0;34m=\u001b[0m \u001b[0;34m[\u001b[0m\u001b[0;34m]\u001b[0m\u001b[0;34m\u001b[0m\u001b[0;34m\u001b[0m\u001b[0m\n",
            "\u001b[0;32m/usr/local/lib/python3.7/dist-packages/lightgbm/basic.py\u001b[0m in \u001b[0;36mupdate\u001b[0;34m(self, train_set, fobj)\u001b[0m\n\u001b[1;32m   1800\u001b[0m             _safe_call(_LIB.LGBM_BoosterUpdateOneIter(\n\u001b[1;32m   1801\u001b[0m                 \u001b[0mself\u001b[0m\u001b[0;34m.\u001b[0m\u001b[0mhandle\u001b[0m\u001b[0;34m,\u001b[0m\u001b[0;34m\u001b[0m\u001b[0;34m\u001b[0m\u001b[0m\n\u001b[0;32m-> 1802\u001b[0;31m                 ctypes.byref(is_finished)))\n\u001b[0m\u001b[1;32m   1803\u001b[0m             \u001b[0mself\u001b[0m\u001b[0;34m.\u001b[0m\u001b[0m__is_predicted_cur_iter\u001b[0m \u001b[0;34m=\u001b[0m \u001b[0;34m[\u001b[0m\u001b[0;32mFalse\u001b[0m \u001b[0;32mfor\u001b[0m \u001b[0m_\u001b[0m \u001b[0;32min\u001b[0m \u001b[0mrange_\u001b[0m\u001b[0;34m(\u001b[0m\u001b[0mself\u001b[0m\u001b[0;34m.\u001b[0m\u001b[0m__num_dataset\u001b[0m\u001b[0;34m)\u001b[0m\u001b[0;34m]\u001b[0m\u001b[0;34m\u001b[0m\u001b[0;34m\u001b[0m\u001b[0m\n\u001b[1;32m   1804\u001b[0m             \u001b[0;32mreturn\u001b[0m \u001b[0mis_finished\u001b[0m\u001b[0;34m.\u001b[0m\u001b[0mvalue\u001b[0m \u001b[0;34m==\u001b[0m \u001b[0;36m1\u001b[0m\u001b[0;34m\u001b[0m\u001b[0;34m\u001b[0m\u001b[0m\n",
            "\u001b[0;31mKeyboardInterrupt\u001b[0m: "
          ]
        }
      ]
    },
    {
      "cell_type": "code",
      "metadata": {
        "colab": {
          "base_uri": "https://localhost:8080/",
          "height": 417
        },
        "id": "r7sikefec5Gq",
        "outputId": "4a6613f7-c990-4e4a-c1e0-1d0d4509a0c1"
      },
      "source": [
        "submit = pd.read_csv('/content/drive/MyDrive/dataset/kaggle/tabular-playground-series/2021-aug/tabular-playground-series-aug-2021_sample_submission.csv')\n",
        "submit['loss'] = preds\n",
        "submit"
      ],
      "execution_count": 19,
      "outputs": [
        {
          "output_type": "execute_result",
          "data": {
            "text/html": [
              "<div>\n",
              "<style scoped>\n",
              "    .dataframe tbody tr th:only-of-type {\n",
              "        vertical-align: middle;\n",
              "    }\n",
              "\n",
              "    .dataframe tbody tr th {\n",
              "        vertical-align: top;\n",
              "    }\n",
              "\n",
              "    .dataframe thead th {\n",
              "        text-align: right;\n",
              "    }\n",
              "</style>\n",
              "<table border=\"1\" class=\"dataframe\">\n",
              "  <thead>\n",
              "    <tr style=\"text-align: right;\">\n",
              "      <th></th>\n",
              "      <th>id</th>\n",
              "      <th>loss</th>\n",
              "    </tr>\n",
              "  </thead>\n",
              "  <tbody>\n",
              "    <tr>\n",
              "      <th>0</th>\n",
              "      <td>250000</td>\n",
              "      <td>8.119262</td>\n",
              "    </tr>\n",
              "    <tr>\n",
              "      <th>1</th>\n",
              "      <td>250001</td>\n",
              "      <td>4.769926</td>\n",
              "    </tr>\n",
              "    <tr>\n",
              "      <th>2</th>\n",
              "      <td>250002</td>\n",
              "      <td>8.708933</td>\n",
              "    </tr>\n",
              "    <tr>\n",
              "      <th>3</th>\n",
              "      <td>250003</td>\n",
              "      <td>7.516515</td>\n",
              "    </tr>\n",
              "    <tr>\n",
              "      <th>4</th>\n",
              "      <td>250004</td>\n",
              "      <td>7.395528</td>\n",
              "    </tr>\n",
              "    <tr>\n",
              "      <th>...</th>\n",
              "      <td>...</td>\n",
              "      <td>...</td>\n",
              "    </tr>\n",
              "    <tr>\n",
              "      <th>149995</th>\n",
              "      <td>399995</td>\n",
              "      <td>7.164771</td>\n",
              "    </tr>\n",
              "    <tr>\n",
              "      <th>149996</th>\n",
              "      <td>399996</td>\n",
              "      <td>7.536097</td>\n",
              "    </tr>\n",
              "    <tr>\n",
              "      <th>149997</th>\n",
              "      <td>399997</td>\n",
              "      <td>6.001988</td>\n",
              "    </tr>\n",
              "    <tr>\n",
              "      <th>149998</th>\n",
              "      <td>399998</td>\n",
              "      <td>5.810894</td>\n",
              "    </tr>\n",
              "    <tr>\n",
              "      <th>149999</th>\n",
              "      <td>399999</td>\n",
              "      <td>6.518879</td>\n",
              "    </tr>\n",
              "  </tbody>\n",
              "</table>\n",
              "<p>150000 rows × 2 columns</p>\n",
              "</div>"
            ],
            "text/plain": [
              "            id      loss\n",
              "0       250000  8.119262\n",
              "1       250001  4.769926\n",
              "2       250002  8.708933\n",
              "3       250003  7.516515\n",
              "4       250004  7.395528\n",
              "...        ...       ...\n",
              "149995  399995  7.164771\n",
              "149996  399996  7.536097\n",
              "149997  399997  6.001988\n",
              "149998  399998  5.810894\n",
              "149999  399999  6.518879\n",
              "\n",
              "[150000 rows x 2 columns]"
            ]
          },
          "metadata": {
            "tags": []
          },
          "execution_count": 19
        }
      ]
    },
    {
      "cell_type": "code",
      "metadata": {
        "id": "y7ZoCWm2dGS5"
      },
      "source": [
        "submit.to_csv('/content/drive/MyDrive/dataset/kaggle/tabular-playground-series/2021-aug/submit6.csv', index=False)"
      ],
      "execution_count": 20,
      "outputs": []
    },
    {
      "cell_type": "markdown",
      "metadata": {
        "id": "PksB08kUWKL6"
      },
      "source": [
        "# To Do\n",
        "* optuna integration 사용 해보기\n",
        "* 다른 모델 사용"
      ]
    }
  ]
}