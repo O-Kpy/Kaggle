{
  "nbformat": 4,
  "nbformat_minor": 0,
  "metadata": {
    "colab": {
      "name": "tabular-playground-series/2021-aug/tabular-playground-series-aug-2021.ipynb",
      "provenance": [],
      "mount_file_id": "1jPxX8yPI5M-ht0FHW3esyqlTeqc_R6Hw",
      "authorship_tag": "ABX9TyOsBJGXmDC3tGrf7x9vvziU",
      "include_colab_link": true
    },
    "kernelspec": {
      "name": "python3",
      "display_name": "Python 3"
    },
    "language_info": {
      "name": "python"
    },
    "accelerator": "GPU"
  },
  "cells": [
    {
      "cell_type": "markdown",
      "metadata": {
        "id": "view-in-github",
        "colab_type": "text"
      },
      "source": [
        "<a href=\"https://colab.research.google.com/github/O-Kpy/Kaggle/blob/main/tabular_playground_series_2021_aug_tabular_playground_series_aug_2021.ipynb\" target=\"_parent\"><img src=\"https://colab.research.google.com/assets/colab-badge.svg\" alt=\"Open In Colab\"/></a>"
      ]
    },
    {
      "cell_type": "code",
      "metadata": {
        "id": "AEBAjbJ7UkPH"
      },
      "source": [
        "import pandas as pd\n",
        "import numpy as np\n",
        "import matplotlib.pyplot as plt\n",
        "plt.style.use('ggplot')\n",
        "import seaborn as sns\n",
        "import scipy\n",
        "from scipy.stats import skew"
      ],
      "execution_count": 1,
      "outputs": []
    },
    {
      "cell_type": "code",
      "metadata": {
        "colab": {
          "base_uri": "https://localhost:8080/"
        },
        "id": "-a1qRF-QVgSq",
        "outputId": "fbda5fa1-206b-4367-abba-8e1583cbf42e"
      },
      "source": [
        "train = pd.read_csv('/content/drive/MyDrive/dataset/kaggle/tabular-playground-series/2021-aug/tabular-playground-series-aug-2021_train.csv')\n",
        "test = pd.read_csv('/content/drive/MyDrive/dataset/kaggle/tabular-playground-series/2021-aug/tabular-playground-series-aug-2021_test.csv')\n",
        "submit = pd.read_csv('/content/drive/MyDrive/dataset/kaggle/tabular-playground-series/2021-aug/tabular-playground-series-aug-2021_sample_submission.csv')\n",
        "train.shape, test.shape, submit.shape"
      ],
      "execution_count": 2,
      "outputs": [
        {
          "output_type": "execute_result",
          "data": {
            "text/plain": [
              "((250000, 102), (150000, 101), (150000, 2))"
            ]
          },
          "metadata": {
            "tags": []
          },
          "execution_count": 2
        }
      ]
    },
    {
      "cell_type": "code",
      "metadata": {
        "colab": {
          "base_uri": "https://localhost:8080/"
        },
        "id": "dEP635LtVsHJ",
        "outputId": "729b4c52-bd55-4549-e6ad-1fc33741783d"
      },
      "source": [
        "train['loss'].skew()  # target 라벨에 log1p씌울까 "
      ],
      "execution_count": null,
      "outputs": [
        {
          "output_type": "execute_result",
          "data": {
            "text/plain": [
              "1.4653191365369271"
            ]
          },
          "metadata": {
            "tags": []
          },
          "execution_count": 12
        }
      ]
    },
    {
      "cell_type": "code",
      "metadata": {
        "colab": {
          "base_uri": "https://localhost:8080/",
          "height": 426
        },
        "id": "JHafe73qXiKH",
        "outputId": "4e5bab98-a133-4a73-ba11-5e38602fc056"
      },
      "source": [
        "plt.figure(figsize=(12,6))\n",
        "train.skew().sort_values().plot()\n",
        "plt.title('Train set Skew', fontsize=20, fontweight='bold', pad=20)\n",
        "# noramlize를 적용 할까 고민"
      ],
      "execution_count": null,
      "outputs": [
        {
          "output_type": "execute_result",
          "data": {
            "text/plain": [
              "Text(0.5, 1.0, 'Train set Skew')"
            ]
          },
          "metadata": {
            "tags": []
          },
          "execution_count": 33
        },
        {
          "output_type": "display_data",
          "data": {
            "image/png": "[encoded data removed]",
            "text/plain": [
              "<Figure size 864x432 with 1 Axes>"
            ]
          },
          "metadata": {
            "tags": []
          }
        }
      ]
    },
    {
      "cell_type": "code",
      "metadata": {
        "id": "jmVVxeJZx26U"
      },
      "source": [
        "from sklearn.preprocessing import StandardScaler, MinMaxScaler\n",
        "\n",
        "data = pd.concat([train.drop(columns=['id']), test.drop(columns=['id'])], axis=0)\n",
        "data_columns = data.columns\n",
        "\n",
        "for i in data.columns:\n",
        "  if i == 'loss':\n",
        "    continue\n",
        "  data[i] = MinMaxScaler().fit_transform(data[[i]])"
      ],
      "execution_count": 3,
      "outputs": []
    },
    {
      "cell_type": "code",
      "metadata": {
        "colab": {
          "base_uri": "https://localhost:8080/",
          "height": 369
        },
        "id": "QZmixSiSy5uy",
        "outputId": "2c85d0f4-fb57-4ef6-83f0-64164e42c49e"
      },
      "source": [
        "from sklearn.cluster import DBSCAN\n",
        "\n",
        "data['cluster'] = DBSCAN(n_jobs=-1).fit_predict(data.drop(columns=['loss']))\n",
        "data"
      ],
      "execution_count": 4,
      "outputs": [
        {
          "output_type": "error",
          "ename": "KeyboardInterrupt",
          "evalue": "ignored",
          "traceback": [
            "\u001b[0;31m---------------------------------------------------------------------------\u001b[0m",
            "\u001b[0;31mKeyboardInterrupt\u001b[0m                         Traceback (most recent call last)",
            "\u001b[0;32m<ipython-input-4-938e90b76fe1>\u001b[0m in \u001b[0;36m<module>\u001b[0;34m()\u001b[0m\n\u001b[1;32m      1\u001b[0m \u001b[0;32mfrom\u001b[0m \u001b[0msklearn\u001b[0m\u001b[0;34m.\u001b[0m\u001b[0mcluster\u001b[0m \u001b[0;32mimport\u001b[0m \u001b[0mDBSCAN\u001b[0m\u001b[0;34m\u001b[0m\u001b[0;34m\u001b[0m\u001b[0m\n\u001b[1;32m      2\u001b[0m \u001b[0;34m\u001b[0m\u001b[0m\n\u001b[0;32m----> 3\u001b[0;31m \u001b[0mdata\u001b[0m\u001b[0;34m[\u001b[0m\u001b[0;34m'cluster'\u001b[0m\u001b[0;34m]\u001b[0m \u001b[0;34m=\u001b[0m \u001b[0mDBSCAN\u001b[0m\u001b[0;34m(\u001b[0m\u001b[0mn_jobs\u001b[0m\u001b[0;34m=\u001b[0m\u001b[0;34m-\u001b[0m\u001b[0;36m1\u001b[0m\u001b[0;34m)\u001b[0m\u001b[0;34m.\u001b[0m\u001b[0mfit_predict\u001b[0m\u001b[0;34m(\u001b[0m\u001b[0mdata\u001b[0m\u001b[0;34m.\u001b[0m\u001b[0mdrop\u001b[0m\u001b[0;34m(\u001b[0m\u001b[0mcolumns\u001b[0m\u001b[0;34m=\u001b[0m\u001b[0;34m[\u001b[0m\u001b[0;34m'loss'\u001b[0m\u001b[0;34m]\u001b[0m\u001b[0;34m)\u001b[0m\u001b[0;34m)\u001b[0m\u001b[0;34m\u001b[0m\u001b[0;34m\u001b[0m\u001b[0m\n\u001b[0m\u001b[1;32m      4\u001b[0m \u001b[0mdata\u001b[0m\u001b[0;34m\u001b[0m\u001b[0;34m\u001b[0m\u001b[0m\n",
            "\u001b[0;32m/usr/local/lib/python3.7/dist-packages/sklearn/cluster/_dbscan.py\u001b[0m in \u001b[0;36mfit_predict\u001b[0;34m(self, X, y, sample_weight)\u001b[0m\n\u001b[1;32m    387\u001b[0m             \u001b[0mCluster\u001b[0m \u001b[0mlabels\u001b[0m\u001b[0;34m.\u001b[0m \u001b[0mNoisy\u001b[0m \u001b[0msamples\u001b[0m \u001b[0mare\u001b[0m \u001b[0mgiven\u001b[0m \u001b[0mthe\u001b[0m \u001b[0mlabel\u001b[0m \u001b[0;34m-\u001b[0m\u001b[0;36m1.\u001b[0m\u001b[0;34m\u001b[0m\u001b[0;34m\u001b[0m\u001b[0m\n\u001b[1;32m    388\u001b[0m         \"\"\"\n\u001b[0;32m--> 389\u001b[0;31m         \u001b[0mself\u001b[0m\u001b[0;34m.\u001b[0m\u001b[0mfit\u001b[0m\u001b[0;34m(\u001b[0m\u001b[0mX\u001b[0m\u001b[0;34m,\u001b[0m \u001b[0msample_weight\u001b[0m\u001b[0;34m=\u001b[0m\u001b[0msample_weight\u001b[0m\u001b[0;34m)\u001b[0m\u001b[0;34m\u001b[0m\u001b[0;34m\u001b[0m\u001b[0m\n\u001b[0m\u001b[1;32m    390\u001b[0m         \u001b[0;32mreturn\u001b[0m \u001b[0mself\u001b[0m\u001b[0;34m.\u001b[0m\u001b[0mlabels_\u001b[0m\u001b[0;34m\u001b[0m\u001b[0;34m\u001b[0m\u001b[0m\n",
            "\u001b[0;32m/usr/local/lib/python3.7/dist-packages/sklearn/cluster/_dbscan.py\u001b[0m in \u001b[0;36mfit\u001b[0;34m(self, X, y, sample_weight)\u001b[0m\n\u001b[1;32m    333\u001b[0m         \u001b[0;31m# This has worst case O(n^2) memory complexity\u001b[0m\u001b[0;34m\u001b[0m\u001b[0;34m\u001b[0m\u001b[0;34m\u001b[0m\u001b[0m\n\u001b[1;32m    334\u001b[0m         neighborhoods = neighbors_model.radius_neighbors(X,\n\u001b[0;32m--> 335\u001b[0;31m                                                          return_distance=False)\n\u001b[0m\u001b[1;32m    336\u001b[0m \u001b[0;34m\u001b[0m\u001b[0m\n\u001b[1;32m    337\u001b[0m         \u001b[0;32mif\u001b[0m \u001b[0msample_weight\u001b[0m \u001b[0;32mis\u001b[0m \u001b[0;32mNone\u001b[0m\u001b[0;34m:\u001b[0m\u001b[0;34m\u001b[0m\u001b[0;34m\u001b[0m\u001b[0m\n",
            "\u001b[0;32m/usr/local/lib/python3.7/dist-packages/sklearn/neighbors/_base.py\u001b[0m in \u001b[0;36mradius_neighbors\u001b[0;34m(self, X, radius, return_distance, sort_results)\u001b[0m\n\u001b[1;32m    969\u001b[0m                               sort_results=sort_results)\n\u001b[1;32m    970\u001b[0m \u001b[0;34m\u001b[0m\u001b[0m\n\u001b[0;32m--> 971\u001b[0;31m                 \u001b[0;32mfor\u001b[0m \u001b[0ms\u001b[0m \u001b[0;32min\u001b[0m \u001b[0mgen_even_slices\u001b[0m\u001b[0;34m(\u001b[0m\u001b[0mX\u001b[0m\u001b[0;34m.\u001b[0m\u001b[0mshape\u001b[0m\u001b[0;34m[\u001b[0m\u001b[0;36m0\u001b[0m\u001b[0;34m]\u001b[0m\u001b[0;34m,\u001b[0m \u001b[0mn_jobs\u001b[0m\u001b[0;34m)\u001b[0m\u001b[0;34m\u001b[0m\u001b[0;34m\u001b[0m\u001b[0m\n\u001b[0m\u001b[1;32m    972\u001b[0m             )\n\u001b[1;32m    973\u001b[0m             \u001b[0;32mif\u001b[0m \u001b[0mreturn_distance\u001b[0m\u001b[0;34m:\u001b[0m\u001b[0;34m\u001b[0m\u001b[0;34m\u001b[0m\u001b[0m\n",
            "\u001b[0;32m/usr/local/lib/python3.7/dist-packages/joblib/parallel.py\u001b[0m in \u001b[0;36m__call__\u001b[0;34m(self, iterable)\u001b[0m\n\u001b[1;32m   1052\u001b[0m \u001b[0;34m\u001b[0m\u001b[0m\n\u001b[1;32m   1053\u001b[0m             \u001b[0;32mwith\u001b[0m \u001b[0mself\u001b[0m\u001b[0;34m.\u001b[0m\u001b[0m_backend\u001b[0m\u001b[0;34m.\u001b[0m\u001b[0mretrieval_context\u001b[0m\u001b[0;34m(\u001b[0m\u001b[0;34m)\u001b[0m\u001b[0;34m:\u001b[0m\u001b[0;34m\u001b[0m\u001b[0;34m\u001b[0m\u001b[0m\n\u001b[0;32m-> 1054\u001b[0;31m                 \u001b[0mself\u001b[0m\u001b[0;34m.\u001b[0m\u001b[0mretrieve\u001b[0m\u001b[0;34m(\u001b[0m\u001b[0;34m)\u001b[0m\u001b[0;34m\u001b[0m\u001b[0;34m\u001b[0m\u001b[0m\n\u001b[0m\u001b[1;32m   1055\u001b[0m             \u001b[0;31m# Make sure that we get a last message telling us we are done\u001b[0m\u001b[0;34m\u001b[0m\u001b[0;34m\u001b[0m\u001b[0;34m\u001b[0m\u001b[0m\n\u001b[1;32m   1056\u001b[0m             \u001b[0melapsed_time\u001b[0m \u001b[0;34m=\u001b[0m \u001b[0mtime\u001b[0m\u001b[0;34m.\u001b[0m\u001b[0mtime\u001b[0m\u001b[0;34m(\u001b[0m\u001b[0;34m)\u001b[0m \u001b[0;34m-\u001b[0m \u001b[0mself\u001b[0m\u001b[0;34m.\u001b[0m\u001b[0m_start_time\u001b[0m\u001b[0;34m\u001b[0m\u001b[0;34m\u001b[0m\u001b[0m\n",
            "\u001b[0;32m/usr/local/lib/python3.7/dist-packages/joblib/parallel.py\u001b[0m in \u001b[0;36mretrieve\u001b[0;34m(self)\u001b[0m\n\u001b[1;32m    931\u001b[0m             \u001b[0;32mtry\u001b[0m\u001b[0;34m:\u001b[0m\u001b[0;34m\u001b[0m\u001b[0;34m\u001b[0m\u001b[0m\n\u001b[1;32m    932\u001b[0m                 \u001b[0;32mif\u001b[0m \u001b[0mgetattr\u001b[0m\u001b[0;34m(\u001b[0m\u001b[0mself\u001b[0m\u001b[0;34m.\u001b[0m\u001b[0m_backend\u001b[0m\u001b[0;34m,\u001b[0m \u001b[0;34m'supports_timeout'\u001b[0m\u001b[0;34m,\u001b[0m \u001b[0;32mFalse\u001b[0m\u001b[0;34m)\u001b[0m\u001b[0;34m:\u001b[0m\u001b[0;34m\u001b[0m\u001b[0;34m\u001b[0m\u001b[0m\n\u001b[0;32m--> 933\u001b[0;31m                     \u001b[0mself\u001b[0m\u001b[0;34m.\u001b[0m\u001b[0m_output\u001b[0m\u001b[0;34m.\u001b[0m\u001b[0mextend\u001b[0m\u001b[0;34m(\u001b[0m\u001b[0mjob\u001b[0m\u001b[0;34m.\u001b[0m\u001b[0mget\u001b[0m\u001b[0;34m(\u001b[0m\u001b[0mtimeout\u001b[0m\u001b[0;34m=\u001b[0m\u001b[0mself\u001b[0m\u001b[0;34m.\u001b[0m\u001b[0mtimeout\u001b[0m\u001b[0;34m)\u001b[0m\u001b[0;34m)\u001b[0m\u001b[0;34m\u001b[0m\u001b[0;34m\u001b[0m\u001b[0m\n\u001b[0m\u001b[1;32m    934\u001b[0m                 \u001b[0;32melse\u001b[0m\u001b[0;34m:\u001b[0m\u001b[0;34m\u001b[0m\u001b[0;34m\u001b[0m\u001b[0m\n\u001b[1;32m    935\u001b[0m                     \u001b[0mself\u001b[0m\u001b[0;34m.\u001b[0m\u001b[0m_output\u001b[0m\u001b[0;34m.\u001b[0m\u001b[0mextend\u001b[0m\u001b[0;34m(\u001b[0m\u001b[0mjob\u001b[0m\u001b[0;34m.\u001b[0m\u001b[0mget\u001b[0m\u001b[0;34m(\u001b[0m\u001b[0;34m)\u001b[0m\u001b[0;34m)\u001b[0m\u001b[0;34m\u001b[0m\u001b[0;34m\u001b[0m\u001b[0m\n",
            "\u001b[0;32m/usr/lib/python3.7/multiprocessing/pool.py\u001b[0m in \u001b[0;36mget\u001b[0;34m(self, timeout)\u001b[0m\n\u001b[1;32m    649\u001b[0m \u001b[0;34m\u001b[0m\u001b[0m\n\u001b[1;32m    650\u001b[0m     \u001b[0;32mdef\u001b[0m \u001b[0mget\u001b[0m\u001b[0;34m(\u001b[0m\u001b[0mself\u001b[0m\u001b[0;34m,\u001b[0m \u001b[0mtimeout\u001b[0m\u001b[0;34m=\u001b[0m\u001b[0;32mNone\u001b[0m\u001b[0;34m)\u001b[0m\u001b[0;34m:\u001b[0m\u001b[0;34m\u001b[0m\u001b[0;34m\u001b[0m\u001b[0m\n\u001b[0;32m--> 651\u001b[0;31m         \u001b[0mself\u001b[0m\u001b[0;34m.\u001b[0m\u001b[0mwait\u001b[0m\u001b[0;34m(\u001b[0m\u001b[0mtimeout\u001b[0m\u001b[0;34m)\u001b[0m\u001b[0;34m\u001b[0m\u001b[0;34m\u001b[0m\u001b[0m\n\u001b[0m\u001b[1;32m    652\u001b[0m         \u001b[0;32mif\u001b[0m \u001b[0;32mnot\u001b[0m \u001b[0mself\u001b[0m\u001b[0;34m.\u001b[0m\u001b[0mready\u001b[0m\u001b[0;34m(\u001b[0m\u001b[0;34m)\u001b[0m\u001b[0;34m:\u001b[0m\u001b[0;34m\u001b[0m\u001b[0;34m\u001b[0m\u001b[0m\n\u001b[1;32m    653\u001b[0m             \u001b[0;32mraise\u001b[0m \u001b[0mTimeoutError\u001b[0m\u001b[0;34m\u001b[0m\u001b[0;34m\u001b[0m\u001b[0m\n",
            "\u001b[0;32m/usr/lib/python3.7/multiprocessing/pool.py\u001b[0m in \u001b[0;36mwait\u001b[0;34m(self, timeout)\u001b[0m\n\u001b[1;32m    646\u001b[0m \u001b[0;34m\u001b[0m\u001b[0m\n\u001b[1;32m    647\u001b[0m     \u001b[0;32mdef\u001b[0m \u001b[0mwait\u001b[0m\u001b[0;34m(\u001b[0m\u001b[0mself\u001b[0m\u001b[0;34m,\u001b[0m \u001b[0mtimeout\u001b[0m\u001b[0;34m=\u001b[0m\u001b[0;32mNone\u001b[0m\u001b[0;34m)\u001b[0m\u001b[0;34m:\u001b[0m\u001b[0;34m\u001b[0m\u001b[0;34m\u001b[0m\u001b[0m\n\u001b[0;32m--> 648\u001b[0;31m         \u001b[0mself\u001b[0m\u001b[0;34m.\u001b[0m\u001b[0m_event\u001b[0m\u001b[0;34m.\u001b[0m\u001b[0mwait\u001b[0m\u001b[0;34m(\u001b[0m\u001b[0mtimeout\u001b[0m\u001b[0;34m)\u001b[0m\u001b[0;34m\u001b[0m\u001b[0;34m\u001b[0m\u001b[0m\n\u001b[0m\u001b[1;32m    649\u001b[0m \u001b[0;34m\u001b[0m\u001b[0m\n\u001b[1;32m    650\u001b[0m     \u001b[0;32mdef\u001b[0m \u001b[0mget\u001b[0m\u001b[0;34m(\u001b[0m\u001b[0mself\u001b[0m\u001b[0;34m,\u001b[0m \u001b[0mtimeout\u001b[0m\u001b[0;34m=\u001b[0m\u001b[0;32mNone\u001b[0m\u001b[0;34m)\u001b[0m\u001b[0;34m:\u001b[0m\u001b[0;34m\u001b[0m\u001b[0;34m\u001b[0m\u001b[0m\n",
            "\u001b[0;32m/usr/lib/python3.7/threading.py\u001b[0m in \u001b[0;36mwait\u001b[0;34m(self, timeout)\u001b[0m\n\u001b[1;32m    550\u001b[0m             \u001b[0msignaled\u001b[0m \u001b[0;34m=\u001b[0m \u001b[0mself\u001b[0m\u001b[0;34m.\u001b[0m\u001b[0m_flag\u001b[0m\u001b[0;34m\u001b[0m\u001b[0;34m\u001b[0m\u001b[0m\n\u001b[1;32m    551\u001b[0m             \u001b[0;32mif\u001b[0m \u001b[0;32mnot\u001b[0m \u001b[0msignaled\u001b[0m\u001b[0;34m:\u001b[0m\u001b[0;34m\u001b[0m\u001b[0;34m\u001b[0m\u001b[0m\n\u001b[0;32m--> 552\u001b[0;31m                 \u001b[0msignaled\u001b[0m \u001b[0;34m=\u001b[0m \u001b[0mself\u001b[0m\u001b[0;34m.\u001b[0m\u001b[0m_cond\u001b[0m\u001b[0;34m.\u001b[0m\u001b[0mwait\u001b[0m\u001b[0;34m(\u001b[0m\u001b[0mtimeout\u001b[0m\u001b[0;34m)\u001b[0m\u001b[0;34m\u001b[0m\u001b[0;34m\u001b[0m\u001b[0m\n\u001b[0m\u001b[1;32m    553\u001b[0m             \u001b[0;32mreturn\u001b[0m \u001b[0msignaled\u001b[0m\u001b[0;34m\u001b[0m\u001b[0;34m\u001b[0m\u001b[0m\n\u001b[1;32m    554\u001b[0m \u001b[0;34m\u001b[0m\u001b[0m\n",
            "\u001b[0;32m/usr/lib/python3.7/threading.py\u001b[0m in \u001b[0;36mwait\u001b[0;34m(self, timeout)\u001b[0m\n\u001b[1;32m    294\u001b[0m         \u001b[0;32mtry\u001b[0m\u001b[0;34m:\u001b[0m    \u001b[0;31m# restore state no matter what (e.g., KeyboardInterrupt)\u001b[0m\u001b[0;34m\u001b[0m\u001b[0;34m\u001b[0m\u001b[0m\n\u001b[1;32m    295\u001b[0m             \u001b[0;32mif\u001b[0m \u001b[0mtimeout\u001b[0m \u001b[0;32mis\u001b[0m \u001b[0;32mNone\u001b[0m\u001b[0;34m:\u001b[0m\u001b[0;34m\u001b[0m\u001b[0;34m\u001b[0m\u001b[0m\n\u001b[0;32m--> 296\u001b[0;31m                 \u001b[0mwaiter\u001b[0m\u001b[0;34m.\u001b[0m\u001b[0macquire\u001b[0m\u001b[0;34m(\u001b[0m\u001b[0;34m)\u001b[0m\u001b[0;34m\u001b[0m\u001b[0;34m\u001b[0m\u001b[0m\n\u001b[0m\u001b[1;32m    297\u001b[0m                 \u001b[0mgotit\u001b[0m \u001b[0;34m=\u001b[0m \u001b[0;32mTrue\u001b[0m\u001b[0;34m\u001b[0m\u001b[0;34m\u001b[0m\u001b[0m\n\u001b[1;32m    298\u001b[0m             \u001b[0;32melse\u001b[0m\u001b[0;34m:\u001b[0m\u001b[0;34m\u001b[0m\u001b[0;34m\u001b[0m\u001b[0m\n",
            "\u001b[0;31mKeyboardInterrupt\u001b[0m: "
          ]
        }
      ]
    },
    {
      "cell_type": "markdown",
      "metadata": {
        "id": "Q9JOhkaLZkNq"
      },
      "source": [
        "# Clustering 적용하자"
      ]
    },
    {
      "cell_type": "code",
      "metadata": {
        "colab": {
          "base_uri": "https://localhost:8080/"
        },
        "id": "oHOZOVN3ZW3z",
        "outputId": "3b1e752f-7367-4a00-e1cf-c36fb2fc70a7"
      },
      "source": [
        "!pip install catboost\n",
        "!pip install optuna"
      ],
      "execution_count": 5,
      "outputs": [
        {
          "output_type": "stream",
          "text": [
            "Collecting catboost\n",
            "  Downloading catboost-0.26.1-cp37-none-manylinux1_x86_64.whl (67.4 MB)\n",
            "\u001b[K     |████████████████████████████████| 67.4 MB 62 kB/s \n",
            "\u001b[?25hRequirement already satisfied: graphviz in /usr/local/lib/python3.7/dist-packages (from catboost) (0.10.1)\n",
            "Requirement already satisfied: numpy>=1.16.0 in /usr/local/lib/python3.7/dist-packages (from catboost) (1.19.5)\n",
            "Requirement already satisfied: matplotlib in /usr/local/lib/python3.7/dist-packages (from catboost) (3.2.2)\n",
            "Requirement already satisfied: scipy in /usr/local/lib/python3.7/dist-packages (from catboost) (1.4.1)\n",
            "Requirement already satisfied: six in /usr/local/lib/python3.7/dist-packages (from catboost) (1.15.0)\n",
            "Requirement already satisfied: pandas>=0.24.0 in /usr/local/lib/python3.7/dist-packages (from catboost) (1.1.5)\n",
            "Requirement already satisfied: plotly in /usr/local/lib/python3.7/dist-packages (from catboost) (4.4.1)\n",
            "Requirement already satisfied: python-dateutil>=2.7.3 in /usr/local/lib/python3.7/dist-packages (from pandas>=0.24.0->catboost) (2.8.2)\n",
            "Requirement already satisfied: pytz>=2017.2 in /usr/local/lib/python3.7/dist-packages (from pandas>=0.24.0->catboost) (2018.9)\n",
            "Requirement already satisfied: cycler>=0.10 in /usr/local/lib/python3.7/dist-packages (from matplotlib->catboost) (0.10.0)\n",
            "Requirement already satisfied: kiwisolver>=1.0.1 in /usr/local/lib/python3.7/dist-packages (from matplotlib->catboost) (1.3.1)\n",
            "Requirement already satisfied: pyparsing!=2.0.4,!=2.1.2,!=2.1.6,>=2.0.1 in /usr/local/lib/python3.7/dist-packages (from matplotlib->catboost) (2.4.7)\n",
            "Requirement already satisfied: retrying>=1.3.3 in /usr/local/lib/python3.7/dist-packages (from plotly->catboost) (1.3.3)\n",
            "Installing collected packages: catboost\n",
            "Successfully installed catboost-0.26.1\n",
            "Collecting optuna\n",
            "  Downloading optuna-2.9.1-py3-none-any.whl (302 kB)\n",
            "\u001b[K     |████████████████████████████████| 302 kB 9.0 MB/s \n",
            "\u001b[?25hRequirement already satisfied: scipy!=1.4.0 in /usr/local/lib/python3.7/dist-packages (from optuna) (1.4.1)\n",
            "Requirement already satisfied: tqdm in /usr/local/lib/python3.7/dist-packages (from optuna) (4.62.0)\n",
            "Collecting colorlog\n",
            "  Downloading colorlog-5.0.1-py2.py3-none-any.whl (10 kB)\n",
            "Requirement already satisfied: PyYAML in /usr/local/lib/python3.7/dist-packages (from optuna) (3.13)\n",
            "Collecting cmaes>=0.8.2\n",
            "  Downloading cmaes-0.8.2-py3-none-any.whl (15 kB)\n",
            "Collecting alembic\n",
            "  Downloading alembic-1.6.5-py2.py3-none-any.whl (164 kB)\n",
            "\u001b[K     |████████████████████████████████| 164 kB 55.1 MB/s \n",
            "\u001b[?25hCollecting cliff\n",
            "  Downloading cliff-3.8.0-py3-none-any.whl (80 kB)\n",
            "\u001b[K     |████████████████████████████████| 80 kB 9.9 MB/s \n",
            "\u001b[?25hRequirement already satisfied: sqlalchemy>=1.1.0 in /usr/local/lib/python3.7/dist-packages (from optuna) (1.4.22)\n",
            "Requirement already satisfied: numpy in /usr/local/lib/python3.7/dist-packages (from optuna) (1.19.5)\n",
            "Requirement already satisfied: packaging>=20.0 in /usr/local/lib/python3.7/dist-packages (from optuna) (21.0)\n",
            "Requirement already satisfied: pyparsing>=2.0.2 in /usr/local/lib/python3.7/dist-packages (from packaging>=20.0->optuna) (2.4.7)\n",
            "Requirement already satisfied: importlib-metadata in /usr/local/lib/python3.7/dist-packages (from sqlalchemy>=1.1.0->optuna) (4.6.3)\n",
            "Requirement already satisfied: greenlet!=0.4.17 in /usr/local/lib/python3.7/dist-packages (from sqlalchemy>=1.1.0->optuna) (1.1.1)\n",
            "Collecting python-editor>=0.3\n",
            "  Downloading python_editor-1.0.4-py3-none-any.whl (4.9 kB)\n",
            "Collecting Mako\n",
            "  Downloading Mako-1.1.4-py2.py3-none-any.whl (75 kB)\n",
            "\u001b[K     |████████████████████████████████| 75 kB 5.5 MB/s \n",
            "\u001b[?25hRequirement already satisfied: python-dateutil in /usr/local/lib/python3.7/dist-packages (from alembic->optuna) (2.8.2)\n",
            "Collecting cmd2>=1.0.0\n",
            "  Downloading cmd2-2.1.2-py3-none-any.whl (141 kB)\n",
            "\u001b[K     |████████████████████████████████| 141 kB 62.6 MB/s \n",
            "\u001b[?25hRequirement already satisfied: PrettyTable>=0.7.2 in /usr/local/lib/python3.7/dist-packages (from cliff->optuna) (2.1.0)\n",
            "Collecting pbr!=2.1.0,>=2.0.0\n",
            "  Downloading pbr-5.6.0-py2.py3-none-any.whl (111 kB)\n",
            "\u001b[K     |████████████████████████████████| 111 kB 59.0 MB/s \n",
            "\u001b[?25hCollecting stevedore>=2.0.1\n",
            "  Downloading stevedore-3.3.0-py3-none-any.whl (49 kB)\n",
            "\u001b[K     |████████████████████████████████| 49 kB 7.6 MB/s \n",
            "\u001b[?25hRequirement already satisfied: attrs>=16.3.0 in /usr/local/lib/python3.7/dist-packages (from cmd2>=1.0.0->cliff->optuna) (21.2.0)\n",
            "Collecting colorama>=0.3.7\n",
            "  Downloading colorama-0.4.4-py2.py3-none-any.whl (16 kB)\n",
            "Requirement already satisfied: typing-extensions in /usr/local/lib/python3.7/dist-packages (from cmd2>=1.0.0->cliff->optuna) (3.7.4.3)\n",
            "Requirement already satisfied: wcwidth>=0.1.7 in /usr/local/lib/python3.7/dist-packages (from cmd2>=1.0.0->cliff->optuna) (0.2.5)\n",
            "Collecting pyperclip>=1.6\n",
            "  Downloading pyperclip-1.8.2.tar.gz (20 kB)\n",
            "Requirement already satisfied: zipp>=0.5 in /usr/local/lib/python3.7/dist-packages (from importlib-metadata->sqlalchemy>=1.1.0->optuna) (3.5.0)\n",
            "Requirement already satisfied: MarkupSafe>=0.9.2 in /usr/local/lib/python3.7/dist-packages (from Mako->alembic->optuna) (2.0.1)\n",
            "Requirement already satisfied: six>=1.5 in /usr/local/lib/python3.7/dist-packages (from python-dateutil->alembic->optuna) (1.15.0)\n",
            "Building wheels for collected packages: pyperclip\n",
            "  Building wheel for pyperclip (setup.py) ... \u001b[?25l\u001b[?25hdone\n",
            "  Created wheel for pyperclip: filename=pyperclip-1.8.2-py3-none-any.whl size=11136 sha256=ec3d106fd7b620e5bb8d0ee1bac7669e31a8b7ad9b18b9123b03366c0da94643\n",
            "  Stored in directory: /root/.cache/pip/wheels/9f/18/84/8f69f8b08169c7bae2dde6bd7daf0c19fca8c8e500ee620a28\n",
            "Successfully built pyperclip\n",
            "Installing collected packages: pyperclip, pbr, colorama, stevedore, python-editor, Mako, cmd2, colorlog, cmaes, cliff, alembic, optuna\n",
            "Successfully installed Mako-1.1.4 alembic-1.6.5 cliff-3.8.0 cmaes-0.8.2 cmd2-2.1.2 colorama-0.4.4 colorlog-5.0.1 optuna-2.9.1 pbr-5.6.0 pyperclip-1.8.2 python-editor-1.0.4 stevedore-3.3.0\n"
          ],
          "name": "stdout"
        }
      ]
    },
    {
      "cell_type": "code",
      "metadata": {
        "id": "rLlP0cqcZ6vD"
      },
      "source": [
        "import catboost\n",
        "import optuna\n",
        "import optuna.integration.xgboost as xgbo\n",
        "from sklearn.metrics import mean_squared_error\n",
        "from sklearn.model_selection import KFold, StratifiedKFold, LeaveOneGroupOut, train_test_split\n",
        "from sklearn.preprocessing import StandardScaler, MinMaxScaler"
      ],
      "execution_count": 29,
      "outputs": []
    },
    {
      "cell_type": "code",
      "metadata": {
        "colab": {
          "base_uri": "https://localhost:8080/"
        },
        "id": "f7Y-LxF9aRWi",
        "outputId": "25a50458-0ef0-46df-83fb-a7a9b42afe2b"
      },
      "source": [
        "# 데이터 나누기\n",
        "x_train = train.drop(columns=['id', 'loss'])\n",
        "y_train = train['loss']\n",
        "x_test = test.drop(columns=['id'])\n",
        "x_train_columns = x_train.columns\n",
        "x_test_columns = x_test.columns\n",
        "x_train.shape, y_train.shape, x_test.shape"
      ],
      "execution_count": 15,
      "outputs": [
        {
          "output_type": "execute_result",
          "data": {
            "text/plain": [
              "((250000, 100), (250000,), (150000, 100))"
            ]
          },
          "metadata": {
            "tags": []
          },
          "execution_count": 15
        }
      ]
    },
    {
      "cell_type": "code",
      "metadata": {
        "id": "BQF7A77Fe5EI"
      },
      "source": [
        "mm = MinMaxScaler().fit(x_train)\n",
        "x_train = mm.transform(x_train)\n",
        "x_test = mm.transform(x_test)\n",
        "\n",
        "x_train = pd.DataFrame(x_train, columns=x_train_columns)\n",
        "x_test = pd.DataFrame(x_test, columns=x_test_columns)"
      ],
      "execution_count": 16,
      "outputs": []
    },
    {
      "cell_type": "code",
      "metadata": {
        "colab": {
          "base_uri": "https://localhost:8080/",
          "height": 626
        },
        "id": "SzyHuK_Rf6Vx",
        "outputId": "4e5f0d68-9f84-4525-afa1-2e57b56eb81e"
      },
      "source": [
        "# Clustering\n",
        "from sklearn.cluster import KMeans\n",
        "\n",
        "vstack = np.vstack((x_train,\n",
        "                    x_test))\n",
        "\n",
        "sse = {}\n",
        "for i in range(1,20, 1):\n",
        "  km = KMeans(n_clusters=i, max_iter=1000, random_state=0, n_jobs=-1).fit(vstack)\n",
        "  sse[i] = km.inertia_\n",
        "\n",
        "plt.figure(figsize=(12,8))\n",
        "sns.lineplot(pd.Series(sse).index, pd.Series(sse), marker='o')\n",
        "plt.xticks(pd.Series(sse).index)\n",
        "plt.title('elbow method', fontsize=20, fontweight='bold', pad=20)"
      ],
      "execution_count": null,
      "outputs": [
        {
          "output_type": "stream",
          "text": [
            "/usr/local/lib/python3.7/dist-packages/seaborn/_decorators.py:43: FutureWarning:\n",
            "\n",
            "Pass the following variables as keyword args: x, y. From version 0.12, the only valid positional argument will be `data`, and passing other arguments without an explicit keyword will result in an error or misinterpretation.\n",
            "\n"
          ],
          "name": "stderr"
        },
        {
          "output_type": "execute_result",
          "data": {
            "text/plain": [
              "Text(0.5, 1.0, 'elbow method')"
            ]
          },
          "metadata": {
            "tags": []
          },
          "execution_count": 20
        },
        {
          "output_type": "display_data",
          "data": {
            "image/png": "[encoded data removed]",
            "text/plain": [
              "<Figure size 864x576 with 1 Axes>"
            ]
          },
          "metadata": {
            "tags": [],
            "needs_background": "light"
          }
        }
      ]
    },
    {
      "cell_type": "code",
      "metadata": {
        "id": "pR5YSCDNmaYZ"
      },
      "source": [
        "km = KMeans(n_splits=, max_iter=1000, n_jobs=-1).fit(vstack)\n",
        "\n",
        "x_train['cluster'] = km.predict(x_train)\n",
        "x_test['cluster'] = km.predict(x_test)"
      ],
      "execution_count": null,
      "outputs": []
    },
    {
      "cell_type": "markdown",
      "metadata": {
        "id": "KAaP4UlNsOz1"
      },
      "source": [
        "# cluster DBSCAN기법\n",
        "\n",
        "- DBSCAN(density-based spatial clustering of application with noise)은 클러스터의 갯수를 미리 지정하지 않는 군집 알고리즘\n",
        "\n",
        "\n",
        "- DBSCAN은 병합 군집이나 k-평균보다는 다소 느리지만 비교적 큰 데이터셋에도 적용\n",
        "\n",
        "\n",
        "\n",
        "- 데이터의 밀집지역이 한 클러스터를 구성하며 비교적 비어있는 지역을 경계로 다른 클러스터와 구분함\n",
        "\n",
        "\n",
        "\n",
        "- DBSCAN은 특성 공간에서 가까이 있는 데이터가 많아 붐비는 지역의 포인트를 찾음\n",
        "\n",
        "- 이런 지역을 밀집 지역dense region이라 함\n",
        "\n",
        "- 밀집 지역에 있는 포인트를 핵심 포인트core point라고함\n",
        "\n",
        "\n",
        "\n",
        "- 핵심 포인트: min_samples, epsepsilon\n",
        "\n",
        "  - 한 데이터 포인트에서 eps 거리 안에 데이터가 min_samples 갯수만큼 들어 있으면 이 데이터 포인트를 핵심 포인트로 분류\n",
        "\n",
        "  - eps(거리)보다 가까운 핵심 샘플은 동일한 클러스터로 분류"
      ]
    },
    {
      "cell_type": "code",
      "metadata": {
        "id": "V5AEBK-NmTJ5"
      },
      "source": [
        "ss = StandardScaler().fit(x_train)\n",
        "x_train = mm.transform(x_train)\n",
        "x_test = mm.transform(x_test)\n",
        "\n",
        "x_train = pd.DataFrame(x_train, columns=x_train_columns)\n",
        "x_test = pd.DataFrame(x_test, columns=x_test_columns)"
      ],
      "execution_count": null,
      "outputs": []
    },
    {
      "cell_type": "code",
      "metadata": {
        "colab": {
          "base_uri": "https://localhost:8080/"
        },
        "id": "ye_vs_epatCG",
        "outputId": "e1ff0b20-eb07-4488-a699-aa941fa77b1d"
      },
      "source": [
        "sk = StratifiedKFold(n_splits=5, shuffle=True, random_state=42)\n",
        "kf = KFold(n_splits=5, shuffle=True, random_state=42)\n",
        "preds = np.zeros((x_test.shape[0],))\n",
        "\n",
        "for i, (train_index, valid_index) in enumerate(kf.split(x_train, y_train)):\n",
        "  X_train, X_valid = x_train.iloc[train_index], x_train.iloc[valid_index]\n",
        "  Y_train, Y_valid = y_train.iloc[train_index], y_train.iloc[valid_index]\n",
        "\n",
        "  model_cat = catboost.CatBoostRegressor(iterations=3000, learning_rate=0.022, loss_function='RMSE', eval_metric='RMSE', task_type='GPU')\n",
        "  model_cat.fit(X_train, Y_train, eval_set=(X_valid, Y_valid), verbose=100, early_stopping_rounds=70)\n",
        "\n",
        "  preds += np.expm1(model_cat.predict(x_test)) / kf.n_splits"
      ],
      "execution_count": 11,
      "outputs": [
        {
          "output_type": "stream",
          "text": [
            "Custom logger is already specified. Specify more than one logger at same time is not thread safe."
          ],
          "name": "stderr"
        },
        {
          "output_type": "stream",
          "text": [
            "0:\tlearn: 1.1039045\ttest: 1.1063753\tbest: 1.1063753 (0)\ttotal: 10.3ms\tremaining: 30.9s\n",
            "100:\tlearn: 1.0945647\ttest: 1.0977858\tbest: 1.0977858 (100)\ttotal: 1.8s\tremaining: 51.6s\n",
            "200:\tlearn: 1.0901819\ttest: 1.0942911\tbest: 1.0942911 (200)\ttotal: 2.91s\tremaining: 40.6s\n",
            "300:\tlearn: 1.0869794\ttest: 1.0920953\tbest: 1.0920953 (300)\ttotal: 4.21s\tremaining: 37.7s\n",
            "400:\tlearn: 1.0843921\ttest: 1.0905177\tbest: 1.0905177 (400)\ttotal: 5.58s\tremaining: 36.2s\n",
            "500:\tlearn: 1.0821666\ttest: 1.0893155\tbest: 1.0893155 (500)\ttotal: 7.41s\tremaining: 37s\n",
            "600:\tlearn: 1.0800835\ttest: 1.0882926\tbest: 1.0882926 (600)\ttotal: 9.82s\tremaining: 39.2s\n",
            "700:\tlearn: 1.0781490\ttest: 1.0874149\tbest: 1.0874149 (700)\ttotal: 12.1s\tremaining: 39.7s\n",
            "800:\tlearn: 1.0763697\ttest: 1.0866818\tbest: 1.0866818 (800)\ttotal: 14.4s\tremaining: 39.6s\n",
            "900:\tlearn: 1.0746677\ttest: 1.0860741\tbest: 1.0860741 (900)\ttotal: 16.9s\tremaining: 39.3s\n",
            "1000:\tlearn: 1.0730308\ttest: 1.0855342\tbest: 1.0855342 (1000)\ttotal: 18.9s\tremaining: 37.8s\n",
            "1100:\tlearn: 1.0714150\ttest: 1.0850424\tbest: 1.0850424 (1100)\ttotal: 21.2s\tremaining: 36.6s\n",
            "1200:\tlearn: 1.0698821\ttest: 1.0846505\tbest: 1.0846505 (1200)\ttotal: 23.7s\tremaining: 35.5s\n",
            "1300:\tlearn: 1.0683260\ttest: 1.0842475\tbest: 1.0842465 (1299)\ttotal: 26.1s\tremaining: 34.1s\n",
            "1400:\tlearn: 1.0668515\ttest: 1.0838828\tbest: 1.0838828 (1400)\ttotal: 27.5s\tremaining: 31.4s\n",
            "1500:\tlearn: 1.0653633\ttest: 1.0836128\tbest: 1.0836126 (1499)\ttotal: 28.8s\tremaining: 28.8s\n",
            "1600:\tlearn: 1.0639787\ttest: 1.0833106\tbest: 1.0833106 (1600)\ttotal: 30s\tremaining: 26.2s\n",
            "1700:\tlearn: 1.0625681\ttest: 1.0830857\tbest: 1.0830857 (1700)\ttotal: 32.5s\tremaining: 24.8s\n",
            "1800:\tlearn: 1.0611735\ttest: 1.0828337\tbest: 1.0828337 (1800)\ttotal: 34.9s\tremaining: 23.3s\n",
            "1900:\tlearn: 1.0597726\ttest: 1.0826380\tbest: 1.0826380 (1900)\ttotal: 37.3s\tremaining: 21.6s\n",
            "2000:\tlearn: 1.0584389\ttest: 1.0824363\tbest: 1.0824332 (1994)\ttotal: 39.8s\tremaining: 19.9s\n",
            "2100:\tlearn: 1.0571054\ttest: 1.0822507\tbest: 1.0822499 (2099)\ttotal: 42.2s\tremaining: 18.1s\n",
            "2200:\tlearn: 1.0557804\ttest: 1.0821156\tbest: 1.0821124 (2196)\ttotal: 44s\tremaining: 16s\n",
            "2300:\tlearn: 1.0544493\ttest: 1.0819591\tbest: 1.0819591 (2300)\ttotal: 45.6s\tremaining: 13.8s\n",
            "2400:\tlearn: 1.0531320\ttest: 1.0818264\tbest: 1.0818219 (2399)\ttotal: 46.9s\tremaining: 11.7s\n",
            "2500:\tlearn: 1.0518649\ttest: 1.0816928\tbest: 1.0816928 (2500)\ttotal: 48.2s\tremaining: 9.61s\n",
            "2600:\tlearn: 1.0505918\ttest: 1.0815349\tbest: 1.0815347 (2599)\ttotal: 49.3s\tremaining: 7.57s\n",
            "2700:\tlearn: 1.0492934\ttest: 1.0814109\tbest: 1.0814109 (2700)\ttotal: 50.4s\tremaining: 5.58s\n",
            "2800:\tlearn: 1.0480326\ttest: 1.0813022\tbest: 1.0813000 (2787)\ttotal: 52.4s\tremaining: 3.72s\n",
            "2900:\tlearn: 1.0467668\ttest: 1.0811932\tbest: 1.0811932 (2900)\ttotal: 54.5s\tremaining: 1.86s\n",
            "2999:\tlearn: 1.0455514\ttest: 1.0810936\tbest: 1.0810932 (2987)\ttotal: 56.2s\tremaining: 0us\n",
            "bestTest = 1.081093161\n",
            "bestIteration = 2987\n",
            "Shrink model to first 2988 iterations.\n",
            "0:\tlearn: 1.1044649\ttest: 1.1040989\tbest: 1.1040989 (0)\ttotal: 18.1ms\tremaining: 54.3s\n",
            "100:\tlearn: 1.0949868\ttest: 1.0959699\tbest: 1.0959699 (100)\ttotal: 1.2s\tremaining: 34.5s\n",
            "200:\tlearn: 1.0905697\ttest: 1.0928548\tbest: 1.0928548 (200)\ttotal: 2.29s\tremaining: 31.9s\n",
            "300:\tlearn: 1.0873358\ttest: 1.0907929\tbest: 1.0907929 (300)\ttotal: 3.46s\tremaining: 31s\n",
            "400:\tlearn: 1.0846803\ttest: 1.0892726\tbest: 1.0892726 (400)\ttotal: 5.38s\tremaining: 34.9s\n",
            "500:\tlearn: 1.0824005\ttest: 1.0881087\tbest: 1.0881087 (500)\ttotal: 7.39s\tremaining: 36.9s\n",
            "600:\tlearn: 1.0803119\ttest: 1.0871455\tbest: 1.0871455 (600)\ttotal: 8.51s\tremaining: 34s\n",
            "700:\tlearn: 1.0783302\ttest: 1.0864048\tbest: 1.0864048 (700)\ttotal: 9.64s\tremaining: 31.6s\n",
            "800:\tlearn: 1.0764583\ttest: 1.0857012\tbest: 1.0857012 (800)\ttotal: 10.8s\tremaining: 29.6s\n",
            "900:\tlearn: 1.0747186\ttest: 1.0851662\tbest: 1.0851662 (900)\ttotal: 11.9s\tremaining: 27.7s\n",
            "1000:\tlearn: 1.0730927\ttest: 1.0847154\tbest: 1.0847154 (1000)\ttotal: 13s\tremaining: 25.9s\n",
            "1100:\tlearn: 1.0714434\ttest: 1.0842594\tbest: 1.0842585 (1099)\ttotal: 14.1s\tremaining: 24.3s\n",
            "1200:\tlearn: 1.0698469\ttest: 1.0839155\tbest: 1.0839155 (1200)\ttotal: 15.3s\tremaining: 22.8s\n",
            "1300:\tlearn: 1.0682957\ttest: 1.0835978\tbest: 1.0835978 (1300)\ttotal: 16.4s\tremaining: 21.4s\n",
            "1400:\tlearn: 1.0667727\ttest: 1.0832844\tbest: 1.0832843 (1399)\ttotal: 17.6s\tremaining: 20.1s\n",
            "1500:\tlearn: 1.0653106\ttest: 1.0830181\tbest: 1.0830181 (1500)\ttotal: 18.7s\tremaining: 18.7s\n",
            "1600:\tlearn: 1.0639018\ttest: 1.0827778\tbest: 1.0827778 (1600)\ttotal: 19.8s\tremaining: 17.3s\n",
            "1700:\tlearn: 1.0625020\ttest: 1.0825785\tbest: 1.0825785 (1700)\ttotal: 21s\tremaining: 16s\n",
            "1800:\tlearn: 1.0610969\ttest: 1.0823383\tbest: 1.0823349 (1799)\ttotal: 22.1s\tremaining: 14.7s\n",
            "1900:\tlearn: 1.0597379\ttest: 1.0821661\tbest: 1.0821639 (1898)\ttotal: 23.2s\tremaining: 13.4s\n",
            "2000:\tlearn: 1.0583402\ttest: 1.0820170\tbest: 1.0820170 (2000)\ttotal: 24.3s\tremaining: 12.1s\n",
            "2100:\tlearn: 1.0570234\ttest: 1.0818561\tbest: 1.0818561 (2100)\ttotal: 25.4s\tremaining: 10.9s\n",
            "2200:\tlearn: 1.0557233\ttest: 1.0816966\tbest: 1.0816959 (2196)\ttotal: 26.5s\tremaining: 9.61s\n",
            "2300:\tlearn: 1.0544256\ttest: 1.0815937\tbest: 1.0815937 (2300)\ttotal: 27.6s\tremaining: 8.37s\n",
            "2400:\tlearn: 1.0530978\ttest: 1.0814849\tbest: 1.0814778 (2398)\ttotal: 28.7s\tremaining: 7.16s\n",
            "2500:\tlearn: 1.0518130\ttest: 1.0813679\tbest: 1.0813612 (2496)\ttotal: 29.8s\tremaining: 5.95s\n",
            "2600:\tlearn: 1.0505029\ttest: 1.0812040\tbest: 1.0812040 (2600)\ttotal: 31.1s\tremaining: 4.78s\n",
            "2700:\tlearn: 1.0492377\ttest: 1.0810894\tbest: 1.0810894 (2700)\ttotal: 33.5s\tremaining: 3.71s\n",
            "2800:\tlearn: 1.0479710\ttest: 1.0809939\tbest: 1.0809939 (2800)\ttotal: 35.2s\tremaining: 2.5s\n",
            "2900:\tlearn: 1.0467395\ttest: 1.0808998\tbest: 1.0808998 (2900)\ttotal: 36.5s\tremaining: 1.25s\n",
            "2999:\tlearn: 1.0454753\ttest: 1.0808057\tbest: 1.0808036 (2998)\ttotal: 38.9s\tremaining: 0us\n",
            "bestTest = 1.080803593\n",
            "bestIteration = 2998\n",
            "Shrink model to first 2999 iterations.\n",
            "0:\tlearn: 1.1043364\ttest: 1.1046365\tbest: 1.1046365 (0)\ttotal: 16.8ms\tremaining: 50.3s\n",
            "100:\tlearn: 1.0951551\ttest: 1.0959988\tbest: 1.0959988 (100)\ttotal: 1.21s\tremaining: 34.8s\n",
            "200:\tlearn: 1.0907616\ttest: 1.0923131\tbest: 1.0923131 (200)\ttotal: 2.57s\tremaining: 35.7s\n",
            "300:\tlearn: 1.0876000\ttest: 1.0899917\tbest: 1.0899917 (300)\ttotal: 3.96s\tremaining: 35.5s\n",
            "400:\tlearn: 1.0849994\ttest: 1.0884217\tbest: 1.0884217 (400)\ttotal: 5.11s\tremaining: 33.1s\n",
            "500:\tlearn: 1.0827736\ttest: 1.0872028\tbest: 1.0872028 (500)\ttotal: 6.15s\tremaining: 30.7s\n",
            "600:\tlearn: 1.0807277\ttest: 1.0861478\tbest: 1.0861478 (600)\ttotal: 7.19s\tremaining: 28.7s\n",
            "700:\tlearn: 1.0787555\ttest: 1.0852493\tbest: 1.0852493 (700)\ttotal: 8.24s\tremaining: 27s\n",
            "800:\tlearn: 1.0769298\ttest: 1.0844928\tbest: 1.0844928 (800)\ttotal: 9.32s\tremaining: 25.6s\n",
            "900:\tlearn: 1.0751642\ttest: 1.0837819\tbest: 1.0837819 (900)\ttotal: 10.4s\tremaining: 24.2s\n",
            "1000:\tlearn: 1.0735155\ttest: 1.0832363\tbest: 1.0832363 (1000)\ttotal: 11.5s\tremaining: 23.1s\n",
            "1100:\tlearn: 1.0719398\ttest: 1.0827809\tbest: 1.0827809 (1100)\ttotal: 12.7s\tremaining: 21.9s\n",
            "1200:\tlearn: 1.0703779\ttest: 1.0823821\tbest: 1.0823821 (1200)\ttotal: 14.3s\tremaining: 21.5s\n",
            "1300:\tlearn: 1.0688606\ttest: 1.0819637\tbest: 1.0819631 (1299)\ttotal: 16.3s\tremaining: 21.3s\n",
            "1400:\tlearn: 1.0674074\ttest: 1.0816368\tbest: 1.0816368 (1400)\ttotal: 18.8s\tremaining: 21.4s\n",
            "1500:\tlearn: 1.0659707\ttest: 1.0812870\tbest: 1.0812870 (1500)\ttotal: 21.1s\tremaining: 21.1s\n",
            "1600:\tlearn: 1.0645424\ttest: 1.0810012\tbest: 1.0810012 (1600)\ttotal: 22.8s\tremaining: 19.9s\n",
            "1700:\tlearn: 1.0631301\ttest: 1.0807146\tbest: 1.0807145 (1698)\ttotal: 24.1s\tremaining: 18.4s\n",
            "1800:\tlearn: 1.0617530\ttest: 1.0804705\tbest: 1.0804705 (1800)\ttotal: 26.6s\tremaining: 17.7s\n",
            "1900:\tlearn: 1.0604199\ttest: 1.0802916\tbest: 1.0802916 (1900)\ttotal: 28.7s\tremaining: 16.6s\n",
            "2000:\tlearn: 1.0590658\ttest: 1.0801167\tbest: 1.0801167 (2000)\ttotal: 30.9s\tremaining: 15.4s\n",
            "2100:\tlearn: 1.0577407\ttest: 1.0798941\tbest: 1.0798941 (2100)\ttotal: 33.3s\tremaining: 14.3s\n",
            "2200:\tlearn: 1.0564280\ttest: 1.0797223\tbest: 1.0797223 (2200)\ttotal: 35.7s\tremaining: 13s\n",
            "2300:\tlearn: 1.0551496\ttest: 1.0796212\tbest: 1.0796212 (2300)\ttotal: 38.2s\tremaining: 11.6s\n",
            "2400:\tlearn: 1.0538422\ttest: 1.0794974\tbest: 1.0794974 (2400)\ttotal: 40.6s\tremaining: 10.1s\n",
            "2500:\tlearn: 1.0525076\ttest: 1.0793624\tbest: 1.0793624 (2500)\ttotal: 42.6s\tremaining: 8.5s\n",
            "2600:\tlearn: 1.0512346\ttest: 1.0792140\tbest: 1.0792118 (2599)\ttotal: 43.7s\tremaining: 6.7s\n",
            "2700:\tlearn: 1.0499682\ttest: 1.0790912\tbest: 1.0790818 (2690)\ttotal: 44.8s\tremaining: 4.96s\n",
            "2800:\tlearn: 1.0487082\ttest: 1.0789863\tbest: 1.0789863 (2800)\ttotal: 46s\tremaining: 3.27s\n",
            "2900:\tlearn: 1.0474607\ttest: 1.0788419\tbest: 1.0788419 (2900)\ttotal: 47.2s\tremaining: 1.61s\n",
            "2999:\tlearn: 1.0462245\ttest: 1.0787354\tbest: 1.0787354 (2999)\ttotal: 48.4s\tremaining: 0us\n",
            "bestTest = 1.078735407\n",
            "bestIteration = 2999\n",
            "0:\tlearn: 1.1046693\ttest: 1.1032981\tbest: 1.1032981 (0)\ttotal: 6.4ms\tremaining: 19.2s\n",
            "100:\tlearn: 1.0952729\ttest: 1.0948783\tbest: 1.0948783 (100)\ttotal: 1.32s\tremaining: 37.9s\n",
            "200:\tlearn: 1.0909207\ttest: 1.0916262\tbest: 1.0916262 (200)\ttotal: 3.77s\tremaining: 52.4s\n",
            "300:\tlearn: 1.0876895\ttest: 1.0895470\tbest: 1.0895470 (300)\ttotal: 5.92s\tremaining: 53.1s\n",
            "400:\tlearn: 1.0850554\ttest: 1.0880001\tbest: 1.0880001 (400)\ttotal: 8.35s\tremaining: 54.1s\n",
            "500:\tlearn: 1.0827696\ttest: 1.0868355\tbest: 1.0868355 (500)\ttotal: 10.7s\tremaining: 53.2s\n",
            "600:\tlearn: 1.0806568\ttest: 1.0859213\tbest: 1.0859213 (600)\ttotal: 12.5s\tremaining: 49.9s\n",
            "700:\tlearn: 1.0786979\ttest: 1.0851148\tbest: 1.0851148 (700)\ttotal: 14.9s\tremaining: 48.9s\n",
            "800:\tlearn: 1.0768434\ttest: 1.0844396\tbest: 1.0844396 (800)\ttotal: 16.6s\tremaining: 45.7s\n",
            "900:\tlearn: 1.0751011\ttest: 1.0838771\tbest: 1.0838771 (900)\ttotal: 17.7s\tremaining: 41.2s\n",
            "1000:\tlearn: 1.0734114\ttest: 1.0833684\tbest: 1.0833684 (1000)\ttotal: 18.8s\tremaining: 37.5s\n",
            "1100:\tlearn: 1.0718222\ttest: 1.0829429\tbest: 1.0829429 (1100)\ttotal: 19.9s\tremaining: 34.2s\n",
            "1200:\tlearn: 1.0702567\ttest: 1.0826086\tbest: 1.0826086 (1200)\ttotal: 21s\tremaining: 31.5s\n",
            "1300:\tlearn: 1.0686840\ttest: 1.0823112\tbest: 1.0823112 (1300)\ttotal: 22.1s\tremaining: 28.9s\n",
            "1400:\tlearn: 1.0671978\ttest: 1.0819663\tbest: 1.0819663 (1400)\ttotal: 23.2s\tremaining: 26.5s\n",
            "1500:\tlearn: 1.0657685\ttest: 1.0816630\tbest: 1.0816629 (1499)\ttotal: 24.4s\tremaining: 24.4s\n",
            "1600:\tlearn: 1.0642780\ttest: 1.0814067\tbest: 1.0814050 (1598)\ttotal: 25.7s\tremaining: 22.5s\n",
            "1700:\tlearn: 1.0628801\ttest: 1.0811574\tbest: 1.0811574 (1700)\ttotal: 27.9s\tremaining: 21.3s\n",
            "1800:\tlearn: 1.0615133\ttest: 1.0809694\tbest: 1.0809694 (1800)\ttotal: 30.2s\tremaining: 20.1s\n",
            "1900:\tlearn: 1.0601648\ttest: 1.0807605\tbest: 1.0807583 (1899)\ttotal: 32.7s\tremaining: 18.9s\n",
            "2000:\tlearn: 1.0587644\ttest: 1.0806205\tbest: 1.0806171 (1999)\ttotal: 35.2s\tremaining: 17.6s\n",
            "2100:\tlearn: 1.0574156\ttest: 1.0804483\tbest: 1.0804480 (2099)\ttotal: 36.9s\tremaining: 15.8s\n",
            "2200:\tlearn: 1.0560762\ttest: 1.0802641\tbest: 1.0802641 (2200)\ttotal: 38s\tremaining: 13.8s\n",
            "2300:\tlearn: 1.0547519\ttest: 1.0801293\tbest: 1.0801254 (2298)\ttotal: 40.2s\tremaining: 12.2s\n",
            "2400:\tlearn: 1.0534229\ttest: 1.0800333\tbest: 1.0800316 (2399)\ttotal: 41.9s\tremaining: 10.5s\n",
            "2500:\tlearn: 1.0520842\ttest: 1.0799071\tbest: 1.0799070 (2494)\ttotal: 43s\tremaining: 8.58s\n",
            "2600:\tlearn: 1.0508228\ttest: 1.0797646\tbest: 1.0797646 (2600)\ttotal: 44.2s\tremaining: 6.78s\n",
            "2700:\tlearn: 1.0495656\ttest: 1.0796465\tbest: 1.0796465 (2700)\ttotal: 45.3s\tremaining: 5.01s\n",
            "2800:\tlearn: 1.0482951\ttest: 1.0795261\tbest: 1.0795258 (2799)\ttotal: 46.5s\tremaining: 3.3s\n",
            "2900:\tlearn: 1.0470255\ttest: 1.0794058\tbest: 1.0794058 (2900)\ttotal: 47.6s\tremaining: 1.62s\n",
            "2999:\tlearn: 1.0457698\ttest: 1.0792825\tbest: 1.0792791 (2998)\ttotal: 50.1s\tremaining: 0us\n",
            "bestTest = 1.079279129\n",
            "bestIteration = 2998\n",
            "Shrink model to first 2999 iterations.\n",
            "0:\tlearn: 1.1045939\ttest: 1.1036272\tbest: 1.1036272 (0)\ttotal: 16.5ms\tremaining: 49.5s\n",
            "100:\tlearn: 1.0952264\ttest: 1.0951645\tbest: 1.0951645 (100)\ttotal: 2.58s\tremaining: 1m 14s\n",
            "200:\tlearn: 1.0907438\ttest: 1.0919422\tbest: 1.0919422 (200)\ttotal: 4.88s\tremaining: 1m 8s\n",
            "300:\tlearn: 1.0875038\ttest: 1.0898594\tbest: 1.0898594 (300)\ttotal: 6.96s\tremaining: 1m 2s\n",
            "400:\tlearn: 1.0848840\ttest: 1.0884204\tbest: 1.0884204 (400)\ttotal: 9.06s\tremaining: 58.7s\n",
            "500:\tlearn: 1.0825648\ttest: 1.0872621\tbest: 1.0872621 (500)\ttotal: 11.5s\tremaining: 57.3s\n",
            "600:\tlearn: 1.0804561\ttest: 1.0862248\tbest: 1.0862248 (600)\ttotal: 14s\tremaining: 56s\n",
            "700:\tlearn: 1.0784642\ttest: 1.0854515\tbest: 1.0854515 (700)\ttotal: 16.1s\tremaining: 52.8s\n",
            "800:\tlearn: 1.0766058\ttest: 1.0848253\tbest: 1.0848253 (800)\ttotal: 18.6s\tremaining: 51s\n",
            "900:\tlearn: 1.0748467\ttest: 1.0842278\tbest: 1.0842278 (900)\ttotal: 20.1s\tremaining: 46.8s\n",
            "1000:\tlearn: 1.0731724\ttest: 1.0837211\tbest: 1.0837211 (1000)\ttotal: 22.6s\tremaining: 45s\n",
            "1100:\tlearn: 1.0715640\ttest: 1.0832451\tbest: 1.0832451 (1100)\ttotal: 25s\tremaining: 43.1s\n",
            "1200:\tlearn: 1.0700144\ttest: 1.0829242\tbest: 1.0829242 (1200)\ttotal: 27.4s\tremaining: 41s\n",
            "1300:\tlearn: 1.0684526\ttest: 1.0825897\tbest: 1.0825885 (1299)\ttotal: 29.8s\tremaining: 38.9s\n",
            "1400:\tlearn: 1.0669769\ttest: 1.0822851\tbest: 1.0822851 (1400)\ttotal: 32.2s\tremaining: 36.8s\n",
            "1500:\tlearn: 1.0655330\ttest: 1.0820148\tbest: 1.0820148 (1500)\ttotal: 34.1s\tremaining: 34s\n",
            "1600:\tlearn: 1.0641151\ttest: 1.0817907\tbest: 1.0817888 (1599)\ttotal: 36.2s\tremaining: 31.6s\n",
            "1700:\tlearn: 1.0626952\ttest: 1.0815271\tbest: 1.0815262 (1699)\ttotal: 38.6s\tremaining: 29.5s\n",
            "1800:\tlearn: 1.0613044\ttest: 1.0813151\tbest: 1.0813140 (1799)\ttotal: 41.1s\tremaining: 27.4s\n",
            "1900:\tlearn: 1.0599200\ttest: 1.0811788\tbest: 1.0811708 (1895)\ttotal: 43.2s\tremaining: 25s\n",
            "2000:\tlearn: 1.0585464\ttest: 1.0809923\tbest: 1.0809923 (2000)\ttotal: 45s\tremaining: 22.5s\n",
            "2100:\tlearn: 1.0571921\ttest: 1.0808418\tbest: 1.0808416 (2099)\ttotal: 47.5s\tremaining: 20.3s\n",
            "2200:\tlearn: 1.0559011\ttest: 1.0806903\tbest: 1.0806903 (2200)\ttotal: 49.9s\tremaining: 18.1s\n",
            "2300:\tlearn: 1.0545456\ttest: 1.0805497\tbest: 1.0805497 (2300)\ttotal: 52.4s\tremaining: 15.9s\n",
            "2400:\tlearn: 1.0532480\ttest: 1.0803966\tbest: 1.0803966 (2400)\ttotal: 54.1s\tremaining: 13.5s\n",
            "2500:\tlearn: 1.0519436\ttest: 1.0802798\tbest: 1.0802798 (2500)\ttotal: 55.3s\tremaining: 11s\n",
            "2600:\tlearn: 1.0506378\ttest: 1.0801431\tbest: 1.0801431 (2600)\ttotal: 56.8s\tremaining: 8.71s\n",
            "2700:\tlearn: 1.0493185\ttest: 1.0800106\tbest: 1.0800086 (2698)\ttotal: 58.6s\tremaining: 6.48s\n",
            "2800:\tlearn: 1.0480501\ttest: 1.0798877\tbest: 1.0798818 (2798)\ttotal: 59.9s\tremaining: 4.26s\n",
            "2900:\tlearn: 1.0467496\ttest: 1.0797381\tbest: 1.0797281 (2895)\ttotal: 1m 1s\tremaining: 2.08s\n",
            "2999:\tlearn: 1.0455093\ttest: 1.0796131\tbest: 1.0796080 (2996)\ttotal: 1m 2s\tremaining: 0us\n",
            "bestTest = 1.079608002\n",
            "bestIteration = 2996\n",
            "Shrink model to first 2997 iterations.\n"
          ],
          "name": "stdout"
        }
      ]
    },
    {
      "cell_type": "code",
      "metadata": {
        "id": "A72VesFU8WFi"
      },
      "source": [
        "cat_features = x_train.select_dtypes('object').columns\n",
        "def objective(trial,data=x_train,target=y_train):\n",
        "    \n",
        "    X_train, X_test, y_train, y_test = train_test_split(data, target, test_size=0.2,random_state=42)\n",
        "    params = {'iterations':trial.suggest_int(\"iterations\", 2000, 25000),\n",
        "             'loss_function':'RMSE',\n",
        "              'task_type':\"GPU\",\n",
        "              'eval_metric':'RMSE',\n",
        "              'leaf_estimation_method':'Newton',\n",
        "              'bootstrap_type': 'Bernoulli',\n",
        "              'learning_rate' : trial.suggest_uniform('learning_rate',0.01,0.5),\n",
        "              'reg_lambda': trial.suggest_uniform('reg_lambda',1e-5,100),\n",
        "              'subsample': trial.suggest_uniform('subsample',0,1),\n",
        "              'random_strength': trial.suggest_uniform('random_strength',10,50),\n",
        "              'depth': trial.suggest_int('depth',1,13),\n",
        "              'min_data_in_leaf': trial.suggest_int('min_data_in_leaf',1,50),\n",
        "              'leaf_estimation_iterations': trial.suggest_int('leaf_estimation_iterations',1,15),\n",
        "              'grow_policy' : 'Depthwise',\n",
        "              'objective' : 'Poisson'\n",
        "               }\n",
        "    model = catboost.CatBoostRegressor(**params)  \n",
        "    model.fit(X_train,y_train,eval_set=[(X_test,y_test)],early_stopping_rounds=100,verbose=False)\n",
        "        \n",
        "    y_preds = model.predict(X_test)\n",
        "\n",
        "\n",
        "    RMSE = np.sqrt(mean_squared_error(y_test, y_preds))\n",
        "    \n",
        "    return RMSE"
      ],
      "execution_count": 32,
      "outputs": []
    },
    {
      "cell_type": "code",
      "metadata": {
        "colab": {
          "base_uri": "https://localhost:8080/",
          "height": 706
        },
        "id": "T9Z5YVXw8eMd",
        "outputId": "2da00d49-b3f7-40ea-fbda-6411c81392bd"
      },
      "source": [
        "OPTUNA_OPTIMIZATION = True\n",
        "\n",
        "study = optuna.create_study(direction='minimize')\n",
        "study.optimize(objective, n_trials=50)\n",
        "print('Number of finished trials:', len(study.trials))\n",
        "print('Best trial: score {}, params {}'.format(study.best_trial.value, study.best_trial.params))"
      ],
      "execution_count": 33,
      "outputs": [
        {
          "output_type": "stream",
          "text": [
            "\u001b[32m[I 2021-08-16 09:49:42,423]\u001b[0m A new study created in memory with name: no-name-c9026779-b6f3-4dd7-ae2e-c1eaaafdfcd5\u001b[0m\n",
            "\u001b[32m[I 2021-08-16 09:50:32,883]\u001b[0m Trial 0 finished with value: 7.8376571884816935 and parameters: {'iterations': 7248, 'learning_rate': 0.16172459016104568, 'reg_lambda': 69.83428136890184, 'subsample': 0.1391160980040107, 'random_strength': 21.864115839196742, 'depth': 4, 'min_data_in_leaf': 22, 'leaf_estimation_iterations': 7}. Best is trial 0 with value: 7.8376571884816935.\u001b[0m\n",
            "\u001b[32m[I 2021-08-16 09:50:55,634]\u001b[0m Trial 1 finished with value: 8.136139044410166 and parameters: {'iterations': 14014, 'learning_rate': 0.3181192636925076, 'reg_lambda': 26.555920561362875, 'subsample': 0.9381835721450945, 'random_strength': 49.51613350724626, 'depth': 13, 'min_data_in_leaf': 26, 'leaf_estimation_iterations': 3}. Best is trial 0 with value: 7.8376571884816935.\u001b[0m\n",
            "\u001b[32m[I 2021-08-16 09:51:10,824]\u001b[0m Trial 2 finished with value: 7.888563271829123 and parameters: {'iterations': 6614, 'learning_rate': 0.2885902883423096, 'reg_lambda': 4.55172989851951, 'subsample': 0.4885399888961328, 'random_strength': 31.437757613746243, 'depth': 8, 'min_data_in_leaf': 25, 'leaf_estimation_iterations': 9}. Best is trial 0 with value: 7.8376571884816935.\u001b[0m\n",
            "\u001b[32m[I 2021-08-16 09:51:28,527]\u001b[0m Trial 3 finished with value: 7.933819628181151 and parameters: {'iterations': 22490, 'learning_rate': 0.2393824536996679, 'reg_lambda': 4.790603572661525, 'subsample': 0.8679829447154288, 'random_strength': 19.76931150337126, 'depth': 11, 'min_data_in_leaf': 42, 'leaf_estimation_iterations': 8}. Best is trial 0 with value: 7.8376571884816935.\u001b[0m\n",
            "\u001b[32m[I 2021-08-16 09:51:41,931]\u001b[0m Trial 4 finished with value: 7.837998500442917 and parameters: {'iterations': 16787, 'learning_rate': 0.2594949906722652, 'reg_lambda': 38.77923222934577, 'subsample': 0.8987147904084744, 'random_strength': 45.88310649357627, 'depth': 3, 'min_data_in_leaf': 34, 'leaf_estimation_iterations': 11}. Best is trial 0 with value: 7.8376571884816935.\u001b[0m\n",
            "\u001b[32m[I 2021-08-16 09:51:51,088]\u001b[0m Trial 5 finished with value: 7.853625427520083 and parameters: {'iterations': 23516, 'learning_rate': 0.28711624037245564, 'reg_lambda': 46.14354317350032, 'subsample': 0.8951570405963039, 'random_strength': 38.26612885052043, 'depth': 5, 'min_data_in_leaf': 20, 'leaf_estimation_iterations': 12}. Best is trial 0 with value: 7.8376571884816935.\u001b[0m\n",
            "\u001b[32m[I 2021-08-16 09:52:57,412]\u001b[0m Trial 6 finished with value: 7.831323029972512 and parameters: {'iterations': 22118, 'learning_rate': 0.4018171518523638, 'reg_lambda': 17.37542766840516, 'subsample': 0.1157406047816637, 'random_strength': 14.451385673682147, 'depth': 1, 'min_data_in_leaf': 4, 'leaf_estimation_iterations': 11}. Best is trial 6 with value: 7.831323029972512.\u001b[0m\n",
            "\u001b[32m[I 2021-08-16 09:53:05,646]\u001b[0m Trial 7 finished with value: 7.853290748028424 and parameters: {'iterations': 8372, 'learning_rate': 0.47269003639517865, 'reg_lambda': 61.67985042732884, 'subsample': 0.9078755552496127, 'random_strength': 15.867954005329459, 'depth': 3, 'min_data_in_leaf': 46, 'leaf_estimation_iterations': 4}. Best is trial 6 with value: 7.831323029972512.\u001b[0m\n",
            "\u001b[32m[I 2021-08-16 09:53:23,262]\u001b[0m Trial 8 finished with value: 7.9010239849298785 and parameters: {'iterations': 8150, 'learning_rate': 0.41450946107125936, 'reg_lambda': 3.990101880071265, 'subsample': 0.0799082852125369, 'random_strength': 43.65572872779423, 'depth': 10, 'min_data_in_leaf': 1, 'leaf_estimation_iterations': 14}. Best is trial 6 with value: 7.831323029972512.\u001b[0m\n",
            "\u001b[32m[I 2021-08-16 09:53:31,704]\u001b[0m Trial 9 finished with value: 7.870034264833523 and parameters: {'iterations': 3602, 'learning_rate': 0.3365737847324674, 'reg_lambda': 13.714874032833334, 'subsample': 0.42952976686279265, 'random_strength': 30.316776481940163, 'depth': 6, 'min_data_in_leaf': 20, 'leaf_estimation_iterations': 3}. Best is trial 6 with value: 7.831323029972512.\u001b[0m\n",
            "\u001b[32m[I 2021-08-16 10:03:41,478]\u001b[0m Trial 10 finished with value: 7.83005725812738 and parameters: {'iterations': 18577, 'learning_rate': 0.02247461200374598, 'reg_lambda': 94.99607587583623, 'subsample': 0.23774602700102204, 'random_strength': 11.421506983252069, 'depth': 1, 'min_data_in_leaf': 3, 'leaf_estimation_iterations': 14}. Best is trial 10 with value: 7.83005725812738.\u001b[0m\n",
            "\u001b[32m[I 2021-08-16 10:16:16,207]\u001b[0m Trial 11 finished with value: 7.830605625443993 and parameters: {'iterations': 19400, 'learning_rate': 0.018246259959197098, 'reg_lambda': 93.73990660933035, 'subsample': 0.27705536898206246, 'random_strength': 10.93903606743368, 'depth': 1, 'min_data_in_leaf': 1, 'leaf_estimation_iterations': 15}. Best is trial 10 with value: 7.83005725812738.\u001b[0m\n"
          ],
          "name": "stderr"
        },
        {
          "output_type": "error",
          "ename": "KeyboardInterrupt",
          "evalue": "ignored",
          "traceback": [
            "\u001b[0;31m---------------------------------------------------------------------------\u001b[0m",
            "\u001b[0;31mKeyboardInterrupt\u001b[0m                         Traceback (most recent call last)",
            "\u001b[0;32m<ipython-input-33-c674cb838826>\u001b[0m in \u001b[0;36m<module>\u001b[0;34m()\u001b[0m\n\u001b[1;32m      2\u001b[0m \u001b[0;34m\u001b[0m\u001b[0m\n\u001b[1;32m      3\u001b[0m \u001b[0mstudy\u001b[0m \u001b[0;34m=\u001b[0m \u001b[0moptuna\u001b[0m\u001b[0;34m.\u001b[0m\u001b[0mcreate_study\u001b[0m\u001b[0;34m(\u001b[0m\u001b[0mdirection\u001b[0m\u001b[0;34m=\u001b[0m\u001b[0;34m'minimize'\u001b[0m\u001b[0;34m)\u001b[0m\u001b[0;34m\u001b[0m\u001b[0;34m\u001b[0m\u001b[0m\n\u001b[0;32m----> 4\u001b[0;31m \u001b[0mstudy\u001b[0m\u001b[0;34m.\u001b[0m\u001b[0moptimize\u001b[0m\u001b[0;34m(\u001b[0m\u001b[0mobjective\u001b[0m\u001b[0;34m,\u001b[0m \u001b[0mn_trials\u001b[0m\u001b[0;34m=\u001b[0m\u001b[0;36m50\u001b[0m\u001b[0;34m)\u001b[0m\u001b[0;34m\u001b[0m\u001b[0;34m\u001b[0m\u001b[0m\n\u001b[0m\u001b[1;32m      5\u001b[0m \u001b[0mprint\u001b[0m\u001b[0;34m(\u001b[0m\u001b[0;34m'Number of finished trials:'\u001b[0m\u001b[0;34m,\u001b[0m \u001b[0mlen\u001b[0m\u001b[0;34m(\u001b[0m\u001b[0mstudy\u001b[0m\u001b[0;34m.\u001b[0m\u001b[0mtrials\u001b[0m\u001b[0;34m)\u001b[0m\u001b[0;34m)\u001b[0m\u001b[0;34m\u001b[0m\u001b[0;34m\u001b[0m\u001b[0m\n\u001b[1;32m      6\u001b[0m \u001b[0mprint\u001b[0m\u001b[0;34m(\u001b[0m\u001b[0;34m'Best trial: score {}, params {}'\u001b[0m\u001b[0;34m.\u001b[0m\u001b[0mformat\u001b[0m\u001b[0;34m(\u001b[0m\u001b[0mstudy\u001b[0m\u001b[0;34m.\u001b[0m\u001b[0mbest_trial\u001b[0m\u001b[0;34m.\u001b[0m\u001b[0mvalue\u001b[0m\u001b[0;34m,\u001b[0m \u001b[0mstudy\u001b[0m\u001b[0;34m.\u001b[0m\u001b[0mbest_trial\u001b[0m\u001b[0;34m.\u001b[0m\u001b[0mparams\u001b[0m\u001b[0;34m)\u001b[0m\u001b[0;34m)\u001b[0m\u001b[0;34m\u001b[0m\u001b[0;34m\u001b[0m\u001b[0m\n",
            "\u001b[0;32m/usr/local/lib/python3.7/dist-packages/optuna/study/study.py\u001b[0m in \u001b[0;36moptimize\u001b[0;34m(self, func, n_trials, timeout, n_jobs, catch, callbacks, gc_after_trial, show_progress_bar)\u001b[0m\n\u001b[1;32m    407\u001b[0m             \u001b[0mcallbacks\u001b[0m\u001b[0;34m=\u001b[0m\u001b[0mcallbacks\u001b[0m\u001b[0;34m,\u001b[0m\u001b[0;34m\u001b[0m\u001b[0;34m\u001b[0m\u001b[0m\n\u001b[1;32m    408\u001b[0m             \u001b[0mgc_after_trial\u001b[0m\u001b[0;34m=\u001b[0m\u001b[0mgc_after_trial\u001b[0m\u001b[0;34m,\u001b[0m\u001b[0;34m\u001b[0m\u001b[0;34m\u001b[0m\u001b[0m\n\u001b[0;32m--> 409\u001b[0;31m             \u001b[0mshow_progress_bar\u001b[0m\u001b[0;34m=\u001b[0m\u001b[0mshow_progress_bar\u001b[0m\u001b[0;34m,\u001b[0m\u001b[0;34m\u001b[0m\u001b[0;34m\u001b[0m\u001b[0m\n\u001b[0m\u001b[1;32m    410\u001b[0m         )\n\u001b[1;32m    411\u001b[0m \u001b[0;34m\u001b[0m\u001b[0m\n",
            "\u001b[0;32m/usr/local/lib/python3.7/dist-packages/optuna/study/_optimize.py\u001b[0m in \u001b[0;36m_optimize\u001b[0;34m(study, func, n_trials, timeout, n_jobs, catch, callbacks, gc_after_trial, show_progress_bar)\u001b[0m\n\u001b[1;32m     74\u001b[0m                 \u001b[0mreseed_sampler_rng\u001b[0m\u001b[0;34m=\u001b[0m\u001b[0;32mFalse\u001b[0m\u001b[0;34m,\u001b[0m\u001b[0;34m\u001b[0m\u001b[0;34m\u001b[0m\u001b[0m\n\u001b[1;32m     75\u001b[0m                 \u001b[0mtime_start\u001b[0m\u001b[0;34m=\u001b[0m\u001b[0;32mNone\u001b[0m\u001b[0;34m,\u001b[0m\u001b[0;34m\u001b[0m\u001b[0;34m\u001b[0m\u001b[0m\n\u001b[0;32m---> 76\u001b[0;31m                 \u001b[0mprogress_bar\u001b[0m\u001b[0;34m=\u001b[0m\u001b[0mprogress_bar\u001b[0m\u001b[0;34m,\u001b[0m\u001b[0;34m\u001b[0m\u001b[0;34m\u001b[0m\u001b[0m\n\u001b[0m\u001b[1;32m     77\u001b[0m             )\n\u001b[1;32m     78\u001b[0m         \u001b[0;32melse\u001b[0m\u001b[0;34m:\u001b[0m\u001b[0;34m\u001b[0m\u001b[0;34m\u001b[0m\u001b[0m\n",
            "\u001b[0;32m/usr/local/lib/python3.7/dist-packages/optuna/study/_optimize.py\u001b[0m in \u001b[0;36m_optimize_sequential\u001b[0;34m(study, func, n_trials, timeout, catch, callbacks, gc_after_trial, reseed_sampler_rng, time_start, progress_bar)\u001b[0m\n\u001b[1;32m    161\u001b[0m \u001b[0;34m\u001b[0m\u001b[0m\n\u001b[1;32m    162\u001b[0m         \u001b[0;32mtry\u001b[0m\u001b[0;34m:\u001b[0m\u001b[0;34m\u001b[0m\u001b[0;34m\u001b[0m\u001b[0m\n\u001b[0;32m--> 163\u001b[0;31m             \u001b[0mtrial\u001b[0m \u001b[0;34m=\u001b[0m \u001b[0m_run_trial\u001b[0m\u001b[0;34m(\u001b[0m\u001b[0mstudy\u001b[0m\u001b[0;34m,\u001b[0m \u001b[0mfunc\u001b[0m\u001b[0;34m,\u001b[0m \u001b[0mcatch\u001b[0m\u001b[0;34m)\u001b[0m\u001b[0;34m\u001b[0m\u001b[0;34m\u001b[0m\u001b[0m\n\u001b[0m\u001b[1;32m    164\u001b[0m         \u001b[0;32mexcept\u001b[0m \u001b[0mException\u001b[0m\u001b[0;34m:\u001b[0m\u001b[0;34m\u001b[0m\u001b[0;34m\u001b[0m\u001b[0m\n\u001b[1;32m    165\u001b[0m             \u001b[0;32mraise\u001b[0m\u001b[0;34m\u001b[0m\u001b[0;34m\u001b[0m\u001b[0m\n",
            "\u001b[0;32m/usr/local/lib/python3.7/dist-packages/optuna/study/_optimize.py\u001b[0m in \u001b[0;36m_run_trial\u001b[0;34m(study, func, catch)\u001b[0m\n\u001b[1;32m    211\u001b[0m \u001b[0;34m\u001b[0m\u001b[0m\n\u001b[1;32m    212\u001b[0m     \u001b[0;32mtry\u001b[0m\u001b[0;34m:\u001b[0m\u001b[0;34m\u001b[0m\u001b[0;34m\u001b[0m\u001b[0m\n\u001b[0;32m--> 213\u001b[0;31m         \u001b[0mvalue_or_values\u001b[0m \u001b[0;34m=\u001b[0m \u001b[0mfunc\u001b[0m\u001b[0;34m(\u001b[0m\u001b[0mtrial\u001b[0m\u001b[0;34m)\u001b[0m\u001b[0;34m\u001b[0m\u001b[0;34m\u001b[0m\u001b[0m\n\u001b[0m\u001b[1;32m    214\u001b[0m     \u001b[0;32mexcept\u001b[0m \u001b[0mexceptions\u001b[0m\u001b[0;34m.\u001b[0m\u001b[0mTrialPruned\u001b[0m \u001b[0;32mas\u001b[0m \u001b[0me\u001b[0m\u001b[0;34m:\u001b[0m\u001b[0;34m\u001b[0m\u001b[0;34m\u001b[0m\u001b[0m\n\u001b[1;32m    215\u001b[0m         \u001b[0;31m# TODO(mamu): Handle multi-objective cases.\u001b[0m\u001b[0;34m\u001b[0m\u001b[0;34m\u001b[0m\u001b[0;34m\u001b[0m\u001b[0m\n",
            "\u001b[0;32m<ipython-input-32-576822a5fc5d>\u001b[0m in \u001b[0;36mobjective\u001b[0;34m(trial, data, target)\u001b[0m\n\u001b[1;32m     20\u001b[0m                }\n\u001b[1;32m     21\u001b[0m     \u001b[0mmodel\u001b[0m \u001b[0;34m=\u001b[0m \u001b[0mcatboost\u001b[0m\u001b[0;34m.\u001b[0m\u001b[0mCatBoostRegressor\u001b[0m\u001b[0;34m(\u001b[0m\u001b[0;34m**\u001b[0m\u001b[0mparams\u001b[0m\u001b[0;34m)\u001b[0m\u001b[0;34m\u001b[0m\u001b[0;34m\u001b[0m\u001b[0m\n\u001b[0;32m---> 22\u001b[0;31m     \u001b[0mmodel\u001b[0m\u001b[0;34m.\u001b[0m\u001b[0mfit\u001b[0m\u001b[0;34m(\u001b[0m\u001b[0mX_train\u001b[0m\u001b[0;34m,\u001b[0m\u001b[0my_train\u001b[0m\u001b[0;34m,\u001b[0m\u001b[0meval_set\u001b[0m\u001b[0;34m=\u001b[0m\u001b[0;34m[\u001b[0m\u001b[0;34m(\u001b[0m\u001b[0mX_test\u001b[0m\u001b[0;34m,\u001b[0m\u001b[0my_test\u001b[0m\u001b[0;34m)\u001b[0m\u001b[0;34m]\u001b[0m\u001b[0;34m,\u001b[0m\u001b[0mearly_stopping_rounds\u001b[0m\u001b[0;34m=\u001b[0m\u001b[0;36m100\u001b[0m\u001b[0;34m,\u001b[0m\u001b[0mverbose\u001b[0m\u001b[0;34m=\u001b[0m\u001b[0;32mFalse\u001b[0m\u001b[0;34m)\u001b[0m\u001b[0;34m\u001b[0m\u001b[0;34m\u001b[0m\u001b[0m\n\u001b[0m\u001b[1;32m     23\u001b[0m \u001b[0;34m\u001b[0m\u001b[0m\n\u001b[1;32m     24\u001b[0m     \u001b[0my_preds\u001b[0m \u001b[0;34m=\u001b[0m \u001b[0mmodel\u001b[0m\u001b[0;34m.\u001b[0m\u001b[0mpredict\u001b[0m\u001b[0;34m(\u001b[0m\u001b[0mX_test\u001b[0m\u001b[0;34m)\u001b[0m\u001b[0;34m\u001b[0m\u001b[0;34m\u001b[0m\u001b[0m\n",
            "\u001b[0;32m/usr/local/lib/python3.7/dist-packages/catboost/core.py\u001b[0m in \u001b[0;36mfit\u001b[0;34m(self, X, y, cat_features, sample_weight, baseline, use_best_model, eval_set, verbose, logging_level, plot, column_description, verbose_eval, metric_period, silent, early_stopping_rounds, save_snapshot, snapshot_file, snapshot_interval, init_model, callbacks, log_cout, log_cerr)\u001b[0m\n\u001b[1;32m   5259\u001b[0m                          \u001b[0muse_best_model\u001b[0m\u001b[0;34m,\u001b[0m \u001b[0meval_set\u001b[0m\u001b[0;34m,\u001b[0m \u001b[0mverbose\u001b[0m\u001b[0;34m,\u001b[0m \u001b[0mlogging_level\u001b[0m\u001b[0;34m,\u001b[0m \u001b[0mplot\u001b[0m\u001b[0;34m,\u001b[0m \u001b[0mcolumn_description\u001b[0m\u001b[0;34m,\u001b[0m\u001b[0;34m\u001b[0m\u001b[0;34m\u001b[0m\u001b[0m\n\u001b[1;32m   5260\u001b[0m                          \u001b[0mverbose_eval\u001b[0m\u001b[0;34m,\u001b[0m \u001b[0mmetric_period\u001b[0m\u001b[0;34m,\u001b[0m \u001b[0msilent\u001b[0m\u001b[0;34m,\u001b[0m \u001b[0mearly_stopping_rounds\u001b[0m\u001b[0;34m,\u001b[0m\u001b[0;34m\u001b[0m\u001b[0;34m\u001b[0m\u001b[0m\n\u001b[0;32m-> 5261\u001b[0;31m                          save_snapshot, snapshot_file, snapshot_interval, init_model, callbacks, log_cout, log_cerr)\n\u001b[0m\u001b[1;32m   5262\u001b[0m \u001b[0;34m\u001b[0m\u001b[0m\n\u001b[1;32m   5263\u001b[0m     \u001b[0;32mdef\u001b[0m \u001b[0mpredict\u001b[0m\u001b[0;34m(\u001b[0m\u001b[0mself\u001b[0m\u001b[0;34m,\u001b[0m \u001b[0mdata\u001b[0m\u001b[0;34m,\u001b[0m \u001b[0mprediction_type\u001b[0m\u001b[0;34m=\u001b[0m\u001b[0;32mNone\u001b[0m\u001b[0;34m,\u001b[0m \u001b[0mntree_start\u001b[0m\u001b[0;34m=\u001b[0m\u001b[0;36m0\u001b[0m\u001b[0;34m,\u001b[0m \u001b[0mntree_end\u001b[0m\u001b[0;34m=\u001b[0m\u001b[0;36m0\u001b[0m\u001b[0;34m,\u001b[0m \u001b[0mthread_count\u001b[0m\u001b[0;34m=\u001b[0m\u001b[0;34m-\u001b[0m\u001b[0;36m1\u001b[0m\u001b[0;34m,\u001b[0m \u001b[0mverbose\u001b[0m\u001b[0;34m=\u001b[0m\u001b[0;32mNone\u001b[0m\u001b[0;34m,\u001b[0m \u001b[0mtask_type\u001b[0m\u001b[0;34m=\u001b[0m\u001b[0;34m\"CPU\"\u001b[0m\u001b[0;34m)\u001b[0m\u001b[0;34m:\u001b[0m\u001b[0;34m\u001b[0m\u001b[0;34m\u001b[0m\u001b[0m\n",
            "\u001b[0;32m/usr/local/lib/python3.7/dist-packages/catboost/core.py\u001b[0m in \u001b[0;36m_fit\u001b[0;34m(self, X, y, cat_features, text_features, embedding_features, pairs, sample_weight, group_id, group_weight, subgroup_id, pairs_weight, baseline, use_best_model, eval_set, verbose, logging_level, plot, column_description, verbose_eval, metric_period, silent, early_stopping_rounds, save_snapshot, snapshot_file, snapshot_interval, init_model, callbacks, log_cout, log_cerr)\u001b[0m\n\u001b[1;32m   2000\u001b[0m                 \u001b[0mparams\u001b[0m\u001b[0;34m,\u001b[0m\u001b[0;34m\u001b[0m\u001b[0;34m\u001b[0m\u001b[0m\n\u001b[1;32m   2001\u001b[0m                 \u001b[0mallow_clear_pool\u001b[0m\u001b[0;34m,\u001b[0m\u001b[0;34m\u001b[0m\u001b[0;34m\u001b[0m\u001b[0m\n\u001b[0;32m-> 2002\u001b[0;31m                 \u001b[0mtrain_params\u001b[0m\u001b[0;34m[\u001b[0m\u001b[0;34m\"init_model\"\u001b[0m\u001b[0;34m]\u001b[0m\u001b[0;34m\u001b[0m\u001b[0;34m\u001b[0m\u001b[0m\n\u001b[0m\u001b[1;32m   2003\u001b[0m             )\n\u001b[1;32m   2004\u001b[0m \u001b[0;34m\u001b[0m\u001b[0m\n",
            "\u001b[0;32m/usr/local/lib/python3.7/dist-packages/catboost/core.py\u001b[0m in \u001b[0;36m_train\u001b[0;34m(self, train_pool, test_pool, params, allow_clear_pool, init_model)\u001b[0m\n\u001b[1;32m   1426\u001b[0m \u001b[0;34m\u001b[0m\u001b[0m\n\u001b[1;32m   1427\u001b[0m     \u001b[0;32mdef\u001b[0m \u001b[0m_train\u001b[0m\u001b[0;34m(\u001b[0m\u001b[0mself\u001b[0m\u001b[0;34m,\u001b[0m \u001b[0mtrain_pool\u001b[0m\u001b[0;34m,\u001b[0m \u001b[0mtest_pool\u001b[0m\u001b[0;34m,\u001b[0m \u001b[0mparams\u001b[0m\u001b[0;34m,\u001b[0m \u001b[0mallow_clear_pool\u001b[0m\u001b[0;34m,\u001b[0m \u001b[0minit_model\u001b[0m\u001b[0;34m)\u001b[0m\u001b[0;34m:\u001b[0m\u001b[0;34m\u001b[0m\u001b[0;34m\u001b[0m\u001b[0m\n\u001b[0;32m-> 1428\u001b[0;31m         \u001b[0mself\u001b[0m\u001b[0;34m.\u001b[0m\u001b[0m_object\u001b[0m\u001b[0;34m.\u001b[0m\u001b[0m_train\u001b[0m\u001b[0;34m(\u001b[0m\u001b[0mtrain_pool\u001b[0m\u001b[0;34m,\u001b[0m \u001b[0mtest_pool\u001b[0m\u001b[0;34m,\u001b[0m \u001b[0mparams\u001b[0m\u001b[0;34m,\u001b[0m \u001b[0mallow_clear_pool\u001b[0m\u001b[0;34m,\u001b[0m \u001b[0minit_model\u001b[0m\u001b[0;34m.\u001b[0m\u001b[0m_object\u001b[0m \u001b[0;32mif\u001b[0m \u001b[0minit_model\u001b[0m \u001b[0;32melse\u001b[0m \u001b[0;32mNone\u001b[0m\u001b[0;34m)\u001b[0m\u001b[0;34m\u001b[0m\u001b[0;34m\u001b[0m\u001b[0m\n\u001b[0m\u001b[1;32m   1429\u001b[0m         \u001b[0mself\u001b[0m\u001b[0;34m.\u001b[0m\u001b[0m_set_trained_model_attributes\u001b[0m\u001b[0;34m(\u001b[0m\u001b[0;34m)\u001b[0m\u001b[0;34m\u001b[0m\u001b[0;34m\u001b[0m\u001b[0m\n\u001b[1;32m   1430\u001b[0m \u001b[0;34m\u001b[0m\u001b[0m\n",
            "\u001b[0;32m_catboost.pyx\u001b[0m in \u001b[0;36m_catboost._CatBoost._train\u001b[0;34m()\u001b[0m\n",
            "\u001b[0;32m_catboost.pyx\u001b[0m in \u001b[0;36m_catboost._CatBoost._train\u001b[0;34m()\u001b[0m\n",
            "\u001b[0;31mKeyboardInterrupt\u001b[0m: "
          ]
        }
      ]
    },
    {
      "cell_type": "code",
      "metadata": {
        "id": "MPSwdl-Sdzhq",
        "colab": {
          "base_uri": "https://localhost:8080/"
        },
        "outputId": "9e78bbb9-68b2-4166-e7ee-2ca2c6837366"
      },
      "source": [
        "sk = StratifiedKFold(n_splits=5, shuffle=True, random_state=42)\n",
        "kf = KFold(n_splits=5, shuffle=True, random_state=42)\n",
        "preds = np.zeros((x_test.shape[0],))\n",
        "params = {'iterations':study.best_params['iterations'],\n",
        "         'loss_function':'RMSE',\n",
        "         'task_type':\"GPU\",\n",
        "         'eval_metric':'RMSE',\n",
        "         'leaf_estimation_method':'Newton',\n",
        "         'bootstrap_type': 'Bernoulli',\n",
        "         'learning_rate' : study.best_params['learning_rate'],\n",
        "         'reg_lambda': study.best_params['reg_lambda'],\n",
        "         'subsample': study.best_params['subsample'],\n",
        "         'random_strength': study.best_params['random_strength'],\n",
        "         'depth': study.best_params['depth'],\n",
        "         'min_data_in_leaf': study.best_params['min_data_in_leaf'],\n",
        "         'leaf_estimation_iterations': study.best_params['leaf_estimation_iterations'],\n",
        "         'grow_policy' : 'Depthwise',  \n",
        "}\n",
        "\n",
        "for i, (train_index, valid_index) in enumerate(sk.split(x_train, y_train)):\n",
        "  X_train, X_valid = x_train.iloc[train_index], x_train.iloc[valid_index]\n",
        "  Y_train, Y_valid = y_train.iloc[train_index], y_train.iloc[valid_index]\n",
        "\n",
        "  model_cat = catboost.CatBoostRegressor(**params)\n",
        "  model_cat.fit(X_train, Y_train, eval_set=(X_valid, Y_valid), verbose=100, early_stopping_rounds=70)\n",
        "\n",
        "  preds += model_cat.predict(x_test) / sk.n_splits\n",
        "  val_preds = model_cat.predict(X_valid)\n",
        "  RMSE = np.sqrt(mean_squared_error(val_preds, Y_valid))\n",
        "  print(f'{i+1}번째 RMSE:{RMSE}')"
      ],
      "execution_count": 26,
      "outputs": [
        {
          "output_type": "stream",
          "text": [
            "/usr/local/lib/python3.7/dist-packages/sklearn/model_selection/_split.py:667: UserWarning:\n",
            "\n",
            "The least populated class in y has only 3 members, which is less than n_splits=5.\n",
            "\n"
          ],
          "name": "stderr"
        },
        {
          "output_type": "stream",
          "text": [
            "0:\tlearn: 7.9395576\ttest: 7.9388570\tbest: 7.9388570 (0)\ttotal: 31.6ms\tremaining: 6m 39s\n",
            "100:\tlearn: 7.8800936\ttest: 7.9139747\tbest: 7.9139747 (100)\ttotal: 2.65s\tremaining: 5m 29s\n",
            "200:\tlearn: 7.8321032\ttest: 7.9004937\tbest: 7.9004937 (200)\ttotal: 5.67s\tremaining: 5m 50s\n",
            "300:\tlearn: 7.7887435\ttest: 7.8904693\tbest: 7.8904693 (300)\ttotal: 11.4s\tremaining: 7m 46s\n",
            "400:\tlearn: 7.7471698\ttest: 7.8824390\tbest: 7.8824390 (400)\ttotal: 15s\tremaining: 7m 35s\n",
            "500:\tlearn: 7.7086834\ttest: 7.8763938\tbest: 7.8763938 (500)\ttotal: 19.4s\tremaining: 7m 49s\n",
            "600:\tlearn: 7.6723829\ttest: 7.8709186\tbest: 7.8709186 (600)\ttotal: 27.1s\tremaining: 9m 1s\n",
            "700:\tlearn: 7.6375320\ttest: 7.8662844\tbest: 7.8662844 (700)\ttotal: 32.8s\tremaining: 9m 17s\n",
            "800:\tlearn: 7.6037303\ttest: 7.8626729\tbest: 7.8626729 (800)\ttotal: 39.5s\tremaining: 9m 43s\n",
            "900:\tlearn: 7.5717366\ttest: 7.8599275\tbest: 7.8599275 (900)\ttotal: 43s\tremaining: 9m 19s\n",
            "1000:\tlearn: 7.5393355\ttest: 7.8566437\tbest: 7.8566402 (999)\ttotal: 47s\tremaining: 9m 5s\n",
            "1100:\tlearn: 7.5080503\ttest: 7.8542189\tbest: 7.8542189 (1100)\ttotal: 54.5s\tremaining: 9m 30s\n",
            "1200:\tlearn: 7.4772007\ttest: 7.8524684\tbest: 7.8524684 (1200)\ttotal: 1m 2s\tremaining: 9m 50s\n",
            "1300:\tlearn: 7.4482669\ttest: 7.8507044\tbest: 7.8506519 (1293)\ttotal: 1m 8s\tremaining: 9m 55s\n",
            "1400:\tlearn: 7.4196745\ttest: 7.8492350\tbest: 7.8492000 (1397)\ttotal: 1m 15s\tremaining: 10m 5s\n",
            "1500:\tlearn: 7.3908332\ttest: 7.8481450\tbest: 7.8481450 (1500)\ttotal: 1m 19s\tremaining: 9m 45s\n",
            "1600:\tlearn: 7.3623702\ttest: 7.8469880\tbest: 7.8469653 (1592)\ttotal: 1m 23s\tremaining: 9m 32s\n",
            "1700:\tlearn: 7.3350262\ttest: 7.8458422\tbest: 7.8458371 (1699)\ttotal: 1m 26s\tremaining: 9m 13s\n",
            "1800:\tlearn: 7.3076672\ttest: 7.8449975\tbest: 7.8449949 (1793)\ttotal: 1m 29s\tremaining: 8m 55s\n",
            "1900:\tlearn: 7.2809131\ttest: 7.8439611\tbest: 7.8439611 (1900)\ttotal: 1m 32s\tremaining: 8m 39s\n",
            "2000:\tlearn: 7.2544476\ttest: 7.8433558\tbest: 7.8433558 (2000)\ttotal: 1m 34s\tremaining: 8m 23s\n",
            "2100:\tlearn: 7.2280021\ttest: 7.8429421\tbest: 7.8429421 (2100)\ttotal: 1m 37s\tremaining: 8m 10s\n",
            "2200:\tlearn: 7.2016054\ttest: 7.8426124\tbest: 7.8425952 (2199)\ttotal: 1m 40s\tremaining: 7m 56s\n",
            "2300:\tlearn: 7.1760700\ttest: 7.8421381\tbest: 7.8420747 (2289)\ttotal: 1m 46s\tremaining: 7m 56s\n",
            "2400:\tlearn: 7.1504059\ttest: 7.8414756\tbest: 7.8414756 (2400)\ttotal: 1m 52s\tremaining: 7m 59s\n",
            "2500:\tlearn: 7.1239069\ttest: 7.8410685\tbest: 7.8410267 (2494)\ttotal: 1m 55s\tremaining: 7m 47s\n",
            "2600:\tlearn: 7.0992074\ttest: 7.8406489\tbest: 7.8405740 (2574)\ttotal: 1m 58s\tremaining: 7m 36s\n",
            "2700:\tlearn: 7.0735154\ttest: 7.8401872\tbest: 7.8400966 (2692)\ttotal: 2m 1s\tremaining: 7m 25s\n",
            "2800:\tlearn: 7.0485162\ttest: 7.8396869\tbest: 7.8396869 (2800)\ttotal: 2m 8s\tremaining: 7m 31s\n",
            "2900:\tlearn: 7.0226484\ttest: 7.8395689\tbest: 7.8394553 (2888)\ttotal: 2m 14s\tremaining: 7m 29s\n",
            "bestTest = 7.839455338\n",
            "bestIteration = 2888\n",
            "Shrink model to first 2889 iterations.\n",
            "1번째 RMSE:7.8394560742693296\n",
            "0:\tlearn: 7.9390500\ttest: 7.9408661\tbest: 7.9408661 (0)\ttotal: 35.1ms\tremaining: 7m 22s\n",
            "100:\tlearn: 7.8825729\ttest: 7.9151162\tbest: 7.9151162 (100)\ttotal: 2.82s\tremaining: 5m 50s\n",
            "200:\tlearn: 7.8340800\ttest: 7.9019836\tbest: 7.9019836 (200)\ttotal: 5.73s\tremaining: 5m 54s\n",
            "300:\tlearn: 7.7909749\ttest: 7.8917451\tbest: 7.8917451 (300)\ttotal: 8.37s\tremaining: 5m 42s\n",
            "400:\tlearn: 7.7504316\ttest: 7.8835582\tbest: 7.8835582 (400)\ttotal: 11s\tremaining: 5m 36s\n",
            "500:\tlearn: 7.7121618\ttest: 7.8764868\tbest: 7.8764868 (500)\ttotal: 14s\tremaining: 5m 38s\n",
            "600:\tlearn: 7.6756094\ttest: 7.8705044\tbest: 7.8705044 (600)\ttotal: 18.3s\tremaining: 6m 6s\n",
            "700:\tlearn: 7.6404807\ttest: 7.8660343\tbest: 7.8660343 (700)\ttotal: 21.5s\tremaining: 6m 5s\n",
            "800:\tlearn: 7.6072498\ttest: 7.8614741\tbest: 7.8614741 (800)\ttotal: 27s\tremaining: 6m 38s\n",
            "900:\tlearn: 7.5746231\ttest: 7.8581957\tbest: 7.8581957 (900)\ttotal: 32.3s\tremaining: 7m\n",
            "1000:\tlearn: 7.5438975\ttest: 7.8551843\tbest: 7.8551843 (1000)\ttotal: 35.1s\tremaining: 6m 47s\n",
            "1100:\tlearn: 7.5127242\ttest: 7.8524305\tbest: 7.8524305 (1100)\ttotal: 38.1s\tremaining: 6m 38s\n",
            "1200:\tlearn: 7.4826225\ttest: 7.8506124\tbest: 7.8505806 (1199)\ttotal: 41.1s\tremaining: 6m 30s\n",
            "1300:\tlearn: 7.4546036\ttest: 7.8489037\tbest: 7.8489037 (1300)\ttotal: 44.1s\tremaining: 6m 23s\n",
            "1400:\tlearn: 7.4256212\ttest: 7.8471077\tbest: 7.8471020 (1399)\ttotal: 46.8s\tremaining: 6m 15s\n",
            "1500:\tlearn: 7.3972238\ttest: 7.8455816\tbest: 7.8455803 (1493)\ttotal: 49.4s\tremaining: 6m 6s\n",
            "1600:\tlearn: 7.3691390\ttest: 7.8443782\tbest: 7.8443655 (1598)\ttotal: 52.3s\tremaining: 6m\n",
            "1700:\tlearn: 7.3415530\ttest: 7.8430804\tbest: 7.8430804 (1700)\ttotal: 55.3s\tremaining: 5m 55s\n",
            "1800:\tlearn: 7.3148773\ttest: 7.8420680\tbest: 7.8420680 (1800)\ttotal: 58.3s\tremaining: 5m 50s\n",
            "1900:\tlearn: 7.2879562\ttest: 7.8413287\tbest: 7.8412831 (1893)\ttotal: 1m 3s\tremaining: 6m\n",
            "2000:\tlearn: 7.2610495\ttest: 7.8405223\tbest: 7.8405086 (1999)\ttotal: 1m 11s\tremaining: 6m 19s\n",
            "2100:\tlearn: 7.2356603\ttest: 7.8395925\tbest: 7.8395925 (2100)\ttotal: 1m 15s\tremaining: 6m 20s\n",
            "2200:\tlearn: 7.2098388\ttest: 7.8390105\tbest: 7.8390105 (2200)\ttotal: 1m 18s\tremaining: 6m 13s\n",
            "2300:\tlearn: 7.1837205\ttest: 7.8383515\tbest: 7.8383515 (2300)\ttotal: 1m 23s\tremaining: 6m 14s\n",
            "2400:\tlearn: 7.1581041\ttest: 7.8378990\tbest: 7.8378983 (2383)\ttotal: 1m 28s\tremaining: 6m 16s\n",
            "2500:\tlearn: 7.1319489\ttest: 7.8378368\tbest: 7.8378058 (2444)\ttotal: 1m 35s\tremaining: 6m 25s\n",
            "2600:\tlearn: 7.1068150\ttest: 7.8374958\tbest: 7.8374722 (2586)\ttotal: 1m 41s\tremaining: 6m 32s\n",
            "2700:\tlearn: 7.0800982\ttest: 7.8374151\tbest: 7.8373232 (2673)\ttotal: 1m 47s\tremaining: 6m 36s\n",
            "2800:\tlearn: 7.0559039\ttest: 7.8372017\tbest: 7.8371497 (2788)\ttotal: 1m 51s\tremaining: 6m 31s\n",
            "2900:\tlearn: 7.0310814\ttest: 7.8368533\tbest: 7.8368533 (2900)\ttotal: 1m 59s\tremaining: 6m 40s\n",
            "3000:\tlearn: 7.0063782\ttest: 7.8365391\tbest: 7.8365289 (2999)\ttotal: 2m 2s\tremaining: 6m 32s\n",
            "3100:\tlearn: 6.9816341\ttest: 7.8364415\tbest: 7.8363799 (3087)\ttotal: 2m 5s\tremaining: 6m 25s\n",
            "3200:\tlearn: 6.9562202\ttest: 7.8361304\tbest: 7.8359725 (3178)\ttotal: 2m 8s\tremaining: 6m 18s\n",
            "3300:\tlearn: 6.9315655\ttest: 7.8360015\tbest: 7.8358698 (3255)\ttotal: 2m 11s\tremaining: 6m 10s\n",
            "3400:\tlearn: 6.9065498\ttest: 7.8357220\tbest: 7.8356069 (3381)\ttotal: 2m 15s\tremaining: 6m 8s\n",
            "3500:\tlearn: 6.8820596\ttest: 7.8355587\tbest: 7.8354103 (3492)\ttotal: 2m 23s\tremaining: 6m 14s\n",
            "3600:\tlearn: 6.8576348\ttest: 7.8351697\tbest: 7.8351471 (3594)\ttotal: 2m 28s\tremaining: 6m 12s\n",
            "3700:\tlearn: 6.8332807\ttest: 7.8350587\tbest: 7.8349521 (3664)\ttotal: 2m 34s\tremaining: 6m 13s\n",
            "3800:\tlearn: 6.8097577\ttest: 7.8348079\tbest: 7.8347671 (3791)\ttotal: 2m 40s\tremaining: 6m 11s\n",
            "3900:\tlearn: 6.7856444\ttest: 7.8344706\tbest: 7.8344706 (3900)\ttotal: 2m 45s\tremaining: 6m 10s\n",
            "4000:\tlearn: 6.7610987\ttest: 7.8343727\tbest: 7.8343296 (3978)\ttotal: 2m 52s\tremaining: 6m 12s\n",
            "4100:\tlearn: 6.7373708\ttest: 7.8342268\tbest: 7.8341818 (4092)\ttotal: 2m 58s\tremaining: 6m 11s\n",
            "4200:\tlearn: 6.7134779\ttest: 7.8341241\tbest: 7.8339792 (4173)\ttotal: 3m 6s\tremaining: 6m 13s\n",
            "bestTest = 7.833979193\n",
            "bestIteration = 4173\n",
            "Shrink model to first 4174 iterations.\n",
            "2번째 RMSE:7.8339794262847855\n",
            "0:\tlearn: 7.9391108\ttest: 7.9408044\tbest: 7.9408044 (0)\ttotal: 31.6ms\tremaining: 6m 38s\n",
            "100:\tlearn: 7.8813305\ttest: 7.9153143\tbest: 7.9153143 (100)\ttotal: 2.88s\tremaining: 5m 56s\n",
            "200:\tlearn: 7.8340647\ttest: 7.9021450\tbest: 7.9021450 (200)\ttotal: 5.54s\tremaining: 5m 42s\n",
            "300:\tlearn: 7.7890808\ttest: 7.8920973\tbest: 7.8920973 (300)\ttotal: 8.24s\tremaining: 5m 37s\n",
            "400:\tlearn: 7.7484389\ttest: 7.8842964\tbest: 7.8842964 (400)\ttotal: 13.8s\tremaining: 6m 59s\n",
            "500:\tlearn: 7.7106258\ttest: 7.8778554\tbest: 7.8778554 (500)\ttotal: 21s\tremaining: 8m 27s\n",
            "600:\tlearn: 7.6730809\ttest: 7.8726917\tbest: 7.8726917 (600)\ttotal: 24.9s\tremaining: 8m 18s\n",
            "700:\tlearn: 7.6383467\ttest: 7.8684465\tbest: 7.8684465 (700)\ttotal: 30.6s\tremaining: 8m 40s\n",
            "800:\tlearn: 7.6040825\ttest: 7.8644291\tbest: 7.8644291 (800)\ttotal: 36.5s\tremaining: 8m 58s\n",
            "900:\tlearn: 7.5715484\ttest: 7.8611898\tbest: 7.8611752 (899)\ttotal: 41.4s\tremaining: 8m 59s\n",
            "1000:\tlearn: 7.5404894\ttest: 7.8587187\tbest: 7.8587187 (1000)\ttotal: 46.4s\tremaining: 8m 59s\n",
            "1100:\tlearn: 7.5089973\ttest: 7.8567054\tbest: 7.8567054 (1100)\ttotal: 49.3s\tremaining: 8m 35s\n",
            "1200:\tlearn: 7.4792590\ttest: 7.8550573\tbest: 7.8550573 (1200)\ttotal: 52.3s\tremaining: 8m 16s\n",
            "1300:\tlearn: 7.4507724\ttest: 7.8535205\tbest: 7.8535205 (1300)\ttotal: 55.3s\tremaining: 8m\n",
            "1400:\tlearn: 7.4229997\ttest: 7.8517055\tbest: 7.8517055 (1400)\ttotal: 1m\tremaining: 8m 3s\n",
            "1500:\tlearn: 7.3950960\ttest: 7.8506748\tbest: 7.8506624 (1496)\ttotal: 1m 8s\tremaining: 8m 26s\n",
            "1600:\tlearn: 7.3678813\ttest: 7.8494095\tbest: 7.8494095 (1600)\ttotal: 1m 15s\tremaining: 8m 38s\n",
            "1700:\tlearn: 7.3394012\ttest: 7.8483995\tbest: 7.8483591 (1695)\ttotal: 1m 20s\tremaining: 8m 38s\n",
            "1800:\tlearn: 7.3126965\ttest: 7.8474939\tbest: 7.8474939 (1800)\ttotal: 1m 25s\tremaining: 8m 34s\n",
            "1900:\tlearn: 7.2851956\ttest: 7.8470236\tbest: 7.8470236 (1900)\ttotal: 1m 31s\tremaining: 8m 35s\n",
            "2000:\tlearn: 7.2581451\ttest: 7.8463141\tbest: 7.8463141 (2000)\ttotal: 1m 34s\tremaining: 8m 19s\n",
            "2100:\tlearn: 7.2322635\ttest: 7.8460707\tbest: 7.8460343 (2056)\ttotal: 1m 40s\tremaining: 8m 20s\n",
            "2200:\tlearn: 7.2060176\ttest: 7.8457345\tbest: 7.8456905 (2190)\ttotal: 1m 45s\tremaining: 8m 21s\n",
            "2300:\tlearn: 7.1793558\ttest: 7.8447380\tbest: 7.8447380 (2300)\ttotal: 1m 52s\tremaining: 8m 24s\n",
            "2400:\tlearn: 7.1530539\ttest: 7.8445640\tbest: 7.8445223 (2356)\ttotal: 2m\tremaining: 8m 32s\n",
            "bestTest = 7.844522293\n",
            "bestIteration = 2356\n",
            "Shrink model to first 2357 iterations.\n",
            "3번째 RMSE:7.844522057926865\n",
            "0:\tlearn: 7.9395526\ttest: 7.9390157\tbest: 7.9390157 (0)\ttotal: 31.1ms\tremaining: 6m 32s\n",
            "100:\tlearn: 7.8814992\ttest: 7.9138698\tbest: 7.9138698 (100)\ttotal: 6.27s\tremaining: 12m 57s\n",
            "200:\tlearn: 7.8327489\ttest: 7.9002975\tbest: 7.9002975 (200)\ttotal: 12.9s\tremaining: 13m 18s\n",
            "300:\tlearn: 7.7886526\ttest: 7.8910981\tbest: 7.8910981 (300)\ttotal: 16.5s\tremaining: 11m 17s\n",
            "400:\tlearn: 7.7470988\ttest: 7.8836410\tbest: 7.8836410 (400)\ttotal: 20.4s\tremaining: 10m 23s\n",
            "500:\tlearn: 7.7082965\ttest: 7.8778135\tbest: 7.8778135 (500)\ttotal: 25s\tremaining: 10m 4s\n",
            "600:\tlearn: 7.6715830\ttest: 7.8729521\tbest: 7.8729521 (600)\ttotal: 32.7s\tremaining: 10m 53s\n",
            "700:\tlearn: 7.6354483\ttest: 7.8684300\tbest: 7.8684300 (700)\ttotal: 40.5s\tremaining: 11m 29s\n",
            "800:\tlearn: 7.6013377\ttest: 7.8650089\tbest: 7.8650089 (800)\ttotal: 44.1s\tremaining: 10m 51s\n",
            "900:\tlearn: 7.5694171\ttest: 7.8625130\tbest: 7.8625130 (900)\ttotal: 47.2s\tremaining: 10m 14s\n",
            "1000:\tlearn: 7.5374031\ttest: 7.8601142\tbest: 7.8601142 (1000)\ttotal: 50s\tremaining: 9m 40s\n",
            "1100:\tlearn: 7.5059776\ttest: 7.8581426\tbest: 7.8581378 (1099)\ttotal: 52.7s\tremaining: 9m 11s\n",
            "1200:\tlearn: 7.4771351\ttest: 7.8565072\tbest: 7.8565072 (1200)\ttotal: 57.1s\tremaining: 9m 2s\n",
            "1300:\tlearn: 7.4475086\ttest: 7.8545289\tbest: 7.8545289 (1300)\ttotal: 1m 2s\tremaining: 9m 5s\n",
            "1400:\tlearn: 7.4182798\ttest: 7.8533159\tbest: 7.8533140 (1398)\ttotal: 1m 5s\tremaining: 8m 44s\n",
            "1500:\tlearn: 7.3903657\ttest: 7.8520555\tbest: 7.8520516 (1499)\ttotal: 1m 10s\tremaining: 8m 39s\n",
            "1600:\tlearn: 7.3625189\ttest: 7.8508509\tbest: 7.8508509 (1600)\ttotal: 1m 13s\tremaining: 8m 23s\n",
            "1700:\tlearn: 7.3353003\ttest: 7.8502382\tbest: 7.8502382 (1700)\ttotal: 1m 15s\tremaining: 8m 6s\n",
            "1800:\tlearn: 7.3076498\ttest: 7.8491961\tbest: 7.8491570 (1797)\ttotal: 1m 18s\tremaining: 7m 52s\n",
            "1900:\tlearn: 7.2802634\ttest: 7.8487126\tbest: 7.8487002 (1896)\ttotal: 1m 25s\tremaining: 8m 1s\n",
            "2000:\tlearn: 7.2541678\ttest: 7.8480679\tbest: 7.8480173 (1996)\ttotal: 1m 32s\tremaining: 8m 9s\n",
            "2100:\tlearn: 7.2270973\ttest: 7.8474859\tbest: 7.8474859 (2100)\ttotal: 1m 37s\tremaining: 8m 9s\n",
            "2200:\tlearn: 7.2009256\ttest: 7.8470201\tbest: 7.8470157 (2199)\ttotal: 1m 42s\tremaining: 8m 4s\n",
            "2300:\tlearn: 7.1745226\ttest: 7.8467790\tbest: 7.8466811 (2247)\ttotal: 1m 48s\tremaining: 8m 8s\n",
            "bestTest = 7.846519929\n",
            "bestIteration = 2327\n",
            "Shrink model to first 2328 iterations.\n",
            "4번째 RMSE:7.846519559535756\n",
            "0:\tlearn: 7.9395967\ttest: 7.9389319\tbest: 7.9389319 (0)\ttotal: 28.4ms\tremaining: 5m 58s\n",
            "100:\tlearn: 7.8816378\ttest: 7.9131890\tbest: 7.9131890 (100)\ttotal: 6.92s\tremaining: 14m 18s\n",
            "200:\tlearn: 7.8330859\ttest: 7.8992161\tbest: 7.8992161 (200)\ttotal: 14.3s\tremaining: 14m 42s\n",
            "300:\tlearn: 7.7888366\ttest: 7.8889670\tbest: 7.8889670 (300)\ttotal: 18.4s\tremaining: 12m 33s\n",
            "400:\tlearn: 7.7483185\ttest: 7.8809292\tbest: 7.8809292 (400)\ttotal: 21.2s\tremaining: 10m 46s\n",
            "500:\tlearn: 7.7098671\ttest: 7.8740949\tbest: 7.8740949 (500)\ttotal: 24.3s\tremaining: 9m 47s\n",
            "600:\tlearn: 7.6725400\ttest: 7.8688382\tbest: 7.8688198 (599)\ttotal: 31.4s\tremaining: 10m 27s\n",
            "700:\tlearn: 7.6370996\ttest: 7.8640756\tbest: 7.8640756 (700)\ttotal: 34.8s\tremaining: 9m 52s\n",
            "800:\tlearn: 7.6032970\ttest: 7.8604462\tbest: 7.8604462 (800)\ttotal: 37.9s\tremaining: 9m 19s\n",
            "900:\tlearn: 7.5701040\ttest: 7.8575747\tbest: 7.8575747 (900)\ttotal: 41s\tremaining: 8m 53s\n",
            "1000:\tlearn: 7.5381937\ttest: 7.8549001\tbest: 7.8549001 (1000)\ttotal: 43.7s\tremaining: 8m 27s\n",
            "1100:\tlearn: 7.5075089\ttest: 7.8525996\tbest: 7.8525996 (1100)\ttotal: 48.2s\tremaining: 8m 24s\n",
            "1200:\tlearn: 7.4779820\ttest: 7.8507280\tbest: 7.8507280 (1200)\ttotal: 54s\tremaining: 8m 33s\n",
            "1300:\tlearn: 7.4487902\ttest: 7.8493407\tbest: 7.8493407 (1300)\ttotal: 58.3s\tremaining: 8m 27s\n",
            "1400:\tlearn: 7.4202241\ttest: 7.8479472\tbest: 7.8479207 (1399)\ttotal: 1m 1s\tremaining: 8m 11s\n",
            "1500:\tlearn: 7.3913162\ttest: 7.8469402\tbest: 7.8468984 (1485)\ttotal: 1m 4s\tremaining: 7m 55s\n",
            "1600:\tlearn: 7.3633301\ttest: 7.8456807\tbest: 7.8456807 (1600)\ttotal: 1m 7s\tremaining: 7m 47s\n",
            "1700:\tlearn: 7.3364831\ttest: 7.8445902\tbest: 7.8445902 (1700)\ttotal: 1m 10s\tremaining: 7m 34s\n",
            "1800:\tlearn: 7.3084602\ttest: 7.8439177\tbest: 7.8438807 (1796)\ttotal: 1m 15s\tremaining: 7m 32s\n",
            "1900:\tlearn: 7.2809471\ttest: 7.8430048\tbest: 7.8429656 (1892)\ttotal: 1m 21s\tremaining: 7m 41s\n",
            "2000:\tlearn: 7.2552677\ttest: 7.8423160\tbest: 7.8422988 (1999)\ttotal: 1m 28s\tremaining: 7m 52s\n",
            "2100:\tlearn: 7.2286240\ttest: 7.8413529\tbest: 7.8413529 (2100)\ttotal: 1m 34s\tremaining: 7m 52s\n",
            "2200:\tlearn: 7.2030122\ttest: 7.8407602\tbest: 7.8407519 (2198)\ttotal: 1m 41s\tremaining: 7m 58s\n",
            "2300:\tlearn: 7.1771216\ttest: 7.8401607\tbest: 7.8401607 (2300)\ttotal: 1m 46s\tremaining: 7m 57s\n",
            "2400:\tlearn: 7.1511482\ttest: 7.8397809\tbest: 7.8396977 (2391)\ttotal: 1m 50s\tremaining: 7m 52s\n",
            "2500:\tlearn: 7.1257098\ttest: 7.8389652\tbest: 7.8389652 (2500)\ttotal: 1m 55s\tremaining: 7m 45s\n",
            "2600:\tlearn: 7.0997694\ttest: 7.8383484\tbest: 7.8383353 (2591)\ttotal: 2m\tremaining: 7m 45s\n",
            "2700:\tlearn: 7.0750724\ttest: 7.8381063\tbest: 7.8380275 (2689)\ttotal: 2m 7s\tremaining: 7m 48s\n",
            "2800:\tlearn: 7.0489414\ttest: 7.8376546\tbest: 7.8376285 (2795)\ttotal: 2m 13s\tremaining: 7m 46s\n",
            "2900:\tlearn: 7.0244388\ttest: 7.8375098\tbest: 7.8375098 (2900)\ttotal: 2m 16s\tremaining: 7m 36s\n",
            "3000:\tlearn: 6.9995493\ttest: 7.8366849\tbest: 7.8366833 (2993)\ttotal: 2m 19s\tremaining: 7m 25s\n",
            "3100:\tlearn: 6.9746032\ttest: 7.8365659\tbest: 7.8365659 (3100)\ttotal: 2m 22s\tremaining: 7m 18s\n",
            "3200:\tlearn: 6.9494755\ttest: 7.8362896\tbest: 7.8362032 (3168)\ttotal: 2m 26s\tremaining: 7m 11s\n",
            "3300:\tlearn: 6.9250025\ttest: 7.8358570\tbest: 7.8358047 (3296)\ttotal: 2m 32s\tremaining: 7m 10s\n",
            "3400:\tlearn: 6.9002264\ttest: 7.8354400\tbest: 7.8353947 (3399)\ttotal: 2m 38s\tremaining: 7m 10s\n",
            "3500:\tlearn: 6.8756829\ttest: 7.8350523\tbest: 7.8350523 (3500)\ttotal: 2m 44s\tremaining: 7m 9s\n",
            "3600:\tlearn: 6.8513221\ttest: 7.8350769\tbest: 7.8349515 (3565)\ttotal: 2m 52s\tremaining: 7m 12s\n",
            "bestTest = 7.8349515\n",
            "bestIteration = 3565\n",
            "Shrink model to first 3566 iterations.\n",
            "5번째 RMSE:7.834951851330203\n"
          ],
          "name": "stdout"
        }
      ]
    },
    {
      "cell_type": "code",
      "metadata": {
        "colab": {
          "base_uri": "https://localhost:8080/",
          "height": 417
        },
        "id": "r7sikefec5Gq",
        "outputId": "80b8dbb5-db19-463b-93da-31edd60d444d"
      },
      "source": [
        "submit = pd.read_csv('/content/drive/MyDrive/dataset/kaggle/tabular-playground-series/2021-aug/tabular-playground-series-aug-2021_sample_submission.csv')\n",
        "submit['loss'] = preds\n",
        "submit"
      ],
      "execution_count": 27,
      "outputs": [
        {
          "output_type": "execute_result",
          "data": {
            "text/html": [
              "<div>\n",
              "<style scoped>\n",
              "    .dataframe tbody tr th:only-of-type {\n",
              "        vertical-align: middle;\n",
              "    }\n",
              "\n",
              "    .dataframe tbody tr th {\n",
              "        vertical-align: top;\n",
              "    }\n",
              "\n",
              "    .dataframe thead th {\n",
              "        text-align: right;\n",
              "    }\n",
              "</style>\n",
              "<table border=\"1\" class=\"dataframe\">\n",
              "  <thead>\n",
              "    <tr style=\"text-align: right;\">\n",
              "      <th></th>\n",
              "      <th>id</th>\n",
              "      <th>loss</th>\n",
              "    </tr>\n",
              "  </thead>\n",
              "  <tbody>\n",
              "    <tr>\n",
              "      <th>0</th>\n",
              "      <td>250000</td>\n",
              "      <td>7.818591</td>\n",
              "    </tr>\n",
              "    <tr>\n",
              "      <th>1</th>\n",
              "      <td>250001</td>\n",
              "      <td>4.621287</td>\n",
              "    </tr>\n",
              "    <tr>\n",
              "      <th>2</th>\n",
              "      <td>250002</td>\n",
              "      <td>8.178801</td>\n",
              "    </tr>\n",
              "    <tr>\n",
              "      <th>3</th>\n",
              "      <td>250003</td>\n",
              "      <td>7.178565</td>\n",
              "    </tr>\n",
              "    <tr>\n",
              "      <th>4</th>\n",
              "      <td>250004</td>\n",
              "      <td>7.017572</td>\n",
              "    </tr>\n",
              "    <tr>\n",
              "      <th>...</th>\n",
              "      <td>...</td>\n",
              "      <td>...</td>\n",
              "    </tr>\n",
              "    <tr>\n",
              "      <th>149995</th>\n",
              "      <td>399995</td>\n",
              "      <td>7.815210</td>\n",
              "    </tr>\n",
              "    <tr>\n",
              "      <th>149996</th>\n",
              "      <td>399996</td>\n",
              "      <td>7.295158</td>\n",
              "    </tr>\n",
              "    <tr>\n",
              "      <th>149997</th>\n",
              "      <td>399997</td>\n",
              "      <td>5.840186</td>\n",
              "    </tr>\n",
              "    <tr>\n",
              "      <th>149998</th>\n",
              "      <td>399998</td>\n",
              "      <td>5.251339</td>\n",
              "    </tr>\n",
              "    <tr>\n",
              "      <th>149999</th>\n",
              "      <td>399999</td>\n",
              "      <td>6.613435</td>\n",
              "    </tr>\n",
              "  </tbody>\n",
              "</table>\n",
              "<p>150000 rows × 2 columns</p>\n",
              "</div>"
            ],
            "text/plain": [
              "            id      loss\n",
              "0       250000  7.818591\n",
              "1       250001  4.621287\n",
              "2       250002  8.178801\n",
              "3       250003  7.178565\n",
              "4       250004  7.017572\n",
              "...        ...       ...\n",
              "149995  399995  7.815210\n",
              "149996  399996  7.295158\n",
              "149997  399997  5.840186\n",
              "149998  399998  5.251339\n",
              "149999  399999  6.613435\n",
              "\n",
              "[150000 rows x 2 columns]"
            ]
          },
          "metadata": {
            "tags": []
          },
          "execution_count": 27
        }
      ]
    },
    {
      "cell_type": "code",
      "metadata": {
        "id": "y7ZoCWm2dGS5"
      },
      "source": [
        "submit.to_csv('/content/drive/MyDrive/dataset/kaggle/tabular-playground-series/2021-aug/submit3.csv', index=False)"
      ],
      "execution_count": 28,
      "outputs": []
    },
    {
      "cell_type": "markdown",
      "metadata": {
        "id": "PksB08kUWKL6"
      },
      "source": [
        "# To Do\n",
        "* optuna integration 사용 해보기\n",
        "* 다른 모델 사용"
      ]
    }
  ]
}