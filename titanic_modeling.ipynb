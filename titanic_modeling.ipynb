{
  "nbformat": 4,
  "nbformat_minor": 0,
  "metadata": {
    "colab": {
      "name": "titanic modeling.ipynb",
      "provenance": [],
      "collapsed_sections": [],
      "mount_file_id": "1lieZpOwve0UAX5P8fAcpxHZPBFm98UVp",
      "authorship_tag": "ABX9TyOCyky9suCvFuVLkh6i0btH",
      "include_colab_link": true
    },
    "kernelspec": {
      "name": "python3",
      "display_name": "Python 3"
    },
    "language_info": {
      "name": "python"
    }
  },
  "cells": [
    {
      "cell_type": "markdown",
      "metadata": {
        "id": "view-in-github",
        "colab_type": "text"
      },
      "source": [
        "<a href=\"https://colab.research.google.com/github/O-Kpy/Kaggle/blob/main/titanic_modeling.ipynb\" target=\"_parent\"><img src=\"https://colab.research.google.com/assets/colab-badge.svg\" alt=\"Open In Colab\"/></a>"
      ]
    },
    {
      "cell_type": "code",
      "metadata": {
        "id": "J_KuAR5XRA0Y"
      },
      "source": [
        "import pandas as pd\n",
        "import numpy as np\n",
        "import matplotlib.pyplot as plt\n",
        "%matplotlib inline\n",
        "import seaborn as sns\n",
        "sns.set_style('whitegrid')\n",
        "import warnings\n",
        "warnings.filterwarnings('ignore')"
      ],
      "execution_count": 1,
      "outputs": []
    },
    {
      "cell_type": "code",
      "metadata": {
        "id": "GPh31LiqSLV7"
      },
      "source": [
        "train = pd.read_csv('/content/drive/MyDrive/dataset/kaggle/titanic_train.csv')\n",
        "test = pd.read_csv('/content/drive/MyDrive/dataset/kaggle/titanic_test.csv')"
      ],
      "execution_count": 2,
      "outputs": []
    },
    {
      "cell_type": "code",
      "metadata": {
        "colab": {
          "base_uri": "https://localhost:8080/",
          "height": 195
        },
        "id": "579UvCeaSYbP",
        "outputId": "3b0df979-18be-45f3-e764-27981b4337a8"
      },
      "source": [
        "train.head()"
      ],
      "execution_count": 3,
      "outputs": [
        {
          "output_type": "execute_result",
          "data": {
            "text/html": [
              "<div>\n",
              "<style scoped>\n",
              "    .dataframe tbody tr th:only-of-type {\n",
              "        vertical-align: middle;\n",
              "    }\n",
              "\n",
              "    .dataframe tbody tr th {\n",
              "        vertical-align: top;\n",
              "    }\n",
              "\n",
              "    .dataframe thead th {\n",
              "        text-align: right;\n",
              "    }\n",
              "</style>\n",
              "<table border=\"1\" class=\"dataframe\">\n",
              "  <thead>\n",
              "    <tr style=\"text-align: right;\">\n",
              "      <th></th>\n",
              "      <th>PassengerId</th>\n",
              "      <th>Survived</th>\n",
              "      <th>Pclass</th>\n",
              "      <th>Name</th>\n",
              "      <th>Sex</th>\n",
              "      <th>Age</th>\n",
              "      <th>SibSp</th>\n",
              "      <th>Parch</th>\n",
              "      <th>Ticket</th>\n",
              "      <th>Fare</th>\n",
              "      <th>Cabin</th>\n",
              "      <th>Embarked</th>\n",
              "    </tr>\n",
              "  </thead>\n",
              "  <tbody>\n",
              "    <tr>\n",
              "      <th>0</th>\n",
              "      <td>1</td>\n",
              "      <td>0</td>\n",
              "      <td>3</td>\n",
              "      <td>Braund, Mr. Owen Harris</td>\n",
              "      <td>male</td>\n",
              "      <td>22.0</td>\n",
              "      <td>1</td>\n",
              "      <td>0</td>\n",
              "      <td>A/5 21171</td>\n",
              "      <td>7.2500</td>\n",
              "      <td>NaN</td>\n",
              "      <td>S</td>\n",
              "    </tr>\n",
              "    <tr>\n",
              "      <th>1</th>\n",
              "      <td>2</td>\n",
              "      <td>1</td>\n",
              "      <td>1</td>\n",
              "      <td>Cumings, Mrs. John Bradley (Florence Briggs Th...</td>\n",
              "      <td>female</td>\n",
              "      <td>38.0</td>\n",
              "      <td>1</td>\n",
              "      <td>0</td>\n",
              "      <td>PC 17599</td>\n",
              "      <td>71.2833</td>\n",
              "      <td>C85</td>\n",
              "      <td>C</td>\n",
              "    </tr>\n",
              "    <tr>\n",
              "      <th>2</th>\n",
              "      <td>3</td>\n",
              "      <td>1</td>\n",
              "      <td>3</td>\n",
              "      <td>Heikkinen, Miss. Laina</td>\n",
              "      <td>female</td>\n",
              "      <td>26.0</td>\n",
              "      <td>0</td>\n",
              "      <td>0</td>\n",
              "      <td>STON/O2. 3101282</td>\n",
              "      <td>7.9250</td>\n",
              "      <td>NaN</td>\n",
              "      <td>S</td>\n",
              "    </tr>\n",
              "    <tr>\n",
              "      <th>3</th>\n",
              "      <td>4</td>\n",
              "      <td>1</td>\n",
              "      <td>1</td>\n",
              "      <td>Futrelle, Mrs. Jacques Heath (Lily May Peel)</td>\n",
              "      <td>female</td>\n",
              "      <td>35.0</td>\n",
              "      <td>1</td>\n",
              "      <td>0</td>\n",
              "      <td>113803</td>\n",
              "      <td>53.1000</td>\n",
              "      <td>C123</td>\n",
              "      <td>S</td>\n",
              "    </tr>\n",
              "    <tr>\n",
              "      <th>4</th>\n",
              "      <td>5</td>\n",
              "      <td>0</td>\n",
              "      <td>3</td>\n",
              "      <td>Allen, Mr. William Henry</td>\n",
              "      <td>male</td>\n",
              "      <td>35.0</td>\n",
              "      <td>0</td>\n",
              "      <td>0</td>\n",
              "      <td>373450</td>\n",
              "      <td>8.0500</td>\n",
              "      <td>NaN</td>\n",
              "      <td>S</td>\n",
              "    </tr>\n",
              "  </tbody>\n",
              "</table>\n",
              "</div>"
            ],
            "text/plain": [
              "   PassengerId  Survived  Pclass  ...     Fare Cabin  Embarked\n",
              "0            1         0       3  ...   7.2500   NaN         S\n",
              "1            2         1       1  ...  71.2833   C85         C\n",
              "2            3         1       3  ...   7.9250   NaN         S\n",
              "3            4         1       1  ...  53.1000  C123         S\n",
              "4            5         0       3  ...   8.0500   NaN         S\n",
              "\n",
              "[5 rows x 12 columns]"
            ]
          },
          "metadata": {
            "tags": []
          },
          "execution_count": 3
        }
      ]
    },
    {
      "cell_type": "code",
      "metadata": {
        "colab": {
          "base_uri": "https://localhost:8080/"
        },
        "id": "8MAO_ag3SabQ",
        "outputId": "c4ed4abe-f3b4-49cd-c5eb-7db89af9017c"
      },
      "source": [
        "train.info()"
      ],
      "execution_count": 4,
      "outputs": [
        {
          "output_type": "stream",
          "text": [
            "<class 'pandas.core.frame.DataFrame'>\n",
            "RangeIndex: 891 entries, 0 to 890\n",
            "Data columns (total 12 columns):\n",
            " #   Column       Non-Null Count  Dtype  \n",
            "---  ------       --------------  -----  \n",
            " 0   PassengerId  891 non-null    int64  \n",
            " 1   Survived     891 non-null    int64  \n",
            " 2   Pclass       891 non-null    int64  \n",
            " 3   Name         891 non-null    object \n",
            " 4   Sex          891 non-null    object \n",
            " 5   Age          714 non-null    float64\n",
            " 6   SibSp        891 non-null    int64  \n",
            " 7   Parch        891 non-null    int64  \n",
            " 8   Ticket       891 non-null    object \n",
            " 9   Fare         891 non-null    float64\n",
            " 10  Cabin        204 non-null    object \n",
            " 11  Embarked     889 non-null    object \n",
            "dtypes: float64(2), int64(5), object(5)\n",
            "memory usage: 83.7+ KB\n"
          ],
          "name": "stdout"
        }
      ]
    },
    {
      "cell_type": "code",
      "metadata": {
        "colab": {
          "base_uri": "https://localhost:8080/"
        },
        "id": "gWNsfH4vVf4A",
        "outputId": "2d5458bf-26ad-43ba-84ba-322dbaf646d5"
      },
      "source": [
        "test.info()"
      ],
      "execution_count": 22,
      "outputs": [
        {
          "output_type": "stream",
          "text": [
            "<class 'pandas.core.frame.DataFrame'>\n",
            "RangeIndex: 418 entries, 0 to 417\n",
            "Data columns (total 12 columns):\n",
            " #   Column       Non-Null Count  Dtype  \n",
            "---  ------       --------------  -----  \n",
            " 0   PassengerId  418 non-null    int64  \n",
            " 1   Pclass       418 non-null    int64  \n",
            " 2   Name         418 non-null    object \n",
            " 3   Sex          418 non-null    object \n",
            " 4   Age          332 non-null    float64\n",
            " 5   SibSp        418 non-null    int64  \n",
            " 6   Parch        418 non-null    int64  \n",
            " 7   Ticket       418 non-null    object \n",
            " 8   Fare         417 non-null    float64\n",
            " 9   Cabin        91 non-null     object \n",
            " 10  Embarked     418 non-null    object \n",
            " 11  Title        418 non-null    object \n",
            "dtypes: float64(2), int64(4), object(6)\n",
            "memory usage: 39.3+ KB\n"
          ],
          "name": "stdout"
        }
      ]
    },
    {
      "cell_type": "code",
      "metadata": {
        "id": "XHoXpg5VSlHN"
      },
      "source": [
        "train['Title'] = train.Name.apply(lambda x: x.split(', ')[1].split('.')[0])"
      ],
      "execution_count": 9,
      "outputs": []
    },
    {
      "cell_type": "code",
      "metadata": {
        "id": "vfxyw47LTjfc"
      },
      "source": [
        "test['Title'] = test.Name.apply(lambda x: x.split(', ')[1].split('.')[0])"
      ],
      "execution_count": 11,
      "outputs": []
    },
    {
      "cell_type": "code",
      "metadata": {
        "colab": {
          "base_uri": "https://localhost:8080/"
        },
        "id": "m5bgyjIATgH3",
        "outputId": "ea74cf56-87b9-4b1c-e41b-ce4d4676ed61"
      },
      "source": [
        "train['Title'].unique()"
      ],
      "execution_count": 18,
      "outputs": [
        {
          "output_type": "execute_result",
          "data": {
            "text/plain": [
              "array(['Mr', 'Mrs', 'Miss', 'Master', 'Rare'], dtype=object)"
            ]
          },
          "metadata": {
            "tags": []
          },
          "execution_count": 18
        }
      ]
    },
    {
      "cell_type": "code",
      "metadata": {
        "colab": {
          "base_uri": "https://localhost:8080/"
        },
        "id": "7F_BSuT1TmEN",
        "outputId": "f1423e96-2659-4dec-a7f9-3ca8aa19c7d5"
      },
      "source": [
        "test['Title'].unique()"
      ],
      "execution_count": 19,
      "outputs": [
        {
          "output_type": "execute_result",
          "data": {
            "text/plain": [
              "array(['Mr', 'Mrs', 'Miss', 'Master', 'Rare'], dtype=object)"
            ]
          },
          "metadata": {
            "tags": []
          },
          "execution_count": 19
        }
      ]
    },
    {
      "cell_type": "code",
      "metadata": {
        "id": "GEG-8XZQTpQw"
      },
      "source": [
        "train['Title'].replace(['Dr','Rev','Major', 'Col', 'Jonkheer', 'Countess', 'Sir', 'Don', 'Capt', 'Dona', 'the Countess'], 'Rare', inplace=True)\n",
        "train['Title'].replace(['Mlle','Ms','Lady'], 'Miss', inplace=True)\n",
        "train['Title'].replace('Mme', 'Mrs', inplace=True)\n",
        "test['Title'].replace(['Dr','Rev','Major', 'Col', 'Jonkheer', 'Countess', 'Sir', 'Don', 'Capt', 'Dona'], 'Rare', inplace=True)\n",
        "test['Title'].replace(['Mlle','Ms','Lady'], 'Miss', inplace=True)\n",
        "test['Title'].replace('Mme', 'Mrs', inplace=True)"
      ],
      "execution_count": 17,
      "outputs": []
    },
    {
      "cell_type": "code",
      "metadata": {
        "colab": {
          "base_uri": "https://localhost:8080/",
          "height": 282
        },
        "id": "tOOM1TAaVFur",
        "outputId": "49de1f71-a21a-467e-8f89-528d74c77e79"
      },
      "source": [
        "train.Survived.hist()"
      ],
      "execution_count": 21,
      "outputs": [
        {
          "output_type": "execute_result",
          "data": {
            "text/plain": [
              "<matplotlib.axes._subplots.AxesSubplot at 0x7f3845f78f10>"
            ]
          },
          "metadata": {
            "tags": []
          },
          "execution_count": 21
        },
        {
          "output_type": "display_data",
          "data": {
            "image/png": "[encoded data removed]",
            "text/plain": [
              "<Figure size 432x288 with 1 Axes>"
            ]
          },
          "metadata": {
            "tags": [],
            "needs_background": "light"
          }
        }
      ]
    },
    {
      "cell_type": "code",
      "metadata": {
        "id": "xDRaAvRXX1oQ"
      },
      "source": [
        "def missing(data):\n",
        "  missing_sum = data.isnull().sum()\n",
        "  missing_percent = round(missing_sum/len(data)*100, 2)\n",
        "\n",
        "  missing_table = pd.concat([missing_sum, missing_percent], axis=1, keys=['Sum', 'Percent']).sort_values(by='Percent', ascending=False)\n",
        "  return missing_table"
      ],
      "execution_count": 31,
      "outputs": []
    },
    {
      "cell_type": "code",
      "metadata": {
        "colab": {
          "base_uri": "https://localhost:8080/",
          "height": 314
        },
        "id": "2LhfxUK1Zjh8",
        "outputId": "dc77eada-1072-401e-aeb1-c23198e6c47e"
      },
      "source": [
        "missing(train)"
      ],
      "execution_count": 129,
      "outputs": [
        {
          "output_type": "execute_result",
          "data": {
            "text/html": [
              "<div>\n",
              "<style scoped>\n",
              "    .dataframe tbody tr th:only-of-type {\n",
              "        vertical-align: middle;\n",
              "    }\n",
              "\n",
              "    .dataframe tbody tr th {\n",
              "        vertical-align: top;\n",
              "    }\n",
              "\n",
              "    .dataframe thead th {\n",
              "        text-align: right;\n",
              "    }\n",
              "</style>\n",
              "<table border=\"1\" class=\"dataframe\">\n",
              "  <thead>\n",
              "    <tr style=\"text-align: right;\">\n",
              "      <th></th>\n",
              "      <th>Sum</th>\n",
              "      <th>Percent</th>\n",
              "    </tr>\n",
              "  </thead>\n",
              "  <tbody>\n",
              "    <tr>\n",
              "      <th>Survived</th>\n",
              "      <td>0</td>\n",
              "      <td>0.0</td>\n",
              "    </tr>\n",
              "    <tr>\n",
              "      <th>Age</th>\n",
              "      <td>0</td>\n",
              "      <td>0.0</td>\n",
              "    </tr>\n",
              "    <tr>\n",
              "      <th>Pclass</th>\n",
              "      <td>0</td>\n",
              "      <td>0.0</td>\n",
              "    </tr>\n",
              "    <tr>\n",
              "      <th>Sex</th>\n",
              "      <td>0</td>\n",
              "      <td>0.0</td>\n",
              "    </tr>\n",
              "    <tr>\n",
              "      <th>SibSp</th>\n",
              "      <td>0</td>\n",
              "      <td>0.0</td>\n",
              "    </tr>\n",
              "    <tr>\n",
              "      <th>Parch</th>\n",
              "      <td>0</td>\n",
              "      <td>0.0</td>\n",
              "    </tr>\n",
              "    <tr>\n",
              "      <th>Fare</th>\n",
              "      <td>0</td>\n",
              "      <td>0.0</td>\n",
              "    </tr>\n",
              "    <tr>\n",
              "      <th>Embarked</th>\n",
              "      <td>0</td>\n",
              "      <td>0.0</td>\n",
              "    </tr>\n",
              "    <tr>\n",
              "      <th>Title</th>\n",
              "      <td>0</td>\n",
              "      <td>0.0</td>\n",
              "    </tr>\n",
              "  </tbody>\n",
              "</table>\n",
              "</div>"
            ],
            "text/plain": [
              "          Sum  Percent\n",
              "Survived    0      0.0\n",
              "Age         0      0.0\n",
              "Pclass      0      0.0\n",
              "Sex         0      0.0\n",
              "SibSp       0      0.0\n",
              "Parch       0      0.0\n",
              "Fare        0      0.0\n",
              "Embarked    0      0.0\n",
              "Title       0      0.0"
            ]
          },
          "metadata": {
            "tags": []
          },
          "execution_count": 129
        }
      ]
    },
    {
      "cell_type": "code",
      "metadata": {
        "colab": {
          "base_uri": "https://localhost:8080/",
          "height": 284
        },
        "id": "a5WCbQQ0a7Zk",
        "outputId": "6093e88e-7c87-4ed8-a2cb-791c3d6da2b2"
      },
      "source": [
        "missing(test)"
      ],
      "execution_count": 130,
      "outputs": [
        {
          "output_type": "execute_result",
          "data": {
            "text/html": [
              "<div>\n",
              "<style scoped>\n",
              "    .dataframe tbody tr th:only-of-type {\n",
              "        vertical-align: middle;\n",
              "    }\n",
              "\n",
              "    .dataframe tbody tr th {\n",
              "        vertical-align: top;\n",
              "    }\n",
              "\n",
              "    .dataframe thead th {\n",
              "        text-align: right;\n",
              "    }\n",
              "</style>\n",
              "<table border=\"1\" class=\"dataframe\">\n",
              "  <thead>\n",
              "    <tr style=\"text-align: right;\">\n",
              "      <th></th>\n",
              "      <th>Sum</th>\n",
              "      <th>Percent</th>\n",
              "    </tr>\n",
              "  </thead>\n",
              "  <tbody>\n",
              "    <tr>\n",
              "      <th>Age</th>\n",
              "      <td>0</td>\n",
              "      <td>0.0</td>\n",
              "    </tr>\n",
              "    <tr>\n",
              "      <th>Pclass</th>\n",
              "      <td>0</td>\n",
              "      <td>0.0</td>\n",
              "    </tr>\n",
              "    <tr>\n",
              "      <th>Sex</th>\n",
              "      <td>0</td>\n",
              "      <td>0.0</td>\n",
              "    </tr>\n",
              "    <tr>\n",
              "      <th>SibSp</th>\n",
              "      <td>0</td>\n",
              "      <td>0.0</td>\n",
              "    </tr>\n",
              "    <tr>\n",
              "      <th>Parch</th>\n",
              "      <td>0</td>\n",
              "      <td>0.0</td>\n",
              "    </tr>\n",
              "    <tr>\n",
              "      <th>Fare</th>\n",
              "      <td>0</td>\n",
              "      <td>0.0</td>\n",
              "    </tr>\n",
              "    <tr>\n",
              "      <th>Embarked</th>\n",
              "      <td>0</td>\n",
              "      <td>0.0</td>\n",
              "    </tr>\n",
              "    <tr>\n",
              "      <th>Title</th>\n",
              "      <td>0</td>\n",
              "      <td>0.0</td>\n",
              "    </tr>\n",
              "  </tbody>\n",
              "</table>\n",
              "</div>"
            ],
            "text/plain": [
              "          Sum  Percent\n",
              "Age         0      0.0\n",
              "Pclass      0      0.0\n",
              "Sex         0      0.0\n",
              "SibSp       0      0.0\n",
              "Parch       0      0.0\n",
              "Fare        0      0.0\n",
              "Embarked    0      0.0\n",
              "Title       0      0.0"
            ]
          },
          "metadata": {
            "tags": []
          },
          "execution_count": 130
        }
      ]
    },
    {
      "cell_type": "code",
      "metadata": {
        "colab": {
          "base_uri": "https://localhost:8080/",
          "height": 106
        },
        "id": "AQE7YEMZZzpg",
        "outputId": "179231e0-c354-45af-8b65-c1339a74b2c9"
      },
      "source": [
        "train[train.Embarked.isnull()]"
      ],
      "execution_count": 33,
      "outputs": [
        {
          "output_type": "execute_result",
          "data": {
            "text/html": [
              "<div>\n",
              "<style scoped>\n",
              "    .dataframe tbody tr th:only-of-type {\n",
              "        vertical-align: middle;\n",
              "    }\n",
              "\n",
              "    .dataframe tbody tr th {\n",
              "        vertical-align: top;\n",
              "    }\n",
              "\n",
              "    .dataframe thead th {\n",
              "        text-align: right;\n",
              "    }\n",
              "</style>\n",
              "<table border=\"1\" class=\"dataframe\">\n",
              "  <thead>\n",
              "    <tr style=\"text-align: right;\">\n",
              "      <th></th>\n",
              "      <th>PassengerId</th>\n",
              "      <th>Survived</th>\n",
              "      <th>Pclass</th>\n",
              "      <th>Name</th>\n",
              "      <th>Sex</th>\n",
              "      <th>Age</th>\n",
              "      <th>SibSp</th>\n",
              "      <th>Parch</th>\n",
              "      <th>Ticket</th>\n",
              "      <th>Fare</th>\n",
              "      <th>Cabin</th>\n",
              "      <th>Embarked</th>\n",
              "      <th>Title</th>\n",
              "    </tr>\n",
              "  </thead>\n",
              "  <tbody>\n",
              "    <tr>\n",
              "      <th>61</th>\n",
              "      <td>62</td>\n",
              "      <td>1</td>\n",
              "      <td>1</td>\n",
              "      <td>Icard, Miss. Amelie</td>\n",
              "      <td>female</td>\n",
              "      <td>38.0</td>\n",
              "      <td>0</td>\n",
              "      <td>0</td>\n",
              "      <td>113572</td>\n",
              "      <td>80.0</td>\n",
              "      <td>B28</td>\n",
              "      <td>NaN</td>\n",
              "      <td>Miss</td>\n",
              "    </tr>\n",
              "    <tr>\n",
              "      <th>829</th>\n",
              "      <td>830</td>\n",
              "      <td>1</td>\n",
              "      <td>1</td>\n",
              "      <td>Stone, Mrs. George Nelson (Martha Evelyn)</td>\n",
              "      <td>female</td>\n",
              "      <td>62.0</td>\n",
              "      <td>0</td>\n",
              "      <td>0</td>\n",
              "      <td>113572</td>\n",
              "      <td>80.0</td>\n",
              "      <td>B28</td>\n",
              "      <td>NaN</td>\n",
              "      <td>Mrs</td>\n",
              "    </tr>\n",
              "  </tbody>\n",
              "</table>\n",
              "</div>"
            ],
            "text/plain": [
              "     PassengerId  Survived  Pclass  ... Cabin Embarked  Title\n",
              "61            62         1       1  ...   B28      NaN   Miss\n",
              "829          830         1       1  ...   B28      NaN    Mrs\n",
              "\n",
              "[2 rows x 13 columns]"
            ]
          },
          "metadata": {
            "tags": []
          },
          "execution_count": 33
        }
      ]
    },
    {
      "cell_type": "code",
      "metadata": {
        "colab": {
          "base_uri": "https://localhost:8080/",
          "height": 297
        },
        "id": "SiHjHf1yZ5ia",
        "outputId": "983e3d7c-8527-475a-b293-71134e82736d"
      },
      "source": [
        "sns.boxplot(x=train['Pclass'], y=train['Fare'], hue=train['Embarked'])"
      ],
      "execution_count": 35,
      "outputs": [
        {
          "output_type": "execute_result",
          "data": {
            "text/plain": [
              "<matplotlib.axes._subplots.AxesSubplot at 0x7f383f086b90>"
            ]
          },
          "metadata": {
            "tags": []
          },
          "execution_count": 35
        },
        {
          "output_type": "display_data",
          "data": {
            "image/png": "[encoded data removed]",
            "text/plain": [
              "<Figure size 432x288 with 1 Axes>"
            ]
          },
          "metadata": {
            "tags": [],
            "needs_background": "light"
          }
        }
      ]
    },
    {
      "cell_type": "code",
      "metadata": {
        "id": "MM417FCYatLQ"
      },
      "source": [
        "train['Embarked'].fillna('C', inplace=True)"
      ],
      "execution_count": 37,
      "outputs": []
    },
    {
      "cell_type": "code",
      "metadata": {
        "colab": {
          "base_uri": "https://localhost:8080/",
          "height": 77
        },
        "id": "BOT3oLAya-dF",
        "outputId": "b26e4666-cba4-4fa9-d352-4d3c2771c7e0"
      },
      "source": [
        "test[test.Fare.isnull()]"
      ],
      "execution_count": 40,
      "outputs": [
        {
          "output_type": "execute_result",
          "data": {
            "text/html": [
              "<div>\n",
              "<style scoped>\n",
              "    .dataframe tbody tr th:only-of-type {\n",
              "        vertical-align: middle;\n",
              "    }\n",
              "\n",
              "    .dataframe tbody tr th {\n",
              "        vertical-align: top;\n",
              "    }\n",
              "\n",
              "    .dataframe thead th {\n",
              "        text-align: right;\n",
              "    }\n",
              "</style>\n",
              "<table border=\"1\" class=\"dataframe\">\n",
              "  <thead>\n",
              "    <tr style=\"text-align: right;\">\n",
              "      <th></th>\n",
              "      <th>PassengerId</th>\n",
              "      <th>Pclass</th>\n",
              "      <th>Name</th>\n",
              "      <th>Sex</th>\n",
              "      <th>Age</th>\n",
              "      <th>SibSp</th>\n",
              "      <th>Parch</th>\n",
              "      <th>Ticket</th>\n",
              "      <th>Fare</th>\n",
              "      <th>Cabin</th>\n",
              "      <th>Embarked</th>\n",
              "      <th>Title</th>\n",
              "    </tr>\n",
              "  </thead>\n",
              "  <tbody>\n",
              "    <tr>\n",
              "      <th>152</th>\n",
              "      <td>1044</td>\n",
              "      <td>3</td>\n",
              "      <td>Storey, Mr. Thomas</td>\n",
              "      <td>male</td>\n",
              "      <td>60.5</td>\n",
              "      <td>0</td>\n",
              "      <td>0</td>\n",
              "      <td>3701</td>\n",
              "      <td>NaN</td>\n",
              "      <td>NaN</td>\n",
              "      <td>S</td>\n",
              "      <td>Mr</td>\n",
              "    </tr>\n",
              "  </tbody>\n",
              "</table>\n",
              "</div>"
            ],
            "text/plain": [
              "     PassengerId  Pclass                Name   Sex  ...  Fare  Cabin  Embarked Title\n",
              "152         1044       3  Storey, Mr. Thomas  male  ...   NaN    NaN         S    Mr\n",
              "\n",
              "[1 rows x 12 columns]"
            ]
          },
          "metadata": {
            "tags": []
          },
          "execution_count": 40
        }
      ]
    },
    {
      "cell_type": "code",
      "metadata": {
        "id": "xY4NdPESbDYm"
      },
      "source": [
        "test.loc[(test['Fare'].isnull()), 'Fare'] = test[(test.Pclass==3)&(test.Embarked=='S')]['Fare'].mean()"
      ],
      "execution_count": 41,
      "outputs": []
    },
    {
      "cell_type": "code",
      "metadata": {
        "id": "Azvxt4NzeegG"
      },
      "source": [
        "train = train.drop(['Name'], axis=1)\n",
        "test = test.drop(['Name'], axis=1)"
      ],
      "execution_count": 55,
      "outputs": []
    },
    {
      "cell_type": "code",
      "metadata": {
        "id": "8rngCUQGftUf"
      },
      "source": [
        "train = train.drop(['Ticket'], axis=1)\n",
        "test = test.drop(['Ticket'], axis=1)"
      ],
      "execution_count": 59,
      "outputs": []
    },
    {
      "cell_type": "code",
      "metadata": {
        "id": "3CtAGFaRf6NF"
      },
      "source": [
        "from sklearn.preprocessing import LabelEncoder"
      ],
      "execution_count": 62,
      "outputs": []
    },
    {
      "cell_type": "code",
      "metadata": {
        "id": "2gT7I7PYfEdu"
      },
      "source": [
        "for i in train.select_dtypes(include='object').columns:\n",
        "  encoders = LabelEncoder()\n",
        "  train[i] = encoders.fit_transform(train[i])"
      ],
      "execution_count": 73,
      "outputs": []
    },
    {
      "cell_type": "code",
      "metadata": {
        "id": "8ioJ0y8ZgKki"
      },
      "source": [
        "for i in test.select_dtypes(include='object').columns:\n",
        "  encoders = LabelEncoder()\n",
        "  test[i] = encoders.fit_transform(test[i])"
      ],
      "execution_count": 75,
      "outputs": []
    },
    {
      "cell_type": "code",
      "metadata": {
        "id": "MFI3gDt3fLNe"
      },
      "source": [
        "train_Age = train.Age\n",
        "test_Age = test.Age"
      ],
      "execution_count": 83,
      "outputs": []
    },
    {
      "cell_type": "code",
      "metadata": {
        "id": "X8_5Y9B9eXUe"
      },
      "source": [
        "train = train.drop(['Age'], axis=1)\n",
        "test = test.drop(['Age'],axis=1)"
      ],
      "execution_count": 85,
      "outputs": []
    },
    {
      "cell_type": "code",
      "metadata": {
        "id": "OFi-9vrQhXlV"
      },
      "source": [
        "train = pd.concat([train_Age, train], axis=1)\n",
        "test = pd.concat([test_Age, test], axis=1)"
      ],
      "execution_count": 88,
      "outputs": []
    },
    {
      "cell_type": "code",
      "metadata": {
        "id": "lJcRsvHzhsXY"
      },
      "source": [
        "train_Survived = train.Survived"
      ],
      "execution_count": 94,
      "outputs": []
    },
    {
      "cell_type": "code",
      "metadata": {
        "id": "iR9aPZ4ZiD6n"
      },
      "source": [
        "train = train.drop(['Survived'], axis=1)"
      ],
      "execution_count": 95,
      "outputs": []
    },
    {
      "cell_type": "code",
      "metadata": {
        "id": "Jd0IR80PiH8p"
      },
      "source": [
        "train_notnull = train[train['Age'].notnull()]\n",
        "train_notnull_x = train_notnull.loc[:,'Pclass':]\n",
        "train_notnull_y = train_notnull['Age']"
      ],
      "execution_count": 97,
      "outputs": []
    },
    {
      "cell_type": "code",
      "metadata": {
        "id": "G5MypPuNi1bC"
      },
      "source": [
        "test_isnull = train[train['Age'].isnull()]\n",
        "test_isnull_x = test_isnull.loc[:,'Pclass':]\n",
        "test_isnull_y = test_isnull['Age']"
      ],
      "execution_count": 106,
      "outputs": []
    },
    {
      "cell_type": "code",
      "metadata": {
        "id": "69xWMiYkjRrC"
      },
      "source": [
        "from sklearn.model_selection import train_test_split\n",
        "from sklearn.ensemble import RandomForestClassifier, RandomForestRegressor, ExtraTreesClassifier\n",
        "from sklearn.svm import SVC\n",
        "from sklearn.tree import DecisionTreeClassifier, DecisionTreeRegressor\n",
        "from sklearn.linear_model import LogisticRegression\n",
        "import xgboost as xgb\n",
        "import lightgbm as lgbm\n",
        "from sklearn.metrics import accuracy_score, classification_report, confusion_matrix, plot_confusion_matrix, roc_auc_score, cohen_kappa_score"
      ],
      "execution_count": 173,
      "outputs": []
    },
    {
      "cell_type": "code",
      "metadata": {
        "id": "95TPF4vVjhOm"
      },
      "source": [
        "model_rf = RandomForestRegressor(n_estimators=500, n_jobs=-1)\n",
        "model_rf.fit(train_notnull_x, train_notnull_y)\n",
        "y_pred = model_rf.predict(test_isnull_x)"
      ],
      "execution_count": 116,
      "outputs": []
    },
    {
      "cell_type": "code",
      "metadata": {
        "id": "Mq20tZvRj9HB"
      },
      "source": [
        "train.loc[train.Age.isnull(), 'Age'] = y_pred"
      ],
      "execution_count": 118,
      "outputs": []
    },
    {
      "cell_type": "code",
      "metadata": {
        "id": "Cs6-myUnmiEM"
      },
      "source": [
        "test_train_notnull = test[test['Age'].notnull()]\n",
        "test_train_notnull_x = test_train_notnull.loc[:,'Pclass':]\n",
        "test_train_notnull_y = test_train_notnull['Age']\n",
        "\n",
        "test_test_isnull = test[test['Age'].isnull()]\n",
        "test_test_isnull_x = test_test_isnull.loc[:,'Pclass':]\n",
        "test_test_isnull_y = test_test_isnull['Age']\n",
        "\n",
        "model_rf.fit(test_train_notnull_x, test_train_notnull_y)\n",
        "y_pred_test = model_rf.predict(test_test_isnull_x)\n",
        "\n",
        "test.loc[test.Age.isnull(), 'Age'] = y_pred_test"
      ],
      "execution_count": 124,
      "outputs": []
    },
    {
      "cell_type": "code",
      "metadata": {
        "id": "Kp6SzMQUndsq"
      },
      "source": [
        "train = pd.concat([train_Survived, train], axis=1)"
      ],
      "execution_count": 128,
      "outputs": []
    },
    {
      "cell_type": "code",
      "metadata": {
        "id": "shYSy7txn2yB"
      },
      "source": [
        "x = train.drop(['Survived'], axis=1)\n",
        "y = train['Survived']"
      ],
      "execution_count": 131,
      "outputs": []
    },
    {
      "cell_type": "code",
      "metadata": {
        "id": "PUW22IW5tfBj"
      },
      "source": [
        "from sklearn.preprocessing import robust_scale\n",
        "x = pd.DataFrame(robust_scale(x), columns=x.columns)"
      ],
      "execution_count": 178,
      "outputs": []
    },
    {
      "cell_type": "code",
      "metadata": {
        "id": "B6oO_o7insxU"
      },
      "source": [
        "x_train, x_test, y_train, y_test = train_test_split(x, y, test_size=.25, random_state=1234)"
      ],
      "execution_count": 180,
      "outputs": []
    },
    {
      "cell_type": "code",
      "metadata": {
        "colab": {
          "base_uri": "https://localhost:8080/",
          "height": 508
        },
        "id": "4lf2NwZGoFNG",
        "outputId": "5f22a9f5-6db3-4c19-954d-6d2696b4a918"
      },
      "source": [
        "model_logistic = LogisticRegression(C=.8)\n",
        "model_logistic.fit(x_train, y_train)\n",
        "y_pred_logistic = model_logistic.predict(x_test)\n",
        "print('accuracy:', accuracy_score(y_test, y_pred_logistic))\n",
        "print('cohen_kappa_score:', cohen_kappa_score(y_test, y_pred_logistic))\n",
        "print('roc_auc_score:', roc_auc_score(y_test, y_pred_logistic))\n",
        "print(classification_report(y_test, y_pred_logistic))\n",
        "plot_confusion_matrix(model_logistic, x_test, y_test, normalize='all')"
      ],
      "execution_count": 181,
      "outputs": [
        {
          "output_type": "stream",
          "text": [
            "accuracy: 0.8026905829596412\n",
            "cohen_kappa_score: 0.5844837808079952\n",
            "roc_auc_score: 0.7872544122544124\n",
            "              precision    recall  f1-score   support\n",
            "\n",
            "           0       0.81      0.87      0.84       132\n",
            "           1       0.79      0.70      0.74        91\n",
            "\n",
            "    accuracy                           0.80       223\n",
            "   macro avg       0.80      0.79      0.79       223\n",
            "weighted avg       0.80      0.80      0.80       223\n",
            "\n"
          ],
          "name": "stdout"
        },
        {
          "output_type": "execute_result",
          "data": {
            "text/plain": [
              "<sklearn.metrics._plot.confusion_matrix.ConfusionMatrixDisplay at 0x7f383eeba490>"
            ]
          },
          "metadata": {
            "tags": []
          },
          "execution_count": 181
        },
        {
          "output_type": "display_data",
          "data": {
            "image/png": "[encoded data removed]",
            "text/plain": [
              "<Figure size 432x288 with 2 Axes>"
            ]
          },
          "metadata": {
            "tags": [],
            "needs_background": "light"
          }
        }
      ]
    },
    {
      "cell_type": "code",
      "metadata": {
        "colab": {
          "base_uri": "https://localhost:8080/",
          "height": 508
        },
        "id": "kxMLiW1xpfO9",
        "outputId": "34f51fa3-374e-4ef7-98eb-c86bf3eb0bd8"
      },
      "source": [
        "model_svc_lin = SVC(C=.8, kernel='linear', )\n",
        "model_svc_lin.fit(x_train, y_train)\n",
        "y_pred_svc_lin = model_svc_lin.predict(x_test)\n",
        "print('accuracy:', accuracy_score(y_test, y_pred_svc_lin))\n",
        "print('cohen_kappa_score:', cohen_kappa_score(y_test, y_pred_svc_lin))\n",
        "print('roc_auc_score:', roc_auc_score(y_test, y_pred_svc_lin))\n",
        "print(classification_report(y_test, y_pred_svc_lin))\n",
        "plot_confusion_matrix(model_svc_lin, x_test, y_test, normalize='all')"
      ],
      "execution_count": 182,
      "outputs": [
        {
          "output_type": "stream",
          "text": [
            "accuracy: 0.7937219730941704\n",
            "cohen_kappa_score: 0.5640829508754037\n",
            "roc_auc_score: 0.7762654012654012\n",
            "              precision    recall  f1-score   support\n",
            "\n",
            "           0       0.80      0.87      0.83       132\n",
            "           1       0.78      0.68      0.73        91\n",
            "\n",
            "    accuracy                           0.79       223\n",
            "   macro avg       0.79      0.78      0.78       223\n",
            "weighted avg       0.79      0.79      0.79       223\n",
            "\n"
          ],
          "name": "stdout"
        },
        {
          "output_type": "execute_result",
          "data": {
            "text/plain": [
              "<sklearn.metrics._plot.confusion_matrix.ConfusionMatrixDisplay at 0x7f3839210c10>"
            ]
          },
          "metadata": {
            "tags": []
          },
          "execution_count": 182
        },
        {
          "output_type": "display_data",
          "data": {
            "image/png": "[encoded data removed]",
            "text/plain": [
              "<Figure size 432x288 with 2 Axes>"
            ]
          },
          "metadata": {
            "tags": [],
            "needs_background": "light"
          }
        }
      ]
    },
    {
      "cell_type": "code",
      "metadata": {
        "colab": {
          "base_uri": "https://localhost:8080/",
          "height": 508
        },
        "id": "p1Fx6PMhp0ji",
        "outputId": "9ceeb383-1fd5-4922-f5e8-c2f62cf28ca2"
      },
      "source": [
        "model_svc_rbf = SVC(C=.8, kernel='rbf', )\n",
        "model_svc_rbf.fit(x_train, y_train)\n",
        "y_pred_svc_rbf = model_svc_rbf.predict(x_test)\n",
        "print('accuracy:', accuracy_score(y_test, y_pred_svc_rbf))\n",
        "print('cohen_kappa_score:', cohen_kappa_score(y_test, y_pred_svc_rbf))\n",
        "print('roc_auc_score:', roc_auc_score(y_test, y_pred_svc_rbf))\n",
        "print(classification_report(y_test, y_pred_svc_rbf))\n",
        "plot_confusion_matrix(model_svc_rbf, x_test, y_test, normalize='all')"
      ],
      "execution_count": 183,
      "outputs": [
        {
          "output_type": "stream",
          "text": [
            "accuracy: 0.8251121076233184\n",
            "cohen_kappa_score: 0.6348713212141568\n",
            "roc_auc_score: 0.8147269397269398\n",
            "              precision    recall  f1-score   support\n",
            "\n",
            "           0       0.84      0.87      0.86       132\n",
            "           1       0.80      0.76      0.78        91\n",
            "\n",
            "    accuracy                           0.83       223\n",
            "   macro avg       0.82      0.81      0.82       223\n",
            "weighted avg       0.82      0.83      0.82       223\n",
            "\n"
          ],
          "name": "stdout"
        },
        {
          "output_type": "execute_result",
          "data": {
            "text/plain": [
              "<sklearn.metrics._plot.confusion_matrix.ConfusionMatrixDisplay at 0x7f3839178190>"
            ]
          },
          "metadata": {
            "tags": []
          },
          "execution_count": 183
        },
        {
          "output_type": "display_data",
          "data": {
            "image/png": "[encoded data removed]",
            "text/plain": [
              "<Figure size 432x288 with 2 Axes>"
            ]
          },
          "metadata": {
            "tags": [],
            "needs_background": "light"
          }
        }
      ]
    },
    {
      "cell_type": "code",
      "metadata": {
        "colab": {
          "base_uri": "https://localhost:8080/",
          "height": 508
        },
        "id": "e4A3uXRTp9Ud",
        "outputId": "08c07afe-d23a-41c0-d4ae-55eb69d430c5"
      },
      "source": [
        "model_decision = DecisionTreeClassifier(max_depth=4)\n",
        "model_decision.fit(x_train, y_train)\n",
        "y_pred_decision = model_decision.predict(x_test)\n",
        "print('accuracy:', accuracy_score(y_test, y_pred_decision))\n",
        "print('cohen_kappa_score:', cohen_kappa_score(y_test, y_pred_decision))\n",
        "print('roc_auc_score:', roc_auc_score(y_test, y_pred_decision))\n",
        "print(classification_report(y_test, y_pred_decision))\n",
        "plot_confusion_matrix(model_decision, x_test, y_test, normalize='all')"
      ],
      "execution_count": 184,
      "outputs": [
        {
          "output_type": "stream",
          "text": [
            "accuracy: 0.8340807174887892\n",
            "cohen_kappa_score: 0.6511942506869584\n",
            "roc_auc_score: 0.8205960705960705\n",
            "              precision    recall  f1-score   support\n",
            "\n",
            "           0       0.84      0.89      0.86       132\n",
            "           1       0.83      0.75      0.79        91\n",
            "\n",
            "    accuracy                           0.83       223\n",
            "   macro avg       0.83      0.82      0.83       223\n",
            "weighted avg       0.83      0.83      0.83       223\n",
            "\n"
          ],
          "name": "stdout"
        },
        {
          "output_type": "execute_result",
          "data": {
            "text/plain": [
              "<sklearn.metrics._plot.confusion_matrix.ConfusionMatrixDisplay at 0x7f383903b190>"
            ]
          },
          "metadata": {
            "tags": []
          },
          "execution_count": 184
        },
        {
          "output_type": "display_data",
          "data": {
            "image/png": "[encoded data removed]",
            "text/plain": [
              "<Figure size 432x288 with 2 Axes>"
            ]
          },
          "metadata": {
            "tags": [],
            "needs_background": "light"
          }
        }
      ]
    },
    {
      "cell_type": "code",
      "metadata": {
        "colab": {
          "base_uri": "https://localhost:8080/",
          "height": 511
        },
        "id": "6ldm7JIVqWGg",
        "outputId": "3fb0a350-c1ca-4363-9c08-be7deb5c8a29"
      },
      "source": [
        "model_rf = RandomForestClassifier(n_estimators=100, n_jobs=-1)\n",
        "model_rf.fit(x_train, y_train)\n",
        "y_pred_rf = model_rf.predict(x_test)\n",
        "print('accuracy:', accuracy_score(y_test, y_pred_rf))\n",
        "print('cohen_kappa_score:', cohen_kappa_score(y_test, y_pred_rf))\n",
        "print('roc_auc_score:', roc_auc_score(y_test, y_pred_rf))\n",
        "print(classification_report(y_test, y_pred_rf))\n",
        "plot_confusion_matrix(model_rf, x_test, y_test, normalize='all')"
      ],
      "execution_count": 186,
      "outputs": [
        {
          "output_type": "stream",
          "text": [
            "accuracy: 0.8026905829596412\n",
            "cohen_kappa_score: 0.5887678122380553\n",
            "roc_auc_score: 0.7923742923742925\n",
            "              precision    recall  f1-score   support\n",
            "\n",
            "           0       0.82      0.85      0.84       132\n",
            "           1       0.77      0.74      0.75        91\n",
            "\n",
            "    accuracy                           0.80       223\n",
            "   macro avg       0.80      0.79      0.79       223\n",
            "weighted avg       0.80      0.80      0.80       223\n",
            "\n"
          ],
          "name": "stdout"
        },
        {
          "output_type": "execute_result",
          "data": {
            "text/plain": [
              "<sklearn.metrics._plot.confusion_matrix.ConfusionMatrixDisplay at 0x7f383a7ff250>"
            ]
          },
          "metadata": {
            "tags": []
          },
          "execution_count": 186
        },
        {
          "output_type": "display_data",
          "data": {
            "image/png": "[encoded data removed]",
            "text/plain": [
              "<Figure size 432x288 with 2 Axes>"
            ]
          },
          "metadata": {
            "tags": [],
            "needs_background": "light"
          }
        }
      ]
    },
    {
      "cell_type": "code",
      "metadata": {
        "colab": {
          "base_uri": "https://localhost:8080/",
          "height": 508
        },
        "id": "zqGiRxSeqqIR",
        "outputId": "b1a00912-4b02-45d0-a77e-00b80cfb11d6"
      },
      "source": [
        "model_xgb = xgb.XGBClassifier(n_estimators=100, n_jobs=-1)\n",
        "model_xgb.fit(x_train, y_train)\n",
        "y_pred_xgb = model_xgb.predict(x_test)\n",
        "print('accuracy:', accuracy_score(y_test, y_pred_xgb))\n",
        "print('cohen_kappa_score:', cohen_kappa_score(y_test, y_pred_xgb))\n",
        "print('roc_auc_score:', roc_auc_score(y_test, y_pred_xgb))\n",
        "print(classification_report(y_test, y_pred_xgb))\n",
        "plot_confusion_matrix(model_xgb, x_test, y_test, normalize='all')"
      ],
      "execution_count": 187,
      "outputs": [
        {
          "output_type": "stream",
          "text": [
            "accuracy: 0.8340807174887892\n",
            "cohen_kappa_score: 0.6462897072062417\n",
            "roc_auc_score: 0.8137695637695638\n",
            "              precision    recall  f1-score   support\n",
            "\n",
            "           0       0.82      0.92      0.87       132\n",
            "           1       0.86      0.70      0.78        91\n",
            "\n",
            "    accuracy                           0.83       223\n",
            "   macro avg       0.84      0.81      0.82       223\n",
            "weighted avg       0.84      0.83      0.83       223\n",
            "\n"
          ],
          "name": "stdout"
        },
        {
          "output_type": "execute_result",
          "data": {
            "text/plain": [
              "<sklearn.metrics._plot.confusion_matrix.ConfusionMatrixDisplay at 0x7f3838e9c5d0>"
            ]
          },
          "metadata": {
            "tags": []
          },
          "execution_count": 187
        },
        {
          "output_type": "display_data",
          "data": {
            "image/png": "[encoded data removed]",
            "text/plain": [
              "<Figure size 432x288 with 2 Axes>"
            ]
          },
          "metadata": {
            "tags": [],
            "needs_background": "light"
          }
        }
      ]
    },
    {
      "cell_type": "code",
      "metadata": {
        "colab": {
          "base_uri": "https://localhost:8080/",
          "height": 508
        },
        "id": "yWq3krLEtN2h",
        "outputId": "84403b19-ab24-43db-da50-02a05fbb4cc2"
      },
      "source": [
        "model_extra = ExtraTreesClassifier()\n",
        "model_extra.fit(x_train, y_train)\n",
        "y_pred_extra = model_extra.predict(x_test)\n",
        "print('accuracy:', accuracy_score(y_test, y_pred_extra))\n",
        "print('cohen_kappa_score:', cohen_kappa_score(y_test, y_pred_extra))\n",
        "print('roc_auc_score:', roc_auc_score(y_test, y_pred_extra))\n",
        "print(classification_report(y_test, y_pred_extra))\n",
        "plot_confusion_matrix(model_extra, x_test, y_test, normalize='all')"
      ],
      "execution_count": 188,
      "outputs": [
        {
          "output_type": "stream",
          "text": [
            "accuracy: 0.7982062780269058\n",
            "cohen_kappa_score: 0.58014309024727\n",
            "roc_auc_score: 0.7885864135864136\n",
            "              precision    recall  f1-score   support\n",
            "\n",
            "           0       0.82      0.84      0.83       132\n",
            "           1       0.76      0.74      0.75        91\n",
            "\n",
            "    accuracy                           0.80       223\n",
            "   macro avg       0.79      0.79      0.79       223\n",
            "weighted avg       0.80      0.80      0.80       223\n",
            "\n"
          ],
          "name": "stdout"
        },
        {
          "output_type": "execute_result",
          "data": {
            "text/plain": [
              "<sklearn.metrics._plot.confusion_matrix.ConfusionMatrixDisplay at 0x7f383b2e1650>"
            ]
          },
          "metadata": {
            "tags": []
          },
          "execution_count": 188
        },
        {
          "output_type": "display_data",
          "data": {
            "image/png": "[encoded data removed]",
            "text/plain": [
              "<Figure size 432x288 with 2 Axes>"
            ]
          },
          "metadata": {
            "tags": [],
            "needs_background": "light"
          }
        }
      ]
    }
  ]
}