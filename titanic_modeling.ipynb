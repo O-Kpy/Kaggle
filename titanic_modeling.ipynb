{
  "nbformat": 4,
  "nbformat_minor": 0,
  "metadata": {
    "colab": {
      "name": "titanic modeling.ipynb",
      "provenance": [],
      "collapsed_sections": [],
      "mount_file_id": "1lieZpOwve0UAX5P8fAcpxHZPBFm98UVp",
      "authorship_tag": "ABX9TyN1MsPjwynK/jGOS6h4apD6",
      "include_colab_link": true
    },
    "kernelspec": {
      "name": "python3",
      "display_name": "Python 3"
    },
    "language_info": {
      "name": "python"
    }
  },
  "cells": [
    {
      "cell_type": "markdown",
      "metadata": {
        "id": "view-in-github",
        "colab_type": "text"
      },
      "source": [
        "<a href=\"https://colab.research.google.com/github/O-Kpy/Kaggle/blob/main/titanic_modeling.ipynb\" target=\"_parent\"><img src=\"https://colab.research.google.com/assets/colab-badge.svg\" alt=\"Open In Colab\"/></a>"
      ]
    },
    {
      "cell_type": "code",
      "metadata": {
        "id": "J_KuAR5XRA0Y"
      },
      "source": [
        "import pandas as pd\n",
        "import numpy as np\n",
        "import matplotlib.pyplot as plt\n",
        "%matplotlib inline\n",
        "import seaborn as sns\n",
        "sns.set_style('whitegrid')\n",
        "import warnings\n",
        "warnings.filterwarnings('ignore')"
      ],
      "execution_count": 2,
      "outputs": []
    },
    {
      "cell_type": "code",
      "metadata": {
        "id": "GPh31LiqSLV7"
      },
      "source": [
        "train = pd.read_csv('/content/drive/MyDrive/dataset/kaggle/titanic_train.csv')\n",
        "test = pd.read_csv('/content/drive/MyDrive/dataset/kaggle/titanic_test.csv')\n",
        "submit = pd.read_csv('/content/drive/MyDrive/dataset/kaggle/gender_submission.csv')"
      ],
      "execution_count": 583,
      "outputs": []
    },
    {
      "cell_type": "code",
      "metadata": {
        "colab": {
          "base_uri": "https://localhost:8080/"
        },
        "id": "579UvCeaSYbP",
        "outputId": "8f38a0ba-eda2-41ef-c7ec-3b16f9fe00c1"
      },
      "source": [
        "train.head()"
      ],
      "execution_count": 35,
      "outputs": [
        {
          "output_type": "execute_result",
          "data": {
            "text/plain": [
              "0    523\n",
              "1    596\n",
              "2    669\n",
              "3     49\n",
              "4    472\n",
              "Name: Ticket, dtype: object"
            ]
          },
          "metadata": {
            "tags": []
          },
          "execution_count": 35
        }
      ]
    },
    {
      "cell_type": "code",
      "metadata": {
        "colab": {
          "base_uri": "https://localhost:8080/"
        },
        "id": "8MAO_ag3SabQ",
        "outputId": "cd9f0d4d-7166-46c1-f881-9694d5038dfc"
      },
      "source": [
        "train.info()"
      ],
      "execution_count": 28,
      "outputs": [
        {
          "output_type": "stream",
          "text": [
            "<class 'pandas.core.frame.DataFrame'>\n",
            "RangeIndex: 891 entries, 0 to 890\n",
            "Data columns (total 12 columns):\n",
            " #   Column       Non-Null Count  Dtype  \n",
            "---  ------       --------------  -----  \n",
            " 0   PassengerId  891 non-null    int64  \n",
            " 1   Survived     891 non-null    int64  \n",
            " 2   Pclass       891 non-null    int64  \n",
            " 3   Sex          891 non-null    int64  \n",
            " 4   Age          714 non-null    float64\n",
            " 5   SibSp        891 non-null    int64  \n",
            " 6   Parch        891 non-null    int64  \n",
            " 7   Ticket       891 non-null    int64  \n",
            " 8   Fare         891 non-null    float64\n",
            " 9   Cabin        204 non-null    object \n",
            " 10  Embarked     891 non-null    object \n",
            " 11  Title        891 non-null    object \n",
            "dtypes: float64(2), int64(7), object(3)\n",
            "memory usage: 83.7+ KB\n"
          ],
          "name": "stdout"
        }
      ]
    },
    {
      "cell_type": "code",
      "metadata": {
        "colab": {
          "base_uri": "https://localhost:8080/"
        },
        "id": "gWNsfH4vVf4A",
        "outputId": "a45f5dc8-7551-4a6f-9e88-52385836a606"
      },
      "source": [
        "test.info()"
      ],
      "execution_count": 27,
      "outputs": [
        {
          "output_type": "stream",
          "text": [
            "<class 'pandas.core.frame.DataFrame'>\n",
            "RangeIndex: 418 entries, 0 to 417\n",
            "Data columns (total 11 columns):\n",
            " #   Column       Non-Null Count  Dtype  \n",
            "---  ------       --------------  -----  \n",
            " 0   PassengerId  418 non-null    int64  \n",
            " 1   Pclass       418 non-null    int64  \n",
            " 2   Sex          418 non-null    object \n",
            " 3   Age          332 non-null    float64\n",
            " 4   SibSp        418 non-null    int64  \n",
            " 5   Parch        418 non-null    int64  \n",
            " 6   Ticket       418 non-null    object \n",
            " 7   Fare         418 non-null    float64\n",
            " 8   Cabin        91 non-null     object \n",
            " 9   Embarked     418 non-null    object \n",
            " 10  Title        418 non-null    object \n",
            "dtypes: float64(2), int64(4), object(5)\n",
            "memory usage: 36.0+ KB\n"
          ],
          "name": "stdout"
        }
      ]
    },
    {
      "cell_type": "code",
      "metadata": {
        "id": "XHoXpg5VSlHN"
      },
      "source": [
        "train['Title'] = train.Name.apply(lambda x: x.split(', ')[1].split('.')[0])"
      ],
      "execution_count": 584,
      "outputs": []
    },
    {
      "cell_type": "code",
      "metadata": {
        "id": "vfxyw47LTjfc"
      },
      "source": [
        "test['Title'] = test.Name.apply(lambda x: x.split(', ')[1].split('.')[0])"
      ],
      "execution_count": 585,
      "outputs": []
    },
    {
      "cell_type": "code",
      "metadata": {
        "colab": {
          "base_uri": "https://localhost:8080/"
        },
        "id": "m5bgyjIATgH3",
        "outputId": "5ad9a789-b2bc-429d-b829-832b131484f7"
      },
      "source": [
        "train['Title'].unique()"
      ],
      "execution_count": 512,
      "outputs": [
        {
          "output_type": "execute_result",
          "data": {
            "text/plain": [
              "array(['Mr', 'Mrs', 'Miss', 'Master', 'Don', 'Rev', 'Dr', 'Mme', 'Ms',\n",
              "       'Major', 'Lady', 'Sir', 'Mlle', 'Col', 'Capt', 'the Countess',\n",
              "       'Jonkheer'], dtype=object)"
            ]
          },
          "metadata": {
            "tags": []
          },
          "execution_count": 512
        }
      ]
    },
    {
      "cell_type": "code",
      "metadata": {
        "colab": {
          "base_uri": "https://localhost:8080/"
        },
        "id": "7F_BSuT1TmEN",
        "outputId": "24d12922-385a-4eb2-c99d-8c0e74ed39d3"
      },
      "source": [
        "test['Title'].unique()"
      ],
      "execution_count": 513,
      "outputs": [
        {
          "output_type": "execute_result",
          "data": {
            "text/plain": [
              "array(['Mr', 'Mrs', 'Miss', 'Master', 'Ms', 'Col', 'Rev', 'Dr', 'Dona'],\n",
              "      dtype=object)"
            ]
          },
          "metadata": {
            "tags": []
          },
          "execution_count": 513
        }
      ]
    },
    {
      "cell_type": "code",
      "metadata": {
        "id": "GEG-8XZQTpQw"
      },
      "source": [
        "train['Title'].replace(['Dr','Rev','Major', 'Col', 'Jonkheer', 'Countess', 'Sir', 'Don', 'Capt', 'Dona', 'the Countess'], 'Rare', inplace=True)\n",
        "train['Title'].replace(['Mlle','Ms','Lady'], 'Miss', inplace=True)\n",
        "train['Title'].replace('Mme', 'Mrs', inplace=True)\n",
        "test['Title'].replace(['Dr','Rev','Major', 'Col', 'Jonkheer', 'Countess', 'Sir', 'Don', 'Capt', 'Dona'], 'Rare', inplace=True)\n",
        "test['Title'].replace(['Mlle','Ms','Lady'], 'Miss', inplace=True)\n",
        "test['Title'].replace('Mme', 'Mrs', inplace=True)"
      ],
      "execution_count": 586,
      "outputs": []
    },
    {
      "cell_type": "code",
      "metadata": {
        "colab": {
          "base_uri": "https://localhost:8080/",
          "height": 282
        },
        "id": "tOOM1TAaVFur",
        "outputId": "c5d793e1-acef-467f-c055-2ed2986a8452"
      },
      "source": [
        "train.Survived.hist()"
      ],
      "execution_count": 44,
      "outputs": [
        {
          "output_type": "execute_result",
          "data": {
            "text/plain": [
              "<matplotlib.axes._subplots.AxesSubplot at 0x7f428c224e50>"
            ]
          },
          "metadata": {
            "tags": []
          },
          "execution_count": 44
        },
        {
          "output_type": "display_data",
          "data": {
            "image/png": "[encoded data removed]",
            "text/plain": [
              "<Figure size 432x288 with 1 Axes>"
            ]
          },
          "metadata": {
            "tags": []
          }
        }
      ]
    },
    {
      "cell_type": "code",
      "metadata": {
        "id": "xDRaAvRXX1oQ"
      },
      "source": [
        "def missing(data):\n",
        "  missing_sum = data.isnull().sum()\n",
        "  missing_percent = round(missing_sum/len(data)*100, 2)\n",
        "\n",
        "  missing_table = pd.concat([missing_sum, missing_percent], axis=1, keys=['Sum', 'Percent']).sort_values(by='Percent', ascending=False)\n",
        "  return missing_table"
      ],
      "execution_count": 515,
      "outputs": []
    },
    {
      "cell_type": "code",
      "metadata": {
        "colab": {
          "base_uri": "https://localhost:8080/",
          "height": 373
        },
        "id": "2LhfxUK1Zjh8",
        "outputId": "ef5b27ae-1dc9-4e93-df49-8e59ac9dada5"
      },
      "source": [
        "missing(train)"
      ],
      "execution_count": 56,
      "outputs": [
        {
          "output_type": "execute_result",
          "data": {
            "text/html": [
              "<div>\n",
              "<style scoped>\n",
              "    .dataframe tbody tr th:only-of-type {\n",
              "        vertical-align: middle;\n",
              "    }\n",
              "\n",
              "    .dataframe tbody tr th {\n",
              "        vertical-align: top;\n",
              "    }\n",
              "\n",
              "    .dataframe thead th {\n",
              "        text-align: right;\n",
              "    }\n",
              "</style>\n",
              "<table border=\"1\" class=\"dataframe\">\n",
              "  <thead>\n",
              "    <tr style=\"text-align: right;\">\n",
              "      <th></th>\n",
              "      <th>Sum</th>\n",
              "      <th>Percent</th>\n",
              "    </tr>\n",
              "  </thead>\n",
              "  <tbody>\n",
              "    <tr>\n",
              "      <th>Age</th>\n",
              "      <td>177</td>\n",
              "      <td>19.87</td>\n",
              "    </tr>\n",
              "    <tr>\n",
              "      <th>PassengerId</th>\n",
              "      <td>0</td>\n",
              "      <td>0.00</td>\n",
              "    </tr>\n",
              "    <tr>\n",
              "      <th>Survived</th>\n",
              "      <td>0</td>\n",
              "      <td>0.00</td>\n",
              "    </tr>\n",
              "    <tr>\n",
              "      <th>Pclass</th>\n",
              "      <td>0</td>\n",
              "      <td>0.00</td>\n",
              "    </tr>\n",
              "    <tr>\n",
              "      <th>Sex</th>\n",
              "      <td>0</td>\n",
              "      <td>0.00</td>\n",
              "    </tr>\n",
              "    <tr>\n",
              "      <th>SibSp</th>\n",
              "      <td>0</td>\n",
              "      <td>0.00</td>\n",
              "    </tr>\n",
              "    <tr>\n",
              "      <th>Parch</th>\n",
              "      <td>0</td>\n",
              "      <td>0.00</td>\n",
              "    </tr>\n",
              "    <tr>\n",
              "      <th>Ticket</th>\n",
              "      <td>0</td>\n",
              "      <td>0.00</td>\n",
              "    </tr>\n",
              "    <tr>\n",
              "      <th>Fare</th>\n",
              "      <td>0</td>\n",
              "      <td>0.00</td>\n",
              "    </tr>\n",
              "    <tr>\n",
              "      <th>Embarked</th>\n",
              "      <td>0</td>\n",
              "      <td>0.00</td>\n",
              "    </tr>\n",
              "    <tr>\n",
              "      <th>Title</th>\n",
              "      <td>0</td>\n",
              "      <td>0.00</td>\n",
              "    </tr>\n",
              "  </tbody>\n",
              "</table>\n",
              "</div>"
            ],
            "text/plain": [
              "             Sum  Percent\n",
              "Age          177    19.87\n",
              "PassengerId    0     0.00\n",
              "Survived       0     0.00\n",
              "Pclass         0     0.00\n",
              "Sex            0     0.00\n",
              "SibSp          0     0.00\n",
              "Parch          0     0.00\n",
              "Ticket         0     0.00\n",
              "Fare           0     0.00\n",
              "Embarked       0     0.00\n",
              "Title          0     0.00"
            ]
          },
          "metadata": {
            "tags": []
          },
          "execution_count": 56
        }
      ]
    },
    {
      "cell_type": "code",
      "metadata": {
        "colab": {
          "base_uri": "https://localhost:8080/",
          "height": 343
        },
        "id": "a5WCbQQ0a7Zk",
        "outputId": "c9c0bfc5-3e9d-49af-cbed-e1d851043c1a"
      },
      "source": [
        "missing(test)"
      ],
      "execution_count": 57,
      "outputs": [
        {
          "output_type": "execute_result",
          "data": {
            "text/html": [
              "<div>\n",
              "<style scoped>\n",
              "    .dataframe tbody tr th:only-of-type {\n",
              "        vertical-align: middle;\n",
              "    }\n",
              "\n",
              "    .dataframe tbody tr th {\n",
              "        vertical-align: top;\n",
              "    }\n",
              "\n",
              "    .dataframe thead th {\n",
              "        text-align: right;\n",
              "    }\n",
              "</style>\n",
              "<table border=\"1\" class=\"dataframe\">\n",
              "  <thead>\n",
              "    <tr style=\"text-align: right;\">\n",
              "      <th></th>\n",
              "      <th>Sum</th>\n",
              "      <th>Percent</th>\n",
              "    </tr>\n",
              "  </thead>\n",
              "  <tbody>\n",
              "    <tr>\n",
              "      <th>Age</th>\n",
              "      <td>86</td>\n",
              "      <td>20.57</td>\n",
              "    </tr>\n",
              "    <tr>\n",
              "      <th>PassengerId</th>\n",
              "      <td>0</td>\n",
              "      <td>0.00</td>\n",
              "    </tr>\n",
              "    <tr>\n",
              "      <th>Pclass</th>\n",
              "      <td>0</td>\n",
              "      <td>0.00</td>\n",
              "    </tr>\n",
              "    <tr>\n",
              "      <th>Sex</th>\n",
              "      <td>0</td>\n",
              "      <td>0.00</td>\n",
              "    </tr>\n",
              "    <tr>\n",
              "      <th>SibSp</th>\n",
              "      <td>0</td>\n",
              "      <td>0.00</td>\n",
              "    </tr>\n",
              "    <tr>\n",
              "      <th>Parch</th>\n",
              "      <td>0</td>\n",
              "      <td>0.00</td>\n",
              "    </tr>\n",
              "    <tr>\n",
              "      <th>Ticket</th>\n",
              "      <td>0</td>\n",
              "      <td>0.00</td>\n",
              "    </tr>\n",
              "    <tr>\n",
              "      <th>Fare</th>\n",
              "      <td>0</td>\n",
              "      <td>0.00</td>\n",
              "    </tr>\n",
              "    <tr>\n",
              "      <th>Embarked</th>\n",
              "      <td>0</td>\n",
              "      <td>0.00</td>\n",
              "    </tr>\n",
              "    <tr>\n",
              "      <th>Title</th>\n",
              "      <td>0</td>\n",
              "      <td>0.00</td>\n",
              "    </tr>\n",
              "  </tbody>\n",
              "</table>\n",
              "</div>"
            ],
            "text/plain": [
              "             Sum  Percent\n",
              "Age           86    20.57\n",
              "PassengerId    0     0.00\n",
              "Pclass         0     0.00\n",
              "Sex            0     0.00\n",
              "SibSp          0     0.00\n",
              "Parch          0     0.00\n",
              "Ticket         0     0.00\n",
              "Fare           0     0.00\n",
              "Embarked       0     0.00\n",
              "Title          0     0.00"
            ]
          },
          "metadata": {
            "tags": []
          },
          "execution_count": 57
        }
      ]
    },
    {
      "cell_type": "code",
      "metadata": {
        "colab": {
          "base_uri": "https://localhost:8080/",
          "height": 47
        },
        "id": "AQE7YEMZZzpg",
        "outputId": "46daf9ea-d108-4e00-dc33-2cc397226ccb"
      },
      "source": [
        "train[train.Embarked.isnull()]"
      ],
      "execution_count": 59,
      "outputs": [
        {
          "output_type": "execute_result",
          "data": {
            "text/html": [
              "<div>\n",
              "<style scoped>\n",
              "    .dataframe tbody tr th:only-of-type {\n",
              "        vertical-align: middle;\n",
              "    }\n",
              "\n",
              "    .dataframe tbody tr th {\n",
              "        vertical-align: top;\n",
              "    }\n",
              "\n",
              "    .dataframe thead th {\n",
              "        text-align: right;\n",
              "    }\n",
              "</style>\n",
              "<table border=\"1\" class=\"dataframe\">\n",
              "  <thead>\n",
              "    <tr style=\"text-align: right;\">\n",
              "      <th></th>\n",
              "      <th>PassengerId</th>\n",
              "      <th>Survived</th>\n",
              "      <th>Pclass</th>\n",
              "      <th>Sex</th>\n",
              "      <th>Age</th>\n",
              "      <th>SibSp</th>\n",
              "      <th>Parch</th>\n",
              "      <th>Ticket</th>\n",
              "      <th>Fare</th>\n",
              "      <th>Embarked</th>\n",
              "      <th>Title</th>\n",
              "    </tr>\n",
              "  </thead>\n",
              "  <tbody>\n",
              "  </tbody>\n",
              "</table>\n",
              "</div>"
            ],
            "text/plain": [
              "Empty DataFrame\n",
              "Columns: [PassengerId, Survived, Pclass, Sex, Age, SibSp, Parch, Ticket, Fare, Embarked, Title]\n",
              "Index: []"
            ]
          },
          "metadata": {
            "tags": []
          },
          "execution_count": 59
        }
      ]
    },
    {
      "cell_type": "code",
      "metadata": {
        "colab": {
          "base_uri": "https://localhost:8080/",
          "height": 297
        },
        "id": "SiHjHf1yZ5ia",
        "outputId": "983e3d7c-8527-475a-b293-71134e82736d"
      },
      "source": [
        "sns.boxplot(x=train['Pclass'], y=train['Fare'], hue=train['Embarked'])"
      ],
      "execution_count": null,
      "outputs": [
        {
          "output_type": "execute_result",
          "data": {
            "text/plain": [
              "<matplotlib.axes._subplots.AxesSubplot at 0x7f383f086b90>"
            ]
          },
          "metadata": {
            "tags": []
          },
          "execution_count": 35
        },
        {
          "output_type": "display_data",
          "data": {
            "image/png": "[encoded data removed]",
            "text/plain": [
              "<Figure size 432x288 with 1 Axes>"
            ]
          },
          "metadata": {
            "tags": [],
            "needs_background": "light"
          }
        }
      ]
    },
    {
      "cell_type": "code",
      "metadata": {
        "id": "MM417FCYatLQ"
      },
      "source": [
        "train['Embarked'].fillna('C', inplace=True)"
      ],
      "execution_count": 587,
      "outputs": []
    },
    {
      "cell_type": "code",
      "metadata": {
        "colab": {
          "base_uri": "https://localhost:8080/",
          "height": 77
        },
        "id": "BOT3oLAya-dF",
        "outputId": "00f114c3-d285-4707-92b9-ca5c1be5e117"
      },
      "source": [
        "test[test.Fare.isnull()]"
      ],
      "execution_count": 49,
      "outputs": [
        {
          "output_type": "execute_result",
          "data": {
            "text/html": [
              "<div>\n",
              "<style scoped>\n",
              "    .dataframe tbody tr th:only-of-type {\n",
              "        vertical-align: middle;\n",
              "    }\n",
              "\n",
              "    .dataframe tbody tr th {\n",
              "        vertical-align: top;\n",
              "    }\n",
              "\n",
              "    .dataframe thead th {\n",
              "        text-align: right;\n",
              "    }\n",
              "</style>\n",
              "<table border=\"1\" class=\"dataframe\">\n",
              "  <thead>\n",
              "    <tr style=\"text-align: right;\">\n",
              "      <th></th>\n",
              "      <th>PassengerId</th>\n",
              "      <th>Pclass</th>\n",
              "      <th>Name</th>\n",
              "      <th>Sex</th>\n",
              "      <th>Age</th>\n",
              "      <th>SibSp</th>\n",
              "      <th>Parch</th>\n",
              "      <th>Ticket</th>\n",
              "      <th>Fare</th>\n",
              "      <th>Cabin</th>\n",
              "      <th>Embarked</th>\n",
              "      <th>Title</th>\n",
              "    </tr>\n",
              "  </thead>\n",
              "  <tbody>\n",
              "    <tr>\n",
              "      <th>152</th>\n",
              "      <td>1044</td>\n",
              "      <td>3</td>\n",
              "      <td>Storey, Mr. Thomas</td>\n",
              "      <td>male</td>\n",
              "      <td>60.5</td>\n",
              "      <td>0</td>\n",
              "      <td>0</td>\n",
              "      <td>3701</td>\n",
              "      <td>NaN</td>\n",
              "      <td>NaN</td>\n",
              "      <td>S</td>\n",
              "      <td>Mr</td>\n",
              "    </tr>\n",
              "  </tbody>\n",
              "</table>\n",
              "</div>"
            ],
            "text/plain": [
              "     PassengerId  Pclass                Name   Sex  ...  Fare  Cabin  Embarked Title\n",
              "152         1044       3  Storey, Mr. Thomas  male  ...   NaN    NaN         S    Mr\n",
              "\n",
              "[1 rows x 12 columns]"
            ]
          },
          "metadata": {
            "tags": []
          },
          "execution_count": 49
        }
      ]
    },
    {
      "cell_type": "code",
      "metadata": {
        "id": "xY4NdPESbDYm"
      },
      "source": [
        "test.loc[(test['Fare'].isnull()), 'Fare'] = test[(test.Pclass==3)&(test.Embarked=='S')]['Fare'].mean()"
      ],
      "execution_count": 588,
      "outputs": []
    },
    {
      "cell_type": "code",
      "metadata": {
        "id": "Azvxt4NzeegG"
      },
      "source": [
        "train = train.drop(['Name', 'Cabin'], axis=1)\n",
        "test = test.drop(['Name', 'Cabin'], axis=1)"
      ],
      "execution_count": 589,
      "outputs": []
    },
    {
      "cell_type": "code",
      "metadata": {
        "id": "JMEwCBhEyu71"
      },
      "source": [
        "train['Ticket'] = train['Ticket'].astype('str')\n",
        "test['Ticket'] = test['Ticket'].astype('str')"
      ],
      "execution_count": 590,
      "outputs": []
    },
    {
      "cell_type": "code",
      "metadata": {
        "id": "3CtAGFaRf6NF"
      },
      "source": [
        "from sklearn.preprocessing import LabelEncoder"
      ],
      "execution_count": 24,
      "outputs": []
    },
    {
      "cell_type": "code",
      "metadata": {
        "colab": {
          "base_uri": "https://localhost:8080/"
        },
        "id": "X-csNTidxgf-",
        "outputId": "b01902f3-9e2d-4a2f-a253-d1fc24d8d715"
      },
      "source": [
        "train.select_dtypes('object').columns"
      ],
      "execution_count": 53,
      "outputs": [
        {
          "output_type": "execute_result",
          "data": {
            "text/plain": [
              "Index(['Sex', 'Ticket', 'Embarked', 'Title'], dtype='object')"
            ]
          },
          "metadata": {
            "tags": []
          },
          "execution_count": 53
        }
      ]
    },
    {
      "cell_type": "code",
      "metadata": {
        "id": "2gT7I7PYfEdu"
      },
      "source": [
        "for i in train.select_dtypes(include='object').columns:\n",
        "  encoders = LabelEncoder()\n",
        "  train[i] = encoders.fit_transform(train[i])"
      ],
      "execution_count": 594,
      "outputs": []
    },
    {
      "cell_type": "code",
      "metadata": {
        "id": "8ioJ0y8ZgKki"
      },
      "source": [
        "for i in test.select_dtypes(include='object').columns:\n",
        "  encoders = LabelEncoder()\n",
        "  test[i] = encoders.fit_transform(test[i])"
      ],
      "execution_count": 593,
      "outputs": []
    },
    {
      "cell_type": "code",
      "metadata": {
        "id": "MFI3gDt3fLNe"
      },
      "source": [
        "## Age 채우기 준비\n",
        "train_Age = train.Age\n",
        "test_Age = test.Age"
      ],
      "execution_count": 595,
      "outputs": []
    },
    {
      "cell_type": "code",
      "metadata": {
        "id": "X8_5Y9B9eXUe"
      },
      "source": [
        "train = train.drop(['Age'], axis=1)\n",
        "test = test.drop(['Age'],axis=1)"
      ],
      "execution_count": 596,
      "outputs": []
    },
    {
      "cell_type": "code",
      "metadata": {
        "id": "OFi-9vrQhXlV"
      },
      "source": [
        "train = pd.concat([train_Age, train], axis=1)\n",
        "test = pd.concat([test_Age, test], axis=1)"
      ],
      "execution_count": 597,
      "outputs": []
    },
    {
      "cell_type": "code",
      "metadata": {
        "id": "lJcRsvHzhsXY"
      },
      "source": [
        "train_Survived = train.Survived"
      ],
      "execution_count": 598,
      "outputs": []
    },
    {
      "cell_type": "code",
      "metadata": {
        "id": "iR9aPZ4ZiD6n"
      },
      "source": [
        "train = train.drop(['Survived'], axis=1)"
      ],
      "execution_count": 599,
      "outputs": []
    },
    {
      "cell_type": "code",
      "metadata": {
        "id": "LvjCgU234Smp"
      },
      "source": [
        "train = pd.concat([train_Survived, train], axis=1)"
      ],
      "execution_count": 600,
      "outputs": []
    },
    {
      "cell_type": "code",
      "metadata": {
        "colab": {
          "base_uri": "https://localhost:8080/",
          "height": 402
        },
        "id": "zYLkglDZ4jGA",
        "outputId": "a79eef3d-5947-4b55-d456-ab291c2b0195"
      },
      "source": [
        "train"
      ],
      "execution_count": 136,
      "outputs": [
        {
          "output_type": "execute_result",
          "data": {
            "text/html": [
              "<div>\n",
              "<style scoped>\n",
              "    .dataframe tbody tr th:only-of-type {\n",
              "        vertical-align: middle;\n",
              "    }\n",
              "\n",
              "    .dataframe tbody tr th {\n",
              "        vertical-align: top;\n",
              "    }\n",
              "\n",
              "    .dataframe thead th {\n",
              "        text-align: right;\n",
              "    }\n",
              "</style>\n",
              "<table border=\"1\" class=\"dataframe\">\n",
              "  <thead>\n",
              "    <tr style=\"text-align: right;\">\n",
              "      <th></th>\n",
              "      <th>Survived</th>\n",
              "      <th>Survived</th>\n",
              "      <th>Age</th>\n",
              "      <th>Pclass</th>\n",
              "      <th>Sex</th>\n",
              "      <th>SibSp</th>\n",
              "      <th>Parch</th>\n",
              "      <th>Ticket</th>\n",
              "      <th>Fare</th>\n",
              "      <th>Embarked</th>\n",
              "      <th>Title</th>\n",
              "    </tr>\n",
              "  </thead>\n",
              "  <tbody>\n",
              "    <tr>\n",
              "      <th>0</th>\n",
              "      <td>0</td>\n",
              "      <td>0</td>\n",
              "      <td>22.000000</td>\n",
              "      <td>3</td>\n",
              "      <td>1</td>\n",
              "      <td>1</td>\n",
              "      <td>0</td>\n",
              "      <td>523</td>\n",
              "      <td>7.2500</td>\n",
              "      <td>2</td>\n",
              "      <td>2</td>\n",
              "    </tr>\n",
              "    <tr>\n",
              "      <th>1</th>\n",
              "      <td>1</td>\n",
              "      <td>1</td>\n",
              "      <td>38.000000</td>\n",
              "      <td>1</td>\n",
              "      <td>0</td>\n",
              "      <td>1</td>\n",
              "      <td>0</td>\n",
              "      <td>596</td>\n",
              "      <td>71.2833</td>\n",
              "      <td>0</td>\n",
              "      <td>3</td>\n",
              "    </tr>\n",
              "    <tr>\n",
              "      <th>2</th>\n",
              "      <td>1</td>\n",
              "      <td>1</td>\n",
              "      <td>26.000000</td>\n",
              "      <td>3</td>\n",
              "      <td>0</td>\n",
              "      <td>0</td>\n",
              "      <td>0</td>\n",
              "      <td>669</td>\n",
              "      <td>7.9250</td>\n",
              "      <td>2</td>\n",
              "      <td>1</td>\n",
              "    </tr>\n",
              "    <tr>\n",
              "      <th>3</th>\n",
              "      <td>1</td>\n",
              "      <td>1</td>\n",
              "      <td>35.000000</td>\n",
              "      <td>1</td>\n",
              "      <td>0</td>\n",
              "      <td>1</td>\n",
              "      <td>0</td>\n",
              "      <td>49</td>\n",
              "      <td>53.1000</td>\n",
              "      <td>2</td>\n",
              "      <td>3</td>\n",
              "    </tr>\n",
              "    <tr>\n",
              "      <th>4</th>\n",
              "      <td>0</td>\n",
              "      <td>0</td>\n",
              "      <td>35.000000</td>\n",
              "      <td>3</td>\n",
              "      <td>1</td>\n",
              "      <td>0</td>\n",
              "      <td>0</td>\n",
              "      <td>472</td>\n",
              "      <td>8.0500</td>\n",
              "      <td>2</td>\n",
              "      <td>2</td>\n",
              "    </tr>\n",
              "    <tr>\n",
              "      <th>...</th>\n",
              "      <td>...</td>\n",
              "      <td>...</td>\n",
              "      <td>...</td>\n",
              "      <td>...</td>\n",
              "      <td>...</td>\n",
              "      <td>...</td>\n",
              "      <td>...</td>\n",
              "      <td>...</td>\n",
              "      <td>...</td>\n",
              "      <td>...</td>\n",
              "      <td>...</td>\n",
              "    </tr>\n",
              "    <tr>\n",
              "      <th>886</th>\n",
              "      <td>0</td>\n",
              "      <td>0</td>\n",
              "      <td>27.000000</td>\n",
              "      <td>2</td>\n",
              "      <td>1</td>\n",
              "      <td>0</td>\n",
              "      <td>0</td>\n",
              "      <td>101</td>\n",
              "      <td>13.0000</td>\n",
              "      <td>2</td>\n",
              "      <td>4</td>\n",
              "    </tr>\n",
              "    <tr>\n",
              "      <th>887</th>\n",
              "      <td>1</td>\n",
              "      <td>1</td>\n",
              "      <td>19.000000</td>\n",
              "      <td>1</td>\n",
              "      <td>0</td>\n",
              "      <td>0</td>\n",
              "      <td>0</td>\n",
              "      <td>14</td>\n",
              "      <td>30.0000</td>\n",
              "      <td>2</td>\n",
              "      <td>1</td>\n",
              "    </tr>\n",
              "    <tr>\n",
              "      <th>888</th>\n",
              "      <td>0</td>\n",
              "      <td>0</td>\n",
              "      <td>11.797771</td>\n",
              "      <td>3</td>\n",
              "      <td>0</td>\n",
              "      <td>1</td>\n",
              "      <td>2</td>\n",
              "      <td>675</td>\n",
              "      <td>23.4500</td>\n",
              "      <td>2</td>\n",
              "      <td>1</td>\n",
              "    </tr>\n",
              "    <tr>\n",
              "      <th>889</th>\n",
              "      <td>1</td>\n",
              "      <td>1</td>\n",
              "      <td>26.000000</td>\n",
              "      <td>1</td>\n",
              "      <td>1</td>\n",
              "      <td>0</td>\n",
              "      <td>0</td>\n",
              "      <td>8</td>\n",
              "      <td>30.0000</td>\n",
              "      <td>0</td>\n",
              "      <td>2</td>\n",
              "    </tr>\n",
              "    <tr>\n",
              "      <th>890</th>\n",
              "      <td>0</td>\n",
              "      <td>0</td>\n",
              "      <td>32.000000</td>\n",
              "      <td>3</td>\n",
              "      <td>1</td>\n",
              "      <td>0</td>\n",
              "      <td>0</td>\n",
              "      <td>466</td>\n",
              "      <td>7.7500</td>\n",
              "      <td>1</td>\n",
              "      <td>2</td>\n",
              "    </tr>\n",
              "  </tbody>\n",
              "</table>\n",
              "<p>891 rows × 11 columns</p>\n",
              "</div>"
            ],
            "text/plain": [
              "     Survived  Survived        Age  Pclass  ...  Ticket     Fare  Embarked  Title\n",
              "0           0         0  22.000000       3  ...     523   7.2500         2      2\n",
              "1           1         1  38.000000       1  ...     596  71.2833         0      3\n",
              "2           1         1  26.000000       3  ...     669   7.9250         2      1\n",
              "3           1         1  35.000000       1  ...      49  53.1000         2      3\n",
              "4           0         0  35.000000       3  ...     472   8.0500         2      2\n",
              "..        ...       ...        ...     ...  ...     ...      ...       ...    ...\n",
              "886         0         0  27.000000       2  ...     101  13.0000         2      4\n",
              "887         1         1  19.000000       1  ...      14  30.0000         2      1\n",
              "888         0         0  11.797771       3  ...     675  23.4500         2      1\n",
              "889         1         1  26.000000       1  ...       8  30.0000         0      2\n",
              "890         0         0  32.000000       3  ...     466   7.7500         1      2\n",
              "\n",
              "[891 rows x 11 columns]"
            ]
          },
          "metadata": {
            "tags": []
          },
          "execution_count": 136
        }
      ]
    },
    {
      "cell_type": "code",
      "metadata": {
        "id": "Jd0IR80PiH8p"
      },
      "source": [
        "train_notnull = train[train['Age'].notnull()]\n",
        "train_notnull_x = train_notnull.loc[:,'Pclass':]\n",
        "train_notnull_y = train_notnull['Age']"
      ],
      "execution_count": 601,
      "outputs": []
    },
    {
      "cell_type": "code",
      "metadata": {
        "id": "G5MypPuNi1bC"
      },
      "source": [
        "test_isnull = train[train['Age'].isnull()]\n",
        "test_isnull_x = test_isnull.loc[:,'Pclass':]\n",
        "test_isnull_y = test_isnull['Age']"
      ],
      "execution_count": 602,
      "outputs": []
    },
    {
      "cell_type": "code",
      "metadata": {
        "id": "69xWMiYkjRrC"
      },
      "source": [
        "from sklearn.model_selection import train_test_split\n",
        "from sklearn.ensemble import RandomForestClassifier, RandomForestRegressor, ExtraTreesClassifier\n",
        "from sklearn.svm import SVC\n",
        "from sklearn.tree import DecisionTreeClassifier, DecisionTreeRegressor\n",
        "from sklearn.linear_model import LogisticRegression\n",
        "import xgboost as xgb\n",
        "import lightgbm as lgbm\n",
        "from sklearn.metrics import accuracy_score, classification_report, confusion_matrix, plot_confusion_matrix, roc_auc_score, cohen_kappa_score"
      ],
      "execution_count": 80,
      "outputs": []
    },
    {
      "cell_type": "code",
      "metadata": {
        "colab": {
          "base_uri": "https://localhost:8080/",
          "height": 282
        },
        "id": "cXx0rPUC3azt",
        "outputId": "4f4c7793-0186-4d90-d370-3ada407815d0"
      },
      "source": [
        "train_Age.hist()"
      ],
      "execution_count": 69,
      "outputs": [
        {
          "output_type": "execute_result",
          "data": {
            "text/plain": [
              "<matplotlib.axes._subplots.AxesSubplot at 0x7f427ee9c450>"
            ]
          },
          "metadata": {
            "tags": []
          },
          "execution_count": 69
        },
        {
          "output_type": "display_data",
          "data": {
            "image/png": "[encoded data removed]",
            "text/plain": [
              "<Figure size 432x288 with 1 Axes>"
            ]
          },
          "metadata": {
            "tags": []
          }
        }
      ]
    },
    {
      "cell_type": "code",
      "metadata": {
        "id": "95TPF4vVjhOm"
      },
      "source": [
        "model_rf_age = RandomForestRegressor(n_estimators=500, n_jobs=-1)\n",
        "model_rf_age.fit(train_notnull_x, train_notnull_y)\n",
        "y_pred_age = model_rf_age.predict(test_isnull_x)"
      ],
      "execution_count": 603,
      "outputs": []
    },
    {
      "cell_type": "code",
      "metadata": {
        "id": "_mmTAiEt4vag"
      },
      "source": [
        "train.loc[train.Age.isnull(), 'Age'] = y_pred"
      ],
      "execution_count": 604,
      "outputs": []
    },
    {
      "cell_type": "code",
      "metadata": {
        "id": "Cs6-myUnmiEM"
      },
      "source": [
        "test_train_notnull = test[test['Age'].notnull()]\n",
        "test_train_notnull_x = test_train_notnull.loc[:,'Pclass':]\n",
        "test_train_notnull_y = test_train_notnull['Age']\n",
        "\n",
        "test_test_isnull = test[test['Age'].isnull()]\n",
        "test_test_isnull_x = test_test_isnull.loc[:,'Pclass':]\n",
        "test_test_isnull_y = test_test_isnull['Age']\n",
        "\n",
        "model_rf_age.fit(test_train_notnull_x, test_train_notnull_y)\n",
        "y_pred_test = model_rf_age.predict(test_test_isnull_x)\n",
        "\n",
        "test.loc[test.Age.isnull(), 'Age'] = y_pred_test"
      ],
      "execution_count": 605,
      "outputs": []
    },
    {
      "cell_type": "code",
      "metadata": {
        "id": "Kp6SzMQUndsq"
      },
      "source": [
        "train = pd.concat([train_Survived, train], axis=1)"
      ],
      "execution_count": 606,
      "outputs": []
    },
    {
      "cell_type": "code",
      "metadata": {
        "colab": {
          "base_uri": "https://localhost:8080/",
          "height": 282
        },
        "id": "Id-CvA737iX6",
        "outputId": "388e8262-d2ed-4eaf-dcf3-495c70037fd5"
      },
      "source": [
        "train.Age.hist()"
      ],
      "execution_count": 115,
      "outputs": [
        {
          "output_type": "execute_result",
          "data": {
            "text/plain": [
              "<matplotlib.axes._subplots.AxesSubplot at 0x7f427cef5a90>"
            ]
          },
          "metadata": {
            "tags": []
          },
          "execution_count": 115
        },
        {
          "output_type": "display_data",
          "data": {
            "image/png": "[encoded data removed]",
            "text/plain": [
              "<Figure size 432x288 with 1 Axes>"
            ]
          },
          "metadata": {
            "tags": []
          }
        }
      ]
    },
    {
      "cell_type": "code",
      "metadata": {
        "id": "un7ubRMG7l6r"
      },
      "source": [
        "train = train.drop(['PassengerId'], axis=1)\n",
        "test = test.drop(['PassengerId'], axis=1)"
      ],
      "execution_count": 544,
      "outputs": []
    },
    {
      "cell_type": "code",
      "metadata": {
        "id": "iybfxTYy_MVP"
      },
      "source": [
        "train['Total_people'] = train['SibSp'] + train['Parch'] + 1\n",
        "test['Total_people'] = test['SibSp'] + test['Parch'] + 1"
      ],
      "execution_count": 607,
      "outputs": []
    },
    {
      "cell_type": "code",
      "metadata": {
        "id": "-v_BD-iqEzv0"
      },
      "source": [
        "train['Personal_Charges'] = train['Fare'] / train['Total_people']\n",
        "test['Personal_Charges'] = test['Fare'] / test['Total_people']"
      ],
      "execution_count": 608,
      "outputs": []
    },
    {
      "cell_type": "code",
      "metadata": {
        "id": "shYSy7txn2yB"
      },
      "source": [
        "x = train.drop(['Survived'], axis=1)\n",
        "y = train['Survived']"
      ],
      "execution_count": 616,
      "outputs": []
    },
    {
      "cell_type": "code",
      "metadata": {
        "id": "iZK-zsFsH0nF"
      },
      "source": [
        "from imblearn.over_sampling import SMOTE\n",
        "x, y = SMOTE().fit_sample(x, y)"
      ],
      "execution_count": 617,
      "outputs": []
    },
    {
      "cell_type": "code",
      "metadata": {
        "id": "PUW22IW5tfBj"
      },
      "source": [
        "from sklearn.preprocessing import robust_scale\n",
        "x = pd.DataFrame(robust_scale(x), columns=train.drop(['Survived'], axis=1).columns)"
      ],
      "execution_count": 618,
      "outputs": []
    },
    {
      "cell_type": "code",
      "metadata": {
        "id": "TigVUKhA4XvJ"
      },
      "source": [
        "test_passengerid = test['PassengerId']"
      ],
      "execution_count": 620,
      "outputs": []
    },
    {
      "cell_type": "code",
      "metadata": {
        "id": "2D-_Herk2fft"
      },
      "source": [
        "test = pd.DataFrame(robust_scale(test), columns=test.columns)"
      ],
      "execution_count": 621,
      "outputs": []
    },
    {
      "cell_type": "code",
      "metadata": {
        "id": "B6oO_o7insxU"
      },
      "source": [
        "x_train, x_test, y_train, y_test = train_test_split(x, y, test_size=.25, random_state=1234)"
      ],
      "execution_count": 461,
      "outputs": []
    },
    {
      "cell_type": "code",
      "metadata": {
        "colab": {
          "base_uri": "https://localhost:8080/",
          "height": 508
        },
        "id": "4lf2NwZGoFNG",
        "outputId": "8056f493-36db-4943-b136-9913543b1d00"
      },
      "source": [
        "model_logistic = LogisticRegression(C=.8)\n",
        "model_logistic.fit(x_train, y_train)\n",
        "y_pred_logistic = model_logistic.predict(x_test)\n",
        "print('accuracy:', accuracy_score(y_test, y_pred_logistic))\n",
        "print('cohen_kappa_score:', cohen_kappa_score(y_test, y_pred_logistic))\n",
        "print('roc_auc_score:', roc_auc_score(y_test, y_pred_logistic))\n",
        "print(classification_report(y_test, y_pred_logistic))\n",
        "plot_confusion_matrix(model_logistic, x_test, y_test, normalize='all')"
      ],
      "execution_count": 463,
      "outputs": [
        {
          "output_type": "stream",
          "text": [
            "accuracy: 0.7890909090909091\n",
            "cohen_kappa_score: 0.5785329246379876\n",
            "roc_auc_score: 0.7895418958950486\n",
            "              precision    recall  f1-score   support\n",
            "\n",
            "           0       0.76      0.83      0.80       136\n",
            "           1       0.82      0.75      0.78       139\n",
            "\n",
            "    accuracy                           0.79       275\n",
            "   macro avg       0.79      0.79      0.79       275\n",
            "weighted avg       0.79      0.79      0.79       275\n",
            "\n"
          ],
          "name": "stdout"
        },
        {
          "output_type": "execute_result",
          "data": {
            "text/plain": [
              "<sklearn.metrics._plot.confusion_matrix.ConfusionMatrixDisplay at 0x7f4277e12810>"
            ]
          },
          "metadata": {
            "tags": []
          },
          "execution_count": 463
        },
        {
          "output_type": "display_data",
          "data": {
            "image/png": "[encoded data removed]",
            "text/plain": [
              "<Figure size 432x288 with 2 Axes>"
            ]
          },
          "metadata": {
            "tags": []
          }
        }
      ]
    },
    {
      "cell_type": "code",
      "metadata": {
        "colab": {
          "base_uri": "https://localhost:8080/",
          "height": 508
        },
        "id": "kxMLiW1xpfO9",
        "outputId": "fea65283-2522-4a1e-c80d-b2c5c4c7982f"
      },
      "source": [
        "model_svc_lin = SVC(C=.8, kernel='linear', )\n",
        "model_svc_lin.fit(x_train, y_train)\n",
        "y_pred_svc_lin = model_svc_lin.predict(x_test)\n",
        "print('accuracy:', accuracy_score(y_test, y_pred_svc_lin))\n",
        "print('cohen_kappa_score:', cohen_kappa_score(y_test, y_pred_svc_lin))\n",
        "print('roc_auc_score:', roc_auc_score(y_test, y_pred_svc_lin))\n",
        "print(classification_report(y_test, y_pred_svc_lin))\n",
        "plot_confusion_matrix(model_svc_lin, x_test, y_test, normalize='all')"
      ],
      "execution_count": 464,
      "outputs": [
        {
          "output_type": "stream",
          "text": [
            "accuracy: 0.7709090909090909\n",
            "cohen_kappa_score: 0.5424534530569127\n",
            "roc_auc_score: 0.7716356326703344\n",
            "              precision    recall  f1-score   support\n",
            "\n",
            "           0       0.74      0.84      0.78       136\n",
            "           1       0.82      0.71      0.76       139\n",
            "\n",
            "    accuracy                           0.77       275\n",
            "   macro avg       0.78      0.77      0.77       275\n",
            "weighted avg       0.78      0.77      0.77       275\n",
            "\n"
          ],
          "name": "stdout"
        },
        {
          "output_type": "execute_result",
          "data": {
            "text/plain": [
              "<sklearn.metrics._plot.confusion_matrix.ConfusionMatrixDisplay at 0x7f4277e18390>"
            ]
          },
          "metadata": {
            "tags": []
          },
          "execution_count": 464
        },
        {
          "output_type": "display_data",
          "data": {
            "image/png": "[encoded data removed]",
            "text/plain": [
              "<Figure size 432x288 with 2 Axes>"
            ]
          },
          "metadata": {
            "tags": []
          }
        }
      ]
    },
    {
      "cell_type": "code",
      "metadata": {
        "colab": {
          "base_uri": "https://localhost:8080/",
          "height": 510
        },
        "id": "p1Fx6PMhp0ji",
        "outputId": "1977ab7c-a5a8-4d4b-8821-6cfc725034f7"
      },
      "source": [
        "model_svc_rbf = SVC(C=.8, kernel='rbf', )\n",
        "model_svc_rbf.fit(x_train, y_train)\n",
        "y_pred_svc_rbf = model_svc_rbf.predict(x_test)\n",
        "print('accuracy:', accuracy_score(y_test, y_pred_svc_rbf))\n",
        "print('cohen_kappa_score:', cohen_kappa_score(y_test, y_pred_svc_rbf))\n",
        "print('roc_auc_score:', roc_auc_score(y_test, y_pred_svc_rbf))\n",
        "print(classification_report(y_test, y_pred_svc_rbf))\n",
        "plot_confusion_matrix(model_svc_rbf, x_test, y_test, normalize='all')"
      ],
      "execution_count": 465,
      "outputs": [
        {
          "output_type": "stream",
          "text": [
            "accuracy: 0.8072727272727273\n",
            "cohen_kappa_score: 0.614591321363408\n",
            "roc_auc_score: 0.8073688108336861\n",
            "              precision    recall  f1-score   support\n",
            "\n",
            "           0       0.80      0.82      0.81       136\n",
            "           1       0.82      0.80      0.81       139\n",
            "\n",
            "    accuracy                           0.81       275\n",
            "   macro avg       0.81      0.81      0.81       275\n",
            "weighted avg       0.81      0.81      0.81       275\n",
            "\n"
          ],
          "name": "stdout"
        },
        {
          "output_type": "execute_result",
          "data": {
            "text/plain": [
              "<sklearn.metrics._plot.confusion_matrix.ConfusionMatrixDisplay at 0x7f42795c3b90>"
            ]
          },
          "metadata": {
            "tags": []
          },
          "execution_count": 465
        },
        {
          "output_type": "display_data",
          "data": {
            "image/png": "[encoded data removed]",
            "text/plain": [
              "<Figure size 432x288 with 2 Axes>"
            ]
          },
          "metadata": {
            "tags": []
          }
        }
      ]
    },
    {
      "cell_type": "code",
      "metadata": {
        "colab": {
          "base_uri": "https://localhost:8080/",
          "height": 508
        },
        "id": "e4A3uXRTp9Ud",
        "outputId": "119889ba-d753-475a-e491-5aa3113544d5"
      },
      "source": [
        "model_decision = DecisionTreeClassifier(max_depth=8)\n",
        "model_decision.fit(x_train, y_train)\n",
        "y_pred_decision = model_decision.predict(x_test)\n",
        "print('accuracy:', accuracy_score(y_test, y_pred_decision))\n",
        "print('cohen_kappa_score:', cohen_kappa_score(y_test, y_pred_decision))\n",
        "print('roc_auc_score:', roc_auc_score(y_test, y_pred_decision))\n",
        "print(classification_report(y_test, y_pred_decision))\n",
        "plot_confusion_matrix(model_decision, x_test, y_test, normalize='all')"
      ],
      "execution_count": 466,
      "outputs": [
        {
          "output_type": "stream",
          "text": [
            "accuracy: 0.8254545454545454\n",
            "cohen_kappa_score: 0.6507566938300349\n",
            "roc_auc_score: 0.8252750740584004\n",
            "              precision    recall  f1-score   support\n",
            "\n",
            "           0       0.83      0.81      0.82       136\n",
            "           1       0.82      0.84      0.83       139\n",
            "\n",
            "    accuracy                           0.83       275\n",
            "   macro avg       0.83      0.83      0.83       275\n",
            "weighted avg       0.83      0.83      0.83       275\n",
            "\n"
          ],
          "name": "stdout"
        },
        {
          "output_type": "execute_result",
          "data": {
            "text/plain": [
              "<sklearn.metrics._plot.confusion_matrix.ConfusionMatrixDisplay at 0x7f42794eb510>"
            ]
          },
          "metadata": {
            "tags": []
          },
          "execution_count": 466
        },
        {
          "output_type": "display_data",
          "data": {
            "image/png": "[encoded data removed]",
            "text/plain": [
              "<Figure size 432x288 with 2 Axes>"
            ]
          },
          "metadata": {
            "tags": []
          }
        }
      ]
    },
    {
      "cell_type": "code",
      "metadata": {
        "colab": {
          "base_uri": "https://localhost:8080/",
          "height": 508
        },
        "id": "6ldm7JIVqWGg",
        "outputId": "56fa5463-bd25-4a74-e94e-fc1e8ab755d1"
      },
      "source": [
        "model_rf = RandomForestClassifier(max_depth=7)\n",
        "model_rf.fit(x_train, y_train)\n",
        "y_pred_rf = model_rf.predict(x_test)\n",
        "print('accuracy:', accuracy_score(y_test, y_pred_rf))\n",
        "print('cohen_kappa_score:', cohen_kappa_score(y_test, y_pred_rf))\n",
        "print('roc_auc_score:', roc_auc_score(y_test, y_pred_rf))\n",
        "print(classification_report(y_test, y_pred_rf))\n",
        "plot_confusion_matrix(model_rf, x_test, y_test, normalize='all')"
      ],
      "execution_count": 467,
      "outputs": [
        {
          "output_type": "stream",
          "text": [
            "accuracy: 0.8618181818181818\n",
            "cohen_kappa_score: 0.7236034701650444\n",
            "roc_auc_score: 0.8618017350825222\n",
            "              precision    recall  f1-score   support\n",
            "\n",
            "           0       0.86      0.86      0.86       136\n",
            "           1       0.86      0.86      0.86       139\n",
            "\n",
            "    accuracy                           0.86       275\n",
            "   macro avg       0.86      0.86      0.86       275\n",
            "weighted avg       0.86      0.86      0.86       275\n",
            "\n"
          ],
          "name": "stdout"
        },
        {
          "output_type": "execute_result",
          "data": {
            "text/plain": [
              "<sklearn.metrics._plot.confusion_matrix.ConfusionMatrixDisplay at 0x7f4277491910>"
            ]
          },
          "metadata": {
            "tags": []
          },
          "execution_count": 467
        },
        {
          "output_type": "display_data",
          "data": {
            "image/png": "[encoded data removed]",
            "text/plain": [
              "<Figure size 432x288 with 2 Axes>"
            ]
          },
          "metadata": {
            "tags": []
          }
        }
      ]
    },
    {
      "cell_type": "code",
      "metadata": {
        "colab": {
          "base_uri": "https://localhost:8080/"
        },
        "id": "HUcqCLckt7W2",
        "outputId": "53faeeef-04ac-4667-fb0c-315689801e70"
      },
      "source": [
        "score_rf = {}\n",
        "for i in range(1, 11, 1):\n",
        "  model_rf = RandomForestClassifier(n_estimators=500, max_depth=i)\n",
        "  model_rf.fit(x_train, y_train)\n",
        "  y_pred_rf = model_rf.predict(x_test)\n",
        "  score_rf[i] = accuracy_score(y_test, y_pred_rf)\n",
        "score_rf"
      ],
      "execution_count": 480,
      "outputs": [
        {
          "output_type": "execute_result",
          "data": {
            "text/plain": [
              "{1: 0.7963636363636364,\n",
              " 2: 0.8327272727272728,\n",
              " 3: 0.8363636363636363,\n",
              " 4: 0.850909090909091,\n",
              " 5: 0.8581818181818182,\n",
              " 6: 0.8581818181818182,\n",
              " 7: 0.850909090909091,\n",
              " 8: 0.850909090909091,\n",
              " 9: 0.8618181818181818,\n",
              " 10: 0.8727272727272727}"
            ]
          },
          "metadata": {
            "tags": []
          },
          "execution_count": 480
        }
      ]
    },
    {
      "cell_type": "code",
      "metadata": {
        "colab": {
          "base_uri": "https://localhost:8080/",
          "height": 508
        },
        "id": "zqGiRxSeqqIR",
        "outputId": "4d0fd89d-ab9e-48ba-f818-e07ee0e37e31"
      },
      "source": [
        "model_xgb = xgb.XGBClassifier(n_estimators=300, learning_rate=0.09, max_depth=2)\n",
        "model_xgb.fit(x_train, y_train)\n",
        "y_pred_xgb = model_xgb.predict(x_test)\n",
        "print('accuracy:', accuracy_score(y_test, y_pred_xgb))\n",
        "print('cohen_kappa_score:', cohen_kappa_score(y_test, y_pred_xgb))\n",
        "print('roc_auc_score:', roc_auc_score(y_test, y_pred_xgb))\n",
        "print(classification_report(y_test, y_pred_xgb))\n",
        "plot_confusion_matrix(model_xgb, x_test, y_test, normalize='all')"
      ],
      "execution_count": 472,
      "outputs": [
        {
          "output_type": "stream",
          "text": [
            "accuracy: 0.8763636363636363\n",
            "cohen_kappa_score: 0.7527370815042048\n",
            "roc_auc_score: 0.8764282691493863\n",
            "              precision    recall  f1-score   support\n",
            "\n",
            "           0       0.87      0.88      0.88       136\n",
            "           1       0.88      0.87      0.88       139\n",
            "\n",
            "    accuracy                           0.88       275\n",
            "   macro avg       0.88      0.88      0.88       275\n",
            "weighted avg       0.88      0.88      0.88       275\n",
            "\n"
          ],
          "name": "stdout"
        },
        {
          "output_type": "execute_result",
          "data": {
            "text/plain": [
              "<sklearn.metrics._plot.confusion_matrix.ConfusionMatrixDisplay at 0x7f427726f150>"
            ]
          },
          "metadata": {
            "tags": []
          },
          "execution_count": 472
        },
        {
          "output_type": "display_data",
          "data": {
            "image/png": "[encoded data removed]",
            "text/plain": [
              "<Figure size 432x288 with 2 Axes>"
            ]
          },
          "metadata": {
            "tags": []
          }
        }
      ]
    },
    {
      "cell_type": "code",
      "metadata": {
        "colab": {
          "base_uri": "https://localhost:8080/"
        },
        "id": "h7cFe8uWkM6h",
        "outputId": "79ae6d79-a29c-4f31-db6d-cd848e567428"
      },
      "source": [
        "score_xgb = {}\n",
        "for i in np.arange(0.01,0.11,0.01):\n",
        "  model_xgb = xgb.XGBClassifier(n_estimators=300, learning_rate=i, max_depth=2)\n",
        "  model_xgb.fit(x_train, y_train)\n",
        "  y_pred_xgb = model_xgb.predict(x_test)\n",
        "  score_xgb[i] = accuracy_score(y_test, y_pred_xgb)\n",
        "score_xgb"
      ],
      "execution_count": 471,
      "outputs": [
        {
          "output_type": "execute_result",
          "data": {
            "text/plain": [
              "{0.01: 0.850909090909091,\n",
              " 0.02: 0.8472727272727273,\n",
              " 0.03: 0.8545454545454545,\n",
              " 0.04: 0.8654545454545455,\n",
              " 0.05: 0.8618181818181818,\n",
              " 0.060000000000000005: 0.8581818181818182,\n",
              " 0.06999999999999999: 0.8727272727272727,\n",
              " 0.08: 0.8690909090909091,\n",
              " 0.09: 0.8763636363636363,\n",
              " 0.09999999999999999: 0.8690909090909091}"
            ]
          },
          "metadata": {
            "tags": []
          },
          "execution_count": 471
        }
      ]
    },
    {
      "cell_type": "code",
      "metadata": {
        "colab": {
          "base_uri": "https://localhost:8080/",
          "height": 508
        },
        "id": "F4bY7z64rH01",
        "outputId": "f371f8dd-b652-4148-8791-64e2562851a7"
      },
      "source": [
        "model_lgbm = lgbm.LGBMClassifier()\n",
        "model_lgbm.fit(x_train, y_train)\n",
        "y_pred_lgbm = model_lgbm.predict(x_test)\n",
        "print('accuracy:', accuracy_score(y_test, y_pred_lgbm))\n",
        "print('cohen_kappa_score:', cohen_kappa_score(y_test, y_pred_lgbm))\n",
        "print('roc_auc_score:', roc_auc_score(y_test, y_pred_lgbm))\n",
        "print(classification_report(y_test, y_pred_lgbm))\n",
        "plot_confusion_matrix(model_lgbm, x_test, y_test, normalize='all')"
      ],
      "execution_count": 473,
      "outputs": [
        {
          "output_type": "stream",
          "text": [
            "accuracy: 0.8545454545454545\n",
            "cohen_kappa_score: 0.7091024488284763\n",
            "roc_auc_score: 0.8546074904782057\n",
            "              precision    recall  f1-score   support\n",
            "\n",
            "           0       0.85      0.86      0.85       136\n",
            "           1       0.86      0.85      0.86       139\n",
            "\n",
            "    accuracy                           0.85       275\n",
            "   macro avg       0.85      0.85      0.85       275\n",
            "weighted avg       0.85      0.85      0.85       275\n",
            "\n"
          ],
          "name": "stdout"
        },
        {
          "output_type": "execute_result",
          "data": {
            "text/plain": [
              "<sklearn.metrics._plot.confusion_matrix.ConfusionMatrixDisplay at 0x7f427725d150>"
            ]
          },
          "metadata": {
            "tags": []
          },
          "execution_count": 473
        },
        {
          "output_type": "display_data",
          "data": {
            "image/png": "[encoded data removed]",
            "text/plain": [
              "<Figure size 432x288 with 2 Axes>"
            ]
          },
          "metadata": {
            "tags": []
          }
        }
      ]
    },
    {
      "cell_type": "code",
      "metadata": {
        "colab": {
          "base_uri": "https://localhost:8080/"
        },
        "id": "pTk4Iup-rsQP",
        "outputId": "cd99e543-4b1f-46de-c595-9c48009c3926"
      },
      "source": [
        "score_lgbm = {}\n",
        "for i in np.arange(0.01,0.11,0.01):\n",
        "  model_lgbm = lgbm.LGBMClassifier(learning_rate=i, n_estimators=300)\n",
        "  model_lgbm.fit(x_train, y_train)\n",
        "  y_pred_lgbm = model_lgbm.predict(x_test)\n",
        "  score_lgbm[i] = accuracy_score(y_test, y_pred_lgbm)\n",
        "score_lgbm"
      ],
      "execution_count": 475,
      "outputs": [
        {
          "output_type": "execute_result",
          "data": {
            "text/plain": [
              "{0.01: 0.8545454545454545,\n",
              " 0.02: 0.8618181818181818,\n",
              " 0.03: 0.8472727272727273,\n",
              " 0.04: 0.8472727272727273,\n",
              " 0.05: 0.84,\n",
              " 0.060000000000000005: 0.850909090909091,\n",
              " 0.06999999999999999: 0.8472727272727273,\n",
              " 0.08: 0.8545454545454545,\n",
              " 0.09: 0.8472727272727273,\n",
              " 0.09999999999999999: 0.8472727272727273}"
            ]
          },
          "metadata": {
            "tags": []
          },
          "execution_count": 475
        }
      ]
    },
    {
      "cell_type": "code",
      "metadata": {
        "colab": {
          "base_uri": "https://localhost:8080/",
          "height": 508
        },
        "id": "yWq3krLEtN2h",
        "outputId": "10b8c937-3bcb-4ea9-8eb8-6bce701b58fb"
      },
      "source": [
        "model_extra = ExtraTreesClassifier()\n",
        "model_extra.fit(x_train, y_train)\n",
        "y_pred_extra = model_extra.predict(x_test)\n",
        "print('accuracy:', accuracy_score(y_test, y_pred_extra))\n",
        "print('cohen_kappa_score:', cohen_kappa_score(y_test, y_pred_extra))\n",
        "print('roc_auc_score:', roc_auc_score(y_test, y_pred_extra))\n",
        "print(classification_report(y_test, y_pred_extra))\n",
        "plot_confusion_matrix(model_extra, x_test, y_test, normalize='all')"
      ],
      "execution_count": 476,
      "outputs": [
        {
          "output_type": "stream",
          "text": [
            "accuracy: 0.8545454545454545\n",
            "cohen_kappa_score: 0.7090562843842573\n",
            "roc_auc_score: 0.8545281421921287\n",
            "              precision    recall  f1-score   support\n",
            "\n",
            "           0       0.85      0.85      0.85       136\n",
            "           1       0.86      0.86      0.86       139\n",
            "\n",
            "    accuracy                           0.85       275\n",
            "   macro avg       0.85      0.85      0.85       275\n",
            "weighted avg       0.85      0.85      0.85       275\n",
            "\n"
          ],
          "name": "stdout"
        },
        {
          "output_type": "execute_result",
          "data": {
            "text/plain": [
              "<sklearn.metrics._plot.confusion_matrix.ConfusionMatrixDisplay at 0x7f4276fe4b90>"
            ]
          },
          "metadata": {
            "tags": []
          },
          "execution_count": 476
        },
        {
          "output_type": "display_data",
          "data": {
            "image/png": "[encoded data removed]",
            "text/plain": [
              "<Figure size 432x288 with 2 Axes>"
            ]
          },
          "metadata": {
            "tags": []
          }
        }
      ]
    },
    {
      "cell_type": "code",
      "metadata": {
        "colab": {
          "base_uri": "https://localhost:8080/"
        },
        "id": "mQ5eWp4TulOs",
        "outputId": "4e7fd529-4dd3-4f90-9874-d038cfe1d397"
      },
      "source": [
        "score_extra = {}\n",
        "for i in range(1, 11, 1):\n",
        "  model_extra = ExtraTreesClassifier(max_depth=i)\n",
        "  model_extra.fit(x_train, y_train)\n",
        "  y_pred_extra = model_extra.predict(x_test)\n",
        "  score_extra[i] = accuracy_score(y_test, y_pred_lgbm)\n",
        "score_extra"
      ],
      "execution_count": 477,
      "outputs": [
        {
          "output_type": "execute_result",
          "data": {
            "text/plain": [
              "{1: 0.8472727272727273,\n",
              " 2: 0.8472727272727273,\n",
              " 3: 0.8472727272727273,\n",
              " 4: 0.8472727272727273,\n",
              " 5: 0.8472727272727273,\n",
              " 6: 0.8472727272727273,\n",
              " 7: 0.8472727272727273,\n",
              " 8: 0.8472727272727273,\n",
              " 9: 0.8472727272727273,\n",
              " 10: 0.8472727272727273}"
            ]
          },
          "metadata": {
            "tags": []
          },
          "execution_count": 477
        }
      ]
    },
    {
      "cell_type": "code",
      "metadata": {
        "colab": {
          "base_uri": "https://localhost:8080/"
        },
        "id": "yDV9JWEA0r-r",
        "outputId": "a4f76a44-6114-4658-dabe-fbd64a5b701d"
      },
      "source": [
        "model_xgb = xgb.XGBClassifier(n_estimators=300, learning_rate=0.09, max_depth=2)\n",
        "model_xgb.fit(x, y)\n",
        "y_pred_xgb_submit = model_xgb.predict(test)\n",
        "xgb_score = round(model_xgb.score(x, y) * 100, 2)\n",
        "xgb_score"
      ],
      "execution_count": 622,
      "outputs": [
        {
          "output_type": "execute_result",
          "data": {
            "text/plain": [
              "91.89"
            ]
          },
          "metadata": {
            "tags": []
          },
          "execution_count": 622
        }
      ]
    },
    {
      "cell_type": "code",
      "metadata": {
        "id": "tORjIEFnumPM"
      },
      "source": [
        "y_pred_test_xgb = model_xgb.predict(test)"
      ],
      "execution_count": 623,
      "outputs": []
    },
    {
      "cell_type": "code",
      "metadata": {
        "id": "jka8KXGOumRe"
      },
      "source": [
        "submission = pd.DataFrame({\n",
        "        \"PassengerId\": test_passengerid,\n",
        "        \"Survived\": y_pred_xgb_submit\n",
        "    })"
      ],
      "execution_count": 624,
      "outputs": []
    },
    {
      "cell_type": "code",
      "metadata": {
        "colab": {
          "base_uri": "https://localhost:8080/",
          "height": 402
        },
        "id": "N32XrGNLumTg",
        "outputId": "55c13191-fa57-4e55-daff-f6dfd5ebf761"
      },
      "source": [
        "submission"
      ],
      "execution_count": 625,
      "outputs": [
        {
          "output_type": "execute_result",
          "data": {
            "text/html": [
              "<div>\n",
              "<style scoped>\n",
              "    .dataframe tbody tr th:only-of-type {\n",
              "        vertical-align: middle;\n",
              "    }\n",
              "\n",
              "    .dataframe tbody tr th {\n",
              "        vertical-align: top;\n",
              "    }\n",
              "\n",
              "    .dataframe thead th {\n",
              "        text-align: right;\n",
              "    }\n",
              "</style>\n",
              "<table border=\"1\" class=\"dataframe\">\n",
              "  <thead>\n",
              "    <tr style=\"text-align: right;\">\n",
              "      <th></th>\n",
              "      <th>PassengerId</th>\n",
              "      <th>Survived</th>\n",
              "    </tr>\n",
              "  </thead>\n",
              "  <tbody>\n",
              "    <tr>\n",
              "      <th>0</th>\n",
              "      <td>892</td>\n",
              "      <td>0</td>\n",
              "    </tr>\n",
              "    <tr>\n",
              "      <th>1</th>\n",
              "      <td>893</td>\n",
              "      <td>0</td>\n",
              "    </tr>\n",
              "    <tr>\n",
              "      <th>2</th>\n",
              "      <td>894</td>\n",
              "      <td>0</td>\n",
              "    </tr>\n",
              "    <tr>\n",
              "      <th>3</th>\n",
              "      <td>895</td>\n",
              "      <td>0</td>\n",
              "    </tr>\n",
              "    <tr>\n",
              "      <th>4</th>\n",
              "      <td>896</td>\n",
              "      <td>1</td>\n",
              "    </tr>\n",
              "    <tr>\n",
              "      <th>...</th>\n",
              "      <td>...</td>\n",
              "      <td>...</td>\n",
              "    </tr>\n",
              "    <tr>\n",
              "      <th>413</th>\n",
              "      <td>1305</td>\n",
              "      <td>0</td>\n",
              "    </tr>\n",
              "    <tr>\n",
              "      <th>414</th>\n",
              "      <td>1306</td>\n",
              "      <td>1</td>\n",
              "    </tr>\n",
              "    <tr>\n",
              "      <th>415</th>\n",
              "      <td>1307</td>\n",
              "      <td>0</td>\n",
              "    </tr>\n",
              "    <tr>\n",
              "      <th>416</th>\n",
              "      <td>1308</td>\n",
              "      <td>0</td>\n",
              "    </tr>\n",
              "    <tr>\n",
              "      <th>417</th>\n",
              "      <td>1309</td>\n",
              "      <td>1</td>\n",
              "    </tr>\n",
              "  </tbody>\n",
              "</table>\n",
              "<p>418 rows × 2 columns</p>\n",
              "</div>"
            ],
            "text/plain": [
              "     PassengerId  Survived\n",
              "0            892         0\n",
              "1            893         0\n",
              "2            894         0\n",
              "3            895         0\n",
              "4            896         1\n",
              "..           ...       ...\n",
              "413         1305         0\n",
              "414         1306         1\n",
              "415         1307         0\n",
              "416         1308         0\n",
              "417         1309         1\n",
              "\n",
              "[418 rows x 2 columns]"
            ]
          },
          "metadata": {
            "tags": []
          },
          "execution_count": 625
        }
      ]
    },
    {
      "cell_type": "code",
      "metadata": {
        "id": "MifhsaIvxxwo"
      },
      "source": [
        "submission.to_csv('/content/drive/MyDrive/submission1.csv', index=False)"
      ],
      "execution_count": 626,
      "outputs": []
    },
    {
      "cell_type": "code",
      "metadata": {
        "id": "Rv4u3byfLQnx"
      },
      "source": [
        "from sklearn.model_selection import GridSearchCV"
      ],
      "execution_count": 259,
      "outputs": []
    },
    {
      "cell_type": "code",
      "metadata": {
        "colab": {
          "base_uri": "https://localhost:8080/"
        },
        "id": "RVGItVndLV-y",
        "outputId": "e7972ff2-f947-4def-ef89-c2d43f6163f6"
      },
      "source": [
        "param_rf = {'max_depth':np.arange(0, 50, 1),\n",
        "            'n_estimators':np.arange(50, 500, 10)}\n",
        "\n",
        "grid_rf = GridSearchCV(model_rf, param_rf, scoring='accuracy', n_jobs=-1, cv=5)\n",
        "grid_rf.fit(x_train, y_train)"
      ],
      "execution_count": 264,
      "outputs": [
        {
          "output_type": "execute_result",
          "data": {
            "text/plain": [
              "GridSearchCV(cv=5, error_score=nan,\n",
              "             estimator=RandomForestClassifier(bootstrap=True, ccp_alpha=0.0,\n",
              "                                              class_weight=None,\n",
              "                                              criterion='gini', max_depth=None,\n",
              "                                              max_features='auto',\n",
              "                                              max_leaf_nodes=None,\n",
              "                                              max_samples=None,\n",
              "                                              min_impurity_decrease=0.0,\n",
              "                                              min_impurity_split=None,\n",
              "                                              min_samples_leaf=1,\n",
              "                                              min_samples_split=2,\n",
              "                                              min_weight_fraction_leaf=0.0,\n",
              "                                              n_estimators=100, n_jobs=None,...\n",
              "       17, 18, 19, 20, 21, 22, 23, 24, 25, 26, 27, 28, 29, 30, 31, 32, 33,\n",
              "       34, 35, 36, 37, 38, 39, 40, 41, 42, 43, 44, 45, 46, 47, 48, 49]),\n",
              "                         'n_estimators': array([ 50,  60,  70,  80,  90, 100, 110, 120, 130, 140, 150, 160, 170,\n",
              "       180, 190, 200, 210, 220, 230, 240, 250, 260, 270, 280, 290, 300,\n",
              "       310, 320, 330, 340, 350, 360, 370, 380, 390, 400, 410, 420, 430,\n",
              "       440, 450, 460, 470, 480, 490])},\n",
              "             pre_dispatch='2*n_jobs', refit=True, return_train_score=False,\n",
              "             scoring='accuracy', verbose=0)"
            ]
          },
          "metadata": {
            "tags": []
          },
          "execution_count": 264
        }
      ]
    },
    {
      "cell_type": "code",
      "metadata": {
        "colab": {
          "base_uri": "https://localhost:8080/"
        },
        "id": "Tln14zASjdXH",
        "outputId": "4d311f37-f594-4fac-dc25-594fb9d78a62"
      },
      "source": [
        "print('best score rf:', grid_rf.best_score_)\n",
        "print('best estimators', grid_rf.best_params_)"
      ],
      "execution_count": 266,
      "outputs": [
        {
          "output_type": "stream",
          "text": [
            "best score rf: 0.8651145602365113\n",
            "best estimators {'max_depth': 8, 'n_estimators': 170}\n"
          ],
          "name": "stdout"
        }
      ]
    },
    {
      "cell_type": "code",
      "metadata": {
        "id": "UAYQq4kML54Z"
      },
      "source": [
        "param_xgb = {'max_depth':np.arange(0, 50, 1),\n",
        "            'n_estimators':np.arange(50, 500, 10)}\n",
        "\n",
        "grid_xgb = GridSearchCV(model_rf, param_xgb, scoring='accuracy', n_jobs=-1, cv=5)\n",
        "grid_xgb.fit(x_train, y_train)"
      ],
      "execution_count": null,
      "outputs": []
    },
    {
      "cell_type": "code",
      "metadata": {
        "id": "_q5e_2aSL-9f"
      },
      "source": [
        "param_extra = {'max_depth':np.arange(0, 50, 1),\n",
        "            'n_estimators':np.arange(50, 500, 10)}\n",
        "\n",
        "grid_extra = GridSearchCV(model_extra, param_extra, scoring='accuracy', n_jobs=-1, cv=5)\n",
        "grid_extra.fit(x_train, y_train)"
      ],
      "execution_count": null,
      "outputs": []
    }
  ]
}