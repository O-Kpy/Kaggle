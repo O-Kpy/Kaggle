{
  "nbformat": 4,
  "nbformat_minor": 0,
  "metadata": {
    "colab": {
      "name": "Dacon 신용 예측 연습.ipynb",
      "provenance": [],
      "collapsed_sections": [],
      "mount_file_id": "1szl9FEXuu63wz0c8jdMQT5ER3FMXqtk5",
      "authorship_tag": "ABX9TyPdJb7THPgm5irho9oaX9ii",
      "include_colab_link": true
    },
    "kernelspec": {
      "name": "python3",
      "display_name": "Python 3"
    },
    "language_info": {
      "name": "python"
    }
  },
  "cells": [
    {
      "cell_type": "markdown",
      "metadata": {
        "id": "view-in-github",
        "colab_type": "text"
      },
      "source": [
        "<a href=\"https://colab.research.google.com/github/O-Kpy/Kaggle/blob/main/Dacon_%EC%8B%A0%EC%9A%A9_%EC%98%88%EC%B8%A1_%EC%97%B0%EC%8A%B5.ipynb\" target=\"_parent\"><img src=\"https://colab.research.google.com/assets/colab-badge.svg\" alt=\"Open In Colab\"/></a>"
      ]
    },
    {
      "cell_type": "code",
      "metadata": {
        "id": "KdWSmDqn8ih5"
      },
      "source": [
        "import numpy as np\n",
        "import pandas as pd\n",
        "import matplotlib.pyplot as plt\n",
        "%matplotlib inline\n",
        "import seaborn as sns\n",
        "sns.set_style('whitegrid')\n",
        "import warnings\n",
        "warnings.filterwarnings('ignore')\n",
        "import plotly.express as px\n",
        "import plotly.graph_objects as go"
      ],
      "execution_count": 1,
      "outputs": []
    },
    {
      "cell_type": "code",
      "metadata": {
        "colab": {
          "base_uri": "https://localhost:8080/"
        },
        "id": "9AxEGeio8ikD",
        "outputId": "f7370081-a3e1-4362-ae8e-6d3bee1e1362"
      },
      "source": [
        "pip install plotly.express"
      ],
      "execution_count": 1,
      "outputs": [
        {
          "output_type": "stream",
          "text": [
            "Collecting plotly.express\n",
            "  Downloading https://files.pythonhosted.org/packages/d4/d6/8a2906f51e073a4be80cab35cfa10e7a34853e60f3ed5304ac470852a08d/plotly_express-0.4.1-py2.py3-none-any.whl\n",
            "Requirement already satisfied: plotly>=4.1.0 in /usr/local/lib/python3.7/dist-packages (from plotly.express) (4.4.1)\n",
            "Requirement already satisfied: numpy>=1.11 in /usr/local/lib/python3.7/dist-packages (from plotly.express) (1.19.5)\n",
            "Requirement already satisfied: patsy>=0.5 in /usr/local/lib/python3.7/dist-packages (from plotly.express) (0.5.1)\n",
            "Requirement already satisfied: scipy>=0.18 in /usr/local/lib/python3.7/dist-packages (from plotly.express) (1.4.1)\n",
            "Requirement already satisfied: pandas>=0.20.0 in /usr/local/lib/python3.7/dist-packages (from plotly.express) (1.1.5)\n",
            "Requirement already satisfied: statsmodels>=0.9.0 in /usr/local/lib/python3.7/dist-packages (from plotly.express) (0.10.2)\n",
            "Requirement already satisfied: retrying>=1.3.3 in /usr/local/lib/python3.7/dist-packages (from plotly>=4.1.0->plotly.express) (1.3.3)\n",
            "Requirement already satisfied: six in /usr/local/lib/python3.7/dist-packages (from plotly>=4.1.0->plotly.express) (1.15.0)\n",
            "Requirement already satisfied: python-dateutil>=2.7.3 in /usr/local/lib/python3.7/dist-packages (from pandas>=0.20.0->plotly.express) (2.8.1)\n",
            "Requirement already satisfied: pytz>=2017.2 in /usr/local/lib/python3.7/dist-packages (from pandas>=0.20.0->plotly.express) (2018.9)\n",
            "Installing collected packages: plotly.express\n",
            "Successfully installed plotly.express\n"
          ],
          "name": "stdout"
        }
      ]
    },
    {
      "cell_type": "code",
      "metadata": {
        "colab": {
          "base_uri": "https://localhost:8080/"
        },
        "id": "KJhV4JS_8on0",
        "outputId": "5a272f9b-4392-4115-b386-c1a4bf5572c6"
      },
      "source": [
        "pip install pywaffle"
      ],
      "execution_count": 2,
      "outputs": [
        {
          "output_type": "stream",
          "text": [
            "Collecting pywaffle\n",
            "\u001b[?25l  Downloading https://files.pythonhosted.org/packages/e2/93/9a1e014fef383149b0f6dccdb8b2f2126d8827d4d48f2884949d6f8769ea/pywaffle-0.6.1-py2.py3-none-any.whl (526kB)\n",
            "\r\u001b[K     |▋                               | 10kB 14.4MB/s eta 0:00:01\r\u001b[K     |█▎                              | 20kB 17.3MB/s eta 0:00:01\r\u001b[K     |█▉                              | 30kB 14.7MB/s eta 0:00:01\r\u001b[K     |██▌                             | 40kB 10.8MB/s eta 0:00:01\r\u001b[K     |███                             | 51kB 8.4MB/s eta 0:00:01\r\u001b[K     |███▊                            | 61kB 7.0MB/s eta 0:00:01\r\u001b[K     |████▍                           | 71kB 7.7MB/s eta 0:00:01\r\u001b[K     |█████                           | 81kB 8.5MB/s eta 0:00:01\r\u001b[K     |█████▋                          | 92kB 8.5MB/s eta 0:00:01\r\u001b[K     |██████▏                         | 102kB 8.6MB/s eta 0:00:01\r\u001b[K     |██████▉                         | 112kB 8.6MB/s eta 0:00:01\r\u001b[K     |███████▌                        | 122kB 8.6MB/s eta 0:00:01\r\u001b[K     |████████                        | 133kB 8.6MB/s eta 0:00:01\r\u001b[K     |████████▊                       | 143kB 8.6MB/s eta 0:00:01\r\u001b[K     |█████████▎                      | 153kB 8.6MB/s eta 0:00:01\r\u001b[K     |██████████                      | 163kB 8.6MB/s eta 0:00:01\r\u001b[K     |██████████▋                     | 174kB 8.6MB/s eta 0:00:01\r\u001b[K     |███████████▏                    | 184kB 8.6MB/s eta 0:00:01\r\u001b[K     |███████████▉                    | 194kB 8.6MB/s eta 0:00:01\r\u001b[K     |████████████▍                   | 204kB 8.6MB/s eta 0:00:01\r\u001b[K     |█████████████                   | 215kB 8.6MB/s eta 0:00:01\r\u001b[K     |█████████████▊                  | 225kB 8.6MB/s eta 0:00:01\r\u001b[K     |██████████████▎                 | 235kB 8.6MB/s eta 0:00:01\r\u001b[K     |███████████████                 | 245kB 8.6MB/s eta 0:00:01\r\u001b[K     |███████████████▌                | 256kB 8.6MB/s eta 0:00:01\r\u001b[K     |████████████████▏               | 266kB 8.6MB/s eta 0:00:01\r\u001b[K     |████████████████▉               | 276kB 8.6MB/s eta 0:00:01\r\u001b[K     |█████████████████▍              | 286kB 8.6MB/s eta 0:00:01\r\u001b[K     |██████████████████              | 296kB 8.6MB/s eta 0:00:01\r\u001b[K     |██████████████████▋             | 307kB 8.6MB/s eta 0:00:01\r\u001b[K     |███████████████████▎            | 317kB 8.6MB/s eta 0:00:01\r\u001b[K     |████████████████████            | 327kB 8.6MB/s eta 0:00:01\r\u001b[K     |████████████████████▌           | 337kB 8.6MB/s eta 0:00:01\r\u001b[K     |█████████████████████▏          | 348kB 8.6MB/s eta 0:00:01\r\u001b[K     |█████████████████████▊          | 358kB 8.6MB/s eta 0:00:01\r\u001b[K     |██████████████████████▍         | 368kB 8.6MB/s eta 0:00:01\r\u001b[K     |███████████████████████         | 378kB 8.6MB/s eta 0:00:01\r\u001b[K     |███████████████████████▋        | 389kB 8.6MB/s eta 0:00:01\r\u001b[K     |████████████████████████▎       | 399kB 8.6MB/s eta 0:00:01\r\u001b[K     |████████████████████████▉       | 409kB 8.6MB/s eta 0:00:01\r\u001b[K     |█████████████████████████▌      | 419kB 8.6MB/s eta 0:00:01\r\u001b[K     |██████████████████████████▏     | 430kB 8.6MB/s eta 0:00:01\r\u001b[K     |██████████████████████████▊     | 440kB 8.6MB/s eta 0:00:01\r\u001b[K     |███████████████████████████▍    | 450kB 8.6MB/s eta 0:00:01\r\u001b[K     |████████████████████████████    | 460kB 8.6MB/s eta 0:00:01\r\u001b[K     |████████████████████████████▋   | 471kB 8.6MB/s eta 0:00:01\r\u001b[K     |█████████████████████████████▎  | 481kB 8.6MB/s eta 0:00:01\r\u001b[K     |█████████████████████████████▉  | 491kB 8.6MB/s eta 0:00:01\r\u001b[K     |██████████████████████████████▌ | 501kB 8.6MB/s eta 0:00:01\r\u001b[K     |███████████████████████████████ | 512kB 8.6MB/s eta 0:00:01\r\u001b[K     |███████████████████████████████▊| 522kB 8.6MB/s eta 0:00:01\r\u001b[K     |████████████████████████████████| 532kB 8.6MB/s \n",
            "\u001b[?25hRequirement already satisfied: matplotlib in /usr/local/lib/python3.7/dist-packages (from pywaffle) (3.2.2)\n",
            "Requirement already satisfied: numpy>=1.11 in /usr/local/lib/python3.7/dist-packages (from matplotlib->pywaffle) (1.19.5)\n",
            "Requirement already satisfied: kiwisolver>=1.0.1 in /usr/local/lib/python3.7/dist-packages (from matplotlib->pywaffle) (1.3.1)\n",
            "Requirement already satisfied: cycler>=0.10 in /usr/local/lib/python3.7/dist-packages (from matplotlib->pywaffle) (0.10.0)\n",
            "Requirement already satisfied: python-dateutil>=2.1 in /usr/local/lib/python3.7/dist-packages (from matplotlib->pywaffle) (2.8.1)\n",
            "Requirement already satisfied: pyparsing!=2.0.4,!=2.1.2,!=2.1.6,>=2.0.1 in /usr/local/lib/python3.7/dist-packages (from matplotlib->pywaffle) (2.4.7)\n",
            "Requirement already satisfied: six in /usr/local/lib/python3.7/dist-packages (from cycler>=0.10->matplotlib->pywaffle) (1.15.0)\n",
            "Installing collected packages: pywaffle\n",
            "Successfully installed pywaffle-0.6.1\n"
          ],
          "name": "stdout"
        }
      ]
    },
    {
      "cell_type": "code",
      "metadata": {
        "colab": {
          "base_uri": "https://localhost:8080/"
        },
        "id": "FzrzeZOw8y8Q",
        "outputId": "4d53d831-348e-439b-df6d-e6e44d3517ad"
      },
      "source": [
        "pip install --upgrade plotly"
      ],
      "execution_count": 3,
      "outputs": [
        {
          "output_type": "stream",
          "text": [
            "Collecting plotly\n",
            "\u001b[?25l  Downloading https://files.pythonhosted.org/packages/1f/f6/bd3c17c8003b6641df1228e80e1acac97ed8402635e46c2571f8e1ef63af/plotly-4.14.3-py2.py3-none-any.whl (13.2MB)\n",
            "\u001b[K     |████████████████████████████████| 13.2MB 252kB/s \n",
            "\u001b[?25hRequirement already satisfied, skipping upgrade: six in /usr/local/lib/python3.7/dist-packages (from plotly) (1.15.0)\n",
            "Requirement already satisfied, skipping upgrade: retrying>=1.3.3 in /usr/local/lib/python3.7/dist-packages (from plotly) (1.3.3)\n",
            "Installing collected packages: plotly\n",
            "  Found existing installation: plotly 4.4.1\n",
            "    Uninstalling plotly-4.4.1:\n",
            "      Successfully uninstalled plotly-4.4.1\n",
            "Successfully installed plotly-4.14.3\n"
          ],
          "name": "stdout"
        }
      ]
    },
    {
      "cell_type": "markdown",
      "metadata": {
        "id": "79uqwmNU9sdz"
      },
      "source": [
        "# **신용카드 사용자 연체 예측 AI 경진대회(Dacon)**\n",
        "\n",
        "*   2021-04-10부터 시작(본인이)\n",
        "*   신용카드 사용자 데이터를 보고 사용자의 대금 연체 정도를 예측하는 알고리즘 개발 \n",
        "*   신용카드 사용자들의 개인 신상정보 데이터로 사용자의 신용카드 대금 연체 정도를 예측\n",
        "*   이번 대회는 특이하게 심사기준이 Logloss(손실함수)이다.\n",
        "\n",
        "index\n",
        "\n",
        "\n",
        "gender: 성별\n",
        "\n",
        "\n",
        "car: 차량 소유 여부\n",
        "\n",
        "\n",
        "reality: 부동산 소유 여부\n",
        "\n",
        "\n",
        "child_num: 자녀 수\n",
        "\n",
        "\n",
        "income_total: 연간 소득\n",
        "\n",
        "\n",
        "income_type: 소득 분류\n",
        "\n",
        "\n",
        "\t\t\t\t\t\t\t['Commercial associate', 'Working', 'State servant', 'Pensioner', 'Student']\n",
        "\n",
        "\n",
        "\n",
        "edu_type: 교육 수준\n",
        "\n",
        "\n",
        "\t\t\t\t\t\t\t['Higher education' ,'Secondary / secondary special', 'Incomplete higher', 'Lower secondary', 'Academic degree']\n",
        "\n",
        "\n",
        "\n",
        "family_type: 결혼 여부\n",
        "\n",
        "\n",
        "\t\t\t\t\t\t\t['Married', 'Civil marriage', 'Separated', 'Single / not married', 'Widow']\n",
        "\n",
        "\n",
        "\n",
        "house_type: 생활 방식\n",
        "\n",
        "\n",
        "\t\t\t\t\t\t\t['Municipal apartment', 'House / apartment', 'With parents',\n",
        "\n",
        "\t\t\t\t\t\t\t\n",
        "\n",
        "\t\t\t\t\t\t\t 'Co-op apartment', 'Rented apartment', 'Office apartment']\n",
        "\n",
        "\n",
        "\n",
        "DAYS_BIRTH: 출생일\n",
        "\n",
        "\n",
        "\t\t\t\t\t\t\t데이터 수집 당시 (0)부터 역으로 셈, 즉, -1은 데이터 수집일 하루 전에 태어났음을 의미\n",
        "\n",
        "\n",
        "\n",
        "DAYS_EMPLOYED: 업무 시작일\n",
        "\n",
        "\n",
        "\t\t\t\t\t\t\t데이터 수집 당시 (0)부터 역으로 셈, 즉, -1은 데이터 수집일 하루 전부터 일을 시작함을 의미\n",
        "\n",
        "\t\t\t\t\t\t\t\t\t\t\t\t\t\n",
        "\n",
        "\t\t\t\t\t\t\t양수 값은 고용되지 않은 상태를 의미함\n",
        "\n",
        "\n",
        "\n",
        "FLAG_MOBIL: 핸드폰 소유 여부\n",
        "\n",
        "\n",
        "work_phone: 업무용 전화 소유 여부\n",
        "\n",
        "\n",
        "phone: 전화 소유 여부\n",
        "\n",
        "\n",
        "email: 이메일 소유 여부\n",
        "\n",
        "\n",
        "occyp_type: 직업 유형\t\t\t\t\t\t\t\t\t\t\t\t\t\n",
        "\n",
        "\n",
        "family_size: 가족 규모\n",
        "\n",
        "\n",
        "begin_month: 신용카드 발급 월\n",
        "\t\t\t\n",
        "\n",
        "\t\t\t\t\t\t\t데이터 수집 당시 (0)부터 역으로 셈, 즉, -1은 데이터 수집일 한 달 전에 신용카드를 발급함을 의미\n",
        "\n",
        "\n",
        "\n",
        "\n",
        "\n",
        "\n",
        "\n",
        "credit: 사용자의 신용카드 대금 연체를 기준의 신용도\n",
        "\n",
        "\n",
        "\t\t\t\t\t\t\t=> 낮을 수록 높은 신용의 신용카드 사용자를 의미함\n"
      ]
    },
    {
      "cell_type": "code",
      "metadata": {
        "id": "jaSS06PBathz"
      },
      "source": [
        "train = pd.read_csv('/content/drive/MyDrive/dataset/Dacon/대회/신용카드 사용자 연체 예측 AI 경진대회/train.csv')\n",
        "test = pd.read_csv('/content/drive/MyDrive/dataset/Dacon/대회/신용카드 사용자 연체 예측 AI 경진대회/test.csv')"
      ],
      "execution_count": 139,
      "outputs": []
    },
    {
      "cell_type": "code",
      "metadata": {
        "id": "GxZCmGJ_MVHQ"
      },
      "source": [
        "train = train.drop(['index'], axis=1)\n",
        "test = test.drop(['index'], axis=1)"
      ],
      "execution_count": 140,
      "outputs": []
    },
    {
      "cell_type": "code",
      "metadata": {
        "colab": {
          "base_uri": "https://localhost:8080/"
        },
        "id": "1yyoqC1A8imC",
        "outputId": "f4a97368-c151-4ea5-939e-7605e26239c4"
      },
      "source": [
        "print(f'train shape:{train.shape}, test shape:{test.shape}')"
      ],
      "execution_count": 3,
      "outputs": [
        {
          "output_type": "stream",
          "text": [
            "train shape:(26457, 20), test shape:(10000, 19)\n"
          ],
          "name": "stdout"
        }
      ]
    },
    {
      "cell_type": "code",
      "metadata": {
        "colab": {
          "base_uri": "https://localhost:8080/"
        },
        "id": "pUHjSJ4l8ioM",
        "outputId": "34191b57-24a7-4488-c8fc-7ad799e103de"
      },
      "source": [
        "train.info()"
      ],
      "execution_count": 4,
      "outputs": [
        {
          "output_type": "stream",
          "text": [
            "<class 'pandas.core.frame.DataFrame'>\n",
            "RangeIndex: 26457 entries, 0 to 26456\n",
            "Data columns (total 20 columns):\n",
            " #   Column         Non-Null Count  Dtype  \n",
            "---  ------         --------------  -----  \n",
            " 0   index          26457 non-null  int64  \n",
            " 1   gender         26457 non-null  object \n",
            " 2   car            26457 non-null  object \n",
            " 3   reality        26457 non-null  object \n",
            " 4   child_num      26457 non-null  int64  \n",
            " 5   income_total   26457 non-null  float64\n",
            " 6   income_type    26457 non-null  object \n",
            " 7   edu_type       26457 non-null  object \n",
            " 8   family_type    26457 non-null  object \n",
            " 9   house_type     26457 non-null  object \n",
            " 10  DAYS_BIRTH     26457 non-null  int64  \n",
            " 11  DAYS_EMPLOYED  26457 non-null  int64  \n",
            " 12  FLAG_MOBIL     26457 non-null  int64  \n",
            " 13  work_phone     26457 non-null  int64  \n",
            " 14  phone          26457 non-null  int64  \n",
            " 15  email          26457 non-null  int64  \n",
            " 16  occyp_type     18286 non-null  object \n",
            " 17  family_size    26457 non-null  float64\n",
            " 18  begin_month    26457 non-null  float64\n",
            " 19  credit         26457 non-null  float64\n",
            "dtypes: float64(4), int64(8), object(8)\n",
            "memory usage: 4.0+ MB\n"
          ],
          "name": "stdout"
        }
      ]
    },
    {
      "cell_type": "code",
      "metadata": {
        "colab": {
          "base_uri": "https://localhost:8080/"
        },
        "id": "Obkixf2aA35S",
        "outputId": "9531f62f-6a8c-4f25-904a-c8248fed1104"
      },
      "source": [
        "test.info()"
      ],
      "execution_count": 7,
      "outputs": [
        {
          "output_type": "stream",
          "text": [
            "<class 'pandas.core.frame.DataFrame'>\n",
            "RangeIndex: 10000 entries, 0 to 9999\n",
            "Data columns (total 19 columns):\n",
            " #   Column         Non-Null Count  Dtype  \n",
            "---  ------         --------------  -----  \n",
            " 0   index          10000 non-null  int64  \n",
            " 1   gender         10000 non-null  object \n",
            " 2   car            10000 non-null  object \n",
            " 3   reality        10000 non-null  object \n",
            " 4   child_num      10000 non-null  int64  \n",
            " 5   income_total   10000 non-null  float64\n",
            " 6   income_type    10000 non-null  object \n",
            " 7   edu_type       10000 non-null  object \n",
            " 8   family_type    10000 non-null  object \n",
            " 9   house_type     10000 non-null  object \n",
            " 10  DAYS_BIRTH     10000 non-null  int64  \n",
            " 11  DAYS_EMPLOYED  10000 non-null  int64  \n",
            " 12  FLAG_MOBIL     10000 non-null  int64  \n",
            " 13  work_phone     10000 non-null  int64  \n",
            " 14  phone          10000 non-null  int64  \n",
            " 15  email          10000 non-null  int64  \n",
            " 16  occyp_type     6848 non-null   object \n",
            " 17  family_size    10000 non-null  float64\n",
            " 18  begin_month    10000 non-null  float64\n",
            "dtypes: float64(3), int64(8), object(8)\n",
            "memory usage: 1.4+ MB\n"
          ],
          "name": "stdout"
        }
      ]
    },
    {
      "cell_type": "code",
      "metadata": {
        "colab": {
          "base_uri": "https://localhost:8080/",
          "height": 366
        },
        "id": "mZk58MDA_hJy",
        "outputId": "4cfd98f0-5da2-41e7-ccfe-419397299055"
      },
      "source": [
        "train.head()"
      ],
      "execution_count": 5,
      "outputs": [
        {
          "output_type": "execute_result",
          "data": {
            "text/html": [
              "<div>\n",
              "<style scoped>\n",
              "    .dataframe tbody tr th:only-of-type {\n",
              "        vertical-align: middle;\n",
              "    }\n",
              "\n",
              "    .dataframe tbody tr th {\n",
              "        vertical-align: top;\n",
              "    }\n",
              "\n",
              "    .dataframe thead th {\n",
              "        text-align: right;\n",
              "    }\n",
              "</style>\n",
              "<table border=\"1\" class=\"dataframe\">\n",
              "  <thead>\n",
              "    <tr style=\"text-align: right;\">\n",
              "      <th></th>\n",
              "      <th>index</th>\n",
              "      <th>gender</th>\n",
              "      <th>car</th>\n",
              "      <th>reality</th>\n",
              "      <th>child_num</th>\n",
              "      <th>income_total</th>\n",
              "      <th>income_type</th>\n",
              "      <th>edu_type</th>\n",
              "      <th>family_type</th>\n",
              "      <th>house_type</th>\n",
              "      <th>DAYS_BIRTH</th>\n",
              "      <th>DAYS_EMPLOYED</th>\n",
              "      <th>FLAG_MOBIL</th>\n",
              "      <th>work_phone</th>\n",
              "      <th>phone</th>\n",
              "      <th>email</th>\n",
              "      <th>occyp_type</th>\n",
              "      <th>family_size</th>\n",
              "      <th>begin_month</th>\n",
              "      <th>credit</th>\n",
              "    </tr>\n",
              "  </thead>\n",
              "  <tbody>\n",
              "    <tr>\n",
              "      <th>0</th>\n",
              "      <td>0</td>\n",
              "      <td>F</td>\n",
              "      <td>N</td>\n",
              "      <td>N</td>\n",
              "      <td>0</td>\n",
              "      <td>202500.0</td>\n",
              "      <td>Commercial associate</td>\n",
              "      <td>Higher education</td>\n",
              "      <td>Married</td>\n",
              "      <td>Municipal apartment</td>\n",
              "      <td>-13899</td>\n",
              "      <td>-4709</td>\n",
              "      <td>1</td>\n",
              "      <td>0</td>\n",
              "      <td>0</td>\n",
              "      <td>0</td>\n",
              "      <td>NaN</td>\n",
              "      <td>2.0</td>\n",
              "      <td>-6.0</td>\n",
              "      <td>1.0</td>\n",
              "    </tr>\n",
              "    <tr>\n",
              "      <th>1</th>\n",
              "      <td>1</td>\n",
              "      <td>F</td>\n",
              "      <td>N</td>\n",
              "      <td>Y</td>\n",
              "      <td>1</td>\n",
              "      <td>247500.0</td>\n",
              "      <td>Commercial associate</td>\n",
              "      <td>Secondary / secondary special</td>\n",
              "      <td>Civil marriage</td>\n",
              "      <td>House / apartment</td>\n",
              "      <td>-11380</td>\n",
              "      <td>-1540</td>\n",
              "      <td>1</td>\n",
              "      <td>0</td>\n",
              "      <td>0</td>\n",
              "      <td>1</td>\n",
              "      <td>Laborers</td>\n",
              "      <td>3.0</td>\n",
              "      <td>-5.0</td>\n",
              "      <td>1.0</td>\n",
              "    </tr>\n",
              "    <tr>\n",
              "      <th>2</th>\n",
              "      <td>2</td>\n",
              "      <td>M</td>\n",
              "      <td>Y</td>\n",
              "      <td>Y</td>\n",
              "      <td>0</td>\n",
              "      <td>450000.0</td>\n",
              "      <td>Working</td>\n",
              "      <td>Higher education</td>\n",
              "      <td>Married</td>\n",
              "      <td>House / apartment</td>\n",
              "      <td>-19087</td>\n",
              "      <td>-4434</td>\n",
              "      <td>1</td>\n",
              "      <td>0</td>\n",
              "      <td>1</td>\n",
              "      <td>0</td>\n",
              "      <td>Managers</td>\n",
              "      <td>2.0</td>\n",
              "      <td>-22.0</td>\n",
              "      <td>2.0</td>\n",
              "    </tr>\n",
              "    <tr>\n",
              "      <th>3</th>\n",
              "      <td>3</td>\n",
              "      <td>F</td>\n",
              "      <td>N</td>\n",
              "      <td>Y</td>\n",
              "      <td>0</td>\n",
              "      <td>202500.0</td>\n",
              "      <td>Commercial associate</td>\n",
              "      <td>Secondary / secondary special</td>\n",
              "      <td>Married</td>\n",
              "      <td>House / apartment</td>\n",
              "      <td>-15088</td>\n",
              "      <td>-2092</td>\n",
              "      <td>1</td>\n",
              "      <td>0</td>\n",
              "      <td>1</td>\n",
              "      <td>0</td>\n",
              "      <td>Sales staff</td>\n",
              "      <td>2.0</td>\n",
              "      <td>-37.0</td>\n",
              "      <td>0.0</td>\n",
              "    </tr>\n",
              "    <tr>\n",
              "      <th>4</th>\n",
              "      <td>4</td>\n",
              "      <td>F</td>\n",
              "      <td>Y</td>\n",
              "      <td>Y</td>\n",
              "      <td>0</td>\n",
              "      <td>157500.0</td>\n",
              "      <td>State servant</td>\n",
              "      <td>Higher education</td>\n",
              "      <td>Married</td>\n",
              "      <td>House / apartment</td>\n",
              "      <td>-15037</td>\n",
              "      <td>-2105</td>\n",
              "      <td>1</td>\n",
              "      <td>0</td>\n",
              "      <td>0</td>\n",
              "      <td>0</td>\n",
              "      <td>Managers</td>\n",
              "      <td>2.0</td>\n",
              "      <td>-26.0</td>\n",
              "      <td>2.0</td>\n",
              "    </tr>\n",
              "  </tbody>\n",
              "</table>\n",
              "</div>"
            ],
            "text/plain": [
              "   index gender car reality  ...   occyp_type  family_size begin_month credit\n",
              "0      0      F   N       N  ...          NaN          2.0        -6.0    1.0\n",
              "1      1      F   N       Y  ...     Laborers          3.0        -5.0    1.0\n",
              "2      2      M   Y       Y  ...     Managers          2.0       -22.0    2.0\n",
              "3      3      F   N       Y  ...  Sales staff          2.0       -37.0    0.0\n",
              "4      4      F   Y       Y  ...     Managers          2.0       -26.0    2.0\n",
              "\n",
              "[5 rows x 20 columns]"
            ]
          },
          "metadata": {
            "tags": []
          },
          "execution_count": 5
        }
      ]
    },
    {
      "cell_type": "code",
      "metadata": {
        "colab": {
          "base_uri": "https://localhost:8080/",
          "height": 282
        },
        "id": "q_ncbNx0KjDq",
        "outputId": "3af97fb7-5ed8-4349-d1c0-b79e868f89d8"
      },
      "source": [
        "train.credit.hist()"
      ],
      "execution_count": 50,
      "outputs": [
        {
          "output_type": "execute_result",
          "data": {
            "text/plain": [
              "<matplotlib.axes._subplots.AxesSubplot at 0x7f79cebbfb50>"
            ]
          },
          "metadata": {
            "tags": []
          },
          "execution_count": 50
        },
        {
          "output_type": "display_data",
          "data": {
            "image/png": "[encoded data removed]",
            "text/plain": [
              "<Figure size 432x288 with 1 Axes>"
            ]
          },
          "metadata": {
            "tags": [],
            "needs_background": "light"
          }
        }
      ]
    },
    {
      "cell_type": "code",
      "metadata": {
        "colab": {
          "base_uri": "https://localhost:8080/"
        },
        "id": "Y6F5kg_fLC_f",
        "outputId": "333cb715-3a9e-4a8b-e9f1-b30cf40dcaba"
      },
      "source": [
        "train.credit.value_counts()"
      ],
      "execution_count": 52,
      "outputs": [
        {
          "output_type": "execute_result",
          "data": {
            "text/plain": [
              "2    16968\n",
              "1     6267\n",
              "0     3222\n",
              "Name: credit, dtype: int64"
            ]
          },
          "metadata": {
            "tags": []
          },
          "execution_count": 52
        }
      ]
    },
    {
      "cell_type": "code",
      "metadata": {
        "id": "qy1ozUQgJvAP"
      },
      "source": [
        "from sklearn.utils import resample\n",
        "train.credit = train.credit.astype(int)"
      ],
      "execution_count": 142,
      "outputs": []
    },
    {
      "cell_type": "code",
      "metadata": {
        "id": "0q3SlCMrJ2EJ"
      },
      "source": [
        "a_credit = train[train.credit == 0]\n",
        "b_credit = train[train.credit == 1]\n",
        "c_credit = train[train.credit == 2]\n",
        "a_oversampled = resample(a_credit, replace=True, n_samples=len(c_credit), random_state=123)\n",
        "b_oversampled = resample(b_credit, replace=True, n_samples=len(c_credit), random_state=123)\n",
        "train = pd.concat([c_credit, a_oversampled, b_oversampled], axis=0)"
      ],
      "execution_count": 141,
      "outputs": []
    },
    {
      "cell_type": "code",
      "metadata": {
        "id": "yKI65nAmP_y3"
      },
      "source": [
        "data = pd.concat([train,test], axis=0)"
      ],
      "execution_count": 143,
      "outputs": []
    },
    {
      "cell_type": "code",
      "metadata": {
        "colab": {
          "base_uri": "https://localhost:8080/"
        },
        "id": "sr5PpcdPLRLW",
        "outputId": "6f5518f0-c854-4630-d72a-d593cea33261"
      },
      "source": [
        "train.credit.value_counts()"
      ],
      "execution_count": 57,
      "outputs": [
        {
          "output_type": "execute_result",
          "data": {
            "text/plain": [
              "2    16968\n",
              "1    16968\n",
              "0    16968\n",
              "Name: credit, dtype: int64"
            ]
          },
          "metadata": {
            "tags": []
          },
          "execution_count": 57
        }
      ]
    },
    {
      "cell_type": "code",
      "metadata": {
        "colab": {
          "base_uri": "https://localhost:8080/"
        },
        "id": "vzkVZO6XLWtM",
        "outputId": "a9088985-d107-4032-90c2-ce0da70a760f"
      },
      "source": [
        "train.isnull().sum()"
      ],
      "execution_count": 56,
      "outputs": [
        {
          "output_type": "execute_result",
          "data": {
            "text/plain": [
              "index                0\n",
              "gender               0\n",
              "car                  0\n",
              "reality              0\n",
              "child_num            0\n",
              "income_total         0\n",
              "income_type          0\n",
              "edu_type             0\n",
              "family_type          0\n",
              "house_type           0\n",
              "DAYS_BIRTH           0\n",
              "DAYS_EMPLOYED        0\n",
              "FLAG_MOBIL           0\n",
              "work_phone           0\n",
              "phone                0\n",
              "email                0\n",
              "occyp_type       15570\n",
              "family_size          0\n",
              "begin_month          0\n",
              "credit               0\n",
              "dtype: int64"
            ]
          },
          "metadata": {
            "tags": []
          },
          "execution_count": 56
        }
      ]
    },
    {
      "cell_type": "markdown",
      "metadata": {
        "id": "U6m_812IBE7F"
      },
      "source": [
        "**occyp_type columns이 결측치가 있는데...**\n",
        "> occyp_type 이 컬럼은 직업별 시각화를 통해서, income_total을 통해 결측치 처리"
      ]
    },
    {
      "cell_type": "code",
      "metadata": {
        "colab": {
          "base_uri": "https://localhost:8080/",
          "height": 418
        },
        "id": "M0w1NxyuFFz3",
        "outputId": "75af0357-95d6-4cb4-8cbc-14bf66fcd76d"
      },
      "source": [
        "plt.figure(figsize=(12,6))\n",
        "sns.stripplot(x='income_type', y=train['income_total'], data=train)"
      ],
      "execution_count": 27,
      "outputs": [
        {
          "output_type": "execute_result",
          "data": {
            "text/plain": [
              "<matplotlib.axes._subplots.AxesSubplot at 0x7f79d0041950>"
            ]
          },
          "metadata": {
            "tags": []
          },
          "execution_count": 27
        },
        {
          "output_type": "display_data",
          "data": {
            "image/png": "[encoded data removed]",
            "text/plain": [
              "<Figure size 864x432 with 1 Axes>"
            ]
          },
          "metadata": {
            "tags": [],
            "needs_background": "light"
          }
        }
      ]
    },
    {
      "cell_type": "code",
      "metadata": {
        "colab": {
          "base_uri": "https://localhost:8080/"
        },
        "id": "nGnuFyWMG1w1",
        "outputId": "8d4b9cd0-bea4-4ff1-fb44-57374f58cccc"
      },
      "source": [
        "train.groupby('income_type')['income_total'].median()"
      ],
      "execution_count": 33,
      "outputs": [
        {
          "output_type": "execute_result",
          "data": {
            "text/plain": [
              "income_type\n",
              "Commercial associate    189000.0\n",
              "Pensioner               135000.0\n",
              "State servant           180000.0\n",
              "Student                 171000.0\n",
              "Working                 157500.0\n",
              "Name: income_total, dtype: float64"
            ]
          },
          "metadata": {
            "tags": []
          },
          "execution_count": 33
        }
      ]
    },
    {
      "cell_type": "code",
      "metadata": {
        "colab": {
          "base_uri": "https://localhost:8080/"
        },
        "id": "XNj5h4sQHMMX",
        "outputId": "b217918c-c0cf-4d4b-e70c-5ffdff856de3"
      },
      "source": [
        "train.groupby('occyp_type')['income_total'].median()"
      ],
      "execution_count": 34,
      "outputs": [
        {
          "output_type": "execute_result",
          "data": {
            "text/plain": [
              "occyp_type\n",
              "Accountants              180000.0\n",
              "Cleaning staff           135000.0\n",
              "Cooking staff            135000.0\n",
              "Core staff               171000.0\n",
              "Drivers                  202500.0\n",
              "HR staff                 157500.0\n",
              "High skill tech staff    180000.0\n",
              "IT staff                 171000.0\n",
              "Laborers                 162000.0\n",
              "Low-skill Laborers       112500.0\n",
              "Managers                 247500.0\n",
              "Medicine staff           155250.0\n",
              "Private service staff    180000.0\n",
              "Realty agents            270000.0\n",
              "Sales staff              157500.0\n",
              "Secretaries              135000.0\n",
              "Security staff           157500.0\n",
              "Waiters/barmen staff     157500.0\n",
              "Name: income_total, dtype: float64"
            ]
          },
          "metadata": {
            "tags": []
          },
          "execution_count": 34
        }
      ]
    },
    {
      "cell_type": "markdown",
      "metadata": {
        "id": "L-HPlxmmIDfy"
      },
      "source": [
        "# mode로 채워보자(결측치)"
      ]
    },
    {
      "cell_type": "code",
      "metadata": {
        "colab": {
          "base_uri": "https://localhost:8080/"
        },
        "id": "mI6GjnVfIHPI",
        "outputId": "b8631bd6-a6bc-40d6-fdda-cd7d4a055af9"
      },
      "source": [
        "train['occyp_type'].fillna(train['occyp_type'].mode()[0], inplace=True)\n",
        "test['occyp_type'].fillna(train['occyp_type'].mode()[0], inplace=True)\n",
        "train.isnull().sum()"
      ],
      "execution_count": 83,
      "outputs": [
        {
          "output_type": "execute_result",
          "data": {
            "text/plain": [
              "gender           0\n",
              "car              0\n",
              "reality          0\n",
              "child_num        0\n",
              "income_total     0\n",
              "income_type      0\n",
              "edu_type         0\n",
              "family_type      0\n",
              "house_type       0\n",
              "DAYS_BIRTH       0\n",
              "DAYS_EMPLOYED    0\n",
              "FLAG_MOBIL       0\n",
              "work_phone       0\n",
              "phone            0\n",
              "email            0\n",
              "occyp_type       0\n",
              "family_size      0\n",
              "begin_month      0\n",
              "credit           0\n",
              "dtype: int64"
            ]
          },
          "metadata": {
            "tags": []
          },
          "execution_count": 83
        }
      ]
    },
    {
      "cell_type": "code",
      "metadata": {
        "id": "aXtNsHxbQMTO"
      },
      "source": [
        "data['occyp_type'].fillna(data['occyp_type'].mode()[0], inplace=True)"
      ],
      "execution_count": 145,
      "outputs": []
    },
    {
      "cell_type": "code",
      "metadata": {
        "id": "ROg2fgi2CmHB"
      },
      "source": [
        "from sklearn.preprocessing import LabelEncoder\n",
        "lencoders = {}\n",
        "for i in train.select_dtypes(include=['object']).columns:\n",
        "  lencoders[i] = LabelEncoder()\n",
        "  train[i] = lencoders[i].fit_transform(train[i])\n",
        "\n",
        "for i in test.select_dtypes(include=['object']).columns:\n",
        "  lencoders[i] = LabelEncoder()\n",
        "  test[i] = lencoders[i].fit_transform(test[i])"
      ],
      "execution_count": 84,
      "outputs": []
    },
    {
      "cell_type": "code",
      "metadata": {
        "id": "x2i-68pzRPAp"
      },
      "source": [
        "lencoders = {}\n",
        "for i in data.select_dtypes(include=['object']).columns:\n",
        "  lencoders[i] = LabelEncoder()\n",
        "  data[i] = lencoders[i].fit_transform(data[i])"
      ],
      "execution_count": 146,
      "outputs": []
    },
    {
      "cell_type": "code",
      "metadata": {
        "id": "x6orZX3gJKpf"
      },
      "source": [
        "target = train['credit']"
      ],
      "execution_count": 74,
      "outputs": []
    },
    {
      "cell_type": "code",
      "metadata": {
        "id": "ohEY-1wDL7Nu"
      },
      "source": [
        "train = train.drop(['credit'], axis=1)"
      ],
      "execution_count": 75,
      "outputs": []
    },
    {
      "cell_type": "code",
      "metadata": {
        "colab": {
          "base_uri": "https://localhost:8080/"
        },
        "id": "_uFzFzQYIz9Z",
        "outputId": "3b8d1439-c095-4158-993c-ed8e4075b848"
      },
      "source": [
        "Q3 = data.quantile(0.75)\n",
        "Q1 = data.quantile(0.25)\n",
        "IQR = Q3-Q1\n",
        "print(IQR)"
      ],
      "execution_count": 147,
      "outputs": [
        {
          "output_type": "stream",
          "text": [
            "gender                1.0\n",
            "car                   1.0\n",
            "reality               1.0\n",
            "child_num             1.0\n",
            "income_total     103500.0\n",
            "income_type           3.0\n",
            "edu_type              3.0\n",
            "family_type           0.0\n",
            "house_type            0.0\n",
            "DAYS_BIRTH         7011.0\n",
            "DAYS_EMPLOYED      2687.0\n",
            "FLAG_MOBIL            0.0\n",
            "work_phone            0.0\n",
            "phone                 1.0\n",
            "email                 0.0\n",
            "occyp_type            2.0\n",
            "family_size           1.0\n",
            "begin_month          28.0\n",
            "credit                2.0\n",
            "dtype: float64\n"
          ],
          "name": "stdout"
        }
      ]
    },
    {
      "cell_type": "code",
      "metadata": {
        "id": "WIK303zwMjBp"
      },
      "source": [
        "data = data[~((data < (Q1 - 1.5*IQR)) | (data > (Q3 + 1.5*IQR))).any(axis=1)]"
      ],
      "execution_count": 121,
      "outputs": []
    },
    {
      "cell_type": "code",
      "metadata": {
        "colab": {
          "base_uri": "https://localhost:8080/"
        },
        "id": "K_2YeABxMH51",
        "outputId": "5ce9ce68-cf81-479f-a827-3599a97f33f1"
      },
      "source": [
        "data.shape"
      ],
      "execution_count": 122,
      "outputs": [
        {
          "output_type": "execute_result",
          "data": {
            "text/plain": [
              "(13216, 19)"
            ]
          },
          "metadata": {
            "tags": []
          },
          "execution_count": 122
        }
      ]
    },
    {
      "cell_type": "code",
      "metadata": {
        "id": "HB8ZLFKYRaqo"
      },
      "source": [
        "train = data[data['credit'].notnull()]\n",
        "test = data[data['credit'].isnull()]"
      ],
      "execution_count": 148,
      "outputs": []
    },
    {
      "cell_type": "code",
      "metadata": {
        "id": "lkdRI0IkRms1"
      },
      "source": [
        "test = test.drop(['credit'], axis=1)"
      ],
      "execution_count": 149,
      "outputs": []
    },
    {
      "cell_type": "code",
      "metadata": {
        "id": "kI7dYd0-RvLt"
      },
      "source": [
        "x = train.drop(['credit'], axis=1)\n",
        "y = train['credit']"
      ],
      "execution_count": 150,
      "outputs": []
    },
    {
      "cell_type": "code",
      "metadata": {
        "id": "Gdd8tiAvTci5"
      },
      "source": [
        "from sklearn.preprocessing import robust_scale"
      ],
      "execution_count": 131,
      "outputs": []
    },
    {
      "cell_type": "code",
      "metadata": {
        "id": "23nnFwZuTjfb"
      },
      "source": [
        "scaler = robust_scale(x)\n",
        "x = pd.DataFrame(scaler, columns=x.columns)"
      ],
      "execution_count": 151,
      "outputs": []
    },
    {
      "cell_type": "code",
      "metadata": {
        "id": "YxV1kaqdNYCK"
      },
      "source": [
        "from sklearn.model_selection import train_test_split"
      ],
      "execution_count": 89,
      "outputs": []
    },
    {
      "cell_type": "code",
      "metadata": {
        "id": "qWxh_u5VNd1f"
      },
      "source": [
        "x_train, x_test, y_train, y_test = train_test_split(x,y, test_size=.25, random_state=25)"
      ],
      "execution_count": 152,
      "outputs": []
    },
    {
      "cell_type": "code",
      "metadata": {
        "id": "lH8nQ55SSBO7"
      },
      "source": [
        "from sklearn.ensemble import RandomForestClassifier\n",
        "import xgboost as xgb\n",
        "from sklearn.metrics import accuracy_score, classification_report, cohen_kappa_score, roc_auc_score, plot_confusion_matrix, log_loss"
      ],
      "execution_count": 155,
      "outputs": []
    },
    {
      "cell_type": "code",
      "metadata": {
        "colab": {
          "base_uri": "https://localhost:8080/"
        },
        "id": "Q2v-BX6CSVJ3",
        "outputId": "9a8dd54b-ee0d-4db3-e80a-cbaa5c9fc84b"
      },
      "source": [
        "model_rf = RandomForestClassifier(max_depth=100, n_jobs=-1)\n",
        "model_rf.fit(x_train, y_train)\n",
        "y_pred_rf = model_rf.predict(x_test)\n",
        "print('accuracy:', accuracy_score(y_test, y_pred_rf))\n",
        "print('cohen_kappa_score:', cohen_kappa_score(y_test, y_pred_rf))\n",
        "print(classification_report(y_test, y_pred_rf))"
      ],
      "execution_count": 153,
      "outputs": [
        {
          "output_type": "stream",
          "text": [
            "accuracy: 0.898004086122898\n",
            "cohen_kappa_score: 0.8470709850091247\n",
            "              precision    recall  f1-score   support\n",
            "\n",
            "         0.0       0.91      0.99      0.94      4246\n",
            "         1.0       0.87      0.92      0.89      4179\n",
            "         2.0       0.93      0.79      0.85      4301\n",
            "\n",
            "    accuracy                           0.90     12726\n",
            "   macro avg       0.90      0.90      0.90     12726\n",
            "weighted avg       0.90      0.90      0.90     12726\n",
            "\n"
          ],
          "name": "stdout"
        }
      ]
    },
    {
      "cell_type": "code",
      "metadata": {
        "colab": {
          "base_uri": "https://localhost:8080/"
        },
        "id": "qUmo2K4mTLG3",
        "outputId": "1bb40abb-836b-49cb-e578-7ea113b7538e"
      },
      "source": [
        "model_xgb = xgb.XGBClassifier(max_depth=100, n_jobs=-1)\n",
        "model_xgb.fit(x_train, y_train)\n",
        "y_pred_xgb = model_xgb.predict(x_test)\n",
        "print('accuracy:', accuracy_score(y_test, y_pred_xgb))\n",
        "print('cohen_kappa_score:', cohen_kappa_score(y_test, y_pred_xgb))\n",
        "print(classification_report(y_test, y_pred_xgb))"
      ],
      "execution_count": 154,
      "outputs": [
        {
          "output_type": "stream",
          "text": [
            "accuracy: 0.9022473675939022\n",
            "cohen_kappa_score: 0.8534151243141588\n",
            "              precision    recall  f1-score   support\n",
            "\n",
            "         0.0       0.91      0.99      0.95      4246\n",
            "         1.0       0.88      0.91      0.89      4179\n",
            "         2.0       0.92      0.81      0.86      4301\n",
            "\n",
            "    accuracy                           0.90     12726\n",
            "   macro avg       0.90      0.90      0.90     12726\n",
            "weighted avg       0.90      0.90      0.90     12726\n",
            "\n"
          ],
          "name": "stdout"
        }
      ]
    },
    {
      "cell_type": "code",
      "metadata": {
        "colab": {
          "base_uri": "https://localhost:8080/"
        },
        "id": "x7MGtuaxUPTo",
        "outputId": "ebb2a1d2-de31-47ba-ec5d-87e35917b771"
      },
      "source": [
        "model_rf_proba = model_rf.predict_proba(x_test)\n",
        "log_loss(y_test, model_rf_proba)"
      ],
      "execution_count": 157,
      "outputs": [
        {
          "output_type": "execute_result",
          "data": {
            "text/plain": [
              "0.49620892327949084"
            ]
          },
          "metadata": {
            "tags": []
          },
          "execution_count": 157
        }
      ]
    },
    {
      "cell_type": "code",
      "metadata": {
        "colab": {
          "base_uri": "https://localhost:8080/"
        },
        "id": "GuKEiDHMVcAC",
        "outputId": "67134b30-09ce-49ec-a6d1-a73867338f3a"
      },
      "source": [
        "model_xgb_proba = model_xgb.predict_proba(x_test)\n",
        "log_loss(y_test, model_xgb_proba)"
      ],
      "execution_count": 158,
      "outputs": [
        {
          "output_type": "execute_result",
          "data": {
            "text/plain": [
              "0.3051410186512543"
            ]
          },
          "metadata": {
            "tags": []
          },
          "execution_count": 158
        }
      ]
    },
    {
      "cell_type": "code",
      "metadata": {
        "id": "Sx7WtwyOYhDV"
      },
      "source": [
        "dtrain = xgb.DMatrix(data=x_train, label=y_train)\n",
        "dtest = xgb.DMatrix(data=x_test, label=y_test)"
      ],
      "execution_count": 165,
      "outputs": []
    },
    {
      "cell_type": "code",
      "metadata": {
        "id": "337zNBb3YWHK"
      },
      "source": [
        "params = {'max_depth': 3,\n",
        "         'eta': 0.1,\n",
        "         'eval_metric': 'logloss',\n",
        "         'early_stoppings': 100}\n",
        "num_rounds = 400"
      ],
      "execution_count": 168,
      "outputs": []
    },
    {
      "cell_type": "code",
      "metadata": {
        "colab": {
          "base_uri": "https://localhost:8080/"
        },
        "id": "1wmbtwaZXTeY",
        "outputId": "4f6ea2ec-4ded-4174-b04e-3f0de0e02035"
      },
      "source": [
        "wlist = [(dtrain, 'train'), (dtest, 'eval')]\n",
        "xgb_model = xgb.train(params=params, dtrain=dtrain, num_boost_round=num_rounds, early_stopping_rounds=100, evals=wlist)"
      ],
      "execution_count": 169,
      "outputs": [
        {
          "output_type": "stream",
          "text": [
            "[0]\ttrain-logloss:0.590892\teval-logloss:0.589599\n",
            "Multiple eval metrics have been passed: 'eval-logloss' will be used for early stopping.\n",
            "\n",
            "Will train until eval-logloss hasn't improved in 100 rounds.\n",
            "[1]\ttrain-logloss:0.506135\teval-logloss:0.503937\n",
            "[2]\ttrain-logloss:0.434562\teval-logloss:0.431204\n",
            "[3]\ttrain-logloss:0.373248\teval-logloss:0.368848\n",
            "[4]\ttrain-logloss:0.320023\teval-logloss:0.31477\n",
            "[5]\ttrain-logloss:0.27233\teval-logloss:0.26602\n",
            "[6]\ttrain-logloss:0.229949\teval-logloss:0.223041\n",
            "[7]\ttrain-logloss:0.192397\teval-logloss:0.184563\n",
            "[8]\ttrain-logloss:0.157974\teval-logloss:0.14904\n",
            "[9]\ttrain-logloss:0.126233\teval-logloss:0.116735\n",
            "[10]\ttrain-logloss:0.096167\teval-logloss:0.086437\n",
            "[11]\ttrain-logloss:0.065541\teval-logloss:0.056571\n",
            "[12]\ttrain-logloss:0.028336\teval-logloss:0.024139\n",
            "[13]\ttrain-logloss:-0.03404\teval-logloss:-0.040059\n",
            "[14]\ttrain-logloss:-0.157189\teval-logloss:-0.121035\n",
            "[15]\ttrain-logloss:-0.233133\teval-logloss:-0.202581\n",
            "[16]\ttrain-logloss:-0.771784\teval-logloss:-0.806559\n",
            "[17]\ttrain-logloss:-1.05396\teval-logloss:-1.10981\n",
            "[18]\ttrain-logloss:-1.34751\teval-logloss:-1.41225\n",
            "[19]\ttrain-logloss:-1.64108\teval-logloss:-1.7014\n",
            "[20]\ttrain-logloss:-2.01424\teval-logloss:-1.89\n",
            "[21]\ttrain-logloss:-2.13258\teval-logloss:-2.05643\n",
            "[22]\ttrain-logloss:-2.22213\teval-logloss:-2.19322\n",
            "[23]\ttrain-logloss:-2.371\teval-logloss:-2.30473\n",
            "[24]\ttrain-logloss:-2.49461\teval-logloss:-2.46049\n",
            "[25]\ttrain-logloss:-2.39803\teval-logloss:-2.40727\n",
            "[26]\ttrain-logloss:-2.46888\teval-logloss:-2.44592\n",
            "[27]\ttrain-logloss:-2.41375\teval-logloss:-2.41289\n",
            "[28]\ttrain-logloss:-2.44115\teval-logloss:-2.4132\n",
            "[29]\ttrain-logloss:-2.417\teval-logloss:-2.42023\n",
            "[30]\ttrain-logloss:-2.39322\teval-logloss:-2.38917\n",
            "[31]\ttrain-logloss:-2.43084\teval-logloss:-2.39601\n",
            "[32]\ttrain-logloss:-2.42583\teval-logloss:-2.39243\n",
            "[33]\ttrain-logloss:-2.39519\teval-logloss:-2.398\n",
            "[34]\ttrain-logloss:-2.44471\teval-logloss:-2.39129\n",
            "[35]\ttrain-logloss:-2.45077\teval-logloss:-2.36292\n",
            "[36]\ttrain-logloss:-2.50994\teval-logloss:-2.40893\n",
            "[37]\ttrain-logloss:-2.50215\teval-logloss:-2.40322\n",
            "[38]\ttrain-logloss:-2.55027\teval-logloss:-2.43258\n",
            "[39]\ttrain-logloss:-2.55678\teval-logloss:-2.42676\n",
            "[40]\ttrain-logloss:-2.56064\teval-logloss:-2.44727\n",
            "[41]\ttrain-logloss:-2.5827\teval-logloss:-2.46351\n",
            "[42]\ttrain-logloss:-2.57217\teval-logloss:-2.43519\n",
            "[43]\ttrain-logloss:-2.53923\teval-logloss:-2.4204\n",
            "[44]\ttrain-logloss:-2.52451\teval-logloss:-2.39762\n",
            "[45]\ttrain-logloss:-2.59312\teval-logloss:-2.45827\n",
            "[46]\ttrain-logloss:-2.61346\teval-logloss:-2.49248\n",
            "[47]\ttrain-logloss:-2.60695\teval-logloss:-2.49392\n",
            "[48]\ttrain-logloss:-2.58968\teval-logloss:-2.48131\n",
            "[49]\ttrain-logloss:-2.60773\teval-logloss:-2.49355\n",
            "[50]\ttrain-logloss:-2.60806\teval-logloss:-2.4981\n",
            "[51]\ttrain-logloss:-2.63517\teval-logloss:-2.5038\n",
            "[52]\ttrain-logloss:-2.65509\teval-logloss:-2.49082\n",
            "[53]\ttrain-logloss:-2.72461\teval-logloss:-2.51306\n",
            "[54]\ttrain-logloss:-2.75391\teval-logloss:-2.53634\n",
            "[55]\ttrain-logloss:-2.77003\teval-logloss:-2.55307\n",
            "[56]\ttrain-logloss:-2.78208\teval-logloss:-2.56167\n",
            "[57]\ttrain-logloss:-2.78133\teval-logloss:-2.57519\n",
            "[58]\ttrain-logloss:-2.81374\teval-logloss:-2.62363\n",
            "[59]\ttrain-logloss:-2.78914\teval-logloss:-2.57707\n",
            "[60]\ttrain-logloss:-2.84079\teval-logloss:-2.61666\n",
            "[61]\ttrain-logloss:-2.89039\teval-logloss:-2.68526\n",
            "[62]\ttrain-logloss:-2.89306\teval-logloss:-2.67784\n",
            "[63]\ttrain-logloss:-2.93628\teval-logloss:-2.71093\n",
            "[64]\ttrain-logloss:-2.99726\teval-logloss:-2.76228\n",
            "[65]\ttrain-logloss:-3.0335\teval-logloss:-2.79761\n",
            "[66]\ttrain-logloss:-3.07412\teval-logloss:-2.82952\n",
            "[67]\ttrain-logloss:-3.04901\teval-logloss:-2.80419\n",
            "[68]\ttrain-logloss:-3.06202\teval-logloss:-2.80839\n",
            "[69]\ttrain-logloss:-3.03302\teval-logloss:-2.8058\n",
            "[70]\ttrain-logloss:-3.07718\teval-logloss:-2.82321\n",
            "[71]\ttrain-logloss:-3.07994\teval-logloss:-2.81852\n",
            "[72]\ttrain-logloss:-3.10666\teval-logloss:-2.84152\n",
            "[73]\ttrain-logloss:-3.13223\teval-logloss:-2.87462\n",
            "[74]\ttrain-logloss:-3.13517\teval-logloss:-2.86812\n",
            "[75]\ttrain-logloss:-3.11389\teval-logloss:-2.84933\n",
            "[76]\ttrain-logloss:-3.10896\teval-logloss:-2.85685\n",
            "[77]\ttrain-logloss:-3.14953\teval-logloss:-2.89084\n",
            "[78]\ttrain-logloss:-3.19801\teval-logloss:-2.91981\n",
            "[79]\ttrain-logloss:-3.17636\teval-logloss:-2.9273\n",
            "[80]\ttrain-logloss:-3.23303\teval-logloss:-2.96725\n",
            "[81]\ttrain-logloss:-3.22715\teval-logloss:-2.9704\n",
            "[82]\ttrain-logloss:-3.25952\teval-logloss:-2.98827\n",
            "[83]\ttrain-logloss:-3.34157\teval-logloss:-3.00395\n",
            "[84]\ttrain-logloss:-3.29293\teval-logloss:-2.98563\n",
            "[85]\ttrain-logloss:-3.29964\teval-logloss:-2.98466\n",
            "[86]\ttrain-logloss:-3.37232\teval-logloss:-3.00094\n",
            "[87]\ttrain-logloss:-3.3893\teval-logloss:-3.00418\n",
            "[88]\ttrain-logloss:-3.42627\teval-logloss:-3.04487\n",
            "[89]\ttrain-logloss:-3.43395\teval-logloss:-3.04048\n",
            "[90]\ttrain-logloss:-3.42017\teval-logloss:-3.05892\n",
            "[91]\ttrain-logloss:-3.43584\teval-logloss:-3.07621\n",
            "[92]\ttrain-logloss:-3.43404\teval-logloss:-3.07415\n",
            "[93]\ttrain-logloss:-3.44257\teval-logloss:-3.05014\n",
            "[94]\ttrain-logloss:-3.44294\teval-logloss:-3.05161\n",
            "[95]\ttrain-logloss:-3.44854\teval-logloss:-3.03921\n",
            "[96]\ttrain-logloss:-3.45025\teval-logloss:-3.03462\n",
            "[97]\ttrain-logloss:-3.47935\teval-logloss:-3.04659\n",
            "[98]\ttrain-logloss:-3.50043\teval-logloss:-3.09805\n",
            "[99]\ttrain-logloss:-3.50779\teval-logloss:-3.09885\n",
            "[100]\ttrain-logloss:-3.50773\teval-logloss:-3.09875\n",
            "[101]\ttrain-logloss:-3.53411\teval-logloss:-3.12988\n",
            "[102]\ttrain-logloss:-3.53002\teval-logloss:-3.14712\n",
            "[103]\ttrain-logloss:-3.52448\teval-logloss:-3.1415\n",
            "[104]\ttrain-logloss:-3.53827\teval-logloss:-3.14406\n",
            "[105]\ttrain-logloss:-3.54887\teval-logloss:-3.14555\n",
            "[106]\ttrain-logloss:-3.57622\teval-logloss:-3.18141\n",
            "[107]\ttrain-logloss:-3.57706\teval-logloss:-3.17271\n",
            "[108]\ttrain-logloss:-3.57759\teval-logloss:-3.17299\n",
            "[109]\ttrain-logloss:-3.57347\teval-logloss:-3.17611\n",
            "[110]\ttrain-logloss:-3.58604\teval-logloss:-3.18915\n",
            "[111]\ttrain-logloss:-3.58381\teval-logloss:-3.17133\n",
            "[112]\ttrain-logloss:-3.61113\teval-logloss:-3.19178\n",
            "[113]\ttrain-logloss:-3.63698\teval-logloss:-3.19525\n",
            "[114]\ttrain-logloss:-3.68966\teval-logloss:-3.2322\n",
            "[115]\ttrain-logloss:-3.68923\teval-logloss:-3.21968\n",
            "[116]\ttrain-logloss:-3.72246\teval-logloss:-3.25075\n",
            "[117]\ttrain-logloss:-3.72314\teval-logloss:-3.25231\n",
            "[118]\ttrain-logloss:-3.73845\teval-logloss:-3.27365\n",
            "[119]\ttrain-logloss:-3.74052\teval-logloss:-3.28779\n",
            "[120]\ttrain-logloss:-3.78217\teval-logloss:-3.34383\n",
            "[121]\ttrain-logloss:-3.76884\teval-logloss:-3.32772\n",
            "[122]\ttrain-logloss:-3.77003\teval-logloss:-3.32808\n",
            "[123]\ttrain-logloss:-3.77875\teval-logloss:-3.32813\n",
            "[124]\ttrain-logloss:-3.81278\teval-logloss:-3.36052\n",
            "[125]\ttrain-logloss:-3.81471\teval-logloss:-3.39337\n",
            "[126]\ttrain-logloss:-3.8264\teval-logloss:-3.4027\n",
            "[127]\ttrain-logloss:-3.85007\teval-logloss:-3.40769\n",
            "[128]\ttrain-logloss:-3.84728\teval-logloss:-3.40482\n",
            "[129]\ttrain-logloss:-3.85867\teval-logloss:-3.42631\n",
            "[130]\ttrain-logloss:-3.86127\teval-logloss:-3.42873\n",
            "[131]\ttrain-logloss:-3.86185\teval-logloss:-3.43062\n",
            "[132]\ttrain-logloss:-3.87733\teval-logloss:-3.46582\n",
            "[133]\ttrain-logloss:-3.87516\teval-logloss:-3.4679\n",
            "[134]\ttrain-logloss:-3.92474\teval-logloss:-3.49894\n",
            "[135]\ttrain-logloss:-3.94822\teval-logloss:-3.52669\n",
            "[136]\ttrain-logloss:-3.94252\teval-logloss:-3.52853\n",
            "[137]\ttrain-logloss:-3.96418\teval-logloss:-3.55076\n",
            "[138]\ttrain-logloss:-3.98136\teval-logloss:-3.56889\n",
            "[139]\ttrain-logloss:-3.97774\teval-logloss:-3.55467\n",
            "[140]\ttrain-logloss:-4.00365\teval-logloss:-3.58039\n",
            "[141]\ttrain-logloss:-4.04565\teval-logloss:-3.61354\n",
            "[142]\ttrain-logloss:-4.05318\teval-logloss:-3.61356\n",
            "[143]\ttrain-logloss:-4.04941\teval-logloss:-3.6146\n",
            "[144]\ttrain-logloss:-4.07082\teval-logloss:-3.62635\n",
            "[145]\ttrain-logloss:-4.07183\teval-logloss:-3.63775\n",
            "[146]\ttrain-logloss:-4.07113\teval-logloss:-3.62117\n",
            "[147]\ttrain-logloss:-4.07007\teval-logloss:-3.63955\n",
            "[148]\ttrain-logloss:-4.08451\teval-logloss:-3.66913\n",
            "[149]\ttrain-logloss:-4.08794\teval-logloss:-3.67229\n",
            "[150]\ttrain-logloss:-4.08893\teval-logloss:-3.66571\n",
            "[151]\ttrain-logloss:-4.11109\teval-logloss:-3.69799\n",
            "[152]\ttrain-logloss:-4.13756\teval-logloss:-3.70917\n",
            "[153]\ttrain-logloss:-4.13706\teval-logloss:-3.70967\n",
            "[154]\ttrain-logloss:-4.13927\teval-logloss:-3.70923\n",
            "[155]\ttrain-logloss:-4.14495\teval-logloss:-3.72183\n",
            "[156]\ttrain-logloss:-4.17123\teval-logloss:-3.72857\n",
            "[157]\ttrain-logloss:-4.17909\teval-logloss:-3.74091\n",
            "[158]\ttrain-logloss:-4.19869\teval-logloss:-3.75674\n",
            "[159]\ttrain-logloss:-4.20226\teval-logloss:-3.76702\n",
            "[160]\ttrain-logloss:-4.22229\teval-logloss:-3.78476\n",
            "[161]\ttrain-logloss:-4.22239\teval-logloss:-3.78486\n",
            "[162]\ttrain-logloss:-4.21608\teval-logloss:-3.77712\n",
            "[163]\ttrain-logloss:-4.25233\teval-logloss:-3.77571\n",
            "[164]\ttrain-logloss:-4.24272\teval-logloss:-3.77401\n",
            "[165]\ttrain-logloss:-4.24236\teval-logloss:-3.7739\n",
            "[166]\ttrain-logloss:-4.24535\teval-logloss:-3.77909\n",
            "[167]\ttrain-logloss:-4.24642\teval-logloss:-3.78172\n",
            "[168]\ttrain-logloss:-4.25463\teval-logloss:-3.79836\n",
            "[169]\ttrain-logloss:-4.28088\teval-logloss:-3.81714\n",
            "[170]\ttrain-logloss:-4.29685\teval-logloss:-3.84722\n",
            "[171]\ttrain-logloss:-4.31358\teval-logloss:-3.87573\n",
            "[172]\ttrain-logloss:-4.31438\teval-logloss:-3.87919\n",
            "[173]\ttrain-logloss:-4.31113\teval-logloss:-3.88379\n",
            "[174]\ttrain-logloss:-4.31461\teval-logloss:-3.86644\n",
            "[175]\ttrain-logloss:-4.30118\teval-logloss:-3.8384\n",
            "[176]\ttrain-logloss:-4.30216\teval-logloss:-3.83859\n",
            "[177]\ttrain-logloss:-4.30956\teval-logloss:-3.83584\n",
            "[178]\ttrain-logloss:-4.31488\teval-logloss:-3.85012\n",
            "[179]\ttrain-logloss:-4.31094\teval-logloss:-3.84324\n",
            "[180]\ttrain-logloss:-4.31284\teval-logloss:-3.83627\n",
            "[181]\ttrain-logloss:-4.31243\teval-logloss:-3.83183\n",
            "[182]\ttrain-logloss:-4.32463\teval-logloss:-3.85142\n",
            "[183]\ttrain-logloss:-4.3279\teval-logloss:-3.85323\n",
            "[184]\ttrain-logloss:-4.32773\teval-logloss:-3.85303\n",
            "[185]\ttrain-logloss:-4.32813\teval-logloss:-3.8653\n",
            "[186]\ttrain-logloss:-4.33415\teval-logloss:-3.88027\n",
            "[187]\ttrain-logloss:-4.34044\teval-logloss:-3.88495\n",
            "[188]\ttrain-logloss:-4.32804\teval-logloss:-3.87178\n",
            "[189]\ttrain-logloss:-4.38146\teval-logloss:-3.90726\n",
            "[190]\ttrain-logloss:-4.37334\teval-logloss:-3.89184\n",
            "[191]\ttrain-logloss:-4.38159\teval-logloss:-3.90266\n",
            "[192]\ttrain-logloss:-4.38219\teval-logloss:-3.90248\n",
            "[193]\ttrain-logloss:-4.38388\teval-logloss:-3.91021\n",
            "[194]\ttrain-logloss:-4.38444\teval-logloss:-3.93592\n",
            "[195]\ttrain-logloss:-4.41746\teval-logloss:-3.98084\n",
            "[196]\ttrain-logloss:-4.43469\teval-logloss:-3.98211\n",
            "[197]\ttrain-logloss:-4.41935\teval-logloss:-3.96782\n",
            "[198]\ttrain-logloss:-4.42981\teval-logloss:-3.96558\n",
            "[199]\ttrain-logloss:-4.43705\teval-logloss:-3.97111\n",
            "[200]\ttrain-logloss:-4.44174\teval-logloss:-3.97514\n",
            "[201]\ttrain-logloss:-4.45009\teval-logloss:-3.98404\n",
            "[202]\ttrain-logloss:-4.46133\teval-logloss:-3.99282\n",
            "[203]\ttrain-logloss:-4.44943\teval-logloss:-3.98751\n",
            "[204]\ttrain-logloss:-4.46806\teval-logloss:-3.9962\n",
            "[205]\ttrain-logloss:-4.48294\teval-logloss:-4.0013\n",
            "[206]\ttrain-logloss:-4.48966\teval-logloss:-4.00563\n",
            "[207]\ttrain-logloss:-4.50243\teval-logloss:-4.02126\n",
            "[208]\ttrain-logloss:-4.5465\teval-logloss:-4.04891\n",
            "[209]\ttrain-logloss:-4.54218\teval-logloss:-4.05197\n",
            "[210]\ttrain-logloss:-4.54599\teval-logloss:-4.05232\n",
            "[211]\ttrain-logloss:-4.54968\teval-logloss:-4.05601\n",
            "[212]\ttrain-logloss:-4.54345\teval-logloss:-4.05138\n",
            "[213]\ttrain-logloss:-4.55377\teval-logloss:-4.04841\n",
            "[214]\ttrain-logloss:-4.55668\teval-logloss:-4.03712\n",
            "[215]\ttrain-logloss:-4.55724\teval-logloss:-4.03655\n",
            "[216]\ttrain-logloss:-4.56253\teval-logloss:-4.03951\n",
            "[217]\ttrain-logloss:-4.58759\teval-logloss:-4.08119\n",
            "[218]\ttrain-logloss:-4.58724\teval-logloss:-4.08108\n",
            "[219]\ttrain-logloss:-4.6207\teval-logloss:-4.0882\n",
            "[220]\ttrain-logloss:-4.6229\teval-logloss:-4.07818\n",
            "[221]\ttrain-logloss:-4.62076\teval-logloss:-4.06831\n",
            "[222]\ttrain-logloss:-4.62081\teval-logloss:-4.06831\n",
            "[223]\ttrain-logloss:-4.64006\teval-logloss:-4.06754\n",
            "[224]\ttrain-logloss:-4.64554\teval-logloss:-4.0769\n",
            "[225]\ttrain-logloss:-4.64868\teval-logloss:-4.08237\n",
            "[226]\ttrain-logloss:-4.64267\teval-logloss:-4.07546\n",
            "[227]\ttrain-logloss:-4.65878\teval-logloss:-4.11415\n",
            "[228]\ttrain-logloss:-4.65987\teval-logloss:-4.11492\n",
            "[229]\ttrain-logloss:-4.66182\teval-logloss:-4.11267\n",
            "[230]\ttrain-logloss:-4.65596\teval-logloss:-4.09521\n",
            "[231]\ttrain-logloss:-4.66995\teval-logloss:-4.11232\n",
            "[232]\ttrain-logloss:-4.67901\teval-logloss:-4.12272\n",
            "[233]\ttrain-logloss:-4.70444\teval-logloss:-4.14567\n",
            "[234]\ttrain-logloss:-4.7099\teval-logloss:-4.14969\n",
            "[235]\ttrain-logloss:-4.70768\teval-logloss:-4.15013\n",
            "[236]\ttrain-logloss:-4.71004\teval-logloss:-4.1521\n",
            "[237]\ttrain-logloss:-4.71849\teval-logloss:-4.15668\n",
            "[238]\ttrain-logloss:-4.71667\teval-logloss:-4.1636\n",
            "[239]\ttrain-logloss:-4.71666\teval-logloss:-4.16768\n",
            "[240]\ttrain-logloss:-4.72364\teval-logloss:-4.17274\n",
            "[241]\ttrain-logloss:-4.73139\teval-logloss:-4.18304\n",
            "[242]\ttrain-logloss:-4.74975\teval-logloss:-4.20313\n",
            "[243]\ttrain-logloss:-4.74594\teval-logloss:-4.19181\n",
            "[244]\ttrain-logloss:-4.74134\teval-logloss:-4.19075\n",
            "[245]\ttrain-logloss:-4.74665\teval-logloss:-4.19868\n",
            "[246]\ttrain-logloss:-4.72909\teval-logloss:-4.17888\n",
            "[247]\ttrain-logloss:-4.7505\teval-logloss:-4.1907\n",
            "[248]\ttrain-logloss:-4.75115\teval-logloss:-4.19342\n",
            "[249]\ttrain-logloss:-4.77295\teval-logloss:-4.2326\n",
            "[250]\ttrain-logloss:-4.78064\teval-logloss:-4.2207\n",
            "[251]\ttrain-logloss:-4.7886\teval-logloss:-4.21335\n",
            "[252]\ttrain-logloss:-4.82493\teval-logloss:-4.23064\n",
            "[253]\ttrain-logloss:-4.83026\teval-logloss:-4.23661\n",
            "[254]\ttrain-logloss:-4.83735\teval-logloss:-4.22855\n",
            "[255]\ttrain-logloss:-4.83999\teval-logloss:-4.22397\n",
            "[256]\ttrain-logloss:-4.86396\teval-logloss:-4.2291\n",
            "[257]\ttrain-logloss:-4.86684\teval-logloss:-4.2457\n",
            "[258]\ttrain-logloss:-4.86998\teval-logloss:-4.24341\n",
            "[259]\ttrain-logloss:-4.89471\teval-logloss:-4.2714\n",
            "[260]\ttrain-logloss:-4.90351\teval-logloss:-4.2751\n",
            "[261]\ttrain-logloss:-4.8935\teval-logloss:-4.27172\n",
            "[262]\ttrain-logloss:-4.91527\teval-logloss:-4.31291\n",
            "[263]\ttrain-logloss:-4.90708\teval-logloss:-4.30846\n",
            "[264]\ttrain-logloss:-4.90996\teval-logloss:-4.3076\n",
            "[265]\ttrain-logloss:-4.9259\teval-logloss:-4.33428\n",
            "[266]\ttrain-logloss:-4.93062\teval-logloss:-4.33957\n",
            "[267]\ttrain-logloss:-4.92924\teval-logloss:-4.32939\n",
            "[268]\ttrain-logloss:-4.93196\teval-logloss:-4.33018\n",
            "[269]\ttrain-logloss:-4.93348\teval-logloss:-4.33407\n",
            "[270]\ttrain-logloss:-4.92422\teval-logloss:-4.31423\n",
            "[271]\ttrain-logloss:-4.94657\teval-logloss:-4.32311\n",
            "[272]\ttrain-logloss:-4.94739\teval-logloss:-4.31911\n",
            "[273]\ttrain-logloss:-4.94764\teval-logloss:-4.3192\n",
            "[274]\ttrain-logloss:-4.94278\teval-logloss:-4.33267\n",
            "[275]\ttrain-logloss:-4.955\teval-logloss:-4.32822\n",
            "[276]\ttrain-logloss:-4.95041\teval-logloss:-4.30291\n",
            "[277]\ttrain-logloss:-4.97188\teval-logloss:-4.32778\n",
            "[278]\ttrain-logloss:-4.97499\teval-logloss:-4.33054\n",
            "[279]\ttrain-logloss:-4.97618\teval-logloss:-4.32868\n",
            "[280]\ttrain-logloss:-4.97709\teval-logloss:-4.32621\n",
            "[281]\ttrain-logloss:-4.97759\teval-logloss:-4.33472\n",
            "[282]\ttrain-logloss:-4.99593\teval-logloss:-4.34559\n",
            "[283]\ttrain-logloss:-5.00032\teval-logloss:-4.34707\n",
            "[284]\ttrain-logloss:-4.99928\teval-logloss:-4.34573\n",
            "[285]\ttrain-logloss:-4.9994\teval-logloss:-4.34587\n",
            "[286]\ttrain-logloss:-5\teval-logloss:-4.34641\n",
            "[287]\ttrain-logloss:-4.99605\teval-logloss:-4.33901\n",
            "[288]\ttrain-logloss:-5.0081\teval-logloss:-4.33275\n",
            "[289]\ttrain-logloss:-5.00112\teval-logloss:-4.3369\n",
            "[290]\ttrain-logloss:-4.99546\teval-logloss:-4.33801\n",
            "[291]\ttrain-logloss:-4.99342\teval-logloss:-4.34184\n",
            "[292]\ttrain-logloss:-5.00296\teval-logloss:-4.34942\n",
            "[293]\ttrain-logloss:-5.0193\teval-logloss:-4.3483\n",
            "[294]\ttrain-logloss:-5.04035\teval-logloss:-4.36563\n",
            "[295]\ttrain-logloss:-5.03928\teval-logloss:-4.37252\n",
            "[296]\ttrain-logloss:-5.03707\teval-logloss:-4.38028\n",
            "[297]\ttrain-logloss:-5.04562\teval-logloss:-4.39139\n",
            "[298]\ttrain-logloss:-5.04732\teval-logloss:-4.40031\n",
            "[299]\ttrain-logloss:-5.05461\teval-logloss:-4.42491\n",
            "[300]\ttrain-logloss:-5.05665\teval-logloss:-4.42772\n",
            "[301]\ttrain-logloss:-5.08887\teval-logloss:-4.45332\n",
            "[302]\ttrain-logloss:-5.11026\teval-logloss:-4.47018\n",
            "[303]\ttrain-logloss:-5.1097\teval-logloss:-4.47612\n",
            "[304]\ttrain-logloss:-5.11083\teval-logloss:-4.47584\n",
            "[305]\ttrain-logloss:-5.12764\teval-logloss:-4.48388\n",
            "[306]\ttrain-logloss:-5.12812\teval-logloss:-4.49124\n",
            "[307]\ttrain-logloss:-5.13699\teval-logloss:-4.50406\n",
            "[308]\ttrain-logloss:-5.15005\teval-logloss:-4.5188\n",
            "[309]\ttrain-logloss:-5.14949\teval-logloss:-4.51903\n",
            "[310]\ttrain-logloss:-5.14121\teval-logloss:-4.52185\n",
            "[311]\ttrain-logloss:-5.14131\teval-logloss:-4.52183\n",
            "[312]\ttrain-logloss:-5.14249\teval-logloss:-4.51011\n",
            "[313]\ttrain-logloss:-5.14325\teval-logloss:-4.51041\n",
            "[314]\ttrain-logloss:-5.14913\teval-logloss:-4.51297\n",
            "[315]\ttrain-logloss:-5.14173\teval-logloss:-4.50972\n",
            "[316]\ttrain-logloss:-5.14098\teval-logloss:-4.50968\n",
            "[317]\ttrain-logloss:-5.14669\teval-logloss:-4.51628\n",
            "[318]\ttrain-logloss:-5.14687\teval-logloss:-4.5198\n",
            "[319]\ttrain-logloss:-5.16332\teval-logloss:-4.53586\n",
            "[320]\ttrain-logloss:-5.18133\teval-logloss:-4.55637\n",
            "[321]\ttrain-logloss:-5.19597\teval-logloss:-4.56829\n",
            "[322]\ttrain-logloss:-5.19409\teval-logloss:-4.56577\n",
            "[323]\ttrain-logloss:-5.19335\teval-logloss:-4.56394\n",
            "[324]\ttrain-logloss:-5.19648\teval-logloss:-4.57269\n",
            "[325]\ttrain-logloss:-5.19742\teval-logloss:-4.5728\n",
            "[326]\ttrain-logloss:-5.20556\teval-logloss:-4.57915\n",
            "[327]\ttrain-logloss:-5.18223\teval-logloss:-4.57665\n",
            "[328]\ttrain-logloss:-5.18225\teval-logloss:-4.57662\n",
            "[329]\ttrain-logloss:-5.19529\teval-logloss:-4.5827\n",
            "[330]\ttrain-logloss:-5.20239\teval-logloss:-4.58316\n",
            "[331]\ttrain-logloss:-5.20689\teval-logloss:-4.58673\n",
            "[332]\ttrain-logloss:-5.20691\teval-logloss:-4.58678\n",
            "[333]\ttrain-logloss:-5.21929\teval-logloss:-4.58751\n",
            "[334]\ttrain-logloss:-5.20625\teval-logloss:-4.55603\n",
            "[335]\ttrain-logloss:-5.19979\teval-logloss:-4.56159\n",
            "[336]\ttrain-logloss:-5.20054\teval-logloss:-4.55025\n",
            "[337]\ttrain-logloss:-5.18835\teval-logloss:-4.55225\n",
            "[338]\ttrain-logloss:-5.19146\teval-logloss:-4.56174\n",
            "[339]\ttrain-logloss:-5.19165\teval-logloss:-4.57241\n",
            "[340]\ttrain-logloss:-5.20619\teval-logloss:-4.57347\n",
            "[341]\ttrain-logloss:-5.22757\teval-logloss:-4.60568\n",
            "[342]\ttrain-logloss:-5.2299\teval-logloss:-4.61048\n",
            "[343]\ttrain-logloss:-5.22836\teval-logloss:-4.61806\n",
            "[344]\ttrain-logloss:-5.23023\teval-logloss:-4.61741\n",
            "[345]\ttrain-logloss:-5.25504\teval-logloss:-4.62129\n",
            "[346]\ttrain-logloss:-5.26836\teval-logloss:-4.63913\n",
            "[347]\ttrain-logloss:-5.25298\teval-logloss:-4.63476\n",
            "[348]\ttrain-logloss:-5.26017\teval-logloss:-4.6498\n",
            "[349]\ttrain-logloss:-5.26674\teval-logloss:-4.65716\n",
            "[350]\ttrain-logloss:-5.27879\teval-logloss:-4.68091\n",
            "[351]\ttrain-logloss:-5.2822\teval-logloss:-4.66067\n",
            "[352]\ttrain-logloss:-5.30029\teval-logloss:-4.67741\n",
            "[353]\ttrain-logloss:-5.29477\teval-logloss:-4.67699\n",
            "[354]\ttrain-logloss:-5.33216\teval-logloss:-4.6953\n",
            "[355]\ttrain-logloss:-5.32952\teval-logloss:-4.68934\n",
            "[356]\ttrain-logloss:-5.33026\teval-logloss:-4.70908\n",
            "[357]\ttrain-logloss:-5.34429\teval-logloss:-4.71743\n",
            "[358]\ttrain-logloss:-5.35913\teval-logloss:-4.73143\n",
            "[359]\ttrain-logloss:-5.37176\teval-logloss:-4.74363\n",
            "[360]\ttrain-logloss:-5.35886\teval-logloss:-4.73101\n",
            "[361]\ttrain-logloss:-5.35742\teval-logloss:-4.72665\n",
            "[362]\ttrain-logloss:-5.36358\teval-logloss:-4.72824\n",
            "[363]\ttrain-logloss:-5.37469\teval-logloss:-4.73752\n",
            "[364]\ttrain-logloss:-5.38556\teval-logloss:-4.72976\n",
            "[365]\ttrain-logloss:-5.38387\teval-logloss:-4.72793\n",
            "[366]\ttrain-logloss:-5.39323\teval-logloss:-4.73593\n",
            "[367]\ttrain-logloss:-5.37864\teval-logloss:-4.71909\n",
            "[368]\ttrain-logloss:-5.39396\teval-logloss:-4.74424\n",
            "[369]\ttrain-logloss:-5.39157\teval-logloss:-4.74751\n",
            "[370]\ttrain-logloss:-5.39551\teval-logloss:-4.74143\n",
            "[371]\ttrain-logloss:-5.4075\teval-logloss:-4.76836\n",
            "[372]\ttrain-logloss:-5.41558\teval-logloss:-4.77343\n",
            "[373]\ttrain-logloss:-5.42057\teval-logloss:-4.78366\n",
            "[374]\ttrain-logloss:-5.42486\teval-logloss:-4.79747\n",
            "[375]\ttrain-logloss:-5.42899\teval-logloss:-4.79549\n",
            "[376]\ttrain-logloss:-5.4236\teval-logloss:-4.79227\n",
            "[377]\ttrain-logloss:-5.44351\teval-logloss:-4.79233\n",
            "[378]\ttrain-logloss:-5.45228\teval-logloss:-4.79794\n",
            "[379]\ttrain-logloss:-5.45223\teval-logloss:-4.78878\n",
            "[380]\ttrain-logloss:-5.45848\teval-logloss:-4.78645\n",
            "[381]\ttrain-logloss:-5.46332\teval-logloss:-4.78835\n",
            "[382]\ttrain-logloss:-5.45963\teval-logloss:-4.78804\n",
            "[383]\ttrain-logloss:-5.52091\teval-logloss:-4.82355\n",
            "[384]\ttrain-logloss:-5.51869\teval-logloss:-4.82131\n",
            "[385]\ttrain-logloss:-5.51825\teval-logloss:-4.81441\n",
            "[386]\ttrain-logloss:-5.52094\teval-logloss:-4.81854\n",
            "[387]\ttrain-logloss:-5.52875\teval-logloss:-4.82367\n",
            "[388]\ttrain-logloss:-5.52958\teval-logloss:-4.80452\n",
            "[389]\ttrain-logloss:-5.52861\teval-logloss:-4.80836\n",
            "[390]\ttrain-logloss:-5.5259\teval-logloss:-4.79891\n",
            "[391]\ttrain-logloss:-5.52608\teval-logloss:-4.7992\n",
            "[392]\ttrain-logloss:-5.53165\teval-logloss:-4.79956\n",
            "[393]\ttrain-logloss:-5.54201\teval-logloss:-4.80488\n",
            "[394]\ttrain-logloss:-5.54529\teval-logloss:-4.80695\n",
            "[395]\ttrain-logloss:-5.54698\teval-logloss:-4.81695\n",
            "[396]\ttrain-logloss:-5.55593\teval-logloss:-4.82724\n",
            "[397]\ttrain-logloss:-5.55847\teval-logloss:-4.82496\n",
            "[398]\ttrain-logloss:-5.56979\teval-logloss:-4.82547\n",
            "[399]\ttrain-logloss:-5.58201\teval-logloss:-4.82791\n"
          ],
          "name": "stdout"
        }
      ]
    },
    {
      "cell_type": "code",
      "metadata": {
        "id": "gCsWdiNbY3Cd"
      },
      "source": [
        ""
      ],
      "execution_count": null,
      "outputs": []
    }
  ]
}