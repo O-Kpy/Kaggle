{
  "nbformat": 4,
  "nbformat_minor": 0,
  "metadata": {
    "colab": {
      "name": "Dacon 신용 예측 연습.ipynb",
      "provenance": [],
      "collapsed_sections": [],
      "mount_file_id": "1szl9FEXuu63wz0c8jdMQT5ER3FMXqtk5",
      "authorship_tag": "ABX9TyMS8MBoB7zeCaBt048d6y0j",
      "include_colab_link": true
    },
    "kernelspec": {
      "name": "python3",
      "display_name": "Python 3"
    },
    "language_info": {
      "name": "python"
    }
  },
  "cells": [
    {
      "cell_type": "markdown",
      "metadata": {
        "id": "view-in-github",
        "colab_type": "text"
      },
      "source": [
        "<a href=\"https://colab.research.google.com/github/O-Kpy/Kaggle/blob/main/Dacon_%EC%8B%A0%EC%9A%A9_%EC%98%88%EC%B8%A1_%EC%97%B0%EC%8A%B5.ipynb\" target=\"_parent\"><img src=\"https://colab.research.google.com/assets/colab-badge.svg\" alt=\"Open In Colab\"/></a>"
      ]
    },
    {
      "cell_type": "code",
      "metadata": {
        "id": "KdWSmDqn8ih5"
      },
      "source": [
        "import numpy as np\n",
        "import pandas as pd\n",
        "import matplotlib.pyplot as plt\n",
        "%matplotlib inline\n",
        "import seaborn as sns\n",
        "sns.set_style('whitegrid')\n",
        "import warnings\n",
        "warnings.filterwarnings('ignore')\n",
        "import plotly.express as px\n",
        "import plotly.graph_objects as go\n",
        "import itertools"
      ],
      "execution_count": 123,
      "outputs": []
    },
    {
      "cell_type": "code",
      "metadata": {
        "colab": {
          "base_uri": "https://localhost:8080/"
        },
        "id": "9AxEGeio8ikD",
        "outputId": "f7370081-a3e1-4362-ae8e-6d3bee1e1362"
      },
      "source": [
        "pip install plotly.express"
      ],
      "execution_count": null,
      "outputs": [
        {
          "output_type": "stream",
          "text": [
            "Collecting plotly.express\n",
            "  Downloading https://files.pythonhosted.org/packages/d4/d6/8a2906f51e073a4be80cab35cfa10e7a34853e60f3ed5304ac470852a08d/plotly_express-0.4.1-py2.py3-none-any.whl\n",
            "Requirement already satisfied: plotly>=4.1.0 in /usr/local/lib/python3.7/dist-packages (from plotly.express) (4.4.1)\n",
            "Requirement already satisfied: numpy>=1.11 in /usr/local/lib/python3.7/dist-packages (from plotly.express) (1.19.5)\n",
            "Requirement already satisfied: patsy>=0.5 in /usr/local/lib/python3.7/dist-packages (from plotly.express) (0.5.1)\n",
            "Requirement already satisfied: scipy>=0.18 in /usr/local/lib/python3.7/dist-packages (from plotly.express) (1.4.1)\n",
            "Requirement already satisfied: pandas>=0.20.0 in /usr/local/lib/python3.7/dist-packages (from plotly.express) (1.1.5)\n",
            "Requirement already satisfied: statsmodels>=0.9.0 in /usr/local/lib/python3.7/dist-packages (from plotly.express) (0.10.2)\n",
            "Requirement already satisfied: retrying>=1.3.3 in /usr/local/lib/python3.7/dist-packages (from plotly>=4.1.0->plotly.express) (1.3.3)\n",
            "Requirement already satisfied: six in /usr/local/lib/python3.7/dist-packages (from plotly>=4.1.0->plotly.express) (1.15.0)\n",
            "Requirement already satisfied: python-dateutil>=2.7.3 in /usr/local/lib/python3.7/dist-packages (from pandas>=0.20.0->plotly.express) (2.8.1)\n",
            "Requirement already satisfied: pytz>=2017.2 in /usr/local/lib/python3.7/dist-packages (from pandas>=0.20.0->plotly.express) (2018.9)\n",
            "Installing collected packages: plotly.express\n",
            "Successfully installed plotly.express\n"
          ],
          "name": "stdout"
        }
      ]
    },
    {
      "cell_type": "code",
      "metadata": {
        "colab": {
          "base_uri": "https://localhost:8080/"
        },
        "id": "KJhV4JS_8on0",
        "outputId": "5a272f9b-4392-4115-b386-c1a4bf5572c6"
      },
      "source": [
        "pip install pywaffle"
      ],
      "execution_count": null,
      "outputs": [
        {
          "output_type": "stream",
          "text": [
            "Collecting pywaffle\n",
            "\u001b[?25l  Downloading https://files.pythonhosted.org/packages/e2/93/9a1e014fef383149b0f6dccdb8b2f2126d8827d4d48f2884949d6f8769ea/pywaffle-0.6.1-py2.py3-none-any.whl (526kB)\n",
            "\r\u001b[K     |▋                               | 10kB 14.4MB/s eta 0:00:01\r\u001b[K     |█▎                              | 20kB 17.3MB/s eta 0:00:01\r\u001b[K     |█▉                              | 30kB 14.7MB/s eta 0:00:01\r\u001b[K     |██▌                             | 40kB 10.8MB/s eta 0:00:01\r\u001b[K     |███                             | 51kB 8.4MB/s eta 0:00:01\r\u001b[K     |███▊                            | 61kB 7.0MB/s eta 0:00:01\r\u001b[K     |████▍                           | 71kB 7.7MB/s eta 0:00:01\r\u001b[K     |█████                           | 81kB 8.5MB/s eta 0:00:01\r\u001b[K     |█████▋                          | 92kB 8.5MB/s eta 0:00:01\r\u001b[K     |██████▏                         | 102kB 8.6MB/s eta 0:00:01\r\u001b[K     |██████▉                         | 112kB 8.6MB/s eta 0:00:01\r\u001b[K     |███████▌                        | 122kB 8.6MB/s eta 0:00:01\r\u001b[K     |████████                        | 133kB 8.6MB/s eta 0:00:01\r\u001b[K     |████████▊                       | 143kB 8.6MB/s eta 0:00:01\r\u001b[K     |█████████▎                      | 153kB 8.6MB/s eta 0:00:01\r\u001b[K     |██████████                      | 163kB 8.6MB/s eta 0:00:01\r\u001b[K     |██████████▋                     | 174kB 8.6MB/s eta 0:00:01\r\u001b[K     |███████████▏                    | 184kB 8.6MB/s eta 0:00:01\r\u001b[K     |███████████▉                    | 194kB 8.6MB/s eta 0:00:01\r\u001b[K     |████████████▍                   | 204kB 8.6MB/s eta 0:00:01\r\u001b[K     |█████████████                   | 215kB 8.6MB/s eta 0:00:01\r\u001b[K     |█████████████▊                  | 225kB 8.6MB/s eta 0:00:01\r\u001b[K     |██████████████▎                 | 235kB 8.6MB/s eta 0:00:01\r\u001b[K     |███████████████                 | 245kB 8.6MB/s eta 0:00:01\r\u001b[K     |███████████████▌                | 256kB 8.6MB/s eta 0:00:01\r\u001b[K     |████████████████▏               | 266kB 8.6MB/s eta 0:00:01\r\u001b[K     |████████████████▉               | 276kB 8.6MB/s eta 0:00:01\r\u001b[K     |█████████████████▍              | 286kB 8.6MB/s eta 0:00:01\r\u001b[K     |██████████████████              | 296kB 8.6MB/s eta 0:00:01\r\u001b[K     |██████████████████▋             | 307kB 8.6MB/s eta 0:00:01\r\u001b[K     |███████████████████▎            | 317kB 8.6MB/s eta 0:00:01\r\u001b[K     |████████████████████            | 327kB 8.6MB/s eta 0:00:01\r\u001b[K     |████████████████████▌           | 337kB 8.6MB/s eta 0:00:01\r\u001b[K     |█████████████████████▏          | 348kB 8.6MB/s eta 0:00:01\r\u001b[K     |█████████████████████▊          | 358kB 8.6MB/s eta 0:00:01\r\u001b[K     |██████████████████████▍         | 368kB 8.6MB/s eta 0:00:01\r\u001b[K     |███████████████████████         | 378kB 8.6MB/s eta 0:00:01\r\u001b[K     |███████████████████████▋        | 389kB 8.6MB/s eta 0:00:01\r\u001b[K     |████████████████████████▎       | 399kB 8.6MB/s eta 0:00:01\r\u001b[K     |████████████████████████▉       | 409kB 8.6MB/s eta 0:00:01\r\u001b[K     |█████████████████████████▌      | 419kB 8.6MB/s eta 0:00:01\r\u001b[K     |██████████████████████████▏     | 430kB 8.6MB/s eta 0:00:01\r\u001b[K     |██████████████████████████▊     | 440kB 8.6MB/s eta 0:00:01\r\u001b[K     |███████████████████████████▍    | 450kB 8.6MB/s eta 0:00:01\r\u001b[K     |████████████████████████████    | 460kB 8.6MB/s eta 0:00:01\r\u001b[K     |████████████████████████████▋   | 471kB 8.6MB/s eta 0:00:01\r\u001b[K     |█████████████████████████████▎  | 481kB 8.6MB/s eta 0:00:01\r\u001b[K     |█████████████████████████████▉  | 491kB 8.6MB/s eta 0:00:01\r\u001b[K     |██████████████████████████████▌ | 501kB 8.6MB/s eta 0:00:01\r\u001b[K     |███████████████████████████████ | 512kB 8.6MB/s eta 0:00:01\r\u001b[K     |███████████████████████████████▊| 522kB 8.6MB/s eta 0:00:01\r\u001b[K     |████████████████████████████████| 532kB 8.6MB/s \n",
            "\u001b[?25hRequirement already satisfied: matplotlib in /usr/local/lib/python3.7/dist-packages (from pywaffle) (3.2.2)\n",
            "Requirement already satisfied: numpy>=1.11 in /usr/local/lib/python3.7/dist-packages (from matplotlib->pywaffle) (1.19.5)\n",
            "Requirement already satisfied: kiwisolver>=1.0.1 in /usr/local/lib/python3.7/dist-packages (from matplotlib->pywaffle) (1.3.1)\n",
            "Requirement already satisfied: cycler>=0.10 in /usr/local/lib/python3.7/dist-packages (from matplotlib->pywaffle) (0.10.0)\n",
            "Requirement already satisfied: python-dateutil>=2.1 in /usr/local/lib/python3.7/dist-packages (from matplotlib->pywaffle) (2.8.1)\n",
            "Requirement already satisfied: pyparsing!=2.0.4,!=2.1.2,!=2.1.6,>=2.0.1 in /usr/local/lib/python3.7/dist-packages (from matplotlib->pywaffle) (2.4.7)\n",
            "Requirement already satisfied: six in /usr/local/lib/python3.7/dist-packages (from cycler>=0.10->matplotlib->pywaffle) (1.15.0)\n",
            "Installing collected packages: pywaffle\n",
            "Successfully installed pywaffle-0.6.1\n"
          ],
          "name": "stdout"
        }
      ]
    },
    {
      "cell_type": "code",
      "metadata": {
        "colab": {
          "base_uri": "https://localhost:8080/"
        },
        "id": "FzrzeZOw8y8Q",
        "outputId": "4d53d831-348e-439b-df6d-e6e44d3517ad"
      },
      "source": [
        "pip install --upgrade plotly"
      ],
      "execution_count": null,
      "outputs": [
        {
          "output_type": "stream",
          "text": [
            "Collecting plotly\n",
            "\u001b[?25l  Downloading https://files.pythonhosted.org/packages/1f/f6/bd3c17c8003b6641df1228e80e1acac97ed8402635e46c2571f8e1ef63af/plotly-4.14.3-py2.py3-none-any.whl (13.2MB)\n",
            "\u001b[K     |████████████████████████████████| 13.2MB 252kB/s \n",
            "\u001b[?25hRequirement already satisfied, skipping upgrade: six in /usr/local/lib/python3.7/dist-packages (from plotly) (1.15.0)\n",
            "Requirement already satisfied, skipping upgrade: retrying>=1.3.3 in /usr/local/lib/python3.7/dist-packages (from plotly) (1.3.3)\n",
            "Installing collected packages: plotly\n",
            "  Found existing installation: plotly 4.4.1\n",
            "    Uninstalling plotly-4.4.1:\n",
            "      Successfully uninstalled plotly-4.4.1\n",
            "Successfully installed plotly-4.14.3\n"
          ],
          "name": "stdout"
        }
      ]
    },
    {
      "cell_type": "markdown",
      "metadata": {
        "id": "79uqwmNU9sdz"
      },
      "source": [
        "# **신용카드 사용자 연체 예측 AI 경진대회(Dacon)**\n",
        "\n",
        "*   2021-04-10부터 시작(본인이)\n",
        "*   신용카드 사용자 데이터를 보고 사용자의 대금 연체 정도를 예측하는 알고리즘 개발 \n",
        "*   신용카드 사용자들의 개인 신상정보 데이터로 사용자의 신용카드 대금 연체 정도를 예측\n",
        "*   이번 대회는 특이하게 심사기준이 Logloss(손실함수)이다.\n",
        "\n",
        "index\n",
        "\n",
        "\n",
        "gender: 성별\n",
        "\n",
        "\n",
        "car: 차량 소유 여부\n",
        "\n",
        "\n",
        "reality: 부동산 소유 여부\n",
        "\n",
        "\n",
        "child_num: 자녀 수\n",
        "\n",
        "\n",
        "income_total: 연간 소득\n",
        "\n",
        "\n",
        "income_type: 소득 분류\n",
        "\n",
        "\n",
        "\t\t\t\t\t\t\t['Commercial associate', 'Working', 'State servant', 'Pensioner', 'Student']\n",
        "\n",
        "\n",
        "\n",
        "edu_type: 교육 수준\n",
        "\n",
        "\n",
        "\t\t\t\t\t\t\t['Higher education' ,'Secondary / secondary special', 'Incomplete higher', 'Lower secondary', 'Academic degree']\n",
        "\n",
        "\n",
        "\n",
        "family_type: 결혼 여부\n",
        "\n",
        "\n",
        "\t\t\t\t\t\t\t['Married', 'Civil marriage', 'Separated', 'Single / not married', 'Widow']\n",
        "\n",
        "\n",
        "\n",
        "house_type: 생활 방식\n",
        "\n",
        "\n",
        "\t\t\t\t\t\t\t['Municipal apartment', 'House / apartment', 'With parents',\n",
        "\n",
        "\t\t\t\t\t\t\t\n",
        "\n",
        "\t\t\t\t\t\t\t 'Co-op apartment', 'Rented apartment', 'Office apartment']\n",
        "\n",
        "\n",
        "\n",
        "DAYS_BIRTH: 출생일\n",
        "\n",
        "\n",
        "\t\t\t\t\t\t\t데이터 수집 당시 (0)부터 역으로 셈, 즉, -1은 데이터 수집일 하루 전에 태어났음을 의미\n",
        "\n",
        "\n",
        "\n",
        "DAYS_EMPLOYED: 업무 시작일\n",
        "\n",
        "\n",
        "\t\t\t\t\t\t\t데이터 수집 당시 (0)부터 역으로 셈, 즉, -1은 데이터 수집일 하루 전부터 일을 시작함을 의미\n",
        "\n",
        "\t\t\t\t\t\t\t\t\t\t\t\t\t\n",
        "\n",
        "\t\t\t\t\t\t\t양수 값은 고용되지 않은 상태를 의미함\n",
        "\n",
        "\n",
        "\n",
        "FLAG_MOBIL: 핸드폰 소유 여부\n",
        "\n",
        "\n",
        "work_phone: 업무용 전화 소유 여부\n",
        "\n",
        "\n",
        "phone: 전화 소유 여부\n",
        "\n",
        "\n",
        "email: 이메일 소유 여부\n",
        "\n",
        "\n",
        "occyp_type: 직업 유형\t\t\t\t\t\t\t\t\t\t\t\t\t\n",
        "\n",
        "\n",
        "family_size: 가족 규모\n",
        "\n",
        "\n",
        "begin_month: 신용카드 발급 월\n",
        "\t\t\t\n",
        "\n",
        "\t\t\t\t\t\t\t데이터 수집 당시 (0)부터 역으로 셈, 즉, -1은 데이터 수집일 한 달 전에 신용카드를 발급함을 의미\n",
        "\n",
        "\n",
        "\n",
        "\n",
        "\n",
        "\n",
        "\n",
        "credit: 사용자의 신용카드 대금 연체를 기준의 신용도\n",
        "\n",
        "\n",
        "\t\t\t\t\t\t\t=> 낮을 수록 높은 신용의 신용카드 사용자를 의미함\n"
      ]
    },
    {
      "cell_type": "code",
      "metadata": {
        "id": "jaSS06PBathz"
      },
      "source": [
        "train = pd.read_csv('/content/drive/MyDrive/dataset/Dacon/대회/신용카드 사용자 연체 예측 AI 경진대회/train.csv')\n",
        "test = pd.read_csv('/content/drive/MyDrive/dataset/Dacon/대회/신용카드 사용자 연체 예측 AI 경진대회/test.csv')"
      ],
      "execution_count": 70,
      "outputs": []
    },
    {
      "cell_type": "code",
      "metadata": {
        "id": "WBEGfdOlmEeU"
      },
      "source": [
        "sample = pd.read_csv('/content/drive/MyDrive/dataset/Dacon/대회/신용카드 사용자 연체 예측 AI 경진대회/sample_submission.csv')"
      ],
      "execution_count": 116,
      "outputs": []
    },
    {
      "cell_type": "code",
      "metadata": {
        "colab": {
          "base_uri": "https://localhost:8080/"
        },
        "id": "1yyoqC1A8imC",
        "outputId": "13499966-4bb6-48ca-9542-48ba1e794e71"
      },
      "source": [
        "print(f'train shape:{train.shape}, test shape:{test.shape}')"
      ],
      "execution_count": 8,
      "outputs": [
        {
          "output_type": "stream",
          "text": [
            "train shape:(26457, 20), test shape:(10000, 19)\n"
          ],
          "name": "stdout"
        }
      ]
    },
    {
      "cell_type": "code",
      "metadata": {
        "id": "T40W_U3ZRcjc"
      },
      "source": [
        "data = pd.concat(['train', 'test'], axis=0)"
      ],
      "execution_count": null,
      "outputs": []
    },
    {
      "cell_type": "code",
      "metadata": {
        "colab": {
          "base_uri": "https://localhost:8080/"
        },
        "id": "pUHjSJ4l8ioM",
        "outputId": "2710b262-ed33-47fd-863f-d1c73cd475b3"
      },
      "source": [
        "train.info()"
      ],
      "execution_count": 24,
      "outputs": [
        {
          "output_type": "stream",
          "text": [
            "<class 'pandas.core.frame.DataFrame'>\n",
            "RangeIndex: 26457 entries, 0 to 26456\n",
            "Data columns (total 20 columns):\n",
            " #   Column         Non-Null Count  Dtype  \n",
            "---  ------         --------------  -----  \n",
            " 0   index          26457 non-null  int64  \n",
            " 1   gender         26457 non-null  object \n",
            " 2   car            26457 non-null  object \n",
            " 3   reality        26457 non-null  object \n",
            " 4   child_num      26457 non-null  int64  \n",
            " 5   income_total   26457 non-null  float64\n",
            " 6   income_type    26457 non-null  object \n",
            " 7   edu_type       26457 non-null  object \n",
            " 8   family_type    26457 non-null  object \n",
            " 9   house_type     26457 non-null  object \n",
            " 10  DAYS_BIRTH     26457 non-null  int64  \n",
            " 11  DAYS_EMPLOYED  26457 non-null  int64  \n",
            " 12  FLAG_MOBIL     26457 non-null  int64  \n",
            " 13  work_phone     26457 non-null  int64  \n",
            " 14  phone          26457 non-null  int64  \n",
            " 15  email          26457 non-null  int64  \n",
            " 16  occyp_type     18286 non-null  object \n",
            " 17  family_size    26457 non-null  float64\n",
            " 18  begin_month    26457 non-null  float64\n",
            " 19  credit         26457 non-null  float64\n",
            "dtypes: float64(4), int64(8), object(8)\n",
            "memory usage: 4.0+ MB\n"
          ],
          "name": "stdout"
        }
      ]
    },
    {
      "cell_type": "code",
      "metadata": {
        "colab": {
          "base_uri": "https://localhost:8080/"
        },
        "id": "Obkixf2aA35S",
        "outputId": "9531f62f-6a8c-4f25-904a-c8248fed1104"
      },
      "source": [
        "test.info()"
      ],
      "execution_count": null,
      "outputs": [
        {
          "output_type": "stream",
          "text": [
            "<class 'pandas.core.frame.DataFrame'>\n",
            "RangeIndex: 10000 entries, 0 to 9999\n",
            "Data columns (total 19 columns):\n",
            " #   Column         Non-Null Count  Dtype  \n",
            "---  ------         --------------  -----  \n",
            " 0   index          10000 non-null  int64  \n",
            " 1   gender         10000 non-null  object \n",
            " 2   car            10000 non-null  object \n",
            " 3   reality        10000 non-null  object \n",
            " 4   child_num      10000 non-null  int64  \n",
            " 5   income_total   10000 non-null  float64\n",
            " 6   income_type    10000 non-null  object \n",
            " 7   edu_type       10000 non-null  object \n",
            " 8   family_type    10000 non-null  object \n",
            " 9   house_type     10000 non-null  object \n",
            " 10  DAYS_BIRTH     10000 non-null  int64  \n",
            " 11  DAYS_EMPLOYED  10000 non-null  int64  \n",
            " 12  FLAG_MOBIL     10000 non-null  int64  \n",
            " 13  work_phone     10000 non-null  int64  \n",
            " 14  phone          10000 non-null  int64  \n",
            " 15  email          10000 non-null  int64  \n",
            " 16  occyp_type     6848 non-null   object \n",
            " 17  family_size    10000 non-null  float64\n",
            " 18  begin_month    10000 non-null  float64\n",
            "dtypes: float64(3), int64(8), object(8)\n",
            "memory usage: 1.4+ MB\n"
          ],
          "name": "stdout"
        }
      ]
    },
    {
      "cell_type": "code",
      "metadata": {
        "colab": {
          "base_uri": "https://localhost:8080/",
          "height": 366
        },
        "id": "mZk58MDA_hJy",
        "outputId": "4cfd98f0-5da2-41e7-ccfe-419397299055"
      },
      "source": [
        "train.head()"
      ],
      "execution_count": null,
      "outputs": [
        {
          "output_type": "execute_result",
          "data": {
            "text/html": [
              "<div>\n",
              "<style scoped>\n",
              "    .dataframe tbody tr th:only-of-type {\n",
              "        vertical-align: middle;\n",
              "    }\n",
              "\n",
              "    .dataframe tbody tr th {\n",
              "        vertical-align: top;\n",
              "    }\n",
              "\n",
              "    .dataframe thead th {\n",
              "        text-align: right;\n",
              "    }\n",
              "</style>\n",
              "<table border=\"1\" class=\"dataframe\">\n",
              "  <thead>\n",
              "    <tr style=\"text-align: right;\">\n",
              "      <th></th>\n",
              "      <th>index</th>\n",
              "      <th>gender</th>\n",
              "      <th>car</th>\n",
              "      <th>reality</th>\n",
              "      <th>child_num</th>\n",
              "      <th>income_total</th>\n",
              "      <th>income_type</th>\n",
              "      <th>edu_type</th>\n",
              "      <th>family_type</th>\n",
              "      <th>house_type</th>\n",
              "      <th>DAYS_BIRTH</th>\n",
              "      <th>DAYS_EMPLOYED</th>\n",
              "      <th>FLAG_MOBIL</th>\n",
              "      <th>work_phone</th>\n",
              "      <th>phone</th>\n",
              "      <th>email</th>\n",
              "      <th>occyp_type</th>\n",
              "      <th>family_size</th>\n",
              "      <th>begin_month</th>\n",
              "      <th>credit</th>\n",
              "    </tr>\n",
              "  </thead>\n",
              "  <tbody>\n",
              "    <tr>\n",
              "      <th>0</th>\n",
              "      <td>0</td>\n",
              "      <td>F</td>\n",
              "      <td>N</td>\n",
              "      <td>N</td>\n",
              "      <td>0</td>\n",
              "      <td>202500.0</td>\n",
              "      <td>Commercial associate</td>\n",
              "      <td>Higher education</td>\n",
              "      <td>Married</td>\n",
              "      <td>Municipal apartment</td>\n",
              "      <td>-13899</td>\n",
              "      <td>-4709</td>\n",
              "      <td>1</td>\n",
              "      <td>0</td>\n",
              "      <td>0</td>\n",
              "      <td>0</td>\n",
              "      <td>NaN</td>\n",
              "      <td>2.0</td>\n",
              "      <td>-6.0</td>\n",
              "      <td>1.0</td>\n",
              "    </tr>\n",
              "    <tr>\n",
              "      <th>1</th>\n",
              "      <td>1</td>\n",
              "      <td>F</td>\n",
              "      <td>N</td>\n",
              "      <td>Y</td>\n",
              "      <td>1</td>\n",
              "      <td>247500.0</td>\n",
              "      <td>Commercial associate</td>\n",
              "      <td>Secondary / secondary special</td>\n",
              "      <td>Civil marriage</td>\n",
              "      <td>House / apartment</td>\n",
              "      <td>-11380</td>\n",
              "      <td>-1540</td>\n",
              "      <td>1</td>\n",
              "      <td>0</td>\n",
              "      <td>0</td>\n",
              "      <td>1</td>\n",
              "      <td>Laborers</td>\n",
              "      <td>3.0</td>\n",
              "      <td>-5.0</td>\n",
              "      <td>1.0</td>\n",
              "    </tr>\n",
              "    <tr>\n",
              "      <th>2</th>\n",
              "      <td>2</td>\n",
              "      <td>M</td>\n",
              "      <td>Y</td>\n",
              "      <td>Y</td>\n",
              "      <td>0</td>\n",
              "      <td>450000.0</td>\n",
              "      <td>Working</td>\n",
              "      <td>Higher education</td>\n",
              "      <td>Married</td>\n",
              "      <td>House / apartment</td>\n",
              "      <td>-19087</td>\n",
              "      <td>-4434</td>\n",
              "      <td>1</td>\n",
              "      <td>0</td>\n",
              "      <td>1</td>\n",
              "      <td>0</td>\n",
              "      <td>Managers</td>\n",
              "      <td>2.0</td>\n",
              "      <td>-22.0</td>\n",
              "      <td>2.0</td>\n",
              "    </tr>\n",
              "    <tr>\n",
              "      <th>3</th>\n",
              "      <td>3</td>\n",
              "      <td>F</td>\n",
              "      <td>N</td>\n",
              "      <td>Y</td>\n",
              "      <td>0</td>\n",
              "      <td>202500.0</td>\n",
              "      <td>Commercial associate</td>\n",
              "      <td>Secondary / secondary special</td>\n",
              "      <td>Married</td>\n",
              "      <td>House / apartment</td>\n",
              "      <td>-15088</td>\n",
              "      <td>-2092</td>\n",
              "      <td>1</td>\n",
              "      <td>0</td>\n",
              "      <td>1</td>\n",
              "      <td>0</td>\n",
              "      <td>Sales staff</td>\n",
              "      <td>2.0</td>\n",
              "      <td>-37.0</td>\n",
              "      <td>0.0</td>\n",
              "    </tr>\n",
              "    <tr>\n",
              "      <th>4</th>\n",
              "      <td>4</td>\n",
              "      <td>F</td>\n",
              "      <td>Y</td>\n",
              "      <td>Y</td>\n",
              "      <td>0</td>\n",
              "      <td>157500.0</td>\n",
              "      <td>State servant</td>\n",
              "      <td>Higher education</td>\n",
              "      <td>Married</td>\n",
              "      <td>House / apartment</td>\n",
              "      <td>-15037</td>\n",
              "      <td>-2105</td>\n",
              "      <td>1</td>\n",
              "      <td>0</td>\n",
              "      <td>0</td>\n",
              "      <td>0</td>\n",
              "      <td>Managers</td>\n",
              "      <td>2.0</td>\n",
              "      <td>-26.0</td>\n",
              "      <td>2.0</td>\n",
              "    </tr>\n",
              "  </tbody>\n",
              "</table>\n",
              "</div>"
            ],
            "text/plain": [
              "   index gender car reality  ...   occyp_type  family_size begin_month credit\n",
              "0      0      F   N       N  ...          NaN          2.0        -6.0    1.0\n",
              "1      1      F   N       Y  ...     Laborers          3.0        -5.0    1.0\n",
              "2      2      M   Y       Y  ...     Managers          2.0       -22.0    2.0\n",
              "3      3      F   N       Y  ...  Sales staff          2.0       -37.0    0.0\n",
              "4      4      F   Y       Y  ...     Managers          2.0       -26.0    2.0\n",
              "\n",
              "[5 rows x 20 columns]"
            ]
          },
          "metadata": {
            "tags": []
          },
          "execution_count": 5
        }
      ]
    },
    {
      "cell_type": "code",
      "metadata": {
        "colab": {
          "base_uri": "https://localhost:8080/",
          "height": 282
        },
        "id": "q_ncbNx0KjDq",
        "outputId": "1ee16239-35f9-4648-d648-3b2b0fbb3f03"
      },
      "source": [
        "train.credit.hist()"
      ],
      "execution_count": 11,
      "outputs": [
        {
          "output_type": "execute_result",
          "data": {
            "text/plain": [
              "<matplotlib.axes._subplots.AxesSubplot at 0x7fde488ee910>"
            ]
          },
          "metadata": {
            "tags": []
          },
          "execution_count": 11
        },
        {
          "output_type": "display_data",
          "data": {
            "image/png": "[encoded data removed]",
            "text/plain": [
              "<Figure size 432x288 with 1 Axes>"
            ]
          },
          "metadata": {
            "tags": [],
            "needs_background": "light"
          }
        }
      ]
    },
    {
      "cell_type": "code",
      "metadata": {
        "colab": {
          "base_uri": "https://localhost:8080/"
        },
        "id": "Y6F5kg_fLC_f",
        "outputId": "333cb715-3a9e-4a8b-e9f1-b30cf40dcaba"
      },
      "source": [
        "train.credit.value_counts()"
      ],
      "execution_count": null,
      "outputs": [
        {
          "output_type": "execute_result",
          "data": {
            "text/plain": [
              "2    16968\n",
              "1     6267\n",
              "0     3222\n",
              "Name: credit, dtype: int64"
            ]
          },
          "metadata": {
            "tags": []
          },
          "execution_count": 52
        }
      ]
    },
    {
      "cell_type": "code",
      "metadata": {
        "id": "qy1ozUQgJvAP"
      },
      "source": [
        "from sklearn.utils import resample\n",
        "train.credit = train.credit.astype(int)"
      ],
      "execution_count": 71,
      "outputs": []
    },
    {
      "cell_type": "code",
      "metadata": {
        "id": "0q3SlCMrJ2EJ"
      },
      "source": [
        "a_credit = train[train.credit == 0]\n",
        "b_credit = train[train.credit == 1]\n",
        "c_credit = train[train.credit == 2]\n",
        "a_oversampled = resample(a_credit, replace=True, n_samples=len(c_credit), random_state=123)\n",
        "b_oversampled = resample(b_credit, replace=True, n_samples=len(c_credit), random_state=123)\n",
        "train = pd.concat([c_credit, a_oversampled, b_oversampled], axis=0)"
      ],
      "execution_count": 72,
      "outputs": []
    },
    {
      "cell_type": "code",
      "metadata": {
        "id": "yKI65nAmP_y3"
      },
      "source": [
        "data = pd.concat([train,test], axis=0)"
      ],
      "execution_count": null,
      "outputs": []
    },
    {
      "cell_type": "code",
      "metadata": {
        "colab": {
          "base_uri": "https://localhost:8080/"
        },
        "id": "sr5PpcdPLRLW",
        "outputId": "46dc70fc-b79a-4ec4-8ba5-bb2f3afc53b0"
      },
      "source": [
        "train.credit.value_counts()"
      ],
      "execution_count": 12,
      "outputs": [
        {
          "output_type": "execute_result",
          "data": {
            "text/plain": [
              "2    16968\n",
              "1    16968\n",
              "0    16968\n",
              "Name: credit, dtype: int64"
            ]
          },
          "metadata": {
            "tags": []
          },
          "execution_count": 12
        }
      ]
    },
    {
      "cell_type": "code",
      "metadata": {
        "colab": {
          "base_uri": "https://localhost:8080/"
        },
        "id": "vzkVZO6XLWtM",
        "outputId": "2556bcc8-0722-43c5-88e9-c1519e260dee"
      },
      "source": [
        "train.isnull().sum()"
      ],
      "execution_count": 13,
      "outputs": [
        {
          "output_type": "execute_result",
          "data": {
            "text/plain": [
              "index                0\n",
              "gender               0\n",
              "car                  0\n",
              "reality              0\n",
              "child_num            0\n",
              "income_total         0\n",
              "income_type          0\n",
              "edu_type             0\n",
              "family_type          0\n",
              "house_type           0\n",
              "DAYS_BIRTH           0\n",
              "DAYS_EMPLOYED        0\n",
              "FLAG_MOBIL           0\n",
              "work_phone           0\n",
              "phone                0\n",
              "email                0\n",
              "occyp_type       15570\n",
              "family_size          0\n",
              "begin_month          0\n",
              "credit               0\n",
              "dtype: int64"
            ]
          },
          "metadata": {
            "tags": []
          },
          "execution_count": 13
        }
      ]
    },
    {
      "cell_type": "code",
      "metadata": {
        "id": "23A3fqnGVS4d"
      },
      "source": [
        "train_occyp_type = train['occyp_type']"
      ],
      "execution_count": 73,
      "outputs": []
    },
    {
      "cell_type": "code",
      "metadata": {
        "id": "96eOKlz8dmA2"
      },
      "source": [
        "test_occyp_type = test['occyp_type']"
      ],
      "execution_count": 86,
      "outputs": []
    },
    {
      "cell_type": "code",
      "metadata": {
        "id": "5_zqIE3zVchy"
      },
      "source": [
        "train = train.drop(['occyp_type'], axis=1)"
      ],
      "execution_count": 74,
      "outputs": []
    },
    {
      "cell_type": "code",
      "metadata": {
        "id": "aLtlAubWdqn4"
      },
      "source": [
        "test = test.drop(['occyp_type'], axis=1)"
      ],
      "execution_count": 87,
      "outputs": []
    },
    {
      "cell_type": "code",
      "metadata": {
        "id": "20a1t2tSV13n"
      },
      "source": [
        "for i in train.select_dtypes(include='object'):\n",
        "  lencoders=LabelEncoder()\n",
        "  train[i] = lencoders.fit_transform(train[i])"
      ],
      "execution_count": 75,
      "outputs": []
    },
    {
      "cell_type": "code",
      "metadata": {
        "id": "_-Xu3lCydv8T"
      },
      "source": [
        "for i in test.select_dtypes(include='object'):\n",
        "  lencoders=LabelEncoder()\n",
        "  test[i] = lencoders.fit_transform(test[i])"
      ],
      "execution_count": 88,
      "outputs": []
    },
    {
      "cell_type": "code",
      "metadata": {
        "id": "w5U5NVHPWQj5"
      },
      "source": [
        "train = pd.concat([train_occyp_type, train], axis=1)"
      ],
      "execution_count": 76,
      "outputs": []
    },
    {
      "cell_type": "code",
      "metadata": {
        "id": "krlPg8XKd3L8"
      },
      "source": [
        "test = pd.concat([test_occyp_type, test], axis=1)"
      ],
      "execution_count": 89,
      "outputs": []
    },
    {
      "cell_type": "code",
      "metadata": {
        "id": "nDCR4xoEZRhE"
      },
      "source": [
        "train_notnull = train[train['occyp_type'].notnull()]\n",
        "test_null = train[train['occyp_type'].isnull()]\n",
        "train_notnull['occyp_type'] = lencoders.fit_transform(train_notnull['occyp_type'])"
      ],
      "execution_count": 77,
      "outputs": []
    },
    {
      "cell_type": "code",
      "metadata": {
        "id": "1LYxSI6AaB1K"
      },
      "source": [
        "from sklearn.model_selection import train_test_split\n",
        "from sklearn.ensemble import RandomForestClassifier"
      ],
      "execution_count": 49,
      "outputs": []
    },
    {
      "cell_type": "code",
      "metadata": {
        "id": "iMvMzt3aaO1H"
      },
      "source": [
        "Y=train_notnull['occyp_type']\n",
        "X=train_notnull.drop(['occyp_type'], axis=1)\n",
        "\n",
        "model_rf = RandomForestClassifier(n_estimators=500, max_depth=10)\n",
        "model_rf.fit(X,Y)\n",
        "predict = model_rf.predict(test_null.loc[:,'index':])"
      ],
      "execution_count": 78,
      "outputs": []
    },
    {
      "cell_type": "code",
      "metadata": {
        "id": "b0h7mvxzbl-t"
      },
      "source": [
        "test_null['occyp_type'] = predict\n",
        "## 결측치 처리완료(랜덤포레스트 예측값으로)"
      ],
      "execution_count": 80,
      "outputs": []
    },
    {
      "cell_type": "code",
      "metadata": {
        "id": "A-nlUPgXf1wv"
      },
      "source": [
        "train = pd.concat([train_notnull, test_null], axis=0)"
      ],
      "execution_count": 83,
      "outputs": []
    },
    {
      "cell_type": "code",
      "metadata": {
        "colab": {
          "base_uri": "https://localhost:8080/"
        },
        "id": "FFCyyPPDZ8AM",
        "outputId": "c9c7e618-ea85-4c47-e1c6-af453a39d11d"
      },
      "source": [
        "train.info()"
      ],
      "execution_count": 85,
      "outputs": [
        {
          "output_type": "stream",
          "text": [
            "<class 'pandas.core.frame.DataFrame'>\n",
            "Int64Index: 50904 entries, 2 to 10733\n",
            "Data columns (total 20 columns):\n",
            " #   Column         Non-Null Count  Dtype  \n",
            "---  ------         --------------  -----  \n",
            " 0   occyp_type     50904 non-null  int64  \n",
            " 1   index          50904 non-null  int64  \n",
            " 2   gender         50904 non-null  int64  \n",
            " 3   car            50904 non-null  int64  \n",
            " 4   reality        50904 non-null  int64  \n",
            " 5   child_num      50904 non-null  int64  \n",
            " 6   income_total   50904 non-null  float64\n",
            " 7   income_type    50904 non-null  int64  \n",
            " 8   edu_type       50904 non-null  int64  \n",
            " 9   family_type    50904 non-null  int64  \n",
            " 10  house_type     50904 non-null  int64  \n",
            " 11  DAYS_BIRTH     50904 non-null  int64  \n",
            " 12  DAYS_EMPLOYED  50904 non-null  int64  \n",
            " 13  FLAG_MOBIL     50904 non-null  int64  \n",
            " 14  work_phone     50904 non-null  int64  \n",
            " 15  phone          50904 non-null  int64  \n",
            " 16  email          50904 non-null  int64  \n",
            " 17  family_size    50904 non-null  float64\n",
            " 18  begin_month    50904 non-null  float64\n",
            " 19  credit         50904 non-null  int64  \n",
            "dtypes: float64(3), int64(17)\n",
            "memory usage: 8.2 MB\n"
          ],
          "name": "stdout"
        }
      ]
    },
    {
      "cell_type": "code",
      "metadata": {
        "id": "wiFnEMGNdPMV"
      },
      "source": [
        "train_notnull = test[test['occyp_type'].notnull()]\n",
        "test_null = test[test['occyp_type'].isnull()]\n",
        "train_notnull['occyp_type'] = lencoders.fit_transform(train_notnull['occyp_type'])\n",
        "\n",
        "Y=train_notnull['occyp_type']\n",
        "X=train_notnull.drop(['occyp_type'], axis=1)\n",
        "\n",
        "model_rf = RandomForestClassifier(n_estimators=500, max_depth=10)\n",
        "model_rf.fit(X,Y)\n",
        "predict = model_rf.predict(test_null.loc[:,'index':])\n",
        "\n",
        "test_null['occyp_type'] = predict\n",
        "\n",
        "test = pd.concat([train_notnull, test_null], axis=0)\n",
        "## test데이터 결측치 처리완료(랜덤포레스트 예측값으로)"
      ],
      "execution_count": 90,
      "outputs": []
    },
    {
      "cell_type": "code",
      "metadata": {
        "colab": {
          "base_uri": "https://localhost:8080/"
        },
        "id": "vuB8e8zdeAkp",
        "outputId": "3369bafc-dbb1-4187-faf3-50b7069a6c73"
      },
      "source": [
        "test.info()"
      ],
      "execution_count": 91,
      "outputs": [
        {
          "output_type": "stream",
          "text": [
            "<class 'pandas.core.frame.DataFrame'>\n",
            "Int64Index: 10000 entries, 1 to 9998\n",
            "Data columns (total 19 columns):\n",
            " #   Column         Non-Null Count  Dtype  \n",
            "---  ------         --------------  -----  \n",
            " 0   occyp_type     10000 non-null  int64  \n",
            " 1   index          10000 non-null  int64  \n",
            " 2   gender         10000 non-null  int64  \n",
            " 3   car            10000 non-null  int64  \n",
            " 4   reality        10000 non-null  int64  \n",
            " 5   child_num      10000 non-null  int64  \n",
            " 6   income_total   10000 non-null  float64\n",
            " 7   income_type    10000 non-null  int64  \n",
            " 8   edu_type       10000 non-null  int64  \n",
            " 9   family_type    10000 non-null  int64  \n",
            " 10  house_type     10000 non-null  int64  \n",
            " 11  DAYS_BIRTH     10000 non-null  int64  \n",
            " 12  DAYS_EMPLOYED  10000 non-null  int64  \n",
            " 13  FLAG_MOBIL     10000 non-null  int64  \n",
            " 14  work_phone     10000 non-null  int64  \n",
            " 15  phone          10000 non-null  int64  \n",
            " 16  email          10000 non-null  int64  \n",
            " 17  family_size    10000 non-null  float64\n",
            " 18  begin_month    10000 non-null  float64\n",
            "dtypes: float64(3), int64(16)\n",
            "memory usage: 1.5 MB\n"
          ],
          "name": "stdout"
        }
      ]
    },
    {
      "cell_type": "markdown",
      "metadata": {
        "id": "U6m_812IBE7F"
      },
      "source": [
        "**occyp_type columns이 결측치가 있는데...**\n",
        "> occyp_type 이 컬럼은 직업별 시각화를 통해서, income_total을 통해 결측치 처리"
      ]
    },
    {
      "cell_type": "code",
      "metadata": {
        "colab": {
          "base_uri": "https://localhost:8080/",
          "height": 418
        },
        "id": "M0w1NxyuFFz3",
        "outputId": "1f2afbc4-3128-477e-b73a-aa1c081b070e"
      },
      "source": [
        "plt.figure(figsize=(12,6))\n",
        "sns.stripplot(x='income_type', y=train['income_total'], data=train)"
      ],
      "execution_count": 14,
      "outputs": [
        {
          "output_type": "execute_result",
          "data": {
            "text/plain": [
              "<matplotlib.axes._subplots.AxesSubplot at 0x7fde487fc350>"
            ]
          },
          "metadata": {
            "tags": []
          },
          "execution_count": 14
        },
        {
          "output_type": "display_data",
          "data": {
            "image/png": "[encoded data removed]",
            "text/plain": [
              "<Figure size 864x432 with 1 Axes>"
            ]
          },
          "metadata": {
            "tags": [],
            "needs_background": "light"
          }
        }
      ]
    },
    {
      "cell_type": "code",
      "metadata": {
        "colab": {
          "base_uri": "https://localhost:8080/"
        },
        "id": "nGnuFyWMG1w1",
        "outputId": "8d4b9cd0-bea4-4ff1-fb44-57374f58cccc"
      },
      "source": [
        "train.groupby('income_type')['income_total'].median()"
      ],
      "execution_count": null,
      "outputs": [
        {
          "output_type": "execute_result",
          "data": {
            "text/plain": [
              "income_type\n",
              "Commercial associate    189000.0\n",
              "Pensioner               135000.0\n",
              "State servant           180000.0\n",
              "Student                 171000.0\n",
              "Working                 157500.0\n",
              "Name: income_total, dtype: float64"
            ]
          },
          "metadata": {
            "tags": []
          },
          "execution_count": 33
        }
      ]
    },
    {
      "cell_type": "code",
      "metadata": {
        "colab": {
          "base_uri": "https://localhost:8080/"
        },
        "id": "XNj5h4sQHMMX",
        "outputId": "b217918c-c0cf-4d4b-e70c-5ffdff856de3"
      },
      "source": [
        "train.groupby('occyp_type')['income_total'].median()"
      ],
      "execution_count": null,
      "outputs": [
        {
          "output_type": "execute_result",
          "data": {
            "text/plain": [
              "occyp_type\n",
              "Accountants              180000.0\n",
              "Cleaning staff           135000.0\n",
              "Cooking staff            135000.0\n",
              "Core staff               171000.0\n",
              "Drivers                  202500.0\n",
              "HR staff                 157500.0\n",
              "High skill tech staff    180000.0\n",
              "IT staff                 171000.0\n",
              "Laborers                 162000.0\n",
              "Low-skill Laborers       112500.0\n",
              "Managers                 247500.0\n",
              "Medicine staff           155250.0\n",
              "Private service staff    180000.0\n",
              "Realty agents            270000.0\n",
              "Sales staff              157500.0\n",
              "Secretaries              135000.0\n",
              "Security staff           157500.0\n",
              "Waiters/barmen staff     157500.0\n",
              "Name: income_total, dtype: float64"
            ]
          },
          "metadata": {
            "tags": []
          },
          "execution_count": 34
        }
      ]
    },
    {
      "cell_type": "markdown",
      "metadata": {
        "id": "L-HPlxmmIDfy"
      },
      "source": [
        "# mode로 채워보자(결측치)"
      ]
    },
    {
      "cell_type": "code",
      "metadata": {
        "colab": {
          "base_uri": "https://localhost:8080/"
        },
        "id": "mI6GjnVfIHPI",
        "outputId": "b8631bd6-a6bc-40d6-fdda-cd7d4a055af9"
      },
      "source": [
        "train['occyp_type'].fillna(train['occyp_type'].mode()[0], inplace=True)\n",
        "test['occyp_type'].fillna(train['occyp_type'].mode()[0], inplace=True)\n",
        "train.isnull().sum()"
      ],
      "execution_count": null,
      "outputs": [
        {
          "output_type": "execute_result",
          "data": {
            "text/plain": [
              "gender           0\n",
              "car              0\n",
              "reality          0\n",
              "child_num        0\n",
              "income_total     0\n",
              "income_type      0\n",
              "edu_type         0\n",
              "family_type      0\n",
              "house_type       0\n",
              "DAYS_BIRTH       0\n",
              "DAYS_EMPLOYED    0\n",
              "FLAG_MOBIL       0\n",
              "work_phone       0\n",
              "phone            0\n",
              "email            0\n",
              "occyp_type       0\n",
              "family_size      0\n",
              "begin_month      0\n",
              "credit           0\n",
              "dtype: int64"
            ]
          },
          "metadata": {
            "tags": []
          },
          "execution_count": 83
        }
      ]
    },
    {
      "cell_type": "code",
      "metadata": {
        "colab": {
          "base_uri": "https://localhost:8080/",
          "height": 455
        },
        "id": "34FiBGfBUyYK",
        "outputId": "25b1c951-6e6d-4f47-86f7-0183236ea15f"
      },
      "source": [
        "train"
      ],
      "execution_count": 22,
      "outputs": [
        {
          "output_type": "execute_result",
          "data": {
            "text/html": [
              "<div>\n",
              "<style scoped>\n",
              "    .dataframe tbody tr th:only-of-type {\n",
              "        vertical-align: middle;\n",
              "    }\n",
              "\n",
              "    .dataframe tbody tr th {\n",
              "        vertical-align: top;\n",
              "    }\n",
              "\n",
              "    .dataframe thead th {\n",
              "        text-align: right;\n",
              "    }\n",
              "</style>\n",
              "<table border=\"1\" class=\"dataframe\">\n",
              "  <thead>\n",
              "    <tr style=\"text-align: right;\">\n",
              "      <th></th>\n",
              "      <th>index</th>\n",
              "      <th>gender</th>\n",
              "      <th>car</th>\n",
              "      <th>reality</th>\n",
              "      <th>child_num</th>\n",
              "      <th>income_total</th>\n",
              "      <th>income_type</th>\n",
              "      <th>edu_type</th>\n",
              "      <th>family_type</th>\n",
              "      <th>house_type</th>\n",
              "      <th>DAYS_BIRTH</th>\n",
              "      <th>DAYS_EMPLOYED</th>\n",
              "      <th>FLAG_MOBIL</th>\n",
              "      <th>work_phone</th>\n",
              "      <th>phone</th>\n",
              "      <th>email</th>\n",
              "      <th>occyp_type</th>\n",
              "      <th>family_size</th>\n",
              "      <th>begin_month</th>\n",
              "      <th>credit</th>\n",
              "    </tr>\n",
              "  </thead>\n",
              "  <tbody>\n",
              "    <tr>\n",
              "      <th>2</th>\n",
              "      <td>2</td>\n",
              "      <td>1</td>\n",
              "      <td>1</td>\n",
              "      <td>1</td>\n",
              "      <td>0</td>\n",
              "      <td>450000.0</td>\n",
              "      <td>4</td>\n",
              "      <td>1</td>\n",
              "      <td>1</td>\n",
              "      <td>1</td>\n",
              "      <td>-19087</td>\n",
              "      <td>-4434</td>\n",
              "      <td>1</td>\n",
              "      <td>0</td>\n",
              "      <td>1</td>\n",
              "      <td>0</td>\n",
              "      <td>Managers</td>\n",
              "      <td>2.0</td>\n",
              "      <td>-22.0</td>\n",
              "      <td>2</td>\n",
              "    </tr>\n",
              "    <tr>\n",
              "      <th>4</th>\n",
              "      <td>4</td>\n",
              "      <td>0</td>\n",
              "      <td>1</td>\n",
              "      <td>1</td>\n",
              "      <td>0</td>\n",
              "      <td>157500.0</td>\n",
              "      <td>2</td>\n",
              "      <td>1</td>\n",
              "      <td>1</td>\n",
              "      <td>1</td>\n",
              "      <td>-15037</td>\n",
              "      <td>-2105</td>\n",
              "      <td>1</td>\n",
              "      <td>0</td>\n",
              "      <td>0</td>\n",
              "      <td>0</td>\n",
              "      <td>Managers</td>\n",
              "      <td>2.0</td>\n",
              "      <td>-26.0</td>\n",
              "      <td>2</td>\n",
              "    </tr>\n",
              "    <tr>\n",
              "      <th>6</th>\n",
              "      <td>6</td>\n",
              "      <td>0</td>\n",
              "      <td>0</td>\n",
              "      <td>0</td>\n",
              "      <td>0</td>\n",
              "      <td>315000.0</td>\n",
              "      <td>4</td>\n",
              "      <td>4</td>\n",
              "      <td>2</td>\n",
              "      <td>1</td>\n",
              "      <td>-17570</td>\n",
              "      <td>-1978</td>\n",
              "      <td>1</td>\n",
              "      <td>0</td>\n",
              "      <td>0</td>\n",
              "      <td>1</td>\n",
              "      <td>Core staff</td>\n",
              "      <td>1.0</td>\n",
              "      <td>-41.0</td>\n",
              "      <td>2</td>\n",
              "    </tr>\n",
              "    <tr>\n",
              "      <th>8</th>\n",
              "      <td>8</td>\n",
              "      <td>1</td>\n",
              "      <td>1</td>\n",
              "      <td>1</td>\n",
              "      <td>1</td>\n",
              "      <td>180000.0</td>\n",
              "      <td>0</td>\n",
              "      <td>1</td>\n",
              "      <td>1</td>\n",
              "      <td>1</td>\n",
              "      <td>-15131</td>\n",
              "      <td>-1466</td>\n",
              "      <td>1</td>\n",
              "      <td>0</td>\n",
              "      <td>0</td>\n",
              "      <td>1</td>\n",
              "      <td>NaN</td>\n",
              "      <td>3.0</td>\n",
              "      <td>-38.0</td>\n",
              "      <td>2</td>\n",
              "    </tr>\n",
              "    <tr>\n",
              "      <th>9</th>\n",
              "      <td>9</td>\n",
              "      <td>0</td>\n",
              "      <td>0</td>\n",
              "      <td>1</td>\n",
              "      <td>0</td>\n",
              "      <td>103500.0</td>\n",
              "      <td>4</td>\n",
              "      <td>4</td>\n",
              "      <td>1</td>\n",
              "      <td>1</td>\n",
              "      <td>-15785</td>\n",
              "      <td>-1308</td>\n",
              "      <td>1</td>\n",
              "      <td>0</td>\n",
              "      <td>0</td>\n",
              "      <td>0</td>\n",
              "      <td>Medicine staff</td>\n",
              "      <td>2.0</td>\n",
              "      <td>-5.0</td>\n",
              "      <td>2</td>\n",
              "    </tr>\n",
              "    <tr>\n",
              "      <th>...</th>\n",
              "      <td>...</td>\n",
              "      <td>...</td>\n",
              "      <td>...</td>\n",
              "      <td>...</td>\n",
              "      <td>...</td>\n",
              "      <td>...</td>\n",
              "      <td>...</td>\n",
              "      <td>...</td>\n",
              "      <td>...</td>\n",
              "      <td>...</td>\n",
              "      <td>...</td>\n",
              "      <td>...</td>\n",
              "      <td>...</td>\n",
              "      <td>...</td>\n",
              "      <td>...</td>\n",
              "      <td>...</td>\n",
              "      <td>...</td>\n",
              "      <td>...</td>\n",
              "      <td>...</td>\n",
              "      <td>...</td>\n",
              "    </tr>\n",
              "    <tr>\n",
              "      <th>1747</th>\n",
              "      <td>1747</td>\n",
              "      <td>0</td>\n",
              "      <td>0</td>\n",
              "      <td>1</td>\n",
              "      <td>1</td>\n",
              "      <td>135000.0</td>\n",
              "      <td>4</td>\n",
              "      <td>4</td>\n",
              "      <td>1</td>\n",
              "      <td>1</td>\n",
              "      <td>-14948</td>\n",
              "      <td>-4881</td>\n",
              "      <td>1</td>\n",
              "      <td>0</td>\n",
              "      <td>0</td>\n",
              "      <td>0</td>\n",
              "      <td>Laborers</td>\n",
              "      <td>3.0</td>\n",
              "      <td>-14.0</td>\n",
              "      <td>1</td>\n",
              "    </tr>\n",
              "    <tr>\n",
              "      <th>18621</th>\n",
              "      <td>18621</td>\n",
              "      <td>0</td>\n",
              "      <td>1</td>\n",
              "      <td>1</td>\n",
              "      <td>1</td>\n",
              "      <td>135000.0</td>\n",
              "      <td>4</td>\n",
              "      <td>4</td>\n",
              "      <td>1</td>\n",
              "      <td>4</td>\n",
              "      <td>-15428</td>\n",
              "      <td>-1723</td>\n",
              "      <td>1</td>\n",
              "      <td>0</td>\n",
              "      <td>0</td>\n",
              "      <td>0</td>\n",
              "      <td>Accountants</td>\n",
              "      <td>3.0</td>\n",
              "      <td>-55.0</td>\n",
              "      <td>1</td>\n",
              "    </tr>\n",
              "    <tr>\n",
              "      <th>14223</th>\n",
              "      <td>14223</td>\n",
              "      <td>0</td>\n",
              "      <td>0</td>\n",
              "      <td>0</td>\n",
              "      <td>0</td>\n",
              "      <td>135000.0</td>\n",
              "      <td>2</td>\n",
              "      <td>4</td>\n",
              "      <td>1</td>\n",
              "      <td>1</td>\n",
              "      <td>-20875</td>\n",
              "      <td>-3785</td>\n",
              "      <td>1</td>\n",
              "      <td>0</td>\n",
              "      <td>0</td>\n",
              "      <td>0</td>\n",
              "      <td>High skill tech staff</td>\n",
              "      <td>2.0</td>\n",
              "      <td>-4.0</td>\n",
              "      <td>1</td>\n",
              "    </tr>\n",
              "    <tr>\n",
              "      <th>168</th>\n",
              "      <td>168</td>\n",
              "      <td>0</td>\n",
              "      <td>0</td>\n",
              "      <td>0</td>\n",
              "      <td>0</td>\n",
              "      <td>157500.0</td>\n",
              "      <td>4</td>\n",
              "      <td>4</td>\n",
              "      <td>1</td>\n",
              "      <td>1</td>\n",
              "      <td>-19702</td>\n",
              "      <td>-9870</td>\n",
              "      <td>1</td>\n",
              "      <td>1</td>\n",
              "      <td>1</td>\n",
              "      <td>0</td>\n",
              "      <td>NaN</td>\n",
              "      <td>2.0</td>\n",
              "      <td>-21.0</td>\n",
              "      <td>1</td>\n",
              "    </tr>\n",
              "    <tr>\n",
              "      <th>10733</th>\n",
              "      <td>10733</td>\n",
              "      <td>0</td>\n",
              "      <td>0</td>\n",
              "      <td>0</td>\n",
              "      <td>2</td>\n",
              "      <td>180000.0</td>\n",
              "      <td>4</td>\n",
              "      <td>1</td>\n",
              "      <td>2</td>\n",
              "      <td>1</td>\n",
              "      <td>-16294</td>\n",
              "      <td>-217</td>\n",
              "      <td>1</td>\n",
              "      <td>1</td>\n",
              "      <td>1</td>\n",
              "      <td>0</td>\n",
              "      <td>NaN</td>\n",
              "      <td>3.0</td>\n",
              "      <td>-28.0</td>\n",
              "      <td>1</td>\n",
              "    </tr>\n",
              "  </tbody>\n",
              "</table>\n",
              "<p>50904 rows × 20 columns</p>\n",
              "</div>"
            ],
            "text/plain": [
              "       index  gender  car  ...  family_size  begin_month  credit\n",
              "2          2       1    1  ...          2.0        -22.0       2\n",
              "4          4       0    1  ...          2.0        -26.0       2\n",
              "6          6       0    0  ...          1.0        -41.0       2\n",
              "8          8       1    1  ...          3.0        -38.0       2\n",
              "9          9       0    0  ...          2.0         -5.0       2\n",
              "...      ...     ...  ...  ...          ...          ...     ...\n",
              "1747    1747       0    0  ...          3.0        -14.0       1\n",
              "18621  18621       0    1  ...          3.0        -55.0       1\n",
              "14223  14223       0    0  ...          2.0         -4.0       1\n",
              "168      168       0    0  ...          2.0        -21.0       1\n",
              "10733  10733       0    0  ...          3.0        -28.0       1\n",
              "\n",
              "[50904 rows x 20 columns]"
            ]
          },
          "metadata": {
            "tags": []
          },
          "execution_count": 22
        }
      ]
    },
    {
      "cell_type": "code",
      "metadata": {
        "colab": {
          "base_uri": "https://localhost:8080/",
          "height": 402
        },
        "id": "LSlntpysT4Jm",
        "outputId": "9abf2456-d988-425a-cf5d-2f890bcfd73d"
      },
      "source": [
        "train.select_dtypes(include='object')"
      ],
      "execution_count": 21,
      "outputs": [
        {
          "output_type": "execute_result",
          "data": {
            "text/html": [
              "<div>\n",
              "<style scoped>\n",
              "    .dataframe tbody tr th:only-of-type {\n",
              "        vertical-align: middle;\n",
              "    }\n",
              "\n",
              "    .dataframe tbody tr th {\n",
              "        vertical-align: top;\n",
              "    }\n",
              "\n",
              "    .dataframe thead th {\n",
              "        text-align: right;\n",
              "    }\n",
              "</style>\n",
              "<table border=\"1\" class=\"dataframe\">\n",
              "  <thead>\n",
              "    <tr style=\"text-align: right;\">\n",
              "      <th></th>\n",
              "      <th>occyp_type</th>\n",
              "    </tr>\n",
              "  </thead>\n",
              "  <tbody>\n",
              "    <tr>\n",
              "      <th>2</th>\n",
              "      <td>Managers</td>\n",
              "    </tr>\n",
              "    <tr>\n",
              "      <th>4</th>\n",
              "      <td>Managers</td>\n",
              "    </tr>\n",
              "    <tr>\n",
              "      <th>6</th>\n",
              "      <td>Core staff</td>\n",
              "    </tr>\n",
              "    <tr>\n",
              "      <th>8</th>\n",
              "      <td>NaN</td>\n",
              "    </tr>\n",
              "    <tr>\n",
              "      <th>9</th>\n",
              "      <td>Medicine staff</td>\n",
              "    </tr>\n",
              "    <tr>\n",
              "      <th>...</th>\n",
              "      <td>...</td>\n",
              "    </tr>\n",
              "    <tr>\n",
              "      <th>1747</th>\n",
              "      <td>Laborers</td>\n",
              "    </tr>\n",
              "    <tr>\n",
              "      <th>18621</th>\n",
              "      <td>Accountants</td>\n",
              "    </tr>\n",
              "    <tr>\n",
              "      <th>14223</th>\n",
              "      <td>High skill tech staff</td>\n",
              "    </tr>\n",
              "    <tr>\n",
              "      <th>168</th>\n",
              "      <td>NaN</td>\n",
              "    </tr>\n",
              "    <tr>\n",
              "      <th>10733</th>\n",
              "      <td>NaN</td>\n",
              "    </tr>\n",
              "  </tbody>\n",
              "</table>\n",
              "<p>50904 rows × 1 columns</p>\n",
              "</div>"
            ],
            "text/plain": [
              "                  occyp_type\n",
              "2                   Managers\n",
              "4                   Managers\n",
              "6                 Core staff\n",
              "8                        NaN\n",
              "9             Medicine staff\n",
              "...                      ...\n",
              "1747                Laborers\n",
              "18621            Accountants\n",
              "14223  High skill tech staff\n",
              "168                      NaN\n",
              "10733                    NaN\n",
              "\n",
              "[50904 rows x 1 columns]"
            ]
          },
          "metadata": {
            "tags": []
          },
          "execution_count": 21
        }
      ]
    },
    {
      "cell_type": "code",
      "metadata": {
        "id": "aXtNsHxbQMTO"
      },
      "source": [
        "data['occyp_type'].fillna(data['occyp_type'].mode()[0], inplace=True)"
      ],
      "execution_count": null,
      "outputs": []
    },
    {
      "cell_type": "code",
      "metadata": {
        "id": "ROg2fgi2CmHB",
        "colab": {
          "base_uri": "https://localhost:8080/",
          "height": 439
        },
        "outputId": "119aed2b-702f-4011-d4e8-82672c0ff79c"
      },
      "source": [
        "from sklearn.preprocessing import LabelEncoder\n",
        "lencoders = {}\n",
        "for i in train.select_dtypes(include=['object']).columns:\n",
        "  lencoders[i] = LabelEncoder()\n",
        "  train[i] = lencoders[i].fit_transform(train[i])\n",
        "\n",
        "for i in test.select_dtypes(include=['object']).columns:\n",
        "  lencoders[i] = LabelEncoder()\n",
        "  test[i] = lencoders[i].fit_transform(test[i])"
      ],
      "execution_count": 15,
      "outputs": [
        {
          "output_type": "error",
          "ename": "TypeError",
          "evalue": "ignored",
          "traceback": [
            "\u001b[0;31m---------------------------------------------------------------------------\u001b[0m",
            "\u001b[0;31mTypeError\u001b[0m                                 Traceback (most recent call last)",
            "\u001b[0;32m/usr/local/lib/python3.7/dist-packages/sklearn/preprocessing/_label.py\u001b[0m in \u001b[0;36m_encode\u001b[0;34m(values, uniques, encode, check_unknown)\u001b[0m\n\u001b[1;32m    111\u001b[0m         \u001b[0;32mtry\u001b[0m\u001b[0;34m:\u001b[0m\u001b[0;34m\u001b[0m\u001b[0;34m\u001b[0m\u001b[0m\n\u001b[0;32m--> 112\u001b[0;31m             \u001b[0mres\u001b[0m \u001b[0;34m=\u001b[0m \u001b[0m_encode_python\u001b[0m\u001b[0;34m(\u001b[0m\u001b[0mvalues\u001b[0m\u001b[0;34m,\u001b[0m \u001b[0muniques\u001b[0m\u001b[0;34m,\u001b[0m \u001b[0mencode\u001b[0m\u001b[0;34m)\u001b[0m\u001b[0;34m\u001b[0m\u001b[0;34m\u001b[0m\u001b[0m\n\u001b[0m\u001b[1;32m    113\u001b[0m         \u001b[0;32mexcept\u001b[0m \u001b[0mTypeError\u001b[0m\u001b[0;34m:\u001b[0m\u001b[0;34m\u001b[0m\u001b[0;34m\u001b[0m\u001b[0m\n",
            "\u001b[0;32m/usr/local/lib/python3.7/dist-packages/sklearn/preprocessing/_label.py\u001b[0m in \u001b[0;36m_encode_python\u001b[0;34m(values, uniques, encode)\u001b[0m\n\u001b[1;32m     59\u001b[0m     \u001b[0;32mif\u001b[0m \u001b[0muniques\u001b[0m \u001b[0;32mis\u001b[0m \u001b[0;32mNone\u001b[0m\u001b[0;34m:\u001b[0m\u001b[0;34m\u001b[0m\u001b[0;34m\u001b[0m\u001b[0m\n\u001b[0;32m---> 60\u001b[0;31m         \u001b[0muniques\u001b[0m \u001b[0;34m=\u001b[0m \u001b[0msorted\u001b[0m\u001b[0;34m(\u001b[0m\u001b[0mset\u001b[0m\u001b[0;34m(\u001b[0m\u001b[0mvalues\u001b[0m\u001b[0;34m)\u001b[0m\u001b[0;34m)\u001b[0m\u001b[0;34m\u001b[0m\u001b[0;34m\u001b[0m\u001b[0m\n\u001b[0m\u001b[1;32m     61\u001b[0m         \u001b[0muniques\u001b[0m \u001b[0;34m=\u001b[0m \u001b[0mnp\u001b[0m\u001b[0;34m.\u001b[0m\u001b[0marray\u001b[0m\u001b[0;34m(\u001b[0m\u001b[0muniques\u001b[0m\u001b[0;34m,\u001b[0m \u001b[0mdtype\u001b[0m\u001b[0;34m=\u001b[0m\u001b[0mvalues\u001b[0m\u001b[0;34m.\u001b[0m\u001b[0mdtype\u001b[0m\u001b[0;34m)\u001b[0m\u001b[0;34m\u001b[0m\u001b[0;34m\u001b[0m\u001b[0m\n",
            "\u001b[0;31mTypeError\u001b[0m: '<' not supported between instances of 'str' and 'float'",
            "\nDuring handling of the above exception, another exception occurred:\n",
            "\u001b[0;31mTypeError\u001b[0m                                 Traceback (most recent call last)",
            "\u001b[0;32m<ipython-input-15-4fad1c04027f>\u001b[0m in \u001b[0;36m<module>\u001b[0;34m()\u001b[0m\n\u001b[1;32m      3\u001b[0m \u001b[0;32mfor\u001b[0m \u001b[0mi\u001b[0m \u001b[0;32min\u001b[0m \u001b[0mtrain\u001b[0m\u001b[0;34m.\u001b[0m\u001b[0mselect_dtypes\u001b[0m\u001b[0;34m(\u001b[0m\u001b[0minclude\u001b[0m\u001b[0;34m=\u001b[0m\u001b[0;34m[\u001b[0m\u001b[0;34m'object'\u001b[0m\u001b[0;34m]\u001b[0m\u001b[0;34m)\u001b[0m\u001b[0;34m.\u001b[0m\u001b[0mcolumns\u001b[0m\u001b[0;34m:\u001b[0m\u001b[0;34m\u001b[0m\u001b[0;34m\u001b[0m\u001b[0m\n\u001b[1;32m      4\u001b[0m   \u001b[0mlencoders\u001b[0m\u001b[0;34m[\u001b[0m\u001b[0mi\u001b[0m\u001b[0;34m]\u001b[0m \u001b[0;34m=\u001b[0m \u001b[0mLabelEncoder\u001b[0m\u001b[0;34m(\u001b[0m\u001b[0;34m)\u001b[0m\u001b[0;34m\u001b[0m\u001b[0;34m\u001b[0m\u001b[0m\n\u001b[0;32m----> 5\u001b[0;31m   \u001b[0mtrain\u001b[0m\u001b[0;34m[\u001b[0m\u001b[0mi\u001b[0m\u001b[0;34m]\u001b[0m \u001b[0;34m=\u001b[0m \u001b[0mlencoders\u001b[0m\u001b[0;34m[\u001b[0m\u001b[0mi\u001b[0m\u001b[0;34m]\u001b[0m\u001b[0;34m.\u001b[0m\u001b[0mfit_transform\u001b[0m\u001b[0;34m(\u001b[0m\u001b[0mtrain\u001b[0m\u001b[0;34m[\u001b[0m\u001b[0mi\u001b[0m\u001b[0;34m]\u001b[0m\u001b[0;34m)\u001b[0m\u001b[0;34m\u001b[0m\u001b[0;34m\u001b[0m\u001b[0m\n\u001b[0m\u001b[1;32m      6\u001b[0m \u001b[0;34m\u001b[0m\u001b[0m\n\u001b[1;32m      7\u001b[0m \u001b[0;32mfor\u001b[0m \u001b[0mi\u001b[0m \u001b[0;32min\u001b[0m \u001b[0mtest\u001b[0m\u001b[0;34m.\u001b[0m\u001b[0mselect_dtypes\u001b[0m\u001b[0;34m(\u001b[0m\u001b[0minclude\u001b[0m\u001b[0;34m=\u001b[0m\u001b[0;34m[\u001b[0m\u001b[0;34m'object'\u001b[0m\u001b[0;34m]\u001b[0m\u001b[0;34m)\u001b[0m\u001b[0;34m.\u001b[0m\u001b[0mcolumns\u001b[0m\u001b[0;34m:\u001b[0m\u001b[0;34m\u001b[0m\u001b[0;34m\u001b[0m\u001b[0m\n",
            "\u001b[0;32m/usr/local/lib/python3.7/dist-packages/sklearn/preprocessing/_label.py\u001b[0m in \u001b[0;36mfit_transform\u001b[0;34m(self, y)\u001b[0m\n\u001b[1;32m    250\u001b[0m         \"\"\"\n\u001b[1;32m    251\u001b[0m         \u001b[0my\u001b[0m \u001b[0;34m=\u001b[0m \u001b[0mcolumn_or_1d\u001b[0m\u001b[0;34m(\u001b[0m\u001b[0my\u001b[0m\u001b[0;34m,\u001b[0m \u001b[0mwarn\u001b[0m\u001b[0;34m=\u001b[0m\u001b[0;32mTrue\u001b[0m\u001b[0;34m)\u001b[0m\u001b[0;34m\u001b[0m\u001b[0;34m\u001b[0m\u001b[0m\n\u001b[0;32m--> 252\u001b[0;31m         \u001b[0mself\u001b[0m\u001b[0;34m.\u001b[0m\u001b[0mclasses_\u001b[0m\u001b[0;34m,\u001b[0m \u001b[0my\u001b[0m \u001b[0;34m=\u001b[0m \u001b[0m_encode\u001b[0m\u001b[0;34m(\u001b[0m\u001b[0my\u001b[0m\u001b[0;34m,\u001b[0m \u001b[0mencode\u001b[0m\u001b[0;34m=\u001b[0m\u001b[0;32mTrue\u001b[0m\u001b[0;34m)\u001b[0m\u001b[0;34m\u001b[0m\u001b[0;34m\u001b[0m\u001b[0m\n\u001b[0m\u001b[1;32m    253\u001b[0m         \u001b[0;32mreturn\u001b[0m \u001b[0my\u001b[0m\u001b[0;34m\u001b[0m\u001b[0;34m\u001b[0m\u001b[0m\n\u001b[1;32m    254\u001b[0m \u001b[0;34m\u001b[0m\u001b[0m\n",
            "\u001b[0;32m/usr/local/lib/python3.7/dist-packages/sklearn/preprocessing/_label.py\u001b[0m in \u001b[0;36m_encode\u001b[0;34m(values, uniques, encode, check_unknown)\u001b[0m\n\u001b[1;32m    112\u001b[0m             \u001b[0mres\u001b[0m \u001b[0;34m=\u001b[0m \u001b[0m_encode_python\u001b[0m\u001b[0;34m(\u001b[0m\u001b[0mvalues\u001b[0m\u001b[0;34m,\u001b[0m \u001b[0muniques\u001b[0m\u001b[0;34m,\u001b[0m \u001b[0mencode\u001b[0m\u001b[0;34m)\u001b[0m\u001b[0;34m\u001b[0m\u001b[0;34m\u001b[0m\u001b[0m\n\u001b[1;32m    113\u001b[0m         \u001b[0;32mexcept\u001b[0m \u001b[0mTypeError\u001b[0m\u001b[0;34m:\u001b[0m\u001b[0;34m\u001b[0m\u001b[0;34m\u001b[0m\u001b[0m\n\u001b[0;32m--> 114\u001b[0;31m             \u001b[0;32mraise\u001b[0m \u001b[0mTypeError\u001b[0m\u001b[0;34m(\u001b[0m\u001b[0;34m\"argument must be a string or number\"\u001b[0m\u001b[0;34m)\u001b[0m\u001b[0;34m\u001b[0m\u001b[0;34m\u001b[0m\u001b[0m\n\u001b[0m\u001b[1;32m    115\u001b[0m         \u001b[0;32mreturn\u001b[0m \u001b[0mres\u001b[0m\u001b[0;34m\u001b[0m\u001b[0;34m\u001b[0m\u001b[0m\n\u001b[1;32m    116\u001b[0m     \u001b[0;32melse\u001b[0m\u001b[0;34m:\u001b[0m\u001b[0;34m\u001b[0m\u001b[0;34m\u001b[0m\u001b[0m\n",
            "\u001b[0;31mTypeError\u001b[0m: argument must be a string or number"
          ]
        }
      ]
    },
    {
      "cell_type": "code",
      "metadata": {
        "id": "x2i-68pzRPAp"
      },
      "source": [
        "lencoders = {}\n",
        "for i in data.select_dtypes(include=['object']).columns:\n",
        "  lencoders[i] = LabelEncoder()\n",
        "  data[i] = lencoders[i].fit_transform(data[i])"
      ],
      "execution_count": null,
      "outputs": []
    },
    {
      "cell_type": "code",
      "metadata": {
        "id": "x6orZX3gJKpf"
      },
      "source": [
        "target = train['credit']"
      ],
      "execution_count": null,
      "outputs": []
    },
    {
      "cell_type": "code",
      "metadata": {
        "id": "ohEY-1wDL7Nu"
      },
      "source": [
        "train = train.drop(['credit'], axis=1)"
      ],
      "execution_count": null,
      "outputs": []
    },
    {
      "cell_type": "code",
      "metadata": {
        "colab": {
          "base_uri": "https://localhost:8080/"
        },
        "id": "_uFzFzQYIz9Z",
        "outputId": "251ad4a8-72c7-44ef-f70f-7631e7973605"
      },
      "source": [
        "Q3 = data.quantile(0.75)\n",
        "Q1 = data.quantile(0.25)\n",
        "IQR = Q3-Q1\n",
        "print(IQR)"
      ],
      "execution_count": null,
      "outputs": [
        {
          "output_type": "stream",
          "text": [
            "gender                1.0\n",
            "car                   1.0\n",
            "reality               1.0\n",
            "child_num             1.0\n",
            "income_total     103500.0\n",
            "income_type           3.0\n",
            "edu_type              3.0\n",
            "family_type           0.0\n",
            "house_type            0.0\n",
            "DAYS_BIRTH         7011.0\n",
            "DAYS_EMPLOYED      2687.0\n",
            "FLAG_MOBIL            0.0\n",
            "work_phone            0.0\n",
            "phone                 1.0\n",
            "email                 0.0\n",
            "occyp_type            2.0\n",
            "family_size           1.0\n",
            "begin_month          28.0\n",
            "credit                2.0\n",
            "dtype: float64\n"
          ],
          "name": "stdout"
        }
      ]
    },
    {
      "cell_type": "code",
      "metadata": {
        "id": "WIK303zwMjBp"
      },
      "source": [
        "data = data[~((data < (Q1 - 1.5*IQR)) | (data > (Q3 + 1.5*IQR))).any(axis=1)]"
      ],
      "execution_count": null,
      "outputs": []
    },
    {
      "cell_type": "code",
      "metadata": {
        "colab": {
          "base_uri": "https://localhost:8080/"
        },
        "id": "K_2YeABxMH51",
        "outputId": "4e59b00d-59a8-4cbd-8193-89902ffb0076"
      },
      "source": [
        "data.shape"
      ],
      "execution_count": null,
      "outputs": [
        {
          "output_type": "execute_result",
          "data": {
            "text/plain": [
              "(13216, 19)"
            ]
          },
          "metadata": {
            "tags": []
          },
          "execution_count": 182
        }
      ]
    },
    {
      "cell_type": "code",
      "metadata": {
        "id": "kI7dYd0-RvLt"
      },
      "source": [
        "x = train.drop(['credit'], axis=1)\n",
        "y = train['credit']"
      ],
      "execution_count": 92,
      "outputs": []
    },
    {
      "cell_type": "code",
      "metadata": {
        "id": "Gdd8tiAvTci5"
      },
      "source": [
        "from sklearn.preprocessing import robust_scale"
      ],
      "execution_count": 93,
      "outputs": []
    },
    {
      "cell_type": "code",
      "metadata": {
        "id": "23nnFwZuTjfb"
      },
      "source": [
        "scaler = robust_scale(x)\n",
        "x = pd.DataFrame(scaler, columns=x.columns)"
      ],
      "execution_count": 95,
      "outputs": []
    },
    {
      "cell_type": "code",
      "metadata": {
        "id": "YxV1kaqdNYCK"
      },
      "source": [
        "from sklearn.model_selection import train_test_split"
      ],
      "execution_count": 96,
      "outputs": []
    },
    {
      "cell_type": "code",
      "metadata": {
        "id": "qWxh_u5VNd1f"
      },
      "source": [
        "x_train, x_test, y_train, y_test = train_test_split(x,y, test_size=.25, random_state=25)"
      ],
      "execution_count": 97,
      "outputs": []
    },
    {
      "cell_type": "code",
      "metadata": {
        "id": "lH8nQ55SSBO7"
      },
      "source": [
        "from sklearn.ensemble import RandomForestClassifier\n",
        "import xgboost as xgb\n",
        "from sklearn.metrics import accuracy_score, classification_report, cohen_kappa_score, roc_auc_score, plot_confusion_matrix, log_loss"
      ],
      "execution_count": 150,
      "outputs": []
    },
    {
      "cell_type": "code",
      "metadata": {
        "colab": {
          "base_uri": "https://localhost:8080/"
        },
        "id": "Q2v-BX6CSVJ3",
        "outputId": "0e56db63-07d7-4cd4-f9a3-32b83cc2f224"
      },
      "source": [
        "model_rf = RandomForestClassifier(n_jobs=-1)\n",
        "model_rf.fit(x_train, y_train)\n",
        "y_pred_rf = model_rf.predict(x_test)\n",
        "print('accuracy:', accuracy_score(y_test, y_pred_rf))\n",
        "print('cohen_kappa_score:', cohen_kappa_score(y_test, y_pred_rf))\n",
        "print(classification_report(y_test, y_pred_rf))"
      ],
      "execution_count": 198,
      "outputs": [
        {
          "output_type": "stream",
          "text": [
            "accuracy: 0.9215778720729216\n",
            "cohen_kappa_score: 0.8823721203946273\n",
            "              precision    recall  f1-score   support\n",
            "\n",
            "           0       0.94      0.99      0.97      4268\n",
            "           1       0.89      0.94      0.91      4207\n",
            "           2       0.93      0.83      0.88      4251\n",
            "\n",
            "    accuracy                           0.92     12726\n",
            "   macro avg       0.92      0.92      0.92     12726\n",
            "weighted avg       0.92      0.92      0.92     12726\n",
            "\n"
          ],
          "name": "stdout"
        }
      ]
    },
    {
      "cell_type": "code",
      "metadata": {
        "colab": {
          "base_uri": "https://localhost:8080/",
          "height": 297
        },
        "id": "3d2HrhG0eL7F",
        "outputId": "aab2ef26-c507-4256-bbab-919d26f16d42"
      },
      "source": [
        "plot_confusion_matrix(model_rf, x_test, y_test, normalize='all')"
      ],
      "execution_count": 135,
      "outputs": [
        {
          "output_type": "execute_result",
          "data": {
            "text/plain": [
              "<sklearn.metrics._plot.confusion_matrix.ConfusionMatrixDisplay at 0x7fde3874bad0>"
            ]
          },
          "metadata": {
            "tags": []
          },
          "execution_count": 135
        },
        {
          "output_type": "display_data",
          "data": {
            "image/png": "[encoded data removed]",
            "text/plain": [
              "<Figure size 432x288 with 2 Axes>"
            ]
          },
          "metadata": {
            "tags": []
          }
        }
      ]
    },
    {
      "cell_type": "code",
      "metadata": {
        "colab": {
          "base_uri": "https://localhost:8080/"
        },
        "id": "qUmo2K4mTLG3",
        "outputId": "92be6ae7-02df-405e-fdc0-b4b02adb073a"
      },
      "source": [
        "model_xgb = xgb.XGBClassifier(n_jobs=-1, max_depth=100)\n",
        "model_xgb.fit(x_train, y_train)\n",
        "y_pred_xgb = model_xgb.predict(x_test)\n",
        "print('accuracy:', accuracy_score(y_test, y_pred_xgb))\n",
        "print('cohen_kappa_score:', cohen_kappa_score(y_test, y_pred_xgb))\n",
        "print(classification_report(y_test, y_pred_xgb))"
      ],
      "execution_count": 181,
      "outputs": [
        {
          "output_type": "stream",
          "text": [
            "accuracy: 0.9273927392739274\n",
            "cohen_kappa_score: 0.8910896727929697\n",
            "              precision    recall  f1-score   support\n",
            "\n",
            "           0       0.95      0.99      0.97      4268\n",
            "           1       0.91      0.93      0.92      4207\n",
            "           2       0.93      0.86      0.89      4251\n",
            "\n",
            "    accuracy                           0.93     12726\n",
            "   macro avg       0.93      0.93      0.93     12726\n",
            "weighted avg       0.93      0.93      0.93     12726\n",
            "\n"
          ],
          "name": "stdout"
        }
      ]
    },
    {
      "cell_type": "code",
      "metadata": {
        "colab": {
          "base_uri": "https://localhost:8080/",
          "height": 297
        },
        "id": "AvpQxxAQeWrp",
        "outputId": "ac518cb4-47d5-45d0-e9a5-b50b41756123"
      },
      "source": [
        "plot_confusion_matrix(model_xgb, x_test, y_test, normalize='all')"
      ],
      "execution_count": 102,
      "outputs": [
        {
          "output_type": "execute_result",
          "data": {
            "text/plain": [
              "<sklearn.metrics._plot.confusion_matrix.ConfusionMatrixDisplay at 0x7fde430c14d0>"
            ]
          },
          "metadata": {
            "tags": []
          },
          "execution_count": 102
        },
        {
          "output_type": "display_data",
          "data": {
            "image/png": "[encoded data removed]",
            "text/plain": [
              "<Figure size 432x288 with 2 Axes>"
            ]
          },
          "metadata": {
            "tags": [],
            "needs_background": "light"
          }
        }
      ]
    },
    {
      "cell_type": "code",
      "metadata": {
        "colab": {
          "base_uri": "https://localhost:8080/"
        },
        "id": "_vyGpuXHgpQY",
        "outputId": "df8b772a-a337-47a4-83f6-2f3e32d9b88e"
      },
      "source": [
        "model_rf_proba = model_rf.predict_proba(x_test)\n",
        "log_loss(y_test, model_rf_proba)"
      ],
      "execution_count": 136,
      "outputs": [
        {
          "output_type": "execute_result",
          "data": {
            "text/plain": [
              "0.2776769294074857"
            ]
          },
          "metadata": {
            "tags": []
          },
          "execution_count": 136
        }
      ]
    },
    {
      "cell_type": "code",
      "metadata": {
        "colab": {
          "base_uri": "https://localhost:8080/"
        },
        "id": "GuKEiDHMVcAC",
        "outputId": "fffd0151-8b33-459d-b641-9565c2f0c0cc"
      },
      "source": [
        "model_xgb_proba = model_xgb.predict_proba(x_test)\n",
        "log_loss(y_test, model_xgb_proba)"
      ],
      "execution_count": 128,
      "outputs": [
        {
          "output_type": "execute_result",
          "data": {
            "text/plain": [
              "1.0085083578562335"
            ]
          },
          "metadata": {
            "tags": []
          },
          "execution_count": 128
        }
      ]
    },
    {
      "cell_type": "code",
      "metadata": {
        "id": "edPah5WZmTkC"
      },
      "source": [
        "sample.iloc[:,1:]=0"
      ],
      "execution_count": 192,
      "outputs": []
    },
    {
      "cell_type": "code",
      "metadata": {
        "colab": {
          "base_uri": "https://localhost:8080/",
          "height": 186
        },
        "id": "f0wkXaY8ljiN",
        "outputId": "0b7c7416-7a35-47f6-89eb-a01f2ed4ef57"
      },
      "source": [
        "for fold in range(5):\n",
        "   sample.iloc[:,1:] += model_xgb[fold].predict_proba(test)/5"
      ],
      "execution_count": 193,
      "outputs": [
        {
          "output_type": "error",
          "ename": "TypeError",
          "evalue": "ignored",
          "traceback": [
            "\u001b[0;31m---------------------------------------------------------------------------\u001b[0m",
            "\u001b[0;31mTypeError\u001b[0m                                 Traceback (most recent call last)",
            "\u001b[0;32m<ipython-input-193-dbf8ee51bb8b>\u001b[0m in \u001b[0;36m<module>\u001b[0;34m()\u001b[0m\n\u001b[1;32m      1\u001b[0m \u001b[0;32mfor\u001b[0m \u001b[0mfold\u001b[0m \u001b[0;32min\u001b[0m \u001b[0mrange\u001b[0m\u001b[0;34m(\u001b[0m\u001b[0;36m5\u001b[0m\u001b[0;34m)\u001b[0m\u001b[0;34m:\u001b[0m\u001b[0;34m\u001b[0m\u001b[0;34m\u001b[0m\u001b[0m\n\u001b[0;32m----> 2\u001b[0;31m    \u001b[0msample\u001b[0m\u001b[0;34m.\u001b[0m\u001b[0miloc\u001b[0m\u001b[0;34m[\u001b[0m\u001b[0;34m:\u001b[0m\u001b[0;34m,\u001b[0m\u001b[0;36m1\u001b[0m\u001b[0;34m:\u001b[0m\u001b[0;34m]\u001b[0m \u001b[0;34m+=\u001b[0m \u001b[0mmodel_xgb\u001b[0m\u001b[0;34m[\u001b[0m\u001b[0mfold\u001b[0m\u001b[0;34m]\u001b[0m\u001b[0;34m.\u001b[0m\u001b[0mpredict_proba\u001b[0m\u001b[0;34m(\u001b[0m\u001b[0mtest\u001b[0m\u001b[0;34m)\u001b[0m\u001b[0;34m/\u001b[0m\u001b[0;36m5\u001b[0m\u001b[0;34m\u001b[0m\u001b[0;34m\u001b[0m\u001b[0m\n\u001b[0m",
            "\u001b[0;31mTypeError\u001b[0m: 'XGBClassifier' object is not subscriptable"
          ]
        }
      ]
    },
    {
      "cell_type": "code",
      "metadata": {
        "id": "nUXwb1zsq7xJ"
      },
      "source": [
        "sample.to_csv('/content/drive/MyDrive/dataset/Dacon/대회/신용카드 사용자 연체 예측 AI 경진대회/2021-04-13 3차', index=False) "
      ],
      "execution_count": 191,
      "outputs": []
    },
    {
      "cell_type": "code",
      "metadata": {
        "colab": {
          "base_uri": "https://localhost:8080/"
        },
        "id": "QfauEfpGsR6t",
        "outputId": "27b96457-d5f7-4e13-9b62-55d01aef5316"
      },
      "source": [
        "sample.set_index('index').values.mean()\n",
        "## 1차 0.333333333"
      ],
      "execution_count": 190,
      "outputs": [
        {
          "output_type": "execute_result",
          "data": {
            "text/plain": [
              "0.3333333333333333"
            ]
          },
          "metadata": {
            "tags": []
          },
          "execution_count": 190
        }
      ]
    },
    {
      "cell_type": "code",
      "metadata": {
        "id": "RORXh8Lsug0M"
      },
      "source": [
        "##########################2차############################################"
      ],
      "execution_count": null,
      "outputs": []
    },
    {
      "cell_type": "code",
      "metadata": {
        "id": "0ocLKKdnstlk"
      },
      "source": [
        "test_x = test"
      ],
      "execution_count": 157,
      "outputs": []
    },
    {
      "cell_type": "code",
      "metadata": {
        "colab": {
          "base_uri": "https://localhost:8080/",
          "height": 386
        },
        "id": "HldYCIXHsk75",
        "outputId": "810434cf-3e79-450d-a937-e90b44f5bb15"
      },
      "source": [
        "from sklearn.model_selection import KFold, StratifiedKFold\n",
        "\n",
        "def run_kfold(clf):\n",
        "    folds=StratifiedKFold(n_splits=5, shuffle=True, random_state=55)\n",
        "    outcomes=[]\n",
        "    sub=np.zeros((test_x.shape[0], 3))  \n",
        "    for n_fold, (train_index, val_index) in enumerate(folds.split(x_train, y_train)):\n",
        "        X_train, X_val = x_train.iloc[train_index], x_train.iloc[val_index]\n",
        "        Y_train, Y_val = y_train.iloc[train_index], y_train.iloc[val_index]\n",
        "        clf.fit(X_train, Y_train)\n",
        "        \n",
        "        predictions=clf.predict_proba(X_val)\n",
        "        \n",
        "        logloss=log_loss(to_categorical(Y_val), predictions)\n",
        "        outcomes.append(logloss)\n",
        "        print(f\"FOLD {n_fold} : logloss:{logloss}\")\n",
        "        \n",
        "        sub+=clf.predict_proba(test_x)\n",
        "        \n",
        "        \n",
        "    mean_outcome=np.mean(outcomes)\n",
        "    \n",
        "    print(\"Mean:{}\".format(mean_outcome))\n",
        "    return sub/folds.n_splits\n",
        "\n",
        "my_submission = run_kfold(model_xgb)"
      ],
      "execution_count": 199,
      "outputs": [
        {
          "output_type": "stream",
          "text": [
            "FOLD 0 : logloss:0.2898488063588912\n",
            "FOLD 1 : logloss:0.278565402351145\n"
          ],
          "name": "stdout"
        },
        {
          "output_type": "error",
          "ename": "KeyboardInterrupt",
          "evalue": "ignored",
          "traceback": [
            "\u001b[0;31m---------------------------------------------------------------------------\u001b[0m",
            "\u001b[0;31mKeyboardInterrupt\u001b[0m                         Traceback (most recent call last)",
            "\u001b[0;32m<ipython-input-199-8ab51169c1b8>\u001b[0m in \u001b[0;36m<module>\u001b[0;34m()\u001b[0m\n\u001b[1;32m     24\u001b[0m     \u001b[0;32mreturn\u001b[0m \u001b[0msub\u001b[0m\u001b[0;34m/\u001b[0m\u001b[0mfolds\u001b[0m\u001b[0;34m.\u001b[0m\u001b[0mn_splits\u001b[0m\u001b[0;34m\u001b[0m\u001b[0;34m\u001b[0m\u001b[0m\n\u001b[1;32m     25\u001b[0m \u001b[0;34m\u001b[0m\u001b[0m\n\u001b[0;32m---> 26\u001b[0;31m \u001b[0mmy_submission\u001b[0m \u001b[0;34m=\u001b[0m \u001b[0mrun_kfold\u001b[0m\u001b[0;34m(\u001b[0m\u001b[0mmodel_xgb\u001b[0m\u001b[0;34m)\u001b[0m\u001b[0;34m\u001b[0m\u001b[0;34m\u001b[0m\u001b[0m\n\u001b[0m",
            "\u001b[0;32m<ipython-input-199-8ab51169c1b8>\u001b[0m in \u001b[0;36mrun_kfold\u001b[0;34m(clf)\u001b[0m\n\u001b[1;32m      8\u001b[0m         \u001b[0mX_train\u001b[0m\u001b[0;34m,\u001b[0m \u001b[0mX_val\u001b[0m \u001b[0;34m=\u001b[0m \u001b[0mx_train\u001b[0m\u001b[0;34m.\u001b[0m\u001b[0miloc\u001b[0m\u001b[0;34m[\u001b[0m\u001b[0mtrain_index\u001b[0m\u001b[0;34m]\u001b[0m\u001b[0;34m,\u001b[0m \u001b[0mx_train\u001b[0m\u001b[0;34m.\u001b[0m\u001b[0miloc\u001b[0m\u001b[0;34m[\u001b[0m\u001b[0mval_index\u001b[0m\u001b[0;34m]\u001b[0m\u001b[0;34m\u001b[0m\u001b[0;34m\u001b[0m\u001b[0m\n\u001b[1;32m      9\u001b[0m         \u001b[0mY_train\u001b[0m\u001b[0;34m,\u001b[0m \u001b[0mY_val\u001b[0m \u001b[0;34m=\u001b[0m \u001b[0my_train\u001b[0m\u001b[0;34m.\u001b[0m\u001b[0miloc\u001b[0m\u001b[0;34m[\u001b[0m\u001b[0mtrain_index\u001b[0m\u001b[0;34m]\u001b[0m\u001b[0;34m,\u001b[0m \u001b[0my_train\u001b[0m\u001b[0;34m.\u001b[0m\u001b[0miloc\u001b[0m\u001b[0;34m[\u001b[0m\u001b[0mval_index\u001b[0m\u001b[0;34m]\u001b[0m\u001b[0;34m\u001b[0m\u001b[0;34m\u001b[0m\u001b[0m\n\u001b[0;32m---> 10\u001b[0;31m         \u001b[0mclf\u001b[0m\u001b[0;34m.\u001b[0m\u001b[0mfit\u001b[0m\u001b[0;34m(\u001b[0m\u001b[0mX_train\u001b[0m\u001b[0;34m,\u001b[0m \u001b[0mY_train\u001b[0m\u001b[0;34m)\u001b[0m\u001b[0;34m\u001b[0m\u001b[0;34m\u001b[0m\u001b[0m\n\u001b[0m\u001b[1;32m     11\u001b[0m \u001b[0;34m\u001b[0m\u001b[0m\n\u001b[1;32m     12\u001b[0m         \u001b[0mpredictions\u001b[0m\u001b[0;34m=\u001b[0m\u001b[0mclf\u001b[0m\u001b[0;34m.\u001b[0m\u001b[0mpredict_proba\u001b[0m\u001b[0;34m(\u001b[0m\u001b[0mX_val\u001b[0m\u001b[0;34m)\u001b[0m\u001b[0;34m\u001b[0m\u001b[0;34m\u001b[0m\u001b[0m\n",
            "\u001b[0;32m/usr/local/lib/python3.7/dist-packages/xgboost/sklearn.py\u001b[0m in \u001b[0;36mfit\u001b[0;34m(self, X, y, sample_weight, eval_set, eval_metric, early_stopping_rounds, verbose, xgb_model, sample_weight_eval_set, callbacks)\u001b[0m\n\u001b[1;32m    730\u001b[0m                               \u001b[0mevals_result\u001b[0m\u001b[0;34m=\u001b[0m\u001b[0mevals_result\u001b[0m\u001b[0;34m,\u001b[0m \u001b[0mobj\u001b[0m\u001b[0;34m=\u001b[0m\u001b[0mobj\u001b[0m\u001b[0;34m,\u001b[0m \u001b[0mfeval\u001b[0m\u001b[0;34m=\u001b[0m\u001b[0mfeval\u001b[0m\u001b[0;34m,\u001b[0m\u001b[0;34m\u001b[0m\u001b[0;34m\u001b[0m\u001b[0m\n\u001b[1;32m    731\u001b[0m                               \u001b[0mverbose_eval\u001b[0m\u001b[0;34m=\u001b[0m\u001b[0mverbose\u001b[0m\u001b[0;34m,\u001b[0m \u001b[0mxgb_model\u001b[0m\u001b[0;34m=\u001b[0m\u001b[0mxgb_model\u001b[0m\u001b[0;34m,\u001b[0m\u001b[0;34m\u001b[0m\u001b[0;34m\u001b[0m\u001b[0m\n\u001b[0;32m--> 732\u001b[0;31m                               callbacks=callbacks)\n\u001b[0m\u001b[1;32m    733\u001b[0m \u001b[0;34m\u001b[0m\u001b[0m\n\u001b[1;32m    734\u001b[0m         \u001b[0mself\u001b[0m\u001b[0;34m.\u001b[0m\u001b[0mobjective\u001b[0m \u001b[0;34m=\u001b[0m \u001b[0mxgb_options\u001b[0m\u001b[0;34m[\u001b[0m\u001b[0;34m\"objective\"\u001b[0m\u001b[0;34m]\u001b[0m\u001b[0;34m\u001b[0m\u001b[0;34m\u001b[0m\u001b[0m\n",
            "\u001b[0;32m/usr/local/lib/python3.7/dist-packages/xgboost/training.py\u001b[0m in \u001b[0;36mtrain\u001b[0;34m(params, dtrain, num_boost_round, evals, obj, feval, maximize, early_stopping_rounds, evals_result, verbose_eval, xgb_model, callbacks, learning_rates)\u001b[0m\n\u001b[1;32m    214\u001b[0m                            \u001b[0mevals\u001b[0m\u001b[0;34m=\u001b[0m\u001b[0mevals\u001b[0m\u001b[0;34m,\u001b[0m\u001b[0;34m\u001b[0m\u001b[0;34m\u001b[0m\u001b[0m\n\u001b[1;32m    215\u001b[0m                            \u001b[0mobj\u001b[0m\u001b[0;34m=\u001b[0m\u001b[0mobj\u001b[0m\u001b[0;34m,\u001b[0m \u001b[0mfeval\u001b[0m\u001b[0;34m=\u001b[0m\u001b[0mfeval\u001b[0m\u001b[0;34m,\u001b[0m\u001b[0;34m\u001b[0m\u001b[0;34m\u001b[0m\u001b[0m\n\u001b[0;32m--> 216\u001b[0;31m                            xgb_model=xgb_model, callbacks=callbacks)\n\u001b[0m\u001b[1;32m    217\u001b[0m \u001b[0;34m\u001b[0m\u001b[0m\n\u001b[1;32m    218\u001b[0m \u001b[0;34m\u001b[0m\u001b[0m\n",
            "\u001b[0;32m/usr/local/lib/python3.7/dist-packages/xgboost/training.py\u001b[0m in \u001b[0;36m_train_internal\u001b[0;34m(params, dtrain, num_boost_round, evals, obj, feval, xgb_model, callbacks)\u001b[0m\n\u001b[1;32m     72\u001b[0m         \u001b[0;31m# Skip the first update if it is a recovery step.\u001b[0m\u001b[0;34m\u001b[0m\u001b[0;34m\u001b[0m\u001b[0;34m\u001b[0m\u001b[0m\n\u001b[1;32m     73\u001b[0m         \u001b[0;32mif\u001b[0m \u001b[0mversion\u001b[0m \u001b[0;34m%\u001b[0m \u001b[0;36m2\u001b[0m \u001b[0;34m==\u001b[0m \u001b[0;36m0\u001b[0m\u001b[0;34m:\u001b[0m\u001b[0;34m\u001b[0m\u001b[0;34m\u001b[0m\u001b[0m\n\u001b[0;32m---> 74\u001b[0;31m             \u001b[0mbst\u001b[0m\u001b[0;34m.\u001b[0m\u001b[0mupdate\u001b[0m\u001b[0;34m(\u001b[0m\u001b[0mdtrain\u001b[0m\u001b[0;34m,\u001b[0m \u001b[0mi\u001b[0m\u001b[0;34m,\u001b[0m \u001b[0mobj\u001b[0m\u001b[0;34m)\u001b[0m\u001b[0;34m\u001b[0m\u001b[0;34m\u001b[0m\u001b[0m\n\u001b[0m\u001b[1;32m     75\u001b[0m             \u001b[0mbst\u001b[0m\u001b[0;34m.\u001b[0m\u001b[0msave_rabit_checkpoint\u001b[0m\u001b[0;34m(\u001b[0m\u001b[0;34m)\u001b[0m\u001b[0;34m\u001b[0m\u001b[0;34m\u001b[0m\u001b[0m\n\u001b[1;32m     76\u001b[0m             \u001b[0mversion\u001b[0m \u001b[0;34m+=\u001b[0m \u001b[0;36m1\u001b[0m\u001b[0;34m\u001b[0m\u001b[0;34m\u001b[0m\u001b[0m\n",
            "\u001b[0;32m/usr/local/lib/python3.7/dist-packages/xgboost/core.py\u001b[0m in \u001b[0;36mupdate\u001b[0;34m(self, dtrain, iteration, fobj)\u001b[0m\n\u001b[1;32m   1107\u001b[0m         \u001b[0;32mif\u001b[0m \u001b[0mfobj\u001b[0m \u001b[0;32mis\u001b[0m \u001b[0;32mNone\u001b[0m\u001b[0;34m:\u001b[0m\u001b[0;34m\u001b[0m\u001b[0;34m\u001b[0m\u001b[0m\n\u001b[1;32m   1108\u001b[0m             _check_call(_LIB.XGBoosterUpdateOneIter(self.handle, ctypes.c_int(iteration),\n\u001b[0;32m-> 1109\u001b[0;31m                                                     dtrain.handle))\n\u001b[0m\u001b[1;32m   1110\u001b[0m         \u001b[0;32melse\u001b[0m\u001b[0;34m:\u001b[0m\u001b[0;34m\u001b[0m\u001b[0;34m\u001b[0m\u001b[0m\n\u001b[1;32m   1111\u001b[0m             \u001b[0mpred\u001b[0m \u001b[0;34m=\u001b[0m \u001b[0mself\u001b[0m\u001b[0;34m.\u001b[0m\u001b[0mpredict\u001b[0m\u001b[0;34m(\u001b[0m\u001b[0mdtrain\u001b[0m\u001b[0;34m)\u001b[0m\u001b[0;34m\u001b[0m\u001b[0;34m\u001b[0m\u001b[0m\n",
            "\u001b[0;31mKeyboardInterrupt\u001b[0m: "
          ]
        }
      ]
    },
    {
      "cell_type": "code",
      "metadata": {
        "id": "YixLayTLugBT"
      },
      "source": [
        "sample.loc[:,1:] = my_submission"
      ],
      "execution_count": 170,
      "outputs": []
    },
    {
      "cell_type": "code",
      "metadata": {
        "colab": {
          "base_uri": "https://localhost:8080/",
          "height": 402
        },
        "id": "WH8_Yojbv9zX",
        "outputId": "12598960-a9e1-40aa-b416-4f26a0d5b4cd"
      },
      "source": [
        "sample"
      ],
      "execution_count": 176,
      "outputs": [
        {
          "output_type": "execute_result",
          "data": {
            "text/html": [
              "<div>\n",
              "<style scoped>\n",
              "    .dataframe tbody tr th:only-of-type {\n",
              "        vertical-align: middle;\n",
              "    }\n",
              "\n",
              "    .dataframe tbody tr th {\n",
              "        vertical-align: top;\n",
              "    }\n",
              "\n",
              "    .dataframe thead th {\n",
              "        text-align: right;\n",
              "    }\n",
              "</style>\n",
              "<table border=\"1\" class=\"dataframe\">\n",
              "  <thead>\n",
              "    <tr style=\"text-align: right;\">\n",
              "      <th></th>\n",
              "      <th>index</th>\n",
              "      <th>0</th>\n",
              "      <th>1</th>\n",
              "      <th>2</th>\n",
              "    </tr>\n",
              "  </thead>\n",
              "  <tbody>\n",
              "    <tr>\n",
              "      <th>0</th>\n",
              "      <td>26457</td>\n",
              "      <td>0.178</td>\n",
              "      <td>0.286</td>\n",
              "      <td>0.536</td>\n",
              "    </tr>\n",
              "    <tr>\n",
              "      <th>1</th>\n",
              "      <td>26458</td>\n",
              "      <td>0.182</td>\n",
              "      <td>0.280</td>\n",
              "      <td>0.538</td>\n",
              "    </tr>\n",
              "    <tr>\n",
              "      <th>2</th>\n",
              "      <td>26459</td>\n",
              "      <td>0.176</td>\n",
              "      <td>0.270</td>\n",
              "      <td>0.554</td>\n",
              "    </tr>\n",
              "    <tr>\n",
              "      <th>3</th>\n",
              "      <td>26460</td>\n",
              "      <td>0.174</td>\n",
              "      <td>0.282</td>\n",
              "      <td>0.544</td>\n",
              "    </tr>\n",
              "    <tr>\n",
              "      <th>4</th>\n",
              "      <td>26461</td>\n",
              "      <td>0.232</td>\n",
              "      <td>0.254</td>\n",
              "      <td>0.514</td>\n",
              "    </tr>\n",
              "    <tr>\n",
              "      <th>...</th>\n",
              "      <td>...</td>\n",
              "      <td>...</td>\n",
              "      <td>...</td>\n",
              "      <td>...</td>\n",
              "    </tr>\n",
              "    <tr>\n",
              "      <th>9995</th>\n",
              "      <td>36452</td>\n",
              "      <td>0.224</td>\n",
              "      <td>0.302</td>\n",
              "      <td>0.474</td>\n",
              "    </tr>\n",
              "    <tr>\n",
              "      <th>9996</th>\n",
              "      <td>36453</td>\n",
              "      <td>0.224</td>\n",
              "      <td>0.262</td>\n",
              "      <td>0.514</td>\n",
              "    </tr>\n",
              "    <tr>\n",
              "      <th>9997</th>\n",
              "      <td>36454</td>\n",
              "      <td>0.204</td>\n",
              "      <td>0.314</td>\n",
              "      <td>0.482</td>\n",
              "    </tr>\n",
              "    <tr>\n",
              "      <th>9998</th>\n",
              "      <td>36455</td>\n",
              "      <td>0.222</td>\n",
              "      <td>0.310</td>\n",
              "      <td>0.468</td>\n",
              "    </tr>\n",
              "    <tr>\n",
              "      <th>9999</th>\n",
              "      <td>36456</td>\n",
              "      <td>0.188</td>\n",
              "      <td>0.276</td>\n",
              "      <td>0.536</td>\n",
              "    </tr>\n",
              "  </tbody>\n",
              "</table>\n",
              "<p>10000 rows × 4 columns</p>\n",
              "</div>"
            ],
            "text/plain": [
              "      index      0      1      2\n",
              "0     26457  0.178  0.286  0.536\n",
              "1     26458  0.182  0.280  0.538\n",
              "2     26459  0.176  0.270  0.554\n",
              "3     26460  0.174  0.282  0.544\n",
              "4     26461  0.232  0.254  0.514\n",
              "...     ...    ...    ...    ...\n",
              "9995  36452  0.224  0.302  0.474\n",
              "9996  36453  0.224  0.262  0.514\n",
              "9997  36454  0.204  0.314  0.482\n",
              "9998  36455  0.222  0.310  0.468\n",
              "9999  36456  0.188  0.276  0.536\n",
              "\n",
              "[10000 rows x 4 columns]"
            ]
          },
          "metadata": {
            "tags": []
          },
          "execution_count": 176
        }
      ]
    },
    {
      "cell_type": "code",
      "metadata": {
        "id": "4LntmOMZu8bh"
      },
      "source": [
        "sample.to_csv('/content/drive/MyDrive/dataset/Dacon/대회/신용카드 사용자 연체 예측 AI 경진대회/2021-04-13_3차.csv', index=False) "
      ],
      "execution_count": 179,
      "outputs": []
    },
    {
      "cell_type": "code",
      "metadata": {
        "id": "Sx7WtwyOYhDV"
      },
      "source": [
        "dtrain = xgb.DMatrix(data=x_train, label=y_train)\n",
        "dtest = xgb.DMatrix(data=x_test, label=y_test)"
      ],
      "execution_count": null,
      "outputs": []
    },
    {
      "cell_type": "code",
      "metadata": {
        "id": "337zNBb3YWHK"
      },
      "source": [
        "params = {'max_depth': 3,\n",
        "         'eta': 0.1,\n",
        "         'eval_metric': 'logloss',\n",
        "         'early_stoppings': 100}\n",
        "num_rounds = 400"
      ],
      "execution_count": null,
      "outputs": []
    },
    {
      "cell_type": "code",
      "metadata": {
        "colab": {
          "base_uri": "https://localhost:8080/"
        },
        "id": "1wmbtwaZXTeY",
        "outputId": "0853aaf1-2ebd-4a35-e6b3-97c6a69c5d90"
      },
      "source": [
        "wlist = [(dtrain, 'train'), (dtest, 'eval')]\n",
        "xgb_model = xgb.train(params=params, dtrain=dtrain, num_boost_round=num_rounds, early_stopping_rounds=100, evals=wlist)"
      ],
      "execution_count": null,
      "outputs": [
        {
          "output_type": "stream",
          "text": [
            "[0]\ttrain-logloss:0.576442\teval-logloss:0.572333\n",
            "Multiple eval metrics have been passed: 'eval-logloss' will be used for early stopping.\n",
            "\n",
            "Will train until eval-logloss hasn't improved in 100 rounds.\n",
            "[1]\ttrain-logloss:0.478854\teval-logloss:0.47044\n",
            "[2]\ttrain-logloss:0.393456\teval-logloss:0.382746\n",
            "[3]\ttrain-logloss:0.319749\teval-logloss:0.306651\n",
            "[4]\ttrain-logloss:0.252245\teval-logloss:0.237242\n",
            "[5]\ttrain-logloss:0.191464\teval-logloss:0.175001\n",
            "[6]\ttrain-logloss:0.134994\teval-logloss:0.116575\n",
            "[7]\ttrain-logloss:0.078525\teval-logloss:0.059048\n",
            "[8]\ttrain-logloss:-0.133601\teval-logloss:-0.087155\n",
            "[9]\ttrain-logloss:-0.487124\teval-logloss:-0.35503\n",
            "[10]\ttrain-logloss:-0.67172\teval-logloss:-0.574017\n",
            "[11]\ttrain-logloss:-0.996799\teval-logloss:-0.910523\n",
            "[12]\ttrain-logloss:-1.41763\teval-logloss:-1.28232\n",
            "[13]\ttrain-logloss:-1.81502\teval-logloss:-1.74935\n",
            "[14]\ttrain-logloss:-2.26857\teval-logloss:-2.45983\n",
            "[15]\ttrain-logloss:-2.57016\teval-logloss:-2.72317\n",
            "[16]\ttrain-logloss:-3.07277\teval-logloss:-3.15788\n",
            "[17]\ttrain-logloss:-3.55333\teval-logloss:-3.6241\n",
            "[18]\ttrain-logloss:-3.79449\teval-logloss:-3.94023\n",
            "[19]\ttrain-logloss:-4.17376\teval-logloss:-4.23902\n",
            "[20]\ttrain-logloss:-4.14333\teval-logloss:-4.05646\n",
            "[21]\ttrain-logloss:-4.21993\teval-logloss:-4.25406\n",
            "[22]\ttrain-logloss:-4.39628\teval-logloss:-4.38112\n",
            "[23]\ttrain-logloss:-4.56607\teval-logloss:-4.64216\n",
            "[24]\ttrain-logloss:-4.51606\teval-logloss:-4.50903\n",
            "[25]\ttrain-logloss:-4.50713\teval-logloss:-4.4515\n",
            "[26]\ttrain-logloss:-4.41759\teval-logloss:-4.31963\n",
            "[27]\ttrain-logloss:-4.39824\teval-logloss:-4.38552\n",
            "[28]\ttrain-logloss:-4.52296\teval-logloss:-4.44604\n",
            "[29]\ttrain-logloss:-4.58025\teval-logloss:-4.3984\n",
            "[30]\ttrain-logloss:-4.55297\teval-logloss:-4.36274\n",
            "[31]\ttrain-logloss:-4.66862\teval-logloss:-4.62046\n",
            "[32]\ttrain-logloss:-4.74115\teval-logloss:-4.66214\n",
            "[33]\ttrain-logloss:-4.76453\teval-logloss:-4.65126\n",
            "[34]\ttrain-logloss:-4.81757\teval-logloss:-4.69269\n",
            "[35]\ttrain-logloss:-4.75395\teval-logloss:-4.53998\n",
            "[36]\ttrain-logloss:-4.77747\teval-logloss:-4.61039\n",
            "[37]\ttrain-logloss:-4.7994\teval-logloss:-4.67298\n",
            "[38]\ttrain-logloss:-4.80595\teval-logloss:-4.64354\n",
            "[39]\ttrain-logloss:-4.82789\teval-logloss:-4.62135\n",
            "[40]\ttrain-logloss:-4.84157\teval-logloss:-4.65545\n",
            "[41]\ttrain-logloss:-4.83647\teval-logloss:-4.64082\n",
            "[42]\ttrain-logloss:-4.86164\teval-logloss:-4.64434\n",
            "[43]\ttrain-logloss:-4.87708\teval-logloss:-4.69846\n",
            "[44]\ttrain-logloss:-4.92558\teval-logloss:-4.63419\n",
            "[45]\ttrain-logloss:-4.9821\teval-logloss:-4.6333\n",
            "[46]\ttrain-logloss:-5.22565\teval-logloss:-4.81143\n",
            "[47]\ttrain-logloss:-5.25787\teval-logloss:-4.84909\n",
            "[48]\ttrain-logloss:-5.27165\teval-logloss:-4.83958\n",
            "[49]\ttrain-logloss:-5.40497\teval-logloss:-4.90566\n",
            "[50]\ttrain-logloss:-5.42617\teval-logloss:-4.96452\n",
            "[51]\ttrain-logloss:-5.47581\teval-logloss:-5.01116\n",
            "[52]\ttrain-logloss:-5.53695\teval-logloss:-5.04176\n",
            "[53]\ttrain-logloss:-5.55781\teval-logloss:-5.0436\n",
            "[54]\ttrain-logloss:-5.61032\teval-logloss:-5.18484\n",
            "[55]\ttrain-logloss:-5.60365\teval-logloss:-5.18661\n",
            "[56]\ttrain-logloss:-5.62149\teval-logloss:-5.16536\n",
            "[57]\ttrain-logloss:-5.6364\teval-logloss:-5.22186\n",
            "[58]\ttrain-logloss:-5.66594\teval-logloss:-5.29045\n",
            "[59]\ttrain-logloss:-5.72651\teval-logloss:-5.22881\n",
            "[60]\ttrain-logloss:-5.79683\teval-logloss:-5.40727\n",
            "[61]\ttrain-logloss:-5.78624\teval-logloss:-5.40323\n",
            "[62]\ttrain-logloss:-5.8668\teval-logloss:-5.42781\n",
            "[63]\ttrain-logloss:-6.05131\teval-logloss:-5.61268\n",
            "[64]\ttrain-logloss:-6.14512\teval-logloss:-5.81895\n",
            "[65]\ttrain-logloss:-6.0837\teval-logloss:-5.83603\n",
            "[66]\ttrain-logloss:-6.14693\teval-logloss:-5.95213\n",
            "[67]\ttrain-logloss:-6.2211\teval-logloss:-6.02192\n",
            "[68]\ttrain-logloss:-6.19663\teval-logloss:-5.95806\n",
            "[69]\ttrain-logloss:-6.21829\teval-logloss:-6.02237\n",
            "[70]\ttrain-logloss:-6.2623\teval-logloss:-5.9974\n",
            "[71]\ttrain-logloss:-6.30537\teval-logloss:-6.00222\n",
            "[72]\ttrain-logloss:-6.34023\teval-logloss:-5.87791\n",
            "[73]\ttrain-logloss:-6.35092\teval-logloss:-5.94415\n",
            "[74]\ttrain-logloss:-6.40737\teval-logloss:-6.05042\n",
            "[75]\ttrain-logloss:-6.37856\teval-logloss:-6.05265\n",
            "[76]\ttrain-logloss:-6.37916\teval-logloss:-6.05353\n",
            "[77]\ttrain-logloss:-6.40695\teval-logloss:-6.05305\n",
            "[78]\ttrain-logloss:-6.43493\teval-logloss:-6.14908\n",
            "[79]\ttrain-logloss:-6.44633\teval-logloss:-6.14946\n",
            "[80]\ttrain-logloss:-6.48644\teval-logloss:-6.26442\n",
            "[81]\ttrain-logloss:-6.48679\teval-logloss:-6.26517\n",
            "[82]\ttrain-logloss:-6.59561\teval-logloss:-6.37695\n",
            "[83]\ttrain-logloss:-6.59868\teval-logloss:-6.4193\n",
            "[84]\ttrain-logloss:-6.65309\teval-logloss:-6.38528\n",
            "[85]\ttrain-logloss:-6.65109\teval-logloss:-6.3962\n",
            "[86]\ttrain-logloss:-6.62894\teval-logloss:-6.38932\n",
            "[87]\ttrain-logloss:-6.67275\teval-logloss:-6.39431\n",
            "[88]\ttrain-logloss:-6.69248\teval-logloss:-6.40902\n",
            "[89]\ttrain-logloss:-6.7389\teval-logloss:-6.3899\n",
            "[90]\ttrain-logloss:-6.79365\teval-logloss:-6.41576\n",
            "[91]\ttrain-logloss:-6.84336\teval-logloss:-6.4552\n",
            "[92]\ttrain-logloss:-6.83157\teval-logloss:-6.52232\n",
            "[93]\ttrain-logloss:-6.87282\teval-logloss:-6.52109\n",
            "[94]\ttrain-logloss:-6.87264\teval-logloss:-6.53309\n",
            "[95]\ttrain-logloss:-6.91597\teval-logloss:-6.53567\n",
            "[96]\ttrain-logloss:-6.9353\teval-logloss:-6.56184\n",
            "[97]\ttrain-logloss:-6.91768\teval-logloss:-6.55554\n",
            "[98]\ttrain-logloss:-6.9263\teval-logloss:-6.58131\n",
            "[99]\ttrain-logloss:-6.96465\teval-logloss:-6.65477\n",
            "[100]\ttrain-logloss:-6.97594\teval-logloss:-6.66583\n",
            "[101]\ttrain-logloss:-7.05483\teval-logloss:-6.69731\n",
            "[102]\ttrain-logloss:-7.08313\teval-logloss:-6.771\n",
            "[103]\ttrain-logloss:-7.05594\teval-logloss:-6.76899\n",
            "[104]\ttrain-logloss:-7.06079\teval-logloss:-6.78116\n",
            "[105]\ttrain-logloss:-7.07522\teval-logloss:-6.82895\n",
            "[106]\ttrain-logloss:-7.08139\teval-logloss:-6.84267\n",
            "[107]\ttrain-logloss:-7.08165\teval-logloss:-6.84273\n",
            "[108]\ttrain-logloss:-7.09653\teval-logloss:-6.86009\n",
            "[109]\ttrain-logloss:-7.09656\teval-logloss:-6.84916\n",
            "[110]\ttrain-logloss:-7.09661\teval-logloss:-6.81695\n",
            "[111]\ttrain-logloss:-7.05528\teval-logloss:-6.84123\n",
            "[112]\ttrain-logloss:-7.09286\teval-logloss:-6.83401\n",
            "[113]\ttrain-logloss:-7.07695\teval-logloss:-6.84413\n",
            "[114]\ttrain-logloss:-7.06657\teval-logloss:-6.8229\n",
            "[115]\ttrain-logloss:-7.0597\teval-logloss:-6.82264\n",
            "[116]\ttrain-logloss:-7.12339\teval-logloss:-6.91272\n",
            "[117]\ttrain-logloss:-7.11336\teval-logloss:-6.94449\n",
            "[118]\ttrain-logloss:-7.11734\teval-logloss:-6.95725\n",
            "[119]\ttrain-logloss:-7.13698\teval-logloss:-6.94797\n",
            "[120]\ttrain-logloss:-7.14381\teval-logloss:-6.94834\n",
            "[121]\ttrain-logloss:-7.12678\teval-logloss:-6.88141\n",
            "[122]\ttrain-logloss:-7.17317\teval-logloss:-6.9389\n",
            "[123]\ttrain-logloss:-7.1982\teval-logloss:-6.94679\n",
            "[124]\ttrain-logloss:-7.20096\teval-logloss:-6.94946\n",
            "[125]\ttrain-logloss:-7.28313\teval-logloss:-6.987\n",
            "[126]\ttrain-logloss:-7.34612\teval-logloss:-7.0016\n",
            "[127]\ttrain-logloss:-7.37004\teval-logloss:-7.01856\n",
            "[128]\ttrain-logloss:-7.37522\teval-logloss:-7.02254\n",
            "[129]\ttrain-logloss:-7.38908\teval-logloss:-7.0239\n",
            "[130]\ttrain-logloss:-7.39864\teval-logloss:-7.02486\n",
            "[131]\ttrain-logloss:-7.40721\teval-logloss:-7.0473\n",
            "[132]\ttrain-logloss:-7.40764\teval-logloss:-7.08089\n",
            "[133]\ttrain-logloss:-7.37514\teval-logloss:-7.07392\n",
            "[134]\ttrain-logloss:-7.43655\teval-logloss:-7.11293\n",
            "[135]\ttrain-logloss:-7.47767\teval-logloss:-7.13302\n",
            "[136]\ttrain-logloss:-7.46348\teval-logloss:-7.18636\n",
            "[137]\ttrain-logloss:-7.53747\teval-logloss:-7.23377\n",
            "[138]\ttrain-logloss:-7.54794\teval-logloss:-7.24617\n",
            "[139]\ttrain-logloss:-7.51448\teval-logloss:-7.24044\n",
            "[140]\ttrain-logloss:-7.51215\teval-logloss:-7.25249\n",
            "[141]\ttrain-logloss:-7.55045\teval-logloss:-7.26558\n",
            "[142]\ttrain-logloss:-7.55029\teval-logloss:-7.2447\n",
            "[143]\ttrain-logloss:-7.55065\teval-logloss:-7.245\n",
            "[144]\ttrain-logloss:-7.56238\teval-logloss:-7.29136\n",
            "[145]\ttrain-logloss:-7.58854\teval-logloss:-7.30284\n",
            "[146]\ttrain-logloss:-7.57077\teval-logloss:-7.29152\n",
            "[147]\ttrain-logloss:-7.5993\teval-logloss:-7.30625\n",
            "[148]\ttrain-logloss:-7.62868\teval-logloss:-7.31283\n",
            "[149]\ttrain-logloss:-7.63695\teval-logloss:-7.31563\n",
            "[150]\ttrain-logloss:-7.66926\teval-logloss:-7.35786\n",
            "[151]\ttrain-logloss:-7.65859\teval-logloss:-7.34227\n",
            "[152]\ttrain-logloss:-7.73229\teval-logloss:-7.42518\n",
            "[153]\ttrain-logloss:-7.69772\teval-logloss:-7.37896\n",
            "[154]\ttrain-logloss:-7.71875\teval-logloss:-7.392\n",
            "[155]\ttrain-logloss:-7.764\teval-logloss:-7.37991\n",
            "[156]\ttrain-logloss:-7.80743\teval-logloss:-7.4231\n",
            "[157]\ttrain-logloss:-7.82567\teval-logloss:-7.38192\n",
            "[158]\ttrain-logloss:-7.82249\teval-logloss:-7.3819\n",
            "[159]\ttrain-logloss:-7.81257\teval-logloss:-7.36935\n",
            "[160]\ttrain-logloss:-7.81308\teval-logloss:-7.39445\n",
            "[161]\ttrain-logloss:-7.81289\teval-logloss:-7.39688\n",
            "[162]\ttrain-logloss:-7.8429\teval-logloss:-7.40768\n",
            "[163]\ttrain-logloss:-7.86119\teval-logloss:-7.4297\n",
            "[164]\ttrain-logloss:-7.88213\teval-logloss:-7.47713\n",
            "[165]\ttrain-logloss:-7.92016\teval-logloss:-7.54894\n",
            "[166]\ttrain-logloss:-7.92063\teval-logloss:-7.51906\n",
            "[167]\ttrain-logloss:-7.92889\teval-logloss:-7.4843\n",
            "[168]\ttrain-logloss:-7.91477\teval-logloss:-7.47506\n",
            "[169]\ttrain-logloss:-7.94838\teval-logloss:-7.46357\n",
            "[170]\ttrain-logloss:-7.92754\teval-logloss:-7.46272\n",
            "[171]\ttrain-logloss:-7.93216\teval-logloss:-7.47918\n",
            "[172]\ttrain-logloss:-7.94558\teval-logloss:-7.48901\n",
            "[173]\ttrain-logloss:-7.94574\teval-logloss:-7.4892\n",
            "[174]\ttrain-logloss:-7.95005\teval-logloss:-7.45658\n",
            "[175]\ttrain-logloss:-7.99557\teval-logloss:-7.47473\n",
            "[176]\ttrain-logloss:-8.03206\teval-logloss:-7.52738\n",
            "[177]\ttrain-logloss:-8.02945\teval-logloss:-7.55116\n",
            "[178]\ttrain-logloss:-8.03266\teval-logloss:-7.57644\n",
            "[179]\ttrain-logloss:-8.07161\teval-logloss:-7.58956\n",
            "[180]\ttrain-logloss:-8.05322\teval-logloss:-7.57845\n",
            "[181]\ttrain-logloss:-8.03906\teval-logloss:-7.53558\n",
            "[182]\ttrain-logloss:-8.05048\teval-logloss:-7.55763\n",
            "[183]\ttrain-logloss:-8.04844\teval-logloss:-7.53828\n",
            "[184]\ttrain-logloss:-8.0495\teval-logloss:-7.53822\n",
            "[185]\ttrain-logloss:-8.04729\teval-logloss:-7.54952\n",
            "[186]\ttrain-logloss:-8.04933\teval-logloss:-7.54063\n",
            "[187]\ttrain-logloss:-8.05425\teval-logloss:-7.54138\n",
            "[188]\ttrain-logloss:-8.06301\teval-logloss:-7.54176\n",
            "[189]\ttrain-logloss:-8.06785\teval-logloss:-7.54274\n",
            "[190]\ttrain-logloss:-8.06841\teval-logloss:-7.55309\n",
            "[191]\ttrain-logloss:-8.06895\teval-logloss:-7.55459\n",
            "[192]\ttrain-logloss:-8.07067\teval-logloss:-7.53382\n",
            "[193]\ttrain-logloss:-8.07978\teval-logloss:-7.54434\n",
            "[194]\ttrain-logloss:-8.06354\teval-logloss:-7.54574\n",
            "[195]\ttrain-logloss:-8.06031\teval-logloss:-7.54613\n",
            "[196]\ttrain-logloss:-8.06384\teval-logloss:-7.53615\n",
            "[197]\ttrain-logloss:-8.0659\teval-logloss:-7.53646\n",
            "[198]\ttrain-logloss:-8.07057\teval-logloss:-7.52851\n",
            "[199]\ttrain-logloss:-8.12579\teval-logloss:-7.55094\n",
            "[200]\ttrain-logloss:-8.12161\teval-logloss:-7.55428\n",
            "[201]\ttrain-logloss:-8.12226\teval-logloss:-7.57712\n",
            "[202]\ttrain-logloss:-8.13773\teval-logloss:-7.5661\n",
            "[203]\ttrain-logloss:-8.15224\teval-logloss:-7.62437\n",
            "[204]\ttrain-logloss:-8.17772\teval-logloss:-7.64619\n",
            "[205]\ttrain-logloss:-8.18748\teval-logloss:-7.65991\n",
            "[206]\ttrain-logloss:-8.1885\teval-logloss:-7.66426\n",
            "[207]\ttrain-logloss:-8.17948\teval-logloss:-7.6652\n",
            "[208]\ttrain-logloss:-8.1991\teval-logloss:-7.68823\n",
            "[209]\ttrain-logloss:-8.19617\teval-logloss:-7.65568\n",
            "[210]\ttrain-logloss:-8.20463\teval-logloss:-7.66709\n",
            "[211]\ttrain-logloss:-8.26986\teval-logloss:-7.69474\n",
            "[212]\ttrain-logloss:-8.25492\teval-logloss:-7.67073\n",
            "[213]\ttrain-logloss:-8.24289\teval-logloss:-7.65314\n",
            "[214]\ttrain-logloss:-8.25139\teval-logloss:-7.63071\n",
            "[215]\ttrain-logloss:-8.25545\teval-logloss:-7.66679\n",
            "[216]\ttrain-logloss:-8.24522\teval-logloss:-7.68766\n",
            "[217]\ttrain-logloss:-8.2499\teval-logloss:-7.70153\n",
            "[218]\ttrain-logloss:-8.27004\teval-logloss:-7.7362\n",
            "[219]\ttrain-logloss:-8.27331\teval-logloss:-7.73628\n",
            "[220]\ttrain-logloss:-8.27784\teval-logloss:-7.73733\n",
            "[221]\ttrain-logloss:-8.26117\teval-logloss:-7.69708\n",
            "[222]\ttrain-logloss:-8.30566\teval-logloss:-7.77558\n",
            "[223]\ttrain-logloss:-8.34217\teval-logloss:-7.83183\n",
            "[224]\ttrain-logloss:-8.34263\teval-logloss:-7.83198\n",
            "[225]\ttrain-logloss:-8.32695\teval-logloss:-7.80861\n",
            "[226]\ttrain-logloss:-8.30536\teval-logloss:-7.76392\n",
            "[227]\ttrain-logloss:-8.29148\teval-logloss:-7.72312\n",
            "[228]\ttrain-logloss:-8.28512\teval-logloss:-7.74362\n",
            "[229]\ttrain-logloss:-8.28523\teval-logloss:-7.725\n",
            "[230]\ttrain-logloss:-8.28892\teval-logloss:-7.69889\n",
            "[231]\ttrain-logloss:-8.28898\teval-logloss:-7.71128\n",
            "[232]\ttrain-logloss:-8.30327\teval-logloss:-7.74806\n",
            "[233]\ttrain-logloss:-8.31228\teval-logloss:-7.72543\n",
            "[234]\ttrain-logloss:-8.32561\teval-logloss:-7.76394\n",
            "[235]\ttrain-logloss:-8.37192\teval-logloss:-7.7988\n",
            "[236]\ttrain-logloss:-8.37358\teval-logloss:-7.78514\n",
            "[237]\ttrain-logloss:-8.37894\teval-logloss:-7.79731\n",
            "[238]\ttrain-logloss:-8.42627\teval-logloss:-7.79077\n",
            "[239]\ttrain-logloss:-8.48289\teval-logloss:-7.85833\n",
            "[240]\ttrain-logloss:-8.50399\teval-logloss:-7.89801\n",
            "[241]\ttrain-logloss:-8.50485\teval-logloss:-7.91945\n",
            "[242]\ttrain-logloss:-8.4834\teval-logloss:-7.94218\n",
            "[243]\ttrain-logloss:-8.46041\teval-logloss:-7.911\n",
            "[244]\ttrain-logloss:-8.48053\teval-logloss:-7.89943\n",
            "[245]\ttrain-logloss:-8.5495\teval-logloss:-7.92329\n",
            "[246]\ttrain-logloss:-8.54975\teval-logloss:-7.92354\n",
            "[247]\ttrain-logloss:-8.55813\teval-logloss:-7.92366\n",
            "[248]\ttrain-logloss:-8.5684\teval-logloss:-7.90491\n",
            "[249]\ttrain-logloss:-8.54677\teval-logloss:-7.89293\n",
            "[250]\ttrain-logloss:-8.55201\teval-logloss:-7.91756\n",
            "[251]\ttrain-logloss:-8.55659\teval-logloss:-7.91843\n",
            "[252]\ttrain-logloss:-8.59109\teval-logloss:-7.91684\n",
            "[253]\ttrain-logloss:-8.65118\teval-logloss:-7.94043\n",
            "[254]\ttrain-logloss:-8.63204\teval-logloss:-7.95148\n",
            "[255]\ttrain-logloss:-8.6487\teval-logloss:-7.95328\n",
            "[256]\ttrain-logloss:-8.63303\teval-logloss:-7.94195\n",
            "[257]\ttrain-logloss:-8.63669\teval-logloss:-7.9424\n",
            "[258]\ttrain-logloss:-8.64992\teval-logloss:-7.91976\n",
            "[259]\ttrain-logloss:-8.63906\teval-logloss:-7.9409\n",
            "[260]\ttrain-logloss:-8.67035\teval-logloss:-7.93226\n",
            "[261]\ttrain-logloss:-8.66014\teval-logloss:-7.88469\n",
            "[262]\ttrain-logloss:-8.66366\teval-logloss:-7.87564\n",
            "[263]\ttrain-logloss:-8.67968\teval-logloss:-7.88566\n",
            "[264]\ttrain-logloss:-8.69206\teval-logloss:-7.89772\n",
            "[265]\ttrain-logloss:-8.704\teval-logloss:-7.8979\n",
            "[266]\ttrain-logloss:-8.70797\teval-logloss:-7.94057\n",
            "[267]\ttrain-logloss:-8.7124\teval-logloss:-7.94048\n",
            "[268]\ttrain-logloss:-8.67678\teval-logloss:-7.92164\n",
            "[269]\ttrain-logloss:-8.68827\teval-logloss:-7.92245\n",
            "[270]\ttrain-logloss:-8.67999\teval-logloss:-7.91093\n",
            "[271]\ttrain-logloss:-8.68022\teval-logloss:-7.91076\n",
            "[272]\ttrain-logloss:-8.68403\teval-logloss:-7.90005\n",
            "[273]\ttrain-logloss:-8.71392\teval-logloss:-7.95014\n",
            "[274]\ttrain-logloss:-8.72239\teval-logloss:-7.97532\n",
            "[275]\ttrain-logloss:-8.74679\teval-logloss:-7.99714\n",
            "[276]\ttrain-logloss:-8.76512\teval-logloss:-8.0233\n",
            "[277]\ttrain-logloss:-8.76932\teval-logloss:-8.01199\n",
            "[278]\ttrain-logloss:-8.81971\teval-logloss:-8.04705\n",
            "[279]\ttrain-logloss:-8.81668\teval-logloss:-8.04977\n",
            "[280]\ttrain-logloss:-8.81398\teval-logloss:-8.05059\n",
            "[281]\ttrain-logloss:-8.82252\teval-logloss:-8.0518\n",
            "[282]\ttrain-logloss:-8.84053\teval-logloss:-8.07542\n",
            "[283]\ttrain-logloss:-8.83381\teval-logloss:-8.06547\n",
            "[284]\ttrain-logloss:-8.83394\teval-logloss:-8.06548\n",
            "[285]\ttrain-logloss:-8.83391\teval-logloss:-8.06634\n",
            "[286]\ttrain-logloss:-8.882\teval-logloss:-8.07887\n",
            "[287]\ttrain-logloss:-8.88242\teval-logloss:-8.06999\n",
            "[288]\ttrain-logloss:-8.86147\teval-logloss:-8.06763\n",
            "[289]\ttrain-logloss:-8.86265\teval-logloss:-8.08062\n",
            "[290]\ttrain-logloss:-8.86228\teval-logloss:-8.0817\n",
            "[291]\ttrain-logloss:-8.834\teval-logloss:-8.06026\n",
            "[292]\ttrain-logloss:-8.85403\teval-logloss:-8.08283\n",
            "[293]\ttrain-logloss:-8.85439\teval-logloss:-8.08299\n",
            "[294]\ttrain-logloss:-8.85066\teval-logloss:-8.08138\n",
            "[295]\ttrain-logloss:-8.83751\teval-logloss:-8.10643\n",
            "[296]\ttrain-logloss:-8.84494\teval-logloss:-8.11716\n",
            "[297]\ttrain-logloss:-8.86363\teval-logloss:-8.12809\n",
            "[298]\ttrain-logloss:-8.87323\teval-logloss:-8.15334\n",
            "[299]\ttrain-logloss:-8.97012\teval-logloss:-8.15785\n",
            "[300]\ttrain-logloss:-8.98428\teval-logloss:-8.18977\n",
            "[301]\ttrain-logloss:-8.98527\teval-logloss:-8.20386\n",
            "[302]\ttrain-logloss:-8.96834\teval-logloss:-8.23908\n",
            "[303]\ttrain-logloss:-8.9987\teval-logloss:-8.29905\n",
            "[304]\ttrain-logloss:-9.0037\teval-logloss:-8.32015\n",
            "[305]\ttrain-logloss:-9.0201\teval-logloss:-8.34503\n",
            "[306]\ttrain-logloss:-9.02019\teval-logloss:-8.34521\n",
            "[307]\ttrain-logloss:-9.01024\teval-logloss:-8.33516\n",
            "[308]\ttrain-logloss:-9.00999\teval-logloss:-8.32335\n",
            "[309]\ttrain-logloss:-9.02341\teval-logloss:-8.28967\n",
            "[310]\ttrain-logloss:-9.02663\teval-logloss:-8.32543\n",
            "[311]\ttrain-logloss:-9.02877\teval-logloss:-8.34816\n",
            "[312]\ttrain-logloss:-9.08773\teval-logloss:-8.42879\n",
            "[313]\ttrain-logloss:-9.07953\teval-logloss:-8.45307\n",
            "[314]\ttrain-logloss:-9.09344\teval-logloss:-8.45652\n",
            "[315]\ttrain-logloss:-9.06576\teval-logloss:-8.40871\n",
            "[316]\ttrain-logloss:-9.09015\teval-logloss:-8.42165\n",
            "[317]\ttrain-logloss:-9.08784\teval-logloss:-8.34512\n",
            "[318]\ttrain-logloss:-9.09242\teval-logloss:-8.34537\n",
            "[319]\ttrain-logloss:-9.09302\teval-logloss:-8.35632\n",
            "[320]\ttrain-logloss:-9.06858\teval-logloss:-8.29092\n",
            "[321]\ttrain-logloss:-9.06913\teval-logloss:-8.29231\n",
            "[322]\ttrain-logloss:-9.08101\teval-logloss:-8.2922\n",
            "[323]\ttrain-logloss:-9.07512\teval-logloss:-8.29314\n",
            "[324]\ttrain-logloss:-9.07557\teval-logloss:-8.29328\n",
            "[325]\ttrain-logloss:-9.06637\teval-logloss:-8.30596\n",
            "[326]\ttrain-logloss:-9.07103\teval-logloss:-8.29756\n",
            "[327]\ttrain-logloss:-9.08298\teval-logloss:-8.28669\n",
            "[328]\ttrain-logloss:-9.08065\teval-logloss:-8.28718\n",
            "[329]\ttrain-logloss:-9.10031\teval-logloss:-8.29892\n",
            "[330]\ttrain-logloss:-9.09754\teval-logloss:-8.31052\n",
            "[331]\ttrain-logloss:-9.09769\teval-logloss:-8.31037\n",
            "[332]\ttrain-logloss:-9.09813\teval-logloss:-8.31078\n",
            "[333]\ttrain-logloss:-9.12297\teval-logloss:-8.41645\n",
            "[334]\ttrain-logloss:-9.11283\teval-logloss:-8.41821\n",
            "[335]\ttrain-logloss:-9.12008\teval-logloss:-8.41824\n",
            "[336]\ttrain-logloss:-9.1202\teval-logloss:-8.41812\n",
            "[337]\ttrain-logloss:-9.11972\teval-logloss:-8.39562\n",
            "[338]\ttrain-logloss:-9.1109\teval-logloss:-8.42918\n",
            "[339]\ttrain-logloss:-9.11602\teval-logloss:-8.41747\n",
            "[340]\ttrain-logloss:-9.11915\teval-logloss:-8.41712\n",
            "[341]\ttrain-logloss:-9.12628\teval-logloss:-8.41743\n",
            "[342]\ttrain-logloss:-9.15086\teval-logloss:-8.43112\n",
            "[343]\ttrain-logloss:-9.15338\teval-logloss:-8.42347\n",
            "[344]\ttrain-logloss:-9.15091\teval-logloss:-8.42515\n",
            "[345]\ttrain-logloss:-9.1514\teval-logloss:-8.4145\n",
            "[346]\ttrain-logloss:-9.16332\teval-logloss:-8.43917\n",
            "[347]\ttrain-logloss:-9.17876\teval-logloss:-8.45228\n",
            "[348]\ttrain-logloss:-9.18323\teval-logloss:-8.45271\n",
            "[349]\ttrain-logloss:-9.20552\teval-logloss:-8.51828\n",
            "[350]\ttrain-logloss:-9.19639\teval-logloss:-8.49948\n",
            "[351]\ttrain-logloss:-9.19867\teval-logloss:-8.55736\n",
            "[352]\ttrain-logloss:-9.19533\teval-logloss:-8.55737\n",
            "[353]\ttrain-logloss:-9.20903\teval-logloss:-8.6101\n",
            "[354]\ttrain-logloss:-9.21374\teval-logloss:-8.606\n",
            "[355]\ttrain-logloss:-9.21417\teval-logloss:-8.6056\n",
            "[356]\ttrain-logloss:-9.21481\teval-logloss:-8.60582\n",
            "[357]\ttrain-logloss:-9.22199\teval-logloss:-8.60608\n",
            "[358]\ttrain-logloss:-9.22634\teval-logloss:-8.61754\n",
            "[359]\ttrain-logloss:-9.24128\teval-logloss:-8.63833\n",
            "[360]\ttrain-logloss:-9.24126\teval-logloss:-8.63871\n",
            "[361]\ttrain-logloss:-9.24496\teval-logloss:-8.6378\n",
            "[362]\ttrain-logloss:-9.24679\teval-logloss:-8.63989\n",
            "[363]\ttrain-logloss:-9.24731\teval-logloss:-8.6399\n",
            "[364]\ttrain-logloss:-9.26622\teval-logloss:-8.66188\n",
            "[365]\ttrain-logloss:-9.2655\teval-logloss:-8.65509\n",
            "[366]\ttrain-logloss:-9.27762\teval-logloss:-8.65588\n",
            "[367]\ttrain-logloss:-9.27774\teval-logloss:-8.65575\n",
            "[368]\ttrain-logloss:-9.30266\teval-logloss:-8.67882\n",
            "[369]\ttrain-logloss:-9.29961\teval-logloss:-8.68119\n",
            "[370]\ttrain-logloss:-9.29624\teval-logloss:-8.6798\n",
            "[371]\ttrain-logloss:-9.30002\teval-logloss:-8.67962\n",
            "[372]\ttrain-logloss:-9.3285\teval-logloss:-8.71353\n",
            "[373]\ttrain-logloss:-9.32856\teval-logloss:-8.71365\n",
            "[374]\ttrain-logloss:-9.30728\teval-logloss:-8.68227\n",
            "[375]\ttrain-logloss:-9.31112\teval-logloss:-8.69564\n",
            "[376]\ttrain-logloss:-9.3498\teval-logloss:-8.74049\n",
            "[377]\ttrain-logloss:-9.34262\teval-logloss:-8.74165\n",
            "[378]\ttrain-logloss:-9.34272\teval-logloss:-8.74199\n",
            "[379]\ttrain-logloss:-9.33963\teval-logloss:-8.75283\n",
            "[380]\ttrain-logloss:-9.34762\teval-logloss:-8.74422\n",
            "[381]\ttrain-logloss:-9.34904\teval-logloss:-8.73508\n",
            "[382]\ttrain-logloss:-9.34977\teval-logloss:-8.75782\n",
            "[383]\ttrain-logloss:-9.34982\teval-logloss:-8.75758\n",
            "[384]\ttrain-logloss:-9.33178\teval-logloss:-8.77441\n",
            "[385]\ttrain-logloss:-9.33587\teval-logloss:-8.77464\n",
            "[386]\ttrain-logloss:-9.33569\teval-logloss:-8.76173\n",
            "[387]\ttrain-logloss:-9.33652\teval-logloss:-8.76174\n",
            "[388]\ttrain-logloss:-9.37179\teval-logloss:-8.77481\n",
            "[389]\ttrain-logloss:-9.37201\teval-logloss:-8.77486\n",
            "[390]\ttrain-logloss:-9.40162\teval-logloss:-8.79809\n",
            "[391]\ttrain-logloss:-9.41704\teval-logloss:-8.79824\n",
            "[392]\ttrain-logloss:-9.39265\teval-logloss:-8.7883\n",
            "[393]\ttrain-logloss:-9.45402\teval-logloss:-8.81537\n",
            "[394]\ttrain-logloss:-9.45866\teval-logloss:-8.81546\n",
            "[395]\ttrain-logloss:-9.48873\teval-logloss:-8.86252\n",
            "[396]\ttrain-logloss:-9.53484\teval-logloss:-8.83221\n",
            "[397]\ttrain-logloss:-9.53747\teval-logloss:-8.84123\n",
            "[398]\ttrain-logloss:-9.54354\teval-logloss:-8.85014\n",
            "[399]\ttrain-logloss:-9.54474\teval-logloss:-8.84071\n"
          ],
          "name": "stdout"
        }
      ]
    }
  ]
}